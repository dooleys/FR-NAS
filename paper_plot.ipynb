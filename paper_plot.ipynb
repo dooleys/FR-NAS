{
 "cells": [
  {
   "cell_type": "code",
   "execution_count": 1,
   "metadata": {},
   "outputs": [],
   "source": [
    "import pandas as pd\n",
    "import numpy as np\n",
    "import os\n",
    "import plotly.express as px\n",
    "import glob\n",
    "from collections import Counter\n",
    "\n",
    "\n",
    "def stat_parity_rank_func(df, epoch_columns):\n",
    "    # calculate the violation of statistical parity\n",
    "    data = {}\n",
    "    for g,g_df in df.groupby('gender_expression'):\n",
    "        data[g] = (g_df[epoch_columns]==0).sum(axis=0)/g_df.shape[0]\n",
    "    return abs(data['male'] - data['female'])\n",
    "\n",
    "def preprocess_df(df):\n",
    "    if df.columns[1:][0]==\"epoch_1\":\n",
    "        li = [\"ids\"] \n",
    "        for i in range(0,len(df.columns[1:])):\n",
    "            li.append(\"epoch_\"+str(i))\n",
    "        df.columns = li\n",
    "        return df\n",
    "    else:\n",
    "        return df\n",
    "def acc_by_gender(df):\n",
    "    data = {}\n",
    "    for g,g_df in df.groupby('gender_expression'):\n",
    "        data[g] = g_df['rank_by_id'].sum(axis=0)/g_df.shape[0]\n",
    "    return data['male'],data['female']\n",
    "\n",
    "def stat_parity_func(df, epoch_columns):\n",
    "    # calculate the violation of statistical parity\n",
    "    data = {}\n",
    "    for g,g_df in df.groupby('gender_expression'):\n",
    "        data[g] = (g_df[epoch_columns]==0).sum(axis=0)/g_df.shape[0]\n",
    "    return abs(data['male'] - data['female'])\n",
    "\n",
    "def stat_parity_ratio_func(df, epoch_columns):\n",
    "    # calculate the violation of statistical parity\n",
    "    data = {}\n",
    "    for g,g_df in df.groupby('gender_expression'):\n",
    "        data[g] = (g_df[epoch_columns]==0).sum(axis=0)/g_df.shape[0]\n",
    "    return np.abs(1-data['male']/data['female'])\n",
    "\n",
    "def stat_parity_ratio_rank_func(df, epoch_columns):\n",
    "    # calculate the violation of statistical parity\n",
    "    data = {}\n",
    "    for g,g_df in df.groupby('gender_expression'):\n",
    "        data[g] = (g_df[epoch_columns]==0).sum(axis=0)/g_df.shape[0]\n",
    "    return np.abs(1-data['male']/data['female'])\n",
    "\n",
    "def ratio_errors_func(df, epoch_columns):\n",
    "    # calculate the violation of statistical parity\n",
    "    data = {}\n",
    "    for g,g_df in df.groupby('gender_expression'):\n",
    "        data[g] = (g_df[epoch_columns]!=0).sum(axis=0)/g_df.shape[0]\n",
    "    return np.abs(1-data['male']/data['female'])\n",
    "\n",
    "def stat_parity_from_rank_ratio_func(df, epoch_columns):\n",
    "    # calculate the violation of statistical parity\n",
    "    data = {}\n",
    "    for g,g_df in df.groupby('gender_expression'):\n",
    "        data[g] = (g_df[epoch_columns] == 0).sum(axis=0)/g_df.shape[0]\n",
    "    return np.abs(1-data['male']/data['female'])\n",
    "\n",
    "def rank_func(df, epoch_columns):\n",
    "    # calculate the violation of statistical parity\n",
    "    data = {}\n",
    "    for g,g_df in df.groupby('gender_expression'):\n",
    "        data[g] = (g_df[epoch_columns]).sum(axis=0)/g_df.shape[0]\n",
    "    return abs(data['male']-data['female'])\n",
    "\n",
    "def rank_ratio_func(df, epoch_columns):\n",
    "    # calculate the violation of statistical parity\n",
    "    data = {}\n",
    "    for g,g_df in df.groupby('gender_expression'):\n",
    "        data[g] = (g_df[epoch_columns]).sum(axis=0)/g_df.shape[0]\n",
    "    return np.abs(1-data['male']/data['female'])\n",
    "\n",
    "def acc_func(df, epoch_columns):\n",
    "    # calculate the accuracy \n",
    "    return df[epoch_columns].sum(axis=0)/df.shape[0]\n",
    "\n",
    "def acc_from_rank_func(df, epoch_columns):\n",
    "    # calculate the accuracy \n",
    "    return (df[epoch_columns] == 0).sum(axis=0)/df.shape[0]\n",
    "\n",
    "def acc_by_gender(df):\n",
    "    data = {}\n",
    "    for g,g_df in df.groupby('gender_expression'):\n",
    "        data[g] = g_df['rank_by_id'].sum(axis=0)/g_df.shape[0]\n",
    "    return data['male']\n",
    "def acc_from_rank_func_male(df, epoch_columns):\n",
    "    # calculate the accuracy \n",
    "    return (df[epoch_columns] == 0).sum(axis=0)/df.shape[0]\n",
    "\n",
    "def err_from_rank_func(df, epoch_columns):\n",
    "    # calculate the accuracy \n",
    "    return (df[epoch_columns] != 0).sum(axis=0)/df.shape[0]\n",
    "\n",
    "def get_name_details(f):\n",
    "    head_id = -4 if 'cosine' in f else -2\n",
    "    opt_id = -3 if 'cosine' in f else -1\n",
    "    y = os.path.splitext(os.path.basename(f))[0]\n",
    "    experiment = y.replace('config_','')\n",
    "    head = experiment.split('_')[head_id]\n",
    "    opt = experiment.split('_')[opt_id]\n",
    "    model = '_'.join(experiment.split('_')[:head_id])\n",
    "    return experiment, model, head, opt\n",
    "\n",
    "\n",
    "def analyze_files(files, metadata, ratio=False, error=False, epochs=None):\n",
    "    acc_df = pd.DataFrame(columns=['epoch_'+str(e) for e in range(100)])\n",
    "    acc_disp_df = pd.DataFrame(columns=['epoch_'+str(e) for e in range(100)])\n",
    "    for f in files:\n",
    "        try:\n",
    "            df = pd.read_csv(f)\n",
    "            df  = preprocess_df(df)\n",
    "        except:\n",
    "            continue\n",
    "        epoch_columns = df.drop('ids',axis=1).columns\n",
    "        df = metadata.merge(df)\n",
    "        num_epochs = len(epoch_columns)\n",
    "        df[epoch_columns] = df[epoch_columns].apply(lambda x: x == df['label'])\n",
    "        acc = acc_func(df, epoch_columns)\n",
    "        experiment = get_name_details(f)[0]\n",
    "        acc_df.loc[experiment] = acc\n",
    "        if ratio:\n",
    "            if error:\n",
    "                acc_disp = ratio_errors_func(df, epoch_columns)\n",
    "            else:\n",
    "                acc_disp = stat_parity_ratio_func(df, epoch_columns)\n",
    "        else:\n",
    "            acc_disp = stat_parity_func(df, epoch_columns)\n",
    "        acc_disp_df.loc[experiment] = acc_disp    \n",
    "    return acc_df, acc_disp_df\n",
    "\n",
    "def analyze_rank_files_np(files, metadata, ratio=False, error=False, epochs=None): \n",
    "    if epochs is None:\n",
    "        epochs = ['epoch_'+str(e) for e in range(101)]\n",
    "        \n",
    "    acc_df = pd.DataFrame(columns=epochs)\n",
    "    acc_ratio_df = pd.DataFrame(columns=epochs)\n",
    "    rank_df = pd.DataFrame(columns=epochs)\n",
    "    male =[]\n",
    "    female = []\n",
    "    for f in files:\n",
    "        try:\n",
    "            df = pd.read_csv(f)\n",
    "            df  = preprocess_df(df)\n",
    "        except:\n",
    "            print(f)\n",
    "            print(\"here\")\n",
    "            continue\n",
    "        epoch_columns = list(set(df.columns).intersection(epochs))\n",
    "        df = metadata.merge(df)\n",
    "        num_epochs = len(epoch_columns)\n",
    "        if error:\n",
    "            acc = err_from_rank_func(df, epoch_columns)\n",
    "        else:\n",
    "            acc = acc_from_rank_func(df, epoch_columns)\n",
    "        experiment = f.split('/')[0]\n",
    "        acc_df.loc[experiment] = acc\n",
    "        \n",
    "        if ratio:\n",
    "            if error:\n",
    "                acc_disp = ratio_errors_func(df, epoch_columns)\n",
    "            else:\n",
    "                acc_disp = stat_parity_ratio_rank_func(df, epoch_columns)\n",
    "        else:\n",
    "            acc_disp = stat_parity_rank_func(df, epoch_columns)\n",
    "        acc_ratio_df.loc[experiment] = acc_disp \n",
    "        \n",
    "        if ratio:\n",
    "            rank_ratio = rank_ratio_func(df, epoch_columns)\n",
    "        else:\n",
    "            rank_ratio = rank_func(df, epoch_columns)\n",
    "        rank_df.loc[experiment] = rank_ratio  \n",
    "    return acc_df, acc_ratio_df, rank_df\n",
    "\n",
    "def analyze_rank_files(files, metadata, ratio=False, error=False, epochs=None): \n",
    "    acc_df, acc_ratio_df, rank_df = analyze_rank_files_np(files, metadata, ratio=ratio, error=error, epochs=epochs)\n",
    "    return prepare(acc_df), prepare(acc_ratio_df), prepare(rank_df)\n",
    "\n",
    "def plot_df(acc_df, acc_disp_df, rank_df = None, title = ''):\n",
    "    def prepare(df):\n",
    "        # dataframe of a long format\n",
    "        df = pd.melt(df.reset_index(), id_vars='index')\n",
    "        df = df.rename(columns={'variable':'epoch'})\n",
    "        df = df.rename(columns={'value':'Accuracy'})\n",
    "        df.epoch = df.epoch.apply(lambda x: int(x.split('_')[1]))\n",
    "        return df\n",
    "    acc_df = prepare(acc_df)\n",
    "    acc_disp_df = prepare(acc_disp_df)\n",
    "\n",
    "    # plotly express\n",
    "    acc_df['measurement'] = 'Accuracy'\n",
    "    acc_disp_df['measurement'] = 'Disparity'\n",
    "\n",
    "    df = acc_df.append(acc_disp_df)\n",
    "\n",
    "    if rank_df is not None:\n",
    "        rank_df = prepare(rank_df)\n",
    "        rank_df['measurement'] = 'Rank'\n",
    "        df = df.append(rank_df)\n",
    "        \n",
    "    df = df.dropna()\n",
    "\n",
    "    fig = px.line(df, x='epoch', y='Accuracy', color='index', facet_row='measurement', title=title)\n",
    "    fig.update_yaxes(matches=None)\n",
    "    fig.for_each_annotation(lambda a: a.update(text=a.text.split(\"=\")[-1]))\n",
    "    fig.update_layout(yaxis_title=\"Disparity\")\n",
    "\n",
    "    fig.show()\n",
    "    \n",
    "    \n",
    "def whatIsPareto(df, x_inc=False, y_inc=False):\n",
    "    isPareto = np.zeros(df.shape[0])\n",
    "    i = 0\n",
    "    for _, (c1,c2) in df.iterrows():\n",
    "        tmp = np.delete(np.array(df), (i), axis=0)\n",
    "        if x_inc: # is a larger x better?\n",
    "            if y_inc: # is a larger y better?\n",
    "                b = np.any(np.apply_along_axis(lambda x: x[0]>c1 and x[1]>c2, 1, tmp))\n",
    "            else: # is a smaller y better?\n",
    "                b = np.any(np.apply_along_axis(lambda x: x[0]>c1 and x[1]<c2, 1, tmp))\n",
    "        else: # is a smaller x better?\n",
    "            if y_inc: # is a larger y better?\n",
    "                b = np.any(np.apply_along_axis(lambda x: x[0]<c1 and x[1]>c2, 1, tmp))\n",
    "            else: # is a smaller y better?\n",
    "                b = np.any(np.apply_along_axis(lambda x: x[0]<c1 and x[1]<c2, 1, tmp))\n",
    "        if not b:\n",
    "            isPareto[i] = 1\n",
    "        i+=1\n",
    "    return isPareto\n",
    "\n",
    "def preparePareto(df, x_inc=False, y_inc=False):\n",
    "    \n",
    "    isPareto = whatIsPareto(df, x_inc=x_inc, y_inc=y_inc)\n",
    "    tmp = df[isPareto == 1]\n",
    "    \n",
    "    tmp = tmp.sort_values(df.columns[0])\n",
    "    return tmp\n",
    "\n",
    "def prepare(df):\n",
    "    # dataframe of a long format\n",
    "    #print(df.head())\n",
    "    df = pd.melt(df.reset_index(), id_vars='index')\n",
    "    df = df.rename(columns={'variable':'epoch'})\n",
    "    df = df.rename(columns={'value':'Metric'})\n",
    "    df.epoch = df.epoch.apply(lambda x: int(x.split('_')[1]))\n",
    "    return df\n",
    "\n",
    "def merge(df1, df2):\n",
    "    df = df1.merge(df2, on=[\"index\",\"epoch\"])\n",
    "    df = df.rename(columns={'Metric_x':'Accuracy'})\n",
    "    df = df.rename(columns={'Metric_y':'Disparity'})\n",
    "    return df\n",
    "\n",
    "def drop_models(df_list, models):\n",
    "    # remove rows with model names in models from each df in the df_list\n",
    "    out_list = []\n",
    "    for df in df_list:\n",
    "        out_list += [df[~df['index'].isin(models)]]\n",
    "    return out_list\n",
    "\n",
    "\n",
    "def find_yaml_folder(yaml):\n",
    "    '''\n",
    "    given a yaml string file like:\n",
    "         'config_inception_resnet_v2_CosFace_RMSProp.yaml'\n",
    "    return the corresponding folder for this experiment:\n",
    "         './Phase1B/inception_resnet_v2_CosFace_RMSProp'\n",
    "    if it does not exist, return ''\n",
    "    '''\n",
    "    experiment_name = yaml.replace('config_','').replace('.yaml','')\n",
    "\n",
    "    experiment_folders = glob.glob('/cmlscratch/sdooley1/merge_timm/FR-NAS/Checkpoints/Phase1B/*') + glob.glob('/cmlscratch/sdooley1/merge_timm/FR-NAS/Checkpoints/timm_explore_few_epochs/*')\n",
    "    where = [get_name_details(experiment_name)[0].lower() == get_name_details(x)[0].lower() for x in experiment_folders]\n",
    "    yaml_folder = ''\n",
    "    if any(where):\n",
    "        yaml_folder = experiment_folders[np.where(where)[0][0]]\n",
    "    return yaml_folder\n",
    "\n",
    "def get_finished_models_Phase1B():\n",
    "    '''\n",
    "    Return a list of those models which we are including in Phase1B\n",
    "    '''\n",
    "    finished = []\n",
    "    for yaml_orig in glob.glob('/cmlscratch/sdooley1/merge_timm/FR-NAS/configs/**/*.yaml') + glob.glob('/cmlscratch/sdooley1/merge_timm/FR-NAS/configs_multi/**/*.yaml'):\n",
    "        yaml = os.path.basename(yaml_orig)\n",
    "        yaml_folder = find_yaml_folder(yaml)\n",
    "        if yaml_folder:\n",
    "            finished += [yaml]\n",
    "    cn = Counter([get_name_details(x)[1] for x in finished])\n",
    "    final_models = [k for k,v in cn.items() if v>=6]\n",
    "    final_models.sort()\n",
    "\n",
    "    return final_models\n",
    "\n",
    "\n",
    "def get_pareto_hps_head_opt(stable_df, col='Accuracy'):\n",
    "    row = []\n",
    "    for opt in ['adamw', 'sgd']:\n",
    "        for head in ['ArcFace','CosFace','MagFace']:\n",
    "            df = stable_df\n",
    "            df = df[(df['opt'] == opt) & (df['head'] == head)]\n",
    "            ind = whatIsPareto(df[[col,'Disparity']], True, False).astype(bool)\n",
    "            out = df[ind].dropna().sort_values(col, ascending=False)\n",
    "            m = out['model'].to_string(header=False,index=False).split('\\n')\n",
    "            row += ['\\n'.join(list(np.unique([x.strip() for x in m])))]\n",
    "    return row\n",
    "\n",
    "def get_pareto_hps_opt(stable_df, col='Accuracy'):\n",
    "    row = []\n",
    "    for opt in ['adamw', 'sgd']:\n",
    "            df = stable_df\n",
    "            df = df[(df['opt'] == opt)]\n",
    "            ind = whatIsPareto(df[[col,'Disparity']], True, False).astype(bool)\n",
    "            out = df[ind].dropna().sort_values(col, ascending=False)\n",
    "            m = out['model'].to_string(header=False,index=False).split('\\n')\n",
    "            row += ['\\n'.join(list(np.unique([x.strip() for x in m])))]\n",
    "    return row\n",
    "\n",
    "def get_pareto_hps_head(stable_df, col='Accuracy'):\n",
    "    row = []\n",
    "    for head in ['ArcFace', 'CosFace', 'MagFace']:\n",
    "            df = stable_df\n",
    "            df = df[(df['head'] == head)]\n",
    "            ind = whatIsPareto(df[[col,'Disparity']], True, False).astype(bool)\n",
    "            out = df[ind].dropna().sort_values(col, ascending=False)\n",
    "            m = out['model'].to_string(header=False,index=False).split('\\n')\n",
    "            row += ['\\n'.join(list(np.unique([x.strip() for x in m])))]\n",
    "    return row\n",
    "\n",
    "def anova_hp_accuracy(df, col = 'Accuracy'):\n",
    "    df['model'] = df['index'].apply(lambda x: get_name_details(x.replace('_rank_by_id_val',''))[1])\n",
    "    df['head'] = df['index'].apply(lambda x: get_name_details(x.replace('_rank_by_id_val',''))[2])\n",
    "    df['opt'] = df['index'].apply(lambda x: get_name_details(x.replace('_rank_by_id_val',''))[3].lower())\n",
    "    df = df.merge(meta, left_on='model', right_on='model_name')\n",
    "    df.fillna('0',inplace=True)\n",
    "    df[col] = df[col].astype(float)\n",
    "\n",
    "    lm = ols(col+' ~ head + opt', data=df).fit() # fitting the model\n",
    "    \n",
    "    print(sm.stats.anova_lm(lm))\n",
    "    tukey_head = pairwise_tukeyhsd(endog=df[col],\n",
    "                              groups=df['head'],\n",
    "                              alpha=0.05)\n",
    "    print(tukey_head)\n",
    "    tukey_opt = pairwise_tukeyhsd(endog=df[col],\n",
    "                              groups=df['opt'],\n",
    "                              alpha=0.05)\n",
    "    print(tukey_opt)\n",
    "    \n",
    "    return sm.stats.anova_lm(lm), tukey_head, tukey_opt\n",
    "\n",
    "def anova_hp_disp(df, col = 'Accuracy'):\n",
    "    df['model'] = df['index'].apply(lambda x: get_name_details(x.replace('_rank_by_id_val',''))[1])\n",
    "    df['head'] = df['index'].apply(lambda x: get_name_details(x.replace('_rank_by_id_val',''))[2])\n",
    "    df['opt'] = df['index'].apply(lambda x: get_name_details(x.replace('_rank_by_id_val',''))[3].lower())\n",
    "    df = df.merge(meta, left_on='model', right_on='model_name')\n",
    "    df.fillna('0',inplace=True)\n",
    "    df['Disparity'] = df['Disparity'].astype(float)\n",
    "\n",
    "    lm = ols('Disparity ~ head + opt', data=df).fit() # fitting the model\n",
    "    \n",
    "    print(sm.stats.anova_lm(lm))\n",
    "    tukey_head = pairwise_tukeyhsd(endog=df['Disparity'],\n",
    "                              groups=df['head'],\n",
    "                              alpha=0.05)\n",
    "    print(tukey_head)\n",
    "    tukey_opt = pairwise_tukeyhsd(endog=df['Disparity'],\n",
    "                              groups=df['opt'],\n",
    "                              alpha=0.05)\n",
    "    print(tukey_opt)\n",
    "    \n",
    "    return sm.stats.anova_lm(lm), tukey_head, tukey_opt"
   ]
  },
  {
   "cell_type": "code",
   "execution_count": 21,
   "metadata": {},
   "outputs": [],
   "source": [
    "#Plot male v/s female accuracy\n",
    "import os\n",
    "os.chdir('/work/dlclarge2/sukthank-ZCP_Competition/FRNAS_latest/FR-NAS')\n",
    "metadata = pd.read_csv('val_identities_gender-expression_seed_222.csv')\n",
    "os.chdir('Checkpoints_scratch/')\n",
    "import pandas as pd\n",
    "import numpy as np\n",
    "import os\n",
    "import glob\n",
    "phase1bii_configs = glob.glob('*/*_rank_by_id_val.csv')\n",
    "models = list(set([x.split('/')[1] for x in phase1bii_configs]))\n",
    "rank_files = glob.glob('*/*_rank_by_id_val.csv')\n",
    "#print(kacc_files)\n",
    "\n",
    "\n",
    "epochs = ['epoch_'+str(i) for i in [99]]\n",
    "acc_df, acc_disp_df, rank_df = analyze_rank_files(rank_files, metadata, epochs=epochs)\n",
    "acc_df, acc_disp_df, rank_df = analyze_rank_files(rank_files, metadata, epochs=epochs)\n",
    "_, acc_disp_ratio_df, rank_ratio_df = analyze_rank_files(rank_files, metadata, ratio=True, epochs=epochs)\n",
    "err_df, error_ratio_df, _ = analyze_rank_files(rank_files, metadata, ratio=True, error=True, epochs=epochs)"
   ]
  },
  {
   "cell_type": "code",
   "execution_count": 22,
   "metadata": {},
   "outputs": [
    {
     "data": {
      "application/vnd.plotly.v1+json": {
       "config": {
        "plotlyServerURL": "https://plot.ly"
       },
       "data": [
        {
         "hovertemplate": "index=Checkpoints_Layers_132244_LR_0.00013960084382230004_Head_CosFace_Optimizer_AdamW<br>Accuracy=%{x}<br>Disparity=%{y}<extra></extra>",
         "legendgroup": "Checkpoints_Layers_132244_LR_0.00013960084382230004_Head_CosFace_Optimizer_AdamW",
         "marker": {
          "color": "#636efa",
          "symbol": "circle"
         },
         "mode": "markers",
         "name": "Checkpoints_Layers_132244_LR_0.00013960084382230004_Head_CosFace_Optimizer_AdamW",
         "orientation": "v",
         "showlegend": true,
         "type": "scatter",
         "x": [
          0.7266893661602933
         ],
         "xaxis": "x",
         "y": [
          4.991487689889995
         ],
         "yaxis": "y"
        },
        {
         "hovertemplate": "index=Checkpoints_Layers_113345_LR_0.13978801611960473_Head_CosFace_Optimizer_SGD<br>Accuracy=%{x}<br>Disparity=%{y}<extra></extra>",
         "legendgroup": "Checkpoints_Layers_113345_LR_0.13978801611960473_Head_CosFace_Optimizer_SGD",
         "marker": {
          "color": "#EF553B",
          "symbol": "circle"
         },
         "mode": "markers",
         "name": "Checkpoints_Layers_113345_LR_0.13978801611960473_Head_CosFace_Optimizer_SGD",
         "orientation": "v",
         "showlegend": true,
         "type": "scatter",
         "x": [
          0.8810240963855421
         ],
         "xaxis": "x",
         "y": [
          3.892352016762703
         ],
         "yaxis": "y"
        },
        {
         "hovertemplate": "index=Checkpoints_Layers_121445_LR_0.5299154667551493_Head_CosFace_Optimizer_SGD<br>Accuracy=%{x}<br>Disparity=%{y}<extra></extra>",
         "legendgroup": "Checkpoints_Layers_121445_LR_0.5299154667551493_Head_CosFace_Optimizer_SGD",
         "marker": {
          "color": "#00cc96",
          "symbol": "circle"
         },
         "mode": "markers",
         "name": "Checkpoints_Layers_121445_LR_0.5299154667551493_Head_CosFace_Optimizer_SGD",
         "orientation": "v",
         "showlegend": true,
         "type": "scatter",
         "x": [
          0.9000785751702463
         ],
         "xaxis": "x",
         "y": [
          3.132399161864851
         ],
         "yaxis": "y"
        },
        {
         "hovertemplate": "index=Checkpoints_Layers_212434_LR_0.6123658068885655_Head_MagFace_Optimizer_SGD<br>Accuracy=%{x}<br>Disparity=%{y}<extra></extra>",
         "legendgroup": "Checkpoints_Layers_212434_LR_0.6123658068885655_Head_MagFace_Optimizer_SGD",
         "marker": {
          "color": "#ab63fa",
          "symbol": "circle"
         },
         "mode": "markers",
         "name": "Checkpoints_Layers_212434_LR_0.6123658068885655_Head_MagFace_Optimizer_SGD",
         "orientation": "v",
         "showlegend": true,
         "type": "scatter",
         "x": [
          0.5341801990570979
         ],
         "xaxis": "x",
         "y": [
          4.136589837611314
         ],
         "yaxis": "y"
        },
        {
         "hovertemplate": "index=Checkpoints_Layers_212224_LR_0.03430453946391557_Head_CosFace_Optimizer_SGD<br>Accuracy=%{x}<br>Disparity=%{y}<extra></extra>",
         "legendgroup": "Checkpoints_Layers_212224_LR_0.03430453946391557_Head_CosFace_Optimizer_SGD",
         "marker": {
          "color": "#FFA15A",
          "symbol": "circle"
         },
         "mode": "markers",
         "name": "Checkpoints_Layers_212224_LR_0.03430453946391557_Head_CosFace_Optimizer_SGD",
         "orientation": "v",
         "showlegend": true,
         "type": "scatter",
         "x": [
          0.8799109481403876
         ],
         "xaxis": "x",
         "y": [
          3.7649292823467784
         ],
         "yaxis": "y"
        },
        {
         "hovertemplate": "index=Checkpoints_Layers_221236_LR_0.08213599190775492_Head_CosFace_Optimizer_SGD<br>Accuracy=%{x}<br>Disparity=%{y}<extra></extra>",
         "legendgroup": "Checkpoints_Layers_221236_LR_0.08213599190775492_Head_CosFace_Optimizer_SGD",
         "marker": {
          "color": "#19d3f3",
          "symbol": "circle"
         },
         "mode": "markers",
         "name": "Checkpoints_Layers_221236_LR_0.08213599190775492_Head_CosFace_Optimizer_SGD",
         "orientation": "v",
         "showlegend": true,
         "type": "scatter",
         "x": [
          0.8882922996333159
         ],
         "xaxis": "x",
         "y": [
          3.307752750130959
         ],
         "yaxis": "y"
        },
        {
         "hovertemplate": "index=Checkpoints_Edges_101032_LR_0.017513717253918027_Head_CosFace_Optimizer_SGD<br>Accuracy=%{x}<br>Disparity=%{y}<extra></extra>",
         "legendgroup": "Checkpoints_Edges_101032_LR_0.017513717253918027_Head_CosFace_Optimizer_SGD",
         "marker": {
          "color": "#FF6692",
          "symbol": "circle"
         },
         "mode": "markers",
         "name": "Checkpoints_Edges_101032_LR_0.017513717253918027_Head_CosFace_Optimizer_SGD",
         "orientation": "v",
         "showlegend": true,
         "type": "scatter",
         "x": [
          0.9015845992666317
         ],
         "xaxis": "x",
         "y": [
          3.7738344683080145
         ],
         "yaxis": "y"
        },
        {
         "hovertemplate": "index=Checkpoints_Edges_322100_LR_0.01959196454937229_Head_MagFace_Optimizer_SGD<br>Accuracy=%{x}<br>Disparity=%{y}<extra></extra>",
         "legendgroup": "Checkpoints_Edges_322100_LR_0.01959196454937229_Head_MagFace_Optimizer_SGD",
         "marker": {
          "color": "#B6E880",
          "symbol": "circle"
         },
         "mode": "markers",
         "name": "Checkpoints_Edges_322100_LR_0.01959196454937229_Head_MagFace_Optimizer_SGD",
         "orientation": "v",
         "showlegend": true,
         "type": "scatter",
         "x": [
          0.8748035620743845
         ],
         "xaxis": "x",
         "y": [
          3.5302514405447876
         ],
         "yaxis": "y"
        },
        {
         "hovertemplate": "index=Checkpoints_Edges_313101_LR_0.0004389485474155909_Head_CosFace_Optimizer_AdamW<br>Accuracy=%{x}<br>Disparity=%{y}<extra></extra>",
         "legendgroup": "Checkpoints_Edges_313101_LR_0.0004389485474155909_Head_CosFace_Optimizer_AdamW",
         "marker": {
          "color": "#FF97FF",
          "symbol": "circle"
         },
         "mode": "markers",
         "name": "Checkpoints_Edges_313101_LR_0.0004389485474155909_Head_CosFace_Optimizer_AdamW",
         "orientation": "v",
         "showlegend": true,
         "type": "scatter",
         "x": [
          0.714641173389209
         ],
         "xaxis": "x",
         "y": [
          0.38449449973808214
         ],
         "yaxis": "y"
        },
        {
         "hovertemplate": "index=Checkpoints_Edges_212220_LR_0.0003440906174489285_Head_CosFace_Optimizer_AdamW<br>Accuracy=%{x}<br>Disparity=%{y}<extra></extra>",
         "legendgroup": "Checkpoints_Edges_212220_LR_0.0003440906174489285_Head_CosFace_Optimizer_AdamW",
         "marker": {
          "color": "#FECB52",
          "symbol": "circle"
         },
         "mode": "markers",
         "name": "Checkpoints_Edges_212220_LR_0.0003440906174489285_Head_CosFace_Optimizer_AdamW",
         "orientation": "v",
         "showlegend": true,
         "type": "scatter",
         "x": [
          0.8882268203247774
         ],
         "xaxis": "x",
         "y": [
          3.85096909376637
         ],
         "yaxis": "y"
        },
        {
         "hovertemplate": "index=Checkpoints_Layers_132336_LR_0.01932097460250485_Head_CosFace_Optimizer_SGD<br>Accuracy=%{x}<br>Disparity=%{y}<extra></extra>",
         "legendgroup": "Checkpoints_Layers_132336_LR_0.01932097460250485_Head_CosFace_Optimizer_SGD",
         "marker": {
          "color": "#636efa",
          "symbol": "circle"
         },
         "mode": "markers",
         "name": "Checkpoints_Layers_132336_LR_0.01932097460250485_Head_CosFace_Optimizer_SGD",
         "orientation": "v",
         "showlegend": true,
         "type": "scatter",
         "x": [
          0.8789287585123101
         ],
         "xaxis": "x",
         "y": [
          4.057359874279728
         ],
         "yaxis": "y"
        },
        {
         "hovertemplate": "index=Checkpoints_Layers_222435_LR_0.04651160552072088_Head_MagFace_Optimizer_SGD<br>Accuracy=%{x}<br>Disparity=%{y}<extra></extra>",
         "legendgroup": "Checkpoints_Layers_222435_LR_0.04651160552072088_Head_MagFace_Optimizer_SGD",
         "marker": {
          "color": "#EF553B",
          "symbol": "circle"
         },
         "mode": "markers",
         "name": "Checkpoints_Layers_222435_LR_0.04651160552072088_Head_MagFace_Optimizer_SGD",
         "orientation": "v",
         "showlegend": true,
         "type": "scatter",
         "x": [
          0.8258250392875851
         ],
         "xaxis": "x",
         "y": [
          2.8078837087480357
         ],
         "yaxis": "y"
        },
        {
         "hovertemplate": "index=xcit_medium_24_p8_224_dist_CosFace_adamw<br>Accuracy=%{x}<br>Disparity=%{y}<extra></extra>",
         "legendgroup": "xcit_medium_24_p8_224_dist_CosFace_adamw",
         "marker": {
          "color": "#00cc96",
          "symbol": "circle"
         },
         "mode": "markers",
         "name": "xcit_medium_24_p8_224_dist_CosFace_adamw",
         "orientation": "v",
         "showlegend": true,
         "type": "scatter",
         "x": [
          0.9036144578313253
         ],
         "xaxis": "x",
         "y": [
          3.6227082242011526
         ],
         "yaxis": "y"
        },
        {
         "hovertemplate": "index=vit_large_patch16_224_MagFace_SGD<br>Accuracy=%{x}<br>Disparity=%{y}<extra></extra>",
         "legendgroup": "vit_large_patch16_224_MagFace_SGD",
         "marker": {
          "color": "#ab63fa",
          "symbol": "circle"
         },
         "mode": "markers",
         "name": "vit_large_patch16_224_MagFace_SGD",
         "orientation": "v",
         "showlegend": true,
         "type": "scatter",
         "x": [
          null
         ],
         "xaxis": "x",
         "y": [
          null
         ],
         "yaxis": "y"
        },
        {
         "hovertemplate": "index=vit_large_patch16_224_MagFace_AdamW<br>Accuracy=%{x}<br>Disparity=%{y}<extra></extra>",
         "legendgroup": "vit_large_patch16_224_MagFace_AdamW",
         "marker": {
          "color": "#FFA15A",
          "symbol": "circle"
         },
         "mode": "markers",
         "name": "vit_large_patch16_224_MagFace_AdamW",
         "orientation": "v",
         "showlegend": true,
         "type": "scatter",
         "x": [
          null
         ],
         "xaxis": "x",
         "y": [
          null
         ],
         "yaxis": "y"
        },
        {
         "hovertemplate": "index=vit_large_patch16_224_CosFace_SGD<br>Accuracy=%{x}<br>Disparity=%{y}<extra></extra>",
         "legendgroup": "vit_large_patch16_224_CosFace_SGD",
         "marker": {
          "color": "#19d3f3",
          "symbol": "circle"
         },
         "mode": "markers",
         "name": "vit_large_patch16_224_CosFace_SGD",
         "orientation": "v",
         "showlegend": true,
         "type": "scatter",
         "x": [
          null
         ],
         "xaxis": "x",
         "y": [
          null
         ],
         "yaxis": "y"
        },
        {
         "hovertemplate": "index=vit_large_patch16_224_CosFace_AdamW<br>Accuracy=%{x}<br>Disparity=%{y}<extra></extra>",
         "legendgroup": "vit_large_patch16_224_CosFace_AdamW",
         "marker": {
          "color": "#FF6692",
          "symbol": "circle"
         },
         "mode": "markers",
         "name": "vit_large_patch16_224_CosFace_AdamW",
         "orientation": "v",
         "showlegend": true,
         "type": "scatter",
         "x": [
          null
         ],
         "xaxis": "x",
         "y": [
          null
         ],
         "yaxis": "y"
        },
        {
         "hovertemplate": "index=vit_large_patch16_224_ArcFace_SGD<br>Accuracy=%{x}<br>Disparity=%{y}<extra></extra>",
         "legendgroup": "vit_large_patch16_224_ArcFace_SGD",
         "marker": {
          "color": "#B6E880",
          "symbol": "circle"
         },
         "mode": "markers",
         "name": "vit_large_patch16_224_ArcFace_SGD",
         "orientation": "v",
         "showlegend": true,
         "type": "scatter",
         "x": [
          null
         ],
         "xaxis": "x",
         "y": [
          null
         ],
         "yaxis": "y"
        },
        {
         "hovertemplate": "index=vit_large_patch16_224_ArcFace_AdamW<br>Accuracy=%{x}<br>Disparity=%{y}<extra></extra>",
         "legendgroup": "vit_large_patch16_224_ArcFace_AdamW",
         "marker": {
          "color": "#FF97FF",
          "symbol": "circle"
         },
         "mode": "markers",
         "name": "vit_large_patch16_224_ArcFace_AdamW",
         "orientation": "v",
         "showlegend": true,
         "type": "scatter",
         "x": [
          null
         ],
         "xaxis": "x",
         "y": [
          null
         ],
         "yaxis": "y"
        },
        {
         "hovertemplate": "index=twins_svt_large_MagFace_SGD<br>Accuracy=%{x}<br>Disparity=%{y}<extra></extra>",
         "legendgroup": "twins_svt_large_MagFace_SGD",
         "marker": {
          "color": "#FECB52",
          "symbol": "circle"
         },
         "mode": "markers",
         "name": "twins_svt_large_MagFace_SGD",
         "orientation": "v",
         "showlegend": true,
         "type": "scatter",
         "x": [
          0.24063645887899424
         ],
         "xaxis": "x",
         "y": [
          14.007595599790463
         ],
         "yaxis": "y"
        },
        {
         "hovertemplate": "index=twins_svt_large_MagFace_AdamW<br>Accuracy=%{x}<br>Disparity=%{y}<extra></extra>",
         "legendgroup": "twins_svt_large_MagFace_AdamW",
         "marker": {
          "color": "#636efa",
          "symbol": "circle"
         },
         "mode": "markers",
         "name": "twins_svt_large_MagFace_AdamW",
         "orientation": "v",
         "showlegend": true,
         "type": "scatter",
         "x": [
          0
         ],
         "xaxis": "x",
         "y": [
          0
         ],
         "yaxis": "y"
        },
        {
         "hovertemplate": "index=twins_svt_large_CosFace_SGD<br>Accuracy=%{x}<br>Disparity=%{y}<extra></extra>",
         "legendgroup": "twins_svt_large_CosFace_SGD",
         "marker": {
          "color": "#EF553B",
          "symbol": "circle"
         },
         "mode": "markers",
         "name": "twins_svt_large_CosFace_SGD",
         "orientation": "v",
         "showlegend": true,
         "type": "scatter",
         "x": [
          0.6762048192771084
         ],
         "xaxis": "x",
         "y": [
          7.761131482451544
         ],
         "yaxis": "y"
        },
        {
         "hovertemplate": "index=twins_svt_large_CosFace_AdamW<br>Accuracy=%{x}<br>Disparity=%{y}<extra></extra>",
         "legendgroup": "twins_svt_large_CosFace_AdamW",
         "marker": {
          "color": "#00cc96",
          "symbol": "circle"
         },
         "mode": "markers",
         "name": "twins_svt_large_CosFace_AdamW",
         "orientation": "v",
         "showlegend": true,
         "type": "scatter",
         "x": [
          null
         ],
         "xaxis": "x",
         "y": [
          null
         ],
         "yaxis": "y"
        },
        {
         "hovertemplate": "index=twins_svt_large_ArcFace_SGD<br>Accuracy=%{x}<br>Disparity=%{y}<extra></extra>",
         "legendgroup": "twins_svt_large_ArcFace_SGD",
         "marker": {
          "color": "#ab63fa",
          "symbol": "circle"
         },
         "mode": "markers",
         "name": "twins_svt_large_ArcFace_SGD",
         "orientation": "v",
         "showlegend": true,
         "type": "scatter",
         "x": [
          0
         ],
         "xaxis": "x",
         "y": [
          2.2573336825562933
         ],
         "yaxis": "y"
        },
        {
         "hovertemplate": "index=twins_svt_large_ArcFace_AdamW<br>Accuracy=%{x}<br>Disparity=%{y}<extra></extra>",
         "legendgroup": "twins_svt_large_ArcFace_AdamW",
         "marker": {
          "color": "#FFA15A",
          "symbol": "circle"
         },
         "mode": "markers",
         "name": "twins_svt_large_ArcFace_AdamW",
         "orientation": "v",
         "showlegend": true,
         "type": "scatter",
         "x": [
          0
         ],
         "xaxis": "x",
         "y": [
          0
         ],
         "yaxis": "y"
        },
        {
         "hovertemplate": "index=tf_efficientnet_b7_ns_MagFace_SGD<br>Accuracy=%{x}<br>Disparity=%{y}<extra></extra>",
         "legendgroup": "tf_efficientnet_b7_ns_MagFace_SGD",
         "marker": {
          "color": "#19d3f3",
          "symbol": "circle"
         },
         "mode": "markers",
         "name": "tf_efficientnet_b7_ns_MagFace_SGD",
         "orientation": "v",
         "showlegend": true,
         "type": "scatter",
         "x": [
          0.1821634363541121
         ],
         "xaxis": "x",
         "y": [
          11.345599790466217
         ],
         "yaxis": "y"
        },
        {
         "hovertemplate": "index=tf_efficientnet_b7_ns_MagFace_AdamW<br>Accuracy=%{x}<br>Disparity=%{y}<extra></extra>",
         "legendgroup": "tf_efficientnet_b7_ns_MagFace_AdamW",
         "marker": {
          "color": "#FF6692",
          "symbol": "circle"
         },
         "mode": "markers",
         "name": "tf_efficientnet_b7_ns_MagFace_AdamW",
         "orientation": "v",
         "showlegend": true,
         "type": "scatter",
         "x": [
          0.29518072289156627
         ],
         "xaxis": "x",
         "y": [
          8.973546359350445
         ],
         "yaxis": "y"
        },
        {
         "hovertemplate": "index=tf_efficientnet_b7_ns_CosFace_rmsproptf<br>Accuracy=%{x}<br>Disparity=%{y}<extra></extra>",
         "legendgroup": "tf_efficientnet_b7_ns_CosFace_rmsproptf",
         "marker": {
          "color": "#B6E880",
          "symbol": "circle"
         },
         "mode": "markers",
         "name": "tf_efficientnet_b7_ns_CosFace_rmsproptf",
         "orientation": "v",
         "showlegend": true,
         "type": "scatter",
         "x": [
          0.8946437925615506
         ],
         "xaxis": "x",
         "y": [
          2.314824515453117
         ],
         "yaxis": "y"
        },
        {
         "hovertemplate": "index=tf_efficientnet_b7_ns_CosFace_SGD<br>Accuracy=%{x}<br>Disparity=%{y}<extra></extra>",
         "legendgroup": "tf_efficientnet_b7_ns_CosFace_SGD",
         "marker": {
          "color": "#FF97FF",
          "symbol": "circle"
         },
         "mode": "markers",
         "name": "tf_efficientnet_b7_ns_CosFace_SGD",
         "orientation": "v",
         "showlegend": true,
         "type": "scatter",
         "x": [
          0.8493321110529073
         ],
         "xaxis": "x",
         "y": [
          4.17784180199057
         ],
         "yaxis": "y"
        },
        {
         "hovertemplate": "index=tf_efficientnet_b7_ns_CosFace_AdamW<br>Accuracy=%{x}<br>Disparity=%{y}<extra></extra>",
         "legendgroup": "tf_efficientnet_b7_ns_CosFace_AdamW",
         "marker": {
          "color": "#FECB52",
          "symbol": "circle"
         },
         "mode": "markers",
         "name": "tf_efficientnet_b7_ns_CosFace_AdamW",
         "orientation": "v",
         "showlegend": true,
         "type": "scatter",
         "x": [
          0.7960974332111053
         ],
         "xaxis": "x",
         "y": [
          2.956390780513358
         ],
         "yaxis": "y"
        },
        {
         "hovertemplate": "index=tf_efficientnet_b7_ns_ArcFace_SGD<br>Accuracy=%{x}<br>Disparity=%{y}<extra></extra>",
         "legendgroup": "tf_efficientnet_b7_ns_ArcFace_SGD",
         "marker": {
          "color": "#636efa",
          "symbol": "circle"
         },
         "mode": "markers",
         "name": "tf_efficientnet_b7_ns_ArcFace_SGD",
         "orientation": "v",
         "showlegend": true,
         "type": "scatter",
         "x": [
          0.0029465688842325827
         ],
         "xaxis": "x",
         "y": [
          1.4457831325301527
         ],
         "yaxis": "y"
        },
        {
         "hovertemplate": "index=tf_efficientnet_b7_ns_ArcFace_AdamW<br>Accuracy=%{x}<br>Disparity=%{y}<extra></extra>",
         "legendgroup": "tf_efficientnet_b7_ns_ArcFace_AdamW",
         "marker": {
          "color": "#EF553B",
          "symbol": "circle"
         },
         "mode": "markers",
         "name": "tf_efficientnet_b7_ns_ArcFace_AdamW",
         "orientation": "v",
         "showlegend": true,
         "type": "scatter",
         "x": [
          0.0022917757988475643
         ],
         "xaxis": "x",
         "y": [
          2.697354635935028
         ],
         "yaxis": "y"
        },
        {
         "hovertemplate": "index=swin_base_patch4_window7_224_MagFace_SGD<br>Accuracy=%{x}<br>Disparity=%{y}<extra></extra>",
         "legendgroup": "swin_base_patch4_window7_224_MagFace_SGD",
         "marker": {
          "color": "#00cc96",
          "symbol": "circle"
         },
         "mode": "markers",
         "name": "swin_base_patch4_window7_224_MagFace_SGD",
         "orientation": "v",
         "showlegend": true,
         "type": "scatter",
         "x": [
          0.04249607124148769
         ],
         "xaxis": "x",
         "y": [
          34.96778418019903
         ],
         "yaxis": "y"
        },
        {
         "hovertemplate": "index=swin_base_patch4_window7_224_MagFace_AdamW<br>Accuracy=%{x}<br>Disparity=%{y}<extra></extra>",
         "legendgroup": "swin_base_patch4_window7_224_MagFace_AdamW",
         "marker": {
          "color": "#ab63fa",
          "symbol": "circle"
         },
         "mode": "markers",
         "name": "swin_base_patch4_window7_224_MagFace_AdamW",
         "orientation": "v",
         "showlegend": true,
         "type": "scatter",
         "x": [
          0.8074253535882661
         ],
         "xaxis": "x",
         "y": [
          2.9690937663698267
         ],
         "yaxis": "y"
        },
        {
         "hovertemplate": "index=swin_base_patch4_window7_224_CosFace_SGD<br>Accuracy=%{x}<br>Disparity=%{y}<extra></extra>",
         "legendgroup": "swin_base_patch4_window7_224_CosFace_SGD",
         "marker": {
          "color": "#FFA15A",
          "symbol": "circle"
         },
         "mode": "markers",
         "name": "swin_base_patch4_window7_224_CosFace_SGD",
         "orientation": "v",
         "showlegend": true,
         "type": "scatter",
         "x": [
          0.03313253012048193
         ],
         "xaxis": "x",
         "y": [
          29.339182818229403
         ],
         "yaxis": "y"
        },
        {
         "hovertemplate": "index=swin_base_patch4_window7_224_CosFace_AdamW<br>Accuracy=%{x}<br>Disparity=%{y}<extra></extra>",
         "legendgroup": "swin_base_patch4_window7_224_CosFace_AdamW",
         "marker": {
          "color": "#19d3f3",
          "symbol": "circle"
         },
         "mode": "markers",
         "name": "swin_base_patch4_window7_224_CosFace_AdamW",
         "orientation": "v",
         "showlegend": true,
         "type": "scatter",
         "x": [
          0.8385280251440544
         ],
         "xaxis": "x",
         "y": [
          2.6461498166579362
         ],
         "yaxis": "y"
        },
        {
         "hovertemplate": "index=swin_base_patch4_window7_224_CosFace_Adam<br>Accuracy=%{x}<br>Disparity=%{y}<extra></extra>",
         "legendgroup": "swin_base_patch4_window7_224_CosFace_Adam",
         "marker": {
          "color": "#FF6692",
          "symbol": "circle"
         },
         "mode": "markers",
         "name": "swin_base_patch4_window7_224_CosFace_Adam",
         "orientation": "v",
         "showlegend": true,
         "type": "scatter",
         "x": [
          0.8372184389732844
         ],
         "xaxis": "x",
         "y": [
          2.544656888423258
         ],
         "yaxis": "y"
        },
        {
         "hovertemplate": "index=swin_base_patch4_window7_224_ArcFace_SGD<br>Accuracy=%{x}<br>Disparity=%{y}<extra></extra>",
         "legendgroup": "swin_base_patch4_window7_224_ArcFace_SGD",
         "marker": {
          "color": "#B6E880",
          "symbol": "circle"
         },
         "mode": "markers",
         "name": "swin_base_patch4_window7_224_ArcFace_SGD",
         "orientation": "v",
         "showlegend": true,
         "type": "scatter",
         "x": [
          0.03601361969617601
         ],
         "xaxis": "x",
         "y": [
          28.426401257202713
         ],
         "yaxis": "y"
        },
        {
         "hovertemplate": "index=swin_base_patch4_window7_224_ArcFace_AdamW<br>Accuracy=%{x}<br>Disparity=%{y}<extra></extra>",
         "legendgroup": "swin_base_patch4_window7_224_ArcFace_AdamW",
         "marker": {
          "color": "#FF97FF",
          "symbol": "circle"
         },
         "mode": "markers",
         "name": "swin_base_patch4_window7_224_ArcFace_AdamW",
         "orientation": "v",
         "showlegend": true,
         "type": "scatter",
         "x": [
          0.5598480880041907
         ],
         "xaxis": "x",
         "y": [
          4.739392352016763
         ],
         "yaxis": "y"
        },
        {
         "hovertemplate": "index=resmlp_big_24_224_in22ft1k_CosFace_AdamW<br>Accuracy=%{x}<br>Disparity=%{y}<extra></extra>",
         "legendgroup": "resmlp_big_24_224_in22ft1k_CosFace_AdamW",
         "marker": {
          "color": "#FECB52",
          "symbol": "circle"
         },
         "mode": "markers",
         "name": "resmlp_big_24_224_in22ft1k_CosFace_AdamW",
         "orientation": "v",
         "showlegend": true,
         "type": "scatter",
         "x": [
          0.7412257726558408
         ],
         "xaxis": "x",
         "y": [
          5.546752226296491
         ],
         "yaxis": "y"
        },
        {
         "hovertemplate": "index=jx_nest_base_MagFace_SGD<br>Accuracy=%{x}<br>Disparity=%{y}<extra></extra>",
         "legendgroup": "jx_nest_base_MagFace_SGD",
         "marker": {
          "color": "#636efa",
          "symbol": "circle"
         },
         "mode": "markers",
         "name": "jx_nest_base_MagFace_SGD",
         "orientation": "v",
         "showlegend": true,
         "type": "scatter",
         "x": [
          0.19447354635935044
         ],
         "xaxis": "x",
         "y": [
          11.236249345206915
         ],
         "yaxis": "y"
        },
        {
         "hovertemplate": "index=jx_nest_base_MagFace_AdamW<br>Accuracy=%{x}<br>Disparity=%{y}<extra></extra>",
         "legendgroup": "jx_nest_base_MagFace_AdamW",
         "marker": {
          "color": "#EF553B",
          "symbol": "circle"
         },
         "mode": "markers",
         "name": "jx_nest_base_MagFace_AdamW",
         "orientation": "v",
         "showlegend": true,
         "type": "scatter",
         "x": [
          0.6788239916186485
         ],
         "xaxis": "x",
         "y": [
          3.156102671555788
         ],
         "yaxis": "y"
        },
        {
         "hovertemplate": "index=jx_nest_base_CosFace_SGD<br>Accuracy=%{x}<br>Disparity=%{y}<extra></extra>",
         "legendgroup": "jx_nest_base_CosFace_SGD",
         "marker": {
          "color": "#00cc96",
          "symbol": "circle"
         },
         "mode": "markers",
         "name": "jx_nest_base_CosFace_SGD",
         "orientation": "v",
         "showlegend": true,
         "type": "scatter",
         "x": [
          0.8928103719224725
         ],
         "xaxis": "x",
         "y": [
          2.0272393923520173
         ],
         "yaxis": "y"
        },
        {
         "hovertemplate": "index=jx_nest_base_CosFace_AdamW<br>Accuracy=%{x}<br>Disparity=%{y}<extra></extra>",
         "legendgroup": "jx_nest_base_CosFace_AdamW",
         "marker": {
          "color": "#ab63fa",
          "symbol": "circle"
         },
         "mode": "markers",
         "name": "jx_nest_base_CosFace_AdamW",
         "orientation": "v",
         "showlegend": true,
         "type": "scatter",
         "x": [
          0.9004714510214772
         ],
         "xaxis": "x",
         "y": [
          3.0755631220534316
         ],
         "yaxis": "y"
        },
        {
         "hovertemplate": "index=jx_nest_base_ArcFace_SGD<br>Accuracy=%{x}<br>Disparity=%{y}<extra></extra>",
         "legendgroup": "jx_nest_base_ArcFace_SGD",
         "marker": {
          "color": "#FFA15A",
          "symbol": "circle"
         },
         "mode": "markers",
         "name": "jx_nest_base_ArcFace_SGD",
         "orientation": "v",
         "showlegend": true,
         "type": "scatter",
         "x": [
          0.6367862755369303
         ],
         "xaxis": "x",
         "y": [
          5.533787323205868
         ],
         "yaxis": "y"
        },
        {
         "hovertemplate": "index=jx_nest_base_ArcFace_AdamW<br>Accuracy=%{x}<br>Disparity=%{y}<extra></extra>",
         "legendgroup": "jx_nest_base_ArcFace_AdamW",
         "marker": {
          "color": "#19d3f3",
          "symbol": "circle"
         },
         "mode": "markers",
         "name": "jx_nest_base_ArcFace_AdamW",
         "orientation": "v",
         "showlegend": true,
         "type": "scatter",
         "x": [
          0
         ],
         "xaxis": "x",
         "y": [
          0
         ],
         "yaxis": "y"
        },
        {
         "hovertemplate": "index=hrnet_w64_MagFace_SGD<br>Accuracy=%{x}<br>Disparity=%{y}<extra></extra>",
         "legendgroup": "hrnet_w64_MagFace_SGD",
         "marker": {
          "color": "#FF6692",
          "symbol": "circle"
         },
         "mode": "markers",
         "name": "hrnet_w64_MagFace_SGD",
         "orientation": "v",
         "showlegend": true,
         "type": "scatter",
         "x": [
          0.6666448402304872
         ],
         "xaxis": "x",
         "y": [
          2.9252226296490313
         ],
         "yaxis": "y"
        },
        {
         "hovertemplate": "index=hrnet_w64_MagFace_AdamW<br>Accuracy=%{x}<br>Disparity=%{y}<extra></extra>",
         "legendgroup": "hrnet_w64_MagFace_AdamW",
         "marker": {
          "color": "#B6E880",
          "symbol": "circle"
         },
         "mode": "markers",
         "name": "hrnet_w64_MagFace_AdamW",
         "orientation": "v",
         "showlegend": true,
         "type": "scatter",
         "x": [
          0.6413698271346254
         ],
         "xaxis": "x",
         "y": [
          3.612231534834992
         ],
         "yaxis": "y"
        },
        {
         "hovertemplate": "index=hrnet_w64_CosFace_sgd<br>Accuracy=%{x}<br>Disparity=%{y}<extra></extra>",
         "legendgroup": "hrnet_w64_CosFace_sgd",
         "marker": {
          "color": "#FF97FF",
          "symbol": "circle"
         },
         "mode": "markers",
         "name": "hrnet_w64_CosFace_sgd",
         "orientation": "v",
         "showlegend": true,
         "type": "scatter",
         "x": [
          0.8639994761655317
         ],
         "xaxis": "x",
         "y": [
          1.548847564169722
         ],
         "yaxis": "y"
        },
        {
         "hovertemplate": "index=hrnet_w64_CosFace_AdamW<br>Accuracy=%{x}<br>Disparity=%{y}<extra></extra>",
         "legendgroup": "hrnet_w64_CosFace_AdamW",
         "marker": {
          "color": "#FECB52",
          "symbol": "circle"
         },
         "mode": "markers",
         "name": "hrnet_w64_CosFace_AdamW",
         "orientation": "v",
         "showlegend": true,
         "type": "scatter",
         "x": [
          0.38672079622839184
         ],
         "xaxis": "x",
         "y": [
          6.305264536406495
         ],
         "yaxis": "y"
        },
        {
         "hovertemplate": "index=hrnet_w64_ArcFace_SGD<br>Accuracy=%{x}<br>Disparity=%{y}<extra></extra>",
         "legendgroup": "hrnet_w64_ArcFace_SGD",
         "marker": {
          "color": "#636efa",
          "symbol": "circle"
         },
         "mode": "markers",
         "name": "hrnet_w64_ArcFace_SGD",
         "orientation": "v",
         "showlegend": true,
         "type": "scatter",
         "x": [
          0.6556443163960188
         ],
         "xaxis": "x",
         "y": [
          3.8619696176008382
         ],
         "yaxis": "y"
        },
        {
         "hovertemplate": "index=hrnet_w64_ArcFace_AdamW<br>Accuracy=%{x}<br>Disparity=%{y}<extra></extra>",
         "legendgroup": "hrnet_w64_ArcFace_AdamW",
         "marker": {
          "color": "#EF553B",
          "symbol": "circle"
         },
         "mode": "markers",
         "name": "hrnet_w64_ArcFace_AdamW",
         "orientation": "v",
         "showlegend": true,
         "type": "scatter",
         "x": [
          0.5838789942378209
         ],
         "xaxis": "x",
         "y": [
          4.327396542692509
         ],
         "yaxis": "y"
        },
        {
         "hovertemplate": "index=ghostnet_100_MagFace_SGD<br>Accuracy=%{x}<br>Disparity=%{y}<extra></extra>",
         "legendgroup": "ghostnet_100_MagFace_SGD",
         "marker": {
          "color": "#00cc96",
          "symbol": "circle"
         },
         "mode": "markers",
         "name": "ghostnet_100_MagFace_SGD",
         "orientation": "v",
         "showlegend": true,
         "type": "scatter",
         "x": [
          0.4306574122577266
         ],
         "xaxis": "x",
         "y": [
          5.16867469879518
         ],
         "yaxis": "y"
        },
        {
         "hovertemplate": "index=ghostnet_100_MagFace_AdamW<br>Accuracy=%{x}<br>Disparity=%{y}<extra></extra>",
         "legendgroup": "ghostnet_100_MagFace_AdamW",
         "marker": {
          "color": "#ab63fa",
          "symbol": "circle"
         },
         "mode": "markers",
         "name": "ghostnet_100_MagFace_AdamW",
         "orientation": "v",
         "showlegend": true,
         "type": "scatter",
         "x": [
          0.5322812991094814
         ],
         "xaxis": "x",
         "y": [
          5.686616029334729
         ],
         "yaxis": "y"
        },
        {
         "hovertemplate": "index=ghostnet_100_CosFace_sgd<br>Accuracy=%{x}<br>Disparity=%{y}<extra></extra>",
         "legendgroup": "ghostnet_100_CosFace_sgd",
         "marker": {
          "color": "#FFA15A",
          "symbol": "circle"
         },
         "mode": "markers",
         "name": "ghostnet_100_CosFace_sgd",
         "orientation": "v",
         "showlegend": true,
         "type": "scatter",
         "x": [
          0.800615505500262
         ],
         "xaxis": "x",
         "y": [
          1.0732058669460454
         ],
         "yaxis": "y"
        },
        {
         "hovertemplate": "index=ghostnet_100_CosFace_AdamW<br>Accuracy=%{x}<br>Disparity=%{y}<extra></extra>",
         "legendgroup": "ghostnet_100_CosFace_AdamW",
         "marker": {
          "color": "#19d3f3",
          "symbol": "circle"
         },
         "mode": "markers",
         "name": "ghostnet_100_CosFace_AdamW",
         "orientation": "v",
         "showlegend": true,
         "type": "scatter",
         "x": [
          0.00006547930853850184
         ],
         "xaxis": "x",
         "y": [
          3.105290728129887
         ],
         "yaxis": "y"
        },
        {
         "hovertemplate": "index=ghostnet_100_ArcFace_SGD<br>Accuracy=%{x}<br>Disparity=%{y}<extra></extra>",
         "legendgroup": "ghostnet_100_ArcFace_SGD",
         "marker": {
          "color": "#FF6692",
          "symbol": "circle"
         },
         "mode": "markers",
         "name": "ghostnet_100_ArcFace_SGD",
         "orientation": "v",
         "showlegend": true,
         "type": "scatter",
         "x": [
          0.0037977998952331065
         ],
         "xaxis": "x",
         "y": [
          22.703902566788912
         ],
         "yaxis": "y"
        },
        {
         "hovertemplate": "index=ghostnet_100_ArcFace_AdamW<br>Accuracy=%{x}<br>Disparity=%{y}<extra></extra>",
         "legendgroup": "ghostnet_100_ArcFace_AdamW",
         "marker": {
          "color": "#B6E880",
          "symbol": "circle"
         },
         "mode": "markers",
         "name": "ghostnet_100_ArcFace_AdamW",
         "orientation": "v",
         "showlegend": true,
         "type": "scatter",
         "x": [
          0.00392875851231011
         ],
         "xaxis": "x",
         "y": [
          8.240047145102125
         ],
         "yaxis": "y"
        },
        {
         "hovertemplate": "index=dpn107_MagFace_SGD<br>Accuracy=%{x}<br>Disparity=%{y}<extra></extra>",
         "legendgroup": "dpn107_MagFace_SGD",
         "marker": {
          "color": "#FF97FF",
          "symbol": "circle"
         },
         "mode": "markers",
         "name": "dpn107_MagFace_SGD",
         "orientation": "v",
         "showlegend": true,
         "type": "scatter",
         "x": [
          0.8458617077003667
         ],
         "xaxis": "x",
         "y": [
          2.9248297537977996
         ],
         "yaxis": "y"
        },
        {
         "hovertemplate": "index=dpn107_MagFace_AdamW<br>Accuracy=%{x}<br>Disparity=%{y}<extra></extra>",
         "legendgroup": "dpn107_MagFace_AdamW",
         "marker": {
          "color": "#FECB52",
          "symbol": "circle"
         },
         "mode": "markers",
         "name": "dpn107_MagFace_AdamW",
         "orientation": "v",
         "showlegend": true,
         "type": "scatter",
         "x": [
          0.5095599790466213
         ],
         "xaxis": "x",
         "y": [
          4.926401257202724
         ],
         "yaxis": "y"
        },
        {
         "hovertemplate": "index=dpn107_CosFace_SGD<br>Accuracy=%{x}<br>Disparity=%{y}<extra></extra>",
         "legendgroup": "dpn107_CosFace_SGD",
         "marker": {
          "color": "#636efa",
          "symbol": "circle"
         },
         "mode": "markers",
         "name": "dpn107_CosFace_SGD",
         "orientation": "v",
         "showlegend": true,
         "type": "scatter",
         "x": [
          0.929282346778418
         ],
         "xaxis": "x",
         "y": [
          2.6537454164484022
         ],
         "yaxis": "y"
        },
        {
         "hovertemplate": "index=dpn107_CosFace_AdamW<br>Accuracy=%{x}<br>Disparity=%{y}<extra></extra>",
         "legendgroup": "dpn107_CosFace_AdamW",
         "marker": {
          "color": "#EF553B",
          "symbol": "circle"
         },
         "mode": "markers",
         "name": "dpn107_CosFace_AdamW",
         "orientation": "v",
         "showlegend": true,
         "type": "scatter",
         "x": [
          0.9473546359350445
         ],
         "xaxis": "x",
         "y": [
          2.4655578837087475
         ],
         "yaxis": "y"
        },
        {
         "hovertemplate": "index=dpn107_ArcFace_SGD<br>Accuracy=%{x}<br>Disparity=%{y}<extra></extra>",
         "legendgroup": "dpn107_ArcFace_SGD",
         "marker": {
          "color": "#00cc96",
          "symbol": "circle"
         },
         "mode": "markers",
         "name": "dpn107_ArcFace_SGD",
         "orientation": "v",
         "showlegend": true,
         "type": "scatter",
         "x": [
          0.9150733368255631
         ],
         "xaxis": "x",
         "y": [
          2.487689889994762
         ],
         "yaxis": "y"
        },
        {
         "hovertemplate": "index=dpn107_ArcFace_AdamW<br>Accuracy=%{x}<br>Disparity=%{y}<extra></extra>",
         "legendgroup": "dpn107_ArcFace_AdamW",
         "marker": {
          "color": "#ab63fa",
          "symbol": "circle"
         },
         "mode": "markers",
         "name": "dpn107_ArcFace_AdamW",
         "orientation": "v",
         "showlegend": true,
         "type": "scatter",
         "x": [
          0.5571634363541121
         ],
         "xaxis": "x",
         "y": [
          5.004845468831848
         ],
         "yaxis": "y"
        },
        {
         "hovertemplate": "index=dla102x2_MagFace_SGD<br>Accuracy=%{x}<br>Disparity=%{y}<extra></extra>",
         "legendgroup": "dla102x2_MagFace_SGD",
         "marker": {
          "color": "#FFA15A",
          "symbol": "circle"
         },
         "mode": "markers",
         "name": "dla102x2_MagFace_SGD",
         "orientation": "v",
         "showlegend": true,
         "type": "scatter",
         "x": [
          0.6485725510738607
         ],
         "xaxis": "x",
         "y": [
          4.414484023048716
         ],
         "yaxis": "y"
        },
        {
         "hovertemplate": "index=dla102x2_MagFace_AdamW<br>Accuracy=%{x}<br>Disparity=%{y}<extra></extra>",
         "legendgroup": "dla102x2_MagFace_AdamW",
         "marker": {
          "color": "#19d3f3",
          "symbol": "circle"
         },
         "mode": "markers",
         "name": "dla102x2_MagFace_AdamW",
         "orientation": "v",
         "showlegend": true,
         "type": "scatter",
         "x": [
          0.7182425353588267
         ],
         "xaxis": "x",
         "y": [
          3.5345730749083284
         ],
         "yaxis": "y"
        },
        {
         "hovertemplate": "index=dla102x2_CosFace_SGD<br>Accuracy=%{x}<br>Disparity=%{y}<extra></extra>",
         "legendgroup": "dla102x2_CosFace_SGD",
         "marker": {
          "color": "#FF6692",
          "symbol": "circle"
         },
         "mode": "markers",
         "name": "dla102x2_CosFace_SGD",
         "orientation": "v",
         "showlegend": true,
         "type": "scatter",
         "x": [
          null
         ],
         "xaxis": "x",
         "y": [
          null
         ],
         "yaxis": "y"
        },
        {
         "hovertemplate": "index=dla102x2_CosFace_AdamW<br>Accuracy=%{x}<br>Disparity=%{y}<extra></extra>",
         "legendgroup": "dla102x2_CosFace_AdamW",
         "marker": {
          "color": "#B6E880",
          "symbol": "circle"
         },
         "mode": "markers",
         "name": "dla102x2_CosFace_AdamW",
         "orientation": "v",
         "showlegend": true,
         "type": "scatter",
         "x": [
          0.8446830801466737
         ],
         "xaxis": "x",
         "y": [
          1.8500523834468314
         ],
         "yaxis": "y"
        },
        {
         "hovertemplate": "index=dla102x2_ArcFace_SGD<br>Accuracy=%{x}<br>Disparity=%{y}<extra></extra>",
         "legendgroup": "dla102x2_ArcFace_SGD",
         "marker": {
          "color": "#FF97FF",
          "symbol": "circle"
         },
         "mode": "markers",
         "name": "dla102x2_ArcFace_SGD",
         "orientation": "v",
         "showlegend": true,
         "type": "scatter",
         "x": [
          0.6605552645364065
         ],
         "xaxis": "x",
         "y": [
          4.362624410686223
         ],
         "yaxis": "y"
        },
        {
         "hovertemplate": "index=dla102x2_ArcFace_AdamW<br>Accuracy=%{x}<br>Disparity=%{y}<extra></extra>",
         "legendgroup": "dla102x2_ArcFace_AdamW",
         "marker": {
          "color": "#FECB52",
          "symbol": "circle"
         },
         "mode": "markers",
         "name": "dla102x2_ArcFace_AdamW",
         "orientation": "v",
         "showlegend": true,
         "type": "scatter",
         "x": [
          0.6734546883184913
         ],
         "xaxis": "x",
         "y": [
          3.4267941330539546
         ],
         "yaxis": "y"
        },
        {
         "hovertemplate": "index=densenet161_CosFace_SGD<br>Accuracy=%{x}<br>Disparity=%{y}<extra></extra>",
         "legendgroup": "densenet161_CosFace_SGD",
         "marker": {
          "color": "#636efa",
          "symbol": "circle"
         },
         "mode": "markers",
         "name": "densenet161_CosFace_SGD",
         "orientation": "v",
         "showlegend": true,
         "type": "scatter",
         "x": [
          0.9151388161341016
         ],
         "xaxis": "x",
         "y": [
          2.03496595075956
         ],
         "yaxis": "y"
        },
        {
         "hovertemplate": "index=densenet161_CosFace_AdamW<br>Accuracy=%{x}<br>Disparity=%{y}<extra></extra>",
         "legendgroup": "densenet161_CosFace_AdamW",
         "marker": {
          "color": "#EF553B",
          "symbol": "circle"
         },
         "mode": "markers",
         "name": "densenet161_CosFace_AdamW",
         "orientation": "v",
         "showlegend": true,
         "type": "scatter",
         "x": [
          0.6882530120481928
         ],
         "xaxis": "x",
         "y": [
          3.6000523834468314
         ],
         "yaxis": "y"
        },
        {
         "hovertemplate": "index=cspdarknet53_MagFace_SGD<br>Accuracy=%{x}<br>Disparity=%{y}<extra></extra>",
         "legendgroup": "cspdarknet53_MagFace_SGD",
         "marker": {
          "color": "#00cc96",
          "symbol": "circle"
         },
         "mode": "markers",
         "name": "cspdarknet53_MagFace_SGD",
         "orientation": "v",
         "showlegend": true,
         "type": "scatter",
         "x": [
          0.10306443163960188
         ],
         "xaxis": "x",
         "y": [
          1.2175222629649056
         ],
         "yaxis": "y"
        },
        {
         "hovertemplate": "index=cspdarknet53_MagFace_AdamW<br>Accuracy=%{x}<br>Disparity=%{y}<extra></extra>",
         "legendgroup": "cspdarknet53_MagFace_AdamW",
         "marker": {
          "color": "#ab63fa",
          "symbol": "circle"
         },
         "mode": "markers",
         "name": "cspdarknet53_MagFace_AdamW",
         "orientation": "v",
         "showlegend": true,
         "type": "scatter",
         "x": [
          0.5846647459402828
         ],
         "xaxis": "x",
         "y": [
          4.512441068622315
         ],
         "yaxis": "y"
        },
        {
         "hovertemplate": "index=cspdarknet53_CosFace_adam<br>Accuracy=%{x}<br>Disparity=%{y}<extra></extra>",
         "legendgroup": "cspdarknet53_CosFace_adam",
         "marker": {
          "color": "#FFA15A",
          "symbol": "circle"
         },
         "mode": "markers",
         "name": "cspdarknet53_CosFace_adam",
         "orientation": "v",
         "showlegend": true,
         "type": "scatter",
         "x": [
          0.7835254059717129
         ],
         "xaxis": "x",
         "y": [
          1.573467784180199
         ],
         "yaxis": "y"
        },
        {
         "hovertemplate": "index=cspdarknet53_CosFace_SGD<br>Accuracy=%{x}<br>Disparity=%{y}<extra></extra>",
         "legendgroup": "cspdarknet53_CosFace_SGD",
         "marker": {
          "color": "#19d3f3",
          "symbol": "circle"
         },
         "mode": "markers",
         "name": "cspdarknet53_CosFace_SGD",
         "orientation": "v",
         "showlegend": true,
         "type": "scatter",
         "x": [
          0.2285227867993714
         ],
         "xaxis": "x",
         "y": [
          11.822682032477736
         ],
         "yaxis": "y"
        },
        {
         "hovertemplate": "index=cspdarknet53_CosFace_AdamW<br>Accuracy=%{x}<br>Disparity=%{y}<extra></extra>",
         "legendgroup": "cspdarknet53_CosFace_AdamW",
         "marker": {
          "color": "#FF6692",
          "symbol": "circle"
         },
         "mode": "markers",
         "name": "cspdarknet53_CosFace_AdamW",
         "orientation": "v",
         "showlegend": true,
         "type": "scatter",
         "x": [
          0.7636851754845468
         ],
         "xaxis": "x",
         "y": [
          0.21451021477213317
         ],
         "yaxis": "y"
        },
        {
         "hovertemplate": "index=cspdarknet53_ArcFace_SGD<br>Accuracy=%{x}<br>Disparity=%{y}<extra></extra>",
         "legendgroup": "cspdarknet53_ArcFace_SGD",
         "marker": {
          "color": "#B6E880",
          "symbol": "circle"
         },
         "mode": "markers",
         "name": "cspdarknet53_ArcFace_SGD",
         "orientation": "v",
         "showlegend": true,
         "type": "scatter",
         "x": [
          0.12152959664745941
         ],
         "xaxis": "x",
         "y": [
          3.765060240963848
         ],
         "yaxis": "y"
        },
        {
         "hovertemplate": "index=cspdarknet53_ArcFace_AdamW<br>Accuracy=%{x}<br>Disparity=%{y}<extra></extra>",
         "legendgroup": "cspdarknet53_ArcFace_AdamW",
         "marker": {
          "color": "#FF97FF",
          "symbol": "circle"
         },
         "mode": "markers",
         "name": "cspdarknet53_ArcFace_AdamW",
         "orientation": "v",
         "showlegend": true,
         "type": "scatter",
         "x": [
          0.6479832372970141
         ],
         "xaxis": "x",
         "y": [
          3.8132530120481927
         ],
         "yaxis": "y"
        },
        {
         "hovertemplate": "index=convnext_large_384_in22ft1k_CosFace_adamw<br>Accuracy=%{x}<br>Disparity=%{y}<extra></extra>",
         "legendgroup": "convnext_large_384_in22ft1k_CosFace_adamw",
         "marker": {
          "color": "#FECB52",
          "symbol": "circle"
         },
         "mode": "markers",
         "name": "convnext_large_384_in22ft1k_CosFace_adamw",
         "orientation": "v",
         "showlegend": true,
         "type": "scatter",
         "x": [
          0.9435568360398114
         ],
         "xaxis": "x",
         "y": [
          2.3668150864326876
         ],
         "yaxis": "y"
        },
        {
         "hovertemplate": "index=convit_base_MagFace_SGD<br>Accuracy=%{x}<br>Disparity=%{y}<extra></extra>",
         "legendgroup": "convit_base_MagFace_SGD",
         "marker": {
          "color": "#636efa",
          "symbol": "circle"
         },
         "mode": "markers",
         "name": "convit_base_MagFace_SGD",
         "orientation": "v",
         "showlegend": true,
         "type": "scatter",
         "x": [
          0.15413829229963333
         ],
         "xaxis": "x",
         "y": [
          16.734023048716608
         ],
         "yaxis": "y"
        },
        {
         "hovertemplate": "index=convit_base_MagFace_AdamW<br>Accuracy=%{x}<br>Disparity=%{y}<extra></extra>",
         "legendgroup": "convit_base_MagFace_AdamW",
         "marker": {
          "color": "#EF553B",
          "symbol": "circle"
         },
         "mode": "markers",
         "name": "convit_base_MagFace_AdamW",
         "orientation": "v",
         "showlegend": true,
         "type": "scatter",
         "x": [
          0.23454688318491357
         ],
         "xaxis": "x",
         "y": [
          17.729832372970144
         ],
         "yaxis": "y"
        },
        {
         "hovertemplate": "index=convit_base_CosFace_SGD<br>Accuracy=%{x}<br>Disparity=%{y}<extra></extra>",
         "legendgroup": "convit_base_CosFace_SGD",
         "marker": {
          "color": "#00cc96",
          "symbol": "circle"
         },
         "mode": "markers",
         "name": "convit_base_CosFace_SGD",
         "orientation": "v",
         "showlegend": true,
         "type": "scatter",
         "x": [
          0.8168543740178104
         ],
         "xaxis": "x",
         "y": [
          4.87061288632792
         ],
         "yaxis": "y"
        },
        {
         "hovertemplate": "index=convit_base_CosFace_AdamW<br>Accuracy=%{x}<br>Disparity=%{y}<extra></extra>",
         "legendgroup": "convit_base_CosFace_AdamW",
         "marker": {
          "color": "#ab63fa",
          "symbol": "circle"
         },
         "mode": "markers",
         "name": "convit_base_CosFace_AdamW",
         "orientation": "v",
         "showlegend": true,
         "type": "scatter",
         "x": [
          0.3473022524882137
         ],
         "xaxis": "x",
         "y": [
          25.02671555788372
         ],
         "yaxis": "y"
        },
        {
         "hovertemplate": "index=convit_base_CosFace_Adam<br>Accuracy=%{x}<br>Disparity=%{y}<extra></extra>",
         "legendgroup": "convit_base_CosFace_Adam",
         "marker": {
          "color": "#FFA15A",
          "symbol": "circle"
         },
         "mode": "markers",
         "name": "convit_base_CosFace_Adam",
         "orientation": "v",
         "showlegend": true,
         "type": "scatter",
         "x": [
          0.3537192247249869
         ],
         "xaxis": "x",
         "y": [
          6.309062336301729
         ],
         "yaxis": "y"
        },
        {
         "hovertemplate": "index=convit_base_ArcFace_SGD<br>Accuracy=%{x}<br>Disparity=%{y}<extra></extra>",
         "legendgroup": "convit_base_ArcFace_SGD",
         "marker": {
          "color": "#19d3f3",
          "symbol": "circle"
         },
         "mode": "markers",
         "name": "convit_base_ArcFace_SGD",
         "orientation": "v",
         "showlegend": true,
         "type": "scatter",
         "x": [
          0
         ],
         "xaxis": "x",
         "y": [
          0
         ],
         "yaxis": "y"
        },
        {
         "hovertemplate": "index=convit_base_ArcFace_AdamW<br>Accuracy=%{x}<br>Disparity=%{y}<extra></extra>",
         "legendgroup": "convit_base_ArcFace_AdamW",
         "marker": {
          "color": "#FF6692",
          "symbol": "circle"
         },
         "mode": "markers",
         "name": "convit_base_ArcFace_AdamW",
         "orientation": "v",
         "showlegend": true,
         "type": "scatter",
         "x": [
          0.19021739130434784
         ],
         "xaxis": "x",
         "y": [
          17.26833420639079
         ],
         "yaxis": "y"
        },
        {
         "hovertemplate": "index=coat_lite_small_MagFace_SGD<br>Accuracy=%{x}<br>Disparity=%{y}<extra></extra>",
         "legendgroup": "coat_lite_small_MagFace_SGD",
         "marker": {
          "color": "#B6E880",
          "symbol": "circle"
         },
         "mode": "markers",
         "name": "coat_lite_small_MagFace_SGD",
         "orientation": "v",
         "showlegend": true,
         "type": "scatter",
         "x": [
          0.29871660555264534
         ],
         "xaxis": "x",
         "y": [
          14.452723939235206
         ],
         "yaxis": "y"
        },
        {
         "hovertemplate": "index=coat_lite_small_MagFace_AdamW<br>Accuracy=%{x}<br>Disparity=%{y}<extra></extra>",
         "legendgroup": "coat_lite_small_MagFace_AdamW",
         "marker": {
          "color": "#FF97FF",
          "symbol": "circle"
         },
         "mode": "markers",
         "name": "coat_lite_small_MagFace_AdamW",
         "orientation": "v",
         "showlegend": true,
         "type": "scatter",
         "x": [
          0.45331325301204817
         ],
         "xaxis": "x",
         "y": [
          5.306050288108958
         ],
         "yaxis": "y"
        },
        {
         "hovertemplate": "index=coat_lite_small_CosFace_SGD<br>Accuracy=%{x}<br>Disparity=%{y}<extra></extra>",
         "legendgroup": "coat_lite_small_CosFace_SGD",
         "marker": {
          "color": "#FECB52",
          "symbol": "circle"
         },
         "mode": "markers",
         "name": "coat_lite_small_CosFace_SGD",
         "orientation": "v",
         "showlegend": true,
         "type": "scatter",
         "x": [
          0.7095337873232058
         ],
         "xaxis": "x",
         "y": [
          6.061026715557883
         ],
         "yaxis": "y"
        },
        {
         "hovertemplate": "index=coat_lite_small_CosFace_AdamW<br>Accuracy=%{x}<br>Disparity=%{y}<extra></extra>",
         "legendgroup": "coat_lite_small_CosFace_AdamW",
         "marker": {
          "color": "#636efa",
          "symbol": "circle"
         },
         "mode": "markers",
         "name": "coat_lite_small_CosFace_AdamW",
         "orientation": "v",
         "showlegend": true,
         "type": "scatter",
         "x": [
          0.8795180722891566
         ],
         "xaxis": "x",
         "y": [
          5.292561550550026
         ],
         "yaxis": "y"
        },
        {
         "hovertemplate": "index=coat_lite_small_CosFace_Adam<br>Accuracy=%{x}<br>Disparity=%{y}<extra></extra>",
         "legendgroup": "coat_lite_small_CosFace_Adam",
         "marker": {
          "color": "#EF553B",
          "symbol": "circle"
         },
         "mode": "markers",
         "name": "coat_lite_small_CosFace_Adam",
         "orientation": "v",
         "showlegend": true,
         "type": "scatter",
         "x": [
          0.22616553169198533
         ],
         "xaxis": "x",
         "y": [
          15.495809324253536
         ],
         "yaxis": "y"
        },
        {
         "hovertemplate": "index=coat_lite_small_ArcFace_SGD<br>Accuracy=%{x}<br>Disparity=%{y}<extra></extra>",
         "legendgroup": "coat_lite_small_ArcFace_SGD",
         "marker": {
          "color": "#00cc96",
          "symbol": "circle"
         },
         "mode": "markers",
         "name": "coat_lite_small_ArcFace_SGD",
         "orientation": "v",
         "showlegend": true,
         "type": "scatter",
         "x": [
          0
         ],
         "xaxis": "x",
         "y": [
          0
         ],
         "yaxis": "y"
        },
        {
         "hovertemplate": "index=coat_lite_small_ArcFace_AdamW<br>Accuracy=%{x}<br>Disparity=%{y}<extra></extra>",
         "legendgroup": "coat_lite_small_ArcFace_AdamW",
         "marker": {
          "color": "#ab63fa",
          "symbol": "circle"
         },
         "mode": "markers",
         "name": "coat_lite_small_ArcFace_AdamW",
         "orientation": "v",
         "showlegend": true,
         "type": "scatter",
         "x": [
          0
         ],
         "xaxis": "x",
         "y": [
          0
         ],
         "yaxis": "y"
        },
        {
         "hovertemplate": "index=cait_xs24_384_MagFace_SGD<br>Accuracy=%{x}<br>Disparity=%{y}<extra></extra>",
         "legendgroup": "cait_xs24_384_MagFace_SGD",
         "marker": {
          "color": "#FFA15A",
          "symbol": "circle"
         },
         "mode": "markers",
         "name": "cait_xs24_384_MagFace_SGD",
         "orientation": "v",
         "showlegend": true,
         "type": "scatter",
         "x": [
          0
         ],
         "xaxis": "x",
         "y": [
          0
         ],
         "yaxis": "y"
        },
        {
         "hovertemplate": "index=cait_xs24_384_MagFace_AdamW<br>Accuracy=%{x}<br>Disparity=%{y}<extra></extra>",
         "legendgroup": "cait_xs24_384_MagFace_AdamW",
         "marker": {
          "color": "#19d3f3",
          "symbol": "circle"
         },
         "mode": "markers",
         "name": "cait_xs24_384_MagFace_AdamW",
         "orientation": "v",
         "showlegend": true,
         "type": "scatter",
         "x": [
          null
         ],
         "xaxis": "x",
         "y": [
          null
         ],
         "yaxis": "y"
        },
        {
         "hovertemplate": "index=cait_xs24_384_CosFace_adamw<br>Accuracy=%{x}<br>Disparity=%{y}<extra></extra>",
         "legendgroup": "cait_xs24_384_CosFace_adamw",
         "marker": {
          "color": "#FF6692",
          "symbol": "circle"
         },
         "mode": "markers",
         "name": "cait_xs24_384_CosFace_adamw",
         "orientation": "v",
         "showlegend": true,
         "type": "scatter",
         "x": [
          0.9029596647459402
         ],
         "xaxis": "x",
         "y": [
          4.874279727606077
         ],
         "yaxis": "y"
        },
        {
         "hovertemplate": "index=cait_xs24_384_CosFace_SGD<br>Accuracy=%{x}<br>Disparity=%{y}<extra></extra>",
         "legendgroup": "cait_xs24_384_CosFace_SGD",
         "marker": {
          "color": "#B6E880",
          "symbol": "circle"
         },
         "mode": "markers",
         "name": "cait_xs24_384_CosFace_SGD",
         "orientation": "v",
         "showlegend": true,
         "type": "scatter",
         "x": [
          0.2357909900471451
         ],
         "xaxis": "x",
         "y": [
          4.267286537454169
         ],
         "yaxis": "y"
        },
        {
         "hovertemplate": "index=cait_xs24_384_ArcFace_SGD<br>Accuracy=%{x}<br>Disparity=%{y}<extra></extra>",
         "legendgroup": "cait_xs24_384_ArcFace_SGD",
         "marker": {
          "color": "#FF97FF",
          "symbol": "circle"
         },
         "mode": "markers",
         "name": "cait_xs24_384_ArcFace_SGD",
         "orientation": "v",
         "showlegend": true,
         "type": "scatter",
         "x": [
          null
         ],
         "xaxis": "x",
         "y": [
          null
         ],
         "yaxis": "y"
        },
        {
         "hovertemplate": "index=cait_xs24_384_ArcFace_AdamW<br>Accuracy=%{x}<br>Disparity=%{y}<extra></extra>",
         "legendgroup": "cait_xs24_384_ArcFace_AdamW",
         "marker": {
          "color": "#FECB52",
          "symbol": "circle"
         },
         "mode": "markers",
         "name": "cait_xs24_384_ArcFace_AdamW",
         "orientation": "v",
         "showlegend": true,
         "type": "scatter",
         "x": [
          0.5752357255107386
         ],
         "xaxis": "x",
         "y": [
          4.701152435830277
         ],
         "yaxis": "y"
        },
        {
         "hovertemplate": "index=coat_lite_small_ArcFace_AdamW_0.001_cosine<br>Accuracy=%{x}<br>Disparity=%{y}<extra></extra>",
         "legendgroup": "coat_lite_small_ArcFace_AdamW_0.001_cosine",
         "marker": {
          "color": "#636efa",
          "symbol": "circle"
         },
         "mode": "markers",
         "name": "coat_lite_small_ArcFace_AdamW_0.001_cosine",
         "orientation": "v",
         "showlegend": true,
         "type": "scatter",
         "x": [
          0.46045049764274487
         ],
         "xaxis": "x",
         "y": [
          5.471581980094291
         ],
         "yaxis": "y"
        },
        {
         "hovertemplate": "index=coat_lite_small_ArcFace_SGD_0.1_cosine<br>Accuracy=%{x}<br>Disparity=%{y}<extra></extra>",
         "legendgroup": "coat_lite_small_ArcFace_SGD_0.1_cosine",
         "marker": {
          "color": "#EF553B",
          "symbol": "circle"
         },
         "mode": "markers",
         "name": "coat_lite_small_ArcFace_SGD_0.1_cosine",
         "orientation": "v",
         "showlegend": true,
         "type": "scatter",
         "x": [
          null
         ],
         "xaxis": "x",
         "y": [
          null
         ],
         "yaxis": "y"
        },
        {
         "hovertemplate": "index=coat_lite_small_CosFace_AdamW_0.001_cosine<br>Accuracy=%{x}<br>Disparity=%{y}<extra></extra>",
         "legendgroup": "coat_lite_small_CosFace_AdamW_0.001_cosine",
         "marker": {
          "color": "#00cc96",
          "symbol": "circle"
         },
         "mode": "markers",
         "name": "coat_lite_small_CosFace_AdamW_0.001_cosine",
         "orientation": "v",
         "showlegend": true,
         "type": "scatter",
         "x": [
          0.9231272917757989
         ],
         "xaxis": "x",
         "y": [
          3.8640649554740705
         ],
         "yaxis": "y"
        },
        {
         "hovertemplate": "index=coat_lite_small_CosFace_SGD_0.1_cosine<br>Accuracy=%{x}<br>Disparity=%{y}<extra></extra>",
         "legendgroup": "coat_lite_small_CosFace_SGD_0.1_cosine",
         "marker": {
          "color": "#ab63fa",
          "symbol": "circle"
         },
         "mode": "markers",
         "name": "coat_lite_small_CosFace_SGD_0.1_cosine",
         "orientation": "v",
         "showlegend": true,
         "type": "scatter",
         "x": [
          null
         ],
         "xaxis": "x",
         "y": [
          null
         ],
         "yaxis": "y"
        },
        {
         "hovertemplate": "index=coat_lite_small_MagFace_AdamW_0.001_cosine<br>Accuracy=%{x}<br>Disparity=%{y}<extra></extra>",
         "legendgroup": "coat_lite_small_MagFace_AdamW_0.001_cosine",
         "marker": {
          "color": "#FFA15A",
          "symbol": "circle"
         },
         "mode": "markers",
         "name": "coat_lite_small_MagFace_AdamW_0.001_cosine",
         "orientation": "v",
         "showlegend": true,
         "type": "scatter",
         "x": [
          0.5276322682032478
         ],
         "xaxis": "x",
         "y": [
          4.6195652173913055
         ],
         "yaxis": "y"
        },
        {
         "hovertemplate": "index=coat_lite_small_MagFace_SGD_0.1_cosine<br>Accuracy=%{x}<br>Disparity=%{y}<extra></extra>",
         "legendgroup": "coat_lite_small_MagFace_SGD_0.1_cosine",
         "marker": {
          "color": "#19d3f3",
          "symbol": "circle"
         },
         "mode": "markers",
         "name": "coat_lite_small_MagFace_SGD_0.1_cosine",
         "orientation": "v",
         "showlegend": true,
         "type": "scatter",
         "x": [
          null
         ],
         "xaxis": "x",
         "y": [
          null
         ],
         "yaxis": "y"
        },
        {
         "hovertemplate": "index=convit_base_ArcFace_AdamW_0.001_cosine<br>Accuracy=%{x}<br>Disparity=%{y}<extra></extra>",
         "legendgroup": "convit_base_ArcFace_AdamW_0.001_cosine",
         "marker": {
          "color": "#FF6692",
          "symbol": "circle"
         },
         "mode": "markers",
         "name": "convit_base_ArcFace_AdamW_0.001_cosine",
         "orientation": "v",
         "showlegend": true,
         "type": "scatter",
         "x": [
          0.125
         ],
         "xaxis": "x",
         "y": [
          15.463462545835526
         ],
         "yaxis": "y"
        },
        {
         "hovertemplate": "index=convit_base_ArcFace_SGD_0.1_cosine<br>Accuracy=%{x}<br>Disparity=%{y}<extra></extra>",
         "legendgroup": "convit_base_ArcFace_SGD_0.1_cosine",
         "marker": {
          "color": "#B6E880",
          "symbol": "circle"
         },
         "mode": "markers",
         "name": "convit_base_ArcFace_SGD_0.1_cosine",
         "orientation": "v",
         "showlegend": true,
         "type": "scatter",
         "x": [
          null
         ],
         "xaxis": "x",
         "y": [
          null
         ],
         "yaxis": "y"
        },
        {
         "hovertemplate": "index=convit_base_CosFace_AdamW_0.001_cosine<br>Accuracy=%{x}<br>Disparity=%{y}<extra></extra>",
         "legendgroup": "convit_base_CosFace_AdamW_0.001_cosine",
         "marker": {
          "color": "#FF97FF",
          "symbol": "circle"
         },
         "mode": "markers",
         "name": "convit_base_CosFace_AdamW_0.001_cosine",
         "orientation": "v",
         "showlegend": true,
         "type": "scatter",
         "x": [
          0.3275275013095862
         ],
         "xaxis": "x",
         "y": [
          15.067050811943425
         ],
         "yaxis": "y"
        },
        {
         "hovertemplate": "index=convit_base_CosFace_SGD_0.1_cosine<br>Accuracy=%{x}<br>Disparity=%{y}<extra></extra>",
         "legendgroup": "convit_base_CosFace_SGD_0.1_cosine",
         "marker": {
          "color": "#FECB52",
          "symbol": "circle"
         },
         "mode": "markers",
         "name": "convit_base_CosFace_SGD_0.1_cosine",
         "orientation": "v",
         "showlegend": true,
         "type": "scatter",
         "x": [
          null
         ],
         "xaxis": "x",
         "y": [
          null
         ],
         "yaxis": "y"
        },
        {
         "hovertemplate": "index=convit_base_MagFace_AdamW_0.001_cosine<br>Accuracy=%{x}<br>Disparity=%{y}<extra></extra>",
         "legendgroup": "convit_base_MagFace_AdamW_0.001_cosine",
         "marker": {
          "color": "#636efa",
          "symbol": "circle"
         },
         "mode": "markers",
         "name": "convit_base_MagFace_AdamW_0.001_cosine",
         "orientation": "v",
         "showlegend": true,
         "type": "scatter",
         "x": [
          0.13423258250392875
         ],
         "xaxis": "x",
         "y": [
          16.423520167627032
         ],
         "yaxis": "y"
        },
        {
         "hovertemplate": "index=convit_base_MagFace_SGD_0.1_cosine<br>Accuracy=%{x}<br>Disparity=%{y}<extra></extra>",
         "legendgroup": "convit_base_MagFace_SGD_0.1_cosine",
         "marker": {
          "color": "#EF553B",
          "symbol": "circle"
         },
         "mode": "markers",
         "name": "convit_base_MagFace_SGD_0.1_cosine",
         "orientation": "v",
         "showlegend": true,
         "type": "scatter",
         "x": [
          null
         ],
         "xaxis": "x",
         "y": [
          null
         ],
         "yaxis": "y"
        },
        {
         "hovertemplate": "index=convnext_large_384_in22ft1k_CosFace_AdamW_0.001_cosine<br>Accuracy=%{x}<br>Disparity=%{y}<extra></extra>",
         "legendgroup": "convnext_large_384_in22ft1k_CosFace_AdamW_0.001_cosine",
         "marker": {
          "color": "#00cc96",
          "symbol": "circle"
         },
         "mode": "markers",
         "name": "convnext_large_384_in22ft1k_CosFace_AdamW_0.001_cosine",
         "orientation": "v",
         "showlegend": true,
         "type": "scatter",
         "x": [
          null
         ],
         "xaxis": "x",
         "y": [
          null
         ],
         "yaxis": "y"
        },
        {
         "hovertemplate": "index=convnext_large_384_in22ft1k_MagFace_AdamW_0.001_cosine<br>Accuracy=%{x}<br>Disparity=%{y}<extra></extra>",
         "legendgroup": "convnext_large_384_in22ft1k_MagFace_AdamW_0.001_cosine",
         "marker": {
          "color": "#ab63fa",
          "symbol": "circle"
         },
         "mode": "markers",
         "name": "convnext_large_384_in22ft1k_MagFace_AdamW_0.001_cosine",
         "orientation": "v",
         "showlegend": true,
         "type": "scatter",
         "x": [
          null
         ],
         "xaxis": "x",
         "y": [
          null
         ],
         "yaxis": "y"
        },
        {
         "hovertemplate": "index=convnext_large_384_in22ft1k_MagFace_SGD_0.1_cosine<br>Accuracy=%{x}<br>Disparity=%{y}<extra></extra>",
         "legendgroup": "convnext_large_384_in22ft1k_MagFace_SGD_0.1_cosine",
         "marker": {
          "color": "#FFA15A",
          "symbol": "circle"
         },
         "mode": "markers",
         "name": "convnext_large_384_in22ft1k_MagFace_SGD_0.1_cosine",
         "orientation": "v",
         "showlegend": true,
         "type": "scatter",
         "x": [
          null
         ],
         "xaxis": "x",
         "y": [
          null
         ],
         "yaxis": "y"
        },
        {
         "hovertemplate": "index=cspdarknet53_ArcFace_AdamW_0.001_cosine<br>Accuracy=%{x}<br>Disparity=%{y}<extra></extra>",
         "legendgroup": "cspdarknet53_ArcFace_AdamW_0.001_cosine",
         "marker": {
          "color": "#19d3f3",
          "symbol": "circle"
         },
         "mode": "markers",
         "name": "cspdarknet53_ArcFace_AdamW_0.001_cosine",
         "orientation": "v",
         "showlegend": true,
         "type": "scatter",
         "x": [
          0.6561026715557884
         ],
         "xaxis": "x",
         "y": [
          2.9436877946568885
         ],
         "yaxis": "y"
        },
        {
         "hovertemplate": "index=cspdarknet53_ArcFace_SGD_0.1_cosine<br>Accuracy=%{x}<br>Disparity=%{y}<extra></extra>",
         "legendgroup": "cspdarknet53_ArcFace_SGD_0.1_cosine",
         "marker": {
          "color": "#FF6692",
          "symbol": "circle"
         },
         "mode": "markers",
         "name": "cspdarknet53_ArcFace_SGD_0.1_cosine",
         "orientation": "v",
         "showlegend": true,
         "type": "scatter",
         "x": [
          0.8395102147721321
         ],
         "xaxis": "x",
         "y": [
          1.467784180199057
         ],
         "yaxis": "y"
        },
        {
         "hovertemplate": "index=cspdarknet53_CosFace_AdamW_0.001_cosine<br>Accuracy=%{x}<br>Disparity=%{y}<extra></extra>",
         "legendgroup": "cspdarknet53_CosFace_AdamW_0.001_cosine",
         "marker": {
          "color": "#B6E880",
          "symbol": "circle"
         },
         "mode": "markers",
         "name": "cspdarknet53_CosFace_AdamW_0.001_cosine",
         "orientation": "v",
         "showlegend": true,
         "type": "scatter",
         "x": [
          0.7753404924044002
         ],
         "xaxis": "x",
         "y": [
          1.0137506547930855
         ],
         "yaxis": "y"
        },
        {
         "hovertemplate": "index=cspdarknet53_CosFace_SGD_0.1_cosine<br>Accuracy=%{x}<br>Disparity=%{y}<extra></extra>",
         "legendgroup": "cspdarknet53_CosFace_SGD_0.1_cosine",
         "marker": {
          "color": "#FF97FF",
          "symbol": "circle"
         },
         "mode": "markers",
         "name": "cspdarknet53_CosFace_SGD_0.1_cosine",
         "orientation": "v",
         "showlegend": true,
         "type": "scatter",
         "x": [
          0.6435961236249346
         ],
         "xaxis": "x",
         "y": [
          5.974724986904139
         ],
         "yaxis": "y"
        },
        {
         "hovertemplate": "index=cspdarknet53_MagFace_AdamW_0.001_cosine<br>Accuracy=%{x}<br>Disparity=%{y}<extra></extra>",
         "legendgroup": "cspdarknet53_MagFace_AdamW_0.001_cosine",
         "marker": {
          "color": "#FECB52",
          "symbol": "circle"
         },
         "mode": "markers",
         "name": "cspdarknet53_MagFace_AdamW_0.001_cosine",
         "orientation": "v",
         "showlegend": true,
         "type": "scatter",
         "x": [
          0.6966998428496595
         ],
         "xaxis": "x",
         "y": [
          2.8237297014143534
         ],
         "yaxis": "y"
        },
        {
         "hovertemplate": "index=cspdarknet53_MagFace_SGD_0.1_cosine<br>Accuracy=%{x}<br>Disparity=%{y}<extra></extra>",
         "legendgroup": "cspdarknet53_MagFace_SGD_0.1_cosine",
         "marker": {
          "color": "#636efa",
          "symbol": "circle"
         },
         "mode": "markers",
         "name": "cspdarknet53_MagFace_SGD_0.1_cosine",
         "orientation": "v",
         "showlegend": true,
         "type": "scatter",
         "x": [
          0.8497249869041383
         ],
         "xaxis": "x",
         "y": [
          1.4190675746464119
         ],
         "yaxis": "y"
        },
        {
         "hovertemplate": "index=densenet161_ArcFace_AdamW_0.001_cosine<br>Accuracy=%{x}<br>Disparity=%{y}<extra></extra>",
         "legendgroup": "densenet161_ArcFace_AdamW_0.001_cosine",
         "marker": {
          "color": "#EF553B",
          "symbol": "circle"
         },
         "mode": "markers",
         "name": "densenet161_ArcFace_AdamW_0.001_cosine",
         "orientation": "v",
         "showlegend": true,
         "type": "scatter",
         "x": [
          null
         ],
         "xaxis": "x",
         "y": [
          null
         ],
         "yaxis": "y"
        },
        {
         "hovertemplate": "index=densenet161_ArcFace_SGD_0.1_cosine<br>Accuracy=%{x}<br>Disparity=%{y}<extra></extra>",
         "legendgroup": "densenet161_ArcFace_SGD_0.1_cosine",
         "marker": {
          "color": "#00cc96",
          "symbol": "circle"
         },
         "mode": "markers",
         "name": "densenet161_ArcFace_SGD_0.1_cosine",
         "orientation": "v",
         "showlegend": true,
         "type": "scatter",
         "x": [
          null
         ],
         "xaxis": "x",
         "y": [
          null
         ],
         "yaxis": "y"
        },
        {
         "hovertemplate": "index=densenet161_CosFace_AdamW_0.001_cosine<br>Accuracy=%{x}<br>Disparity=%{y}<extra></extra>",
         "legendgroup": "densenet161_CosFace_AdamW_0.001_cosine",
         "marker": {
          "color": "#ab63fa",
          "symbol": "circle"
         },
         "mode": "markers",
         "name": "densenet161_CosFace_AdamW_0.001_cosine",
         "orientation": "v",
         "showlegend": true,
         "type": "scatter",
         "x": [
          0.8700890518596124
         ],
         "xaxis": "x",
         "y": [
          0.5556574122577267
         ],
         "yaxis": "y"
        },
        {
         "hovertemplate": "index=densenet161_CosFace_SGD_0.1_cosine<br>Accuracy=%{x}<br>Disparity=%{y}<extra></extra>",
         "legendgroup": "densenet161_CosFace_SGD_0.1_cosine",
         "marker": {
          "color": "#FFA15A",
          "symbol": "circle"
         },
         "mode": "markers",
         "name": "densenet161_CosFace_SGD_0.1_cosine",
         "orientation": "v",
         "showlegend": true,
         "type": "scatter",
         "x": [
          null
         ],
         "xaxis": "x",
         "y": [
          null
         ],
         "yaxis": "y"
        },
        {
         "hovertemplate": "index=densenet161_MagFace_AdamW_0.001_cosine<br>Accuracy=%{x}<br>Disparity=%{y}<extra></extra>",
         "legendgroup": "densenet161_MagFace_AdamW_0.001_cosine",
         "marker": {
          "color": "#19d3f3",
          "symbol": "circle"
         },
         "mode": "markers",
         "name": "densenet161_MagFace_AdamW_0.001_cosine",
         "orientation": "v",
         "showlegend": true,
         "type": "scatter",
         "x": [
          0.6556443163960188
         ],
         "xaxis": "x",
         "y": [
          3.243190151911996
         ],
         "yaxis": "y"
        },
        {
         "hovertemplate": "index=densenet161_MagFace_SGD_0.1_cosine<br>Accuracy=%{x}<br>Disparity=%{y}<extra></extra>",
         "legendgroup": "densenet161_MagFace_SGD_0.1_cosine",
         "marker": {
          "color": "#FF6692",
          "symbol": "circle"
         },
         "mode": "markers",
         "name": "densenet161_MagFace_SGD_0.1_cosine",
         "orientation": "v",
         "showlegend": true,
         "type": "scatter",
         "x": [
          null
         ],
         "xaxis": "x",
         "y": [
          null
         ],
         "yaxis": "y"
        },
        {
         "hovertemplate": "index=dla102x2_ArcFace_AdamW_0.001_cosine<br>Accuracy=%{x}<br>Disparity=%{y}<extra></extra>",
         "legendgroup": "dla102x2_ArcFace_AdamW_0.001_cosine",
         "marker": {
          "color": "#B6E880",
          "symbol": "circle"
         },
         "mode": "markers",
         "name": "dla102x2_ArcFace_AdamW_0.001_cosine",
         "orientation": "v",
         "showlegend": true,
         "type": "scatter",
         "x": [
          0.6231665793609219
         ],
         "xaxis": "x",
         "y": [
          3.0798847564169733
         ],
         "yaxis": "y"
        },
        {
         "hovertemplate": "index=dla102x2_CosFace_AdamW_0.001_cosine<br>Accuracy=%{x}<br>Disparity=%{y}<extra></extra>",
         "legendgroup": "dla102x2_CosFace_AdamW_0.001_cosine",
         "marker": {
          "color": "#FF97FF",
          "symbol": "circle"
         },
         "mode": "markers",
         "name": "dla102x2_CosFace_AdamW_0.001_cosine",
         "orientation": "v",
         "showlegend": true,
         "type": "scatter",
         "x": [
          0.7941330539549503
         ],
         "xaxis": "x",
         "y": [
          3.445128339444734
         ],
         "yaxis": "y"
        },
        {
         "hovertemplate": "index=dla102x2_MagFace_AdamW_0.001_cosine<br>Accuracy=%{x}<br>Disparity=%{y}<extra></extra>",
         "legendgroup": "dla102x2_MagFace_AdamW_0.001_cosine",
         "marker": {
          "color": "#FECB52",
          "symbol": "circle"
         },
         "mode": "markers",
         "name": "dla102x2_MagFace_AdamW_0.001_cosine",
         "orientation": "v",
         "showlegend": true,
         "type": "scatter",
         "x": [
          0.6485070717653222
         ],
         "xaxis": "x",
         "y": [
          3.329622839182819
         ],
         "yaxis": "y"
        },
        {
         "hovertemplate": "index=dpn107_ArcFace_SGD_0.1_cosine<br>Accuracy=%{x}<br>Disparity=%{y}<extra></extra>",
         "legendgroup": "dpn107_ArcFace_SGD_0.1_cosine",
         "marker": {
          "color": "#636efa",
          "symbol": "circle"
         },
         "mode": "markers",
         "name": "dpn107_ArcFace_SGD_0.1_cosine",
         "orientation": "v",
         "showlegend": true,
         "type": "scatter",
         "x": [
          0.820979570455736
         ],
         "xaxis": "x",
         "y": [
          1.5608957569408073
         ],
         "yaxis": "y"
        },
        {
         "hovertemplate": "index=dpn107_CosFace_AdamW_0.001_cosine<br>Accuracy=%{x}<br>Disparity=%{y}<extra></extra>",
         "legendgroup": "dpn107_CosFace_AdamW_0.001_cosine",
         "marker": {
          "color": "#EF553B",
          "symbol": "circle"
         },
         "mode": "markers",
         "name": "dpn107_CosFace_AdamW_0.001_cosine",
         "orientation": "v",
         "showlegend": true,
         "type": "scatter",
         "x": [
          null
         ],
         "xaxis": "x",
         "y": [
          null
         ],
         "yaxis": "y"
        },
        {
         "hovertemplate": "index=dpn107_CosFace_SGD_0.1_cosine<br>Accuracy=%{x}<br>Disparity=%{y}<extra></extra>",
         "legendgroup": "dpn107_CosFace_SGD_0.1_cosine",
         "marker": {
          "color": "#00cc96",
          "symbol": "circle"
         },
         "mode": "markers",
         "name": "dpn107_CosFace_SGD_0.1_cosine",
         "orientation": "v",
         "showlegend": true,
         "type": "scatter",
         "x": [
          0.9637899423782085
         ],
         "xaxis": "x",
         "y": [
          2.0417757988475644
         ],
         "yaxis": "y"
        },
        {
         "hovertemplate": "index=dpn107_MagFace_AdamW_0.001_cosine<br>Accuracy=%{x}<br>Disparity=%{y}<extra></extra>",
         "legendgroup": "dpn107_MagFace_AdamW_0.001_cosine",
         "marker": {
          "color": "#ab63fa",
          "symbol": "circle"
         },
         "mode": "markers",
         "name": "dpn107_MagFace_AdamW_0.001_cosine",
         "orientation": "v",
         "showlegend": true,
         "type": "scatter",
         "x": [
          0.6077134625458355
         ],
         "xaxis": "x",
         "y": [
          4.08040859088528
         ],
         "yaxis": "y"
        },
        {
         "hovertemplate": "index=dpn107_MagFace_SGD_0.1_cosine<br>Accuracy=%{x}<br>Disparity=%{y}<extra></extra>",
         "legendgroup": "dpn107_MagFace_SGD_0.1_cosine",
         "marker": {
          "color": "#FFA15A",
          "symbol": "circle"
         },
         "mode": "markers",
         "name": "dpn107_MagFace_SGD_0.1_cosine",
         "orientation": "v",
         "showlegend": true,
         "type": "scatter",
         "x": [
          0.9025013095861708
         ],
         "xaxis": "x",
         "y": [
          1.2378208486118387
         ],
         "yaxis": "y"
        },
        {
         "hovertemplate": "index=ese_vovnet39b_ArcFace_AdamW<br>Accuracy=%{x}<br>Disparity=%{y}<extra></extra>",
         "legendgroup": "ese_vovnet39b_ArcFace_AdamW",
         "marker": {
          "color": "#19d3f3",
          "symbol": "circle"
         },
         "mode": "markers",
         "name": "ese_vovnet39b_ArcFace_AdamW",
         "orientation": "v",
         "showlegend": true,
         "type": "scatter",
         "x": [
          0.7663698271346254
         ],
         "xaxis": "x",
         "y": [
          1.649423782084861
         ],
         "yaxis": "y"
        },
        {
         "hovertemplate": "index=ese_vovnet39b_ArcFace_AdamW_0.001_cosine<br>Accuracy=%{x}<br>Disparity=%{y}<extra></extra>",
         "legendgroup": "ese_vovnet39b_ArcFace_AdamW_0.001_cosine",
         "marker": {
          "color": "#FF6692",
          "symbol": "circle"
         },
         "mode": "markers",
         "name": "ese_vovnet39b_ArcFace_AdamW_0.001_cosine",
         "orientation": "v",
         "showlegend": true,
         "type": "scatter",
         "x": [
          0.6768596123624935
         ],
         "xaxis": "x",
         "y": [
          2.320717653221582
         ],
         "yaxis": "y"
        },
        {
         "hovertemplate": "index=ese_vovnet39b_ArcFace_SGD<br>Accuracy=%{x}<br>Disparity=%{y}<extra></extra>",
         "legendgroup": "ese_vovnet39b_ArcFace_SGD",
         "marker": {
          "color": "#B6E880",
          "symbol": "circle"
         },
         "mode": "markers",
         "name": "ese_vovnet39b_ArcFace_SGD",
         "orientation": "v",
         "showlegend": true,
         "type": "scatter",
         "x": [
          0.6673651126244107
         ],
         "xaxis": "x",
         "y": [
          3.1301728653745418
         ],
         "yaxis": "y"
        },
        {
         "hovertemplate": "index=ese_vovnet39b_ArcFace_SGD_0.1_cosine<br>Accuracy=%{x}<br>Disparity=%{y}<extra></extra>",
         "legendgroup": "ese_vovnet39b_ArcFace_SGD_0.1_cosine",
         "marker": {
          "color": "#FF97FF",
          "symbol": "circle"
         },
         "mode": "markers",
         "name": "ese_vovnet39b_ArcFace_SGD_0.1_cosine",
         "orientation": "v",
         "showlegend": true,
         "type": "scatter",
         "x": [
          0.6890387637506548
         ],
         "xaxis": "x",
         "y": [
          3.0680984808800424
         ],
         "yaxis": "y"
        },
        {
         "hovertemplate": "index=ese_vovnet39b_CosFace_Adam<br>Accuracy=%{x}<br>Disparity=%{y}<extra></extra>",
         "legendgroup": "ese_vovnet39b_CosFace_Adam",
         "marker": {
          "color": "#FECB52",
          "symbol": "circle"
         },
         "mode": "markers",
         "name": "ese_vovnet39b_CosFace_Adam",
         "orientation": "v",
         "showlegend": true,
         "type": "scatter",
         "x": [
          0.015911471974855946
         ],
         "xaxis": "x",
         "y": [
          18.412912519643783
         ],
         "yaxis": "y"
        },
        {
         "hovertemplate": "index=ese_vovnet39b_CosFace_AdamW<br>Accuracy=%{x}<br>Disparity=%{y}<extra></extra>",
         "legendgroup": "ese_vovnet39b_CosFace_AdamW",
         "marker": {
          "color": "#636efa",
          "symbol": "circle"
         },
         "mode": "markers",
         "name": "ese_vovnet39b_CosFace_AdamW",
         "orientation": "v",
         "showlegend": true,
         "type": "scatter",
         "x": [
          0.5072682032477737
         ],
         "xaxis": "x",
         "y": [
          4.011786275536931
         ],
         "yaxis": "y"
        },
        {
         "hovertemplate": "index=ese_vovnet39b_CosFace_AdamW_0.001_cosine<br>Accuracy=%{x}<br>Disparity=%{y}<extra></extra>",
         "legendgroup": "ese_vovnet39b_CosFace_AdamW_0.001_cosine",
         "marker": {
          "color": "#EF553B",
          "symbol": "circle"
         },
         "mode": "markers",
         "name": "ese_vovnet39b_CosFace_AdamW_0.001_cosine",
         "orientation": "v",
         "showlegend": true,
         "type": "scatter",
         "x": [
          0.8566657936092195
         ],
         "xaxis": "x",
         "y": [
          0.4989523310633839
         ],
         "yaxis": "y"
        },
        {
         "hovertemplate": "index=ese_vovnet39b_CosFace_SGD<br>Accuracy=%{x}<br>Disparity=%{y}<extra></extra>",
         "legendgroup": "ese_vovnet39b_CosFace_SGD",
         "marker": {
          "color": "#00cc96",
          "symbol": "circle"
         },
         "mode": "markers",
         "name": "ese_vovnet39b_CosFace_SGD",
         "orientation": "v",
         "showlegend": true,
         "type": "scatter",
         "x": [
          0.8768988999476166
         ],
         "xaxis": "x",
         "y": [
          1.964379256155055
         ],
         "yaxis": "y"
        },
        {
         "hovertemplate": "index=ese_vovnet39b_CosFace_SGD_0.1_cosine<br>Accuracy=%{x}<br>Disparity=%{y}<extra></extra>",
         "legendgroup": "ese_vovnet39b_CosFace_SGD_0.1_cosine",
         "marker": {
          "color": "#ab63fa",
          "symbol": "circle"
         },
         "mode": "markers",
         "name": "ese_vovnet39b_CosFace_SGD_0.1_cosine",
         "orientation": "v",
         "showlegend": true,
         "type": "scatter",
         "x": [
          0.8832503928758513
         ],
         "xaxis": "x",
         "y": [
          2.0036668412781564
         ],
         "yaxis": "y"
        },
        {
         "hovertemplate": "index=ese_vovnet39b_MagFace_AdamW<br>Accuracy=%{x}<br>Disparity=%{y}<extra></extra>",
         "legendgroup": "ese_vovnet39b_MagFace_AdamW",
         "marker": {
          "color": "#FFA15A",
          "symbol": "circle"
         },
         "mode": "markers",
         "name": "ese_vovnet39b_MagFace_AdamW",
         "orientation": "v",
         "showlegend": true,
         "type": "scatter",
         "x": [
          0.8091932949188057
         ],
         "xaxis": "x",
         "y": [
          1.8267417496071245
         ],
         "yaxis": "y"
        },
        {
         "hovertemplate": "index=ese_vovnet39b_MagFace_AdamW_0.001_cosine<br>Accuracy=%{x}<br>Disparity=%{y}<extra></extra>",
         "legendgroup": "ese_vovnet39b_MagFace_AdamW_0.001_cosine",
         "marker": {
          "color": "#19d3f3",
          "symbol": "circle"
         },
         "mode": "markers",
         "name": "ese_vovnet39b_MagFace_AdamW_0.001_cosine",
         "orientation": "v",
         "showlegend": true,
         "type": "scatter",
         "x": [
          0.7010869565217391
         ],
         "xaxis": "x",
         "y": [
          2.8673389209009956
         ],
         "yaxis": "y"
        },
        {
         "hovertemplate": "index=ese_vovnet39b_MagFace_SGD<br>Accuracy=%{x}<br>Disparity=%{y}<extra></extra>",
         "legendgroup": "ese_vovnet39b_MagFace_SGD",
         "marker": {
          "color": "#FF6692",
          "symbol": "circle"
         },
         "mode": "markers",
         "name": "ese_vovnet39b_MagFace_SGD",
         "orientation": "v",
         "showlegend": true,
         "type": "scatter",
         "x": [
          0.6556443163960188
         ],
         "xaxis": "x",
         "y": [
          3.695521215295966
         ],
         "yaxis": "y"
        },
        {
         "hovertemplate": "index=ese_vovnet39b_MagFace_SGD_0.1_cosine<br>Accuracy=%{x}<br>Disparity=%{y}<extra></extra>",
         "legendgroup": "ese_vovnet39b_MagFace_SGD_0.1_cosine",
         "marker": {
          "color": "#B6E880",
          "symbol": "circle"
         },
         "mode": "markers",
         "name": "ese_vovnet39b_MagFace_SGD_0.1_cosine",
         "orientation": "v",
         "showlegend": true,
         "type": "scatter",
         "x": [
          0.6424174960712414
         ],
         "xaxis": "x",
         "y": [
          3.6186485070717653
         ],
         "yaxis": "y"
        },
        {
         "hovertemplate": "index=fbnetv3_g_ArcFace_AdamW<br>Accuracy=%{x}<br>Disparity=%{y}<extra></extra>",
         "legendgroup": "fbnetv3_g_ArcFace_AdamW",
         "marker": {
          "color": "#FF97FF",
          "symbol": "circle"
         },
         "mode": "markers",
         "name": "fbnetv3_g_ArcFace_AdamW",
         "orientation": "v",
         "showlegend": true,
         "type": "scatter",
         "x": [
          0
         ],
         "xaxis": "x",
         "y": [
          0
         ],
         "yaxis": "y"
        },
        {
         "hovertemplate": "index=fbnetv3_g_ArcFace_AdamW_0.001_cosine<br>Accuracy=%{x}<br>Disparity=%{y}<extra></extra>",
         "legendgroup": "fbnetv3_g_ArcFace_AdamW_0.001_cosine",
         "marker": {
          "color": "#FECB52",
          "symbol": "circle"
         },
         "mode": "markers",
         "name": "fbnetv3_g_ArcFace_AdamW_0.001_cosine",
         "orientation": "v",
         "showlegend": true,
         "type": "scatter",
         "x": [
          0.4384494499738083
         ],
         "xaxis": "x",
         "y": [
          12.744892613933997
         ],
         "yaxis": "y"
        },
        {
         "hovertemplate": "index=fbnetv3_g_ArcFace_SGD<br>Accuracy=%{x}<br>Disparity=%{y}<extra></extra>",
         "legendgroup": "fbnetv3_g_ArcFace_SGD",
         "marker": {
          "color": "#636efa",
          "symbol": "circle"
         },
         "mode": "markers",
         "name": "fbnetv3_g_ArcFace_SGD",
         "orientation": "v",
         "showlegend": true,
         "type": "scatter",
         "x": [
          0.6337742273441592
         ],
         "xaxis": "x",
         "y": [
          4.190544787847039
         ],
         "yaxis": "y"
        },
        {
         "hovertemplate": "index=fbnetv3_g_ArcFace_SGD_0.1_cosine<br>Accuracy=%{x}<br>Disparity=%{y}<extra></extra>",
         "legendgroup": "fbnetv3_g_ArcFace_SGD_0.1_cosine",
         "marker": {
          "color": "#EF553B",
          "symbol": "circle"
         },
         "mode": "markers",
         "name": "fbnetv3_g_ArcFace_SGD_0.1_cosine",
         "orientation": "v",
         "showlegend": true,
         "type": "scatter",
         "x": [
          0.6016893661602933
         ],
         "xaxis": "x",
         "y": [
          3.609350445259298
         ],
         "yaxis": "y"
        },
        {
         "hovertemplate": "index=fbnetv3_g_CosFace_Adam<br>Accuracy=%{x}<br>Disparity=%{y}<extra></extra>",
         "legendgroup": "fbnetv3_g_CosFace_Adam",
         "marker": {
          "color": "#00cc96",
          "symbol": "circle"
         },
         "mode": "markers",
         "name": "fbnetv3_g_CosFace_Adam",
         "orientation": "v",
         "showlegend": true,
         "type": "scatter",
         "x": [
          0.004321634363541121
         ],
         "xaxis": "x",
         "y": [
          7.952592980618135
         ],
         "yaxis": "y"
        },
        {
         "hovertemplate": "index=fbnetv3_g_CosFace_AdamW<br>Accuracy=%{x}<br>Disparity=%{y}<extra></extra>",
         "legendgroup": "fbnetv3_g_CosFace_AdamW",
         "marker": {
          "color": "#ab63fa",
          "symbol": "circle"
         },
         "mode": "markers",
         "name": "fbnetv3_g_CosFace_AdamW",
         "orientation": "v",
         "showlegend": true,
         "type": "scatter",
         "x": [
          0.393661602933473
         ],
         "xaxis": "x",
         "y": [
          5.958486118386588
         ],
         "yaxis": "y"
        },
        {
         "hovertemplate": "index=fbnetv3_g_CosFace_AdamW_0.001_cosine<br>Accuracy=%{x}<br>Disparity=%{y}<extra></extra>",
         "legendgroup": "fbnetv3_g_CosFace_AdamW_0.001_cosine",
         "marker": {
          "color": "#FFA15A",
          "symbol": "circle"
         },
         "mode": "markers",
         "name": "fbnetv3_g_CosFace_AdamW_0.001_cosine",
         "orientation": "v",
         "showlegend": true,
         "type": "scatter",
         "x": [
          0.6193033001571503
         ],
         "xaxis": "x",
         "y": [
          2.1375065479308546
         ],
         "yaxis": "y"
        },
        {
         "hovertemplate": "index=fbnetv3_g_CosFace_SGD<br>Accuracy=%{x}<br>Disparity=%{y}<extra></extra>",
         "legendgroup": "fbnetv3_g_CosFace_SGD",
         "marker": {
          "color": "#19d3f3",
          "symbol": "circle"
         },
         "mode": "markers",
         "name": "fbnetv3_g_CosFace_SGD",
         "orientation": "v",
         "showlegend": true,
         "type": "scatter",
         "x": [
          0.8045442640125721
         ],
         "xaxis": "x",
         "y": [
          1.7902042954426403
         ],
         "yaxis": "y"
        },
        {
         "hovertemplate": "index=fbnetv3_g_CosFace_SGD_0.1_cosine<br>Accuracy=%{x}<br>Disparity=%{y}<extra></extra>",
         "legendgroup": "fbnetv3_g_CosFace_SGD_0.1_cosine",
         "marker": {
          "color": "#FF6692",
          "symbol": "circle"
         },
         "mode": "markers",
         "name": "fbnetv3_g_CosFace_SGD_0.1_cosine",
         "orientation": "v",
         "showlegend": true,
         "type": "scatter",
         "x": [
          0.8335515976951283
         ],
         "xaxis": "x",
         "y": [
          1.5316919853326345
         ],
         "yaxis": "y"
        },
        {
         "hovertemplate": "index=fbnetv3_g_MagFace_AdamW<br>Accuracy=%{x}<br>Disparity=%{y}<extra></extra>",
         "legendgroup": "fbnetv3_g_MagFace_AdamW",
         "marker": {
          "color": "#B6E880",
          "symbol": "circle"
         },
         "mode": "markers",
         "name": "fbnetv3_g_MagFace_AdamW",
         "orientation": "v",
         "showlegend": true,
         "type": "scatter",
         "x": [
          0.7300942902042954
         ],
         "xaxis": "x",
         "y": [
          2.4812729177579884
         ],
         "yaxis": "y"
        },
        {
         "hovertemplate": "index=fbnetv3_g_MagFace_AdamW_0.001_cosine<br>Accuracy=%{x}<br>Disparity=%{y}<extra></extra>",
         "legendgroup": "fbnetv3_g_MagFace_AdamW_0.001_cosine",
         "marker": {
          "color": "#FF97FF",
          "symbol": "circle"
         },
         "mode": "markers",
         "name": "fbnetv3_g_MagFace_AdamW_0.001_cosine",
         "orientation": "v",
         "showlegend": true,
         "type": "scatter",
         "x": [
          0.6117077003666841
         ],
         "xaxis": "x",
         "y": [
          3.684389732844421
         ],
         "yaxis": "y"
        },
        {
         "hovertemplate": "index=fbnetv3_g_MagFace_SGD<br>Accuracy=%{x}<br>Disparity=%{y}<extra></extra>",
         "legendgroup": "fbnetv3_g_MagFace_SGD",
         "marker": {
          "color": "#FECB52",
          "symbol": "circle"
         },
         "mode": "markers",
         "name": "fbnetv3_g_MagFace_SGD",
         "orientation": "v",
         "showlegend": true,
         "type": "scatter",
         "x": [
          0.5555919329491881
         ],
         "xaxis": "x",
         "y": [
          5.508643268727082
         ],
         "yaxis": "y"
        },
        {
         "hovertemplate": "index=fbnetv3_g_MagFace_SGD_0.1_cosine<br>Accuracy=%{x}<br>Disparity=%{y}<extra></extra>",
         "legendgroup": "fbnetv3_g_MagFace_SGD_0.1_cosine",
         "marker": {
          "color": "#636efa",
          "symbol": "circle"
         },
         "mode": "markers",
         "name": "fbnetv3_g_MagFace_SGD_0.1_cosine",
         "orientation": "v",
         "showlegend": true,
         "type": "scatter",
         "x": [
          0.5933080146673652
         ],
         "xaxis": "x",
         "y": [
          3.232713462545836
         ],
         "yaxis": "y"
        },
        {
         "hovertemplate": "index=vgg19_ArcFace_AdamW<br>Accuracy=%{x}<br>Disparity=%{y}<extra></extra>",
         "legendgroup": "vgg19_ArcFace_AdamW",
         "marker": {
          "color": "#EF553B",
          "symbol": "circle"
         },
         "mode": "markers",
         "name": "vgg19_ArcFace_AdamW",
         "orientation": "v",
         "showlegend": true,
         "type": "scatter",
         "x": [
          0
         ],
         "xaxis": "x",
         "y": [
          0
         ],
         "yaxis": "y"
        },
        {
         "hovertemplate": "index=ghostnet_100_ArcFace_AdamW_0.001_cosine<br>Accuracy=%{x}<br>Disparity=%{y}<extra></extra>",
         "legendgroup": "ghostnet_100_ArcFace_AdamW_0.001_cosine",
         "marker": {
          "color": "#00cc96",
          "symbol": "circle"
         },
         "mode": "markers",
         "name": "ghostnet_100_ArcFace_AdamW_0.001_cosine",
         "orientation": "v",
         "showlegend": true,
         "type": "scatter",
         "x": [
          0.05683603981141959
         ],
         "xaxis": "x",
         "y": [
          30.190675746464123
         ],
         "yaxis": "y"
        },
        {
         "hovertemplate": "index=ghostnet_100_CosFace_AdamW_0.001_cosine<br>Accuracy=%{x}<br>Disparity=%{y}<extra></extra>",
         "legendgroup": "ghostnet_100_CosFace_AdamW_0.001_cosine",
         "marker": {
          "color": "#ab63fa",
          "symbol": "circle"
         },
         "mode": "markers",
         "name": "ghostnet_100_CosFace_AdamW_0.001_cosine",
         "orientation": "v",
         "showlegend": true,
         "type": "scatter",
         "x": [
          0
         ],
         "xaxis": "x",
         "y": [
          0
         ],
         "yaxis": "y"
        },
        {
         "hovertemplate": "index=ghostnet_100_MagFace_AdamW_0.001_cosine<br>Accuracy=%{x}<br>Disparity=%{y}<extra></extra>",
         "legendgroup": "ghostnet_100_MagFace_AdamW_0.001_cosine",
         "marker": {
          "color": "#FFA15A",
          "symbol": "circle"
         },
         "mode": "markers",
         "name": "ghostnet_100_MagFace_AdamW_0.001_cosine",
         "orientation": "v",
         "showlegend": true,
         "type": "scatter",
         "x": [
          0.3571896280775275
         ],
         "xaxis": "x",
         "y": [
          5.761131482451546
         ],
         "yaxis": "y"
        },
        {
         "hovertemplate": "index=gluon_inception_v3_ArcFace_AdamW<br>Accuracy=%{x}<br>Disparity=%{y}<extra></extra>",
         "legendgroup": "gluon_inception_v3_ArcFace_AdamW",
         "marker": {
          "color": "#19d3f3",
          "symbol": "circle"
         },
         "mode": "markers",
         "name": "gluon_inception_v3_ArcFace_AdamW",
         "orientation": "v",
         "showlegend": true,
         "type": "scatter",
         "x": [
          0.7190282870612886
         ],
         "xaxis": "x",
         "y": [
          2.263357778941854
         ],
         "yaxis": "y"
        },
        {
         "hovertemplate": "index=gluon_inception_v3_ArcFace_AdamW_0.001_cosine<br>Accuracy=%{x}<br>Disparity=%{y}<extra></extra>",
         "legendgroup": "gluon_inception_v3_ArcFace_AdamW_0.001_cosine",
         "marker": {
          "color": "#FF6692",
          "symbol": "circle"
         },
         "mode": "markers",
         "name": "gluon_inception_v3_ArcFace_AdamW_0.001_cosine",
         "orientation": "v",
         "showlegend": true,
         "type": "scatter",
         "x": [
          0.7230880041906758
         ],
         "xaxis": "x",
         "y": [
          1.158067050811943
         ],
         "yaxis": "y"
        },
        {
         "hovertemplate": "index=gluon_inception_v3_ArcFace_SGD<br>Accuracy=%{x}<br>Disparity=%{y}<extra></extra>",
         "legendgroup": "gluon_inception_v3_ArcFace_SGD",
         "marker": {
          "color": "#B6E880",
          "symbol": "circle"
         },
         "mode": "markers",
         "name": "gluon_inception_v3_ArcFace_SGD",
         "orientation": "v",
         "showlegend": true,
         "type": "scatter",
         "x": [
          0.7106469355683604
         ],
         "xaxis": "x",
         "y": [
          3.1516500785751704
         ],
         "yaxis": "y"
        },
        {
         "hovertemplate": "index=gluon_inception_v3_ArcFace_SGD_0.1_cosine<br>Accuracy=%{x}<br>Disparity=%{y}<extra></extra>",
         "legendgroup": "gluon_inception_v3_ArcFace_SGD_0.1_cosine",
         "marker": {
          "color": "#FF97FF",
          "symbol": "circle"
         },
         "mode": "markers",
         "name": "gluon_inception_v3_ArcFace_SGD_0.1_cosine",
         "orientation": "v",
         "showlegend": true,
         "type": "scatter",
         "x": [
          0.6136066003143007
         ],
         "xaxis": "x",
         "y": [
          4.108171817705605
         ],
         "yaxis": "y"
        },
        {
         "hovertemplate": "index=gluon_inception_v3_CosFace_Adam<br>Accuracy=%{x}<br>Disparity=%{y}<extra></extra>",
         "legendgroup": "gluon_inception_v3_CosFace_Adam",
         "marker": {
          "color": "#FECB52",
          "symbol": "circle"
         },
         "mode": "markers",
         "name": "gluon_inception_v3_CosFace_Adam",
         "orientation": "v",
         "showlegend": true,
         "type": "scatter",
         "x": [
          0.0037323205866946047
         ],
         "xaxis": "x",
         "y": [
          19.663436354112093
         ],
         "yaxis": "y"
        },
        {
         "hovertemplate": "index=gluon_inception_v3_CosFace_AdamW<br>Accuracy=%{x}<br>Disparity=%{y}<extra></extra>",
         "legendgroup": "gluon_inception_v3_CosFace_AdamW",
         "marker": {
          "color": "#636efa",
          "symbol": "circle"
         },
         "mode": "markers",
         "name": "gluon_inception_v3_CosFace_AdamW",
         "orientation": "v",
         "showlegend": true,
         "type": "scatter",
         "x": [
          0.45187270822420117
         ],
         "xaxis": "x",
         "y": [
          5.415793609219486
         ],
         "yaxis": "y"
        },
        {
         "hovertemplate": "index=gluon_inception_v3_CosFace_AdamW_0.001_cosine<br>Accuracy=%{x}<br>Disparity=%{y}<extra></extra>",
         "legendgroup": "gluon_inception_v3_CosFace_AdamW_0.001_cosine",
         "marker": {
          "color": "#EF553B",
          "symbol": "circle"
         },
         "mode": "markers",
         "name": "gluon_inception_v3_CosFace_AdamW_0.001_cosine",
         "orientation": "v",
         "showlegend": true,
         "type": "scatter",
         "x": [
          0.5582111052907281
         ],
         "xaxis": "x",
         "y": [
          6.246333158721843
         ],
         "yaxis": "y"
        },
        {
         "hovertemplate": "index=gluon_inception_v3_CosFace_SGD<br>Accuracy=%{x}<br>Disparity=%{y}<extra></extra>",
         "legendgroup": "gluon_inception_v3_CosFace_SGD",
         "marker": {
          "color": "#00cc96",
          "symbol": "circle"
         },
         "mode": "markers",
         "name": "gluon_inception_v3_CosFace_SGD",
         "orientation": "v",
         "showlegend": true,
         "type": "scatter",
         "x": [
          0.7278025144054479
         ],
         "xaxis": "x",
         "y": [
          2.28143006809848
         ],
         "yaxis": "y"
        },
        {
         "hovertemplate": "index=gluon_inception_v3_CosFace_SGD_0.1_cosine<br>Accuracy=%{x}<br>Disparity=%{y}<extra></extra>",
         "legendgroup": "gluon_inception_v3_CosFace_SGD_0.1_cosine",
         "marker": {
          "color": "#ab63fa",
          "symbol": "circle"
         },
         "mode": "markers",
         "name": "gluon_inception_v3_CosFace_SGD_0.1_cosine",
         "orientation": "v",
         "showlegend": true,
         "type": "scatter",
         "x": [
          0.6286013619696176
         ],
         "xaxis": "x",
         "y": [
          3.9279727606076484
         ],
         "yaxis": "y"
        },
        {
         "hovertemplate": "index=gluon_inception_v3_MagFace_AdamW<br>Accuracy=%{x}<br>Disparity=%{y}<extra></extra>",
         "legendgroup": "gluon_inception_v3_MagFace_AdamW",
         "marker": {
          "color": "#FFA15A",
          "symbol": "circle"
         },
         "mode": "markers",
         "name": "gluon_inception_v3_MagFace_AdamW",
         "orientation": "v",
         "showlegend": true,
         "type": "scatter",
         "x": [
          0.7629649030906234
         ],
         "xaxis": "x",
         "y": [
          2.219486642221058
         ],
         "yaxis": "y"
        },
        {
         "hovertemplate": "index=gluon_inception_v3_MagFace_AdamW_0.001_cosine<br>Accuracy=%{x}<br>Disparity=%{y}<extra></extra>",
         "legendgroup": "gluon_inception_v3_MagFace_AdamW_0.001_cosine",
         "marker": {
          "color": "#19d3f3",
          "symbol": "circle"
         },
         "mode": "markers",
         "name": "gluon_inception_v3_MagFace_AdamW_0.001_cosine",
         "orientation": "v",
         "showlegend": true,
         "type": "scatter",
         "x": [
          0.6629125196437926
         ],
         "xaxis": "x",
         "y": [
          2.582372970141436
         ],
         "yaxis": "y"
        },
        {
         "hovertemplate": "index=gluon_inception_v3_MagFace_SGD<br>Accuracy=%{x}<br>Disparity=%{y}<extra></extra>",
         "legendgroup": "gluon_inception_v3_MagFace_SGD",
         "marker": {
          "color": "#FF6692",
          "symbol": "circle"
         },
         "mode": "markers",
         "name": "gluon_inception_v3_MagFace_SGD",
         "orientation": "v",
         "showlegend": true,
         "type": "scatter",
         "x": [
          0.693753273965427
         ],
         "xaxis": "x",
         "y": [
          2.894185437401781
         ],
         "yaxis": "y"
        },
        {
         "hovertemplate": "index=gluon_inception_v3_MagFace_SGD_0.1_cosine<br>Accuracy=%{x}<br>Disparity=%{y}<extra></extra>",
         "legendgroup": "gluon_inception_v3_MagFace_SGD_0.1_cosine",
         "marker": {
          "color": "#B6E880",
          "symbol": "circle"
         },
         "mode": "markers",
         "name": "gluon_inception_v3_MagFace_SGD_0.1_cosine",
         "orientation": "v",
         "showlegend": true,
         "type": "scatter",
         "x": [
          0.6446437925615506
         ],
         "xaxis": "x",
         "y": [
          2.6191723415400725
         ],
         "yaxis": "y"
        },
        {
         "hovertemplate": "index=gluon_xception65_ArcFace_AdamW<br>Accuracy=%{x}<br>Disparity=%{y}<extra></extra>",
         "legendgroup": "gluon_xception65_ArcFace_AdamW",
         "marker": {
          "color": "#FF97FF",
          "symbol": "circle"
         },
         "mode": "markers",
         "name": "gluon_xception65_ArcFace_AdamW",
         "orientation": "v",
         "showlegend": true,
         "type": "scatter",
         "x": [
          0.6024751178627553
         ],
         "xaxis": "x",
         "y": [
          2.015191199580933
         ],
         "yaxis": "y"
        },
        {
         "hovertemplate": "index=gluon_xception65_ArcFace_AdamW_0.001_cosine<br>Accuracy=%{x}<br>Disparity=%{y}<extra></extra>",
         "legendgroup": "gluon_xception65_ArcFace_AdamW_0.001_cosine",
         "marker": {
          "color": "#FECB52",
          "symbol": "circle"
         },
         "mode": "markers",
         "name": "gluon_xception65_ArcFace_AdamW_0.001_cosine",
         "orientation": "v",
         "showlegend": true,
         "type": "scatter",
         "x": [
          0.5866946045049765
         ],
         "xaxis": "x",
         "y": [
          3.6017548454688324
         ],
         "yaxis": "y"
        },
        {
         "hovertemplate": "index=gluon_xception65_ArcFace_SGD<br>Accuracy=%{x}<br>Disparity=%{y}<extra></extra>",
         "legendgroup": "gluon_xception65_ArcFace_SGD",
         "marker": {
          "color": "#636efa",
          "symbol": "circle"
         },
         "mode": "markers",
         "name": "gluon_xception65_ArcFace_SGD",
         "orientation": "v",
         "showlegend": true,
         "type": "scatter",
         "x": [
          0.6178627553693034
         ],
         "xaxis": "x",
         "y": [
          3.534180199057099
         ],
         "yaxis": "y"
        },
        {
         "hovertemplate": "index=gluon_xception65_ArcFace_SGD_0.1_cosine<br>Accuracy=%{x}<br>Disparity=%{y}<extra></extra>",
         "legendgroup": "gluon_xception65_ArcFace_SGD_0.1_cosine",
         "marker": {
          "color": "#EF553B",
          "symbol": "circle"
         },
         "mode": "markers",
         "name": "gluon_xception65_ArcFace_SGD_0.1_cosine",
         "orientation": "v",
         "showlegend": true,
         "type": "scatter",
         "x": [
          0.7484284965950759
         ],
         "xaxis": "x",
         "y": [
          2.542954426401257
         ],
         "yaxis": "y"
        },
        {
         "hovertemplate": "index=gluon_xception65_CosFace_Adam<br>Accuracy=%{x}<br>Disparity=%{y}<extra></extra>",
         "legendgroup": "gluon_xception65_CosFace_Adam",
         "marker": {
          "color": "#00cc96",
          "symbol": "circle"
         },
         "mode": "markers",
         "name": "gluon_xception65_CosFace_Adam",
         "orientation": "v",
         "showlegend": true,
         "type": "scatter",
         "x": [
          0
         ],
         "xaxis": "x",
         "y": [
          0
         ],
         "yaxis": "y"
        },
        {
         "hovertemplate": "index=gluon_xception65_CosFace_AdamW<br>Accuracy=%{x}<br>Disparity=%{y}<extra></extra>",
         "legendgroup": "gluon_xception65_CosFace_AdamW",
         "marker": {
          "color": "#ab63fa",
          "symbol": "circle"
         },
         "mode": "markers",
         "name": "gluon_xception65_CosFace_AdamW",
         "orientation": "v",
         "showlegend": true,
         "type": "scatter",
         "x": [
          0.392613933996857
         ],
         "xaxis": "x",
         "y": [
          10.092587742273437
         ],
         "yaxis": "y"
        },
        {
         "hovertemplate": "index=gluon_xception65_CosFace_AdamW_0.001_cosine<br>Accuracy=%{x}<br>Disparity=%{y}<extra></extra>",
         "legendgroup": "gluon_xception65_CosFace_AdamW_0.001_cosine",
         "marker": {
          "color": "#FFA15A",
          "symbol": "circle"
         },
         "mode": "markers",
         "name": "gluon_xception65_CosFace_AdamW_0.001_cosine",
         "orientation": "v",
         "showlegend": true,
         "type": "scatter",
         "x": [
          0.3002226296490309
         ],
         "xaxis": "x",
         "y": [
          8.418674698795186
         ],
         "yaxis": "y"
        },
        {
         "hovertemplate": "index=gluon_xception65_CosFace_SGD<br>Accuracy=%{x}<br>Disparity=%{y}<extra></extra>",
         "legendgroup": "gluon_xception65_CosFace_SGD",
         "marker": {
          "color": "#19d3f3",
          "symbol": "circle"
         },
         "mode": "markers",
         "name": "gluon_xception65_CosFace_SGD",
         "orientation": "v",
         "showlegend": true,
         "type": "scatter",
         "x": [
          0.6851754845468832
         ],
         "xaxis": "x",
         "y": [
          4.567705605028811
         ],
         "yaxis": "y"
        },
        {
         "hovertemplate": "index=gluon_xception65_CosFace_SGD_0.1_cosine<br>Accuracy=%{x}<br>Disparity=%{y}<extra></extra>",
         "legendgroup": "gluon_xception65_CosFace_SGD_0.1_cosine",
         "marker": {
          "color": "#FF6692",
          "symbol": "circle"
         },
         "mode": "markers",
         "name": "gluon_xception65_CosFace_SGD_0.1_cosine",
         "orientation": "v",
         "showlegend": true,
         "type": "scatter",
         "x": [
          0.6642221058145626
         ],
         "xaxis": "x",
         "y": [
          0.7252488213724462
         ],
         "yaxis": "y"
        },
        {
         "hovertemplate": "index=gluon_xception65_MagFace_AdamW<br>Accuracy=%{x}<br>Disparity=%{y}<extra></extra>",
         "legendgroup": "gluon_xception65_MagFace_AdamW",
         "marker": {
          "color": "#B6E880",
          "symbol": "circle"
         },
         "mode": "markers",
         "name": "gluon_xception65_MagFace_AdamW",
         "orientation": "v",
         "showlegend": true,
         "type": "scatter",
         "x": [
          0.6581325301204819
         ],
         "xaxis": "x",
         "y": [
          8.735725510738607
         ],
         "yaxis": "y"
        },
        {
         "hovertemplate": "index=gluon_xception65_MagFace_AdamW_0.001_cosine<br>Accuracy=%{x}<br>Disparity=%{y}<extra></extra>",
         "legendgroup": "gluon_xception65_MagFace_AdamW_0.001_cosine",
         "marker": {
          "color": "#FF97FF",
          "symbol": "circle"
         },
         "mode": "markers",
         "name": "gluon_xception65_MagFace_AdamW_0.001_cosine",
         "orientation": "v",
         "showlegend": true,
         "type": "scatter",
         "x": [
          0.6251964379256155
         ],
         "xaxis": "x",
         "y": [
          3.2832634887375587
         ],
         "yaxis": "y"
        },
        {
         "hovertemplate": "index=gluon_xception65_MagFace_SGD<br>Accuracy=%{x}<br>Disparity=%{y}<extra></extra>",
         "legendgroup": "gluon_xception65_MagFace_SGD",
         "marker": {
          "color": "#FECB52",
          "symbol": "circle"
         },
         "mode": "markers",
         "name": "gluon_xception65_MagFace_SGD",
         "orientation": "v",
         "showlegend": true,
         "type": "scatter",
         "x": [
          0.6404531168150864
         ],
         "xaxis": "x",
         "y": [
          3.011262441068622
         ],
         "yaxis": "y"
        },
        {
         "hovertemplate": "index=gluon_xception65_MagFace_SGD_0.1_cosine<br>Accuracy=%{x}<br>Disparity=%{y}<extra></extra>",
         "legendgroup": "gluon_xception65_MagFace_SGD_0.1_cosine",
         "marker": {
          "color": "#636efa",
          "symbol": "circle"
         },
         "mode": "markers",
         "name": "gluon_xception65_MagFace_SGD_0.1_cosine",
         "orientation": "v",
         "showlegend": true,
         "type": "scatter",
         "x": [
          0.6404531168150864
         ],
         "xaxis": "x",
         "y": [
          3.011262441068622
         ],
         "yaxis": "y"
        },
        {
         "hovertemplate": "index=hrnet_w64_ArcFace_AdamW_0.001_cosine<br>Accuracy=%{x}<br>Disparity=%{y}<extra></extra>",
         "legendgroup": "hrnet_w64_ArcFace_AdamW_0.001_cosine",
         "marker": {
          "color": "#EF553B",
          "symbol": "circle"
         },
         "mode": "markers",
         "name": "hrnet_w64_ArcFace_AdamW_0.001_cosine",
         "orientation": "v",
         "showlegend": true,
         "type": "scatter",
         "x": [
          0.589379256155055
         ],
         "xaxis": "x",
         "y": [
          3.6572812991094814
         ],
         "yaxis": "y"
        },
        {
         "hovertemplate": "index=hrnet_w64_ArcFace_SGD_0.1_cosine<br>Accuracy=%{x}<br>Disparity=%{y}<extra></extra>",
         "legendgroup": "hrnet_w64_ArcFace_SGD_0.1_cosine",
         "marker": {
          "color": "#00cc96",
          "symbol": "circle"
         },
         "mode": "markers",
         "name": "hrnet_w64_ArcFace_SGD_0.1_cosine",
         "orientation": "v",
         "showlegend": true,
         "type": "scatter",
         "x": [
          0.7059979046621268
         ],
         "xaxis": "x",
         "y": [
          2.732582503928759
         ],
         "yaxis": "y"
        },
        {
         "hovertemplate": "index=hrnet_w64_CosFace_AdamW_0.001_cosine<br>Accuracy=%{x}<br>Disparity=%{y}<extra></extra>",
         "legendgroup": "hrnet_w64_CosFace_AdamW_0.001_cosine",
         "marker": {
          "color": "#ab63fa",
          "symbol": "circle"
         },
         "mode": "markers",
         "name": "hrnet_w64_CosFace_AdamW_0.001_cosine",
         "orientation": "v",
         "showlegend": true,
         "type": "scatter",
         "x": [
          0.7907936092194866
         ],
         "xaxis": "x",
         "y": [
          11.224201152435832
         ],
         "yaxis": "y"
        },
        {
         "hovertemplate": "index=hrnet_w64_CosFace_SGD_0.1_cosine<br>Accuracy=%{x}<br>Disparity=%{y}<extra></extra>",
         "legendgroup": "hrnet_w64_CosFace_SGD_0.1_cosine",
         "marker": {
          "color": "#FFA15A",
          "symbol": "circle"
         },
         "mode": "markers",
         "name": "hrnet_w64_CosFace_SGD_0.1_cosine",
         "orientation": "v",
         "showlegend": true,
         "type": "scatter",
         "x": [
          0.8795180722891566
         ],
         "xaxis": "x",
         "y": [
          2.048847564169722
         ],
         "yaxis": "y"
        },
        {
         "hovertemplate": "index=hrnet_w64_MagFace_AdamW_0.001_cosine<br>Accuracy=%{x}<br>Disparity=%{y}<extra></extra>",
         "legendgroup": "hrnet_w64_MagFace_AdamW_0.001_cosine",
         "marker": {
          "color": "#19d3f3",
          "symbol": "circle"
         },
         "mode": "markers",
         "name": "hrnet_w64_MagFace_AdamW_0.001_cosine",
         "orientation": "v",
         "showlegend": true,
         "type": "scatter",
         "x": [
          null
         ],
         "xaxis": "x",
         "y": [
          null
         ],
         "yaxis": "y"
        },
        {
         "hovertemplate": "index=hrnet_w64_MagFace_SGD_0.1_cosine<br>Accuracy=%{x}<br>Disparity=%{y}<extra></extra>",
         "legendgroup": "hrnet_w64_MagFace_SGD_0.1_cosine",
         "marker": {
          "color": "#FF6692",
          "symbol": "circle"
         },
         "mode": "markers",
         "name": "hrnet_w64_MagFace_SGD_0.1_cosine",
         "orientation": "v",
         "showlegend": true,
         "type": "scatter",
         "x": [
          0.7472498690413829
         ],
         "xaxis": "x",
         "y": [
          2.170508119434259
         ],
         "yaxis": "y"
        },
        {
         "hovertemplate": "index=ig_resnext101_32x8d_ArcFace_AdamW<br>Accuracy=%{x}<br>Disparity=%{y}<extra></extra>",
         "legendgroup": "ig_resnext101_32x8d_ArcFace_AdamW",
         "marker": {
          "color": "#B6E880",
          "symbol": "circle"
         },
         "mode": "markers",
         "name": "ig_resnext101_32x8d_ArcFace_AdamW",
         "orientation": "v",
         "showlegend": true,
         "type": "scatter",
         "x": [
          0.659049240440021
         ],
         "xaxis": "x",
         "y": [
          4.529203771608172
         ],
         "yaxis": "y"
        },
        {
         "hovertemplate": "index=ig_resnext101_32x8d_ArcFace_AdamW_0.001_cosine<br>Accuracy=%{x}<br>Disparity=%{y}<extra></extra>",
         "legendgroup": "ig_resnext101_32x8d_ArcFace_AdamW_0.001_cosine",
         "marker": {
          "color": "#FF97FF",
          "symbol": "circle"
         },
         "mode": "markers",
         "name": "ig_resnext101_32x8d_ArcFace_AdamW_0.001_cosine",
         "orientation": "v",
         "showlegend": true,
         "type": "scatter",
         "x": [
          0.5028156102671556
         ],
         "xaxis": "x",
         "y": [
          5.265060240963855
         ],
         "yaxis": "y"
        },
        {
         "hovertemplate": "index=ig_resnext101_32x8d_ArcFace_SGD<br>Accuracy=%{x}<br>Disparity=%{y}<extra></extra>",
         "legendgroup": "ig_resnext101_32x8d_ArcFace_SGD",
         "marker": {
          "color": "#FECB52",
          "symbol": "circle"
         },
         "mode": "markers",
         "name": "ig_resnext101_32x8d_ArcFace_SGD",
         "orientation": "v",
         "showlegend": true,
         "type": "scatter",
         "x": [
          0.7170639078051336
         ],
         "xaxis": "x",
         "y": [
          2.4150078575170246
         ],
         "yaxis": "y"
        },
        {
         "hovertemplate": "index=ig_resnext101_32x8d_ArcFace_SGD_0.1_cosine<br>Accuracy=%{x}<br>Disparity=%{y}<extra></extra>",
         "legendgroup": "ig_resnext101_32x8d_ArcFace_SGD_0.1_cosine",
         "marker": {
          "color": "#636efa",
          "symbol": "circle"
         },
         "mode": "markers",
         "name": "ig_resnext101_32x8d_ArcFace_SGD_0.1_cosine",
         "orientation": "v",
         "showlegend": true,
         "type": "scatter",
         "x": [
          0.5670508119434259
         ],
         "xaxis": "x",
         "y": [
          4.827003666841279
         ],
         "yaxis": "y"
        },
        {
         "hovertemplate": "index=ig_resnext101_32x8d_CosFace_AdamW<br>Accuracy=%{x}<br>Disparity=%{y}<extra></extra>",
         "legendgroup": "ig_resnext101_32x8d_CosFace_AdamW",
         "marker": {
          "color": "#EF553B",
          "symbol": "circle"
         },
         "mode": "markers",
         "name": "ig_resnext101_32x8d_CosFace_AdamW",
         "orientation": "v",
         "showlegend": true,
         "type": "scatter",
         "x": [
          0.8294264012572027
         ],
         "xaxis": "x",
         "y": [
          1.0982189628077528
         ],
         "yaxis": "y"
        },
        {
         "hovertemplate": "index=ig_resnext101_32x8d_CosFace_AdamW_0.001_cosine<br>Accuracy=%{x}<br>Disparity=%{y}<extra></extra>",
         "legendgroup": "ig_resnext101_32x8d_CosFace_AdamW_0.001_cosine",
         "marker": {
          "color": "#00cc96",
          "symbol": "circle"
         },
         "mode": "markers",
         "name": "ig_resnext101_32x8d_CosFace_AdamW_0.001_cosine",
         "orientation": "v",
         "showlegend": true,
         "type": "scatter",
         "x": [
          0.623821372446307
         ],
         "xaxis": "x",
         "y": [
          3.6183865898376126
         ],
         "yaxis": "y"
        },
        {
         "hovertemplate": "index=ig_resnext101_32x8d_CosFace_SGD<br>Accuracy=%{x}<br>Disparity=%{y}<extra></extra>",
         "legendgroup": "ig_resnext101_32x8d_CosFace_SGD",
         "marker": {
          "color": "#ab63fa",
          "symbol": "circle"
         },
         "mode": "markers",
         "name": "ig_resnext101_32x8d_CosFace_SGD",
         "orientation": "v",
         "showlegend": true,
         "type": "scatter",
         "x": [
          0.8302776322682033
         ],
         "xaxis": "x",
         "y": [
          2.0652173913043477
         ],
         "yaxis": "y"
        },
        {
         "hovertemplate": "index=ig_resnext101_32x8d_CosFace_SGD_0.1_cosine<br>Accuracy=%{x}<br>Disparity=%{y}<extra></extra>",
         "legendgroup": "ig_resnext101_32x8d_CosFace_SGD_0.1_cosine",
         "marker": {
          "color": "#FFA15A",
          "symbol": "circle"
         },
         "mode": "markers",
         "name": "ig_resnext101_32x8d_CosFace_SGD_0.1_cosine",
         "orientation": "v",
         "showlegend": true,
         "type": "scatter",
         "x": [
          0.7470534311157674
         ],
         "xaxis": "x",
         "y": [
          4.631744368779466
         ],
         "yaxis": "y"
        },
        {
         "hovertemplate": "index=ig_resnext101_32x8d_MagFace_AdamW<br>Accuracy=%{x}<br>Disparity=%{y}<extra></extra>",
         "legendgroup": "ig_resnext101_32x8d_MagFace_AdamW",
         "marker": {
          "color": "#19d3f3",
          "symbol": "circle"
         },
         "mode": "markers",
         "name": "ig_resnext101_32x8d_MagFace_AdamW",
         "orientation": "v",
         "showlegend": true,
         "type": "scatter",
         "x": [
          0.6665138816134102
         ],
         "xaxis": "x",
         "y": [
          2.9734154007333684
         ],
         "yaxis": "y"
        },
        {
         "hovertemplate": "index=ig_resnext101_32x8d_MagFace_AdamW_0.001_cosine<br>Accuracy=%{x}<br>Disparity=%{y}<extra></extra>",
         "legendgroup": "ig_resnext101_32x8d_MagFace_AdamW_0.001_cosine",
         "marker": {
          "color": "#FF6692",
          "symbol": "circle"
         },
         "mode": "markers",
         "name": "ig_resnext101_32x8d_MagFace_AdamW_0.001_cosine",
         "orientation": "v",
         "showlegend": true,
         "type": "scatter",
         "x": [
          0.5394185437401781
         ],
         "xaxis": "x",
         "y": [
          4.536930330015715
         ],
         "yaxis": "y"
        },
        {
         "hovertemplate": "index=ig_resnext101_32x8d_MagFace_SGD<br>Accuracy=%{x}<br>Disparity=%{y}<extra></extra>",
         "legendgroup": "ig_resnext101_32x8d_MagFace_SGD",
         "marker": {
          "color": "#B6E880",
          "symbol": "circle"
         },
         "mode": "markers",
         "name": "ig_resnext101_32x8d_MagFace_SGD",
         "orientation": "v",
         "showlegend": true,
         "type": "scatter",
         "x": [
          0.7710843373493976
         ],
         "xaxis": "x",
         "y": [
          1.8914353064431637
         ],
         "yaxis": "y"
        },
        {
         "hovertemplate": "index=ig_resnext101_32x8d_MagFace_SGD_0.1_cosine<br>Accuracy=%{x}<br>Disparity=%{y}<extra></extra>",
         "legendgroup": "ig_resnext101_32x8d_MagFace_SGD_0.1_cosine",
         "marker": {
          "color": "#FF97FF",
          "symbol": "circle"
         },
         "mode": "markers",
         "name": "ig_resnext101_32x8d_MagFace_SGD_0.1_cosine",
         "orientation": "v",
         "showlegend": true,
         "type": "scatter",
         "x": [
          null
         ],
         "xaxis": "x",
         "y": [
          null
         ],
         "yaxis": "y"
        },
        {
         "hovertemplate": "index=inception_resnet_v2_ArcFace_AdamW<br>Accuracy=%{x}<br>Disparity=%{y}<extra></extra>",
         "legendgroup": "inception_resnet_v2_ArcFace_AdamW",
         "marker": {
          "color": "#FECB52",
          "symbol": "circle"
         },
         "mode": "markers",
         "name": "inception_resnet_v2_ArcFace_AdamW",
         "orientation": "v",
         "showlegend": true,
         "type": "scatter",
         "x": [
          0.5828968046097434
         ],
         "xaxis": "x",
         "y": [
          3.345206914614981
         ],
         "yaxis": "y"
        },
        {
         "hovertemplate": "index=inception_resnet_v2_ArcFace_AdamW_0.001_cosine<br>Accuracy=%{x}<br>Disparity=%{y}<extra></extra>",
         "legendgroup": "inception_resnet_v2_ArcFace_AdamW_0.001_cosine",
         "marker": {
          "color": "#636efa",
          "symbol": "circle"
         },
         "mode": "markers",
         "name": "inception_resnet_v2_ArcFace_AdamW_0.001_cosine",
         "orientation": "v",
         "showlegend": true,
         "type": "scatter",
         "x": [
          0.5222629649030907
         ],
         "xaxis": "x",
         "y": [
          5.167627029858564
         ],
         "yaxis": "y"
        },
        {
         "hovertemplate": "index=inception_resnet_v2_ArcFace_SGD<br>Accuracy=%{x}<br>Disparity=%{y}<extra></extra>",
         "legendgroup": "inception_resnet_v2_ArcFace_SGD",
         "marker": {
          "color": "#EF553B",
          "symbol": "circle"
         },
         "mode": "markers",
         "name": "inception_resnet_v2_ArcFace_SGD",
         "orientation": "v",
         "showlegend": true,
         "type": "scatter",
         "x": [
          0.6291906757464641
         ],
         "xaxis": "x",
         "y": [
          4.448271346254583
         ],
         "yaxis": "y"
        },
        {
         "hovertemplate": "index=inception_resnet_v2_ArcFace_SGD_0.1_cosine<br>Accuracy=%{x}<br>Disparity=%{y}<extra></extra>",
         "legendgroup": "inception_resnet_v2_ArcFace_SGD_0.1_cosine",
         "marker": {
          "color": "#00cc96",
          "symbol": "circle"
         },
         "mode": "markers",
         "name": "inception_resnet_v2_ArcFace_SGD_0.1_cosine",
         "orientation": "v",
         "showlegend": true,
         "type": "scatter",
         "x": [
          0.7663698271346254
         ],
         "xaxis": "x",
         "y": [
          2.4223415400733366
         ],
         "yaxis": "y"
        },
        {
         "hovertemplate": "index=inception_resnet_v2_CosFace_AdamW<br>Accuracy=%{x}<br>Disparity=%{y}<extra></extra>",
         "legendgroup": "inception_resnet_v2_CosFace_AdamW",
         "marker": {
          "color": "#ab63fa",
          "symbol": "circle"
         },
         "mode": "markers",
         "name": "inception_resnet_v2_CosFace_AdamW",
         "orientation": "v",
         "showlegend": true,
         "type": "scatter",
         "x": [
          0.3449449973808277
         ],
         "xaxis": "x",
         "y": [
          7.024751178627552
         ],
         "yaxis": "y"
        },
        {
         "hovertemplate": "index=inception_resnet_v2_CosFace_AdamW_0.001_cosine<br>Accuracy=%{x}<br>Disparity=%{y}<extra></extra>",
         "legendgroup": "inception_resnet_v2_CosFace_AdamW_0.001_cosine",
         "marker": {
          "color": "#FFA15A",
          "symbol": "circle"
         },
         "mode": "markers",
         "name": "inception_resnet_v2_CosFace_AdamW_0.001_cosine",
         "orientation": "v",
         "showlegend": true,
         "type": "scatter",
         "x": [
          0.7885018334206391
         ],
         "xaxis": "x",
         "y": [
          0.07242011524358283
         ],
         "yaxis": "y"
        },
        {
         "hovertemplate": "index=inception_resnet_v2_CosFace_RMSProp<br>Accuracy=%{x}<br>Disparity=%{y}<extra></extra>",
         "legendgroup": "inception_resnet_v2_CosFace_RMSProp",
         "marker": {
          "color": "#19d3f3",
          "symbol": "circle"
         },
         "mode": "markers",
         "name": "inception_resnet_v2_CosFace_RMSProp",
         "orientation": "v",
         "showlegend": true,
         "type": "scatter",
         "x": [
          0
         ],
         "xaxis": "x",
         "y": [
          9.567705605028777
         ],
         "yaxis": "y"
        },
        {
         "hovertemplate": "index=inception_resnet_v2_CosFace_SGD<br>Accuracy=%{x}<br>Disparity=%{y}<extra></extra>",
         "legendgroup": "inception_resnet_v2_CosFace_SGD",
         "marker": {
          "color": "#FF6692",
          "symbol": "circle"
         },
         "mode": "markers",
         "name": "inception_resnet_v2_CosFace_SGD",
         "orientation": "v",
         "showlegend": true,
         "type": "scatter",
         "x": [
          0.8175746464117339
         ],
         "xaxis": "x",
         "y": [
          1.6018858040859092
         ],
         "yaxis": "y"
        },
        {
         "hovertemplate": "index=inception_resnet_v2_CosFace_SGD_0.1_cosine<br>Accuracy=%{x}<br>Disparity=%{y}<extra></extra>",
         "legendgroup": "inception_resnet_v2_CosFace_SGD_0.1_cosine",
         "marker": {
          "color": "#B6E880",
          "symbol": "circle"
         },
         "mode": "markers",
         "name": "inception_resnet_v2_CosFace_SGD_0.1_cosine",
         "orientation": "v",
         "showlegend": true,
         "type": "scatter",
         "x": [
          0.7990440020953379
         ],
         "xaxis": "x",
         "y": [
          0.313383970665269
         ],
         "yaxis": "y"
        },
        {
         "hovertemplate": "index=inception_resnet_v2_MagFace_AdamW<br>Accuracy=%{x}<br>Disparity=%{y}<extra></extra>",
         "legendgroup": "inception_resnet_v2_MagFace_AdamW",
         "marker": {
          "color": "#FF97FF",
          "symbol": "circle"
         },
         "mode": "markers",
         "name": "inception_resnet_v2_MagFace_AdamW",
         "orientation": "v",
         "showlegend": true,
         "type": "scatter",
         "x": [
          0.6820324777370351
         ],
         "xaxis": "x",
         "y": [
          2.7663698271346258
         ],
         "yaxis": "y"
        },
        {
         "hovertemplate": "index=inception_resnet_v2_MagFace_AdamW_0.001_cosine<br>Accuracy=%{x}<br>Disparity=%{y}<extra></extra>",
         "legendgroup": "inception_resnet_v2_MagFace_AdamW_0.001_cosine",
         "marker": {
          "color": "#FECB52",
          "symbol": "circle"
         },
         "mode": "markers",
         "name": "inception_resnet_v2_MagFace_AdamW_0.001_cosine",
         "orientation": "v",
         "showlegend": true,
         "type": "scatter",
         "x": [
          0.5311026715557884
         ],
         "xaxis": "x",
         "y": [
          5.2575955997904655
         ],
         "yaxis": "y"
        },
        {
         "hovertemplate": "index=inception_resnet_v2_MagFace_SGD<br>Accuracy=%{x}<br>Disparity=%{y}<extra></extra>",
         "legendgroup": "inception_resnet_v2_MagFace_SGD",
         "marker": {
          "color": "#636efa",
          "symbol": "circle"
         },
         "mode": "markers",
         "name": "inception_resnet_v2_MagFace_SGD",
         "orientation": "v",
         "showlegend": true,
         "type": "scatter",
         "x": [
          0.8442902042954427
         ],
         "xaxis": "x",
         "y": [
          3.264798323729701
         ],
         "yaxis": "y"
        },
        {
         "hovertemplate": "index=inception_resnet_v2_MagFace_SGD_0.1_cosine<br>Accuracy=%{x}<br>Disparity=%{y}<extra></extra>",
         "legendgroup": "inception_resnet_v2_MagFace_SGD_0.1_cosine",
         "marker": {
          "color": "#EF553B",
          "symbol": "circle"
         },
         "mode": "markers",
         "name": "inception_resnet_v2_MagFace_SGD_0.1_cosine",
         "orientation": "v",
         "showlegend": true,
         "type": "scatter",
         "x": [
          0.8224855945521216
         ],
         "xaxis": "x",
         "y": [
          2.936485070717653
         ],
         "yaxis": "y"
        },
        {
         "hovertemplate": "index=inception_v4_ArcFace_AdamW<br>Accuracy=%{x}<br>Disparity=%{y}<extra></extra>",
         "legendgroup": "inception_v4_ArcFace_AdamW",
         "marker": {
          "color": "#00cc96",
          "symbol": "circle"
         },
         "mode": "markers",
         "name": "inception_v4_ArcFace_AdamW",
         "orientation": "v",
         "showlegend": true,
         "type": "scatter",
         "x": [
          0.6633053954950235
         ],
         "xaxis": "x",
         "y": [
          2.6096123624934524
         ],
         "yaxis": "y"
        },
        {
         "hovertemplate": "index=inception_v4_ArcFace_AdamW_0.001_cosine<br>Accuracy=%{x}<br>Disparity=%{y}<extra></extra>",
         "legendgroup": "inception_v4_ArcFace_AdamW_0.001_cosine",
         "marker": {
          "color": "#ab63fa",
          "symbol": "circle"
         },
         "mode": "markers",
         "name": "inception_v4_ArcFace_AdamW_0.001_cosine",
         "orientation": "v",
         "showlegend": true,
         "type": "scatter",
         "x": [
          0.6136066003143007
         ],
         "xaxis": "x",
         "y": [
          3.291513881613411
         ],
         "yaxis": "y"
        },
        {
         "hovertemplate": "index=inception_v4_ArcFace_SGD<br>Accuracy=%{x}<br>Disparity=%{y}<extra></extra>",
         "legendgroup": "inception_v4_ArcFace_SGD",
         "marker": {
          "color": "#FFA15A",
          "symbol": "circle"
         },
         "mode": "markers",
         "name": "inception_v4_ArcFace_SGD",
         "orientation": "v",
         "showlegend": true,
         "type": "scatter",
         "x": [
          0.3784049240440021
         ],
         "xaxis": "x",
         "y": [
          18.130565741225773
         ],
         "yaxis": "y"
        },
        {
         "hovertemplate": "index=inception_v4_ArcFace_SGD_0.1_cosine<br>Accuracy=%{x}<br>Disparity=%{y}<extra></extra>",
         "legendgroup": "inception_v4_ArcFace_SGD_0.1_cosine",
         "marker": {
          "color": "#19d3f3",
          "symbol": "circle"
         },
         "mode": "markers",
         "name": "inception_v4_ArcFace_SGD_0.1_cosine",
         "orientation": "v",
         "showlegend": true,
         "type": "scatter",
         "x": [
          0.44146149816657937
         ],
         "xaxis": "x",
         "y": [
          8.598611838658984
         ],
         "yaxis": "y"
        },
        {
         "hovertemplate": "index=inception_v4_CosFace_AdamW<br>Accuracy=%{x}<br>Disparity=%{y}<extra></extra>",
         "legendgroup": "inception_v4_CosFace_AdamW",
         "marker": {
          "color": "#FF6692",
          "symbol": "circle"
         },
         "mode": "markers",
         "name": "inception_v4_CosFace_AdamW",
         "orientation": "v",
         "showlegend": true,
         "type": "scatter",
         "x": [
          0.2814955474070194
         ],
         "xaxis": "x",
         "y": [
          6.4559979046621265
         ],
         "yaxis": "y"
        },
        {
         "hovertemplate": "index=inception_v4_CosFace_AdamW_0.001_cosine<br>Accuracy=%{x}<br>Disparity=%{y}<extra></extra>",
         "legendgroup": "inception_v4_CosFace_AdamW_0.001_cosine",
         "marker": {
          "color": "#B6E880",
          "symbol": "circle"
         },
         "mode": "markers",
         "name": "inception_v4_CosFace_AdamW_0.001_cosine",
         "orientation": "v",
         "showlegend": true,
         "type": "scatter",
         "x": [
          0.3918936616029335
         ],
         "xaxis": "x",
         "y": [
          8.628339444735463
         ],
         "yaxis": "y"
        },
        {
         "hovertemplate": "index=inception_v4_CosFace_RMSProp<br>Accuracy=%{x}<br>Disparity=%{y}<extra></extra>",
         "legendgroup": "inception_v4_CosFace_RMSProp",
         "marker": {
          "color": "#FF97FF",
          "symbol": "circle"
         },
         "mode": "markers",
         "name": "inception_v4_CosFace_RMSProp",
         "orientation": "v",
         "showlegend": true,
         "type": "scatter",
         "x": [
          0
         ],
         "xaxis": "x",
         "y": [
          0.1571503404924215
         ],
         "yaxis": "y"
        },
        {
         "hovertemplate": "index=inception_v4_CosFace_SGD<br>Accuracy=%{x}<br>Disparity=%{y}<extra></extra>",
         "legendgroup": "inception_v4_CosFace_SGD",
         "marker": {
          "color": "#FECB52",
          "symbol": "circle"
         },
         "mode": "markers",
         "name": "inception_v4_CosFace_SGD",
         "orientation": "v",
         "showlegend": true,
         "type": "scatter",
         "x": [
          0.4126506024096386
         ],
         "xaxis": "x",
         "y": [
          19.196437925615506
         ],
         "yaxis": "y"
        },
        {
         "hovertemplate": "index=inception_v4_CosFace_SGD_0.1_cosine<br>Accuracy=%{x}<br>Disparity=%{y}<extra></extra>",
         "legendgroup": "inception_v4_CosFace_SGD_0.1_cosine",
         "marker": {
          "color": "#636efa",
          "symbol": "circle"
         },
         "mode": "markers",
         "name": "inception_v4_CosFace_SGD_0.1_cosine",
         "orientation": "v",
         "showlegend": true,
         "type": "scatter",
         "x": [
          0.5387637506547931
         ],
         "xaxis": "x",
         "y": [
          6.307752750130959
         ],
         "yaxis": "y"
        },
        {
         "hovertemplate": "index=inception_v4_MagFace_AdamW<br>Accuracy=%{x}<br>Disparity=%{y}<extra></extra>",
         "legendgroup": "inception_v4_MagFace_AdamW",
         "marker": {
          "color": "#EF553B",
          "symbol": "circle"
         },
         "mode": "markers",
         "name": "inception_v4_MagFace_AdamW",
         "orientation": "v",
         "showlegend": true,
         "type": "scatter",
         "x": [
          0.729766893661603
         ],
         "xaxis": "x",
         "y": [
          2.09180199057098
         ],
         "yaxis": "y"
        },
        {
         "hovertemplate": "index=inception_v4_MagFace_AdamW_0.001_cosine<br>Accuracy=%{x}<br>Disparity=%{y}<extra></extra>",
         "legendgroup": "inception_v4_MagFace_AdamW_0.001_cosine",
         "marker": {
          "color": "#00cc96",
          "symbol": "circle"
         },
         "mode": "markers",
         "name": "inception_v4_MagFace_AdamW_0.001_cosine",
         "orientation": "v",
         "showlegend": true,
         "type": "scatter",
         "x": [
          0.6744368779465689
         ],
         "xaxis": "x",
         "y": [
          3.2420115243583023
         ],
         "yaxis": "y"
        },
        {
         "hovertemplate": "index=inception_v4_MagFace_SGD<br>Accuracy=%{x}<br>Disparity=%{y}<extra></extra>",
         "legendgroup": "inception_v4_MagFace_SGD",
         "marker": {
          "color": "#ab63fa",
          "symbol": "circle"
         },
         "mode": "markers",
         "name": "inception_v4_MagFace_SGD",
         "orientation": "v",
         "showlegend": true,
         "type": "scatter",
         "x": [
          0.5758905185961236
         ],
         "xaxis": "x",
         "y": [
          5.74476165531692
         ],
         "yaxis": "y"
        },
        {
         "hovertemplate": "index=inception_v4_MagFace_SGD_0.1_cosine<br>Accuracy=%{x}<br>Disparity=%{y}<extra></extra>",
         "legendgroup": "inception_v4_MagFace_SGD_0.1_cosine",
         "marker": {
          "color": "#FFA15A",
          "symbol": "circle"
         },
         "mode": "markers",
         "name": "inception_v4_MagFace_SGD_0.1_cosine",
         "orientation": "v",
         "showlegend": true,
         "type": "scatter",
         "x": [
          0.6630434782608695
         ],
         "xaxis": "x",
         "y": [
          2.9773441592456784
         ],
         "yaxis": "y"
        },
        {
         "hovertemplate": "index=jx_nest_base_ArcFace_AdamW_0.001_cosine<br>Accuracy=%{x}<br>Disparity=%{y}<extra></extra>",
         "legendgroup": "jx_nest_base_ArcFace_AdamW_0.001_cosine",
         "marker": {
          "color": "#19d3f3",
          "symbol": "circle"
         },
         "mode": "markers",
         "name": "jx_nest_base_ArcFace_AdamW_0.001_cosine",
         "orientation": "v",
         "showlegend": true,
         "type": "scatter",
         "x": [
          0
         ],
         "xaxis": "x",
         "y": [
          0
         ],
         "yaxis": "y"
        },
        {
         "hovertemplate": "index=jx_nest_base_ArcFace_SGD_0.1_cosine<br>Accuracy=%{x}<br>Disparity=%{y}<extra></extra>",
         "legendgroup": "jx_nest_base_ArcFace_SGD_0.1_cosine",
         "marker": {
          "color": "#FF6692",
          "symbol": "circle"
         },
         "mode": "markers",
         "name": "jx_nest_base_ArcFace_SGD_0.1_cosine",
         "orientation": "v",
         "showlegend": true,
         "type": "scatter",
         "x": [
          0
         ],
         "xaxis": "x",
         "y": [
          0
         ],
         "yaxis": "y"
        },
        {
         "hovertemplate": "index=jx_nest_base_CosFace_AdamW_0.001_cosine<br>Accuracy=%{x}<br>Disparity=%{y}<extra></extra>",
         "legendgroup": "jx_nest_base_CosFace_AdamW_0.001_cosine",
         "marker": {
          "color": "#B6E880",
          "symbol": "circle"
         },
         "mode": "markers",
         "name": "jx_nest_base_CosFace_AdamW_0.001_cosine",
         "orientation": "v",
         "showlegend": true,
         "type": "scatter",
         "x": [
          0.8673389209009953
         ],
         "xaxis": "x",
         "y": [
          3.6498166579360927
         ],
         "yaxis": "y"
        },
        {
         "hovertemplate": "index=jx_nest_base_CosFace_SGD_0.1_cosine<br>Accuracy=%{x}<br>Disparity=%{y}<extra></extra>",
         "legendgroup": "jx_nest_base_CosFace_SGD_0.1_cosine",
         "marker": {
          "color": "#FF97FF",
          "symbol": "circle"
         },
         "mode": "markers",
         "name": "jx_nest_base_CosFace_SGD_0.1_cosine",
         "orientation": "v",
         "showlegend": true,
         "type": "scatter",
         "x": [
          0
         ],
         "xaxis": "x",
         "y": [
          0
         ],
         "yaxis": "y"
        },
        {
         "hovertemplate": "index=jx_nest_base_MagFace_AdamW_0.001_cosine<br>Accuracy=%{x}<br>Disparity=%{y}<extra></extra>",
         "legendgroup": "jx_nest_base_MagFace_AdamW_0.001_cosine",
         "marker": {
          "color": "#FECB52",
          "symbol": "circle"
         },
         "mode": "markers",
         "name": "jx_nest_base_MagFace_AdamW_0.001_cosine",
         "orientation": "v",
         "showlegend": true,
         "type": "scatter",
         "x": [
          0
         ],
         "xaxis": "x",
         "y": [
          0
         ],
         "yaxis": "y"
        },
        {
         "hovertemplate": "index=vgg19_ArcFace_SGD<br>Accuracy=%{x}<br>Disparity=%{y}<extra></extra>",
         "legendgroup": "vgg19_ArcFace_SGD",
         "marker": {
          "color": "#636efa",
          "symbol": "circle"
         },
         "mode": "markers",
         "name": "vgg19_ArcFace_SGD",
         "orientation": "v",
         "showlegend": true,
         "type": "scatter",
         "x": [
          0.6035227867993714
         ],
         "xaxis": "x",
         "y": [
          3.7747511786275547
         ],
         "yaxis": "y"
        },
        {
         "hovertemplate": "index=jx_nest_base_MagFace_SGD_0.1_cosine<br>Accuracy=%{x}<br>Disparity=%{y}<extra></extra>",
         "legendgroup": "jx_nest_base_MagFace_SGD_0.1_cosine",
         "marker": {
          "color": "#EF553B",
          "symbol": "circle"
         },
         "mode": "markers",
         "name": "jx_nest_base_MagFace_SGD_0.1_cosine",
         "orientation": "v",
         "showlegend": true,
         "type": "scatter",
         "x": [
          0
         ],
         "xaxis": "x",
         "y": [
          0
         ],
         "yaxis": "y"
        },
        {
         "hovertemplate": "index=legacy_senet154_ArcFace_AdamW<br>Accuracy=%{x}<br>Disparity=%{y}<extra></extra>",
         "legendgroup": "legacy_senet154_ArcFace_AdamW",
         "marker": {
          "color": "#00cc96",
          "symbol": "circle"
         },
         "mode": "markers",
         "name": "legacy_senet154_ArcFace_AdamW",
         "orientation": "v",
         "showlegend": true,
         "type": "scatter",
         "x": [
          0.7569408067050812
         ],
         "xaxis": "x",
         "y": [
          2.346123624934521
         ],
         "yaxis": "y"
        },
        {
         "hovertemplate": "index=legacy_senet154_ArcFace_AdamW_0.001_cosine<br>Accuracy=%{x}<br>Disparity=%{y}<extra></extra>",
         "legendgroup": "legacy_senet154_ArcFace_AdamW_0.001_cosine",
         "marker": {
          "color": "#ab63fa",
          "symbol": "circle"
         },
         "mode": "markers",
         "name": "legacy_senet154_ArcFace_AdamW_0.001_cosine",
         "orientation": "v",
         "showlegend": true,
         "type": "scatter",
         "x": [
          0.5202985856469355
         ],
         "xaxis": "x",
         "y": [
          4.150078575170245
         ],
         "yaxis": "y"
        },
        {
         "hovertemplate": "index=legacy_senet154_ArcFace_SGD<br>Accuracy=%{x}<br>Disparity=%{y}<extra></extra>",
         "legendgroup": "legacy_senet154_ArcFace_SGD",
         "marker": {
          "color": "#FFA15A",
          "symbol": "circle"
         },
         "mode": "markers",
         "name": "legacy_senet154_ArcFace_SGD",
         "orientation": "v",
         "showlegend": true,
         "type": "scatter",
         "x": [
          0
         ],
         "xaxis": "x",
         "y": [
          0
         ],
         "yaxis": "y"
        },
        {
         "hovertemplate": "index=legacy_senet154_ArcFace_SGD_0.1_cosine<br>Accuracy=%{x}<br>Disparity=%{y}<extra></extra>",
         "legendgroup": "legacy_senet154_ArcFace_SGD_0.1_cosine",
         "marker": {
          "color": "#19d3f3",
          "symbol": "circle"
         },
         "mode": "markers",
         "name": "legacy_senet154_ArcFace_SGD_0.1_cosine",
         "orientation": "v",
         "showlegend": true,
         "type": "scatter",
         "x": [
          0.44820586694604503
         ],
         "xaxis": "x",
         "y": [
          2.3926139339968557
         ],
         "yaxis": "y"
        },
        {
         "hovertemplate": "index=legacy_senet154_CosFace_AdamW<br>Accuracy=%{x}<br>Disparity=%{y}<extra></extra>",
         "legendgroup": "legacy_senet154_CosFace_AdamW",
         "marker": {
          "color": "#FF6692",
          "symbol": "circle"
         },
         "mode": "markers",
         "name": "legacy_senet154_CosFace_AdamW",
         "orientation": "v",
         "showlegend": true,
         "type": "scatter",
         "x": [
          0.7721320062860136
         ],
         "xaxis": "x",
         "y": [
          1.8167888947092727
         ],
         "yaxis": "y"
        },
        {
         "hovertemplate": "index=legacy_senet154_CosFace_AdamW_0.001_cosine<br>Accuracy=%{x}<br>Disparity=%{y}<extra></extra>",
         "legendgroup": "legacy_senet154_CosFace_AdamW_0.001_cosine",
         "marker": {
          "color": "#B6E880",
          "symbol": "circle"
         },
         "mode": "markers",
         "name": "legacy_senet154_CosFace_AdamW_0.001_cosine",
         "orientation": "v",
         "showlegend": true,
         "type": "scatter",
         "x": [
          0.5456390780513358
         ],
         "xaxis": "x",
         "y": [
          7.168936616029335
         ],
         "yaxis": "y"
        },
        {
         "hovertemplate": "index=legacy_senet154_CosFace_SGD<br>Accuracy=%{x}<br>Disparity=%{y}<extra></extra>",
         "legendgroup": "legacy_senet154_CosFace_SGD",
         "marker": {
          "color": "#FF97FF",
          "symbol": "circle"
         },
         "mode": "markers",
         "name": "legacy_senet154_CosFace_SGD",
         "orientation": "v",
         "showlegend": true,
         "type": "scatter",
         "x": [
          0.8014667365112624
         ],
         "xaxis": "x",
         "y": [
          2.4541644840230488
         ],
         "yaxis": "y"
        },
        {
         "hovertemplate": "index=legacy_senet154_CosFace_SGD_0.1_cosine<br>Accuracy=%{x}<br>Disparity=%{y}<extra></extra>",
         "legendgroup": "legacy_senet154_CosFace_SGD_0.1_cosine",
         "marker": {
          "color": "#FECB52",
          "symbol": "circle"
         },
         "mode": "markers",
         "name": "legacy_senet154_CosFace_SGD_0.1_cosine",
         "orientation": "v",
         "showlegend": true,
         "type": "scatter",
         "x": [
          0.7341540073336825
         ],
         "xaxis": "x",
         "y": [
          3.1970927187008904
         ],
         "yaxis": "y"
        },
        {
         "hovertemplate": "index=legacy_senet154_MagFace_AdamW<br>Accuracy=%{x}<br>Disparity=%{y}<extra></extra>",
         "legendgroup": "legacy_senet154_MagFace_AdamW",
         "marker": {
          "color": "#636efa",
          "symbol": "circle"
         },
         "mode": "markers",
         "name": "legacy_senet154_MagFace_AdamW",
         "orientation": "v",
         "showlegend": true,
         "type": "scatter",
         "x": [
          0.8154138292299633
         ],
         "xaxis": "x",
         "y": [
          1.6530906233630174
         ],
         "yaxis": "y"
        },
        {
         "hovertemplate": "index=legacy_senet154_MagFace_AdamW_0.001_cosine<br>Accuracy=%{x}<br>Disparity=%{y}<extra></extra>",
         "legendgroup": "legacy_senet154_MagFace_AdamW_0.001_cosine",
         "marker": {
          "color": "#EF553B",
          "symbol": "circle"
         },
         "mode": "markers",
         "name": "legacy_senet154_MagFace_AdamW_0.001_cosine",
         "orientation": "v",
         "showlegend": true,
         "type": "scatter",
         "x": [
          0.5726820324777371
         ],
         "xaxis": "x",
         "y": [
          3.9269250916710323
         ],
         "yaxis": "y"
        },
        {
         "hovertemplate": "index=legacy_senet154_MagFace_SGD<br>Accuracy=%{x}<br>Disparity=%{y}<extra></extra>",
         "legendgroup": "legacy_senet154_MagFace_SGD",
         "marker": {
          "color": "#00cc96",
          "symbol": "circle"
         },
         "mode": "markers",
         "name": "legacy_senet154_MagFace_SGD",
         "orientation": "v",
         "showlegend": true,
         "type": "scatter",
         "x": [
          0.6019512833944474
         ],
         "xaxis": "x",
         "y": [
          3.7073074908328962
         ],
         "yaxis": "y"
        },
        {
         "hovertemplate": "index=legacy_senet154_MagFace_SGD_0.1_cosine<br>Accuracy=%{x}<br>Disparity=%{y}<extra></extra>",
         "legendgroup": "legacy_senet154_MagFace_SGD_0.1_cosine",
         "marker": {
          "color": "#ab63fa",
          "symbol": "circle"
         },
         "mode": "markers",
         "name": "legacy_senet154_MagFace_SGD_0.1_cosine",
         "orientation": "v",
         "showlegend": true,
         "type": "scatter",
         "x": [
          0.5996595075955998
         ],
         "xaxis": "x",
         "y": [
          3.9235201676270304
         ],
         "yaxis": "y"
        },
        {
         "hovertemplate": "index=mobilenetv3_large_100_ArcFace_AdamW<br>Accuracy=%{x}<br>Disparity=%{y}<extra></extra>",
         "legendgroup": "mobilenetv3_large_100_ArcFace_AdamW",
         "marker": {
          "color": "#FFA15A",
          "symbol": "circle"
         },
         "mode": "markers",
         "name": "mobilenetv3_large_100_ArcFace_AdamW",
         "orientation": "v",
         "showlegend": true,
         "type": "scatter",
         "x": [
          0
         ],
         "xaxis": "x",
         "y": [
          0
         ],
         "yaxis": "y"
        },
        {
         "hovertemplate": "index=mobilenetv3_large_100_ArcFace_AdamW_0.001_cosine<br>Accuracy=%{x}<br>Disparity=%{y}<extra></extra>",
         "legendgroup": "mobilenetv3_large_100_ArcFace_AdamW_0.001_cosine",
         "marker": {
          "color": "#19d3f3",
          "symbol": "circle"
         },
         "mode": "markers",
         "name": "mobilenetv3_large_100_ArcFace_AdamW_0.001_cosine",
         "orientation": "v",
         "showlegend": true,
         "type": "scatter",
         "x": [
          0.009756416972236772
         ],
         "xaxis": "x",
         "y": [
          8.59154007333683
         ],
         "yaxis": "y"
        },
        {
         "hovertemplate": "index=mobilenetv3_large_100_ArcFace_SGD<br>Accuracy=%{x}<br>Disparity=%{y}<extra></extra>",
         "legendgroup": "mobilenetv3_large_100_ArcFace_SGD",
         "marker": {
          "color": "#FF6692",
          "symbol": "circle"
         },
         "mode": "markers",
         "name": "mobilenetv3_large_100_ArcFace_SGD",
         "orientation": "v",
         "showlegend": true,
         "type": "scatter",
         "x": [
          0.08531953902566788
         ],
         "xaxis": "x",
         "y": [
          18.967522262964906
         ],
         "yaxis": "y"
        },
        {
         "hovertemplate": "index=mobilenetv3_large_100_ArcFace_SGD_0.1_cosine<br>Accuracy=%{x}<br>Disparity=%{y}<extra></extra>",
         "legendgroup": "mobilenetv3_large_100_ArcFace_SGD_0.1_cosine",
         "marker": {
          "color": "#B6E880",
          "symbol": "circle"
         },
         "mode": "markers",
         "name": "mobilenetv3_large_100_ArcFace_SGD_0.1_cosine",
         "orientation": "v",
         "showlegend": true,
         "type": "scatter",
         "x": [
          0.06364588789942378
         ],
         "xaxis": "x",
         "y": [
          19.825301204819283
         ],
         "yaxis": "y"
        },
        {
         "hovertemplate": "index=mobilenetv3_large_100_CosFace_AdamW<br>Accuracy=%{x}<br>Disparity=%{y}<extra></extra>",
         "legendgroup": "mobilenetv3_large_100_CosFace_AdamW",
         "marker": {
          "color": "#FF97FF",
          "symbol": "circle"
         },
         "mode": "markers",
         "name": "mobilenetv3_large_100_CosFace_AdamW",
         "orientation": "v",
         "showlegend": true,
         "type": "scatter",
         "x": [
          0.782608695652174
         ],
         "xaxis": "x",
         "y": [
          1.3607909900471453
         ],
         "yaxis": "y"
        },
        {
         "hovertemplate": "index=mobilenetv3_large_100_CosFace_AdamW_0.001_cosine<br>Accuracy=%{x}<br>Disparity=%{y}<extra></extra>",
         "legendgroup": "mobilenetv3_large_100_CosFace_AdamW_0.001_cosine",
         "marker": {
          "color": "#FECB52",
          "symbol": "circle"
         },
         "mode": "markers",
         "name": "mobilenetv3_large_100_CosFace_AdamW_0.001_cosine",
         "orientation": "v",
         "showlegend": true,
         "type": "scatter",
         "x": [
          0.8564693556836039
         ],
         "xaxis": "x",
         "y": [
          2.939366160293347
         ],
         "yaxis": "y"
        },
        {
         "hovertemplate": "index=mobilenetv3_large_100_CosFace_RMSpropTF<br>Accuracy=%{x}<br>Disparity=%{y}<extra></extra>",
         "legendgroup": "mobilenetv3_large_100_CosFace_RMSpropTF",
         "marker": {
          "color": "#636efa",
          "symbol": "circle"
         },
         "mode": "markers",
         "name": "mobilenetv3_large_100_CosFace_RMSpropTF",
         "orientation": "v",
         "showlegend": true,
         "type": "scatter",
         "x": [
          0.7873886851754845
         ],
         "xaxis": "x",
         "y": [
          1.6486380303823989
         ],
         "yaxis": "y"
        },
        {
         "hovertemplate": "index=mobilenetv3_large_100_CosFace_SGD<br>Accuracy=%{x}<br>Disparity=%{y}<extra></extra>",
         "legendgroup": "mobilenetv3_large_100_CosFace_SGD",
         "marker": {
          "color": "#EF553B",
          "symbol": "circle"
         },
         "mode": "markers",
         "name": "mobilenetv3_large_100_CosFace_SGD",
         "orientation": "v",
         "showlegend": true,
         "type": "scatter",
         "x": [
          0.8637375589313777
         ],
         "xaxis": "x",
         "y": [
          2.190020953378733
         ],
         "yaxis": "y"
        },
        {
         "hovertemplate": "index=mobilenetv3_large_100_CosFace_SGD_0.1_cosine<br>Accuracy=%{x}<br>Disparity=%{y}<extra></extra>",
         "legendgroup": "mobilenetv3_large_100_CosFace_SGD_0.1_cosine",
         "marker": {
          "color": "#00cc96",
          "symbol": "circle"
         },
         "mode": "markers",
         "name": "mobilenetv3_large_100_CosFace_SGD_0.1_cosine",
         "orientation": "v",
         "showlegend": true,
         "type": "scatter",
         "x": [
          0.8652435830277633
         ],
         "xaxis": "x",
         "y": [
          1.3036930330015712
         ],
         "yaxis": "y"
        },
        {
         "hovertemplate": "index=mobilenetv3_large_100_MagFace_AdamW<br>Accuracy=%{x}<br>Disparity=%{y}<extra></extra>",
         "legendgroup": "mobilenetv3_large_100_MagFace_AdamW",
         "marker": {
          "color": "#ab63fa",
          "symbol": "circle"
         },
         "mode": "markers",
         "name": "mobilenetv3_large_100_MagFace_AdamW",
         "orientation": "v",
         "showlegend": true,
         "type": "scatter",
         "x": [
          0.5817836563645888
         ],
         "xaxis": "x",
         "y": [
          3.6909376636982723
         ],
         "yaxis": "y"
        },
        {
         "hovertemplate": "index=mobilenetv3_large_100_MagFace_AdamW_0.001_cosine<br>Accuracy=%{x}<br>Disparity=%{y}<extra></extra>",
         "legendgroup": "mobilenetv3_large_100_MagFace_AdamW_0.001_cosine",
         "marker": {
          "color": "#FFA15A",
          "symbol": "circle"
         },
         "mode": "markers",
         "name": "mobilenetv3_large_100_MagFace_AdamW_0.001_cosine",
         "orientation": "v",
         "showlegend": true,
         "type": "scatter",
         "x": [
          0.5661341016238869
         ],
         "xaxis": "x",
         "y": [
          3.785751702462022
         ],
         "yaxis": "y"
        },
        {
         "hovertemplate": "index=mobilenetv3_large_100_MagFace_SGD<br>Accuracy=%{x}<br>Disparity=%{y}<extra></extra>",
         "legendgroup": "mobilenetv3_large_100_MagFace_SGD",
         "marker": {
          "color": "#19d3f3",
          "symbol": "circle"
         },
         "mode": "markers",
         "name": "mobilenetv3_large_100_MagFace_SGD",
         "orientation": "v",
         "showlegend": true,
         "type": "scatter",
         "x": [
          0.8633446830801467
         ],
         "xaxis": "x",
         "y": [
          2.535096909376637
         ],
         "yaxis": "y"
        },
        {
         "hovertemplate": "index=mobilenetv3_large_100_MagFace_SGD_0.1_cosine<br>Accuracy=%{x}<br>Disparity=%{y}<extra></extra>",
         "legendgroup": "mobilenetv3_large_100_MagFace_SGD_0.1_cosine",
         "marker": {
          "color": "#FF6692",
          "symbol": "circle"
         },
         "mode": "markers",
         "name": "mobilenetv3_large_100_MagFace_SGD_0.1_cosine",
         "orientation": "v",
         "showlegend": true,
         "type": "scatter",
         "x": [
          0.8587611314824516
         ],
         "xaxis": "x",
         "y": [
          2.131351492928235
         ],
         "yaxis": "y"
        },
        {
         "hovertemplate": "index=resnet50_ArcFace_SGD_0.1_cosine<br>Accuracy=%{x}<br>Disparity=%{y}<extra></extra>",
         "legendgroup": "resnet50_ArcFace_SGD_0.1_cosine",
         "marker": {
          "color": "#B6E880",
          "symbol": "circle"
         },
         "mode": "markers",
         "name": "resnet50_ArcFace_SGD_0.1_cosine",
         "orientation": "v",
         "showlegend": true,
         "type": "scatter",
         "x": [
          0.6594421162912519
         ],
         "xaxis": "x",
         "y": [
          4.015060240963856
         ],
         "yaxis": "y"
        },
        {
         "hovertemplate": "index=resnet50_CosFace_AdamW_0.001_cosine<br>Accuracy=%{x}<br>Disparity=%{y}<extra></extra>",
         "legendgroup": "resnet50_CosFace_AdamW_0.001_cosine",
         "marker": {
          "color": "#FF97FF",
          "symbol": "circle"
         },
         "mode": "markers",
         "name": "resnet50_CosFace_AdamW_0.001_cosine",
         "orientation": "v",
         "showlegend": true,
         "type": "scatter",
         "x": [
          0.6728653745416449
         ],
         "xaxis": "x",
         "y": [
          0.14745940282870507
         ],
         "yaxis": "y"
        },
        {
         "hovertemplate": "index=resnet50_MagFace_AdamW_0.001_cosine<br>Accuracy=%{x}<br>Disparity=%{y}<extra></extra>",
         "legendgroup": "resnet50_MagFace_AdamW_0.001_cosine",
         "marker": {
          "color": "#FECB52",
          "symbol": "circle"
         },
         "mode": "markers",
         "name": "resnet50_MagFace_AdamW_0.001_cosine",
         "orientation": "v",
         "showlegend": true,
         "type": "scatter",
         "x": [
          0.7002357255107386
         ],
         "xaxis": "x",
         "y": [
          2.7204033525405973
         ],
         "yaxis": "y"
        },
        {
         "hovertemplate": "index=resnet50_MagFace_SGD_0.1_cosine<br>Accuracy=%{x}<br>Disparity=%{y}<extra></extra>",
         "legendgroup": "resnet50_MagFace_SGD_0.1_cosine",
         "marker": {
          "color": "#636efa",
          "symbol": "circle"
         },
         "mode": "markers",
         "name": "resnet50_MagFace_SGD_0.1_cosine",
         "orientation": "v",
         "showlegend": true,
         "type": "scatter",
         "x": [
          0.6658590885280251
         ],
         "xaxis": "x",
         "y": [
          3.5500261917234157
         ],
         "yaxis": "y"
        },
        {
         "hovertemplate": "index=resnetrs101_ArcFace_AdamW<br>Accuracy=%{x}<br>Disparity=%{y}<extra></extra>",
         "legendgroup": "resnetrs101_ArcFace_AdamW",
         "marker": {
          "color": "#EF553B",
          "symbol": "circle"
         },
         "mode": "markers",
         "name": "resnetrs101_ArcFace_AdamW",
         "orientation": "v",
         "showlegend": true,
         "type": "scatter",
         "x": [
          0.731862231534835
         ],
         "xaxis": "x",
         "y": [
          2.5937663698271343
         ],
         "yaxis": "y"
        },
        {
         "hovertemplate": "index=resnetrs101_ArcFace_AdamW_0.001_cosine<br>Accuracy=%{x}<br>Disparity=%{y}<extra></extra>",
         "legendgroup": "resnetrs101_ArcFace_AdamW_0.001_cosine",
         "marker": {
          "color": "#00cc96",
          "symbol": "circle"
         },
         "mode": "markers",
         "name": "resnetrs101_ArcFace_AdamW_0.001_cosine",
         "orientation": "v",
         "showlegend": true,
         "type": "scatter",
         "x": [
          0.5671817705605029
         ],
         "xaxis": "x",
         "y": [
          4.1152435830277625
         ],
         "yaxis": "y"
        },
        {
         "hovertemplate": "index=resnetrs101_ArcFace_SGD<br>Accuracy=%{x}<br>Disparity=%{y}<extra></extra>",
         "legendgroup": "resnetrs101_ArcFace_SGD",
         "marker": {
          "color": "#ab63fa",
          "symbol": "circle"
         },
         "mode": "markers",
         "name": "resnetrs101_ArcFace_SGD",
         "orientation": "v",
         "showlegend": true,
         "type": "scatter",
         "x": [
          0
         ],
         "xaxis": "x",
         "y": [
          0
         ],
         "yaxis": "y"
        },
        {
         "hovertemplate": "index=resnetrs101_ArcFace_SGD_0.1_cosine<br>Accuracy=%{x}<br>Disparity=%{y}<extra></extra>",
         "legendgroup": "resnetrs101_ArcFace_SGD_0.1_cosine",
         "marker": {
          "color": "#FFA15A",
          "symbol": "circle"
         },
         "mode": "markers",
         "name": "resnetrs101_ArcFace_SGD_0.1_cosine",
         "orientation": "v",
         "showlegend": true,
         "type": "scatter",
         "x": [
          0.6580015715034049
         ],
         "xaxis": "x",
         "y": [
          2.597957045573599
         ],
         "yaxis": "y"
        },
        {
         "hovertemplate": "index=resnetrs101_CosFace_AdamW<br>Accuracy=%{x}<br>Disparity=%{y}<extra></extra>",
         "legendgroup": "resnetrs101_CosFace_AdamW",
         "marker": {
          "color": "#19d3f3",
          "symbol": "circle"
         },
         "mode": "markers",
         "name": "resnetrs101_CosFace_AdamW",
         "orientation": "v",
         "showlegend": true,
         "type": "scatter",
         "x": [
          0.8108302776322682
         ],
         "xaxis": "x",
         "y": [
          1.5584075432163438
         ],
         "yaxis": "y"
        },
        {
         "hovertemplate": "index=resnetrs101_CosFace_AdamW_0.001_cosine<br>Accuracy=%{x}<br>Disparity=%{y}<extra></extra>",
         "legendgroup": "resnetrs101_CosFace_AdamW_0.001_cosine",
         "marker": {
          "color": "#FF6692",
          "symbol": "circle"
         },
         "mode": "markers",
         "name": "resnetrs101_CosFace_AdamW_0.001_cosine",
         "orientation": "v",
         "showlegend": true,
         "type": "scatter",
         "x": [
          0.6986642221058146
         ],
         "xaxis": "x",
         "y": [
          1.76794133053955
         ],
         "yaxis": "y"
        },
        {
         "hovertemplate": "index=resnetrs101_CosFace_SGD<br>Accuracy=%{x}<br>Disparity=%{y}<extra></extra>",
         "legendgroup": "resnetrs101_CosFace_SGD",
         "marker": {
          "color": "#B6E880",
          "symbol": "circle"
         },
         "mode": "markers",
         "name": "resnetrs101_CosFace_SGD",
         "orientation": "v",
         "showlegend": true,
         "type": "scatter",
         "x": [
          0.8721843897328444
         ],
         "xaxis": "x",
         "y": [
          2.073467784180199
         ],
         "yaxis": "y"
        },
        {
         "hovertemplate": "index=resnetrs101_CosFace_SGD_0.1_cosine<br>Accuracy=%{x}<br>Disparity=%{y}<extra></extra>",
         "legendgroup": "resnetrs101_CosFace_SGD_0.1_cosine",
         "marker": {
          "color": "#FF97FF",
          "symbol": "circle"
         },
         "mode": "markers",
         "name": "resnetrs101_CosFace_SGD_0.1_cosine",
         "orientation": "v",
         "showlegend": true,
         "type": "scatter",
         "x": [
          0.8034311157674175
         ],
         "xaxis": "x",
         "y": [
          3.0883970665269773
         ],
         "yaxis": "y"
        },
        {
         "hovertemplate": "index=resnetrs101_MagFace_AdamW<br>Accuracy=%{x}<br>Disparity=%{y}<extra></extra>",
         "legendgroup": "resnetrs101_MagFace_AdamW",
         "marker": {
          "color": "#FECB52",
          "symbol": "circle"
         },
         "mode": "markers",
         "name": "resnetrs101_MagFace_AdamW",
         "orientation": "v",
         "showlegend": true,
         "type": "scatter",
         "x": [
          0.8152828706128863
         ],
         "xaxis": "x",
         "y": [
          1.583813514929282
         ],
         "yaxis": "y"
        },
        {
         "hovertemplate": "index=resnetrs101_MagFace_AdamW_0.001_cosine<br>Accuracy=%{x}<br>Disparity=%{y}<extra></extra>",
         "legendgroup": "resnetrs101_MagFace_AdamW_0.001_cosine",
         "marker": {
          "color": "#636efa",
          "symbol": "circle"
         },
         "mode": "markers",
         "name": "resnetrs101_MagFace_AdamW_0.001_cosine",
         "orientation": "v",
         "showlegend": true,
         "type": "scatter",
         "x": [
          0.6483106338397067
         ],
         "xaxis": "x",
         "y": [
          3.5284180199057094
         ],
         "yaxis": "y"
        },
        {
         "hovertemplate": "index=resnetrs101_MagFace_SGD<br>Accuracy=%{x}<br>Disparity=%{y}<extra></extra>",
         "legendgroup": "resnetrs101_MagFace_SGD",
         "marker": {
          "color": "#EF553B",
          "symbol": "circle"
         },
         "mode": "markers",
         "name": "resnetrs101_MagFace_SGD",
         "orientation": "v",
         "showlegend": true,
         "type": "scatter",
         "x": [
          0.8289680460974332
         ],
         "xaxis": "x",
         "y": [
          1.798192771084337
         ],
         "yaxis": "y"
        },
        {
         "hovertemplate": "index=resnetrs101_MagFace_SGD_0.1_cosine<br>Accuracy=%{x}<br>Disparity=%{y}<extra></extra>",
         "legendgroup": "resnetrs101_MagFace_SGD_0.1_cosine",
         "marker": {
          "color": "#00cc96",
          "symbol": "circle"
         },
         "mode": "markers",
         "name": "resnetrs101_MagFace_SGD_0.1_cosine",
         "orientation": "v",
         "showlegend": true,
         "type": "scatter",
         "x": [
          0.590426925091671
         ],
         "xaxis": "x",
         "y": [
          3.6727344159245687
         ],
         "yaxis": "y"
        },
        {
         "hovertemplate": "index=rexnet_200_ArcFace_AdamW<br>Accuracy=%{x}<br>Disparity=%{y}<extra></extra>",
         "legendgroup": "rexnet_200_ArcFace_AdamW",
         "marker": {
          "color": "#ab63fa",
          "symbol": "circle"
         },
         "mode": "markers",
         "name": "rexnet_200_ArcFace_AdamW",
         "orientation": "v",
         "showlegend": true,
         "type": "scatter",
         "x": [
          0.058734939759036146
         ],
         "xaxis": "x",
         "y": [
          17.006678889470933
         ],
         "yaxis": "y"
        },
        {
         "hovertemplate": "index=rexnet_200_ArcFace_AdamW_0.001_cosine<br>Accuracy=%{x}<br>Disparity=%{y}<extra></extra>",
         "legendgroup": "rexnet_200_ArcFace_AdamW_0.001_cosine",
         "marker": {
          "color": "#FFA15A",
          "symbol": "circle"
         },
         "mode": "markers",
         "name": "rexnet_200_ArcFace_AdamW_0.001_cosine",
         "orientation": "v",
         "showlegend": true,
         "type": "scatter",
         "x": [
          0.6803954950235725
         ],
         "xaxis": "x",
         "y": [
          2.5726820324777373
         ],
         "yaxis": "y"
        },
        {
         "hovertemplate": "index=rexnet_200_ArcFace_SGD<br>Accuracy=%{x}<br>Disparity=%{y}<extra></extra>",
         "legendgroup": "rexnet_200_ArcFace_SGD",
         "marker": {
          "color": "#19d3f3",
          "symbol": "circle"
         },
         "mode": "markers",
         "name": "rexnet_200_ArcFace_SGD",
         "orientation": "v",
         "showlegend": true,
         "type": "scatter",
         "x": [
          0.7828706128863279
         ],
         "xaxis": "x",
         "y": [
          2.2221058145625983
         ],
         "yaxis": "y"
        },
        {
         "hovertemplate": "index=rexnet_200_ArcFace_SGD_0.1_cosine<br>Accuracy=%{x}<br>Disparity=%{y}<extra></extra>",
         "legendgroup": "rexnet_200_ArcFace_SGD_0.1_cosine",
         "marker": {
          "color": "#FF6692",
          "symbol": "circle"
         },
         "mode": "markers",
         "name": "rexnet_200_ArcFace_SGD_0.1_cosine",
         "orientation": "v",
         "showlegend": true,
         "type": "scatter",
         "x": [
          0.8129256155055002
         ],
         "xaxis": "x",
         "y": [
          2.3833158721843897
         ],
         "yaxis": "y"
        },
        {
         "hovertemplate": "index=rexnet_200_CosFace_AdamW<br>Accuracy=%{x}<br>Disparity=%{y}<extra></extra>",
         "legendgroup": "rexnet_200_CosFace_AdamW",
         "marker": {
          "color": "#B6E880",
          "symbol": "circle"
         },
         "mode": "markers",
         "name": "rexnet_200_CosFace_AdamW",
         "orientation": "v",
         "showlegend": true,
         "type": "scatter",
         "x": [
          0.030775275013095862
         ],
         "xaxis": "x",
         "y": [
          7.476427448926131
         ],
         "yaxis": "y"
        },
        {
         "hovertemplate": "index=rexnet_200_CosFace_AdamW_0.001_cosine<br>Accuracy=%{x}<br>Disparity=%{y}<extra></extra>",
         "legendgroup": "rexnet_200_CosFace_AdamW_0.001_cosine",
         "marker": {
          "color": "#FF97FF",
          "symbol": "circle"
         },
         "mode": "markers",
         "name": "rexnet_200_CosFace_AdamW_0.001_cosine",
         "orientation": "v",
         "showlegend": true,
         "type": "scatter",
         "x": [
          0.9449973808276585
         ],
         "xaxis": "x",
         "y": [
          2.652435830277632
         ],
         "yaxis": "y"
        },
        {
         "hovertemplate": "index=rexnet_200_CosFace_SGD<br>Accuracy=%{x}<br>Disparity=%{y}<extra></extra>",
         "legendgroup": "rexnet_200_CosFace_SGD",
         "marker": {
          "color": "#FECB52",
          "symbol": "circle"
         },
         "mode": "markers",
         "name": "rexnet_200_CosFace_SGD",
         "orientation": "v",
         "showlegend": true,
         "type": "scatter",
         "x": [
          0.9540335254059717
         ],
         "xaxis": "x",
         "y": [
          2.185568360398114
         ],
         "yaxis": "y"
        },
        {
         "hovertemplate": "index=rexnet_200_CosFace_SGD_0.1_cosine<br>Accuracy=%{x}<br>Disparity=%{y}<extra></extra>",
         "legendgroup": "rexnet_200_CosFace_SGD_0.1_cosine",
         "marker": {
          "color": "#636efa",
          "symbol": "circle"
         },
         "mode": "markers",
         "name": "rexnet_200_CosFace_SGD_0.1_cosine",
         "orientation": "v",
         "showlegend": true,
         "type": "scatter",
         "x": [
          0.9535096909376637
         ],
         "xaxis": "x",
         "y": [
          2.301597695128339
         ],
         "yaxis": "y"
        },
        {
         "hovertemplate": "index=rexnet_200_MagFace_AdamW<br>Accuracy=%{x}<br>Disparity=%{y}<extra></extra>",
         "legendgroup": "rexnet_200_MagFace_AdamW",
         "marker": {
          "color": "#EF553B",
          "symbol": "circle"
         },
         "mode": "markers",
         "name": "rexnet_200_MagFace_AdamW",
         "orientation": "v",
         "showlegend": true,
         "type": "scatter",
         "x": [
          0
         ],
         "xaxis": "x",
         "y": [
          0
         ],
         "yaxis": "y"
        },
        {
         "hovertemplate": "index=rexnet_200_MagFace_AdamW_0.001_cosine<br>Accuracy=%{x}<br>Disparity=%{y}<extra></extra>",
         "legendgroup": "rexnet_200_MagFace_AdamW_0.001_cosine",
         "marker": {
          "color": "#00cc96",
          "symbol": "circle"
         },
         "mode": "markers",
         "name": "rexnet_200_MagFace_AdamW_0.001_cosine",
         "orientation": "v",
         "showlegend": true,
         "type": "scatter",
         "x": [
          0.6615374541644841
         ],
         "xaxis": "x",
         "y": [
          2.6262441068622318
         ],
         "yaxis": "y"
        },
        {
         "hovertemplate": "index=rexnet_200_MagFace_SGD<br>Accuracy=%{x}<br>Disparity=%{y}<extra></extra>",
         "legendgroup": "rexnet_200_MagFace_SGD",
         "marker": {
          "color": "#ab63fa",
          "symbol": "circle"
         },
         "mode": "markers",
         "name": "rexnet_200_MagFace_SGD",
         "orientation": "v",
         "showlegend": true,
         "type": "scatter",
         "x": [
          0.907739654269251
         ],
         "xaxis": "x",
         "y": [
          1.887375589313777
         ],
         "yaxis": "y"
        },
        {
         "hovertemplate": "index=rexnet_200_MagFace_SGD_0.1_cosine<br>Accuracy=%{x}<br>Disparity=%{y}<extra></extra>",
         "legendgroup": "rexnet_200_MagFace_SGD_0.1_cosine",
         "marker": {
          "color": "#FFA15A",
          "symbol": "circle"
         },
         "mode": "markers",
         "name": "rexnet_200_MagFace_SGD_0.1_cosine",
         "orientation": "v",
         "showlegend": true,
         "type": "scatter",
         "x": [
          0.9150733368255631
         ],
         "xaxis": "x",
         "y": [
          1.5644316396018856
         ],
         "yaxis": "y"
        },
        {
         "hovertemplate": "index=selecsls60b_ArcFace_AdamW<br>Accuracy=%{x}<br>Disparity=%{y}<extra></extra>",
         "legendgroup": "selecsls60b_ArcFace_AdamW",
         "marker": {
          "color": "#19d3f3",
          "symbol": "circle"
         },
         "mode": "markers",
         "name": "selecsls60b_ArcFace_AdamW",
         "orientation": "v",
         "showlegend": true,
         "type": "scatter",
         "x": [
          0.749607124148769
         ],
         "xaxis": "x",
         "y": [
          2.317574646411734
         ],
         "yaxis": "y"
        },
        {
         "hovertemplate": "index=selecsls60b_ArcFace_AdamW_0.001_cosine<br>Accuracy=%{x}<br>Disparity=%{y}<extra></extra>",
         "legendgroup": "selecsls60b_ArcFace_AdamW_0.001_cosine",
         "marker": {
          "color": "#FF6692",
          "symbol": "circle"
         },
         "mode": "markers",
         "name": "selecsls60b_ArcFace_AdamW_0.001_cosine",
         "orientation": "v",
         "showlegend": true,
         "type": "scatter",
         "x": [
          0.7065872184389733
         ],
         "xaxis": "x",
         "y": [
          2.397983237297014
         ],
         "yaxis": "y"
        },
        {
         "hovertemplate": "index=selecsls60b_ArcFace_SGD<br>Accuracy=%{x}<br>Disparity=%{y}<extra></extra>",
         "legendgroup": "selecsls60b_ArcFace_SGD",
         "marker": {
          "color": "#B6E880",
          "symbol": "circle"
         },
         "mode": "markers",
         "name": "selecsls60b_ArcFace_SGD",
         "orientation": "v",
         "showlegend": true,
         "type": "scatter",
         "x": [
          0.6614719748559456
         ],
         "xaxis": "x",
         "y": [
          3.2562860136196967
         ],
         "yaxis": "y"
        },
        {
         "hovertemplate": "index=selecsls60b_ArcFace_SGD_0.1_cosine<br>Accuracy=%{x}<br>Disparity=%{y}<extra></extra>",
         "legendgroup": "selecsls60b_ArcFace_SGD_0.1_cosine",
         "marker": {
          "color": "#FF97FF",
          "symbol": "circle"
         },
         "mode": "markers",
         "name": "selecsls60b_ArcFace_SGD_0.1_cosine",
         "orientation": "v",
         "showlegend": true,
         "type": "scatter",
         "x": [
          0
         ],
         "xaxis": "x",
         "y": [
          0
         ],
         "yaxis": "y"
        },
        {
         "hovertemplate": "index=selecsls60b_CosFace_Adam<br>Accuracy=%{x}<br>Disparity=%{y}<extra></extra>",
         "legendgroup": "selecsls60b_CosFace_Adam",
         "marker": {
          "color": "#FECB52",
          "symbol": "circle"
         },
         "mode": "markers",
         "name": "selecsls60b_CosFace_Adam",
         "orientation": "v",
         "showlegend": true,
         "type": "scatter",
         "x": [
          0.003994237820848612
         ],
         "xaxis": "x",
         "y": [
          23.902435830277625
         ],
         "yaxis": "y"
        },
        {
         "hovertemplate": "index=selecsls60b_CosFace_AdamW<br>Accuracy=%{x}<br>Disparity=%{y}<extra></extra>",
         "legendgroup": "selecsls60b_CosFace_AdamW",
         "marker": {
          "color": "#636efa",
          "symbol": "circle"
         },
         "mode": "markers",
         "name": "selecsls60b_CosFace_AdamW",
         "orientation": "v",
         "showlegend": true,
         "type": "scatter",
         "x": [
          0.2215819800942902
         ],
         "xaxis": "x",
         "y": [
          9.452462022001049
         ],
         "yaxis": "y"
        },
        {
         "hovertemplate": "index=selecsls60b_CosFace_AdamW_0.001_cosine<br>Accuracy=%{x}<br>Disparity=%{y}<extra></extra>",
         "legendgroup": "selecsls60b_CosFace_AdamW_0.001_cosine",
         "marker": {
          "color": "#EF553B",
          "symbol": "circle"
         },
         "mode": "markers",
         "name": "selecsls60b_CosFace_AdamW_0.001_cosine",
         "orientation": "v",
         "showlegend": true,
         "type": "scatter",
         "x": [
          0.5918674698795181
         ],
         "xaxis": "x",
         "y": [
          6.285096909376637
         ],
         "yaxis": "y"
        },
        {
         "hovertemplate": "index=selecsls60b_CosFace_SGD<br>Accuracy=%{x}<br>Disparity=%{y}<extra></extra>",
         "legendgroup": "selecsls60b_CosFace_SGD",
         "marker": {
          "color": "#00cc96",
          "symbol": "circle"
         },
         "mode": "markers",
         "name": "selecsls60b_CosFace_SGD",
         "orientation": "v",
         "showlegend": true,
         "type": "scatter",
         "x": [
          0.591212676794133
         ],
         "xaxis": "x",
         "y": [
          7.290859088528027
         ],
         "yaxis": "y"
        },
        {
         "hovertemplate": "index=selecsls60b_CosFace_SGD_0.1_cosine<br>Accuracy=%{x}<br>Disparity=%{y}<extra></extra>",
         "legendgroup": "selecsls60b_CosFace_SGD_0.1_cosine",
         "marker": {
          "color": "#ab63fa",
          "symbol": "circle"
         },
         "mode": "markers",
         "name": "selecsls60b_CosFace_SGD_0.1_cosine",
         "orientation": "v",
         "showlegend": true,
         "type": "scatter",
         "x": [
          0.6149161864850707
         ],
         "xaxis": "x",
         "y": [
          7.056574122577267
         ],
         "yaxis": "y"
        },
        {
         "hovertemplate": "index=selecsls60b_MagFace_AdamW<br>Accuracy=%{x}<br>Disparity=%{y}<extra></extra>",
         "legendgroup": "selecsls60b_MagFace_AdamW",
         "marker": {
          "color": "#FFA15A",
          "symbol": "circle"
         },
         "mode": "markers",
         "name": "selecsls60b_MagFace_AdamW",
         "orientation": "v",
         "showlegend": true,
         "type": "scatter",
         "x": [
          0.8127946568884232
         ],
         "xaxis": "x",
         "y": [
          2.5517286537454162
         ],
         "yaxis": "y"
        },
        {
         "hovertemplate": "index=selecsls60b_MagFace_AdamW_0.001_cosine<br>Accuracy=%{x}<br>Disparity=%{y}<extra></extra>",
         "legendgroup": "selecsls60b_MagFace_AdamW_0.001_cosine",
         "marker": {
          "color": "#19d3f3",
          "symbol": "circle"
         },
         "mode": "markers",
         "name": "selecsls60b_MagFace_AdamW_0.001_cosine",
         "orientation": "v",
         "showlegend": true,
         "type": "scatter",
         "x": [
          0.7431901519119958
         ],
         "xaxis": "x",
         "y": [
          2.742404400209534
         ],
         "yaxis": "y"
        },
        {
         "hovertemplate": "index=selecsls60b_MagFace_SGD<br>Accuracy=%{x}<br>Disparity=%{y}<extra></extra>",
         "legendgroup": "selecsls60b_MagFace_SGD",
         "marker": {
          "color": "#FF6692",
          "symbol": "circle"
         },
         "mode": "markers",
         "name": "selecsls60b_MagFace_SGD",
         "orientation": "v",
         "showlegend": true,
         "type": "scatter",
         "x": [
          0.6940806705081194
         ],
         "xaxis": "x",
         "y": [
          2.767548454688318
         ],
         "yaxis": "y"
        },
        {
         "hovertemplate": "index=selecsls60b_MagFace_SGD_0.1_cosine<br>Accuracy=%{x}<br>Disparity=%{y}<extra></extra>",
         "legendgroup": "selecsls60b_MagFace_SGD_0.1_cosine",
         "marker": {
          "color": "#B6E880",
          "symbol": "circle"
         },
         "mode": "markers",
         "name": "selecsls60b_MagFace_SGD_0.1_cosine",
         "orientation": "v",
         "showlegend": true,
         "type": "scatter",
         "x": [
          0.7097957045573599
         ],
         "xaxis": "x",
         "y": [
          3.3276584599266634
         ],
         "yaxis": "y"
        },
        {
         "hovertemplate": "index=swin_base_patch4_window7_224_ArcFace_AdamW_0.001_cosine<br>Accuracy=%{x}<br>Disparity=%{y}<extra></extra>",
         "legendgroup": "swin_base_patch4_window7_224_ArcFace_AdamW_0.001_cosine",
         "marker": {
          "color": "#FF97FF",
          "symbol": "circle"
         },
         "mode": "markers",
         "name": "swin_base_patch4_window7_224_ArcFace_AdamW_0.001_cosine",
         "orientation": "v",
         "showlegend": true,
         "type": "scatter",
         "x": [
          0
         ],
         "xaxis": "x",
         "y": [
          0
         ],
         "yaxis": "y"
        },
        {
         "hovertemplate": "index=swin_base_patch4_window7_224_ArcFace_SGD_0.1_cosine<br>Accuracy=%{x}<br>Disparity=%{y}<extra></extra>",
         "legendgroup": "swin_base_patch4_window7_224_ArcFace_SGD_0.1_cosine",
         "marker": {
          "color": "#FECB52",
          "symbol": "circle"
         },
         "mode": "markers",
         "name": "swin_base_patch4_window7_224_ArcFace_SGD_0.1_cosine",
         "orientation": "v",
         "showlegend": true,
         "type": "scatter",
         "x": [
          0
         ],
         "xaxis": "x",
         "y": [
          0
         ],
         "yaxis": "y"
        },
        {
         "hovertemplate": "index=swin_base_patch4_window7_224_CosFace_AdamW_0.001_cosine<br>Accuracy=%{x}<br>Disparity=%{y}<extra></extra>",
         "legendgroup": "swin_base_patch4_window7_224_CosFace_AdamW_0.001_cosine",
         "marker": {
          "color": "#636efa",
          "symbol": "circle"
         },
         "mode": "markers",
         "name": "swin_base_patch4_window7_224_CosFace_AdamW_0.001_cosine",
         "orientation": "v",
         "showlegend": true,
         "type": "scatter",
         "x": [
          0.005434782608695652
         ],
         "xaxis": "x",
         "y": [
          16.601361969617585
         ],
         "yaxis": "y"
        },
        {
         "hovertemplate": "index=swin_base_patch4_window7_224_CosFace_SGD_0.1_cosine<br>Accuracy=%{x}<br>Disparity=%{y}<extra></extra>",
         "legendgroup": "swin_base_patch4_window7_224_CosFace_SGD_0.1_cosine",
         "marker": {
          "color": "#EF553B",
          "symbol": "circle"
         },
         "mode": "markers",
         "name": "swin_base_patch4_window7_224_CosFace_SGD_0.1_cosine",
         "orientation": "v",
         "showlegend": true,
         "type": "scatter",
         "x": [
          0.0010476689366160294
         ],
         "xaxis": "x",
         "y": [
          1.8331587218439154
         ],
         "yaxis": "y"
        },
        {
         "hovertemplate": "index=swin_base_patch4_window7_224_MagFace_AdamW_0.001_cosine<br>Accuracy=%{x}<br>Disparity=%{y}<extra></extra>",
         "legendgroup": "swin_base_patch4_window7_224_MagFace_AdamW_0.001_cosine",
         "marker": {
          "color": "#00cc96",
          "symbol": "circle"
         },
         "mode": "markers",
         "name": "swin_base_patch4_window7_224_MagFace_AdamW_0.001_cosine",
         "orientation": "v",
         "showlegend": true,
         "type": "scatter",
         "x": [
          0
         ],
         "xaxis": "x",
         "y": [
          0
         ],
         "yaxis": "y"
        },
        {
         "hovertemplate": "index=swin_base_patch4_window7_224_MagFace_SGD_0.1_cosine<br>Accuracy=%{x}<br>Disparity=%{y}<extra></extra>",
         "legendgroup": "swin_base_patch4_window7_224_MagFace_SGD_0.1_cosine",
         "marker": {
          "color": "#ab63fa",
          "symbol": "circle"
         },
         "mode": "markers",
         "name": "swin_base_patch4_window7_224_MagFace_SGD_0.1_cosine",
         "orientation": "v",
         "showlegend": true,
         "type": "scatter",
         "x": [
          0.7382137244630697
         ],
         "xaxis": "x",
         "y": [
          2.9414614981665794
         ],
         "yaxis": "y"
        },
        {
         "hovertemplate": "index=tf_efficientnet_b7_ns_ArcFace_AdamW_0.001_cosine<br>Accuracy=%{x}<br>Disparity=%{y}<extra></extra>",
         "legendgroup": "tf_efficientnet_b7_ns_ArcFace_AdamW_0.001_cosine",
         "marker": {
          "color": "#FFA15A",
          "symbol": "circle"
         },
         "mode": "markers",
         "name": "tf_efficientnet_b7_ns_ArcFace_AdamW_0.001_cosine",
         "orientation": "v",
         "showlegend": true,
         "type": "scatter",
         "x": [
          0.00320848611838659
         ],
         "xaxis": "x",
         "y": [
          5.92587742273443
         ],
         "yaxis": "y"
        },
        {
         "hovertemplate": "index=tf_efficientnet_b7_ns_ArcFace_SGD_0.1_cosine<br>Accuracy=%{x}<br>Disparity=%{y}<extra></extra>",
         "legendgroup": "tf_efficientnet_b7_ns_ArcFace_SGD_0.1_cosine",
         "marker": {
          "color": "#19d3f3",
          "symbol": "circle"
         },
         "mode": "markers",
         "name": "tf_efficientnet_b7_ns_ArcFace_SGD_0.1_cosine",
         "orientation": "v",
         "showlegend": true,
         "type": "scatter",
         "x": [
          0.0018334206390780514
         ],
         "xaxis": "x",
         "y": [
          6.101754845468832
         ],
         "yaxis": "y"
        },
        {
         "hovertemplate": "index=tf_efficientnet_b7_ns_CosFace_AdamW_0.001_cosine<br>Accuracy=%{x}<br>Disparity=%{y}<extra></extra>",
         "legendgroup": "tf_efficientnet_b7_ns_CosFace_AdamW_0.001_cosine",
         "marker": {
          "color": "#FF6692",
          "symbol": "circle"
         },
         "mode": "markers",
         "name": "tf_efficientnet_b7_ns_CosFace_AdamW_0.001_cosine",
         "orientation": "v",
         "showlegend": true,
         "type": "scatter",
         "x": [
          0.8466474594028287
         ],
         "xaxis": "x",
         "y": [
          3.029203771608172
         ],
         "yaxis": "y"
        },
        {
         "hovertemplate": "index=tf_efficientnet_b7_ns_CosFace_SGD_0.1_cosine<br>Accuracy=%{x}<br>Disparity=%{y}<extra></extra>",
         "legendgroup": "tf_efficientnet_b7_ns_CosFace_SGD_0.1_cosine",
         "marker": {
          "color": "#B6E880",
          "symbol": "circle"
         },
         "mode": "markers",
         "name": "tf_efficientnet_b7_ns_CosFace_SGD_0.1_cosine",
         "orientation": "v",
         "showlegend": true,
         "type": "scatter",
         "x": [
          0.8874410686223153
         ],
         "xaxis": "x",
         "y": [
          2.385149292823468
         ],
         "yaxis": "y"
        },
        {
         "hovertemplate": "index=tf_efficientnet_b7_ns_MagFace_AdamW_0.001_cosine<br>Accuracy=%{x}<br>Disparity=%{y}<extra></extra>",
         "legendgroup": "tf_efficientnet_b7_ns_MagFace_AdamW_0.001_cosine",
         "marker": {
          "color": "#FF97FF",
          "symbol": "circle"
         },
         "mode": "markers",
         "name": "tf_efficientnet_b7_ns_MagFace_AdamW_0.001_cosine",
         "orientation": "v",
         "showlegend": true,
         "type": "scatter",
         "x": [
          0.3143661602933473
         ],
         "xaxis": "x",
         "y": [
          6.99777370350969
         ],
         "yaxis": "y"
        },
        {
         "hovertemplate": "index=tf_efficientnet_b7_ns_MagFace_SGD_0.1_cosine<br>Accuracy=%{x}<br>Disparity=%{y}<extra></extra>",
         "legendgroup": "tf_efficientnet_b7_ns_MagFace_SGD_0.1_cosine",
         "marker": {
          "color": "#FECB52",
          "symbol": "circle"
         },
         "mode": "markers",
         "name": "tf_efficientnet_b7_ns_MagFace_SGD_0.1_cosine",
         "orientation": "v",
         "showlegend": true,
         "type": "scatter",
         "x": [
          0.411406495547407
         ],
         "xaxis": "x",
         "y": [
          7.88776846516501
         ],
         "yaxis": "y"
        },
        {
         "hovertemplate": "index=tnt_s_patch16_224_ArcFace_AdamW<br>Accuracy=%{x}<br>Disparity=%{y}<extra></extra>",
         "legendgroup": "tnt_s_patch16_224_ArcFace_AdamW",
         "marker": {
          "color": "#636efa",
          "symbol": "circle"
         },
         "mode": "markers",
         "name": "tnt_s_patch16_224_ArcFace_AdamW",
         "orientation": "v",
         "showlegend": true,
         "type": "scatter",
         "x": [
          0.36864850707176533
         ],
         "xaxis": "x",
         "y": [
          7.05945521215296
         ],
         "yaxis": "y"
        },
        {
         "hovertemplate": "index=tnt_s_patch16_224_ArcFace_SGD<br>Accuracy=%{x}<br>Disparity=%{y}<extra></extra>",
         "legendgroup": "tnt_s_patch16_224_ArcFace_SGD",
         "marker": {
          "color": "#EF553B",
          "symbol": "circle"
         },
         "mode": "markers",
         "name": "tnt_s_patch16_224_ArcFace_SGD",
         "orientation": "v",
         "showlegend": true,
         "type": "scatter",
         "x": [
          0
         ],
         "xaxis": "x",
         "y": [
          0
         ],
         "yaxis": "y"
        },
        {
         "hovertemplate": "index=tnt_s_patch16_224_ArcFace_SGD_0.1_cosine<br>Accuracy=%{x}<br>Disparity=%{y}<extra></extra>",
         "legendgroup": "tnt_s_patch16_224_ArcFace_SGD_0.1_cosine",
         "marker": {
          "color": "#00cc96",
          "symbol": "circle"
         },
         "mode": "markers",
         "name": "tnt_s_patch16_224_ArcFace_SGD_0.1_cosine",
         "orientation": "v",
         "showlegend": true,
         "type": "scatter",
         "x": [
          null
         ],
         "xaxis": "x",
         "y": [
          null
         ],
         "yaxis": "y"
        },
        {
         "hovertemplate": "index=tnt_s_patch16_224_CosFace_AdamW<br>Accuracy=%{x}<br>Disparity=%{y}<extra></extra>",
         "legendgroup": "tnt_s_patch16_224_CosFace_AdamW",
         "marker": {
          "color": "#ab63fa",
          "symbol": "circle"
         },
         "mode": "markers",
         "name": "tnt_s_patch16_224_CosFace_AdamW",
         "orientation": "v",
         "showlegend": true,
         "type": "scatter",
         "x": [
          0.9484023048716606
         ],
         "xaxis": "x",
         "y": [
          1.9494499738082771
         ],
         "yaxis": "y"
        },
        {
         "hovertemplate": "index=tnt_s_patch16_224_CosFace_SGD<br>Accuracy=%{x}<br>Disparity=%{y}<extra></extra>",
         "legendgroup": "tnt_s_patch16_224_CosFace_SGD",
         "marker": {
          "color": "#FFA15A",
          "symbol": "circle"
         },
         "mode": "markers",
         "name": "tnt_s_patch16_224_CosFace_SGD",
         "orientation": "v",
         "showlegend": true,
         "type": "scatter",
         "x": [
          0.41232320586694604
         ],
         "xaxis": "x",
         "y": [
          2.973415400733373
         ],
         "yaxis": "y"
        },
        {
         "hovertemplate": "index=tnt_s_patch16_224_CosFace_SGD_0.1_cosine<br>Accuracy=%{x}<br>Disparity=%{y}<extra></extra>",
         "legendgroup": "tnt_s_patch16_224_CosFace_SGD_0.1_cosine",
         "marker": {
          "color": "#19d3f3",
          "symbol": "circle"
         },
         "mode": "markers",
         "name": "tnt_s_patch16_224_CosFace_SGD_0.1_cosine",
         "orientation": "v",
         "showlegend": true,
         "type": "scatter",
         "x": [
          null
         ],
         "xaxis": "x",
         "y": [
          null
         ],
         "yaxis": "y"
        },
        {
         "hovertemplate": "index=tnt_s_patch16_224_MagFace_AdamW<br>Accuracy=%{x}<br>Disparity=%{y}<extra></extra>",
         "legendgroup": "tnt_s_patch16_224_MagFace_AdamW",
         "marker": {
          "color": "#FF6692",
          "symbol": "circle"
         },
         "mode": "markers",
         "name": "tnt_s_patch16_224_MagFace_AdamW",
         "orientation": "v",
         "showlegend": true,
         "type": "scatter",
         "x": [
          0
         ],
         "xaxis": "x",
         "y": [
          0
         ],
         "yaxis": "y"
        },
        {
         "hovertemplate": "index=tnt_s_patch16_224_MagFace_SGD<br>Accuracy=%{x}<br>Disparity=%{y}<extra></extra>",
         "legendgroup": "tnt_s_patch16_224_MagFace_SGD",
         "marker": {
          "color": "#B6E880",
          "symbol": "circle"
         },
         "mode": "markers",
         "name": "tnt_s_patch16_224_MagFace_SGD",
         "orientation": "v",
         "showlegend": true,
         "type": "scatter",
         "x": [
          0
         ],
         "xaxis": "x",
         "y": [
          0
         ],
         "yaxis": "y"
        },
        {
         "hovertemplate": "index=tnt_s_patch16_224_MagFace_SGD_0.1_cosine<br>Accuracy=%{x}<br>Disparity=%{y}<extra></extra>",
         "legendgroup": "tnt_s_patch16_224_MagFace_SGD_0.1_cosine",
         "marker": {
          "color": "#FF97FF",
          "symbol": "circle"
         },
         "mode": "markers",
         "name": "tnt_s_patch16_224_MagFace_SGD_0.1_cosine",
         "orientation": "v",
         "showlegend": true,
         "type": "scatter",
         "x": [
          null
         ],
         "xaxis": "x",
         "y": [
          null
         ],
         "yaxis": "y"
        },
        {
         "hovertemplate": "index=twins_svt_large_ArcFace_AdamW_0.001_cosine<br>Accuracy=%{x}<br>Disparity=%{y}<extra></extra>",
         "legendgroup": "twins_svt_large_ArcFace_AdamW_0.001_cosine",
         "marker": {
          "color": "#FECB52",
          "symbol": "circle"
         },
         "mode": "markers",
         "name": "twins_svt_large_ArcFace_AdamW_0.001_cosine",
         "orientation": "v",
         "showlegend": true,
         "type": "scatter",
         "x": [
          null
         ],
         "xaxis": "x",
         "y": [
          null
         ],
         "yaxis": "y"
        },
        {
         "hovertemplate": "index=twins_svt_large_ArcFace_SGD_0.1_cosine<br>Accuracy=%{x}<br>Disparity=%{y}<extra></extra>",
         "legendgroup": "twins_svt_large_ArcFace_SGD_0.1_cosine",
         "marker": {
          "color": "#636efa",
          "symbol": "circle"
         },
         "mode": "markers",
         "name": "twins_svt_large_ArcFace_SGD_0.1_cosine",
         "orientation": "v",
         "showlegend": true,
         "type": "scatter",
         "x": [
          null
         ],
         "xaxis": "x",
         "y": [
          null
         ],
         "yaxis": "y"
        },
        {
         "hovertemplate": "index=twins_svt_large_CosFace_AdamW_0.001_cosine<br>Accuracy=%{x}<br>Disparity=%{y}<extra></extra>",
         "legendgroup": "twins_svt_large_CosFace_AdamW_0.001_cosine",
         "marker": {
          "color": "#EF553B",
          "symbol": "circle"
         },
         "mode": "markers",
         "name": "twins_svt_large_CosFace_AdamW_0.001_cosine",
         "orientation": "v",
         "showlegend": true,
         "type": "scatter",
         "x": [
          null
         ],
         "xaxis": "x",
         "y": [
          null
         ],
         "yaxis": "y"
        },
        {
         "hovertemplate": "index=twins_svt_large_CosFace_SGD_0.1_cosine<br>Accuracy=%{x}<br>Disparity=%{y}<extra></extra>",
         "legendgroup": "twins_svt_large_CosFace_SGD_0.1_cosine",
         "marker": {
          "color": "#00cc96",
          "symbol": "circle"
         },
         "mode": "markers",
         "name": "twins_svt_large_CosFace_SGD_0.1_cosine",
         "orientation": "v",
         "showlegend": true,
         "type": "scatter",
         "x": [
          null
         ],
         "xaxis": "x",
         "y": [
          null
         ],
         "yaxis": "y"
        },
        {
         "hovertemplate": "index=twins_svt_large_MagFace_AdamW_0.001_cosine<br>Accuracy=%{x}<br>Disparity=%{y}<extra></extra>",
         "legendgroup": "twins_svt_large_MagFace_AdamW_0.001_cosine",
         "marker": {
          "color": "#ab63fa",
          "symbol": "circle"
         },
         "mode": "markers",
         "name": "twins_svt_large_MagFace_AdamW_0.001_cosine",
         "orientation": "v",
         "showlegend": true,
         "type": "scatter",
         "x": [
          null
         ],
         "xaxis": "x",
         "y": [
          null
         ],
         "yaxis": "y"
        },
        {
         "hovertemplate": "index=twins_svt_large_MagFace_SGD_0.1_cosine<br>Accuracy=%{x}<br>Disparity=%{y}<extra></extra>",
         "legendgroup": "twins_svt_large_MagFace_SGD_0.1_cosine",
         "marker": {
          "color": "#FFA15A",
          "symbol": "circle"
         },
         "mode": "markers",
         "name": "twins_svt_large_MagFace_SGD_0.1_cosine",
         "orientation": "v",
         "showlegend": true,
         "type": "scatter",
         "x": [
          null
         ],
         "xaxis": "x",
         "y": [
          null
         ],
         "yaxis": "y"
        },
        {
         "hovertemplate": "index=vgg19_ArcFace_AdamW_0.001_cosine<br>Accuracy=%{x}<br>Disparity=%{y}<extra></extra>",
         "legendgroup": "vgg19_ArcFace_AdamW_0.001_cosine",
         "marker": {
          "color": "#19d3f3",
          "symbol": "circle"
         },
         "mode": "markers",
         "name": "vgg19_ArcFace_AdamW_0.001_cosine",
         "orientation": "v",
         "showlegend": true,
         "type": "scatter",
         "x": [
          0
         ],
         "xaxis": "x",
         "y": [
          0
         ],
         "yaxis": "y"
        },
        {
         "hovertemplate": "index=vgg19_ArcFace_SGD_0.1_cosine<br>Accuracy=%{x}<br>Disparity=%{y}<extra></extra>",
         "legendgroup": "vgg19_ArcFace_SGD_0.1_cosine",
         "marker": {
          "color": "#FF6692",
          "symbol": "circle"
         },
         "mode": "markers",
         "name": "vgg19_ArcFace_SGD_0.1_cosine",
         "orientation": "v",
         "showlegend": true,
         "type": "scatter",
         "x": [
          0
         ],
         "xaxis": "x",
         "y": [
          0
         ],
         "yaxis": "y"
        },
        {
         "hovertemplate": "index=vgg19_bn_ArcFace_AdamW<br>Accuracy=%{x}<br>Disparity=%{y}<extra></extra>",
         "legendgroup": "vgg19_bn_ArcFace_AdamW",
         "marker": {
          "color": "#B6E880",
          "symbol": "circle"
         },
         "mode": "markers",
         "name": "vgg19_bn_ArcFace_AdamW",
         "orientation": "v",
         "showlegend": true,
         "type": "scatter",
         "x": [
          0.6454950235725511
         ],
         "xaxis": "x",
         "y": [
          1.888423258250393
         ],
         "yaxis": "y"
        },
        {
         "hovertemplate": "index=vgg19_bn_ArcFace_AdamW_0.001_cosine<br>Accuracy=%{x}<br>Disparity=%{y}<extra></extra>",
         "legendgroup": "vgg19_bn_ArcFace_AdamW_0.001_cosine",
         "marker": {
          "color": "#FF97FF",
          "symbol": "circle"
         },
         "mode": "markers",
         "name": "vgg19_bn_ArcFace_AdamW_0.001_cosine",
         "orientation": "v",
         "showlegend": true,
         "type": "scatter",
         "x": [
          0.6530251440544788
         ],
         "xaxis": "x",
         "y": [
          3.223022524882137
         ],
         "yaxis": "y"
        },
        {
         "hovertemplate": "index=vgg19_bn_ArcFace_SGD<br>Accuracy=%{x}<br>Disparity=%{y}<extra></extra>",
         "legendgroup": "vgg19_bn_ArcFace_SGD",
         "marker": {
          "color": "#FECB52",
          "symbol": "circle"
         },
         "mode": "markers",
         "name": "vgg19_bn_ArcFace_SGD",
         "orientation": "v",
         "showlegend": true,
         "type": "scatter",
         "x": [
          0.7719355683603981
         ],
         "xaxis": "x",
         "y": [
          2.0113933996856996
         ],
         "yaxis": "y"
        },
        {
         "hovertemplate": "index=vgg19_bn_ArcFace_SGD_0.1_cosine<br>Accuracy=%{x}<br>Disparity=%{y}<extra></extra>",
         "legendgroup": "vgg19_bn_ArcFace_SGD_0.1_cosine",
         "marker": {
          "color": "#636efa",
          "symbol": "circle"
         },
         "mode": "markers",
         "name": "vgg19_bn_ArcFace_SGD_0.1_cosine",
         "orientation": "v",
         "showlegend": true,
         "type": "scatter",
         "x": [
          0.6954557359874279
         ],
         "xaxis": "x",
         "y": [
          3.4256155055002617
         ],
         "yaxis": "y"
        },
        {
         "hovertemplate": "index=vgg19_bn_CosFace_AdamW<br>Accuracy=%{x}<br>Disparity=%{y}<extra></extra>",
         "legendgroup": "vgg19_bn_CosFace_AdamW",
         "marker": {
          "color": "#EF553B",
          "symbol": "circle"
         },
         "mode": "markers",
         "name": "vgg19_bn_CosFace_AdamW",
         "orientation": "v",
         "showlegend": true,
         "type": "scatter",
         "x": [
          0
         ],
         "xaxis": "x",
         "y": [
          0.15413829229964904
         ],
         "yaxis": "y"
        },
        {
         "hovertemplate": "index=vgg19_bn_CosFace_AdamW_0.001_cosine<br>Accuracy=%{x}<br>Disparity=%{y}<extra></extra>",
         "legendgroup": "vgg19_bn_CosFace_AdamW_0.001_cosine",
         "marker": {
          "color": "#00cc96",
          "symbol": "circle"
         },
         "mode": "markers",
         "name": "vgg19_bn_CosFace_AdamW_0.001_cosine",
         "orientation": "v",
         "showlegend": true,
         "type": "scatter",
         "x": [
          0
         ],
         "xaxis": "x",
         "y": [
          0
         ],
         "yaxis": "y"
        },
        {
         "hovertemplate": "index=vgg19_bn_CosFace_SGD<br>Accuracy=%{x}<br>Disparity=%{y}<extra></extra>",
         "legendgroup": "vgg19_bn_CosFace_SGD",
         "marker": {
          "color": "#ab63fa",
          "symbol": "circle"
         },
         "mode": "markers",
         "name": "vgg19_bn_CosFace_SGD",
         "orientation": "v",
         "showlegend": true,
         "type": "scatter",
         "x": [
          0.6534834992142483
         ],
         "xaxis": "x",
         "y": [
          3.2710843373493965
         ],
         "yaxis": "y"
        },
        {
         "hovertemplate": "index=vgg19_bn_CosFace_SGD_0.1_cosine<br>Accuracy=%{x}<br>Disparity=%{y}<extra></extra>",
         "legendgroup": "vgg19_bn_CosFace_SGD_0.1_cosine",
         "marker": {
          "color": "#FFA15A",
          "symbol": "circle"
         },
         "mode": "markers",
         "name": "vgg19_bn_CosFace_SGD_0.1_cosine",
         "orientation": "v",
         "showlegend": true,
         "type": "scatter",
         "x": [
          null
         ],
         "xaxis": "x",
         "y": [
          null
         ],
         "yaxis": "y"
        },
        {
         "hovertemplate": "index=vgg19_bn_MagFace_AdamW<br>Accuracy=%{x}<br>Disparity=%{y}<extra></extra>",
         "legendgroup": "vgg19_bn_MagFace_AdamW",
         "marker": {
          "color": "#19d3f3",
          "symbol": "circle"
         },
         "mode": "markers",
         "name": "vgg19_bn_MagFace_AdamW",
         "orientation": "v",
         "showlegend": true,
         "type": "scatter",
         "x": [
          0.7179806181246726
         ],
         "xaxis": "x",
         "y": [
          1.8258250392875848
         ],
         "yaxis": "y"
        },
        {
         "hovertemplate": "index=vgg19_bn_MagFace_AdamW_0.001_cosine<br>Accuracy=%{x}<br>Disparity=%{y}<extra></extra>",
         "legendgroup": "vgg19_bn_MagFace_AdamW_0.001_cosine",
         "marker": {
          "color": "#FF6692",
          "symbol": "circle"
         },
         "mode": "markers",
         "name": "vgg19_bn_MagFace_AdamW_0.001_cosine",
         "orientation": "v",
         "showlegend": true,
         "type": "scatter",
         "x": [
          0.3689759036144578
         ],
         "xaxis": "x",
         "y": [
          5.599921424829754
         ],
         "yaxis": "y"
        },
        {
         "hovertemplate": "index=vgg19_bn_MagFace_SGD<br>Accuracy=%{x}<br>Disparity=%{y}<extra></extra>",
         "legendgroup": "vgg19_bn_MagFace_SGD",
         "marker": {
          "color": "#B6E880",
          "symbol": "circle"
         },
         "mode": "markers",
         "name": "vgg19_bn_MagFace_SGD",
         "orientation": "v",
         "showlegend": true,
         "type": "scatter",
         "x": [
          0.8107647983237297
         ],
         "xaxis": "x",
         "y": [
          2.1547930853850183
         ],
         "yaxis": "y"
        },
        {
         "hovertemplate": "index=vgg19_bn_MagFace_SGD_0.1_cosine<br>Accuracy=%{x}<br>Disparity=%{y}<extra></extra>",
         "legendgroup": "vgg19_bn_MagFace_SGD_0.1_cosine",
         "marker": {
          "color": "#FF97FF",
          "symbol": "circle"
         },
         "mode": "markers",
         "name": "vgg19_bn_MagFace_SGD_0.1_cosine",
         "orientation": "v",
         "showlegend": true,
         "type": "scatter",
         "x": [
          0.7556966998428497
         ],
         "xaxis": "x",
         "y": [
          2.2503928758512313
         ],
         "yaxis": "y"
        },
        {
         "hovertemplate": "index=vgg19_CosFace_AdamW<br>Accuracy=%{x}<br>Disparity=%{y}<extra></extra>",
         "legendgroup": "vgg19_CosFace_AdamW",
         "marker": {
          "color": "#FECB52",
          "symbol": "circle"
         },
         "mode": "markers",
         "name": "vgg19_CosFace_AdamW",
         "orientation": "v",
         "showlegend": true,
         "type": "scatter",
         "x": [
          0
         ],
         "xaxis": "x",
         "y": [
          0
         ],
         "yaxis": "y"
        },
        {
         "hovertemplate": "index=vgg19_CosFace_AdamW_0.001_cosine<br>Accuracy=%{x}<br>Disparity=%{y}<extra></extra>",
         "legendgroup": "vgg19_CosFace_AdamW_0.001_cosine",
         "marker": {
          "color": "#636efa",
          "symbol": "circle"
         },
         "mode": "markers",
         "name": "vgg19_CosFace_AdamW_0.001_cosine",
         "orientation": "v",
         "showlegend": true,
         "type": "scatter",
         "x": [
          0
         ],
         "xaxis": "x",
         "y": [
          0
         ],
         "yaxis": "y"
        },
        {
         "hovertemplate": "index=vgg19_CosFace_SGD<br>Accuracy=%{x}<br>Disparity=%{y}<extra></extra>",
         "legendgroup": "vgg19_CosFace_SGD",
         "marker": {
          "color": "#EF553B",
          "symbol": "circle"
         },
         "mode": "markers",
         "name": "vgg19_CosFace_SGD",
         "orientation": "v",
         "showlegend": true,
         "type": "scatter",
         "x": [
          0.6574122577265584
         ],
         "xaxis": "x",
         "y": [
          6.093111576741748
         ],
         "yaxis": "y"
        },
        {
         "hovertemplate": "index=vgg19_CosFace_SGD_0.1_cosine<br>Accuracy=%{x}<br>Disparity=%{y}<extra></extra>",
         "legendgroup": "vgg19_CosFace_SGD_0.1_cosine",
         "marker": {
          "color": "#00cc96",
          "symbol": "circle"
         },
         "mode": "markers",
         "name": "vgg19_CosFace_SGD_0.1_cosine",
         "orientation": "v",
         "showlegend": true,
         "type": "scatter",
         "x": [
          0
         ],
         "xaxis": "x",
         "y": [
          0.6652697747511809
         ],
         "yaxis": "y"
        },
        {
         "hovertemplate": "index=vgg19_MagFace_AdamW<br>Accuracy=%{x}<br>Disparity=%{y}<extra></extra>",
         "legendgroup": "vgg19_MagFace_AdamW",
         "marker": {
          "color": "#ab63fa",
          "symbol": "circle"
         },
         "mode": "markers",
         "name": "vgg19_MagFace_AdamW",
         "orientation": "v",
         "showlegend": true,
         "type": "scatter",
         "x": [
          0
         ],
         "xaxis": "x",
         "y": [
          0
         ],
         "yaxis": "y"
        },
        {
         "hovertemplate": "index=vgg19_MagFace_AdamW_0.001_cosine<br>Accuracy=%{x}<br>Disparity=%{y}<extra></extra>",
         "legendgroup": "vgg19_MagFace_AdamW_0.001_cosine",
         "marker": {
          "color": "#FFA15A",
          "symbol": "circle"
         },
         "mode": "markers",
         "name": "vgg19_MagFace_AdamW_0.001_cosine",
         "orientation": "v",
         "showlegend": true,
         "type": "scatter",
         "x": [
          0
         ],
         "xaxis": "x",
         "y": [
          0
         ],
         "yaxis": "y"
        },
        {
         "hovertemplate": "index=vgg19_MagFace_SGD<br>Accuracy=%{x}<br>Disparity=%{y}<extra></extra>",
         "legendgroup": "vgg19_MagFace_SGD",
         "marker": {
          "color": "#19d3f3",
          "symbol": "circle"
         },
         "mode": "markers",
         "name": "vgg19_MagFace_SGD",
         "orientation": "v",
         "showlegend": true,
         "type": "scatter",
         "x": [
          0.6993190151911995
         ],
         "xaxis": "x",
         "y": [
          2.2585123101100057
         ],
         "yaxis": "y"
        },
        {
         "hovertemplate": "index=vgg19_MagFace_SGD_0.1_cosine<br>Accuracy=%{x}<br>Disparity=%{y}<extra></extra>",
         "legendgroup": "vgg19_MagFace_SGD_0.1_cosine",
         "marker": {
          "color": "#FF6692",
          "symbol": "circle"
         },
         "mode": "markers",
         "name": "vgg19_MagFace_SGD_0.1_cosine",
         "orientation": "v",
         "showlegend": true,
         "type": "scatter",
         "x": [
          0
         ],
         "xaxis": "x",
         "y": [
          0
         ],
         "yaxis": "y"
        },
        {
         "hovertemplate": "index=visformer_small_ArcFace_AdamW<br>Accuracy=%{x}<br>Disparity=%{y}<extra></extra>",
         "legendgroup": "visformer_small_ArcFace_AdamW",
         "marker": {
          "color": "#B6E880",
          "symbol": "circle"
         },
         "mode": "markers",
         "name": "visformer_small_ArcFace_AdamW",
         "orientation": "v",
         "showlegend": true,
         "type": "scatter",
         "x": [
          0
         ],
         "xaxis": "x",
         "y": [
          0
         ],
         "yaxis": "y"
        },
        {
         "hovertemplate": "index=visformer_small_ArcFace_AdamW_0.001_cosine<br>Accuracy=%{x}<br>Disparity=%{y}<extra></extra>",
         "legendgroup": "visformer_small_ArcFace_AdamW_0.001_cosine",
         "marker": {
          "color": "#FF97FF",
          "symbol": "circle"
         },
         "mode": "markers",
         "name": "visformer_small_ArcFace_AdamW_0.001_cosine",
         "orientation": "v",
         "showlegend": true,
         "type": "scatter",
         "x": [
          0.01682818229439497
         ],
         "xaxis": "x",
         "y": [
          2.4146149816657783
         ],
         "yaxis": "y"
        },
        {
         "hovertemplate": "index=visformer_small_ArcFace_SGD<br>Accuracy=%{x}<br>Disparity=%{y}<extra></extra>",
         "legendgroup": "visformer_small_ArcFace_SGD",
         "marker": {
          "color": "#FECB52",
          "symbol": "circle"
         },
         "mode": "markers",
         "name": "visformer_small_ArcFace_SGD",
         "orientation": "v",
         "showlegend": true,
         "type": "scatter",
         "x": [
          0
         ],
         "xaxis": "x",
         "y": [
          0
         ],
         "yaxis": "y"
        },
        {
         "hovertemplate": "index=visformer_small_ArcFace_SGD_0.1_cosine<br>Accuracy=%{x}<br>Disparity=%{y}<extra></extra>",
         "legendgroup": "visformer_small_ArcFace_SGD_0.1_cosine",
         "marker": {
          "color": "#636efa",
          "symbol": "circle"
         },
         "mode": "markers",
         "name": "visformer_small_ArcFace_SGD_0.1_cosine",
         "orientation": "v",
         "showlegend": true,
         "type": "scatter",
         "x": [
          0
         ],
         "xaxis": "x",
         "y": [
          0
         ],
         "yaxis": "y"
        },
        {
         "hovertemplate": "index=visformer_small_CosFace_AdamW<br>Accuracy=%{x}<br>Disparity=%{y}<extra></extra>",
         "legendgroup": "visformer_small_CosFace_AdamW",
         "marker": {
          "color": "#EF553B",
          "symbol": "circle"
         },
         "mode": "markers",
         "name": "visformer_small_CosFace_AdamW",
         "orientation": "v",
         "showlegend": true,
         "type": "scatter",
         "x": [
          0.03725772655840754
         ],
         "xaxis": "x",
         "y": [
          13.2437139863803
         ],
         "yaxis": "y"
        },
        {
         "hovertemplate": "index=visformer_small_CosFace_AdamW_0.001_cosine<br>Accuracy=%{x}<br>Disparity=%{y}<extra></extra>",
         "legendgroup": "visformer_small_CosFace_AdamW_0.001_cosine",
         "marker": {
          "color": "#00cc96",
          "symbol": "circle"
         },
         "mode": "markers",
         "name": "visformer_small_CosFace_AdamW_0.001_cosine",
         "orientation": "v",
         "showlegend": true,
         "type": "scatter",
         "x": [
          0.029727606076479833
         ],
         "xaxis": "x",
         "y": [
          3.5844683080146638
         ],
         "yaxis": "y"
        },
        {
         "hovertemplate": "index=visformer_small_CosFace_SGD<br>Accuracy=%{x}<br>Disparity=%{y}<extra></extra>",
         "legendgroup": "visformer_small_CosFace_SGD",
         "marker": {
          "color": "#ab63fa",
          "symbol": "circle"
         },
         "mode": "markers",
         "name": "visformer_small_CosFace_SGD",
         "orientation": "v",
         "showlegend": true,
         "type": "scatter",
         "x": [
          0.3325694080670508
         ],
         "xaxis": "x",
         "y": [
          3.8525405971712914
         ],
         "yaxis": "y"
        },
        {
         "hovertemplate": "index=visformer_small_CosFace_SGD_0.1_cosine<br>Accuracy=%{x}<br>Disparity=%{y}<extra></extra>",
         "legendgroup": "visformer_small_CosFace_SGD_0.1_cosine",
         "marker": {
          "color": "#FFA15A",
          "symbol": "circle"
         },
         "mode": "markers",
         "name": "visformer_small_CosFace_SGD_0.1_cosine",
         "orientation": "v",
         "showlegend": true,
         "type": "scatter",
         "x": [
          0
         ],
         "xaxis": "x",
         "y": [
          0
         ],
         "yaxis": "y"
        },
        {
         "hovertemplate": "index=visformer_small_MagFace_AdamW<br>Accuracy=%{x}<br>Disparity=%{y}<extra></extra>",
         "legendgroup": "visformer_small_MagFace_AdamW",
         "marker": {
          "color": "#19d3f3",
          "symbol": "circle"
         },
         "mode": "markers",
         "name": "visformer_small_MagFace_AdamW",
         "orientation": "v",
         "showlegend": true,
         "type": "scatter",
         "x": [
          0.009494499738082765
         ],
         "xaxis": "x",
         "y": [
          5.172734415924566
         ],
         "yaxis": "y"
        },
        {
         "hovertemplate": "index=visformer_small_MagFace_AdamW_0.001_cosine<br>Accuracy=%{x}<br>Disparity=%{y}<extra></extra>",
         "legendgroup": "visformer_small_MagFace_AdamW_0.001_cosine",
         "marker": {
          "color": "#FF6692",
          "symbol": "circle"
         },
         "mode": "markers",
         "name": "visformer_small_MagFace_AdamW_0.001_cosine",
         "orientation": "v",
         "showlegend": true,
         "type": "scatter",
         "x": [
          0.00392875851231011
         ],
         "xaxis": "x",
         "y": [
          18.62179151388159
         ],
         "yaxis": "y"
        },
        {
         "hovertemplate": "index=visformer_small_MagFace_SGD<br>Accuracy=%{x}<br>Disparity=%{y}<extra></extra>",
         "legendgroup": "visformer_small_MagFace_SGD",
         "marker": {
          "color": "#B6E880",
          "symbol": "circle"
         },
         "mode": "markers",
         "name": "visformer_small_MagFace_SGD",
         "orientation": "v",
         "showlegend": true,
         "type": "scatter",
         "x": [
          0
         ],
         "xaxis": "x",
         "y": [
          0
         ],
         "yaxis": "y"
        },
        {
         "hovertemplate": "index=visformer_small_MagFace_SGD_0.1_cosine<br>Accuracy=%{x}<br>Disparity=%{y}<extra></extra>",
         "legendgroup": "visformer_small_MagFace_SGD_0.1_cosine",
         "marker": {
          "color": "#FF97FF",
          "symbol": "circle"
         },
         "mode": "markers",
         "name": "visformer_small_MagFace_SGD_0.1_cosine",
         "orientation": "v",
         "showlegend": true,
         "type": "scatter",
         "x": [
          0
         ],
         "xaxis": "x",
         "y": [
          0
         ],
         "yaxis": "y"
        },
        {
         "hovertemplate": "index=xception65_ArcFace_AdamW<br>Accuracy=%{x}<br>Disparity=%{y}<extra></extra>",
         "legendgroup": "xception65_ArcFace_AdamW",
         "marker": {
          "color": "#FECB52",
          "symbol": "circle"
         },
         "mode": "markers",
         "name": "xception65_ArcFace_AdamW",
         "orientation": "v",
         "showlegend": true,
         "type": "scatter",
         "x": [
          0.5973677317967522
         ],
         "xaxis": "x",
         "y": [
          0.19958093242535568
         ],
         "yaxis": "y"
        },
        {
         "hovertemplate": "index=xception65_ArcFace_AdamW_0.001_cosine<br>Accuracy=%{x}<br>Disparity=%{y}<extra></extra>",
         "legendgroup": "xception65_ArcFace_AdamW_0.001_cosine",
         "marker": {
          "color": "#636efa",
          "symbol": "circle"
         },
         "mode": "markers",
         "name": "xception65_ArcFace_AdamW_0.001_cosine",
         "orientation": "v",
         "showlegend": true,
         "type": "scatter",
         "x": [
          0.5933080146673652
         ],
         "xaxis": "x",
         "y": [
          3.4110790990047146
         ],
         "yaxis": "y"
        },
        {
         "hovertemplate": "index=xception65_ArcFace_SGD<br>Accuracy=%{x}<br>Disparity=%{y}<extra></extra>",
         "legendgroup": "xception65_ArcFace_SGD",
         "marker": {
          "color": "#EF553B",
          "symbol": "circle"
         },
         "mode": "markers",
         "name": "xception65_ArcFace_SGD",
         "orientation": "v",
         "showlegend": true,
         "type": "scatter",
         "x": [
          0.7734415924567837
         ],
         "xaxis": "x",
         "y": [
          2.163305395495023
         ],
         "yaxis": "y"
        },
        {
         "hovertemplate": "index=xception65_ArcFace_SGD_0.1_cosine<br>Accuracy=%{x}<br>Disparity=%{y}<extra></extra>",
         "legendgroup": "xception65_ArcFace_SGD_0.1_cosine",
         "marker": {
          "color": "#00cc96",
          "symbol": "circle"
         },
         "mode": "markers",
         "name": "xception65_ArcFace_SGD_0.1_cosine",
         "orientation": "v",
         "showlegend": true,
         "type": "scatter",
         "x": [
          null
         ],
         "xaxis": "x",
         "y": [
          null
         ],
         "yaxis": "y"
        },
        {
         "hovertemplate": "index=xception65_CosFace_Adam<br>Accuracy=%{x}<br>Disparity=%{y}<extra></extra>",
         "legendgroup": "xception65_CosFace_Adam",
         "marker": {
          "color": "#ab63fa",
          "symbol": "circle"
         },
         "mode": "markers",
         "name": "xception65_CosFace_Adam",
         "orientation": "v",
         "showlegend": true,
         "type": "scatter",
         "x": [
          0
         ],
         "xaxis": "x",
         "y": [
          0
         ],
         "yaxis": "y"
        },
        {
         "hovertemplate": "index=xception65_CosFace_AdamW<br>Accuracy=%{x}<br>Disparity=%{y}<extra></extra>",
         "legendgroup": "xception65_CosFace_AdamW",
         "marker": {
          "color": "#FFA15A",
          "symbol": "circle"
         },
         "mode": "markers",
         "name": "xception65_CosFace_AdamW",
         "orientation": "v",
         "showlegend": true,
         "type": "scatter",
         "x": [
          0.48074908328968047
         ],
         "xaxis": "x",
         "y": [
          7.1550550026191715
         ],
         "yaxis": "y"
        },
        {
         "hovertemplate": "index=xception65_CosFace_AdamW_0.001_cosine<br>Accuracy=%{x}<br>Disparity=%{y}<extra></extra>",
         "legendgroup": "xception65_CosFace_AdamW_0.001_cosine",
         "marker": {
          "color": "#19d3f3",
          "symbol": "circle"
         },
         "mode": "markers",
         "name": "xception65_CosFace_AdamW_0.001_cosine",
         "orientation": "v",
         "showlegend": true,
         "type": "scatter",
         "x": [
          0.6414353064431639
         ],
         "xaxis": "x",
         "y": [
          2.540466212676794
         ],
         "yaxis": "y"
        },
        {
         "hovertemplate": "index=xception65_CosFace_SGD<br>Accuracy=%{x}<br>Disparity=%{y}<extra></extra>",
         "legendgroup": "xception65_CosFace_SGD",
         "marker": {
          "color": "#FF6692",
          "symbol": "circle"
         },
         "mode": "markers",
         "name": "xception65_CosFace_SGD",
         "orientation": "v",
         "showlegend": true,
         "type": "scatter",
         "x": [
          0.7124803562074384
         ],
         "xaxis": "x",
         "y": [
          4.281953902566789
         ],
         "yaxis": "y"
        },
        {
         "hovertemplate": "index=xception65_CosFace_SGD_0.1_cosine<br>Accuracy=%{x}<br>Disparity=%{y}<extra></extra>",
         "legendgroup": "xception65_CosFace_SGD_0.1_cosine",
         "marker": {
          "color": "#B6E880",
          "symbol": "circle"
         },
         "mode": "markers",
         "name": "xception65_CosFace_SGD_0.1_cosine",
         "orientation": "v",
         "showlegend": true,
         "type": "scatter",
         "x": [
          null
         ],
         "xaxis": "x",
         "y": [
          null
         ],
         "yaxis": "y"
        },
        {
         "hovertemplate": "index=xception65_MagFace_AdamW<br>Accuracy=%{x}<br>Disparity=%{y}<extra></extra>",
         "legendgroup": "xception65_MagFace_AdamW",
         "marker": {
          "color": "#FF97FF",
          "symbol": "circle"
         },
         "mode": "markers",
         "name": "xception65_MagFace_AdamW",
         "orientation": "v",
         "showlegend": true,
         "type": "scatter",
         "x": [
          0.6705081194342588
         ],
         "xaxis": "x",
         "y": [
          2.2139863803038224
         ],
         "yaxis": "y"
        },
        {
         "hovertemplate": "index=xception65_MagFace_AdamW_0.001_cosine<br>Accuracy=%{x}<br>Disparity=%{y}<extra></extra>",
         "legendgroup": "xception65_MagFace_AdamW_0.001_cosine",
         "marker": {
          "color": "#FECB52",
          "symbol": "circle"
         },
         "mode": "markers",
         "name": "xception65_MagFace_AdamW_0.001_cosine",
         "orientation": "v",
         "showlegend": true,
         "type": "scatter",
         "x": [
          0.6301728653745416
         ],
         "xaxis": "x",
         "y": [
          3.3673389209009956
         ],
         "yaxis": "y"
        },
        {
         "hovertemplate": "index=xception65_MagFace_SGD<br>Accuracy=%{x}<br>Disparity=%{y}<extra></extra>",
         "legendgroup": "xception65_MagFace_SGD",
         "marker": {
          "color": "#636efa",
          "symbol": "circle"
         },
         "mode": "markers",
         "name": "xception65_MagFace_SGD",
         "orientation": "v",
         "showlegend": true,
         "type": "scatter",
         "x": [
          0.661144578313253
         ],
         "xaxis": "x",
         "y": [
          2.9163174436877943
         ],
         "yaxis": "y"
        },
        {
         "hovertemplate": "index=xception65_MagFace_SGD_0.1_cosine<br>Accuracy=%{x}<br>Disparity=%{y}<extra></extra>",
         "legendgroup": "xception65_MagFace_SGD_0.1_cosine",
         "marker": {
          "color": "#EF553B",
          "symbol": "circle"
         },
         "mode": "markers",
         "name": "xception65_MagFace_SGD_0.1_cosine",
         "orientation": "v",
         "showlegend": true,
         "type": "scatter",
         "x": [
          0.6600314300680985
         ],
         "xaxis": "x",
         "y": [
          2.7946568884232583
         ],
         "yaxis": "y"
        },
        {
         "hovertemplate": "index=xception_ArcFace_AdamW<br>Accuracy=%{x}<br>Disparity=%{y}<extra></extra>",
         "legendgroup": "xception_ArcFace_AdamW",
         "marker": {
          "color": "#00cc96",
          "symbol": "circle"
         },
         "mode": "markers",
         "name": "xception_ArcFace_AdamW",
         "orientation": "v",
         "showlegend": true,
         "type": "scatter",
         "x": [
          0.7006286013619696
         ],
         "xaxis": "x",
         "y": [
          2.314562598218963
         ],
         "yaxis": "y"
        },
        {
         "hovertemplate": "index=xception_ArcFace_AdamW_0.001_cosine<br>Accuracy=%{x}<br>Disparity=%{y}<extra></extra>",
         "legendgroup": "xception_ArcFace_AdamW_0.001_cosine",
         "marker": {
          "color": "#ab63fa",
          "symbol": "circle"
         },
         "mode": "markers",
         "name": "xception_ArcFace_AdamW_0.001_cosine",
         "orientation": "v",
         "showlegend": true,
         "type": "scatter",
         "x": [
          0.5859743321110529
         ],
         "xaxis": "x",
         "y": [
          3.6179937139863805
         ],
         "yaxis": "y"
        },
        {
         "hovertemplate": "index=xception_ArcFace_SGD<br>Accuracy=%{x}<br>Disparity=%{y}<extra></extra>",
         "legendgroup": "xception_ArcFace_SGD",
         "marker": {
          "color": "#FFA15A",
          "symbol": "circle"
         },
         "mode": "markers",
         "name": "xception_ArcFace_SGD",
         "orientation": "v",
         "showlegend": true,
         "type": "scatter",
         "x": [
          0.5467522262964903
         ],
         "xaxis": "x",
         "y": [
          4.921424829753798
         ],
         "yaxis": "y"
        },
        {
         "hovertemplate": "index=xception_ArcFace_SGD_0.1_cosine<br>Accuracy=%{x}<br>Disparity=%{y}<extra></extra>",
         "legendgroup": "xception_ArcFace_SGD_0.1_cosine",
         "marker": {
          "color": "#19d3f3",
          "symbol": "circle"
         },
         "mode": "markers",
         "name": "xception_ArcFace_SGD_0.1_cosine",
         "orientation": "v",
         "showlegend": true,
         "type": "scatter",
         "x": [
          0.7979963331587219
         ],
         "xaxis": "x",
         "y": [
          2.0512048192771077
         ],
         "yaxis": "y"
        },
        {
         "hovertemplate": "index=xception_CosFace_Adam<br>Accuracy=%{x}<br>Disparity=%{y}<extra></extra>",
         "legendgroup": "xception_CosFace_Adam",
         "marker": {
          "color": "#FF6692",
          "symbol": "circle"
         },
         "mode": "markers",
         "name": "xception_CosFace_Adam",
         "orientation": "v",
         "showlegend": true,
         "type": "scatter",
         "x": [
          0.0030120481927710845
         ],
         "xaxis": "x",
         "y": [
          1.0666579360922128
         ],
         "yaxis": "y"
        },
        {
         "hovertemplate": "index=xception_CosFace_AdamW<br>Accuracy=%{x}<br>Disparity=%{y}<extra></extra>",
         "legendgroup": "xception_CosFace_AdamW",
         "marker": {
          "color": "#B6E880",
          "symbol": "circle"
         },
         "mode": "markers",
         "name": "xception_CosFace_AdamW",
         "orientation": "v",
         "showlegend": true,
         "type": "scatter",
         "x": [
          0.5953378732320587
         ],
         "xaxis": "x",
         "y": [
          2.752619172341541
         ],
         "yaxis": "y"
        },
        {
         "hovertemplate": "index=xception_CosFace_AdamW_0.001_cosine<br>Accuracy=%{x}<br>Disparity=%{y}<extra></extra>",
         "legendgroup": "xception_CosFace_AdamW_0.001_cosine",
         "marker": {
          "color": "#FF97FF",
          "symbol": "circle"
         },
         "mode": "markers",
         "name": "xception_CosFace_AdamW_0.001_cosine",
         "orientation": "v",
         "showlegend": true,
         "type": "scatter",
         "x": [
          0.6113803038239917
         ],
         "xaxis": "x",
         "y": [
          4.285751702462022
         ],
         "yaxis": "y"
        },
        {
         "hovertemplate": "index=xception_CosFace_SGD<br>Accuracy=%{x}<br>Disparity=%{y}<extra></extra>",
         "legendgroup": "xception_CosFace_SGD",
         "marker": {
          "color": "#FECB52",
          "symbol": "circle"
         },
         "mode": "markers",
         "name": "xception_CosFace_SGD",
         "orientation": "v",
         "showlegend": true,
         "type": "scatter",
         "x": [
          0.697158198009429
         ],
         "xaxis": "x",
         "y": [
          4.979177579884757
         ],
         "yaxis": "y"
        },
        {
         "hovertemplate": "index=xception_CosFace_SGD_0.1_cosine<br>Accuracy=%{x}<br>Disparity=%{y}<extra></extra>",
         "legendgroup": "xception_CosFace_SGD_0.1_cosine",
         "marker": {
          "color": "#636efa",
          "symbol": "circle"
         },
         "mode": "markers",
         "name": "xception_CosFace_SGD_0.1_cosine",
         "orientation": "v",
         "showlegend": true,
         "type": "scatter",
         "x": [
          0.7287847040335254
         ],
         "xaxis": "x",
         "y": [
          4.909507595599791
         ],
         "yaxis": "y"
        },
        {
         "hovertemplate": "index=xception_MagFace_AdamW<br>Accuracy=%{x}<br>Disparity=%{y}<extra></extra>",
         "legendgroup": "xception_MagFace_AdamW",
         "marker": {
          "color": "#EF553B",
          "symbol": "circle"
         },
         "mode": "markers",
         "name": "xception_MagFace_AdamW",
         "orientation": "v",
         "showlegend": true,
         "type": "scatter",
         "x": [
          0.7818884232582504
         ],
         "xaxis": "x",
         "y": [
          2.245678365636459
         ],
         "yaxis": "y"
        },
        {
         "hovertemplate": "index=xception_MagFace_AdamW_0.001_cosine<br>Accuracy=%{x}<br>Disparity=%{y}<extra></extra>",
         "legendgroup": "xception_MagFace_AdamW_0.001_cosine",
         "marker": {
          "color": "#00cc96",
          "symbol": "circle"
         },
         "mode": "markers",
         "name": "xception_MagFace_AdamW_0.001_cosine",
         "orientation": "v",
         "showlegend": true,
         "type": "scatter",
         "x": [
          0.6066657936092195
         ],
         "xaxis": "x",
         "y": [
          3.1701152435830267
         ],
         "yaxis": "y"
        },
        {
         "hovertemplate": "index=xception_MagFace_SGD<br>Accuracy=%{x}<br>Disparity=%{y}<extra></extra>",
         "legendgroup": "xception_MagFace_SGD",
         "marker": {
          "color": "#ab63fa",
          "symbol": "circle"
         },
         "mode": "markers",
         "name": "xception_MagFace_SGD",
         "orientation": "v",
         "showlegend": true,
         "type": "scatter",
         "x": [
          0.8657019381875327
         ],
         "xaxis": "x",
         "y": [
          3.0814562598218966
         ],
         "yaxis": "y"
        },
        {
         "hovertemplate": "index=xception_MagFace_SGD_0.1_cosine<br>Accuracy=%{x}<br>Disparity=%{y}<extra></extra>",
         "legendgroup": "xception_MagFace_SGD_0.1_cosine",
         "marker": {
          "color": "#FFA15A",
          "symbol": "circle"
         },
         "mode": "markers",
         "name": "xception_MagFace_SGD_0.1_cosine",
         "orientation": "v",
         "showlegend": true,
         "type": "scatter",
         "x": [
          null
         ],
         "xaxis": "x",
         "y": [
          null
         ],
         "yaxis": "y"
        },
        {
         "hovertemplate": "index=Checkpoints_Layers_132345_LR_0.019400015421793128_Head_CosFace_Optimizer_SGD<br>Accuracy=%{x}<br>Disparity=%{y}<extra></extra>",
         "legendgroup": "Checkpoints_Layers_132345_LR_0.019400015421793128_Head_CosFace_Optimizer_SGD",
         "marker": {
          "color": "#19d3f3",
          "symbol": "circle"
         },
         "mode": "markers",
         "name": "Checkpoints_Layers_132345_LR_0.019400015421793128_Head_CosFace_Optimizer_SGD",
         "orientation": "v",
         "showlegend": true,
         "type": "scatter",
         "x": [
          0.8838397066526977
         ],
         "xaxis": "x",
         "y": [
          4.0282870612886335
         ],
         "yaxis": "y"
        },
        {
         "hovertemplate": "index=Checkpoints_Edges_301_LR_0.0002097247501603349_Head_CosFace_Optimizer_Adam<br>Accuracy=%{x}<br>Disparity=%{y}<extra></extra>",
         "legendgroup": "Checkpoints_Edges_301_LR_0.0002097247501603349_Head_CosFace_Optimizer_Adam",
         "marker": {
          "color": "#FF6692",
          "symbol": "circle"
         },
         "mode": "markers",
         "name": "Checkpoints_Edges_301_LR_0.0002097247501603349_Head_CosFace_Optimizer_Adam",
         "orientation": "v",
         "showlegend": true,
         "type": "scatter",
         "x": [
          0.9621529596647459
         ],
         "xaxis": "x",
         "y": [
          1.5665269774751183
         ],
         "yaxis": "y"
        },
        {
         "hovertemplate": "index=Checkpoints_Edges_010_LR_0.22879262881822168_Head_CosFace_Optimizer_SGD<br>Accuracy=%{x}<br>Disparity=%{y}<extra></extra>",
         "legendgroup": "Checkpoints_Edges_010_LR_0.22879262881822168_Head_CosFace_Optimizer_SGD",
         "marker": {
          "color": "#B6E880",
          "symbol": "circle"
         },
         "mode": "markers",
         "name": "Checkpoints_Edges_010_LR_0.22879262881822168_Head_CosFace_Optimizer_SGD",
         "orientation": "v",
         "showlegend": true,
         "type": "scatter",
         "x": [
          0.9621529596647459
         ],
         "xaxis": "x",
         "y": [
          1.3882922996333162
         ],
         "yaxis": "y"
        },
        {
         "hovertemplate": "index=Checkpoints_Edges_680_LR_0.0006048015915653069_Head_CosFace_Optimizer_Adam<br>Accuracy=%{x}<br>Disparity=%{y}<extra></extra>",
         "legendgroup": "Checkpoints_Edges_680_LR_0.0006048015915653069_Head_CosFace_Optimizer_Adam",
         "marker": {
          "color": "#FF97FF",
          "symbol": "circle"
         },
         "mode": "markers",
         "name": "Checkpoints_Edges_680_LR_0.0006048015915653069_Head_CosFace_Optimizer_Adam",
         "orientation": "v",
         "showlegend": true,
         "type": "scatter",
         "x": [
          0.964248297537978
         ],
         "xaxis": "x",
         "y": [
          1.4072812991094814
         ],
         "yaxis": "y"
        },
        {
         "hovertemplate": "index=Checkpoints_Edges_607_LR_0.0002068925900365171_Head_CosFace_Optimizer_AdamW_1<br>Accuracy=%{x}<br>Disparity=%{y}<extra></extra>",
         "legendgroup": "Checkpoints_Edges_607_LR_0.0002068925900365171_Head_CosFace_Optimizer_AdamW_1",
         "marker": {
          "color": "#FECB52",
          "symbol": "circle"
         },
         "mode": "markers",
         "name": "Checkpoints_Edges_607_LR_0.0002068925900365171_Head_CosFace_Optimizer_AdamW_1",
         "orientation": "v",
         "showlegend": true,
         "type": "scatter",
         "x": [
          0.9507595599790466
         ],
         "xaxis": "x",
         "y": [
          1.951545311681509
         ],
         "yaxis": "y"
        },
        {
         "hovertemplate": "index=dpn107_CosFace_SGD_0.1_cosine_2<br>Accuracy=%{x}<br>Disparity=%{y}<extra></extra>",
         "legendgroup": "dpn107_CosFace_SGD_0.1_cosine_2",
         "marker": {
          "color": "#636efa",
          "symbol": "circle"
         },
         "mode": "markers",
         "name": "dpn107_CosFace_SGD_0.1_cosine_2",
         "orientation": "v",
         "showlegend": true,
         "type": "scatter",
         "x": [
          0.9535096909376637
         ],
         "xaxis": "x",
         "y": [
          2.221451021477213
         ],
         "yaxis": "y"
        },
        {
         "hovertemplate": "index=Checkpoints_Edges_607_LR_0.0002068925900365171_Head_CosFace_Optimizer_AdamW_2<br>Accuracy=%{x}<br>Disparity=%{y}<extra></extra>",
         "legendgroup": "Checkpoints_Edges_607_LR_0.0002068925900365171_Head_CosFace_Optimizer_AdamW_2",
         "marker": {
          "color": "#EF553B",
          "symbol": "circle"
         },
         "mode": "markers",
         "name": "Checkpoints_Edges_607_LR_0.0002068925900365171_Head_CosFace_Optimizer_AdamW_2",
         "orientation": "v",
         "showlegend": true,
         "type": "scatter",
         "x": [
          0.9521346254583551
         ],
         "xaxis": "x",
         "y": [
          2.1714248297537977
         ],
         "yaxis": "y"
        },
        {
         "hovertemplate": "index=Checkpoints_Edges_607_LR_0.0002068925900365171_Head_CosFace_Optimizer_AdamW_3<br>Accuracy=%{x}<br>Disparity=%{y}<extra></extra>",
         "legendgroup": "Checkpoints_Edges_607_LR_0.0002068925900365171_Head_CosFace_Optimizer_AdamW_3",
         "marker": {
          "color": "#00cc96",
          "symbol": "circle"
         },
         "mode": "markers",
         "name": "Checkpoints_Edges_607_LR_0.0002068925900365171_Head_CosFace_Optimizer_AdamW_3",
         "orientation": "v",
         "showlegend": true,
         "type": "scatter",
         "x": [
          0.9503012048192772
         ],
         "xaxis": "x",
         "y": [
          2.3656364588789947
         ],
         "yaxis": "y"
        },
        {
         "hovertemplate": "index=Checkpoints_Edges_607_LR_0.0002068925900365171_Head_CosFace_Optimizer_AdamW_5<br>Accuracy=%{x}<br>Disparity=%{y}<extra></extra>",
         "legendgroup": "Checkpoints_Edges_607_LR_0.0002068925900365171_Head_CosFace_Optimizer_AdamW_5",
         "marker": {
          "color": "#ab63fa",
          "symbol": "circle"
         },
         "mode": "markers",
         "name": "Checkpoints_Edges_607_LR_0.0002068925900365171_Head_CosFace_Optimizer_AdamW_5",
         "orientation": "v",
         "showlegend": true,
         "type": "scatter",
         "x": [
          0.9497773703509691
         ],
         "xaxis": "x",
         "y": [
          2.071503404924044
         ],
         "yaxis": "y"
        },
        {
         "hovertemplate": "index=Checkpoints_Edges_607_LR_0.0002068925900365171_Head_CosFace_Optimizer_AdamW_4<br>Accuracy=%{x}<br>Disparity=%{y}<extra></extra>",
         "legendgroup": "Checkpoints_Edges_607_LR_0.0002068925900365171_Head_CosFace_Optimizer_AdamW_4",
         "marker": {
          "color": "#FFA15A",
          "symbol": "circle"
         },
         "mode": "markers",
         "name": "Checkpoints_Edges_607_LR_0.0002068925900365171_Head_CosFace_Optimizer_AdamW_4",
         "orientation": "v",
         "showlegend": true,
         "type": "scatter",
         "x": [
          null
         ],
         "xaxis": "x",
         "y": [
          null
         ],
         "yaxis": "y"
        },
        {
         "hovertemplate": "index=Checkpoints_Edges_680_LR_0.0006048015915653069_Head_CosFace_Optimizer_Adam_1<br>Accuracy=%{x}<br>Disparity=%{y}<extra></extra>",
         "legendgroup": "Checkpoints_Edges_680_LR_0.0006048015915653069_Head_CosFace_Optimizer_Adam_1",
         "marker": {
          "color": "#19d3f3",
          "symbol": "circle"
         },
         "mode": "markers",
         "name": "Checkpoints_Edges_680_LR_0.0006048015915653069_Head_CosFace_Optimizer_Adam_1",
         "orientation": "v",
         "showlegend": true,
         "type": "scatter",
         "x": [
          0.9664745940282871
         ],
         "xaxis": "x",
         "y": [
          1.5840754321634365
         ],
         "yaxis": "y"
        },
        {
         "hovertemplate": "index=Checkpoints_Edges_680_LR_0.0006048015915653069_Head_CosFace_Optimizer_Adam_2<br>Accuracy=%{x}<br>Disparity=%{y}<extra></extra>",
         "legendgroup": "Checkpoints_Edges_680_LR_0.0006048015915653069_Head_CosFace_Optimizer_Adam_2",
         "marker": {
          "color": "#FF6692",
          "symbol": "circle"
         },
         "mode": "markers",
         "name": "Checkpoints_Edges_680_LR_0.0006048015915653069_Head_CosFace_Optimizer_Adam_2",
         "orientation": "v",
         "showlegend": true,
         "type": "scatter",
         "x": [
          0.9640518596123625
         ],
         "xaxis": "x",
         "y": [
          1.7145102147721318
         ],
         "yaxis": "y"
        },
        {
         "hovertemplate": "index=Checkpoints_Edges_680_LR_0.0006048015915653069_Head_CosFace_Optimizer_Adam_3<br>Accuracy=%{x}<br>Disparity=%{y}<extra></extra>",
         "legendgroup": "Checkpoints_Edges_680_LR_0.0006048015915653069_Head_CosFace_Optimizer_Adam_3",
         "marker": {
          "color": "#B6E880",
          "symbol": "circle"
         },
         "mode": "markers",
         "name": "Checkpoints_Edges_680_LR_0.0006048015915653069_Head_CosFace_Optimizer_Adam_3",
         "orientation": "v",
         "showlegend": true,
         "type": "scatter",
         "x": [
          null
         ],
         "xaxis": "x",
         "y": [
          null
         ],
         "yaxis": "y"
        },
        {
         "hovertemplate": "index=Checkpoints_Edges_680_LR_0.0006048015915653069_Head_CosFace_Optimizer_Adam_4<br>Accuracy=%{x}<br>Disparity=%{y}<extra></extra>",
         "legendgroup": "Checkpoints_Edges_680_LR_0.0006048015915653069_Head_CosFace_Optimizer_Adam_4",
         "marker": {
          "color": "#FF97FF",
          "symbol": "circle"
         },
         "mode": "markers",
         "name": "Checkpoints_Edges_680_LR_0.0006048015915653069_Head_CosFace_Optimizer_Adam_4",
         "orientation": "v",
         "showlegend": true,
         "type": "scatter",
         "x": [
          null
         ],
         "xaxis": "x",
         "y": [
          null
         ],
         "yaxis": "y"
        },
        {
         "hovertemplate": "index=Checkpoints_Edges_680_LR_0.0006048015915653069_Head_CosFace_Optimizer_Adam_5<br>Accuracy=%{x}<br>Disparity=%{y}<extra></extra>",
         "legendgroup": "Checkpoints_Edges_680_LR_0.0006048015915653069_Head_CosFace_Optimizer_Adam_5",
         "marker": {
          "color": "#FECB52",
          "symbol": "circle"
         },
         "mode": "markers",
         "name": "Checkpoints_Edges_680_LR_0.0006048015915653069_Head_CosFace_Optimizer_Adam_5",
         "orientation": "v",
         "showlegend": true,
         "type": "scatter",
         "x": [
          null
         ],
         "xaxis": "x",
         "y": [
          null
         ],
         "yaxis": "y"
        },
        {
         "hovertemplate": "index=Checkpoints_Edges_010_LR_0.22879262881822168_Head_CosFace_Optimizer_SGD_5<br>Accuracy=%{x}<br>Disparity=%{y}<extra></extra>",
         "legendgroup": "Checkpoints_Edges_010_LR_0.22879262881822168_Head_CosFace_Optimizer_SGD_5",
         "marker": {
          "color": "#636efa",
          "symbol": "circle"
         },
         "mode": "markers",
         "name": "Checkpoints_Edges_010_LR_0.22879262881822168_Head_CosFace_Optimizer_SGD_5",
         "orientation": "v",
         "showlegend": true,
         "type": "scatter",
         "x": [
          null
         ],
         "xaxis": "x",
         "y": [
          null
         ],
         "yaxis": "y"
        },
        {
         "hovertemplate": "index=Checkpoints_Edges_010_LR_0.22879262881822168_Head_CosFace_Optimizer_SGD_4<br>Accuracy=%{x}<br>Disparity=%{y}<extra></extra>",
         "legendgroup": "Checkpoints_Edges_010_LR_0.22879262881822168_Head_CosFace_Optimizer_SGD_4",
         "marker": {
          "color": "#EF553B",
          "symbol": "circle"
         },
         "mode": "markers",
         "name": "Checkpoints_Edges_010_LR_0.22879262881822168_Head_CosFace_Optimizer_SGD_4",
         "orientation": "v",
         "showlegend": true,
         "type": "scatter",
         "x": [
          null
         ],
         "xaxis": "x",
         "y": [
          null
         ],
         "yaxis": "y"
        },
        {
         "hovertemplate": "index=Checkpoints_Edges_010_LR_0.22879262881822168_Head_CosFace_Optimizer_SGD_3<br>Accuracy=%{x}<br>Disparity=%{y}<extra></extra>",
         "legendgroup": "Checkpoints_Edges_010_LR_0.22879262881822168_Head_CosFace_Optimizer_SGD_3",
         "marker": {
          "color": "#00cc96",
          "symbol": "circle"
         },
         "mode": "markers",
         "name": "Checkpoints_Edges_010_LR_0.22879262881822168_Head_CosFace_Optimizer_SGD_3",
         "orientation": "v",
         "showlegend": true,
         "type": "scatter",
         "x": [
          null
         ],
         "xaxis": "x",
         "y": [
          null
         ],
         "yaxis": "y"
        },
        {
         "hovertemplate": "index=Checkpoints_Edges_010_LR_0.22879262881822168_Head_CosFace_Optimizer_SGD_2<br>Accuracy=%{x}<br>Disparity=%{y}<extra></extra>",
         "legendgroup": "Checkpoints_Edges_010_LR_0.22879262881822168_Head_CosFace_Optimizer_SGD_2",
         "marker": {
          "color": "#ab63fa",
          "symbol": "circle"
         },
         "mode": "markers",
         "name": "Checkpoints_Edges_010_LR_0.22879262881822168_Head_CosFace_Optimizer_SGD_2",
         "orientation": "v",
         "showlegend": true,
         "type": "scatter",
         "x": [
          null
         ],
         "xaxis": "x",
         "y": [
          null
         ],
         "yaxis": "y"
        },
        {
         "hovertemplate": "index=Checkpoints_Edges_010_LR_0.22879262881822168_Head_CosFace_Optimizer_SGD_1<br>Accuracy=%{x}<br>Disparity=%{y}<extra></extra>",
         "legendgroup": "Checkpoints_Edges_010_LR_0.22879262881822168_Head_CosFace_Optimizer_SGD_1",
         "marker": {
          "color": "#FFA15A",
          "symbol": "circle"
         },
         "mode": "markers",
         "name": "Checkpoints_Edges_010_LR_0.22879262881822168_Head_CosFace_Optimizer_SGD_1",
         "orientation": "v",
         "showlegend": true,
         "type": "scatter",
         "x": [
          null
         ],
         "xaxis": "x",
         "y": [
          null
         ],
         "yaxis": "y"
        },
        {
         "hovertemplate": "index=Checkpoints_Edges_301_LR_0.0002097247501603349_Head_CosFace_Optimizer_Adam_1<br>Accuracy=%{x}<br>Disparity=%{y}<extra></extra>",
         "legendgroup": "Checkpoints_Edges_301_LR_0.0002097247501603349_Head_CosFace_Optimizer_Adam_1",
         "marker": {
          "color": "#19d3f3",
          "symbol": "circle"
         },
         "mode": "markers",
         "name": "Checkpoints_Edges_301_LR_0.0002097247501603349_Head_CosFace_Optimizer_Adam_1",
         "orientation": "v",
         "showlegend": true,
         "type": "scatter",
         "x": [
          0.9624803562074384
         ],
         "xaxis": "x",
         "y": [
          1.7705605028810893
         ],
         "yaxis": "y"
        },
        {
         "hovertemplate": "index=Checkpoints_Edges_301_LR_0.0002097247501603349_Head_CosFace_Optimizer_Adam_2<br>Accuracy=%{x}<br>Disparity=%{y}<extra></extra>",
         "legendgroup": "Checkpoints_Edges_301_LR_0.0002097247501603349_Head_CosFace_Optimizer_Adam_2",
         "marker": {
          "color": "#FF6692",
          "symbol": "circle"
         },
         "mode": "markers",
         "name": "Checkpoints_Edges_301_LR_0.0002097247501603349_Head_CosFace_Optimizer_Adam_2",
         "orientation": "v",
         "showlegend": true,
         "type": "scatter",
         "x": [
          0.9616946045049765
         ],
         "xaxis": "x",
         "y": [
          1.9867731796752222
         ],
         "yaxis": "y"
        },
        {
         "hovertemplate": "index=Checkpoints_Edges_301_LR_0.0002097247501603349_Head_CosFace_Optimizer_Adam_3<br>Accuracy=%{x}<br>Disparity=%{y}<extra></extra>",
         "legendgroup": "Checkpoints_Edges_301_LR_0.0002097247501603349_Head_CosFace_Optimizer_Adam_3",
         "marker": {
          "color": "#B6E880",
          "symbol": "circle"
         },
         "mode": "markers",
         "name": "Checkpoints_Edges_301_LR_0.0002097247501603349_Head_CosFace_Optimizer_Adam_3",
         "orientation": "v",
         "showlegend": true,
         "type": "scatter",
         "x": [
          0.961629125196438
         ],
         "xaxis": "x",
         "y": [
          1.5339182818229444
         ],
         "yaxis": "y"
        },
        {
         "hovertemplate": "index=Checkpoints_Edges_301_LR_0.0002097247501603349_Head_CosFace_Optimizer_Adam_4<br>Accuracy=%{x}<br>Disparity=%{y}<extra></extra>",
         "legendgroup": "Checkpoints_Edges_301_LR_0.0002097247501603349_Head_CosFace_Optimizer_Adam_4",
         "marker": {
          "color": "#FF97FF",
          "symbol": "circle"
         },
         "mode": "markers",
         "name": "Checkpoints_Edges_301_LR_0.0002097247501603349_Head_CosFace_Optimizer_Adam_4",
         "orientation": "v",
         "showlegend": true,
         "type": "scatter",
         "x": [
          0.9613672079622839
         ],
         "xaxis": "x",
         "y": [
          1.4188056574122578
         ],
         "yaxis": "y"
        },
        {
         "hovertemplate": "index=Checkpoints_Edges_301_LR_0.0002097247501603349_Head_CosFace_Optimizer_Adam_5<br>Accuracy=%{x}<br>Disparity=%{y}<extra></extra>",
         "legendgroup": "Checkpoints_Edges_301_LR_0.0002097247501603349_Head_CosFace_Optimizer_Adam_5",
         "marker": {
          "color": "#FECB52",
          "symbol": "circle"
         },
         "mode": "markers",
         "name": "Checkpoints_Edges_301_LR_0.0002097247501603349_Head_CosFace_Optimizer_Adam_5",
         "orientation": "v",
         "showlegend": true,
         "type": "scatter",
         "x": [
          0.9610398114195914
         ],
         "xaxis": "x",
         "y": [
          1.9769512833944471
         ],
         "yaxis": "y"
        },
        {
         "hovertemplate": "index=Checkpoints_Edges_010_LR_0.32348738788346576_Head_CosFace_Optimizer_SGD_5<br>Accuracy=%{x}<br>Disparity=%{y}<extra></extra>",
         "legendgroup": "Checkpoints_Edges_010_LR_0.32348738788346576_Head_CosFace_Optimizer_SGD_5",
         "marker": {
          "color": "#636efa",
          "symbol": "circle"
         },
         "mode": "markers",
         "name": "Checkpoints_Edges_010_LR_0.32348738788346576_Head_CosFace_Optimizer_SGD_5",
         "orientation": "v",
         "showlegend": true,
         "type": "scatter",
         "x": [
          0.9607124148768988
         ],
         "xaxis": "x",
         "y": [
          1.5070717653221584
         ],
         "yaxis": "y"
        },
        {
         "hovertemplate": "index=Checkpoints_Edges_010_LR_0.32348738788346576_Head_CosFace_Optimizer_SGD_1<br>Accuracy=%{x}<br>Disparity=%{y}<extra></extra>",
         "legendgroup": "Checkpoints_Edges_010_LR_0.32348738788346576_Head_CosFace_Optimizer_SGD_1",
         "marker": {
          "color": "#EF553B",
          "symbol": "circle"
         },
         "mode": "markers",
         "name": "Checkpoints_Edges_010_LR_0.32348738788346576_Head_CosFace_Optimizer_SGD_1",
         "orientation": "v",
         "showlegend": true,
         "type": "scatter",
         "x": [
          0.9611707700366684
         ],
         "xaxis": "x",
         "y": [
          1.4690937663698271
         ],
         "yaxis": "y"
        },
        {
         "hovertemplate": "index=Checkpoints_Edges_010_LR_0.32348738788346576_Head_CosFace_Optimizer_SGD_2<br>Accuracy=%{x}<br>Disparity=%{y}<extra></extra>",
         "legendgroup": "Checkpoints_Edges_010_LR_0.32348738788346576_Head_CosFace_Optimizer_SGD_2",
         "marker": {
          "color": "#00cc96",
          "symbol": "circle"
         },
         "mode": "markers",
         "name": "Checkpoints_Edges_010_LR_0.32348738788346576_Head_CosFace_Optimizer_SGD_2",
         "orientation": "v",
         "showlegend": true,
         "type": "scatter",
         "x": [
          0.9611052907281299
         ],
         "xaxis": "x",
         "y": [
          1.2996333158721844
         ],
         "yaxis": "y"
        },
        {
         "hovertemplate": "index=Checkpoints_Edges_010_LR_0.32348738788346576_Head_CosFace_Optimizer_SGD_3<br>Accuracy=%{x}<br>Disparity=%{y}<extra></extra>",
         "legendgroup": "Checkpoints_Edges_010_LR_0.32348738788346576_Head_CosFace_Optimizer_SGD_3",
         "marker": {
          "color": "#ab63fa",
          "symbol": "circle"
         },
         "mode": "markers",
         "name": "Checkpoints_Edges_010_LR_0.32348738788346576_Head_CosFace_Optimizer_SGD_3",
         "orientation": "v",
         "showlegend": true,
         "type": "scatter",
         "x": [
          0.9606469355683604
         ],
         "xaxis": "x",
         "y": [
          1.2572027239392352
         ],
         "yaxis": "y"
        },
        {
         "hovertemplate": "index=Checkpoints_Edges_010_LR_0.32348738788346576_Head_CosFace_Optimizer_SGD_4<br>Accuracy=%{x}<br>Disparity=%{y}<extra></extra>",
         "legendgroup": "Checkpoints_Edges_010_LR_0.32348738788346576_Head_CosFace_Optimizer_SGD_4",
         "marker": {
          "color": "#FFA15A",
          "symbol": "circle"
         },
         "mode": "markers",
         "name": "Checkpoints_Edges_010_LR_0.32348738788346576_Head_CosFace_Optimizer_SGD_4",
         "orientation": "v",
         "showlegend": true,
         "type": "scatter",
         "x": [
          0.9601231011000524
         ],
         "xaxis": "x",
         "y": [
          1.3765060240963858
         ],
         "yaxis": "y"
        },
        {
         "hovertemplate": "index=Checkpoints_Edges_000_LR_0.2813375341651194_Head_CosFace_Optimizer_SGD_1<br>Accuracy=%{x}<br>Disparity=%{y}<extra></extra>",
         "legendgroup": "Checkpoints_Edges_000_LR_0.2813375341651194_Head_CosFace_Optimizer_SGD_1",
         "marker": {
          "color": "#19d3f3",
          "symbol": "circle"
         },
         "mode": "markers",
         "name": "Checkpoints_Edges_000_LR_0.2813375341651194_Head_CosFace_Optimizer_SGD_1",
         "orientation": "v",
         "showlegend": true,
         "type": "scatter",
         "x": [
          0.9694211629125197
         ],
         "xaxis": "x",
         "y": [
          1.2599528548978522
         ],
         "yaxis": "y"
        },
        {
         "hovertemplate": "index=Checkpoints_Edges_000_LR_0.2813375341651194_Head_CosFace_Optimizer_SGD_2<br>Accuracy=%{x}<br>Disparity=%{y}<extra></extra>",
         "legendgroup": "Checkpoints_Edges_000_LR_0.2813375341651194_Head_CosFace_Optimizer_SGD_2",
         "marker": {
          "color": "#FF6692",
          "symbol": "circle"
         },
         "mode": "markers",
         "name": "Checkpoints_Edges_000_LR_0.2813375341651194_Head_CosFace_Optimizer_SGD_2",
         "orientation": "v",
         "showlegend": true,
         "type": "scatter",
         "x": [
          0.9685044525929806
         ],
         "xaxis": "x",
         "y": [
          1.5863017286537455
         ],
         "yaxis": "y"
        },
        {
         "hovertemplate": "index=Checkpoints_Edges_000_LR_0.2813375341651194_Head_CosFace_Optimizer_SGD_3<br>Accuracy=%{x}<br>Disparity=%{y}<extra></extra>",
         "legendgroup": "Checkpoints_Edges_000_LR_0.2813375341651194_Head_CosFace_Optimizer_SGD_3",
         "marker": {
          "color": "#B6E880",
          "symbol": "circle"
         },
         "mode": "markers",
         "name": "Checkpoints_Edges_000_LR_0.2813375341651194_Head_CosFace_Optimizer_SGD_3",
         "orientation": "v",
         "showlegend": true,
         "type": "scatter",
         "x": [
          0.9683734939759037
         ],
         "xaxis": "x",
         "y": [
          1.597171293871137
         ],
         "yaxis": "y"
        },
        {
         "hovertemplate": "index=Checkpoints_Edges_000_LR_0.2813375341651194_Head_CosFace_Optimizer_SGD_4<br>Accuracy=%{x}<br>Disparity=%{y}<extra></extra>",
         "legendgroup": "Checkpoints_Edges_000_LR_0.2813375341651194_Head_CosFace_Optimizer_SGD_4",
         "marker": {
          "color": "#FF97FF",
          "symbol": "circle"
         },
         "mode": "markers",
         "name": "Checkpoints_Edges_000_LR_0.2813375341651194_Head_CosFace_Optimizer_SGD_4",
         "orientation": "v",
         "showlegend": true,
         "type": "scatter",
         "x": [
          0.9700104766893661
         ],
         "xaxis": "x",
         "y": [
          1.5923258250392873
         ],
         "yaxis": "y"
        },
        {
         "hovertemplate": "index=Checkpoints_Edges_000_LR_0.2813375341651194_Head_CosFace_Optimizer_SGD_5<br>Accuracy=%{x}<br>Disparity=%{y}<extra></extra>",
         "legendgroup": "Checkpoints_Edges_000_LR_0.2813375341651194_Head_CosFace_Optimizer_SGD_5",
         "marker": {
          "color": "#FECB52",
          "symbol": "circle"
         },
         "mode": "markers",
         "name": "Checkpoints_Edges_000_LR_0.2813375341651194_Head_CosFace_Optimizer_SGD_5",
         "orientation": "v",
         "showlegend": true,
         "type": "scatter",
         "x": [
          0.9690282870612886
         ],
         "xaxis": "x",
         "y": [
          1.1482451545311685
         ],
         "yaxis": "y"
        },
        {
         "hovertemplate": "index=dpn107_CosFace_SGD_0.1_cosine_3<br>Accuracy=%{x}<br>Disparity=%{y}<extra></extra>",
         "legendgroup": "dpn107_CosFace_SGD_0.1_cosine_3",
         "marker": {
          "color": "#636efa",
          "symbol": "circle"
         },
         "mode": "markers",
         "name": "dpn107_CosFace_SGD_0.1_cosine_3",
         "orientation": "v",
         "showlegend": true,
         "type": "scatter",
         "x": [
          0.9511524358302776
         ],
         "xaxis": "x",
         "y": [
          2.8421948664222105
         ],
         "yaxis": "y"
        },
        {
         "hovertemplate": "index=dpn107_CosFace_SGD_0.1_cosine_4<br>Accuracy=%{x}<br>Disparity=%{y}<extra></extra>",
         "legendgroup": "dpn107_CosFace_SGD_0.1_cosine_4",
         "marker": {
          "color": "#EF553B",
          "symbol": "circle"
         },
         "mode": "markers",
         "name": "dpn107_CosFace_SGD_0.1_cosine_4",
         "orientation": "v",
         "showlegend": true,
         "type": "scatter",
         "x": [
          0.9544918805657412
         ],
         "xaxis": "x",
         "y": [
          2.5550026191723414
         ],
         "yaxis": "y"
        },
        {
         "hovertemplate": "index=dpn107_CosFace_SGD_0.1_cosine_5<br>Accuracy=%{x}<br>Disparity=%{y}<extra></extra>",
         "legendgroup": "dpn107_CosFace_SGD_0.1_cosine_5",
         "marker": {
          "color": "#00cc96",
          "symbol": "circle"
         },
         "mode": "markers",
         "name": "dpn107_CosFace_SGD_0.1_cosine_5",
         "orientation": "v",
         "showlegend": true,
         "type": "scatter",
         "x": [
          0.947943949711891
         ],
         "xaxis": "x",
         "y": [
          2.590230487166056
         ],
         "yaxis": "y"
        },
        {
         "hovertemplate": "index=dpn107_CosFace_SGD_0.1_cosine_6<br>Accuracy=%{x}<br>Disparity=%{y}<extra></extra>",
         "legendgroup": "dpn107_CosFace_SGD_0.1_cosine_6",
         "marker": {
          "color": "#ab63fa",
          "symbol": "circle"
         },
         "mode": "markers",
         "name": "dpn107_CosFace_SGD_0.1_cosine_6",
         "orientation": "v",
         "showlegend": true,
         "type": "scatter",
         "x": [
          0.9512833944473547
         ],
         "xaxis": "x",
         "y": [
          2.971451021477213
         ],
         "yaxis": "y"
        },
        {
         "hovertemplate": "index=dpn107_CosFace_SGD_0.1_cosine_7<br>Accuracy=%{x}<br>Disparity=%{y}<extra></extra>",
         "legendgroup": "dpn107_CosFace_SGD_0.1_cosine_7",
         "marker": {
          "color": "#FFA15A",
          "symbol": "circle"
         },
         "mode": "markers",
         "name": "dpn107_CosFace_SGD_0.1_cosine_7",
         "orientation": "v",
         "showlegend": true,
         "type": "scatter",
         "x": [
          0.947943949711891
         ],
         "xaxis": "x",
         "y": [
          2.6643530644316398
         ],
         "yaxis": "y"
        },
        {
         "hovertemplate": "index=dpn107_CosFace_SGD_0.1_cosine_1<br>Accuracy=%{x}<br>Disparity=%{y}<extra></extra>",
         "legendgroup": "dpn107_CosFace_SGD_0.1_cosine_1",
         "marker": {
          "color": "#19d3f3",
          "symbol": "circle"
         },
         "mode": "markers",
         "name": "dpn107_CosFace_SGD_0.1_cosine_1",
         "orientation": "v",
         "showlegend": true,
         "type": "scatter",
         "x": [
          0.9558014667365112
         ],
         "xaxis": "x",
         "y": [
          2.331194342587742
         ],
         "yaxis": "y"
        },
        {
         "hovertemplate": "index=Checkpoints_Edges_680_LR_0.0006048015915653069_Head_CosFace_Optimizer_Adam_7<br>Accuracy=%{x}<br>Disparity=%{y}<extra></extra>",
         "legendgroup": "Checkpoints_Edges_680_LR_0.0006048015915653069_Head_CosFace_Optimizer_Adam_7",
         "marker": {
          "color": "#FF6692",
          "symbol": "circle"
         },
         "mode": "markers",
         "name": "Checkpoints_Edges_680_LR_0.0006048015915653069_Head_CosFace_Optimizer_Adam_7",
         "orientation": "v",
         "showlegend": true,
         "type": "scatter",
         "x": [
          0.966212676794133
         ],
         "xaxis": "x",
         "y": [
          1.957700366684128
         ],
         "yaxis": "y"
        },
        {
         "hovertemplate": "index=Checkpoints_Edges_680_LR_0.0006048015915653069_Head_CosFace_Optimizer_Adam_6<br>Accuracy=%{x}<br>Disparity=%{y}<extra></extra>",
         "legendgroup": "Checkpoints_Edges_680_LR_0.0006048015915653069_Head_CosFace_Optimizer_Adam_6",
         "marker": {
          "color": "#B6E880",
          "symbol": "circle"
         },
         "mode": "markers",
         "name": "Checkpoints_Edges_680_LR_0.0006048015915653069_Head_CosFace_Optimizer_Adam_6",
         "orientation": "v",
         "showlegend": true,
         "type": "scatter",
         "x": [
          0.9664091147197486
         ],
         "xaxis": "x",
         "y": [
          1.9055788370874809
         ],
         "yaxis": "y"
        },
        {
         "hovertemplate": "index=Checkpoints_Edges_680_LR_0.0006048015915653069_Head_CosFace_Optimizer_Adam_8<br>Accuracy=%{x}<br>Disparity=%{y}<extra></extra>",
         "legendgroup": "Checkpoints_Edges_680_LR_0.0006048015915653069_Head_CosFace_Optimizer_Adam_8",
         "marker": {
          "color": "#FF97FF",
          "symbol": "circle"
         },
         "mode": "markers",
         "name": "Checkpoints_Edges_680_LR_0.0006048015915653069_Head_CosFace_Optimizer_Adam_8",
         "orientation": "v",
         "showlegend": true,
         "type": "scatter",
         "x": [
          0.9675877422734416
         ],
         "xaxis": "x",
         "y": [
          1.8370874803562076
         ],
         "yaxis": "y"
        },
        {
         "hovertemplate": "index=Checkpoints_Edges_680_LR_0.0006048015915653069_Head_CosFace_Optimizer_Adam_9<br>Accuracy=%{x}<br>Disparity=%{y}<extra></extra>",
         "legendgroup": "Checkpoints_Edges_680_LR_0.0006048015915653069_Head_CosFace_Optimizer_Adam_9",
         "marker": {
          "color": "#FECB52",
          "symbol": "circle"
         },
         "mode": "markers",
         "name": "Checkpoints_Edges_680_LR_0.0006048015915653069_Head_CosFace_Optimizer_Adam_9",
         "orientation": "v",
         "showlegend": true,
         "type": "scatter",
         "x": [
          0.967391304347826
         ],
         "xaxis": "x",
         "y": [
          1.6862231534834988
         ],
         "yaxis": "y"
        },
        {
         "hovertemplate": "index=Checkpoints_Edges_680_LR_0.0006048015915653069_Head_CosFace_Optimizer_Adam_10<br>Accuracy=%{x}<br>Disparity=%{y}<extra></extra>",
         "legendgroup": "Checkpoints_Edges_680_LR_0.0006048015915653069_Head_CosFace_Optimizer_Adam_10",
         "marker": {
          "color": "#636efa",
          "symbol": "circle"
         },
         "mode": "markers",
         "name": "Checkpoints_Edges_680_LR_0.0006048015915653069_Head_CosFace_Optimizer_Adam_10",
         "orientation": "v",
         "showlegend": true,
         "type": "scatter",
         "x": [
          0.9667365112624411
         ],
         "xaxis": "x",
         "y": [
          1.7328444211629126
         ],
         "yaxis": "y"
        },
        {
         "hovertemplate": "index=inception_resnet_v2_CosFace_AdamW_0.001_cosine_333<br>Accuracy=%{x}<br>Disparity=%{y}<extra></extra>",
         "legendgroup": "inception_resnet_v2_CosFace_AdamW_0.001_cosine_333",
         "marker": {
          "color": "#EF553B",
          "symbol": "circle"
         },
         "mode": "markers",
         "name": "inception_resnet_v2_CosFace_AdamW_0.001_cosine_333",
         "orientation": "v",
         "showlegend": true,
         "type": "scatter",
         "x": [
          0.40531691985332635
         ],
         "xaxis": "x",
         "y": [
          12.95770036668413
         ],
         "yaxis": "y"
        },
        {
         "hovertemplate": "index=inception_resnet_v2_CosFace_AdamW_0.001_cosine_444<br>Accuracy=%{x}<br>Disparity=%{y}<extra></extra>",
         "legendgroup": "inception_resnet_v2_CosFace_AdamW_0.001_cosine_444",
         "marker": {
          "color": "#00cc96",
          "symbol": "circle"
         },
         "mode": "markers",
         "name": "inception_resnet_v2_CosFace_AdamW_0.001_cosine_444",
         "orientation": "v",
         "showlegend": true,
         "type": "scatter",
         "x": [
          0.46542692509167105
         ],
         "xaxis": "x",
         "y": [
          6.543347302252489
         ],
         "yaxis": "y"
        },
        {
         "hovertemplate": "index=inception_resnet_v2_CosFace_AdamW_0.001_cosine_555<br>Accuracy=%{x}<br>Disparity=%{y}<extra></extra>",
         "legendgroup": "inception_resnet_v2_CosFace_AdamW_0.001_cosine_555",
         "marker": {
          "color": "#ab63fa",
          "symbol": "circle"
         },
         "mode": "markers",
         "name": "inception_resnet_v2_CosFace_AdamW_0.001_cosine_555",
         "orientation": "v",
         "showlegend": true,
         "type": "scatter",
         "x": [
          0.3860660031430068
         ],
         "xaxis": "x",
         "y": [
          14.377160817181768
         ],
         "yaxis": "y"
        },
        {
         "hovertemplate": "index=inception_resnet_v2_CosFace_AdamW_0.001_cosine_666<br>Accuracy=%{x}<br>Disparity=%{y}<extra></extra>",
         "legendgroup": "inception_resnet_v2_CosFace_AdamW_0.001_cosine_666",
         "marker": {
          "color": "#FFA15A",
          "symbol": "circle"
         },
         "mode": "markers",
         "name": "inception_resnet_v2_CosFace_AdamW_0.001_cosine_666",
         "orientation": "v",
         "showlegend": true,
         "type": "scatter",
         "x": [
          0.4928627553693033
         ],
         "xaxis": "x",
         "y": [
          10.557752750130959
         ],
         "yaxis": "y"
        },
        {
         "hovertemplate": "index=inception_resnet_v2_CosFace_SGD_0.1_cosine_666<br>Accuracy=%{x}<br>Disparity=%{y}<extra></extra>",
         "legendgroup": "inception_resnet_v2_CosFace_SGD_0.1_cosine_666",
         "marker": {
          "color": "#19d3f3",
          "symbol": "circle"
         },
         "mode": "markers",
         "name": "inception_resnet_v2_CosFace_SGD_0.1_cosine_666",
         "orientation": "v",
         "showlegend": true,
         "type": "scatter",
         "x": [
          null
         ],
         "xaxis": "x",
         "y": [
          null
         ],
         "yaxis": "y"
        },
        {
         "hovertemplate": "index=inception_resnet_v2_CosFace_SGD_0.1_cosine_333<br>Accuracy=%{x}<br>Disparity=%{y}<extra></extra>",
         "legendgroup": "inception_resnet_v2_CosFace_SGD_0.1_cosine_333",
         "marker": {
          "color": "#FF6692",
          "symbol": "circle"
         },
         "mode": "markers",
         "name": "inception_resnet_v2_CosFace_SGD_0.1_cosine_333",
         "orientation": "v",
         "showlegend": true,
         "type": "scatter",
         "x": [
          0.7665007857517024
         ],
         "xaxis": "x",
         "y": [
          4.157412257726558
         ],
         "yaxis": "y"
        },
        {
         "hovertemplate": "index=inception_resnet_v2_CosFace_SGD_0.1_cosine_444<br>Accuracy=%{x}<br>Disparity=%{y}<extra></extra>",
         "legendgroup": "inception_resnet_v2_CosFace_SGD_0.1_cosine_444",
         "marker": {
          "color": "#B6E880",
          "symbol": "circle"
         },
         "mode": "markers",
         "name": "inception_resnet_v2_CosFace_SGD_0.1_cosine_444",
         "orientation": "v",
         "showlegend": true,
         "type": "scatter",
         "x": [
          0.7954426401257203
         ],
         "xaxis": "x",
         "y": [
          1.6405185961236244
         ],
         "yaxis": "y"
        },
        {
         "hovertemplate": "index=inception_resnet_v2_CosFace_SGD_0.1_cosine_555<br>Accuracy=%{x}<br>Disparity=%{y}<extra></extra>",
         "legendgroup": "inception_resnet_v2_CosFace_SGD_0.1_cosine_555",
         "marker": {
          "color": "#FF97FF",
          "symbol": "circle"
         },
         "mode": "markers",
         "name": "inception_resnet_v2_CosFace_SGD_0.1_cosine_555",
         "orientation": "v",
         "showlegend": true,
         "type": "scatter",
         "x": [
          null
         ],
         "xaxis": "x",
         "y": [
          null
         ],
         "yaxis": "y"
        },
        {
         "hovertemplate": "index=densenet161_CosFace_AdamW_0.001_cosine_333<br>Accuracy=%{x}<br>Disparity=%{y}<extra></extra>",
         "legendgroup": "densenet161_CosFace_AdamW_0.001_cosine_333",
         "marker": {
          "color": "#FECB52",
          "symbol": "circle"
         },
         "mode": "markers",
         "name": "densenet161_CosFace_AdamW_0.001_cosine_333",
         "orientation": "v",
         "showlegend": true,
         "type": "scatter",
         "x": [
          0.7790073336825563
         ],
         "xaxis": "x",
         "y": [
          2.340230487166057
         ],
         "yaxis": "y"
        },
        {
         "hovertemplate": "index=densenet161_CosFace_AdamW_0.001_cosine_444<br>Accuracy=%{x}<br>Disparity=%{y}<extra></extra>",
         "legendgroup": "densenet161_CosFace_AdamW_0.001_cosine_444",
         "marker": {
          "color": "#636efa",
          "symbol": "circle"
         },
         "mode": "markers",
         "name": "densenet161_CosFace_AdamW_0.001_cosine_444",
         "orientation": "v",
         "showlegend": true,
         "type": "scatter",
         "x": [
          0.7746202200104767
         ],
         "xaxis": "x",
         "y": [
          9.193687794656888
         ],
         "yaxis": "y"
        },
        {
         "hovertemplate": "index=densenet161_CosFace_AdamW_0.001_cosine_555<br>Accuracy=%{x}<br>Disparity=%{y}<extra></extra>",
         "legendgroup": "densenet161_CosFace_AdamW_0.001_cosine_555",
         "marker": {
          "color": "#EF553B",
          "symbol": "circle"
         },
         "mode": "markers",
         "name": "densenet161_CosFace_AdamW_0.001_cosine_555",
         "orientation": "v",
         "showlegend": true,
         "type": "scatter",
         "x": [
          0.7839837611314825
         ],
         "xaxis": "x",
         "y": [
          12.70285489785228
         ],
         "yaxis": "y"
        },
        {
         "hovertemplate": "index=densenet161_CosFace_AdamW_0.001_cosine_666<br>Accuracy=%{x}<br>Disparity=%{y}<extra></extra>",
         "legendgroup": "densenet161_CosFace_AdamW_0.001_cosine_666",
         "marker": {
          "color": "#00cc96",
          "symbol": "circle"
         },
         "mode": "markers",
         "name": "densenet161_CosFace_AdamW_0.001_cosine_666",
         "orientation": "v",
         "showlegend": true,
         "type": "scatter",
         "x": [
          0.8308669460450497
         ],
         "xaxis": "x",
         "y": [
          1.7252488213724462
         ],
         "yaxis": "y"
        },
        {
         "hovertemplate": "index=dpn107_MagFace_SGD_0.1_cosine_333<br>Accuracy=%{x}<br>Disparity=%{y}<extra></extra>",
         "legendgroup": "dpn107_MagFace_SGD_0.1_cosine_333",
         "marker": {
          "color": "#ab63fa",
          "symbol": "circle"
         },
         "mode": "markers",
         "name": "dpn107_MagFace_SGD_0.1_cosine_333",
         "orientation": "v",
         "showlegend": true,
         "type": "scatter",
         "x": [
          0.8312598218962808
         ],
         "xaxis": "x",
         "y": [
          1.389078051335777
         ],
         "yaxis": "y"
        },
        {
         "hovertemplate": "index=dpn107_MagFace_SGD_0.1_cosine_444<br>Accuracy=%{x}<br>Disparity=%{y}<extra></extra>",
         "legendgroup": "dpn107_MagFace_SGD_0.1_cosine_444",
         "marker": {
          "color": "#FFA15A",
          "symbol": "circle"
         },
         "mode": "markers",
         "name": "dpn107_MagFace_SGD_0.1_cosine_444",
         "orientation": "v",
         "showlegend": true,
         "type": "scatter",
         "x": [
          0.8704164484023049
         ],
         "xaxis": "x",
         "y": [
          1.1249345206914612
         ],
         "yaxis": "y"
        },
        {
         "hovertemplate": "index=dpn107_MagFace_SGD_0.1_cosine_555<br>Accuracy=%{x}<br>Disparity=%{y}<extra></extra>",
         "legendgroup": "dpn107_MagFace_SGD_0.1_cosine_555",
         "marker": {
          "color": "#19d3f3",
          "symbol": "circle"
         },
         "mode": "markers",
         "name": "dpn107_MagFace_SGD_0.1_cosine_555",
         "orientation": "v",
         "showlegend": true,
         "type": "scatter",
         "x": [
          0.8714641173389209
         ],
         "xaxis": "x",
         "y": [
          1.4892613933996857
         ],
         "yaxis": "y"
        },
        {
         "hovertemplate": "index=dpn107_MagFace_SGD_0.1_cosine_666<br>Accuracy=%{x}<br>Disparity=%{y}<extra></extra>",
         "legendgroup": "dpn107_MagFace_SGD_0.1_cosine_666",
         "marker": {
          "color": "#FF6692",
          "symbol": "circle"
         },
         "mode": "markers",
         "name": "dpn107_MagFace_SGD_0.1_cosine_666",
         "orientation": "v",
         "showlegend": true,
         "type": "scatter",
         "x": [
          0.874738082765846
         ],
         "xaxis": "x",
         "y": [
          1.8854112100576215
         ],
         "yaxis": "y"
        },
        {
         "hovertemplate": "index=ese_vovnet39b_CosFace_AdamW_0.001_cosine_333<br>Accuracy=%{x}<br>Disparity=%{y}<extra></extra>",
         "legendgroup": "ese_vovnet39b_CosFace_AdamW_0.001_cosine_333",
         "marker": {
          "color": "#B6E880",
          "symbol": "circle"
         },
         "mode": "markers",
         "name": "ese_vovnet39b_CosFace_AdamW_0.001_cosine_333",
         "orientation": "v",
         "showlegend": true,
         "type": "scatter",
         "x": [
          0.7198140387637506
         ],
         "xaxis": "x",
         "y": [
          4.366684127815611
         ],
         "yaxis": "y"
        },
        {
         "hovertemplate": "index=ese_vovnet39b_CosFace_AdamW_0.001_cosine_444<br>Accuracy=%{x}<br>Disparity=%{y}<extra></extra>",
         "legendgroup": "ese_vovnet39b_CosFace_AdamW_0.001_cosine_444",
         "marker": {
          "color": "#FF97FF",
          "symbol": "circle"
         },
         "mode": "markers",
         "name": "ese_vovnet39b_CosFace_AdamW_0.001_cosine_444",
         "orientation": "v",
         "showlegend": true,
         "type": "scatter",
         "x": [
          0.6897590361445783
         ],
         "xaxis": "x",
         "y": [
          6.551597695128338
         ],
         "yaxis": "y"
        },
        {
         "hovertemplate": "index=ese_vovnet39b_CosFace_AdamW_0.001_cosine_555<br>Accuracy=%{x}<br>Disparity=%{y}<extra></extra>",
         "legendgroup": "ese_vovnet39b_CosFace_AdamW_0.001_cosine_555",
         "marker": {
          "color": "#FECB52",
          "symbol": "circle"
         },
         "mode": "markers",
         "name": "ese_vovnet39b_CosFace_AdamW_0.001_cosine_555",
         "orientation": "v",
         "showlegend": true,
         "type": "scatter",
         "x": [
          0.5483237297014144
         ],
         "xaxis": "x",
         "y": [
          9.129125196437926
         ],
         "yaxis": "y"
        },
        {
         "hovertemplate": "index=ese_vovnet39b_CosFace_AdamW_0.001_cosine_666<br>Accuracy=%{x}<br>Disparity=%{y}<extra></extra>",
         "legendgroup": "ese_vovnet39b_CosFace_AdamW_0.001_cosine_666",
         "marker": {
          "color": "#636efa",
          "symbol": "circle"
         },
         "mode": "markers",
         "name": "ese_vovnet39b_CosFace_AdamW_0.001_cosine_666",
         "orientation": "v",
         "showlegend": true,
         "type": "scatter",
         "x": [
          0.6923782084861184
         ],
         "xaxis": "x",
         "y": [
          6.056966998428498
         ],
         "yaxis": "y"
        },
        {
         "hovertemplate": "index=mobilenetv3_large_100_CosFace_SGD_0.1_cosine_333<br>Accuracy=%{x}<br>Disparity=%{y}<extra></extra>",
         "legendgroup": "mobilenetv3_large_100_CosFace_SGD_0.1_cosine_333",
         "marker": {
          "color": "#EF553B",
          "symbol": "circle"
         },
         "mode": "markers",
         "name": "mobilenetv3_large_100_CosFace_SGD_0.1_cosine_333",
         "orientation": "v",
         "showlegend": true,
         "type": "scatter",
         "x": [
          0.7221058145625983
         ],
         "xaxis": "x",
         "y": [
          4.668150864326873
         ],
         "yaxis": "y"
        },
        {
         "hovertemplate": "index=mobilenetv3_large_100_CosFace_SGD_0.1_cosine_444<br>Accuracy=%{x}<br>Disparity=%{y}<extra></extra>",
         "legendgroup": "mobilenetv3_large_100_CosFace_SGD_0.1_cosine_444",
         "marker": {
          "color": "#00cc96",
          "symbol": "circle"
         },
         "mode": "markers",
         "name": "mobilenetv3_large_100_CosFace_SGD_0.1_cosine_444",
         "orientation": "v",
         "showlegend": true,
         "type": "scatter",
         "x": [
          0.7187663698271346
         ],
         "xaxis": "x",
         "y": [
          5.977213200628602
         ],
         "yaxis": "y"
        },
        {
         "hovertemplate": "index=mobilenetv3_large_100_CosFace_SGD_0.1_cosine_555<br>Accuracy=%{x}<br>Disparity=%{y}<extra></extra>",
         "legendgroup": "mobilenetv3_large_100_CosFace_SGD_0.1_cosine_555",
         "marker": {
          "color": "#ab63fa",
          "symbol": "circle"
         },
         "mode": "markers",
         "name": "mobilenetv3_large_100_CosFace_SGD_0.1_cosine_555",
         "orientation": "v",
         "showlegend": true,
         "type": "scatter",
         "x": [
          0.7065872184389733
         ],
         "xaxis": "x",
         "y": [
          5.586825563122054
         ],
         "yaxis": "y"
        },
        {
         "hovertemplate": "index=mobilenetv3_large_100_CosFace_SGD_0.1_cosine_666<br>Accuracy=%{x}<br>Disparity=%{y}<extra></extra>",
         "legendgroup": "mobilenetv3_large_100_CosFace_SGD_0.1_cosine_666",
         "marker": {
          "color": "#FFA15A",
          "symbol": "circle"
         },
         "mode": "markers",
         "name": "mobilenetv3_large_100_CosFace_SGD_0.1_cosine_666",
         "orientation": "v",
         "showlegend": true,
         "type": "scatter",
         "x": [
          0.7106469355683604
         ],
         "xaxis": "x",
         "y": [
          5.862100576217915
         ],
         "yaxis": "y"
        },
        {
         "hovertemplate": "index=rexnet_200_MagFace_SGD_0.1_cosine_333<br>Accuracy=%{x}<br>Disparity=%{y}<extra></extra>",
         "legendgroup": "rexnet_200_MagFace_SGD_0.1_cosine_333",
         "marker": {
          "color": "#19d3f3",
          "symbol": "circle"
         },
         "mode": "markers",
         "name": "rexnet_200_MagFace_SGD_0.1_cosine_333",
         "orientation": "v",
         "showlegend": true,
         "type": "scatter",
         "x": [
          0.9006024096385542
         ],
         "xaxis": "x",
         "y": [
          3.1487689889994757
         ],
         "yaxis": "y"
        },
        {
         "hovertemplate": "index=rexnet_200_MagFace_SGD_0.1_cosine_444<br>Accuracy=%{x}<br>Disparity=%{y}<extra></extra>",
         "legendgroup": "rexnet_200_MagFace_SGD_0.1_cosine_444",
         "marker": {
          "color": "#FF6692",
          "symbol": "circle"
         },
         "mode": "markers",
         "name": "rexnet_200_MagFace_SGD_0.1_cosine_444",
         "orientation": "v",
         "showlegend": true,
         "type": "scatter",
         "x": [
          0.8958224201152436
         ],
         "xaxis": "x",
         "y": [
          2.1969617600838136
         ],
         "yaxis": "y"
        },
        {
         "hovertemplate": "index=rexnet_200_MagFace_SGD_0.1_cosine_555<br>Accuracy=%{x}<br>Disparity=%{y}<extra></extra>",
         "legendgroup": "rexnet_200_MagFace_SGD_0.1_cosine_555",
         "marker": {
          "color": "#B6E880",
          "symbol": "circle"
         },
         "mode": "markers",
         "name": "rexnet_200_MagFace_SGD_0.1_cosine_555",
         "orientation": "v",
         "showlegend": true,
         "type": "scatter",
         "x": [
          0.8977213200628601
         ],
         "xaxis": "x",
         "y": [
          2.216605552645364
         ],
         "yaxis": "y"
        },
        {
         "hovertemplate": "index=rexnet_200_MagFace_SGD_0.1_cosine_666<br>Accuracy=%{x}<br>Disparity=%{y}<extra></extra>",
         "legendgroup": "rexnet_200_MagFace_SGD_0.1_cosine_666",
         "marker": {
          "color": "#FF97FF",
          "symbol": "circle"
         },
         "mode": "markers",
         "name": "rexnet_200_MagFace_SGD_0.1_cosine_666",
         "orientation": "v",
         "showlegend": true,
         "type": "scatter",
         "x": [
          0.8987035096909377
         ],
         "xaxis": "x",
         "y": [
          2.0522524882137247
         ],
         "yaxis": "y"
        },
        {
         "hovertemplate": "index=tnt_s_patch16_224_CosFace_AdamW_333<br>Accuracy=%{x}<br>Disparity=%{y}<extra></extra>",
         "legendgroup": "tnt_s_patch16_224_CosFace_AdamW_333",
         "marker": {
          "color": "#FECB52",
          "symbol": "circle"
         },
         "mode": "markers",
         "name": "tnt_s_patch16_224_CosFace_AdamW_333",
         "orientation": "v",
         "showlegend": true,
         "type": "scatter",
         "x": [
          0.8689759036144579
         ],
         "xaxis": "x",
         "y": [
          4.140780513357779
         ],
         "yaxis": "y"
        },
        {
         "hovertemplate": "index=tnt_s_patch16_224_CosFace_AdamW_444<br>Accuracy=%{x}<br>Disparity=%{y}<extra></extra>",
         "legendgroup": "tnt_s_patch16_224_CosFace_AdamW_444",
         "marker": {
          "color": "#636efa",
          "symbol": "circle"
         },
         "mode": "markers",
         "name": "tnt_s_patch16_224_CosFace_AdamW_444",
         "orientation": "v",
         "showlegend": true,
         "type": "scatter",
         "x": [
          0.8676663174436878
         ],
         "xaxis": "x",
         "y": [
          3.8247773703509695
         ],
         "yaxis": "y"
        },
        {
         "hovertemplate": "index=tnt_s_patch16_224_CosFace_AdamW_555<br>Accuracy=%{x}<br>Disparity=%{y}<extra></extra>",
         "legendgroup": "tnt_s_patch16_224_CosFace_AdamW_555",
         "marker": {
          "color": "#EF553B",
          "symbol": "circle"
         },
         "mode": "markers",
         "name": "tnt_s_patch16_224_CosFace_AdamW_555",
         "orientation": "v",
         "showlegend": true,
         "type": "scatter",
         "x": [
          0.8711367207962284
         ],
         "xaxis": "x",
         "y": [
          3.9046621267679416
         ],
         "yaxis": "y"
        },
        {
         "hovertemplate": "index=tnt_s_patch16_224_CosFace_AdamW_666<br>Accuracy=%{x}<br>Disparity=%{y}<extra></extra>",
         "legendgroup": "tnt_s_patch16_224_CosFace_AdamW_666",
         "marker": {
          "color": "#00cc96",
          "symbol": "circle"
         },
         "mode": "markers",
         "name": "tnt_s_patch16_224_CosFace_AdamW_666",
         "orientation": "v",
         "showlegend": true,
         "type": "scatter",
         "x": [
          0.8860660031430068
         ],
         "xaxis": "x",
         "y": [
          3.3821372446306968
         ],
         "yaxis": "y"
        },
        {
         "hovertemplate": "index=twins_svt_large_ArcFace_AdamW_333<br>Accuracy=%{x}<br>Disparity=%{y}<extra></extra>",
         "legendgroup": "twins_svt_large_ArcFace_AdamW_333",
         "marker": {
          "color": "#ab63fa",
          "symbol": "circle"
         },
         "mode": "markers",
         "name": "twins_svt_large_ArcFace_AdamW_333",
         "orientation": "v",
         "showlegend": true,
         "type": "scatter",
         "x": [
          0
         ],
         "xaxis": "x",
         "y": [
          0
         ],
         "yaxis": "y"
        },
        {
         "hovertemplate": "index=twins_svt_large_ArcFace_AdamW_444<br>Accuracy=%{x}<br>Disparity=%{y}<extra></extra>",
         "legendgroup": "twins_svt_large_ArcFace_AdamW_444",
         "marker": {
          "color": "#FFA15A",
          "symbol": "circle"
         },
         "mode": "markers",
         "name": "twins_svt_large_ArcFace_AdamW_444",
         "orientation": "v",
         "showlegend": true,
         "type": "scatter",
         "x": [
          0
         ],
         "xaxis": "x",
         "y": [
          0
         ],
         "yaxis": "y"
        },
        {
         "hovertemplate": "index=twins_svt_large_ArcFace_AdamW_555<br>Accuracy=%{x}<br>Disparity=%{y}<extra></extra>",
         "legendgroup": "twins_svt_large_ArcFace_AdamW_555",
         "marker": {
          "color": "#19d3f3",
          "symbol": "circle"
         },
         "mode": "markers",
         "name": "twins_svt_large_ArcFace_AdamW_555",
         "orientation": "v",
         "showlegend": true,
         "type": "scatter",
         "x": [
          0
         ],
         "xaxis": "x",
         "y": [
          0
         ],
         "yaxis": "y"
        },
        {
         "hovertemplate": "index=twins_svt_large_ArcFace_AdamW_666<br>Accuracy=%{x}<br>Disparity=%{y}<extra></extra>",
         "legendgroup": "twins_svt_large_ArcFace_AdamW_666",
         "marker": {
          "color": "#FF6692",
          "symbol": "circle"
         },
         "mode": "markers",
         "name": "twins_svt_large_ArcFace_AdamW_666",
         "orientation": "v",
         "showlegend": true,
         "type": "scatter",
         "x": [
          null
         ],
         "xaxis": "x",
         "y": [
          null
         ],
         "yaxis": "y"
        },
        {
         "hovertemplate": "index=twins_svt_large_MagFace_AdamW_333<br>Accuracy=%{x}<br>Disparity=%{y}<extra></extra>",
         "legendgroup": "twins_svt_large_MagFace_AdamW_333",
         "marker": {
          "color": "#B6E880",
          "symbol": "circle"
         },
         "mode": "markers",
         "name": "twins_svt_large_MagFace_AdamW_333",
         "orientation": "v",
         "showlegend": true,
         "type": "scatter",
         "x": [
          0
         ],
         "xaxis": "x",
         "y": [
          0
         ],
         "yaxis": "y"
        },
        {
         "hovertemplate": "index=twins_svt_large_MagFace_AdamW_444<br>Accuracy=%{x}<br>Disparity=%{y}<extra></extra>",
         "legendgroup": "twins_svt_large_MagFace_AdamW_444",
         "marker": {
          "color": "#FF97FF",
          "symbol": "circle"
         },
         "mode": "markers",
         "name": "twins_svt_large_MagFace_AdamW_444",
         "orientation": "v",
         "showlegend": true,
         "type": "scatter",
         "x": [
          0
         ],
         "xaxis": "x",
         "y": [
          0
         ],
         "yaxis": "y"
        },
        {
         "hovertemplate": "index=twins_svt_large_MagFace_AdamW_555<br>Accuracy=%{x}<br>Disparity=%{y}<extra></extra>",
         "legendgroup": "twins_svt_large_MagFace_AdamW_555",
         "marker": {
          "color": "#FECB52",
          "symbol": "circle"
         },
         "mode": "markers",
         "name": "twins_svt_large_MagFace_AdamW_555",
         "orientation": "v",
         "showlegend": true,
         "type": "scatter",
         "x": [
          0
         ],
         "xaxis": "x",
         "y": [
          0
         ],
         "yaxis": "y"
        },
        {
         "hovertemplate": "index=twins_svt_large_MagFace_AdamW_666<br>Accuracy=%{x}<br>Disparity=%{y}<extra></extra>",
         "legendgroup": "twins_svt_large_MagFace_AdamW_666",
         "marker": {
          "color": "#636efa",
          "symbol": "circle"
         },
         "mode": "markers",
         "name": "twins_svt_large_MagFace_AdamW_666",
         "orientation": "v",
         "showlegend": true,
         "type": "scatter",
         "x": [
          null
         ],
         "xaxis": "x",
         "y": [
          null
         ],
         "yaxis": "y"
        },
        {
         "hovertemplate": "index=Checkpoints_Edges_680_LR_0.0006048015915653069_Head_CosFace_Optimizer_Adam_333<br>Accuracy=%{x}<br>Disparity=%{y}<extra></extra>",
         "legendgroup": "Checkpoints_Edges_680_LR_0.0006048015915653069_Head_CosFace_Optimizer_Adam_333",
         "marker": {
          "color": "#EF553B",
          "symbol": "circle"
         },
         "mode": "markers",
         "name": "Checkpoints_Edges_680_LR_0.0006048015915653069_Head_CosFace_Optimizer_Adam_333",
         "orientation": "v",
         "showlegend": true,
         "type": "scatter",
         "x": [
          0.9656888423258251
         ],
         "xaxis": "x",
         "y": [
          1.6136720796228397
         ],
         "yaxis": "y"
        },
        {
         "hovertemplate": "index=Checkpoints_Edges_680_LR_0.0006048015915653069_Head_CosFace_Optimizer_Adam_444<br>Accuracy=%{x}<br>Disparity=%{y}<extra></extra>",
         "legendgroup": "Checkpoints_Edges_680_LR_0.0006048015915653069_Head_CosFace_Optimizer_Adam_444",
         "marker": {
          "color": "#00cc96",
          "symbol": "circle"
         },
         "mode": "markers",
         "name": "Checkpoints_Edges_680_LR_0.0006048015915653069_Head_CosFace_Optimizer_Adam_444",
         "orientation": "v",
         "showlegend": true,
         "type": "scatter",
         "x": [
          0.9675222629649031
         ],
         "xaxis": "x",
         "y": [
          1.8838397066526977
         ],
         "yaxis": "y"
        },
        {
         "hovertemplate": "index=Checkpoints_Edges_680_LR_0.0006048015915653069_Head_CosFace_Optimizer_Adam_555<br>Accuracy=%{x}<br>Disparity=%{y}<extra></extra>",
         "legendgroup": "Checkpoints_Edges_680_LR_0.0006048015915653069_Head_CosFace_Optimizer_Adam_555",
         "marker": {
          "color": "#ab63fa",
          "symbol": "circle"
         },
         "mode": "markers",
         "name": "Checkpoints_Edges_680_LR_0.0006048015915653069_Head_CosFace_Optimizer_Adam_555",
         "orientation": "v",
         "showlegend": true,
         "type": "scatter",
         "x": [
          0.9677187008905186
         ],
         "xaxis": "x",
         "y": [
          1.7887637506547933
         ],
         "yaxis": "y"
        },
        {
         "hovertemplate": "index=Checkpoints_Edges_680_LR_0.0006048015915653069_Head_CosFace_Optimizer_Adam_666<br>Accuracy=%{x}<br>Disparity=%{y}<extra></extra>",
         "legendgroup": "Checkpoints_Edges_680_LR_0.0006048015915653069_Head_CosFace_Optimizer_Adam_666",
         "marker": {
          "color": "#FFA15A",
          "symbol": "circle"
         },
         "mode": "markers",
         "name": "Checkpoints_Edges_680_LR_0.0006048015915653069_Head_CosFace_Optimizer_Adam_666",
         "orientation": "v",
         "showlegend": true,
         "type": "scatter",
         "x": [
          null
         ],
         "xaxis": "x",
         "y": [
          null
         ],
         "yaxis": "y"
        },
        {
         "hovertemplate": "index=Checkpoints_Edges_680_LR_0.0006048015915653069_Head_CosFace_Optimizer_Adam_111<br>Accuracy=%{x}<br>Disparity=%{y}<extra></extra>",
         "legendgroup": "Checkpoints_Edges_680_LR_0.0006048015915653069_Head_CosFace_Optimizer_Adam_111",
         "marker": {
          "color": "#19d3f3",
          "symbol": "circle"
         },
         "mode": "markers",
         "name": "Checkpoints_Edges_680_LR_0.0006048015915653069_Head_CosFace_Optimizer_Adam_111",
         "orientation": "v",
         "showlegend": true,
         "type": "scatter",
         "x": [
          0.9671948664222105
         ],
         "xaxis": "x",
         "y": [
          2.0957307490832893
         ],
         "yaxis": "y"
        },
        {
         "hovertemplate": "index=Checkpoints_Edges_010_LR_0.32348738788346576_Head_CosFace_Optimizer_SGD_111<br>Accuracy=%{x}<br>Disparity=%{y}<extra></extra>",
         "legendgroup": "Checkpoints_Edges_010_LR_0.32348738788346576_Head_CosFace_Optimizer_SGD_111",
         "marker": {
          "color": "#FF6692",
          "symbol": "circle"
         },
         "mode": "markers",
         "name": "Checkpoints_Edges_010_LR_0.32348738788346576_Head_CosFace_Optimizer_SGD_111",
         "orientation": "v",
         "showlegend": true,
         "type": "scatter",
         "x": [
          0.9623493975903614
         ],
         "xaxis": "x",
         "y": [
          1.5010476689366157
         ],
         "yaxis": "y"
        },
        {
         "hovertemplate": "index=Checkpoints_Edges_010_LR_0.32348738788346576_Head_CosFace_Optimizer_SGD_333<br>Accuracy=%{x}<br>Disparity=%{y}<extra></extra>",
         "legendgroup": "Checkpoints_Edges_010_LR_0.32348738788346576_Head_CosFace_Optimizer_SGD_333",
         "marker": {
          "color": "#B6E880",
          "symbol": "circle"
         },
         "mode": "markers",
         "name": "Checkpoints_Edges_010_LR_0.32348738788346576_Head_CosFace_Optimizer_SGD_333",
         "orientation": "v",
         "showlegend": true,
         "type": "scatter",
         "x": [
          0.9613017286537454
         ],
         "xaxis": "x",
         "y": [
          1.6965688842325823
         ],
         "yaxis": "y"
        },
        {
         "hovertemplate": "index=Checkpoints_Edges_010_LR_0.32348738788346576_Head_CosFace_Optimizer_SGD_444<br>Accuracy=%{x}<br>Disparity=%{y}<extra></extra>",
         "legendgroup": "Checkpoints_Edges_010_LR_0.32348738788346576_Head_CosFace_Optimizer_SGD_444",
         "marker": {
          "color": "#FF97FF",
          "symbol": "circle"
         },
         "mode": "markers",
         "name": "Checkpoints_Edges_010_LR_0.32348738788346576_Head_CosFace_Optimizer_SGD_444",
         "orientation": "v",
         "showlegend": true,
         "type": "scatter",
         "x": [
          0.9603850183342064
         ],
         "xaxis": "x",
         "y": [
          1.4334730225248822
         ],
         "yaxis": "y"
        },
        {
         "hovertemplate": "index=Checkpoints_Edges_010_LR_0.32348738788346576_Head_CosFace_Optimizer_SGD_555<br>Accuracy=%{x}<br>Disparity=%{y}<extra></extra>",
         "legendgroup": "Checkpoints_Edges_010_LR_0.32348738788346576_Head_CosFace_Optimizer_SGD_555",
         "marker": {
          "color": "#FECB52",
          "symbol": "circle"
         },
         "mode": "markers",
         "name": "Checkpoints_Edges_010_LR_0.32348738788346576_Head_CosFace_Optimizer_SGD_555",
         "orientation": "v",
         "showlegend": true,
         "type": "scatter",
         "x": [
          0.9599266631744369
         ],
         "xaxis": "x",
         "y": [
          1.4624148768988996
         ],
         "yaxis": "y"
        },
        {
         "hovertemplate": "index=Checkpoints_Edges_010_LR_0.32348738788346576_Head_CosFace_Optimizer_SGD_666<br>Accuracy=%{x}<br>Disparity=%{y}<extra></extra>",
         "legendgroup": "Checkpoints_Edges_010_LR_0.32348738788346576_Head_CosFace_Optimizer_SGD_666",
         "marker": {
          "color": "#636efa",
          "symbol": "circle"
         },
         "mode": "markers",
         "name": "Checkpoints_Edges_010_LR_0.32348738788346576_Head_CosFace_Optimizer_SGD_666",
         "orientation": "v",
         "showlegend": true,
         "type": "scatter",
         "x": [
          0.9597957045573599
         ],
         "xaxis": "x",
         "y": [
          1.2523572551073863
         ],
         "yaxis": "y"
        },
        {
         "hovertemplate": "index=Checkpoints_Edges_000_LR_0.2813375341651194_Head_CosFace_Optimizer_SGD_666<br>Accuracy=%{x}<br>Disparity=%{y}<extra></extra>",
         "legendgroup": "Checkpoints_Edges_000_LR_0.2813375341651194_Head_CosFace_Optimizer_SGD_666",
         "marker": {
          "color": "#EF553B",
          "symbol": "circle"
         },
         "mode": "markers",
         "name": "Checkpoints_Edges_000_LR_0.2813375341651194_Head_CosFace_Optimizer_SGD_666",
         "orientation": "v",
         "showlegend": true,
         "type": "scatter",
         "x": [
          0.9671948664222105
         ],
         "xaxis": "x",
         "y": [
          1.6043740178103723
         ],
         "yaxis": "y"
        },
        {
         "hovertemplate": "index=Checkpoints_Edges_000_LR_0.2813375341651194_Head_CosFace_Optimizer_SGD_555<br>Accuracy=%{x}<br>Disparity=%{y}<extra></extra>",
         "legendgroup": "Checkpoints_Edges_000_LR_0.2813375341651194_Head_CosFace_Optimizer_SGD_555",
         "marker": {
          "color": "#00cc96",
          "symbol": "circle"
         },
         "mode": "markers",
         "name": "Checkpoints_Edges_000_LR_0.2813375341651194_Head_CosFace_Optimizer_SGD_555",
         "orientation": "v",
         "showlegend": true,
         "type": "scatter",
         "x": [
          0.9687008905185961
         ],
         "xaxis": "x",
         "y": [
          1.1716867469879517
         ],
         "yaxis": "y"
        },
        {
         "hovertemplate": "index=Checkpoints_Edges_000_LR_0.2813375341651194_Head_CosFace_Optimizer_SGD_444<br>Accuracy=%{x}<br>Disparity=%{y}<extra></extra>",
         "legendgroup": "Checkpoints_Edges_000_LR_0.2813375341651194_Head_CosFace_Optimizer_SGD_444",
         "marker": {
          "color": "#ab63fa",
          "symbol": "circle"
         },
         "mode": "markers",
         "name": "Checkpoints_Edges_000_LR_0.2813375341651194_Head_CosFace_Optimizer_SGD_444",
         "orientation": "v",
         "showlegend": true,
         "type": "scatter",
         "x": [
          0.967260345730749
         ],
         "xaxis": "x",
         "y": [
          1.6147197485594553
         ],
         "yaxis": "y"
        },
        {
         "hovertemplate": "index=Checkpoints_Edges_000_LR_0.2813375341651194_Head_CosFace_Optimizer_SGD_333<br>Accuracy=%{x}<br>Disparity=%{y}<extra></extra>",
         "legendgroup": "Checkpoints_Edges_000_LR_0.2813375341651194_Head_CosFace_Optimizer_SGD_333",
         "marker": {
          "color": "#FFA15A",
          "symbol": "circle"
         },
         "mode": "markers",
         "name": "Checkpoints_Edges_000_LR_0.2813375341651194_Head_CosFace_Optimizer_SGD_333",
         "orientation": "v",
         "showlegend": true,
         "type": "scatter",
         "x": [
          0.967260345730749
         ],
         "xaxis": "x",
         "y": [
          1.2820848611838658
         ],
         "yaxis": "y"
        },
        {
         "hovertemplate": "index=Checkpoints_Edges_000_LR_0.2813375341651194_Head_CosFace_Optimizer_SGD_111<br>Accuracy=%{x}<br>Disparity=%{y}<extra></extra>",
         "legendgroup": "Checkpoints_Edges_000_LR_0.2813375341651194_Head_CosFace_Optimizer_SGD_111",
         "marker": {
          "color": "#19d3f3",
          "symbol": "circle"
         },
         "mode": "markers",
         "name": "Checkpoints_Edges_000_LR_0.2813375341651194_Head_CosFace_Optimizer_SGD_111",
         "orientation": "v",
         "showlegend": true,
         "type": "scatter",
         "x": [
          0.9687663698271346
         ],
         "xaxis": "x",
         "y": [
          1.5501571503404925
         ],
         "yaxis": "y"
        },
        {
         "hovertemplate": "index=Checkpoints_Edges_467_LR_0.21727296500399912_Head_MagFace_Optimizer_SGD_111<br>Accuracy=%{x}<br>Disparity=%{y}<extra></extra>",
         "legendgroup": "Checkpoints_Edges_467_LR_0.21727296500399912_Head_MagFace_Optimizer_SGD_111",
         "marker": {
          "color": "#FF6692",
          "symbol": "circle"
         },
         "mode": "markers",
         "name": "Checkpoints_Edges_467_LR_0.21727296500399912_Head_MagFace_Optimizer_SGD_111",
         "orientation": "v",
         "showlegend": true,
         "type": "scatter",
         "x": [
          0.8502488213724463
         ],
         "xaxis": "x",
         "y": [
          1.7644054478784703
         ],
         "yaxis": "y"
        },
        {
         "hovertemplate": "index=Checkpoints_Edges_040_LR_0.0005900596101948813_Head_CosFace_Optimizer_Adam_111<br>Accuracy=%{x}<br>Disparity=%{y}<extra></extra>",
         "legendgroup": "Checkpoints_Edges_040_LR_0.0005900596101948813_Head_CosFace_Optimizer_Adam_111",
         "marker": {
          "color": "#B6E880",
          "symbol": "circle"
         },
         "mode": "markers",
         "name": "Checkpoints_Edges_040_LR_0.0005900596101948813_Head_CosFace_Optimizer_Adam_111",
         "orientation": "v",
         "showlegend": true,
         "type": "scatter",
         "x": [
          0.9656888423258251
         ],
         "xaxis": "x",
         "y": [
          1.359088528025144
         ],
         "yaxis": "y"
        },
        {
         "hovertemplate": "index=Checkpoints_Edges_040_LR_0.0005900596101948813_Head_CosFace_Optimizer_Adam_222<br>Accuracy=%{x}<br>Disparity=%{y}<extra></extra>",
         "legendgroup": "Checkpoints_Edges_040_LR_0.0005900596101948813_Head_CosFace_Optimizer_Adam_222",
         "marker": {
          "color": "#FF97FF",
          "symbol": "circle"
         },
         "mode": "markers",
         "name": "Checkpoints_Edges_040_LR_0.0005900596101948813_Head_CosFace_Optimizer_Adam_222",
         "orientation": "v",
         "showlegend": true,
         "type": "scatter",
         "x": [
          0.9671948664222105
         ],
         "xaxis": "x",
         "y": [
          1.6233630172865374
         ],
         "yaxis": "y"
        },
        {
         "hovertemplate": "index=Checkpoints_Edges_040_LR_0.0005900596101948813_Head_CosFace_Optimizer_Adam_333<br>Accuracy=%{x}<br>Disparity=%{y}<extra></extra>",
         "legendgroup": "Checkpoints_Edges_040_LR_0.0005900596101948813_Head_CosFace_Optimizer_Adam_333",
         "marker": {
          "color": "#FECB52",
          "symbol": "circle"
         },
         "mode": "markers",
         "name": "Checkpoints_Edges_040_LR_0.0005900596101948813_Head_CosFace_Optimizer_Adam_333",
         "orientation": "v",
         "showlegend": true,
         "type": "scatter",
         "x": [
          0.965295966474594
         ],
         "xaxis": "x",
         "y": [
          1.6304347826086953
         ],
         "yaxis": "y"
        },
        {
         "hovertemplate": "index=Checkpoints_Edges_040_LR_0.0005900596101948813_Head_CosFace_Optimizer_Adam_444<br>Accuracy=%{x}<br>Disparity=%{y}<extra></extra>",
         "legendgroup": "Checkpoints_Edges_040_LR_0.0005900596101948813_Head_CosFace_Optimizer_Adam_444",
         "marker": {
          "color": "#636efa",
          "symbol": "circle"
         },
         "mode": "markers",
         "name": "Checkpoints_Edges_040_LR_0.0005900596101948813_Head_CosFace_Optimizer_Adam_444",
         "orientation": "v",
         "showlegend": true,
         "type": "scatter",
         "x": [
          0.9641828182294395
         ],
         "xaxis": "x",
         "y": [
          1.5959926663174437
         ],
         "yaxis": "y"
        },
        {
         "hovertemplate": "index=Checkpoints_Edges_040_LR_0.0005900596101948813_Head_CosFace_Optimizer_Adam_555<br>Accuracy=%{x}<br>Disparity=%{y}<extra></extra>",
         "legendgroup": "Checkpoints_Edges_040_LR_0.0005900596101948813_Head_CosFace_Optimizer_Adam_555",
         "marker": {
          "color": "#EF553B",
          "symbol": "circle"
         },
         "mode": "markers",
         "name": "Checkpoints_Edges_040_LR_0.0005900596101948813_Head_CosFace_Optimizer_Adam_555",
         "orientation": "v",
         "showlegend": true,
         "type": "scatter",
         "x": [
          0.9641828182294395
         ],
         "xaxis": "x",
         "y": [
          2.0248821372446306
         ],
         "yaxis": "y"
        }
       ],
       "layout": {
        "legend": {
         "title": {
          "text": "index"
         },
         "tracegroupgap": 0
        },
        "margin": {
         "t": 60
        },
        "shapes": [
         {
          "line": {
           "color": "Red"
          },
          "type": "line",
          "x0": 0,
          "x1": 1,
          "xref": "x",
          "y0": 0,
          "y1": 0,
          "yref": "y"
         },
         {
          "line": {
           "color": "gray",
           "dash": "dash"
          },
          "type": "line",
          "x0": 0,
          "x1": 0,
          "xref": "x",
          "y0": 0,
          "y1": 0,
          "yref": "y"
         },
         {
          "line": {
           "color": "gray",
           "dash": "dash"
          },
          "type": "line",
          "x0": 0,
          "x1": 0,
          "xref": "x",
          "y0": 0,
          "y1": 0,
          "yref": "y"
         },
         {
          "line": {
           "color": "gray",
           "dash": "dash"
          },
          "type": "line",
          "x0": 0,
          "x1": 0,
          "xref": "x",
          "y0": 0,
          "y1": 0,
          "yref": "y"
         },
         {
          "line": {
           "color": "gray",
           "dash": "dash"
          },
          "type": "line",
          "x0": 0,
          "x1": 0,
          "xref": "x",
          "y0": 0,
          "y1": 0,
          "yref": "y"
         },
         {
          "line": {
           "color": "gray",
           "dash": "dash"
          },
          "type": "line",
          "x0": 0,
          "x1": 0,
          "xref": "x",
          "y0": 0,
          "y1": 0,
          "yref": "y"
         },
         {
          "line": {
           "color": "gray",
           "dash": "dash"
          },
          "type": "line",
          "x0": 0,
          "x1": 0,
          "xref": "x",
          "y0": 0,
          "y1": 0,
          "yref": "y"
         },
         {
          "line": {
           "color": "gray",
           "dash": "dash"
          },
          "type": "line",
          "x0": 0,
          "x1": 0,
          "xref": "x",
          "y0": 0,
          "y1": 0,
          "yref": "y"
         },
         {
          "line": {
           "color": "gray",
           "dash": "dash"
          },
          "type": "line",
          "x0": 0,
          "x1": 0,
          "xref": "x",
          "y0": 0,
          "y1": 0,
          "yref": "y"
         },
         {
          "line": {
           "color": "gray",
           "dash": "dash"
          },
          "type": "line",
          "x0": 0,
          "x1": 0,
          "xref": "x",
          "y0": 0,
          "y1": 0,
          "yref": "y"
         },
         {
          "line": {
           "color": "gray",
           "dash": "dash"
          },
          "type": "line",
          "x0": 0,
          "x1": 0,
          "xref": "x",
          "y0": 0,
          "y1": 0,
          "yref": "y"
         },
         {
          "line": {
           "color": "gray",
           "dash": "dash"
          },
          "type": "line",
          "x0": 0,
          "x1": 0,
          "xref": "x",
          "y0": 0,
          "y1": 0,
          "yref": "y"
         },
         {
          "line": {
           "color": "gray",
           "dash": "dash"
          },
          "type": "line",
          "x0": 0,
          "x1": 0,
          "xref": "x",
          "y0": 0,
          "y1": 0,
          "yref": "y"
         },
         {
          "line": {
           "color": "gray",
           "dash": "dash"
          },
          "type": "line",
          "x0": 0,
          "x1": 0,
          "xref": "x",
          "y0": 0,
          "y1": 0,
          "yref": "y"
         },
         {
          "line": {
           "color": "gray",
           "dash": "dash"
          },
          "type": "line",
          "x0": 0,
          "x1": 0,
          "xref": "x",
          "y0": 0,
          "y1": 0,
          "yref": "y"
         },
         {
          "line": {
           "color": "gray",
           "dash": "dash"
          },
          "type": "line",
          "x0": 0,
          "x1": 0,
          "xref": "x",
          "y0": 0,
          "y1": 0,
          "yref": "y"
         },
         {
          "line": {
           "color": "gray",
           "dash": "dash"
          },
          "type": "line",
          "x0": 0,
          "x1": 0,
          "xref": "x",
          "y0": 0,
          "y1": 0,
          "yref": "y"
         },
         {
          "line": {
           "color": "gray",
           "dash": "dash"
          },
          "type": "line",
          "x0": 0,
          "x1": 0,
          "xref": "x",
          "y0": 0,
          "y1": 0,
          "yref": "y"
         },
         {
          "line": {
           "color": "gray",
           "dash": "dash"
          },
          "type": "line",
          "x0": 0,
          "x1": 0,
          "xref": "x",
          "y0": 0,
          "y1": 0,
          "yref": "y"
         },
         {
          "line": {
           "color": "gray",
           "dash": "dash"
          },
          "type": "line",
          "x0": 0,
          "x1": 0,
          "xref": "x",
          "y0": 0,
          "y1": 0,
          "yref": "y"
         },
         {
          "line": {
           "color": "gray",
           "dash": "dash"
          },
          "type": "line",
          "x0": 0,
          "x1": 0,
          "xref": "x",
          "y0": 0,
          "y1": 0,
          "yref": "y"
         },
         {
          "line": {
           "color": "gray",
           "dash": "dash"
          },
          "type": "line",
          "x0": 0,
          "x1": 0,
          "xref": "x",
          "y0": 0,
          "y1": 0,
          "yref": "y"
         },
         {
          "line": {
           "color": "gray",
           "dash": "dash"
          },
          "type": "line",
          "x0": 0,
          "x1": 0,
          "xref": "x",
          "y0": 0,
          "y1": 0,
          "yref": "y"
         },
         {
          "line": {
           "color": "gray",
           "dash": "dash"
          },
          "type": "line",
          "x0": 0,
          "x1": 0,
          "xref": "x",
          "y0": 0,
          "y1": 0,
          "yref": "y"
         },
         {
          "line": {
           "color": "gray",
           "dash": "dash"
          },
          "type": "line",
          "x0": 0,
          "x1": 0,
          "xref": "x",
          "y0": 0,
          "y1": 0,
          "yref": "y"
         },
         {
          "line": {
           "color": "gray",
           "dash": "dash"
          },
          "type": "line",
          "x0": 0,
          "x1": 0,
          "xref": "x",
          "y0": 0,
          "y1": 0,
          "yref": "y"
         },
         {
          "line": {
           "color": "gray",
           "dash": "dash"
          },
          "type": "line",
          "x0": 0,
          "x1": 0,
          "xref": "x",
          "y0": 0,
          "y1": 0,
          "yref": "y"
         },
         {
          "line": {
           "color": "gray",
           "dash": "dash"
          },
          "type": "line",
          "x0": 0,
          "x1": 0,
          "xref": "x",
          "y0": 0,
          "y1": 0,
          "yref": "y"
         },
         {
          "line": {
           "color": "gray",
           "dash": "dash"
          },
          "type": "line",
          "x0": 0,
          "x1": 0,
          "xref": "x",
          "y0": 0,
          "y1": 0,
          "yref": "y"
         },
         {
          "line": {
           "color": "gray",
           "dash": "dash"
          },
          "type": "line",
          "x0": 0,
          "x1": 0,
          "xref": "x",
          "y0": 0,
          "y1": 0,
          "yref": "y"
         },
         {
          "line": {
           "color": "gray",
           "dash": "dash"
          },
          "type": "line",
          "x0": 0,
          "x1": 0,
          "xref": "x",
          "y0": 0,
          "y1": 0,
          "yref": "y"
         },
         {
          "line": {
           "color": "gray",
           "dash": "dash"
          },
          "type": "line",
          "x0": 0,
          "x1": 0,
          "xref": "x",
          "y0": 0,
          "y1": 0,
          "yref": "y"
         },
         {
          "line": {
           "color": "gray",
           "dash": "dash"
          },
          "type": "line",
          "x0": 0,
          "x1": 0,
          "xref": "x",
          "y0": 0,
          "y1": 0,
          "yref": "y"
         },
         {
          "line": {
           "color": "gray",
           "dash": "dash"
          },
          "type": "line",
          "x0": 0,
          "x1": 0,
          "xref": "x",
          "y0": 0,
          "y1": 0,
          "yref": "y"
         },
         {
          "line": {
           "color": "gray",
           "dash": "dash"
          },
          "type": "line",
          "x0": 0,
          "x1": 0,
          "xref": "x",
          "y0": 0,
          "y1": 0,
          "yref": "y"
         },
         {
          "line": {
           "color": "gray",
           "dash": "dash"
          },
          "type": "line",
          "x0": 0,
          "x1": 0,
          "xref": "x",
          "y0": 0,
          "y1": 0,
          "yref": "y"
         },
         {
          "line": {
           "color": "gray",
           "dash": "dash"
          },
          "type": "line",
          "x0": 0,
          "x1": 0,
          "xref": "x",
          "y0": 0,
          "y1": 0,
          "yref": "y"
         },
         {
          "line": {
           "color": "gray",
           "dash": "dash"
          },
          "type": "line",
          "x0": 0,
          "x1": 0,
          "xref": "x",
          "y0": 0,
          "y1": 0,
          "yref": "y"
         },
         {
          "line": {
           "color": "gray",
           "dash": "dash"
          },
          "type": "line",
          "x0": 0,
          "x1": 0,
          "xref": "x",
          "y0": 0,
          "y1": 0,
          "yref": "y"
         },
         {
          "line": {
           "color": "gray",
           "dash": "dash"
          },
          "type": "line",
          "x0": 0,
          "x1": 0,
          "xref": "x",
          "y0": 0,
          "y1": 0,
          "yref": "y"
         },
         {
          "line": {
           "color": "gray",
           "dash": "dash"
          },
          "type": "line",
          "x0": 0,
          "x1": 0,
          "xref": "x",
          "y0": 0,
          "y1": 0,
          "yref": "y"
         },
         {
          "line": {
           "color": "gray",
           "dash": "dash"
          },
          "type": "line",
          "x0": 0,
          "x1": 0,
          "xref": "x",
          "y0": 0,
          "y1": 0,
          "yref": "y"
         },
         {
          "line": {
           "color": "gray",
           "dash": "dash"
          },
          "type": "line",
          "x0": 0,
          "x1": 0,
          "xref": "x",
          "y0": 0,
          "y1": 0,
          "yref": "y"
         },
         {
          "line": {
           "color": "gray",
           "dash": "dash"
          },
          "type": "line",
          "x0": 0,
          "x1": 0,
          "xref": "x",
          "y0": 0,
          "y1": 0,
          "yref": "y"
         },
         {
          "line": {
           "color": "gray",
           "dash": "dash"
          },
          "type": "line",
          "x0": 0,
          "x1": 0,
          "xref": "x",
          "y0": 0,
          "y1": 0,
          "yref": "y"
         },
         {
          "line": {
           "color": "gray",
           "dash": "dash"
          },
          "type": "line",
          "x0": 0,
          "x1": 0,
          "xref": "x",
          "y0": 0,
          "y1": 0,
          "yref": "y"
         },
         {
          "line": {
           "color": "gray",
           "dash": "dash"
          },
          "type": "line",
          "x0": 0,
          "x1": 0,
          "xref": "x",
          "y0": 0,
          "y1": 0,
          "yref": "y"
         },
         {
          "line": {
           "color": "gray",
           "dash": "dash"
          },
          "type": "line",
          "x0": 0,
          "x1": 0,
          "xref": "x",
          "y0": 0,
          "y1": 0,
          "yref": "y"
         },
         {
          "line": {
           "color": "gray",
           "dash": "dash"
          },
          "type": "line",
          "x0": 0,
          "x1": 0.7885018334206391,
          "xref": "x",
          "y0": 0,
          "y1": 0.07242011524358283,
          "yref": "y"
         },
         {
          "line": {
           "color": "gray",
           "dash": "dash"
          },
          "type": "line",
          "x0": 0.7885018334206391,
          "x1": 0.7990440020953379,
          "xref": "x",
          "y0": 0.07242011524358283,
          "y1": 0.313383970665269,
          "yref": "y"
         },
         {
          "line": {
           "color": "gray",
           "dash": "dash"
          },
          "type": "line",
          "x0": 0.7990440020953379,
          "x1": 0.8566657936092195,
          "xref": "x",
          "y0": 0.313383970665269,
          "y1": 0.4989523310633839,
          "yref": "y"
         },
         {
          "line": {
           "color": "gray",
           "dash": "dash"
          },
          "type": "line",
          "x0": 0.8566657936092195,
          "x1": 0.8700890518596124,
          "xref": "x",
          "y0": 0.4989523310633839,
          "y1": 0.5556574122577267,
          "yref": "y"
         },
         {
          "line": {
           "color": "gray",
           "dash": "dash"
          },
          "type": "line",
          "x0": 0.8700890518596124,
          "x1": 0.8704164484023049,
          "xref": "x",
          "y0": 0.5556574122577267,
          "y1": 1.1249345206914612,
          "yref": "y"
         },
         {
          "line": {
           "color": "gray",
           "dash": "dash"
          },
          "type": "line",
          "x0": 0.8704164484023049,
          "x1": 0.9690282870612886,
          "xref": "x",
          "y0": 1.1249345206914612,
          "y1": 1.1482451545311685,
          "yref": "y"
         },
         {
          "line": {
           "color": "gray",
           "dash": "dash"
          },
          "type": "line",
          "x0": 0.9690282870612886,
          "x1": 0.9694211629125197,
          "xref": "x",
          "y0": 1.1482451545311685,
          "y1": 1.2599528548978522,
          "yref": "y"
         },
         {
          "line": {
           "color": "gray",
           "dash": "dash"
          },
          "type": "line",
          "x0": 0.9694211629125197,
          "x1": 0.9700104766893661,
          "xref": "x",
          "y0": 1.2599528548978522,
          "y1": 1.5923258250392873,
          "yref": "y"
         }
        ],
        "template": {
         "data": {
          "bar": [
           {
            "error_x": {
             "color": "#2a3f5f"
            },
            "error_y": {
             "color": "#2a3f5f"
            },
            "marker": {
             "line": {
              "color": "#E5ECF6",
              "width": 0.5
             },
             "pattern": {
              "fillmode": "overlay",
              "size": 10,
              "solidity": 0.2
             }
            },
            "type": "bar"
           }
          ],
          "barpolar": [
           {
            "marker": {
             "line": {
              "color": "#E5ECF6",
              "width": 0.5
             },
             "pattern": {
              "fillmode": "overlay",
              "size": 10,
              "solidity": 0.2
             }
            },
            "type": "barpolar"
           }
          ],
          "carpet": [
           {
            "aaxis": {
             "endlinecolor": "#2a3f5f",
             "gridcolor": "white",
             "linecolor": "white",
             "minorgridcolor": "white",
             "startlinecolor": "#2a3f5f"
            },
            "baxis": {
             "endlinecolor": "#2a3f5f",
             "gridcolor": "white",
             "linecolor": "white",
             "minorgridcolor": "white",
             "startlinecolor": "#2a3f5f"
            },
            "type": "carpet"
           }
          ],
          "choropleth": [
           {
            "colorbar": {
             "outlinewidth": 0,
             "ticks": ""
            },
            "type": "choropleth"
           }
          ],
          "contour": [
           {
            "colorbar": {
             "outlinewidth": 0,
             "ticks": ""
            },
            "colorscale": [
             [
              0,
              "#0d0887"
             ],
             [
              0.1111111111111111,
              "#46039f"
             ],
             [
              0.2222222222222222,
              "#7201a8"
             ],
             [
              0.3333333333333333,
              "#9c179e"
             ],
             [
              0.4444444444444444,
              "#bd3786"
             ],
             [
              0.5555555555555556,
              "#d8576b"
             ],
             [
              0.6666666666666666,
              "#ed7953"
             ],
             [
              0.7777777777777778,
              "#fb9f3a"
             ],
             [
              0.8888888888888888,
              "#fdca26"
             ],
             [
              1,
              "#f0f921"
             ]
            ],
            "type": "contour"
           }
          ],
          "contourcarpet": [
           {
            "colorbar": {
             "outlinewidth": 0,
             "ticks": ""
            },
            "type": "contourcarpet"
           }
          ],
          "heatmap": [
           {
            "colorbar": {
             "outlinewidth": 0,
             "ticks": ""
            },
            "colorscale": [
             [
              0,
              "#0d0887"
             ],
             [
              0.1111111111111111,
              "#46039f"
             ],
             [
              0.2222222222222222,
              "#7201a8"
             ],
             [
              0.3333333333333333,
              "#9c179e"
             ],
             [
              0.4444444444444444,
              "#bd3786"
             ],
             [
              0.5555555555555556,
              "#d8576b"
             ],
             [
              0.6666666666666666,
              "#ed7953"
             ],
             [
              0.7777777777777778,
              "#fb9f3a"
             ],
             [
              0.8888888888888888,
              "#fdca26"
             ],
             [
              1,
              "#f0f921"
             ]
            ],
            "type": "heatmap"
           }
          ],
          "heatmapgl": [
           {
            "colorbar": {
             "outlinewidth": 0,
             "ticks": ""
            },
            "colorscale": [
             [
              0,
              "#0d0887"
             ],
             [
              0.1111111111111111,
              "#46039f"
             ],
             [
              0.2222222222222222,
              "#7201a8"
             ],
             [
              0.3333333333333333,
              "#9c179e"
             ],
             [
              0.4444444444444444,
              "#bd3786"
             ],
             [
              0.5555555555555556,
              "#d8576b"
             ],
             [
              0.6666666666666666,
              "#ed7953"
             ],
             [
              0.7777777777777778,
              "#fb9f3a"
             ],
             [
              0.8888888888888888,
              "#fdca26"
             ],
             [
              1,
              "#f0f921"
             ]
            ],
            "type": "heatmapgl"
           }
          ],
          "histogram": [
           {
            "marker": {
             "pattern": {
              "fillmode": "overlay",
              "size": 10,
              "solidity": 0.2
             }
            },
            "type": "histogram"
           }
          ],
          "histogram2d": [
           {
            "colorbar": {
             "outlinewidth": 0,
             "ticks": ""
            },
            "colorscale": [
             [
              0,
              "#0d0887"
             ],
             [
              0.1111111111111111,
              "#46039f"
             ],
             [
              0.2222222222222222,
              "#7201a8"
             ],
             [
              0.3333333333333333,
              "#9c179e"
             ],
             [
              0.4444444444444444,
              "#bd3786"
             ],
             [
              0.5555555555555556,
              "#d8576b"
             ],
             [
              0.6666666666666666,
              "#ed7953"
             ],
             [
              0.7777777777777778,
              "#fb9f3a"
             ],
             [
              0.8888888888888888,
              "#fdca26"
             ],
             [
              1,
              "#f0f921"
             ]
            ],
            "type": "histogram2d"
           }
          ],
          "histogram2dcontour": [
           {
            "colorbar": {
             "outlinewidth": 0,
             "ticks": ""
            },
            "colorscale": [
             [
              0,
              "#0d0887"
             ],
             [
              0.1111111111111111,
              "#46039f"
             ],
             [
              0.2222222222222222,
              "#7201a8"
             ],
             [
              0.3333333333333333,
              "#9c179e"
             ],
             [
              0.4444444444444444,
              "#bd3786"
             ],
             [
              0.5555555555555556,
              "#d8576b"
             ],
             [
              0.6666666666666666,
              "#ed7953"
             ],
             [
              0.7777777777777778,
              "#fb9f3a"
             ],
             [
              0.8888888888888888,
              "#fdca26"
             ],
             [
              1,
              "#f0f921"
             ]
            ],
            "type": "histogram2dcontour"
           }
          ],
          "mesh3d": [
           {
            "colorbar": {
             "outlinewidth": 0,
             "ticks": ""
            },
            "type": "mesh3d"
           }
          ],
          "parcoords": [
           {
            "line": {
             "colorbar": {
              "outlinewidth": 0,
              "ticks": ""
             }
            },
            "type": "parcoords"
           }
          ],
          "pie": [
           {
            "automargin": true,
            "type": "pie"
           }
          ],
          "scatter": [
           {
            "fillpattern": {
             "fillmode": "overlay",
             "size": 10,
             "solidity": 0.2
            },
            "type": "scatter"
           }
          ],
          "scatter3d": [
           {
            "line": {
             "colorbar": {
              "outlinewidth": 0,
              "ticks": ""
             }
            },
            "marker": {
             "colorbar": {
              "outlinewidth": 0,
              "ticks": ""
             }
            },
            "type": "scatter3d"
           }
          ],
          "scattercarpet": [
           {
            "marker": {
             "colorbar": {
              "outlinewidth": 0,
              "ticks": ""
             }
            },
            "type": "scattercarpet"
           }
          ],
          "scattergeo": [
           {
            "marker": {
             "colorbar": {
              "outlinewidth": 0,
              "ticks": ""
             }
            },
            "type": "scattergeo"
           }
          ],
          "scattergl": [
           {
            "marker": {
             "colorbar": {
              "outlinewidth": 0,
              "ticks": ""
             }
            },
            "type": "scattergl"
           }
          ],
          "scattermapbox": [
           {
            "marker": {
             "colorbar": {
              "outlinewidth": 0,
              "ticks": ""
             }
            },
            "type": "scattermapbox"
           }
          ],
          "scatterpolar": [
           {
            "marker": {
             "colorbar": {
              "outlinewidth": 0,
              "ticks": ""
             }
            },
            "type": "scatterpolar"
           }
          ],
          "scatterpolargl": [
           {
            "marker": {
             "colorbar": {
              "outlinewidth": 0,
              "ticks": ""
             }
            },
            "type": "scatterpolargl"
           }
          ],
          "scatterternary": [
           {
            "marker": {
             "colorbar": {
              "outlinewidth": 0,
              "ticks": ""
             }
            },
            "type": "scatterternary"
           }
          ],
          "surface": [
           {
            "colorbar": {
             "outlinewidth": 0,
             "ticks": ""
            },
            "colorscale": [
             [
              0,
              "#0d0887"
             ],
             [
              0.1111111111111111,
              "#46039f"
             ],
             [
              0.2222222222222222,
              "#7201a8"
             ],
             [
              0.3333333333333333,
              "#9c179e"
             ],
             [
              0.4444444444444444,
              "#bd3786"
             ],
             [
              0.5555555555555556,
              "#d8576b"
             ],
             [
              0.6666666666666666,
              "#ed7953"
             ],
             [
              0.7777777777777778,
              "#fb9f3a"
             ],
             [
              0.8888888888888888,
              "#fdca26"
             ],
             [
              1,
              "#f0f921"
             ]
            ],
            "type": "surface"
           }
          ],
          "table": [
           {
            "cells": {
             "fill": {
              "color": "#EBF0F8"
             },
             "line": {
              "color": "white"
             }
            },
            "header": {
             "fill": {
              "color": "#C8D4E3"
             },
             "line": {
              "color": "white"
             }
            },
            "type": "table"
           }
          ]
         },
         "layout": {
          "annotationdefaults": {
           "arrowcolor": "#2a3f5f",
           "arrowhead": 0,
           "arrowwidth": 1
          },
          "autotypenumbers": "strict",
          "coloraxis": {
           "colorbar": {
            "outlinewidth": 0,
            "ticks": ""
           }
          },
          "colorscale": {
           "diverging": [
            [
             0,
             "#8e0152"
            ],
            [
             0.1,
             "#c51b7d"
            ],
            [
             0.2,
             "#de77ae"
            ],
            [
             0.3,
             "#f1b6da"
            ],
            [
             0.4,
             "#fde0ef"
            ],
            [
             0.5,
             "#f7f7f7"
            ],
            [
             0.6,
             "#e6f5d0"
            ],
            [
             0.7,
             "#b8e186"
            ],
            [
             0.8,
             "#7fbc41"
            ],
            [
             0.9,
             "#4d9221"
            ],
            [
             1,
             "#276419"
            ]
           ],
           "sequential": [
            [
             0,
             "#0d0887"
            ],
            [
             0.1111111111111111,
             "#46039f"
            ],
            [
             0.2222222222222222,
             "#7201a8"
            ],
            [
             0.3333333333333333,
             "#9c179e"
            ],
            [
             0.4444444444444444,
             "#bd3786"
            ],
            [
             0.5555555555555556,
             "#d8576b"
            ],
            [
             0.6666666666666666,
             "#ed7953"
            ],
            [
             0.7777777777777778,
             "#fb9f3a"
            ],
            [
             0.8888888888888888,
             "#fdca26"
            ],
            [
             1,
             "#f0f921"
            ]
           ],
           "sequentialminus": [
            [
             0,
             "#0d0887"
            ],
            [
             0.1111111111111111,
             "#46039f"
            ],
            [
             0.2222222222222222,
             "#7201a8"
            ],
            [
             0.3333333333333333,
             "#9c179e"
            ],
            [
             0.4444444444444444,
             "#bd3786"
            ],
            [
             0.5555555555555556,
             "#d8576b"
            ],
            [
             0.6666666666666666,
             "#ed7953"
            ],
            [
             0.7777777777777778,
             "#fb9f3a"
            ],
            [
             0.8888888888888888,
             "#fdca26"
            ],
            [
             1,
             "#f0f921"
            ]
           ]
          },
          "colorway": [
           "#636efa",
           "#EF553B",
           "#00cc96",
           "#ab63fa",
           "#FFA15A",
           "#19d3f3",
           "#FF6692",
           "#B6E880",
           "#FF97FF",
           "#FECB52"
          ],
          "font": {
           "color": "#2a3f5f"
          },
          "geo": {
           "bgcolor": "white",
           "lakecolor": "white",
           "landcolor": "#E5ECF6",
           "showlakes": true,
           "showland": true,
           "subunitcolor": "white"
          },
          "hoverlabel": {
           "align": "left"
          },
          "hovermode": "closest",
          "mapbox": {
           "style": "light"
          },
          "paper_bgcolor": "white",
          "plot_bgcolor": "#E5ECF6",
          "polar": {
           "angularaxis": {
            "gridcolor": "white",
            "linecolor": "white",
            "ticks": ""
           },
           "bgcolor": "#E5ECF6",
           "radialaxis": {
            "gridcolor": "white",
            "linecolor": "white",
            "ticks": ""
           }
          },
          "scene": {
           "xaxis": {
            "backgroundcolor": "#E5ECF6",
            "gridcolor": "white",
            "gridwidth": 2,
            "linecolor": "white",
            "showbackground": true,
            "ticks": "",
            "zerolinecolor": "white"
           },
           "yaxis": {
            "backgroundcolor": "#E5ECF6",
            "gridcolor": "white",
            "gridwidth": 2,
            "linecolor": "white",
            "showbackground": true,
            "ticks": "",
            "zerolinecolor": "white"
           },
           "zaxis": {
            "backgroundcolor": "#E5ECF6",
            "gridcolor": "white",
            "gridwidth": 2,
            "linecolor": "white",
            "showbackground": true,
            "ticks": "",
            "zerolinecolor": "white"
           }
          },
          "shapedefaults": {
           "line": {
            "color": "#2a3f5f"
           }
          },
          "ternary": {
           "aaxis": {
            "gridcolor": "white",
            "linecolor": "white",
            "ticks": ""
           },
           "baxis": {
            "gridcolor": "white",
            "linecolor": "white",
            "ticks": ""
           },
           "bgcolor": "#E5ECF6",
           "caxis": {
            "gridcolor": "white",
            "linecolor": "white",
            "ticks": ""
           }
          },
          "title": {
           "x": 0.05
          },
          "xaxis": {
           "automargin": true,
           "gridcolor": "white",
           "linecolor": "white",
           "ticks": "",
           "title": {
            "standoff": 15
           },
           "zerolinecolor": "white",
           "zerolinewidth": 2
          },
          "yaxis": {
           "automargin": true,
           "gridcolor": "white",
           "linecolor": "white",
           "ticks": "",
           "title": {
            "standoff": 15
           },
           "zerolinecolor": "white",
           "zerolinewidth": 2
          }
         }
        },
        "xaxis": {
         "anchor": "y",
         "domain": [
          0,
          1
         ],
         "title": {
          "text": "Accuracy"
         }
        },
        "yaxis": {
         "anchor": "x",
         "domain": [
          0,
          1
         ],
         "title": {
          "text": "Disparity |Rank[male]-Rank[female]|"
         }
        }
       }
      },
      "text/html": [
       "<div>                            <div id=\"ea597cc0-f124-497d-add3-956077de866a\" class=\"plotly-graph-div\" style=\"height:525px; width:100%;\"></div>            <script type=\"text/javascript\">                require([\"plotly\"], function(Plotly) {                    window.PLOTLYENV=window.PLOTLYENV || {};                                    if (document.getElementById(\"ea597cc0-f124-497d-add3-956077de866a\")) {                    Plotly.newPlot(                        \"ea597cc0-f124-497d-add3-956077de866a\",                        [{\"hovertemplate\":\"index=Checkpoints_Layers_132244_LR_0.00013960084382230004_Head_CosFace_Optimizer_AdamW<br>Accuracy=%{x}<br>Disparity=%{y}<extra></extra>\",\"legendgroup\":\"Checkpoints_Layers_132244_LR_0.00013960084382230004_Head_CosFace_Optimizer_AdamW\",\"marker\":{\"color\":\"#636efa\",\"symbol\":\"circle\"},\"mode\":\"markers\",\"name\":\"Checkpoints_Layers_132244_LR_0.00013960084382230004_Head_CosFace_Optimizer_AdamW\",\"orientation\":\"v\",\"showlegend\":true,\"x\":[0.7266893661602933],\"xaxis\":\"x\",\"y\":[4.991487689889995],\"yaxis\":\"y\",\"type\":\"scatter\"},{\"hovertemplate\":\"index=Checkpoints_Layers_113345_LR_0.13978801611960473_Head_CosFace_Optimizer_SGD<br>Accuracy=%{x}<br>Disparity=%{y}<extra></extra>\",\"legendgroup\":\"Checkpoints_Layers_113345_LR_0.13978801611960473_Head_CosFace_Optimizer_SGD\",\"marker\":{\"color\":\"#EF553B\",\"symbol\":\"circle\"},\"mode\":\"markers\",\"name\":\"Checkpoints_Layers_113345_LR_0.13978801611960473_Head_CosFace_Optimizer_SGD\",\"orientation\":\"v\",\"showlegend\":true,\"x\":[0.8810240963855421],\"xaxis\":\"x\",\"y\":[3.892352016762703],\"yaxis\":\"y\",\"type\":\"scatter\"},{\"hovertemplate\":\"index=Checkpoints_Layers_121445_LR_0.5299154667551493_Head_CosFace_Optimizer_SGD<br>Accuracy=%{x}<br>Disparity=%{y}<extra></extra>\",\"legendgroup\":\"Checkpoints_Layers_121445_LR_0.5299154667551493_Head_CosFace_Optimizer_SGD\",\"marker\":{\"color\":\"#00cc96\",\"symbol\":\"circle\"},\"mode\":\"markers\",\"name\":\"Checkpoints_Layers_121445_LR_0.5299154667551493_Head_CosFace_Optimizer_SGD\",\"orientation\":\"v\",\"showlegend\":true,\"x\":[0.9000785751702463],\"xaxis\":\"x\",\"y\":[3.132399161864851],\"yaxis\":\"y\",\"type\":\"scatter\"},{\"hovertemplate\":\"index=Checkpoints_Layers_212434_LR_0.6123658068885655_Head_MagFace_Optimizer_SGD<br>Accuracy=%{x}<br>Disparity=%{y}<extra></extra>\",\"legendgroup\":\"Checkpoints_Layers_212434_LR_0.6123658068885655_Head_MagFace_Optimizer_SGD\",\"marker\":{\"color\":\"#ab63fa\",\"symbol\":\"circle\"},\"mode\":\"markers\",\"name\":\"Checkpoints_Layers_212434_LR_0.6123658068885655_Head_MagFace_Optimizer_SGD\",\"orientation\":\"v\",\"showlegend\":true,\"x\":[0.5341801990570979],\"xaxis\":\"x\",\"y\":[4.136589837611314],\"yaxis\":\"y\",\"type\":\"scatter\"},{\"hovertemplate\":\"index=Checkpoints_Layers_212224_LR_0.03430453946391557_Head_CosFace_Optimizer_SGD<br>Accuracy=%{x}<br>Disparity=%{y}<extra></extra>\",\"legendgroup\":\"Checkpoints_Layers_212224_LR_0.03430453946391557_Head_CosFace_Optimizer_SGD\",\"marker\":{\"color\":\"#FFA15A\",\"symbol\":\"circle\"},\"mode\":\"markers\",\"name\":\"Checkpoints_Layers_212224_LR_0.03430453946391557_Head_CosFace_Optimizer_SGD\",\"orientation\":\"v\",\"showlegend\":true,\"x\":[0.8799109481403876],\"xaxis\":\"x\",\"y\":[3.7649292823467784],\"yaxis\":\"y\",\"type\":\"scatter\"},{\"hovertemplate\":\"index=Checkpoints_Layers_221236_LR_0.08213599190775492_Head_CosFace_Optimizer_SGD<br>Accuracy=%{x}<br>Disparity=%{y}<extra></extra>\",\"legendgroup\":\"Checkpoints_Layers_221236_LR_0.08213599190775492_Head_CosFace_Optimizer_SGD\",\"marker\":{\"color\":\"#19d3f3\",\"symbol\":\"circle\"},\"mode\":\"markers\",\"name\":\"Checkpoints_Layers_221236_LR_0.08213599190775492_Head_CosFace_Optimizer_SGD\",\"orientation\":\"v\",\"showlegend\":true,\"x\":[0.8882922996333159],\"xaxis\":\"x\",\"y\":[3.307752750130959],\"yaxis\":\"y\",\"type\":\"scatter\"},{\"hovertemplate\":\"index=Checkpoints_Edges_101032_LR_0.017513717253918027_Head_CosFace_Optimizer_SGD<br>Accuracy=%{x}<br>Disparity=%{y}<extra></extra>\",\"legendgroup\":\"Checkpoints_Edges_101032_LR_0.017513717253918027_Head_CosFace_Optimizer_SGD\",\"marker\":{\"color\":\"#FF6692\",\"symbol\":\"circle\"},\"mode\":\"markers\",\"name\":\"Checkpoints_Edges_101032_LR_0.017513717253918027_Head_CosFace_Optimizer_SGD\",\"orientation\":\"v\",\"showlegend\":true,\"x\":[0.9015845992666317],\"xaxis\":\"x\",\"y\":[3.7738344683080145],\"yaxis\":\"y\",\"type\":\"scatter\"},{\"hovertemplate\":\"index=Checkpoints_Edges_322100_LR_0.01959196454937229_Head_MagFace_Optimizer_SGD<br>Accuracy=%{x}<br>Disparity=%{y}<extra></extra>\",\"legendgroup\":\"Checkpoints_Edges_322100_LR_0.01959196454937229_Head_MagFace_Optimizer_SGD\",\"marker\":{\"color\":\"#B6E880\",\"symbol\":\"circle\"},\"mode\":\"markers\",\"name\":\"Checkpoints_Edges_322100_LR_0.01959196454937229_Head_MagFace_Optimizer_SGD\",\"orientation\":\"v\",\"showlegend\":true,\"x\":[0.8748035620743845],\"xaxis\":\"x\",\"y\":[3.5302514405447876],\"yaxis\":\"y\",\"type\":\"scatter\"},{\"hovertemplate\":\"index=Checkpoints_Edges_313101_LR_0.0004389485474155909_Head_CosFace_Optimizer_AdamW<br>Accuracy=%{x}<br>Disparity=%{y}<extra></extra>\",\"legendgroup\":\"Checkpoints_Edges_313101_LR_0.0004389485474155909_Head_CosFace_Optimizer_AdamW\",\"marker\":{\"color\":\"#FF97FF\",\"symbol\":\"circle\"},\"mode\":\"markers\",\"name\":\"Checkpoints_Edges_313101_LR_0.0004389485474155909_Head_CosFace_Optimizer_AdamW\",\"orientation\":\"v\",\"showlegend\":true,\"x\":[0.714641173389209],\"xaxis\":\"x\",\"y\":[0.38449449973808214],\"yaxis\":\"y\",\"type\":\"scatter\"},{\"hovertemplate\":\"index=Checkpoints_Edges_212220_LR_0.0003440906174489285_Head_CosFace_Optimizer_AdamW<br>Accuracy=%{x}<br>Disparity=%{y}<extra></extra>\",\"legendgroup\":\"Checkpoints_Edges_212220_LR_0.0003440906174489285_Head_CosFace_Optimizer_AdamW\",\"marker\":{\"color\":\"#FECB52\",\"symbol\":\"circle\"},\"mode\":\"markers\",\"name\":\"Checkpoints_Edges_212220_LR_0.0003440906174489285_Head_CosFace_Optimizer_AdamW\",\"orientation\":\"v\",\"showlegend\":true,\"x\":[0.8882268203247774],\"xaxis\":\"x\",\"y\":[3.85096909376637],\"yaxis\":\"y\",\"type\":\"scatter\"},{\"hovertemplate\":\"index=Checkpoints_Layers_132336_LR_0.01932097460250485_Head_CosFace_Optimizer_SGD<br>Accuracy=%{x}<br>Disparity=%{y}<extra></extra>\",\"legendgroup\":\"Checkpoints_Layers_132336_LR_0.01932097460250485_Head_CosFace_Optimizer_SGD\",\"marker\":{\"color\":\"#636efa\",\"symbol\":\"circle\"},\"mode\":\"markers\",\"name\":\"Checkpoints_Layers_132336_LR_0.01932097460250485_Head_CosFace_Optimizer_SGD\",\"orientation\":\"v\",\"showlegend\":true,\"x\":[0.8789287585123101],\"xaxis\":\"x\",\"y\":[4.057359874279728],\"yaxis\":\"y\",\"type\":\"scatter\"},{\"hovertemplate\":\"index=Checkpoints_Layers_222435_LR_0.04651160552072088_Head_MagFace_Optimizer_SGD<br>Accuracy=%{x}<br>Disparity=%{y}<extra></extra>\",\"legendgroup\":\"Checkpoints_Layers_222435_LR_0.04651160552072088_Head_MagFace_Optimizer_SGD\",\"marker\":{\"color\":\"#EF553B\",\"symbol\":\"circle\"},\"mode\":\"markers\",\"name\":\"Checkpoints_Layers_222435_LR_0.04651160552072088_Head_MagFace_Optimizer_SGD\",\"orientation\":\"v\",\"showlegend\":true,\"x\":[0.8258250392875851],\"xaxis\":\"x\",\"y\":[2.8078837087480357],\"yaxis\":\"y\",\"type\":\"scatter\"},{\"hovertemplate\":\"index=xcit_medium_24_p8_224_dist_CosFace_adamw<br>Accuracy=%{x}<br>Disparity=%{y}<extra></extra>\",\"legendgroup\":\"xcit_medium_24_p8_224_dist_CosFace_adamw\",\"marker\":{\"color\":\"#00cc96\",\"symbol\":\"circle\"},\"mode\":\"markers\",\"name\":\"xcit_medium_24_p8_224_dist_CosFace_adamw\",\"orientation\":\"v\",\"showlegend\":true,\"x\":[0.9036144578313253],\"xaxis\":\"x\",\"y\":[3.6227082242011526],\"yaxis\":\"y\",\"type\":\"scatter\"},{\"hovertemplate\":\"index=vit_large_patch16_224_MagFace_SGD<br>Accuracy=%{x}<br>Disparity=%{y}<extra></extra>\",\"legendgroup\":\"vit_large_patch16_224_MagFace_SGD\",\"marker\":{\"color\":\"#ab63fa\",\"symbol\":\"circle\"},\"mode\":\"markers\",\"name\":\"vit_large_patch16_224_MagFace_SGD\",\"orientation\":\"v\",\"showlegend\":true,\"x\":[null],\"xaxis\":\"x\",\"y\":[null],\"yaxis\":\"y\",\"type\":\"scatter\"},{\"hovertemplate\":\"index=vit_large_patch16_224_MagFace_AdamW<br>Accuracy=%{x}<br>Disparity=%{y}<extra></extra>\",\"legendgroup\":\"vit_large_patch16_224_MagFace_AdamW\",\"marker\":{\"color\":\"#FFA15A\",\"symbol\":\"circle\"},\"mode\":\"markers\",\"name\":\"vit_large_patch16_224_MagFace_AdamW\",\"orientation\":\"v\",\"showlegend\":true,\"x\":[null],\"xaxis\":\"x\",\"y\":[null],\"yaxis\":\"y\",\"type\":\"scatter\"},{\"hovertemplate\":\"index=vit_large_patch16_224_CosFace_SGD<br>Accuracy=%{x}<br>Disparity=%{y}<extra></extra>\",\"legendgroup\":\"vit_large_patch16_224_CosFace_SGD\",\"marker\":{\"color\":\"#19d3f3\",\"symbol\":\"circle\"},\"mode\":\"markers\",\"name\":\"vit_large_patch16_224_CosFace_SGD\",\"orientation\":\"v\",\"showlegend\":true,\"x\":[null],\"xaxis\":\"x\",\"y\":[null],\"yaxis\":\"y\",\"type\":\"scatter\"},{\"hovertemplate\":\"index=vit_large_patch16_224_CosFace_AdamW<br>Accuracy=%{x}<br>Disparity=%{y}<extra></extra>\",\"legendgroup\":\"vit_large_patch16_224_CosFace_AdamW\",\"marker\":{\"color\":\"#FF6692\",\"symbol\":\"circle\"},\"mode\":\"markers\",\"name\":\"vit_large_patch16_224_CosFace_AdamW\",\"orientation\":\"v\",\"showlegend\":true,\"x\":[null],\"xaxis\":\"x\",\"y\":[null],\"yaxis\":\"y\",\"type\":\"scatter\"},{\"hovertemplate\":\"index=vit_large_patch16_224_ArcFace_SGD<br>Accuracy=%{x}<br>Disparity=%{y}<extra></extra>\",\"legendgroup\":\"vit_large_patch16_224_ArcFace_SGD\",\"marker\":{\"color\":\"#B6E880\",\"symbol\":\"circle\"},\"mode\":\"markers\",\"name\":\"vit_large_patch16_224_ArcFace_SGD\",\"orientation\":\"v\",\"showlegend\":true,\"x\":[null],\"xaxis\":\"x\",\"y\":[null],\"yaxis\":\"y\",\"type\":\"scatter\"},{\"hovertemplate\":\"index=vit_large_patch16_224_ArcFace_AdamW<br>Accuracy=%{x}<br>Disparity=%{y}<extra></extra>\",\"legendgroup\":\"vit_large_patch16_224_ArcFace_AdamW\",\"marker\":{\"color\":\"#FF97FF\",\"symbol\":\"circle\"},\"mode\":\"markers\",\"name\":\"vit_large_patch16_224_ArcFace_AdamW\",\"orientation\":\"v\",\"showlegend\":true,\"x\":[null],\"xaxis\":\"x\",\"y\":[null],\"yaxis\":\"y\",\"type\":\"scatter\"},{\"hovertemplate\":\"index=twins_svt_large_MagFace_SGD<br>Accuracy=%{x}<br>Disparity=%{y}<extra></extra>\",\"legendgroup\":\"twins_svt_large_MagFace_SGD\",\"marker\":{\"color\":\"#FECB52\",\"symbol\":\"circle\"},\"mode\":\"markers\",\"name\":\"twins_svt_large_MagFace_SGD\",\"orientation\":\"v\",\"showlegend\":true,\"x\":[0.24063645887899424],\"xaxis\":\"x\",\"y\":[14.007595599790463],\"yaxis\":\"y\",\"type\":\"scatter\"},{\"hovertemplate\":\"index=twins_svt_large_MagFace_AdamW<br>Accuracy=%{x}<br>Disparity=%{y}<extra></extra>\",\"legendgroup\":\"twins_svt_large_MagFace_AdamW\",\"marker\":{\"color\":\"#636efa\",\"symbol\":\"circle\"},\"mode\":\"markers\",\"name\":\"twins_svt_large_MagFace_AdamW\",\"orientation\":\"v\",\"showlegend\":true,\"x\":[0.0],\"xaxis\":\"x\",\"y\":[0.0],\"yaxis\":\"y\",\"type\":\"scatter\"},{\"hovertemplate\":\"index=twins_svt_large_CosFace_SGD<br>Accuracy=%{x}<br>Disparity=%{y}<extra></extra>\",\"legendgroup\":\"twins_svt_large_CosFace_SGD\",\"marker\":{\"color\":\"#EF553B\",\"symbol\":\"circle\"},\"mode\":\"markers\",\"name\":\"twins_svt_large_CosFace_SGD\",\"orientation\":\"v\",\"showlegend\":true,\"x\":[0.6762048192771084],\"xaxis\":\"x\",\"y\":[7.761131482451544],\"yaxis\":\"y\",\"type\":\"scatter\"},{\"hovertemplate\":\"index=twins_svt_large_CosFace_AdamW<br>Accuracy=%{x}<br>Disparity=%{y}<extra></extra>\",\"legendgroup\":\"twins_svt_large_CosFace_AdamW\",\"marker\":{\"color\":\"#00cc96\",\"symbol\":\"circle\"},\"mode\":\"markers\",\"name\":\"twins_svt_large_CosFace_AdamW\",\"orientation\":\"v\",\"showlegend\":true,\"x\":[null],\"xaxis\":\"x\",\"y\":[null],\"yaxis\":\"y\",\"type\":\"scatter\"},{\"hovertemplate\":\"index=twins_svt_large_ArcFace_SGD<br>Accuracy=%{x}<br>Disparity=%{y}<extra></extra>\",\"legendgroup\":\"twins_svt_large_ArcFace_SGD\",\"marker\":{\"color\":\"#ab63fa\",\"symbol\":\"circle\"},\"mode\":\"markers\",\"name\":\"twins_svt_large_ArcFace_SGD\",\"orientation\":\"v\",\"showlegend\":true,\"x\":[0.0],\"xaxis\":\"x\",\"y\":[2.2573336825562933],\"yaxis\":\"y\",\"type\":\"scatter\"},{\"hovertemplate\":\"index=twins_svt_large_ArcFace_AdamW<br>Accuracy=%{x}<br>Disparity=%{y}<extra></extra>\",\"legendgroup\":\"twins_svt_large_ArcFace_AdamW\",\"marker\":{\"color\":\"#FFA15A\",\"symbol\":\"circle\"},\"mode\":\"markers\",\"name\":\"twins_svt_large_ArcFace_AdamW\",\"orientation\":\"v\",\"showlegend\":true,\"x\":[0.0],\"xaxis\":\"x\",\"y\":[0.0],\"yaxis\":\"y\",\"type\":\"scatter\"},{\"hovertemplate\":\"index=tf_efficientnet_b7_ns_MagFace_SGD<br>Accuracy=%{x}<br>Disparity=%{y}<extra></extra>\",\"legendgroup\":\"tf_efficientnet_b7_ns_MagFace_SGD\",\"marker\":{\"color\":\"#19d3f3\",\"symbol\":\"circle\"},\"mode\":\"markers\",\"name\":\"tf_efficientnet_b7_ns_MagFace_SGD\",\"orientation\":\"v\",\"showlegend\":true,\"x\":[0.1821634363541121],\"xaxis\":\"x\",\"y\":[11.345599790466217],\"yaxis\":\"y\",\"type\":\"scatter\"},{\"hovertemplate\":\"index=tf_efficientnet_b7_ns_MagFace_AdamW<br>Accuracy=%{x}<br>Disparity=%{y}<extra></extra>\",\"legendgroup\":\"tf_efficientnet_b7_ns_MagFace_AdamW\",\"marker\":{\"color\":\"#FF6692\",\"symbol\":\"circle\"},\"mode\":\"markers\",\"name\":\"tf_efficientnet_b7_ns_MagFace_AdamW\",\"orientation\":\"v\",\"showlegend\":true,\"x\":[0.29518072289156627],\"xaxis\":\"x\",\"y\":[8.973546359350445],\"yaxis\":\"y\",\"type\":\"scatter\"},{\"hovertemplate\":\"index=tf_efficientnet_b7_ns_CosFace_rmsproptf<br>Accuracy=%{x}<br>Disparity=%{y}<extra></extra>\",\"legendgroup\":\"tf_efficientnet_b7_ns_CosFace_rmsproptf\",\"marker\":{\"color\":\"#B6E880\",\"symbol\":\"circle\"},\"mode\":\"markers\",\"name\":\"tf_efficientnet_b7_ns_CosFace_rmsproptf\",\"orientation\":\"v\",\"showlegend\":true,\"x\":[0.8946437925615506],\"xaxis\":\"x\",\"y\":[2.314824515453117],\"yaxis\":\"y\",\"type\":\"scatter\"},{\"hovertemplate\":\"index=tf_efficientnet_b7_ns_CosFace_SGD<br>Accuracy=%{x}<br>Disparity=%{y}<extra></extra>\",\"legendgroup\":\"tf_efficientnet_b7_ns_CosFace_SGD\",\"marker\":{\"color\":\"#FF97FF\",\"symbol\":\"circle\"},\"mode\":\"markers\",\"name\":\"tf_efficientnet_b7_ns_CosFace_SGD\",\"orientation\":\"v\",\"showlegend\":true,\"x\":[0.8493321110529073],\"xaxis\":\"x\",\"y\":[4.17784180199057],\"yaxis\":\"y\",\"type\":\"scatter\"},{\"hovertemplate\":\"index=tf_efficientnet_b7_ns_CosFace_AdamW<br>Accuracy=%{x}<br>Disparity=%{y}<extra></extra>\",\"legendgroup\":\"tf_efficientnet_b7_ns_CosFace_AdamW\",\"marker\":{\"color\":\"#FECB52\",\"symbol\":\"circle\"},\"mode\":\"markers\",\"name\":\"tf_efficientnet_b7_ns_CosFace_AdamW\",\"orientation\":\"v\",\"showlegend\":true,\"x\":[0.7960974332111053],\"xaxis\":\"x\",\"y\":[2.956390780513358],\"yaxis\":\"y\",\"type\":\"scatter\"},{\"hovertemplate\":\"index=tf_efficientnet_b7_ns_ArcFace_SGD<br>Accuracy=%{x}<br>Disparity=%{y}<extra></extra>\",\"legendgroup\":\"tf_efficientnet_b7_ns_ArcFace_SGD\",\"marker\":{\"color\":\"#636efa\",\"symbol\":\"circle\"},\"mode\":\"markers\",\"name\":\"tf_efficientnet_b7_ns_ArcFace_SGD\",\"orientation\":\"v\",\"showlegend\":true,\"x\":[0.0029465688842325827],\"xaxis\":\"x\",\"y\":[1.4457831325301527],\"yaxis\":\"y\",\"type\":\"scatter\"},{\"hovertemplate\":\"index=tf_efficientnet_b7_ns_ArcFace_AdamW<br>Accuracy=%{x}<br>Disparity=%{y}<extra></extra>\",\"legendgroup\":\"tf_efficientnet_b7_ns_ArcFace_AdamW\",\"marker\":{\"color\":\"#EF553B\",\"symbol\":\"circle\"},\"mode\":\"markers\",\"name\":\"tf_efficientnet_b7_ns_ArcFace_AdamW\",\"orientation\":\"v\",\"showlegend\":true,\"x\":[0.0022917757988475643],\"xaxis\":\"x\",\"y\":[2.697354635935028],\"yaxis\":\"y\",\"type\":\"scatter\"},{\"hovertemplate\":\"index=swin_base_patch4_window7_224_MagFace_SGD<br>Accuracy=%{x}<br>Disparity=%{y}<extra></extra>\",\"legendgroup\":\"swin_base_patch4_window7_224_MagFace_SGD\",\"marker\":{\"color\":\"#00cc96\",\"symbol\":\"circle\"},\"mode\":\"markers\",\"name\":\"swin_base_patch4_window7_224_MagFace_SGD\",\"orientation\":\"v\",\"showlegend\":true,\"x\":[0.04249607124148769],\"xaxis\":\"x\",\"y\":[34.96778418019903],\"yaxis\":\"y\",\"type\":\"scatter\"},{\"hovertemplate\":\"index=swin_base_patch4_window7_224_MagFace_AdamW<br>Accuracy=%{x}<br>Disparity=%{y}<extra></extra>\",\"legendgroup\":\"swin_base_patch4_window7_224_MagFace_AdamW\",\"marker\":{\"color\":\"#ab63fa\",\"symbol\":\"circle\"},\"mode\":\"markers\",\"name\":\"swin_base_patch4_window7_224_MagFace_AdamW\",\"orientation\":\"v\",\"showlegend\":true,\"x\":[0.8074253535882661],\"xaxis\":\"x\",\"y\":[2.9690937663698267],\"yaxis\":\"y\",\"type\":\"scatter\"},{\"hovertemplate\":\"index=swin_base_patch4_window7_224_CosFace_SGD<br>Accuracy=%{x}<br>Disparity=%{y}<extra></extra>\",\"legendgroup\":\"swin_base_patch4_window7_224_CosFace_SGD\",\"marker\":{\"color\":\"#FFA15A\",\"symbol\":\"circle\"},\"mode\":\"markers\",\"name\":\"swin_base_patch4_window7_224_CosFace_SGD\",\"orientation\":\"v\",\"showlegend\":true,\"x\":[0.03313253012048193],\"xaxis\":\"x\",\"y\":[29.339182818229403],\"yaxis\":\"y\",\"type\":\"scatter\"},{\"hovertemplate\":\"index=swin_base_patch4_window7_224_CosFace_AdamW<br>Accuracy=%{x}<br>Disparity=%{y}<extra></extra>\",\"legendgroup\":\"swin_base_patch4_window7_224_CosFace_AdamW\",\"marker\":{\"color\":\"#19d3f3\",\"symbol\":\"circle\"},\"mode\":\"markers\",\"name\":\"swin_base_patch4_window7_224_CosFace_AdamW\",\"orientation\":\"v\",\"showlegend\":true,\"x\":[0.8385280251440544],\"xaxis\":\"x\",\"y\":[2.6461498166579362],\"yaxis\":\"y\",\"type\":\"scatter\"},{\"hovertemplate\":\"index=swin_base_patch4_window7_224_CosFace_Adam<br>Accuracy=%{x}<br>Disparity=%{y}<extra></extra>\",\"legendgroup\":\"swin_base_patch4_window7_224_CosFace_Adam\",\"marker\":{\"color\":\"#FF6692\",\"symbol\":\"circle\"},\"mode\":\"markers\",\"name\":\"swin_base_patch4_window7_224_CosFace_Adam\",\"orientation\":\"v\",\"showlegend\":true,\"x\":[0.8372184389732844],\"xaxis\":\"x\",\"y\":[2.544656888423258],\"yaxis\":\"y\",\"type\":\"scatter\"},{\"hovertemplate\":\"index=swin_base_patch4_window7_224_ArcFace_SGD<br>Accuracy=%{x}<br>Disparity=%{y}<extra></extra>\",\"legendgroup\":\"swin_base_patch4_window7_224_ArcFace_SGD\",\"marker\":{\"color\":\"#B6E880\",\"symbol\":\"circle\"},\"mode\":\"markers\",\"name\":\"swin_base_patch4_window7_224_ArcFace_SGD\",\"orientation\":\"v\",\"showlegend\":true,\"x\":[0.03601361969617601],\"xaxis\":\"x\",\"y\":[28.426401257202713],\"yaxis\":\"y\",\"type\":\"scatter\"},{\"hovertemplate\":\"index=swin_base_patch4_window7_224_ArcFace_AdamW<br>Accuracy=%{x}<br>Disparity=%{y}<extra></extra>\",\"legendgroup\":\"swin_base_patch4_window7_224_ArcFace_AdamW\",\"marker\":{\"color\":\"#FF97FF\",\"symbol\":\"circle\"},\"mode\":\"markers\",\"name\":\"swin_base_patch4_window7_224_ArcFace_AdamW\",\"orientation\":\"v\",\"showlegend\":true,\"x\":[0.5598480880041907],\"xaxis\":\"x\",\"y\":[4.739392352016763],\"yaxis\":\"y\",\"type\":\"scatter\"},{\"hovertemplate\":\"index=resmlp_big_24_224_in22ft1k_CosFace_AdamW<br>Accuracy=%{x}<br>Disparity=%{y}<extra></extra>\",\"legendgroup\":\"resmlp_big_24_224_in22ft1k_CosFace_AdamW\",\"marker\":{\"color\":\"#FECB52\",\"symbol\":\"circle\"},\"mode\":\"markers\",\"name\":\"resmlp_big_24_224_in22ft1k_CosFace_AdamW\",\"orientation\":\"v\",\"showlegend\":true,\"x\":[0.7412257726558408],\"xaxis\":\"x\",\"y\":[5.546752226296491],\"yaxis\":\"y\",\"type\":\"scatter\"},{\"hovertemplate\":\"index=jx_nest_base_MagFace_SGD<br>Accuracy=%{x}<br>Disparity=%{y}<extra></extra>\",\"legendgroup\":\"jx_nest_base_MagFace_SGD\",\"marker\":{\"color\":\"#636efa\",\"symbol\":\"circle\"},\"mode\":\"markers\",\"name\":\"jx_nest_base_MagFace_SGD\",\"orientation\":\"v\",\"showlegend\":true,\"x\":[0.19447354635935044],\"xaxis\":\"x\",\"y\":[11.236249345206915],\"yaxis\":\"y\",\"type\":\"scatter\"},{\"hovertemplate\":\"index=jx_nest_base_MagFace_AdamW<br>Accuracy=%{x}<br>Disparity=%{y}<extra></extra>\",\"legendgroup\":\"jx_nest_base_MagFace_AdamW\",\"marker\":{\"color\":\"#EF553B\",\"symbol\":\"circle\"},\"mode\":\"markers\",\"name\":\"jx_nest_base_MagFace_AdamW\",\"orientation\":\"v\",\"showlegend\":true,\"x\":[0.6788239916186485],\"xaxis\":\"x\",\"y\":[3.156102671555788],\"yaxis\":\"y\",\"type\":\"scatter\"},{\"hovertemplate\":\"index=jx_nest_base_CosFace_SGD<br>Accuracy=%{x}<br>Disparity=%{y}<extra></extra>\",\"legendgroup\":\"jx_nest_base_CosFace_SGD\",\"marker\":{\"color\":\"#00cc96\",\"symbol\":\"circle\"},\"mode\":\"markers\",\"name\":\"jx_nest_base_CosFace_SGD\",\"orientation\":\"v\",\"showlegend\":true,\"x\":[0.8928103719224725],\"xaxis\":\"x\",\"y\":[2.0272393923520173],\"yaxis\":\"y\",\"type\":\"scatter\"},{\"hovertemplate\":\"index=jx_nest_base_CosFace_AdamW<br>Accuracy=%{x}<br>Disparity=%{y}<extra></extra>\",\"legendgroup\":\"jx_nest_base_CosFace_AdamW\",\"marker\":{\"color\":\"#ab63fa\",\"symbol\":\"circle\"},\"mode\":\"markers\",\"name\":\"jx_nest_base_CosFace_AdamW\",\"orientation\":\"v\",\"showlegend\":true,\"x\":[0.9004714510214772],\"xaxis\":\"x\",\"y\":[3.0755631220534316],\"yaxis\":\"y\",\"type\":\"scatter\"},{\"hovertemplate\":\"index=jx_nest_base_ArcFace_SGD<br>Accuracy=%{x}<br>Disparity=%{y}<extra></extra>\",\"legendgroup\":\"jx_nest_base_ArcFace_SGD\",\"marker\":{\"color\":\"#FFA15A\",\"symbol\":\"circle\"},\"mode\":\"markers\",\"name\":\"jx_nest_base_ArcFace_SGD\",\"orientation\":\"v\",\"showlegend\":true,\"x\":[0.6367862755369303],\"xaxis\":\"x\",\"y\":[5.533787323205868],\"yaxis\":\"y\",\"type\":\"scatter\"},{\"hovertemplate\":\"index=jx_nest_base_ArcFace_AdamW<br>Accuracy=%{x}<br>Disparity=%{y}<extra></extra>\",\"legendgroup\":\"jx_nest_base_ArcFace_AdamW\",\"marker\":{\"color\":\"#19d3f3\",\"symbol\":\"circle\"},\"mode\":\"markers\",\"name\":\"jx_nest_base_ArcFace_AdamW\",\"orientation\":\"v\",\"showlegend\":true,\"x\":[0.0],\"xaxis\":\"x\",\"y\":[0.0],\"yaxis\":\"y\",\"type\":\"scatter\"},{\"hovertemplate\":\"index=hrnet_w64_MagFace_SGD<br>Accuracy=%{x}<br>Disparity=%{y}<extra></extra>\",\"legendgroup\":\"hrnet_w64_MagFace_SGD\",\"marker\":{\"color\":\"#FF6692\",\"symbol\":\"circle\"},\"mode\":\"markers\",\"name\":\"hrnet_w64_MagFace_SGD\",\"orientation\":\"v\",\"showlegend\":true,\"x\":[0.6666448402304872],\"xaxis\":\"x\",\"y\":[2.9252226296490313],\"yaxis\":\"y\",\"type\":\"scatter\"},{\"hovertemplate\":\"index=hrnet_w64_MagFace_AdamW<br>Accuracy=%{x}<br>Disparity=%{y}<extra></extra>\",\"legendgroup\":\"hrnet_w64_MagFace_AdamW\",\"marker\":{\"color\":\"#B6E880\",\"symbol\":\"circle\"},\"mode\":\"markers\",\"name\":\"hrnet_w64_MagFace_AdamW\",\"orientation\":\"v\",\"showlegend\":true,\"x\":[0.6413698271346254],\"xaxis\":\"x\",\"y\":[3.612231534834992],\"yaxis\":\"y\",\"type\":\"scatter\"},{\"hovertemplate\":\"index=hrnet_w64_CosFace_sgd<br>Accuracy=%{x}<br>Disparity=%{y}<extra></extra>\",\"legendgroup\":\"hrnet_w64_CosFace_sgd\",\"marker\":{\"color\":\"#FF97FF\",\"symbol\":\"circle\"},\"mode\":\"markers\",\"name\":\"hrnet_w64_CosFace_sgd\",\"orientation\":\"v\",\"showlegend\":true,\"x\":[0.8639994761655317],\"xaxis\":\"x\",\"y\":[1.548847564169722],\"yaxis\":\"y\",\"type\":\"scatter\"},{\"hovertemplate\":\"index=hrnet_w64_CosFace_AdamW<br>Accuracy=%{x}<br>Disparity=%{y}<extra></extra>\",\"legendgroup\":\"hrnet_w64_CosFace_AdamW\",\"marker\":{\"color\":\"#FECB52\",\"symbol\":\"circle\"},\"mode\":\"markers\",\"name\":\"hrnet_w64_CosFace_AdamW\",\"orientation\":\"v\",\"showlegend\":true,\"x\":[0.38672079622839184],\"xaxis\":\"x\",\"y\":[6.305264536406495],\"yaxis\":\"y\",\"type\":\"scatter\"},{\"hovertemplate\":\"index=hrnet_w64_ArcFace_SGD<br>Accuracy=%{x}<br>Disparity=%{y}<extra></extra>\",\"legendgroup\":\"hrnet_w64_ArcFace_SGD\",\"marker\":{\"color\":\"#636efa\",\"symbol\":\"circle\"},\"mode\":\"markers\",\"name\":\"hrnet_w64_ArcFace_SGD\",\"orientation\":\"v\",\"showlegend\":true,\"x\":[0.6556443163960188],\"xaxis\":\"x\",\"y\":[3.8619696176008382],\"yaxis\":\"y\",\"type\":\"scatter\"},{\"hovertemplate\":\"index=hrnet_w64_ArcFace_AdamW<br>Accuracy=%{x}<br>Disparity=%{y}<extra></extra>\",\"legendgroup\":\"hrnet_w64_ArcFace_AdamW\",\"marker\":{\"color\":\"#EF553B\",\"symbol\":\"circle\"},\"mode\":\"markers\",\"name\":\"hrnet_w64_ArcFace_AdamW\",\"orientation\":\"v\",\"showlegend\":true,\"x\":[0.5838789942378209],\"xaxis\":\"x\",\"y\":[4.327396542692509],\"yaxis\":\"y\",\"type\":\"scatter\"},{\"hovertemplate\":\"index=ghostnet_100_MagFace_SGD<br>Accuracy=%{x}<br>Disparity=%{y}<extra></extra>\",\"legendgroup\":\"ghostnet_100_MagFace_SGD\",\"marker\":{\"color\":\"#00cc96\",\"symbol\":\"circle\"},\"mode\":\"markers\",\"name\":\"ghostnet_100_MagFace_SGD\",\"orientation\":\"v\",\"showlegend\":true,\"x\":[0.4306574122577266],\"xaxis\":\"x\",\"y\":[5.16867469879518],\"yaxis\":\"y\",\"type\":\"scatter\"},{\"hovertemplate\":\"index=ghostnet_100_MagFace_AdamW<br>Accuracy=%{x}<br>Disparity=%{y}<extra></extra>\",\"legendgroup\":\"ghostnet_100_MagFace_AdamW\",\"marker\":{\"color\":\"#ab63fa\",\"symbol\":\"circle\"},\"mode\":\"markers\",\"name\":\"ghostnet_100_MagFace_AdamW\",\"orientation\":\"v\",\"showlegend\":true,\"x\":[0.5322812991094814],\"xaxis\":\"x\",\"y\":[5.686616029334729],\"yaxis\":\"y\",\"type\":\"scatter\"},{\"hovertemplate\":\"index=ghostnet_100_CosFace_sgd<br>Accuracy=%{x}<br>Disparity=%{y}<extra></extra>\",\"legendgroup\":\"ghostnet_100_CosFace_sgd\",\"marker\":{\"color\":\"#FFA15A\",\"symbol\":\"circle\"},\"mode\":\"markers\",\"name\":\"ghostnet_100_CosFace_sgd\",\"orientation\":\"v\",\"showlegend\":true,\"x\":[0.800615505500262],\"xaxis\":\"x\",\"y\":[1.0732058669460454],\"yaxis\":\"y\",\"type\":\"scatter\"},{\"hovertemplate\":\"index=ghostnet_100_CosFace_AdamW<br>Accuracy=%{x}<br>Disparity=%{y}<extra></extra>\",\"legendgroup\":\"ghostnet_100_CosFace_AdamW\",\"marker\":{\"color\":\"#19d3f3\",\"symbol\":\"circle\"},\"mode\":\"markers\",\"name\":\"ghostnet_100_CosFace_AdamW\",\"orientation\":\"v\",\"showlegend\":true,\"x\":[6.547930853850184e-05],\"xaxis\":\"x\",\"y\":[3.105290728129887],\"yaxis\":\"y\",\"type\":\"scatter\"},{\"hovertemplate\":\"index=ghostnet_100_ArcFace_SGD<br>Accuracy=%{x}<br>Disparity=%{y}<extra></extra>\",\"legendgroup\":\"ghostnet_100_ArcFace_SGD\",\"marker\":{\"color\":\"#FF6692\",\"symbol\":\"circle\"},\"mode\":\"markers\",\"name\":\"ghostnet_100_ArcFace_SGD\",\"orientation\":\"v\",\"showlegend\":true,\"x\":[0.0037977998952331065],\"xaxis\":\"x\",\"y\":[22.703902566788912],\"yaxis\":\"y\",\"type\":\"scatter\"},{\"hovertemplate\":\"index=ghostnet_100_ArcFace_AdamW<br>Accuracy=%{x}<br>Disparity=%{y}<extra></extra>\",\"legendgroup\":\"ghostnet_100_ArcFace_AdamW\",\"marker\":{\"color\":\"#B6E880\",\"symbol\":\"circle\"},\"mode\":\"markers\",\"name\":\"ghostnet_100_ArcFace_AdamW\",\"orientation\":\"v\",\"showlegend\":true,\"x\":[0.00392875851231011],\"xaxis\":\"x\",\"y\":[8.240047145102125],\"yaxis\":\"y\",\"type\":\"scatter\"},{\"hovertemplate\":\"index=dpn107_MagFace_SGD<br>Accuracy=%{x}<br>Disparity=%{y}<extra></extra>\",\"legendgroup\":\"dpn107_MagFace_SGD\",\"marker\":{\"color\":\"#FF97FF\",\"symbol\":\"circle\"},\"mode\":\"markers\",\"name\":\"dpn107_MagFace_SGD\",\"orientation\":\"v\",\"showlegend\":true,\"x\":[0.8458617077003667],\"xaxis\":\"x\",\"y\":[2.9248297537977996],\"yaxis\":\"y\",\"type\":\"scatter\"},{\"hovertemplate\":\"index=dpn107_MagFace_AdamW<br>Accuracy=%{x}<br>Disparity=%{y}<extra></extra>\",\"legendgroup\":\"dpn107_MagFace_AdamW\",\"marker\":{\"color\":\"#FECB52\",\"symbol\":\"circle\"},\"mode\":\"markers\",\"name\":\"dpn107_MagFace_AdamW\",\"orientation\":\"v\",\"showlegend\":true,\"x\":[0.5095599790466213],\"xaxis\":\"x\",\"y\":[4.926401257202724],\"yaxis\":\"y\",\"type\":\"scatter\"},{\"hovertemplate\":\"index=dpn107_CosFace_SGD<br>Accuracy=%{x}<br>Disparity=%{y}<extra></extra>\",\"legendgroup\":\"dpn107_CosFace_SGD\",\"marker\":{\"color\":\"#636efa\",\"symbol\":\"circle\"},\"mode\":\"markers\",\"name\":\"dpn107_CosFace_SGD\",\"orientation\":\"v\",\"showlegend\":true,\"x\":[0.929282346778418],\"xaxis\":\"x\",\"y\":[2.6537454164484022],\"yaxis\":\"y\",\"type\":\"scatter\"},{\"hovertemplate\":\"index=dpn107_CosFace_AdamW<br>Accuracy=%{x}<br>Disparity=%{y}<extra></extra>\",\"legendgroup\":\"dpn107_CosFace_AdamW\",\"marker\":{\"color\":\"#EF553B\",\"symbol\":\"circle\"},\"mode\":\"markers\",\"name\":\"dpn107_CosFace_AdamW\",\"orientation\":\"v\",\"showlegend\":true,\"x\":[0.9473546359350445],\"xaxis\":\"x\",\"y\":[2.4655578837087475],\"yaxis\":\"y\",\"type\":\"scatter\"},{\"hovertemplate\":\"index=dpn107_ArcFace_SGD<br>Accuracy=%{x}<br>Disparity=%{y}<extra></extra>\",\"legendgroup\":\"dpn107_ArcFace_SGD\",\"marker\":{\"color\":\"#00cc96\",\"symbol\":\"circle\"},\"mode\":\"markers\",\"name\":\"dpn107_ArcFace_SGD\",\"orientation\":\"v\",\"showlegend\":true,\"x\":[0.9150733368255631],\"xaxis\":\"x\",\"y\":[2.487689889994762],\"yaxis\":\"y\",\"type\":\"scatter\"},{\"hovertemplate\":\"index=dpn107_ArcFace_AdamW<br>Accuracy=%{x}<br>Disparity=%{y}<extra></extra>\",\"legendgroup\":\"dpn107_ArcFace_AdamW\",\"marker\":{\"color\":\"#ab63fa\",\"symbol\":\"circle\"},\"mode\":\"markers\",\"name\":\"dpn107_ArcFace_AdamW\",\"orientation\":\"v\",\"showlegend\":true,\"x\":[0.5571634363541121],\"xaxis\":\"x\",\"y\":[5.004845468831848],\"yaxis\":\"y\",\"type\":\"scatter\"},{\"hovertemplate\":\"index=dla102x2_MagFace_SGD<br>Accuracy=%{x}<br>Disparity=%{y}<extra></extra>\",\"legendgroup\":\"dla102x2_MagFace_SGD\",\"marker\":{\"color\":\"#FFA15A\",\"symbol\":\"circle\"},\"mode\":\"markers\",\"name\":\"dla102x2_MagFace_SGD\",\"orientation\":\"v\",\"showlegend\":true,\"x\":[0.6485725510738607],\"xaxis\":\"x\",\"y\":[4.414484023048716],\"yaxis\":\"y\",\"type\":\"scatter\"},{\"hovertemplate\":\"index=dla102x2_MagFace_AdamW<br>Accuracy=%{x}<br>Disparity=%{y}<extra></extra>\",\"legendgroup\":\"dla102x2_MagFace_AdamW\",\"marker\":{\"color\":\"#19d3f3\",\"symbol\":\"circle\"},\"mode\":\"markers\",\"name\":\"dla102x2_MagFace_AdamW\",\"orientation\":\"v\",\"showlegend\":true,\"x\":[0.7182425353588267],\"xaxis\":\"x\",\"y\":[3.5345730749083284],\"yaxis\":\"y\",\"type\":\"scatter\"},{\"hovertemplate\":\"index=dla102x2_CosFace_SGD<br>Accuracy=%{x}<br>Disparity=%{y}<extra></extra>\",\"legendgroup\":\"dla102x2_CosFace_SGD\",\"marker\":{\"color\":\"#FF6692\",\"symbol\":\"circle\"},\"mode\":\"markers\",\"name\":\"dla102x2_CosFace_SGD\",\"orientation\":\"v\",\"showlegend\":true,\"x\":[null],\"xaxis\":\"x\",\"y\":[null],\"yaxis\":\"y\",\"type\":\"scatter\"},{\"hovertemplate\":\"index=dla102x2_CosFace_AdamW<br>Accuracy=%{x}<br>Disparity=%{y}<extra></extra>\",\"legendgroup\":\"dla102x2_CosFace_AdamW\",\"marker\":{\"color\":\"#B6E880\",\"symbol\":\"circle\"},\"mode\":\"markers\",\"name\":\"dla102x2_CosFace_AdamW\",\"orientation\":\"v\",\"showlegend\":true,\"x\":[0.8446830801466737],\"xaxis\":\"x\",\"y\":[1.8500523834468314],\"yaxis\":\"y\",\"type\":\"scatter\"},{\"hovertemplate\":\"index=dla102x2_ArcFace_SGD<br>Accuracy=%{x}<br>Disparity=%{y}<extra></extra>\",\"legendgroup\":\"dla102x2_ArcFace_SGD\",\"marker\":{\"color\":\"#FF97FF\",\"symbol\":\"circle\"},\"mode\":\"markers\",\"name\":\"dla102x2_ArcFace_SGD\",\"orientation\":\"v\",\"showlegend\":true,\"x\":[0.6605552645364065],\"xaxis\":\"x\",\"y\":[4.362624410686223],\"yaxis\":\"y\",\"type\":\"scatter\"},{\"hovertemplate\":\"index=dla102x2_ArcFace_AdamW<br>Accuracy=%{x}<br>Disparity=%{y}<extra></extra>\",\"legendgroup\":\"dla102x2_ArcFace_AdamW\",\"marker\":{\"color\":\"#FECB52\",\"symbol\":\"circle\"},\"mode\":\"markers\",\"name\":\"dla102x2_ArcFace_AdamW\",\"orientation\":\"v\",\"showlegend\":true,\"x\":[0.6734546883184913],\"xaxis\":\"x\",\"y\":[3.4267941330539546],\"yaxis\":\"y\",\"type\":\"scatter\"},{\"hovertemplate\":\"index=densenet161_CosFace_SGD<br>Accuracy=%{x}<br>Disparity=%{y}<extra></extra>\",\"legendgroup\":\"densenet161_CosFace_SGD\",\"marker\":{\"color\":\"#636efa\",\"symbol\":\"circle\"},\"mode\":\"markers\",\"name\":\"densenet161_CosFace_SGD\",\"orientation\":\"v\",\"showlegend\":true,\"x\":[0.9151388161341016],\"xaxis\":\"x\",\"y\":[2.03496595075956],\"yaxis\":\"y\",\"type\":\"scatter\"},{\"hovertemplate\":\"index=densenet161_CosFace_AdamW<br>Accuracy=%{x}<br>Disparity=%{y}<extra></extra>\",\"legendgroup\":\"densenet161_CosFace_AdamW\",\"marker\":{\"color\":\"#EF553B\",\"symbol\":\"circle\"},\"mode\":\"markers\",\"name\":\"densenet161_CosFace_AdamW\",\"orientation\":\"v\",\"showlegend\":true,\"x\":[0.6882530120481928],\"xaxis\":\"x\",\"y\":[3.6000523834468314],\"yaxis\":\"y\",\"type\":\"scatter\"},{\"hovertemplate\":\"index=cspdarknet53_MagFace_SGD<br>Accuracy=%{x}<br>Disparity=%{y}<extra></extra>\",\"legendgroup\":\"cspdarknet53_MagFace_SGD\",\"marker\":{\"color\":\"#00cc96\",\"symbol\":\"circle\"},\"mode\":\"markers\",\"name\":\"cspdarknet53_MagFace_SGD\",\"orientation\":\"v\",\"showlegend\":true,\"x\":[0.10306443163960188],\"xaxis\":\"x\",\"y\":[1.2175222629649056],\"yaxis\":\"y\",\"type\":\"scatter\"},{\"hovertemplate\":\"index=cspdarknet53_MagFace_AdamW<br>Accuracy=%{x}<br>Disparity=%{y}<extra></extra>\",\"legendgroup\":\"cspdarknet53_MagFace_AdamW\",\"marker\":{\"color\":\"#ab63fa\",\"symbol\":\"circle\"},\"mode\":\"markers\",\"name\":\"cspdarknet53_MagFace_AdamW\",\"orientation\":\"v\",\"showlegend\":true,\"x\":[0.5846647459402828],\"xaxis\":\"x\",\"y\":[4.512441068622315],\"yaxis\":\"y\",\"type\":\"scatter\"},{\"hovertemplate\":\"index=cspdarknet53_CosFace_adam<br>Accuracy=%{x}<br>Disparity=%{y}<extra></extra>\",\"legendgroup\":\"cspdarknet53_CosFace_adam\",\"marker\":{\"color\":\"#FFA15A\",\"symbol\":\"circle\"},\"mode\":\"markers\",\"name\":\"cspdarknet53_CosFace_adam\",\"orientation\":\"v\",\"showlegend\":true,\"x\":[0.7835254059717129],\"xaxis\":\"x\",\"y\":[1.573467784180199],\"yaxis\":\"y\",\"type\":\"scatter\"},{\"hovertemplate\":\"index=cspdarknet53_CosFace_SGD<br>Accuracy=%{x}<br>Disparity=%{y}<extra></extra>\",\"legendgroup\":\"cspdarknet53_CosFace_SGD\",\"marker\":{\"color\":\"#19d3f3\",\"symbol\":\"circle\"},\"mode\":\"markers\",\"name\":\"cspdarknet53_CosFace_SGD\",\"orientation\":\"v\",\"showlegend\":true,\"x\":[0.2285227867993714],\"xaxis\":\"x\",\"y\":[11.822682032477736],\"yaxis\":\"y\",\"type\":\"scatter\"},{\"hovertemplate\":\"index=cspdarknet53_CosFace_AdamW<br>Accuracy=%{x}<br>Disparity=%{y}<extra></extra>\",\"legendgroup\":\"cspdarknet53_CosFace_AdamW\",\"marker\":{\"color\":\"#FF6692\",\"symbol\":\"circle\"},\"mode\":\"markers\",\"name\":\"cspdarknet53_CosFace_AdamW\",\"orientation\":\"v\",\"showlegend\":true,\"x\":[0.7636851754845468],\"xaxis\":\"x\",\"y\":[0.21451021477213317],\"yaxis\":\"y\",\"type\":\"scatter\"},{\"hovertemplate\":\"index=cspdarknet53_ArcFace_SGD<br>Accuracy=%{x}<br>Disparity=%{y}<extra></extra>\",\"legendgroup\":\"cspdarknet53_ArcFace_SGD\",\"marker\":{\"color\":\"#B6E880\",\"symbol\":\"circle\"},\"mode\":\"markers\",\"name\":\"cspdarknet53_ArcFace_SGD\",\"orientation\":\"v\",\"showlegend\":true,\"x\":[0.12152959664745941],\"xaxis\":\"x\",\"y\":[3.765060240963848],\"yaxis\":\"y\",\"type\":\"scatter\"},{\"hovertemplate\":\"index=cspdarknet53_ArcFace_AdamW<br>Accuracy=%{x}<br>Disparity=%{y}<extra></extra>\",\"legendgroup\":\"cspdarknet53_ArcFace_AdamW\",\"marker\":{\"color\":\"#FF97FF\",\"symbol\":\"circle\"},\"mode\":\"markers\",\"name\":\"cspdarknet53_ArcFace_AdamW\",\"orientation\":\"v\",\"showlegend\":true,\"x\":[0.6479832372970141],\"xaxis\":\"x\",\"y\":[3.8132530120481927],\"yaxis\":\"y\",\"type\":\"scatter\"},{\"hovertemplate\":\"index=convnext_large_384_in22ft1k_CosFace_adamw<br>Accuracy=%{x}<br>Disparity=%{y}<extra></extra>\",\"legendgroup\":\"convnext_large_384_in22ft1k_CosFace_adamw\",\"marker\":{\"color\":\"#FECB52\",\"symbol\":\"circle\"},\"mode\":\"markers\",\"name\":\"convnext_large_384_in22ft1k_CosFace_adamw\",\"orientation\":\"v\",\"showlegend\":true,\"x\":[0.9435568360398114],\"xaxis\":\"x\",\"y\":[2.3668150864326876],\"yaxis\":\"y\",\"type\":\"scatter\"},{\"hovertemplate\":\"index=convit_base_MagFace_SGD<br>Accuracy=%{x}<br>Disparity=%{y}<extra></extra>\",\"legendgroup\":\"convit_base_MagFace_SGD\",\"marker\":{\"color\":\"#636efa\",\"symbol\":\"circle\"},\"mode\":\"markers\",\"name\":\"convit_base_MagFace_SGD\",\"orientation\":\"v\",\"showlegend\":true,\"x\":[0.15413829229963333],\"xaxis\":\"x\",\"y\":[16.734023048716608],\"yaxis\":\"y\",\"type\":\"scatter\"},{\"hovertemplate\":\"index=convit_base_MagFace_AdamW<br>Accuracy=%{x}<br>Disparity=%{y}<extra></extra>\",\"legendgroup\":\"convit_base_MagFace_AdamW\",\"marker\":{\"color\":\"#EF553B\",\"symbol\":\"circle\"},\"mode\":\"markers\",\"name\":\"convit_base_MagFace_AdamW\",\"orientation\":\"v\",\"showlegend\":true,\"x\":[0.23454688318491357],\"xaxis\":\"x\",\"y\":[17.729832372970144],\"yaxis\":\"y\",\"type\":\"scatter\"},{\"hovertemplate\":\"index=convit_base_CosFace_SGD<br>Accuracy=%{x}<br>Disparity=%{y}<extra></extra>\",\"legendgroup\":\"convit_base_CosFace_SGD\",\"marker\":{\"color\":\"#00cc96\",\"symbol\":\"circle\"},\"mode\":\"markers\",\"name\":\"convit_base_CosFace_SGD\",\"orientation\":\"v\",\"showlegend\":true,\"x\":[0.8168543740178104],\"xaxis\":\"x\",\"y\":[4.87061288632792],\"yaxis\":\"y\",\"type\":\"scatter\"},{\"hovertemplate\":\"index=convit_base_CosFace_AdamW<br>Accuracy=%{x}<br>Disparity=%{y}<extra></extra>\",\"legendgroup\":\"convit_base_CosFace_AdamW\",\"marker\":{\"color\":\"#ab63fa\",\"symbol\":\"circle\"},\"mode\":\"markers\",\"name\":\"convit_base_CosFace_AdamW\",\"orientation\":\"v\",\"showlegend\":true,\"x\":[0.3473022524882137],\"xaxis\":\"x\",\"y\":[25.02671555788372],\"yaxis\":\"y\",\"type\":\"scatter\"},{\"hovertemplate\":\"index=convit_base_CosFace_Adam<br>Accuracy=%{x}<br>Disparity=%{y}<extra></extra>\",\"legendgroup\":\"convit_base_CosFace_Adam\",\"marker\":{\"color\":\"#FFA15A\",\"symbol\":\"circle\"},\"mode\":\"markers\",\"name\":\"convit_base_CosFace_Adam\",\"orientation\":\"v\",\"showlegend\":true,\"x\":[0.3537192247249869],\"xaxis\":\"x\",\"y\":[6.309062336301729],\"yaxis\":\"y\",\"type\":\"scatter\"},{\"hovertemplate\":\"index=convit_base_ArcFace_SGD<br>Accuracy=%{x}<br>Disparity=%{y}<extra></extra>\",\"legendgroup\":\"convit_base_ArcFace_SGD\",\"marker\":{\"color\":\"#19d3f3\",\"symbol\":\"circle\"},\"mode\":\"markers\",\"name\":\"convit_base_ArcFace_SGD\",\"orientation\":\"v\",\"showlegend\":true,\"x\":[0.0],\"xaxis\":\"x\",\"y\":[0.0],\"yaxis\":\"y\",\"type\":\"scatter\"},{\"hovertemplate\":\"index=convit_base_ArcFace_AdamW<br>Accuracy=%{x}<br>Disparity=%{y}<extra></extra>\",\"legendgroup\":\"convit_base_ArcFace_AdamW\",\"marker\":{\"color\":\"#FF6692\",\"symbol\":\"circle\"},\"mode\":\"markers\",\"name\":\"convit_base_ArcFace_AdamW\",\"orientation\":\"v\",\"showlegend\":true,\"x\":[0.19021739130434784],\"xaxis\":\"x\",\"y\":[17.26833420639079],\"yaxis\":\"y\",\"type\":\"scatter\"},{\"hovertemplate\":\"index=coat_lite_small_MagFace_SGD<br>Accuracy=%{x}<br>Disparity=%{y}<extra></extra>\",\"legendgroup\":\"coat_lite_small_MagFace_SGD\",\"marker\":{\"color\":\"#B6E880\",\"symbol\":\"circle\"},\"mode\":\"markers\",\"name\":\"coat_lite_small_MagFace_SGD\",\"orientation\":\"v\",\"showlegend\":true,\"x\":[0.29871660555264534],\"xaxis\":\"x\",\"y\":[14.452723939235206],\"yaxis\":\"y\",\"type\":\"scatter\"},{\"hovertemplate\":\"index=coat_lite_small_MagFace_AdamW<br>Accuracy=%{x}<br>Disparity=%{y}<extra></extra>\",\"legendgroup\":\"coat_lite_small_MagFace_AdamW\",\"marker\":{\"color\":\"#FF97FF\",\"symbol\":\"circle\"},\"mode\":\"markers\",\"name\":\"coat_lite_small_MagFace_AdamW\",\"orientation\":\"v\",\"showlegend\":true,\"x\":[0.45331325301204817],\"xaxis\":\"x\",\"y\":[5.306050288108958],\"yaxis\":\"y\",\"type\":\"scatter\"},{\"hovertemplate\":\"index=coat_lite_small_CosFace_SGD<br>Accuracy=%{x}<br>Disparity=%{y}<extra></extra>\",\"legendgroup\":\"coat_lite_small_CosFace_SGD\",\"marker\":{\"color\":\"#FECB52\",\"symbol\":\"circle\"},\"mode\":\"markers\",\"name\":\"coat_lite_small_CosFace_SGD\",\"orientation\":\"v\",\"showlegend\":true,\"x\":[0.7095337873232058],\"xaxis\":\"x\",\"y\":[6.061026715557883],\"yaxis\":\"y\",\"type\":\"scatter\"},{\"hovertemplate\":\"index=coat_lite_small_CosFace_AdamW<br>Accuracy=%{x}<br>Disparity=%{y}<extra></extra>\",\"legendgroup\":\"coat_lite_small_CosFace_AdamW\",\"marker\":{\"color\":\"#636efa\",\"symbol\":\"circle\"},\"mode\":\"markers\",\"name\":\"coat_lite_small_CosFace_AdamW\",\"orientation\":\"v\",\"showlegend\":true,\"x\":[0.8795180722891566],\"xaxis\":\"x\",\"y\":[5.292561550550026],\"yaxis\":\"y\",\"type\":\"scatter\"},{\"hovertemplate\":\"index=coat_lite_small_CosFace_Adam<br>Accuracy=%{x}<br>Disparity=%{y}<extra></extra>\",\"legendgroup\":\"coat_lite_small_CosFace_Adam\",\"marker\":{\"color\":\"#EF553B\",\"symbol\":\"circle\"},\"mode\":\"markers\",\"name\":\"coat_lite_small_CosFace_Adam\",\"orientation\":\"v\",\"showlegend\":true,\"x\":[0.22616553169198533],\"xaxis\":\"x\",\"y\":[15.495809324253536],\"yaxis\":\"y\",\"type\":\"scatter\"},{\"hovertemplate\":\"index=coat_lite_small_ArcFace_SGD<br>Accuracy=%{x}<br>Disparity=%{y}<extra></extra>\",\"legendgroup\":\"coat_lite_small_ArcFace_SGD\",\"marker\":{\"color\":\"#00cc96\",\"symbol\":\"circle\"},\"mode\":\"markers\",\"name\":\"coat_lite_small_ArcFace_SGD\",\"orientation\":\"v\",\"showlegend\":true,\"x\":[0.0],\"xaxis\":\"x\",\"y\":[0.0],\"yaxis\":\"y\",\"type\":\"scatter\"},{\"hovertemplate\":\"index=coat_lite_small_ArcFace_AdamW<br>Accuracy=%{x}<br>Disparity=%{y}<extra></extra>\",\"legendgroup\":\"coat_lite_small_ArcFace_AdamW\",\"marker\":{\"color\":\"#ab63fa\",\"symbol\":\"circle\"},\"mode\":\"markers\",\"name\":\"coat_lite_small_ArcFace_AdamW\",\"orientation\":\"v\",\"showlegend\":true,\"x\":[0.0],\"xaxis\":\"x\",\"y\":[0.0],\"yaxis\":\"y\",\"type\":\"scatter\"},{\"hovertemplate\":\"index=cait_xs24_384_MagFace_SGD<br>Accuracy=%{x}<br>Disparity=%{y}<extra></extra>\",\"legendgroup\":\"cait_xs24_384_MagFace_SGD\",\"marker\":{\"color\":\"#FFA15A\",\"symbol\":\"circle\"},\"mode\":\"markers\",\"name\":\"cait_xs24_384_MagFace_SGD\",\"orientation\":\"v\",\"showlegend\":true,\"x\":[0.0],\"xaxis\":\"x\",\"y\":[0.0],\"yaxis\":\"y\",\"type\":\"scatter\"},{\"hovertemplate\":\"index=cait_xs24_384_MagFace_AdamW<br>Accuracy=%{x}<br>Disparity=%{y}<extra></extra>\",\"legendgroup\":\"cait_xs24_384_MagFace_AdamW\",\"marker\":{\"color\":\"#19d3f3\",\"symbol\":\"circle\"},\"mode\":\"markers\",\"name\":\"cait_xs24_384_MagFace_AdamW\",\"orientation\":\"v\",\"showlegend\":true,\"x\":[null],\"xaxis\":\"x\",\"y\":[null],\"yaxis\":\"y\",\"type\":\"scatter\"},{\"hovertemplate\":\"index=cait_xs24_384_CosFace_adamw<br>Accuracy=%{x}<br>Disparity=%{y}<extra></extra>\",\"legendgroup\":\"cait_xs24_384_CosFace_adamw\",\"marker\":{\"color\":\"#FF6692\",\"symbol\":\"circle\"},\"mode\":\"markers\",\"name\":\"cait_xs24_384_CosFace_adamw\",\"orientation\":\"v\",\"showlegend\":true,\"x\":[0.9029596647459402],\"xaxis\":\"x\",\"y\":[4.874279727606077],\"yaxis\":\"y\",\"type\":\"scatter\"},{\"hovertemplate\":\"index=cait_xs24_384_CosFace_SGD<br>Accuracy=%{x}<br>Disparity=%{y}<extra></extra>\",\"legendgroup\":\"cait_xs24_384_CosFace_SGD\",\"marker\":{\"color\":\"#B6E880\",\"symbol\":\"circle\"},\"mode\":\"markers\",\"name\":\"cait_xs24_384_CosFace_SGD\",\"orientation\":\"v\",\"showlegend\":true,\"x\":[0.2357909900471451],\"xaxis\":\"x\",\"y\":[4.267286537454169],\"yaxis\":\"y\",\"type\":\"scatter\"},{\"hovertemplate\":\"index=cait_xs24_384_ArcFace_SGD<br>Accuracy=%{x}<br>Disparity=%{y}<extra></extra>\",\"legendgroup\":\"cait_xs24_384_ArcFace_SGD\",\"marker\":{\"color\":\"#FF97FF\",\"symbol\":\"circle\"},\"mode\":\"markers\",\"name\":\"cait_xs24_384_ArcFace_SGD\",\"orientation\":\"v\",\"showlegend\":true,\"x\":[null],\"xaxis\":\"x\",\"y\":[null],\"yaxis\":\"y\",\"type\":\"scatter\"},{\"hovertemplate\":\"index=cait_xs24_384_ArcFace_AdamW<br>Accuracy=%{x}<br>Disparity=%{y}<extra></extra>\",\"legendgroup\":\"cait_xs24_384_ArcFace_AdamW\",\"marker\":{\"color\":\"#FECB52\",\"symbol\":\"circle\"},\"mode\":\"markers\",\"name\":\"cait_xs24_384_ArcFace_AdamW\",\"orientation\":\"v\",\"showlegend\":true,\"x\":[0.5752357255107386],\"xaxis\":\"x\",\"y\":[4.701152435830277],\"yaxis\":\"y\",\"type\":\"scatter\"},{\"hovertemplate\":\"index=coat_lite_small_ArcFace_AdamW_0.001_cosine<br>Accuracy=%{x}<br>Disparity=%{y}<extra></extra>\",\"legendgroup\":\"coat_lite_small_ArcFace_AdamW_0.001_cosine\",\"marker\":{\"color\":\"#636efa\",\"symbol\":\"circle\"},\"mode\":\"markers\",\"name\":\"coat_lite_small_ArcFace_AdamW_0.001_cosine\",\"orientation\":\"v\",\"showlegend\":true,\"x\":[0.46045049764274487],\"xaxis\":\"x\",\"y\":[5.471581980094291],\"yaxis\":\"y\",\"type\":\"scatter\"},{\"hovertemplate\":\"index=coat_lite_small_ArcFace_SGD_0.1_cosine<br>Accuracy=%{x}<br>Disparity=%{y}<extra></extra>\",\"legendgroup\":\"coat_lite_small_ArcFace_SGD_0.1_cosine\",\"marker\":{\"color\":\"#EF553B\",\"symbol\":\"circle\"},\"mode\":\"markers\",\"name\":\"coat_lite_small_ArcFace_SGD_0.1_cosine\",\"orientation\":\"v\",\"showlegend\":true,\"x\":[null],\"xaxis\":\"x\",\"y\":[null],\"yaxis\":\"y\",\"type\":\"scatter\"},{\"hovertemplate\":\"index=coat_lite_small_CosFace_AdamW_0.001_cosine<br>Accuracy=%{x}<br>Disparity=%{y}<extra></extra>\",\"legendgroup\":\"coat_lite_small_CosFace_AdamW_0.001_cosine\",\"marker\":{\"color\":\"#00cc96\",\"symbol\":\"circle\"},\"mode\":\"markers\",\"name\":\"coat_lite_small_CosFace_AdamW_0.001_cosine\",\"orientation\":\"v\",\"showlegend\":true,\"x\":[0.9231272917757989],\"xaxis\":\"x\",\"y\":[3.8640649554740705],\"yaxis\":\"y\",\"type\":\"scatter\"},{\"hovertemplate\":\"index=coat_lite_small_CosFace_SGD_0.1_cosine<br>Accuracy=%{x}<br>Disparity=%{y}<extra></extra>\",\"legendgroup\":\"coat_lite_small_CosFace_SGD_0.1_cosine\",\"marker\":{\"color\":\"#ab63fa\",\"symbol\":\"circle\"},\"mode\":\"markers\",\"name\":\"coat_lite_small_CosFace_SGD_0.1_cosine\",\"orientation\":\"v\",\"showlegend\":true,\"x\":[null],\"xaxis\":\"x\",\"y\":[null],\"yaxis\":\"y\",\"type\":\"scatter\"},{\"hovertemplate\":\"index=coat_lite_small_MagFace_AdamW_0.001_cosine<br>Accuracy=%{x}<br>Disparity=%{y}<extra></extra>\",\"legendgroup\":\"coat_lite_small_MagFace_AdamW_0.001_cosine\",\"marker\":{\"color\":\"#FFA15A\",\"symbol\":\"circle\"},\"mode\":\"markers\",\"name\":\"coat_lite_small_MagFace_AdamW_0.001_cosine\",\"orientation\":\"v\",\"showlegend\":true,\"x\":[0.5276322682032478],\"xaxis\":\"x\",\"y\":[4.6195652173913055],\"yaxis\":\"y\",\"type\":\"scatter\"},{\"hovertemplate\":\"index=coat_lite_small_MagFace_SGD_0.1_cosine<br>Accuracy=%{x}<br>Disparity=%{y}<extra></extra>\",\"legendgroup\":\"coat_lite_small_MagFace_SGD_0.1_cosine\",\"marker\":{\"color\":\"#19d3f3\",\"symbol\":\"circle\"},\"mode\":\"markers\",\"name\":\"coat_lite_small_MagFace_SGD_0.1_cosine\",\"orientation\":\"v\",\"showlegend\":true,\"x\":[null],\"xaxis\":\"x\",\"y\":[null],\"yaxis\":\"y\",\"type\":\"scatter\"},{\"hovertemplate\":\"index=convit_base_ArcFace_AdamW_0.001_cosine<br>Accuracy=%{x}<br>Disparity=%{y}<extra></extra>\",\"legendgroup\":\"convit_base_ArcFace_AdamW_0.001_cosine\",\"marker\":{\"color\":\"#FF6692\",\"symbol\":\"circle\"},\"mode\":\"markers\",\"name\":\"convit_base_ArcFace_AdamW_0.001_cosine\",\"orientation\":\"v\",\"showlegend\":true,\"x\":[0.125],\"xaxis\":\"x\",\"y\":[15.463462545835526],\"yaxis\":\"y\",\"type\":\"scatter\"},{\"hovertemplate\":\"index=convit_base_ArcFace_SGD_0.1_cosine<br>Accuracy=%{x}<br>Disparity=%{y}<extra></extra>\",\"legendgroup\":\"convit_base_ArcFace_SGD_0.1_cosine\",\"marker\":{\"color\":\"#B6E880\",\"symbol\":\"circle\"},\"mode\":\"markers\",\"name\":\"convit_base_ArcFace_SGD_0.1_cosine\",\"orientation\":\"v\",\"showlegend\":true,\"x\":[null],\"xaxis\":\"x\",\"y\":[null],\"yaxis\":\"y\",\"type\":\"scatter\"},{\"hovertemplate\":\"index=convit_base_CosFace_AdamW_0.001_cosine<br>Accuracy=%{x}<br>Disparity=%{y}<extra></extra>\",\"legendgroup\":\"convit_base_CosFace_AdamW_0.001_cosine\",\"marker\":{\"color\":\"#FF97FF\",\"symbol\":\"circle\"},\"mode\":\"markers\",\"name\":\"convit_base_CosFace_AdamW_0.001_cosine\",\"orientation\":\"v\",\"showlegend\":true,\"x\":[0.3275275013095862],\"xaxis\":\"x\",\"y\":[15.067050811943425],\"yaxis\":\"y\",\"type\":\"scatter\"},{\"hovertemplate\":\"index=convit_base_CosFace_SGD_0.1_cosine<br>Accuracy=%{x}<br>Disparity=%{y}<extra></extra>\",\"legendgroup\":\"convit_base_CosFace_SGD_0.1_cosine\",\"marker\":{\"color\":\"#FECB52\",\"symbol\":\"circle\"},\"mode\":\"markers\",\"name\":\"convit_base_CosFace_SGD_0.1_cosine\",\"orientation\":\"v\",\"showlegend\":true,\"x\":[null],\"xaxis\":\"x\",\"y\":[null],\"yaxis\":\"y\",\"type\":\"scatter\"},{\"hovertemplate\":\"index=convit_base_MagFace_AdamW_0.001_cosine<br>Accuracy=%{x}<br>Disparity=%{y}<extra></extra>\",\"legendgroup\":\"convit_base_MagFace_AdamW_0.001_cosine\",\"marker\":{\"color\":\"#636efa\",\"symbol\":\"circle\"},\"mode\":\"markers\",\"name\":\"convit_base_MagFace_AdamW_0.001_cosine\",\"orientation\":\"v\",\"showlegend\":true,\"x\":[0.13423258250392875],\"xaxis\":\"x\",\"y\":[16.423520167627032],\"yaxis\":\"y\",\"type\":\"scatter\"},{\"hovertemplate\":\"index=convit_base_MagFace_SGD_0.1_cosine<br>Accuracy=%{x}<br>Disparity=%{y}<extra></extra>\",\"legendgroup\":\"convit_base_MagFace_SGD_0.1_cosine\",\"marker\":{\"color\":\"#EF553B\",\"symbol\":\"circle\"},\"mode\":\"markers\",\"name\":\"convit_base_MagFace_SGD_0.1_cosine\",\"orientation\":\"v\",\"showlegend\":true,\"x\":[null],\"xaxis\":\"x\",\"y\":[null],\"yaxis\":\"y\",\"type\":\"scatter\"},{\"hovertemplate\":\"index=convnext_large_384_in22ft1k_CosFace_AdamW_0.001_cosine<br>Accuracy=%{x}<br>Disparity=%{y}<extra></extra>\",\"legendgroup\":\"convnext_large_384_in22ft1k_CosFace_AdamW_0.001_cosine\",\"marker\":{\"color\":\"#00cc96\",\"symbol\":\"circle\"},\"mode\":\"markers\",\"name\":\"convnext_large_384_in22ft1k_CosFace_AdamW_0.001_cosine\",\"orientation\":\"v\",\"showlegend\":true,\"x\":[null],\"xaxis\":\"x\",\"y\":[null],\"yaxis\":\"y\",\"type\":\"scatter\"},{\"hovertemplate\":\"index=convnext_large_384_in22ft1k_MagFace_AdamW_0.001_cosine<br>Accuracy=%{x}<br>Disparity=%{y}<extra></extra>\",\"legendgroup\":\"convnext_large_384_in22ft1k_MagFace_AdamW_0.001_cosine\",\"marker\":{\"color\":\"#ab63fa\",\"symbol\":\"circle\"},\"mode\":\"markers\",\"name\":\"convnext_large_384_in22ft1k_MagFace_AdamW_0.001_cosine\",\"orientation\":\"v\",\"showlegend\":true,\"x\":[null],\"xaxis\":\"x\",\"y\":[null],\"yaxis\":\"y\",\"type\":\"scatter\"},{\"hovertemplate\":\"index=convnext_large_384_in22ft1k_MagFace_SGD_0.1_cosine<br>Accuracy=%{x}<br>Disparity=%{y}<extra></extra>\",\"legendgroup\":\"convnext_large_384_in22ft1k_MagFace_SGD_0.1_cosine\",\"marker\":{\"color\":\"#FFA15A\",\"symbol\":\"circle\"},\"mode\":\"markers\",\"name\":\"convnext_large_384_in22ft1k_MagFace_SGD_0.1_cosine\",\"orientation\":\"v\",\"showlegend\":true,\"x\":[null],\"xaxis\":\"x\",\"y\":[null],\"yaxis\":\"y\",\"type\":\"scatter\"},{\"hovertemplate\":\"index=cspdarknet53_ArcFace_AdamW_0.001_cosine<br>Accuracy=%{x}<br>Disparity=%{y}<extra></extra>\",\"legendgroup\":\"cspdarknet53_ArcFace_AdamW_0.001_cosine\",\"marker\":{\"color\":\"#19d3f3\",\"symbol\":\"circle\"},\"mode\":\"markers\",\"name\":\"cspdarknet53_ArcFace_AdamW_0.001_cosine\",\"orientation\":\"v\",\"showlegend\":true,\"x\":[0.6561026715557884],\"xaxis\":\"x\",\"y\":[2.9436877946568885],\"yaxis\":\"y\",\"type\":\"scatter\"},{\"hovertemplate\":\"index=cspdarknet53_ArcFace_SGD_0.1_cosine<br>Accuracy=%{x}<br>Disparity=%{y}<extra></extra>\",\"legendgroup\":\"cspdarknet53_ArcFace_SGD_0.1_cosine\",\"marker\":{\"color\":\"#FF6692\",\"symbol\":\"circle\"},\"mode\":\"markers\",\"name\":\"cspdarknet53_ArcFace_SGD_0.1_cosine\",\"orientation\":\"v\",\"showlegend\":true,\"x\":[0.8395102147721321],\"xaxis\":\"x\",\"y\":[1.467784180199057],\"yaxis\":\"y\",\"type\":\"scatter\"},{\"hovertemplate\":\"index=cspdarknet53_CosFace_AdamW_0.001_cosine<br>Accuracy=%{x}<br>Disparity=%{y}<extra></extra>\",\"legendgroup\":\"cspdarknet53_CosFace_AdamW_0.001_cosine\",\"marker\":{\"color\":\"#B6E880\",\"symbol\":\"circle\"},\"mode\":\"markers\",\"name\":\"cspdarknet53_CosFace_AdamW_0.001_cosine\",\"orientation\":\"v\",\"showlegend\":true,\"x\":[0.7753404924044002],\"xaxis\":\"x\",\"y\":[1.0137506547930855],\"yaxis\":\"y\",\"type\":\"scatter\"},{\"hovertemplate\":\"index=cspdarknet53_CosFace_SGD_0.1_cosine<br>Accuracy=%{x}<br>Disparity=%{y}<extra></extra>\",\"legendgroup\":\"cspdarknet53_CosFace_SGD_0.1_cosine\",\"marker\":{\"color\":\"#FF97FF\",\"symbol\":\"circle\"},\"mode\":\"markers\",\"name\":\"cspdarknet53_CosFace_SGD_0.1_cosine\",\"orientation\":\"v\",\"showlegend\":true,\"x\":[0.6435961236249346],\"xaxis\":\"x\",\"y\":[5.974724986904139],\"yaxis\":\"y\",\"type\":\"scatter\"},{\"hovertemplate\":\"index=cspdarknet53_MagFace_AdamW_0.001_cosine<br>Accuracy=%{x}<br>Disparity=%{y}<extra></extra>\",\"legendgroup\":\"cspdarknet53_MagFace_AdamW_0.001_cosine\",\"marker\":{\"color\":\"#FECB52\",\"symbol\":\"circle\"},\"mode\":\"markers\",\"name\":\"cspdarknet53_MagFace_AdamW_0.001_cosine\",\"orientation\":\"v\",\"showlegend\":true,\"x\":[0.6966998428496595],\"xaxis\":\"x\",\"y\":[2.8237297014143534],\"yaxis\":\"y\",\"type\":\"scatter\"},{\"hovertemplate\":\"index=cspdarknet53_MagFace_SGD_0.1_cosine<br>Accuracy=%{x}<br>Disparity=%{y}<extra></extra>\",\"legendgroup\":\"cspdarknet53_MagFace_SGD_0.1_cosine\",\"marker\":{\"color\":\"#636efa\",\"symbol\":\"circle\"},\"mode\":\"markers\",\"name\":\"cspdarknet53_MagFace_SGD_0.1_cosine\",\"orientation\":\"v\",\"showlegend\":true,\"x\":[0.8497249869041383],\"xaxis\":\"x\",\"y\":[1.4190675746464119],\"yaxis\":\"y\",\"type\":\"scatter\"},{\"hovertemplate\":\"index=densenet161_ArcFace_AdamW_0.001_cosine<br>Accuracy=%{x}<br>Disparity=%{y}<extra></extra>\",\"legendgroup\":\"densenet161_ArcFace_AdamW_0.001_cosine\",\"marker\":{\"color\":\"#EF553B\",\"symbol\":\"circle\"},\"mode\":\"markers\",\"name\":\"densenet161_ArcFace_AdamW_0.001_cosine\",\"orientation\":\"v\",\"showlegend\":true,\"x\":[null],\"xaxis\":\"x\",\"y\":[null],\"yaxis\":\"y\",\"type\":\"scatter\"},{\"hovertemplate\":\"index=densenet161_ArcFace_SGD_0.1_cosine<br>Accuracy=%{x}<br>Disparity=%{y}<extra></extra>\",\"legendgroup\":\"densenet161_ArcFace_SGD_0.1_cosine\",\"marker\":{\"color\":\"#00cc96\",\"symbol\":\"circle\"},\"mode\":\"markers\",\"name\":\"densenet161_ArcFace_SGD_0.1_cosine\",\"orientation\":\"v\",\"showlegend\":true,\"x\":[null],\"xaxis\":\"x\",\"y\":[null],\"yaxis\":\"y\",\"type\":\"scatter\"},{\"hovertemplate\":\"index=densenet161_CosFace_AdamW_0.001_cosine<br>Accuracy=%{x}<br>Disparity=%{y}<extra></extra>\",\"legendgroup\":\"densenet161_CosFace_AdamW_0.001_cosine\",\"marker\":{\"color\":\"#ab63fa\",\"symbol\":\"circle\"},\"mode\":\"markers\",\"name\":\"densenet161_CosFace_AdamW_0.001_cosine\",\"orientation\":\"v\",\"showlegend\":true,\"x\":[0.8700890518596124],\"xaxis\":\"x\",\"y\":[0.5556574122577267],\"yaxis\":\"y\",\"type\":\"scatter\"},{\"hovertemplate\":\"index=densenet161_CosFace_SGD_0.1_cosine<br>Accuracy=%{x}<br>Disparity=%{y}<extra></extra>\",\"legendgroup\":\"densenet161_CosFace_SGD_0.1_cosine\",\"marker\":{\"color\":\"#FFA15A\",\"symbol\":\"circle\"},\"mode\":\"markers\",\"name\":\"densenet161_CosFace_SGD_0.1_cosine\",\"orientation\":\"v\",\"showlegend\":true,\"x\":[null],\"xaxis\":\"x\",\"y\":[null],\"yaxis\":\"y\",\"type\":\"scatter\"},{\"hovertemplate\":\"index=densenet161_MagFace_AdamW_0.001_cosine<br>Accuracy=%{x}<br>Disparity=%{y}<extra></extra>\",\"legendgroup\":\"densenet161_MagFace_AdamW_0.001_cosine\",\"marker\":{\"color\":\"#19d3f3\",\"symbol\":\"circle\"},\"mode\":\"markers\",\"name\":\"densenet161_MagFace_AdamW_0.001_cosine\",\"orientation\":\"v\",\"showlegend\":true,\"x\":[0.6556443163960188],\"xaxis\":\"x\",\"y\":[3.243190151911996],\"yaxis\":\"y\",\"type\":\"scatter\"},{\"hovertemplate\":\"index=densenet161_MagFace_SGD_0.1_cosine<br>Accuracy=%{x}<br>Disparity=%{y}<extra></extra>\",\"legendgroup\":\"densenet161_MagFace_SGD_0.1_cosine\",\"marker\":{\"color\":\"#FF6692\",\"symbol\":\"circle\"},\"mode\":\"markers\",\"name\":\"densenet161_MagFace_SGD_0.1_cosine\",\"orientation\":\"v\",\"showlegend\":true,\"x\":[null],\"xaxis\":\"x\",\"y\":[null],\"yaxis\":\"y\",\"type\":\"scatter\"},{\"hovertemplate\":\"index=dla102x2_ArcFace_AdamW_0.001_cosine<br>Accuracy=%{x}<br>Disparity=%{y}<extra></extra>\",\"legendgroup\":\"dla102x2_ArcFace_AdamW_0.001_cosine\",\"marker\":{\"color\":\"#B6E880\",\"symbol\":\"circle\"},\"mode\":\"markers\",\"name\":\"dla102x2_ArcFace_AdamW_0.001_cosine\",\"orientation\":\"v\",\"showlegend\":true,\"x\":[0.6231665793609219],\"xaxis\":\"x\",\"y\":[3.0798847564169733],\"yaxis\":\"y\",\"type\":\"scatter\"},{\"hovertemplate\":\"index=dla102x2_CosFace_AdamW_0.001_cosine<br>Accuracy=%{x}<br>Disparity=%{y}<extra></extra>\",\"legendgroup\":\"dla102x2_CosFace_AdamW_0.001_cosine\",\"marker\":{\"color\":\"#FF97FF\",\"symbol\":\"circle\"},\"mode\":\"markers\",\"name\":\"dla102x2_CosFace_AdamW_0.001_cosine\",\"orientation\":\"v\",\"showlegend\":true,\"x\":[0.7941330539549503],\"xaxis\":\"x\",\"y\":[3.445128339444734],\"yaxis\":\"y\",\"type\":\"scatter\"},{\"hovertemplate\":\"index=dla102x2_MagFace_AdamW_0.001_cosine<br>Accuracy=%{x}<br>Disparity=%{y}<extra></extra>\",\"legendgroup\":\"dla102x2_MagFace_AdamW_0.001_cosine\",\"marker\":{\"color\":\"#FECB52\",\"symbol\":\"circle\"},\"mode\":\"markers\",\"name\":\"dla102x2_MagFace_AdamW_0.001_cosine\",\"orientation\":\"v\",\"showlegend\":true,\"x\":[0.6485070717653222],\"xaxis\":\"x\",\"y\":[3.329622839182819],\"yaxis\":\"y\",\"type\":\"scatter\"},{\"hovertemplate\":\"index=dpn107_ArcFace_SGD_0.1_cosine<br>Accuracy=%{x}<br>Disparity=%{y}<extra></extra>\",\"legendgroup\":\"dpn107_ArcFace_SGD_0.1_cosine\",\"marker\":{\"color\":\"#636efa\",\"symbol\":\"circle\"},\"mode\":\"markers\",\"name\":\"dpn107_ArcFace_SGD_0.1_cosine\",\"orientation\":\"v\",\"showlegend\":true,\"x\":[0.820979570455736],\"xaxis\":\"x\",\"y\":[1.5608957569408073],\"yaxis\":\"y\",\"type\":\"scatter\"},{\"hovertemplate\":\"index=dpn107_CosFace_AdamW_0.001_cosine<br>Accuracy=%{x}<br>Disparity=%{y}<extra></extra>\",\"legendgroup\":\"dpn107_CosFace_AdamW_0.001_cosine\",\"marker\":{\"color\":\"#EF553B\",\"symbol\":\"circle\"},\"mode\":\"markers\",\"name\":\"dpn107_CosFace_AdamW_0.001_cosine\",\"orientation\":\"v\",\"showlegend\":true,\"x\":[null],\"xaxis\":\"x\",\"y\":[null],\"yaxis\":\"y\",\"type\":\"scatter\"},{\"hovertemplate\":\"index=dpn107_CosFace_SGD_0.1_cosine<br>Accuracy=%{x}<br>Disparity=%{y}<extra></extra>\",\"legendgroup\":\"dpn107_CosFace_SGD_0.1_cosine\",\"marker\":{\"color\":\"#00cc96\",\"symbol\":\"circle\"},\"mode\":\"markers\",\"name\":\"dpn107_CosFace_SGD_0.1_cosine\",\"orientation\":\"v\",\"showlegend\":true,\"x\":[0.9637899423782085],\"xaxis\":\"x\",\"y\":[2.0417757988475644],\"yaxis\":\"y\",\"type\":\"scatter\"},{\"hovertemplate\":\"index=dpn107_MagFace_AdamW_0.001_cosine<br>Accuracy=%{x}<br>Disparity=%{y}<extra></extra>\",\"legendgroup\":\"dpn107_MagFace_AdamW_0.001_cosine\",\"marker\":{\"color\":\"#ab63fa\",\"symbol\":\"circle\"},\"mode\":\"markers\",\"name\":\"dpn107_MagFace_AdamW_0.001_cosine\",\"orientation\":\"v\",\"showlegend\":true,\"x\":[0.6077134625458355],\"xaxis\":\"x\",\"y\":[4.08040859088528],\"yaxis\":\"y\",\"type\":\"scatter\"},{\"hovertemplate\":\"index=dpn107_MagFace_SGD_0.1_cosine<br>Accuracy=%{x}<br>Disparity=%{y}<extra></extra>\",\"legendgroup\":\"dpn107_MagFace_SGD_0.1_cosine\",\"marker\":{\"color\":\"#FFA15A\",\"symbol\":\"circle\"},\"mode\":\"markers\",\"name\":\"dpn107_MagFace_SGD_0.1_cosine\",\"orientation\":\"v\",\"showlegend\":true,\"x\":[0.9025013095861708],\"xaxis\":\"x\",\"y\":[1.2378208486118387],\"yaxis\":\"y\",\"type\":\"scatter\"},{\"hovertemplate\":\"index=ese_vovnet39b_ArcFace_AdamW<br>Accuracy=%{x}<br>Disparity=%{y}<extra></extra>\",\"legendgroup\":\"ese_vovnet39b_ArcFace_AdamW\",\"marker\":{\"color\":\"#19d3f3\",\"symbol\":\"circle\"},\"mode\":\"markers\",\"name\":\"ese_vovnet39b_ArcFace_AdamW\",\"orientation\":\"v\",\"showlegend\":true,\"x\":[0.7663698271346254],\"xaxis\":\"x\",\"y\":[1.649423782084861],\"yaxis\":\"y\",\"type\":\"scatter\"},{\"hovertemplate\":\"index=ese_vovnet39b_ArcFace_AdamW_0.001_cosine<br>Accuracy=%{x}<br>Disparity=%{y}<extra></extra>\",\"legendgroup\":\"ese_vovnet39b_ArcFace_AdamW_0.001_cosine\",\"marker\":{\"color\":\"#FF6692\",\"symbol\":\"circle\"},\"mode\":\"markers\",\"name\":\"ese_vovnet39b_ArcFace_AdamW_0.001_cosine\",\"orientation\":\"v\",\"showlegend\":true,\"x\":[0.6768596123624935],\"xaxis\":\"x\",\"y\":[2.320717653221582],\"yaxis\":\"y\",\"type\":\"scatter\"},{\"hovertemplate\":\"index=ese_vovnet39b_ArcFace_SGD<br>Accuracy=%{x}<br>Disparity=%{y}<extra></extra>\",\"legendgroup\":\"ese_vovnet39b_ArcFace_SGD\",\"marker\":{\"color\":\"#B6E880\",\"symbol\":\"circle\"},\"mode\":\"markers\",\"name\":\"ese_vovnet39b_ArcFace_SGD\",\"orientation\":\"v\",\"showlegend\":true,\"x\":[0.6673651126244107],\"xaxis\":\"x\",\"y\":[3.1301728653745418],\"yaxis\":\"y\",\"type\":\"scatter\"},{\"hovertemplate\":\"index=ese_vovnet39b_ArcFace_SGD_0.1_cosine<br>Accuracy=%{x}<br>Disparity=%{y}<extra></extra>\",\"legendgroup\":\"ese_vovnet39b_ArcFace_SGD_0.1_cosine\",\"marker\":{\"color\":\"#FF97FF\",\"symbol\":\"circle\"},\"mode\":\"markers\",\"name\":\"ese_vovnet39b_ArcFace_SGD_0.1_cosine\",\"orientation\":\"v\",\"showlegend\":true,\"x\":[0.6890387637506548],\"xaxis\":\"x\",\"y\":[3.0680984808800424],\"yaxis\":\"y\",\"type\":\"scatter\"},{\"hovertemplate\":\"index=ese_vovnet39b_CosFace_Adam<br>Accuracy=%{x}<br>Disparity=%{y}<extra></extra>\",\"legendgroup\":\"ese_vovnet39b_CosFace_Adam\",\"marker\":{\"color\":\"#FECB52\",\"symbol\":\"circle\"},\"mode\":\"markers\",\"name\":\"ese_vovnet39b_CosFace_Adam\",\"orientation\":\"v\",\"showlegend\":true,\"x\":[0.015911471974855946],\"xaxis\":\"x\",\"y\":[18.412912519643783],\"yaxis\":\"y\",\"type\":\"scatter\"},{\"hovertemplate\":\"index=ese_vovnet39b_CosFace_AdamW<br>Accuracy=%{x}<br>Disparity=%{y}<extra></extra>\",\"legendgroup\":\"ese_vovnet39b_CosFace_AdamW\",\"marker\":{\"color\":\"#636efa\",\"symbol\":\"circle\"},\"mode\":\"markers\",\"name\":\"ese_vovnet39b_CosFace_AdamW\",\"orientation\":\"v\",\"showlegend\":true,\"x\":[0.5072682032477737],\"xaxis\":\"x\",\"y\":[4.011786275536931],\"yaxis\":\"y\",\"type\":\"scatter\"},{\"hovertemplate\":\"index=ese_vovnet39b_CosFace_AdamW_0.001_cosine<br>Accuracy=%{x}<br>Disparity=%{y}<extra></extra>\",\"legendgroup\":\"ese_vovnet39b_CosFace_AdamW_0.001_cosine\",\"marker\":{\"color\":\"#EF553B\",\"symbol\":\"circle\"},\"mode\":\"markers\",\"name\":\"ese_vovnet39b_CosFace_AdamW_0.001_cosine\",\"orientation\":\"v\",\"showlegend\":true,\"x\":[0.8566657936092195],\"xaxis\":\"x\",\"y\":[0.4989523310633839],\"yaxis\":\"y\",\"type\":\"scatter\"},{\"hovertemplate\":\"index=ese_vovnet39b_CosFace_SGD<br>Accuracy=%{x}<br>Disparity=%{y}<extra></extra>\",\"legendgroup\":\"ese_vovnet39b_CosFace_SGD\",\"marker\":{\"color\":\"#00cc96\",\"symbol\":\"circle\"},\"mode\":\"markers\",\"name\":\"ese_vovnet39b_CosFace_SGD\",\"orientation\":\"v\",\"showlegend\":true,\"x\":[0.8768988999476166],\"xaxis\":\"x\",\"y\":[1.964379256155055],\"yaxis\":\"y\",\"type\":\"scatter\"},{\"hovertemplate\":\"index=ese_vovnet39b_CosFace_SGD_0.1_cosine<br>Accuracy=%{x}<br>Disparity=%{y}<extra></extra>\",\"legendgroup\":\"ese_vovnet39b_CosFace_SGD_0.1_cosine\",\"marker\":{\"color\":\"#ab63fa\",\"symbol\":\"circle\"},\"mode\":\"markers\",\"name\":\"ese_vovnet39b_CosFace_SGD_0.1_cosine\",\"orientation\":\"v\",\"showlegend\":true,\"x\":[0.8832503928758513],\"xaxis\":\"x\",\"y\":[2.0036668412781564],\"yaxis\":\"y\",\"type\":\"scatter\"},{\"hovertemplate\":\"index=ese_vovnet39b_MagFace_AdamW<br>Accuracy=%{x}<br>Disparity=%{y}<extra></extra>\",\"legendgroup\":\"ese_vovnet39b_MagFace_AdamW\",\"marker\":{\"color\":\"#FFA15A\",\"symbol\":\"circle\"},\"mode\":\"markers\",\"name\":\"ese_vovnet39b_MagFace_AdamW\",\"orientation\":\"v\",\"showlegend\":true,\"x\":[0.8091932949188057],\"xaxis\":\"x\",\"y\":[1.8267417496071245],\"yaxis\":\"y\",\"type\":\"scatter\"},{\"hovertemplate\":\"index=ese_vovnet39b_MagFace_AdamW_0.001_cosine<br>Accuracy=%{x}<br>Disparity=%{y}<extra></extra>\",\"legendgroup\":\"ese_vovnet39b_MagFace_AdamW_0.001_cosine\",\"marker\":{\"color\":\"#19d3f3\",\"symbol\":\"circle\"},\"mode\":\"markers\",\"name\":\"ese_vovnet39b_MagFace_AdamW_0.001_cosine\",\"orientation\":\"v\",\"showlegend\":true,\"x\":[0.7010869565217391],\"xaxis\":\"x\",\"y\":[2.8673389209009956],\"yaxis\":\"y\",\"type\":\"scatter\"},{\"hovertemplate\":\"index=ese_vovnet39b_MagFace_SGD<br>Accuracy=%{x}<br>Disparity=%{y}<extra></extra>\",\"legendgroup\":\"ese_vovnet39b_MagFace_SGD\",\"marker\":{\"color\":\"#FF6692\",\"symbol\":\"circle\"},\"mode\":\"markers\",\"name\":\"ese_vovnet39b_MagFace_SGD\",\"orientation\":\"v\",\"showlegend\":true,\"x\":[0.6556443163960188],\"xaxis\":\"x\",\"y\":[3.695521215295966],\"yaxis\":\"y\",\"type\":\"scatter\"},{\"hovertemplate\":\"index=ese_vovnet39b_MagFace_SGD_0.1_cosine<br>Accuracy=%{x}<br>Disparity=%{y}<extra></extra>\",\"legendgroup\":\"ese_vovnet39b_MagFace_SGD_0.1_cosine\",\"marker\":{\"color\":\"#B6E880\",\"symbol\":\"circle\"},\"mode\":\"markers\",\"name\":\"ese_vovnet39b_MagFace_SGD_0.1_cosine\",\"orientation\":\"v\",\"showlegend\":true,\"x\":[0.6424174960712414],\"xaxis\":\"x\",\"y\":[3.6186485070717653],\"yaxis\":\"y\",\"type\":\"scatter\"},{\"hovertemplate\":\"index=fbnetv3_g_ArcFace_AdamW<br>Accuracy=%{x}<br>Disparity=%{y}<extra></extra>\",\"legendgroup\":\"fbnetv3_g_ArcFace_AdamW\",\"marker\":{\"color\":\"#FF97FF\",\"symbol\":\"circle\"},\"mode\":\"markers\",\"name\":\"fbnetv3_g_ArcFace_AdamW\",\"orientation\":\"v\",\"showlegend\":true,\"x\":[0.0],\"xaxis\":\"x\",\"y\":[0.0],\"yaxis\":\"y\",\"type\":\"scatter\"},{\"hovertemplate\":\"index=fbnetv3_g_ArcFace_AdamW_0.001_cosine<br>Accuracy=%{x}<br>Disparity=%{y}<extra></extra>\",\"legendgroup\":\"fbnetv3_g_ArcFace_AdamW_0.001_cosine\",\"marker\":{\"color\":\"#FECB52\",\"symbol\":\"circle\"},\"mode\":\"markers\",\"name\":\"fbnetv3_g_ArcFace_AdamW_0.001_cosine\",\"orientation\":\"v\",\"showlegend\":true,\"x\":[0.4384494499738083],\"xaxis\":\"x\",\"y\":[12.744892613933997],\"yaxis\":\"y\",\"type\":\"scatter\"},{\"hovertemplate\":\"index=fbnetv3_g_ArcFace_SGD<br>Accuracy=%{x}<br>Disparity=%{y}<extra></extra>\",\"legendgroup\":\"fbnetv3_g_ArcFace_SGD\",\"marker\":{\"color\":\"#636efa\",\"symbol\":\"circle\"},\"mode\":\"markers\",\"name\":\"fbnetv3_g_ArcFace_SGD\",\"orientation\":\"v\",\"showlegend\":true,\"x\":[0.6337742273441592],\"xaxis\":\"x\",\"y\":[4.190544787847039],\"yaxis\":\"y\",\"type\":\"scatter\"},{\"hovertemplate\":\"index=fbnetv3_g_ArcFace_SGD_0.1_cosine<br>Accuracy=%{x}<br>Disparity=%{y}<extra></extra>\",\"legendgroup\":\"fbnetv3_g_ArcFace_SGD_0.1_cosine\",\"marker\":{\"color\":\"#EF553B\",\"symbol\":\"circle\"},\"mode\":\"markers\",\"name\":\"fbnetv3_g_ArcFace_SGD_0.1_cosine\",\"orientation\":\"v\",\"showlegend\":true,\"x\":[0.6016893661602933],\"xaxis\":\"x\",\"y\":[3.609350445259298],\"yaxis\":\"y\",\"type\":\"scatter\"},{\"hovertemplate\":\"index=fbnetv3_g_CosFace_Adam<br>Accuracy=%{x}<br>Disparity=%{y}<extra></extra>\",\"legendgroup\":\"fbnetv3_g_CosFace_Adam\",\"marker\":{\"color\":\"#00cc96\",\"symbol\":\"circle\"},\"mode\":\"markers\",\"name\":\"fbnetv3_g_CosFace_Adam\",\"orientation\":\"v\",\"showlegend\":true,\"x\":[0.004321634363541121],\"xaxis\":\"x\",\"y\":[7.952592980618135],\"yaxis\":\"y\",\"type\":\"scatter\"},{\"hovertemplate\":\"index=fbnetv3_g_CosFace_AdamW<br>Accuracy=%{x}<br>Disparity=%{y}<extra></extra>\",\"legendgroup\":\"fbnetv3_g_CosFace_AdamW\",\"marker\":{\"color\":\"#ab63fa\",\"symbol\":\"circle\"},\"mode\":\"markers\",\"name\":\"fbnetv3_g_CosFace_AdamW\",\"orientation\":\"v\",\"showlegend\":true,\"x\":[0.393661602933473],\"xaxis\":\"x\",\"y\":[5.958486118386588],\"yaxis\":\"y\",\"type\":\"scatter\"},{\"hovertemplate\":\"index=fbnetv3_g_CosFace_AdamW_0.001_cosine<br>Accuracy=%{x}<br>Disparity=%{y}<extra></extra>\",\"legendgroup\":\"fbnetv3_g_CosFace_AdamW_0.001_cosine\",\"marker\":{\"color\":\"#FFA15A\",\"symbol\":\"circle\"},\"mode\":\"markers\",\"name\":\"fbnetv3_g_CosFace_AdamW_0.001_cosine\",\"orientation\":\"v\",\"showlegend\":true,\"x\":[0.6193033001571503],\"xaxis\":\"x\",\"y\":[2.1375065479308546],\"yaxis\":\"y\",\"type\":\"scatter\"},{\"hovertemplate\":\"index=fbnetv3_g_CosFace_SGD<br>Accuracy=%{x}<br>Disparity=%{y}<extra></extra>\",\"legendgroup\":\"fbnetv3_g_CosFace_SGD\",\"marker\":{\"color\":\"#19d3f3\",\"symbol\":\"circle\"},\"mode\":\"markers\",\"name\":\"fbnetv3_g_CosFace_SGD\",\"orientation\":\"v\",\"showlegend\":true,\"x\":[0.8045442640125721],\"xaxis\":\"x\",\"y\":[1.7902042954426403],\"yaxis\":\"y\",\"type\":\"scatter\"},{\"hovertemplate\":\"index=fbnetv3_g_CosFace_SGD_0.1_cosine<br>Accuracy=%{x}<br>Disparity=%{y}<extra></extra>\",\"legendgroup\":\"fbnetv3_g_CosFace_SGD_0.1_cosine\",\"marker\":{\"color\":\"#FF6692\",\"symbol\":\"circle\"},\"mode\":\"markers\",\"name\":\"fbnetv3_g_CosFace_SGD_0.1_cosine\",\"orientation\":\"v\",\"showlegend\":true,\"x\":[0.8335515976951283],\"xaxis\":\"x\",\"y\":[1.5316919853326345],\"yaxis\":\"y\",\"type\":\"scatter\"},{\"hovertemplate\":\"index=fbnetv3_g_MagFace_AdamW<br>Accuracy=%{x}<br>Disparity=%{y}<extra></extra>\",\"legendgroup\":\"fbnetv3_g_MagFace_AdamW\",\"marker\":{\"color\":\"#B6E880\",\"symbol\":\"circle\"},\"mode\":\"markers\",\"name\":\"fbnetv3_g_MagFace_AdamW\",\"orientation\":\"v\",\"showlegend\":true,\"x\":[0.7300942902042954],\"xaxis\":\"x\",\"y\":[2.4812729177579884],\"yaxis\":\"y\",\"type\":\"scatter\"},{\"hovertemplate\":\"index=fbnetv3_g_MagFace_AdamW_0.001_cosine<br>Accuracy=%{x}<br>Disparity=%{y}<extra></extra>\",\"legendgroup\":\"fbnetv3_g_MagFace_AdamW_0.001_cosine\",\"marker\":{\"color\":\"#FF97FF\",\"symbol\":\"circle\"},\"mode\":\"markers\",\"name\":\"fbnetv3_g_MagFace_AdamW_0.001_cosine\",\"orientation\":\"v\",\"showlegend\":true,\"x\":[0.6117077003666841],\"xaxis\":\"x\",\"y\":[3.684389732844421],\"yaxis\":\"y\",\"type\":\"scatter\"},{\"hovertemplate\":\"index=fbnetv3_g_MagFace_SGD<br>Accuracy=%{x}<br>Disparity=%{y}<extra></extra>\",\"legendgroup\":\"fbnetv3_g_MagFace_SGD\",\"marker\":{\"color\":\"#FECB52\",\"symbol\":\"circle\"},\"mode\":\"markers\",\"name\":\"fbnetv3_g_MagFace_SGD\",\"orientation\":\"v\",\"showlegend\":true,\"x\":[0.5555919329491881],\"xaxis\":\"x\",\"y\":[5.508643268727082],\"yaxis\":\"y\",\"type\":\"scatter\"},{\"hovertemplate\":\"index=fbnetv3_g_MagFace_SGD_0.1_cosine<br>Accuracy=%{x}<br>Disparity=%{y}<extra></extra>\",\"legendgroup\":\"fbnetv3_g_MagFace_SGD_0.1_cosine\",\"marker\":{\"color\":\"#636efa\",\"symbol\":\"circle\"},\"mode\":\"markers\",\"name\":\"fbnetv3_g_MagFace_SGD_0.1_cosine\",\"orientation\":\"v\",\"showlegend\":true,\"x\":[0.5933080146673652],\"xaxis\":\"x\",\"y\":[3.232713462545836],\"yaxis\":\"y\",\"type\":\"scatter\"},{\"hovertemplate\":\"index=vgg19_ArcFace_AdamW<br>Accuracy=%{x}<br>Disparity=%{y}<extra></extra>\",\"legendgroup\":\"vgg19_ArcFace_AdamW\",\"marker\":{\"color\":\"#EF553B\",\"symbol\":\"circle\"},\"mode\":\"markers\",\"name\":\"vgg19_ArcFace_AdamW\",\"orientation\":\"v\",\"showlegend\":true,\"x\":[0.0],\"xaxis\":\"x\",\"y\":[0.0],\"yaxis\":\"y\",\"type\":\"scatter\"},{\"hovertemplate\":\"index=ghostnet_100_ArcFace_AdamW_0.001_cosine<br>Accuracy=%{x}<br>Disparity=%{y}<extra></extra>\",\"legendgroup\":\"ghostnet_100_ArcFace_AdamW_0.001_cosine\",\"marker\":{\"color\":\"#00cc96\",\"symbol\":\"circle\"},\"mode\":\"markers\",\"name\":\"ghostnet_100_ArcFace_AdamW_0.001_cosine\",\"orientation\":\"v\",\"showlegend\":true,\"x\":[0.05683603981141959],\"xaxis\":\"x\",\"y\":[30.190675746464123],\"yaxis\":\"y\",\"type\":\"scatter\"},{\"hovertemplate\":\"index=ghostnet_100_CosFace_AdamW_0.001_cosine<br>Accuracy=%{x}<br>Disparity=%{y}<extra></extra>\",\"legendgroup\":\"ghostnet_100_CosFace_AdamW_0.001_cosine\",\"marker\":{\"color\":\"#ab63fa\",\"symbol\":\"circle\"},\"mode\":\"markers\",\"name\":\"ghostnet_100_CosFace_AdamW_0.001_cosine\",\"orientation\":\"v\",\"showlegend\":true,\"x\":[0.0],\"xaxis\":\"x\",\"y\":[0.0],\"yaxis\":\"y\",\"type\":\"scatter\"},{\"hovertemplate\":\"index=ghostnet_100_MagFace_AdamW_0.001_cosine<br>Accuracy=%{x}<br>Disparity=%{y}<extra></extra>\",\"legendgroup\":\"ghostnet_100_MagFace_AdamW_0.001_cosine\",\"marker\":{\"color\":\"#FFA15A\",\"symbol\":\"circle\"},\"mode\":\"markers\",\"name\":\"ghostnet_100_MagFace_AdamW_0.001_cosine\",\"orientation\":\"v\",\"showlegend\":true,\"x\":[0.3571896280775275],\"xaxis\":\"x\",\"y\":[5.761131482451546],\"yaxis\":\"y\",\"type\":\"scatter\"},{\"hovertemplate\":\"index=gluon_inception_v3_ArcFace_AdamW<br>Accuracy=%{x}<br>Disparity=%{y}<extra></extra>\",\"legendgroup\":\"gluon_inception_v3_ArcFace_AdamW\",\"marker\":{\"color\":\"#19d3f3\",\"symbol\":\"circle\"},\"mode\":\"markers\",\"name\":\"gluon_inception_v3_ArcFace_AdamW\",\"orientation\":\"v\",\"showlegend\":true,\"x\":[0.7190282870612886],\"xaxis\":\"x\",\"y\":[2.263357778941854],\"yaxis\":\"y\",\"type\":\"scatter\"},{\"hovertemplate\":\"index=gluon_inception_v3_ArcFace_AdamW_0.001_cosine<br>Accuracy=%{x}<br>Disparity=%{y}<extra></extra>\",\"legendgroup\":\"gluon_inception_v3_ArcFace_AdamW_0.001_cosine\",\"marker\":{\"color\":\"#FF6692\",\"symbol\":\"circle\"},\"mode\":\"markers\",\"name\":\"gluon_inception_v3_ArcFace_AdamW_0.001_cosine\",\"orientation\":\"v\",\"showlegend\":true,\"x\":[0.7230880041906758],\"xaxis\":\"x\",\"y\":[1.158067050811943],\"yaxis\":\"y\",\"type\":\"scatter\"},{\"hovertemplate\":\"index=gluon_inception_v3_ArcFace_SGD<br>Accuracy=%{x}<br>Disparity=%{y}<extra></extra>\",\"legendgroup\":\"gluon_inception_v3_ArcFace_SGD\",\"marker\":{\"color\":\"#B6E880\",\"symbol\":\"circle\"},\"mode\":\"markers\",\"name\":\"gluon_inception_v3_ArcFace_SGD\",\"orientation\":\"v\",\"showlegend\":true,\"x\":[0.7106469355683604],\"xaxis\":\"x\",\"y\":[3.1516500785751704],\"yaxis\":\"y\",\"type\":\"scatter\"},{\"hovertemplate\":\"index=gluon_inception_v3_ArcFace_SGD_0.1_cosine<br>Accuracy=%{x}<br>Disparity=%{y}<extra></extra>\",\"legendgroup\":\"gluon_inception_v3_ArcFace_SGD_0.1_cosine\",\"marker\":{\"color\":\"#FF97FF\",\"symbol\":\"circle\"},\"mode\":\"markers\",\"name\":\"gluon_inception_v3_ArcFace_SGD_0.1_cosine\",\"orientation\":\"v\",\"showlegend\":true,\"x\":[0.6136066003143007],\"xaxis\":\"x\",\"y\":[4.108171817705605],\"yaxis\":\"y\",\"type\":\"scatter\"},{\"hovertemplate\":\"index=gluon_inception_v3_CosFace_Adam<br>Accuracy=%{x}<br>Disparity=%{y}<extra></extra>\",\"legendgroup\":\"gluon_inception_v3_CosFace_Adam\",\"marker\":{\"color\":\"#FECB52\",\"symbol\":\"circle\"},\"mode\":\"markers\",\"name\":\"gluon_inception_v3_CosFace_Adam\",\"orientation\":\"v\",\"showlegend\":true,\"x\":[0.0037323205866946047],\"xaxis\":\"x\",\"y\":[19.663436354112093],\"yaxis\":\"y\",\"type\":\"scatter\"},{\"hovertemplate\":\"index=gluon_inception_v3_CosFace_AdamW<br>Accuracy=%{x}<br>Disparity=%{y}<extra></extra>\",\"legendgroup\":\"gluon_inception_v3_CosFace_AdamW\",\"marker\":{\"color\":\"#636efa\",\"symbol\":\"circle\"},\"mode\":\"markers\",\"name\":\"gluon_inception_v3_CosFace_AdamW\",\"orientation\":\"v\",\"showlegend\":true,\"x\":[0.45187270822420117],\"xaxis\":\"x\",\"y\":[5.415793609219486],\"yaxis\":\"y\",\"type\":\"scatter\"},{\"hovertemplate\":\"index=gluon_inception_v3_CosFace_AdamW_0.001_cosine<br>Accuracy=%{x}<br>Disparity=%{y}<extra></extra>\",\"legendgroup\":\"gluon_inception_v3_CosFace_AdamW_0.001_cosine\",\"marker\":{\"color\":\"#EF553B\",\"symbol\":\"circle\"},\"mode\":\"markers\",\"name\":\"gluon_inception_v3_CosFace_AdamW_0.001_cosine\",\"orientation\":\"v\",\"showlegend\":true,\"x\":[0.5582111052907281],\"xaxis\":\"x\",\"y\":[6.246333158721843],\"yaxis\":\"y\",\"type\":\"scatter\"},{\"hovertemplate\":\"index=gluon_inception_v3_CosFace_SGD<br>Accuracy=%{x}<br>Disparity=%{y}<extra></extra>\",\"legendgroup\":\"gluon_inception_v3_CosFace_SGD\",\"marker\":{\"color\":\"#00cc96\",\"symbol\":\"circle\"},\"mode\":\"markers\",\"name\":\"gluon_inception_v3_CosFace_SGD\",\"orientation\":\"v\",\"showlegend\":true,\"x\":[0.7278025144054479],\"xaxis\":\"x\",\"y\":[2.28143006809848],\"yaxis\":\"y\",\"type\":\"scatter\"},{\"hovertemplate\":\"index=gluon_inception_v3_CosFace_SGD_0.1_cosine<br>Accuracy=%{x}<br>Disparity=%{y}<extra></extra>\",\"legendgroup\":\"gluon_inception_v3_CosFace_SGD_0.1_cosine\",\"marker\":{\"color\":\"#ab63fa\",\"symbol\":\"circle\"},\"mode\":\"markers\",\"name\":\"gluon_inception_v3_CosFace_SGD_0.1_cosine\",\"orientation\":\"v\",\"showlegend\":true,\"x\":[0.6286013619696176],\"xaxis\":\"x\",\"y\":[3.9279727606076484],\"yaxis\":\"y\",\"type\":\"scatter\"},{\"hovertemplate\":\"index=gluon_inception_v3_MagFace_AdamW<br>Accuracy=%{x}<br>Disparity=%{y}<extra></extra>\",\"legendgroup\":\"gluon_inception_v3_MagFace_AdamW\",\"marker\":{\"color\":\"#FFA15A\",\"symbol\":\"circle\"},\"mode\":\"markers\",\"name\":\"gluon_inception_v3_MagFace_AdamW\",\"orientation\":\"v\",\"showlegend\":true,\"x\":[0.7629649030906234],\"xaxis\":\"x\",\"y\":[2.219486642221058],\"yaxis\":\"y\",\"type\":\"scatter\"},{\"hovertemplate\":\"index=gluon_inception_v3_MagFace_AdamW_0.001_cosine<br>Accuracy=%{x}<br>Disparity=%{y}<extra></extra>\",\"legendgroup\":\"gluon_inception_v3_MagFace_AdamW_0.001_cosine\",\"marker\":{\"color\":\"#19d3f3\",\"symbol\":\"circle\"},\"mode\":\"markers\",\"name\":\"gluon_inception_v3_MagFace_AdamW_0.001_cosine\",\"orientation\":\"v\",\"showlegend\":true,\"x\":[0.6629125196437926],\"xaxis\":\"x\",\"y\":[2.582372970141436],\"yaxis\":\"y\",\"type\":\"scatter\"},{\"hovertemplate\":\"index=gluon_inception_v3_MagFace_SGD<br>Accuracy=%{x}<br>Disparity=%{y}<extra></extra>\",\"legendgroup\":\"gluon_inception_v3_MagFace_SGD\",\"marker\":{\"color\":\"#FF6692\",\"symbol\":\"circle\"},\"mode\":\"markers\",\"name\":\"gluon_inception_v3_MagFace_SGD\",\"orientation\":\"v\",\"showlegend\":true,\"x\":[0.693753273965427],\"xaxis\":\"x\",\"y\":[2.894185437401781],\"yaxis\":\"y\",\"type\":\"scatter\"},{\"hovertemplate\":\"index=gluon_inception_v3_MagFace_SGD_0.1_cosine<br>Accuracy=%{x}<br>Disparity=%{y}<extra></extra>\",\"legendgroup\":\"gluon_inception_v3_MagFace_SGD_0.1_cosine\",\"marker\":{\"color\":\"#B6E880\",\"symbol\":\"circle\"},\"mode\":\"markers\",\"name\":\"gluon_inception_v3_MagFace_SGD_0.1_cosine\",\"orientation\":\"v\",\"showlegend\":true,\"x\":[0.6446437925615506],\"xaxis\":\"x\",\"y\":[2.6191723415400725],\"yaxis\":\"y\",\"type\":\"scatter\"},{\"hovertemplate\":\"index=gluon_xception65_ArcFace_AdamW<br>Accuracy=%{x}<br>Disparity=%{y}<extra></extra>\",\"legendgroup\":\"gluon_xception65_ArcFace_AdamW\",\"marker\":{\"color\":\"#FF97FF\",\"symbol\":\"circle\"},\"mode\":\"markers\",\"name\":\"gluon_xception65_ArcFace_AdamW\",\"orientation\":\"v\",\"showlegend\":true,\"x\":[0.6024751178627553],\"xaxis\":\"x\",\"y\":[2.015191199580933],\"yaxis\":\"y\",\"type\":\"scatter\"},{\"hovertemplate\":\"index=gluon_xception65_ArcFace_AdamW_0.001_cosine<br>Accuracy=%{x}<br>Disparity=%{y}<extra></extra>\",\"legendgroup\":\"gluon_xception65_ArcFace_AdamW_0.001_cosine\",\"marker\":{\"color\":\"#FECB52\",\"symbol\":\"circle\"},\"mode\":\"markers\",\"name\":\"gluon_xception65_ArcFace_AdamW_0.001_cosine\",\"orientation\":\"v\",\"showlegend\":true,\"x\":[0.5866946045049765],\"xaxis\":\"x\",\"y\":[3.6017548454688324],\"yaxis\":\"y\",\"type\":\"scatter\"},{\"hovertemplate\":\"index=gluon_xception65_ArcFace_SGD<br>Accuracy=%{x}<br>Disparity=%{y}<extra></extra>\",\"legendgroup\":\"gluon_xception65_ArcFace_SGD\",\"marker\":{\"color\":\"#636efa\",\"symbol\":\"circle\"},\"mode\":\"markers\",\"name\":\"gluon_xception65_ArcFace_SGD\",\"orientation\":\"v\",\"showlegend\":true,\"x\":[0.6178627553693034],\"xaxis\":\"x\",\"y\":[3.534180199057099],\"yaxis\":\"y\",\"type\":\"scatter\"},{\"hovertemplate\":\"index=gluon_xception65_ArcFace_SGD_0.1_cosine<br>Accuracy=%{x}<br>Disparity=%{y}<extra></extra>\",\"legendgroup\":\"gluon_xception65_ArcFace_SGD_0.1_cosine\",\"marker\":{\"color\":\"#EF553B\",\"symbol\":\"circle\"},\"mode\":\"markers\",\"name\":\"gluon_xception65_ArcFace_SGD_0.1_cosine\",\"orientation\":\"v\",\"showlegend\":true,\"x\":[0.7484284965950759],\"xaxis\":\"x\",\"y\":[2.542954426401257],\"yaxis\":\"y\",\"type\":\"scatter\"},{\"hovertemplate\":\"index=gluon_xception65_CosFace_Adam<br>Accuracy=%{x}<br>Disparity=%{y}<extra></extra>\",\"legendgroup\":\"gluon_xception65_CosFace_Adam\",\"marker\":{\"color\":\"#00cc96\",\"symbol\":\"circle\"},\"mode\":\"markers\",\"name\":\"gluon_xception65_CosFace_Adam\",\"orientation\":\"v\",\"showlegend\":true,\"x\":[0.0],\"xaxis\":\"x\",\"y\":[0.0],\"yaxis\":\"y\",\"type\":\"scatter\"},{\"hovertemplate\":\"index=gluon_xception65_CosFace_AdamW<br>Accuracy=%{x}<br>Disparity=%{y}<extra></extra>\",\"legendgroup\":\"gluon_xception65_CosFace_AdamW\",\"marker\":{\"color\":\"#ab63fa\",\"symbol\":\"circle\"},\"mode\":\"markers\",\"name\":\"gluon_xception65_CosFace_AdamW\",\"orientation\":\"v\",\"showlegend\":true,\"x\":[0.392613933996857],\"xaxis\":\"x\",\"y\":[10.092587742273437],\"yaxis\":\"y\",\"type\":\"scatter\"},{\"hovertemplate\":\"index=gluon_xception65_CosFace_AdamW_0.001_cosine<br>Accuracy=%{x}<br>Disparity=%{y}<extra></extra>\",\"legendgroup\":\"gluon_xception65_CosFace_AdamW_0.001_cosine\",\"marker\":{\"color\":\"#FFA15A\",\"symbol\":\"circle\"},\"mode\":\"markers\",\"name\":\"gluon_xception65_CosFace_AdamW_0.001_cosine\",\"orientation\":\"v\",\"showlegend\":true,\"x\":[0.3002226296490309],\"xaxis\":\"x\",\"y\":[8.418674698795186],\"yaxis\":\"y\",\"type\":\"scatter\"},{\"hovertemplate\":\"index=gluon_xception65_CosFace_SGD<br>Accuracy=%{x}<br>Disparity=%{y}<extra></extra>\",\"legendgroup\":\"gluon_xception65_CosFace_SGD\",\"marker\":{\"color\":\"#19d3f3\",\"symbol\":\"circle\"},\"mode\":\"markers\",\"name\":\"gluon_xception65_CosFace_SGD\",\"orientation\":\"v\",\"showlegend\":true,\"x\":[0.6851754845468832],\"xaxis\":\"x\",\"y\":[4.567705605028811],\"yaxis\":\"y\",\"type\":\"scatter\"},{\"hovertemplate\":\"index=gluon_xception65_CosFace_SGD_0.1_cosine<br>Accuracy=%{x}<br>Disparity=%{y}<extra></extra>\",\"legendgroup\":\"gluon_xception65_CosFace_SGD_0.1_cosine\",\"marker\":{\"color\":\"#FF6692\",\"symbol\":\"circle\"},\"mode\":\"markers\",\"name\":\"gluon_xception65_CosFace_SGD_0.1_cosine\",\"orientation\":\"v\",\"showlegend\":true,\"x\":[0.6642221058145626],\"xaxis\":\"x\",\"y\":[0.7252488213724462],\"yaxis\":\"y\",\"type\":\"scatter\"},{\"hovertemplate\":\"index=gluon_xception65_MagFace_AdamW<br>Accuracy=%{x}<br>Disparity=%{y}<extra></extra>\",\"legendgroup\":\"gluon_xception65_MagFace_AdamW\",\"marker\":{\"color\":\"#B6E880\",\"symbol\":\"circle\"},\"mode\":\"markers\",\"name\":\"gluon_xception65_MagFace_AdamW\",\"orientation\":\"v\",\"showlegend\":true,\"x\":[0.6581325301204819],\"xaxis\":\"x\",\"y\":[8.735725510738607],\"yaxis\":\"y\",\"type\":\"scatter\"},{\"hovertemplate\":\"index=gluon_xception65_MagFace_AdamW_0.001_cosine<br>Accuracy=%{x}<br>Disparity=%{y}<extra></extra>\",\"legendgroup\":\"gluon_xception65_MagFace_AdamW_0.001_cosine\",\"marker\":{\"color\":\"#FF97FF\",\"symbol\":\"circle\"},\"mode\":\"markers\",\"name\":\"gluon_xception65_MagFace_AdamW_0.001_cosine\",\"orientation\":\"v\",\"showlegend\":true,\"x\":[0.6251964379256155],\"xaxis\":\"x\",\"y\":[3.2832634887375587],\"yaxis\":\"y\",\"type\":\"scatter\"},{\"hovertemplate\":\"index=gluon_xception65_MagFace_SGD<br>Accuracy=%{x}<br>Disparity=%{y}<extra></extra>\",\"legendgroup\":\"gluon_xception65_MagFace_SGD\",\"marker\":{\"color\":\"#FECB52\",\"symbol\":\"circle\"},\"mode\":\"markers\",\"name\":\"gluon_xception65_MagFace_SGD\",\"orientation\":\"v\",\"showlegend\":true,\"x\":[0.6404531168150864],\"xaxis\":\"x\",\"y\":[3.011262441068622],\"yaxis\":\"y\",\"type\":\"scatter\"},{\"hovertemplate\":\"index=gluon_xception65_MagFace_SGD_0.1_cosine<br>Accuracy=%{x}<br>Disparity=%{y}<extra></extra>\",\"legendgroup\":\"gluon_xception65_MagFace_SGD_0.1_cosine\",\"marker\":{\"color\":\"#636efa\",\"symbol\":\"circle\"},\"mode\":\"markers\",\"name\":\"gluon_xception65_MagFace_SGD_0.1_cosine\",\"orientation\":\"v\",\"showlegend\":true,\"x\":[0.6404531168150864],\"xaxis\":\"x\",\"y\":[3.011262441068622],\"yaxis\":\"y\",\"type\":\"scatter\"},{\"hovertemplate\":\"index=hrnet_w64_ArcFace_AdamW_0.001_cosine<br>Accuracy=%{x}<br>Disparity=%{y}<extra></extra>\",\"legendgroup\":\"hrnet_w64_ArcFace_AdamW_0.001_cosine\",\"marker\":{\"color\":\"#EF553B\",\"symbol\":\"circle\"},\"mode\":\"markers\",\"name\":\"hrnet_w64_ArcFace_AdamW_0.001_cosine\",\"orientation\":\"v\",\"showlegend\":true,\"x\":[0.589379256155055],\"xaxis\":\"x\",\"y\":[3.6572812991094814],\"yaxis\":\"y\",\"type\":\"scatter\"},{\"hovertemplate\":\"index=hrnet_w64_ArcFace_SGD_0.1_cosine<br>Accuracy=%{x}<br>Disparity=%{y}<extra></extra>\",\"legendgroup\":\"hrnet_w64_ArcFace_SGD_0.1_cosine\",\"marker\":{\"color\":\"#00cc96\",\"symbol\":\"circle\"},\"mode\":\"markers\",\"name\":\"hrnet_w64_ArcFace_SGD_0.1_cosine\",\"orientation\":\"v\",\"showlegend\":true,\"x\":[0.7059979046621268],\"xaxis\":\"x\",\"y\":[2.732582503928759],\"yaxis\":\"y\",\"type\":\"scatter\"},{\"hovertemplate\":\"index=hrnet_w64_CosFace_AdamW_0.001_cosine<br>Accuracy=%{x}<br>Disparity=%{y}<extra></extra>\",\"legendgroup\":\"hrnet_w64_CosFace_AdamW_0.001_cosine\",\"marker\":{\"color\":\"#ab63fa\",\"symbol\":\"circle\"},\"mode\":\"markers\",\"name\":\"hrnet_w64_CosFace_AdamW_0.001_cosine\",\"orientation\":\"v\",\"showlegend\":true,\"x\":[0.7907936092194866],\"xaxis\":\"x\",\"y\":[11.224201152435832],\"yaxis\":\"y\",\"type\":\"scatter\"},{\"hovertemplate\":\"index=hrnet_w64_CosFace_SGD_0.1_cosine<br>Accuracy=%{x}<br>Disparity=%{y}<extra></extra>\",\"legendgroup\":\"hrnet_w64_CosFace_SGD_0.1_cosine\",\"marker\":{\"color\":\"#FFA15A\",\"symbol\":\"circle\"},\"mode\":\"markers\",\"name\":\"hrnet_w64_CosFace_SGD_0.1_cosine\",\"orientation\":\"v\",\"showlegend\":true,\"x\":[0.8795180722891566],\"xaxis\":\"x\",\"y\":[2.048847564169722],\"yaxis\":\"y\",\"type\":\"scatter\"},{\"hovertemplate\":\"index=hrnet_w64_MagFace_AdamW_0.001_cosine<br>Accuracy=%{x}<br>Disparity=%{y}<extra></extra>\",\"legendgroup\":\"hrnet_w64_MagFace_AdamW_0.001_cosine\",\"marker\":{\"color\":\"#19d3f3\",\"symbol\":\"circle\"},\"mode\":\"markers\",\"name\":\"hrnet_w64_MagFace_AdamW_0.001_cosine\",\"orientation\":\"v\",\"showlegend\":true,\"x\":[null],\"xaxis\":\"x\",\"y\":[null],\"yaxis\":\"y\",\"type\":\"scatter\"},{\"hovertemplate\":\"index=hrnet_w64_MagFace_SGD_0.1_cosine<br>Accuracy=%{x}<br>Disparity=%{y}<extra></extra>\",\"legendgroup\":\"hrnet_w64_MagFace_SGD_0.1_cosine\",\"marker\":{\"color\":\"#FF6692\",\"symbol\":\"circle\"},\"mode\":\"markers\",\"name\":\"hrnet_w64_MagFace_SGD_0.1_cosine\",\"orientation\":\"v\",\"showlegend\":true,\"x\":[0.7472498690413829],\"xaxis\":\"x\",\"y\":[2.170508119434259],\"yaxis\":\"y\",\"type\":\"scatter\"},{\"hovertemplate\":\"index=ig_resnext101_32x8d_ArcFace_AdamW<br>Accuracy=%{x}<br>Disparity=%{y}<extra></extra>\",\"legendgroup\":\"ig_resnext101_32x8d_ArcFace_AdamW\",\"marker\":{\"color\":\"#B6E880\",\"symbol\":\"circle\"},\"mode\":\"markers\",\"name\":\"ig_resnext101_32x8d_ArcFace_AdamW\",\"orientation\":\"v\",\"showlegend\":true,\"x\":[0.659049240440021],\"xaxis\":\"x\",\"y\":[4.529203771608172],\"yaxis\":\"y\",\"type\":\"scatter\"},{\"hovertemplate\":\"index=ig_resnext101_32x8d_ArcFace_AdamW_0.001_cosine<br>Accuracy=%{x}<br>Disparity=%{y}<extra></extra>\",\"legendgroup\":\"ig_resnext101_32x8d_ArcFace_AdamW_0.001_cosine\",\"marker\":{\"color\":\"#FF97FF\",\"symbol\":\"circle\"},\"mode\":\"markers\",\"name\":\"ig_resnext101_32x8d_ArcFace_AdamW_0.001_cosine\",\"orientation\":\"v\",\"showlegend\":true,\"x\":[0.5028156102671556],\"xaxis\":\"x\",\"y\":[5.265060240963855],\"yaxis\":\"y\",\"type\":\"scatter\"},{\"hovertemplate\":\"index=ig_resnext101_32x8d_ArcFace_SGD<br>Accuracy=%{x}<br>Disparity=%{y}<extra></extra>\",\"legendgroup\":\"ig_resnext101_32x8d_ArcFace_SGD\",\"marker\":{\"color\":\"#FECB52\",\"symbol\":\"circle\"},\"mode\":\"markers\",\"name\":\"ig_resnext101_32x8d_ArcFace_SGD\",\"orientation\":\"v\",\"showlegend\":true,\"x\":[0.7170639078051336],\"xaxis\":\"x\",\"y\":[2.4150078575170246],\"yaxis\":\"y\",\"type\":\"scatter\"},{\"hovertemplate\":\"index=ig_resnext101_32x8d_ArcFace_SGD_0.1_cosine<br>Accuracy=%{x}<br>Disparity=%{y}<extra></extra>\",\"legendgroup\":\"ig_resnext101_32x8d_ArcFace_SGD_0.1_cosine\",\"marker\":{\"color\":\"#636efa\",\"symbol\":\"circle\"},\"mode\":\"markers\",\"name\":\"ig_resnext101_32x8d_ArcFace_SGD_0.1_cosine\",\"orientation\":\"v\",\"showlegend\":true,\"x\":[0.5670508119434259],\"xaxis\":\"x\",\"y\":[4.827003666841279],\"yaxis\":\"y\",\"type\":\"scatter\"},{\"hovertemplate\":\"index=ig_resnext101_32x8d_CosFace_AdamW<br>Accuracy=%{x}<br>Disparity=%{y}<extra></extra>\",\"legendgroup\":\"ig_resnext101_32x8d_CosFace_AdamW\",\"marker\":{\"color\":\"#EF553B\",\"symbol\":\"circle\"},\"mode\":\"markers\",\"name\":\"ig_resnext101_32x8d_CosFace_AdamW\",\"orientation\":\"v\",\"showlegend\":true,\"x\":[0.8294264012572027],\"xaxis\":\"x\",\"y\":[1.0982189628077528],\"yaxis\":\"y\",\"type\":\"scatter\"},{\"hovertemplate\":\"index=ig_resnext101_32x8d_CosFace_AdamW_0.001_cosine<br>Accuracy=%{x}<br>Disparity=%{y}<extra></extra>\",\"legendgroup\":\"ig_resnext101_32x8d_CosFace_AdamW_0.001_cosine\",\"marker\":{\"color\":\"#00cc96\",\"symbol\":\"circle\"},\"mode\":\"markers\",\"name\":\"ig_resnext101_32x8d_CosFace_AdamW_0.001_cosine\",\"orientation\":\"v\",\"showlegend\":true,\"x\":[0.623821372446307],\"xaxis\":\"x\",\"y\":[3.6183865898376126],\"yaxis\":\"y\",\"type\":\"scatter\"},{\"hovertemplate\":\"index=ig_resnext101_32x8d_CosFace_SGD<br>Accuracy=%{x}<br>Disparity=%{y}<extra></extra>\",\"legendgroup\":\"ig_resnext101_32x8d_CosFace_SGD\",\"marker\":{\"color\":\"#ab63fa\",\"symbol\":\"circle\"},\"mode\":\"markers\",\"name\":\"ig_resnext101_32x8d_CosFace_SGD\",\"orientation\":\"v\",\"showlegend\":true,\"x\":[0.8302776322682033],\"xaxis\":\"x\",\"y\":[2.0652173913043477],\"yaxis\":\"y\",\"type\":\"scatter\"},{\"hovertemplate\":\"index=ig_resnext101_32x8d_CosFace_SGD_0.1_cosine<br>Accuracy=%{x}<br>Disparity=%{y}<extra></extra>\",\"legendgroup\":\"ig_resnext101_32x8d_CosFace_SGD_0.1_cosine\",\"marker\":{\"color\":\"#FFA15A\",\"symbol\":\"circle\"},\"mode\":\"markers\",\"name\":\"ig_resnext101_32x8d_CosFace_SGD_0.1_cosine\",\"orientation\":\"v\",\"showlegend\":true,\"x\":[0.7470534311157674],\"xaxis\":\"x\",\"y\":[4.631744368779466],\"yaxis\":\"y\",\"type\":\"scatter\"},{\"hovertemplate\":\"index=ig_resnext101_32x8d_MagFace_AdamW<br>Accuracy=%{x}<br>Disparity=%{y}<extra></extra>\",\"legendgroup\":\"ig_resnext101_32x8d_MagFace_AdamW\",\"marker\":{\"color\":\"#19d3f3\",\"symbol\":\"circle\"},\"mode\":\"markers\",\"name\":\"ig_resnext101_32x8d_MagFace_AdamW\",\"orientation\":\"v\",\"showlegend\":true,\"x\":[0.6665138816134102],\"xaxis\":\"x\",\"y\":[2.9734154007333684],\"yaxis\":\"y\",\"type\":\"scatter\"},{\"hovertemplate\":\"index=ig_resnext101_32x8d_MagFace_AdamW_0.001_cosine<br>Accuracy=%{x}<br>Disparity=%{y}<extra></extra>\",\"legendgroup\":\"ig_resnext101_32x8d_MagFace_AdamW_0.001_cosine\",\"marker\":{\"color\":\"#FF6692\",\"symbol\":\"circle\"},\"mode\":\"markers\",\"name\":\"ig_resnext101_32x8d_MagFace_AdamW_0.001_cosine\",\"orientation\":\"v\",\"showlegend\":true,\"x\":[0.5394185437401781],\"xaxis\":\"x\",\"y\":[4.536930330015715],\"yaxis\":\"y\",\"type\":\"scatter\"},{\"hovertemplate\":\"index=ig_resnext101_32x8d_MagFace_SGD<br>Accuracy=%{x}<br>Disparity=%{y}<extra></extra>\",\"legendgroup\":\"ig_resnext101_32x8d_MagFace_SGD\",\"marker\":{\"color\":\"#B6E880\",\"symbol\":\"circle\"},\"mode\":\"markers\",\"name\":\"ig_resnext101_32x8d_MagFace_SGD\",\"orientation\":\"v\",\"showlegend\":true,\"x\":[0.7710843373493976],\"xaxis\":\"x\",\"y\":[1.8914353064431637],\"yaxis\":\"y\",\"type\":\"scatter\"},{\"hovertemplate\":\"index=ig_resnext101_32x8d_MagFace_SGD_0.1_cosine<br>Accuracy=%{x}<br>Disparity=%{y}<extra></extra>\",\"legendgroup\":\"ig_resnext101_32x8d_MagFace_SGD_0.1_cosine\",\"marker\":{\"color\":\"#FF97FF\",\"symbol\":\"circle\"},\"mode\":\"markers\",\"name\":\"ig_resnext101_32x8d_MagFace_SGD_0.1_cosine\",\"orientation\":\"v\",\"showlegend\":true,\"x\":[null],\"xaxis\":\"x\",\"y\":[null],\"yaxis\":\"y\",\"type\":\"scatter\"},{\"hovertemplate\":\"index=inception_resnet_v2_ArcFace_AdamW<br>Accuracy=%{x}<br>Disparity=%{y}<extra></extra>\",\"legendgroup\":\"inception_resnet_v2_ArcFace_AdamW\",\"marker\":{\"color\":\"#FECB52\",\"symbol\":\"circle\"},\"mode\":\"markers\",\"name\":\"inception_resnet_v2_ArcFace_AdamW\",\"orientation\":\"v\",\"showlegend\":true,\"x\":[0.5828968046097434],\"xaxis\":\"x\",\"y\":[3.345206914614981],\"yaxis\":\"y\",\"type\":\"scatter\"},{\"hovertemplate\":\"index=inception_resnet_v2_ArcFace_AdamW_0.001_cosine<br>Accuracy=%{x}<br>Disparity=%{y}<extra></extra>\",\"legendgroup\":\"inception_resnet_v2_ArcFace_AdamW_0.001_cosine\",\"marker\":{\"color\":\"#636efa\",\"symbol\":\"circle\"},\"mode\":\"markers\",\"name\":\"inception_resnet_v2_ArcFace_AdamW_0.001_cosine\",\"orientation\":\"v\",\"showlegend\":true,\"x\":[0.5222629649030907],\"xaxis\":\"x\",\"y\":[5.167627029858564],\"yaxis\":\"y\",\"type\":\"scatter\"},{\"hovertemplate\":\"index=inception_resnet_v2_ArcFace_SGD<br>Accuracy=%{x}<br>Disparity=%{y}<extra></extra>\",\"legendgroup\":\"inception_resnet_v2_ArcFace_SGD\",\"marker\":{\"color\":\"#EF553B\",\"symbol\":\"circle\"},\"mode\":\"markers\",\"name\":\"inception_resnet_v2_ArcFace_SGD\",\"orientation\":\"v\",\"showlegend\":true,\"x\":[0.6291906757464641],\"xaxis\":\"x\",\"y\":[4.448271346254583],\"yaxis\":\"y\",\"type\":\"scatter\"},{\"hovertemplate\":\"index=inception_resnet_v2_ArcFace_SGD_0.1_cosine<br>Accuracy=%{x}<br>Disparity=%{y}<extra></extra>\",\"legendgroup\":\"inception_resnet_v2_ArcFace_SGD_0.1_cosine\",\"marker\":{\"color\":\"#00cc96\",\"symbol\":\"circle\"},\"mode\":\"markers\",\"name\":\"inception_resnet_v2_ArcFace_SGD_0.1_cosine\",\"orientation\":\"v\",\"showlegend\":true,\"x\":[0.7663698271346254],\"xaxis\":\"x\",\"y\":[2.4223415400733366],\"yaxis\":\"y\",\"type\":\"scatter\"},{\"hovertemplate\":\"index=inception_resnet_v2_CosFace_AdamW<br>Accuracy=%{x}<br>Disparity=%{y}<extra></extra>\",\"legendgroup\":\"inception_resnet_v2_CosFace_AdamW\",\"marker\":{\"color\":\"#ab63fa\",\"symbol\":\"circle\"},\"mode\":\"markers\",\"name\":\"inception_resnet_v2_CosFace_AdamW\",\"orientation\":\"v\",\"showlegend\":true,\"x\":[0.3449449973808277],\"xaxis\":\"x\",\"y\":[7.024751178627552],\"yaxis\":\"y\",\"type\":\"scatter\"},{\"hovertemplate\":\"index=inception_resnet_v2_CosFace_AdamW_0.001_cosine<br>Accuracy=%{x}<br>Disparity=%{y}<extra></extra>\",\"legendgroup\":\"inception_resnet_v2_CosFace_AdamW_0.001_cosine\",\"marker\":{\"color\":\"#FFA15A\",\"symbol\":\"circle\"},\"mode\":\"markers\",\"name\":\"inception_resnet_v2_CosFace_AdamW_0.001_cosine\",\"orientation\":\"v\",\"showlegend\":true,\"x\":[0.7885018334206391],\"xaxis\":\"x\",\"y\":[0.07242011524358283],\"yaxis\":\"y\",\"type\":\"scatter\"},{\"hovertemplate\":\"index=inception_resnet_v2_CosFace_RMSProp<br>Accuracy=%{x}<br>Disparity=%{y}<extra></extra>\",\"legendgroup\":\"inception_resnet_v2_CosFace_RMSProp\",\"marker\":{\"color\":\"#19d3f3\",\"symbol\":\"circle\"},\"mode\":\"markers\",\"name\":\"inception_resnet_v2_CosFace_RMSProp\",\"orientation\":\"v\",\"showlegend\":true,\"x\":[0.0],\"xaxis\":\"x\",\"y\":[9.567705605028777],\"yaxis\":\"y\",\"type\":\"scatter\"},{\"hovertemplate\":\"index=inception_resnet_v2_CosFace_SGD<br>Accuracy=%{x}<br>Disparity=%{y}<extra></extra>\",\"legendgroup\":\"inception_resnet_v2_CosFace_SGD\",\"marker\":{\"color\":\"#FF6692\",\"symbol\":\"circle\"},\"mode\":\"markers\",\"name\":\"inception_resnet_v2_CosFace_SGD\",\"orientation\":\"v\",\"showlegend\":true,\"x\":[0.8175746464117339],\"xaxis\":\"x\",\"y\":[1.6018858040859092],\"yaxis\":\"y\",\"type\":\"scatter\"},{\"hovertemplate\":\"index=inception_resnet_v2_CosFace_SGD_0.1_cosine<br>Accuracy=%{x}<br>Disparity=%{y}<extra></extra>\",\"legendgroup\":\"inception_resnet_v2_CosFace_SGD_0.1_cosine\",\"marker\":{\"color\":\"#B6E880\",\"symbol\":\"circle\"},\"mode\":\"markers\",\"name\":\"inception_resnet_v2_CosFace_SGD_0.1_cosine\",\"orientation\":\"v\",\"showlegend\":true,\"x\":[0.7990440020953379],\"xaxis\":\"x\",\"y\":[0.313383970665269],\"yaxis\":\"y\",\"type\":\"scatter\"},{\"hovertemplate\":\"index=inception_resnet_v2_MagFace_AdamW<br>Accuracy=%{x}<br>Disparity=%{y}<extra></extra>\",\"legendgroup\":\"inception_resnet_v2_MagFace_AdamW\",\"marker\":{\"color\":\"#FF97FF\",\"symbol\":\"circle\"},\"mode\":\"markers\",\"name\":\"inception_resnet_v2_MagFace_AdamW\",\"orientation\":\"v\",\"showlegend\":true,\"x\":[0.6820324777370351],\"xaxis\":\"x\",\"y\":[2.7663698271346258],\"yaxis\":\"y\",\"type\":\"scatter\"},{\"hovertemplate\":\"index=inception_resnet_v2_MagFace_AdamW_0.001_cosine<br>Accuracy=%{x}<br>Disparity=%{y}<extra></extra>\",\"legendgroup\":\"inception_resnet_v2_MagFace_AdamW_0.001_cosine\",\"marker\":{\"color\":\"#FECB52\",\"symbol\":\"circle\"},\"mode\":\"markers\",\"name\":\"inception_resnet_v2_MagFace_AdamW_0.001_cosine\",\"orientation\":\"v\",\"showlegend\":true,\"x\":[0.5311026715557884],\"xaxis\":\"x\",\"y\":[5.2575955997904655],\"yaxis\":\"y\",\"type\":\"scatter\"},{\"hovertemplate\":\"index=inception_resnet_v2_MagFace_SGD<br>Accuracy=%{x}<br>Disparity=%{y}<extra></extra>\",\"legendgroup\":\"inception_resnet_v2_MagFace_SGD\",\"marker\":{\"color\":\"#636efa\",\"symbol\":\"circle\"},\"mode\":\"markers\",\"name\":\"inception_resnet_v2_MagFace_SGD\",\"orientation\":\"v\",\"showlegend\":true,\"x\":[0.8442902042954427],\"xaxis\":\"x\",\"y\":[3.264798323729701],\"yaxis\":\"y\",\"type\":\"scatter\"},{\"hovertemplate\":\"index=inception_resnet_v2_MagFace_SGD_0.1_cosine<br>Accuracy=%{x}<br>Disparity=%{y}<extra></extra>\",\"legendgroup\":\"inception_resnet_v2_MagFace_SGD_0.1_cosine\",\"marker\":{\"color\":\"#EF553B\",\"symbol\":\"circle\"},\"mode\":\"markers\",\"name\":\"inception_resnet_v2_MagFace_SGD_0.1_cosine\",\"orientation\":\"v\",\"showlegend\":true,\"x\":[0.8224855945521216],\"xaxis\":\"x\",\"y\":[2.936485070717653],\"yaxis\":\"y\",\"type\":\"scatter\"},{\"hovertemplate\":\"index=inception_v4_ArcFace_AdamW<br>Accuracy=%{x}<br>Disparity=%{y}<extra></extra>\",\"legendgroup\":\"inception_v4_ArcFace_AdamW\",\"marker\":{\"color\":\"#00cc96\",\"symbol\":\"circle\"},\"mode\":\"markers\",\"name\":\"inception_v4_ArcFace_AdamW\",\"orientation\":\"v\",\"showlegend\":true,\"x\":[0.6633053954950235],\"xaxis\":\"x\",\"y\":[2.6096123624934524],\"yaxis\":\"y\",\"type\":\"scatter\"},{\"hovertemplate\":\"index=inception_v4_ArcFace_AdamW_0.001_cosine<br>Accuracy=%{x}<br>Disparity=%{y}<extra></extra>\",\"legendgroup\":\"inception_v4_ArcFace_AdamW_0.001_cosine\",\"marker\":{\"color\":\"#ab63fa\",\"symbol\":\"circle\"},\"mode\":\"markers\",\"name\":\"inception_v4_ArcFace_AdamW_0.001_cosine\",\"orientation\":\"v\",\"showlegend\":true,\"x\":[0.6136066003143007],\"xaxis\":\"x\",\"y\":[3.291513881613411],\"yaxis\":\"y\",\"type\":\"scatter\"},{\"hovertemplate\":\"index=inception_v4_ArcFace_SGD<br>Accuracy=%{x}<br>Disparity=%{y}<extra></extra>\",\"legendgroup\":\"inception_v4_ArcFace_SGD\",\"marker\":{\"color\":\"#FFA15A\",\"symbol\":\"circle\"},\"mode\":\"markers\",\"name\":\"inception_v4_ArcFace_SGD\",\"orientation\":\"v\",\"showlegend\":true,\"x\":[0.3784049240440021],\"xaxis\":\"x\",\"y\":[18.130565741225773],\"yaxis\":\"y\",\"type\":\"scatter\"},{\"hovertemplate\":\"index=inception_v4_ArcFace_SGD_0.1_cosine<br>Accuracy=%{x}<br>Disparity=%{y}<extra></extra>\",\"legendgroup\":\"inception_v4_ArcFace_SGD_0.1_cosine\",\"marker\":{\"color\":\"#19d3f3\",\"symbol\":\"circle\"},\"mode\":\"markers\",\"name\":\"inception_v4_ArcFace_SGD_0.1_cosine\",\"orientation\":\"v\",\"showlegend\":true,\"x\":[0.44146149816657937],\"xaxis\":\"x\",\"y\":[8.598611838658984],\"yaxis\":\"y\",\"type\":\"scatter\"},{\"hovertemplate\":\"index=inception_v4_CosFace_AdamW<br>Accuracy=%{x}<br>Disparity=%{y}<extra></extra>\",\"legendgroup\":\"inception_v4_CosFace_AdamW\",\"marker\":{\"color\":\"#FF6692\",\"symbol\":\"circle\"},\"mode\":\"markers\",\"name\":\"inception_v4_CosFace_AdamW\",\"orientation\":\"v\",\"showlegend\":true,\"x\":[0.2814955474070194],\"xaxis\":\"x\",\"y\":[6.4559979046621265],\"yaxis\":\"y\",\"type\":\"scatter\"},{\"hovertemplate\":\"index=inception_v4_CosFace_AdamW_0.001_cosine<br>Accuracy=%{x}<br>Disparity=%{y}<extra></extra>\",\"legendgroup\":\"inception_v4_CosFace_AdamW_0.001_cosine\",\"marker\":{\"color\":\"#B6E880\",\"symbol\":\"circle\"},\"mode\":\"markers\",\"name\":\"inception_v4_CosFace_AdamW_0.001_cosine\",\"orientation\":\"v\",\"showlegend\":true,\"x\":[0.3918936616029335],\"xaxis\":\"x\",\"y\":[8.628339444735463],\"yaxis\":\"y\",\"type\":\"scatter\"},{\"hovertemplate\":\"index=inception_v4_CosFace_RMSProp<br>Accuracy=%{x}<br>Disparity=%{y}<extra></extra>\",\"legendgroup\":\"inception_v4_CosFace_RMSProp\",\"marker\":{\"color\":\"#FF97FF\",\"symbol\":\"circle\"},\"mode\":\"markers\",\"name\":\"inception_v4_CosFace_RMSProp\",\"orientation\":\"v\",\"showlegend\":true,\"x\":[0.0],\"xaxis\":\"x\",\"y\":[0.1571503404924215],\"yaxis\":\"y\",\"type\":\"scatter\"},{\"hovertemplate\":\"index=inception_v4_CosFace_SGD<br>Accuracy=%{x}<br>Disparity=%{y}<extra></extra>\",\"legendgroup\":\"inception_v4_CosFace_SGD\",\"marker\":{\"color\":\"#FECB52\",\"symbol\":\"circle\"},\"mode\":\"markers\",\"name\":\"inception_v4_CosFace_SGD\",\"orientation\":\"v\",\"showlegend\":true,\"x\":[0.4126506024096386],\"xaxis\":\"x\",\"y\":[19.196437925615506],\"yaxis\":\"y\",\"type\":\"scatter\"},{\"hovertemplate\":\"index=inception_v4_CosFace_SGD_0.1_cosine<br>Accuracy=%{x}<br>Disparity=%{y}<extra></extra>\",\"legendgroup\":\"inception_v4_CosFace_SGD_0.1_cosine\",\"marker\":{\"color\":\"#636efa\",\"symbol\":\"circle\"},\"mode\":\"markers\",\"name\":\"inception_v4_CosFace_SGD_0.1_cosine\",\"orientation\":\"v\",\"showlegend\":true,\"x\":[0.5387637506547931],\"xaxis\":\"x\",\"y\":[6.307752750130959],\"yaxis\":\"y\",\"type\":\"scatter\"},{\"hovertemplate\":\"index=inception_v4_MagFace_AdamW<br>Accuracy=%{x}<br>Disparity=%{y}<extra></extra>\",\"legendgroup\":\"inception_v4_MagFace_AdamW\",\"marker\":{\"color\":\"#EF553B\",\"symbol\":\"circle\"},\"mode\":\"markers\",\"name\":\"inception_v4_MagFace_AdamW\",\"orientation\":\"v\",\"showlegend\":true,\"x\":[0.729766893661603],\"xaxis\":\"x\",\"y\":[2.09180199057098],\"yaxis\":\"y\",\"type\":\"scatter\"},{\"hovertemplate\":\"index=inception_v4_MagFace_AdamW_0.001_cosine<br>Accuracy=%{x}<br>Disparity=%{y}<extra></extra>\",\"legendgroup\":\"inception_v4_MagFace_AdamW_0.001_cosine\",\"marker\":{\"color\":\"#00cc96\",\"symbol\":\"circle\"},\"mode\":\"markers\",\"name\":\"inception_v4_MagFace_AdamW_0.001_cosine\",\"orientation\":\"v\",\"showlegend\":true,\"x\":[0.6744368779465689],\"xaxis\":\"x\",\"y\":[3.2420115243583023],\"yaxis\":\"y\",\"type\":\"scatter\"},{\"hovertemplate\":\"index=inception_v4_MagFace_SGD<br>Accuracy=%{x}<br>Disparity=%{y}<extra></extra>\",\"legendgroup\":\"inception_v4_MagFace_SGD\",\"marker\":{\"color\":\"#ab63fa\",\"symbol\":\"circle\"},\"mode\":\"markers\",\"name\":\"inception_v4_MagFace_SGD\",\"orientation\":\"v\",\"showlegend\":true,\"x\":[0.5758905185961236],\"xaxis\":\"x\",\"y\":[5.74476165531692],\"yaxis\":\"y\",\"type\":\"scatter\"},{\"hovertemplate\":\"index=inception_v4_MagFace_SGD_0.1_cosine<br>Accuracy=%{x}<br>Disparity=%{y}<extra></extra>\",\"legendgroup\":\"inception_v4_MagFace_SGD_0.1_cosine\",\"marker\":{\"color\":\"#FFA15A\",\"symbol\":\"circle\"},\"mode\":\"markers\",\"name\":\"inception_v4_MagFace_SGD_0.1_cosine\",\"orientation\":\"v\",\"showlegend\":true,\"x\":[0.6630434782608695],\"xaxis\":\"x\",\"y\":[2.9773441592456784],\"yaxis\":\"y\",\"type\":\"scatter\"},{\"hovertemplate\":\"index=jx_nest_base_ArcFace_AdamW_0.001_cosine<br>Accuracy=%{x}<br>Disparity=%{y}<extra></extra>\",\"legendgroup\":\"jx_nest_base_ArcFace_AdamW_0.001_cosine\",\"marker\":{\"color\":\"#19d3f3\",\"symbol\":\"circle\"},\"mode\":\"markers\",\"name\":\"jx_nest_base_ArcFace_AdamW_0.001_cosine\",\"orientation\":\"v\",\"showlegend\":true,\"x\":[0.0],\"xaxis\":\"x\",\"y\":[0.0],\"yaxis\":\"y\",\"type\":\"scatter\"},{\"hovertemplate\":\"index=jx_nest_base_ArcFace_SGD_0.1_cosine<br>Accuracy=%{x}<br>Disparity=%{y}<extra></extra>\",\"legendgroup\":\"jx_nest_base_ArcFace_SGD_0.1_cosine\",\"marker\":{\"color\":\"#FF6692\",\"symbol\":\"circle\"},\"mode\":\"markers\",\"name\":\"jx_nest_base_ArcFace_SGD_0.1_cosine\",\"orientation\":\"v\",\"showlegend\":true,\"x\":[0.0],\"xaxis\":\"x\",\"y\":[0.0],\"yaxis\":\"y\",\"type\":\"scatter\"},{\"hovertemplate\":\"index=jx_nest_base_CosFace_AdamW_0.001_cosine<br>Accuracy=%{x}<br>Disparity=%{y}<extra></extra>\",\"legendgroup\":\"jx_nest_base_CosFace_AdamW_0.001_cosine\",\"marker\":{\"color\":\"#B6E880\",\"symbol\":\"circle\"},\"mode\":\"markers\",\"name\":\"jx_nest_base_CosFace_AdamW_0.001_cosine\",\"orientation\":\"v\",\"showlegend\":true,\"x\":[0.8673389209009953],\"xaxis\":\"x\",\"y\":[3.6498166579360927],\"yaxis\":\"y\",\"type\":\"scatter\"},{\"hovertemplate\":\"index=jx_nest_base_CosFace_SGD_0.1_cosine<br>Accuracy=%{x}<br>Disparity=%{y}<extra></extra>\",\"legendgroup\":\"jx_nest_base_CosFace_SGD_0.1_cosine\",\"marker\":{\"color\":\"#FF97FF\",\"symbol\":\"circle\"},\"mode\":\"markers\",\"name\":\"jx_nest_base_CosFace_SGD_0.1_cosine\",\"orientation\":\"v\",\"showlegend\":true,\"x\":[0.0],\"xaxis\":\"x\",\"y\":[0.0],\"yaxis\":\"y\",\"type\":\"scatter\"},{\"hovertemplate\":\"index=jx_nest_base_MagFace_AdamW_0.001_cosine<br>Accuracy=%{x}<br>Disparity=%{y}<extra></extra>\",\"legendgroup\":\"jx_nest_base_MagFace_AdamW_0.001_cosine\",\"marker\":{\"color\":\"#FECB52\",\"symbol\":\"circle\"},\"mode\":\"markers\",\"name\":\"jx_nest_base_MagFace_AdamW_0.001_cosine\",\"orientation\":\"v\",\"showlegend\":true,\"x\":[0.0],\"xaxis\":\"x\",\"y\":[0.0],\"yaxis\":\"y\",\"type\":\"scatter\"},{\"hovertemplate\":\"index=vgg19_ArcFace_SGD<br>Accuracy=%{x}<br>Disparity=%{y}<extra></extra>\",\"legendgroup\":\"vgg19_ArcFace_SGD\",\"marker\":{\"color\":\"#636efa\",\"symbol\":\"circle\"},\"mode\":\"markers\",\"name\":\"vgg19_ArcFace_SGD\",\"orientation\":\"v\",\"showlegend\":true,\"x\":[0.6035227867993714],\"xaxis\":\"x\",\"y\":[3.7747511786275547],\"yaxis\":\"y\",\"type\":\"scatter\"},{\"hovertemplate\":\"index=jx_nest_base_MagFace_SGD_0.1_cosine<br>Accuracy=%{x}<br>Disparity=%{y}<extra></extra>\",\"legendgroup\":\"jx_nest_base_MagFace_SGD_0.1_cosine\",\"marker\":{\"color\":\"#EF553B\",\"symbol\":\"circle\"},\"mode\":\"markers\",\"name\":\"jx_nest_base_MagFace_SGD_0.1_cosine\",\"orientation\":\"v\",\"showlegend\":true,\"x\":[0.0],\"xaxis\":\"x\",\"y\":[0.0],\"yaxis\":\"y\",\"type\":\"scatter\"},{\"hovertemplate\":\"index=legacy_senet154_ArcFace_AdamW<br>Accuracy=%{x}<br>Disparity=%{y}<extra></extra>\",\"legendgroup\":\"legacy_senet154_ArcFace_AdamW\",\"marker\":{\"color\":\"#00cc96\",\"symbol\":\"circle\"},\"mode\":\"markers\",\"name\":\"legacy_senet154_ArcFace_AdamW\",\"orientation\":\"v\",\"showlegend\":true,\"x\":[0.7569408067050812],\"xaxis\":\"x\",\"y\":[2.346123624934521],\"yaxis\":\"y\",\"type\":\"scatter\"},{\"hovertemplate\":\"index=legacy_senet154_ArcFace_AdamW_0.001_cosine<br>Accuracy=%{x}<br>Disparity=%{y}<extra></extra>\",\"legendgroup\":\"legacy_senet154_ArcFace_AdamW_0.001_cosine\",\"marker\":{\"color\":\"#ab63fa\",\"symbol\":\"circle\"},\"mode\":\"markers\",\"name\":\"legacy_senet154_ArcFace_AdamW_0.001_cosine\",\"orientation\":\"v\",\"showlegend\":true,\"x\":[0.5202985856469355],\"xaxis\":\"x\",\"y\":[4.150078575170245],\"yaxis\":\"y\",\"type\":\"scatter\"},{\"hovertemplate\":\"index=legacy_senet154_ArcFace_SGD<br>Accuracy=%{x}<br>Disparity=%{y}<extra></extra>\",\"legendgroup\":\"legacy_senet154_ArcFace_SGD\",\"marker\":{\"color\":\"#FFA15A\",\"symbol\":\"circle\"},\"mode\":\"markers\",\"name\":\"legacy_senet154_ArcFace_SGD\",\"orientation\":\"v\",\"showlegend\":true,\"x\":[0.0],\"xaxis\":\"x\",\"y\":[0.0],\"yaxis\":\"y\",\"type\":\"scatter\"},{\"hovertemplate\":\"index=legacy_senet154_ArcFace_SGD_0.1_cosine<br>Accuracy=%{x}<br>Disparity=%{y}<extra></extra>\",\"legendgroup\":\"legacy_senet154_ArcFace_SGD_0.1_cosine\",\"marker\":{\"color\":\"#19d3f3\",\"symbol\":\"circle\"},\"mode\":\"markers\",\"name\":\"legacy_senet154_ArcFace_SGD_0.1_cosine\",\"orientation\":\"v\",\"showlegend\":true,\"x\":[0.44820586694604503],\"xaxis\":\"x\",\"y\":[2.3926139339968557],\"yaxis\":\"y\",\"type\":\"scatter\"},{\"hovertemplate\":\"index=legacy_senet154_CosFace_AdamW<br>Accuracy=%{x}<br>Disparity=%{y}<extra></extra>\",\"legendgroup\":\"legacy_senet154_CosFace_AdamW\",\"marker\":{\"color\":\"#FF6692\",\"symbol\":\"circle\"},\"mode\":\"markers\",\"name\":\"legacy_senet154_CosFace_AdamW\",\"orientation\":\"v\",\"showlegend\":true,\"x\":[0.7721320062860136],\"xaxis\":\"x\",\"y\":[1.8167888947092727],\"yaxis\":\"y\",\"type\":\"scatter\"},{\"hovertemplate\":\"index=legacy_senet154_CosFace_AdamW_0.001_cosine<br>Accuracy=%{x}<br>Disparity=%{y}<extra></extra>\",\"legendgroup\":\"legacy_senet154_CosFace_AdamW_0.001_cosine\",\"marker\":{\"color\":\"#B6E880\",\"symbol\":\"circle\"},\"mode\":\"markers\",\"name\":\"legacy_senet154_CosFace_AdamW_0.001_cosine\",\"orientation\":\"v\",\"showlegend\":true,\"x\":[0.5456390780513358],\"xaxis\":\"x\",\"y\":[7.168936616029335],\"yaxis\":\"y\",\"type\":\"scatter\"},{\"hovertemplate\":\"index=legacy_senet154_CosFace_SGD<br>Accuracy=%{x}<br>Disparity=%{y}<extra></extra>\",\"legendgroup\":\"legacy_senet154_CosFace_SGD\",\"marker\":{\"color\":\"#FF97FF\",\"symbol\":\"circle\"},\"mode\":\"markers\",\"name\":\"legacy_senet154_CosFace_SGD\",\"orientation\":\"v\",\"showlegend\":true,\"x\":[0.8014667365112624],\"xaxis\":\"x\",\"y\":[2.4541644840230488],\"yaxis\":\"y\",\"type\":\"scatter\"},{\"hovertemplate\":\"index=legacy_senet154_CosFace_SGD_0.1_cosine<br>Accuracy=%{x}<br>Disparity=%{y}<extra></extra>\",\"legendgroup\":\"legacy_senet154_CosFace_SGD_0.1_cosine\",\"marker\":{\"color\":\"#FECB52\",\"symbol\":\"circle\"},\"mode\":\"markers\",\"name\":\"legacy_senet154_CosFace_SGD_0.1_cosine\",\"orientation\":\"v\",\"showlegend\":true,\"x\":[0.7341540073336825],\"xaxis\":\"x\",\"y\":[3.1970927187008904],\"yaxis\":\"y\",\"type\":\"scatter\"},{\"hovertemplate\":\"index=legacy_senet154_MagFace_AdamW<br>Accuracy=%{x}<br>Disparity=%{y}<extra></extra>\",\"legendgroup\":\"legacy_senet154_MagFace_AdamW\",\"marker\":{\"color\":\"#636efa\",\"symbol\":\"circle\"},\"mode\":\"markers\",\"name\":\"legacy_senet154_MagFace_AdamW\",\"orientation\":\"v\",\"showlegend\":true,\"x\":[0.8154138292299633],\"xaxis\":\"x\",\"y\":[1.6530906233630174],\"yaxis\":\"y\",\"type\":\"scatter\"},{\"hovertemplate\":\"index=legacy_senet154_MagFace_AdamW_0.001_cosine<br>Accuracy=%{x}<br>Disparity=%{y}<extra></extra>\",\"legendgroup\":\"legacy_senet154_MagFace_AdamW_0.001_cosine\",\"marker\":{\"color\":\"#EF553B\",\"symbol\":\"circle\"},\"mode\":\"markers\",\"name\":\"legacy_senet154_MagFace_AdamW_0.001_cosine\",\"orientation\":\"v\",\"showlegend\":true,\"x\":[0.5726820324777371],\"xaxis\":\"x\",\"y\":[3.9269250916710323],\"yaxis\":\"y\",\"type\":\"scatter\"},{\"hovertemplate\":\"index=legacy_senet154_MagFace_SGD<br>Accuracy=%{x}<br>Disparity=%{y}<extra></extra>\",\"legendgroup\":\"legacy_senet154_MagFace_SGD\",\"marker\":{\"color\":\"#00cc96\",\"symbol\":\"circle\"},\"mode\":\"markers\",\"name\":\"legacy_senet154_MagFace_SGD\",\"orientation\":\"v\",\"showlegend\":true,\"x\":[0.6019512833944474],\"xaxis\":\"x\",\"y\":[3.7073074908328962],\"yaxis\":\"y\",\"type\":\"scatter\"},{\"hovertemplate\":\"index=legacy_senet154_MagFace_SGD_0.1_cosine<br>Accuracy=%{x}<br>Disparity=%{y}<extra></extra>\",\"legendgroup\":\"legacy_senet154_MagFace_SGD_0.1_cosine\",\"marker\":{\"color\":\"#ab63fa\",\"symbol\":\"circle\"},\"mode\":\"markers\",\"name\":\"legacy_senet154_MagFace_SGD_0.1_cosine\",\"orientation\":\"v\",\"showlegend\":true,\"x\":[0.5996595075955998],\"xaxis\":\"x\",\"y\":[3.9235201676270304],\"yaxis\":\"y\",\"type\":\"scatter\"},{\"hovertemplate\":\"index=mobilenetv3_large_100_ArcFace_AdamW<br>Accuracy=%{x}<br>Disparity=%{y}<extra></extra>\",\"legendgroup\":\"mobilenetv3_large_100_ArcFace_AdamW\",\"marker\":{\"color\":\"#FFA15A\",\"symbol\":\"circle\"},\"mode\":\"markers\",\"name\":\"mobilenetv3_large_100_ArcFace_AdamW\",\"orientation\":\"v\",\"showlegend\":true,\"x\":[0.0],\"xaxis\":\"x\",\"y\":[0.0],\"yaxis\":\"y\",\"type\":\"scatter\"},{\"hovertemplate\":\"index=mobilenetv3_large_100_ArcFace_AdamW_0.001_cosine<br>Accuracy=%{x}<br>Disparity=%{y}<extra></extra>\",\"legendgroup\":\"mobilenetv3_large_100_ArcFace_AdamW_0.001_cosine\",\"marker\":{\"color\":\"#19d3f3\",\"symbol\":\"circle\"},\"mode\":\"markers\",\"name\":\"mobilenetv3_large_100_ArcFace_AdamW_0.001_cosine\",\"orientation\":\"v\",\"showlegend\":true,\"x\":[0.009756416972236772],\"xaxis\":\"x\",\"y\":[8.59154007333683],\"yaxis\":\"y\",\"type\":\"scatter\"},{\"hovertemplate\":\"index=mobilenetv3_large_100_ArcFace_SGD<br>Accuracy=%{x}<br>Disparity=%{y}<extra></extra>\",\"legendgroup\":\"mobilenetv3_large_100_ArcFace_SGD\",\"marker\":{\"color\":\"#FF6692\",\"symbol\":\"circle\"},\"mode\":\"markers\",\"name\":\"mobilenetv3_large_100_ArcFace_SGD\",\"orientation\":\"v\",\"showlegend\":true,\"x\":[0.08531953902566788],\"xaxis\":\"x\",\"y\":[18.967522262964906],\"yaxis\":\"y\",\"type\":\"scatter\"},{\"hovertemplate\":\"index=mobilenetv3_large_100_ArcFace_SGD_0.1_cosine<br>Accuracy=%{x}<br>Disparity=%{y}<extra></extra>\",\"legendgroup\":\"mobilenetv3_large_100_ArcFace_SGD_0.1_cosine\",\"marker\":{\"color\":\"#B6E880\",\"symbol\":\"circle\"},\"mode\":\"markers\",\"name\":\"mobilenetv3_large_100_ArcFace_SGD_0.1_cosine\",\"orientation\":\"v\",\"showlegend\":true,\"x\":[0.06364588789942378],\"xaxis\":\"x\",\"y\":[19.825301204819283],\"yaxis\":\"y\",\"type\":\"scatter\"},{\"hovertemplate\":\"index=mobilenetv3_large_100_CosFace_AdamW<br>Accuracy=%{x}<br>Disparity=%{y}<extra></extra>\",\"legendgroup\":\"mobilenetv3_large_100_CosFace_AdamW\",\"marker\":{\"color\":\"#FF97FF\",\"symbol\":\"circle\"},\"mode\":\"markers\",\"name\":\"mobilenetv3_large_100_CosFace_AdamW\",\"orientation\":\"v\",\"showlegend\":true,\"x\":[0.782608695652174],\"xaxis\":\"x\",\"y\":[1.3607909900471453],\"yaxis\":\"y\",\"type\":\"scatter\"},{\"hovertemplate\":\"index=mobilenetv3_large_100_CosFace_AdamW_0.001_cosine<br>Accuracy=%{x}<br>Disparity=%{y}<extra></extra>\",\"legendgroup\":\"mobilenetv3_large_100_CosFace_AdamW_0.001_cosine\",\"marker\":{\"color\":\"#FECB52\",\"symbol\":\"circle\"},\"mode\":\"markers\",\"name\":\"mobilenetv3_large_100_CosFace_AdamW_0.001_cosine\",\"orientation\":\"v\",\"showlegend\":true,\"x\":[0.8564693556836039],\"xaxis\":\"x\",\"y\":[2.939366160293347],\"yaxis\":\"y\",\"type\":\"scatter\"},{\"hovertemplate\":\"index=mobilenetv3_large_100_CosFace_RMSpropTF<br>Accuracy=%{x}<br>Disparity=%{y}<extra></extra>\",\"legendgroup\":\"mobilenetv3_large_100_CosFace_RMSpropTF\",\"marker\":{\"color\":\"#636efa\",\"symbol\":\"circle\"},\"mode\":\"markers\",\"name\":\"mobilenetv3_large_100_CosFace_RMSpropTF\",\"orientation\":\"v\",\"showlegend\":true,\"x\":[0.7873886851754845],\"xaxis\":\"x\",\"y\":[1.6486380303823989],\"yaxis\":\"y\",\"type\":\"scatter\"},{\"hovertemplate\":\"index=mobilenetv3_large_100_CosFace_SGD<br>Accuracy=%{x}<br>Disparity=%{y}<extra></extra>\",\"legendgroup\":\"mobilenetv3_large_100_CosFace_SGD\",\"marker\":{\"color\":\"#EF553B\",\"symbol\":\"circle\"},\"mode\":\"markers\",\"name\":\"mobilenetv3_large_100_CosFace_SGD\",\"orientation\":\"v\",\"showlegend\":true,\"x\":[0.8637375589313777],\"xaxis\":\"x\",\"y\":[2.190020953378733],\"yaxis\":\"y\",\"type\":\"scatter\"},{\"hovertemplate\":\"index=mobilenetv3_large_100_CosFace_SGD_0.1_cosine<br>Accuracy=%{x}<br>Disparity=%{y}<extra></extra>\",\"legendgroup\":\"mobilenetv3_large_100_CosFace_SGD_0.1_cosine\",\"marker\":{\"color\":\"#00cc96\",\"symbol\":\"circle\"},\"mode\":\"markers\",\"name\":\"mobilenetv3_large_100_CosFace_SGD_0.1_cosine\",\"orientation\":\"v\",\"showlegend\":true,\"x\":[0.8652435830277633],\"xaxis\":\"x\",\"y\":[1.3036930330015712],\"yaxis\":\"y\",\"type\":\"scatter\"},{\"hovertemplate\":\"index=mobilenetv3_large_100_MagFace_AdamW<br>Accuracy=%{x}<br>Disparity=%{y}<extra></extra>\",\"legendgroup\":\"mobilenetv3_large_100_MagFace_AdamW\",\"marker\":{\"color\":\"#ab63fa\",\"symbol\":\"circle\"},\"mode\":\"markers\",\"name\":\"mobilenetv3_large_100_MagFace_AdamW\",\"orientation\":\"v\",\"showlegend\":true,\"x\":[0.5817836563645888],\"xaxis\":\"x\",\"y\":[3.6909376636982723],\"yaxis\":\"y\",\"type\":\"scatter\"},{\"hovertemplate\":\"index=mobilenetv3_large_100_MagFace_AdamW_0.001_cosine<br>Accuracy=%{x}<br>Disparity=%{y}<extra></extra>\",\"legendgroup\":\"mobilenetv3_large_100_MagFace_AdamW_0.001_cosine\",\"marker\":{\"color\":\"#FFA15A\",\"symbol\":\"circle\"},\"mode\":\"markers\",\"name\":\"mobilenetv3_large_100_MagFace_AdamW_0.001_cosine\",\"orientation\":\"v\",\"showlegend\":true,\"x\":[0.5661341016238869],\"xaxis\":\"x\",\"y\":[3.785751702462022],\"yaxis\":\"y\",\"type\":\"scatter\"},{\"hovertemplate\":\"index=mobilenetv3_large_100_MagFace_SGD<br>Accuracy=%{x}<br>Disparity=%{y}<extra></extra>\",\"legendgroup\":\"mobilenetv3_large_100_MagFace_SGD\",\"marker\":{\"color\":\"#19d3f3\",\"symbol\":\"circle\"},\"mode\":\"markers\",\"name\":\"mobilenetv3_large_100_MagFace_SGD\",\"orientation\":\"v\",\"showlegend\":true,\"x\":[0.8633446830801467],\"xaxis\":\"x\",\"y\":[2.535096909376637],\"yaxis\":\"y\",\"type\":\"scatter\"},{\"hovertemplate\":\"index=mobilenetv3_large_100_MagFace_SGD_0.1_cosine<br>Accuracy=%{x}<br>Disparity=%{y}<extra></extra>\",\"legendgroup\":\"mobilenetv3_large_100_MagFace_SGD_0.1_cosine\",\"marker\":{\"color\":\"#FF6692\",\"symbol\":\"circle\"},\"mode\":\"markers\",\"name\":\"mobilenetv3_large_100_MagFace_SGD_0.1_cosine\",\"orientation\":\"v\",\"showlegend\":true,\"x\":[0.8587611314824516],\"xaxis\":\"x\",\"y\":[2.131351492928235],\"yaxis\":\"y\",\"type\":\"scatter\"},{\"hovertemplate\":\"index=resnet50_ArcFace_SGD_0.1_cosine<br>Accuracy=%{x}<br>Disparity=%{y}<extra></extra>\",\"legendgroup\":\"resnet50_ArcFace_SGD_0.1_cosine\",\"marker\":{\"color\":\"#B6E880\",\"symbol\":\"circle\"},\"mode\":\"markers\",\"name\":\"resnet50_ArcFace_SGD_0.1_cosine\",\"orientation\":\"v\",\"showlegend\":true,\"x\":[0.6594421162912519],\"xaxis\":\"x\",\"y\":[4.015060240963856],\"yaxis\":\"y\",\"type\":\"scatter\"},{\"hovertemplate\":\"index=resnet50_CosFace_AdamW_0.001_cosine<br>Accuracy=%{x}<br>Disparity=%{y}<extra></extra>\",\"legendgroup\":\"resnet50_CosFace_AdamW_0.001_cosine\",\"marker\":{\"color\":\"#FF97FF\",\"symbol\":\"circle\"},\"mode\":\"markers\",\"name\":\"resnet50_CosFace_AdamW_0.001_cosine\",\"orientation\":\"v\",\"showlegend\":true,\"x\":[0.6728653745416449],\"xaxis\":\"x\",\"y\":[0.14745940282870507],\"yaxis\":\"y\",\"type\":\"scatter\"},{\"hovertemplate\":\"index=resnet50_MagFace_AdamW_0.001_cosine<br>Accuracy=%{x}<br>Disparity=%{y}<extra></extra>\",\"legendgroup\":\"resnet50_MagFace_AdamW_0.001_cosine\",\"marker\":{\"color\":\"#FECB52\",\"symbol\":\"circle\"},\"mode\":\"markers\",\"name\":\"resnet50_MagFace_AdamW_0.001_cosine\",\"orientation\":\"v\",\"showlegend\":true,\"x\":[0.7002357255107386],\"xaxis\":\"x\",\"y\":[2.7204033525405973],\"yaxis\":\"y\",\"type\":\"scatter\"},{\"hovertemplate\":\"index=resnet50_MagFace_SGD_0.1_cosine<br>Accuracy=%{x}<br>Disparity=%{y}<extra></extra>\",\"legendgroup\":\"resnet50_MagFace_SGD_0.1_cosine\",\"marker\":{\"color\":\"#636efa\",\"symbol\":\"circle\"},\"mode\":\"markers\",\"name\":\"resnet50_MagFace_SGD_0.1_cosine\",\"orientation\":\"v\",\"showlegend\":true,\"x\":[0.6658590885280251],\"xaxis\":\"x\",\"y\":[3.5500261917234157],\"yaxis\":\"y\",\"type\":\"scatter\"},{\"hovertemplate\":\"index=resnetrs101_ArcFace_AdamW<br>Accuracy=%{x}<br>Disparity=%{y}<extra></extra>\",\"legendgroup\":\"resnetrs101_ArcFace_AdamW\",\"marker\":{\"color\":\"#EF553B\",\"symbol\":\"circle\"},\"mode\":\"markers\",\"name\":\"resnetrs101_ArcFace_AdamW\",\"orientation\":\"v\",\"showlegend\":true,\"x\":[0.731862231534835],\"xaxis\":\"x\",\"y\":[2.5937663698271343],\"yaxis\":\"y\",\"type\":\"scatter\"},{\"hovertemplate\":\"index=resnetrs101_ArcFace_AdamW_0.001_cosine<br>Accuracy=%{x}<br>Disparity=%{y}<extra></extra>\",\"legendgroup\":\"resnetrs101_ArcFace_AdamW_0.001_cosine\",\"marker\":{\"color\":\"#00cc96\",\"symbol\":\"circle\"},\"mode\":\"markers\",\"name\":\"resnetrs101_ArcFace_AdamW_0.001_cosine\",\"orientation\":\"v\",\"showlegend\":true,\"x\":[0.5671817705605029],\"xaxis\":\"x\",\"y\":[4.1152435830277625],\"yaxis\":\"y\",\"type\":\"scatter\"},{\"hovertemplate\":\"index=resnetrs101_ArcFace_SGD<br>Accuracy=%{x}<br>Disparity=%{y}<extra></extra>\",\"legendgroup\":\"resnetrs101_ArcFace_SGD\",\"marker\":{\"color\":\"#ab63fa\",\"symbol\":\"circle\"},\"mode\":\"markers\",\"name\":\"resnetrs101_ArcFace_SGD\",\"orientation\":\"v\",\"showlegend\":true,\"x\":[0.0],\"xaxis\":\"x\",\"y\":[0.0],\"yaxis\":\"y\",\"type\":\"scatter\"},{\"hovertemplate\":\"index=resnetrs101_ArcFace_SGD_0.1_cosine<br>Accuracy=%{x}<br>Disparity=%{y}<extra></extra>\",\"legendgroup\":\"resnetrs101_ArcFace_SGD_0.1_cosine\",\"marker\":{\"color\":\"#FFA15A\",\"symbol\":\"circle\"},\"mode\":\"markers\",\"name\":\"resnetrs101_ArcFace_SGD_0.1_cosine\",\"orientation\":\"v\",\"showlegend\":true,\"x\":[0.6580015715034049],\"xaxis\":\"x\",\"y\":[2.597957045573599],\"yaxis\":\"y\",\"type\":\"scatter\"},{\"hovertemplate\":\"index=resnetrs101_CosFace_AdamW<br>Accuracy=%{x}<br>Disparity=%{y}<extra></extra>\",\"legendgroup\":\"resnetrs101_CosFace_AdamW\",\"marker\":{\"color\":\"#19d3f3\",\"symbol\":\"circle\"},\"mode\":\"markers\",\"name\":\"resnetrs101_CosFace_AdamW\",\"orientation\":\"v\",\"showlegend\":true,\"x\":[0.8108302776322682],\"xaxis\":\"x\",\"y\":[1.5584075432163438],\"yaxis\":\"y\",\"type\":\"scatter\"},{\"hovertemplate\":\"index=resnetrs101_CosFace_AdamW_0.001_cosine<br>Accuracy=%{x}<br>Disparity=%{y}<extra></extra>\",\"legendgroup\":\"resnetrs101_CosFace_AdamW_0.001_cosine\",\"marker\":{\"color\":\"#FF6692\",\"symbol\":\"circle\"},\"mode\":\"markers\",\"name\":\"resnetrs101_CosFace_AdamW_0.001_cosine\",\"orientation\":\"v\",\"showlegend\":true,\"x\":[0.6986642221058146],\"xaxis\":\"x\",\"y\":[1.76794133053955],\"yaxis\":\"y\",\"type\":\"scatter\"},{\"hovertemplate\":\"index=resnetrs101_CosFace_SGD<br>Accuracy=%{x}<br>Disparity=%{y}<extra></extra>\",\"legendgroup\":\"resnetrs101_CosFace_SGD\",\"marker\":{\"color\":\"#B6E880\",\"symbol\":\"circle\"},\"mode\":\"markers\",\"name\":\"resnetrs101_CosFace_SGD\",\"orientation\":\"v\",\"showlegend\":true,\"x\":[0.8721843897328444],\"xaxis\":\"x\",\"y\":[2.073467784180199],\"yaxis\":\"y\",\"type\":\"scatter\"},{\"hovertemplate\":\"index=resnetrs101_CosFace_SGD_0.1_cosine<br>Accuracy=%{x}<br>Disparity=%{y}<extra></extra>\",\"legendgroup\":\"resnetrs101_CosFace_SGD_0.1_cosine\",\"marker\":{\"color\":\"#FF97FF\",\"symbol\":\"circle\"},\"mode\":\"markers\",\"name\":\"resnetrs101_CosFace_SGD_0.1_cosine\",\"orientation\":\"v\",\"showlegend\":true,\"x\":[0.8034311157674175],\"xaxis\":\"x\",\"y\":[3.0883970665269773],\"yaxis\":\"y\",\"type\":\"scatter\"},{\"hovertemplate\":\"index=resnetrs101_MagFace_AdamW<br>Accuracy=%{x}<br>Disparity=%{y}<extra></extra>\",\"legendgroup\":\"resnetrs101_MagFace_AdamW\",\"marker\":{\"color\":\"#FECB52\",\"symbol\":\"circle\"},\"mode\":\"markers\",\"name\":\"resnetrs101_MagFace_AdamW\",\"orientation\":\"v\",\"showlegend\":true,\"x\":[0.8152828706128863],\"xaxis\":\"x\",\"y\":[1.583813514929282],\"yaxis\":\"y\",\"type\":\"scatter\"},{\"hovertemplate\":\"index=resnetrs101_MagFace_AdamW_0.001_cosine<br>Accuracy=%{x}<br>Disparity=%{y}<extra></extra>\",\"legendgroup\":\"resnetrs101_MagFace_AdamW_0.001_cosine\",\"marker\":{\"color\":\"#636efa\",\"symbol\":\"circle\"},\"mode\":\"markers\",\"name\":\"resnetrs101_MagFace_AdamW_0.001_cosine\",\"orientation\":\"v\",\"showlegend\":true,\"x\":[0.6483106338397067],\"xaxis\":\"x\",\"y\":[3.5284180199057094],\"yaxis\":\"y\",\"type\":\"scatter\"},{\"hovertemplate\":\"index=resnetrs101_MagFace_SGD<br>Accuracy=%{x}<br>Disparity=%{y}<extra></extra>\",\"legendgroup\":\"resnetrs101_MagFace_SGD\",\"marker\":{\"color\":\"#EF553B\",\"symbol\":\"circle\"},\"mode\":\"markers\",\"name\":\"resnetrs101_MagFace_SGD\",\"orientation\":\"v\",\"showlegend\":true,\"x\":[0.8289680460974332],\"xaxis\":\"x\",\"y\":[1.798192771084337],\"yaxis\":\"y\",\"type\":\"scatter\"},{\"hovertemplate\":\"index=resnetrs101_MagFace_SGD_0.1_cosine<br>Accuracy=%{x}<br>Disparity=%{y}<extra></extra>\",\"legendgroup\":\"resnetrs101_MagFace_SGD_0.1_cosine\",\"marker\":{\"color\":\"#00cc96\",\"symbol\":\"circle\"},\"mode\":\"markers\",\"name\":\"resnetrs101_MagFace_SGD_0.1_cosine\",\"orientation\":\"v\",\"showlegend\":true,\"x\":[0.590426925091671],\"xaxis\":\"x\",\"y\":[3.6727344159245687],\"yaxis\":\"y\",\"type\":\"scatter\"},{\"hovertemplate\":\"index=rexnet_200_ArcFace_AdamW<br>Accuracy=%{x}<br>Disparity=%{y}<extra></extra>\",\"legendgroup\":\"rexnet_200_ArcFace_AdamW\",\"marker\":{\"color\":\"#ab63fa\",\"symbol\":\"circle\"},\"mode\":\"markers\",\"name\":\"rexnet_200_ArcFace_AdamW\",\"orientation\":\"v\",\"showlegend\":true,\"x\":[0.058734939759036146],\"xaxis\":\"x\",\"y\":[17.006678889470933],\"yaxis\":\"y\",\"type\":\"scatter\"},{\"hovertemplate\":\"index=rexnet_200_ArcFace_AdamW_0.001_cosine<br>Accuracy=%{x}<br>Disparity=%{y}<extra></extra>\",\"legendgroup\":\"rexnet_200_ArcFace_AdamW_0.001_cosine\",\"marker\":{\"color\":\"#FFA15A\",\"symbol\":\"circle\"},\"mode\":\"markers\",\"name\":\"rexnet_200_ArcFace_AdamW_0.001_cosine\",\"orientation\":\"v\",\"showlegend\":true,\"x\":[0.6803954950235725],\"xaxis\":\"x\",\"y\":[2.5726820324777373],\"yaxis\":\"y\",\"type\":\"scatter\"},{\"hovertemplate\":\"index=rexnet_200_ArcFace_SGD<br>Accuracy=%{x}<br>Disparity=%{y}<extra></extra>\",\"legendgroup\":\"rexnet_200_ArcFace_SGD\",\"marker\":{\"color\":\"#19d3f3\",\"symbol\":\"circle\"},\"mode\":\"markers\",\"name\":\"rexnet_200_ArcFace_SGD\",\"orientation\":\"v\",\"showlegend\":true,\"x\":[0.7828706128863279],\"xaxis\":\"x\",\"y\":[2.2221058145625983],\"yaxis\":\"y\",\"type\":\"scatter\"},{\"hovertemplate\":\"index=rexnet_200_ArcFace_SGD_0.1_cosine<br>Accuracy=%{x}<br>Disparity=%{y}<extra></extra>\",\"legendgroup\":\"rexnet_200_ArcFace_SGD_0.1_cosine\",\"marker\":{\"color\":\"#FF6692\",\"symbol\":\"circle\"},\"mode\":\"markers\",\"name\":\"rexnet_200_ArcFace_SGD_0.1_cosine\",\"orientation\":\"v\",\"showlegend\":true,\"x\":[0.8129256155055002],\"xaxis\":\"x\",\"y\":[2.3833158721843897],\"yaxis\":\"y\",\"type\":\"scatter\"},{\"hovertemplate\":\"index=rexnet_200_CosFace_AdamW<br>Accuracy=%{x}<br>Disparity=%{y}<extra></extra>\",\"legendgroup\":\"rexnet_200_CosFace_AdamW\",\"marker\":{\"color\":\"#B6E880\",\"symbol\":\"circle\"},\"mode\":\"markers\",\"name\":\"rexnet_200_CosFace_AdamW\",\"orientation\":\"v\",\"showlegend\":true,\"x\":[0.030775275013095862],\"xaxis\":\"x\",\"y\":[7.476427448926131],\"yaxis\":\"y\",\"type\":\"scatter\"},{\"hovertemplate\":\"index=rexnet_200_CosFace_AdamW_0.001_cosine<br>Accuracy=%{x}<br>Disparity=%{y}<extra></extra>\",\"legendgroup\":\"rexnet_200_CosFace_AdamW_0.001_cosine\",\"marker\":{\"color\":\"#FF97FF\",\"symbol\":\"circle\"},\"mode\":\"markers\",\"name\":\"rexnet_200_CosFace_AdamW_0.001_cosine\",\"orientation\":\"v\",\"showlegend\":true,\"x\":[0.9449973808276585],\"xaxis\":\"x\",\"y\":[2.652435830277632],\"yaxis\":\"y\",\"type\":\"scatter\"},{\"hovertemplate\":\"index=rexnet_200_CosFace_SGD<br>Accuracy=%{x}<br>Disparity=%{y}<extra></extra>\",\"legendgroup\":\"rexnet_200_CosFace_SGD\",\"marker\":{\"color\":\"#FECB52\",\"symbol\":\"circle\"},\"mode\":\"markers\",\"name\":\"rexnet_200_CosFace_SGD\",\"orientation\":\"v\",\"showlegend\":true,\"x\":[0.9540335254059717],\"xaxis\":\"x\",\"y\":[2.185568360398114],\"yaxis\":\"y\",\"type\":\"scatter\"},{\"hovertemplate\":\"index=rexnet_200_CosFace_SGD_0.1_cosine<br>Accuracy=%{x}<br>Disparity=%{y}<extra></extra>\",\"legendgroup\":\"rexnet_200_CosFace_SGD_0.1_cosine\",\"marker\":{\"color\":\"#636efa\",\"symbol\":\"circle\"},\"mode\":\"markers\",\"name\":\"rexnet_200_CosFace_SGD_0.1_cosine\",\"orientation\":\"v\",\"showlegend\":true,\"x\":[0.9535096909376637],\"xaxis\":\"x\",\"y\":[2.301597695128339],\"yaxis\":\"y\",\"type\":\"scatter\"},{\"hovertemplate\":\"index=rexnet_200_MagFace_AdamW<br>Accuracy=%{x}<br>Disparity=%{y}<extra></extra>\",\"legendgroup\":\"rexnet_200_MagFace_AdamW\",\"marker\":{\"color\":\"#EF553B\",\"symbol\":\"circle\"},\"mode\":\"markers\",\"name\":\"rexnet_200_MagFace_AdamW\",\"orientation\":\"v\",\"showlegend\":true,\"x\":[0.0],\"xaxis\":\"x\",\"y\":[0.0],\"yaxis\":\"y\",\"type\":\"scatter\"},{\"hovertemplate\":\"index=rexnet_200_MagFace_AdamW_0.001_cosine<br>Accuracy=%{x}<br>Disparity=%{y}<extra></extra>\",\"legendgroup\":\"rexnet_200_MagFace_AdamW_0.001_cosine\",\"marker\":{\"color\":\"#00cc96\",\"symbol\":\"circle\"},\"mode\":\"markers\",\"name\":\"rexnet_200_MagFace_AdamW_0.001_cosine\",\"orientation\":\"v\",\"showlegend\":true,\"x\":[0.6615374541644841],\"xaxis\":\"x\",\"y\":[2.6262441068622318],\"yaxis\":\"y\",\"type\":\"scatter\"},{\"hovertemplate\":\"index=rexnet_200_MagFace_SGD<br>Accuracy=%{x}<br>Disparity=%{y}<extra></extra>\",\"legendgroup\":\"rexnet_200_MagFace_SGD\",\"marker\":{\"color\":\"#ab63fa\",\"symbol\":\"circle\"},\"mode\":\"markers\",\"name\":\"rexnet_200_MagFace_SGD\",\"orientation\":\"v\",\"showlegend\":true,\"x\":[0.907739654269251],\"xaxis\":\"x\",\"y\":[1.887375589313777],\"yaxis\":\"y\",\"type\":\"scatter\"},{\"hovertemplate\":\"index=rexnet_200_MagFace_SGD_0.1_cosine<br>Accuracy=%{x}<br>Disparity=%{y}<extra></extra>\",\"legendgroup\":\"rexnet_200_MagFace_SGD_0.1_cosine\",\"marker\":{\"color\":\"#FFA15A\",\"symbol\":\"circle\"},\"mode\":\"markers\",\"name\":\"rexnet_200_MagFace_SGD_0.1_cosine\",\"orientation\":\"v\",\"showlegend\":true,\"x\":[0.9150733368255631],\"xaxis\":\"x\",\"y\":[1.5644316396018856],\"yaxis\":\"y\",\"type\":\"scatter\"},{\"hovertemplate\":\"index=selecsls60b_ArcFace_AdamW<br>Accuracy=%{x}<br>Disparity=%{y}<extra></extra>\",\"legendgroup\":\"selecsls60b_ArcFace_AdamW\",\"marker\":{\"color\":\"#19d3f3\",\"symbol\":\"circle\"},\"mode\":\"markers\",\"name\":\"selecsls60b_ArcFace_AdamW\",\"orientation\":\"v\",\"showlegend\":true,\"x\":[0.749607124148769],\"xaxis\":\"x\",\"y\":[2.317574646411734],\"yaxis\":\"y\",\"type\":\"scatter\"},{\"hovertemplate\":\"index=selecsls60b_ArcFace_AdamW_0.001_cosine<br>Accuracy=%{x}<br>Disparity=%{y}<extra></extra>\",\"legendgroup\":\"selecsls60b_ArcFace_AdamW_0.001_cosine\",\"marker\":{\"color\":\"#FF6692\",\"symbol\":\"circle\"},\"mode\":\"markers\",\"name\":\"selecsls60b_ArcFace_AdamW_0.001_cosine\",\"orientation\":\"v\",\"showlegend\":true,\"x\":[0.7065872184389733],\"xaxis\":\"x\",\"y\":[2.397983237297014],\"yaxis\":\"y\",\"type\":\"scatter\"},{\"hovertemplate\":\"index=selecsls60b_ArcFace_SGD<br>Accuracy=%{x}<br>Disparity=%{y}<extra></extra>\",\"legendgroup\":\"selecsls60b_ArcFace_SGD\",\"marker\":{\"color\":\"#B6E880\",\"symbol\":\"circle\"},\"mode\":\"markers\",\"name\":\"selecsls60b_ArcFace_SGD\",\"orientation\":\"v\",\"showlegend\":true,\"x\":[0.6614719748559456],\"xaxis\":\"x\",\"y\":[3.2562860136196967],\"yaxis\":\"y\",\"type\":\"scatter\"},{\"hovertemplate\":\"index=selecsls60b_ArcFace_SGD_0.1_cosine<br>Accuracy=%{x}<br>Disparity=%{y}<extra></extra>\",\"legendgroup\":\"selecsls60b_ArcFace_SGD_0.1_cosine\",\"marker\":{\"color\":\"#FF97FF\",\"symbol\":\"circle\"},\"mode\":\"markers\",\"name\":\"selecsls60b_ArcFace_SGD_0.1_cosine\",\"orientation\":\"v\",\"showlegend\":true,\"x\":[0.0],\"xaxis\":\"x\",\"y\":[0.0],\"yaxis\":\"y\",\"type\":\"scatter\"},{\"hovertemplate\":\"index=selecsls60b_CosFace_Adam<br>Accuracy=%{x}<br>Disparity=%{y}<extra></extra>\",\"legendgroup\":\"selecsls60b_CosFace_Adam\",\"marker\":{\"color\":\"#FECB52\",\"symbol\":\"circle\"},\"mode\":\"markers\",\"name\":\"selecsls60b_CosFace_Adam\",\"orientation\":\"v\",\"showlegend\":true,\"x\":[0.003994237820848612],\"xaxis\":\"x\",\"y\":[23.902435830277625],\"yaxis\":\"y\",\"type\":\"scatter\"},{\"hovertemplate\":\"index=selecsls60b_CosFace_AdamW<br>Accuracy=%{x}<br>Disparity=%{y}<extra></extra>\",\"legendgroup\":\"selecsls60b_CosFace_AdamW\",\"marker\":{\"color\":\"#636efa\",\"symbol\":\"circle\"},\"mode\":\"markers\",\"name\":\"selecsls60b_CosFace_AdamW\",\"orientation\":\"v\",\"showlegend\":true,\"x\":[0.2215819800942902],\"xaxis\":\"x\",\"y\":[9.452462022001049],\"yaxis\":\"y\",\"type\":\"scatter\"},{\"hovertemplate\":\"index=selecsls60b_CosFace_AdamW_0.001_cosine<br>Accuracy=%{x}<br>Disparity=%{y}<extra></extra>\",\"legendgroup\":\"selecsls60b_CosFace_AdamW_0.001_cosine\",\"marker\":{\"color\":\"#EF553B\",\"symbol\":\"circle\"},\"mode\":\"markers\",\"name\":\"selecsls60b_CosFace_AdamW_0.001_cosine\",\"orientation\":\"v\",\"showlegend\":true,\"x\":[0.5918674698795181],\"xaxis\":\"x\",\"y\":[6.285096909376637],\"yaxis\":\"y\",\"type\":\"scatter\"},{\"hovertemplate\":\"index=selecsls60b_CosFace_SGD<br>Accuracy=%{x}<br>Disparity=%{y}<extra></extra>\",\"legendgroup\":\"selecsls60b_CosFace_SGD\",\"marker\":{\"color\":\"#00cc96\",\"symbol\":\"circle\"},\"mode\":\"markers\",\"name\":\"selecsls60b_CosFace_SGD\",\"orientation\":\"v\",\"showlegend\":true,\"x\":[0.591212676794133],\"xaxis\":\"x\",\"y\":[7.290859088528027],\"yaxis\":\"y\",\"type\":\"scatter\"},{\"hovertemplate\":\"index=selecsls60b_CosFace_SGD_0.1_cosine<br>Accuracy=%{x}<br>Disparity=%{y}<extra></extra>\",\"legendgroup\":\"selecsls60b_CosFace_SGD_0.1_cosine\",\"marker\":{\"color\":\"#ab63fa\",\"symbol\":\"circle\"},\"mode\":\"markers\",\"name\":\"selecsls60b_CosFace_SGD_0.1_cosine\",\"orientation\":\"v\",\"showlegend\":true,\"x\":[0.6149161864850707],\"xaxis\":\"x\",\"y\":[7.056574122577267],\"yaxis\":\"y\",\"type\":\"scatter\"},{\"hovertemplate\":\"index=selecsls60b_MagFace_AdamW<br>Accuracy=%{x}<br>Disparity=%{y}<extra></extra>\",\"legendgroup\":\"selecsls60b_MagFace_AdamW\",\"marker\":{\"color\":\"#FFA15A\",\"symbol\":\"circle\"},\"mode\":\"markers\",\"name\":\"selecsls60b_MagFace_AdamW\",\"orientation\":\"v\",\"showlegend\":true,\"x\":[0.8127946568884232],\"xaxis\":\"x\",\"y\":[2.5517286537454162],\"yaxis\":\"y\",\"type\":\"scatter\"},{\"hovertemplate\":\"index=selecsls60b_MagFace_AdamW_0.001_cosine<br>Accuracy=%{x}<br>Disparity=%{y}<extra></extra>\",\"legendgroup\":\"selecsls60b_MagFace_AdamW_0.001_cosine\",\"marker\":{\"color\":\"#19d3f3\",\"symbol\":\"circle\"},\"mode\":\"markers\",\"name\":\"selecsls60b_MagFace_AdamW_0.001_cosine\",\"orientation\":\"v\",\"showlegend\":true,\"x\":[0.7431901519119958],\"xaxis\":\"x\",\"y\":[2.742404400209534],\"yaxis\":\"y\",\"type\":\"scatter\"},{\"hovertemplate\":\"index=selecsls60b_MagFace_SGD<br>Accuracy=%{x}<br>Disparity=%{y}<extra></extra>\",\"legendgroup\":\"selecsls60b_MagFace_SGD\",\"marker\":{\"color\":\"#FF6692\",\"symbol\":\"circle\"},\"mode\":\"markers\",\"name\":\"selecsls60b_MagFace_SGD\",\"orientation\":\"v\",\"showlegend\":true,\"x\":[0.6940806705081194],\"xaxis\":\"x\",\"y\":[2.767548454688318],\"yaxis\":\"y\",\"type\":\"scatter\"},{\"hovertemplate\":\"index=selecsls60b_MagFace_SGD_0.1_cosine<br>Accuracy=%{x}<br>Disparity=%{y}<extra></extra>\",\"legendgroup\":\"selecsls60b_MagFace_SGD_0.1_cosine\",\"marker\":{\"color\":\"#B6E880\",\"symbol\":\"circle\"},\"mode\":\"markers\",\"name\":\"selecsls60b_MagFace_SGD_0.1_cosine\",\"orientation\":\"v\",\"showlegend\":true,\"x\":[0.7097957045573599],\"xaxis\":\"x\",\"y\":[3.3276584599266634],\"yaxis\":\"y\",\"type\":\"scatter\"},{\"hovertemplate\":\"index=swin_base_patch4_window7_224_ArcFace_AdamW_0.001_cosine<br>Accuracy=%{x}<br>Disparity=%{y}<extra></extra>\",\"legendgroup\":\"swin_base_patch4_window7_224_ArcFace_AdamW_0.001_cosine\",\"marker\":{\"color\":\"#FF97FF\",\"symbol\":\"circle\"},\"mode\":\"markers\",\"name\":\"swin_base_patch4_window7_224_ArcFace_AdamW_0.001_cosine\",\"orientation\":\"v\",\"showlegend\":true,\"x\":[0.0],\"xaxis\":\"x\",\"y\":[0.0],\"yaxis\":\"y\",\"type\":\"scatter\"},{\"hovertemplate\":\"index=swin_base_patch4_window7_224_ArcFace_SGD_0.1_cosine<br>Accuracy=%{x}<br>Disparity=%{y}<extra></extra>\",\"legendgroup\":\"swin_base_patch4_window7_224_ArcFace_SGD_0.1_cosine\",\"marker\":{\"color\":\"#FECB52\",\"symbol\":\"circle\"},\"mode\":\"markers\",\"name\":\"swin_base_patch4_window7_224_ArcFace_SGD_0.1_cosine\",\"orientation\":\"v\",\"showlegend\":true,\"x\":[0.0],\"xaxis\":\"x\",\"y\":[0.0],\"yaxis\":\"y\",\"type\":\"scatter\"},{\"hovertemplate\":\"index=swin_base_patch4_window7_224_CosFace_AdamW_0.001_cosine<br>Accuracy=%{x}<br>Disparity=%{y}<extra></extra>\",\"legendgroup\":\"swin_base_patch4_window7_224_CosFace_AdamW_0.001_cosine\",\"marker\":{\"color\":\"#636efa\",\"symbol\":\"circle\"},\"mode\":\"markers\",\"name\":\"swin_base_patch4_window7_224_CosFace_AdamW_0.001_cosine\",\"orientation\":\"v\",\"showlegend\":true,\"x\":[0.005434782608695652],\"xaxis\":\"x\",\"y\":[16.601361969617585],\"yaxis\":\"y\",\"type\":\"scatter\"},{\"hovertemplate\":\"index=swin_base_patch4_window7_224_CosFace_SGD_0.1_cosine<br>Accuracy=%{x}<br>Disparity=%{y}<extra></extra>\",\"legendgroup\":\"swin_base_patch4_window7_224_CosFace_SGD_0.1_cosine\",\"marker\":{\"color\":\"#EF553B\",\"symbol\":\"circle\"},\"mode\":\"markers\",\"name\":\"swin_base_patch4_window7_224_CosFace_SGD_0.1_cosine\",\"orientation\":\"v\",\"showlegend\":true,\"x\":[0.0010476689366160294],\"xaxis\":\"x\",\"y\":[1.8331587218439154],\"yaxis\":\"y\",\"type\":\"scatter\"},{\"hovertemplate\":\"index=swin_base_patch4_window7_224_MagFace_AdamW_0.001_cosine<br>Accuracy=%{x}<br>Disparity=%{y}<extra></extra>\",\"legendgroup\":\"swin_base_patch4_window7_224_MagFace_AdamW_0.001_cosine\",\"marker\":{\"color\":\"#00cc96\",\"symbol\":\"circle\"},\"mode\":\"markers\",\"name\":\"swin_base_patch4_window7_224_MagFace_AdamW_0.001_cosine\",\"orientation\":\"v\",\"showlegend\":true,\"x\":[0.0],\"xaxis\":\"x\",\"y\":[0.0],\"yaxis\":\"y\",\"type\":\"scatter\"},{\"hovertemplate\":\"index=swin_base_patch4_window7_224_MagFace_SGD_0.1_cosine<br>Accuracy=%{x}<br>Disparity=%{y}<extra></extra>\",\"legendgroup\":\"swin_base_patch4_window7_224_MagFace_SGD_0.1_cosine\",\"marker\":{\"color\":\"#ab63fa\",\"symbol\":\"circle\"},\"mode\":\"markers\",\"name\":\"swin_base_patch4_window7_224_MagFace_SGD_0.1_cosine\",\"orientation\":\"v\",\"showlegend\":true,\"x\":[0.7382137244630697],\"xaxis\":\"x\",\"y\":[2.9414614981665794],\"yaxis\":\"y\",\"type\":\"scatter\"},{\"hovertemplate\":\"index=tf_efficientnet_b7_ns_ArcFace_AdamW_0.001_cosine<br>Accuracy=%{x}<br>Disparity=%{y}<extra></extra>\",\"legendgroup\":\"tf_efficientnet_b7_ns_ArcFace_AdamW_0.001_cosine\",\"marker\":{\"color\":\"#FFA15A\",\"symbol\":\"circle\"},\"mode\":\"markers\",\"name\":\"tf_efficientnet_b7_ns_ArcFace_AdamW_0.001_cosine\",\"orientation\":\"v\",\"showlegend\":true,\"x\":[0.00320848611838659],\"xaxis\":\"x\",\"y\":[5.92587742273443],\"yaxis\":\"y\",\"type\":\"scatter\"},{\"hovertemplate\":\"index=tf_efficientnet_b7_ns_ArcFace_SGD_0.1_cosine<br>Accuracy=%{x}<br>Disparity=%{y}<extra></extra>\",\"legendgroup\":\"tf_efficientnet_b7_ns_ArcFace_SGD_0.1_cosine\",\"marker\":{\"color\":\"#19d3f3\",\"symbol\":\"circle\"},\"mode\":\"markers\",\"name\":\"tf_efficientnet_b7_ns_ArcFace_SGD_0.1_cosine\",\"orientation\":\"v\",\"showlegend\":true,\"x\":[0.0018334206390780514],\"xaxis\":\"x\",\"y\":[6.101754845468832],\"yaxis\":\"y\",\"type\":\"scatter\"},{\"hovertemplate\":\"index=tf_efficientnet_b7_ns_CosFace_AdamW_0.001_cosine<br>Accuracy=%{x}<br>Disparity=%{y}<extra></extra>\",\"legendgroup\":\"tf_efficientnet_b7_ns_CosFace_AdamW_0.001_cosine\",\"marker\":{\"color\":\"#FF6692\",\"symbol\":\"circle\"},\"mode\":\"markers\",\"name\":\"tf_efficientnet_b7_ns_CosFace_AdamW_0.001_cosine\",\"orientation\":\"v\",\"showlegend\":true,\"x\":[0.8466474594028287],\"xaxis\":\"x\",\"y\":[3.029203771608172],\"yaxis\":\"y\",\"type\":\"scatter\"},{\"hovertemplate\":\"index=tf_efficientnet_b7_ns_CosFace_SGD_0.1_cosine<br>Accuracy=%{x}<br>Disparity=%{y}<extra></extra>\",\"legendgroup\":\"tf_efficientnet_b7_ns_CosFace_SGD_0.1_cosine\",\"marker\":{\"color\":\"#B6E880\",\"symbol\":\"circle\"},\"mode\":\"markers\",\"name\":\"tf_efficientnet_b7_ns_CosFace_SGD_0.1_cosine\",\"orientation\":\"v\",\"showlegend\":true,\"x\":[0.8874410686223153],\"xaxis\":\"x\",\"y\":[2.385149292823468],\"yaxis\":\"y\",\"type\":\"scatter\"},{\"hovertemplate\":\"index=tf_efficientnet_b7_ns_MagFace_AdamW_0.001_cosine<br>Accuracy=%{x}<br>Disparity=%{y}<extra></extra>\",\"legendgroup\":\"tf_efficientnet_b7_ns_MagFace_AdamW_0.001_cosine\",\"marker\":{\"color\":\"#FF97FF\",\"symbol\":\"circle\"},\"mode\":\"markers\",\"name\":\"tf_efficientnet_b7_ns_MagFace_AdamW_0.001_cosine\",\"orientation\":\"v\",\"showlegend\":true,\"x\":[0.3143661602933473],\"xaxis\":\"x\",\"y\":[6.99777370350969],\"yaxis\":\"y\",\"type\":\"scatter\"},{\"hovertemplate\":\"index=tf_efficientnet_b7_ns_MagFace_SGD_0.1_cosine<br>Accuracy=%{x}<br>Disparity=%{y}<extra></extra>\",\"legendgroup\":\"tf_efficientnet_b7_ns_MagFace_SGD_0.1_cosine\",\"marker\":{\"color\":\"#FECB52\",\"symbol\":\"circle\"},\"mode\":\"markers\",\"name\":\"tf_efficientnet_b7_ns_MagFace_SGD_0.1_cosine\",\"orientation\":\"v\",\"showlegend\":true,\"x\":[0.411406495547407],\"xaxis\":\"x\",\"y\":[7.88776846516501],\"yaxis\":\"y\",\"type\":\"scatter\"},{\"hovertemplate\":\"index=tnt_s_patch16_224_ArcFace_AdamW<br>Accuracy=%{x}<br>Disparity=%{y}<extra></extra>\",\"legendgroup\":\"tnt_s_patch16_224_ArcFace_AdamW\",\"marker\":{\"color\":\"#636efa\",\"symbol\":\"circle\"},\"mode\":\"markers\",\"name\":\"tnt_s_patch16_224_ArcFace_AdamW\",\"orientation\":\"v\",\"showlegend\":true,\"x\":[0.36864850707176533],\"xaxis\":\"x\",\"y\":[7.05945521215296],\"yaxis\":\"y\",\"type\":\"scatter\"},{\"hovertemplate\":\"index=tnt_s_patch16_224_ArcFace_SGD<br>Accuracy=%{x}<br>Disparity=%{y}<extra></extra>\",\"legendgroup\":\"tnt_s_patch16_224_ArcFace_SGD\",\"marker\":{\"color\":\"#EF553B\",\"symbol\":\"circle\"},\"mode\":\"markers\",\"name\":\"tnt_s_patch16_224_ArcFace_SGD\",\"orientation\":\"v\",\"showlegend\":true,\"x\":[0.0],\"xaxis\":\"x\",\"y\":[0.0],\"yaxis\":\"y\",\"type\":\"scatter\"},{\"hovertemplate\":\"index=tnt_s_patch16_224_ArcFace_SGD_0.1_cosine<br>Accuracy=%{x}<br>Disparity=%{y}<extra></extra>\",\"legendgroup\":\"tnt_s_patch16_224_ArcFace_SGD_0.1_cosine\",\"marker\":{\"color\":\"#00cc96\",\"symbol\":\"circle\"},\"mode\":\"markers\",\"name\":\"tnt_s_patch16_224_ArcFace_SGD_0.1_cosine\",\"orientation\":\"v\",\"showlegend\":true,\"x\":[null],\"xaxis\":\"x\",\"y\":[null],\"yaxis\":\"y\",\"type\":\"scatter\"},{\"hovertemplate\":\"index=tnt_s_patch16_224_CosFace_AdamW<br>Accuracy=%{x}<br>Disparity=%{y}<extra></extra>\",\"legendgroup\":\"tnt_s_patch16_224_CosFace_AdamW\",\"marker\":{\"color\":\"#ab63fa\",\"symbol\":\"circle\"},\"mode\":\"markers\",\"name\":\"tnt_s_patch16_224_CosFace_AdamW\",\"orientation\":\"v\",\"showlegend\":true,\"x\":[0.9484023048716606],\"xaxis\":\"x\",\"y\":[1.9494499738082771],\"yaxis\":\"y\",\"type\":\"scatter\"},{\"hovertemplate\":\"index=tnt_s_patch16_224_CosFace_SGD<br>Accuracy=%{x}<br>Disparity=%{y}<extra></extra>\",\"legendgroup\":\"tnt_s_patch16_224_CosFace_SGD\",\"marker\":{\"color\":\"#FFA15A\",\"symbol\":\"circle\"},\"mode\":\"markers\",\"name\":\"tnt_s_patch16_224_CosFace_SGD\",\"orientation\":\"v\",\"showlegend\":true,\"x\":[0.41232320586694604],\"xaxis\":\"x\",\"y\":[2.973415400733373],\"yaxis\":\"y\",\"type\":\"scatter\"},{\"hovertemplate\":\"index=tnt_s_patch16_224_CosFace_SGD_0.1_cosine<br>Accuracy=%{x}<br>Disparity=%{y}<extra></extra>\",\"legendgroup\":\"tnt_s_patch16_224_CosFace_SGD_0.1_cosine\",\"marker\":{\"color\":\"#19d3f3\",\"symbol\":\"circle\"},\"mode\":\"markers\",\"name\":\"tnt_s_patch16_224_CosFace_SGD_0.1_cosine\",\"orientation\":\"v\",\"showlegend\":true,\"x\":[null],\"xaxis\":\"x\",\"y\":[null],\"yaxis\":\"y\",\"type\":\"scatter\"},{\"hovertemplate\":\"index=tnt_s_patch16_224_MagFace_AdamW<br>Accuracy=%{x}<br>Disparity=%{y}<extra></extra>\",\"legendgroup\":\"tnt_s_patch16_224_MagFace_AdamW\",\"marker\":{\"color\":\"#FF6692\",\"symbol\":\"circle\"},\"mode\":\"markers\",\"name\":\"tnt_s_patch16_224_MagFace_AdamW\",\"orientation\":\"v\",\"showlegend\":true,\"x\":[0.0],\"xaxis\":\"x\",\"y\":[0.0],\"yaxis\":\"y\",\"type\":\"scatter\"},{\"hovertemplate\":\"index=tnt_s_patch16_224_MagFace_SGD<br>Accuracy=%{x}<br>Disparity=%{y}<extra></extra>\",\"legendgroup\":\"tnt_s_patch16_224_MagFace_SGD\",\"marker\":{\"color\":\"#B6E880\",\"symbol\":\"circle\"},\"mode\":\"markers\",\"name\":\"tnt_s_patch16_224_MagFace_SGD\",\"orientation\":\"v\",\"showlegend\":true,\"x\":[0.0],\"xaxis\":\"x\",\"y\":[0.0],\"yaxis\":\"y\",\"type\":\"scatter\"},{\"hovertemplate\":\"index=tnt_s_patch16_224_MagFace_SGD_0.1_cosine<br>Accuracy=%{x}<br>Disparity=%{y}<extra></extra>\",\"legendgroup\":\"tnt_s_patch16_224_MagFace_SGD_0.1_cosine\",\"marker\":{\"color\":\"#FF97FF\",\"symbol\":\"circle\"},\"mode\":\"markers\",\"name\":\"tnt_s_patch16_224_MagFace_SGD_0.1_cosine\",\"orientation\":\"v\",\"showlegend\":true,\"x\":[null],\"xaxis\":\"x\",\"y\":[null],\"yaxis\":\"y\",\"type\":\"scatter\"},{\"hovertemplate\":\"index=twins_svt_large_ArcFace_AdamW_0.001_cosine<br>Accuracy=%{x}<br>Disparity=%{y}<extra></extra>\",\"legendgroup\":\"twins_svt_large_ArcFace_AdamW_0.001_cosine\",\"marker\":{\"color\":\"#FECB52\",\"symbol\":\"circle\"},\"mode\":\"markers\",\"name\":\"twins_svt_large_ArcFace_AdamW_0.001_cosine\",\"orientation\":\"v\",\"showlegend\":true,\"x\":[null],\"xaxis\":\"x\",\"y\":[null],\"yaxis\":\"y\",\"type\":\"scatter\"},{\"hovertemplate\":\"index=twins_svt_large_ArcFace_SGD_0.1_cosine<br>Accuracy=%{x}<br>Disparity=%{y}<extra></extra>\",\"legendgroup\":\"twins_svt_large_ArcFace_SGD_0.1_cosine\",\"marker\":{\"color\":\"#636efa\",\"symbol\":\"circle\"},\"mode\":\"markers\",\"name\":\"twins_svt_large_ArcFace_SGD_0.1_cosine\",\"orientation\":\"v\",\"showlegend\":true,\"x\":[null],\"xaxis\":\"x\",\"y\":[null],\"yaxis\":\"y\",\"type\":\"scatter\"},{\"hovertemplate\":\"index=twins_svt_large_CosFace_AdamW_0.001_cosine<br>Accuracy=%{x}<br>Disparity=%{y}<extra></extra>\",\"legendgroup\":\"twins_svt_large_CosFace_AdamW_0.001_cosine\",\"marker\":{\"color\":\"#EF553B\",\"symbol\":\"circle\"},\"mode\":\"markers\",\"name\":\"twins_svt_large_CosFace_AdamW_0.001_cosine\",\"orientation\":\"v\",\"showlegend\":true,\"x\":[null],\"xaxis\":\"x\",\"y\":[null],\"yaxis\":\"y\",\"type\":\"scatter\"},{\"hovertemplate\":\"index=twins_svt_large_CosFace_SGD_0.1_cosine<br>Accuracy=%{x}<br>Disparity=%{y}<extra></extra>\",\"legendgroup\":\"twins_svt_large_CosFace_SGD_0.1_cosine\",\"marker\":{\"color\":\"#00cc96\",\"symbol\":\"circle\"},\"mode\":\"markers\",\"name\":\"twins_svt_large_CosFace_SGD_0.1_cosine\",\"orientation\":\"v\",\"showlegend\":true,\"x\":[null],\"xaxis\":\"x\",\"y\":[null],\"yaxis\":\"y\",\"type\":\"scatter\"},{\"hovertemplate\":\"index=twins_svt_large_MagFace_AdamW_0.001_cosine<br>Accuracy=%{x}<br>Disparity=%{y}<extra></extra>\",\"legendgroup\":\"twins_svt_large_MagFace_AdamW_0.001_cosine\",\"marker\":{\"color\":\"#ab63fa\",\"symbol\":\"circle\"},\"mode\":\"markers\",\"name\":\"twins_svt_large_MagFace_AdamW_0.001_cosine\",\"orientation\":\"v\",\"showlegend\":true,\"x\":[null],\"xaxis\":\"x\",\"y\":[null],\"yaxis\":\"y\",\"type\":\"scatter\"},{\"hovertemplate\":\"index=twins_svt_large_MagFace_SGD_0.1_cosine<br>Accuracy=%{x}<br>Disparity=%{y}<extra></extra>\",\"legendgroup\":\"twins_svt_large_MagFace_SGD_0.1_cosine\",\"marker\":{\"color\":\"#FFA15A\",\"symbol\":\"circle\"},\"mode\":\"markers\",\"name\":\"twins_svt_large_MagFace_SGD_0.1_cosine\",\"orientation\":\"v\",\"showlegend\":true,\"x\":[null],\"xaxis\":\"x\",\"y\":[null],\"yaxis\":\"y\",\"type\":\"scatter\"},{\"hovertemplate\":\"index=vgg19_ArcFace_AdamW_0.001_cosine<br>Accuracy=%{x}<br>Disparity=%{y}<extra></extra>\",\"legendgroup\":\"vgg19_ArcFace_AdamW_0.001_cosine\",\"marker\":{\"color\":\"#19d3f3\",\"symbol\":\"circle\"},\"mode\":\"markers\",\"name\":\"vgg19_ArcFace_AdamW_0.001_cosine\",\"orientation\":\"v\",\"showlegend\":true,\"x\":[0.0],\"xaxis\":\"x\",\"y\":[0.0],\"yaxis\":\"y\",\"type\":\"scatter\"},{\"hovertemplate\":\"index=vgg19_ArcFace_SGD_0.1_cosine<br>Accuracy=%{x}<br>Disparity=%{y}<extra></extra>\",\"legendgroup\":\"vgg19_ArcFace_SGD_0.1_cosine\",\"marker\":{\"color\":\"#FF6692\",\"symbol\":\"circle\"},\"mode\":\"markers\",\"name\":\"vgg19_ArcFace_SGD_0.1_cosine\",\"orientation\":\"v\",\"showlegend\":true,\"x\":[0.0],\"xaxis\":\"x\",\"y\":[0.0],\"yaxis\":\"y\",\"type\":\"scatter\"},{\"hovertemplate\":\"index=vgg19_bn_ArcFace_AdamW<br>Accuracy=%{x}<br>Disparity=%{y}<extra></extra>\",\"legendgroup\":\"vgg19_bn_ArcFace_AdamW\",\"marker\":{\"color\":\"#B6E880\",\"symbol\":\"circle\"},\"mode\":\"markers\",\"name\":\"vgg19_bn_ArcFace_AdamW\",\"orientation\":\"v\",\"showlegend\":true,\"x\":[0.6454950235725511],\"xaxis\":\"x\",\"y\":[1.888423258250393],\"yaxis\":\"y\",\"type\":\"scatter\"},{\"hovertemplate\":\"index=vgg19_bn_ArcFace_AdamW_0.001_cosine<br>Accuracy=%{x}<br>Disparity=%{y}<extra></extra>\",\"legendgroup\":\"vgg19_bn_ArcFace_AdamW_0.001_cosine\",\"marker\":{\"color\":\"#FF97FF\",\"symbol\":\"circle\"},\"mode\":\"markers\",\"name\":\"vgg19_bn_ArcFace_AdamW_0.001_cosine\",\"orientation\":\"v\",\"showlegend\":true,\"x\":[0.6530251440544788],\"xaxis\":\"x\",\"y\":[3.223022524882137],\"yaxis\":\"y\",\"type\":\"scatter\"},{\"hovertemplate\":\"index=vgg19_bn_ArcFace_SGD<br>Accuracy=%{x}<br>Disparity=%{y}<extra></extra>\",\"legendgroup\":\"vgg19_bn_ArcFace_SGD\",\"marker\":{\"color\":\"#FECB52\",\"symbol\":\"circle\"},\"mode\":\"markers\",\"name\":\"vgg19_bn_ArcFace_SGD\",\"orientation\":\"v\",\"showlegend\":true,\"x\":[0.7719355683603981],\"xaxis\":\"x\",\"y\":[2.0113933996856996],\"yaxis\":\"y\",\"type\":\"scatter\"},{\"hovertemplate\":\"index=vgg19_bn_ArcFace_SGD_0.1_cosine<br>Accuracy=%{x}<br>Disparity=%{y}<extra></extra>\",\"legendgroup\":\"vgg19_bn_ArcFace_SGD_0.1_cosine\",\"marker\":{\"color\":\"#636efa\",\"symbol\":\"circle\"},\"mode\":\"markers\",\"name\":\"vgg19_bn_ArcFace_SGD_0.1_cosine\",\"orientation\":\"v\",\"showlegend\":true,\"x\":[0.6954557359874279],\"xaxis\":\"x\",\"y\":[3.4256155055002617],\"yaxis\":\"y\",\"type\":\"scatter\"},{\"hovertemplate\":\"index=vgg19_bn_CosFace_AdamW<br>Accuracy=%{x}<br>Disparity=%{y}<extra></extra>\",\"legendgroup\":\"vgg19_bn_CosFace_AdamW\",\"marker\":{\"color\":\"#EF553B\",\"symbol\":\"circle\"},\"mode\":\"markers\",\"name\":\"vgg19_bn_CosFace_AdamW\",\"orientation\":\"v\",\"showlegend\":true,\"x\":[0.0],\"xaxis\":\"x\",\"y\":[0.15413829229964904],\"yaxis\":\"y\",\"type\":\"scatter\"},{\"hovertemplate\":\"index=vgg19_bn_CosFace_AdamW_0.001_cosine<br>Accuracy=%{x}<br>Disparity=%{y}<extra></extra>\",\"legendgroup\":\"vgg19_bn_CosFace_AdamW_0.001_cosine\",\"marker\":{\"color\":\"#00cc96\",\"symbol\":\"circle\"},\"mode\":\"markers\",\"name\":\"vgg19_bn_CosFace_AdamW_0.001_cosine\",\"orientation\":\"v\",\"showlegend\":true,\"x\":[0.0],\"xaxis\":\"x\",\"y\":[0.0],\"yaxis\":\"y\",\"type\":\"scatter\"},{\"hovertemplate\":\"index=vgg19_bn_CosFace_SGD<br>Accuracy=%{x}<br>Disparity=%{y}<extra></extra>\",\"legendgroup\":\"vgg19_bn_CosFace_SGD\",\"marker\":{\"color\":\"#ab63fa\",\"symbol\":\"circle\"},\"mode\":\"markers\",\"name\":\"vgg19_bn_CosFace_SGD\",\"orientation\":\"v\",\"showlegend\":true,\"x\":[0.6534834992142483],\"xaxis\":\"x\",\"y\":[3.2710843373493965],\"yaxis\":\"y\",\"type\":\"scatter\"},{\"hovertemplate\":\"index=vgg19_bn_CosFace_SGD_0.1_cosine<br>Accuracy=%{x}<br>Disparity=%{y}<extra></extra>\",\"legendgroup\":\"vgg19_bn_CosFace_SGD_0.1_cosine\",\"marker\":{\"color\":\"#FFA15A\",\"symbol\":\"circle\"},\"mode\":\"markers\",\"name\":\"vgg19_bn_CosFace_SGD_0.1_cosine\",\"orientation\":\"v\",\"showlegend\":true,\"x\":[null],\"xaxis\":\"x\",\"y\":[null],\"yaxis\":\"y\",\"type\":\"scatter\"},{\"hovertemplate\":\"index=vgg19_bn_MagFace_AdamW<br>Accuracy=%{x}<br>Disparity=%{y}<extra></extra>\",\"legendgroup\":\"vgg19_bn_MagFace_AdamW\",\"marker\":{\"color\":\"#19d3f3\",\"symbol\":\"circle\"},\"mode\":\"markers\",\"name\":\"vgg19_bn_MagFace_AdamW\",\"orientation\":\"v\",\"showlegend\":true,\"x\":[0.7179806181246726],\"xaxis\":\"x\",\"y\":[1.8258250392875848],\"yaxis\":\"y\",\"type\":\"scatter\"},{\"hovertemplate\":\"index=vgg19_bn_MagFace_AdamW_0.001_cosine<br>Accuracy=%{x}<br>Disparity=%{y}<extra></extra>\",\"legendgroup\":\"vgg19_bn_MagFace_AdamW_0.001_cosine\",\"marker\":{\"color\":\"#FF6692\",\"symbol\":\"circle\"},\"mode\":\"markers\",\"name\":\"vgg19_bn_MagFace_AdamW_0.001_cosine\",\"orientation\":\"v\",\"showlegend\":true,\"x\":[0.3689759036144578],\"xaxis\":\"x\",\"y\":[5.599921424829754],\"yaxis\":\"y\",\"type\":\"scatter\"},{\"hovertemplate\":\"index=vgg19_bn_MagFace_SGD<br>Accuracy=%{x}<br>Disparity=%{y}<extra></extra>\",\"legendgroup\":\"vgg19_bn_MagFace_SGD\",\"marker\":{\"color\":\"#B6E880\",\"symbol\":\"circle\"},\"mode\":\"markers\",\"name\":\"vgg19_bn_MagFace_SGD\",\"orientation\":\"v\",\"showlegend\":true,\"x\":[0.8107647983237297],\"xaxis\":\"x\",\"y\":[2.1547930853850183],\"yaxis\":\"y\",\"type\":\"scatter\"},{\"hovertemplate\":\"index=vgg19_bn_MagFace_SGD_0.1_cosine<br>Accuracy=%{x}<br>Disparity=%{y}<extra></extra>\",\"legendgroup\":\"vgg19_bn_MagFace_SGD_0.1_cosine\",\"marker\":{\"color\":\"#FF97FF\",\"symbol\":\"circle\"},\"mode\":\"markers\",\"name\":\"vgg19_bn_MagFace_SGD_0.1_cosine\",\"orientation\":\"v\",\"showlegend\":true,\"x\":[0.7556966998428497],\"xaxis\":\"x\",\"y\":[2.2503928758512313],\"yaxis\":\"y\",\"type\":\"scatter\"},{\"hovertemplate\":\"index=vgg19_CosFace_AdamW<br>Accuracy=%{x}<br>Disparity=%{y}<extra></extra>\",\"legendgroup\":\"vgg19_CosFace_AdamW\",\"marker\":{\"color\":\"#FECB52\",\"symbol\":\"circle\"},\"mode\":\"markers\",\"name\":\"vgg19_CosFace_AdamW\",\"orientation\":\"v\",\"showlegend\":true,\"x\":[0.0],\"xaxis\":\"x\",\"y\":[0.0],\"yaxis\":\"y\",\"type\":\"scatter\"},{\"hovertemplate\":\"index=vgg19_CosFace_AdamW_0.001_cosine<br>Accuracy=%{x}<br>Disparity=%{y}<extra></extra>\",\"legendgroup\":\"vgg19_CosFace_AdamW_0.001_cosine\",\"marker\":{\"color\":\"#636efa\",\"symbol\":\"circle\"},\"mode\":\"markers\",\"name\":\"vgg19_CosFace_AdamW_0.001_cosine\",\"orientation\":\"v\",\"showlegend\":true,\"x\":[0.0],\"xaxis\":\"x\",\"y\":[0.0],\"yaxis\":\"y\",\"type\":\"scatter\"},{\"hovertemplate\":\"index=vgg19_CosFace_SGD<br>Accuracy=%{x}<br>Disparity=%{y}<extra></extra>\",\"legendgroup\":\"vgg19_CosFace_SGD\",\"marker\":{\"color\":\"#EF553B\",\"symbol\":\"circle\"},\"mode\":\"markers\",\"name\":\"vgg19_CosFace_SGD\",\"orientation\":\"v\",\"showlegend\":true,\"x\":[0.6574122577265584],\"xaxis\":\"x\",\"y\":[6.093111576741748],\"yaxis\":\"y\",\"type\":\"scatter\"},{\"hovertemplate\":\"index=vgg19_CosFace_SGD_0.1_cosine<br>Accuracy=%{x}<br>Disparity=%{y}<extra></extra>\",\"legendgroup\":\"vgg19_CosFace_SGD_0.1_cosine\",\"marker\":{\"color\":\"#00cc96\",\"symbol\":\"circle\"},\"mode\":\"markers\",\"name\":\"vgg19_CosFace_SGD_0.1_cosine\",\"orientation\":\"v\",\"showlegend\":true,\"x\":[0.0],\"xaxis\":\"x\",\"y\":[0.6652697747511809],\"yaxis\":\"y\",\"type\":\"scatter\"},{\"hovertemplate\":\"index=vgg19_MagFace_AdamW<br>Accuracy=%{x}<br>Disparity=%{y}<extra></extra>\",\"legendgroup\":\"vgg19_MagFace_AdamW\",\"marker\":{\"color\":\"#ab63fa\",\"symbol\":\"circle\"},\"mode\":\"markers\",\"name\":\"vgg19_MagFace_AdamW\",\"orientation\":\"v\",\"showlegend\":true,\"x\":[0.0],\"xaxis\":\"x\",\"y\":[0.0],\"yaxis\":\"y\",\"type\":\"scatter\"},{\"hovertemplate\":\"index=vgg19_MagFace_AdamW_0.001_cosine<br>Accuracy=%{x}<br>Disparity=%{y}<extra></extra>\",\"legendgroup\":\"vgg19_MagFace_AdamW_0.001_cosine\",\"marker\":{\"color\":\"#FFA15A\",\"symbol\":\"circle\"},\"mode\":\"markers\",\"name\":\"vgg19_MagFace_AdamW_0.001_cosine\",\"orientation\":\"v\",\"showlegend\":true,\"x\":[0.0],\"xaxis\":\"x\",\"y\":[0.0],\"yaxis\":\"y\",\"type\":\"scatter\"},{\"hovertemplate\":\"index=vgg19_MagFace_SGD<br>Accuracy=%{x}<br>Disparity=%{y}<extra></extra>\",\"legendgroup\":\"vgg19_MagFace_SGD\",\"marker\":{\"color\":\"#19d3f3\",\"symbol\":\"circle\"},\"mode\":\"markers\",\"name\":\"vgg19_MagFace_SGD\",\"orientation\":\"v\",\"showlegend\":true,\"x\":[0.6993190151911995],\"xaxis\":\"x\",\"y\":[2.2585123101100057],\"yaxis\":\"y\",\"type\":\"scatter\"},{\"hovertemplate\":\"index=vgg19_MagFace_SGD_0.1_cosine<br>Accuracy=%{x}<br>Disparity=%{y}<extra></extra>\",\"legendgroup\":\"vgg19_MagFace_SGD_0.1_cosine\",\"marker\":{\"color\":\"#FF6692\",\"symbol\":\"circle\"},\"mode\":\"markers\",\"name\":\"vgg19_MagFace_SGD_0.1_cosine\",\"orientation\":\"v\",\"showlegend\":true,\"x\":[0.0],\"xaxis\":\"x\",\"y\":[0.0],\"yaxis\":\"y\",\"type\":\"scatter\"},{\"hovertemplate\":\"index=visformer_small_ArcFace_AdamW<br>Accuracy=%{x}<br>Disparity=%{y}<extra></extra>\",\"legendgroup\":\"visformer_small_ArcFace_AdamW\",\"marker\":{\"color\":\"#B6E880\",\"symbol\":\"circle\"},\"mode\":\"markers\",\"name\":\"visformer_small_ArcFace_AdamW\",\"orientation\":\"v\",\"showlegend\":true,\"x\":[0.0],\"xaxis\":\"x\",\"y\":[0.0],\"yaxis\":\"y\",\"type\":\"scatter\"},{\"hovertemplate\":\"index=visformer_small_ArcFace_AdamW_0.001_cosine<br>Accuracy=%{x}<br>Disparity=%{y}<extra></extra>\",\"legendgroup\":\"visformer_small_ArcFace_AdamW_0.001_cosine\",\"marker\":{\"color\":\"#FF97FF\",\"symbol\":\"circle\"},\"mode\":\"markers\",\"name\":\"visformer_small_ArcFace_AdamW_0.001_cosine\",\"orientation\":\"v\",\"showlegend\":true,\"x\":[0.01682818229439497],\"xaxis\":\"x\",\"y\":[2.4146149816657783],\"yaxis\":\"y\",\"type\":\"scatter\"},{\"hovertemplate\":\"index=visformer_small_ArcFace_SGD<br>Accuracy=%{x}<br>Disparity=%{y}<extra></extra>\",\"legendgroup\":\"visformer_small_ArcFace_SGD\",\"marker\":{\"color\":\"#FECB52\",\"symbol\":\"circle\"},\"mode\":\"markers\",\"name\":\"visformer_small_ArcFace_SGD\",\"orientation\":\"v\",\"showlegend\":true,\"x\":[0.0],\"xaxis\":\"x\",\"y\":[0.0],\"yaxis\":\"y\",\"type\":\"scatter\"},{\"hovertemplate\":\"index=visformer_small_ArcFace_SGD_0.1_cosine<br>Accuracy=%{x}<br>Disparity=%{y}<extra></extra>\",\"legendgroup\":\"visformer_small_ArcFace_SGD_0.1_cosine\",\"marker\":{\"color\":\"#636efa\",\"symbol\":\"circle\"},\"mode\":\"markers\",\"name\":\"visformer_small_ArcFace_SGD_0.1_cosine\",\"orientation\":\"v\",\"showlegend\":true,\"x\":[0.0],\"xaxis\":\"x\",\"y\":[0.0],\"yaxis\":\"y\",\"type\":\"scatter\"},{\"hovertemplate\":\"index=visformer_small_CosFace_AdamW<br>Accuracy=%{x}<br>Disparity=%{y}<extra></extra>\",\"legendgroup\":\"visformer_small_CosFace_AdamW\",\"marker\":{\"color\":\"#EF553B\",\"symbol\":\"circle\"},\"mode\":\"markers\",\"name\":\"visformer_small_CosFace_AdamW\",\"orientation\":\"v\",\"showlegend\":true,\"x\":[0.03725772655840754],\"xaxis\":\"x\",\"y\":[13.2437139863803],\"yaxis\":\"y\",\"type\":\"scatter\"},{\"hovertemplate\":\"index=visformer_small_CosFace_AdamW_0.001_cosine<br>Accuracy=%{x}<br>Disparity=%{y}<extra></extra>\",\"legendgroup\":\"visformer_small_CosFace_AdamW_0.001_cosine\",\"marker\":{\"color\":\"#00cc96\",\"symbol\":\"circle\"},\"mode\":\"markers\",\"name\":\"visformer_small_CosFace_AdamW_0.001_cosine\",\"orientation\":\"v\",\"showlegend\":true,\"x\":[0.029727606076479833],\"xaxis\":\"x\",\"y\":[3.5844683080146638],\"yaxis\":\"y\",\"type\":\"scatter\"},{\"hovertemplate\":\"index=visformer_small_CosFace_SGD<br>Accuracy=%{x}<br>Disparity=%{y}<extra></extra>\",\"legendgroup\":\"visformer_small_CosFace_SGD\",\"marker\":{\"color\":\"#ab63fa\",\"symbol\":\"circle\"},\"mode\":\"markers\",\"name\":\"visformer_small_CosFace_SGD\",\"orientation\":\"v\",\"showlegend\":true,\"x\":[0.3325694080670508],\"xaxis\":\"x\",\"y\":[3.8525405971712914],\"yaxis\":\"y\",\"type\":\"scatter\"},{\"hovertemplate\":\"index=visformer_small_CosFace_SGD_0.1_cosine<br>Accuracy=%{x}<br>Disparity=%{y}<extra></extra>\",\"legendgroup\":\"visformer_small_CosFace_SGD_0.1_cosine\",\"marker\":{\"color\":\"#FFA15A\",\"symbol\":\"circle\"},\"mode\":\"markers\",\"name\":\"visformer_small_CosFace_SGD_0.1_cosine\",\"orientation\":\"v\",\"showlegend\":true,\"x\":[0.0],\"xaxis\":\"x\",\"y\":[0.0],\"yaxis\":\"y\",\"type\":\"scatter\"},{\"hovertemplate\":\"index=visformer_small_MagFace_AdamW<br>Accuracy=%{x}<br>Disparity=%{y}<extra></extra>\",\"legendgroup\":\"visformer_small_MagFace_AdamW\",\"marker\":{\"color\":\"#19d3f3\",\"symbol\":\"circle\"},\"mode\":\"markers\",\"name\":\"visformer_small_MagFace_AdamW\",\"orientation\":\"v\",\"showlegend\":true,\"x\":[0.009494499738082765],\"xaxis\":\"x\",\"y\":[5.172734415924566],\"yaxis\":\"y\",\"type\":\"scatter\"},{\"hovertemplate\":\"index=visformer_small_MagFace_AdamW_0.001_cosine<br>Accuracy=%{x}<br>Disparity=%{y}<extra></extra>\",\"legendgroup\":\"visformer_small_MagFace_AdamW_0.001_cosine\",\"marker\":{\"color\":\"#FF6692\",\"symbol\":\"circle\"},\"mode\":\"markers\",\"name\":\"visformer_small_MagFace_AdamW_0.001_cosine\",\"orientation\":\"v\",\"showlegend\":true,\"x\":[0.00392875851231011],\"xaxis\":\"x\",\"y\":[18.62179151388159],\"yaxis\":\"y\",\"type\":\"scatter\"},{\"hovertemplate\":\"index=visformer_small_MagFace_SGD<br>Accuracy=%{x}<br>Disparity=%{y}<extra></extra>\",\"legendgroup\":\"visformer_small_MagFace_SGD\",\"marker\":{\"color\":\"#B6E880\",\"symbol\":\"circle\"},\"mode\":\"markers\",\"name\":\"visformer_small_MagFace_SGD\",\"orientation\":\"v\",\"showlegend\":true,\"x\":[0.0],\"xaxis\":\"x\",\"y\":[0.0],\"yaxis\":\"y\",\"type\":\"scatter\"},{\"hovertemplate\":\"index=visformer_small_MagFace_SGD_0.1_cosine<br>Accuracy=%{x}<br>Disparity=%{y}<extra></extra>\",\"legendgroup\":\"visformer_small_MagFace_SGD_0.1_cosine\",\"marker\":{\"color\":\"#FF97FF\",\"symbol\":\"circle\"},\"mode\":\"markers\",\"name\":\"visformer_small_MagFace_SGD_0.1_cosine\",\"orientation\":\"v\",\"showlegend\":true,\"x\":[0.0],\"xaxis\":\"x\",\"y\":[0.0],\"yaxis\":\"y\",\"type\":\"scatter\"},{\"hovertemplate\":\"index=xception65_ArcFace_AdamW<br>Accuracy=%{x}<br>Disparity=%{y}<extra></extra>\",\"legendgroup\":\"xception65_ArcFace_AdamW\",\"marker\":{\"color\":\"#FECB52\",\"symbol\":\"circle\"},\"mode\":\"markers\",\"name\":\"xception65_ArcFace_AdamW\",\"orientation\":\"v\",\"showlegend\":true,\"x\":[0.5973677317967522],\"xaxis\":\"x\",\"y\":[0.19958093242535568],\"yaxis\":\"y\",\"type\":\"scatter\"},{\"hovertemplate\":\"index=xception65_ArcFace_AdamW_0.001_cosine<br>Accuracy=%{x}<br>Disparity=%{y}<extra></extra>\",\"legendgroup\":\"xception65_ArcFace_AdamW_0.001_cosine\",\"marker\":{\"color\":\"#636efa\",\"symbol\":\"circle\"},\"mode\":\"markers\",\"name\":\"xception65_ArcFace_AdamW_0.001_cosine\",\"orientation\":\"v\",\"showlegend\":true,\"x\":[0.5933080146673652],\"xaxis\":\"x\",\"y\":[3.4110790990047146],\"yaxis\":\"y\",\"type\":\"scatter\"},{\"hovertemplate\":\"index=xception65_ArcFace_SGD<br>Accuracy=%{x}<br>Disparity=%{y}<extra></extra>\",\"legendgroup\":\"xception65_ArcFace_SGD\",\"marker\":{\"color\":\"#EF553B\",\"symbol\":\"circle\"},\"mode\":\"markers\",\"name\":\"xception65_ArcFace_SGD\",\"orientation\":\"v\",\"showlegend\":true,\"x\":[0.7734415924567837],\"xaxis\":\"x\",\"y\":[2.163305395495023],\"yaxis\":\"y\",\"type\":\"scatter\"},{\"hovertemplate\":\"index=xception65_ArcFace_SGD_0.1_cosine<br>Accuracy=%{x}<br>Disparity=%{y}<extra></extra>\",\"legendgroup\":\"xception65_ArcFace_SGD_0.1_cosine\",\"marker\":{\"color\":\"#00cc96\",\"symbol\":\"circle\"},\"mode\":\"markers\",\"name\":\"xception65_ArcFace_SGD_0.1_cosine\",\"orientation\":\"v\",\"showlegend\":true,\"x\":[null],\"xaxis\":\"x\",\"y\":[null],\"yaxis\":\"y\",\"type\":\"scatter\"},{\"hovertemplate\":\"index=xception65_CosFace_Adam<br>Accuracy=%{x}<br>Disparity=%{y}<extra></extra>\",\"legendgroup\":\"xception65_CosFace_Adam\",\"marker\":{\"color\":\"#ab63fa\",\"symbol\":\"circle\"},\"mode\":\"markers\",\"name\":\"xception65_CosFace_Adam\",\"orientation\":\"v\",\"showlegend\":true,\"x\":[0.0],\"xaxis\":\"x\",\"y\":[0.0],\"yaxis\":\"y\",\"type\":\"scatter\"},{\"hovertemplate\":\"index=xception65_CosFace_AdamW<br>Accuracy=%{x}<br>Disparity=%{y}<extra></extra>\",\"legendgroup\":\"xception65_CosFace_AdamW\",\"marker\":{\"color\":\"#FFA15A\",\"symbol\":\"circle\"},\"mode\":\"markers\",\"name\":\"xception65_CosFace_AdamW\",\"orientation\":\"v\",\"showlegend\":true,\"x\":[0.48074908328968047],\"xaxis\":\"x\",\"y\":[7.1550550026191715],\"yaxis\":\"y\",\"type\":\"scatter\"},{\"hovertemplate\":\"index=xception65_CosFace_AdamW_0.001_cosine<br>Accuracy=%{x}<br>Disparity=%{y}<extra></extra>\",\"legendgroup\":\"xception65_CosFace_AdamW_0.001_cosine\",\"marker\":{\"color\":\"#19d3f3\",\"symbol\":\"circle\"},\"mode\":\"markers\",\"name\":\"xception65_CosFace_AdamW_0.001_cosine\",\"orientation\":\"v\",\"showlegend\":true,\"x\":[0.6414353064431639],\"xaxis\":\"x\",\"y\":[2.540466212676794],\"yaxis\":\"y\",\"type\":\"scatter\"},{\"hovertemplate\":\"index=xception65_CosFace_SGD<br>Accuracy=%{x}<br>Disparity=%{y}<extra></extra>\",\"legendgroup\":\"xception65_CosFace_SGD\",\"marker\":{\"color\":\"#FF6692\",\"symbol\":\"circle\"},\"mode\":\"markers\",\"name\":\"xception65_CosFace_SGD\",\"orientation\":\"v\",\"showlegend\":true,\"x\":[0.7124803562074384],\"xaxis\":\"x\",\"y\":[4.281953902566789],\"yaxis\":\"y\",\"type\":\"scatter\"},{\"hovertemplate\":\"index=xception65_CosFace_SGD_0.1_cosine<br>Accuracy=%{x}<br>Disparity=%{y}<extra></extra>\",\"legendgroup\":\"xception65_CosFace_SGD_0.1_cosine\",\"marker\":{\"color\":\"#B6E880\",\"symbol\":\"circle\"},\"mode\":\"markers\",\"name\":\"xception65_CosFace_SGD_0.1_cosine\",\"orientation\":\"v\",\"showlegend\":true,\"x\":[null],\"xaxis\":\"x\",\"y\":[null],\"yaxis\":\"y\",\"type\":\"scatter\"},{\"hovertemplate\":\"index=xception65_MagFace_AdamW<br>Accuracy=%{x}<br>Disparity=%{y}<extra></extra>\",\"legendgroup\":\"xception65_MagFace_AdamW\",\"marker\":{\"color\":\"#FF97FF\",\"symbol\":\"circle\"},\"mode\":\"markers\",\"name\":\"xception65_MagFace_AdamW\",\"orientation\":\"v\",\"showlegend\":true,\"x\":[0.6705081194342588],\"xaxis\":\"x\",\"y\":[2.2139863803038224],\"yaxis\":\"y\",\"type\":\"scatter\"},{\"hovertemplate\":\"index=xception65_MagFace_AdamW_0.001_cosine<br>Accuracy=%{x}<br>Disparity=%{y}<extra></extra>\",\"legendgroup\":\"xception65_MagFace_AdamW_0.001_cosine\",\"marker\":{\"color\":\"#FECB52\",\"symbol\":\"circle\"},\"mode\":\"markers\",\"name\":\"xception65_MagFace_AdamW_0.001_cosine\",\"orientation\":\"v\",\"showlegend\":true,\"x\":[0.6301728653745416],\"xaxis\":\"x\",\"y\":[3.3673389209009956],\"yaxis\":\"y\",\"type\":\"scatter\"},{\"hovertemplate\":\"index=xception65_MagFace_SGD<br>Accuracy=%{x}<br>Disparity=%{y}<extra></extra>\",\"legendgroup\":\"xception65_MagFace_SGD\",\"marker\":{\"color\":\"#636efa\",\"symbol\":\"circle\"},\"mode\":\"markers\",\"name\":\"xception65_MagFace_SGD\",\"orientation\":\"v\",\"showlegend\":true,\"x\":[0.661144578313253],\"xaxis\":\"x\",\"y\":[2.9163174436877943],\"yaxis\":\"y\",\"type\":\"scatter\"},{\"hovertemplate\":\"index=xception65_MagFace_SGD_0.1_cosine<br>Accuracy=%{x}<br>Disparity=%{y}<extra></extra>\",\"legendgroup\":\"xception65_MagFace_SGD_0.1_cosine\",\"marker\":{\"color\":\"#EF553B\",\"symbol\":\"circle\"},\"mode\":\"markers\",\"name\":\"xception65_MagFace_SGD_0.1_cosine\",\"orientation\":\"v\",\"showlegend\":true,\"x\":[0.6600314300680985],\"xaxis\":\"x\",\"y\":[2.7946568884232583],\"yaxis\":\"y\",\"type\":\"scatter\"},{\"hovertemplate\":\"index=xception_ArcFace_AdamW<br>Accuracy=%{x}<br>Disparity=%{y}<extra></extra>\",\"legendgroup\":\"xception_ArcFace_AdamW\",\"marker\":{\"color\":\"#00cc96\",\"symbol\":\"circle\"},\"mode\":\"markers\",\"name\":\"xception_ArcFace_AdamW\",\"orientation\":\"v\",\"showlegend\":true,\"x\":[0.7006286013619696],\"xaxis\":\"x\",\"y\":[2.314562598218963],\"yaxis\":\"y\",\"type\":\"scatter\"},{\"hovertemplate\":\"index=xception_ArcFace_AdamW_0.001_cosine<br>Accuracy=%{x}<br>Disparity=%{y}<extra></extra>\",\"legendgroup\":\"xception_ArcFace_AdamW_0.001_cosine\",\"marker\":{\"color\":\"#ab63fa\",\"symbol\":\"circle\"},\"mode\":\"markers\",\"name\":\"xception_ArcFace_AdamW_0.001_cosine\",\"orientation\":\"v\",\"showlegend\":true,\"x\":[0.5859743321110529],\"xaxis\":\"x\",\"y\":[3.6179937139863805],\"yaxis\":\"y\",\"type\":\"scatter\"},{\"hovertemplate\":\"index=xception_ArcFace_SGD<br>Accuracy=%{x}<br>Disparity=%{y}<extra></extra>\",\"legendgroup\":\"xception_ArcFace_SGD\",\"marker\":{\"color\":\"#FFA15A\",\"symbol\":\"circle\"},\"mode\":\"markers\",\"name\":\"xception_ArcFace_SGD\",\"orientation\":\"v\",\"showlegend\":true,\"x\":[0.5467522262964903],\"xaxis\":\"x\",\"y\":[4.921424829753798],\"yaxis\":\"y\",\"type\":\"scatter\"},{\"hovertemplate\":\"index=xception_ArcFace_SGD_0.1_cosine<br>Accuracy=%{x}<br>Disparity=%{y}<extra></extra>\",\"legendgroup\":\"xception_ArcFace_SGD_0.1_cosine\",\"marker\":{\"color\":\"#19d3f3\",\"symbol\":\"circle\"},\"mode\":\"markers\",\"name\":\"xception_ArcFace_SGD_0.1_cosine\",\"orientation\":\"v\",\"showlegend\":true,\"x\":[0.7979963331587219],\"xaxis\":\"x\",\"y\":[2.0512048192771077],\"yaxis\":\"y\",\"type\":\"scatter\"},{\"hovertemplate\":\"index=xception_CosFace_Adam<br>Accuracy=%{x}<br>Disparity=%{y}<extra></extra>\",\"legendgroup\":\"xception_CosFace_Adam\",\"marker\":{\"color\":\"#FF6692\",\"symbol\":\"circle\"},\"mode\":\"markers\",\"name\":\"xception_CosFace_Adam\",\"orientation\":\"v\",\"showlegend\":true,\"x\":[0.0030120481927710845],\"xaxis\":\"x\",\"y\":[1.0666579360922128],\"yaxis\":\"y\",\"type\":\"scatter\"},{\"hovertemplate\":\"index=xception_CosFace_AdamW<br>Accuracy=%{x}<br>Disparity=%{y}<extra></extra>\",\"legendgroup\":\"xception_CosFace_AdamW\",\"marker\":{\"color\":\"#B6E880\",\"symbol\":\"circle\"},\"mode\":\"markers\",\"name\":\"xception_CosFace_AdamW\",\"orientation\":\"v\",\"showlegend\":true,\"x\":[0.5953378732320587],\"xaxis\":\"x\",\"y\":[2.752619172341541],\"yaxis\":\"y\",\"type\":\"scatter\"},{\"hovertemplate\":\"index=xception_CosFace_AdamW_0.001_cosine<br>Accuracy=%{x}<br>Disparity=%{y}<extra></extra>\",\"legendgroup\":\"xception_CosFace_AdamW_0.001_cosine\",\"marker\":{\"color\":\"#FF97FF\",\"symbol\":\"circle\"},\"mode\":\"markers\",\"name\":\"xception_CosFace_AdamW_0.001_cosine\",\"orientation\":\"v\",\"showlegend\":true,\"x\":[0.6113803038239917],\"xaxis\":\"x\",\"y\":[4.285751702462022],\"yaxis\":\"y\",\"type\":\"scatter\"},{\"hovertemplate\":\"index=xception_CosFace_SGD<br>Accuracy=%{x}<br>Disparity=%{y}<extra></extra>\",\"legendgroup\":\"xception_CosFace_SGD\",\"marker\":{\"color\":\"#FECB52\",\"symbol\":\"circle\"},\"mode\":\"markers\",\"name\":\"xception_CosFace_SGD\",\"orientation\":\"v\",\"showlegend\":true,\"x\":[0.697158198009429],\"xaxis\":\"x\",\"y\":[4.979177579884757],\"yaxis\":\"y\",\"type\":\"scatter\"},{\"hovertemplate\":\"index=xception_CosFace_SGD_0.1_cosine<br>Accuracy=%{x}<br>Disparity=%{y}<extra></extra>\",\"legendgroup\":\"xception_CosFace_SGD_0.1_cosine\",\"marker\":{\"color\":\"#636efa\",\"symbol\":\"circle\"},\"mode\":\"markers\",\"name\":\"xception_CosFace_SGD_0.1_cosine\",\"orientation\":\"v\",\"showlegend\":true,\"x\":[0.7287847040335254],\"xaxis\":\"x\",\"y\":[4.909507595599791],\"yaxis\":\"y\",\"type\":\"scatter\"},{\"hovertemplate\":\"index=xception_MagFace_AdamW<br>Accuracy=%{x}<br>Disparity=%{y}<extra></extra>\",\"legendgroup\":\"xception_MagFace_AdamW\",\"marker\":{\"color\":\"#EF553B\",\"symbol\":\"circle\"},\"mode\":\"markers\",\"name\":\"xception_MagFace_AdamW\",\"orientation\":\"v\",\"showlegend\":true,\"x\":[0.7818884232582504],\"xaxis\":\"x\",\"y\":[2.245678365636459],\"yaxis\":\"y\",\"type\":\"scatter\"},{\"hovertemplate\":\"index=xception_MagFace_AdamW_0.001_cosine<br>Accuracy=%{x}<br>Disparity=%{y}<extra></extra>\",\"legendgroup\":\"xception_MagFace_AdamW_0.001_cosine\",\"marker\":{\"color\":\"#00cc96\",\"symbol\":\"circle\"},\"mode\":\"markers\",\"name\":\"xception_MagFace_AdamW_0.001_cosine\",\"orientation\":\"v\",\"showlegend\":true,\"x\":[0.6066657936092195],\"xaxis\":\"x\",\"y\":[3.1701152435830267],\"yaxis\":\"y\",\"type\":\"scatter\"},{\"hovertemplate\":\"index=xception_MagFace_SGD<br>Accuracy=%{x}<br>Disparity=%{y}<extra></extra>\",\"legendgroup\":\"xception_MagFace_SGD\",\"marker\":{\"color\":\"#ab63fa\",\"symbol\":\"circle\"},\"mode\":\"markers\",\"name\":\"xception_MagFace_SGD\",\"orientation\":\"v\",\"showlegend\":true,\"x\":[0.8657019381875327],\"xaxis\":\"x\",\"y\":[3.0814562598218966],\"yaxis\":\"y\",\"type\":\"scatter\"},{\"hovertemplate\":\"index=xception_MagFace_SGD_0.1_cosine<br>Accuracy=%{x}<br>Disparity=%{y}<extra></extra>\",\"legendgroup\":\"xception_MagFace_SGD_0.1_cosine\",\"marker\":{\"color\":\"#FFA15A\",\"symbol\":\"circle\"},\"mode\":\"markers\",\"name\":\"xception_MagFace_SGD_0.1_cosine\",\"orientation\":\"v\",\"showlegend\":true,\"x\":[null],\"xaxis\":\"x\",\"y\":[null],\"yaxis\":\"y\",\"type\":\"scatter\"},{\"hovertemplate\":\"index=Checkpoints_Layers_132345_LR_0.019400015421793128_Head_CosFace_Optimizer_SGD<br>Accuracy=%{x}<br>Disparity=%{y}<extra></extra>\",\"legendgroup\":\"Checkpoints_Layers_132345_LR_0.019400015421793128_Head_CosFace_Optimizer_SGD\",\"marker\":{\"color\":\"#19d3f3\",\"symbol\":\"circle\"},\"mode\":\"markers\",\"name\":\"Checkpoints_Layers_132345_LR_0.019400015421793128_Head_CosFace_Optimizer_SGD\",\"orientation\":\"v\",\"showlegend\":true,\"x\":[0.8838397066526977],\"xaxis\":\"x\",\"y\":[4.0282870612886335],\"yaxis\":\"y\",\"type\":\"scatter\"},{\"hovertemplate\":\"index=Checkpoints_Edges_301_LR_0.0002097247501603349_Head_CosFace_Optimizer_Adam<br>Accuracy=%{x}<br>Disparity=%{y}<extra></extra>\",\"legendgroup\":\"Checkpoints_Edges_301_LR_0.0002097247501603349_Head_CosFace_Optimizer_Adam\",\"marker\":{\"color\":\"#FF6692\",\"symbol\":\"circle\"},\"mode\":\"markers\",\"name\":\"Checkpoints_Edges_301_LR_0.0002097247501603349_Head_CosFace_Optimizer_Adam\",\"orientation\":\"v\",\"showlegend\":true,\"x\":[0.9621529596647459],\"xaxis\":\"x\",\"y\":[1.5665269774751183],\"yaxis\":\"y\",\"type\":\"scatter\"},{\"hovertemplate\":\"index=Checkpoints_Edges_010_LR_0.22879262881822168_Head_CosFace_Optimizer_SGD<br>Accuracy=%{x}<br>Disparity=%{y}<extra></extra>\",\"legendgroup\":\"Checkpoints_Edges_010_LR_0.22879262881822168_Head_CosFace_Optimizer_SGD\",\"marker\":{\"color\":\"#B6E880\",\"symbol\":\"circle\"},\"mode\":\"markers\",\"name\":\"Checkpoints_Edges_010_LR_0.22879262881822168_Head_CosFace_Optimizer_SGD\",\"orientation\":\"v\",\"showlegend\":true,\"x\":[0.9621529596647459],\"xaxis\":\"x\",\"y\":[1.3882922996333162],\"yaxis\":\"y\",\"type\":\"scatter\"},{\"hovertemplate\":\"index=Checkpoints_Edges_680_LR_0.0006048015915653069_Head_CosFace_Optimizer_Adam<br>Accuracy=%{x}<br>Disparity=%{y}<extra></extra>\",\"legendgroup\":\"Checkpoints_Edges_680_LR_0.0006048015915653069_Head_CosFace_Optimizer_Adam\",\"marker\":{\"color\":\"#FF97FF\",\"symbol\":\"circle\"},\"mode\":\"markers\",\"name\":\"Checkpoints_Edges_680_LR_0.0006048015915653069_Head_CosFace_Optimizer_Adam\",\"orientation\":\"v\",\"showlegend\":true,\"x\":[0.964248297537978],\"xaxis\":\"x\",\"y\":[1.4072812991094814],\"yaxis\":\"y\",\"type\":\"scatter\"},{\"hovertemplate\":\"index=Checkpoints_Edges_607_LR_0.0002068925900365171_Head_CosFace_Optimizer_AdamW_1<br>Accuracy=%{x}<br>Disparity=%{y}<extra></extra>\",\"legendgroup\":\"Checkpoints_Edges_607_LR_0.0002068925900365171_Head_CosFace_Optimizer_AdamW_1\",\"marker\":{\"color\":\"#FECB52\",\"symbol\":\"circle\"},\"mode\":\"markers\",\"name\":\"Checkpoints_Edges_607_LR_0.0002068925900365171_Head_CosFace_Optimizer_AdamW_1\",\"orientation\":\"v\",\"showlegend\":true,\"x\":[0.9507595599790466],\"xaxis\":\"x\",\"y\":[1.951545311681509],\"yaxis\":\"y\",\"type\":\"scatter\"},{\"hovertemplate\":\"index=dpn107_CosFace_SGD_0.1_cosine_2<br>Accuracy=%{x}<br>Disparity=%{y}<extra></extra>\",\"legendgroup\":\"dpn107_CosFace_SGD_0.1_cosine_2\",\"marker\":{\"color\":\"#636efa\",\"symbol\":\"circle\"},\"mode\":\"markers\",\"name\":\"dpn107_CosFace_SGD_0.1_cosine_2\",\"orientation\":\"v\",\"showlegend\":true,\"x\":[0.9535096909376637],\"xaxis\":\"x\",\"y\":[2.221451021477213],\"yaxis\":\"y\",\"type\":\"scatter\"},{\"hovertemplate\":\"index=Checkpoints_Edges_607_LR_0.0002068925900365171_Head_CosFace_Optimizer_AdamW_2<br>Accuracy=%{x}<br>Disparity=%{y}<extra></extra>\",\"legendgroup\":\"Checkpoints_Edges_607_LR_0.0002068925900365171_Head_CosFace_Optimizer_AdamW_2\",\"marker\":{\"color\":\"#EF553B\",\"symbol\":\"circle\"},\"mode\":\"markers\",\"name\":\"Checkpoints_Edges_607_LR_0.0002068925900365171_Head_CosFace_Optimizer_AdamW_2\",\"orientation\":\"v\",\"showlegend\":true,\"x\":[0.9521346254583551],\"xaxis\":\"x\",\"y\":[2.1714248297537977],\"yaxis\":\"y\",\"type\":\"scatter\"},{\"hovertemplate\":\"index=Checkpoints_Edges_607_LR_0.0002068925900365171_Head_CosFace_Optimizer_AdamW_3<br>Accuracy=%{x}<br>Disparity=%{y}<extra></extra>\",\"legendgroup\":\"Checkpoints_Edges_607_LR_0.0002068925900365171_Head_CosFace_Optimizer_AdamW_3\",\"marker\":{\"color\":\"#00cc96\",\"symbol\":\"circle\"},\"mode\":\"markers\",\"name\":\"Checkpoints_Edges_607_LR_0.0002068925900365171_Head_CosFace_Optimizer_AdamW_3\",\"orientation\":\"v\",\"showlegend\":true,\"x\":[0.9503012048192772],\"xaxis\":\"x\",\"y\":[2.3656364588789947],\"yaxis\":\"y\",\"type\":\"scatter\"},{\"hovertemplate\":\"index=Checkpoints_Edges_607_LR_0.0002068925900365171_Head_CosFace_Optimizer_AdamW_5<br>Accuracy=%{x}<br>Disparity=%{y}<extra></extra>\",\"legendgroup\":\"Checkpoints_Edges_607_LR_0.0002068925900365171_Head_CosFace_Optimizer_AdamW_5\",\"marker\":{\"color\":\"#ab63fa\",\"symbol\":\"circle\"},\"mode\":\"markers\",\"name\":\"Checkpoints_Edges_607_LR_0.0002068925900365171_Head_CosFace_Optimizer_AdamW_5\",\"orientation\":\"v\",\"showlegend\":true,\"x\":[0.9497773703509691],\"xaxis\":\"x\",\"y\":[2.071503404924044],\"yaxis\":\"y\",\"type\":\"scatter\"},{\"hovertemplate\":\"index=Checkpoints_Edges_607_LR_0.0002068925900365171_Head_CosFace_Optimizer_AdamW_4<br>Accuracy=%{x}<br>Disparity=%{y}<extra></extra>\",\"legendgroup\":\"Checkpoints_Edges_607_LR_0.0002068925900365171_Head_CosFace_Optimizer_AdamW_4\",\"marker\":{\"color\":\"#FFA15A\",\"symbol\":\"circle\"},\"mode\":\"markers\",\"name\":\"Checkpoints_Edges_607_LR_0.0002068925900365171_Head_CosFace_Optimizer_AdamW_4\",\"orientation\":\"v\",\"showlegend\":true,\"x\":[null],\"xaxis\":\"x\",\"y\":[null],\"yaxis\":\"y\",\"type\":\"scatter\"},{\"hovertemplate\":\"index=Checkpoints_Edges_680_LR_0.0006048015915653069_Head_CosFace_Optimizer_Adam_1<br>Accuracy=%{x}<br>Disparity=%{y}<extra></extra>\",\"legendgroup\":\"Checkpoints_Edges_680_LR_0.0006048015915653069_Head_CosFace_Optimizer_Adam_1\",\"marker\":{\"color\":\"#19d3f3\",\"symbol\":\"circle\"},\"mode\":\"markers\",\"name\":\"Checkpoints_Edges_680_LR_0.0006048015915653069_Head_CosFace_Optimizer_Adam_1\",\"orientation\":\"v\",\"showlegend\":true,\"x\":[0.9664745940282871],\"xaxis\":\"x\",\"y\":[1.5840754321634365],\"yaxis\":\"y\",\"type\":\"scatter\"},{\"hovertemplate\":\"index=Checkpoints_Edges_680_LR_0.0006048015915653069_Head_CosFace_Optimizer_Adam_2<br>Accuracy=%{x}<br>Disparity=%{y}<extra></extra>\",\"legendgroup\":\"Checkpoints_Edges_680_LR_0.0006048015915653069_Head_CosFace_Optimizer_Adam_2\",\"marker\":{\"color\":\"#FF6692\",\"symbol\":\"circle\"},\"mode\":\"markers\",\"name\":\"Checkpoints_Edges_680_LR_0.0006048015915653069_Head_CosFace_Optimizer_Adam_2\",\"orientation\":\"v\",\"showlegend\":true,\"x\":[0.9640518596123625],\"xaxis\":\"x\",\"y\":[1.7145102147721318],\"yaxis\":\"y\",\"type\":\"scatter\"},{\"hovertemplate\":\"index=Checkpoints_Edges_680_LR_0.0006048015915653069_Head_CosFace_Optimizer_Adam_3<br>Accuracy=%{x}<br>Disparity=%{y}<extra></extra>\",\"legendgroup\":\"Checkpoints_Edges_680_LR_0.0006048015915653069_Head_CosFace_Optimizer_Adam_3\",\"marker\":{\"color\":\"#B6E880\",\"symbol\":\"circle\"},\"mode\":\"markers\",\"name\":\"Checkpoints_Edges_680_LR_0.0006048015915653069_Head_CosFace_Optimizer_Adam_3\",\"orientation\":\"v\",\"showlegend\":true,\"x\":[null],\"xaxis\":\"x\",\"y\":[null],\"yaxis\":\"y\",\"type\":\"scatter\"},{\"hovertemplate\":\"index=Checkpoints_Edges_680_LR_0.0006048015915653069_Head_CosFace_Optimizer_Adam_4<br>Accuracy=%{x}<br>Disparity=%{y}<extra></extra>\",\"legendgroup\":\"Checkpoints_Edges_680_LR_0.0006048015915653069_Head_CosFace_Optimizer_Adam_4\",\"marker\":{\"color\":\"#FF97FF\",\"symbol\":\"circle\"},\"mode\":\"markers\",\"name\":\"Checkpoints_Edges_680_LR_0.0006048015915653069_Head_CosFace_Optimizer_Adam_4\",\"orientation\":\"v\",\"showlegend\":true,\"x\":[null],\"xaxis\":\"x\",\"y\":[null],\"yaxis\":\"y\",\"type\":\"scatter\"},{\"hovertemplate\":\"index=Checkpoints_Edges_680_LR_0.0006048015915653069_Head_CosFace_Optimizer_Adam_5<br>Accuracy=%{x}<br>Disparity=%{y}<extra></extra>\",\"legendgroup\":\"Checkpoints_Edges_680_LR_0.0006048015915653069_Head_CosFace_Optimizer_Adam_5\",\"marker\":{\"color\":\"#FECB52\",\"symbol\":\"circle\"},\"mode\":\"markers\",\"name\":\"Checkpoints_Edges_680_LR_0.0006048015915653069_Head_CosFace_Optimizer_Adam_5\",\"orientation\":\"v\",\"showlegend\":true,\"x\":[null],\"xaxis\":\"x\",\"y\":[null],\"yaxis\":\"y\",\"type\":\"scatter\"},{\"hovertemplate\":\"index=Checkpoints_Edges_010_LR_0.22879262881822168_Head_CosFace_Optimizer_SGD_5<br>Accuracy=%{x}<br>Disparity=%{y}<extra></extra>\",\"legendgroup\":\"Checkpoints_Edges_010_LR_0.22879262881822168_Head_CosFace_Optimizer_SGD_5\",\"marker\":{\"color\":\"#636efa\",\"symbol\":\"circle\"},\"mode\":\"markers\",\"name\":\"Checkpoints_Edges_010_LR_0.22879262881822168_Head_CosFace_Optimizer_SGD_5\",\"orientation\":\"v\",\"showlegend\":true,\"x\":[null],\"xaxis\":\"x\",\"y\":[null],\"yaxis\":\"y\",\"type\":\"scatter\"},{\"hovertemplate\":\"index=Checkpoints_Edges_010_LR_0.22879262881822168_Head_CosFace_Optimizer_SGD_4<br>Accuracy=%{x}<br>Disparity=%{y}<extra></extra>\",\"legendgroup\":\"Checkpoints_Edges_010_LR_0.22879262881822168_Head_CosFace_Optimizer_SGD_4\",\"marker\":{\"color\":\"#EF553B\",\"symbol\":\"circle\"},\"mode\":\"markers\",\"name\":\"Checkpoints_Edges_010_LR_0.22879262881822168_Head_CosFace_Optimizer_SGD_4\",\"orientation\":\"v\",\"showlegend\":true,\"x\":[null],\"xaxis\":\"x\",\"y\":[null],\"yaxis\":\"y\",\"type\":\"scatter\"},{\"hovertemplate\":\"index=Checkpoints_Edges_010_LR_0.22879262881822168_Head_CosFace_Optimizer_SGD_3<br>Accuracy=%{x}<br>Disparity=%{y}<extra></extra>\",\"legendgroup\":\"Checkpoints_Edges_010_LR_0.22879262881822168_Head_CosFace_Optimizer_SGD_3\",\"marker\":{\"color\":\"#00cc96\",\"symbol\":\"circle\"},\"mode\":\"markers\",\"name\":\"Checkpoints_Edges_010_LR_0.22879262881822168_Head_CosFace_Optimizer_SGD_3\",\"orientation\":\"v\",\"showlegend\":true,\"x\":[null],\"xaxis\":\"x\",\"y\":[null],\"yaxis\":\"y\",\"type\":\"scatter\"},{\"hovertemplate\":\"index=Checkpoints_Edges_010_LR_0.22879262881822168_Head_CosFace_Optimizer_SGD_2<br>Accuracy=%{x}<br>Disparity=%{y}<extra></extra>\",\"legendgroup\":\"Checkpoints_Edges_010_LR_0.22879262881822168_Head_CosFace_Optimizer_SGD_2\",\"marker\":{\"color\":\"#ab63fa\",\"symbol\":\"circle\"},\"mode\":\"markers\",\"name\":\"Checkpoints_Edges_010_LR_0.22879262881822168_Head_CosFace_Optimizer_SGD_2\",\"orientation\":\"v\",\"showlegend\":true,\"x\":[null],\"xaxis\":\"x\",\"y\":[null],\"yaxis\":\"y\",\"type\":\"scatter\"},{\"hovertemplate\":\"index=Checkpoints_Edges_010_LR_0.22879262881822168_Head_CosFace_Optimizer_SGD_1<br>Accuracy=%{x}<br>Disparity=%{y}<extra></extra>\",\"legendgroup\":\"Checkpoints_Edges_010_LR_0.22879262881822168_Head_CosFace_Optimizer_SGD_1\",\"marker\":{\"color\":\"#FFA15A\",\"symbol\":\"circle\"},\"mode\":\"markers\",\"name\":\"Checkpoints_Edges_010_LR_0.22879262881822168_Head_CosFace_Optimizer_SGD_1\",\"orientation\":\"v\",\"showlegend\":true,\"x\":[null],\"xaxis\":\"x\",\"y\":[null],\"yaxis\":\"y\",\"type\":\"scatter\"},{\"hovertemplate\":\"index=Checkpoints_Edges_301_LR_0.0002097247501603349_Head_CosFace_Optimizer_Adam_1<br>Accuracy=%{x}<br>Disparity=%{y}<extra></extra>\",\"legendgroup\":\"Checkpoints_Edges_301_LR_0.0002097247501603349_Head_CosFace_Optimizer_Adam_1\",\"marker\":{\"color\":\"#19d3f3\",\"symbol\":\"circle\"},\"mode\":\"markers\",\"name\":\"Checkpoints_Edges_301_LR_0.0002097247501603349_Head_CosFace_Optimizer_Adam_1\",\"orientation\":\"v\",\"showlegend\":true,\"x\":[0.9624803562074384],\"xaxis\":\"x\",\"y\":[1.7705605028810893],\"yaxis\":\"y\",\"type\":\"scatter\"},{\"hovertemplate\":\"index=Checkpoints_Edges_301_LR_0.0002097247501603349_Head_CosFace_Optimizer_Adam_2<br>Accuracy=%{x}<br>Disparity=%{y}<extra></extra>\",\"legendgroup\":\"Checkpoints_Edges_301_LR_0.0002097247501603349_Head_CosFace_Optimizer_Adam_2\",\"marker\":{\"color\":\"#FF6692\",\"symbol\":\"circle\"},\"mode\":\"markers\",\"name\":\"Checkpoints_Edges_301_LR_0.0002097247501603349_Head_CosFace_Optimizer_Adam_2\",\"orientation\":\"v\",\"showlegend\":true,\"x\":[0.9616946045049765],\"xaxis\":\"x\",\"y\":[1.9867731796752222],\"yaxis\":\"y\",\"type\":\"scatter\"},{\"hovertemplate\":\"index=Checkpoints_Edges_301_LR_0.0002097247501603349_Head_CosFace_Optimizer_Adam_3<br>Accuracy=%{x}<br>Disparity=%{y}<extra></extra>\",\"legendgroup\":\"Checkpoints_Edges_301_LR_0.0002097247501603349_Head_CosFace_Optimizer_Adam_3\",\"marker\":{\"color\":\"#B6E880\",\"symbol\":\"circle\"},\"mode\":\"markers\",\"name\":\"Checkpoints_Edges_301_LR_0.0002097247501603349_Head_CosFace_Optimizer_Adam_3\",\"orientation\":\"v\",\"showlegend\":true,\"x\":[0.961629125196438],\"xaxis\":\"x\",\"y\":[1.5339182818229444],\"yaxis\":\"y\",\"type\":\"scatter\"},{\"hovertemplate\":\"index=Checkpoints_Edges_301_LR_0.0002097247501603349_Head_CosFace_Optimizer_Adam_4<br>Accuracy=%{x}<br>Disparity=%{y}<extra></extra>\",\"legendgroup\":\"Checkpoints_Edges_301_LR_0.0002097247501603349_Head_CosFace_Optimizer_Adam_4\",\"marker\":{\"color\":\"#FF97FF\",\"symbol\":\"circle\"},\"mode\":\"markers\",\"name\":\"Checkpoints_Edges_301_LR_0.0002097247501603349_Head_CosFace_Optimizer_Adam_4\",\"orientation\":\"v\",\"showlegend\":true,\"x\":[0.9613672079622839],\"xaxis\":\"x\",\"y\":[1.4188056574122578],\"yaxis\":\"y\",\"type\":\"scatter\"},{\"hovertemplate\":\"index=Checkpoints_Edges_301_LR_0.0002097247501603349_Head_CosFace_Optimizer_Adam_5<br>Accuracy=%{x}<br>Disparity=%{y}<extra></extra>\",\"legendgroup\":\"Checkpoints_Edges_301_LR_0.0002097247501603349_Head_CosFace_Optimizer_Adam_5\",\"marker\":{\"color\":\"#FECB52\",\"symbol\":\"circle\"},\"mode\":\"markers\",\"name\":\"Checkpoints_Edges_301_LR_0.0002097247501603349_Head_CosFace_Optimizer_Adam_5\",\"orientation\":\"v\",\"showlegend\":true,\"x\":[0.9610398114195914],\"xaxis\":\"x\",\"y\":[1.9769512833944471],\"yaxis\":\"y\",\"type\":\"scatter\"},{\"hovertemplate\":\"index=Checkpoints_Edges_010_LR_0.32348738788346576_Head_CosFace_Optimizer_SGD_5<br>Accuracy=%{x}<br>Disparity=%{y}<extra></extra>\",\"legendgroup\":\"Checkpoints_Edges_010_LR_0.32348738788346576_Head_CosFace_Optimizer_SGD_5\",\"marker\":{\"color\":\"#636efa\",\"symbol\":\"circle\"},\"mode\":\"markers\",\"name\":\"Checkpoints_Edges_010_LR_0.32348738788346576_Head_CosFace_Optimizer_SGD_5\",\"orientation\":\"v\",\"showlegend\":true,\"x\":[0.9607124148768988],\"xaxis\":\"x\",\"y\":[1.5070717653221584],\"yaxis\":\"y\",\"type\":\"scatter\"},{\"hovertemplate\":\"index=Checkpoints_Edges_010_LR_0.32348738788346576_Head_CosFace_Optimizer_SGD_1<br>Accuracy=%{x}<br>Disparity=%{y}<extra></extra>\",\"legendgroup\":\"Checkpoints_Edges_010_LR_0.32348738788346576_Head_CosFace_Optimizer_SGD_1\",\"marker\":{\"color\":\"#EF553B\",\"symbol\":\"circle\"},\"mode\":\"markers\",\"name\":\"Checkpoints_Edges_010_LR_0.32348738788346576_Head_CosFace_Optimizer_SGD_1\",\"orientation\":\"v\",\"showlegend\":true,\"x\":[0.9611707700366684],\"xaxis\":\"x\",\"y\":[1.4690937663698271],\"yaxis\":\"y\",\"type\":\"scatter\"},{\"hovertemplate\":\"index=Checkpoints_Edges_010_LR_0.32348738788346576_Head_CosFace_Optimizer_SGD_2<br>Accuracy=%{x}<br>Disparity=%{y}<extra></extra>\",\"legendgroup\":\"Checkpoints_Edges_010_LR_0.32348738788346576_Head_CosFace_Optimizer_SGD_2\",\"marker\":{\"color\":\"#00cc96\",\"symbol\":\"circle\"},\"mode\":\"markers\",\"name\":\"Checkpoints_Edges_010_LR_0.32348738788346576_Head_CosFace_Optimizer_SGD_2\",\"orientation\":\"v\",\"showlegend\":true,\"x\":[0.9611052907281299],\"xaxis\":\"x\",\"y\":[1.2996333158721844],\"yaxis\":\"y\",\"type\":\"scatter\"},{\"hovertemplate\":\"index=Checkpoints_Edges_010_LR_0.32348738788346576_Head_CosFace_Optimizer_SGD_3<br>Accuracy=%{x}<br>Disparity=%{y}<extra></extra>\",\"legendgroup\":\"Checkpoints_Edges_010_LR_0.32348738788346576_Head_CosFace_Optimizer_SGD_3\",\"marker\":{\"color\":\"#ab63fa\",\"symbol\":\"circle\"},\"mode\":\"markers\",\"name\":\"Checkpoints_Edges_010_LR_0.32348738788346576_Head_CosFace_Optimizer_SGD_3\",\"orientation\":\"v\",\"showlegend\":true,\"x\":[0.9606469355683604],\"xaxis\":\"x\",\"y\":[1.2572027239392352],\"yaxis\":\"y\",\"type\":\"scatter\"},{\"hovertemplate\":\"index=Checkpoints_Edges_010_LR_0.32348738788346576_Head_CosFace_Optimizer_SGD_4<br>Accuracy=%{x}<br>Disparity=%{y}<extra></extra>\",\"legendgroup\":\"Checkpoints_Edges_010_LR_0.32348738788346576_Head_CosFace_Optimizer_SGD_4\",\"marker\":{\"color\":\"#FFA15A\",\"symbol\":\"circle\"},\"mode\":\"markers\",\"name\":\"Checkpoints_Edges_010_LR_0.32348738788346576_Head_CosFace_Optimizer_SGD_4\",\"orientation\":\"v\",\"showlegend\":true,\"x\":[0.9601231011000524],\"xaxis\":\"x\",\"y\":[1.3765060240963858],\"yaxis\":\"y\",\"type\":\"scatter\"},{\"hovertemplate\":\"index=Checkpoints_Edges_000_LR_0.2813375341651194_Head_CosFace_Optimizer_SGD_1<br>Accuracy=%{x}<br>Disparity=%{y}<extra></extra>\",\"legendgroup\":\"Checkpoints_Edges_000_LR_0.2813375341651194_Head_CosFace_Optimizer_SGD_1\",\"marker\":{\"color\":\"#19d3f3\",\"symbol\":\"circle\"},\"mode\":\"markers\",\"name\":\"Checkpoints_Edges_000_LR_0.2813375341651194_Head_CosFace_Optimizer_SGD_1\",\"orientation\":\"v\",\"showlegend\":true,\"x\":[0.9694211629125197],\"xaxis\":\"x\",\"y\":[1.2599528548978522],\"yaxis\":\"y\",\"type\":\"scatter\"},{\"hovertemplate\":\"index=Checkpoints_Edges_000_LR_0.2813375341651194_Head_CosFace_Optimizer_SGD_2<br>Accuracy=%{x}<br>Disparity=%{y}<extra></extra>\",\"legendgroup\":\"Checkpoints_Edges_000_LR_0.2813375341651194_Head_CosFace_Optimizer_SGD_2\",\"marker\":{\"color\":\"#FF6692\",\"symbol\":\"circle\"},\"mode\":\"markers\",\"name\":\"Checkpoints_Edges_000_LR_0.2813375341651194_Head_CosFace_Optimizer_SGD_2\",\"orientation\":\"v\",\"showlegend\":true,\"x\":[0.9685044525929806],\"xaxis\":\"x\",\"y\":[1.5863017286537455],\"yaxis\":\"y\",\"type\":\"scatter\"},{\"hovertemplate\":\"index=Checkpoints_Edges_000_LR_0.2813375341651194_Head_CosFace_Optimizer_SGD_3<br>Accuracy=%{x}<br>Disparity=%{y}<extra></extra>\",\"legendgroup\":\"Checkpoints_Edges_000_LR_0.2813375341651194_Head_CosFace_Optimizer_SGD_3\",\"marker\":{\"color\":\"#B6E880\",\"symbol\":\"circle\"},\"mode\":\"markers\",\"name\":\"Checkpoints_Edges_000_LR_0.2813375341651194_Head_CosFace_Optimizer_SGD_3\",\"orientation\":\"v\",\"showlegend\":true,\"x\":[0.9683734939759037],\"xaxis\":\"x\",\"y\":[1.597171293871137],\"yaxis\":\"y\",\"type\":\"scatter\"},{\"hovertemplate\":\"index=Checkpoints_Edges_000_LR_0.2813375341651194_Head_CosFace_Optimizer_SGD_4<br>Accuracy=%{x}<br>Disparity=%{y}<extra></extra>\",\"legendgroup\":\"Checkpoints_Edges_000_LR_0.2813375341651194_Head_CosFace_Optimizer_SGD_4\",\"marker\":{\"color\":\"#FF97FF\",\"symbol\":\"circle\"},\"mode\":\"markers\",\"name\":\"Checkpoints_Edges_000_LR_0.2813375341651194_Head_CosFace_Optimizer_SGD_4\",\"orientation\":\"v\",\"showlegend\":true,\"x\":[0.9700104766893661],\"xaxis\":\"x\",\"y\":[1.5923258250392873],\"yaxis\":\"y\",\"type\":\"scatter\"},{\"hovertemplate\":\"index=Checkpoints_Edges_000_LR_0.2813375341651194_Head_CosFace_Optimizer_SGD_5<br>Accuracy=%{x}<br>Disparity=%{y}<extra></extra>\",\"legendgroup\":\"Checkpoints_Edges_000_LR_0.2813375341651194_Head_CosFace_Optimizer_SGD_5\",\"marker\":{\"color\":\"#FECB52\",\"symbol\":\"circle\"},\"mode\":\"markers\",\"name\":\"Checkpoints_Edges_000_LR_0.2813375341651194_Head_CosFace_Optimizer_SGD_5\",\"orientation\":\"v\",\"showlegend\":true,\"x\":[0.9690282870612886],\"xaxis\":\"x\",\"y\":[1.1482451545311685],\"yaxis\":\"y\",\"type\":\"scatter\"},{\"hovertemplate\":\"index=dpn107_CosFace_SGD_0.1_cosine_3<br>Accuracy=%{x}<br>Disparity=%{y}<extra></extra>\",\"legendgroup\":\"dpn107_CosFace_SGD_0.1_cosine_3\",\"marker\":{\"color\":\"#636efa\",\"symbol\":\"circle\"},\"mode\":\"markers\",\"name\":\"dpn107_CosFace_SGD_0.1_cosine_3\",\"orientation\":\"v\",\"showlegend\":true,\"x\":[0.9511524358302776],\"xaxis\":\"x\",\"y\":[2.8421948664222105],\"yaxis\":\"y\",\"type\":\"scatter\"},{\"hovertemplate\":\"index=dpn107_CosFace_SGD_0.1_cosine_4<br>Accuracy=%{x}<br>Disparity=%{y}<extra></extra>\",\"legendgroup\":\"dpn107_CosFace_SGD_0.1_cosine_4\",\"marker\":{\"color\":\"#EF553B\",\"symbol\":\"circle\"},\"mode\":\"markers\",\"name\":\"dpn107_CosFace_SGD_0.1_cosine_4\",\"orientation\":\"v\",\"showlegend\":true,\"x\":[0.9544918805657412],\"xaxis\":\"x\",\"y\":[2.5550026191723414],\"yaxis\":\"y\",\"type\":\"scatter\"},{\"hovertemplate\":\"index=dpn107_CosFace_SGD_0.1_cosine_5<br>Accuracy=%{x}<br>Disparity=%{y}<extra></extra>\",\"legendgroup\":\"dpn107_CosFace_SGD_0.1_cosine_5\",\"marker\":{\"color\":\"#00cc96\",\"symbol\":\"circle\"},\"mode\":\"markers\",\"name\":\"dpn107_CosFace_SGD_0.1_cosine_5\",\"orientation\":\"v\",\"showlegend\":true,\"x\":[0.947943949711891],\"xaxis\":\"x\",\"y\":[2.590230487166056],\"yaxis\":\"y\",\"type\":\"scatter\"},{\"hovertemplate\":\"index=dpn107_CosFace_SGD_0.1_cosine_6<br>Accuracy=%{x}<br>Disparity=%{y}<extra></extra>\",\"legendgroup\":\"dpn107_CosFace_SGD_0.1_cosine_6\",\"marker\":{\"color\":\"#ab63fa\",\"symbol\":\"circle\"},\"mode\":\"markers\",\"name\":\"dpn107_CosFace_SGD_0.1_cosine_6\",\"orientation\":\"v\",\"showlegend\":true,\"x\":[0.9512833944473547],\"xaxis\":\"x\",\"y\":[2.971451021477213],\"yaxis\":\"y\",\"type\":\"scatter\"},{\"hovertemplate\":\"index=dpn107_CosFace_SGD_0.1_cosine_7<br>Accuracy=%{x}<br>Disparity=%{y}<extra></extra>\",\"legendgroup\":\"dpn107_CosFace_SGD_0.1_cosine_7\",\"marker\":{\"color\":\"#FFA15A\",\"symbol\":\"circle\"},\"mode\":\"markers\",\"name\":\"dpn107_CosFace_SGD_0.1_cosine_7\",\"orientation\":\"v\",\"showlegend\":true,\"x\":[0.947943949711891],\"xaxis\":\"x\",\"y\":[2.6643530644316398],\"yaxis\":\"y\",\"type\":\"scatter\"},{\"hovertemplate\":\"index=dpn107_CosFace_SGD_0.1_cosine_1<br>Accuracy=%{x}<br>Disparity=%{y}<extra></extra>\",\"legendgroup\":\"dpn107_CosFace_SGD_0.1_cosine_1\",\"marker\":{\"color\":\"#19d3f3\",\"symbol\":\"circle\"},\"mode\":\"markers\",\"name\":\"dpn107_CosFace_SGD_0.1_cosine_1\",\"orientation\":\"v\",\"showlegend\":true,\"x\":[0.9558014667365112],\"xaxis\":\"x\",\"y\":[2.331194342587742],\"yaxis\":\"y\",\"type\":\"scatter\"},{\"hovertemplate\":\"index=Checkpoints_Edges_680_LR_0.0006048015915653069_Head_CosFace_Optimizer_Adam_7<br>Accuracy=%{x}<br>Disparity=%{y}<extra></extra>\",\"legendgroup\":\"Checkpoints_Edges_680_LR_0.0006048015915653069_Head_CosFace_Optimizer_Adam_7\",\"marker\":{\"color\":\"#FF6692\",\"symbol\":\"circle\"},\"mode\":\"markers\",\"name\":\"Checkpoints_Edges_680_LR_0.0006048015915653069_Head_CosFace_Optimizer_Adam_7\",\"orientation\":\"v\",\"showlegend\":true,\"x\":[0.966212676794133],\"xaxis\":\"x\",\"y\":[1.957700366684128],\"yaxis\":\"y\",\"type\":\"scatter\"},{\"hovertemplate\":\"index=Checkpoints_Edges_680_LR_0.0006048015915653069_Head_CosFace_Optimizer_Adam_6<br>Accuracy=%{x}<br>Disparity=%{y}<extra></extra>\",\"legendgroup\":\"Checkpoints_Edges_680_LR_0.0006048015915653069_Head_CosFace_Optimizer_Adam_6\",\"marker\":{\"color\":\"#B6E880\",\"symbol\":\"circle\"},\"mode\":\"markers\",\"name\":\"Checkpoints_Edges_680_LR_0.0006048015915653069_Head_CosFace_Optimizer_Adam_6\",\"orientation\":\"v\",\"showlegend\":true,\"x\":[0.9664091147197486],\"xaxis\":\"x\",\"y\":[1.9055788370874809],\"yaxis\":\"y\",\"type\":\"scatter\"},{\"hovertemplate\":\"index=Checkpoints_Edges_680_LR_0.0006048015915653069_Head_CosFace_Optimizer_Adam_8<br>Accuracy=%{x}<br>Disparity=%{y}<extra></extra>\",\"legendgroup\":\"Checkpoints_Edges_680_LR_0.0006048015915653069_Head_CosFace_Optimizer_Adam_8\",\"marker\":{\"color\":\"#FF97FF\",\"symbol\":\"circle\"},\"mode\":\"markers\",\"name\":\"Checkpoints_Edges_680_LR_0.0006048015915653069_Head_CosFace_Optimizer_Adam_8\",\"orientation\":\"v\",\"showlegend\":true,\"x\":[0.9675877422734416],\"xaxis\":\"x\",\"y\":[1.8370874803562076],\"yaxis\":\"y\",\"type\":\"scatter\"},{\"hovertemplate\":\"index=Checkpoints_Edges_680_LR_0.0006048015915653069_Head_CosFace_Optimizer_Adam_9<br>Accuracy=%{x}<br>Disparity=%{y}<extra></extra>\",\"legendgroup\":\"Checkpoints_Edges_680_LR_0.0006048015915653069_Head_CosFace_Optimizer_Adam_9\",\"marker\":{\"color\":\"#FECB52\",\"symbol\":\"circle\"},\"mode\":\"markers\",\"name\":\"Checkpoints_Edges_680_LR_0.0006048015915653069_Head_CosFace_Optimizer_Adam_9\",\"orientation\":\"v\",\"showlegend\":true,\"x\":[0.967391304347826],\"xaxis\":\"x\",\"y\":[1.6862231534834988],\"yaxis\":\"y\",\"type\":\"scatter\"},{\"hovertemplate\":\"index=Checkpoints_Edges_680_LR_0.0006048015915653069_Head_CosFace_Optimizer_Adam_10<br>Accuracy=%{x}<br>Disparity=%{y}<extra></extra>\",\"legendgroup\":\"Checkpoints_Edges_680_LR_0.0006048015915653069_Head_CosFace_Optimizer_Adam_10\",\"marker\":{\"color\":\"#636efa\",\"symbol\":\"circle\"},\"mode\":\"markers\",\"name\":\"Checkpoints_Edges_680_LR_0.0006048015915653069_Head_CosFace_Optimizer_Adam_10\",\"orientation\":\"v\",\"showlegend\":true,\"x\":[0.9667365112624411],\"xaxis\":\"x\",\"y\":[1.7328444211629126],\"yaxis\":\"y\",\"type\":\"scatter\"},{\"hovertemplate\":\"index=inception_resnet_v2_CosFace_AdamW_0.001_cosine_333<br>Accuracy=%{x}<br>Disparity=%{y}<extra></extra>\",\"legendgroup\":\"inception_resnet_v2_CosFace_AdamW_0.001_cosine_333\",\"marker\":{\"color\":\"#EF553B\",\"symbol\":\"circle\"},\"mode\":\"markers\",\"name\":\"inception_resnet_v2_CosFace_AdamW_0.001_cosine_333\",\"orientation\":\"v\",\"showlegend\":true,\"x\":[0.40531691985332635],\"xaxis\":\"x\",\"y\":[12.95770036668413],\"yaxis\":\"y\",\"type\":\"scatter\"},{\"hovertemplate\":\"index=inception_resnet_v2_CosFace_AdamW_0.001_cosine_444<br>Accuracy=%{x}<br>Disparity=%{y}<extra></extra>\",\"legendgroup\":\"inception_resnet_v2_CosFace_AdamW_0.001_cosine_444\",\"marker\":{\"color\":\"#00cc96\",\"symbol\":\"circle\"},\"mode\":\"markers\",\"name\":\"inception_resnet_v2_CosFace_AdamW_0.001_cosine_444\",\"orientation\":\"v\",\"showlegend\":true,\"x\":[0.46542692509167105],\"xaxis\":\"x\",\"y\":[6.543347302252489],\"yaxis\":\"y\",\"type\":\"scatter\"},{\"hovertemplate\":\"index=inception_resnet_v2_CosFace_AdamW_0.001_cosine_555<br>Accuracy=%{x}<br>Disparity=%{y}<extra></extra>\",\"legendgroup\":\"inception_resnet_v2_CosFace_AdamW_0.001_cosine_555\",\"marker\":{\"color\":\"#ab63fa\",\"symbol\":\"circle\"},\"mode\":\"markers\",\"name\":\"inception_resnet_v2_CosFace_AdamW_0.001_cosine_555\",\"orientation\":\"v\",\"showlegend\":true,\"x\":[0.3860660031430068],\"xaxis\":\"x\",\"y\":[14.377160817181768],\"yaxis\":\"y\",\"type\":\"scatter\"},{\"hovertemplate\":\"index=inception_resnet_v2_CosFace_AdamW_0.001_cosine_666<br>Accuracy=%{x}<br>Disparity=%{y}<extra></extra>\",\"legendgroup\":\"inception_resnet_v2_CosFace_AdamW_0.001_cosine_666\",\"marker\":{\"color\":\"#FFA15A\",\"symbol\":\"circle\"},\"mode\":\"markers\",\"name\":\"inception_resnet_v2_CosFace_AdamW_0.001_cosine_666\",\"orientation\":\"v\",\"showlegend\":true,\"x\":[0.4928627553693033],\"xaxis\":\"x\",\"y\":[10.557752750130959],\"yaxis\":\"y\",\"type\":\"scatter\"},{\"hovertemplate\":\"index=inception_resnet_v2_CosFace_SGD_0.1_cosine_666<br>Accuracy=%{x}<br>Disparity=%{y}<extra></extra>\",\"legendgroup\":\"inception_resnet_v2_CosFace_SGD_0.1_cosine_666\",\"marker\":{\"color\":\"#19d3f3\",\"symbol\":\"circle\"},\"mode\":\"markers\",\"name\":\"inception_resnet_v2_CosFace_SGD_0.1_cosine_666\",\"orientation\":\"v\",\"showlegend\":true,\"x\":[null],\"xaxis\":\"x\",\"y\":[null],\"yaxis\":\"y\",\"type\":\"scatter\"},{\"hovertemplate\":\"index=inception_resnet_v2_CosFace_SGD_0.1_cosine_333<br>Accuracy=%{x}<br>Disparity=%{y}<extra></extra>\",\"legendgroup\":\"inception_resnet_v2_CosFace_SGD_0.1_cosine_333\",\"marker\":{\"color\":\"#FF6692\",\"symbol\":\"circle\"},\"mode\":\"markers\",\"name\":\"inception_resnet_v2_CosFace_SGD_0.1_cosine_333\",\"orientation\":\"v\",\"showlegend\":true,\"x\":[0.7665007857517024],\"xaxis\":\"x\",\"y\":[4.157412257726558],\"yaxis\":\"y\",\"type\":\"scatter\"},{\"hovertemplate\":\"index=inception_resnet_v2_CosFace_SGD_0.1_cosine_444<br>Accuracy=%{x}<br>Disparity=%{y}<extra></extra>\",\"legendgroup\":\"inception_resnet_v2_CosFace_SGD_0.1_cosine_444\",\"marker\":{\"color\":\"#B6E880\",\"symbol\":\"circle\"},\"mode\":\"markers\",\"name\":\"inception_resnet_v2_CosFace_SGD_0.1_cosine_444\",\"orientation\":\"v\",\"showlegend\":true,\"x\":[0.7954426401257203],\"xaxis\":\"x\",\"y\":[1.6405185961236244],\"yaxis\":\"y\",\"type\":\"scatter\"},{\"hovertemplate\":\"index=inception_resnet_v2_CosFace_SGD_0.1_cosine_555<br>Accuracy=%{x}<br>Disparity=%{y}<extra></extra>\",\"legendgroup\":\"inception_resnet_v2_CosFace_SGD_0.1_cosine_555\",\"marker\":{\"color\":\"#FF97FF\",\"symbol\":\"circle\"},\"mode\":\"markers\",\"name\":\"inception_resnet_v2_CosFace_SGD_0.1_cosine_555\",\"orientation\":\"v\",\"showlegend\":true,\"x\":[null],\"xaxis\":\"x\",\"y\":[null],\"yaxis\":\"y\",\"type\":\"scatter\"},{\"hovertemplate\":\"index=densenet161_CosFace_AdamW_0.001_cosine_333<br>Accuracy=%{x}<br>Disparity=%{y}<extra></extra>\",\"legendgroup\":\"densenet161_CosFace_AdamW_0.001_cosine_333\",\"marker\":{\"color\":\"#FECB52\",\"symbol\":\"circle\"},\"mode\":\"markers\",\"name\":\"densenet161_CosFace_AdamW_0.001_cosine_333\",\"orientation\":\"v\",\"showlegend\":true,\"x\":[0.7790073336825563],\"xaxis\":\"x\",\"y\":[2.340230487166057],\"yaxis\":\"y\",\"type\":\"scatter\"},{\"hovertemplate\":\"index=densenet161_CosFace_AdamW_0.001_cosine_444<br>Accuracy=%{x}<br>Disparity=%{y}<extra></extra>\",\"legendgroup\":\"densenet161_CosFace_AdamW_0.001_cosine_444\",\"marker\":{\"color\":\"#636efa\",\"symbol\":\"circle\"},\"mode\":\"markers\",\"name\":\"densenet161_CosFace_AdamW_0.001_cosine_444\",\"orientation\":\"v\",\"showlegend\":true,\"x\":[0.7746202200104767],\"xaxis\":\"x\",\"y\":[9.193687794656888],\"yaxis\":\"y\",\"type\":\"scatter\"},{\"hovertemplate\":\"index=densenet161_CosFace_AdamW_0.001_cosine_555<br>Accuracy=%{x}<br>Disparity=%{y}<extra></extra>\",\"legendgroup\":\"densenet161_CosFace_AdamW_0.001_cosine_555\",\"marker\":{\"color\":\"#EF553B\",\"symbol\":\"circle\"},\"mode\":\"markers\",\"name\":\"densenet161_CosFace_AdamW_0.001_cosine_555\",\"orientation\":\"v\",\"showlegend\":true,\"x\":[0.7839837611314825],\"xaxis\":\"x\",\"y\":[12.70285489785228],\"yaxis\":\"y\",\"type\":\"scatter\"},{\"hovertemplate\":\"index=densenet161_CosFace_AdamW_0.001_cosine_666<br>Accuracy=%{x}<br>Disparity=%{y}<extra></extra>\",\"legendgroup\":\"densenet161_CosFace_AdamW_0.001_cosine_666\",\"marker\":{\"color\":\"#00cc96\",\"symbol\":\"circle\"},\"mode\":\"markers\",\"name\":\"densenet161_CosFace_AdamW_0.001_cosine_666\",\"orientation\":\"v\",\"showlegend\":true,\"x\":[0.8308669460450497],\"xaxis\":\"x\",\"y\":[1.7252488213724462],\"yaxis\":\"y\",\"type\":\"scatter\"},{\"hovertemplate\":\"index=dpn107_MagFace_SGD_0.1_cosine_333<br>Accuracy=%{x}<br>Disparity=%{y}<extra></extra>\",\"legendgroup\":\"dpn107_MagFace_SGD_0.1_cosine_333\",\"marker\":{\"color\":\"#ab63fa\",\"symbol\":\"circle\"},\"mode\":\"markers\",\"name\":\"dpn107_MagFace_SGD_0.1_cosine_333\",\"orientation\":\"v\",\"showlegend\":true,\"x\":[0.8312598218962808],\"xaxis\":\"x\",\"y\":[1.389078051335777],\"yaxis\":\"y\",\"type\":\"scatter\"},{\"hovertemplate\":\"index=dpn107_MagFace_SGD_0.1_cosine_444<br>Accuracy=%{x}<br>Disparity=%{y}<extra></extra>\",\"legendgroup\":\"dpn107_MagFace_SGD_0.1_cosine_444\",\"marker\":{\"color\":\"#FFA15A\",\"symbol\":\"circle\"},\"mode\":\"markers\",\"name\":\"dpn107_MagFace_SGD_0.1_cosine_444\",\"orientation\":\"v\",\"showlegend\":true,\"x\":[0.8704164484023049],\"xaxis\":\"x\",\"y\":[1.1249345206914612],\"yaxis\":\"y\",\"type\":\"scatter\"},{\"hovertemplate\":\"index=dpn107_MagFace_SGD_0.1_cosine_555<br>Accuracy=%{x}<br>Disparity=%{y}<extra></extra>\",\"legendgroup\":\"dpn107_MagFace_SGD_0.1_cosine_555\",\"marker\":{\"color\":\"#19d3f3\",\"symbol\":\"circle\"},\"mode\":\"markers\",\"name\":\"dpn107_MagFace_SGD_0.1_cosine_555\",\"orientation\":\"v\",\"showlegend\":true,\"x\":[0.8714641173389209],\"xaxis\":\"x\",\"y\":[1.4892613933996857],\"yaxis\":\"y\",\"type\":\"scatter\"},{\"hovertemplate\":\"index=dpn107_MagFace_SGD_0.1_cosine_666<br>Accuracy=%{x}<br>Disparity=%{y}<extra></extra>\",\"legendgroup\":\"dpn107_MagFace_SGD_0.1_cosine_666\",\"marker\":{\"color\":\"#FF6692\",\"symbol\":\"circle\"},\"mode\":\"markers\",\"name\":\"dpn107_MagFace_SGD_0.1_cosine_666\",\"orientation\":\"v\",\"showlegend\":true,\"x\":[0.874738082765846],\"xaxis\":\"x\",\"y\":[1.8854112100576215],\"yaxis\":\"y\",\"type\":\"scatter\"},{\"hovertemplate\":\"index=ese_vovnet39b_CosFace_AdamW_0.001_cosine_333<br>Accuracy=%{x}<br>Disparity=%{y}<extra></extra>\",\"legendgroup\":\"ese_vovnet39b_CosFace_AdamW_0.001_cosine_333\",\"marker\":{\"color\":\"#B6E880\",\"symbol\":\"circle\"},\"mode\":\"markers\",\"name\":\"ese_vovnet39b_CosFace_AdamW_0.001_cosine_333\",\"orientation\":\"v\",\"showlegend\":true,\"x\":[0.7198140387637506],\"xaxis\":\"x\",\"y\":[4.366684127815611],\"yaxis\":\"y\",\"type\":\"scatter\"},{\"hovertemplate\":\"index=ese_vovnet39b_CosFace_AdamW_0.001_cosine_444<br>Accuracy=%{x}<br>Disparity=%{y}<extra></extra>\",\"legendgroup\":\"ese_vovnet39b_CosFace_AdamW_0.001_cosine_444\",\"marker\":{\"color\":\"#FF97FF\",\"symbol\":\"circle\"},\"mode\":\"markers\",\"name\":\"ese_vovnet39b_CosFace_AdamW_0.001_cosine_444\",\"orientation\":\"v\",\"showlegend\":true,\"x\":[0.6897590361445783],\"xaxis\":\"x\",\"y\":[6.551597695128338],\"yaxis\":\"y\",\"type\":\"scatter\"},{\"hovertemplate\":\"index=ese_vovnet39b_CosFace_AdamW_0.001_cosine_555<br>Accuracy=%{x}<br>Disparity=%{y}<extra></extra>\",\"legendgroup\":\"ese_vovnet39b_CosFace_AdamW_0.001_cosine_555\",\"marker\":{\"color\":\"#FECB52\",\"symbol\":\"circle\"},\"mode\":\"markers\",\"name\":\"ese_vovnet39b_CosFace_AdamW_0.001_cosine_555\",\"orientation\":\"v\",\"showlegend\":true,\"x\":[0.5483237297014144],\"xaxis\":\"x\",\"y\":[9.129125196437926],\"yaxis\":\"y\",\"type\":\"scatter\"},{\"hovertemplate\":\"index=ese_vovnet39b_CosFace_AdamW_0.001_cosine_666<br>Accuracy=%{x}<br>Disparity=%{y}<extra></extra>\",\"legendgroup\":\"ese_vovnet39b_CosFace_AdamW_0.001_cosine_666\",\"marker\":{\"color\":\"#636efa\",\"symbol\":\"circle\"},\"mode\":\"markers\",\"name\":\"ese_vovnet39b_CosFace_AdamW_0.001_cosine_666\",\"orientation\":\"v\",\"showlegend\":true,\"x\":[0.6923782084861184],\"xaxis\":\"x\",\"y\":[6.056966998428498],\"yaxis\":\"y\",\"type\":\"scatter\"},{\"hovertemplate\":\"index=mobilenetv3_large_100_CosFace_SGD_0.1_cosine_333<br>Accuracy=%{x}<br>Disparity=%{y}<extra></extra>\",\"legendgroup\":\"mobilenetv3_large_100_CosFace_SGD_0.1_cosine_333\",\"marker\":{\"color\":\"#EF553B\",\"symbol\":\"circle\"},\"mode\":\"markers\",\"name\":\"mobilenetv3_large_100_CosFace_SGD_0.1_cosine_333\",\"orientation\":\"v\",\"showlegend\":true,\"x\":[0.7221058145625983],\"xaxis\":\"x\",\"y\":[4.668150864326873],\"yaxis\":\"y\",\"type\":\"scatter\"},{\"hovertemplate\":\"index=mobilenetv3_large_100_CosFace_SGD_0.1_cosine_444<br>Accuracy=%{x}<br>Disparity=%{y}<extra></extra>\",\"legendgroup\":\"mobilenetv3_large_100_CosFace_SGD_0.1_cosine_444\",\"marker\":{\"color\":\"#00cc96\",\"symbol\":\"circle\"},\"mode\":\"markers\",\"name\":\"mobilenetv3_large_100_CosFace_SGD_0.1_cosine_444\",\"orientation\":\"v\",\"showlegend\":true,\"x\":[0.7187663698271346],\"xaxis\":\"x\",\"y\":[5.977213200628602],\"yaxis\":\"y\",\"type\":\"scatter\"},{\"hovertemplate\":\"index=mobilenetv3_large_100_CosFace_SGD_0.1_cosine_555<br>Accuracy=%{x}<br>Disparity=%{y}<extra></extra>\",\"legendgroup\":\"mobilenetv3_large_100_CosFace_SGD_0.1_cosine_555\",\"marker\":{\"color\":\"#ab63fa\",\"symbol\":\"circle\"},\"mode\":\"markers\",\"name\":\"mobilenetv3_large_100_CosFace_SGD_0.1_cosine_555\",\"orientation\":\"v\",\"showlegend\":true,\"x\":[0.7065872184389733],\"xaxis\":\"x\",\"y\":[5.586825563122054],\"yaxis\":\"y\",\"type\":\"scatter\"},{\"hovertemplate\":\"index=mobilenetv3_large_100_CosFace_SGD_0.1_cosine_666<br>Accuracy=%{x}<br>Disparity=%{y}<extra></extra>\",\"legendgroup\":\"mobilenetv3_large_100_CosFace_SGD_0.1_cosine_666\",\"marker\":{\"color\":\"#FFA15A\",\"symbol\":\"circle\"},\"mode\":\"markers\",\"name\":\"mobilenetv3_large_100_CosFace_SGD_0.1_cosine_666\",\"orientation\":\"v\",\"showlegend\":true,\"x\":[0.7106469355683604],\"xaxis\":\"x\",\"y\":[5.862100576217915],\"yaxis\":\"y\",\"type\":\"scatter\"},{\"hovertemplate\":\"index=rexnet_200_MagFace_SGD_0.1_cosine_333<br>Accuracy=%{x}<br>Disparity=%{y}<extra></extra>\",\"legendgroup\":\"rexnet_200_MagFace_SGD_0.1_cosine_333\",\"marker\":{\"color\":\"#19d3f3\",\"symbol\":\"circle\"},\"mode\":\"markers\",\"name\":\"rexnet_200_MagFace_SGD_0.1_cosine_333\",\"orientation\":\"v\",\"showlegend\":true,\"x\":[0.9006024096385542],\"xaxis\":\"x\",\"y\":[3.1487689889994757],\"yaxis\":\"y\",\"type\":\"scatter\"},{\"hovertemplate\":\"index=rexnet_200_MagFace_SGD_0.1_cosine_444<br>Accuracy=%{x}<br>Disparity=%{y}<extra></extra>\",\"legendgroup\":\"rexnet_200_MagFace_SGD_0.1_cosine_444\",\"marker\":{\"color\":\"#FF6692\",\"symbol\":\"circle\"},\"mode\":\"markers\",\"name\":\"rexnet_200_MagFace_SGD_0.1_cosine_444\",\"orientation\":\"v\",\"showlegend\":true,\"x\":[0.8958224201152436],\"xaxis\":\"x\",\"y\":[2.1969617600838136],\"yaxis\":\"y\",\"type\":\"scatter\"},{\"hovertemplate\":\"index=rexnet_200_MagFace_SGD_0.1_cosine_555<br>Accuracy=%{x}<br>Disparity=%{y}<extra></extra>\",\"legendgroup\":\"rexnet_200_MagFace_SGD_0.1_cosine_555\",\"marker\":{\"color\":\"#B6E880\",\"symbol\":\"circle\"},\"mode\":\"markers\",\"name\":\"rexnet_200_MagFace_SGD_0.1_cosine_555\",\"orientation\":\"v\",\"showlegend\":true,\"x\":[0.8977213200628601],\"xaxis\":\"x\",\"y\":[2.216605552645364],\"yaxis\":\"y\",\"type\":\"scatter\"},{\"hovertemplate\":\"index=rexnet_200_MagFace_SGD_0.1_cosine_666<br>Accuracy=%{x}<br>Disparity=%{y}<extra></extra>\",\"legendgroup\":\"rexnet_200_MagFace_SGD_0.1_cosine_666\",\"marker\":{\"color\":\"#FF97FF\",\"symbol\":\"circle\"},\"mode\":\"markers\",\"name\":\"rexnet_200_MagFace_SGD_0.1_cosine_666\",\"orientation\":\"v\",\"showlegend\":true,\"x\":[0.8987035096909377],\"xaxis\":\"x\",\"y\":[2.0522524882137247],\"yaxis\":\"y\",\"type\":\"scatter\"},{\"hovertemplate\":\"index=tnt_s_patch16_224_CosFace_AdamW_333<br>Accuracy=%{x}<br>Disparity=%{y}<extra></extra>\",\"legendgroup\":\"tnt_s_patch16_224_CosFace_AdamW_333\",\"marker\":{\"color\":\"#FECB52\",\"symbol\":\"circle\"},\"mode\":\"markers\",\"name\":\"tnt_s_patch16_224_CosFace_AdamW_333\",\"orientation\":\"v\",\"showlegend\":true,\"x\":[0.8689759036144579],\"xaxis\":\"x\",\"y\":[4.140780513357779],\"yaxis\":\"y\",\"type\":\"scatter\"},{\"hovertemplate\":\"index=tnt_s_patch16_224_CosFace_AdamW_444<br>Accuracy=%{x}<br>Disparity=%{y}<extra></extra>\",\"legendgroup\":\"tnt_s_patch16_224_CosFace_AdamW_444\",\"marker\":{\"color\":\"#636efa\",\"symbol\":\"circle\"},\"mode\":\"markers\",\"name\":\"tnt_s_patch16_224_CosFace_AdamW_444\",\"orientation\":\"v\",\"showlegend\":true,\"x\":[0.8676663174436878],\"xaxis\":\"x\",\"y\":[3.8247773703509695],\"yaxis\":\"y\",\"type\":\"scatter\"},{\"hovertemplate\":\"index=tnt_s_patch16_224_CosFace_AdamW_555<br>Accuracy=%{x}<br>Disparity=%{y}<extra></extra>\",\"legendgroup\":\"tnt_s_patch16_224_CosFace_AdamW_555\",\"marker\":{\"color\":\"#EF553B\",\"symbol\":\"circle\"},\"mode\":\"markers\",\"name\":\"tnt_s_patch16_224_CosFace_AdamW_555\",\"orientation\":\"v\",\"showlegend\":true,\"x\":[0.8711367207962284],\"xaxis\":\"x\",\"y\":[3.9046621267679416],\"yaxis\":\"y\",\"type\":\"scatter\"},{\"hovertemplate\":\"index=tnt_s_patch16_224_CosFace_AdamW_666<br>Accuracy=%{x}<br>Disparity=%{y}<extra></extra>\",\"legendgroup\":\"tnt_s_patch16_224_CosFace_AdamW_666\",\"marker\":{\"color\":\"#00cc96\",\"symbol\":\"circle\"},\"mode\":\"markers\",\"name\":\"tnt_s_patch16_224_CosFace_AdamW_666\",\"orientation\":\"v\",\"showlegend\":true,\"x\":[0.8860660031430068],\"xaxis\":\"x\",\"y\":[3.3821372446306968],\"yaxis\":\"y\",\"type\":\"scatter\"},{\"hovertemplate\":\"index=twins_svt_large_ArcFace_AdamW_333<br>Accuracy=%{x}<br>Disparity=%{y}<extra></extra>\",\"legendgroup\":\"twins_svt_large_ArcFace_AdamW_333\",\"marker\":{\"color\":\"#ab63fa\",\"symbol\":\"circle\"},\"mode\":\"markers\",\"name\":\"twins_svt_large_ArcFace_AdamW_333\",\"orientation\":\"v\",\"showlegend\":true,\"x\":[0.0],\"xaxis\":\"x\",\"y\":[0.0],\"yaxis\":\"y\",\"type\":\"scatter\"},{\"hovertemplate\":\"index=twins_svt_large_ArcFace_AdamW_444<br>Accuracy=%{x}<br>Disparity=%{y}<extra></extra>\",\"legendgroup\":\"twins_svt_large_ArcFace_AdamW_444\",\"marker\":{\"color\":\"#FFA15A\",\"symbol\":\"circle\"},\"mode\":\"markers\",\"name\":\"twins_svt_large_ArcFace_AdamW_444\",\"orientation\":\"v\",\"showlegend\":true,\"x\":[0.0],\"xaxis\":\"x\",\"y\":[0.0],\"yaxis\":\"y\",\"type\":\"scatter\"},{\"hovertemplate\":\"index=twins_svt_large_ArcFace_AdamW_555<br>Accuracy=%{x}<br>Disparity=%{y}<extra></extra>\",\"legendgroup\":\"twins_svt_large_ArcFace_AdamW_555\",\"marker\":{\"color\":\"#19d3f3\",\"symbol\":\"circle\"},\"mode\":\"markers\",\"name\":\"twins_svt_large_ArcFace_AdamW_555\",\"orientation\":\"v\",\"showlegend\":true,\"x\":[0.0],\"xaxis\":\"x\",\"y\":[0.0],\"yaxis\":\"y\",\"type\":\"scatter\"},{\"hovertemplate\":\"index=twins_svt_large_ArcFace_AdamW_666<br>Accuracy=%{x}<br>Disparity=%{y}<extra></extra>\",\"legendgroup\":\"twins_svt_large_ArcFace_AdamW_666\",\"marker\":{\"color\":\"#FF6692\",\"symbol\":\"circle\"},\"mode\":\"markers\",\"name\":\"twins_svt_large_ArcFace_AdamW_666\",\"orientation\":\"v\",\"showlegend\":true,\"x\":[null],\"xaxis\":\"x\",\"y\":[null],\"yaxis\":\"y\",\"type\":\"scatter\"},{\"hovertemplate\":\"index=twins_svt_large_MagFace_AdamW_333<br>Accuracy=%{x}<br>Disparity=%{y}<extra></extra>\",\"legendgroup\":\"twins_svt_large_MagFace_AdamW_333\",\"marker\":{\"color\":\"#B6E880\",\"symbol\":\"circle\"},\"mode\":\"markers\",\"name\":\"twins_svt_large_MagFace_AdamW_333\",\"orientation\":\"v\",\"showlegend\":true,\"x\":[0.0],\"xaxis\":\"x\",\"y\":[0.0],\"yaxis\":\"y\",\"type\":\"scatter\"},{\"hovertemplate\":\"index=twins_svt_large_MagFace_AdamW_444<br>Accuracy=%{x}<br>Disparity=%{y}<extra></extra>\",\"legendgroup\":\"twins_svt_large_MagFace_AdamW_444\",\"marker\":{\"color\":\"#FF97FF\",\"symbol\":\"circle\"},\"mode\":\"markers\",\"name\":\"twins_svt_large_MagFace_AdamW_444\",\"orientation\":\"v\",\"showlegend\":true,\"x\":[0.0],\"xaxis\":\"x\",\"y\":[0.0],\"yaxis\":\"y\",\"type\":\"scatter\"},{\"hovertemplate\":\"index=twins_svt_large_MagFace_AdamW_555<br>Accuracy=%{x}<br>Disparity=%{y}<extra></extra>\",\"legendgroup\":\"twins_svt_large_MagFace_AdamW_555\",\"marker\":{\"color\":\"#FECB52\",\"symbol\":\"circle\"},\"mode\":\"markers\",\"name\":\"twins_svt_large_MagFace_AdamW_555\",\"orientation\":\"v\",\"showlegend\":true,\"x\":[0.0],\"xaxis\":\"x\",\"y\":[0.0],\"yaxis\":\"y\",\"type\":\"scatter\"},{\"hovertemplate\":\"index=twins_svt_large_MagFace_AdamW_666<br>Accuracy=%{x}<br>Disparity=%{y}<extra></extra>\",\"legendgroup\":\"twins_svt_large_MagFace_AdamW_666\",\"marker\":{\"color\":\"#636efa\",\"symbol\":\"circle\"},\"mode\":\"markers\",\"name\":\"twins_svt_large_MagFace_AdamW_666\",\"orientation\":\"v\",\"showlegend\":true,\"x\":[null],\"xaxis\":\"x\",\"y\":[null],\"yaxis\":\"y\",\"type\":\"scatter\"},{\"hovertemplate\":\"index=Checkpoints_Edges_680_LR_0.0006048015915653069_Head_CosFace_Optimizer_Adam_333<br>Accuracy=%{x}<br>Disparity=%{y}<extra></extra>\",\"legendgroup\":\"Checkpoints_Edges_680_LR_0.0006048015915653069_Head_CosFace_Optimizer_Adam_333\",\"marker\":{\"color\":\"#EF553B\",\"symbol\":\"circle\"},\"mode\":\"markers\",\"name\":\"Checkpoints_Edges_680_LR_0.0006048015915653069_Head_CosFace_Optimizer_Adam_333\",\"orientation\":\"v\",\"showlegend\":true,\"x\":[0.9656888423258251],\"xaxis\":\"x\",\"y\":[1.6136720796228397],\"yaxis\":\"y\",\"type\":\"scatter\"},{\"hovertemplate\":\"index=Checkpoints_Edges_680_LR_0.0006048015915653069_Head_CosFace_Optimizer_Adam_444<br>Accuracy=%{x}<br>Disparity=%{y}<extra></extra>\",\"legendgroup\":\"Checkpoints_Edges_680_LR_0.0006048015915653069_Head_CosFace_Optimizer_Adam_444\",\"marker\":{\"color\":\"#00cc96\",\"symbol\":\"circle\"},\"mode\":\"markers\",\"name\":\"Checkpoints_Edges_680_LR_0.0006048015915653069_Head_CosFace_Optimizer_Adam_444\",\"orientation\":\"v\",\"showlegend\":true,\"x\":[0.9675222629649031],\"xaxis\":\"x\",\"y\":[1.8838397066526977],\"yaxis\":\"y\",\"type\":\"scatter\"},{\"hovertemplate\":\"index=Checkpoints_Edges_680_LR_0.0006048015915653069_Head_CosFace_Optimizer_Adam_555<br>Accuracy=%{x}<br>Disparity=%{y}<extra></extra>\",\"legendgroup\":\"Checkpoints_Edges_680_LR_0.0006048015915653069_Head_CosFace_Optimizer_Adam_555\",\"marker\":{\"color\":\"#ab63fa\",\"symbol\":\"circle\"},\"mode\":\"markers\",\"name\":\"Checkpoints_Edges_680_LR_0.0006048015915653069_Head_CosFace_Optimizer_Adam_555\",\"orientation\":\"v\",\"showlegend\":true,\"x\":[0.9677187008905186],\"xaxis\":\"x\",\"y\":[1.7887637506547933],\"yaxis\":\"y\",\"type\":\"scatter\"},{\"hovertemplate\":\"index=Checkpoints_Edges_680_LR_0.0006048015915653069_Head_CosFace_Optimizer_Adam_666<br>Accuracy=%{x}<br>Disparity=%{y}<extra></extra>\",\"legendgroup\":\"Checkpoints_Edges_680_LR_0.0006048015915653069_Head_CosFace_Optimizer_Adam_666\",\"marker\":{\"color\":\"#FFA15A\",\"symbol\":\"circle\"},\"mode\":\"markers\",\"name\":\"Checkpoints_Edges_680_LR_0.0006048015915653069_Head_CosFace_Optimizer_Adam_666\",\"orientation\":\"v\",\"showlegend\":true,\"x\":[null],\"xaxis\":\"x\",\"y\":[null],\"yaxis\":\"y\",\"type\":\"scatter\"},{\"hovertemplate\":\"index=Checkpoints_Edges_680_LR_0.0006048015915653069_Head_CosFace_Optimizer_Adam_111<br>Accuracy=%{x}<br>Disparity=%{y}<extra></extra>\",\"legendgroup\":\"Checkpoints_Edges_680_LR_0.0006048015915653069_Head_CosFace_Optimizer_Adam_111\",\"marker\":{\"color\":\"#19d3f3\",\"symbol\":\"circle\"},\"mode\":\"markers\",\"name\":\"Checkpoints_Edges_680_LR_0.0006048015915653069_Head_CosFace_Optimizer_Adam_111\",\"orientation\":\"v\",\"showlegend\":true,\"x\":[0.9671948664222105],\"xaxis\":\"x\",\"y\":[2.0957307490832893],\"yaxis\":\"y\",\"type\":\"scatter\"},{\"hovertemplate\":\"index=Checkpoints_Edges_010_LR_0.32348738788346576_Head_CosFace_Optimizer_SGD_111<br>Accuracy=%{x}<br>Disparity=%{y}<extra></extra>\",\"legendgroup\":\"Checkpoints_Edges_010_LR_0.32348738788346576_Head_CosFace_Optimizer_SGD_111\",\"marker\":{\"color\":\"#FF6692\",\"symbol\":\"circle\"},\"mode\":\"markers\",\"name\":\"Checkpoints_Edges_010_LR_0.32348738788346576_Head_CosFace_Optimizer_SGD_111\",\"orientation\":\"v\",\"showlegend\":true,\"x\":[0.9623493975903614],\"xaxis\":\"x\",\"y\":[1.5010476689366157],\"yaxis\":\"y\",\"type\":\"scatter\"},{\"hovertemplate\":\"index=Checkpoints_Edges_010_LR_0.32348738788346576_Head_CosFace_Optimizer_SGD_333<br>Accuracy=%{x}<br>Disparity=%{y}<extra></extra>\",\"legendgroup\":\"Checkpoints_Edges_010_LR_0.32348738788346576_Head_CosFace_Optimizer_SGD_333\",\"marker\":{\"color\":\"#B6E880\",\"symbol\":\"circle\"},\"mode\":\"markers\",\"name\":\"Checkpoints_Edges_010_LR_0.32348738788346576_Head_CosFace_Optimizer_SGD_333\",\"orientation\":\"v\",\"showlegend\":true,\"x\":[0.9613017286537454],\"xaxis\":\"x\",\"y\":[1.6965688842325823],\"yaxis\":\"y\",\"type\":\"scatter\"},{\"hovertemplate\":\"index=Checkpoints_Edges_010_LR_0.32348738788346576_Head_CosFace_Optimizer_SGD_444<br>Accuracy=%{x}<br>Disparity=%{y}<extra></extra>\",\"legendgroup\":\"Checkpoints_Edges_010_LR_0.32348738788346576_Head_CosFace_Optimizer_SGD_444\",\"marker\":{\"color\":\"#FF97FF\",\"symbol\":\"circle\"},\"mode\":\"markers\",\"name\":\"Checkpoints_Edges_010_LR_0.32348738788346576_Head_CosFace_Optimizer_SGD_444\",\"orientation\":\"v\",\"showlegend\":true,\"x\":[0.9603850183342064],\"xaxis\":\"x\",\"y\":[1.4334730225248822],\"yaxis\":\"y\",\"type\":\"scatter\"},{\"hovertemplate\":\"index=Checkpoints_Edges_010_LR_0.32348738788346576_Head_CosFace_Optimizer_SGD_555<br>Accuracy=%{x}<br>Disparity=%{y}<extra></extra>\",\"legendgroup\":\"Checkpoints_Edges_010_LR_0.32348738788346576_Head_CosFace_Optimizer_SGD_555\",\"marker\":{\"color\":\"#FECB52\",\"symbol\":\"circle\"},\"mode\":\"markers\",\"name\":\"Checkpoints_Edges_010_LR_0.32348738788346576_Head_CosFace_Optimizer_SGD_555\",\"orientation\":\"v\",\"showlegend\":true,\"x\":[0.9599266631744369],\"xaxis\":\"x\",\"y\":[1.4624148768988996],\"yaxis\":\"y\",\"type\":\"scatter\"},{\"hovertemplate\":\"index=Checkpoints_Edges_010_LR_0.32348738788346576_Head_CosFace_Optimizer_SGD_666<br>Accuracy=%{x}<br>Disparity=%{y}<extra></extra>\",\"legendgroup\":\"Checkpoints_Edges_010_LR_0.32348738788346576_Head_CosFace_Optimizer_SGD_666\",\"marker\":{\"color\":\"#636efa\",\"symbol\":\"circle\"},\"mode\":\"markers\",\"name\":\"Checkpoints_Edges_010_LR_0.32348738788346576_Head_CosFace_Optimizer_SGD_666\",\"orientation\":\"v\",\"showlegend\":true,\"x\":[0.9597957045573599],\"xaxis\":\"x\",\"y\":[1.2523572551073863],\"yaxis\":\"y\",\"type\":\"scatter\"},{\"hovertemplate\":\"index=Checkpoints_Edges_000_LR_0.2813375341651194_Head_CosFace_Optimizer_SGD_666<br>Accuracy=%{x}<br>Disparity=%{y}<extra></extra>\",\"legendgroup\":\"Checkpoints_Edges_000_LR_0.2813375341651194_Head_CosFace_Optimizer_SGD_666\",\"marker\":{\"color\":\"#EF553B\",\"symbol\":\"circle\"},\"mode\":\"markers\",\"name\":\"Checkpoints_Edges_000_LR_0.2813375341651194_Head_CosFace_Optimizer_SGD_666\",\"orientation\":\"v\",\"showlegend\":true,\"x\":[0.9671948664222105],\"xaxis\":\"x\",\"y\":[1.6043740178103723],\"yaxis\":\"y\",\"type\":\"scatter\"},{\"hovertemplate\":\"index=Checkpoints_Edges_000_LR_0.2813375341651194_Head_CosFace_Optimizer_SGD_555<br>Accuracy=%{x}<br>Disparity=%{y}<extra></extra>\",\"legendgroup\":\"Checkpoints_Edges_000_LR_0.2813375341651194_Head_CosFace_Optimizer_SGD_555\",\"marker\":{\"color\":\"#00cc96\",\"symbol\":\"circle\"},\"mode\":\"markers\",\"name\":\"Checkpoints_Edges_000_LR_0.2813375341651194_Head_CosFace_Optimizer_SGD_555\",\"orientation\":\"v\",\"showlegend\":true,\"x\":[0.9687008905185961],\"xaxis\":\"x\",\"y\":[1.1716867469879517],\"yaxis\":\"y\",\"type\":\"scatter\"},{\"hovertemplate\":\"index=Checkpoints_Edges_000_LR_0.2813375341651194_Head_CosFace_Optimizer_SGD_444<br>Accuracy=%{x}<br>Disparity=%{y}<extra></extra>\",\"legendgroup\":\"Checkpoints_Edges_000_LR_0.2813375341651194_Head_CosFace_Optimizer_SGD_444\",\"marker\":{\"color\":\"#ab63fa\",\"symbol\":\"circle\"},\"mode\":\"markers\",\"name\":\"Checkpoints_Edges_000_LR_0.2813375341651194_Head_CosFace_Optimizer_SGD_444\",\"orientation\":\"v\",\"showlegend\":true,\"x\":[0.967260345730749],\"xaxis\":\"x\",\"y\":[1.6147197485594553],\"yaxis\":\"y\",\"type\":\"scatter\"},{\"hovertemplate\":\"index=Checkpoints_Edges_000_LR_0.2813375341651194_Head_CosFace_Optimizer_SGD_333<br>Accuracy=%{x}<br>Disparity=%{y}<extra></extra>\",\"legendgroup\":\"Checkpoints_Edges_000_LR_0.2813375341651194_Head_CosFace_Optimizer_SGD_333\",\"marker\":{\"color\":\"#FFA15A\",\"symbol\":\"circle\"},\"mode\":\"markers\",\"name\":\"Checkpoints_Edges_000_LR_0.2813375341651194_Head_CosFace_Optimizer_SGD_333\",\"orientation\":\"v\",\"showlegend\":true,\"x\":[0.967260345730749],\"xaxis\":\"x\",\"y\":[1.2820848611838658],\"yaxis\":\"y\",\"type\":\"scatter\"},{\"hovertemplate\":\"index=Checkpoints_Edges_000_LR_0.2813375341651194_Head_CosFace_Optimizer_SGD_111<br>Accuracy=%{x}<br>Disparity=%{y}<extra></extra>\",\"legendgroup\":\"Checkpoints_Edges_000_LR_0.2813375341651194_Head_CosFace_Optimizer_SGD_111\",\"marker\":{\"color\":\"#19d3f3\",\"symbol\":\"circle\"},\"mode\":\"markers\",\"name\":\"Checkpoints_Edges_000_LR_0.2813375341651194_Head_CosFace_Optimizer_SGD_111\",\"orientation\":\"v\",\"showlegend\":true,\"x\":[0.9687663698271346],\"xaxis\":\"x\",\"y\":[1.5501571503404925],\"yaxis\":\"y\",\"type\":\"scatter\"},{\"hovertemplate\":\"index=Checkpoints_Edges_467_LR_0.21727296500399912_Head_MagFace_Optimizer_SGD_111<br>Accuracy=%{x}<br>Disparity=%{y}<extra></extra>\",\"legendgroup\":\"Checkpoints_Edges_467_LR_0.21727296500399912_Head_MagFace_Optimizer_SGD_111\",\"marker\":{\"color\":\"#FF6692\",\"symbol\":\"circle\"},\"mode\":\"markers\",\"name\":\"Checkpoints_Edges_467_LR_0.21727296500399912_Head_MagFace_Optimizer_SGD_111\",\"orientation\":\"v\",\"showlegend\":true,\"x\":[0.8502488213724463],\"xaxis\":\"x\",\"y\":[1.7644054478784703],\"yaxis\":\"y\",\"type\":\"scatter\"},{\"hovertemplate\":\"index=Checkpoints_Edges_040_LR_0.0005900596101948813_Head_CosFace_Optimizer_Adam_111<br>Accuracy=%{x}<br>Disparity=%{y}<extra></extra>\",\"legendgroup\":\"Checkpoints_Edges_040_LR_0.0005900596101948813_Head_CosFace_Optimizer_Adam_111\",\"marker\":{\"color\":\"#B6E880\",\"symbol\":\"circle\"},\"mode\":\"markers\",\"name\":\"Checkpoints_Edges_040_LR_0.0005900596101948813_Head_CosFace_Optimizer_Adam_111\",\"orientation\":\"v\",\"showlegend\":true,\"x\":[0.9656888423258251],\"xaxis\":\"x\",\"y\":[1.359088528025144],\"yaxis\":\"y\",\"type\":\"scatter\"},{\"hovertemplate\":\"index=Checkpoints_Edges_040_LR_0.0005900596101948813_Head_CosFace_Optimizer_Adam_222<br>Accuracy=%{x}<br>Disparity=%{y}<extra></extra>\",\"legendgroup\":\"Checkpoints_Edges_040_LR_0.0005900596101948813_Head_CosFace_Optimizer_Adam_222\",\"marker\":{\"color\":\"#FF97FF\",\"symbol\":\"circle\"},\"mode\":\"markers\",\"name\":\"Checkpoints_Edges_040_LR_0.0005900596101948813_Head_CosFace_Optimizer_Adam_222\",\"orientation\":\"v\",\"showlegend\":true,\"x\":[0.9671948664222105],\"xaxis\":\"x\",\"y\":[1.6233630172865374],\"yaxis\":\"y\",\"type\":\"scatter\"},{\"hovertemplate\":\"index=Checkpoints_Edges_040_LR_0.0005900596101948813_Head_CosFace_Optimizer_Adam_333<br>Accuracy=%{x}<br>Disparity=%{y}<extra></extra>\",\"legendgroup\":\"Checkpoints_Edges_040_LR_0.0005900596101948813_Head_CosFace_Optimizer_Adam_333\",\"marker\":{\"color\":\"#FECB52\",\"symbol\":\"circle\"},\"mode\":\"markers\",\"name\":\"Checkpoints_Edges_040_LR_0.0005900596101948813_Head_CosFace_Optimizer_Adam_333\",\"orientation\":\"v\",\"showlegend\":true,\"x\":[0.965295966474594],\"xaxis\":\"x\",\"y\":[1.6304347826086953],\"yaxis\":\"y\",\"type\":\"scatter\"},{\"hovertemplate\":\"index=Checkpoints_Edges_040_LR_0.0005900596101948813_Head_CosFace_Optimizer_Adam_444<br>Accuracy=%{x}<br>Disparity=%{y}<extra></extra>\",\"legendgroup\":\"Checkpoints_Edges_040_LR_0.0005900596101948813_Head_CosFace_Optimizer_Adam_444\",\"marker\":{\"color\":\"#636efa\",\"symbol\":\"circle\"},\"mode\":\"markers\",\"name\":\"Checkpoints_Edges_040_LR_0.0005900596101948813_Head_CosFace_Optimizer_Adam_444\",\"orientation\":\"v\",\"showlegend\":true,\"x\":[0.9641828182294395],\"xaxis\":\"x\",\"y\":[1.5959926663174437],\"yaxis\":\"y\",\"type\":\"scatter\"},{\"hovertemplate\":\"index=Checkpoints_Edges_040_LR_0.0005900596101948813_Head_CosFace_Optimizer_Adam_555<br>Accuracy=%{x}<br>Disparity=%{y}<extra></extra>\",\"legendgroup\":\"Checkpoints_Edges_040_LR_0.0005900596101948813_Head_CosFace_Optimizer_Adam_555\",\"marker\":{\"color\":\"#EF553B\",\"symbol\":\"circle\"},\"mode\":\"markers\",\"name\":\"Checkpoints_Edges_040_LR_0.0005900596101948813_Head_CosFace_Optimizer_Adam_555\",\"orientation\":\"v\",\"showlegend\":true,\"x\":[0.9641828182294395],\"xaxis\":\"x\",\"y\":[2.0248821372446306],\"yaxis\":\"y\",\"type\":\"scatter\"}],                        {\"template\":{\"data\":{\"histogram2dcontour\":[{\"type\":\"histogram2dcontour\",\"colorbar\":{\"outlinewidth\":0,\"ticks\":\"\"},\"colorscale\":[[0.0,\"#0d0887\"],[0.1111111111111111,\"#46039f\"],[0.2222222222222222,\"#7201a8\"],[0.3333333333333333,\"#9c179e\"],[0.4444444444444444,\"#bd3786\"],[0.5555555555555556,\"#d8576b\"],[0.6666666666666666,\"#ed7953\"],[0.7777777777777778,\"#fb9f3a\"],[0.8888888888888888,\"#fdca26\"],[1.0,\"#f0f921\"]]}],\"choropleth\":[{\"type\":\"choropleth\",\"colorbar\":{\"outlinewidth\":0,\"ticks\":\"\"}}],\"histogram2d\":[{\"type\":\"histogram2d\",\"colorbar\":{\"outlinewidth\":0,\"ticks\":\"\"},\"colorscale\":[[0.0,\"#0d0887\"],[0.1111111111111111,\"#46039f\"],[0.2222222222222222,\"#7201a8\"],[0.3333333333333333,\"#9c179e\"],[0.4444444444444444,\"#bd3786\"],[0.5555555555555556,\"#d8576b\"],[0.6666666666666666,\"#ed7953\"],[0.7777777777777778,\"#fb9f3a\"],[0.8888888888888888,\"#fdca26\"],[1.0,\"#f0f921\"]]}],\"heatmap\":[{\"type\":\"heatmap\",\"colorbar\":{\"outlinewidth\":0,\"ticks\":\"\"},\"colorscale\":[[0.0,\"#0d0887\"],[0.1111111111111111,\"#46039f\"],[0.2222222222222222,\"#7201a8\"],[0.3333333333333333,\"#9c179e\"],[0.4444444444444444,\"#bd3786\"],[0.5555555555555556,\"#d8576b\"],[0.6666666666666666,\"#ed7953\"],[0.7777777777777778,\"#fb9f3a\"],[0.8888888888888888,\"#fdca26\"],[1.0,\"#f0f921\"]]}],\"heatmapgl\":[{\"type\":\"heatmapgl\",\"colorbar\":{\"outlinewidth\":0,\"ticks\":\"\"},\"colorscale\":[[0.0,\"#0d0887\"],[0.1111111111111111,\"#46039f\"],[0.2222222222222222,\"#7201a8\"],[0.3333333333333333,\"#9c179e\"],[0.4444444444444444,\"#bd3786\"],[0.5555555555555556,\"#d8576b\"],[0.6666666666666666,\"#ed7953\"],[0.7777777777777778,\"#fb9f3a\"],[0.8888888888888888,\"#fdca26\"],[1.0,\"#f0f921\"]]}],\"contourcarpet\":[{\"type\":\"contourcarpet\",\"colorbar\":{\"outlinewidth\":0,\"ticks\":\"\"}}],\"contour\":[{\"type\":\"contour\",\"colorbar\":{\"outlinewidth\":0,\"ticks\":\"\"},\"colorscale\":[[0.0,\"#0d0887\"],[0.1111111111111111,\"#46039f\"],[0.2222222222222222,\"#7201a8\"],[0.3333333333333333,\"#9c179e\"],[0.4444444444444444,\"#bd3786\"],[0.5555555555555556,\"#d8576b\"],[0.6666666666666666,\"#ed7953\"],[0.7777777777777778,\"#fb9f3a\"],[0.8888888888888888,\"#fdca26\"],[1.0,\"#f0f921\"]]}],\"surface\":[{\"type\":\"surface\",\"colorbar\":{\"outlinewidth\":0,\"ticks\":\"\"},\"colorscale\":[[0.0,\"#0d0887\"],[0.1111111111111111,\"#46039f\"],[0.2222222222222222,\"#7201a8\"],[0.3333333333333333,\"#9c179e\"],[0.4444444444444444,\"#bd3786\"],[0.5555555555555556,\"#d8576b\"],[0.6666666666666666,\"#ed7953\"],[0.7777777777777778,\"#fb9f3a\"],[0.8888888888888888,\"#fdca26\"],[1.0,\"#f0f921\"]]}],\"mesh3d\":[{\"type\":\"mesh3d\",\"colorbar\":{\"outlinewidth\":0,\"ticks\":\"\"}}],\"scatter\":[{\"fillpattern\":{\"fillmode\":\"overlay\",\"size\":10,\"solidity\":0.2},\"type\":\"scatter\"}],\"parcoords\":[{\"type\":\"parcoords\",\"line\":{\"colorbar\":{\"outlinewidth\":0,\"ticks\":\"\"}}}],\"scatterpolargl\":[{\"type\":\"scatterpolargl\",\"marker\":{\"colorbar\":{\"outlinewidth\":0,\"ticks\":\"\"}}}],\"bar\":[{\"error_x\":{\"color\":\"#2a3f5f\"},\"error_y\":{\"color\":\"#2a3f5f\"},\"marker\":{\"line\":{\"color\":\"#E5ECF6\",\"width\":0.5},\"pattern\":{\"fillmode\":\"overlay\",\"size\":10,\"solidity\":0.2}},\"type\":\"bar\"}],\"scattergeo\":[{\"type\":\"scattergeo\",\"marker\":{\"colorbar\":{\"outlinewidth\":0,\"ticks\":\"\"}}}],\"scatterpolar\":[{\"type\":\"scatterpolar\",\"marker\":{\"colorbar\":{\"outlinewidth\":0,\"ticks\":\"\"}}}],\"histogram\":[{\"marker\":{\"pattern\":{\"fillmode\":\"overlay\",\"size\":10,\"solidity\":0.2}},\"type\":\"histogram\"}],\"scattergl\":[{\"type\":\"scattergl\",\"marker\":{\"colorbar\":{\"outlinewidth\":0,\"ticks\":\"\"}}}],\"scatter3d\":[{\"type\":\"scatter3d\",\"line\":{\"colorbar\":{\"outlinewidth\":0,\"ticks\":\"\"}},\"marker\":{\"colorbar\":{\"outlinewidth\":0,\"ticks\":\"\"}}}],\"scattermapbox\":[{\"type\":\"scattermapbox\",\"marker\":{\"colorbar\":{\"outlinewidth\":0,\"ticks\":\"\"}}}],\"scatterternary\":[{\"type\":\"scatterternary\",\"marker\":{\"colorbar\":{\"outlinewidth\":0,\"ticks\":\"\"}}}],\"scattercarpet\":[{\"type\":\"scattercarpet\",\"marker\":{\"colorbar\":{\"outlinewidth\":0,\"ticks\":\"\"}}}],\"carpet\":[{\"aaxis\":{\"endlinecolor\":\"#2a3f5f\",\"gridcolor\":\"white\",\"linecolor\":\"white\",\"minorgridcolor\":\"white\",\"startlinecolor\":\"#2a3f5f\"},\"baxis\":{\"endlinecolor\":\"#2a3f5f\",\"gridcolor\":\"white\",\"linecolor\":\"white\",\"minorgridcolor\":\"white\",\"startlinecolor\":\"#2a3f5f\"},\"type\":\"carpet\"}],\"table\":[{\"cells\":{\"fill\":{\"color\":\"#EBF0F8\"},\"line\":{\"color\":\"white\"}},\"header\":{\"fill\":{\"color\":\"#C8D4E3\"},\"line\":{\"color\":\"white\"}},\"type\":\"table\"}],\"barpolar\":[{\"marker\":{\"line\":{\"color\":\"#E5ECF6\",\"width\":0.5},\"pattern\":{\"fillmode\":\"overlay\",\"size\":10,\"solidity\":0.2}},\"type\":\"barpolar\"}],\"pie\":[{\"automargin\":true,\"type\":\"pie\"}]},\"layout\":{\"autotypenumbers\":\"strict\",\"colorway\":[\"#636efa\",\"#EF553B\",\"#00cc96\",\"#ab63fa\",\"#FFA15A\",\"#19d3f3\",\"#FF6692\",\"#B6E880\",\"#FF97FF\",\"#FECB52\"],\"font\":{\"color\":\"#2a3f5f\"},\"hovermode\":\"closest\",\"hoverlabel\":{\"align\":\"left\"},\"paper_bgcolor\":\"white\",\"plot_bgcolor\":\"#E5ECF6\",\"polar\":{\"bgcolor\":\"#E5ECF6\",\"angularaxis\":{\"gridcolor\":\"white\",\"linecolor\":\"white\",\"ticks\":\"\"},\"radialaxis\":{\"gridcolor\":\"white\",\"linecolor\":\"white\",\"ticks\":\"\"}},\"ternary\":{\"bgcolor\":\"#E5ECF6\",\"aaxis\":{\"gridcolor\":\"white\",\"linecolor\":\"white\",\"ticks\":\"\"},\"baxis\":{\"gridcolor\":\"white\",\"linecolor\":\"white\",\"ticks\":\"\"},\"caxis\":{\"gridcolor\":\"white\",\"linecolor\":\"white\",\"ticks\":\"\"}},\"coloraxis\":{\"colorbar\":{\"outlinewidth\":0,\"ticks\":\"\"}},\"colorscale\":{\"sequential\":[[0.0,\"#0d0887\"],[0.1111111111111111,\"#46039f\"],[0.2222222222222222,\"#7201a8\"],[0.3333333333333333,\"#9c179e\"],[0.4444444444444444,\"#bd3786\"],[0.5555555555555556,\"#d8576b\"],[0.6666666666666666,\"#ed7953\"],[0.7777777777777778,\"#fb9f3a\"],[0.8888888888888888,\"#fdca26\"],[1.0,\"#f0f921\"]],\"sequentialminus\":[[0.0,\"#0d0887\"],[0.1111111111111111,\"#46039f\"],[0.2222222222222222,\"#7201a8\"],[0.3333333333333333,\"#9c179e\"],[0.4444444444444444,\"#bd3786\"],[0.5555555555555556,\"#d8576b\"],[0.6666666666666666,\"#ed7953\"],[0.7777777777777778,\"#fb9f3a\"],[0.8888888888888888,\"#fdca26\"],[1.0,\"#f0f921\"]],\"diverging\":[[0,\"#8e0152\"],[0.1,\"#c51b7d\"],[0.2,\"#de77ae\"],[0.3,\"#f1b6da\"],[0.4,\"#fde0ef\"],[0.5,\"#f7f7f7\"],[0.6,\"#e6f5d0\"],[0.7,\"#b8e186\"],[0.8,\"#7fbc41\"],[0.9,\"#4d9221\"],[1,\"#276419\"]]},\"xaxis\":{\"gridcolor\":\"white\",\"linecolor\":\"white\",\"ticks\":\"\",\"title\":{\"standoff\":15},\"zerolinecolor\":\"white\",\"automargin\":true,\"zerolinewidth\":2},\"yaxis\":{\"gridcolor\":\"white\",\"linecolor\":\"white\",\"ticks\":\"\",\"title\":{\"standoff\":15},\"zerolinecolor\":\"white\",\"automargin\":true,\"zerolinewidth\":2},\"scene\":{\"xaxis\":{\"backgroundcolor\":\"#E5ECF6\",\"gridcolor\":\"white\",\"linecolor\":\"white\",\"showbackground\":true,\"ticks\":\"\",\"zerolinecolor\":\"white\",\"gridwidth\":2},\"yaxis\":{\"backgroundcolor\":\"#E5ECF6\",\"gridcolor\":\"white\",\"linecolor\":\"white\",\"showbackground\":true,\"ticks\":\"\",\"zerolinecolor\":\"white\",\"gridwidth\":2},\"zaxis\":{\"backgroundcolor\":\"#E5ECF6\",\"gridcolor\":\"white\",\"linecolor\":\"white\",\"showbackground\":true,\"ticks\":\"\",\"zerolinecolor\":\"white\",\"gridwidth\":2}},\"shapedefaults\":{\"line\":{\"color\":\"#2a3f5f\"}},\"annotationdefaults\":{\"arrowcolor\":\"#2a3f5f\",\"arrowhead\":0,\"arrowwidth\":1},\"geo\":{\"bgcolor\":\"white\",\"landcolor\":\"#E5ECF6\",\"subunitcolor\":\"white\",\"showland\":true,\"showlakes\":true,\"lakecolor\":\"white\"},\"title\":{\"x\":0.05},\"mapbox\":{\"style\":\"light\"}}},\"xaxis\":{\"anchor\":\"y\",\"domain\":[0.0,1.0],\"title\":{\"text\":\"Accuracy\"}},\"yaxis\":{\"anchor\":\"x\",\"domain\":[0.0,1.0],\"title\":{\"text\":\"Disparity |Rank[male]-Rank[female]|\"}},\"legend\":{\"title\":{\"text\":\"index\"},\"tracegroupgap\":0},\"margin\":{\"t\":60},\"shapes\":[{\"line\":{\"color\":\"Red\"},\"type\":\"line\",\"x0\":0,\"x1\":1,\"xref\":\"x\",\"y0\":0,\"y1\":0,\"yref\":\"y\"},{\"line\":{\"color\":\"gray\",\"dash\":\"dash\"},\"type\":\"line\",\"x0\":0.0,\"x1\":0.0,\"xref\":\"x\",\"y0\":0.0,\"y1\":0.0,\"yref\":\"y\"},{\"line\":{\"color\":\"gray\",\"dash\":\"dash\"},\"type\":\"line\",\"x0\":0.0,\"x1\":0.0,\"xref\":\"x\",\"y0\":0.0,\"y1\":0.0,\"yref\":\"y\"},{\"line\":{\"color\":\"gray\",\"dash\":\"dash\"},\"type\":\"line\",\"x0\":0.0,\"x1\":0.0,\"xref\":\"x\",\"y0\":0.0,\"y1\":0.0,\"yref\":\"y\"},{\"line\":{\"color\":\"gray\",\"dash\":\"dash\"},\"type\":\"line\",\"x0\":0.0,\"x1\":0.0,\"xref\":\"x\",\"y0\":0.0,\"y1\":0.0,\"yref\":\"y\"},{\"line\":{\"color\":\"gray\",\"dash\":\"dash\"},\"type\":\"line\",\"x0\":0.0,\"x1\":0.0,\"xref\":\"x\",\"y0\":0.0,\"y1\":0.0,\"yref\":\"y\"},{\"line\":{\"color\":\"gray\",\"dash\":\"dash\"},\"type\":\"line\",\"x0\":0.0,\"x1\":0.0,\"xref\":\"x\",\"y0\":0.0,\"y1\":0.0,\"yref\":\"y\"},{\"line\":{\"color\":\"gray\",\"dash\":\"dash\"},\"type\":\"line\",\"x0\":0.0,\"x1\":0.0,\"xref\":\"x\",\"y0\":0.0,\"y1\":0.0,\"yref\":\"y\"},{\"line\":{\"color\":\"gray\",\"dash\":\"dash\"},\"type\":\"line\",\"x0\":0.0,\"x1\":0.0,\"xref\":\"x\",\"y0\":0.0,\"y1\":0.0,\"yref\":\"y\"},{\"line\":{\"color\":\"gray\",\"dash\":\"dash\"},\"type\":\"line\",\"x0\":0.0,\"x1\":0.0,\"xref\":\"x\",\"y0\":0.0,\"y1\":0.0,\"yref\":\"y\"},{\"line\":{\"color\":\"gray\",\"dash\":\"dash\"},\"type\":\"line\",\"x0\":0.0,\"x1\":0.0,\"xref\":\"x\",\"y0\":0.0,\"y1\":0.0,\"yref\":\"y\"},{\"line\":{\"color\":\"gray\",\"dash\":\"dash\"},\"type\":\"line\",\"x0\":0.0,\"x1\":0.0,\"xref\":\"x\",\"y0\":0.0,\"y1\":0.0,\"yref\":\"y\"},{\"line\":{\"color\":\"gray\",\"dash\":\"dash\"},\"type\":\"line\",\"x0\":0.0,\"x1\":0.0,\"xref\":\"x\",\"y0\":0.0,\"y1\":0.0,\"yref\":\"y\"},{\"line\":{\"color\":\"gray\",\"dash\":\"dash\"},\"type\":\"line\",\"x0\":0.0,\"x1\":0.0,\"xref\":\"x\",\"y0\":0.0,\"y1\":0.0,\"yref\":\"y\"},{\"line\":{\"color\":\"gray\",\"dash\":\"dash\"},\"type\":\"line\",\"x0\":0.0,\"x1\":0.0,\"xref\":\"x\",\"y0\":0.0,\"y1\":0.0,\"yref\":\"y\"},{\"line\":{\"color\":\"gray\",\"dash\":\"dash\"},\"type\":\"line\",\"x0\":0.0,\"x1\":0.0,\"xref\":\"x\",\"y0\":0.0,\"y1\":0.0,\"yref\":\"y\"},{\"line\":{\"color\":\"gray\",\"dash\":\"dash\"},\"type\":\"line\",\"x0\":0.0,\"x1\":0.0,\"xref\":\"x\",\"y0\":0.0,\"y1\":0.0,\"yref\":\"y\"},{\"line\":{\"color\":\"gray\",\"dash\":\"dash\"},\"type\":\"line\",\"x0\":0.0,\"x1\":0.0,\"xref\":\"x\",\"y0\":0.0,\"y1\":0.0,\"yref\":\"y\"},{\"line\":{\"color\":\"gray\",\"dash\":\"dash\"},\"type\":\"line\",\"x0\":0.0,\"x1\":0.0,\"xref\":\"x\",\"y0\":0.0,\"y1\":0.0,\"yref\":\"y\"},{\"line\":{\"color\":\"gray\",\"dash\":\"dash\"},\"type\":\"line\",\"x0\":0.0,\"x1\":0.0,\"xref\":\"x\",\"y0\":0.0,\"y1\":0.0,\"yref\":\"y\"},{\"line\":{\"color\":\"gray\",\"dash\":\"dash\"},\"type\":\"line\",\"x0\":0.0,\"x1\":0.0,\"xref\":\"x\",\"y0\":0.0,\"y1\":0.0,\"yref\":\"y\"},{\"line\":{\"color\":\"gray\",\"dash\":\"dash\"},\"type\":\"line\",\"x0\":0.0,\"x1\":0.0,\"xref\":\"x\",\"y0\":0.0,\"y1\":0.0,\"yref\":\"y\"},{\"line\":{\"color\":\"gray\",\"dash\":\"dash\"},\"type\":\"line\",\"x0\":0.0,\"x1\":0.0,\"xref\":\"x\",\"y0\":0.0,\"y1\":0.0,\"yref\":\"y\"},{\"line\":{\"color\":\"gray\",\"dash\":\"dash\"},\"type\":\"line\",\"x0\":0.0,\"x1\":0.0,\"xref\":\"x\",\"y0\":0.0,\"y1\":0.0,\"yref\":\"y\"},{\"line\":{\"color\":\"gray\",\"dash\":\"dash\"},\"type\":\"line\",\"x0\":0.0,\"x1\":0.0,\"xref\":\"x\",\"y0\":0.0,\"y1\":0.0,\"yref\":\"y\"},{\"line\":{\"color\":\"gray\",\"dash\":\"dash\"},\"type\":\"line\",\"x0\":0.0,\"x1\":0.0,\"xref\":\"x\",\"y0\":0.0,\"y1\":0.0,\"yref\":\"y\"},{\"line\":{\"color\":\"gray\",\"dash\":\"dash\"},\"type\":\"line\",\"x0\":0.0,\"x1\":0.0,\"xref\":\"x\",\"y0\":0.0,\"y1\":0.0,\"yref\":\"y\"},{\"line\":{\"color\":\"gray\",\"dash\":\"dash\"},\"type\":\"line\",\"x0\":0.0,\"x1\":0.0,\"xref\":\"x\",\"y0\":0.0,\"y1\":0.0,\"yref\":\"y\"},{\"line\":{\"color\":\"gray\",\"dash\":\"dash\"},\"type\":\"line\",\"x0\":0.0,\"x1\":0.0,\"xref\":\"x\",\"y0\":0.0,\"y1\":0.0,\"yref\":\"y\"},{\"line\":{\"color\":\"gray\",\"dash\":\"dash\"},\"type\":\"line\",\"x0\":0.0,\"x1\":0.0,\"xref\":\"x\",\"y0\":0.0,\"y1\":0.0,\"yref\":\"y\"},{\"line\":{\"color\":\"gray\",\"dash\":\"dash\"},\"type\":\"line\",\"x0\":0.0,\"x1\":0.0,\"xref\":\"x\",\"y0\":0.0,\"y1\":0.0,\"yref\":\"y\"},{\"line\":{\"color\":\"gray\",\"dash\":\"dash\"},\"type\":\"line\",\"x0\":0.0,\"x1\":0.0,\"xref\":\"x\",\"y0\":0.0,\"y1\":0.0,\"yref\":\"y\"},{\"line\":{\"color\":\"gray\",\"dash\":\"dash\"},\"type\":\"line\",\"x0\":0.0,\"x1\":0.0,\"xref\":\"x\",\"y0\":0.0,\"y1\":0.0,\"yref\":\"y\"},{\"line\":{\"color\":\"gray\",\"dash\":\"dash\"},\"type\":\"line\",\"x0\":0.0,\"x1\":0.0,\"xref\":\"x\",\"y0\":0.0,\"y1\":0.0,\"yref\":\"y\"},{\"line\":{\"color\":\"gray\",\"dash\":\"dash\"},\"type\":\"line\",\"x0\":0.0,\"x1\":0.0,\"xref\":\"x\",\"y0\":0.0,\"y1\":0.0,\"yref\":\"y\"},{\"line\":{\"color\":\"gray\",\"dash\":\"dash\"},\"type\":\"line\",\"x0\":0.0,\"x1\":0.0,\"xref\":\"x\",\"y0\":0.0,\"y1\":0.0,\"yref\":\"y\"},{\"line\":{\"color\":\"gray\",\"dash\":\"dash\"},\"type\":\"line\",\"x0\":0.0,\"x1\":0.0,\"xref\":\"x\",\"y0\":0.0,\"y1\":0.0,\"yref\":\"y\"},{\"line\":{\"color\":\"gray\",\"dash\":\"dash\"},\"type\":\"line\",\"x0\":0.0,\"x1\":0.0,\"xref\":\"x\",\"y0\":0.0,\"y1\":0.0,\"yref\":\"y\"},{\"line\":{\"color\":\"gray\",\"dash\":\"dash\"},\"type\":\"line\",\"x0\":0.0,\"x1\":0.0,\"xref\":\"x\",\"y0\":0.0,\"y1\":0.0,\"yref\":\"y\"},{\"line\":{\"color\":\"gray\",\"dash\":\"dash\"},\"type\":\"line\",\"x0\":0.0,\"x1\":0.0,\"xref\":\"x\",\"y0\":0.0,\"y1\":0.0,\"yref\":\"y\"},{\"line\":{\"color\":\"gray\",\"dash\":\"dash\"},\"type\":\"line\",\"x0\":0.0,\"x1\":0.0,\"xref\":\"x\",\"y0\":0.0,\"y1\":0.0,\"yref\":\"y\"},{\"line\":{\"color\":\"gray\",\"dash\":\"dash\"},\"type\":\"line\",\"x0\":0.0,\"x1\":0.0,\"xref\":\"x\",\"y0\":0.0,\"y1\":0.0,\"yref\":\"y\"},{\"line\":{\"color\":\"gray\",\"dash\":\"dash\"},\"type\":\"line\",\"x0\":0.0,\"x1\":0.0,\"xref\":\"x\",\"y0\":0.0,\"y1\":0.0,\"yref\":\"y\"},{\"line\":{\"color\":\"gray\",\"dash\":\"dash\"},\"type\":\"line\",\"x0\":0.0,\"x1\":0.0,\"xref\":\"x\",\"y0\":0.0,\"y1\":0.0,\"yref\":\"y\"},{\"line\":{\"color\":\"gray\",\"dash\":\"dash\"},\"type\":\"line\",\"x0\":0.0,\"x1\":0.0,\"xref\":\"x\",\"y0\":0.0,\"y1\":0.0,\"yref\":\"y\"},{\"line\":{\"color\":\"gray\",\"dash\":\"dash\"},\"type\":\"line\",\"x0\":0.0,\"x1\":0.0,\"xref\":\"x\",\"y0\":0.0,\"y1\":0.0,\"yref\":\"y\"},{\"line\":{\"color\":\"gray\",\"dash\":\"dash\"},\"type\":\"line\",\"x0\":0.0,\"x1\":0.0,\"xref\":\"x\",\"y0\":0.0,\"y1\":0.0,\"yref\":\"y\"},{\"line\":{\"color\":\"gray\",\"dash\":\"dash\"},\"type\":\"line\",\"x0\":0.0,\"x1\":0.0,\"xref\":\"x\",\"y0\":0.0,\"y1\":0.0,\"yref\":\"y\"},{\"line\":{\"color\":\"gray\",\"dash\":\"dash\"},\"type\":\"line\",\"x0\":0.0,\"x1\":0.7885018334206391,\"xref\":\"x\",\"y0\":0.0,\"y1\":0.07242011524358283,\"yref\":\"y\"},{\"line\":{\"color\":\"gray\",\"dash\":\"dash\"},\"type\":\"line\",\"x0\":0.7885018334206391,\"x1\":0.7990440020953379,\"xref\":\"x\",\"y0\":0.07242011524358283,\"y1\":0.313383970665269,\"yref\":\"y\"},{\"line\":{\"color\":\"gray\",\"dash\":\"dash\"},\"type\":\"line\",\"x0\":0.7990440020953379,\"x1\":0.8566657936092195,\"xref\":\"x\",\"y0\":0.313383970665269,\"y1\":0.4989523310633839,\"yref\":\"y\"},{\"line\":{\"color\":\"gray\",\"dash\":\"dash\"},\"type\":\"line\",\"x0\":0.8566657936092195,\"x1\":0.8700890518596124,\"xref\":\"x\",\"y0\":0.4989523310633839,\"y1\":0.5556574122577267,\"yref\":\"y\"},{\"line\":{\"color\":\"gray\",\"dash\":\"dash\"},\"type\":\"line\",\"x0\":0.8700890518596124,\"x1\":0.8704164484023049,\"xref\":\"x\",\"y0\":0.5556574122577267,\"y1\":1.1249345206914612,\"yref\":\"y\"},{\"line\":{\"color\":\"gray\",\"dash\":\"dash\"},\"type\":\"line\",\"x0\":0.8704164484023049,\"x1\":0.9690282870612886,\"xref\":\"x\",\"y0\":1.1249345206914612,\"y1\":1.1482451545311685,\"yref\":\"y\"},{\"line\":{\"color\":\"gray\",\"dash\":\"dash\"},\"type\":\"line\",\"x0\":0.9690282870612886,\"x1\":0.9694211629125197,\"xref\":\"x\",\"y0\":1.1482451545311685,\"y1\":1.2599528548978522,\"yref\":\"y\"},{\"line\":{\"color\":\"gray\",\"dash\":\"dash\"},\"type\":\"line\",\"x0\":0.9694211629125197,\"x1\":0.9700104766893661,\"xref\":\"x\",\"y0\":1.2599528548978522,\"y1\":1.5923258250392873,\"yref\":\"y\"}]},                        {\"responsive\": true}                    ).then(function(){\n",
       "                            \n",
       "var gd = document.getElementById('ea597cc0-f124-497d-add3-956077de866a');\n",
       "var x = new MutationObserver(function (mutations, observer) {{\n",
       "        var display = window.getComputedStyle(gd).display;\n",
       "        if (!display || display === 'none') {{\n",
       "            console.log([gd, 'removed!']);\n",
       "            Plotly.purge(gd);\n",
       "            observer.disconnect();\n",
       "        }}\n",
       "}});\n",
       "\n",
       "// Listen for the removal of the full notebook cells\n",
       "var notebookContainer = gd.closest('#notebook-container');\n",
       "if (notebookContainer) {{\n",
       "    x.observe(notebookContainer, {childList: true});\n",
       "}}\n",
       "\n",
       "// Listen for the clearing of the current output cell\n",
       "var outputEl = gd.closest('.output');\n",
       "if (outputEl) {{\n",
       "    x.observe(outputEl, {childList: true});\n",
       "}}\n",
       "\n",
       "                        })                };                });            </script>        </div>"
      ]
     },
     "metadata": {},
     "output_type": "display_data"
    }
   ],
   "source": [
    "\n",
    "df_rank = merge(acc_df, rank_df)\n",
    "#print(df.tail(400))\n",
    "fig = px.scatter(df_rank, x='Accuracy', y='Disparity', color='index')\n",
    "fig.update_layout(\n",
    "    yaxis_title=\"Disparity |Rank[male]-Rank[female]|\",\n",
    ")\n",
    "fig.add_shape(type='line',\n",
    "                x0=0,y0=0,x1=1,y1=0,\n",
    "                line=dict(color='Red',),\n",
    "                xref='x',yref='y'\n",
    ")\n",
    "p = np.array(preparePareto(df_rank[['Accuracy','Disparity']], True, False).dropna())\n",
    "for x, y in zip(p[:-1], p[1:]):\n",
    "    fig.add_shape(type='line',\n",
    "                x0=x[0],y0=x[1],x1=y[0],y1=y[1],\n",
    "                line=dict(color='gray',),line_dash='dash',\n",
    "                xref='x',yref='y')\n",
    "fig.write_html(\"pareto_rank_disp.html\")\n",
    "fig.show()"
   ]
  },
  {
   "cell_type": "code",
   "execution_count": 27,
   "metadata": {},
   "outputs": [
    {
     "data": {
      "application/vnd.plotly.v1+json": {
       "config": {
        "plotlyServerURL": "https://plot.ly"
       },
       "data": [
        {
         "error_x": {
          "array": [
           0.003576610560825864
          ]
         },
         "error_y": {
          "array": [
           0.2966673597969353
          ]
         },
         "hovertemplate": "Model=Mobilenet<br>Accuracy_mean=%{x}<br>Disparity_mean=%{y}<extra></extra>",
         "legendgroup": "Mobilenet",
         "marker": {
          "color": "#1F77B4",
          "symbol": "circle"
         },
         "mode": "markers",
         "name": "Mobilenet",
         "orientation": "v",
         "showlegend": true,
         "type": "scatter",
         "x": [
          0.28547341540073334
         ],
         "xaxis": "x",
         "y": [
          5.523572551073861
         ],
         "yaxis": "y"
        },
        {
         "error_x": {
          "array": [
           0.004262069268022598
          ]
         },
         "error_y": {
          "array": [
           0.15854110900376392
          ]
         },
         "hovertemplate": "Model=TNT<br>Accuracy_mean=%{x}<br>Disparity_mean=%{y}<extra></extra>",
         "legendgroup": "TNT",
         "marker": {
          "color": "#FF7F0E",
          "symbol": "circle"
         },
         "mode": "markers",
         "name": "TNT",
         "orientation": "v",
         "showlegend": true,
         "type": "scatter",
         "x": [
          0.1265387637506548
         ],
         "xaxis": "x",
         "y": [
          3.8130893137768465
         ],
         "yaxis": "y"
        },
        {
         "error_x": {
          "array": [
           0.0009960964709902673
          ]
         },
         "error_y": {
          "array": [
           0.25106243792325544
          ]
         },
         "hovertemplate": "Model=Rexnet<br>Accuracy_mean=%{x}<br>Disparity_mean=%{y}<extra></extra>",
         "legendgroup": "Rexnet",
         "marker": {
          "color": "#2CA02C",
          "symbol": "circle"
         },
         "mode": "markers",
         "name": "Rexnet",
         "orientation": "v",
         "showlegend": true,
         "type": "scatter",
         "x": [
          0.1017875851231011
         ],
         "xaxis": "x",
         "y": [
          2.4036471974855944
         ],
         "yaxis": "y"
        },
        {
         "error_x": {
          "array": [
           0.03868339784339987
          ]
         },
         "error_y": {
          "array": [
           0.9857126435471337
          ]
         },
         "hovertemplate": "Model=Esevovnet<br>Accuracy_mean=%{x}<br>Disparity_mean=%{y}<extra></extra>",
         "legendgroup": "Esevovnet",
         "marker": {
          "color": "#D62728",
          "symbol": "circle"
         },
         "mode": "markers",
         "name": "Esevovnet",
         "orientation": "v",
         "showlegend": true,
         "type": "scatter",
         "x": [
          0.33743124672603453
         ],
         "xaxis": "x",
         "y": [
          6.526093504452593
         ],
         "yaxis": "y"
        },
        {
         "error_x": {
          "array": [
           0.013056634736223096
          ]
         },
         "error_y": {
          "array": [
           2.67446152609113
          ]
         },
         "hovertemplate": "Model=Densenet<br>Accuracy_mean=%{x}<br>Disparity_mean=%{y}<extra></extra>",
         "legendgroup": "Densenet",
         "marker": {
          "color": "#9467BD",
          "symbol": "circle"
         },
         "mode": "markers",
         "name": "Densenet",
         "orientation": "v",
         "showlegend": true,
         "type": "scatter",
         "x": [
          0.2078804347826087
         ],
         "xaxis": "x",
         "y": [
          6.490505500261918
         ],
         "yaxis": "y"
        },
        {
         "error_x": {
          "array": [
           0.010277887796748944
          ]
         },
         "error_y": {
          "array": [
           0.15772792065108568
          ]
         },
         "hovertemplate": "Model=Dpn_Magface<br>Accuracy_mean=%{x}<br>Disparity_mean=%{y}<extra></extra>",
         "legendgroup": "Dpn_Magface",
         "marker": {
          "color": "#8C564B",
          "symbol": "circle"
         },
         "mode": "markers",
         "name": "Dpn_Magface",
         "orientation": "v",
         "showlegend": true,
         "type": "scatter",
         "x": [
          0.13803038239916185
         ],
         "xaxis": "x",
         "y": [
          1.4721712938711364
         ],
         "yaxis": "y"
        },
        {
         "error_x": {
          "array": [
           0.0018607676903457857
          ]
         },
         "error_y": {
          "array": [
           0.13174750791948692
          ]
         },
         "hovertemplate": "Model=Dpn_Cosface<br>Accuracy_mean=%{x}<br>Disparity_mean=%{y}<extra></extra>",
         "legendgroup": "Dpn_Cosface",
         "marker": {
          "color": "#E377C2",
          "symbol": "circle"
         },
         "mode": "markers",
         "name": "Dpn_Cosface",
         "orientation": "v",
         "showlegend": true,
         "type": "scatter",
         "x": [
          0.04925680984808803
         ],
         "xaxis": "x",
         "y": [
          2.639307228915663
         ],
         "yaxis": "y"
        },
        {
         "error_x": {
          "array": [
           0.00042551055777200354,
           0.0003407651256328828,
           0.00046029982340148605
          ]
         },
         "error_y": {
          "array": [
           0.10590708190783062,
           0.0911884792228371,
           0.1004359445696945
          ]
         },
         "hovertemplate": "Model=SMAC<br>Accuracy_mean=%{x}<br>Disparity_mean=%{y}<extra></extra>",
         "legendgroup": "SMAC",
         "marker": {
          "color": "#7F7F7F",
          "symbol": "circle"
         },
         "mode": "markers",
         "name": "SMAC",
         "orientation": "v",
         "showlegend": true,
         "type": "scatter",
         "x": [
          0.03200301204819281,
          0.03964772132006286,
          0.03296883184913568
         ],
         "xaxis": "x",
         "y": [
          1.4046621267679413,
          1.4612035096909377,
          1.845501571503405
         ],
         "yaxis": "y"
        }
       ],
       "layout": {
        "font": {
         "color": "Black",
         "family": "Arial",
         "size": 14
        },
        "legend": {
         "orientation": "h",
         "title": {
          "text": "Models"
         },
         "tracegroupgap": 0,
         "x": 1,
         "xanchor": "right",
         "y": 1.02,
         "yanchor": "bottom"
        },
        "margin": {
         "t": 60
        },
        "shapes": [
         {
          "line": {
           "color": "Red"
          },
          "type": "line",
          "x0": 0,
          "x1": 1,
          "xref": "x",
          "y0": 0,
          "y1": 0,
          "yref": "y"
         }
        ],
        "template": {
         "data": {
          "bar": [
           {
            "error_x": {
             "color": "rgb(36,36,36)"
            },
            "error_y": {
             "color": "rgb(36,36,36)"
            },
            "marker": {
             "line": {
              "color": "white",
              "width": 0.5
             },
             "pattern": {
              "fillmode": "overlay",
              "size": 10,
              "solidity": 0.2
             }
            },
            "type": "bar"
           }
          ],
          "barpolar": [
           {
            "marker": {
             "line": {
              "color": "white",
              "width": 0.5
             },
             "pattern": {
              "fillmode": "overlay",
              "size": 10,
              "solidity": 0.2
             }
            },
            "type": "barpolar"
           }
          ],
          "carpet": [
           {
            "aaxis": {
             "endlinecolor": "rgb(36,36,36)",
             "gridcolor": "white",
             "linecolor": "white",
             "minorgridcolor": "white",
             "startlinecolor": "rgb(36,36,36)"
            },
            "baxis": {
             "endlinecolor": "rgb(36,36,36)",
             "gridcolor": "white",
             "linecolor": "white",
             "minorgridcolor": "white",
             "startlinecolor": "rgb(36,36,36)"
            },
            "type": "carpet"
           }
          ],
          "choropleth": [
           {
            "colorbar": {
             "outlinewidth": 1,
             "tickcolor": "rgb(36,36,36)",
             "ticks": "outside"
            },
            "type": "choropleth"
           }
          ],
          "contour": [
           {
            "colorbar": {
             "outlinewidth": 1,
             "tickcolor": "rgb(36,36,36)",
             "ticks": "outside"
            },
            "colorscale": [
             [
              0,
              "#440154"
             ],
             [
              0.1111111111111111,
              "#482878"
             ],
             [
              0.2222222222222222,
              "#3e4989"
             ],
             [
              0.3333333333333333,
              "#31688e"
             ],
             [
              0.4444444444444444,
              "#26828e"
             ],
             [
              0.5555555555555556,
              "#1f9e89"
             ],
             [
              0.6666666666666666,
              "#35b779"
             ],
             [
              0.7777777777777778,
              "#6ece58"
             ],
             [
              0.8888888888888888,
              "#b5de2b"
             ],
             [
              1,
              "#fde725"
             ]
            ],
            "type": "contour"
           }
          ],
          "contourcarpet": [
           {
            "colorbar": {
             "outlinewidth": 1,
             "tickcolor": "rgb(36,36,36)",
             "ticks": "outside"
            },
            "type": "contourcarpet"
           }
          ],
          "heatmap": [
           {
            "colorbar": {
             "outlinewidth": 1,
             "tickcolor": "rgb(36,36,36)",
             "ticks": "outside"
            },
            "colorscale": [
             [
              0,
              "#440154"
             ],
             [
              0.1111111111111111,
              "#482878"
             ],
             [
              0.2222222222222222,
              "#3e4989"
             ],
             [
              0.3333333333333333,
              "#31688e"
             ],
             [
              0.4444444444444444,
              "#26828e"
             ],
             [
              0.5555555555555556,
              "#1f9e89"
             ],
             [
              0.6666666666666666,
              "#35b779"
             ],
             [
              0.7777777777777778,
              "#6ece58"
             ],
             [
              0.8888888888888888,
              "#b5de2b"
             ],
             [
              1,
              "#fde725"
             ]
            ],
            "type": "heatmap"
           }
          ],
          "heatmapgl": [
           {
            "colorbar": {
             "outlinewidth": 1,
             "tickcolor": "rgb(36,36,36)",
             "ticks": "outside"
            },
            "colorscale": [
             [
              0,
              "#440154"
             ],
             [
              0.1111111111111111,
              "#482878"
             ],
             [
              0.2222222222222222,
              "#3e4989"
             ],
             [
              0.3333333333333333,
              "#31688e"
             ],
             [
              0.4444444444444444,
              "#26828e"
             ],
             [
              0.5555555555555556,
              "#1f9e89"
             ],
             [
              0.6666666666666666,
              "#35b779"
             ],
             [
              0.7777777777777778,
              "#6ece58"
             ],
             [
              0.8888888888888888,
              "#b5de2b"
             ],
             [
              1,
              "#fde725"
             ]
            ],
            "type": "heatmapgl"
           }
          ],
          "histogram": [
           {
            "marker": {
             "line": {
              "color": "white",
              "width": 0.6
             }
            },
            "type": "histogram"
           }
          ],
          "histogram2d": [
           {
            "colorbar": {
             "outlinewidth": 1,
             "tickcolor": "rgb(36,36,36)",
             "ticks": "outside"
            },
            "colorscale": [
             [
              0,
              "#440154"
             ],
             [
              0.1111111111111111,
              "#482878"
             ],
             [
              0.2222222222222222,
              "#3e4989"
             ],
             [
              0.3333333333333333,
              "#31688e"
             ],
             [
              0.4444444444444444,
              "#26828e"
             ],
             [
              0.5555555555555556,
              "#1f9e89"
             ],
             [
              0.6666666666666666,
              "#35b779"
             ],
             [
              0.7777777777777778,
              "#6ece58"
             ],
             [
              0.8888888888888888,
              "#b5de2b"
             ],
             [
              1,
              "#fde725"
             ]
            ],
            "type": "histogram2d"
           }
          ],
          "histogram2dcontour": [
           {
            "colorbar": {
             "outlinewidth": 1,
             "tickcolor": "rgb(36,36,36)",
             "ticks": "outside"
            },
            "colorscale": [
             [
              0,
              "#440154"
             ],
             [
              0.1111111111111111,
              "#482878"
             ],
             [
              0.2222222222222222,
              "#3e4989"
             ],
             [
              0.3333333333333333,
              "#31688e"
             ],
             [
              0.4444444444444444,
              "#26828e"
             ],
             [
              0.5555555555555556,
              "#1f9e89"
             ],
             [
              0.6666666666666666,
              "#35b779"
             ],
             [
              0.7777777777777778,
              "#6ece58"
             ],
             [
              0.8888888888888888,
              "#b5de2b"
             ],
             [
              1,
              "#fde725"
             ]
            ],
            "type": "histogram2dcontour"
           }
          ],
          "mesh3d": [
           {
            "colorbar": {
             "outlinewidth": 1,
             "tickcolor": "rgb(36,36,36)",
             "ticks": "outside"
            },
            "type": "mesh3d"
           }
          ],
          "parcoords": [
           {
            "line": {
             "colorbar": {
              "outlinewidth": 1,
              "tickcolor": "rgb(36,36,36)",
              "ticks": "outside"
             }
            },
            "type": "parcoords"
           }
          ],
          "pie": [
           {
            "automargin": true,
            "type": "pie"
           }
          ],
          "scatter": [
           {
            "fillpattern": {
             "fillmode": "overlay",
             "size": 10,
             "solidity": 0.2
            },
            "type": "scatter"
           }
          ],
          "scatter3d": [
           {
            "line": {
             "colorbar": {
              "outlinewidth": 1,
              "tickcolor": "rgb(36,36,36)",
              "ticks": "outside"
             }
            },
            "marker": {
             "colorbar": {
              "outlinewidth": 1,
              "tickcolor": "rgb(36,36,36)",
              "ticks": "outside"
             }
            },
            "type": "scatter3d"
           }
          ],
          "scattercarpet": [
           {
            "marker": {
             "colorbar": {
              "outlinewidth": 1,
              "tickcolor": "rgb(36,36,36)",
              "ticks": "outside"
             }
            },
            "type": "scattercarpet"
           }
          ],
          "scattergeo": [
           {
            "marker": {
             "colorbar": {
              "outlinewidth": 1,
              "tickcolor": "rgb(36,36,36)",
              "ticks": "outside"
             }
            },
            "type": "scattergeo"
           }
          ],
          "scattergl": [
           {
            "marker": {
             "colorbar": {
              "outlinewidth": 1,
              "tickcolor": "rgb(36,36,36)",
              "ticks": "outside"
             }
            },
            "type": "scattergl"
           }
          ],
          "scattermapbox": [
           {
            "marker": {
             "colorbar": {
              "outlinewidth": 1,
              "tickcolor": "rgb(36,36,36)",
              "ticks": "outside"
             }
            },
            "type": "scattermapbox"
           }
          ],
          "scatterpolar": [
           {
            "marker": {
             "colorbar": {
              "outlinewidth": 1,
              "tickcolor": "rgb(36,36,36)",
              "ticks": "outside"
             }
            },
            "type": "scatterpolar"
           }
          ],
          "scatterpolargl": [
           {
            "marker": {
             "colorbar": {
              "outlinewidth": 1,
              "tickcolor": "rgb(36,36,36)",
              "ticks": "outside"
             }
            },
            "type": "scatterpolargl"
           }
          ],
          "scatterternary": [
           {
            "marker": {
             "colorbar": {
              "outlinewidth": 1,
              "tickcolor": "rgb(36,36,36)",
              "ticks": "outside"
             }
            },
            "type": "scatterternary"
           }
          ],
          "surface": [
           {
            "colorbar": {
             "outlinewidth": 1,
             "tickcolor": "rgb(36,36,36)",
             "ticks": "outside"
            },
            "colorscale": [
             [
              0,
              "#440154"
             ],
             [
              0.1111111111111111,
              "#482878"
             ],
             [
              0.2222222222222222,
              "#3e4989"
             ],
             [
              0.3333333333333333,
              "#31688e"
             ],
             [
              0.4444444444444444,
              "#26828e"
             ],
             [
              0.5555555555555556,
              "#1f9e89"
             ],
             [
              0.6666666666666666,
              "#35b779"
             ],
             [
              0.7777777777777778,
              "#6ece58"
             ],
             [
              0.8888888888888888,
              "#b5de2b"
             ],
             [
              1,
              "#fde725"
             ]
            ],
            "type": "surface"
           }
          ],
          "table": [
           {
            "cells": {
             "fill": {
              "color": "rgb(237,237,237)"
             },
             "line": {
              "color": "white"
             }
            },
            "header": {
             "fill": {
              "color": "rgb(217,217,217)"
             },
             "line": {
              "color": "white"
             }
            },
            "type": "table"
           }
          ]
         },
         "layout": {
          "annotationdefaults": {
           "arrowhead": 0,
           "arrowwidth": 1
          },
          "autotypenumbers": "strict",
          "coloraxis": {
           "colorbar": {
            "outlinewidth": 1,
            "tickcolor": "rgb(36,36,36)",
            "ticks": "outside"
           }
          },
          "colorscale": {
           "diverging": [
            [
             0,
             "rgb(103,0,31)"
            ],
            [
             0.1,
             "rgb(178,24,43)"
            ],
            [
             0.2,
             "rgb(214,96,77)"
            ],
            [
             0.3,
             "rgb(244,165,130)"
            ],
            [
             0.4,
             "rgb(253,219,199)"
            ],
            [
             0.5,
             "rgb(247,247,247)"
            ],
            [
             0.6,
             "rgb(209,229,240)"
            ],
            [
             0.7,
             "rgb(146,197,222)"
            ],
            [
             0.8,
             "rgb(67,147,195)"
            ],
            [
             0.9,
             "rgb(33,102,172)"
            ],
            [
             1,
             "rgb(5,48,97)"
            ]
           ],
           "sequential": [
            [
             0,
             "#440154"
            ],
            [
             0.1111111111111111,
             "#482878"
            ],
            [
             0.2222222222222222,
             "#3e4989"
            ],
            [
             0.3333333333333333,
             "#31688e"
            ],
            [
             0.4444444444444444,
             "#26828e"
            ],
            [
             0.5555555555555556,
             "#1f9e89"
            ],
            [
             0.6666666666666666,
             "#35b779"
            ],
            [
             0.7777777777777778,
             "#6ece58"
            ],
            [
             0.8888888888888888,
             "#b5de2b"
            ],
            [
             1,
             "#fde725"
            ]
           ],
           "sequentialminus": [
            [
             0,
             "#440154"
            ],
            [
             0.1111111111111111,
             "#482878"
            ],
            [
             0.2222222222222222,
             "#3e4989"
            ],
            [
             0.3333333333333333,
             "#31688e"
            ],
            [
             0.4444444444444444,
             "#26828e"
            ],
            [
             0.5555555555555556,
             "#1f9e89"
            ],
            [
             0.6666666666666666,
             "#35b779"
            ],
            [
             0.7777777777777778,
             "#6ece58"
            ],
            [
             0.8888888888888888,
             "#b5de2b"
            ],
            [
             1,
             "#fde725"
            ]
           ]
          },
          "colorway": [
           "#1F77B4",
           "#FF7F0E",
           "#2CA02C",
           "#D62728",
           "#9467BD",
           "#8C564B",
           "#E377C2",
           "#7F7F7F",
           "#BCBD22",
           "#17BECF"
          ],
          "font": {
           "color": "rgb(36,36,36)"
          },
          "geo": {
           "bgcolor": "white",
           "lakecolor": "white",
           "landcolor": "white",
           "showlakes": true,
           "showland": true,
           "subunitcolor": "white"
          },
          "hoverlabel": {
           "align": "left"
          },
          "hovermode": "closest",
          "mapbox": {
           "style": "light"
          },
          "paper_bgcolor": "white",
          "plot_bgcolor": "white",
          "polar": {
           "angularaxis": {
            "gridcolor": "rgb(232,232,232)",
            "linecolor": "rgb(36,36,36)",
            "showgrid": false,
            "showline": true,
            "ticks": "outside"
           },
           "bgcolor": "white",
           "radialaxis": {
            "gridcolor": "rgb(232,232,232)",
            "linecolor": "rgb(36,36,36)",
            "showgrid": false,
            "showline": true,
            "ticks": "outside"
           }
          },
          "scene": {
           "xaxis": {
            "backgroundcolor": "white",
            "gridcolor": "rgb(232,232,232)",
            "gridwidth": 2,
            "linecolor": "rgb(36,36,36)",
            "showbackground": true,
            "showgrid": false,
            "showline": true,
            "ticks": "outside",
            "zeroline": false,
            "zerolinecolor": "rgb(36,36,36)"
           },
           "yaxis": {
            "backgroundcolor": "white",
            "gridcolor": "rgb(232,232,232)",
            "gridwidth": 2,
            "linecolor": "rgb(36,36,36)",
            "showbackground": true,
            "showgrid": false,
            "showline": true,
            "ticks": "outside",
            "zeroline": false,
            "zerolinecolor": "rgb(36,36,36)"
           },
           "zaxis": {
            "backgroundcolor": "white",
            "gridcolor": "rgb(232,232,232)",
            "gridwidth": 2,
            "linecolor": "rgb(36,36,36)",
            "showbackground": true,
            "showgrid": false,
            "showline": true,
            "ticks": "outside",
            "zeroline": false,
            "zerolinecolor": "rgb(36,36,36)"
           }
          },
          "shapedefaults": {
           "fillcolor": "black",
           "line": {
            "width": 0
           },
           "opacity": 0.3
          },
          "ternary": {
           "aaxis": {
            "gridcolor": "rgb(232,232,232)",
            "linecolor": "rgb(36,36,36)",
            "showgrid": false,
            "showline": true,
            "ticks": "outside"
           },
           "baxis": {
            "gridcolor": "rgb(232,232,232)",
            "linecolor": "rgb(36,36,36)",
            "showgrid": false,
            "showline": true,
            "ticks": "outside"
           },
           "bgcolor": "white",
           "caxis": {
            "gridcolor": "rgb(232,232,232)",
            "linecolor": "rgb(36,36,36)",
            "showgrid": false,
            "showline": true,
            "ticks": "outside"
           }
          },
          "title": {
           "x": 0.05
          },
          "xaxis": {
           "automargin": true,
           "gridcolor": "rgb(232,232,232)",
           "linecolor": "rgb(36,36,36)",
           "showgrid": false,
           "showline": true,
           "ticks": "outside",
           "title": {
            "standoff": 15
           },
           "zeroline": false,
           "zerolinecolor": "rgb(36,36,36)"
          },
          "yaxis": {
           "automargin": true,
           "gridcolor": "rgb(232,232,232)",
           "linecolor": "rgb(36,36,36)",
           "showgrid": false,
           "showline": true,
           "ticks": "outside",
           "title": {
            "standoff": 15
           },
           "zeroline": false,
           "zerolinecolor": "rgb(36,36,36)"
          }
         }
        },
        "xaxis": {
         "anchor": "y",
         "domain": [
          0,
          1
         ],
         "range": [
          0,
          0.4
         ],
         "title": {
          "text": "Error"
         }
        },
        "yaxis": {
         "anchor": "x",
         "domain": [
          0,
          1
         ],
         "title": {
          "text": "Rank Disparity"
         }
        }
       }
      },
      "text/html": [
       "<div>                            <div id=\"c3f383e7-476c-4172-81de-17e24b87a4e9\" class=\"plotly-graph-div\" style=\"height:525px; width:100%;\"></div>            <script type=\"text/javascript\">                require([\"plotly\"], function(Plotly) {                    window.PLOTLYENV=window.PLOTLYENV || {};                                    if (document.getElementById(\"c3f383e7-476c-4172-81de-17e24b87a4e9\")) {                    Plotly.newPlot(                        \"c3f383e7-476c-4172-81de-17e24b87a4e9\",                        [{\"error_x\":{\"array\":[0.003576610560825864]},\"error_y\":{\"array\":[0.2966673597969353]},\"hovertemplate\":\"Model=Mobilenet<br>Accuracy_mean=%{x}<br>Disparity_mean=%{y}<extra></extra>\",\"legendgroup\":\"Mobilenet\",\"marker\":{\"color\":\"#1F77B4\",\"symbol\":\"circle\"},\"mode\":\"markers\",\"name\":\"Mobilenet\",\"orientation\":\"v\",\"showlegend\":true,\"x\":[0.28547341540073334],\"xaxis\":\"x\",\"y\":[5.523572551073861],\"yaxis\":\"y\",\"type\":\"scatter\"},{\"error_x\":{\"array\":[0.004262069268022598]},\"error_y\":{\"array\":[0.15854110900376392]},\"hovertemplate\":\"Model=TNT<br>Accuracy_mean=%{x}<br>Disparity_mean=%{y}<extra></extra>\",\"legendgroup\":\"TNT\",\"marker\":{\"color\":\"#FF7F0E\",\"symbol\":\"circle\"},\"mode\":\"markers\",\"name\":\"TNT\",\"orientation\":\"v\",\"showlegend\":true,\"x\":[0.1265387637506548],\"xaxis\":\"x\",\"y\":[3.8130893137768465],\"yaxis\":\"y\",\"type\":\"scatter\"},{\"error_x\":{\"array\":[0.0009960964709902673]},\"error_y\":{\"array\":[0.25106243792325544]},\"hovertemplate\":\"Model=Rexnet<br>Accuracy_mean=%{x}<br>Disparity_mean=%{y}<extra></extra>\",\"legendgroup\":\"Rexnet\",\"marker\":{\"color\":\"#2CA02C\",\"symbol\":\"circle\"},\"mode\":\"markers\",\"name\":\"Rexnet\",\"orientation\":\"v\",\"showlegend\":true,\"x\":[0.1017875851231011],\"xaxis\":\"x\",\"y\":[2.4036471974855944],\"yaxis\":\"y\",\"type\":\"scatter\"},{\"error_x\":{\"array\":[0.03868339784339987]},\"error_y\":{\"array\":[0.9857126435471337]},\"hovertemplate\":\"Model=Esevovnet<br>Accuracy_mean=%{x}<br>Disparity_mean=%{y}<extra></extra>\",\"legendgroup\":\"Esevovnet\",\"marker\":{\"color\":\"#D62728\",\"symbol\":\"circle\"},\"mode\":\"markers\",\"name\":\"Esevovnet\",\"orientation\":\"v\",\"showlegend\":true,\"x\":[0.33743124672603453],\"xaxis\":\"x\",\"y\":[6.526093504452593],\"yaxis\":\"y\",\"type\":\"scatter\"},{\"error_x\":{\"array\":[0.013056634736223096]},\"error_y\":{\"array\":[2.67446152609113]},\"hovertemplate\":\"Model=Densenet<br>Accuracy_mean=%{x}<br>Disparity_mean=%{y}<extra></extra>\",\"legendgroup\":\"Densenet\",\"marker\":{\"color\":\"#9467BD\",\"symbol\":\"circle\"},\"mode\":\"markers\",\"name\":\"Densenet\",\"orientation\":\"v\",\"showlegend\":true,\"x\":[0.2078804347826087],\"xaxis\":\"x\",\"y\":[6.490505500261918],\"yaxis\":\"y\",\"type\":\"scatter\"},{\"error_x\":{\"array\":[0.010277887796748944]},\"error_y\":{\"array\":[0.15772792065108568]},\"hovertemplate\":\"Model=Dpn_Magface<br>Accuracy_mean=%{x}<br>Disparity_mean=%{y}<extra></extra>\",\"legendgroup\":\"Dpn_Magface\",\"marker\":{\"color\":\"#8C564B\",\"symbol\":\"circle\"},\"mode\":\"markers\",\"name\":\"Dpn_Magface\",\"orientation\":\"v\",\"showlegend\":true,\"x\":[0.13803038239916185],\"xaxis\":\"x\",\"y\":[1.4721712938711364],\"yaxis\":\"y\",\"type\":\"scatter\"},{\"error_x\":{\"array\":[0.0018607676903457857]},\"error_y\":{\"array\":[0.13174750791948692]},\"hovertemplate\":\"Model=Dpn_Cosface<br>Accuracy_mean=%{x}<br>Disparity_mean=%{y}<extra></extra>\",\"legendgroup\":\"Dpn_Cosface\",\"marker\":{\"color\":\"#E377C2\",\"symbol\":\"circle\"},\"mode\":\"markers\",\"name\":\"Dpn_Cosface\",\"orientation\":\"v\",\"showlegend\":true,\"x\":[0.04925680984808803],\"xaxis\":\"x\",\"y\":[2.639307228915663],\"yaxis\":\"y\",\"type\":\"scatter\"},{\"error_x\":{\"array\":[0.00042551055777200354,0.0003407651256328828,0.00046029982340148605]},\"error_y\":{\"array\":[0.10590708190783062,0.0911884792228371,0.1004359445696945]},\"hovertemplate\":\"Model=SMAC<br>Accuracy_mean=%{x}<br>Disparity_mean=%{y}<extra></extra>\",\"legendgroup\":\"SMAC\",\"marker\":{\"color\":\"#7F7F7F\",\"symbol\":\"circle\"},\"mode\":\"markers\",\"name\":\"SMAC\",\"orientation\":\"v\",\"showlegend\":true,\"x\":[0.03200301204819281,0.03964772132006286,0.03296883184913568],\"xaxis\":\"x\",\"y\":[1.4046621267679413,1.4612035096909377,1.845501571503405],\"yaxis\":\"y\",\"type\":\"scatter\"}],                        {\"template\":{\"data\":{\"barpolar\":[{\"marker\":{\"line\":{\"color\":\"white\",\"width\":0.5},\"pattern\":{\"fillmode\":\"overlay\",\"size\":10,\"solidity\":0.2}},\"type\":\"barpolar\"}],\"bar\":[{\"error_x\":{\"color\":\"rgb(36,36,36)\"},\"error_y\":{\"color\":\"rgb(36,36,36)\"},\"marker\":{\"line\":{\"color\":\"white\",\"width\":0.5},\"pattern\":{\"fillmode\":\"overlay\",\"size\":10,\"solidity\":0.2}},\"type\":\"bar\"}],\"carpet\":[{\"aaxis\":{\"endlinecolor\":\"rgb(36,36,36)\",\"gridcolor\":\"white\",\"linecolor\":\"white\",\"minorgridcolor\":\"white\",\"startlinecolor\":\"rgb(36,36,36)\"},\"baxis\":{\"endlinecolor\":\"rgb(36,36,36)\",\"gridcolor\":\"white\",\"linecolor\":\"white\",\"minorgridcolor\":\"white\",\"startlinecolor\":\"rgb(36,36,36)\"},\"type\":\"carpet\"}],\"choropleth\":[{\"colorbar\":{\"outlinewidth\":1,\"tickcolor\":\"rgb(36,36,36)\",\"ticks\":\"outside\"},\"type\":\"choropleth\"}],\"contourcarpet\":[{\"colorbar\":{\"outlinewidth\":1,\"tickcolor\":\"rgb(36,36,36)\",\"ticks\":\"outside\"},\"type\":\"contourcarpet\"}],\"contour\":[{\"colorbar\":{\"outlinewidth\":1,\"tickcolor\":\"rgb(36,36,36)\",\"ticks\":\"outside\"},\"colorscale\":[[0.0,\"#440154\"],[0.1111111111111111,\"#482878\"],[0.2222222222222222,\"#3e4989\"],[0.3333333333333333,\"#31688e\"],[0.4444444444444444,\"#26828e\"],[0.5555555555555556,\"#1f9e89\"],[0.6666666666666666,\"#35b779\"],[0.7777777777777778,\"#6ece58\"],[0.8888888888888888,\"#b5de2b\"],[1.0,\"#fde725\"]],\"type\":\"contour\"}],\"heatmapgl\":[{\"colorbar\":{\"outlinewidth\":1,\"tickcolor\":\"rgb(36,36,36)\",\"ticks\":\"outside\"},\"colorscale\":[[0.0,\"#440154\"],[0.1111111111111111,\"#482878\"],[0.2222222222222222,\"#3e4989\"],[0.3333333333333333,\"#31688e\"],[0.4444444444444444,\"#26828e\"],[0.5555555555555556,\"#1f9e89\"],[0.6666666666666666,\"#35b779\"],[0.7777777777777778,\"#6ece58\"],[0.8888888888888888,\"#b5de2b\"],[1.0,\"#fde725\"]],\"type\":\"heatmapgl\"}],\"heatmap\":[{\"colorbar\":{\"outlinewidth\":1,\"tickcolor\":\"rgb(36,36,36)\",\"ticks\":\"outside\"},\"colorscale\":[[0.0,\"#440154\"],[0.1111111111111111,\"#482878\"],[0.2222222222222222,\"#3e4989\"],[0.3333333333333333,\"#31688e\"],[0.4444444444444444,\"#26828e\"],[0.5555555555555556,\"#1f9e89\"],[0.6666666666666666,\"#35b779\"],[0.7777777777777778,\"#6ece58\"],[0.8888888888888888,\"#b5de2b\"],[1.0,\"#fde725\"]],\"type\":\"heatmap\"}],\"histogram2dcontour\":[{\"colorbar\":{\"outlinewidth\":1,\"tickcolor\":\"rgb(36,36,36)\",\"ticks\":\"outside\"},\"colorscale\":[[0.0,\"#440154\"],[0.1111111111111111,\"#482878\"],[0.2222222222222222,\"#3e4989\"],[0.3333333333333333,\"#31688e\"],[0.4444444444444444,\"#26828e\"],[0.5555555555555556,\"#1f9e89\"],[0.6666666666666666,\"#35b779\"],[0.7777777777777778,\"#6ece58\"],[0.8888888888888888,\"#b5de2b\"],[1.0,\"#fde725\"]],\"type\":\"histogram2dcontour\"}],\"histogram2d\":[{\"colorbar\":{\"outlinewidth\":1,\"tickcolor\":\"rgb(36,36,36)\",\"ticks\":\"outside\"},\"colorscale\":[[0.0,\"#440154\"],[0.1111111111111111,\"#482878\"],[0.2222222222222222,\"#3e4989\"],[0.3333333333333333,\"#31688e\"],[0.4444444444444444,\"#26828e\"],[0.5555555555555556,\"#1f9e89\"],[0.6666666666666666,\"#35b779\"],[0.7777777777777778,\"#6ece58\"],[0.8888888888888888,\"#b5de2b\"],[1.0,\"#fde725\"]],\"type\":\"histogram2d\"}],\"histogram\":[{\"marker\":{\"line\":{\"color\":\"white\",\"width\":0.6}},\"type\":\"histogram\"}],\"mesh3d\":[{\"colorbar\":{\"outlinewidth\":1,\"tickcolor\":\"rgb(36,36,36)\",\"ticks\":\"outside\"},\"type\":\"mesh3d\"}],\"parcoords\":[{\"line\":{\"colorbar\":{\"outlinewidth\":1,\"tickcolor\":\"rgb(36,36,36)\",\"ticks\":\"outside\"}},\"type\":\"parcoords\"}],\"pie\":[{\"automargin\":true,\"type\":\"pie\"}],\"scatter3d\":[{\"line\":{\"colorbar\":{\"outlinewidth\":1,\"tickcolor\":\"rgb(36,36,36)\",\"ticks\":\"outside\"}},\"marker\":{\"colorbar\":{\"outlinewidth\":1,\"tickcolor\":\"rgb(36,36,36)\",\"ticks\":\"outside\"}},\"type\":\"scatter3d\"}],\"scattercarpet\":[{\"marker\":{\"colorbar\":{\"outlinewidth\":1,\"tickcolor\":\"rgb(36,36,36)\",\"ticks\":\"outside\"}},\"type\":\"scattercarpet\"}],\"scattergeo\":[{\"marker\":{\"colorbar\":{\"outlinewidth\":1,\"tickcolor\":\"rgb(36,36,36)\",\"ticks\":\"outside\"}},\"type\":\"scattergeo\"}],\"scattergl\":[{\"marker\":{\"colorbar\":{\"outlinewidth\":1,\"tickcolor\":\"rgb(36,36,36)\",\"ticks\":\"outside\"}},\"type\":\"scattergl\"}],\"scattermapbox\":[{\"marker\":{\"colorbar\":{\"outlinewidth\":1,\"tickcolor\":\"rgb(36,36,36)\",\"ticks\":\"outside\"}},\"type\":\"scattermapbox\"}],\"scatterpolargl\":[{\"marker\":{\"colorbar\":{\"outlinewidth\":1,\"tickcolor\":\"rgb(36,36,36)\",\"ticks\":\"outside\"}},\"type\":\"scatterpolargl\"}],\"scatterpolar\":[{\"marker\":{\"colorbar\":{\"outlinewidth\":1,\"tickcolor\":\"rgb(36,36,36)\",\"ticks\":\"outside\"}},\"type\":\"scatterpolar\"}],\"scatter\":[{\"fillpattern\":{\"fillmode\":\"overlay\",\"size\":10,\"solidity\":0.2},\"type\":\"scatter\"}],\"scatterternary\":[{\"marker\":{\"colorbar\":{\"outlinewidth\":1,\"tickcolor\":\"rgb(36,36,36)\",\"ticks\":\"outside\"}},\"type\":\"scatterternary\"}],\"surface\":[{\"colorbar\":{\"outlinewidth\":1,\"tickcolor\":\"rgb(36,36,36)\",\"ticks\":\"outside\"},\"colorscale\":[[0.0,\"#440154\"],[0.1111111111111111,\"#482878\"],[0.2222222222222222,\"#3e4989\"],[0.3333333333333333,\"#31688e\"],[0.4444444444444444,\"#26828e\"],[0.5555555555555556,\"#1f9e89\"],[0.6666666666666666,\"#35b779\"],[0.7777777777777778,\"#6ece58\"],[0.8888888888888888,\"#b5de2b\"],[1.0,\"#fde725\"]],\"type\":\"surface\"}],\"table\":[{\"cells\":{\"fill\":{\"color\":\"rgb(237,237,237)\"},\"line\":{\"color\":\"white\"}},\"header\":{\"fill\":{\"color\":\"rgb(217,217,217)\"},\"line\":{\"color\":\"white\"}},\"type\":\"table\"}]},\"layout\":{\"annotationdefaults\":{\"arrowhead\":0,\"arrowwidth\":1},\"autotypenumbers\":\"strict\",\"coloraxis\":{\"colorbar\":{\"outlinewidth\":1,\"tickcolor\":\"rgb(36,36,36)\",\"ticks\":\"outside\"}},\"colorscale\":{\"diverging\":[[0.0,\"rgb(103,0,31)\"],[0.1,\"rgb(178,24,43)\"],[0.2,\"rgb(214,96,77)\"],[0.3,\"rgb(244,165,130)\"],[0.4,\"rgb(253,219,199)\"],[0.5,\"rgb(247,247,247)\"],[0.6,\"rgb(209,229,240)\"],[0.7,\"rgb(146,197,222)\"],[0.8,\"rgb(67,147,195)\"],[0.9,\"rgb(33,102,172)\"],[1.0,\"rgb(5,48,97)\"]],\"sequential\":[[0.0,\"#440154\"],[0.1111111111111111,\"#482878\"],[0.2222222222222222,\"#3e4989\"],[0.3333333333333333,\"#31688e\"],[0.4444444444444444,\"#26828e\"],[0.5555555555555556,\"#1f9e89\"],[0.6666666666666666,\"#35b779\"],[0.7777777777777778,\"#6ece58\"],[0.8888888888888888,\"#b5de2b\"],[1.0,\"#fde725\"]],\"sequentialminus\":[[0.0,\"#440154\"],[0.1111111111111111,\"#482878\"],[0.2222222222222222,\"#3e4989\"],[0.3333333333333333,\"#31688e\"],[0.4444444444444444,\"#26828e\"],[0.5555555555555556,\"#1f9e89\"],[0.6666666666666666,\"#35b779\"],[0.7777777777777778,\"#6ece58\"],[0.8888888888888888,\"#b5de2b\"],[1.0,\"#fde725\"]]},\"colorway\":[\"#1F77B4\",\"#FF7F0E\",\"#2CA02C\",\"#D62728\",\"#9467BD\",\"#8C564B\",\"#E377C2\",\"#7F7F7F\",\"#BCBD22\",\"#17BECF\"],\"font\":{\"color\":\"rgb(36,36,36)\"},\"geo\":{\"bgcolor\":\"white\",\"lakecolor\":\"white\",\"landcolor\":\"white\",\"showlakes\":true,\"showland\":true,\"subunitcolor\":\"white\"},\"hoverlabel\":{\"align\":\"left\"},\"hovermode\":\"closest\",\"mapbox\":{\"style\":\"light\"},\"paper_bgcolor\":\"white\",\"plot_bgcolor\":\"white\",\"polar\":{\"angularaxis\":{\"gridcolor\":\"rgb(232,232,232)\",\"linecolor\":\"rgb(36,36,36)\",\"showgrid\":false,\"showline\":true,\"ticks\":\"outside\"},\"bgcolor\":\"white\",\"radialaxis\":{\"gridcolor\":\"rgb(232,232,232)\",\"linecolor\":\"rgb(36,36,36)\",\"showgrid\":false,\"showline\":true,\"ticks\":\"outside\"}},\"scene\":{\"xaxis\":{\"backgroundcolor\":\"white\",\"gridcolor\":\"rgb(232,232,232)\",\"gridwidth\":2,\"linecolor\":\"rgb(36,36,36)\",\"showbackground\":true,\"showgrid\":false,\"showline\":true,\"ticks\":\"outside\",\"zeroline\":false,\"zerolinecolor\":\"rgb(36,36,36)\"},\"yaxis\":{\"backgroundcolor\":\"white\",\"gridcolor\":\"rgb(232,232,232)\",\"gridwidth\":2,\"linecolor\":\"rgb(36,36,36)\",\"showbackground\":true,\"showgrid\":false,\"showline\":true,\"ticks\":\"outside\",\"zeroline\":false,\"zerolinecolor\":\"rgb(36,36,36)\"},\"zaxis\":{\"backgroundcolor\":\"white\",\"gridcolor\":\"rgb(232,232,232)\",\"gridwidth\":2,\"linecolor\":\"rgb(36,36,36)\",\"showbackground\":true,\"showgrid\":false,\"showline\":true,\"ticks\":\"outside\",\"zeroline\":false,\"zerolinecolor\":\"rgb(36,36,36)\"}},\"shapedefaults\":{\"fillcolor\":\"black\",\"line\":{\"width\":0},\"opacity\":0.3},\"ternary\":{\"aaxis\":{\"gridcolor\":\"rgb(232,232,232)\",\"linecolor\":\"rgb(36,36,36)\",\"showgrid\":false,\"showline\":true,\"ticks\":\"outside\"},\"baxis\":{\"gridcolor\":\"rgb(232,232,232)\",\"linecolor\":\"rgb(36,36,36)\",\"showgrid\":false,\"showline\":true,\"ticks\":\"outside\"},\"bgcolor\":\"white\",\"caxis\":{\"gridcolor\":\"rgb(232,232,232)\",\"linecolor\":\"rgb(36,36,36)\",\"showgrid\":false,\"showline\":true,\"ticks\":\"outside\"}},\"title\":{\"x\":0.05},\"xaxis\":{\"automargin\":true,\"gridcolor\":\"rgb(232,232,232)\",\"linecolor\":\"rgb(36,36,36)\",\"showgrid\":false,\"showline\":true,\"ticks\":\"outside\",\"title\":{\"standoff\":15},\"zeroline\":false,\"zerolinecolor\":\"rgb(36,36,36)\"},\"yaxis\":{\"automargin\":true,\"gridcolor\":\"rgb(232,232,232)\",\"linecolor\":\"rgb(36,36,36)\",\"showgrid\":false,\"showline\":true,\"ticks\":\"outside\",\"title\":{\"standoff\":15},\"zeroline\":false,\"zerolinecolor\":\"rgb(36,36,36)\"}}},\"xaxis\":{\"anchor\":\"y\",\"domain\":[0.0,1.0],\"title\":{\"text\":\"Error\"},\"range\":[0,0.4]},\"yaxis\":{\"anchor\":\"x\",\"domain\":[0.0,1.0],\"title\":{\"text\":\"Rank Disparity\"}},\"legend\":{\"title\":{\"text\":\"Models\"},\"tracegroupgap\":0,\"orientation\":\"h\",\"yanchor\":\"bottom\",\"y\":1.02,\"xanchor\":\"right\",\"x\":1},\"margin\":{\"t\":60},\"shapes\":[{\"line\":{\"color\":\"Red\"},\"type\":\"line\",\"x0\":0,\"x1\":1,\"xref\":\"x\",\"y0\":0,\"y1\":0,\"yref\":\"y\"}],\"font\":{\"family\":\"Arial\",\"size\":14,\"color\":\"Black\"}},                        {\"responsive\": true}                    ).then(function(){\n",
       "                            \n",
       "var gd = document.getElementById('c3f383e7-476c-4172-81de-17e24b87a4e9');\n",
       "var x = new MutationObserver(function (mutations, observer) {{\n",
       "        var display = window.getComputedStyle(gd).display;\n",
       "        if (!display || display === 'none') {{\n",
       "            console.log([gd, 'removed!']);\n",
       "            Plotly.purge(gd);\n",
       "            observer.disconnect();\n",
       "        }}\n",
       "}});\n",
       "\n",
       "// Listen for the removal of the full notebook cells\n",
       "var notebookContainer = gd.closest('#notebook-container');\n",
       "if (notebookContainer) {{\n",
       "    x.observe(notebookContainer, {childList: true});\n",
       "}}\n",
       "\n",
       "// Listen for the clearing of the current output cell\n",
       "var outputEl = gd.closest('.output');\n",
       "if (outputEl) {{\n",
       "    x.observe(outputEl, {childList: true});\n",
       "}}\n",
       "\n",
       "                        })                };                });            </script>        </div>"
      ]
     },
     "metadata": {},
     "output_type": "display_data"
    }
   ],
   "source": [
    "from scipy.stats import sem\n",
    "seed =4\n",
    "df_rank[\"Accuracy\"] = 1-df_rank[\"Accuracy\"]\n",
    "mobnet = df_rank[df_rank[\"index\"].str.contains(r'mobilenetv3_large_100_CosFace_SGD_0.1_cosine*')]\n",
    "mobnet = mobnet[mobnet[\"epoch\"]==99].dropna().tail(seed)\n",
    "tnt = df_rank[df_rank[\"index\"].str.contains(r'tnt_s_patch16_224_CosFace_AdamW*')]\n",
    "tnt = tnt[tnt[\"epoch\"]==99].dropna().tail(seed)\n",
    "rexnet = df_rank[df_rank[\"index\"].str.contains(r'rexnet_200_MagFace_SGD_0.1_cosine*')]\n",
    "rexnet = rexnet[rexnet[\"epoch\"]==99].dropna().tail(seed)\n",
    "inception = df_rank[df_rank[\"index\"].str.contains(r'inception_resnet_v2_CosFace_AdamW_0.001_cosine*')]\n",
    "inception=inception[inception[\"epoch\"]==99].dropna().tail(seed)\n",
    "ese = df_rank[df_rank[\"index\"].str.contains(r'ese_vovnet39b_CosFace_AdamW_0.001_cosine*')]\n",
    "ese=ese[ese[\"epoch\"]==99].tail(4).dropna()\n",
    "densenet161 = df_rank[df_rank[\"index\"].str.contains(r'densenet161_CosFace_AdamW_0.001_cosine*')]\n",
    "densenet161=densenet161[densenet161[\"epoch\"]==99].dropna().tail(seed)\n",
    "dpn2 = df_rank[df_rank[\"index\"].str.contains(r'dpn107_MagFace_SGD_0.1_cosine*')]\n",
    "dpn2=dpn2[dpn2[\"epoch\"]==99].dropna().tail(seed)\n",
    "dpns=df_rank[df_rank[\"index\"].str.contains(r'dpn107_CosFace_SGD_0.1_cosine*')]\n",
    "dpns=dpns[dpns[\"epoch\"]==99].dropna().tail(seed)\n",
    "model_000=df_rank[df_rank[\"index\"].str.contains(r'Checkpoints_Edges_000*')]#.tail(5)\n",
    "model_000=model_000[model_000[\"epoch\"]==99].dropna().tail(seed)\n",
    "model_010=df_rank[df_rank[\"index\"].str.contains(r'Checkpoints_Edges_010*')]#.tail(5)\n",
    "model_010=model_010[model_010[\"epoch\"]==99].dropna().tail(seed)\n",
    "model_680=df_rank[df_rank[\"index\"].str.contains(r'Checkpoints_Edges_680*')]#.tail(5)\n",
    "model_680=model_680[model_680[\"epoch\"]==99].dropna().tail(seed)\n",
    "model_040=df_rank[df_rank[\"index\"].str.contains(r'Checkpoints_Edges_040*')]#.tail(5)\n",
    "model_040=model_040[model_040[\"epoch\"]==99].dropna().tail(seed)\n",
    "df_rank_4 = pd.DataFrame()\n",
    "df_rank_4[\"Accuracy_mean\"]=[mobnet[\"Accuracy\"].mean(),tnt[\"Accuracy\"].mean(),rexnet[\"Accuracy\"].mean(), ese[\"Accuracy\"].mean(),densenet161[\"Accuracy\"].mean(),dpn2[\"Accuracy\"].mean(),dpns[\"Accuracy\"].mean(), model_000[\"Accuracy\"].mean(), model_010[\"Accuracy\"].mean(), model_680[\"Accuracy\"].mean()]#,model_040[\"Accuracy\"].mean()]\n",
    "df_rank_4[\"Accuracy_std\"]=[sem(mobnet[\"Accuracy\"]),sem(tnt[\"Accuracy\"]),sem(rexnet[\"Accuracy\"]),sem(ese[\"Accuracy\"]),sem(densenet161[\"Accuracy\"]),sem(dpn2[\"Accuracy\"]),sem(dpns[\"Accuracy\"]), sem(model_000[\"Accuracy\"]), sem(model_010[\"Accuracy\"]), sem(model_680[\"Accuracy\"])]#,sem(model_040[\"Accuracy\"])]\n",
    "df_rank_4[\"Disparity_mean\"]=[mobnet[\"Disparity\"].mean(),tnt[\"Disparity\"].mean(),rexnet[\"Disparity\"].mean(),ese[\"Disparity\"].mean(),densenet161[\"Disparity\"].mean(),dpn2[\"Disparity\"].mean(),dpns[\"Disparity\"].mean(), model_000[\"Disparity\"].mean(), model_010[\"Disparity\"].mean(), model_680[\"Disparity\"].mean()]#, model_040[\"Disparity\"].mean()]\n",
    "df_rank_4[\"Disparity_std\"]=[sem(mobnet[\"Disparity\"]),sem(tnt[\"Disparity\"]),sem(rexnet[\"Disparity\"]),sem(ese[\"Disparity\"]),sem(densenet161[\"Disparity\"]), sem(dpn2[\"Disparity\"]),sem(dpns[\"Disparity\"]), sem(model_000[\"Disparity\"]), sem(model_010[\"Disparity\"]), sem(model_680[\"Disparity\"])]#,sem(model_040[\"Disparity\"])]\n",
    "df_rank_4[\"Model\"]=[\"Mobilenet\",\"TNT\",\"Rexnet\",\"Esevovnet\",\"Densenet\",\"Dpn_Magface\",\"Dpn_Cosface\", \"SMAC\", \"SMAC\", \"SMAC\"]\n",
    "fig = px.scatter(df_rank_4, x='Accuracy_mean', y='Disparity_mean', error_x = \"Accuracy_std\", error_y = \"Disparity_std\", color='Model', template=\"simple_white\",)\n",
    "fig.update_layout(\n",
    "    yaxis_title=\"Rank Disparity\",\n",
    "    xaxis_title = \"Error\",\n",
    "    xaxis_range=[0,0.4]\n",
    ")\n",
    "fig.add_shape(type='line',\n",
    "                x0=0,y0=0,x1=1,y1=0,\n",
    "                line=dict(color='Red',),\n",
    "                xref='x',yref='y'\n",
    ")\n",
    "fig.update_layout(\n",
    "    xaxis_title=\"Error\",\n",
    "    yaxis_title=\"Rank Disparity\",\n",
    "    legend_title=\"Models\",\n",
    "    font=dict(\n",
    "        family=\"Arial\",\n",
    "        size=14,\n",
    "        color=\"Black\"\n",
    "    )\n",
    ")\n",
    "fig.update_layout(legend=dict(\n",
    "    orientation=\"h\",\n",
    "    yanchor=\"bottom\",\n",
    "    y=1.02,\n",
    "    xanchor=\"right\",\n",
    "    x=1\n",
    "))\n",
    "p = np.array(preparePareto(df_rank_4[['Accuracy_mean','Disparity_mean']], False, False).dropna())\n",
    "for x, y in zip(p[:-1], p[1:]):\n",
    "    fig.add_shape(type='line',\n",
    "                x0=x[0],y0=x[1],x1=y[0],y1=y[1],\n",
    "                line=dict(color='gray',width=4),line_dash='dash',\n",
    "                xref='x',yref='y')\n",
    "fig.write_html(\"pareto_rank_disp_4.html\")\n",
    "fig.show()"
   ]
  }
 ],
 "metadata": {
  "kernelspec": {
   "display_name": "Python 3.9.11",
   "language": "python",
   "name": "python3"
  },
  "language_info": {
   "codemirror_mode": {
    "name": "ipython",
    "version": 3
   },
   "file_extension": ".py",
   "mimetype": "text/x-python",
   "name": "python",
   "nbconvert_exporter": "python",
   "pygments_lexer": "ipython3",
   "version": "3.9.11"
  },
  "orig_nbformat": 4,
  "vscode": {
   "interpreter": {
    "hash": "560e4ac3bd3b6971c8fa3057323a127944991495e35fdaff21ae2bbdeedafd1a"
   }
  }
 },
 "nbformat": 4,
 "nbformat_minor": 2
}
