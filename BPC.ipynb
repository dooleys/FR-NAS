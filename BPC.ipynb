{
 "cells": [
  {
   "cell_type": "code",
   "execution_count": 1,
   "id": "5bdda60c",
   "metadata": {},
   "outputs": [],
   "source": [
    "import pandas as pd\n",
    "import numpy as np\n",
    "import os\n",
    "from analysis import *\n",
    "import glob\n",
    "import string\n",
    "import plotly.graph_objects as go\n",
    "os.chdir('Checkpoints/')"
   ]
  },
  {
   "cell_type": "code",
   "execution_count": 2,
   "id": "aeabcd65",
   "metadata": {},
   "outputs": [],
   "source": [
    "colors = ['#e6194B', '#3cb44b', '#ffe119','#f58231','#42d4f4',\n",
    "          '#f032e6','#fabed4','#469990','#aaffc3','#000075','#e6194B','#9a6324','#dcbeff', '#aaffc3', '#ffe119']\n",
    "plotted_models = ['DPN','ReXNet', 'EseVoVNet', 'TNT', 'Inception', 'HRNet', 'MobileNet', 'VGG19', 'ResNet-RS', \n",
    "                 'DenseNet', 'DPN_Magface', 'DPN_Cosface', 'SMAC', 'Coat', 'Cait']"
   ]
  },
  {
   "cell_type": "code",
   "execution_count": 3,
   "id": "aeefe80e",
   "metadata": {},
   "outputs": [],
   "source": [
    "models = get_finished_models_Phase1B()\n",
    "\n",
    "rank_files = glob.glob('Phase1B/**/*_rank_by_id_val.csv')\n",
    "rank_files += glob.glob('timm_explore_few_epochs/**/*_rank_by_id_val.csv')\n",
    "rank_files_Phase1 = [x for x in rank_files if any([m in x for m in models])]\n",
    "kacc_files = glob.glob('**/**/*_kacc_val.csv')\n",
    "metadata = pd.read_csv('val_identities_gender-expression_seed_222.csv')\n",
    "\n",
    "epochs = ['epoch_'+str(i) for i in [19,39,59,79,99]]\n",
    "\n",
    "acc_df, acc_disp_df, rank_df = analyze_rank_files(rank_files_Phase1, metadata, epochs=epochs)\n",
    "_, acc_disp_ratio_df, rank_ratio_df = analyze_rank_files(rank_files_Phase1, metadata, ratio=True, epochs=epochs)\n",
    "err_df, error_ratio_df, _ = analyze_rank_files(rank_files_Phase1, metadata, ratio=True, error=True, epochs=epochs)"
   ]
  },
  {
   "cell_type": "markdown",
   "id": "3aa810e9",
   "metadata": {},
   "source": [
    "# Stdacc"
   ]
  },
  {
   "cell_type": "code",
   "execution_count": 4,
   "id": "3247a2fa",
   "metadata": {},
   "outputs": [],
   "source": [
    "def stdacc_from_rank_func(df, epoch_columns):\n",
    "    # calculate the violation of statistical parity\n",
    "    data = {}\n",
    "    for g,g_df in df.groupby('gender_expression'):\n",
    "        data[g] = g_df[epoch_columns].apply(lambda x: np.mean([(x<=i).mean() for i in range(x.max())]))\n",
    "    return abs(data['male'].std()-data['female'].std())\n",
    "    \n",
    "def stdacc_rank_files_np(files, metadata, epochs=None): \n",
    "    if epochs is None:\n",
    "        epochs = ['epoch_'+str(e) for e in range(100)]\n",
    "\n",
    "    stdacc_df = pd.DataFrame(columns=epochs)\n",
    "\n",
    "    for f in files:\n",
    "        try:\n",
    "            df = pd.read_csv(f)\n",
    "        except:\n",
    "            continue\n",
    "        epoch_columns = list(set(df.columns).intersection(epochs))\n",
    "        if not df[epoch_columns].shape[1]:\n",
    "            continue\n",
    "        df = metadata.merge(df)\n",
    "        num_epochs = len(epoch_columns)\n",
    "        stdacc = stdacc_from_rank_func(df, epoch_columns)\n",
    "\n",
    "        experiment = get_name_details(f)[0]\n",
    "        stdacc_df.loc[experiment] = stdacc\n",
    "    return stdacc_df\n",
    "\n",
    "stdacc_df = stdacc_rank_files_np(rank_files_Phase1, metadata, epochs)\n",
    "\n"
   ]
  },
  {
   "cell_type": "code",
   "execution_count": 10,
   "id": "2f7a8c1f",
   "metadata": {},
   "outputs": [],
   "source": [
    "stdacc_df = prepare(stdacc_df)\n",
    "stdacc_df['index'] = stdacc_df['index']+'.csv'"
   ]
  },
  {
   "cell_type": "code",
   "execution_count": 14,
   "id": "1573d33f",
   "metadata": {},
   "outputs": [
    {
     "data": {
      "application/vnd.plotly.v1+json": {
       "config": {
        "plotlyServerURL": "https://plot.ly"
       },
       "data": [
        {
         "hovertemplate": "Error=%{x}<br>Disparity=%{y}<extra></extra>",
         "legendgroup": "",
         "marker": {
          "color": "#1F77B4",
          "symbol": "circle"
         },
         "mode": "markers",
         "name": "",
         "orientation": "v",
         "showlegend": false,
         "type": "scatter",
         "x": [
          0.09704033525405972,
          0.07687270822420116,
          0.12048192771084337,
          0.2904662126767941,
          0.18314562598218964,
          0.160489785227868,
          0.2246595075955998,
          0.2363148245154531,
          0.21647459402828706,
          0.15027501309586172,
          0.20586694604504976,
          0.15531691985332635,
          0.14045311681508643,
          0.2817574646411734,
          0.179020429544264,
          0.08492666317443688,
          0.05264536406495547,
          0.03621005762179151,
          0.07071765322158198,
          0.09749869041382923,
          0.15413829229963333,
          0.23363017286537455,
          0.1433342063907805,
          0.11674960712414877,
          0.12310110005238345,
          0.29891304347826086,
          0.19080670508119435,
          0.16644840230487165,
          0.19545573598742796,
          0.26990570979570455,
          0.19938449449973808,
          0.27691199580932424,
          0.28097171293871137,
          0.2893530644316396,
          0.27219748559455215,
          0.23703509690937663,
          0.25157150340492407,
          0.29400209533787325,
          0.20920639078051337,
          0.12048192771084337,
          0.1360005238344683,
          0.2527501309586171,
          0.28293609219486643,
          0.1705735987427973,
          0.25294656888423256,
          0.16972236773179675,
          0.2289156626506024,
          0.23363017286537455,
          0.21149816657936094,
          0.20095599790466212,
          0.18242535358826611,
          0.17751440544787847,
          0.15570979570455737,
          0.2702331063383971,
          0.1326610790990047,
          0.09952854897852279,
          0.10718962807752751,
          0.24305919329491882,
          0.2278679937139864,
          0.2658459926663174,
          0.19853326348873757,
          0.18458617077003667,
          0.143530644316396,
          0.21739130434782608,
          0.21261131482451545,
          0.13475641697223678,
          0.13626244106862231,
          0.14123886851754847,
          0.13665531691985333,
          0.268137768465165,
          0.1891697223677318,
          0.1965688842325825,
          0.12781561026715557,
          0.18471712938711368,
          0.17103195390256679,
          0.18707438449449973,
          0.21712938711367208,
          0.05500261917234154,
          0.0464903090623363,
          0.045966474594028285,
          0.08492666317443688,
          0.09226034573074908,
          0.29341278156102674,
          0.250392875851231,
          0.25680984808800417,
          0.18720534311157674,
          0.29020429544264015,
          0.16147197485594553,
          0.16278156102671557,
          0.19257464641173389,
          0.26178627553693035,
          0.1533525405971713,
          0.2039025667888947,
          0.11255893137768465,
          0.1506678889470927,
          0.10535620743844945,
          0.05159769512833944,
          0.22806443163960188,
          0.2820193818753274,
          0.24430330015715035,
          0.1892352016762703,
          0.22655840754321635,
          0.28751964379256156,
          0.29937139863803036,
          0.20200366684127816,
          0.2712152959664746,
          0.2181115767417496,
          0.13429806181246726
         ],
         "xaxis": "x",
         "y": [
          0.00045909593320872424,
          4.7690575712647666e-05,
          0.0007376428693612476,
          0.0012711659150964685,
          0.0046739548950949505,
          0.0029271928085678176,
          0.0005930114286021356,
          0.002414286954370782,
          0.002606167136403815,
          0.0015560907056656912,
          0.0018831607650649164,
          0.001382262253449579,
          0.00143212921371911,
          0.0008236257530172104,
          2.4568647578172387e-06,
          0.0022245201345129847,
          0.00012279034517743807,
          0.0003099439345137317,
          0.00018541550188424675,
          3.788527252899859e-05,
          0.0003146914185002444,
          0.0001972670058645572,
          0.000276060502699215,
          0.00011011352808514097,
          9.376909301004688e-05,
          0.0010441051754256632,
          8.482731811617413e-06,
          0.001199485850951849,
          0.0018148425060413604,
          0.0007672178474469088,
          0.0024007654082345235,
          0.00045034210429517407,
          0.00040578563014122835,
          0.0003882950226415929,
          0.0011455486195498911,
          0.0007343597150584665,
          0.0003051760657324274,
          0.0005256556313525016,
          0.004251817459065298,
          0.0016103686251185076,
          0.002219663056875877,
          0.00037821550015128844,
          1.6263675394671752e-05,
          0.0008522193531483556,
          0.0012715648489060472,
          0.0006623035482467361,
          0.00014275624550484439,
          0.00184810292701099,
          0.001160752025365377,
          0.0001969505673103211,
          0.0009504802286685902,
          0.0002471608632327604,
          0.000612494272284969,
          0.0011559516591768332,
          0.00019669523401488103,
          0.00014044823689548434,
          0.0011799726677217404,
          0.003383820322649558,
          0.004419799486629413,
          0.0001621847054576057,
          0.00037381941252306286,
          0.0011219623994791431,
          0.001021104952899883,
          0.007648718291367575,
          0.0023456699550800653,
          0.003576363412746213,
          0.0020225432923469903,
          0.0002088678607306473,
          0.00025479738238692884,
          0.004696752309185584,
          0.006811726097438792,
          0.0005103705749095939,
          0.00039265369716256127,
          0.0022496515308907603,
          0.0008822002928558252,
          0.003252287696278869,
          0.0003950544104250356,
          0.0003510039379383986,
          0.00033927854220665846,
          0.00010057522939697694,
          2.5764092213890935e-05,
          0.0002653156650809467,
          0.00010178909815281278,
          0.000719901698777633,
          0.0001238596373947764,
          0.00015017479324707321,
          0.0005740763674083884,
          0.001552019659424887,
          0.002557561745318007,
          0.0037224803830390096,
          0.0009687023800219281,
          0.0075736079420232714,
          0.007173726863835786,
          0.005026383110038883,
          0.0009513540083902964,
          0.0015977707435449648,
          0.002101741747835303,
          0.00022486548253318445,
          1.270701398224433e-06,
          9.152383373473282e-05,
          0.0002458931796613167,
          7.660534375620914e-05,
          0.001537740558818681,
          0.00019822580159149225,
          0.0006398707353353779,
          0.0016256791417517467,
          0.00010885108281105817,
          0.0002605607093258514
         ],
         "yaxis": "y"
        },
        {
         "marker": {
          "color": "#e6194B",
          "size": 15
         },
         "mode": "markers",
         "name": "DPN",
         "type": "scatter",
         "x": [
          0.179020429544264
         ],
         "y": [
          2.4568647578172387e-06
         ]
        },
        {
         "marker": {
          "color": "#e6194B",
          "size": 15
         },
         "mode": "markers",
         "name": "DPN",
         "type": "scatter",
         "x": [
          0.03621005762179151
         ],
         "y": [
          0.0003099439345137317
         ]
        },
        {
         "marker": {
          "color": "#3cb44b",
          "size": 15
         },
         "mode": "markers",
         "name": "ReXNet",
         "type": "scatter",
         "x": [
          0.08492666317443688
         ],
         "y": [
          2.5764092213890935e-05
         ]
        },
        {
         "marker": {
          "color": "#3cb44b",
          "size": 15
         },
         "mode": "markers",
         "name": "ReXNet",
         "type": "scatter",
         "x": [
          0.045966474594028285
         ],
         "y": [
          0.00010057522939697694
         ]
        },
        {
         "marker": {
          "color": "#469990",
          "size": 15
         },
         "mode": "markers",
         "name": "VGG19",
         "type": "scatter",
         "x": [
          0.2820193818753274
         ],
         "y": [
          1.270701398224433e-06
         ]
        },
        {
         "marker": {
          "color": "#aaffc3",
          "size": 15
         },
         "mode": "markers",
         "name": "Coat",
         "type": "scatter",
         "x": [
          0.07687270822420116
         ],
         "y": [
          4.7690575712647666e-05
         ]
        }
       ],
       "layout": {
        "font": {
         "color": "Black",
         "family": "Times New Roman",
         "size": 19
        },
        "height": 500,
        "legend": {
         "font": {
          "color": "Black",
          "family": "Times New Roman",
          "size": 16
         },
         "orientation": "h",
         "tracegroupgap": 0,
         "x": 0.75,
         "xanchor": "right",
         "y": -0.29,
         "yanchor": "bottom"
        },
        "margin": {
         "t": 60
        },
        "shapes": [
         {
          "line": {
           "color": "Red"
          },
          "type": "line",
          "x0": 0,
          "x1": 1,
          "xref": "x",
          "y0": 0,
          "y1": 0,
          "yref": "y"
         },
         {
          "line": {
           "color": "gray",
           "dash": "dash",
           "width": 4
          },
          "type": "line",
          "x0": 0.03621005762179151,
          "x1": 0.045966474594028285,
          "xref": "x",
          "y0": 0.0003099439345137317,
          "y1": 0.00010057522939697694,
          "yref": "y"
         },
         {
          "line": {
           "color": "gray",
           "dash": "dash",
           "width": 4
          },
          "type": "line",
          "x0": 0.045966474594028285,
          "x1": 0.07687270822420116,
          "xref": "x",
          "y0": 0.00010057522939697694,
          "y1": 4.7690575712647666e-05,
          "yref": "y"
         },
         {
          "line": {
           "color": "gray",
           "dash": "dash",
           "width": 4
          },
          "type": "line",
          "x0": 0.07687270822420116,
          "x1": 0.08492666317443688,
          "xref": "x",
          "y0": 4.7690575712647666e-05,
          "y1": 2.5764092213890935e-05,
          "yref": "y"
         },
         {
          "line": {
           "color": "gray",
           "dash": "dash",
           "width": 4
          },
          "type": "line",
          "x0": 0.08492666317443688,
          "x1": 0.179020429544264,
          "xref": "x",
          "y0": 2.5764092213890935e-05,
          "y1": 2.4568647578172387e-06,
          "yref": "y"
         },
         {
          "line": {
           "color": "gray",
           "dash": "dash",
           "width": 4
          },
          "type": "line",
          "x0": 0.179020429544264,
          "x1": 0.2820193818753274,
          "xref": "x",
          "y0": 2.4568647578172387e-06,
          "y1": 1.270701398224433e-06,
          "yref": "y"
         }
        ],
        "template": {
         "data": {
          "bar": [
           {
            "error_x": {
             "color": "rgb(36,36,36)"
            },
            "error_y": {
             "color": "rgb(36,36,36)"
            },
            "marker": {
             "line": {
              "color": "white",
              "width": 0.5
             },
             "pattern": {
              "fillmode": "overlay",
              "size": 10,
              "solidity": 0.2
             }
            },
            "type": "bar"
           }
          ],
          "barpolar": [
           {
            "marker": {
             "line": {
              "color": "white",
              "width": 0.5
             },
             "pattern": {
              "fillmode": "overlay",
              "size": 10,
              "solidity": 0.2
             }
            },
            "type": "barpolar"
           }
          ],
          "carpet": [
           {
            "aaxis": {
             "endlinecolor": "rgb(36,36,36)",
             "gridcolor": "white",
             "linecolor": "white",
             "minorgridcolor": "white",
             "startlinecolor": "rgb(36,36,36)"
            },
            "baxis": {
             "endlinecolor": "rgb(36,36,36)",
             "gridcolor": "white",
             "linecolor": "white",
             "minorgridcolor": "white",
             "startlinecolor": "rgb(36,36,36)"
            },
            "type": "carpet"
           }
          ],
          "choropleth": [
           {
            "colorbar": {
             "outlinewidth": 1,
             "tickcolor": "rgb(36,36,36)",
             "ticks": "outside"
            },
            "type": "choropleth"
           }
          ],
          "contour": [
           {
            "colorbar": {
             "outlinewidth": 1,
             "tickcolor": "rgb(36,36,36)",
             "ticks": "outside"
            },
            "colorscale": [
             [
              0,
              "#440154"
             ],
             [
              0.1111111111111111,
              "#482878"
             ],
             [
              0.2222222222222222,
              "#3e4989"
             ],
             [
              0.3333333333333333,
              "#31688e"
             ],
             [
              0.4444444444444444,
              "#26828e"
             ],
             [
              0.5555555555555556,
              "#1f9e89"
             ],
             [
              0.6666666666666666,
              "#35b779"
             ],
             [
              0.7777777777777778,
              "#6ece58"
             ],
             [
              0.8888888888888888,
              "#b5de2b"
             ],
             [
              1,
              "#fde725"
             ]
            ],
            "type": "contour"
           }
          ],
          "contourcarpet": [
           {
            "colorbar": {
             "outlinewidth": 1,
             "tickcolor": "rgb(36,36,36)",
             "ticks": "outside"
            },
            "type": "contourcarpet"
           }
          ],
          "heatmap": [
           {
            "colorbar": {
             "outlinewidth": 1,
             "tickcolor": "rgb(36,36,36)",
             "ticks": "outside"
            },
            "colorscale": [
             [
              0,
              "#440154"
             ],
             [
              0.1111111111111111,
              "#482878"
             ],
             [
              0.2222222222222222,
              "#3e4989"
             ],
             [
              0.3333333333333333,
              "#31688e"
             ],
             [
              0.4444444444444444,
              "#26828e"
             ],
             [
              0.5555555555555556,
              "#1f9e89"
             ],
             [
              0.6666666666666666,
              "#35b779"
             ],
             [
              0.7777777777777778,
              "#6ece58"
             ],
             [
              0.8888888888888888,
              "#b5de2b"
             ],
             [
              1,
              "#fde725"
             ]
            ],
            "type": "heatmap"
           }
          ],
          "heatmapgl": [
           {
            "colorbar": {
             "outlinewidth": 1,
             "tickcolor": "rgb(36,36,36)",
             "ticks": "outside"
            },
            "colorscale": [
             [
              0,
              "#440154"
             ],
             [
              0.1111111111111111,
              "#482878"
             ],
             [
              0.2222222222222222,
              "#3e4989"
             ],
             [
              0.3333333333333333,
              "#31688e"
             ],
             [
              0.4444444444444444,
              "#26828e"
             ],
             [
              0.5555555555555556,
              "#1f9e89"
             ],
             [
              0.6666666666666666,
              "#35b779"
             ],
             [
              0.7777777777777778,
              "#6ece58"
             ],
             [
              0.8888888888888888,
              "#b5de2b"
             ],
             [
              1,
              "#fde725"
             ]
            ],
            "type": "heatmapgl"
           }
          ],
          "histogram": [
           {
            "marker": {
             "line": {
              "color": "white",
              "width": 0.6
             }
            },
            "type": "histogram"
           }
          ],
          "histogram2d": [
           {
            "colorbar": {
             "outlinewidth": 1,
             "tickcolor": "rgb(36,36,36)",
             "ticks": "outside"
            },
            "colorscale": [
             [
              0,
              "#440154"
             ],
             [
              0.1111111111111111,
              "#482878"
             ],
             [
              0.2222222222222222,
              "#3e4989"
             ],
             [
              0.3333333333333333,
              "#31688e"
             ],
             [
              0.4444444444444444,
              "#26828e"
             ],
             [
              0.5555555555555556,
              "#1f9e89"
             ],
             [
              0.6666666666666666,
              "#35b779"
             ],
             [
              0.7777777777777778,
              "#6ece58"
             ],
             [
              0.8888888888888888,
              "#b5de2b"
             ],
             [
              1,
              "#fde725"
             ]
            ],
            "type": "histogram2d"
           }
          ],
          "histogram2dcontour": [
           {
            "colorbar": {
             "outlinewidth": 1,
             "tickcolor": "rgb(36,36,36)",
             "ticks": "outside"
            },
            "colorscale": [
             [
              0,
              "#440154"
             ],
             [
              0.1111111111111111,
              "#482878"
             ],
             [
              0.2222222222222222,
              "#3e4989"
             ],
             [
              0.3333333333333333,
              "#31688e"
             ],
             [
              0.4444444444444444,
              "#26828e"
             ],
             [
              0.5555555555555556,
              "#1f9e89"
             ],
             [
              0.6666666666666666,
              "#35b779"
             ],
             [
              0.7777777777777778,
              "#6ece58"
             ],
             [
              0.8888888888888888,
              "#b5de2b"
             ],
             [
              1,
              "#fde725"
             ]
            ],
            "type": "histogram2dcontour"
           }
          ],
          "mesh3d": [
           {
            "colorbar": {
             "outlinewidth": 1,
             "tickcolor": "rgb(36,36,36)",
             "ticks": "outside"
            },
            "type": "mesh3d"
           }
          ],
          "parcoords": [
           {
            "line": {
             "colorbar": {
              "outlinewidth": 1,
              "tickcolor": "rgb(36,36,36)",
              "ticks": "outside"
             }
            },
            "type": "parcoords"
           }
          ],
          "pie": [
           {
            "automargin": true,
            "type": "pie"
           }
          ],
          "scatter": [
           {
            "marker": {
             "colorbar": {
              "outlinewidth": 1,
              "tickcolor": "rgb(36,36,36)",
              "ticks": "outside"
             }
            },
            "type": "scatter"
           }
          ],
          "scatter3d": [
           {
            "line": {
             "colorbar": {
              "outlinewidth": 1,
              "tickcolor": "rgb(36,36,36)",
              "ticks": "outside"
             }
            },
            "marker": {
             "colorbar": {
              "outlinewidth": 1,
              "tickcolor": "rgb(36,36,36)",
              "ticks": "outside"
             }
            },
            "type": "scatter3d"
           }
          ],
          "scattercarpet": [
           {
            "marker": {
             "colorbar": {
              "outlinewidth": 1,
              "tickcolor": "rgb(36,36,36)",
              "ticks": "outside"
             }
            },
            "type": "scattercarpet"
           }
          ],
          "scattergeo": [
           {
            "marker": {
             "colorbar": {
              "outlinewidth": 1,
              "tickcolor": "rgb(36,36,36)",
              "ticks": "outside"
             }
            },
            "type": "scattergeo"
           }
          ],
          "scattergl": [
           {
            "marker": {
             "colorbar": {
              "outlinewidth": 1,
              "tickcolor": "rgb(36,36,36)",
              "ticks": "outside"
             }
            },
            "type": "scattergl"
           }
          ],
          "scattermapbox": [
           {
            "marker": {
             "colorbar": {
              "outlinewidth": 1,
              "tickcolor": "rgb(36,36,36)",
              "ticks": "outside"
             }
            },
            "type": "scattermapbox"
           }
          ],
          "scatterpolar": [
           {
            "marker": {
             "colorbar": {
              "outlinewidth": 1,
              "tickcolor": "rgb(36,36,36)",
              "ticks": "outside"
             }
            },
            "type": "scatterpolar"
           }
          ],
          "scatterpolargl": [
           {
            "marker": {
             "colorbar": {
              "outlinewidth": 1,
              "tickcolor": "rgb(36,36,36)",
              "ticks": "outside"
             }
            },
            "type": "scatterpolargl"
           }
          ],
          "scatterternary": [
           {
            "marker": {
             "colorbar": {
              "outlinewidth": 1,
              "tickcolor": "rgb(36,36,36)",
              "ticks": "outside"
             }
            },
            "type": "scatterternary"
           }
          ],
          "surface": [
           {
            "colorbar": {
             "outlinewidth": 1,
             "tickcolor": "rgb(36,36,36)",
             "ticks": "outside"
            },
            "colorscale": [
             [
              0,
              "#440154"
             ],
             [
              0.1111111111111111,
              "#482878"
             ],
             [
              0.2222222222222222,
              "#3e4989"
             ],
             [
              0.3333333333333333,
              "#31688e"
             ],
             [
              0.4444444444444444,
              "#26828e"
             ],
             [
              0.5555555555555556,
              "#1f9e89"
             ],
             [
              0.6666666666666666,
              "#35b779"
             ],
             [
              0.7777777777777778,
              "#6ece58"
             ],
             [
              0.8888888888888888,
              "#b5de2b"
             ],
             [
              1,
              "#fde725"
             ]
            ],
            "type": "surface"
           }
          ],
          "table": [
           {
            "cells": {
             "fill": {
              "color": "rgb(237,237,237)"
             },
             "line": {
              "color": "white"
             }
            },
            "header": {
             "fill": {
              "color": "rgb(217,217,217)"
             },
             "line": {
              "color": "white"
             }
            },
            "type": "table"
           }
          ]
         },
         "layout": {
          "annotationdefaults": {
           "arrowhead": 0,
           "arrowwidth": 1
          },
          "autotypenumbers": "strict",
          "coloraxis": {
           "colorbar": {
            "outlinewidth": 1,
            "tickcolor": "rgb(36,36,36)",
            "ticks": "outside"
           }
          },
          "colorscale": {
           "diverging": [
            [
             0,
             "rgb(103,0,31)"
            ],
            [
             0.1,
             "rgb(178,24,43)"
            ],
            [
             0.2,
             "rgb(214,96,77)"
            ],
            [
             0.3,
             "rgb(244,165,130)"
            ],
            [
             0.4,
             "rgb(253,219,199)"
            ],
            [
             0.5,
             "rgb(247,247,247)"
            ],
            [
             0.6,
             "rgb(209,229,240)"
            ],
            [
             0.7,
             "rgb(146,197,222)"
            ],
            [
             0.8,
             "rgb(67,147,195)"
            ],
            [
             0.9,
             "rgb(33,102,172)"
            ],
            [
             1,
             "rgb(5,48,97)"
            ]
           ],
           "sequential": [
            [
             0,
             "#440154"
            ],
            [
             0.1111111111111111,
             "#482878"
            ],
            [
             0.2222222222222222,
             "#3e4989"
            ],
            [
             0.3333333333333333,
             "#31688e"
            ],
            [
             0.4444444444444444,
             "#26828e"
            ],
            [
             0.5555555555555556,
             "#1f9e89"
            ],
            [
             0.6666666666666666,
             "#35b779"
            ],
            [
             0.7777777777777778,
             "#6ece58"
            ],
            [
             0.8888888888888888,
             "#b5de2b"
            ],
            [
             1,
             "#fde725"
            ]
           ],
           "sequentialminus": [
            [
             0,
             "#440154"
            ],
            [
             0.1111111111111111,
             "#482878"
            ],
            [
             0.2222222222222222,
             "#3e4989"
            ],
            [
             0.3333333333333333,
             "#31688e"
            ],
            [
             0.4444444444444444,
             "#26828e"
            ],
            [
             0.5555555555555556,
             "#1f9e89"
            ],
            [
             0.6666666666666666,
             "#35b779"
            ],
            [
             0.7777777777777778,
             "#6ece58"
            ],
            [
             0.8888888888888888,
             "#b5de2b"
            ],
            [
             1,
             "#fde725"
            ]
           ]
          },
          "colorway": [
           "#1F77B4",
           "#FF7F0E",
           "#2CA02C",
           "#D62728",
           "#9467BD",
           "#8C564B",
           "#E377C2",
           "#7F7F7F",
           "#BCBD22",
           "#17BECF"
          ],
          "font": {
           "color": "rgb(36,36,36)"
          },
          "geo": {
           "bgcolor": "white",
           "lakecolor": "white",
           "landcolor": "white",
           "showlakes": true,
           "showland": true,
           "subunitcolor": "white"
          },
          "hoverlabel": {
           "align": "left"
          },
          "hovermode": "closest",
          "mapbox": {
           "style": "light"
          },
          "paper_bgcolor": "white",
          "plot_bgcolor": "white",
          "polar": {
           "angularaxis": {
            "gridcolor": "rgb(232,232,232)",
            "linecolor": "rgb(36,36,36)",
            "showgrid": false,
            "showline": true,
            "ticks": "outside"
           },
           "bgcolor": "white",
           "radialaxis": {
            "gridcolor": "rgb(232,232,232)",
            "linecolor": "rgb(36,36,36)",
            "showgrid": false,
            "showline": true,
            "ticks": "outside"
           }
          },
          "scene": {
           "xaxis": {
            "backgroundcolor": "white",
            "gridcolor": "rgb(232,232,232)",
            "gridwidth": 2,
            "linecolor": "rgb(36,36,36)",
            "showbackground": true,
            "showgrid": false,
            "showline": true,
            "ticks": "outside",
            "zeroline": false,
            "zerolinecolor": "rgb(36,36,36)"
           },
           "yaxis": {
            "backgroundcolor": "white",
            "gridcolor": "rgb(232,232,232)",
            "gridwidth": 2,
            "linecolor": "rgb(36,36,36)",
            "showbackground": true,
            "showgrid": false,
            "showline": true,
            "ticks": "outside",
            "zeroline": false,
            "zerolinecolor": "rgb(36,36,36)"
           },
           "zaxis": {
            "backgroundcolor": "white",
            "gridcolor": "rgb(232,232,232)",
            "gridwidth": 2,
            "linecolor": "rgb(36,36,36)",
            "showbackground": true,
            "showgrid": false,
            "showline": true,
            "ticks": "outside",
            "zeroline": false,
            "zerolinecolor": "rgb(36,36,36)"
           }
          },
          "shapedefaults": {
           "fillcolor": "black",
           "line": {
            "width": 0
           },
           "opacity": 0.3
          },
          "ternary": {
           "aaxis": {
            "gridcolor": "rgb(232,232,232)",
            "linecolor": "rgb(36,36,36)",
            "showgrid": false,
            "showline": true,
            "ticks": "outside"
           },
           "baxis": {
            "gridcolor": "rgb(232,232,232)",
            "linecolor": "rgb(36,36,36)",
            "showgrid": false,
            "showline": true,
            "ticks": "outside"
           },
           "bgcolor": "white",
           "caxis": {
            "gridcolor": "rgb(232,232,232)",
            "linecolor": "rgb(36,36,36)",
            "showgrid": false,
            "showline": true,
            "ticks": "outside"
           }
          },
          "title": {
           "x": 0.05
          },
          "xaxis": {
           "automargin": true,
           "gridcolor": "rgb(232,232,232)",
           "linecolor": "rgb(36,36,36)",
           "showgrid": false,
           "showline": true,
           "ticks": "outside",
           "title": {
            "standoff": 15
           },
           "zeroline": false,
           "zerolinecolor": "rgb(36,36,36)"
          },
          "yaxis": {
           "automargin": true,
           "gridcolor": "rgb(232,232,232)",
           "linecolor": "rgb(36,36,36)",
           "showgrid": false,
           "showline": true,
           "ticks": "outside",
           "title": {
            "standoff": 15
           },
           "zeroline": false,
           "zerolinecolor": "rgb(36,36,36)"
          }
         }
        },
        "width": 1000,
        "xaxis": {
         "anchor": "y",
         "domain": [
          0,
          1
         ],
         "range": [
          0,
          0.31
         ],
         "title": {
          "text": "Error"
         }
        },
        "yaxis": {
         "anchor": "x",
         "domain": [
          0,
          1
         ],
         "title": {
          "text": "StdAcc"
         }
        }
       }
      },
      "text/html": [
       "<div>                            <div id=\"41d3b555-1041-40af-b1bd-18e8c58e9bdf\" class=\"plotly-graph-div\" style=\"height:500px; width:1000px;\"></div>            <script type=\"text/javascript\">                require([\"plotly\"], function(Plotly) {                    window.PLOTLYENV=window.PLOTLYENV || {};                                    if (document.getElementById(\"41d3b555-1041-40af-b1bd-18e8c58e9bdf\")) {                    Plotly.newPlot(                        \"41d3b555-1041-40af-b1bd-18e8c58e9bdf\",                        [{\"hovertemplate\":\"Error=%{x}<br>Disparity=%{y}<extra></extra>\",\"legendgroup\":\"\",\"marker\":{\"color\":\"#1F77B4\",\"symbol\":\"circle\"},\"mode\":\"markers\",\"name\":\"\",\"orientation\":\"v\",\"showlegend\":false,\"x\":[0.09704033525405972,0.07687270822420116,0.12048192771084337,0.2904662126767941,0.18314562598218964,0.160489785227868,0.2246595075955998,0.2363148245154531,0.21647459402828706,0.15027501309586172,0.20586694604504976,0.15531691985332635,0.14045311681508643,0.2817574646411734,0.179020429544264,0.08492666317443688,0.05264536406495547,0.03621005762179151,0.07071765322158198,0.09749869041382923,0.15413829229963333,0.23363017286537455,0.1433342063907805,0.11674960712414877,0.12310110005238345,0.29891304347826086,0.19080670508119435,0.16644840230487165,0.19545573598742796,0.26990570979570455,0.19938449449973808,0.27691199580932424,0.28097171293871137,0.2893530644316396,0.27219748559455215,0.23703509690937663,0.25157150340492407,0.29400209533787325,0.20920639078051337,0.12048192771084337,0.1360005238344683,0.2527501309586171,0.28293609219486643,0.1705735987427973,0.25294656888423256,0.16972236773179675,0.2289156626506024,0.23363017286537455,0.21149816657936094,0.20095599790466212,0.18242535358826611,0.17751440544787847,0.15570979570455737,0.2702331063383971,0.1326610790990047,0.09952854897852279,0.10718962807752751,0.24305919329491882,0.2278679937139864,0.2658459926663174,0.19853326348873757,0.18458617077003667,0.143530644316396,0.21739130434782608,0.21261131482451545,0.13475641697223678,0.13626244106862231,0.14123886851754847,0.13665531691985333,0.268137768465165,0.1891697223677318,0.1965688842325825,0.12781561026715557,0.18471712938711368,0.17103195390256679,0.18707438449449973,0.21712938711367208,0.05500261917234154,0.0464903090623363,0.045966474594028285,0.08492666317443688,0.09226034573074908,0.29341278156102674,0.250392875851231,0.25680984808800417,0.18720534311157674,0.29020429544264015,0.16147197485594553,0.16278156102671557,0.19257464641173389,0.26178627553693035,0.1533525405971713,0.2039025667888947,0.11255893137768465,0.1506678889470927,0.10535620743844945,0.05159769512833944,0.22806443163960188,0.2820193818753274,0.24430330015715035,0.1892352016762703,0.22655840754321635,0.28751964379256156,0.29937139863803036,0.20200366684127816,0.2712152959664746,0.2181115767417496,0.13429806181246726],\"xaxis\":\"x\",\"y\":[0.00045909593320872424,4.7690575712647666e-05,0.0007376428693612476,0.0012711659150964685,0.0046739548950949505,0.0029271928085678176,0.0005930114286021356,0.002414286954370782,0.002606167136403815,0.0015560907056656912,0.0018831607650649164,0.001382262253449579,0.00143212921371911,0.0008236257530172104,2.4568647578172387e-06,0.0022245201345129847,0.00012279034517743807,0.0003099439345137317,0.00018541550188424675,3.788527252899859e-05,0.0003146914185002444,0.0001972670058645572,0.000276060502699215,0.00011011352808514097,9.376909301004688e-05,0.0010441051754256632,8.482731811617413e-06,0.001199485850951849,0.0018148425060413604,0.0007672178474469088,0.0024007654082345235,0.00045034210429517407,0.00040578563014122835,0.0003882950226415929,0.0011455486195498911,0.0007343597150584665,0.0003051760657324274,0.0005256556313525016,0.004251817459065298,0.0016103686251185076,0.002219663056875877,0.00037821550015128844,1.6263675394671752e-05,0.0008522193531483556,0.0012715648489060472,0.0006623035482467361,0.00014275624550484439,0.00184810292701099,0.001160752025365377,0.0001969505673103211,0.0009504802286685902,0.0002471608632327604,0.000612494272284969,0.0011559516591768332,0.00019669523401488103,0.00014044823689548434,0.0011799726677217404,0.003383820322649558,0.004419799486629413,0.0001621847054576057,0.00037381941252306286,0.0011219623994791431,0.001021104952899883,0.007648718291367575,0.0023456699550800653,0.003576363412746213,0.0020225432923469903,0.0002088678607306473,0.00025479738238692884,0.004696752309185584,0.006811726097438792,0.0005103705749095939,0.00039265369716256127,0.0022496515308907603,0.0008822002928558252,0.003252287696278869,0.0003950544104250356,0.0003510039379383986,0.00033927854220665846,0.00010057522939697694,2.5764092213890935e-05,0.0002653156650809467,0.00010178909815281278,0.000719901698777633,0.0001238596373947764,0.00015017479324707321,0.0005740763674083884,0.001552019659424887,0.002557561745318007,0.0037224803830390096,0.0009687023800219281,0.0075736079420232714,0.007173726863835786,0.005026383110038883,0.0009513540083902964,0.0015977707435449648,0.002101741747835303,0.00022486548253318445,1.270701398224433e-06,9.152383373473282e-05,0.0002458931796613167,7.660534375620914e-05,0.001537740558818681,0.00019822580159149225,0.0006398707353353779,0.0016256791417517467,0.00010885108281105817,0.0002605607093258514],\"yaxis\":\"y\",\"type\":\"scatter\"},{\"marker\":{\"color\":\"#e6194B\",\"size\":15},\"mode\":\"markers\",\"name\":\"DPN\",\"x\":[0.179020429544264],\"y\":[2.4568647578172387e-06],\"type\":\"scatter\"},{\"marker\":{\"color\":\"#e6194B\",\"size\":15},\"mode\":\"markers\",\"name\":\"DPN\",\"x\":[0.03621005762179151],\"y\":[0.0003099439345137317],\"type\":\"scatter\"},{\"marker\":{\"color\":\"#3cb44b\",\"size\":15},\"mode\":\"markers\",\"name\":\"ReXNet\",\"x\":[0.08492666317443688],\"y\":[2.5764092213890935e-05],\"type\":\"scatter\"},{\"marker\":{\"color\":\"#3cb44b\",\"size\":15},\"mode\":\"markers\",\"name\":\"ReXNet\",\"x\":[0.045966474594028285],\"y\":[0.00010057522939697694],\"type\":\"scatter\"},{\"marker\":{\"color\":\"#469990\",\"size\":15},\"mode\":\"markers\",\"name\":\"VGG19\",\"x\":[0.2820193818753274],\"y\":[1.270701398224433e-06],\"type\":\"scatter\"},{\"marker\":{\"color\":\"#aaffc3\",\"size\":15},\"mode\":\"markers\",\"name\":\"Coat\",\"x\":[0.07687270822420116],\"y\":[4.7690575712647666e-05],\"type\":\"scatter\"}],                        {\"template\":{\"data\":{\"barpolar\":[{\"marker\":{\"line\":{\"color\":\"white\",\"width\":0.5},\"pattern\":{\"fillmode\":\"overlay\",\"size\":10,\"solidity\":0.2}},\"type\":\"barpolar\"}],\"bar\":[{\"error_x\":{\"color\":\"rgb(36,36,36)\"},\"error_y\":{\"color\":\"rgb(36,36,36)\"},\"marker\":{\"line\":{\"color\":\"white\",\"width\":0.5},\"pattern\":{\"fillmode\":\"overlay\",\"size\":10,\"solidity\":0.2}},\"type\":\"bar\"}],\"carpet\":[{\"aaxis\":{\"endlinecolor\":\"rgb(36,36,36)\",\"gridcolor\":\"white\",\"linecolor\":\"white\",\"minorgridcolor\":\"white\",\"startlinecolor\":\"rgb(36,36,36)\"},\"baxis\":{\"endlinecolor\":\"rgb(36,36,36)\",\"gridcolor\":\"white\",\"linecolor\":\"white\",\"minorgridcolor\":\"white\",\"startlinecolor\":\"rgb(36,36,36)\"},\"type\":\"carpet\"}],\"choropleth\":[{\"colorbar\":{\"outlinewidth\":1,\"tickcolor\":\"rgb(36,36,36)\",\"ticks\":\"outside\"},\"type\":\"choropleth\"}],\"contourcarpet\":[{\"colorbar\":{\"outlinewidth\":1,\"tickcolor\":\"rgb(36,36,36)\",\"ticks\":\"outside\"},\"type\":\"contourcarpet\"}],\"contour\":[{\"colorbar\":{\"outlinewidth\":1,\"tickcolor\":\"rgb(36,36,36)\",\"ticks\":\"outside\"},\"colorscale\":[[0.0,\"#440154\"],[0.1111111111111111,\"#482878\"],[0.2222222222222222,\"#3e4989\"],[0.3333333333333333,\"#31688e\"],[0.4444444444444444,\"#26828e\"],[0.5555555555555556,\"#1f9e89\"],[0.6666666666666666,\"#35b779\"],[0.7777777777777778,\"#6ece58\"],[0.8888888888888888,\"#b5de2b\"],[1.0,\"#fde725\"]],\"type\":\"contour\"}],\"heatmapgl\":[{\"colorbar\":{\"outlinewidth\":1,\"tickcolor\":\"rgb(36,36,36)\",\"ticks\":\"outside\"},\"colorscale\":[[0.0,\"#440154\"],[0.1111111111111111,\"#482878\"],[0.2222222222222222,\"#3e4989\"],[0.3333333333333333,\"#31688e\"],[0.4444444444444444,\"#26828e\"],[0.5555555555555556,\"#1f9e89\"],[0.6666666666666666,\"#35b779\"],[0.7777777777777778,\"#6ece58\"],[0.8888888888888888,\"#b5de2b\"],[1.0,\"#fde725\"]],\"type\":\"heatmapgl\"}],\"heatmap\":[{\"colorbar\":{\"outlinewidth\":1,\"tickcolor\":\"rgb(36,36,36)\",\"ticks\":\"outside\"},\"colorscale\":[[0.0,\"#440154\"],[0.1111111111111111,\"#482878\"],[0.2222222222222222,\"#3e4989\"],[0.3333333333333333,\"#31688e\"],[0.4444444444444444,\"#26828e\"],[0.5555555555555556,\"#1f9e89\"],[0.6666666666666666,\"#35b779\"],[0.7777777777777778,\"#6ece58\"],[0.8888888888888888,\"#b5de2b\"],[1.0,\"#fde725\"]],\"type\":\"heatmap\"}],\"histogram2dcontour\":[{\"colorbar\":{\"outlinewidth\":1,\"tickcolor\":\"rgb(36,36,36)\",\"ticks\":\"outside\"},\"colorscale\":[[0.0,\"#440154\"],[0.1111111111111111,\"#482878\"],[0.2222222222222222,\"#3e4989\"],[0.3333333333333333,\"#31688e\"],[0.4444444444444444,\"#26828e\"],[0.5555555555555556,\"#1f9e89\"],[0.6666666666666666,\"#35b779\"],[0.7777777777777778,\"#6ece58\"],[0.8888888888888888,\"#b5de2b\"],[1.0,\"#fde725\"]],\"type\":\"histogram2dcontour\"}],\"histogram2d\":[{\"colorbar\":{\"outlinewidth\":1,\"tickcolor\":\"rgb(36,36,36)\",\"ticks\":\"outside\"},\"colorscale\":[[0.0,\"#440154\"],[0.1111111111111111,\"#482878\"],[0.2222222222222222,\"#3e4989\"],[0.3333333333333333,\"#31688e\"],[0.4444444444444444,\"#26828e\"],[0.5555555555555556,\"#1f9e89\"],[0.6666666666666666,\"#35b779\"],[0.7777777777777778,\"#6ece58\"],[0.8888888888888888,\"#b5de2b\"],[1.0,\"#fde725\"]],\"type\":\"histogram2d\"}],\"histogram\":[{\"marker\":{\"line\":{\"color\":\"white\",\"width\":0.6}},\"type\":\"histogram\"}],\"mesh3d\":[{\"colorbar\":{\"outlinewidth\":1,\"tickcolor\":\"rgb(36,36,36)\",\"ticks\":\"outside\"},\"type\":\"mesh3d\"}],\"parcoords\":[{\"line\":{\"colorbar\":{\"outlinewidth\":1,\"tickcolor\":\"rgb(36,36,36)\",\"ticks\":\"outside\"}},\"type\":\"parcoords\"}],\"pie\":[{\"automargin\":true,\"type\":\"pie\"}],\"scatter3d\":[{\"line\":{\"colorbar\":{\"outlinewidth\":1,\"tickcolor\":\"rgb(36,36,36)\",\"ticks\":\"outside\"}},\"marker\":{\"colorbar\":{\"outlinewidth\":1,\"tickcolor\":\"rgb(36,36,36)\",\"ticks\":\"outside\"}},\"type\":\"scatter3d\"}],\"scattercarpet\":[{\"marker\":{\"colorbar\":{\"outlinewidth\":1,\"tickcolor\":\"rgb(36,36,36)\",\"ticks\":\"outside\"}},\"type\":\"scattercarpet\"}],\"scattergeo\":[{\"marker\":{\"colorbar\":{\"outlinewidth\":1,\"tickcolor\":\"rgb(36,36,36)\",\"ticks\":\"outside\"}},\"type\":\"scattergeo\"}],\"scattergl\":[{\"marker\":{\"colorbar\":{\"outlinewidth\":1,\"tickcolor\":\"rgb(36,36,36)\",\"ticks\":\"outside\"}},\"type\":\"scattergl\"}],\"scattermapbox\":[{\"marker\":{\"colorbar\":{\"outlinewidth\":1,\"tickcolor\":\"rgb(36,36,36)\",\"ticks\":\"outside\"}},\"type\":\"scattermapbox\"}],\"scatterpolargl\":[{\"marker\":{\"colorbar\":{\"outlinewidth\":1,\"tickcolor\":\"rgb(36,36,36)\",\"ticks\":\"outside\"}},\"type\":\"scatterpolargl\"}],\"scatterpolar\":[{\"marker\":{\"colorbar\":{\"outlinewidth\":1,\"tickcolor\":\"rgb(36,36,36)\",\"ticks\":\"outside\"}},\"type\":\"scatterpolar\"}],\"scatter\":[{\"marker\":{\"colorbar\":{\"outlinewidth\":1,\"tickcolor\":\"rgb(36,36,36)\",\"ticks\":\"outside\"}},\"type\":\"scatter\"}],\"scatterternary\":[{\"marker\":{\"colorbar\":{\"outlinewidth\":1,\"tickcolor\":\"rgb(36,36,36)\",\"ticks\":\"outside\"}},\"type\":\"scatterternary\"}],\"surface\":[{\"colorbar\":{\"outlinewidth\":1,\"tickcolor\":\"rgb(36,36,36)\",\"ticks\":\"outside\"},\"colorscale\":[[0.0,\"#440154\"],[0.1111111111111111,\"#482878\"],[0.2222222222222222,\"#3e4989\"],[0.3333333333333333,\"#31688e\"],[0.4444444444444444,\"#26828e\"],[0.5555555555555556,\"#1f9e89\"],[0.6666666666666666,\"#35b779\"],[0.7777777777777778,\"#6ece58\"],[0.8888888888888888,\"#b5de2b\"],[1.0,\"#fde725\"]],\"type\":\"surface\"}],\"table\":[{\"cells\":{\"fill\":{\"color\":\"rgb(237,237,237)\"},\"line\":{\"color\":\"white\"}},\"header\":{\"fill\":{\"color\":\"rgb(217,217,217)\"},\"line\":{\"color\":\"white\"}},\"type\":\"table\"}]},\"layout\":{\"annotationdefaults\":{\"arrowhead\":0,\"arrowwidth\":1},\"autotypenumbers\":\"strict\",\"coloraxis\":{\"colorbar\":{\"outlinewidth\":1,\"tickcolor\":\"rgb(36,36,36)\",\"ticks\":\"outside\"}},\"colorscale\":{\"diverging\":[[0.0,\"rgb(103,0,31)\"],[0.1,\"rgb(178,24,43)\"],[0.2,\"rgb(214,96,77)\"],[0.3,\"rgb(244,165,130)\"],[0.4,\"rgb(253,219,199)\"],[0.5,\"rgb(247,247,247)\"],[0.6,\"rgb(209,229,240)\"],[0.7,\"rgb(146,197,222)\"],[0.8,\"rgb(67,147,195)\"],[0.9,\"rgb(33,102,172)\"],[1.0,\"rgb(5,48,97)\"]],\"sequential\":[[0.0,\"#440154\"],[0.1111111111111111,\"#482878\"],[0.2222222222222222,\"#3e4989\"],[0.3333333333333333,\"#31688e\"],[0.4444444444444444,\"#26828e\"],[0.5555555555555556,\"#1f9e89\"],[0.6666666666666666,\"#35b779\"],[0.7777777777777778,\"#6ece58\"],[0.8888888888888888,\"#b5de2b\"],[1.0,\"#fde725\"]],\"sequentialminus\":[[0.0,\"#440154\"],[0.1111111111111111,\"#482878\"],[0.2222222222222222,\"#3e4989\"],[0.3333333333333333,\"#31688e\"],[0.4444444444444444,\"#26828e\"],[0.5555555555555556,\"#1f9e89\"],[0.6666666666666666,\"#35b779\"],[0.7777777777777778,\"#6ece58\"],[0.8888888888888888,\"#b5de2b\"],[1.0,\"#fde725\"]]},\"colorway\":[\"#1F77B4\",\"#FF7F0E\",\"#2CA02C\",\"#D62728\",\"#9467BD\",\"#8C564B\",\"#E377C2\",\"#7F7F7F\",\"#BCBD22\",\"#17BECF\"],\"font\":{\"color\":\"rgb(36,36,36)\"},\"geo\":{\"bgcolor\":\"white\",\"lakecolor\":\"white\",\"landcolor\":\"white\",\"showlakes\":true,\"showland\":true,\"subunitcolor\":\"white\"},\"hoverlabel\":{\"align\":\"left\"},\"hovermode\":\"closest\",\"mapbox\":{\"style\":\"light\"},\"paper_bgcolor\":\"white\",\"plot_bgcolor\":\"white\",\"polar\":{\"angularaxis\":{\"gridcolor\":\"rgb(232,232,232)\",\"linecolor\":\"rgb(36,36,36)\",\"showgrid\":false,\"showline\":true,\"ticks\":\"outside\"},\"bgcolor\":\"white\",\"radialaxis\":{\"gridcolor\":\"rgb(232,232,232)\",\"linecolor\":\"rgb(36,36,36)\",\"showgrid\":false,\"showline\":true,\"ticks\":\"outside\"}},\"scene\":{\"xaxis\":{\"backgroundcolor\":\"white\",\"gridcolor\":\"rgb(232,232,232)\",\"gridwidth\":2,\"linecolor\":\"rgb(36,36,36)\",\"showbackground\":true,\"showgrid\":false,\"showline\":true,\"ticks\":\"outside\",\"zeroline\":false,\"zerolinecolor\":\"rgb(36,36,36)\"},\"yaxis\":{\"backgroundcolor\":\"white\",\"gridcolor\":\"rgb(232,232,232)\",\"gridwidth\":2,\"linecolor\":\"rgb(36,36,36)\",\"showbackground\":true,\"showgrid\":false,\"showline\":true,\"ticks\":\"outside\",\"zeroline\":false,\"zerolinecolor\":\"rgb(36,36,36)\"},\"zaxis\":{\"backgroundcolor\":\"white\",\"gridcolor\":\"rgb(232,232,232)\",\"gridwidth\":2,\"linecolor\":\"rgb(36,36,36)\",\"showbackground\":true,\"showgrid\":false,\"showline\":true,\"ticks\":\"outside\",\"zeroline\":false,\"zerolinecolor\":\"rgb(36,36,36)\"}},\"shapedefaults\":{\"fillcolor\":\"black\",\"line\":{\"width\":0},\"opacity\":0.3},\"ternary\":{\"aaxis\":{\"gridcolor\":\"rgb(232,232,232)\",\"linecolor\":\"rgb(36,36,36)\",\"showgrid\":false,\"showline\":true,\"ticks\":\"outside\"},\"baxis\":{\"gridcolor\":\"rgb(232,232,232)\",\"linecolor\":\"rgb(36,36,36)\",\"showgrid\":false,\"showline\":true,\"ticks\":\"outside\"},\"bgcolor\":\"white\",\"caxis\":{\"gridcolor\":\"rgb(232,232,232)\",\"linecolor\":\"rgb(36,36,36)\",\"showgrid\":false,\"showline\":true,\"ticks\":\"outside\"}},\"title\":{\"x\":0.05},\"xaxis\":{\"automargin\":true,\"gridcolor\":\"rgb(232,232,232)\",\"linecolor\":\"rgb(36,36,36)\",\"showgrid\":false,\"showline\":true,\"ticks\":\"outside\",\"title\":{\"standoff\":15},\"zeroline\":false,\"zerolinecolor\":\"rgb(36,36,36)\"},\"yaxis\":{\"automargin\":true,\"gridcolor\":\"rgb(232,232,232)\",\"linecolor\":\"rgb(36,36,36)\",\"showgrid\":false,\"showline\":true,\"ticks\":\"outside\",\"title\":{\"standoff\":15},\"zeroline\":false,\"zerolinecolor\":\"rgb(36,36,36)\"}}},\"xaxis\":{\"anchor\":\"y\",\"domain\":[0.0,1.0],\"title\":{\"text\":\"Error\"},\"range\":[0,0.31]},\"yaxis\":{\"anchor\":\"x\",\"domain\":[0.0,1.0],\"title\":{\"text\":\"StdAcc\"}},\"legend\":{\"tracegroupgap\":0,\"font\":{\"family\":\"Times New Roman\",\"size\":16,\"color\":\"Black\"},\"orientation\":\"h\",\"yanchor\":\"bottom\",\"y\":-0.29,\"xanchor\":\"right\",\"x\":0.75},\"margin\":{\"t\":60},\"height\":500,\"width\":1000,\"font\":{\"family\":\"Times New Roman\",\"size\":19,\"color\":\"Black\"},\"shapes\":[{\"line\":{\"color\":\"Red\"},\"type\":\"line\",\"x0\":0,\"x1\":1,\"xref\":\"x\",\"y0\":0,\"y1\":0,\"yref\":\"y\"},{\"line\":{\"color\":\"gray\",\"dash\":\"dash\",\"width\":4},\"type\":\"line\",\"x0\":0.03621005762179151,\"x1\":0.045966474594028285,\"xref\":\"x\",\"y0\":0.0003099439345137317,\"y1\":0.00010057522939697694,\"yref\":\"y\"},{\"line\":{\"color\":\"gray\",\"dash\":\"dash\",\"width\":4},\"type\":\"line\",\"x0\":0.045966474594028285,\"x1\":0.07687270822420116,\"xref\":\"x\",\"y0\":0.00010057522939697694,\"y1\":4.7690575712647666e-05,\"yref\":\"y\"},{\"line\":{\"color\":\"gray\",\"dash\":\"dash\",\"width\":4},\"type\":\"line\",\"x0\":0.07687270822420116,\"x1\":0.08492666317443688,\"xref\":\"x\",\"y0\":4.7690575712647666e-05,\"y1\":2.5764092213890935e-05,\"yref\":\"y\"},{\"line\":{\"color\":\"gray\",\"dash\":\"dash\",\"width\":4},\"type\":\"line\",\"x0\":0.08492666317443688,\"x1\":0.179020429544264,\"xref\":\"x\",\"y0\":2.5764092213890935e-05,\"y1\":2.4568647578172387e-06,\"yref\":\"y\"},{\"line\":{\"color\":\"gray\",\"dash\":\"dash\",\"width\":4},\"type\":\"line\",\"x0\":0.179020429544264,\"x1\":0.2820193818753274,\"xref\":\"x\",\"y0\":2.4568647578172387e-06,\"y1\":1.270701398224433e-06,\"yref\":\"y\"}]},                        {\"responsive\": true}                    ).then(function(){\n",
       "                            \n",
       "var gd = document.getElementById('41d3b555-1041-40af-b1bd-18e8c58e9bdf');\n",
       "var x = new MutationObserver(function (mutations, observer) {{\n",
       "        var display = window.getComputedStyle(gd).display;\n",
       "        if (!display || display === 'none') {{\n",
       "            console.log([gd, 'removed!']);\n",
       "            Plotly.purge(gd);\n",
       "            observer.disconnect();\n",
       "        }}\n",
       "}});\n",
       "\n",
       "// Listen for the removal of the full notebook cells\n",
       "var notebookContainer = gd.closest('#notebook-container');\n",
       "if (notebookContainer) {{\n",
       "    x.observe(notebookContainer, {childList: true});\n",
       "}}\n",
       "\n",
       "// Listen for the clearing of the current output cell\n",
       "var outputEl = gd.closest('.output');\n",
       "if (outputEl) {{\n",
       "    x.observe(outputEl, {childList: true});\n",
       "}}\n",
       "\n",
       "                        })                };                });            </script>        </div>"
      ]
     },
     "metadata": {},
     "output_type": "display_data"
    }
   ],
   "source": [
    "import plotly\n",
    "df = err_df.merge(stdacc_df, on=['index','epoch'])\n",
    "df = df[df['epoch'] == 99]\n",
    "df = df.rename(columns={'Metric_x':'Error'})\n",
    "df = df.rename(columns={'Metric_y':'Disparity'})\n",
    "df = df.dropna()\n",
    "df = df[df['Error']<0.3]\n",
    "df = df[df['Disparity']<2.0]\n",
    "df.loc[:,'model'] = df['index'].apply(lambda x: get_name_details(x)[1])\n",
    "df = df.sort_values(by=['model'])\n",
    "\n",
    "\n",
    "fig = px.scatter(df, x='Error', \n",
    "                 y='Disparity', \n",
    "                 template=\"simple_white\", \n",
    "                 width=1000, height= 500\n",
    "            )\n",
    "\n",
    "fig.update_layout(\n",
    "    yaxis_title=\"StdAcc\",\n",
    "#     yaxis_range=[0,6.15],\n",
    "    xaxis_range=[0,.31],\n",
    "    font=dict(\n",
    "        family=\"Times New Roman\",\n",
    "        size=19,\n",
    "        color=\"Black\"\n",
    "    )\n",
    ")\n",
    "fig.add_shape(type='line',\n",
    "                x0=0,y0=0,x1=1,y1=0,\n",
    "                line=dict(color='Red',),\n",
    "                xref='x',yref='y'\n",
    ")\n",
    "p = np.array(preparePareto(df[['Error','Disparity']], False, False).dropna())\n",
    "for x, y in zip(p[:-1], p[1:]):\n",
    "    fig.add_shape(type='line',\n",
    "                x0=x[0],y0=x[1],x1=y[0],y1=y[1],\n",
    "                line=dict(color='gray',width=4),line_dash='dash',\n",
    "                xref='x',yref='y')\n",
    "    \n",
    "\n",
    "fig.update_layout(legend=dict(\n",
    "    orientation=\"h\",\n",
    "    yanchor=\"bottom\",\n",
    "    y=-.29,\n",
    "    xanchor=\"right\",\n",
    "    x=.75,\n",
    "    font=dict(\n",
    "        family=\"Times New Roman\",\n",
    "        size=16,\n",
    "        color=\"Black\"\n",
    "    )\n",
    "    )\n",
    ")\n",
    "\n",
    "pareto_df = pd.merge(df, pd.DataFrame(p), right_on=[0,1], left_on=[\"Error\",\"Disparity\"])\n",
    "for model in set(pareto_df['model']):\n",
    "    # match model name to color\n",
    "    i = [x.lower()[:3] for x in plotted_models].index(model.lower()[:3])\n",
    "    name = plotted_models[i]\n",
    "    color = colors[i]\n",
    "    fig.add_trace(go.Scatter(\n",
    "        x=pareto_df[pareto_df['model'] == model]['Error'],\n",
    "        y=pareto_df[pareto_df['model'] == model]['Disparity'],\n",
    "        mode='markers',\n",
    "        name = name,\n",
    "        marker = dict(color=color,size=15),\n",
    "    ))\n",
    "\n",
    "fig.show()\n",
    "plotly.io.write_image(fig, 'app_RQ1_main_full_stdacc.png', format='png')"
   ]
  },
  {
   "cell_type": "code",
   "execution_count": 12,
   "id": "554e3210",
   "metadata": {},
   "outputs": [
    {
     "data": {
      "text/plain": [
       "{'coat_lite_small_CosFace_AdamW_0.001_cosine',\n",
       " 'dpn107_ArcFace_SGD_0.1_cosine',\n",
       " 'dpn107_CosFace_SGD_0.1_cosine',\n",
       " 'rexnet_200_CosFace_SGD_rank_by',\n",
       " 'rexnet_200_MagFace_SGD_0.1_cosine',\n",
       " 'vgg19_bn_MagFace_AdamW_rank_by'}"
      ]
     },
     "execution_count": 12,
     "metadata": {},
     "output_type": "execute_result"
    }
   ],
   "source": [
    "set(pareto_df['model'])"
   ]
  },
  {
   "cell_type": "markdown",
   "id": "57160e13",
   "metadata": {},
   "source": [
    "# BPC"
   ]
  },
  {
   "cell_type": "code",
   "execution_count": 4,
   "id": "75a8d06f",
   "metadata": {},
   "outputs": [],
   "source": [
    "def bpc_bias_from_rank_func(df, epoch_columns):\n",
    "    # calculate the violation of statistical parity\n",
    "    data = {}\n",
    "    for g,g_df in df.groupby('gender_expression'):\n",
    "        data[g] = g_df[epoch_columns].apply(lambda x: np.mean([(x<=i).mean() for i in range(x.max())]))\n",
    "    return abs(data['male']-data['female'])\n",
    "    \n",
    "def bpc_bias_rank_files_np(files, metadata, epochs=None): \n",
    "    if epochs is None:\n",
    "        epochs = ['epoch_'+str(e) for e in range(100)]\n",
    "\n",
    "    bpc_bias_df = pd.DataFrame(columns=epochs)\n",
    "\n",
    "    for f in files:\n",
    "        try:\n",
    "            df = pd.read_csv(f)\n",
    "        except:\n",
    "            continue\n",
    "        epoch_columns = list(set(df.columns).intersection(epochs))\n",
    "        if not df[epoch_columns].shape[1]:\n",
    "            continue\n",
    "        df = metadata.merge(df)\n",
    "        num_epochs = len(epoch_columns)\n",
    "        bias = bpc_bias_from_rank_func(df, epoch_columns)\n",
    "\n",
    "        experiment = get_name_details(f)[0]\n",
    "        bpc_bias_df.loc[experiment] = bias\n",
    "    return bpc_bias_df\n",
    "\n",
    "bpc_bias_df = bpc_bias_rank_files_np(rank_files_Phase1, metadata, epochs)\n",
    "\n",
    "def bpc_tpr_from_rank_func(df, epoch_columns):\n",
    "    # calculate the violation of statistical parity\n",
    "    return df[epoch_columns].apply(lambda x: np.mean([(x<=i).mean() for i in range(x.max())]))\n",
    "    \n",
    "def bpc_tpr_rank_files_np(files, metadata, epochs=None): \n",
    "    if epochs is None:\n",
    "        epochs = ['epoch_'+str(e) for e in range(100)]\n",
    "\n",
    "    bpc_tpr_df = pd.DataFrame(columns=epochs)\n",
    "\n",
    "    for f in files:\n",
    "        try:\n",
    "            df = pd.read_csv(f)\n",
    "        except:\n",
    "            continue\n",
    "        epoch_columns = list(set(df.columns).intersection(epochs))\n",
    "        if not df[epoch_columns].shape[1]:\n",
    "            continue\n",
    "        df = metadata.merge(df)\n",
    "        num_epochs = len(epoch_columns)\n",
    "        bias = bpc_tpr_from_rank_func(df, epoch_columns)\n",
    "\n",
    "        experiment = get_name_details(f)[0]\n",
    "        bpc_tpr_df.loc[experiment] = bias\n",
    "    return bpc_tpr_df\n",
    "\n",
    "bpc_tpr_df = bpc_tpr_rank_files_np(rank_files_Phase1, metadata, epochs)"
   ]
  },
  {
   "cell_type": "code",
   "execution_count": 5,
   "id": "bbd4a3ee",
   "metadata": {},
   "outputs": [],
   "source": [
    "bpc_df = bpc_bias_df.apply(\n",
    "    lambda x: (x - bpc_bias_df.loc['inception_resnet_v2_ArcFace_SGD_0.1_cosine_rank_by_id_val'])/x, axis=1) - \\\n",
    "bpc_tpr_df.apply(lambda x: (x - bpc_tpr_df.loc['inception_resnet_v2_ArcFace_SGD_0.1_cosine_rank_by_id_val'])/ \\\n",
    "                 x, axis=1)"
   ]
  },
  {
   "cell_type": "code",
   "execution_count": 6,
   "id": "c14b0cea",
   "metadata": {},
   "outputs": [],
   "source": [
    "bpc_df = prepare(bpc_df)\n",
    "bpc_df['index'] = bpc_df['index']+'.csv'\n",
    "bpc_df['Metric'] = -bpc_df['Metric'] "
   ]
  },
  {
   "cell_type": "code",
   "execution_count": 18,
   "id": "1ba7dfa4",
   "metadata": {},
   "outputs": [
    {
     "data": {
      "application/vnd.plotly.v1+json": {
       "config": {
        "plotlyServerURL": "https://plot.ly"
       },
       "data": [
        {
         "hovertemplate": "Error=%{x}<br>Disparity=%{y}<extra></extra>",
         "legendgroup": "",
         "marker": {
          "color": "#1F77B4",
          "symbol": "circle"
         },
         "mode": "markers",
         "name": "",
         "orientation": "v",
         "showlegend": false,
         "type": "scatter",
         "x": [
          0.09704033525405972,
          0.07687270822420116,
          0.12048192771084337,
          0.2904662126767941,
          0.18314562598218964,
          0.160489785227868,
          0.2246595075955998,
          0.21647459402828706,
          0.15027501309586172,
          0.20586694604504976,
          0.15531691985332635,
          0.14045311681508643,
          0.2817574646411734,
          0.179020429544264,
          0.08492666317443688,
          0.05264536406495547,
          0.03621005762179151,
          0.07071765322158198,
          0.09749869041382923,
          0.15413829229963333,
          0.23363017286537455,
          0.1433342063907805,
          0.11674960712414877,
          0.12310110005238345,
          0.29891304347826086,
          0.19080670508119435,
          0.16644840230487165,
          0.19545573598742796,
          0.26990570979570455,
          0.19938449449973808,
          0.27691199580932424,
          0.28097171293871137,
          0.2893530644316396,
          0.27219748559455215,
          0.23703509690937663,
          0.25157150340492407,
          0.29400209533787325,
          0.20920639078051337,
          0.12048192771084337,
          0.1360005238344683,
          0.2527501309586171,
          0.28293609219486643,
          0.1705735987427973,
          0.25294656888423256,
          0.16972236773179675,
          0.2289156626506024,
          0.23363017286537455,
          0.18242535358826611,
          0.17751440544787847,
          0.15570979570455737,
          0.2702331063383971,
          0.1326610790990047,
          0.09952854897852279,
          0.10718962807752751,
          0.24305919329491882,
          0.2278679937139864,
          0.2658459926663174,
          0.19853326348873757,
          0.18458617077003667,
          0.143530644316396,
          0.21739130434782608,
          0.21261131482451545,
          0.13475641697223678,
          0.13626244106862231,
          0.14123886851754847,
          0.13665531691985333,
          0.268137768465165,
          0.1891697223677318,
          0.1965688842325825,
          0.12781561026715557,
          0.18471712938711368,
          0.17103195390256679,
          0.18707438449449973,
          0.21712938711367208,
          0.05500261917234154,
          0.0464903090623363,
          0.045966474594028285,
          0.08492666317443688,
          0.09226034573074908,
          0.29341278156102674,
          0.250392875851231,
          0.25680984808800417,
          0.18720534311157674,
          0.29020429544264015,
          0.16147197485594553,
          0.16278156102671557,
          0.19257464641173389,
          0.26178627553693035,
          0.1533525405971713,
          0.2039025667888947,
          0.11255893137768465,
          0.1506678889470927,
          0.10535620743844945,
          0.05159769512833944,
          0.22806443163960188,
          0.2820193818753274,
          0.24430330015715035,
          0.1892352016762703,
          0.22655840754321635,
          0.28751964379256156,
          0.29937139863803036,
          0.20200366684127816,
          0.2712152959664746,
          0.2181115767417496,
          0.13429806181246726
         ],
         "xaxis": "x",
         "y": [
          -0.5024650827677698,
          -0.35826058621059464,
          -0.5386531595108824,
          -0.5894291373074424,
          -0.4495868769260109,
          0.708175719234159,
          1.4300594151537995,
          0.42034995029667144,
          0.6763870278221638,
          -0.3515572679438021,
          0.19533969370676357,
          0.006883701318306121,
          -0.2817859924111345,
          0.35938537197062054,
          -0.13439760106866733,
          -0.0075997373873538405,
          0.2839532067991476,
          -0.029493974398642563,
          0.9435547785905463,
          -0.2550731694374059,
          0.7113284816366258,
          1.09716827999572,
          0.3018866437197977,
          0.344935423397322,
          -0.4115582617872145,
          0.3507475209729791,
          0.5162306836595881,
          0.4227729551195387,
          -0.05119677609523148,
          1.1567288395067141,
          1.1240840214066186,
          0.046157098020870965,
          -0.20260215153391636,
          -0.19275037627792843,
          0.04709825403721351,
          0.010195604103101151,
          -0.13561719039972597,
          -0.8009014613680863,
          0.2715113744988207,
          0.3731284889785523,
          0.12270461475791483,
          0.2907282400541919,
          0.6945090494625349,
          -0.5727039663148606,
          0.14154852513316504,
          0.17532354603958997,
          0,
          0.010571825285583938,
          -0.258864529542742,
          -0.28545125638801233,
          0.18315219803183394,
          -0.3168976254489625,
          -0.2191668129170714,
          0.5125373579508616,
          -0.008646964148593481,
          0.052366947007716255,
          -0.2257078643818379,
          -0.30412629970778277,
          0.44879590655872315,
          -0.1208338005072877,
          0.6897503068703243,
          0.17940163521567276,
          1.0082917417584292,
          0.15542994034958227,
          0.16441566402355123,
          0.0010909646355841242,
          -0.18910379072269284,
          0.13687753487322674,
          -0.1880710848287094,
          -0.3236123269949249,
          0.5444931509329036,
          0.3962587177898777,
          0.1885757817324714,
          0.14029753242210963,
          -0.09107698788214795,
          0.07899179869876419,
          0.0742526116655898,
          0.49163446744346495,
          0.34631389300786186,
          0.10110759564692076,
          0.08385103426685199,
          -0.13018719523150288,
          -0.03869923117277008,
          -0.29568227559094096,
          -0.14556045005394047,
          -0.0887034849706682,
          -0.21634777630412236,
          -0.11663339011242173,
          -0.19023846642721706,
          -0.2614802126770074,
          -0.03559620649755914,
          -0.40148822909530535,
          0.03288578530054534,
          0.23689484230619376,
          0.3220183672910372,
          0.3613347153487176,
          0.13680403592873344,
          0.26290425329472966,
          0.17623879084420763,
          -0.4262356166373625,
          0.1092658645191978,
          0.5127518044799844,
          -0.5052091352550602,
          0.13866361226088814,
          -0.3174380736594817
         ],
         "yaxis": "y"
        },
        {
         "marker": {
          "color": "#f032e6",
          "size": 15
         },
         "mode": "markers",
         "name": "HRNet",
         "type": "scatter",
         "x": [
          0.20920639078051337
         ],
         "y": [
          -0.8009014613680863
         ]
        },
        {
         "marker": {
          "color": "#aaffc3",
          "size": 15
         },
         "mode": "markers",
         "name": "Coat",
         "type": "scatter",
         "x": [
          0.07687270822420116
         ],
         "y": [
          -0.35826058621059464
         ]
        },
        {
         "marker": {
          "color": "#ffe119",
          "size": 15
         },
         "mode": "markers",
         "name": "Cait",
         "type": "scatter",
         "x": [
          0.09704033525405972
         ],
         "y": [
          -0.5024650827677698
         ]
        },
        {
         "marker": {
          "color": "#3cb44b",
          "size": 15
         },
         "mode": "markers",
         "name": "ReXNet",
         "type": "scatter",
         "x": [
          0.05500261917234154
         ],
         "y": [
          -0.09107698788214795
         ]
        },
        {
         "marker": {
          "color": "#e6194B",
          "size": 15
         },
         "mode": "markers",
         "name": "DPN",
         "type": "scatter",
         "x": [
          0.03621005762179151
         ],
         "y": [
          0.2839532067991476
         ]
        },
        {
         "marker": {
          "color": "#aaffc3",
          "size": 15
         },
         "mode": "markers",
         "name": "Coat",
         "type": "scatter",
         "x": [
          0.12048192771084337
         ],
         "y": [
          -0.5386531595108824
         ]
        },
        {
         "marker": {
          "color": "#3cb44b",
          "size": 15
         },
         "mode": "markers",
         "name": "ReXNet",
         "type": "scatter",
         "x": [
          0.045966474594028285
         ],
         "y": [
          0.0742526116655898
         ]
        },
        {
         "marker": {
          "color": "#e6194B",
          "size": 15
         },
         "mode": "markers",
         "name": "DPN",
         "type": "scatter",
         "x": [
          0.05264536406495547
         ],
         "y": [
          -0.0075997373873538405
         ]
        }
       ],
       "layout": {
        "font": {
         "color": "Black",
         "family": "Times New Roman",
         "size": 19
        },
        "height": 500,
        "legend": {
         "font": {
          "color": "Black",
          "family": "Times New Roman",
          "size": 16
         },
         "orientation": "h",
         "tracegroupgap": 0,
         "x": 0.75,
         "xanchor": "right",
         "y": -0.29,
         "yanchor": "bottom"
        },
        "margin": {
         "t": 60
        },
        "shapes": [
         {
          "line": {
           "color": "Red"
          },
          "type": "line",
          "x0": 0,
          "x1": 1,
          "xref": "x",
          "y0": 0,
          "y1": 0,
          "yref": "y"
         },
         {
          "line": {
           "color": "gray",
           "dash": "dash",
           "width": 4
          },
          "type": "line",
          "x0": 0.03621005762179151,
          "x1": 0.045966474594028285,
          "xref": "x",
          "y0": 0.2839532067991476,
          "y1": 0.0742526116655898,
          "yref": "y"
         },
         {
          "line": {
           "color": "gray",
           "dash": "dash",
           "width": 4
          },
          "type": "line",
          "x0": 0.045966474594028285,
          "x1": 0.05264536406495547,
          "xref": "x",
          "y0": 0.0742526116655898,
          "y1": -0.0075997373873538405,
          "yref": "y"
         },
         {
          "line": {
           "color": "gray",
           "dash": "dash",
           "width": 4
          },
          "type": "line",
          "x0": 0.05264536406495547,
          "x1": 0.05500261917234154,
          "xref": "x",
          "y0": -0.0075997373873538405,
          "y1": -0.09107698788214795,
          "yref": "y"
         },
         {
          "line": {
           "color": "gray",
           "dash": "dash",
           "width": 4
          },
          "type": "line",
          "x0": 0.05500261917234154,
          "x1": 0.07687270822420116,
          "xref": "x",
          "y0": -0.09107698788214795,
          "y1": -0.35826058621059464,
          "yref": "y"
         },
         {
          "line": {
           "color": "gray",
           "dash": "dash",
           "width": 4
          },
          "type": "line",
          "x0": 0.07687270822420116,
          "x1": 0.09704033525405972,
          "xref": "x",
          "y0": -0.35826058621059464,
          "y1": -0.5024650827677698,
          "yref": "y"
         },
         {
          "line": {
           "color": "gray",
           "dash": "dash",
           "width": 4
          },
          "type": "line",
          "x0": 0.09704033525405972,
          "x1": 0.12048192771084337,
          "xref": "x",
          "y0": -0.5024650827677698,
          "y1": -0.5386531595108824,
          "yref": "y"
         },
         {
          "line": {
           "color": "gray",
           "dash": "dash",
           "width": 4
          },
          "type": "line",
          "x0": 0.12048192771084337,
          "x1": 0.20920639078051337,
          "xref": "x",
          "y0": -0.5386531595108824,
          "y1": -0.8009014613680863,
          "yref": "y"
         }
        ],
        "template": {
         "data": {
          "bar": [
           {
            "error_x": {
             "color": "rgb(36,36,36)"
            },
            "error_y": {
             "color": "rgb(36,36,36)"
            },
            "marker": {
             "line": {
              "color": "white",
              "width": 0.5
             },
             "pattern": {
              "fillmode": "overlay",
              "size": 10,
              "solidity": 0.2
             }
            },
            "type": "bar"
           }
          ],
          "barpolar": [
           {
            "marker": {
             "line": {
              "color": "white",
              "width": 0.5
             },
             "pattern": {
              "fillmode": "overlay",
              "size": 10,
              "solidity": 0.2
             }
            },
            "type": "barpolar"
           }
          ],
          "carpet": [
           {
            "aaxis": {
             "endlinecolor": "rgb(36,36,36)",
             "gridcolor": "white",
             "linecolor": "white",
             "minorgridcolor": "white",
             "startlinecolor": "rgb(36,36,36)"
            },
            "baxis": {
             "endlinecolor": "rgb(36,36,36)",
             "gridcolor": "white",
             "linecolor": "white",
             "minorgridcolor": "white",
             "startlinecolor": "rgb(36,36,36)"
            },
            "type": "carpet"
           }
          ],
          "choropleth": [
           {
            "colorbar": {
             "outlinewidth": 1,
             "tickcolor": "rgb(36,36,36)",
             "ticks": "outside"
            },
            "type": "choropleth"
           }
          ],
          "contour": [
           {
            "colorbar": {
             "outlinewidth": 1,
             "tickcolor": "rgb(36,36,36)",
             "ticks": "outside"
            },
            "colorscale": [
             [
              0,
              "#440154"
             ],
             [
              0.1111111111111111,
              "#482878"
             ],
             [
              0.2222222222222222,
              "#3e4989"
             ],
             [
              0.3333333333333333,
              "#31688e"
             ],
             [
              0.4444444444444444,
              "#26828e"
             ],
             [
              0.5555555555555556,
              "#1f9e89"
             ],
             [
              0.6666666666666666,
              "#35b779"
             ],
             [
              0.7777777777777778,
              "#6ece58"
             ],
             [
              0.8888888888888888,
              "#b5de2b"
             ],
             [
              1,
              "#fde725"
             ]
            ],
            "type": "contour"
           }
          ],
          "contourcarpet": [
           {
            "colorbar": {
             "outlinewidth": 1,
             "tickcolor": "rgb(36,36,36)",
             "ticks": "outside"
            },
            "type": "contourcarpet"
           }
          ],
          "heatmap": [
           {
            "colorbar": {
             "outlinewidth": 1,
             "tickcolor": "rgb(36,36,36)",
             "ticks": "outside"
            },
            "colorscale": [
             [
              0,
              "#440154"
             ],
             [
              0.1111111111111111,
              "#482878"
             ],
             [
              0.2222222222222222,
              "#3e4989"
             ],
             [
              0.3333333333333333,
              "#31688e"
             ],
             [
              0.4444444444444444,
              "#26828e"
             ],
             [
              0.5555555555555556,
              "#1f9e89"
             ],
             [
              0.6666666666666666,
              "#35b779"
             ],
             [
              0.7777777777777778,
              "#6ece58"
             ],
             [
              0.8888888888888888,
              "#b5de2b"
             ],
             [
              1,
              "#fde725"
             ]
            ],
            "type": "heatmap"
           }
          ],
          "heatmapgl": [
           {
            "colorbar": {
             "outlinewidth": 1,
             "tickcolor": "rgb(36,36,36)",
             "ticks": "outside"
            },
            "colorscale": [
             [
              0,
              "#440154"
             ],
             [
              0.1111111111111111,
              "#482878"
             ],
             [
              0.2222222222222222,
              "#3e4989"
             ],
             [
              0.3333333333333333,
              "#31688e"
             ],
             [
              0.4444444444444444,
              "#26828e"
             ],
             [
              0.5555555555555556,
              "#1f9e89"
             ],
             [
              0.6666666666666666,
              "#35b779"
             ],
             [
              0.7777777777777778,
              "#6ece58"
             ],
             [
              0.8888888888888888,
              "#b5de2b"
             ],
             [
              1,
              "#fde725"
             ]
            ],
            "type": "heatmapgl"
           }
          ],
          "histogram": [
           {
            "marker": {
             "line": {
              "color": "white",
              "width": 0.6
             }
            },
            "type": "histogram"
           }
          ],
          "histogram2d": [
           {
            "colorbar": {
             "outlinewidth": 1,
             "tickcolor": "rgb(36,36,36)",
             "ticks": "outside"
            },
            "colorscale": [
             [
              0,
              "#440154"
             ],
             [
              0.1111111111111111,
              "#482878"
             ],
             [
              0.2222222222222222,
              "#3e4989"
             ],
             [
              0.3333333333333333,
              "#31688e"
             ],
             [
              0.4444444444444444,
              "#26828e"
             ],
             [
              0.5555555555555556,
              "#1f9e89"
             ],
             [
              0.6666666666666666,
              "#35b779"
             ],
             [
              0.7777777777777778,
              "#6ece58"
             ],
             [
              0.8888888888888888,
              "#b5de2b"
             ],
             [
              1,
              "#fde725"
             ]
            ],
            "type": "histogram2d"
           }
          ],
          "histogram2dcontour": [
           {
            "colorbar": {
             "outlinewidth": 1,
             "tickcolor": "rgb(36,36,36)",
             "ticks": "outside"
            },
            "colorscale": [
             [
              0,
              "#440154"
             ],
             [
              0.1111111111111111,
              "#482878"
             ],
             [
              0.2222222222222222,
              "#3e4989"
             ],
             [
              0.3333333333333333,
              "#31688e"
             ],
             [
              0.4444444444444444,
              "#26828e"
             ],
             [
              0.5555555555555556,
              "#1f9e89"
             ],
             [
              0.6666666666666666,
              "#35b779"
             ],
             [
              0.7777777777777778,
              "#6ece58"
             ],
             [
              0.8888888888888888,
              "#b5de2b"
             ],
             [
              1,
              "#fde725"
             ]
            ],
            "type": "histogram2dcontour"
           }
          ],
          "mesh3d": [
           {
            "colorbar": {
             "outlinewidth": 1,
             "tickcolor": "rgb(36,36,36)",
             "ticks": "outside"
            },
            "type": "mesh3d"
           }
          ],
          "parcoords": [
           {
            "line": {
             "colorbar": {
              "outlinewidth": 1,
              "tickcolor": "rgb(36,36,36)",
              "ticks": "outside"
             }
            },
            "type": "parcoords"
           }
          ],
          "pie": [
           {
            "automargin": true,
            "type": "pie"
           }
          ],
          "scatter": [
           {
            "marker": {
             "colorbar": {
              "outlinewidth": 1,
              "tickcolor": "rgb(36,36,36)",
              "ticks": "outside"
             }
            },
            "type": "scatter"
           }
          ],
          "scatter3d": [
           {
            "line": {
             "colorbar": {
              "outlinewidth": 1,
              "tickcolor": "rgb(36,36,36)",
              "ticks": "outside"
             }
            },
            "marker": {
             "colorbar": {
              "outlinewidth": 1,
              "tickcolor": "rgb(36,36,36)",
              "ticks": "outside"
             }
            },
            "type": "scatter3d"
           }
          ],
          "scattercarpet": [
           {
            "marker": {
             "colorbar": {
              "outlinewidth": 1,
              "tickcolor": "rgb(36,36,36)",
              "ticks": "outside"
             }
            },
            "type": "scattercarpet"
           }
          ],
          "scattergeo": [
           {
            "marker": {
             "colorbar": {
              "outlinewidth": 1,
              "tickcolor": "rgb(36,36,36)",
              "ticks": "outside"
             }
            },
            "type": "scattergeo"
           }
          ],
          "scattergl": [
           {
            "marker": {
             "colorbar": {
              "outlinewidth": 1,
              "tickcolor": "rgb(36,36,36)",
              "ticks": "outside"
             }
            },
            "type": "scattergl"
           }
          ],
          "scattermapbox": [
           {
            "marker": {
             "colorbar": {
              "outlinewidth": 1,
              "tickcolor": "rgb(36,36,36)",
              "ticks": "outside"
             }
            },
            "type": "scattermapbox"
           }
          ],
          "scatterpolar": [
           {
            "marker": {
             "colorbar": {
              "outlinewidth": 1,
              "tickcolor": "rgb(36,36,36)",
              "ticks": "outside"
             }
            },
            "type": "scatterpolar"
           }
          ],
          "scatterpolargl": [
           {
            "marker": {
             "colorbar": {
              "outlinewidth": 1,
              "tickcolor": "rgb(36,36,36)",
              "ticks": "outside"
             }
            },
            "type": "scatterpolargl"
           }
          ],
          "scatterternary": [
           {
            "marker": {
             "colorbar": {
              "outlinewidth": 1,
              "tickcolor": "rgb(36,36,36)",
              "ticks": "outside"
             }
            },
            "type": "scatterternary"
           }
          ],
          "surface": [
           {
            "colorbar": {
             "outlinewidth": 1,
             "tickcolor": "rgb(36,36,36)",
             "ticks": "outside"
            },
            "colorscale": [
             [
              0,
              "#440154"
             ],
             [
              0.1111111111111111,
              "#482878"
             ],
             [
              0.2222222222222222,
              "#3e4989"
             ],
             [
              0.3333333333333333,
              "#31688e"
             ],
             [
              0.4444444444444444,
              "#26828e"
             ],
             [
              0.5555555555555556,
              "#1f9e89"
             ],
             [
              0.6666666666666666,
              "#35b779"
             ],
             [
              0.7777777777777778,
              "#6ece58"
             ],
             [
              0.8888888888888888,
              "#b5de2b"
             ],
             [
              1,
              "#fde725"
             ]
            ],
            "type": "surface"
           }
          ],
          "table": [
           {
            "cells": {
             "fill": {
              "color": "rgb(237,237,237)"
             },
             "line": {
              "color": "white"
             }
            },
            "header": {
             "fill": {
              "color": "rgb(217,217,217)"
             },
             "line": {
              "color": "white"
             }
            },
            "type": "table"
           }
          ]
         },
         "layout": {
          "annotationdefaults": {
           "arrowhead": 0,
           "arrowwidth": 1
          },
          "autotypenumbers": "strict",
          "coloraxis": {
           "colorbar": {
            "outlinewidth": 1,
            "tickcolor": "rgb(36,36,36)",
            "ticks": "outside"
           }
          },
          "colorscale": {
           "diverging": [
            [
             0,
             "rgb(103,0,31)"
            ],
            [
             0.1,
             "rgb(178,24,43)"
            ],
            [
             0.2,
             "rgb(214,96,77)"
            ],
            [
             0.3,
             "rgb(244,165,130)"
            ],
            [
             0.4,
             "rgb(253,219,199)"
            ],
            [
             0.5,
             "rgb(247,247,247)"
            ],
            [
             0.6,
             "rgb(209,229,240)"
            ],
            [
             0.7,
             "rgb(146,197,222)"
            ],
            [
             0.8,
             "rgb(67,147,195)"
            ],
            [
             0.9,
             "rgb(33,102,172)"
            ],
            [
             1,
             "rgb(5,48,97)"
            ]
           ],
           "sequential": [
            [
             0,
             "#440154"
            ],
            [
             0.1111111111111111,
             "#482878"
            ],
            [
             0.2222222222222222,
             "#3e4989"
            ],
            [
             0.3333333333333333,
             "#31688e"
            ],
            [
             0.4444444444444444,
             "#26828e"
            ],
            [
             0.5555555555555556,
             "#1f9e89"
            ],
            [
             0.6666666666666666,
             "#35b779"
            ],
            [
             0.7777777777777778,
             "#6ece58"
            ],
            [
             0.8888888888888888,
             "#b5de2b"
            ],
            [
             1,
             "#fde725"
            ]
           ],
           "sequentialminus": [
            [
             0,
             "#440154"
            ],
            [
             0.1111111111111111,
             "#482878"
            ],
            [
             0.2222222222222222,
             "#3e4989"
            ],
            [
             0.3333333333333333,
             "#31688e"
            ],
            [
             0.4444444444444444,
             "#26828e"
            ],
            [
             0.5555555555555556,
             "#1f9e89"
            ],
            [
             0.6666666666666666,
             "#35b779"
            ],
            [
             0.7777777777777778,
             "#6ece58"
            ],
            [
             0.8888888888888888,
             "#b5de2b"
            ],
            [
             1,
             "#fde725"
            ]
           ]
          },
          "colorway": [
           "#1F77B4",
           "#FF7F0E",
           "#2CA02C",
           "#D62728",
           "#9467BD",
           "#8C564B",
           "#E377C2",
           "#7F7F7F",
           "#BCBD22",
           "#17BECF"
          ],
          "font": {
           "color": "rgb(36,36,36)"
          },
          "geo": {
           "bgcolor": "white",
           "lakecolor": "white",
           "landcolor": "white",
           "showlakes": true,
           "showland": true,
           "subunitcolor": "white"
          },
          "hoverlabel": {
           "align": "left"
          },
          "hovermode": "closest",
          "mapbox": {
           "style": "light"
          },
          "paper_bgcolor": "white",
          "plot_bgcolor": "white",
          "polar": {
           "angularaxis": {
            "gridcolor": "rgb(232,232,232)",
            "linecolor": "rgb(36,36,36)",
            "showgrid": false,
            "showline": true,
            "ticks": "outside"
           },
           "bgcolor": "white",
           "radialaxis": {
            "gridcolor": "rgb(232,232,232)",
            "linecolor": "rgb(36,36,36)",
            "showgrid": false,
            "showline": true,
            "ticks": "outside"
           }
          },
          "scene": {
           "xaxis": {
            "backgroundcolor": "white",
            "gridcolor": "rgb(232,232,232)",
            "gridwidth": 2,
            "linecolor": "rgb(36,36,36)",
            "showbackground": true,
            "showgrid": false,
            "showline": true,
            "ticks": "outside",
            "zeroline": false,
            "zerolinecolor": "rgb(36,36,36)"
           },
           "yaxis": {
            "backgroundcolor": "white",
            "gridcolor": "rgb(232,232,232)",
            "gridwidth": 2,
            "linecolor": "rgb(36,36,36)",
            "showbackground": true,
            "showgrid": false,
            "showline": true,
            "ticks": "outside",
            "zeroline": false,
            "zerolinecolor": "rgb(36,36,36)"
           },
           "zaxis": {
            "backgroundcolor": "white",
            "gridcolor": "rgb(232,232,232)",
            "gridwidth": 2,
            "linecolor": "rgb(36,36,36)",
            "showbackground": true,
            "showgrid": false,
            "showline": true,
            "ticks": "outside",
            "zeroline": false,
            "zerolinecolor": "rgb(36,36,36)"
           }
          },
          "shapedefaults": {
           "fillcolor": "black",
           "line": {
            "width": 0
           },
           "opacity": 0.3
          },
          "ternary": {
           "aaxis": {
            "gridcolor": "rgb(232,232,232)",
            "linecolor": "rgb(36,36,36)",
            "showgrid": false,
            "showline": true,
            "ticks": "outside"
           },
           "baxis": {
            "gridcolor": "rgb(232,232,232)",
            "linecolor": "rgb(36,36,36)",
            "showgrid": false,
            "showline": true,
            "ticks": "outside"
           },
           "bgcolor": "white",
           "caxis": {
            "gridcolor": "rgb(232,232,232)",
            "linecolor": "rgb(36,36,36)",
            "showgrid": false,
            "showline": true,
            "ticks": "outside"
           }
          },
          "title": {
           "x": 0.05
          },
          "xaxis": {
           "automargin": true,
           "gridcolor": "rgb(232,232,232)",
           "linecolor": "rgb(36,36,36)",
           "showgrid": false,
           "showline": true,
           "ticks": "outside",
           "title": {
            "standoff": 15
           },
           "zeroline": false,
           "zerolinecolor": "rgb(36,36,36)"
          },
          "yaxis": {
           "automargin": true,
           "gridcolor": "rgb(232,232,232)",
           "linecolor": "rgb(36,36,36)",
           "showgrid": false,
           "showline": true,
           "ticks": "outside",
           "title": {
            "standoff": 15
           },
           "zeroline": false,
           "zerolinecolor": "rgb(36,36,36)"
          }
         }
        },
        "width": 1000,
        "xaxis": {
         "anchor": "y",
         "domain": [
          0,
          1
         ],
         "range": [
          0,
          0.31
         ],
         "title": {
          "text": "Error"
         }
        },
        "yaxis": {
         "anchor": "x",
         "domain": [
          0,
          1
         ],
         "title": {
          "text": "-BPC"
         }
        }
       }
      },
      "text/html": [
       "<div>                            <div id=\"320ffb5e-98d8-44f1-86f2-157b20481f76\" class=\"plotly-graph-div\" style=\"height:500px; width:1000px;\"></div>            <script type=\"text/javascript\">                require([\"plotly\"], function(Plotly) {                    window.PLOTLYENV=window.PLOTLYENV || {};                                    if (document.getElementById(\"320ffb5e-98d8-44f1-86f2-157b20481f76\")) {                    Plotly.newPlot(                        \"320ffb5e-98d8-44f1-86f2-157b20481f76\",                        [{\"hovertemplate\":\"Error=%{x}<br>Disparity=%{y}<extra></extra>\",\"legendgroup\":\"\",\"marker\":{\"color\":\"#1F77B4\",\"symbol\":\"circle\"},\"mode\":\"markers\",\"name\":\"\",\"orientation\":\"v\",\"showlegend\":false,\"x\":[0.09704033525405972,0.07687270822420116,0.12048192771084337,0.2904662126767941,0.18314562598218964,0.160489785227868,0.2246595075955998,0.21647459402828706,0.15027501309586172,0.20586694604504976,0.15531691985332635,0.14045311681508643,0.2817574646411734,0.179020429544264,0.08492666317443688,0.05264536406495547,0.03621005762179151,0.07071765322158198,0.09749869041382923,0.15413829229963333,0.23363017286537455,0.1433342063907805,0.11674960712414877,0.12310110005238345,0.29891304347826086,0.19080670508119435,0.16644840230487165,0.19545573598742796,0.26990570979570455,0.19938449449973808,0.27691199580932424,0.28097171293871137,0.2893530644316396,0.27219748559455215,0.23703509690937663,0.25157150340492407,0.29400209533787325,0.20920639078051337,0.12048192771084337,0.1360005238344683,0.2527501309586171,0.28293609219486643,0.1705735987427973,0.25294656888423256,0.16972236773179675,0.2289156626506024,0.23363017286537455,0.18242535358826611,0.17751440544787847,0.15570979570455737,0.2702331063383971,0.1326610790990047,0.09952854897852279,0.10718962807752751,0.24305919329491882,0.2278679937139864,0.2658459926663174,0.19853326348873757,0.18458617077003667,0.143530644316396,0.21739130434782608,0.21261131482451545,0.13475641697223678,0.13626244106862231,0.14123886851754847,0.13665531691985333,0.268137768465165,0.1891697223677318,0.1965688842325825,0.12781561026715557,0.18471712938711368,0.17103195390256679,0.18707438449449973,0.21712938711367208,0.05500261917234154,0.0464903090623363,0.045966474594028285,0.08492666317443688,0.09226034573074908,0.29341278156102674,0.250392875851231,0.25680984808800417,0.18720534311157674,0.29020429544264015,0.16147197485594553,0.16278156102671557,0.19257464641173389,0.26178627553693035,0.1533525405971713,0.2039025667888947,0.11255893137768465,0.1506678889470927,0.10535620743844945,0.05159769512833944,0.22806443163960188,0.2820193818753274,0.24430330015715035,0.1892352016762703,0.22655840754321635,0.28751964379256156,0.29937139863803036,0.20200366684127816,0.2712152959664746,0.2181115767417496,0.13429806181246726],\"xaxis\":\"x\",\"y\":[-0.5024650827677698,-0.35826058621059464,-0.5386531595108824,-0.5894291373074424,-0.4495868769260109,0.708175719234159,1.4300594151537995,0.42034995029667144,0.6763870278221638,-0.3515572679438021,0.19533969370676357,0.006883701318306121,-0.2817859924111345,0.35938537197062054,-0.13439760106866733,-0.0075997373873538405,0.2839532067991476,-0.029493974398642563,0.9435547785905463,-0.2550731694374059,0.7113284816366258,1.09716827999572,0.3018866437197977,0.344935423397322,-0.4115582617872145,0.3507475209729791,0.5162306836595881,0.4227729551195387,-0.05119677609523148,1.1567288395067141,1.1240840214066186,0.046157098020870965,-0.20260215153391636,-0.19275037627792843,0.04709825403721351,0.010195604103101151,-0.13561719039972597,-0.8009014613680863,0.2715113744988207,0.3731284889785523,0.12270461475791483,0.2907282400541919,0.6945090494625349,-0.5727039663148606,0.14154852513316504,0.17532354603958997,-0.0,0.010571825285583938,-0.258864529542742,-0.28545125638801233,0.18315219803183394,-0.3168976254489625,-0.2191668129170714,0.5125373579508616,-0.008646964148593481,0.052366947007716255,-0.2257078643818379,-0.30412629970778277,0.44879590655872315,-0.1208338005072877,0.6897503068703243,0.17940163521567276,1.0082917417584292,0.15542994034958227,0.16441566402355123,0.0010909646355841242,-0.18910379072269284,0.13687753487322674,-0.1880710848287094,-0.3236123269949249,0.5444931509329036,0.3962587177898777,0.1885757817324714,0.14029753242210963,-0.09107698788214795,0.07899179869876419,0.0742526116655898,0.49163446744346495,0.34631389300786186,0.10110759564692076,0.08385103426685199,-0.13018719523150288,-0.03869923117277008,-0.29568227559094096,-0.14556045005394047,-0.0887034849706682,-0.21634777630412236,-0.11663339011242173,-0.19023846642721706,-0.2614802126770074,-0.03559620649755914,-0.40148822909530535,0.03288578530054534,0.23689484230619376,0.3220183672910372,0.3613347153487176,0.13680403592873344,0.26290425329472966,0.17623879084420763,-0.4262356166373625,0.1092658645191978,0.5127518044799844,-0.5052091352550602,0.13866361226088814,-0.3174380736594817],\"yaxis\":\"y\",\"type\":\"scatter\"},{\"marker\":{\"color\":\"#f032e6\",\"size\":15},\"mode\":\"markers\",\"name\":\"HRNet\",\"x\":[0.20920639078051337],\"y\":[-0.8009014613680863],\"type\":\"scatter\"},{\"marker\":{\"color\":\"#aaffc3\",\"size\":15},\"mode\":\"markers\",\"name\":\"Coat\",\"x\":[0.07687270822420116],\"y\":[-0.35826058621059464],\"type\":\"scatter\"},{\"marker\":{\"color\":\"#ffe119\",\"size\":15},\"mode\":\"markers\",\"name\":\"Cait\",\"x\":[0.09704033525405972],\"y\":[-0.5024650827677698],\"type\":\"scatter\"},{\"marker\":{\"color\":\"#3cb44b\",\"size\":15},\"mode\":\"markers\",\"name\":\"ReXNet\",\"x\":[0.05500261917234154],\"y\":[-0.09107698788214795],\"type\":\"scatter\"},{\"marker\":{\"color\":\"#e6194B\",\"size\":15},\"mode\":\"markers\",\"name\":\"DPN\",\"x\":[0.03621005762179151],\"y\":[0.2839532067991476],\"type\":\"scatter\"},{\"marker\":{\"color\":\"#aaffc3\",\"size\":15},\"mode\":\"markers\",\"name\":\"Coat\",\"x\":[0.12048192771084337],\"y\":[-0.5386531595108824],\"type\":\"scatter\"},{\"marker\":{\"color\":\"#3cb44b\",\"size\":15},\"mode\":\"markers\",\"name\":\"ReXNet\",\"x\":[0.045966474594028285],\"y\":[0.0742526116655898],\"type\":\"scatter\"},{\"marker\":{\"color\":\"#e6194B\",\"size\":15},\"mode\":\"markers\",\"name\":\"DPN\",\"x\":[0.05264536406495547],\"y\":[-0.0075997373873538405],\"type\":\"scatter\"}],                        {\"template\":{\"data\":{\"barpolar\":[{\"marker\":{\"line\":{\"color\":\"white\",\"width\":0.5},\"pattern\":{\"fillmode\":\"overlay\",\"size\":10,\"solidity\":0.2}},\"type\":\"barpolar\"}],\"bar\":[{\"error_x\":{\"color\":\"rgb(36,36,36)\"},\"error_y\":{\"color\":\"rgb(36,36,36)\"},\"marker\":{\"line\":{\"color\":\"white\",\"width\":0.5},\"pattern\":{\"fillmode\":\"overlay\",\"size\":10,\"solidity\":0.2}},\"type\":\"bar\"}],\"carpet\":[{\"aaxis\":{\"endlinecolor\":\"rgb(36,36,36)\",\"gridcolor\":\"white\",\"linecolor\":\"white\",\"minorgridcolor\":\"white\",\"startlinecolor\":\"rgb(36,36,36)\"},\"baxis\":{\"endlinecolor\":\"rgb(36,36,36)\",\"gridcolor\":\"white\",\"linecolor\":\"white\",\"minorgridcolor\":\"white\",\"startlinecolor\":\"rgb(36,36,36)\"},\"type\":\"carpet\"}],\"choropleth\":[{\"colorbar\":{\"outlinewidth\":1,\"tickcolor\":\"rgb(36,36,36)\",\"ticks\":\"outside\"},\"type\":\"choropleth\"}],\"contourcarpet\":[{\"colorbar\":{\"outlinewidth\":1,\"tickcolor\":\"rgb(36,36,36)\",\"ticks\":\"outside\"},\"type\":\"contourcarpet\"}],\"contour\":[{\"colorbar\":{\"outlinewidth\":1,\"tickcolor\":\"rgb(36,36,36)\",\"ticks\":\"outside\"},\"colorscale\":[[0.0,\"#440154\"],[0.1111111111111111,\"#482878\"],[0.2222222222222222,\"#3e4989\"],[0.3333333333333333,\"#31688e\"],[0.4444444444444444,\"#26828e\"],[0.5555555555555556,\"#1f9e89\"],[0.6666666666666666,\"#35b779\"],[0.7777777777777778,\"#6ece58\"],[0.8888888888888888,\"#b5de2b\"],[1.0,\"#fde725\"]],\"type\":\"contour\"}],\"heatmapgl\":[{\"colorbar\":{\"outlinewidth\":1,\"tickcolor\":\"rgb(36,36,36)\",\"ticks\":\"outside\"},\"colorscale\":[[0.0,\"#440154\"],[0.1111111111111111,\"#482878\"],[0.2222222222222222,\"#3e4989\"],[0.3333333333333333,\"#31688e\"],[0.4444444444444444,\"#26828e\"],[0.5555555555555556,\"#1f9e89\"],[0.6666666666666666,\"#35b779\"],[0.7777777777777778,\"#6ece58\"],[0.8888888888888888,\"#b5de2b\"],[1.0,\"#fde725\"]],\"type\":\"heatmapgl\"}],\"heatmap\":[{\"colorbar\":{\"outlinewidth\":1,\"tickcolor\":\"rgb(36,36,36)\",\"ticks\":\"outside\"},\"colorscale\":[[0.0,\"#440154\"],[0.1111111111111111,\"#482878\"],[0.2222222222222222,\"#3e4989\"],[0.3333333333333333,\"#31688e\"],[0.4444444444444444,\"#26828e\"],[0.5555555555555556,\"#1f9e89\"],[0.6666666666666666,\"#35b779\"],[0.7777777777777778,\"#6ece58\"],[0.8888888888888888,\"#b5de2b\"],[1.0,\"#fde725\"]],\"type\":\"heatmap\"}],\"histogram2dcontour\":[{\"colorbar\":{\"outlinewidth\":1,\"tickcolor\":\"rgb(36,36,36)\",\"ticks\":\"outside\"},\"colorscale\":[[0.0,\"#440154\"],[0.1111111111111111,\"#482878\"],[0.2222222222222222,\"#3e4989\"],[0.3333333333333333,\"#31688e\"],[0.4444444444444444,\"#26828e\"],[0.5555555555555556,\"#1f9e89\"],[0.6666666666666666,\"#35b779\"],[0.7777777777777778,\"#6ece58\"],[0.8888888888888888,\"#b5de2b\"],[1.0,\"#fde725\"]],\"type\":\"histogram2dcontour\"}],\"histogram2d\":[{\"colorbar\":{\"outlinewidth\":1,\"tickcolor\":\"rgb(36,36,36)\",\"ticks\":\"outside\"},\"colorscale\":[[0.0,\"#440154\"],[0.1111111111111111,\"#482878\"],[0.2222222222222222,\"#3e4989\"],[0.3333333333333333,\"#31688e\"],[0.4444444444444444,\"#26828e\"],[0.5555555555555556,\"#1f9e89\"],[0.6666666666666666,\"#35b779\"],[0.7777777777777778,\"#6ece58\"],[0.8888888888888888,\"#b5de2b\"],[1.0,\"#fde725\"]],\"type\":\"histogram2d\"}],\"histogram\":[{\"marker\":{\"line\":{\"color\":\"white\",\"width\":0.6}},\"type\":\"histogram\"}],\"mesh3d\":[{\"colorbar\":{\"outlinewidth\":1,\"tickcolor\":\"rgb(36,36,36)\",\"ticks\":\"outside\"},\"type\":\"mesh3d\"}],\"parcoords\":[{\"line\":{\"colorbar\":{\"outlinewidth\":1,\"tickcolor\":\"rgb(36,36,36)\",\"ticks\":\"outside\"}},\"type\":\"parcoords\"}],\"pie\":[{\"automargin\":true,\"type\":\"pie\"}],\"scatter3d\":[{\"line\":{\"colorbar\":{\"outlinewidth\":1,\"tickcolor\":\"rgb(36,36,36)\",\"ticks\":\"outside\"}},\"marker\":{\"colorbar\":{\"outlinewidth\":1,\"tickcolor\":\"rgb(36,36,36)\",\"ticks\":\"outside\"}},\"type\":\"scatter3d\"}],\"scattercarpet\":[{\"marker\":{\"colorbar\":{\"outlinewidth\":1,\"tickcolor\":\"rgb(36,36,36)\",\"ticks\":\"outside\"}},\"type\":\"scattercarpet\"}],\"scattergeo\":[{\"marker\":{\"colorbar\":{\"outlinewidth\":1,\"tickcolor\":\"rgb(36,36,36)\",\"ticks\":\"outside\"}},\"type\":\"scattergeo\"}],\"scattergl\":[{\"marker\":{\"colorbar\":{\"outlinewidth\":1,\"tickcolor\":\"rgb(36,36,36)\",\"ticks\":\"outside\"}},\"type\":\"scattergl\"}],\"scattermapbox\":[{\"marker\":{\"colorbar\":{\"outlinewidth\":1,\"tickcolor\":\"rgb(36,36,36)\",\"ticks\":\"outside\"}},\"type\":\"scattermapbox\"}],\"scatterpolargl\":[{\"marker\":{\"colorbar\":{\"outlinewidth\":1,\"tickcolor\":\"rgb(36,36,36)\",\"ticks\":\"outside\"}},\"type\":\"scatterpolargl\"}],\"scatterpolar\":[{\"marker\":{\"colorbar\":{\"outlinewidth\":1,\"tickcolor\":\"rgb(36,36,36)\",\"ticks\":\"outside\"}},\"type\":\"scatterpolar\"}],\"scatter\":[{\"marker\":{\"colorbar\":{\"outlinewidth\":1,\"tickcolor\":\"rgb(36,36,36)\",\"ticks\":\"outside\"}},\"type\":\"scatter\"}],\"scatterternary\":[{\"marker\":{\"colorbar\":{\"outlinewidth\":1,\"tickcolor\":\"rgb(36,36,36)\",\"ticks\":\"outside\"}},\"type\":\"scatterternary\"}],\"surface\":[{\"colorbar\":{\"outlinewidth\":1,\"tickcolor\":\"rgb(36,36,36)\",\"ticks\":\"outside\"},\"colorscale\":[[0.0,\"#440154\"],[0.1111111111111111,\"#482878\"],[0.2222222222222222,\"#3e4989\"],[0.3333333333333333,\"#31688e\"],[0.4444444444444444,\"#26828e\"],[0.5555555555555556,\"#1f9e89\"],[0.6666666666666666,\"#35b779\"],[0.7777777777777778,\"#6ece58\"],[0.8888888888888888,\"#b5de2b\"],[1.0,\"#fde725\"]],\"type\":\"surface\"}],\"table\":[{\"cells\":{\"fill\":{\"color\":\"rgb(237,237,237)\"},\"line\":{\"color\":\"white\"}},\"header\":{\"fill\":{\"color\":\"rgb(217,217,217)\"},\"line\":{\"color\":\"white\"}},\"type\":\"table\"}]},\"layout\":{\"annotationdefaults\":{\"arrowhead\":0,\"arrowwidth\":1},\"autotypenumbers\":\"strict\",\"coloraxis\":{\"colorbar\":{\"outlinewidth\":1,\"tickcolor\":\"rgb(36,36,36)\",\"ticks\":\"outside\"}},\"colorscale\":{\"diverging\":[[0.0,\"rgb(103,0,31)\"],[0.1,\"rgb(178,24,43)\"],[0.2,\"rgb(214,96,77)\"],[0.3,\"rgb(244,165,130)\"],[0.4,\"rgb(253,219,199)\"],[0.5,\"rgb(247,247,247)\"],[0.6,\"rgb(209,229,240)\"],[0.7,\"rgb(146,197,222)\"],[0.8,\"rgb(67,147,195)\"],[0.9,\"rgb(33,102,172)\"],[1.0,\"rgb(5,48,97)\"]],\"sequential\":[[0.0,\"#440154\"],[0.1111111111111111,\"#482878\"],[0.2222222222222222,\"#3e4989\"],[0.3333333333333333,\"#31688e\"],[0.4444444444444444,\"#26828e\"],[0.5555555555555556,\"#1f9e89\"],[0.6666666666666666,\"#35b779\"],[0.7777777777777778,\"#6ece58\"],[0.8888888888888888,\"#b5de2b\"],[1.0,\"#fde725\"]],\"sequentialminus\":[[0.0,\"#440154\"],[0.1111111111111111,\"#482878\"],[0.2222222222222222,\"#3e4989\"],[0.3333333333333333,\"#31688e\"],[0.4444444444444444,\"#26828e\"],[0.5555555555555556,\"#1f9e89\"],[0.6666666666666666,\"#35b779\"],[0.7777777777777778,\"#6ece58\"],[0.8888888888888888,\"#b5de2b\"],[1.0,\"#fde725\"]]},\"colorway\":[\"#1F77B4\",\"#FF7F0E\",\"#2CA02C\",\"#D62728\",\"#9467BD\",\"#8C564B\",\"#E377C2\",\"#7F7F7F\",\"#BCBD22\",\"#17BECF\"],\"font\":{\"color\":\"rgb(36,36,36)\"},\"geo\":{\"bgcolor\":\"white\",\"lakecolor\":\"white\",\"landcolor\":\"white\",\"showlakes\":true,\"showland\":true,\"subunitcolor\":\"white\"},\"hoverlabel\":{\"align\":\"left\"},\"hovermode\":\"closest\",\"mapbox\":{\"style\":\"light\"},\"paper_bgcolor\":\"white\",\"plot_bgcolor\":\"white\",\"polar\":{\"angularaxis\":{\"gridcolor\":\"rgb(232,232,232)\",\"linecolor\":\"rgb(36,36,36)\",\"showgrid\":false,\"showline\":true,\"ticks\":\"outside\"},\"bgcolor\":\"white\",\"radialaxis\":{\"gridcolor\":\"rgb(232,232,232)\",\"linecolor\":\"rgb(36,36,36)\",\"showgrid\":false,\"showline\":true,\"ticks\":\"outside\"}},\"scene\":{\"xaxis\":{\"backgroundcolor\":\"white\",\"gridcolor\":\"rgb(232,232,232)\",\"gridwidth\":2,\"linecolor\":\"rgb(36,36,36)\",\"showbackground\":true,\"showgrid\":false,\"showline\":true,\"ticks\":\"outside\",\"zeroline\":false,\"zerolinecolor\":\"rgb(36,36,36)\"},\"yaxis\":{\"backgroundcolor\":\"white\",\"gridcolor\":\"rgb(232,232,232)\",\"gridwidth\":2,\"linecolor\":\"rgb(36,36,36)\",\"showbackground\":true,\"showgrid\":false,\"showline\":true,\"ticks\":\"outside\",\"zeroline\":false,\"zerolinecolor\":\"rgb(36,36,36)\"},\"zaxis\":{\"backgroundcolor\":\"white\",\"gridcolor\":\"rgb(232,232,232)\",\"gridwidth\":2,\"linecolor\":\"rgb(36,36,36)\",\"showbackground\":true,\"showgrid\":false,\"showline\":true,\"ticks\":\"outside\",\"zeroline\":false,\"zerolinecolor\":\"rgb(36,36,36)\"}},\"shapedefaults\":{\"fillcolor\":\"black\",\"line\":{\"width\":0},\"opacity\":0.3},\"ternary\":{\"aaxis\":{\"gridcolor\":\"rgb(232,232,232)\",\"linecolor\":\"rgb(36,36,36)\",\"showgrid\":false,\"showline\":true,\"ticks\":\"outside\"},\"baxis\":{\"gridcolor\":\"rgb(232,232,232)\",\"linecolor\":\"rgb(36,36,36)\",\"showgrid\":false,\"showline\":true,\"ticks\":\"outside\"},\"bgcolor\":\"white\",\"caxis\":{\"gridcolor\":\"rgb(232,232,232)\",\"linecolor\":\"rgb(36,36,36)\",\"showgrid\":false,\"showline\":true,\"ticks\":\"outside\"}},\"title\":{\"x\":0.05},\"xaxis\":{\"automargin\":true,\"gridcolor\":\"rgb(232,232,232)\",\"linecolor\":\"rgb(36,36,36)\",\"showgrid\":false,\"showline\":true,\"ticks\":\"outside\",\"title\":{\"standoff\":15},\"zeroline\":false,\"zerolinecolor\":\"rgb(36,36,36)\"},\"yaxis\":{\"automargin\":true,\"gridcolor\":\"rgb(232,232,232)\",\"linecolor\":\"rgb(36,36,36)\",\"showgrid\":false,\"showline\":true,\"ticks\":\"outside\",\"title\":{\"standoff\":15},\"zeroline\":false,\"zerolinecolor\":\"rgb(36,36,36)\"}}},\"xaxis\":{\"anchor\":\"y\",\"domain\":[0.0,1.0],\"title\":{\"text\":\"Error\"},\"range\":[0,0.31]},\"yaxis\":{\"anchor\":\"x\",\"domain\":[0.0,1.0],\"title\":{\"text\":\"-BPC\"}},\"legend\":{\"tracegroupgap\":0,\"font\":{\"family\":\"Times New Roman\",\"size\":16,\"color\":\"Black\"},\"orientation\":\"h\",\"yanchor\":\"bottom\",\"y\":-0.29,\"xanchor\":\"right\",\"x\":0.75},\"margin\":{\"t\":60},\"height\":500,\"width\":1000,\"font\":{\"family\":\"Times New Roman\",\"size\":19,\"color\":\"Black\"},\"shapes\":[{\"line\":{\"color\":\"Red\"},\"type\":\"line\",\"x0\":0,\"x1\":1,\"xref\":\"x\",\"y0\":0,\"y1\":0,\"yref\":\"y\"},{\"line\":{\"color\":\"gray\",\"dash\":\"dash\",\"width\":4},\"type\":\"line\",\"x0\":0.03621005762179151,\"x1\":0.045966474594028285,\"xref\":\"x\",\"y0\":0.2839532067991476,\"y1\":0.0742526116655898,\"yref\":\"y\"},{\"line\":{\"color\":\"gray\",\"dash\":\"dash\",\"width\":4},\"type\":\"line\",\"x0\":0.045966474594028285,\"x1\":0.05264536406495547,\"xref\":\"x\",\"y0\":0.0742526116655898,\"y1\":-0.0075997373873538405,\"yref\":\"y\"},{\"line\":{\"color\":\"gray\",\"dash\":\"dash\",\"width\":4},\"type\":\"line\",\"x0\":0.05264536406495547,\"x1\":0.05500261917234154,\"xref\":\"x\",\"y0\":-0.0075997373873538405,\"y1\":-0.09107698788214795,\"yref\":\"y\"},{\"line\":{\"color\":\"gray\",\"dash\":\"dash\",\"width\":4},\"type\":\"line\",\"x0\":0.05500261917234154,\"x1\":0.07687270822420116,\"xref\":\"x\",\"y0\":-0.09107698788214795,\"y1\":-0.35826058621059464,\"yref\":\"y\"},{\"line\":{\"color\":\"gray\",\"dash\":\"dash\",\"width\":4},\"type\":\"line\",\"x0\":0.07687270822420116,\"x1\":0.09704033525405972,\"xref\":\"x\",\"y0\":-0.35826058621059464,\"y1\":-0.5024650827677698,\"yref\":\"y\"},{\"line\":{\"color\":\"gray\",\"dash\":\"dash\",\"width\":4},\"type\":\"line\",\"x0\":0.09704033525405972,\"x1\":0.12048192771084337,\"xref\":\"x\",\"y0\":-0.5024650827677698,\"y1\":-0.5386531595108824,\"yref\":\"y\"},{\"line\":{\"color\":\"gray\",\"dash\":\"dash\",\"width\":4},\"type\":\"line\",\"x0\":0.12048192771084337,\"x1\":0.20920639078051337,\"xref\":\"x\",\"y0\":-0.5386531595108824,\"y1\":-0.8009014613680863,\"yref\":\"y\"}]},                        {\"responsive\": true}                    ).then(function(){\n",
       "                            \n",
       "var gd = document.getElementById('320ffb5e-98d8-44f1-86f2-157b20481f76');\n",
       "var x = new MutationObserver(function (mutations, observer) {{\n",
       "        var display = window.getComputedStyle(gd).display;\n",
       "        if (!display || display === 'none') {{\n",
       "            console.log([gd, 'removed!']);\n",
       "            Plotly.purge(gd);\n",
       "            observer.disconnect();\n",
       "        }}\n",
       "}});\n",
       "\n",
       "// Listen for the removal of the full notebook cells\n",
       "var notebookContainer = gd.closest('#notebook-container');\n",
       "if (notebookContainer) {{\n",
       "    x.observe(notebookContainer, {childList: true});\n",
       "}}\n",
       "\n",
       "// Listen for the clearing of the current output cell\n",
       "var outputEl = gd.closest('.output');\n",
       "if (outputEl) {{\n",
       "    x.observe(outputEl, {childList: true});\n",
       "}}\n",
       "\n",
       "                        })                };                });            </script>        </div>"
      ]
     },
     "metadata": {},
     "output_type": "display_data"
    }
   ],
   "source": [
    "import plotly\n",
    "df = err_df.merge(bpc_df, on=['index','epoch'])\n",
    "df = df[df['epoch'] == 99]\n",
    "df = df.rename(columns={'Metric_x':'Error'})\n",
    "df = df.rename(columns={'Metric_y':'Disparity'})\n",
    "df = df.dropna()\n",
    "df = df[df['Error']<0.3]\n",
    "df = df[df['Disparity']<2.0]\n",
    "df.loc[:,'model'] = df['index'].apply(lambda x: get_name_details(x)[1])\n",
    "df = df.sort_values(by=['model'])\n",
    "\n",
    "\n",
    "fig = px.scatter(df, x='Error', \n",
    "                 y='Disparity', \n",
    "                 template=\"simple_white\", \n",
    "                 width=1000, height= 500\n",
    "            )\n",
    "\n",
    "fig.update_layout(\n",
    "    yaxis_title=\"-BPC\",\n",
    "#     yaxis_range=[0,6.15],\n",
    "    xaxis_range=[0,.31],\n",
    "    font=dict(\n",
    "        family=\"Times New Roman\",\n",
    "        size=19,\n",
    "        color=\"Black\"\n",
    "    )\n",
    ")\n",
    "fig.add_shape(type='line',\n",
    "                x0=0,y0=0,x1=1,y1=0,\n",
    "                line=dict(color='Red',),\n",
    "                xref='x',yref='y'\n",
    ")\n",
    "p = np.array(preparePareto(df[['Error','Disparity']], False, False).dropna())\n",
    "for x, y in zip(p[:-1], p[1:]):\n",
    "    fig.add_shape(type='line',\n",
    "                x0=x[0],y0=x[1],x1=y[0],y1=y[1],\n",
    "                line=dict(color='gray',width=4),line_dash='dash',\n",
    "                xref='x',yref='y')\n",
    "    \n",
    "\n",
    "fig.update_layout(legend=dict(\n",
    "    orientation=\"h\",\n",
    "    yanchor=\"bottom\",\n",
    "    y=-.29,\n",
    "    xanchor=\"right\",\n",
    "    x=.75,\n",
    "    font=dict(\n",
    "        family=\"Times New Roman\",\n",
    "        size=16,\n",
    "        color=\"Black\"\n",
    "    )\n",
    "    )\n",
    ")\n",
    "\n",
    "pareto_df = pd.merge(df, pd.DataFrame(p), right_on=[0,1], left_on=[\"Error\",\"Disparity\"])\n",
    "for model in set(pareto_df['model']):\n",
    "    # match model name to color\n",
    "    i = [x.lower()[:3] for x in plotted_models].index(model.lower()[:3])\n",
    "    name = plotted_models[i]\n",
    "    color = colors[i]\n",
    "    fig.add_trace(go.Scatter(\n",
    "        x=pareto_df[pareto_df['model'] == model]['Error'],\n",
    "        y=pareto_df[pareto_df['model'] == model]['Disparity'],\n",
    "        mode='markers',\n",
    "        name = name,\n",
    "        marker = dict(color=color,size=15),\n",
    "    ))\n",
    "\n",
    "fig.show()\n",
    "plotly.io.write_image(fig, 'app_RQ1_main_full_BPC.png', format='png')"
   ]
  }
 ],
 "metadata": {
  "kernelspec": {
   "display_name": "Python 3 (ipykernel)",
   "language": "python",
   "name": "python3"
  },
  "language_info": {
   "codemirror_mode": {
    "name": "ipython",
    "version": 3
   },
   "file_extension": ".py",
   "mimetype": "text/x-python",
   "name": "python",
   "nbconvert_exporter": "python",
   "pygments_lexer": "ipython3",
   "version": "3.9.7"
  }
 },
 "nbformat": 4,
 "nbformat_minor": 5
}
