{
 "cells": [
  {
   "cell_type": "code",
   "execution_count": 1,
   "id": "52106ab0",
   "metadata": {},
   "outputs": [],
   "source": [
    "import timm\n",
    "import torch\n",
    "import tqdm\n",
    "import pandas as pd\n",
    "import torch.nn as nn\n",
    "\n",
    "pt = timm.list_models(pretrained=True)"
   ]
  },
  {
   "cell_type": "code",
   "execution_count": 2,
   "id": "6b98eb84",
   "metadata": {},
   "outputs": [],
   "source": [
    "def get_children(model: torch.nn.Module):\n",
    "    # get children form model!\n",
    "    children = list(model.children())\n",
    "    flatt_children = []\n",
    "    if children == []:\n",
    "        # if model has no children; model is last child! :O\n",
    "        return str(type(model).__name__)\n",
    "    else:\n",
    "       # look for children from children... to the last child!\n",
    "       for child in children:\n",
    "            c = get_children(child)\n",
    "            if type(c) == type(list()):\n",
    "                flatt_children.extend(get_children(child))\n",
    "            else:\n",
    "                flatt_children.append(get_children(child))\n",
    "    return flatt_children"
   ]
  },
  {
   "cell_type": "code",
   "execution_count": 27,
   "id": "0251b8fd",
   "metadata": {},
   "outputs": [
    {
     "data": {
      "text/plain": [
       "'tresnet_l'"
      ]
     },
     "execution_count": 27,
     "metadata": {},
     "output_type": "execute_result"
    }
   ],
   "source": [
    "m"
   ]
  },
  {
   "cell_type": "code",
   "execution_count": 28,
   "id": "3db32062",
   "metadata": {},
   "outputs": [
    {
     "name": "stderr",
     "output_type": "stream",
     "text": [
      " 87%|████████▋ | 513/592 [08:51<01:55,  1.46s/it] Removing representation layer for fine-tuning.\n",
      " 87%|████████▋ | 517/592 [08:56<01:33,  1.25s/it]Removing representation layer for fine-tuning.\n",
      " 88%|████████▊ | 518/592 [08:57<01:29,  1.21s/it]Removing representation layer for fine-tuning.\n",
      " 88%|████████▊ | 520/592 [09:01<01:57,  1.63s/it]Removing representation layer for fine-tuning.\n",
      " 89%|████████▊ | 524/592 [09:26<05:27,  4.82s/it]Removing representation layer for fine-tuning.\n",
      "100%|██████████| 592/592 [10:50<00:00,  1.10s/it]\n"
     ]
    }
   ],
   "source": [
    "model_meta = {}\n",
    "for m in tqdm.tqdm(pt):\n",
    "    if 'tresnet' in m:\n",
    "        continue\n",
    "    model = timm.create_model(m, num_classes=0).eval()\n",
    "    config = timm.data.resolve_data_config({}, model=model)    \n",
    "    config['model_type'] = type(model).__name__\n",
    "    config['n_feature_params'] = sum(p.numel() for p in model.parameters())\n",
    "    config['model_name'] = m\n",
    "    \n",
    "    # get description of model modules\n",
    "    c = get_children(model)\n",
    "    d = {item:c.count(item) for item in c}\n",
    "    for k,v in d.items():\n",
    "        config[k] = v\n",
    "        \n",
    "    # get feature dimension\n",
    "    f_dim = model(torch.randn(config['input_size']).unsqueeze(0))\n",
    "    if type(f_dim) != type(0):\n",
    "        if type(f_dim) == type(list()) or type(f_dim) == type((1,2)):\n",
    "            f_dim = f_dim[0].shape[1]\n",
    "        else:\n",
    "            f_dim = f_dim.shape[1]\n",
    "                \n",
    "    config['feature_dim'] = f_dim\n",
    "    del model\n",
    "    \n",
    "    model_meta[m] = config"
   ]
  },
  {
   "cell_type": "code",
   "execution_count": 33,
   "id": "595d8b9e",
   "metadata": {},
   "outputs": [],
   "source": [
    "import json\n",
    "with open('timm_model_input_sizes.json', 'r', encoding='utf-8') as f:\n",
    "    sizes = json.load(f)\n",
    "\n",
    "for k,v in sizes.items():\n",
    "    for m in v:\n",
    "        if 'tresnet' not in m:\n",
    "            model_meta[m]['test_input_size'] = (3, int(k), int(k))\n",
    "        \n",
    "df = pd.DataFrame([v for k,v in model_meta.items()])\n",
    "df.to_csv('timm_model_metadata.csv', index=False)    \n",
    "    "
   ]
  }
 ],
 "metadata": {
  "kernelspec": {
   "display_name": "Python 3 (ipykernel)",
   "language": "python",
   "name": "python3"
  },
  "language_info": {
   "codemirror_mode": {
    "name": "ipython",
    "version": 3
   },
   "file_extension": ".py",
   "mimetype": "text/x-python",
   "name": "python",
   "nbconvert_exporter": "python",
   "pygments_lexer": "ipython3",
   "version": "3.9.7"
  }
 },
 "nbformat": 4,
 "nbformat_minor": 5
}
