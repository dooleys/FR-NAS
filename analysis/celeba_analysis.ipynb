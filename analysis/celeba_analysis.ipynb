{
 "cells": [
  {
   "cell_type": "code",
   "execution_count": 43,
   "metadata": {},
   "outputs": [],
   "source": [
    "import pandas as pd\n",
    "import numpy as np\n",
    "import os\n",
    "import plotly.express as px\n",
    "import glob\n",
    "from collections import Counter\n",
    "\n",
    "\n",
    "def stat_parity_rank_func(df, epoch_columns):\n",
    "    # calculate the violation of statistical parity\n",
    "    data = {}\n",
    "    for g,g_df in df.groupby('gender_expression'):\n",
    "        data[g] = (g_df[epoch_columns]==0).sum(axis=0)/g_df.shape[0]\n",
    "    return abs(data['male'] - data['female'])\n",
    "\n",
    "def stat_parity_func(df, epoch_columns):\n",
    "    # calculate the violation of statistical parity\n",
    "    data = {}\n",
    "    for g,g_df in df.groupby('gender_expression'):\n",
    "        data[g] = (g_df[epoch_columns]==0).sum(axis=0)/g_df.shape[0]\n",
    "    return abs(data['male'] - data['female'])\n",
    "\n",
    "def stat_parity_ratio_func(df, epoch_columns):\n",
    "    # calculate the violation of statistical parity\n",
    "    data = {}\n",
    "    for g,g_df in df.groupby('gender_expression'):\n",
    "        data[g] = (g_df[epoch_columns]==0).sum(axis=0)/g_df.shape[0]\n",
    "    return np.abs(1-data['male']/data['female'])\n",
    "\n",
    "def stat_parity_ratio_rank_func(df, epoch_columns):\n",
    "    # calculate the violation of statistical parity\n",
    "    data = {}\n",
    "    for g,g_df in df.groupby('gender_expression'):\n",
    "        data[g] = (g_df[epoch_columns]==0).sum(axis=0)/g_df.shape[0]\n",
    "    return np.abs(1-data['male']/data['female'])\n",
    "\n",
    "def ratio_errors_func(df, epoch_columns):\n",
    "    # calculate the violation of statistical parity\n",
    "    data = {}\n",
    "    for g,g_df in df.groupby('gender_expression'):\n",
    "        data[g] = (g_df[epoch_columns]!=0).sum(axis=0)/g_df.shape[0]\n",
    "    return np.abs(1-data['male']/data['female'])\n",
    "\n",
    "def stat_parity_from_rank_ratio_func(df, epoch_columns):\n",
    "    # calculate the violation of statistical parity\n",
    "    data = {}\n",
    "    for g,g_df in df.groupby('gender_expression'):\n",
    "        data[g] = (g_df[epoch_columns] == 0).sum(axis=0)/g_df.shape[0]\n",
    "    return np.abs(1-data['male']/data['female'])\n",
    "\n",
    "def rank_func(df, epoch_columns):\n",
    "    # calculate the violation of statistical parity\n",
    "    data = {}\n",
    "    for g,g_df in df.groupby('gender_expression'):\n",
    "        data[g] = (g_df[epoch_columns]).sum(axis=0)/g_df.shape[0]\n",
    "    return abs(data['male']-data['female'])\n",
    "\n",
    "def rank_ratio_func(df, epoch_columns):\n",
    "    # calculate the violation of statistical parity\n",
    "    data = {}\n",
    "    for g,g_df in df.groupby('gender_expression'):\n",
    "        data[g] = (g_df[epoch_columns]).sum(axis=0)/g_df.shape[0]\n",
    "    return np.abs(1-data['male']/data['female'])\n",
    "\n",
    "def acc_func(df, epoch_columns):\n",
    "    # calculate the accuracy \n",
    "    return df[epoch_columns].sum(axis=0)/df.shape[0]\n",
    "\n",
    "def acc_from_rank_func(df, epoch_columns):\n",
    "    # calculate the accuracy \n",
    "    return (df[epoch_columns] == 0).sum(axis=0)/df.shape[0]\n",
    "\n",
    "def err_from_rank_func(df, epoch_columns):\n",
    "    # calculate the accuracy \n",
    "    return (df[epoch_columns] != 0).sum(axis=0)/df.shape[0]\n",
    "\n",
    "def _resolve_head(s):\n",
    "    if s is None:\n",
    "        return 'fault'\n",
    "    if 'CosFace'.lower() in s.lower():\n",
    "        return 'CosFace'\n",
    "    elif 'ArcFace'.lower() in s.lower():\n",
    "        return 'ArcFace'\n",
    "    elif 'MagFace'.lower() in s.lower():\n",
    "        return 'MagFace'\n",
    "    return 'fault'\n",
    "    \n",
    "def _resolve_opt(s):\n",
    "    if 'AdamW'.lower() in s.lower():\n",
    "        return 'AdamW'\n",
    "    if 'Adam'.lower() in s.lower():\n",
    "        return 'Adam'\n",
    "    if 'SGD'.lower() in s.lower():\n",
    "        return 'SGD'\n",
    "    if 'RMSProp'.lower() in s.lower():\n",
    "        return 'RMSProp'\n",
    "    return 'fault'\n",
    "\n",
    "\n",
    "def get_name_details(f):\n",
    "    f = f[:-1] if f[-1] == '/' else f\n",
    "    head_id = -8 if 'cosine' in f else -6\n",
    "    y = os.path.splitext(os.path.basename(f))[0]\n",
    "    experiment = y.replace('config_','')\n",
    "    head = _resolve_head(f)\n",
    "    opt = \"\"\n",
    "    #head_i = experiment.lower().index(head.lower())\n",
    "    model = os.path.splitext(os.path.basename(f))[-2].split(\"_\")[0]\n",
    "    return experiment, model, head, opt\n",
    "\n",
    "\n",
    "def analyze_files(files, metadata, ratio=False, error=False, epochs=None):\n",
    "    acc_df = pd.DataFrame(columns=['epoch_'+str(e) for e in range(100)])\n",
    "    acc_disp_df = pd.DataFrame(columns=['epoch_'+str(e) for e in range(100)])\n",
    "    for f in files:\n",
    "        try:\n",
    "            df = pd.read_csv(f)\n",
    "        except:\n",
    "            continue\n",
    "        epoch_columns = df.drop('ids',axis=1).columns\n",
    "        df = metadata.merge(df)\n",
    "        num_epochs = len(epoch_columns)\n",
    "        df[epoch_columns] = df[epoch_columns].apply(lambda x: x == df['label'])\n",
    "        acc = acc_func(df, epoch_columns)\n",
    "        experiment = get_name_details(f)[0]\n",
    "        acc_df.loc[experiment] = acc\n",
    "        if ratio:\n",
    "            if error:\n",
    "                acc_disp = ratio_errors_func(df, epoch_columns)\n",
    "            else:\n",
    "                acc_disp = stat_parity_ratio_func(df, epoch_columns)\n",
    "        else:\n",
    "            acc_disp = stat_parity_func(df, epoch_columns)\n",
    "        acc_disp_df.loc[experiment] = acc_disp    \n",
    "    return acc_df, acc_disp_df\n",
    "\n",
    "def analyze_files_pd(pd_dict_list, metadata, ratio=False, error=False, epochs=None):\n",
    "    epochs = 99\n",
    "        \n",
    "    acc_df = pd.DataFrame(columns=epochs)\n",
    "    acc_ratio_df = pd.DataFrame(columns=epochs)\n",
    "    rank_df = pd.DataFrame(columns=epochs)\n",
    "    \n",
    "    for d in pd_dict_list:\n",
    "        experiment = d['experiment']\n",
    "        df = d['df']\n",
    "        epoch_columns = list(set(df.columns).intersection(epochs))\n",
    "        df = metadata.merge(df)\n",
    "        if error:\n",
    "            acc = err_from_rank_func(df, epoch_columns)\n",
    "        else:\n",
    "            acc = acc_from_rank_func(df, epoch_columns)\n",
    "        acc_df.loc[experiment] = acc\n",
    "        \n",
    "        if ratio:\n",
    "            if error:\n",
    "                acc_disp = ratio_errors_func(df, epoch_columns)\n",
    "            else:\n",
    "                acc_disp = stat_parity_ratio_rank_func(df, epoch_columns)\n",
    "        else:\n",
    "            acc_disp = stat_parity_rank_func(df, epoch_columns)\n",
    "        acc_ratio_df.loc[experiment] = acc_disp \n",
    "        \n",
    "        if ratio:\n",
    "            rank_ratio = rank_ratio_func(df, epoch_columns)\n",
    "        else:\n",
    "            rank_ratio = rank_func(df, epoch_columns)\n",
    "        rank_df.loc[experiment] = rank_ratio    \n",
    "    return acc_df, acc_ratio_df, rank_df\n",
    "\n",
    "\n",
    "def analyze_rank_files(files, metadata, ratio=False, error=False, epochs=None): \n",
    "    pd_dict_list = []\n",
    "    for f in files:\n",
    "        try:\n",
    "            df = pd.read_csv(f)\n",
    "        except:\n",
    "            continue\n",
    "        experiment = f.split('/')[-2]\n",
    "        pd_dict_list += [{'experiment':experiment,\n",
    "                          'df': df}]\n",
    "\n",
    "\n",
    "    acc_df, acc_ratio_df, rank_df = analyze_files_pd(pd_dict_list, metadata, ratio=ratio, error=error, epochs=epochs)\n",
    "    return prepare(acc_df), prepare(acc_ratio_df), prepare(rank_df)\n",
    "\n",
    "def analyze_pickle_files(pickle_files, metadata, ratio=False, error=False, epochs=None):\n",
    "    pd_dict_list = []\n",
    "    for f in pickle_files:\n",
    "            epoch = 10\n",
    "            pickle_df = pd.read_pickle(f)\n",
    "            df = pickle_df\n",
    "\n",
    "    df = df[[x for x in df.columns if 'nearest_by_id' in x]]\n",
    "    df.reset_index(inplace=True)\n",
    "    df = df.rename(columns = {'index':'ids'})\n",
    "    experiment = f.split('/')[-2]\n",
    "    pd_dict_list += [{'experiment':experiment,\n",
    "                          'df': df}]\n",
    "    acc_df, acc_ratio_df, rank_df = analyze_files_pd(pd_dict_list, metadata, ratio=ratio, error=error, epochs=epochs)\n",
    "    return prepare(acc_df), prepare(acc_ratio_df), prepare(rank_df)\n",
    "\n",
    "\n",
    "def plot_df(acc_df, acc_disp_df, rank_df = None, title = ''):\n",
    "    def prepare(df):\n",
    "        # dataframe of a long format\n",
    "        df = pd.melt(df.reset_index(), id_vars='index')\n",
    "        df = df.rename(columns={'variable':'epoch'})\n",
    "        df = df.rename(columns={'value':'Accuracy'})\n",
    "        df.epoch = df.epoch.apply(lambda x: int(x.split('_')[1]))\n",
    "        return df\n",
    "    acc_df = prepare(acc_df)\n",
    "    acc_disp_df = prepare(acc_disp_df)\n",
    "\n",
    "    # plotly express\n",
    "    acc_df['measurement'] = 'Accuracy'\n",
    "    acc_disp_df['measurement'] = 'Disparity'\n",
    "\n",
    "    df = acc_df.append(acc_disp_df)\n",
    "\n",
    "    if rank_df is not None:\n",
    "        rank_df = prepare(rank_df)\n",
    "        rank_df['measurement'] = 'Rank'\n",
    "        df = df.append(rank_df)\n",
    "        \n",
    "    df = df.dropna()\n",
    "\n",
    "    fig = px.line(df, x='epoch', y='Accuracy', color='index', facet_row='measurement', title=title)\n",
    "    fig.update_yaxes(matches=None)\n",
    "    fig.for_each_annotation(lambda a: a.update(text=a.text.split(\"=\")[-1]))\n",
    "    fig.update_layout(yaxis_title=\"Disparity\")\n",
    "\n",
    "    fig.show()\n",
    "    \n",
    "    \n",
    "def whatIsPareto(df, x_inc=False, y_inc=False):\n",
    "    isPareto = np.zeros(df.shape[0])\n",
    "    i = 0\n",
    "    for _, (c1,c2) in df.iterrows():\n",
    "        tmp = np.delete(np.array(df), (i), axis=0)\n",
    "        if x_inc: # is a larger x better?\n",
    "            if y_inc: # is a larger y better?\n",
    "                b = np.any(np.apply_along_axis(lambda x: x[0]>c1 and x[1]>c2, 1, tmp))\n",
    "            else: # is a smaller y better?\n",
    "                b = np.any(np.apply_along_axis(lambda x: x[0]>c1 and x[1]<c2, 1, tmp))\n",
    "        else: # is a smaller x better?\n",
    "            if y_inc: # is a larger y better?\n",
    "                b = np.any(np.apply_along_axis(lambda x: x[0]<c1 and x[1]>c2, 1, tmp))\n",
    "            else: # is a smaller y better?\n",
    "                b = np.any(np.apply_along_axis(lambda x: x[0]<c1 and x[1]<c2, 1, tmp))\n",
    "        if not b:\n",
    "            isPareto[i] = 1\n",
    "        i+=1\n",
    "    return isPareto\n",
    "\n",
    "def preparePareto(df, x_inc=False, y_inc=False):\n",
    "    \n",
    "    isPareto = whatIsPareto(df, x_inc=x_inc, y_inc=y_inc)\n",
    "    tmp = df[isPareto == 1]\n",
    "    \n",
    "    tmp = tmp.sort_values(df.columns[0])\n",
    "    return tmp\n",
    "\n",
    "def prepare(df):\n",
    "    # dataframe of a long format\n",
    "    df = pd.melt(df.reset_index(), id_vars='index')\n",
    "    df = df.rename(columns={'variable':'epoch'})\n",
    "    df = df.rename(columns={'value':'Metric'})\n",
    "    df.epoch = df.epoch.apply(lambda x: int(x.split('_')[1]))\n",
    "    return df\n",
    "\n",
    "def merge(df1, df2):\n",
    "    df = df1.merge(df2, on=[\"index\",\"epoch\"])\n",
    "    df = df.rename(columns={'Metric_x':'Accuracy'})\n",
    "    df = df.rename(columns={'Metric_y':'Disparity'})\n",
    "    return df\n",
    "\n",
    "def drop_models(df_list, models):\n",
    "    # remove rows with model names in models from each df in the df_list\n",
    "    out_list = []\n",
    "    for df in df_list:\n",
    "        out_list += [df[~df['index'].isin(models)]]\n",
    "    return out_list\n",
    "\n",
    "\n",
    "def find_yaml_folder(yaml):\n",
    "    '''\n",
    "    given a yaml string file like:\n",
    "         'config_inception_resnet_v2_CosFace_RMSProp.yaml'\n",
    "    return the corresponding folder for this experiment:\n",
    "         './Phase1B/inception_resnet_v2_CosFace_RMSProp'\n",
    "    if it does not exist, return ''\n",
    "    '''\n",
    "    experiment_name = yaml.replace('config_','').replace('.yaml','')\n",
    "    \n",
    "    R2_or_Phase1B = 'R2' if 'R2' in yaml else 'Phase1B'\n",
    "            \n",
    "\n",
    "    experiment_folders = glob.glob('/cmlscratch/sdooley1/merge_timm/FR-NAS/Checkpoints/{}/*/'.format(R2_or_Phase1B))\n",
    "    if R2_or_Phase1B == 'Phase1B':\n",
    "        experiment_folders += glob.glob('/cmlscratch/sdooley1/merge_timm/FR-NAS/Checkpoints/timm_explore_few_epochs/*/')\n",
    "    where = [get_name_details(experiment_name)[0].lower() == get_name_details(x)[0].lower() for x in experiment_folders]\n",
    "    yaml_folder = ''\n",
    "    if any(where):\n",
    "        yaml_folder = experiment_folders[np.where(where)[0][0]]\n",
    "    return yaml_folder\n",
    "\n",
    "def get_finished_models_Phase1B():\n",
    "    '''\n",
    "    Return a list of those models which we are including in Phase1B\n",
    "    '''\n",
    "    finished = []\n",
    "    for yaml_orig in glob.glob('/cmlscratch/sdooley1/merge_timm/FR-NAS/configs/**/*.yaml') + glob.glob('/cmlscratch/sdooley1/merge_timm/FR-NAS/configs_multi/**/*.yaml'):\n",
    "        yaml = os.path.basename(yaml_orig)\n",
    "        yaml_folder = find_yaml_folder(yaml)\n",
    "        if yaml_folder:\n",
    "            finished += [yaml]\n",
    "    cn = Counter([get_name_details(x)[1] for x in finished])\n",
    "    final_models = [k for k,v in cn.items() if v>=6]\n",
    "    final_models.sort()\n",
    "    if 'vit_large_patch16_224' in final_models:\n",
    "        final_models.remove('vit_large_patch16_224')\n",
    "    if 'cait_xs24_384' in final_models:\n",
    "        final_models.remove('cait_xs24_384')\n",
    "        \n",
    "    # make sure vgg_bn goes before vgg\n",
    "    a, b = final_models.index('vgg19'), final_models.index('vgg19_bn')\n",
    "    final_models[b], final_models[a] = final_models[a], final_models[b]\n",
    "\n",
    "\n",
    "    return final_models\n",
    "\n",
    "\n",
    "def get_pareto_hps_head_opt(stable_df, col='Accuracy'):\n",
    "    row = []\n",
    "    for opt in ['adamw', 'sgd']:\n",
    "        for head in ['ArcFace','CosFace','MagFace']:\n",
    "            df = stable_df\n",
    "            df = df[(df['opt'] == opt) & (df['head'] == head)]\n",
    "            ind = whatIsPareto(df[[col,'Disparity']], True, False).astype(bool)\n",
    "            out = df[ind].dropna().sort_values(col, ascending=False)\n",
    "            m = out['model'].to_string(header=False,index=False).split('\\n')\n",
    "            row += ['\\n'.join(list(np.unique([x.strip() for x in m])))]\n",
    "    return row\n",
    "\n",
    "def get_pareto_hps_opt(stable_df, col='Accuracy'):\n",
    "    row = []\n",
    "    for opt in ['adamw', 'sgd']:\n",
    "            df = stable_df\n",
    "            df = df[(df['opt'] == opt)]\n",
    "            ind = whatIsPareto(df[[col,'Disparity']], True, False).astype(bool)\n",
    "            out = df[ind].dropna().sort_values(col, ascending=False)\n",
    "            m = out['model'].to_string(header=False,index=False).split('\\n')\n",
    "            row += ['\\n'.join(list(np.unique([x.strip() for x in m])))]\n",
    "    return row\n",
    "\n",
    "def get_pareto_hps_head(stable_df, col='Accuracy'):\n",
    "    row = []\n",
    "    for head in ['ArcFace', 'CosFace', 'MagFace']:\n",
    "            df = stable_df\n",
    "            df = df[(df['head'] == head)]\n",
    "            ind = whatIsPareto(df[[col,'Disparity']], True, False).astype(bool)\n",
    "            out = df[ind].dropna().sort_values(col, ascending=False)\n",
    "            m = out['model'].to_string(header=False,index=False).split('\\n')\n",
    "            row += ['\\n'.join(list(np.unique([x.strip() for x in m])))]\n",
    "    return row\n",
    "\n",
    "def anova_hp_accuracy(df, col = 'Accuracy'):\n",
    "    df['model'] = df['index'].apply(lambda x: get_name_details(x.replace('_rank_by_id_val',''))[1])\n",
    "    df['head'] = df['index'].apply(lambda x: get_name_details(x.replace('_rank_by_id_val',''))[2])\n",
    "    df['opt'] = df['index'].apply(lambda x: get_name_details(x.replace('_rank_by_id_val',''))[3].lower())\n",
    "    df = df.merge(meta, left_on='model', right_on='model_name')\n",
    "    df.fillna('0',inplace=True)\n",
    "    df[col] = df[col].astype(float)\n",
    "\n",
    "    lm = ols(col+' ~ head + opt', data=df).fit() # fitting the model\n",
    "    \n",
    "    print(sm.stats.anova_lm(lm))\n",
    "    tukey_head = pairwise_tukeyhsd(endog=df[col],\n",
    "                              groups=df['head'],\n",
    "                              alpha=0.05)\n",
    "    print(tukey_head)\n",
    "    tukey_opt = pairwise_tukeyhsd(endog=df[col],\n",
    "                              groups=df['opt'],\n",
    "                              alpha=0.05)\n",
    "    print(tukey_opt)\n",
    "    \n",
    "    return sm.stats.anova_lm(lm), tukey_head, tukey_opt\n",
    "\n",
    "def anova_hp_disp(df, col = 'Accuracy'):\n",
    "    df['model'] = df['index'].apply(lambda x: get_name_details(x.replace('_rank_by_id_val',''))[1])\n",
    "    df['head'] = df['index'].apply(lambda x: get_name_details(x.replace('_rank_by_id_val',''))[2])\n",
    "    df['opt'] = df['index'].apply(lambda x: get_name_details(x.replace('_rank_by_id_val',''))[3].lower())\n",
    "    df = df.merge(meta, left_on='model', right_on='model_name')\n",
    "    df.fillna('0',inplace=True)\n",
    "    df['Disparity'] = df['Disparity'].astype(float)\n",
    "\n",
    "    lm = ols('Disparity ~ head + opt', data=df).fit() # fitting the model\n",
    "    \n",
    "    print(sm.stats.anova_lm(lm))\n",
    "    tukey_head = pairwise_tukeyhsd(endog=df['Disparity'],\n",
    "                              groups=df['head'],\n",
    "                              alpha=0.05)\n",
    "    print(tukey_head)\n",
    "    tukey_opt = pairwise_tukeyhsd(endog=df['Disparity'],\n",
    "                              groups=df['opt'],\n",
    "                              alpha=0.05)\n",
    "    print(tukey_opt)\n",
    "    \n",
    "    return sm.stats.anova_lm(lm), tukey_head, tukey_opt"
   ]
  },
  {
   "cell_type": "code",
   "execution_count": 76,
   "metadata": {},
   "outputs": [],
   "source": [
    "import pandas as pd\n",
    "import numpy as np\n",
    "import os\n",
    "import glob\n",
    "import string\n",
    "import plotly.graph_objects as go\n",
    "pickle_files = []\n",
    "pickle_files = glob.glob('/work/dlclarge2/sukthank-ZCP_Competition/FR-NAS/Checkpoints_moasha/Checkpoints_Edges_108_LR_0.0001_Head_CosFace_Optimizer_Adam_seed_111_2/*Epoch_9*test.pkl')"
   ]
  },
  {
   "cell_type": "code",
   "execution_count": 77,
   "metadata": {},
   "outputs": [
    {
     "data": {
      "text/plain": [
       "['/work/dlclarge2/sukthank-ZCP_Competition/FR-NAS/Checkpoints_moasha/Checkpoints_Edges_108_LR_0.0001_Head_CosFace_Optimizer_Adam_seed_111_2/Checkpoint_Head_CosFace_Backbone_dpn107_Opt_Adam_Dataset_vggface2_Epoch_9_test.pkl']"
      ]
     },
     "execution_count": 77,
     "metadata": {},
     "output_type": "execute_result"
    }
   ],
   "source": [
    "pickle_files"
   ]
  },
  {
   "cell_type": "code",
   "execution_count": 78,
   "metadata": {},
   "outputs": [],
   "source": [
    "epochs = ['epoch_9']\n",
    "metadata = pd.read_csv('/work/dlclarge2/sukthank-ZCP_Competition/NeurIPS2023/FR-NAS/vggface/vggface2_test_identities_gender.csv')"
   ]
  },
  {
   "cell_type": "code",
   "execution_count": 79,
   "metadata": {},
   "outputs": [],
   "source": [
    "rank_files = glob.glob('/work/dlclarge2/sukthank-ZCP_Competition/NeurIPS2023/FR-NAS/Checkpoints_search/**/*_rank_by_id_test.csv')"
   ]
  },
  {
   "cell_type": "code",
   "execution_count": 48,
   "metadata": {},
   "outputs": [
    {
     "data": {
      "text/plain": [
       "['/work/dlclarge2/sukthank-ZCP_Competition/NeurIPS2023/FR-NAS/Checkpoints_search/densenet_333/densenet_333_rank_by_id_test.csv',\n",
       " '/work/dlclarge2/sukthank-ZCP_Competition/NeurIPS2023/FR-NAS/Checkpoints_search/densenet_444/densenet_444_rank_by_id_test.csv',\n",
       " '/work/dlclarge2/sukthank-ZCP_Competition/NeurIPS2023/FR-NAS/Checkpoints_search/densenet_555/densenet_555_rank_by_id_test.csv',\n",
       " '/work/dlclarge2/sukthank-ZCP_Competition/NeurIPS2023/FR-NAS/Checkpoints_search/densenet_666/densenet_666_rank_by_id_test.csv',\n",
       " '/work/dlclarge2/sukthank-ZCP_Competition/NeurIPS2023/FR-NAS/Checkpoints_search/dpn107_CosFace_SGD_333/dpn107_CosFace_SGD_333_rank_by_id_test.csv',\n",
       " '/work/dlclarge2/sukthank-ZCP_Competition/NeurIPS2023/FR-NAS/Checkpoints_search/dpn107_CosFace_SGD_444/dpn107_CosFace_SGD_444_rank_by_id_test.csv',\n",
       " '/work/dlclarge2/sukthank-ZCP_Competition/NeurIPS2023/FR-NAS/Checkpoints_search/dpn107_CosFace_SGD_555/dpn107_CosFace_SGD_555_rank_by_id_test.csv',\n",
       " '/work/dlclarge2/sukthank-ZCP_Competition/NeurIPS2023/FR-NAS/Checkpoints_search/dpn107_CosFace_SGD_666/dpn107_CosFace_SGD_666_rank_by_id_test.csv',\n",
       " '/work/dlclarge2/sukthank-ZCP_Competition/NeurIPS2023/FR-NAS/Checkpoints_search/dpn107_MagFace_SGD_444/dpn107_MagFace_SGD_444_rank_by_id_test.csv',\n",
       " '/work/dlclarge2/sukthank-ZCP_Competition/NeurIPS2023/FR-NAS/Checkpoints_search/dpn107_MagFace_SGD_444_act/dpn107_MagFace_SGD_444_act_rank_by_id_test.csv',\n",
       " '/work/dlclarge2/sukthank-ZCP_Competition/NeurIPS2023/FR-NAS/Checkpoints_search/dpn107_MagFace_SGD_555/dpn107_MagFace_SGD_555_rank_by_id_test.csv',\n",
       " '/work/dlclarge2/sukthank-ZCP_Competition/NeurIPS2023/FR-NAS/Checkpoints_search/dpn107_MagFace_SGD_666/dpn107_MagFace_SGD_666_rank_by_id_test.csv',\n",
       " '/work/dlclarge2/sukthank-ZCP_Competition/NeurIPS2023/FR-NAS/Checkpoints_search/rexnet_200_333/rexnet_200_333_rank_by_id_test.csv',\n",
       " '/work/dlclarge2/sukthank-ZCP_Competition/NeurIPS2023/FR-NAS/Checkpoints_search/rexnet_200_444/rexnet_200_444_rank_by_id_test.csv',\n",
       " '/work/dlclarge2/sukthank-ZCP_Competition/NeurIPS2023/FR-NAS/Checkpoints_search/rexnet_200_555/rexnet_200_555_rank_by_id_test.csv',\n",
       " '/work/dlclarge2/sukthank-ZCP_Competition/NeurIPS2023/FR-NAS/Checkpoints_search/rexnet_200_666/rexnet_200_666_rank_by_id_test.csv',\n",
       " '/work/dlclarge2/sukthank-ZCP_Competition/NeurIPS2023/FR-NAS/Checkpoints_search/ese_vovnet39b_333/ese_vovnet39b_333_rank_by_id_test.csv',\n",
       " '/work/dlclarge2/sukthank-ZCP_Competition/NeurIPS2023/FR-NAS/Checkpoints_search/ese_vovnet39b_444/ese_vovnet39b_444_rank_by_id_test.csv',\n",
       " '/work/dlclarge2/sukthank-ZCP_Competition/NeurIPS2023/FR-NAS/Checkpoints_search/ese_vovnet39b_666/ese_vovnet39b_666_rank_by_id_test.csv',\n",
       " '/work/dlclarge2/sukthank-ZCP_Competition/NeurIPS2023/FR-NAS/Checkpoints_search/ese_vovnet39b_555/ese_vovnet39b_555_rank_by_id_test.csv',\n",
       " '/work/dlclarge2/sukthank-ZCP_Competition/NeurIPS2023/FR-NAS/Checkpoints_search/mobilenetv3_large_100_333/mobilenetv3_large_100_333_rank_by_id_test.csv',\n",
       " '/work/dlclarge2/sukthank-ZCP_Competition/NeurIPS2023/FR-NAS/Checkpoints_search/mobilenetv3_large_100_444/mobilenetv3_large_100_444_rank_by_id_test.csv',\n",
       " '/work/dlclarge2/sukthank-ZCP_Competition/NeurIPS2023/FR-NAS/Checkpoints_search/mobilenetv3_large_100_555/mobilenetv3_large_100_555_rank_by_id_test.csv',\n",
       " '/work/dlclarge2/sukthank-ZCP_Competition/NeurIPS2023/FR-NAS/Checkpoints_search/mobilenetv3_large_100_666/mobilenetv3_large_100_666_rank_by_id_test.csv',\n",
       " '/work/dlclarge2/sukthank-ZCP_Competition/NeurIPS2023/FR-NAS/Checkpoints_search/model_000_333/model_000_333_rank_by_id_test.csv',\n",
       " '/work/dlclarge2/sukthank-ZCP_Competition/NeurIPS2023/FR-NAS/Checkpoints_search/model_000_444/model_000_444_rank_by_id_test.csv',\n",
       " '/work/dlclarge2/sukthank-ZCP_Competition/NeurIPS2023/FR-NAS/Checkpoints_search/model_000_555/model_000_555_rank_by_id_test.csv',\n",
       " '/work/dlclarge2/sukthank-ZCP_Competition/NeurIPS2023/FR-NAS/Checkpoints_search/model_000_666/model_000_666_rank_by_id_test.csv',\n",
       " '/work/dlclarge2/sukthank-ZCP_Competition/NeurIPS2023/FR-NAS/Checkpoints_search/model_010_333/model_010_666_rank_by_id_test.csv',\n",
       " '/work/dlclarge2/sukthank-ZCP_Competition/NeurIPS2023/FR-NAS/Checkpoints_search/model_010_666/model_010_666_rank_by_id_test.csv',\n",
       " '/work/dlclarge2/sukthank-ZCP_Competition/NeurIPS2023/FR-NAS/Checkpoints_search/model_010_444/model_010_444_rank_by_id_test.csv',\n",
       " '/work/dlclarge2/sukthank-ZCP_Competition/NeurIPS2023/FR-NAS/Checkpoints_search/model_010_555/model_010_555_rank_by_id_test.csv',\n",
       " '/work/dlclarge2/sukthank-ZCP_Competition/NeurIPS2023/FR-NAS/Checkpoints_search/model_680_333/model_680_333_rank_by_id_test.csv',\n",
       " '/work/dlclarge2/sukthank-ZCP_Competition/NeurIPS2023/FR-NAS/Checkpoints_search/model_680_555/model_680_555_rank_by_id_test.csv',\n",
       " '/work/dlclarge2/sukthank-ZCP_Competition/NeurIPS2023/FR-NAS/Checkpoints_search/model_680_666/model_680_666_rank_by_id_test.csv',\n",
       " '/work/dlclarge2/sukthank-ZCP_Competition/NeurIPS2023/FR-NAS/Checkpoints_search/model_680_444/model_680_444_rank_by_id_test.csv']"
      ]
     },
     "execution_count": 48,
     "metadata": {},
     "output_type": "execute_result"
    }
   ],
   "source": [
    "rank_files"
   ]
  },
  {
   "cell_type": "code",
   "execution_count": 49,
   "metadata": {},
   "outputs": [],
   "source": [
    "acc_df_vgg, acc_disp_df_vgg, rank_df_vgg = analyze_pickle_files(pickle_files, metadata, epochs=epochs)\n",
    "_, acc_disp_ratio_df_vgg, rank_ratio_df_vgg = analyze_pickle_files(pickle_files, metadata, ratio=True, epochs=epochs)\n",
    "err_df_vgg, error_ratio_df_vgg, _ = analyze_pickle_files(pickle_files, metadata, ratio=True, error=True, epochs=epochs)\n",
    "acc_df_vgg['Metric'] = 1 - acc_df_vgg['Metric']"
   ]
  },
  {
   "cell_type": "code",
   "execution_count": 80,
   "metadata": {},
   "outputs": [
    {
     "data": {
      "text/plain": [
       "['/work/dlclarge2/sukthank-ZCP_Competition/FR-NAS/Checkpoints_moasha/Checkpoints_Edges_108_LR_0.0001_Head_CosFace_Optimizer_Adam_seed_111_2/Checkpoint_Head_CosFace_Backbone_dpn107_Opt_Adam_Dataset_vggface2_Epoch_9_test.pkl']"
      ]
     },
     "execution_count": 80,
     "metadata": {},
     "output_type": "execute_result"
    }
   ],
   "source": [
    "pickle_files"
   ]
  },
  {
   "cell_type": "code",
   "execution_count": 81,
   "metadata": {},
   "outputs": [],
   "source": [
    "import pickle\n",
    "with open(pickle_files[0], 'rb') as f:\n",
    "    pickle_df = pickle.load(f)"
   ]
  },
  {
   "cell_type": "code",
   "execution_count": 82,
   "metadata": {},
   "outputs": [
    {
     "data": {
      "text/html": [
       "<div>\n",
       "<style scoped>\n",
       "    .dataframe tbody tr th:only-of-type {\n",
       "        vertical-align: middle;\n",
       "    }\n",
       "\n",
       "    .dataframe tbody tr th {\n",
       "        vertical-align: top;\n",
       "    }\n",
       "\n",
       "    .dataframe thead th {\n",
       "        text-align: right;\n",
       "    }\n",
       "</style>\n",
       "<table border=\"1\" class=\"dataframe\">\n",
       "  <thead>\n",
       "    <tr style=\"text-align: right;\">\n",
       "      <th></th>\n",
       "      <th>ids</th>\n",
       "      <th>label</th>\n",
       "      <th>gender_expression</th>\n",
       "    </tr>\n",
       "  </thead>\n",
       "  <tbody>\n",
       "    <tr>\n",
       "      <th>0</th>\n",
       "      <td>0</td>\n",
       "      <td>81</td>\n",
       "      <td>male</td>\n",
       "    </tr>\n",
       "    <tr>\n",
       "      <th>1</th>\n",
       "      <td>1</td>\n",
       "      <td>81</td>\n",
       "      <td>male</td>\n",
       "    </tr>\n",
       "    <tr>\n",
       "      <th>2</th>\n",
       "      <td>2</td>\n",
       "      <td>81</td>\n",
       "      <td>male</td>\n",
       "    </tr>\n",
       "    <tr>\n",
       "      <th>3</th>\n",
       "      <td>3</td>\n",
       "      <td>13</td>\n",
       "      <td>male</td>\n",
       "    </tr>\n",
       "    <tr>\n",
       "      <th>4</th>\n",
       "      <td>4</td>\n",
       "      <td>13</td>\n",
       "      <td>male</td>\n",
       "    </tr>\n",
       "    <tr>\n",
       "      <th>...</th>\n",
       "      <td>...</td>\n",
       "      <td>...</td>\n",
       "      <td>...</td>\n",
       "    </tr>\n",
       "    <tr>\n",
       "      <th>30595</th>\n",
       "      <td>30595</td>\n",
       "      <td>275</td>\n",
       "      <td>female</td>\n",
       "    </tr>\n",
       "    <tr>\n",
       "      <th>30596</th>\n",
       "      <td>30596</td>\n",
       "      <td>266</td>\n",
       "      <td>female</td>\n",
       "    </tr>\n",
       "    <tr>\n",
       "      <th>30597</th>\n",
       "      <td>30597</td>\n",
       "      <td>359</td>\n",
       "      <td>female</td>\n",
       "    </tr>\n",
       "    <tr>\n",
       "      <th>30598</th>\n",
       "      <td>30598</td>\n",
       "      <td>302</td>\n",
       "      <td>female</td>\n",
       "    </tr>\n",
       "    <tr>\n",
       "      <th>30599</th>\n",
       "      <td>30599</td>\n",
       "      <td>341</td>\n",
       "      <td>female</td>\n",
       "    </tr>\n",
       "  </tbody>\n",
       "</table>\n",
       "<p>30600 rows × 3 columns</p>\n",
       "</div>"
      ],
      "text/plain": [
       "         ids  label gender_expression\n",
       "0          0     81              male\n",
       "1          1     81              male\n",
       "2          2     81              male\n",
       "3          3     13              male\n",
       "4          4     13              male\n",
       "...      ...    ...               ...\n",
       "30595  30595    275            female\n",
       "30596  30596    266            female\n",
       "30597  30597    359            female\n",
       "30598  30598    302            female\n",
       "30599  30599    341            female\n",
       "\n",
       "[30600 rows x 3 columns]"
      ]
     },
     "execution_count": 82,
     "metadata": {},
     "output_type": "execute_result"
    }
   ],
   "source": [
    "metadata"
   ]
  },
  {
   "cell_type": "code",
   "execution_count": 83,
   "metadata": {},
   "outputs": [],
   "source": [
    "df = pickle_df\n",
    "df = df[[x for x in df.columns if 'nearest_by_id' in x]]\n",
    "df.reset_index(inplace=True)\n",
    "df = df.rename(columns = {'index':'ids'})\n",
    "df = metadata.merge(df)\n"
   ]
  },
  {
   "cell_type": "code",
   "execution_count": 68,
   "metadata": {},
   "outputs": [
    {
     "data": {
      "text/html": [
       "<div>\n",
       "<style scoped>\n",
       "    .dataframe tbody tr th:only-of-type {\n",
       "        vertical-align: middle;\n",
       "    }\n",
       "\n",
       "    .dataframe tbody tr th {\n",
       "        vertical-align: top;\n",
       "    }\n",
       "\n",
       "    .dataframe thead th {\n",
       "        text-align: right;\n",
       "    }\n",
       "</style>\n",
       "<table border=\"1\" class=\"dataframe\">\n",
       "  <thead>\n",
       "    <tr style=\"text-align: right;\">\n",
       "      <th></th>\n",
       "      <th>ids</th>\n",
       "      <th>label</th>\n",
       "      <th>gender_expression</th>\n",
       "      <th>nearest_by_id</th>\n",
       "    </tr>\n",
       "  </thead>\n",
       "  <tbody>\n",
       "    <tr>\n",
       "      <th>0</th>\n",
       "      <td>0</td>\n",
       "      <td>50</td>\n",
       "      <td>male</td>\n",
       "      <td>0.0</td>\n",
       "    </tr>\n",
       "    <tr>\n",
       "      <th>1</th>\n",
       "      <td>1</td>\n",
       "      <td>50</td>\n",
       "      <td>male</td>\n",
       "      <td>0.0</td>\n",
       "    </tr>\n",
       "    <tr>\n",
       "      <th>2</th>\n",
       "      <td>2</td>\n",
       "      <td>50</td>\n",
       "      <td>male</td>\n",
       "      <td>0.0</td>\n",
       "    </tr>\n",
       "    <tr>\n",
       "      <th>3</th>\n",
       "      <td>3</td>\n",
       "      <td>22</td>\n",
       "      <td>male</td>\n",
       "      <td>0.0</td>\n",
       "    </tr>\n",
       "    <tr>\n",
       "      <th>4</th>\n",
       "      <td>4</td>\n",
       "      <td>22</td>\n",
       "      <td>male</td>\n",
       "      <td>0.0</td>\n",
       "    </tr>\n",
       "  </tbody>\n",
       "</table>\n",
       "</div>"
      ],
      "text/plain": [
       "   ids  label gender_expression  nearest_by_id\n",
       "0    0     50              male            0.0\n",
       "1    1     50              male            0.0\n",
       "2    2     50              male            0.0\n",
       "3    3     22              male            0.0\n",
       "4    4     22              male            0.0"
      ]
     },
     "execution_count": 68,
     "metadata": {},
     "output_type": "execute_result"
    }
   ],
   "source": [
    "df.head()"
   ]
  },
  {
   "cell_type": "code",
   "execution_count": 84,
   "metadata": {},
   "outputs": [],
   "source": [
    "err = err_from_rank_func(df,\"nearest_by_id\" )"
   ]
  },
  {
   "cell_type": "code",
   "execution_count": 85,
   "metadata": {},
   "outputs": [
    {
     "data": {
      "text/plain": [
       "0.9521241830065359"
      ]
     },
     "execution_count": 85,
     "metadata": {},
     "output_type": "execute_result"
    }
   ],
   "source": [
    "1-err"
   ]
  },
  {
   "cell_type": "code",
   "execution_count": 86,
   "metadata": {},
   "outputs": [
    {
     "data": {
      "text/plain": [
       "0.40810457516339865"
      ]
     },
     "execution_count": 86,
     "metadata": {},
     "output_type": "execute_result"
    }
   ],
   "source": [
    "rank_func(df,\"nearest_by_id\" )"
   ]
  },
  {
   "cell_type": "code",
   "execution_count": 88,
   "metadata": {},
   "outputs": [
    {
     "data": {
      "text/plain": [
       "0.47010992320433664"
      ]
     },
     "execution_count": 88,
     "metadata": {},
     "output_type": "execute_result"
    }
   ],
   "source": [
    "rank_ratio_func(df,\"nearest_by_id\" )"
   ]
  },
  {
   "cell_type": "code",
   "execution_count": 90,
   "metadata": {},
   "outputs": [
    {
     "data": {
      "text/plain": [
       "0.5721247563352827"
      ]
     },
     "execution_count": 90,
     "metadata": {},
     "output_type": "execute_result"
    }
   ],
   "source": [
    "ratio_errors_func(df,\"nearest_by_id\" )"
   ]
  },
  {
   "cell_type": "code",
   "execution_count": 92,
   "metadata": {},
   "outputs": [
    {
     "data": {
      "text/plain": [
       "0.04112372145159027"
      ]
     },
     "execution_count": 92,
     "metadata": {},
     "output_type": "execute_result"
    }
   ],
   "source": [
    "stat_parity_ratio_func(df,\"nearest_by_id\" )"
   ]
  },
  {
   "cell_type": "code",
   "execution_count": 94,
   "metadata": {},
   "outputs": [
    {
     "data": {
      "text/plain": [
       "0.038366013071895355"
      ]
     },
     "execution_count": 94,
     "metadata": {},
     "output_type": "execute_result"
    }
   ],
   "source": [
    "stat_parity_func(df,\"nearest_by_id\" )"
   ]
  },
  {
   "cell_type": "code",
   "execution_count": 93,
   "metadata": {},
   "outputs": [],
   "source": [
    "def stat_parity_func(df, epoch_columns):\n",
    "    # calculate the violation of statistical parity\n",
    "    data = {}\n",
    "    for g,g_df in df.groupby('gender_expression'):\n",
    "        data[g] = (g_df[epoch_columns]==0).sum(axis=0)/g_df.shape[0]\n",
    "    return abs(data['male'] - data['female'])"
   ]
  },
  {
   "cell_type": "code",
   "execution_count": 91,
   "metadata": {},
   "outputs": [],
   "source": [
    "def stat_parity_ratio_func(df, epoch_columns):\n",
    "    # calculate the violation of statistical parity\n",
    "    data = {}\n",
    "    for g,g_df in df.groupby('gender_expression'):\n",
    "        data[g] = (g_df[epoch_columns]==0).sum(axis=0)/g_df.shape[0]\n",
    "    return np.abs(1-data['male']/data['female'])"
   ]
  },
  {
   "cell_type": "code",
   "execution_count": 89,
   "metadata": {},
   "outputs": [],
   "source": [
    "def ratio_errors_func(df, epoch_columns):\n",
    "    # calculate the violation of statistical parity\n",
    "    data = {}\n",
    "    for g,g_df in df.groupby('gender_expression'):\n",
    "        data[g] = (g_df[epoch_columns]!=0).sum(axis=0)/g_df.shape[0]\n",
    "    return np.abs(1-data['male']/data['female'])"
   ]
  },
  {
   "cell_type": "code",
   "execution_count": 87,
   "metadata": {},
   "outputs": [],
   "source": [
    "def rank_ratio_func(df, epoch_columns):\n",
    "    # calculate the violation of statistical parity\n",
    "    data = {}\n",
    "    for g,g_df in df.groupby('gender_expression'):\n",
    "        data[g] = (g_df[epoch_columns]).sum(axis=0)/g_df.shape[0]\n",
    "    return np.abs(1-data['male']/data['female'])"
   ]
  },
  {
   "cell_type": "code",
   "execution_count": 72,
   "metadata": {},
   "outputs": [],
   "source": [
    "def rank_func(df, epoch_columns):\n",
    "    # calculate the violation of statistical parity\n",
    "    data = {}\n",
    "    for g,g_df in df.groupby('gender_expression'):\n",
    "        data[g] = (g_df[epoch_columns]).sum(axis=0)/g_df.shape[0]\n",
    "    return abs(data['male']-data['female'])"
   ]
  },
  {
   "cell_type": "code",
   "execution_count": 69,
   "metadata": {},
   "outputs": [],
   "source": [
    "def err_from_rank_func(df, epoch_columns):\n",
    "    # calculate the accuracy \n",
    "    return (df[epoch_columns] != 0).sum(axis=0)/df.shape[0]"
   ]
  },
  {
   "cell_type": "code",
   "execution_count": 53,
   "metadata": {},
   "outputs": [],
   "source": [
    "vgg = merge(acc_df_vgg, acc_disp_df_vgg)\n",
    "vgg = merge(vgg, rank_df_vgg)\n",
    "vgg = vgg.rename(columns={\"Metric\": \"Rank Disparity\", \"Accuracy\": \"Error\"})\n",
    "vgg = merge(vgg, acc_disp_ratio_df_vgg)\n",
    "vgg = vgg.rename(columns={\"Metric\": \"Ratio\"})\n",
    "vgg = merge(vgg, rank_ratio_df_vgg)\n",
    "vgg = vgg.rename(columns={\"Metric\": \"Rank Ratio\"})\n",
    "vgg = merge(vgg, error_ratio_df_vgg)\n",
    "vgg = vgg.rename(columns={\"Metric\": \"Error Ratio\"})"
   ]
  },
  {
   "cell_type": "code",
   "execution_count": 56,
   "metadata": {},
   "outputs": [
    {
     "data": {
      "text/html": [
       "<div>\n",
       "<style scoped>\n",
       "    .dataframe tbody tr th:only-of-type {\n",
       "        vertical-align: middle;\n",
       "    }\n",
       "\n",
       "    .dataframe tbody tr th {\n",
       "        vertical-align: top;\n",
       "    }\n",
       "\n",
       "    .dataframe thead th {\n",
       "        text-align: right;\n",
       "    }\n",
       "</style>\n",
       "<table border=\"1\" class=\"dataframe\">\n",
       "  <thead>\n",
       "    <tr style=\"text-align: right;\">\n",
       "      <th></th>\n",
       "      <th>index</th>\n",
       "      <th>epoch</th>\n",
       "      <th>Error</th>\n",
       "      <th>Disparity</th>\n",
       "      <th>Rank Disparity</th>\n",
       "      <th>Ratio</th>\n",
       "      <th>Rank Ratio</th>\n",
       "      <th>Error Ratio</th>\n",
       "    </tr>\n",
       "  </thead>\n",
       "  <tbody>\n",
       "    <tr>\n",
       "      <th>0</th>\n",
       "      <td>Checkpoints_Edges_108_LR_0.0001_Head_CosFace_O...</td>\n",
       "      <td>9</td>\n",
       "      <td>NaN</td>\n",
       "      <td>NaN</td>\n",
       "      <td>NaN</td>\n",
       "      <td>NaN</td>\n",
       "      <td>NaN</td>\n",
       "      <td>NaN</td>\n",
       "    </tr>\n",
       "  </tbody>\n",
       "</table>\n",
       "</div>"
      ],
      "text/plain": [
       "                                               index  epoch Error Disparity  \\\n",
       "0  Checkpoints_Edges_108_LR_0.0001_Head_CosFace_O...      9   NaN       NaN   \n",
       "\n",
       "  Rank Disparity Ratio Rank Ratio Error Ratio  \n",
       "0            NaN   NaN        NaN         NaN  "
      ]
     },
     "execution_count": 56,
     "metadata": {},
     "output_type": "execute_result"
    }
   ],
   "source": [
    "vgg"
   ]
  },
  {
   "cell_type": "code",
   "execution_count": 101,
   "metadata": {},
   "outputs": [],
   "source": [
    "metadata = pd.read_csv('/work/dlclarge2/sukthank-ZCP_Competition/NeurIPS2023/FR-NAS/celeba/test_identities_gender-expression_seed_222.csv')"
   ]
  },
  {
   "cell_type": "code",
   "execution_count": 102,
   "metadata": {},
   "outputs": [],
   "source": [
    "epochs = ['epoch_100']"
   ]
  },
  {
   "cell_type": "code",
   "execution_count": 103,
   "metadata": {},
   "outputs": [],
   "source": [
    "acc_df, acc_disp_df, rank_df = analyze_rank_files(rank_files, metadata, epochs=epochs)"
   ]
  },
  {
   "cell_type": "code",
   "execution_count": 31,
   "metadata": {},
   "outputs": [
    {
     "data": {
      "text/html": [
       "<div>\n",
       "<style scoped>\n",
       "    .dataframe tbody tr th:only-of-type {\n",
       "        vertical-align: middle;\n",
       "    }\n",
       "\n",
       "    .dataframe tbody tr th {\n",
       "        vertical-align: top;\n",
       "    }\n",
       "\n",
       "    .dataframe thead th {\n",
       "        text-align: right;\n",
       "    }\n",
       "</style>\n",
       "<table border=\"1\" class=\"dataframe\">\n",
       "  <thead>\n",
       "    <tr style=\"text-align: right;\">\n",
       "      <th></th>\n",
       "      <th>index</th>\n",
       "      <th>epoch</th>\n",
       "      <th>Metric</th>\n",
       "    </tr>\n",
       "  </thead>\n",
       "  <tbody>\n",
       "    <tr>\n",
       "      <th>0</th>\n",
       "      <td>densenet_333</td>\n",
       "      <td>100</td>\n",
       "      <td>0.079885</td>\n",
       "    </tr>\n",
       "    <tr>\n",
       "      <th>1</th>\n",
       "      <td>densenet_444</td>\n",
       "      <td>100</td>\n",
       "      <td>0.147197</td>\n",
       "    </tr>\n",
       "    <tr>\n",
       "      <th>2</th>\n",
       "      <td>densenet_555</td>\n",
       "      <td>100</td>\n",
       "      <td>0.140257</td>\n",
       "    </tr>\n",
       "    <tr>\n",
       "      <th>3</th>\n",
       "      <td>densenet_666</td>\n",
       "      <td>100</td>\n",
       "      <td>0.079885</td>\n",
       "    </tr>\n",
       "    <tr>\n",
       "      <th>4</th>\n",
       "      <td>dpn107_CosFace_SGD_333</td>\n",
       "      <td>100</td>\n",
       "      <td>0.040597</td>\n",
       "    </tr>\n",
       "    <tr>\n",
       "      <th>5</th>\n",
       "      <td>dpn107_CosFace_SGD_444</td>\n",
       "      <td>100</td>\n",
       "      <td>0.034835</td>\n",
       "    </tr>\n",
       "    <tr>\n",
       "      <th>6</th>\n",
       "      <td>dpn107_CosFace_SGD_555</td>\n",
       "      <td>100</td>\n",
       "      <td>0.040204</td>\n",
       "    </tr>\n",
       "    <tr>\n",
       "      <th>7</th>\n",
       "      <td>dpn107_CosFace_SGD_666</td>\n",
       "      <td>100</td>\n",
       "      <td>0.038240</td>\n",
       "    </tr>\n",
       "    <tr>\n",
       "      <th>8</th>\n",
       "      <td>dpn107_MagFace_SGD_444</td>\n",
       "      <td>100</td>\n",
       "      <td>0.102803</td>\n",
       "    </tr>\n",
       "    <tr>\n",
       "      <th>9</th>\n",
       "      <td>dpn107_MagFace_SGD_444_act</td>\n",
       "      <td>100</td>\n",
       "      <td>0.078444</td>\n",
       "    </tr>\n",
       "    <tr>\n",
       "      <th>10</th>\n",
       "      <td>dpn107_MagFace_SGD_555</td>\n",
       "      <td>100</td>\n",
       "      <td>0.078968</td>\n",
       "    </tr>\n",
       "    <tr>\n",
       "      <th>11</th>\n",
       "      <td>dpn107_MagFace_SGD_666</td>\n",
       "      <td>100</td>\n",
       "      <td>0.067837</td>\n",
       "    </tr>\n",
       "    <tr>\n",
       "      <th>12</th>\n",
       "      <td>rexnet_200_333</td>\n",
       "      <td>100</td>\n",
       "      <td>0.068360</td>\n",
       "    </tr>\n",
       "    <tr>\n",
       "      <th>13</th>\n",
       "      <td>rexnet_200_444</td>\n",
       "      <td>100</td>\n",
       "      <td>0.065610</td>\n",
       "    </tr>\n",
       "    <tr>\n",
       "      <th>14</th>\n",
       "      <td>rexnet_200_555</td>\n",
       "      <td>100</td>\n",
       "      <td>0.064432</td>\n",
       "    </tr>\n",
       "    <tr>\n",
       "      <th>15</th>\n",
       "      <td>rexnet_200_666</td>\n",
       "      <td>100</td>\n",
       "      <td>0.068098</td>\n",
       "    </tr>\n",
       "    <tr>\n",
       "      <th>16</th>\n",
       "      <td>ese_vovnet39b_333</td>\n",
       "      <td>100</td>\n",
       "      <td>0.040859</td>\n",
       "    </tr>\n",
       "    <tr>\n",
       "      <th>17</th>\n",
       "      <td>ese_vovnet39b_444</td>\n",
       "      <td>100</td>\n",
       "      <td>0.116160</td>\n",
       "    </tr>\n",
       "    <tr>\n",
       "      <th>18</th>\n",
       "      <td>ese_vovnet39b_666</td>\n",
       "      <td>100</td>\n",
       "      <td>0.028680</td>\n",
       "    </tr>\n",
       "    <tr>\n",
       "      <th>19</th>\n",
       "      <td>ese_vovnet39b_555</td>\n",
       "      <td>100</td>\n",
       "      <td>0.024620</td>\n",
       "    </tr>\n",
       "    <tr>\n",
       "      <th>20</th>\n",
       "      <td>mobilenetv3_large_100_333</td>\n",
       "      <td>100</td>\n",
       "      <td>0.141435</td>\n",
       "    </tr>\n",
       "    <tr>\n",
       "      <th>21</th>\n",
       "      <td>mobilenetv3_large_100_444</td>\n",
       "      <td>100</td>\n",
       "      <td>0.125720</td>\n",
       "    </tr>\n",
       "    <tr>\n",
       "      <th>22</th>\n",
       "      <td>mobilenetv3_large_100_555</td>\n",
       "      <td>100</td>\n",
       "      <td>0.124542</td>\n",
       "    </tr>\n",
       "    <tr>\n",
       "      <th>23</th>\n",
       "      <td>mobilenetv3_large_100_666</td>\n",
       "      <td>100</td>\n",
       "      <td>0.122446</td>\n",
       "    </tr>\n",
       "    <tr>\n",
       "      <th>24</th>\n",
       "      <td>model_000_333</td>\n",
       "      <td>100</td>\n",
       "      <td>0.014144</td>\n",
       "    </tr>\n",
       "    <tr>\n",
       "      <th>25</th>\n",
       "      <td>model_000_444</td>\n",
       "      <td>100</td>\n",
       "      <td>0.014929</td>\n",
       "    </tr>\n",
       "    <tr>\n",
       "      <th>26</th>\n",
       "      <td>model_000_555</td>\n",
       "      <td>100</td>\n",
       "      <td>0.014929</td>\n",
       "    </tr>\n",
       "    <tr>\n",
       "      <th>27</th>\n",
       "      <td>model_000_666</td>\n",
       "      <td>100</td>\n",
       "      <td>0.014929</td>\n",
       "    </tr>\n",
       "    <tr>\n",
       "      <th>28</th>\n",
       "      <td>model_010_333</td>\n",
       "      <td>100</td>\n",
       "      <td>0.017156</td>\n",
       "    </tr>\n",
       "    <tr>\n",
       "      <th>29</th>\n",
       "      <td>model_010_666</td>\n",
       "      <td>100</td>\n",
       "      <td>0.017287</td>\n",
       "    </tr>\n",
       "    <tr>\n",
       "      <th>30</th>\n",
       "      <td>model_010_444</td>\n",
       "      <td>100</td>\n",
       "      <td>0.021608</td>\n",
       "    </tr>\n",
       "    <tr>\n",
       "      <th>31</th>\n",
       "      <td>model_010_555</td>\n",
       "      <td>100</td>\n",
       "      <td>0.018072</td>\n",
       "    </tr>\n",
       "    <tr>\n",
       "      <th>32</th>\n",
       "      <td>model_680_333</td>\n",
       "      <td>100</td>\n",
       "      <td>0.015977</td>\n",
       "    </tr>\n",
       "    <tr>\n",
       "      <th>33</th>\n",
       "      <td>model_680_555</td>\n",
       "      <td>100</td>\n",
       "      <td>0.015060</td>\n",
       "    </tr>\n",
       "    <tr>\n",
       "      <th>34</th>\n",
       "      <td>model_680_666</td>\n",
       "      <td>100</td>\n",
       "      <td>0.016632</td>\n",
       "    </tr>\n",
       "    <tr>\n",
       "      <th>35</th>\n",
       "      <td>model_680_444</td>\n",
       "      <td>100</td>\n",
       "      <td>0.016239</td>\n",
       "    </tr>\n",
       "  </tbody>\n",
       "</table>\n",
       "</div>"
      ],
      "text/plain": [
       "                         index  epoch    Metric\n",
       "0                 densenet_333    100  0.079885\n",
       "1                 densenet_444    100  0.147197\n",
       "2                 densenet_555    100  0.140257\n",
       "3                 densenet_666    100  0.079885\n",
       "4       dpn107_CosFace_SGD_333    100  0.040597\n",
       "5       dpn107_CosFace_SGD_444    100  0.034835\n",
       "6       dpn107_CosFace_SGD_555    100  0.040204\n",
       "7       dpn107_CosFace_SGD_666    100  0.038240\n",
       "8       dpn107_MagFace_SGD_444    100  0.102803\n",
       "9   dpn107_MagFace_SGD_444_act    100  0.078444\n",
       "10      dpn107_MagFace_SGD_555    100  0.078968\n",
       "11      dpn107_MagFace_SGD_666    100  0.067837\n",
       "12              rexnet_200_333    100  0.068360\n",
       "13              rexnet_200_444    100  0.065610\n",
       "14              rexnet_200_555    100  0.064432\n",
       "15              rexnet_200_666    100  0.068098\n",
       "16           ese_vovnet39b_333    100  0.040859\n",
       "17           ese_vovnet39b_444    100  0.116160\n",
       "18           ese_vovnet39b_666    100  0.028680\n",
       "19           ese_vovnet39b_555    100  0.024620\n",
       "20   mobilenetv3_large_100_333    100  0.141435\n",
       "21   mobilenetv3_large_100_444    100  0.125720\n",
       "22   mobilenetv3_large_100_555    100  0.124542\n",
       "23   mobilenetv3_large_100_666    100  0.122446\n",
       "24               model_000_333    100  0.014144\n",
       "25               model_000_444    100  0.014929\n",
       "26               model_000_555    100  0.014929\n",
       "27               model_000_666    100  0.014929\n",
       "28               model_010_333    100  0.017156\n",
       "29               model_010_666    100  0.017287\n",
       "30               model_010_444    100  0.021608\n",
       "31               model_010_555    100  0.018072\n",
       "32               model_680_333    100  0.015977\n",
       "33               model_680_555    100  0.015060\n",
       "34               model_680_666    100  0.016632\n",
       "35               model_680_444    100  0.016239"
      ]
     },
     "execution_count": 31,
     "metadata": {},
     "output_type": "execute_result"
    }
   ],
   "source": [
    "acc_disp_df"
   ]
  },
  {
   "cell_type": "code",
   "execution_count": 104,
   "metadata": {},
   "outputs": [],
   "source": [
    "_, acc_disp_ratio_df, rank_ratio_df = analyze_rank_files(rank_files, metadata, ratio=True, epochs=epochs)\n",
    "err_df, error_ratio_df, _ = analyze_rank_files(rank_files, metadata, ratio=True, error=True, epochs=epochs)\n",
    "acc_df['Metric'] = 1 - acc_df['Metric']"
   ]
  },
  {
   "cell_type": "code",
   "execution_count": 105,
   "metadata": {},
   "outputs": [],
   "source": [
    "celeba = merge(acc_df, acc_disp_df)\n",
    "celeba = merge(celeba, rank_df)\n",
    "celeba = celeba.rename(columns={\"Metric\": \"Rank Disparity\", \"Accuracy\": \"Error\"})\n",
    "celeba = merge(celeba, acc_disp_ratio_df)\n",
    "celeba = celeba.rename(columns={\"Metric\": \"Ratio\"})\n",
    "celeba = merge(celeba, rank_ratio_df)\n",
    "celeba = celeba.rename(columns={\"Metric\": \"Rank Ratio\"})\n",
    "celeba = merge(celeba, error_ratio_df)\n",
    "celeba = celeba.rename(columns={\"Metric\": \"Error Ratio\"})\n",
    "celeba.to_csv(\"celeba_test_phase2.csv\", index=False)"
   ]
  },
  {
   "cell_type": "code",
   "execution_count": 35,
   "metadata": {},
   "outputs": [
    {
     "data": {
      "text/html": [
       "<div>\n",
       "<style scoped>\n",
       "    .dataframe tbody tr th:only-of-type {\n",
       "        vertical-align: middle;\n",
       "    }\n",
       "\n",
       "    .dataframe tbody tr th {\n",
       "        vertical-align: top;\n",
       "    }\n",
       "\n",
       "    .dataframe thead th {\n",
       "        text-align: right;\n",
       "    }\n",
       "</style>\n",
       "<table border=\"1\" class=\"dataframe\">\n",
       "  <thead>\n",
       "    <tr style=\"text-align: right;\">\n",
       "      <th></th>\n",
       "      <th>index</th>\n",
       "      <th>epoch</th>\n",
       "      <th>Error</th>\n",
       "      <th>Disparity</th>\n",
       "      <th>Rank Disparity</th>\n",
       "      <th>Ratio</th>\n",
       "      <th>Rank Ratio</th>\n",
       "      <th>Error Ratio</th>\n",
       "    </tr>\n",
       "  </thead>\n",
       "  <tbody>\n",
       "    <tr>\n",
       "      <th>0</th>\n",
       "      <td>densenet_333</td>\n",
       "      <td>100</td>\n",
       "      <td>0.204819</td>\n",
       "      <td>0.079885</td>\n",
       "      <td>2.018727</td>\n",
       "      <td>0.105774</td>\n",
       "      <td>0.136002</td>\n",
       "      <td>0.326378</td>\n",
       "    </tr>\n",
       "    <tr>\n",
       "      <th>1</th>\n",
       "      <td>densenet_444</td>\n",
       "      <td>100</td>\n",
       "      <td>0.237166</td>\n",
       "      <td>0.147197</td>\n",
       "      <td>10.876113</td>\n",
       "      <td>0.213566</td>\n",
       "      <td>0.367779</td>\n",
       "      <td>0.473662</td>\n",
       "    </tr>\n",
       "    <tr>\n",
       "      <th>2</th>\n",
       "      <td>densenet_555</td>\n",
       "      <td>100</td>\n",
       "      <td>0.218897</td>\n",
       "      <td>0.140257</td>\n",
       "      <td>13.028156</td>\n",
       "      <td>0.197274</td>\n",
       "      <td>0.576479</td>\n",
       "      <td>0.485274</td>\n",
       "    </tr>\n",
       "    <tr>\n",
       "      <th>3</th>\n",
       "      <td>densenet_666</td>\n",
       "      <td>100</td>\n",
       "      <td>0.173782</td>\n",
       "      <td>0.079885</td>\n",
       "      <td>1.087611</td>\n",
       "      <td>0.101599</td>\n",
       "      <td>0.121236</td>\n",
       "      <td>0.373775</td>\n",
       "    </tr>\n",
       "    <tr>\n",
       "      <th>4</th>\n",
       "      <td>dpn107_CosFace_SGD_333</td>\n",
       "      <td>100</td>\n",
       "      <td>0.050288</td>\n",
       "      <td>0.040597</td>\n",
       "      <td>2.875196</td>\n",
       "      <td>0.043680</td>\n",
       "      <td>0.538126</td>\n",
       "      <td>0.575139</td>\n",
       "    </tr>\n",
       "  </tbody>\n",
       "</table>\n",
       "</div>"
      ],
      "text/plain": [
       "                    index  epoch     Error  Disparity  Rank Disparity  \\\n",
       "0            densenet_333    100  0.204819   0.079885        2.018727   \n",
       "1            densenet_444    100  0.237166   0.147197       10.876113   \n",
       "2            densenet_555    100  0.218897   0.140257       13.028156   \n",
       "3            densenet_666    100  0.173782   0.079885        1.087611   \n",
       "4  dpn107_CosFace_SGD_333    100  0.050288   0.040597        2.875196   \n",
       "\n",
       "      Ratio  Rank Ratio  Error Ratio  \n",
       "0  0.105774    0.136002     0.326378  \n",
       "1  0.213566    0.367779     0.473662  \n",
       "2  0.197274    0.576479     0.485274  \n",
       "3  0.101599    0.121236     0.373775  \n",
       "4  0.043680    0.538126     0.575139  "
      ]
     },
     "execution_count": 35,
     "metadata": {},
     "output_type": "execute_result"
    }
   ],
   "source": [
    "celeba.head()"
   ]
  },
  {
   "cell_type": "code",
   "execution_count": 43,
   "metadata": {},
   "outputs": [],
   "source": [
    "def plot_figure(metric_name, metric_suffix, split, df):\n",
    "    colors = ['#e6194B', '#3cb44b', '#ffe119','#f58231','#42d4f4',\n",
    "              '#f032e6','#fabed4','#469990','#aaffc3','#000075','#e6194B','#9a6324','#dcbeff', '#42d4f4']\n",
    "    plotted_models = ['DPN','ReXNet', 'Other', 'TNT', 'Inception', 'HRNet', 'EseVoVNet', 'VGG19', 'ResNet-RS', \n",
    "                     'DenseNet', 'DPN_MagFace', 'DPN_CosFace', 'SMAC', 'Swin_Transformer']\n",
    "    color_map = {}\n",
    "    for c,m in zip(colors,plotted_models):\n",
    "        color_map[m] = c\n",
    "    fig = px.scatter(df, \n",
    "                     x='Accuracy_mean', \n",
    "                     y=f'{metric_name}_mean', \n",
    "                     error_x = \"Accuracy_std\", \n",
    "                     error_y = f\"{metric_name}_std\", \n",
    "                     color=\"Model\", \n",
    "                     color_discrete_map=color_map,\n",
    "                     template=\"simple_white\",\n",
    "                     width=1200, height= 1000\n",
    "                    )\n",
    "    if metric_name == 'Rank Disparity':\n",
    "        fig.update_layout(\n",
    "            xaxis_range=[0,0.15],\n",
    "            yaxis_range=[-.01,.6]\n",
    "        )\n",
    "    fig.update_layout(\n",
    "        xaxis_title=\"Error\",\n",
    "        yaxis_title=metric_name,\n",
    "        legend_title=\"Models\",\n",
    "        font=dict(\n",
    "            family=\"Times New Roman\",\n",
    "            size=38,\n",
    "            color=\"Black\"\n",
    "        )\n",
    "    )\n",
    "    fig.update_traces(marker=dict(size=20))\n",
    "    fig.update_layout(legend=dict(\n",
    "        orientation=\"h\",\n",
    "        yanchor=\"bottom\",\n",
    "        y=1.02,\n",
    "        xanchor=\"right\",\n",
    "        x=1,\n",
    "        font=dict(\n",
    "            family=\"Times New Roman\",\n",
    "            size=28,\n",
    "            color=\"Black\"\n",
    "        )\n",
    "    ))\n",
    "    p = np.array(preparePareto(df[['Accuracy_mean',f'{metric_name}_mean']], False, False).dropna())\n",
    "    for x, y in zip(p[:-1], p[1:]):\n",
    "        fig.add_shape(type='line',\n",
    "                    x0=x[0],y0=x[1],x1=y[0],y1=y[1],\n",
    "                    line=dict(color='gray',width=4),line_dash='dash',\n",
    "                    xref='x',yref='y')\n",
    "    # plotly.io.write_image(fig, f'_RQ2_{split}_vgg_{metric_suffix}.png', format='png')\n",
    "    fig.show()"
   ]
  },
  {
   "cell_type": "code",
   "execution_count": 44,
   "metadata": {},
   "outputs": [
    {
     "ename": "ValueError",
     "evalue": "Value of 'x' is not the name of a column in 'data_frame'. Expected one of ['index', 'epoch', 'Error', 'Disparity', 'Rank Disparity', 'Ratio', 'Rank Ratio', 'Error Ratio'] but received: Accuracy_mean",
     "output_type": "error",
     "traceback": [
      "\u001b[0;31m---------------------------------------------------------------------------\u001b[0m",
      "\u001b[0;31mValueError\u001b[0m                                Traceback (most recent call last)",
      "\u001b[1;32m/work/dlclarge2/sukthank-ZCP_Competition/NeurIPS2023/FR-NAS/analysis/celba_analysis.ipynb Cell 12\u001b[0m in \u001b[0;36m<cell line: 1>\u001b[0;34m()\u001b[0m\n\u001b[0;32m----> <a href='vscode-notebook-cell://ssh-remote%2Bkislogin2.rz.ki.privat/work/dlclarge2/sukthank-ZCP_Competition/NeurIPS2023/FR-NAS/analysis/celba_analysis.ipynb#X14sdnNjb2RlLXJlbW90ZQ%3D%3D?line=0'>1</a>\u001b[0m plot_figure(\u001b[39m'\u001b[39;49m\u001b[39mRank Disparity\u001b[39;49m\u001b[39m'\u001b[39;49m, \u001b[39m'\u001b[39;49m\u001b[39mrankdisparity\u001b[39;49m\u001b[39m'\u001b[39;49m, \u001b[39m'\u001b[39;49m\u001b[39mval\u001b[39;49m\u001b[39m'\u001b[39;49m, celeba)\n",
      "\u001b[1;32m/work/dlclarge2/sukthank-ZCP_Competition/NeurIPS2023/FR-NAS/analysis/celba_analysis.ipynb Cell 12\u001b[0m in \u001b[0;36mplot_figure\u001b[0;34m(metric_name, metric_suffix, split, df)\u001b[0m\n\u001b[1;32m      <a href='vscode-notebook-cell://ssh-remote%2Bkislogin2.rz.ki.privat/work/dlclarge2/sukthank-ZCP_Competition/NeurIPS2023/FR-NAS/analysis/celba_analysis.ipynb#X14sdnNjb2RlLXJlbW90ZQ%3D%3D?line=6'>7</a>\u001b[0m \u001b[39mfor\u001b[39;00m c,m \u001b[39min\u001b[39;00m \u001b[39mzip\u001b[39m(colors,plotted_models):\n\u001b[1;32m      <a href='vscode-notebook-cell://ssh-remote%2Bkislogin2.rz.ki.privat/work/dlclarge2/sukthank-ZCP_Competition/NeurIPS2023/FR-NAS/analysis/celba_analysis.ipynb#X14sdnNjb2RlLXJlbW90ZQ%3D%3D?line=7'>8</a>\u001b[0m     color_map[m] \u001b[39m=\u001b[39m c\n\u001b[0;32m----> <a href='vscode-notebook-cell://ssh-remote%2Bkislogin2.rz.ki.privat/work/dlclarge2/sukthank-ZCP_Competition/NeurIPS2023/FR-NAS/analysis/celba_analysis.ipynb#X14sdnNjb2RlLXJlbW90ZQ%3D%3D?line=8'>9</a>\u001b[0m fig \u001b[39m=\u001b[39m px\u001b[39m.\u001b[39;49mscatter(df, \n\u001b[1;32m     <a href='vscode-notebook-cell://ssh-remote%2Bkislogin2.rz.ki.privat/work/dlclarge2/sukthank-ZCP_Competition/NeurIPS2023/FR-NAS/analysis/celba_analysis.ipynb#X14sdnNjb2RlLXJlbW90ZQ%3D%3D?line=9'>10</a>\u001b[0m                  x\u001b[39m=\u001b[39;49m\u001b[39m'\u001b[39;49m\u001b[39mAccuracy_mean\u001b[39;49m\u001b[39m'\u001b[39;49m, \n\u001b[1;32m     <a href='vscode-notebook-cell://ssh-remote%2Bkislogin2.rz.ki.privat/work/dlclarge2/sukthank-ZCP_Competition/NeurIPS2023/FR-NAS/analysis/celba_analysis.ipynb#X14sdnNjb2RlLXJlbW90ZQ%3D%3D?line=10'>11</a>\u001b[0m                  y\u001b[39m=\u001b[39;49m\u001b[39mf\u001b[39;49m\u001b[39m'\u001b[39;49m\u001b[39m{\u001b[39;49;00mmetric_name\u001b[39m}\u001b[39;49;00m\u001b[39m_mean\u001b[39;49m\u001b[39m'\u001b[39;49m, \n\u001b[1;32m     <a href='vscode-notebook-cell://ssh-remote%2Bkislogin2.rz.ki.privat/work/dlclarge2/sukthank-ZCP_Competition/NeurIPS2023/FR-NAS/analysis/celba_analysis.ipynb#X14sdnNjb2RlLXJlbW90ZQ%3D%3D?line=11'>12</a>\u001b[0m                  error_x \u001b[39m=\u001b[39;49m \u001b[39m\"\u001b[39;49m\u001b[39mAccuracy_std\u001b[39;49m\u001b[39m\"\u001b[39;49m, \n\u001b[1;32m     <a href='vscode-notebook-cell://ssh-remote%2Bkislogin2.rz.ki.privat/work/dlclarge2/sukthank-ZCP_Competition/NeurIPS2023/FR-NAS/analysis/celba_analysis.ipynb#X14sdnNjb2RlLXJlbW90ZQ%3D%3D?line=12'>13</a>\u001b[0m                  error_y \u001b[39m=\u001b[39;49m \u001b[39mf\u001b[39;49m\u001b[39m\"\u001b[39;49m\u001b[39m{\u001b[39;49;00mmetric_name\u001b[39m}\u001b[39;49;00m\u001b[39m_std\u001b[39;49m\u001b[39m\"\u001b[39;49m, \n\u001b[1;32m     <a href='vscode-notebook-cell://ssh-remote%2Bkislogin2.rz.ki.privat/work/dlclarge2/sukthank-ZCP_Competition/NeurIPS2023/FR-NAS/analysis/celba_analysis.ipynb#X14sdnNjb2RlLXJlbW90ZQ%3D%3D?line=13'>14</a>\u001b[0m                  color\u001b[39m=\u001b[39;49m\u001b[39m\"\u001b[39;49m\u001b[39mModel\u001b[39;49m\u001b[39m\"\u001b[39;49m, \n\u001b[1;32m     <a href='vscode-notebook-cell://ssh-remote%2Bkislogin2.rz.ki.privat/work/dlclarge2/sukthank-ZCP_Competition/NeurIPS2023/FR-NAS/analysis/celba_analysis.ipynb#X14sdnNjb2RlLXJlbW90ZQ%3D%3D?line=14'>15</a>\u001b[0m                  color_discrete_map\u001b[39m=\u001b[39;49mcolor_map,\n\u001b[1;32m     <a href='vscode-notebook-cell://ssh-remote%2Bkislogin2.rz.ki.privat/work/dlclarge2/sukthank-ZCP_Competition/NeurIPS2023/FR-NAS/analysis/celba_analysis.ipynb#X14sdnNjb2RlLXJlbW90ZQ%3D%3D?line=15'>16</a>\u001b[0m                  template\u001b[39m=\u001b[39;49m\u001b[39m\"\u001b[39;49m\u001b[39msimple_white\u001b[39;49m\u001b[39m\"\u001b[39;49m,\n\u001b[1;32m     <a href='vscode-notebook-cell://ssh-remote%2Bkislogin2.rz.ki.privat/work/dlclarge2/sukthank-ZCP_Competition/NeurIPS2023/FR-NAS/analysis/celba_analysis.ipynb#X14sdnNjb2RlLXJlbW90ZQ%3D%3D?line=16'>17</a>\u001b[0m                  width\u001b[39m=\u001b[39;49m\u001b[39m1200\u001b[39;49m, height\u001b[39m=\u001b[39;49m \u001b[39m1000\u001b[39;49m\n\u001b[1;32m     <a href='vscode-notebook-cell://ssh-remote%2Bkislogin2.rz.ki.privat/work/dlclarge2/sukthank-ZCP_Competition/NeurIPS2023/FR-NAS/analysis/celba_analysis.ipynb#X14sdnNjb2RlLXJlbW90ZQ%3D%3D?line=17'>18</a>\u001b[0m                 )\n\u001b[1;32m     <a href='vscode-notebook-cell://ssh-remote%2Bkislogin2.rz.ki.privat/work/dlclarge2/sukthank-ZCP_Competition/NeurIPS2023/FR-NAS/analysis/celba_analysis.ipynb#X14sdnNjb2RlLXJlbW90ZQ%3D%3D?line=18'>19</a>\u001b[0m \u001b[39mif\u001b[39;00m metric_name \u001b[39m==\u001b[39m \u001b[39m'\u001b[39m\u001b[39mRank Disparity\u001b[39m\u001b[39m'\u001b[39m:\n\u001b[1;32m     <a href='vscode-notebook-cell://ssh-remote%2Bkislogin2.rz.ki.privat/work/dlclarge2/sukthank-ZCP_Competition/NeurIPS2023/FR-NAS/analysis/celba_analysis.ipynb#X14sdnNjb2RlLXJlbW90ZQ%3D%3D?line=19'>20</a>\u001b[0m     fig\u001b[39m.\u001b[39mupdate_layout(\n\u001b[1;32m     <a href='vscode-notebook-cell://ssh-remote%2Bkislogin2.rz.ki.privat/work/dlclarge2/sukthank-ZCP_Competition/NeurIPS2023/FR-NAS/analysis/celba_analysis.ipynb#X14sdnNjb2RlLXJlbW90ZQ%3D%3D?line=20'>21</a>\u001b[0m         xaxis_range\u001b[39m=\u001b[39m[\u001b[39m0\u001b[39m,\u001b[39m0.15\u001b[39m],\n\u001b[1;32m     <a href='vscode-notebook-cell://ssh-remote%2Bkislogin2.rz.ki.privat/work/dlclarge2/sukthank-ZCP_Competition/NeurIPS2023/FR-NAS/analysis/celba_analysis.ipynb#X14sdnNjb2RlLXJlbW90ZQ%3D%3D?line=21'>22</a>\u001b[0m         yaxis_range\u001b[39m=\u001b[39m[\u001b[39m-\u001b[39m\u001b[39m.01\u001b[39m,\u001b[39m.6\u001b[39m]\n\u001b[1;32m     <a href='vscode-notebook-cell://ssh-remote%2Bkislogin2.rz.ki.privat/work/dlclarge2/sukthank-ZCP_Competition/NeurIPS2023/FR-NAS/analysis/celba_analysis.ipynb#X14sdnNjb2RlLXJlbW90ZQ%3D%3D?line=22'>23</a>\u001b[0m     )\n",
      "File \u001b[0;32m~/anaconda3/envs/fairnas/lib/python3.9/site-packages/plotly/express/_chart_types.py:66\u001b[0m, in \u001b[0;36mscatter\u001b[0;34m(data_frame, x, y, color, symbol, size, hover_name, hover_data, custom_data, text, facet_row, facet_col, facet_col_wrap, facet_row_spacing, facet_col_spacing, error_x, error_x_minus, error_y, error_y_minus, animation_frame, animation_group, category_orders, labels, orientation, color_discrete_sequence, color_discrete_map, color_continuous_scale, range_color, color_continuous_midpoint, symbol_sequence, symbol_map, opacity, size_max, marginal_x, marginal_y, trendline, trendline_options, trendline_color_override, trendline_scope, log_x, log_y, range_x, range_y, render_mode, title, template, width, height)\u001b[0m\n\u001b[1;32m     12\u001b[0m \u001b[39mdef\u001b[39;00m \u001b[39mscatter\u001b[39m(\n\u001b[1;32m     13\u001b[0m     data_frame\u001b[39m=\u001b[39m\u001b[39mNone\u001b[39;00m,\n\u001b[1;32m     14\u001b[0m     x\u001b[39m=\u001b[39m\u001b[39mNone\u001b[39;00m,\n\u001b[0;32m   (...)\u001b[0m\n\u001b[1;32m     60\u001b[0m     height\u001b[39m=\u001b[39m\u001b[39mNone\u001b[39;00m,\n\u001b[1;32m     61\u001b[0m ):\n\u001b[1;32m     62\u001b[0m \u001b[39m    \u001b[39m\u001b[39m\"\"\"\u001b[39;00m\n\u001b[1;32m     63\u001b[0m \u001b[39m    In a scatter plot, each row of `data_frame` is represented by a symbol\u001b[39;00m\n\u001b[1;32m     64\u001b[0m \u001b[39m    mark in 2D space.\u001b[39;00m\n\u001b[1;32m     65\u001b[0m \u001b[39m    \"\"\"\u001b[39;00m\n\u001b[0;32m---> 66\u001b[0m     \u001b[39mreturn\u001b[39;00m make_figure(args\u001b[39m=\u001b[39;49m\u001b[39mlocals\u001b[39;49m(), constructor\u001b[39m=\u001b[39;49mgo\u001b[39m.\u001b[39;49mScatter)\n",
      "File \u001b[0;32m~/anaconda3/envs/fairnas/lib/python3.9/site-packages/plotly/express/_core.py:1948\u001b[0m, in \u001b[0;36mmake_figure\u001b[0;34m(args, constructor, trace_patch, layout_patch)\u001b[0m\n\u001b[1;32m   1945\u001b[0m layout_patch \u001b[39m=\u001b[39m layout_patch \u001b[39mor\u001b[39;00m {}\n\u001b[1;32m   1946\u001b[0m apply_default_cascade(args)\n\u001b[0;32m-> 1948\u001b[0m args \u001b[39m=\u001b[39m build_dataframe(args, constructor)\n\u001b[1;32m   1949\u001b[0m \u001b[39mif\u001b[39;00m constructor \u001b[39min\u001b[39;00m [go\u001b[39m.\u001b[39mTreemap, go\u001b[39m.\u001b[39mSunburst, go\u001b[39m.\u001b[39mIcicle] \u001b[39mand\u001b[39;00m args[\u001b[39m\"\u001b[39m\u001b[39mpath\u001b[39m\u001b[39m\"\u001b[39m] \u001b[39mis\u001b[39;00m \u001b[39mnot\u001b[39;00m \u001b[39mNone\u001b[39;00m:\n\u001b[1;32m   1950\u001b[0m     args \u001b[39m=\u001b[39m process_dataframe_hierarchy(args)\n",
      "File \u001b[0;32m~/anaconda3/envs/fairnas/lib/python3.9/site-packages/plotly/express/_core.py:1405\u001b[0m, in \u001b[0;36mbuild_dataframe\u001b[0;34m(args, constructor)\u001b[0m\n\u001b[1;32m   1402\u001b[0m     args[\u001b[39m\"\u001b[39m\u001b[39mcolor\u001b[39m\u001b[39m\"\u001b[39m] \u001b[39m=\u001b[39m \u001b[39mNone\u001b[39;00m\n\u001b[1;32m   1403\u001b[0m \u001b[39m# now that things have been prepped, we do the systematic rewriting of `args`\u001b[39;00m\n\u001b[0;32m-> 1405\u001b[0m df_output, wide_id_vars \u001b[39m=\u001b[39m process_args_into_dataframe(\n\u001b[1;32m   1406\u001b[0m     args, wide_mode, var_name, value_name\n\u001b[1;32m   1407\u001b[0m )\n\u001b[1;32m   1409\u001b[0m \u001b[39m# now that `df_output` exists and `args` contains only references, we complete\u001b[39;00m\n\u001b[1;32m   1410\u001b[0m \u001b[39m# the special-case and wide-mode handling by further rewriting args and/or mutating\u001b[39;00m\n\u001b[1;32m   1411\u001b[0m \u001b[39m# df_output\u001b[39;00m\n\u001b[1;32m   1413\u001b[0m count_name \u001b[39m=\u001b[39m _escape_col_name(df_output, \u001b[39m\"\u001b[39m\u001b[39mcount\u001b[39m\u001b[39m\"\u001b[39m, [var_name, value_name])\n",
      "File \u001b[0;32m~/anaconda3/envs/fairnas/lib/python3.9/site-packages/plotly/express/_core.py:1207\u001b[0m, in \u001b[0;36mprocess_args_into_dataframe\u001b[0;34m(args, wide_mode, var_name, value_name)\u001b[0m\n\u001b[1;32m   1205\u001b[0m         \u001b[39mif\u001b[39;00m argument \u001b[39m==\u001b[39m \u001b[39m\"\u001b[39m\u001b[39mindex\u001b[39m\u001b[39m\"\u001b[39m:\n\u001b[1;32m   1206\u001b[0m             err_msg \u001b[39m+\u001b[39m\u001b[39m=\u001b[39m \u001b[39m\"\u001b[39m\u001b[39m\\n\u001b[39;00m\u001b[39m To use the index, pass it in directly as `df.index`.\u001b[39m\u001b[39m\"\u001b[39m\n\u001b[0;32m-> 1207\u001b[0m         \u001b[39mraise\u001b[39;00m \u001b[39mValueError\u001b[39;00m(err_msg)\n\u001b[1;32m   1208\u001b[0m \u001b[39melif\u001b[39;00m length \u001b[39mand\u001b[39;00m \u001b[39mlen\u001b[39m(df_input[argument]) \u001b[39m!=\u001b[39m length:\n\u001b[1;32m   1209\u001b[0m     \u001b[39mraise\u001b[39;00m \u001b[39mValueError\u001b[39;00m(\n\u001b[1;32m   1210\u001b[0m         \u001b[39m\"\u001b[39m\u001b[39mAll arguments should have the same length. \u001b[39m\u001b[39m\"\u001b[39m\n\u001b[1;32m   1211\u001b[0m         \u001b[39m\"\u001b[39m\u001b[39mThe length of column argument `df[\u001b[39m\u001b[39m%s\u001b[39;00m\u001b[39m]` is \u001b[39m\u001b[39m%d\u001b[39;00m\u001b[39m, whereas the \u001b[39m\u001b[39m\"\u001b[39m\n\u001b[0;32m   (...)\u001b[0m\n\u001b[1;32m   1218\u001b[0m         )\n\u001b[1;32m   1219\u001b[0m     )\n",
      "\u001b[0;31mValueError\u001b[0m: Value of 'x' is not the name of a column in 'data_frame'. Expected one of ['index', 'epoch', 'Error', 'Disparity', 'Rank Disparity', 'Ratio', 'Rank Ratio', 'Error Ratio'] but received: Accuracy_mean"
     ]
    }
   ],
   "source": [
    "plot_figure('Rank Disparity', 'rankdisparity', 'val', celeba)"
   ]
  },
  {
   "cell_type": "code",
   "execution_count": 38,
   "metadata": {},
   "outputs": [
    {
     "data": {
      "text/html": [
       "<div>\n",
       "<style scoped>\n",
       "    .dataframe tbody tr th:only-of-type {\n",
       "        vertical-align: middle;\n",
       "    }\n",
       "\n",
       "    .dataframe tbody tr th {\n",
       "        vertical-align: top;\n",
       "    }\n",
       "\n",
       "    .dataframe thead th {\n",
       "        text-align: right;\n",
       "    }\n",
       "</style>\n",
       "<table border=\"1\" class=\"dataframe\">\n",
       "  <thead>\n",
       "    <tr style=\"text-align: right;\">\n",
       "      <th></th>\n",
       "      <th>index</th>\n",
       "      <th>epoch</th>\n",
       "      <th>Error</th>\n",
       "      <th>Disparity</th>\n",
       "      <th>Rank Disparity</th>\n",
       "      <th>Ratio</th>\n",
       "      <th>Rank Ratio</th>\n",
       "      <th>Error Ratio</th>\n",
       "    </tr>\n",
       "  </thead>\n",
       "  <tbody>\n",
       "    <tr>\n",
       "      <th>0</th>\n",
       "      <td>densenet_333</td>\n",
       "      <td>100</td>\n",
       "      <td>0.204819</td>\n",
       "      <td>0.079885</td>\n",
       "      <td>2.018727</td>\n",
       "      <td>0.105774</td>\n",
       "      <td>0.136002</td>\n",
       "      <td>0.326378</td>\n",
       "    </tr>\n",
       "    <tr>\n",
       "      <th>1</th>\n",
       "      <td>densenet_444</td>\n",
       "      <td>100</td>\n",
       "      <td>0.237166</td>\n",
       "      <td>0.147197</td>\n",
       "      <td>10.876113</td>\n",
       "      <td>0.213566</td>\n",
       "      <td>0.367779</td>\n",
       "      <td>0.473662</td>\n",
       "    </tr>\n",
       "    <tr>\n",
       "      <th>2</th>\n",
       "      <td>densenet_555</td>\n",
       "      <td>100</td>\n",
       "      <td>0.218897</td>\n",
       "      <td>0.140257</td>\n",
       "      <td>13.028156</td>\n",
       "      <td>0.197274</td>\n",
       "      <td>0.576479</td>\n",
       "      <td>0.485274</td>\n",
       "    </tr>\n",
       "    <tr>\n",
       "      <th>3</th>\n",
       "      <td>densenet_666</td>\n",
       "      <td>100</td>\n",
       "      <td>0.173782</td>\n",
       "      <td>0.079885</td>\n",
       "      <td>1.087611</td>\n",
       "      <td>0.101599</td>\n",
       "      <td>0.121236</td>\n",
       "      <td>0.373775</td>\n",
       "    </tr>\n",
       "    <tr>\n",
       "      <th>4</th>\n",
       "      <td>dpn107_CosFace_SGD_333</td>\n",
       "      <td>100</td>\n",
       "      <td>0.050288</td>\n",
       "      <td>0.040597</td>\n",
       "      <td>2.875196</td>\n",
       "      <td>0.043680</td>\n",
       "      <td>0.538126</td>\n",
       "      <td>0.575139</td>\n",
       "    </tr>\n",
       "  </tbody>\n",
       "</table>\n",
       "</div>"
      ],
      "text/plain": [
       "                    index  epoch     Error  Disparity  Rank Disparity  \\\n",
       "0            densenet_333    100  0.204819   0.079885        2.018727   \n",
       "1            densenet_444    100  0.237166   0.147197       10.876113   \n",
       "2            densenet_555    100  0.218897   0.140257       13.028156   \n",
       "3            densenet_666    100  0.173782   0.079885        1.087611   \n",
       "4  dpn107_CosFace_SGD_333    100  0.050288   0.040597        2.875196   \n",
       "\n",
       "      Ratio  Rank Ratio  Error Ratio  \n",
       "0  0.105774    0.136002     0.326378  \n",
       "1  0.213566    0.367779     0.473662  \n",
       "2  0.197274    0.576479     0.485274  \n",
       "3  0.101599    0.121236     0.373775  \n",
       "4  0.043680    0.538126     0.575139  "
      ]
     },
     "execution_count": 38,
     "metadata": {},
     "output_type": "execute_result"
    }
   ],
   "source": [
    "celeba.head()"
   ]
  },
  {
   "cell_type": "code",
   "execution_count": 39,
   "metadata": {},
   "outputs": [],
   "source": [
    "def plot_validation(metric_name, metric_suffix, fairness_df, \n",
    "                    dataset='VGGFace2', show_all=False, epoch=100):\n",
    "    df = fairness_df\n",
    "    df = df[df['epoch'] == epoch]\n",
    "    df = df.dropna()\n",
    "    if not show_all:\n",
    "        df = df[df['Error']<0.3]\n",
    "    else:\n",
    "        df = df[df['Error']<1-1/(7636*2)]\n",
    "        \n",
    "    df.loc[:,'model'] = df['index'].apply(lambda x: get_name_details(x)[1])\n",
    "    df = df.sort_values(by=['model'])\n",
    "    # df = df.sort_values('Error')[:30]\n",
    "\n",
    "\n",
    "    fig = px.scatter(df, x='Error', \n",
    "                     y=metric_name, \n",
    "                     template=\"simple_white\", \n",
    "                     width=1000, height= 500\n",
    "                )\n",
    "\n",
    "    if not show_all:\n",
    "        fig.update_layout(\n",
    "            xaxis_range=[0,0.32],\n",
    "        )\n",
    "    \n",
    "    fig.update_layout(\n",
    "        yaxis_title=metric_name,\n",
    "        title={\n",
    "                'text' : f'{dataset} Validation Set',\n",
    "                'x':0.5,\n",
    "                'xanchor': 'center'\n",
    "            },\n",
    "        font=dict(\n",
    "            family=\"Times New Roman\",\n",
    "            size=30,\n",
    "            color=\"Black\"\n",
    "        )\n",
    "    )\n",
    "    fig.add_shape(type='line',\n",
    "                    x0=0,y0=0,x1=1,y1=0,\n",
    "                    line=dict(color='Red',),\n",
    "                    xref='x',yref='y'\n",
    "    )\n",
    "    p = np.array(preparePareto(df[['Error',metric_name]], False, False).dropna())\n",
    "    for x, y in zip(p[:-1], p[1:]):\n",
    "        fig.add_shape(type='line',\n",
    "                    x0=x[0],y0=x[1],x1=y[0],y1=y[1],\n",
    "                    line=dict(color='gray',width=4),line_dash='dash',\n",
    "                    xref='x',yref='y')\n",
    "\n",
    "\n",
    "    pareto_df = pd.merge(df, pd.DataFrame(p), right_on=[0,1], left_on=[\"Error\",metric_name])\n",
    "    \n",
    "    if pareto_df.shape[0]<7:\n",
    "        y_anchor, x_anchor = -.29, .6\n",
    "    else:\n",
    "        y_anchor, x_anchor = -.6, .7\n",
    "        \n",
    "    fig.update_layout(legend=dict(\n",
    "        orientation=\"h\",\n",
    "        # yanchor=\"bottom\",\n",
    "        # y=-.49,\n",
    "        # xanchor=\"right\",\n",
    "        # x=.63,\n",
    "        yanchor=\"top\",\n",
    "        y=-.49,\n",
    "        xanchor=\"center\",\n",
    "        x=0.5,\n",
    "        font=dict(\n",
    "            family=\"Times New Roman\",\n",
    "            size=24,\n",
    "            color=\"Black\"\n",
    "        )\n",
    "        )\n",
    "    )\n",
    "\n",
    "    for model in set(pareto_df['model']):\n",
    "        # match model name to color\n",
    "        i = [x.lower()[:3] for x in plotted_models].index(model.lower()[:3])\n",
    "        name = plotted_models[i]\n",
    "        color = colors[i]\n",
    "        fig.add_trace(go.Scatter(\n",
    "            x=pareto_df[pareto_df['model'] == model]['Error'],\n",
    "            y=pareto_df[pareto_df['model'] == model][metric_name],\n",
    "            mode='markers',\n",
    "            name = name,\n",
    "            marker = dict(color=color,size=15),\n",
    "        ))\n",
    "\n",
    "    fig.show()\n",
    "    # plotly.io.write_image(fig, f'RQ1_main_{dataset}_{metric_suffix}_17052023.pdf', format='pdf')\n",
    "    return df"
   ]
  },
  {
   "cell_type": "code",
   "execution_count": 57,
   "metadata": {},
   "outputs": [
    {
     "ename": "NameError",
     "evalue": "name 'celeba' is not defined",
     "output_type": "error",
     "traceback": [
      "\u001b[0;31m---------------------------------------------------------------------------\u001b[0m",
      "\u001b[0;31mNameError\u001b[0m                                 Traceback (most recent call last)",
      "\u001b[1;32m/work/dlclarge2/sukthank-ZCP_Competition/NeurIPS2023/FR-NAS/analysis/celeba_analysis.ipynb Cell 24\u001b[0m in \u001b[0;36m<cell line: 1>\u001b[0;34m()\u001b[0m\n\u001b[0;32m----> <a href='vscode-notebook-cell://ssh-remote%2Bkislogin2.rz.ki.privat/work/dlclarge2/sukthank-ZCP_Competition/NeurIPS2023/FR-NAS/analysis/celeba_analysis.ipynb#X45sdnNjb2RlLXJlbW90ZQ%3D%3D?line=0'>1</a>\u001b[0m celeba\u001b[39m.\u001b[39mhead()\n",
      "\u001b[0;31mNameError\u001b[0m: name 'celeba' is not defined"
     ]
    }
   ],
   "source": []
  },
  {
   "cell_type": "code",
   "execution_count": 47,
   "metadata": {},
   "outputs": [],
   "source": [
    "celeba_val_phase2_mean = pd.DataFrame(columns=[\"model_name\",\"Error Mean\",\"Error Std\",\"Rank Disparity Mean\",\"Rank Disparity Std\",\"Rank Ratio Mean\",\"Rank Ratio Std\",\"Ratio Mean\",\"Ratio Std\"])"
   ]
  },
  {
   "cell_type": "code",
   "execution_count": 106,
   "metadata": {},
   "outputs": [
    {
     "name": "stderr",
     "output_type": "stream",
     "text": [
      "/tmp/ipykernel_1885967/3549736961.py:1: FutureWarning:\n",
      "\n",
      "Dropping of nuisance columns in DataFrame reductions (with 'numeric_only=None') is deprecated; in a future version this will raise TypeError.  Select only valid columns before calling the reduction.\n",
      "\n",
      "/tmp/ipykernel_1885967/3549736961.py:2: FutureWarning:\n",
      "\n",
      "Dropping of nuisance columns in DataFrame reductions (with 'numeric_only=None') is deprecated; in a future version this will raise TypeError.  Select only valid columns before calling the reduction.\n",
      "\n",
      "/tmp/ipykernel_1885967/3549736961.py:3: FutureWarning:\n",
      "\n",
      "Dropping of nuisance columns in DataFrame reductions (with 'numeric_only=None') is deprecated; in a future version this will raise TypeError.  Select only valid columns before calling the reduction.\n",
      "\n",
      "/tmp/ipykernel_1885967/3549736961.py:4: FutureWarning:\n",
      "\n",
      "Dropping of nuisance columns in DataFrame reductions (with 'numeric_only=None') is deprecated; in a future version this will raise TypeError.  Select only valid columns before calling the reduction.\n",
      "\n",
      "/tmp/ipykernel_1885967/3549736961.py:5: FutureWarning:\n",
      "\n",
      "Dropping of nuisance columns in DataFrame reductions (with 'numeric_only=None') is deprecated; in a future version this will raise TypeError.  Select only valid columns before calling the reduction.\n",
      "\n",
      "/tmp/ipykernel_1885967/3549736961.py:6: FutureWarning:\n",
      "\n",
      "Dropping of nuisance columns in DataFrame reductions (with 'numeric_only=None') is deprecated; in a future version this will raise TypeError.  Select only valid columns before calling the reduction.\n",
      "\n",
      "/tmp/ipykernel_1885967/3549736961.py:7: FutureWarning:\n",
      "\n",
      "Dropping of nuisance columns in DataFrame reductions (with 'numeric_only=None') is deprecated; in a future version this will raise TypeError.  Select only valid columns before calling the reduction.\n",
      "\n",
      "/tmp/ipykernel_1885967/3549736961.py:8: FutureWarning:\n",
      "\n",
      "Dropping of nuisance columns in DataFrame reductions (with 'numeric_only=None') is deprecated; in a future version this will raise TypeError.  Select only valid columns before calling the reduction.\n",
      "\n",
      "/tmp/ipykernel_1885967/3549736961.py:9: FutureWarning:\n",
      "\n",
      "Dropping of nuisance columns in DataFrame reductions (with 'numeric_only=None') is deprecated; in a future version this will raise TypeError.  Select only valid columns before calling the reduction.\n",
      "\n",
      "/tmp/ipykernel_1885967/3549736961.py:10: FutureWarning:\n",
      "\n",
      "Dropping of nuisance columns in DataFrame reductions (with 'numeric_only=None') is deprecated; in a future version this will raise TypeError.  Select only valid columns before calling the reduction.\n",
      "\n",
      "/tmp/ipykernel_1885967/3549736961.py:11: FutureWarning:\n",
      "\n",
      "Dropping of nuisance columns in DataFrame reductions (with 'numeric_only=None') is deprecated; in a future version this will raise TypeError.  Select only valid columns before calling the reduction.\n",
      "\n",
      "/tmp/ipykernel_1885967/3549736961.py:12: FutureWarning:\n",
      "\n",
      "Dropping of nuisance columns in DataFrame reductions (with 'numeric_only=None') is deprecated; in a future version this will raise TypeError.  Select only valid columns before calling the reduction.\n",
      "\n",
      "/tmp/ipykernel_1885967/3549736961.py:13: FutureWarning:\n",
      "\n",
      "Dropping of nuisance columns in DataFrame reductions (with 'numeric_only=None') is deprecated; in a future version this will raise TypeError.  Select only valid columns before calling the reduction.\n",
      "\n",
      "/tmp/ipykernel_1885967/3549736961.py:14: FutureWarning:\n",
      "\n",
      "Dropping of nuisance columns in DataFrame reductions (with 'numeric_only=None') is deprecated; in a future version this will raise TypeError.  Select only valid columns before calling the reduction.\n",
      "\n",
      "/tmp/ipykernel_1885967/3549736961.py:15: FutureWarning:\n",
      "\n",
      "Dropping of nuisance columns in DataFrame reductions (with 'numeric_only=None') is deprecated; in a future version this will raise TypeError.  Select only valid columns before calling the reduction.\n",
      "\n",
      "/tmp/ipykernel_1885967/3549736961.py:16: FutureWarning:\n",
      "\n",
      "Dropping of nuisance columns in DataFrame reductions (with 'numeric_only=None') is deprecated; in a future version this will raise TypeError.  Select only valid columns before calling the reduction.\n",
      "\n",
      "/tmp/ipykernel_1885967/3549736961.py:17: FutureWarning:\n",
      "\n",
      "Dropping of nuisance columns in DataFrame reductions (with 'numeric_only=None') is deprecated; in a future version this will raise TypeError.  Select only valid columns before calling the reduction.\n",
      "\n",
      "/tmp/ipykernel_1885967/3549736961.py:18: FutureWarning:\n",
      "\n",
      "Dropping of nuisance columns in DataFrame reductions (with 'numeric_only=None') is deprecated; in a future version this will raise TypeError.  Select only valid columns before calling the reduction.\n",
      "\n"
     ]
    }
   ],
   "source": [
    "densenet_mean = celeba[celeba['index'].str.contains('densenet')].mean()\n",
    "densenet_std = celeba[celeba['index'].str.contains('densenet')].std()\n",
    "dpn107_CosFace_SGD_mean = celeba[celeba['index'].str.contains('dpn107_CosFace_SGD')].mean()\n",
    "dpn107_CosFace_SGD_std = celeba[celeba['index'].str.contains('dpn107_CosFace_SGD')].std()\n",
    "dpn107_MagFace_SGD_mean = celeba[celeba['index'].str.contains('dpn107_MagFace_SGD')].mean()\n",
    "dpn107_MagFace_SGD_std = celeba[celeba['index'].str.contains('dpn107_MagFace_SGD')].std()\n",
    "rexnet_200_mean = celeba[celeba['index'].str.contains('rexnet_200')].mean()\n",
    "rexnet_200_std = celeba[celeba['index'].str.contains('rexnet_200')].std()\n",
    "ese_vovnet39b_mean = celeba[celeba['index'].str.contains('ese_vovnet39b')].mean()\n",
    "ese_vovnet39b_std = celeba[celeba['index'].str.contains('ese_vovnet39b')].std()\n",
    "mobilenetv3_large_100_mean = celeba[celeba['index'].str.contains('mobilenetv3_large_100')].mean()\n",
    "mobilenetv3_large_100_std = celeba[celeba['index'].str.contains('mobilenetv3_large_100')].std()\n",
    "model_000_mean = celeba[celeba['index'].str.contains('model_000')].mean()\n",
    "model_000_std = celeba[celeba['index'].str.contains('model_000')].std()\n",
    "model_010_mean = celeba[celeba['index'].str.contains('model_010')].mean()\n",
    "model_010_std = celeba[celeba['index'].str.contains('model_010')].std()\n",
    "model_680_mean = celeba[celeba['index'].str.contains('model_680')].mean()\n",
    "model_680_std = celeba[celeba['index'].str.contains('model_680')].std()"
   ]
  },
  {
   "cell_type": "code",
   "execution_count": 74,
   "metadata": {},
   "outputs": [
    {
     "name": "stderr",
     "output_type": "stream",
     "text": [
      "/tmp/ipykernel_1885967/2711775519.py:1: FutureWarning:\n",
      "\n",
      "Dropping of nuisance columns in DataFrame reductions (with 'numeric_only=None') is deprecated; in a future version this will raise TypeError.  Select only valid columns before calling the reduction.\n",
      "\n",
      "/tmp/ipykernel_1885967/2711775519.py:2: FutureWarning:\n",
      "\n",
      "Dropping of nuisance columns in DataFrame reductions (with 'numeric_only=None') is deprecated; in a future version this will raise TypeError.  Select only valid columns before calling the reduction.\n",
      "\n"
     ]
    }
   ],
   "source": []
  },
  {
   "cell_type": "code",
   "execution_count": 50,
   "metadata": {},
   "outputs": [
    {
     "data": {
      "text/html": [
       "<div>\n",
       "<style scoped>\n",
       "    .dataframe tbody tr th:only-of-type {\n",
       "        vertical-align: middle;\n",
       "    }\n",
       "\n",
       "    .dataframe tbody tr th {\n",
       "        vertical-align: top;\n",
       "    }\n",
       "\n",
       "    .dataframe thead th {\n",
       "        text-align: right;\n",
       "    }\n",
       "</style>\n",
       "<table border=\"1\" class=\"dataframe\">\n",
       "  <thead>\n",
       "    <tr style=\"text-align: right;\">\n",
       "      <th></th>\n",
       "      <th>index</th>\n",
       "      <th>epoch</th>\n",
       "      <th>Error</th>\n",
       "      <th>Disparity</th>\n",
       "      <th>Rank Disparity</th>\n",
       "      <th>Ratio</th>\n",
       "      <th>Rank Ratio</th>\n",
       "      <th>Error Ratio</th>\n",
       "    </tr>\n",
       "  </thead>\n",
       "  <tbody>\n",
       "    <tr>\n",
       "      <th>0</th>\n",
       "      <td>densenet_333</td>\n",
       "      <td>100</td>\n",
       "      <td>0.204819</td>\n",
       "      <td>0.079885</td>\n",
       "      <td>2.018727</td>\n",
       "      <td>0.105774</td>\n",
       "      <td>0.136002</td>\n",
       "      <td>0.326378</td>\n",
       "    </tr>\n",
       "    <tr>\n",
       "      <th>1</th>\n",
       "      <td>densenet_444</td>\n",
       "      <td>100</td>\n",
       "      <td>0.237166</td>\n",
       "      <td>0.147197</td>\n",
       "      <td>10.876113</td>\n",
       "      <td>0.213566</td>\n",
       "      <td>0.367779</td>\n",
       "      <td>0.473662</td>\n",
       "    </tr>\n",
       "    <tr>\n",
       "      <th>2</th>\n",
       "      <td>densenet_555</td>\n",
       "      <td>100</td>\n",
       "      <td>0.218897</td>\n",
       "      <td>0.140257</td>\n",
       "      <td>13.028156</td>\n",
       "      <td>0.197274</td>\n",
       "      <td>0.576479</td>\n",
       "      <td>0.485274</td>\n",
       "    </tr>\n",
       "    <tr>\n",
       "      <th>3</th>\n",
       "      <td>densenet_666</td>\n",
       "      <td>100</td>\n",
       "      <td>0.173782</td>\n",
       "      <td>0.079885</td>\n",
       "      <td>1.087611</td>\n",
       "      <td>0.101599</td>\n",
       "      <td>0.121236</td>\n",
       "      <td>0.373775</td>\n",
       "    </tr>\n",
       "    <tr>\n",
       "      <th>4</th>\n",
       "      <td>dpn107_CosFace_SGD_333</td>\n",
       "      <td>100</td>\n",
       "      <td>0.050288</td>\n",
       "      <td>0.040597</td>\n",
       "      <td>2.875196</td>\n",
       "      <td>0.043680</td>\n",
       "      <td>0.538126</td>\n",
       "      <td>0.575139</td>\n",
       "    </tr>\n",
       "  </tbody>\n",
       "</table>\n",
       "</div>"
      ],
      "text/plain": [
       "                    index  epoch     Error  Disparity  Rank Disparity  \\\n",
       "0            densenet_333    100  0.204819   0.079885        2.018727   \n",
       "1            densenet_444    100  0.237166   0.147197       10.876113   \n",
       "2            densenet_555    100  0.218897   0.140257       13.028156   \n",
       "3            densenet_666    100  0.173782   0.079885        1.087611   \n",
       "4  dpn107_CosFace_SGD_333    100  0.050288   0.040597        2.875196   \n",
       "\n",
       "      Ratio  Rank Ratio  Error Ratio  \n",
       "0  0.105774    0.136002     0.326378  \n",
       "1  0.213566    0.367779     0.473662  \n",
       "2  0.197274    0.576479     0.485274  \n",
       "3  0.101599    0.121236     0.373775  \n",
       "4  0.043680    0.538126     0.575139  "
      ]
     },
     "execution_count": 50,
     "metadata": {},
     "output_type": "execute_result"
    }
   ],
   "source": [
    "celeba.head()"
   ]
  },
  {
   "cell_type": "code",
   "execution_count": 75,
   "metadata": {},
   "outputs": [
    {
     "name": "stderr",
     "output_type": "stream",
     "text": [
      "/tmp/ipykernel_1885967/2462435306.py:1: FutureWarning:\n",
      "\n",
      "Dropping of nuisance columns in DataFrame reductions (with 'numeric_only=None') is deprecated; in a future version this will raise TypeError.  Select only valid columns before calling the reduction.\n",
      "\n",
      "/tmp/ipykernel_1885967/2462435306.py:2: FutureWarning:\n",
      "\n",
      "Dropping of nuisance columns in DataFrame reductions (with 'numeric_only=None') is deprecated; in a future version this will raise TypeError.  Select only valid columns before calling the reduction.\n",
      "\n"
     ]
    }
   ],
   "source": []
  },
  {
   "cell_type": "code",
   "execution_count": 56,
   "metadata": {},
   "outputs": [
    {
     "name": "stderr",
     "output_type": "stream",
     "text": [
      "/tmp/ipykernel_1885967/1241665483.py:1: FutureWarning:\n",
      "\n",
      "Dropping of nuisance columns in DataFrame reductions (with 'numeric_only=None') is deprecated; in a future version this will raise TypeError.  Select only valid columns before calling the reduction.\n",
      "\n"
     ]
    }
   ],
   "source": []
  },
  {
   "cell_type": "code",
   "execution_count": 57,
   "metadata": {},
   "outputs": [
    {
     "name": "stderr",
     "output_type": "stream",
     "text": [
      "/tmp/ipykernel_1885967/2364098596.py:1: FutureWarning:\n",
      "\n",
      "Dropping of nuisance columns in DataFrame reductions (with 'numeric_only=None') is deprecated; in a future version this will raise TypeError.  Select only valid columns before calling the reduction.\n",
      "\n"
     ]
    }
   ],
   "source": []
  },
  {
   "cell_type": "code",
   "execution_count": 58,
   "metadata": {},
   "outputs": [
    {
     "name": "stderr",
     "output_type": "stream",
     "text": [
      "/tmp/ipykernel_1885967/3429647329.py:1: FutureWarning:\n",
      "\n",
      "Dropping of nuisance columns in DataFrame reductions (with 'numeric_only=None') is deprecated; in a future version this will raise TypeError.  Select only valid columns before calling the reduction.\n",
      "\n"
     ]
    }
   ],
   "source": []
  },
  {
   "cell_type": "code",
   "execution_count": 59,
   "metadata": {},
   "outputs": [
    {
     "name": "stderr",
     "output_type": "stream",
     "text": [
      "/tmp/ipykernel_1885967/400139966.py:1: FutureWarning:\n",
      "\n",
      "Dropping of nuisance columns in DataFrame reductions (with 'numeric_only=None') is deprecated; in a future version this will raise TypeError.  Select only valid columns before calling the reduction.\n",
      "\n"
     ]
    }
   ],
   "source": []
  },
  {
   "cell_type": "code",
   "execution_count": 60,
   "metadata": {},
   "outputs": [
    {
     "name": "stderr",
     "output_type": "stream",
     "text": [
      "/tmp/ipykernel_1885967/2908798479.py:1: FutureWarning:\n",
      "\n",
      "Dropping of nuisance columns in DataFrame reductions (with 'numeric_only=None') is deprecated; in a future version this will raise TypeError.  Select only valid columns before calling the reduction.\n",
      "\n"
     ]
    }
   ],
   "source": []
  },
  {
   "cell_type": "code",
   "execution_count": 61,
   "metadata": {},
   "outputs": [
    {
     "name": "stderr",
     "output_type": "stream",
     "text": [
      "/tmp/ipykernel_1885967/377397233.py:1: FutureWarning:\n",
      "\n",
      "Dropping of nuisance columns in DataFrame reductions (with 'numeric_only=None') is deprecated; in a future version this will raise TypeError.  Select only valid columns before calling the reduction.\n",
      "\n"
     ]
    }
   ],
   "source": []
  },
  {
   "cell_type": "code",
   "execution_count": 51,
   "metadata": {},
   "outputs": [],
   "source": [
    "import numpy as np\n",
    "a = np.mean([0.204819,0.237166,0.218897,0.173782])"
   ]
  },
  {
   "cell_type": "code",
   "execution_count": 52,
   "metadata": {},
   "outputs": [
    {
     "data": {
      "text/plain": [
       "0.208666"
      ]
     },
     "execution_count": 52,
     "metadata": {},
     "output_type": "execute_result"
    }
   ],
   "source": [
    "a"
   ]
  },
  {
   "cell_type": "code",
   "execution_count": 54,
   "metadata": {},
   "outputs": [
    {
     "data": {
      "text/html": [
       "<div>\n",
       "<style scoped>\n",
       "    .dataframe tbody tr th:only-of-type {\n",
       "        vertical-align: middle;\n",
       "    }\n",
       "\n",
       "    .dataframe tbody tr th {\n",
       "        vertical-align: top;\n",
       "    }\n",
       "\n",
       "    .dataframe thead th {\n",
       "        text-align: right;\n",
       "    }\n",
       "</style>\n",
       "<table border=\"1\" class=\"dataframe\">\n",
       "  <thead>\n",
       "    <tr style=\"text-align: right;\">\n",
       "      <th></th>\n",
       "      <th>index</th>\n",
       "      <th>epoch</th>\n",
       "      <th>Error</th>\n",
       "      <th>Disparity</th>\n",
       "      <th>Rank Disparity</th>\n",
       "      <th>Ratio</th>\n",
       "      <th>Rank Ratio</th>\n",
       "      <th>Error Ratio</th>\n",
       "    </tr>\n",
       "  </thead>\n",
       "  <tbody>\n",
       "    <tr>\n",
       "      <th>0</th>\n",
       "      <td>densenet_333</td>\n",
       "      <td>100</td>\n",
       "      <td>0.204819</td>\n",
       "      <td>0.079885</td>\n",
       "      <td>2.018727</td>\n",
       "      <td>0.105774</td>\n",
       "      <td>0.136002</td>\n",
       "      <td>0.326378</td>\n",
       "    </tr>\n",
       "    <tr>\n",
       "      <th>1</th>\n",
       "      <td>densenet_444</td>\n",
       "      <td>100</td>\n",
       "      <td>0.237166</td>\n",
       "      <td>0.147197</td>\n",
       "      <td>10.876113</td>\n",
       "      <td>0.213566</td>\n",
       "      <td>0.367779</td>\n",
       "      <td>0.473662</td>\n",
       "    </tr>\n",
       "    <tr>\n",
       "      <th>2</th>\n",
       "      <td>densenet_555</td>\n",
       "      <td>100</td>\n",
       "      <td>0.218897</td>\n",
       "      <td>0.140257</td>\n",
       "      <td>13.028156</td>\n",
       "      <td>0.197274</td>\n",
       "      <td>0.576479</td>\n",
       "      <td>0.485274</td>\n",
       "    </tr>\n",
       "    <tr>\n",
       "      <th>3</th>\n",
       "      <td>densenet_666</td>\n",
       "      <td>100</td>\n",
       "      <td>0.173782</td>\n",
       "      <td>0.079885</td>\n",
       "      <td>1.087611</td>\n",
       "      <td>0.101599</td>\n",
       "      <td>0.121236</td>\n",
       "      <td>0.373775</td>\n",
       "    </tr>\n",
       "    <tr>\n",
       "      <th>4</th>\n",
       "      <td>dpn107_CosFace_SGD_333</td>\n",
       "      <td>100</td>\n",
       "      <td>0.050288</td>\n",
       "      <td>0.040597</td>\n",
       "      <td>2.875196</td>\n",
       "      <td>0.043680</td>\n",
       "      <td>0.538126</td>\n",
       "      <td>0.575139</td>\n",
       "    </tr>\n",
       "    <tr>\n",
       "      <th>5</th>\n",
       "      <td>dpn107_CosFace_SGD_444</td>\n",
       "      <td>100</td>\n",
       "      <td>0.045574</td>\n",
       "      <td>0.034835</td>\n",
       "      <td>2.535621</td>\n",
       "      <td>0.037177</td>\n",
       "      <td>0.478334</td>\n",
       "      <td>0.553015</td>\n",
       "    </tr>\n",
       "    <tr>\n",
       "      <th>6</th>\n",
       "      <td>dpn107_CosFace_SGD_555</td>\n",
       "      <td>100</td>\n",
       "      <td>0.052842</td>\n",
       "      <td>0.040204</td>\n",
       "      <td>2.704034</td>\n",
       "      <td>0.043368</td>\n",
       "      <td>0.464972</td>\n",
       "      <td>0.551167</td>\n",
       "    </tr>\n",
       "    <tr>\n",
       "      <th>7</th>\n",
       "      <td>dpn107_CosFace_SGD_666</td>\n",
       "      <td>100</td>\n",
       "      <td>0.048979</td>\n",
       "      <td>0.038240</td>\n",
       "      <td>2.996726</td>\n",
       "      <td>0.041034</td>\n",
       "      <td>0.525008</td>\n",
       "      <td>0.561538</td>\n",
       "    </tr>\n",
       "    <tr>\n",
       "      <th>8</th>\n",
       "      <td>dpn107_MagFace_SGD_444</td>\n",
       "      <td>100</td>\n",
       "      <td>0.168740</td>\n",
       "      <td>0.102803</td>\n",
       "      <td>1.389078</td>\n",
       "      <td>0.131822</td>\n",
       "      <td>0.165931</td>\n",
       "      <td>0.466984</td>\n",
       "    </tr>\n",
       "    <tr>\n",
       "      <th>9</th>\n",
       "      <td>dpn107_MagFace_SGD_444_act</td>\n",
       "      <td>100</td>\n",
       "      <td>0.128929</td>\n",
       "      <td>0.078444</td>\n",
       "      <td>1.233761</td>\n",
       "      <td>0.094301</td>\n",
       "      <td>0.226363</td>\n",
       "      <td>0.466511</td>\n",
       "    </tr>\n",
       "    <tr>\n",
       "      <th>10</th>\n",
       "      <td>dpn107_MagFace_SGD_555</td>\n",
       "      <td>100</td>\n",
       "      <td>0.129060</td>\n",
       "      <td>0.078968</td>\n",
       "      <td>1.284704</td>\n",
       "      <td>0.094976</td>\n",
       "      <td>0.259696</td>\n",
       "      <td>0.468531</td>\n",
       "    </tr>\n",
       "    <tr>\n",
       "      <th>11</th>\n",
       "      <td>dpn107_MagFace_SGD_666</td>\n",
       "      <td>100</td>\n",
       "      <td>0.126506</td>\n",
       "      <td>0.067837</td>\n",
       "      <td>1.836040</td>\n",
       "      <td>0.080799</td>\n",
       "      <td>0.325305</td>\n",
       "      <td>0.422857</td>\n",
       "    </tr>\n",
       "    <tr>\n",
       "      <th>12</th>\n",
       "      <td>rexnet_200_333</td>\n",
       "      <td>100</td>\n",
       "      <td>0.099790</td>\n",
       "      <td>0.068360</td>\n",
       "      <td>3.127161</td>\n",
       "      <td>0.078935</td>\n",
       "      <td>0.623245</td>\n",
       "      <td>0.510264</td>\n",
       "    </tr>\n",
       "    <tr>\n",
       "      <th>13</th>\n",
       "      <td>rexnet_200_444</td>\n",
       "      <td>100</td>\n",
       "      <td>0.102868</td>\n",
       "      <td>0.065610</td>\n",
       "      <td>2.113672</td>\n",
       "      <td>0.075909</td>\n",
       "      <td>0.471145</td>\n",
       "      <td>0.483591</td>\n",
       "    </tr>\n",
       "    <tr>\n",
       "      <th>14</th>\n",
       "      <td>rexnet_200_555</td>\n",
       "      <td>100</td>\n",
       "      <td>0.102541</td>\n",
       "      <td>0.064432</td>\n",
       "      <td>2.073075</td>\n",
       "      <td>0.074466</td>\n",
       "      <td>0.488761</td>\n",
       "      <td>0.478134</td>\n",
       "    </tr>\n",
       "    <tr>\n",
       "      <th>15</th>\n",
       "      <td>rexnet_200_666</td>\n",
       "      <td>100</td>\n",
       "      <td>0.101100</td>\n",
       "      <td>0.068098</td>\n",
       "      <td>2.177580</td>\n",
       "      <td>0.078740</td>\n",
       "      <td>0.502873</td>\n",
       "      <td>0.503876</td>\n",
       "    </tr>\n",
       "    <tr>\n",
       "      <th>16</th>\n",
       "      <td>ese_vovnet39b_333</td>\n",
       "      <td>100</td>\n",
       "      <td>0.802514</td>\n",
       "      <td>0.040859</td>\n",
       "      <td>13.710581</td>\n",
       "      <td>0.230769</td>\n",
       "      <td>0.150166</td>\n",
       "      <td>0.049650</td>\n",
       "    </tr>\n",
       "    <tr>\n",
       "      <th>17</th>\n",
       "      <td>ese_vovnet39b_444</td>\n",
       "      <td>100</td>\n",
       "      <td>0.856011</td>\n",
       "      <td>0.116160</td>\n",
       "      <td>33.833421</td>\n",
       "      <td>1.352134</td>\n",
       "      <td>0.185951</td>\n",
       "      <td>0.127077</td>\n",
       "    </tr>\n",
       "    <tr>\n",
       "      <th>18</th>\n",
       "      <td>ese_vovnet39b_666</td>\n",
       "      <td>100</td>\n",
       "      <td>0.847499</td>\n",
       "      <td>0.028680</td>\n",
       "      <td>5.854898</td>\n",
       "      <td>0.207583</td>\n",
       "      <td>0.034792</td>\n",
       "      <td>0.033278</td>\n",
       "    </tr>\n",
       "    <tr>\n",
       "      <th>19</th>\n",
       "      <td>ese_vovnet39b_555</td>\n",
       "      <td>100</td>\n",
       "      <td>0.820718</td>\n",
       "      <td>0.024620</td>\n",
       "      <td>13.573599</td>\n",
       "      <td>0.147451</td>\n",
       "      <td>0.123107</td>\n",
       "      <td>0.029555</td>\n",
       "    </tr>\n",
       "    <tr>\n",
       "      <th>20</th>\n",
       "      <td>mobilenetv3_large_100_333</td>\n",
       "      <td>100</td>\n",
       "      <td>0.651650</td>\n",
       "      <td>0.141435</td>\n",
       "      <td>11.214641</td>\n",
       "      <td>0.509434</td>\n",
       "      <td>0.190096</td>\n",
       "      <td>0.195794</td>\n",
       "    </tr>\n",
       "    <tr>\n",
       "      <th>21</th>\n",
       "      <td>mobilenetv3_large_100_444</td>\n",
       "      <td>100</td>\n",
       "      <td>0.681247</td>\n",
       "      <td>0.125720</td>\n",
       "      <td>11.042431</td>\n",
       "      <td>0.491300</td>\n",
       "      <td>0.161072</td>\n",
       "      <td>0.168955</td>\n",
       "    </tr>\n",
       "    <tr>\n",
       "      <th>22</th>\n",
       "      <td>mobilenetv3_large_100_555</td>\n",
       "      <td>100</td>\n",
       "      <td>0.689694</td>\n",
       "      <td>0.124542</td>\n",
       "      <td>12.560372</td>\n",
       "      <td>0.502112</td>\n",
       "      <td>0.176471</td>\n",
       "      <td>0.165622</td>\n",
       "    </tr>\n",
       "    <tr>\n",
       "      <th>23</th>\n",
       "      <td>mobilenetv3_large_100_666</td>\n",
       "      <td>100</td>\n",
       "      <td>0.694408</td>\n",
       "      <td>0.122446</td>\n",
       "      <td>18.804086</td>\n",
       "      <td>0.501072</td>\n",
       "      <td>0.259223</td>\n",
       "      <td>0.162045</td>\n",
       "    </tr>\n",
       "    <tr>\n",
       "      <th>24</th>\n",
       "      <td>model_000_333</td>\n",
       "      <td>100</td>\n",
       "      <td>0.032740</td>\n",
       "      <td>0.014144</td>\n",
       "      <td>1.282085</td>\n",
       "      <td>0.014730</td>\n",
       "      <td>0.308521</td>\n",
       "      <td>0.355263</td>\n",
       "    </tr>\n",
       "    <tr>\n",
       "      <th>25</th>\n",
       "      <td>model_000_444</td>\n",
       "      <td>100</td>\n",
       "      <td>0.032740</td>\n",
       "      <td>0.014929</td>\n",
       "      <td>1.614851</td>\n",
       "      <td>0.015555</td>\n",
       "      <td>0.381186</td>\n",
       "      <td>0.371336</td>\n",
       "    </tr>\n",
       "    <tr>\n",
       "      <th>26</th>\n",
       "      <td>model_000_555</td>\n",
       "      <td>100</td>\n",
       "      <td>0.031299</td>\n",
       "      <td>0.014929</td>\n",
       "      <td>1.171687</td>\n",
       "      <td>0.015531</td>\n",
       "      <td>0.304828</td>\n",
       "      <td>0.385135</td>\n",
       "    </tr>\n",
       "    <tr>\n",
       "      <th>27</th>\n",
       "      <td>model_000_666</td>\n",
       "      <td>100</td>\n",
       "      <td>0.032740</td>\n",
       "      <td>0.014929</td>\n",
       "      <td>1.602017</td>\n",
       "      <td>0.015555</td>\n",
       "      <td>0.384070</td>\n",
       "      <td>0.371336</td>\n",
       "    </tr>\n",
       "    <tr>\n",
       "      <th>28</th>\n",
       "      <td>model_010_333</td>\n",
       "      <td>100</td>\n",
       "      <td>0.038698</td>\n",
       "      <td>0.017156</td>\n",
       "      <td>1.696569</td>\n",
       "      <td>0.018007</td>\n",
       "      <td>0.404755</td>\n",
       "      <td>0.362881</td>\n",
       "    </tr>\n",
       "    <tr>\n",
       "      <th>29</th>\n",
       "      <td>model_010_666</td>\n",
       "      <td>100</td>\n",
       "      <td>0.040204</td>\n",
       "      <td>0.017287</td>\n",
       "      <td>1.252357</td>\n",
       "      <td>0.018174</td>\n",
       "      <td>0.307176</td>\n",
       "      <td>0.353887</td>\n",
       "    </tr>\n",
       "    <tr>\n",
       "      <th>30</th>\n",
       "      <td>model_010_444</td>\n",
       "      <td>100</td>\n",
       "      <td>0.039615</td>\n",
       "      <td>0.021608</td>\n",
       "      <td>1.433473</td>\n",
       "      <td>0.022755</td>\n",
       "      <td>0.368888</td>\n",
       "      <td>0.428571</td>\n",
       "    </tr>\n",
       "    <tr>\n",
       "      <th>31</th>\n",
       "      <td>model_010_555</td>\n",
       "      <td>100</td>\n",
       "      <td>0.040073</td>\n",
       "      <td>0.018072</td>\n",
       "      <td>1.462415</td>\n",
       "      <td>0.019006</td>\n",
       "      <td>0.355954</td>\n",
       "      <td>0.368000</td>\n",
       "    </tr>\n",
       "    <tr>\n",
       "      <th>32</th>\n",
       "      <td>model_680_333</td>\n",
       "      <td>100</td>\n",
       "      <td>0.034311</td>\n",
       "      <td>0.015977</td>\n",
       "      <td>1.613803</td>\n",
       "      <td>0.016683</td>\n",
       "      <td>0.354415</td>\n",
       "      <td>0.377709</td>\n",
       "    </tr>\n",
       "    <tr>\n",
       "      <th>33</th>\n",
       "      <td>model_680_555</td>\n",
       "      <td>100</td>\n",
       "      <td>0.032281</td>\n",
       "      <td>0.015060</td>\n",
       "      <td>1.788764</td>\n",
       "      <td>0.015685</td>\n",
       "      <td>0.405516</td>\n",
       "      <td>0.378289</td>\n",
       "    </tr>\n",
       "    <tr>\n",
       "      <th>34</th>\n",
       "      <td>model_680_666</td>\n",
       "      <td>100</td>\n",
       "      <td>0.032805</td>\n",
       "      <td>0.016632</td>\n",
       "      <td>2.095731</td>\n",
       "      <td>0.017345</td>\n",
       "      <td>0.470663</td>\n",
       "      <td>0.404459</td>\n",
       "    </tr>\n",
       "    <tr>\n",
       "      <th>35</th>\n",
       "      <td>model_680_444</td>\n",
       "      <td>100</td>\n",
       "      <td>0.032478</td>\n",
       "      <td>0.016239</td>\n",
       "      <td>1.883840</td>\n",
       "      <td>0.016926</td>\n",
       "      <td>0.435632</td>\n",
       "      <td>0.400000</td>\n",
       "    </tr>\n",
       "  </tbody>\n",
       "</table>\n",
       "</div>"
      ],
      "text/plain": [
       "                         index  epoch     Error  Disparity  Rank Disparity  \\\n",
       "0                 densenet_333    100  0.204819   0.079885        2.018727   \n",
       "1                 densenet_444    100  0.237166   0.147197       10.876113   \n",
       "2                 densenet_555    100  0.218897   0.140257       13.028156   \n",
       "3                 densenet_666    100  0.173782   0.079885        1.087611   \n",
       "4       dpn107_CosFace_SGD_333    100  0.050288   0.040597        2.875196   \n",
       "5       dpn107_CosFace_SGD_444    100  0.045574   0.034835        2.535621   \n",
       "6       dpn107_CosFace_SGD_555    100  0.052842   0.040204        2.704034   \n",
       "7       dpn107_CosFace_SGD_666    100  0.048979   0.038240        2.996726   \n",
       "8       dpn107_MagFace_SGD_444    100  0.168740   0.102803        1.389078   \n",
       "9   dpn107_MagFace_SGD_444_act    100  0.128929   0.078444        1.233761   \n",
       "10      dpn107_MagFace_SGD_555    100  0.129060   0.078968        1.284704   \n",
       "11      dpn107_MagFace_SGD_666    100  0.126506   0.067837        1.836040   \n",
       "12              rexnet_200_333    100  0.099790   0.068360        3.127161   \n",
       "13              rexnet_200_444    100  0.102868   0.065610        2.113672   \n",
       "14              rexnet_200_555    100  0.102541   0.064432        2.073075   \n",
       "15              rexnet_200_666    100  0.101100   0.068098        2.177580   \n",
       "16           ese_vovnet39b_333    100  0.802514   0.040859       13.710581   \n",
       "17           ese_vovnet39b_444    100  0.856011   0.116160       33.833421   \n",
       "18           ese_vovnet39b_666    100  0.847499   0.028680        5.854898   \n",
       "19           ese_vovnet39b_555    100  0.820718   0.024620       13.573599   \n",
       "20   mobilenetv3_large_100_333    100  0.651650   0.141435       11.214641   \n",
       "21   mobilenetv3_large_100_444    100  0.681247   0.125720       11.042431   \n",
       "22   mobilenetv3_large_100_555    100  0.689694   0.124542       12.560372   \n",
       "23   mobilenetv3_large_100_666    100  0.694408   0.122446       18.804086   \n",
       "24               model_000_333    100  0.032740   0.014144        1.282085   \n",
       "25               model_000_444    100  0.032740   0.014929        1.614851   \n",
       "26               model_000_555    100  0.031299   0.014929        1.171687   \n",
       "27               model_000_666    100  0.032740   0.014929        1.602017   \n",
       "28               model_010_333    100  0.038698   0.017156        1.696569   \n",
       "29               model_010_666    100  0.040204   0.017287        1.252357   \n",
       "30               model_010_444    100  0.039615   0.021608        1.433473   \n",
       "31               model_010_555    100  0.040073   0.018072        1.462415   \n",
       "32               model_680_333    100  0.034311   0.015977        1.613803   \n",
       "33               model_680_555    100  0.032281   0.015060        1.788764   \n",
       "34               model_680_666    100  0.032805   0.016632        2.095731   \n",
       "35               model_680_444    100  0.032478   0.016239        1.883840   \n",
       "\n",
       "       Ratio  Rank Ratio  Error Ratio  \n",
       "0   0.105774    0.136002     0.326378  \n",
       "1   0.213566    0.367779     0.473662  \n",
       "2   0.197274    0.576479     0.485274  \n",
       "3   0.101599    0.121236     0.373775  \n",
       "4   0.043680    0.538126     0.575139  \n",
       "5   0.037177    0.478334     0.553015  \n",
       "6   0.043368    0.464972     0.551167  \n",
       "7   0.041034    0.525008     0.561538  \n",
       "8   0.131822    0.165931     0.466984  \n",
       "9   0.094301    0.226363     0.466511  \n",
       "10  0.094976    0.259696     0.468531  \n",
       "11  0.080799    0.325305     0.422857  \n",
       "12  0.078935    0.623245     0.510264  \n",
       "13  0.075909    0.471145     0.483591  \n",
       "14  0.074466    0.488761     0.478134  \n",
       "15  0.078740    0.502873     0.503876  \n",
       "16  0.230769    0.150166     0.049650  \n",
       "17  1.352134    0.185951     0.127077  \n",
       "18  0.207583    0.034792     0.033278  \n",
       "19  0.147451    0.123107     0.029555  \n",
       "20  0.509434    0.190096     0.195794  \n",
       "21  0.491300    0.161072     0.168955  \n",
       "22  0.502112    0.176471     0.165622  \n",
       "23  0.501072    0.259223     0.162045  \n",
       "24  0.014730    0.308521     0.355263  \n",
       "25  0.015555    0.381186     0.371336  \n",
       "26  0.015531    0.304828     0.385135  \n",
       "27  0.015555    0.384070     0.371336  \n",
       "28  0.018007    0.404755     0.362881  \n",
       "29  0.018174    0.307176     0.353887  \n",
       "30  0.022755    0.368888     0.428571  \n",
       "31  0.019006    0.355954     0.368000  \n",
       "32  0.016683    0.354415     0.377709  \n",
       "33  0.015685    0.405516     0.378289  \n",
       "34  0.017345    0.470663     0.404459  \n",
       "35  0.016926    0.435632     0.400000  "
      ]
     },
     "execution_count": 54,
     "metadata": {},
     "output_type": "execute_result"
    }
   ],
   "source": [
    "celeba"
   ]
  },
  {
   "cell_type": "code",
   "execution_count": 62,
   "metadata": {},
   "outputs": [
    {
     "data": {
      "text/html": [
       "<div>\n",
       "<style scoped>\n",
       "    .dataframe tbody tr th:only-of-type {\n",
       "        vertical-align: middle;\n",
       "    }\n",
       "\n",
       "    .dataframe tbody tr th {\n",
       "        vertical-align: top;\n",
       "    }\n",
       "\n",
       "    .dataframe thead th {\n",
       "        text-align: right;\n",
       "    }\n",
       "</style>\n",
       "<table border=\"1\" class=\"dataframe\">\n",
       "  <thead>\n",
       "    <tr style=\"text-align: right;\">\n",
       "      <th></th>\n",
       "      <th>model_name</th>\n",
       "      <th>Error Mean</th>\n",
       "      <th>Error Std</th>\n",
       "      <th>Rank Disparity Mean</th>\n",
       "      <th>Rank Disparity Std</th>\n",
       "      <th>Rank Ratio Mean</th>\n",
       "      <th>Rank Ratio Std</th>\n",
       "      <th>Ratio Mean</th>\n",
       "      <th>Ratio Std</th>\n",
       "      <th>Disparity</th>\n",
       "      <th>Error</th>\n",
       "      <th>Error Ratio</th>\n",
       "      <th>Rank Disparity</th>\n",
       "      <th>Rank Ratio</th>\n",
       "      <th>Ratio</th>\n",
       "      <th>epoch</th>\n",
       "    </tr>\n",
       "  </thead>\n",
       "  <tbody>\n",
       "    <tr>\n",
       "      <th>0</th>\n",
       "      <td>NaN</td>\n",
       "      <td>NaN</td>\n",
       "      <td>NaN</td>\n",
       "      <td>NaN</td>\n",
       "      <td>NaN</td>\n",
       "      <td>NaN</td>\n",
       "      <td>NaN</td>\n",
       "      <td>NaN</td>\n",
       "      <td>NaN</td>\n",
       "      <td>0.015977</td>\n",
       "      <td>0.032969</td>\n",
       "      <td>0.390114</td>\n",
       "      <td>1.845534</td>\n",
       "      <td>0.416556</td>\n",
       "      <td>0.01666</td>\n",
       "      <td>100.0</td>\n",
       "    </tr>\n",
       "  </tbody>\n",
       "</table>\n",
       "</div>"
      ],
      "text/plain": [
       "  model_name Error Mean Error Std Rank Disparity Mean Rank Disparity Std  \\\n",
       "0        NaN        NaN       NaN                 NaN                NaN   \n",
       "\n",
       "  Rank Ratio Mean Rank Ratio Std Ratio Mean Ratio Std  Disparity     Error  \\\n",
       "0             NaN            NaN        NaN       NaN   0.015977  0.032969   \n",
       "\n",
       "   Error Ratio  Rank Disparity  Rank Ratio    Ratio  epoch  \n",
       "0     0.390114        1.845534    0.416556  0.01666  100.0  "
      ]
     },
     "execution_count": 62,
     "metadata": {},
     "output_type": "execute_result"
    }
   ],
   "source": [
    "celeba_val_phase2_mean.add(densenet, ignore_index=True)\n",
    "celeba_val_phase2_mean.append(dpn107_CosFace_SGD, ignore_index=True)\n",
    "celeba_val_phase2_mean.append(dpn107_MagFace_SGD, ignore_index=True)\n",
    "celeba_val_phase2_mean.append(rexnet_200, ignore_index=True)\n",
    "celeba_val_phase2_mean.append(ese_vovnet39b, ignore_index=True)\n",
    "celeba_val_phase2_mean.append(mobilenetv3_large_100, ignore_index=True)\n",
    "celeba_val_phase2_mean.append(model_000, ignore_index=True)\n",
    "celeba_val_phase2_mean.append(model_010, ignore_index=True)\n",
    "celeba_val_phase2_mean.append(model_680, ignore_index=True)"
   ]
  },
  {
   "cell_type": "code",
   "execution_count": 107,
   "metadata": {},
   "outputs": [],
   "source": [
    "celeba_val_phase2_mean = pd.DataFrame([densenet_mean,dpn107_CosFace_SGD_mean,dpn107_MagFace_SGD_mean,rexnet_200_mean,ese_vovnet39b_mean,mobilenetv3_large_100_mean,model_000_mean, model_010_mean, model_680_mean])\n",
    "model_names = [\"densenet\",\"dpn107_CosFace_SGD\",\"dpn107_MagFace_SGD\",\"rexnet_200\",\"ese_vovnet39b\",\"mobilenetv3_large_100\",\"model_000\", \"model_010\", \"model_680\"]\n",
    "celeba_val_phase2_mean[\"Model name\"] = model_names"
   ]
  },
  {
   "cell_type": "code",
   "execution_count": 79,
   "metadata": {},
   "outputs": [
    {
     "data": {
      "text/html": [
       "<div>\n",
       "<style scoped>\n",
       "    .dataframe tbody tr th:only-of-type {\n",
       "        vertical-align: middle;\n",
       "    }\n",
       "\n",
       "    .dataframe tbody tr th {\n",
       "        vertical-align: top;\n",
       "    }\n",
       "\n",
       "    .dataframe thead th {\n",
       "        text-align: right;\n",
       "    }\n",
       "</style>\n",
       "<table border=\"1\" class=\"dataframe\">\n",
       "  <thead>\n",
       "    <tr style=\"text-align: right;\">\n",
       "      <th></th>\n",
       "      <th>epoch</th>\n",
       "      <th>Error</th>\n",
       "      <th>Disparity</th>\n",
       "      <th>Rank Disparity</th>\n",
       "      <th>Ratio</th>\n",
       "      <th>Rank Ratio</th>\n",
       "      <th>Error Ratio</th>\n",
       "      <th>Model name</th>\n",
       "    </tr>\n",
       "  </thead>\n",
       "  <tbody>\n",
       "    <tr>\n",
       "      <th>0</th>\n",
       "      <td>100.0</td>\n",
       "      <td>0.208666</td>\n",
       "      <td>0.111806</td>\n",
       "      <td>6.752652</td>\n",
       "      <td>0.154553</td>\n",
       "      <td>0.300374</td>\n",
       "      <td>0.414772</td>\n",
       "      <td>densenet</td>\n",
       "    </tr>\n",
       "    <tr>\n",
       "      <th>1</th>\n",
       "      <td>100.0</td>\n",
       "      <td>0.049421</td>\n",
       "      <td>0.038469</td>\n",
       "      <td>2.777894</td>\n",
       "      <td>0.041315</td>\n",
       "      <td>0.501610</td>\n",
       "      <td>0.560215</td>\n",
       "      <td>dpn107_CosFace_SGD</td>\n",
       "    </tr>\n",
       "    <tr>\n",
       "      <th>2</th>\n",
       "      <td>100.0</td>\n",
       "      <td>0.138309</td>\n",
       "      <td>0.082013</td>\n",
       "      <td>1.435896</td>\n",
       "      <td>0.100474</td>\n",
       "      <td>0.244324</td>\n",
       "      <td>0.456221</td>\n",
       "      <td>dpn107_MagFace_SGD</td>\n",
       "    </tr>\n",
       "    <tr>\n",
       "      <th>3</th>\n",
       "      <td>100.0</td>\n",
       "      <td>0.101575</td>\n",
       "      <td>0.066625</td>\n",
       "      <td>2.372872</td>\n",
       "      <td>0.077013</td>\n",
       "      <td>0.521506</td>\n",
       "      <td>0.493966</td>\n",
       "      <td>rexnet_200</td>\n",
       "    </tr>\n",
       "    <tr>\n",
       "      <th>4</th>\n",
       "      <td>100.0</td>\n",
       "      <td>0.831685</td>\n",
       "      <td>0.052580</td>\n",
       "      <td>16.743125</td>\n",
       "      <td>0.484484</td>\n",
       "      <td>0.123504</td>\n",
       "      <td>0.059890</td>\n",
       "      <td>ese_vovnet39b</td>\n",
       "    </tr>\n",
       "    <tr>\n",
       "      <th>5</th>\n",
       "      <td>100.0</td>\n",
       "      <td>0.679250</td>\n",
       "      <td>0.128536</td>\n",
       "      <td>13.405382</td>\n",
       "      <td>0.500979</td>\n",
       "      <td>0.196716</td>\n",
       "      <td>0.173104</td>\n",
       "      <td>mobilenetv3_large_100</td>\n",
       "    </tr>\n",
       "    <tr>\n",
       "      <th>6</th>\n",
       "      <td>100.0</td>\n",
       "      <td>0.032380</td>\n",
       "      <td>0.014733</td>\n",
       "      <td>1.417660</td>\n",
       "      <td>0.015343</td>\n",
       "      <td>0.344651</td>\n",
       "      <td>0.370767</td>\n",
       "      <td>model_000</td>\n",
       "    </tr>\n",
       "    <tr>\n",
       "      <th>7</th>\n",
       "      <td>100.0</td>\n",
       "      <td>0.039648</td>\n",
       "      <td>0.018531</td>\n",
       "      <td>1.461204</td>\n",
       "      <td>0.019486</td>\n",
       "      <td>0.359193</td>\n",
       "      <td>0.378335</td>\n",
       "      <td>model_010</td>\n",
       "    </tr>\n",
       "    <tr>\n",
       "      <th>8</th>\n",
       "      <td>100.0</td>\n",
       "      <td>0.032969</td>\n",
       "      <td>0.015977</td>\n",
       "      <td>1.845534</td>\n",
       "      <td>0.016660</td>\n",
       "      <td>0.416556</td>\n",
       "      <td>0.390114</td>\n",
       "      <td>model_680</td>\n",
       "    </tr>\n",
       "  </tbody>\n",
       "</table>\n",
       "</div>"
      ],
      "text/plain": [
       "   epoch     Error  Disparity  Rank Disparity     Ratio  Rank Ratio  \\\n",
       "0  100.0  0.208666   0.111806        6.752652  0.154553    0.300374   \n",
       "1  100.0  0.049421   0.038469        2.777894  0.041315    0.501610   \n",
       "2  100.0  0.138309   0.082013        1.435896  0.100474    0.244324   \n",
       "3  100.0  0.101575   0.066625        2.372872  0.077013    0.521506   \n",
       "4  100.0  0.831685   0.052580       16.743125  0.484484    0.123504   \n",
       "5  100.0  0.679250   0.128536       13.405382  0.500979    0.196716   \n",
       "6  100.0  0.032380   0.014733        1.417660  0.015343    0.344651   \n",
       "7  100.0  0.039648   0.018531        1.461204  0.019486    0.359193   \n",
       "8  100.0  0.032969   0.015977        1.845534  0.016660    0.416556   \n",
       "\n",
       "   Error Ratio             Model name  \n",
       "0     0.414772               densenet  \n",
       "1     0.560215     dpn107_CosFace_SGD  \n",
       "2     0.456221     dpn107_MagFace_SGD  \n",
       "3     0.493966             rexnet_200  \n",
       "4     0.059890          ese_vovnet39b  \n",
       "5     0.173104  mobilenetv3_large_100  \n",
       "6     0.370767              model_000  \n",
       "7     0.378335              model_010  \n",
       "8     0.390114              model_680  "
      ]
     },
     "execution_count": 79,
     "metadata": {},
     "output_type": "execute_result"
    }
   ],
   "source": [
    "celeba_val_phase2_mean"
   ]
  },
  {
   "cell_type": "code",
   "execution_count": 108,
   "metadata": {},
   "outputs": [],
   "source": [
    "celeba_val_phase2_std = pd.DataFrame([densenet_std,dpn107_CosFace_SGD_std,dpn107_MagFace_SGD_std,rexnet_200_std,ese_vovnet39b_std,mobilenetv3_large_100_std,model_000_std, model_010_std, model_680_std])\n",
    "model_names = [\"densenet\",\"dpn107_CosFace_SGD\",\"dpn107_MagFace_SGD\",\"rexnet_200\",\"ese_vovnet39b\",\"mobilenetv3_large_100\",\"model_000\", \"model_010\", \"model_680\"]\n",
    "celeba_val_phase2_std[\"Model name\"] = model_names"
   ]
  },
  {
   "cell_type": "code",
   "execution_count": 70,
   "metadata": {},
   "outputs": [],
   "source": [
    "model_names = [\"densenet\",\"dpn107_CosFace_SGD\",\"dpn107_MagFace_SGD\",\"rexnet_200\",\"ese_vovnet39b\",\"mobilenetv3_large_100\",\"model_000\", \"model_010\", \"model_680\"]"
   ]
  },
  {
   "cell_type": "code",
   "execution_count": 71,
   "metadata": {},
   "outputs": [],
   "source": [
    "celeba_val_phase2_mean[\"Model name\"] = model_names"
   ]
  },
  {
   "cell_type": "code",
   "execution_count": 109,
   "metadata": {},
   "outputs": [
    {
     "data": {
      "text/html": [
       "<div>\n",
       "<style scoped>\n",
       "    .dataframe tbody tr th:only-of-type {\n",
       "        vertical-align: middle;\n",
       "    }\n",
       "\n",
       "    .dataframe tbody tr th {\n",
       "        vertical-align: top;\n",
       "    }\n",
       "\n",
       "    .dataframe thead th {\n",
       "        text-align: right;\n",
       "    }\n",
       "</style>\n",
       "<table border=\"1\" class=\"dataframe\">\n",
       "  <thead>\n",
       "    <tr style=\"text-align: right;\">\n",
       "      <th></th>\n",
       "      <th>epoch</th>\n",
       "      <th>Error</th>\n",
       "      <th>Disparity</th>\n",
       "      <th>Rank Disparity</th>\n",
       "      <th>Ratio</th>\n",
       "      <th>Rank Ratio</th>\n",
       "      <th>Error Ratio</th>\n",
       "      <th>Model name</th>\n",
       "    </tr>\n",
       "  </thead>\n",
       "  <tbody>\n",
       "    <tr>\n",
       "      <th>0</th>\n",
       "      <td>100.0</td>\n",
       "      <td>0.196962</td>\n",
       "      <td>0.090361</td>\n",
       "      <td>4.633774</td>\n",
       "      <td>0.120556</td>\n",
       "      <td>0.245234</td>\n",
       "      <td>0.367122</td>\n",
       "      <td>densenet</td>\n",
       "    </tr>\n",
       "    <tr>\n",
       "      <th>1</th>\n",
       "      <td>100.0</td>\n",
       "      <td>0.047702</td>\n",
       "      <td>0.042365</td>\n",
       "      <td>4.174961</td>\n",
       "      <td>0.045508</td>\n",
       "      <td>0.707528</td>\n",
       "      <td>0.614987</td>\n",
       "      <td>dpn107_CosFace_SGD</td>\n",
       "    </tr>\n",
       "    <tr>\n",
       "      <th>2</th>\n",
       "      <td>100.0</td>\n",
       "      <td>0.125246</td>\n",
       "      <td>0.082668</td>\n",
       "      <td>2.577691</td>\n",
       "      <td>0.099571</td>\n",
       "      <td>0.488740</td>\n",
       "      <td>0.495716</td>\n",
       "      <td>dpn107_MagFace_SGD</td>\n",
       "    </tr>\n",
       "    <tr>\n",
       "      <th>3</th>\n",
       "      <td>100.0</td>\n",
       "      <td>0.093357</td>\n",
       "      <td>0.066560</td>\n",
       "      <td>3.235660</td>\n",
       "      <td>0.076210</td>\n",
       "      <td>0.730907</td>\n",
       "      <td>0.525711</td>\n",
       "      <td>rexnet_200</td>\n",
       "    </tr>\n",
       "    <tr>\n",
       "      <th>4</th>\n",
       "      <td>100.0</td>\n",
       "      <td>0.833748</td>\n",
       "      <td>0.048324</td>\n",
       "      <td>13.908755</td>\n",
       "      <td>0.451304</td>\n",
       "      <td>0.097388</td>\n",
       "      <td>0.054998</td>\n",
       "      <td>ese_vovnet39b</td>\n",
       "    </tr>\n",
       "    <tr>\n",
       "      <th>5</th>\n",
       "      <td>100.0</td>\n",
       "      <td>0.676647</td>\n",
       "      <td>0.110300</td>\n",
       "      <td>11.334665</td>\n",
       "      <td>0.410573</td>\n",
       "      <td>0.184857</td>\n",
       "      <td>0.150916</td>\n",
       "      <td>mobilenetv3_large_100</td>\n",
       "    </tr>\n",
       "    <tr>\n",
       "      <th>6</th>\n",
       "      <td>100.0</td>\n",
       "      <td>0.031414</td>\n",
       "      <td>0.022165</td>\n",
       "      <td>3.407707</td>\n",
       "      <td>0.023149</td>\n",
       "      <td>0.707063</td>\n",
       "      <td>0.521528</td>\n",
       "      <td>model_000</td>\n",
       "    </tr>\n",
       "    <tr>\n",
       "      <th>7</th>\n",
       "      <td>100.0</td>\n",
       "      <td>0.039206</td>\n",
       "      <td>0.022296</td>\n",
       "      <td>3.182949</td>\n",
       "      <td>0.023478</td>\n",
       "      <td>0.676861</td>\n",
       "      <td>0.442686</td>\n",
       "      <td>model_010</td>\n",
       "    </tr>\n",
       "    <tr>\n",
       "      <th>8</th>\n",
       "      <td>100.0</td>\n",
       "      <td>0.031921</td>\n",
       "      <td>0.019513</td>\n",
       "      <td>3.811518</td>\n",
       "      <td>0.020364</td>\n",
       "      <td>0.722324</td>\n",
       "      <td>0.467678</td>\n",
       "      <td>model_680</td>\n",
       "    </tr>\n",
       "  </tbody>\n",
       "</table>\n",
       "</div>"
      ],
      "text/plain": [
       "   epoch     Error  Disparity  Rank Disparity     Ratio  Rank Ratio  \\\n",
       "0  100.0  0.196962   0.090361        4.633774  0.120556    0.245234   \n",
       "1  100.0  0.047702   0.042365        4.174961  0.045508    0.707528   \n",
       "2  100.0  0.125246   0.082668        2.577691  0.099571    0.488740   \n",
       "3  100.0  0.093357   0.066560        3.235660  0.076210    0.730907   \n",
       "4  100.0  0.833748   0.048324       13.908755  0.451304    0.097388   \n",
       "5  100.0  0.676647   0.110300       11.334665  0.410573    0.184857   \n",
       "6  100.0  0.031414   0.022165        3.407707  0.023149    0.707063   \n",
       "7  100.0  0.039206   0.022296        3.182949  0.023478    0.676861   \n",
       "8  100.0  0.031921   0.019513        3.811518  0.020364    0.722324   \n",
       "\n",
       "   Error Ratio             Model name  \n",
       "0     0.367122               densenet  \n",
       "1     0.614987     dpn107_CosFace_SGD  \n",
       "2     0.495716     dpn107_MagFace_SGD  \n",
       "3     0.525711             rexnet_200  \n",
       "4     0.054998          ese_vovnet39b  \n",
       "5     0.150916  mobilenetv3_large_100  \n",
       "6     0.521528              model_000  \n",
       "7     0.442686              model_010  \n",
       "8     0.467678              model_680  "
      ]
     },
     "execution_count": 109,
     "metadata": {},
     "output_type": "execute_result"
    }
   ],
   "source": [
    "celeba_val_phase2_mean"
   ]
  },
  {
   "cell_type": "code",
   "execution_count": null,
   "metadata": {},
   "outputs": [],
   "source": [
    "def plot_figure(metric_name, metric_suffix, split, df):\n",
    "    colors = ['#e6194B', '#3cb44b', '#ffe119','#f58231','#42d4f4',\n",
    "              '#f032e6','#fabed4','#469990','#aaffc3','#000075','#e6194B','#9a6324','#dcbeff', '#42d4f4']\n",
    "    plotted_models = df[\"Model name\"]\n",
    "    color_map = {}\n",
    "    for c,m in zip(colors,plotted_models):\n",
    "        color_map[m] = c\n",
    "    fig = px.scatter(df, \n",
    "                     x='Error', \n",
    "                     y=f'{metric_name}_mean', \n",
    "                     error_x = \"Accuracy_std\", \n",
    "                     error_y = f\"{metric_name}_std\", \n",
    "                     color=\"Model\", \n",
    "                     color_discrete_map=color_map,\n",
    "                     template=\"simple_white\",\n",
    "                     width=1200, height= 1000\n",
    "                    )\n",
    "    if metric_name == 'Rank Disparity':\n",
    "        fig.update_layout(\n",
    "            xaxis_range=[0,0.15],\n",
    "            yaxis_range=[-.01,.6]\n",
    "        )\n",
    "    fig.update_layout(\n",
    "        xaxis_title=\"Error\",\n",
    "        yaxis_title=metric_name,\n",
    "        legend_title=\"Models\",\n",
    "        font=dict(\n",
    "            family=\"Times New Roman\",\n",
    "            size=38,\n",
    "            color=\"Black\"\n",
    "        )\n",
    "    )\n",
    "    fig.update_traces(marker=dict(size=20))\n",
    "    fig.update_layout(legend=dict(\n",
    "        orientation=\"h\",\n",
    "        yanchor=\"bottom\",\n",
    "        y=1.02,\n",
    "        xanchor=\"right\",\n",
    "        x=1,\n",
    "        font=dict(\n",
    "            family=\"Times New Roman\",\n",
    "            size=28,\n",
    "            color=\"Black\"\n",
    "        )\n",
    "    ))\n",
    "    p = np.array(preparePareto(df[['Accuracy_mean',f'{metric_name}_mean']], False, False).dropna())\n",
    "    for x, y in zip(p[:-1], p[1:]):\n",
    "        fig.add_shape(type='line',\n",
    "                    x0=x[0],y0=x[1],x1=y[0],y1=y[1],\n",
    "                    line=dict(color='gray',width=4),line_dash='dash',\n",
    "                    xref='x',yref='y')\n",
    "    # plotly.io.write_image(fig, f'_RQ2_{split}_vgg_{metric_suffix}.png', format='png')\n",
    "    fig.show()"
   ]
  },
  {
   "cell_type": "code",
   "execution_count": 81,
   "metadata": {},
   "outputs": [
    {
     "data": {
      "text/html": [
       "<div>\n",
       "<style scoped>\n",
       "    .dataframe tbody tr th:only-of-type {\n",
       "        vertical-align: middle;\n",
       "    }\n",
       "\n",
       "    .dataframe tbody tr th {\n",
       "        vertical-align: top;\n",
       "    }\n",
       "\n",
       "    .dataframe thead th {\n",
       "        text-align: right;\n",
       "    }\n",
       "</style>\n",
       "<table border=\"1\" class=\"dataframe\">\n",
       "  <thead>\n",
       "    <tr style=\"text-align: right;\">\n",
       "      <th></th>\n",
       "      <th>epoch</th>\n",
       "      <th>Error</th>\n",
       "      <th>Disparity</th>\n",
       "      <th>Rank Disparity</th>\n",
       "      <th>Ratio</th>\n",
       "      <th>Rank Ratio</th>\n",
       "      <th>Error Ratio</th>\n",
       "      <th>Model name</th>\n",
       "    </tr>\n",
       "  </thead>\n",
       "  <tbody>\n",
       "    <tr>\n",
       "      <th>0</th>\n",
       "      <td>0.0</td>\n",
       "      <td>0.026762</td>\n",
       "      <td>0.036968</td>\n",
       "      <td>6.079682</td>\n",
       "      <td>0.059136</td>\n",
       "      <td>0.215937</td>\n",
       "      <td>0.077315</td>\n",
       "      <td>densenet</td>\n",
       "    </tr>\n",
       "    <tr>\n",
       "      <th>1</th>\n",
       "      <td>0.0</td>\n",
       "      <td>0.003025</td>\n",
       "      <td>0.002633</td>\n",
       "      <td>0.201252</td>\n",
       "      <td>0.003001</td>\n",
       "      <td>0.035426</td>\n",
       "      <td>0.010927</td>\n",
       "      <td>dpn107_CosFace_SGD</td>\n",
       "    </tr>\n",
       "    <tr>\n",
       "      <th>2</th>\n",
       "      <td>0.0</td>\n",
       "      <td>0.020322</td>\n",
       "      <td>0.014778</td>\n",
       "      <td>0.274484</td>\n",
       "      <td>0.021895</td>\n",
       "      <td>0.066489</td>\n",
       "      <td>0.022259</td>\n",
       "      <td>dpn107_MagFace_SGD</td>\n",
       "    </tr>\n",
       "    <tr>\n",
       "      <th>3</th>\n",
       "      <td>0.0</td>\n",
       "      <td>0.001416</td>\n",
       "      <td>0.001917</td>\n",
       "      <td>0.504696</td>\n",
       "      <td>0.002190</td>\n",
       "      <td>0.069057</td>\n",
       "      <td>0.015515</td>\n",
       "      <td>rexnet_200</td>\n",
       "    </tr>\n",
       "    <tr>\n",
       "      <th>4</th>\n",
       "      <td>0.0</td>\n",
       "      <td>0.024583</td>\n",
       "      <td>0.042945</td>\n",
       "      <td>11.970435</td>\n",
       "      <td>0.579498</td>\n",
       "      <td>0.064499</td>\n",
       "      <td>0.045634</td>\n",
       "      <td>ese_vovnet39b</td>\n",
       "    </tr>\n",
       "  </tbody>\n",
       "</table>\n",
       "</div>"
      ],
      "text/plain": [
       "   epoch     Error  Disparity  Rank Disparity     Ratio  Rank Ratio  \\\n",
       "0    0.0  0.026762   0.036968        6.079682  0.059136    0.215937   \n",
       "1    0.0  0.003025   0.002633        0.201252  0.003001    0.035426   \n",
       "2    0.0  0.020322   0.014778        0.274484  0.021895    0.066489   \n",
       "3    0.0  0.001416   0.001917        0.504696  0.002190    0.069057   \n",
       "4    0.0  0.024583   0.042945       11.970435  0.579498    0.064499   \n",
       "\n",
       "   Error Ratio          Model name  \n",
       "0     0.077315            densenet  \n",
       "1     0.010927  dpn107_CosFace_SGD  \n",
       "2     0.022259  dpn107_MagFace_SGD  \n",
       "3     0.015515          rexnet_200  \n",
       "4     0.045634       ese_vovnet39b  "
      ]
     },
     "execution_count": 81,
     "metadata": {},
     "output_type": "execute_result"
    }
   ],
   "source": [
    "celeba_val_phase2_std.head()"
   ]
  },
  {
   "cell_type": "code",
   "execution_count": 83,
   "metadata": {},
   "outputs": [
    {
     "data": {
      "text/html": [
       "<div>\n",
       "<style scoped>\n",
       "    .dataframe tbody tr th:only-of-type {\n",
       "        vertical-align: middle;\n",
       "    }\n",
       "\n",
       "    .dataframe tbody tr th {\n",
       "        vertical-align: top;\n",
       "    }\n",
       "\n",
       "    .dataframe thead th {\n",
       "        text-align: right;\n",
       "    }\n",
       "</style>\n",
       "<table border=\"1\" class=\"dataframe\">\n",
       "  <thead>\n",
       "    <tr style=\"text-align: right;\">\n",
       "      <th></th>\n",
       "      <th>epoch</th>\n",
       "      <th>Error</th>\n",
       "      <th>Disparity</th>\n",
       "      <th>Rank Disparity</th>\n",
       "      <th>Ratio</th>\n",
       "      <th>Rank Ratio</th>\n",
       "      <th>Error Ratio</th>\n",
       "      <th>Model name</th>\n",
       "    </tr>\n",
       "  </thead>\n",
       "  <tbody>\n",
       "    <tr>\n",
       "      <th>0</th>\n",
       "      <td>0.0</td>\n",
       "      <td>0.026762</td>\n",
       "      <td>0.036968</td>\n",
       "      <td>6.079682</td>\n",
       "      <td>0.059136</td>\n",
       "      <td>0.215937</td>\n",
       "      <td>0.077315</td>\n",
       "      <td>densenet</td>\n",
       "    </tr>\n",
       "    <tr>\n",
       "      <th>1</th>\n",
       "      <td>0.0</td>\n",
       "      <td>0.003025</td>\n",
       "      <td>0.002633</td>\n",
       "      <td>0.201252</td>\n",
       "      <td>0.003001</td>\n",
       "      <td>0.035426</td>\n",
       "      <td>0.010927</td>\n",
       "      <td>dpn107_CosFace_SGD</td>\n",
       "    </tr>\n",
       "    <tr>\n",
       "      <th>2</th>\n",
       "      <td>0.0</td>\n",
       "      <td>0.020322</td>\n",
       "      <td>0.014778</td>\n",
       "      <td>0.274484</td>\n",
       "      <td>0.021895</td>\n",
       "      <td>0.066489</td>\n",
       "      <td>0.022259</td>\n",
       "      <td>dpn107_MagFace_SGD</td>\n",
       "    </tr>\n",
       "    <tr>\n",
       "      <th>3</th>\n",
       "      <td>0.0</td>\n",
       "      <td>0.001416</td>\n",
       "      <td>0.001917</td>\n",
       "      <td>0.504696</td>\n",
       "      <td>0.002190</td>\n",
       "      <td>0.069057</td>\n",
       "      <td>0.015515</td>\n",
       "      <td>rexnet_200</td>\n",
       "    </tr>\n",
       "    <tr>\n",
       "      <th>4</th>\n",
       "      <td>0.0</td>\n",
       "      <td>0.024583</td>\n",
       "      <td>0.042945</td>\n",
       "      <td>11.970435</td>\n",
       "      <td>0.579498</td>\n",
       "      <td>0.064499</td>\n",
       "      <td>0.045634</td>\n",
       "      <td>ese_vovnet39b</td>\n",
       "    </tr>\n",
       "  </tbody>\n",
       "</table>\n",
       "</div>"
      ],
      "text/plain": [
       "   epoch     Error  Disparity  Rank Disparity     Ratio  Rank Ratio  \\\n",
       "0    0.0  0.026762   0.036968        6.079682  0.059136    0.215937   \n",
       "1    0.0  0.003025   0.002633        0.201252  0.003001    0.035426   \n",
       "2    0.0  0.020322   0.014778        0.274484  0.021895    0.066489   \n",
       "3    0.0  0.001416   0.001917        0.504696  0.002190    0.069057   \n",
       "4    0.0  0.024583   0.042945       11.970435  0.579498    0.064499   \n",
       "\n",
       "   Error Ratio          Model name  \n",
       "0     0.077315            densenet  \n",
       "1     0.010927  dpn107_CosFace_SGD  \n",
       "2     0.022259  dpn107_MagFace_SGD  \n",
       "3     0.015515          rexnet_200  \n",
       "4     0.045634       ese_vovnet39b  "
      ]
     },
     "execution_count": 83,
     "metadata": {},
     "output_type": "execute_result"
    }
   ],
   "source": [
    "celeba_val_phase2_std.head()"
   ]
  },
  {
   "cell_type": "code",
   "execution_count": 110,
   "metadata": {},
   "outputs": [],
   "source": [
    "name_change_dict_mean = {'Error': 'Error_mean', \n",
    " 'Disparity': 'Disparity_mean',\n",
    "  'Rank Disparity': 'Rank Disparity_mean',\n",
    "   'Ratio': 'Ratio_mean',\n",
    "    'Rank Ratio': 'Rank Ratio_mean',\n",
    "     'Error Ratio': 'Error Ratio_mean'}\n",
    "name_change_dict_std = {'Error': 'Error_std',\n",
    "    'Disparity': 'Disparity_std',\n",
    "    'Rank Disparity': 'Rank Disparity_std',\n",
    "    'Ratio': 'Ratio_std',\n",
    "        'Rank Ratio': 'Rank Ratio_std',\n",
    "        'Error Ratio': 'Error Ratio_std'}"
   ]
  },
  {
   "cell_type": "code",
   "execution_count": 111,
   "metadata": {},
   "outputs": [],
   "source": [
    "celeba_val_phase2_mean = celeba_val_phase2_mean.rename(columns=name_change_dict_mean)\n",
    "celeba_val_phase2_std = celeba_val_phase2_std.rename(columns=name_change_dict_std)\n",
    "#merge the two dataframes\n",
    "celeba_val_phase2 = pd.merge(celeba_val_phase2_mean, celeba_val_phase2_std, on=\"Model name\")"
   ]
  },
  {
   "cell_type": "code",
   "execution_count": 112,
   "metadata": {},
   "outputs": [
    {
     "data": {
      "text/html": [
       "<div>\n",
       "<style scoped>\n",
       "    .dataframe tbody tr th:only-of-type {\n",
       "        vertical-align: middle;\n",
       "    }\n",
       "\n",
       "    .dataframe tbody tr th {\n",
       "        vertical-align: top;\n",
       "    }\n",
       "\n",
       "    .dataframe thead th {\n",
       "        text-align: right;\n",
       "    }\n",
       "</style>\n",
       "<table border=\"1\" class=\"dataframe\">\n",
       "  <thead>\n",
       "    <tr style=\"text-align: right;\">\n",
       "      <th></th>\n",
       "      <th>epoch_x</th>\n",
       "      <th>Error_mean</th>\n",
       "      <th>Disparity_mean</th>\n",
       "      <th>Rank Disparity_mean</th>\n",
       "      <th>Ratio_mean</th>\n",
       "      <th>Rank Ratio_mean</th>\n",
       "      <th>Error Ratio_mean</th>\n",
       "      <th>Model name</th>\n",
       "      <th>epoch_y</th>\n",
       "      <th>Error_std</th>\n",
       "      <th>Disparity_std</th>\n",
       "      <th>Rank Disparity_std</th>\n",
       "      <th>Ratio_std</th>\n",
       "      <th>Rank Ratio_std</th>\n",
       "      <th>Error Ratio_std</th>\n",
       "    </tr>\n",
       "  </thead>\n",
       "  <tbody>\n",
       "    <tr>\n",
       "      <th>0</th>\n",
       "      <td>100.0</td>\n",
       "      <td>0.196962</td>\n",
       "      <td>0.090361</td>\n",
       "      <td>4.633774</td>\n",
       "      <td>0.120556</td>\n",
       "      <td>0.245234</td>\n",
       "      <td>0.367122</td>\n",
       "      <td>densenet</td>\n",
       "      <td>0.0</td>\n",
       "      <td>0.022166</td>\n",
       "      <td>0.028342</td>\n",
       "      <td>5.171622</td>\n",
       "      <td>0.042091</td>\n",
       "      <td>0.259361</td>\n",
       "      <td>0.072732</td>\n",
       "    </tr>\n",
       "    <tr>\n",
       "      <th>1</th>\n",
       "      <td>100.0</td>\n",
       "      <td>0.047702</td>\n",
       "      <td>0.042365</td>\n",
       "      <td>4.174961</td>\n",
       "      <td>0.045508</td>\n",
       "      <td>0.707528</td>\n",
       "      <td>0.614987</td>\n",
       "      <td>dpn107_CosFace_SGD</td>\n",
       "      <td>0.0</td>\n",
       "      <td>0.002739</td>\n",
       "      <td>0.002598</td>\n",
       "      <td>0.192149</td>\n",
       "      <td>0.002968</td>\n",
       "      <td>0.026228</td>\n",
       "      <td>0.011561</td>\n",
       "    </tr>\n",
       "    <tr>\n",
       "      <th>2</th>\n",
       "      <td>100.0</td>\n",
       "      <td>0.125246</td>\n",
       "      <td>0.082668</td>\n",
       "      <td>2.577691</td>\n",
       "      <td>0.099571</td>\n",
       "      <td>0.488740</td>\n",
       "      <td>0.495716</td>\n",
       "      <td>dpn107_MagFace_SGD</td>\n",
       "      <td>0.0</td>\n",
       "      <td>0.017081</td>\n",
       "      <td>0.012529</td>\n",
       "      <td>0.133573</td>\n",
       "      <td>0.018200</td>\n",
       "      <td>0.096247</td>\n",
       "      <td>0.009809</td>\n",
       "    </tr>\n",
       "    <tr>\n",
       "      <th>3</th>\n",
       "      <td>100.0</td>\n",
       "      <td>0.093357</td>\n",
       "      <td>0.066560</td>\n",
       "      <td>3.235660</td>\n",
       "      <td>0.076210</td>\n",
       "      <td>0.730907</td>\n",
       "      <td>0.525711</td>\n",
       "      <td>rexnet_200</td>\n",
       "      <td>0.0</td>\n",
       "      <td>0.002276</td>\n",
       "      <td>0.002353</td>\n",
       "      <td>0.074588</td>\n",
       "      <td>0.002661</td>\n",
       "      <td>0.020975</td>\n",
       "      <td>0.021397</td>\n",
       "    </tr>\n",
       "    <tr>\n",
       "      <th>4</th>\n",
       "      <td>100.0</td>\n",
       "      <td>0.833748</td>\n",
       "      <td>0.048324</td>\n",
       "      <td>13.908755</td>\n",
       "      <td>0.451304</td>\n",
       "      <td>0.097388</td>\n",
       "      <td>0.054998</td>\n",
       "      <td>ese_vovnet39b</td>\n",
       "      <td>0.0</td>\n",
       "      <td>0.027339</td>\n",
       "      <td>0.041997</td>\n",
       "      <td>15.559270</td>\n",
       "      <td>0.565383</td>\n",
       "      <td>0.083892</td>\n",
       "      <td>0.044692</td>\n",
       "    </tr>\n",
       "    <tr>\n",
       "      <th>5</th>\n",
       "      <td>100.0</td>\n",
       "      <td>0.676647</td>\n",
       "      <td>0.110300</td>\n",
       "      <td>11.334665</td>\n",
       "      <td>0.410573</td>\n",
       "      <td>0.184857</td>\n",
       "      <td>0.150916</td>\n",
       "      <td>mobilenetv3_large_100</td>\n",
       "      <td>0.0</td>\n",
       "      <td>0.017052</td>\n",
       "      <td>0.014389</td>\n",
       "      <td>3.240717</td>\n",
       "      <td>0.041286</td>\n",
       "      <td>0.038056</td>\n",
       "      <td>0.021623</td>\n",
       "    </tr>\n",
       "    <tr>\n",
       "      <th>6</th>\n",
       "      <td>100.0</td>\n",
       "      <td>0.031414</td>\n",
       "      <td>0.022165</td>\n",
       "      <td>3.407707</td>\n",
       "      <td>0.023149</td>\n",
       "      <td>0.707063</td>\n",
       "      <td>0.521528</td>\n",
       "      <td>model_000</td>\n",
       "      <td>0.0</td>\n",
       "      <td>0.000216</td>\n",
       "      <td>0.000494</td>\n",
       "      <td>0.291951</td>\n",
       "      <td>0.000526</td>\n",
       "      <td>0.032835</td>\n",
       "      <td>0.006815</td>\n",
       "    </tr>\n",
       "    <tr>\n",
       "      <th>7</th>\n",
       "      <td>100.0</td>\n",
       "      <td>0.039206</td>\n",
       "      <td>0.022296</td>\n",
       "      <td>3.182949</td>\n",
       "      <td>0.023478</td>\n",
       "      <td>0.676861</td>\n",
       "      <td>0.442686</td>\n",
       "      <td>model_010</td>\n",
       "      <td>0.0</td>\n",
       "      <td>0.000229</td>\n",
       "      <td>0.001022</td>\n",
       "      <td>0.066918</td>\n",
       "      <td>0.001087</td>\n",
       "      <td>0.017804</td>\n",
       "      <td>0.016720</td>\n",
       "    </tr>\n",
       "    <tr>\n",
       "      <th>8</th>\n",
       "      <td>100.0</td>\n",
       "      <td>0.031921</td>\n",
       "      <td>0.019513</td>\n",
       "      <td>3.811518</td>\n",
       "      <td>0.020364</td>\n",
       "      <td>0.722324</td>\n",
       "      <td>0.467678</td>\n",
       "      <td>model_680</td>\n",
       "      <td>0.0</td>\n",
       "      <td>0.001216</td>\n",
       "      <td>0.002122</td>\n",
       "      <td>0.189696</td>\n",
       "      <td>0.002242</td>\n",
       "      <td>0.013088</td>\n",
       "      <td>0.039673</td>\n",
       "    </tr>\n",
       "  </tbody>\n",
       "</table>\n",
       "</div>"
      ],
      "text/plain": [
       "   epoch_x  Error_mean  Disparity_mean  Rank Disparity_mean  Ratio_mean  \\\n",
       "0    100.0    0.196962        0.090361             4.633774    0.120556   \n",
       "1    100.0    0.047702        0.042365             4.174961    0.045508   \n",
       "2    100.0    0.125246        0.082668             2.577691    0.099571   \n",
       "3    100.0    0.093357        0.066560             3.235660    0.076210   \n",
       "4    100.0    0.833748        0.048324            13.908755    0.451304   \n",
       "5    100.0    0.676647        0.110300            11.334665    0.410573   \n",
       "6    100.0    0.031414        0.022165             3.407707    0.023149   \n",
       "7    100.0    0.039206        0.022296             3.182949    0.023478   \n",
       "8    100.0    0.031921        0.019513             3.811518    0.020364   \n",
       "\n",
       "   Rank Ratio_mean  Error Ratio_mean             Model name  epoch_y  \\\n",
       "0         0.245234          0.367122               densenet      0.0   \n",
       "1         0.707528          0.614987     dpn107_CosFace_SGD      0.0   \n",
       "2         0.488740          0.495716     dpn107_MagFace_SGD      0.0   \n",
       "3         0.730907          0.525711             rexnet_200      0.0   \n",
       "4         0.097388          0.054998          ese_vovnet39b      0.0   \n",
       "5         0.184857          0.150916  mobilenetv3_large_100      0.0   \n",
       "6         0.707063          0.521528              model_000      0.0   \n",
       "7         0.676861          0.442686              model_010      0.0   \n",
       "8         0.722324          0.467678              model_680      0.0   \n",
       "\n",
       "   Error_std  Disparity_std  Rank Disparity_std  Ratio_std  Rank Ratio_std  \\\n",
       "0   0.022166       0.028342            5.171622   0.042091        0.259361   \n",
       "1   0.002739       0.002598            0.192149   0.002968        0.026228   \n",
       "2   0.017081       0.012529            0.133573   0.018200        0.096247   \n",
       "3   0.002276       0.002353            0.074588   0.002661        0.020975   \n",
       "4   0.027339       0.041997           15.559270   0.565383        0.083892   \n",
       "5   0.017052       0.014389            3.240717   0.041286        0.038056   \n",
       "6   0.000216       0.000494            0.291951   0.000526        0.032835   \n",
       "7   0.000229       0.001022            0.066918   0.001087        0.017804   \n",
       "8   0.001216       0.002122            0.189696   0.002242        0.013088   \n",
       "\n",
       "   Error Ratio_std  \n",
       "0         0.072732  \n",
       "1         0.011561  \n",
       "2         0.009809  \n",
       "3         0.021397  \n",
       "4         0.044692  \n",
       "5         0.021623  \n",
       "6         0.006815  \n",
       "7         0.016720  \n",
       "8         0.039673  "
      ]
     },
     "execution_count": 112,
     "metadata": {},
     "output_type": "execute_result"
    }
   ],
   "source": [
    "celeba_val_phase2"
   ]
  },
  {
   "cell_type": "code",
   "execution_count": 113,
   "metadata": {},
   "outputs": [],
   "source": [
    "del celeba_val_phase2[\"epoch_x\"]\n",
    "del celeba_val_phase2[\"epoch_y\"]"
   ]
  },
  {
   "cell_type": "code",
   "execution_count": 114,
   "metadata": {},
   "outputs": [],
   "source": [
    "# save to csv\n",
    "celeba_val_phase2.to_csv(\"celeba_test_phase2.csv\", index=False)"
   ]
  },
  {
   "cell_type": "code",
   "execution_count": 115,
   "metadata": {},
   "outputs": [],
   "source": [
    "def plot_figure(metric_name, metric_suffix, split, df):\n",
    "    colors = ['#e6194B', '#3cb44b', '#ffe119','#f58231','#42d4f4',\n",
    "              '#f032e6','#fabed4','#469990','#aaffc3','#000075','#e6194B','#9a6324','#dcbeff', '#42d4f4']\n",
    "    plotted_models = df[\"Model name\"]\n",
    "    color_map = {}\n",
    "    for c,m in zip(colors,plotted_models):\n",
    "        color_map[m] = c\n",
    "    fig = px.scatter(df, \n",
    "                     x='Error_mean', \n",
    "                     y=f'{metric_name}_mean', \n",
    "                     error_x = \"Error_std\", \n",
    "                     error_y = f\"{metric_name}_std\", \n",
    "                     color=\"Model name\", \n",
    "                     color_discrete_map=color_map,\n",
    "                     template=\"simple_white\",\n",
    "                     width=1200, height= 1000\n",
    "                    )\n",
    "    #if metric_name == 'Rank Disparity':\n",
    "    #    fig.update_layout(\n",
    "    #        xaxis_range=[0,0.15],\n",
    "    #        yaxis_range=[-.01,.6]\n",
    "    #    )\n",
    "    fig.update_layout(\n",
    "        xaxis_title=\"Error_mean\",\n",
    "        yaxis_title=metric_name,\n",
    "        legend_title=\"Models\",\n",
    "        font=dict(\n",
    "            family=\"Times New Roman\",\n",
    "            size=38,\n",
    "            color=\"Black\"\n",
    "        )\n",
    "    )\n",
    "    fig.update_traces(marker=dict(size=20))\n",
    "    fig.update_layout(legend=dict(\n",
    "        orientation=\"h\",\n",
    "        yanchor=\"bottom\",\n",
    "        y=1.02,\n",
    "        xanchor=\"right\",\n",
    "        x=1,\n",
    "        font=dict(\n",
    "            family=\"Times New Roman\",\n",
    "            size=28,\n",
    "            color=\"Black\"\n",
    "        )\n",
    "    ))\n",
    "    p = np.array(preparePareto(df[['Error_mean',f'{metric_name}_mean']], False, False).dropna())\n",
    "    for x, y in zip(p[:-1], p[1:]):\n",
    "        fig.add_shape(type='line',\n",
    "                    x0=x[0],y0=x[1],x1=y[0],y1=y[1],\n",
    "                    line=dict(color='gray',width=4),line_dash='dash',\n",
    "                    xref='x',yref='y')\n",
    "    # plotly.io.write_image(fig, f'_RQ2_{split}_vgg_{metric_suffix}.png', format='png')\n",
    "    fig.show()"
   ]
  },
  {
   "cell_type": "code",
   "execution_count": 116,
   "metadata": {},
   "outputs": [
    {
     "data": {
      "application/vnd.plotly.v1+json": {
       "config": {
        "plotlyServerURL": "https://plot.ly"
       },
       "data": [
        {
         "error_x": {
          "array": [
           0.022165817892209345
          ]
         },
         "error_y": {
          "array": [
           0.02834238167118007
          ]
         },
         "hovertemplate": "Model name=densenet<br>Error_mean=%{x}<br>Disparity_mean=%{y}<extra></extra>",
         "legendgroup": "densenet",
         "marker": {
          "color": "#e6194B",
          "size": 20,
          "symbol": "circle"
         },
         "mode": "markers",
         "name": "densenet",
         "orientation": "v",
         "showlegend": true,
         "type": "scatter",
         "x": [
          0.1969617600838135
         ],
         "xaxis": "x",
         "y": [
          0.09036144578313254
         ],
         "yaxis": "y"
        },
        {
         "error_x": {
          "array": [
           0.0027389351127293272
          ]
         },
         "error_y": {
          "array": [
           0.002598354494400781
          ]
         },
         "hovertemplate": "Model name=dpn107_CosFace_SGD<br>Error_mean=%{x}<br>Disparity_mean=%{y}<extra></extra>",
         "legendgroup": "dpn107_CosFace_SGD",
         "marker": {
          "color": "#3cb44b",
          "size": 20,
          "symbol": "circle"
         },
         "mode": "markers",
         "name": "dpn107_CosFace_SGD",
         "orientation": "v",
         "showlegend": true,
         "type": "scatter",
         "x": [
          0.047701676270298615
         ],
         "xaxis": "x",
         "y": [
          0.0423651126244107
         ],
         "yaxis": "y"
        },
        {
         "error_x": {
          "array": [
           0.01708055302302517
          ]
         },
         "error_y": {
          "array": [
           0.012528925719578289
          ]
         },
         "hovertemplate": "Model name=dpn107_MagFace_SGD<br>Error_mean=%{x}<br>Disparity_mean=%{y}<extra></extra>",
         "legendgroup": "dpn107_MagFace_SGD",
         "marker": {
          "color": "#ffe119",
          "size": 20,
          "symbol": "circle"
         },
         "mode": "markers",
         "name": "dpn107_MagFace_SGD",
         "orientation": "v",
         "showlegend": true,
         "type": "scatter",
         "x": [
          0.12524554740701938
         ],
         "xaxis": "x",
         "y": [
          0.08266762702985858
         ],
         "yaxis": "y"
        },
        {
         "error_x": {
          "array": [
           0.0022760536065197425
          ]
         },
         "error_y": {
          "array": [
           0.002353310923350751
          ]
         },
         "hovertemplate": "Model name=rexnet_200<br>Error_mean=%{x}<br>Disparity_mean=%{y}<extra></extra>",
         "legendgroup": "rexnet_200",
         "marker": {
          "color": "#f58231",
          "size": 20,
          "symbol": "circle"
         },
         "mode": "markers",
         "name": "rexnet_200",
         "orientation": "v",
         "showlegend": true,
         "type": "scatter",
         "x": [
          0.09335712414876896
         ],
         "xaxis": "x",
         "y": [
          0.0665597171293871
         ],
         "yaxis": "y"
        },
        {
         "error_x": {
          "array": [
           0.02733858499179353
          ]
         },
         "error_y": {
          "array": [
           0.04199696725014317
          ]
         },
         "hovertemplate": "Model name=ese_vovnet39b<br>Error_mean=%{x}<br>Disparity_mean=%{y}<extra></extra>",
         "legendgroup": "ese_vovnet39b",
         "marker": {
          "color": "#42d4f4",
          "size": 20,
          "symbol": "circle"
         },
         "mode": "markers",
         "name": "ese_vovnet39b",
         "orientation": "v",
         "showlegend": true,
         "type": "scatter",
         "x": [
          0.8337480356207438
         ],
         "xaxis": "x",
         "y": [
          0.04832372970141435
         ],
         "yaxis": "y"
        },
        {
         "error_x": {
          "array": [
           0.017052248119439367
          ]
         },
         "error_y": {
          "array": [
           0.014389317047585564
          ]
         },
         "hovertemplate": "Model name=mobilenetv3_large_100<br>Error_mean=%{x}<br>Disparity_mean=%{y}<extra></extra>",
         "legendgroup": "mobilenetv3_large_100",
         "marker": {
          "color": "#f032e6",
          "size": 20,
          "symbol": "circle"
         },
         "mode": "markers",
         "name": "mobilenetv3_large_100",
         "orientation": "v",
         "showlegend": true,
         "type": "scatter",
         "x": [
          0.6766468046097434
         ],
         "xaxis": "x",
         "y": [
          0.11029989523310635
         ],
         "yaxis": "y"
        },
        {
         "error_x": {
          "array": [
           0.00021634611927706863
          ]
         },
         "error_y": {
          "array": [
           0.0004943579384017418
          ]
         },
         "hovertemplate": "Model name=model_000<br>Error_mean=%{x}<br>Disparity_mean=%{y}<extra></extra>",
         "legendgroup": "model_000",
         "marker": {
          "color": "#fabed4",
          "size": 20,
          "symbol": "circle"
         },
         "mode": "markers",
         "name": "model_000",
         "orientation": "v",
         "showlegend": true,
         "type": "scatter",
         "x": [
          0.03141369827134627
         ],
         "xaxis": "x",
         "y": [
          0.022164745940282893
         ],
         "yaxis": "y"
        },
        {
         "error_x": {
          "array": [
           0.00022917757988473122
          ]
         },
         "error_y": {
          "array": [
           0.0010221206106136302
          ]
         },
         "hovertemplate": "Model name=model_010<br>Error_mean=%{x}<br>Disparity_mean=%{y}<extra></extra>",
         "legendgroup": "model_010",
         "marker": {
          "color": "#469990",
          "size": 20,
          "symbol": "circle"
         },
         "mode": "markers",
         "name": "model_010",
         "orientation": "v",
         "showlegend": true,
         "type": "scatter",
         "x": [
          0.03920573598742799
         ],
         "xaxis": "x",
         "y": [
          0.02229570455735988
         ],
         "yaxis": "y"
        },
        {
         "error_x": {
          "array": [
           0.0012162241763362274
          ]
         },
         "error_y": {
          "array": [
           0.0021224455703061414
          ]
         },
         "hovertemplate": "Model name=model_680<br>Error_mean=%{x}<br>Disparity_mean=%{y}<extra></extra>",
         "legendgroup": "model_680",
         "marker": {
          "color": "#aaffc3",
          "size": 20,
          "symbol": "circle"
         },
         "mode": "markers",
         "name": "model_680",
         "orientation": "v",
         "showlegend": true,
         "type": "scatter",
         "x": [
          0.031921162912519646
         ],
         "xaxis": "x",
         "y": [
          0.019512833944473562
         ],
         "yaxis": "y"
        }
       ],
       "layout": {
        "font": {
         "color": "Black",
         "family": "Times New Roman",
         "size": 38
        },
        "height": 1000,
        "legend": {
         "font": {
          "color": "Black",
          "family": "Times New Roman",
          "size": 28
         },
         "orientation": "h",
         "title": {
          "text": "Models"
         },
         "tracegroupgap": 0,
         "x": 1,
         "xanchor": "right",
         "y": 1.02,
         "yanchor": "bottom"
        },
        "margin": {
         "t": 60
        },
        "shapes": [
         {
          "line": {
           "color": "gray",
           "dash": "dash",
           "width": 4
          },
          "type": "line",
          "x0": 0.03141369827134627,
          "x1": 0.031921162912519646,
          "xref": "x",
          "y0": 0.022164745940282893,
          "y1": 0.019512833944473562,
          "yref": "y"
         }
        ],
        "template": {
         "data": {
          "bar": [
           {
            "error_x": {
             "color": "rgb(36,36,36)"
            },
            "error_y": {
             "color": "rgb(36,36,36)"
            },
            "marker": {
             "line": {
              "color": "white",
              "width": 0.5
             },
             "pattern": {
              "fillmode": "overlay",
              "size": 10,
              "solidity": 0.2
             }
            },
            "type": "bar"
           }
          ],
          "barpolar": [
           {
            "marker": {
             "line": {
              "color": "white",
              "width": 0.5
             },
             "pattern": {
              "fillmode": "overlay",
              "size": 10,
              "solidity": 0.2
             }
            },
            "type": "barpolar"
           }
          ],
          "carpet": [
           {
            "aaxis": {
             "endlinecolor": "rgb(36,36,36)",
             "gridcolor": "white",
             "linecolor": "white",
             "minorgridcolor": "white",
             "startlinecolor": "rgb(36,36,36)"
            },
            "baxis": {
             "endlinecolor": "rgb(36,36,36)",
             "gridcolor": "white",
             "linecolor": "white",
             "minorgridcolor": "white",
             "startlinecolor": "rgb(36,36,36)"
            },
            "type": "carpet"
           }
          ],
          "choropleth": [
           {
            "colorbar": {
             "outlinewidth": 1,
             "tickcolor": "rgb(36,36,36)",
             "ticks": "outside"
            },
            "type": "choropleth"
           }
          ],
          "contour": [
           {
            "colorbar": {
             "outlinewidth": 1,
             "tickcolor": "rgb(36,36,36)",
             "ticks": "outside"
            },
            "colorscale": [
             [
              0,
              "#440154"
             ],
             [
              0.1111111111111111,
              "#482878"
             ],
             [
              0.2222222222222222,
              "#3e4989"
             ],
             [
              0.3333333333333333,
              "#31688e"
             ],
             [
              0.4444444444444444,
              "#26828e"
             ],
             [
              0.5555555555555556,
              "#1f9e89"
             ],
             [
              0.6666666666666666,
              "#35b779"
             ],
             [
              0.7777777777777778,
              "#6ece58"
             ],
             [
              0.8888888888888888,
              "#b5de2b"
             ],
             [
              1,
              "#fde725"
             ]
            ],
            "type": "contour"
           }
          ],
          "contourcarpet": [
           {
            "colorbar": {
             "outlinewidth": 1,
             "tickcolor": "rgb(36,36,36)",
             "ticks": "outside"
            },
            "type": "contourcarpet"
           }
          ],
          "heatmap": [
           {
            "colorbar": {
             "outlinewidth": 1,
             "tickcolor": "rgb(36,36,36)",
             "ticks": "outside"
            },
            "colorscale": [
             [
              0,
              "#440154"
             ],
             [
              0.1111111111111111,
              "#482878"
             ],
             [
              0.2222222222222222,
              "#3e4989"
             ],
             [
              0.3333333333333333,
              "#31688e"
             ],
             [
              0.4444444444444444,
              "#26828e"
             ],
             [
              0.5555555555555556,
              "#1f9e89"
             ],
             [
              0.6666666666666666,
              "#35b779"
             ],
             [
              0.7777777777777778,
              "#6ece58"
             ],
             [
              0.8888888888888888,
              "#b5de2b"
             ],
             [
              1,
              "#fde725"
             ]
            ],
            "type": "heatmap"
           }
          ],
          "heatmapgl": [
           {
            "colorbar": {
             "outlinewidth": 1,
             "tickcolor": "rgb(36,36,36)",
             "ticks": "outside"
            },
            "colorscale": [
             [
              0,
              "#440154"
             ],
             [
              0.1111111111111111,
              "#482878"
             ],
             [
              0.2222222222222222,
              "#3e4989"
             ],
             [
              0.3333333333333333,
              "#31688e"
             ],
             [
              0.4444444444444444,
              "#26828e"
             ],
             [
              0.5555555555555556,
              "#1f9e89"
             ],
             [
              0.6666666666666666,
              "#35b779"
             ],
             [
              0.7777777777777778,
              "#6ece58"
             ],
             [
              0.8888888888888888,
              "#b5de2b"
             ],
             [
              1,
              "#fde725"
             ]
            ],
            "type": "heatmapgl"
           }
          ],
          "histogram": [
           {
            "marker": {
             "line": {
              "color": "white",
              "width": 0.6
             }
            },
            "type": "histogram"
           }
          ],
          "histogram2d": [
           {
            "colorbar": {
             "outlinewidth": 1,
             "tickcolor": "rgb(36,36,36)",
             "ticks": "outside"
            },
            "colorscale": [
             [
              0,
              "#440154"
             ],
             [
              0.1111111111111111,
              "#482878"
             ],
             [
              0.2222222222222222,
              "#3e4989"
             ],
             [
              0.3333333333333333,
              "#31688e"
             ],
             [
              0.4444444444444444,
              "#26828e"
             ],
             [
              0.5555555555555556,
              "#1f9e89"
             ],
             [
              0.6666666666666666,
              "#35b779"
             ],
             [
              0.7777777777777778,
              "#6ece58"
             ],
             [
              0.8888888888888888,
              "#b5de2b"
             ],
             [
              1,
              "#fde725"
             ]
            ],
            "type": "histogram2d"
           }
          ],
          "histogram2dcontour": [
           {
            "colorbar": {
             "outlinewidth": 1,
             "tickcolor": "rgb(36,36,36)",
             "ticks": "outside"
            },
            "colorscale": [
             [
              0,
              "#440154"
             ],
             [
              0.1111111111111111,
              "#482878"
             ],
             [
              0.2222222222222222,
              "#3e4989"
             ],
             [
              0.3333333333333333,
              "#31688e"
             ],
             [
              0.4444444444444444,
              "#26828e"
             ],
             [
              0.5555555555555556,
              "#1f9e89"
             ],
             [
              0.6666666666666666,
              "#35b779"
             ],
             [
              0.7777777777777778,
              "#6ece58"
             ],
             [
              0.8888888888888888,
              "#b5de2b"
             ],
             [
              1,
              "#fde725"
             ]
            ],
            "type": "histogram2dcontour"
           }
          ],
          "mesh3d": [
           {
            "colorbar": {
             "outlinewidth": 1,
             "tickcolor": "rgb(36,36,36)",
             "ticks": "outside"
            },
            "type": "mesh3d"
           }
          ],
          "parcoords": [
           {
            "line": {
             "colorbar": {
              "outlinewidth": 1,
              "tickcolor": "rgb(36,36,36)",
              "ticks": "outside"
             }
            },
            "type": "parcoords"
           }
          ],
          "pie": [
           {
            "automargin": true,
            "type": "pie"
           }
          ],
          "scatter": [
           {
            "fillpattern": {
             "fillmode": "overlay",
             "size": 10,
             "solidity": 0.2
            },
            "type": "scatter"
           }
          ],
          "scatter3d": [
           {
            "line": {
             "colorbar": {
              "outlinewidth": 1,
              "tickcolor": "rgb(36,36,36)",
              "ticks": "outside"
             }
            },
            "marker": {
             "colorbar": {
              "outlinewidth": 1,
              "tickcolor": "rgb(36,36,36)",
              "ticks": "outside"
             }
            },
            "type": "scatter3d"
           }
          ],
          "scattercarpet": [
           {
            "marker": {
             "colorbar": {
              "outlinewidth": 1,
              "tickcolor": "rgb(36,36,36)",
              "ticks": "outside"
             }
            },
            "type": "scattercarpet"
           }
          ],
          "scattergeo": [
           {
            "marker": {
             "colorbar": {
              "outlinewidth": 1,
              "tickcolor": "rgb(36,36,36)",
              "ticks": "outside"
             }
            },
            "type": "scattergeo"
           }
          ],
          "scattergl": [
           {
            "marker": {
             "colorbar": {
              "outlinewidth": 1,
              "tickcolor": "rgb(36,36,36)",
              "ticks": "outside"
             }
            },
            "type": "scattergl"
           }
          ],
          "scattermapbox": [
           {
            "marker": {
             "colorbar": {
              "outlinewidth": 1,
              "tickcolor": "rgb(36,36,36)",
              "ticks": "outside"
             }
            },
            "type": "scattermapbox"
           }
          ],
          "scatterpolar": [
           {
            "marker": {
             "colorbar": {
              "outlinewidth": 1,
              "tickcolor": "rgb(36,36,36)",
              "ticks": "outside"
             }
            },
            "type": "scatterpolar"
           }
          ],
          "scatterpolargl": [
           {
            "marker": {
             "colorbar": {
              "outlinewidth": 1,
              "tickcolor": "rgb(36,36,36)",
              "ticks": "outside"
             }
            },
            "type": "scatterpolargl"
           }
          ],
          "scatterternary": [
           {
            "marker": {
             "colorbar": {
              "outlinewidth": 1,
              "tickcolor": "rgb(36,36,36)",
              "ticks": "outside"
             }
            },
            "type": "scatterternary"
           }
          ],
          "surface": [
           {
            "colorbar": {
             "outlinewidth": 1,
             "tickcolor": "rgb(36,36,36)",
             "ticks": "outside"
            },
            "colorscale": [
             [
              0,
              "#440154"
             ],
             [
              0.1111111111111111,
              "#482878"
             ],
             [
              0.2222222222222222,
              "#3e4989"
             ],
             [
              0.3333333333333333,
              "#31688e"
             ],
             [
              0.4444444444444444,
              "#26828e"
             ],
             [
              0.5555555555555556,
              "#1f9e89"
             ],
             [
              0.6666666666666666,
              "#35b779"
             ],
             [
              0.7777777777777778,
              "#6ece58"
             ],
             [
              0.8888888888888888,
              "#b5de2b"
             ],
             [
              1,
              "#fde725"
             ]
            ],
            "type": "surface"
           }
          ],
          "table": [
           {
            "cells": {
             "fill": {
              "color": "rgb(237,237,237)"
             },
             "line": {
              "color": "white"
             }
            },
            "header": {
             "fill": {
              "color": "rgb(217,217,217)"
             },
             "line": {
              "color": "white"
             }
            },
            "type": "table"
           }
          ]
         },
         "layout": {
          "annotationdefaults": {
           "arrowhead": 0,
           "arrowwidth": 1
          },
          "autotypenumbers": "strict",
          "coloraxis": {
           "colorbar": {
            "outlinewidth": 1,
            "tickcolor": "rgb(36,36,36)",
            "ticks": "outside"
           }
          },
          "colorscale": {
           "diverging": [
            [
             0,
             "rgb(103,0,31)"
            ],
            [
             0.1,
             "rgb(178,24,43)"
            ],
            [
             0.2,
             "rgb(214,96,77)"
            ],
            [
             0.3,
             "rgb(244,165,130)"
            ],
            [
             0.4,
             "rgb(253,219,199)"
            ],
            [
             0.5,
             "rgb(247,247,247)"
            ],
            [
             0.6,
             "rgb(209,229,240)"
            ],
            [
             0.7,
             "rgb(146,197,222)"
            ],
            [
             0.8,
             "rgb(67,147,195)"
            ],
            [
             0.9,
             "rgb(33,102,172)"
            ],
            [
             1,
             "rgb(5,48,97)"
            ]
           ],
           "sequential": [
            [
             0,
             "#440154"
            ],
            [
             0.1111111111111111,
             "#482878"
            ],
            [
             0.2222222222222222,
             "#3e4989"
            ],
            [
             0.3333333333333333,
             "#31688e"
            ],
            [
             0.4444444444444444,
             "#26828e"
            ],
            [
             0.5555555555555556,
             "#1f9e89"
            ],
            [
             0.6666666666666666,
             "#35b779"
            ],
            [
             0.7777777777777778,
             "#6ece58"
            ],
            [
             0.8888888888888888,
             "#b5de2b"
            ],
            [
             1,
             "#fde725"
            ]
           ],
           "sequentialminus": [
            [
             0,
             "#440154"
            ],
            [
             0.1111111111111111,
             "#482878"
            ],
            [
             0.2222222222222222,
             "#3e4989"
            ],
            [
             0.3333333333333333,
             "#31688e"
            ],
            [
             0.4444444444444444,
             "#26828e"
            ],
            [
             0.5555555555555556,
             "#1f9e89"
            ],
            [
             0.6666666666666666,
             "#35b779"
            ],
            [
             0.7777777777777778,
             "#6ece58"
            ],
            [
             0.8888888888888888,
             "#b5de2b"
            ],
            [
             1,
             "#fde725"
            ]
           ]
          },
          "colorway": [
           "#1F77B4",
           "#FF7F0E",
           "#2CA02C",
           "#D62728",
           "#9467BD",
           "#8C564B",
           "#E377C2",
           "#7F7F7F",
           "#BCBD22",
           "#17BECF"
          ],
          "font": {
           "color": "rgb(36,36,36)"
          },
          "geo": {
           "bgcolor": "white",
           "lakecolor": "white",
           "landcolor": "white",
           "showlakes": true,
           "showland": true,
           "subunitcolor": "white"
          },
          "hoverlabel": {
           "align": "left"
          },
          "hovermode": "closest",
          "mapbox": {
           "style": "light"
          },
          "paper_bgcolor": "white",
          "plot_bgcolor": "white",
          "polar": {
           "angularaxis": {
            "gridcolor": "rgb(232,232,232)",
            "linecolor": "rgb(36,36,36)",
            "showgrid": false,
            "showline": true,
            "ticks": "outside"
           },
           "bgcolor": "white",
           "radialaxis": {
            "gridcolor": "rgb(232,232,232)",
            "linecolor": "rgb(36,36,36)",
            "showgrid": false,
            "showline": true,
            "ticks": "outside"
           }
          },
          "scene": {
           "xaxis": {
            "backgroundcolor": "white",
            "gridcolor": "rgb(232,232,232)",
            "gridwidth": 2,
            "linecolor": "rgb(36,36,36)",
            "showbackground": true,
            "showgrid": false,
            "showline": true,
            "ticks": "outside",
            "zeroline": false,
            "zerolinecolor": "rgb(36,36,36)"
           },
           "yaxis": {
            "backgroundcolor": "white",
            "gridcolor": "rgb(232,232,232)",
            "gridwidth": 2,
            "linecolor": "rgb(36,36,36)",
            "showbackground": true,
            "showgrid": false,
            "showline": true,
            "ticks": "outside",
            "zeroline": false,
            "zerolinecolor": "rgb(36,36,36)"
           },
           "zaxis": {
            "backgroundcolor": "white",
            "gridcolor": "rgb(232,232,232)",
            "gridwidth": 2,
            "linecolor": "rgb(36,36,36)",
            "showbackground": true,
            "showgrid": false,
            "showline": true,
            "ticks": "outside",
            "zeroline": false,
            "zerolinecolor": "rgb(36,36,36)"
           }
          },
          "shapedefaults": {
           "fillcolor": "black",
           "line": {
            "width": 0
           },
           "opacity": 0.3
          },
          "ternary": {
           "aaxis": {
            "gridcolor": "rgb(232,232,232)",
            "linecolor": "rgb(36,36,36)",
            "showgrid": false,
            "showline": true,
            "ticks": "outside"
           },
           "baxis": {
            "gridcolor": "rgb(232,232,232)",
            "linecolor": "rgb(36,36,36)",
            "showgrid": false,
            "showline": true,
            "ticks": "outside"
           },
           "bgcolor": "white",
           "caxis": {
            "gridcolor": "rgb(232,232,232)",
            "linecolor": "rgb(36,36,36)",
            "showgrid": false,
            "showline": true,
            "ticks": "outside"
           }
          },
          "title": {
           "x": 0.05
          },
          "xaxis": {
           "automargin": true,
           "gridcolor": "rgb(232,232,232)",
           "linecolor": "rgb(36,36,36)",
           "showgrid": false,
           "showline": true,
           "ticks": "outside",
           "title": {
            "standoff": 15
           },
           "zeroline": false,
           "zerolinecolor": "rgb(36,36,36)"
          },
          "yaxis": {
           "automargin": true,
           "gridcolor": "rgb(232,232,232)",
           "linecolor": "rgb(36,36,36)",
           "showgrid": false,
           "showline": true,
           "ticks": "outside",
           "title": {
            "standoff": 15
           },
           "zeroline": false,
           "zerolinecolor": "rgb(36,36,36)"
          }
         }
        },
        "width": 1200,
        "xaxis": {
         "anchor": "y",
         "domain": [
          0,
          1
         ],
         "title": {
          "text": "Error_mean"
         }
        },
        "yaxis": {
         "anchor": "x",
         "domain": [
          0,
          1
         ],
         "title": {
          "text": "Disparity"
         }
        }
       }
      },
      "text/html": [
       "<div>                            <div id=\"53d5c994-2722-4ef1-8954-2b746ed1927f\" class=\"plotly-graph-div\" style=\"height:1000px; width:1200px;\"></div>            <script type=\"text/javascript\">                require([\"plotly\"], function(Plotly) {                    window.PLOTLYENV=window.PLOTLYENV || {};                                    if (document.getElementById(\"53d5c994-2722-4ef1-8954-2b746ed1927f\")) {                    Plotly.newPlot(                        \"53d5c994-2722-4ef1-8954-2b746ed1927f\",                        [{\"error_x\":{\"array\":[0.022165817892209345]},\"error_y\":{\"array\":[0.02834238167118007]},\"hovertemplate\":\"Model name=densenet<br>Error_mean=%{x}<br>Disparity_mean=%{y}<extra></extra>\",\"legendgroup\":\"densenet\",\"marker\":{\"color\":\"#e6194B\",\"symbol\":\"circle\",\"size\":20},\"mode\":\"markers\",\"name\":\"densenet\",\"orientation\":\"v\",\"showlegend\":true,\"x\":[0.1969617600838135],\"xaxis\":\"x\",\"y\":[0.09036144578313254],\"yaxis\":\"y\",\"type\":\"scatter\"},{\"error_x\":{\"array\":[0.0027389351127293272]},\"error_y\":{\"array\":[0.002598354494400781]},\"hovertemplate\":\"Model name=dpn107_CosFace_SGD<br>Error_mean=%{x}<br>Disparity_mean=%{y}<extra></extra>\",\"legendgroup\":\"dpn107_CosFace_SGD\",\"marker\":{\"color\":\"#3cb44b\",\"symbol\":\"circle\",\"size\":20},\"mode\":\"markers\",\"name\":\"dpn107_CosFace_SGD\",\"orientation\":\"v\",\"showlegend\":true,\"x\":[0.047701676270298615],\"xaxis\":\"x\",\"y\":[0.0423651126244107],\"yaxis\":\"y\",\"type\":\"scatter\"},{\"error_x\":{\"array\":[0.01708055302302517]},\"error_y\":{\"array\":[0.012528925719578289]},\"hovertemplate\":\"Model name=dpn107_MagFace_SGD<br>Error_mean=%{x}<br>Disparity_mean=%{y}<extra></extra>\",\"legendgroup\":\"dpn107_MagFace_SGD\",\"marker\":{\"color\":\"#ffe119\",\"symbol\":\"circle\",\"size\":20},\"mode\":\"markers\",\"name\":\"dpn107_MagFace_SGD\",\"orientation\":\"v\",\"showlegend\":true,\"x\":[0.12524554740701938],\"xaxis\":\"x\",\"y\":[0.08266762702985858],\"yaxis\":\"y\",\"type\":\"scatter\"},{\"error_x\":{\"array\":[0.0022760536065197425]},\"error_y\":{\"array\":[0.002353310923350751]},\"hovertemplate\":\"Model name=rexnet_200<br>Error_mean=%{x}<br>Disparity_mean=%{y}<extra></extra>\",\"legendgroup\":\"rexnet_200\",\"marker\":{\"color\":\"#f58231\",\"symbol\":\"circle\",\"size\":20},\"mode\":\"markers\",\"name\":\"rexnet_200\",\"orientation\":\"v\",\"showlegend\":true,\"x\":[0.09335712414876896],\"xaxis\":\"x\",\"y\":[0.0665597171293871],\"yaxis\":\"y\",\"type\":\"scatter\"},{\"error_x\":{\"array\":[0.02733858499179353]},\"error_y\":{\"array\":[0.04199696725014317]},\"hovertemplate\":\"Model name=ese_vovnet39b<br>Error_mean=%{x}<br>Disparity_mean=%{y}<extra></extra>\",\"legendgroup\":\"ese_vovnet39b\",\"marker\":{\"color\":\"#42d4f4\",\"symbol\":\"circle\",\"size\":20},\"mode\":\"markers\",\"name\":\"ese_vovnet39b\",\"orientation\":\"v\",\"showlegend\":true,\"x\":[0.8337480356207438],\"xaxis\":\"x\",\"y\":[0.04832372970141435],\"yaxis\":\"y\",\"type\":\"scatter\"},{\"error_x\":{\"array\":[0.017052248119439367]},\"error_y\":{\"array\":[0.014389317047585564]},\"hovertemplate\":\"Model name=mobilenetv3_large_100<br>Error_mean=%{x}<br>Disparity_mean=%{y}<extra></extra>\",\"legendgroup\":\"mobilenetv3_large_100\",\"marker\":{\"color\":\"#f032e6\",\"symbol\":\"circle\",\"size\":20},\"mode\":\"markers\",\"name\":\"mobilenetv3_large_100\",\"orientation\":\"v\",\"showlegend\":true,\"x\":[0.6766468046097434],\"xaxis\":\"x\",\"y\":[0.11029989523310635],\"yaxis\":\"y\",\"type\":\"scatter\"},{\"error_x\":{\"array\":[0.00021634611927706863]},\"error_y\":{\"array\":[0.0004943579384017418]},\"hovertemplate\":\"Model name=model_000<br>Error_mean=%{x}<br>Disparity_mean=%{y}<extra></extra>\",\"legendgroup\":\"model_000\",\"marker\":{\"color\":\"#fabed4\",\"symbol\":\"circle\",\"size\":20},\"mode\":\"markers\",\"name\":\"model_000\",\"orientation\":\"v\",\"showlegend\":true,\"x\":[0.03141369827134627],\"xaxis\":\"x\",\"y\":[0.022164745940282893],\"yaxis\":\"y\",\"type\":\"scatter\"},{\"error_x\":{\"array\":[0.00022917757988473122]},\"error_y\":{\"array\":[0.0010221206106136302]},\"hovertemplate\":\"Model name=model_010<br>Error_mean=%{x}<br>Disparity_mean=%{y}<extra></extra>\",\"legendgroup\":\"model_010\",\"marker\":{\"color\":\"#469990\",\"symbol\":\"circle\",\"size\":20},\"mode\":\"markers\",\"name\":\"model_010\",\"orientation\":\"v\",\"showlegend\":true,\"x\":[0.03920573598742799],\"xaxis\":\"x\",\"y\":[0.02229570455735988],\"yaxis\":\"y\",\"type\":\"scatter\"},{\"error_x\":{\"array\":[0.0012162241763362274]},\"error_y\":{\"array\":[0.0021224455703061414]},\"hovertemplate\":\"Model name=model_680<br>Error_mean=%{x}<br>Disparity_mean=%{y}<extra></extra>\",\"legendgroup\":\"model_680\",\"marker\":{\"color\":\"#aaffc3\",\"symbol\":\"circle\",\"size\":20},\"mode\":\"markers\",\"name\":\"model_680\",\"orientation\":\"v\",\"showlegend\":true,\"x\":[0.031921162912519646],\"xaxis\":\"x\",\"y\":[0.019512833944473562],\"yaxis\":\"y\",\"type\":\"scatter\"}],                        {\"template\":{\"data\":{\"barpolar\":[{\"marker\":{\"line\":{\"color\":\"white\",\"width\":0.5},\"pattern\":{\"fillmode\":\"overlay\",\"size\":10,\"solidity\":0.2}},\"type\":\"barpolar\"}],\"bar\":[{\"error_x\":{\"color\":\"rgb(36,36,36)\"},\"error_y\":{\"color\":\"rgb(36,36,36)\"},\"marker\":{\"line\":{\"color\":\"white\",\"width\":0.5},\"pattern\":{\"fillmode\":\"overlay\",\"size\":10,\"solidity\":0.2}},\"type\":\"bar\"}],\"carpet\":[{\"aaxis\":{\"endlinecolor\":\"rgb(36,36,36)\",\"gridcolor\":\"white\",\"linecolor\":\"white\",\"minorgridcolor\":\"white\",\"startlinecolor\":\"rgb(36,36,36)\"},\"baxis\":{\"endlinecolor\":\"rgb(36,36,36)\",\"gridcolor\":\"white\",\"linecolor\":\"white\",\"minorgridcolor\":\"white\",\"startlinecolor\":\"rgb(36,36,36)\"},\"type\":\"carpet\"}],\"choropleth\":[{\"colorbar\":{\"outlinewidth\":1,\"tickcolor\":\"rgb(36,36,36)\",\"ticks\":\"outside\"},\"type\":\"choropleth\"}],\"contourcarpet\":[{\"colorbar\":{\"outlinewidth\":1,\"tickcolor\":\"rgb(36,36,36)\",\"ticks\":\"outside\"},\"type\":\"contourcarpet\"}],\"contour\":[{\"colorbar\":{\"outlinewidth\":1,\"tickcolor\":\"rgb(36,36,36)\",\"ticks\":\"outside\"},\"colorscale\":[[0.0,\"#440154\"],[0.1111111111111111,\"#482878\"],[0.2222222222222222,\"#3e4989\"],[0.3333333333333333,\"#31688e\"],[0.4444444444444444,\"#26828e\"],[0.5555555555555556,\"#1f9e89\"],[0.6666666666666666,\"#35b779\"],[0.7777777777777778,\"#6ece58\"],[0.8888888888888888,\"#b5de2b\"],[1.0,\"#fde725\"]],\"type\":\"contour\"}],\"heatmapgl\":[{\"colorbar\":{\"outlinewidth\":1,\"tickcolor\":\"rgb(36,36,36)\",\"ticks\":\"outside\"},\"colorscale\":[[0.0,\"#440154\"],[0.1111111111111111,\"#482878\"],[0.2222222222222222,\"#3e4989\"],[0.3333333333333333,\"#31688e\"],[0.4444444444444444,\"#26828e\"],[0.5555555555555556,\"#1f9e89\"],[0.6666666666666666,\"#35b779\"],[0.7777777777777778,\"#6ece58\"],[0.8888888888888888,\"#b5de2b\"],[1.0,\"#fde725\"]],\"type\":\"heatmapgl\"}],\"heatmap\":[{\"colorbar\":{\"outlinewidth\":1,\"tickcolor\":\"rgb(36,36,36)\",\"ticks\":\"outside\"},\"colorscale\":[[0.0,\"#440154\"],[0.1111111111111111,\"#482878\"],[0.2222222222222222,\"#3e4989\"],[0.3333333333333333,\"#31688e\"],[0.4444444444444444,\"#26828e\"],[0.5555555555555556,\"#1f9e89\"],[0.6666666666666666,\"#35b779\"],[0.7777777777777778,\"#6ece58\"],[0.8888888888888888,\"#b5de2b\"],[1.0,\"#fde725\"]],\"type\":\"heatmap\"}],\"histogram2dcontour\":[{\"colorbar\":{\"outlinewidth\":1,\"tickcolor\":\"rgb(36,36,36)\",\"ticks\":\"outside\"},\"colorscale\":[[0.0,\"#440154\"],[0.1111111111111111,\"#482878\"],[0.2222222222222222,\"#3e4989\"],[0.3333333333333333,\"#31688e\"],[0.4444444444444444,\"#26828e\"],[0.5555555555555556,\"#1f9e89\"],[0.6666666666666666,\"#35b779\"],[0.7777777777777778,\"#6ece58\"],[0.8888888888888888,\"#b5de2b\"],[1.0,\"#fde725\"]],\"type\":\"histogram2dcontour\"}],\"histogram2d\":[{\"colorbar\":{\"outlinewidth\":1,\"tickcolor\":\"rgb(36,36,36)\",\"ticks\":\"outside\"},\"colorscale\":[[0.0,\"#440154\"],[0.1111111111111111,\"#482878\"],[0.2222222222222222,\"#3e4989\"],[0.3333333333333333,\"#31688e\"],[0.4444444444444444,\"#26828e\"],[0.5555555555555556,\"#1f9e89\"],[0.6666666666666666,\"#35b779\"],[0.7777777777777778,\"#6ece58\"],[0.8888888888888888,\"#b5de2b\"],[1.0,\"#fde725\"]],\"type\":\"histogram2d\"}],\"histogram\":[{\"marker\":{\"line\":{\"color\":\"white\",\"width\":0.6}},\"type\":\"histogram\"}],\"mesh3d\":[{\"colorbar\":{\"outlinewidth\":1,\"tickcolor\":\"rgb(36,36,36)\",\"ticks\":\"outside\"},\"type\":\"mesh3d\"}],\"parcoords\":[{\"line\":{\"colorbar\":{\"outlinewidth\":1,\"tickcolor\":\"rgb(36,36,36)\",\"ticks\":\"outside\"}},\"type\":\"parcoords\"}],\"pie\":[{\"automargin\":true,\"type\":\"pie\"}],\"scatter3d\":[{\"line\":{\"colorbar\":{\"outlinewidth\":1,\"tickcolor\":\"rgb(36,36,36)\",\"ticks\":\"outside\"}},\"marker\":{\"colorbar\":{\"outlinewidth\":1,\"tickcolor\":\"rgb(36,36,36)\",\"ticks\":\"outside\"}},\"type\":\"scatter3d\"}],\"scattercarpet\":[{\"marker\":{\"colorbar\":{\"outlinewidth\":1,\"tickcolor\":\"rgb(36,36,36)\",\"ticks\":\"outside\"}},\"type\":\"scattercarpet\"}],\"scattergeo\":[{\"marker\":{\"colorbar\":{\"outlinewidth\":1,\"tickcolor\":\"rgb(36,36,36)\",\"ticks\":\"outside\"}},\"type\":\"scattergeo\"}],\"scattergl\":[{\"marker\":{\"colorbar\":{\"outlinewidth\":1,\"tickcolor\":\"rgb(36,36,36)\",\"ticks\":\"outside\"}},\"type\":\"scattergl\"}],\"scattermapbox\":[{\"marker\":{\"colorbar\":{\"outlinewidth\":1,\"tickcolor\":\"rgb(36,36,36)\",\"ticks\":\"outside\"}},\"type\":\"scattermapbox\"}],\"scatterpolargl\":[{\"marker\":{\"colorbar\":{\"outlinewidth\":1,\"tickcolor\":\"rgb(36,36,36)\",\"ticks\":\"outside\"}},\"type\":\"scatterpolargl\"}],\"scatterpolar\":[{\"marker\":{\"colorbar\":{\"outlinewidth\":1,\"tickcolor\":\"rgb(36,36,36)\",\"ticks\":\"outside\"}},\"type\":\"scatterpolar\"}],\"scatter\":[{\"fillpattern\":{\"fillmode\":\"overlay\",\"size\":10,\"solidity\":0.2},\"type\":\"scatter\"}],\"scatterternary\":[{\"marker\":{\"colorbar\":{\"outlinewidth\":1,\"tickcolor\":\"rgb(36,36,36)\",\"ticks\":\"outside\"}},\"type\":\"scatterternary\"}],\"surface\":[{\"colorbar\":{\"outlinewidth\":1,\"tickcolor\":\"rgb(36,36,36)\",\"ticks\":\"outside\"},\"colorscale\":[[0.0,\"#440154\"],[0.1111111111111111,\"#482878\"],[0.2222222222222222,\"#3e4989\"],[0.3333333333333333,\"#31688e\"],[0.4444444444444444,\"#26828e\"],[0.5555555555555556,\"#1f9e89\"],[0.6666666666666666,\"#35b779\"],[0.7777777777777778,\"#6ece58\"],[0.8888888888888888,\"#b5de2b\"],[1.0,\"#fde725\"]],\"type\":\"surface\"}],\"table\":[{\"cells\":{\"fill\":{\"color\":\"rgb(237,237,237)\"},\"line\":{\"color\":\"white\"}},\"header\":{\"fill\":{\"color\":\"rgb(217,217,217)\"},\"line\":{\"color\":\"white\"}},\"type\":\"table\"}]},\"layout\":{\"annotationdefaults\":{\"arrowhead\":0,\"arrowwidth\":1},\"autotypenumbers\":\"strict\",\"coloraxis\":{\"colorbar\":{\"outlinewidth\":1,\"tickcolor\":\"rgb(36,36,36)\",\"ticks\":\"outside\"}},\"colorscale\":{\"diverging\":[[0.0,\"rgb(103,0,31)\"],[0.1,\"rgb(178,24,43)\"],[0.2,\"rgb(214,96,77)\"],[0.3,\"rgb(244,165,130)\"],[0.4,\"rgb(253,219,199)\"],[0.5,\"rgb(247,247,247)\"],[0.6,\"rgb(209,229,240)\"],[0.7,\"rgb(146,197,222)\"],[0.8,\"rgb(67,147,195)\"],[0.9,\"rgb(33,102,172)\"],[1.0,\"rgb(5,48,97)\"]],\"sequential\":[[0.0,\"#440154\"],[0.1111111111111111,\"#482878\"],[0.2222222222222222,\"#3e4989\"],[0.3333333333333333,\"#31688e\"],[0.4444444444444444,\"#26828e\"],[0.5555555555555556,\"#1f9e89\"],[0.6666666666666666,\"#35b779\"],[0.7777777777777778,\"#6ece58\"],[0.8888888888888888,\"#b5de2b\"],[1.0,\"#fde725\"]],\"sequentialminus\":[[0.0,\"#440154\"],[0.1111111111111111,\"#482878\"],[0.2222222222222222,\"#3e4989\"],[0.3333333333333333,\"#31688e\"],[0.4444444444444444,\"#26828e\"],[0.5555555555555556,\"#1f9e89\"],[0.6666666666666666,\"#35b779\"],[0.7777777777777778,\"#6ece58\"],[0.8888888888888888,\"#b5de2b\"],[1.0,\"#fde725\"]]},\"colorway\":[\"#1F77B4\",\"#FF7F0E\",\"#2CA02C\",\"#D62728\",\"#9467BD\",\"#8C564B\",\"#E377C2\",\"#7F7F7F\",\"#BCBD22\",\"#17BECF\"],\"font\":{\"color\":\"rgb(36,36,36)\"},\"geo\":{\"bgcolor\":\"white\",\"lakecolor\":\"white\",\"landcolor\":\"white\",\"showlakes\":true,\"showland\":true,\"subunitcolor\":\"white\"},\"hoverlabel\":{\"align\":\"left\"},\"hovermode\":\"closest\",\"mapbox\":{\"style\":\"light\"},\"paper_bgcolor\":\"white\",\"plot_bgcolor\":\"white\",\"polar\":{\"angularaxis\":{\"gridcolor\":\"rgb(232,232,232)\",\"linecolor\":\"rgb(36,36,36)\",\"showgrid\":false,\"showline\":true,\"ticks\":\"outside\"},\"bgcolor\":\"white\",\"radialaxis\":{\"gridcolor\":\"rgb(232,232,232)\",\"linecolor\":\"rgb(36,36,36)\",\"showgrid\":false,\"showline\":true,\"ticks\":\"outside\"}},\"scene\":{\"xaxis\":{\"backgroundcolor\":\"white\",\"gridcolor\":\"rgb(232,232,232)\",\"gridwidth\":2,\"linecolor\":\"rgb(36,36,36)\",\"showbackground\":true,\"showgrid\":false,\"showline\":true,\"ticks\":\"outside\",\"zeroline\":false,\"zerolinecolor\":\"rgb(36,36,36)\"},\"yaxis\":{\"backgroundcolor\":\"white\",\"gridcolor\":\"rgb(232,232,232)\",\"gridwidth\":2,\"linecolor\":\"rgb(36,36,36)\",\"showbackground\":true,\"showgrid\":false,\"showline\":true,\"ticks\":\"outside\",\"zeroline\":false,\"zerolinecolor\":\"rgb(36,36,36)\"},\"zaxis\":{\"backgroundcolor\":\"white\",\"gridcolor\":\"rgb(232,232,232)\",\"gridwidth\":2,\"linecolor\":\"rgb(36,36,36)\",\"showbackground\":true,\"showgrid\":false,\"showline\":true,\"ticks\":\"outside\",\"zeroline\":false,\"zerolinecolor\":\"rgb(36,36,36)\"}},\"shapedefaults\":{\"fillcolor\":\"black\",\"line\":{\"width\":0},\"opacity\":0.3},\"ternary\":{\"aaxis\":{\"gridcolor\":\"rgb(232,232,232)\",\"linecolor\":\"rgb(36,36,36)\",\"showgrid\":false,\"showline\":true,\"ticks\":\"outside\"},\"baxis\":{\"gridcolor\":\"rgb(232,232,232)\",\"linecolor\":\"rgb(36,36,36)\",\"showgrid\":false,\"showline\":true,\"ticks\":\"outside\"},\"bgcolor\":\"white\",\"caxis\":{\"gridcolor\":\"rgb(232,232,232)\",\"linecolor\":\"rgb(36,36,36)\",\"showgrid\":false,\"showline\":true,\"ticks\":\"outside\"}},\"title\":{\"x\":0.05},\"xaxis\":{\"automargin\":true,\"gridcolor\":\"rgb(232,232,232)\",\"linecolor\":\"rgb(36,36,36)\",\"showgrid\":false,\"showline\":true,\"ticks\":\"outside\",\"title\":{\"standoff\":15},\"zeroline\":false,\"zerolinecolor\":\"rgb(36,36,36)\"},\"yaxis\":{\"automargin\":true,\"gridcolor\":\"rgb(232,232,232)\",\"linecolor\":\"rgb(36,36,36)\",\"showgrid\":false,\"showline\":true,\"ticks\":\"outside\",\"title\":{\"standoff\":15},\"zeroline\":false,\"zerolinecolor\":\"rgb(36,36,36)\"}}},\"xaxis\":{\"anchor\":\"y\",\"domain\":[0.0,1.0],\"title\":{\"text\":\"Error_mean\"}},\"yaxis\":{\"anchor\":\"x\",\"domain\":[0.0,1.0],\"title\":{\"text\":\"Disparity\"}},\"legend\":{\"title\":{\"text\":\"Models\"},\"tracegroupgap\":0,\"font\":{\"family\":\"Times New Roman\",\"size\":28,\"color\":\"Black\"},\"orientation\":\"h\",\"yanchor\":\"bottom\",\"y\":1.02,\"xanchor\":\"right\",\"x\":1},\"margin\":{\"t\":60},\"height\":1000,\"width\":1200,\"font\":{\"family\":\"Times New Roman\",\"size\":38,\"color\":\"Black\"},\"shapes\":[{\"line\":{\"color\":\"gray\",\"dash\":\"dash\",\"width\":4},\"type\":\"line\",\"x0\":0.03141369827134627,\"x1\":0.031921162912519646,\"xref\":\"x\",\"y0\":0.022164745940282893,\"y1\":0.019512833944473562,\"yref\":\"y\"}]},                        {\"responsive\": true}                    ).then(function(){\n",
       "                            \n",
       "var gd = document.getElementById('53d5c994-2722-4ef1-8954-2b746ed1927f');\n",
       "var x = new MutationObserver(function (mutations, observer) {{\n",
       "        var display = window.getComputedStyle(gd).display;\n",
       "        if (!display || display === 'none') {{\n",
       "            console.log([gd, 'removed!']);\n",
       "            Plotly.purge(gd);\n",
       "            observer.disconnect();\n",
       "        }}\n",
       "}});\n",
       "\n",
       "// Listen for the removal of the full notebook cells\n",
       "var notebookContainer = gd.closest('#notebook-container');\n",
       "if (notebookContainer) {{\n",
       "    x.observe(notebookContainer, {childList: true});\n",
       "}}\n",
       "\n",
       "// Listen for the clearing of the current output cell\n",
       "var outputEl = gd.closest('.output');\n",
       "if (outputEl) {{\n",
       "    x.observe(outputEl, {childList: true});\n",
       "}}\n",
       "\n",
       "                        })                };                });            </script>        </div>"
      ]
     },
     "metadata": {},
     "output_type": "display_data"
    }
   ],
   "source": [
    "plot_figure(\"Disparity\", \"\",\"\",celeba_val_phase2)"
   ]
  },
  {
   "cell_type": "code",
   "execution_count": null,
   "metadata": {},
   "outputs": [],
   "source": []
  }
 ],
 "metadata": {
  "kernelspec": {
   "display_name": "Python 3",
   "language": "python",
   "name": "python3"
  },
  "language_info": {
   "codemirror_mode": {
    "name": "ipython",
    "version": 3
   },
   "file_extension": ".py",
   "mimetype": "text/x-python",
   "name": "python",
   "nbconvert_exporter": "python",
   "pygments_lexer": "ipython3",
   "version": "3.9.11"
  },
  "orig_nbformat": 4
 },
 "nbformat": 4,
 "nbformat_minor": 2
}
