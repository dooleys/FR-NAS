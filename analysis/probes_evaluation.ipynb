{
 "cells": [
  {
   "cell_type": "code",
   "execution_count": 3,
   "metadata": {},
   "outputs": [],
   "source": [
    "from sklearn.manifold import TSNE\n",
    "from keras.datasets import mnist\n",
    "from sklearn.datasets import load_iris\n",
    "from numpy import reshape\n",
    "import seaborn as sns\n",
    "import pandas as pd "
   ]
  },
  {
   "cell_type": "code",
   "execution_count": 4,
   "metadata": {},
   "outputs": [
    {
     "name": "stdout",
     "output_type": "stream",
     "text": [
      "SMAC 301 Model accuracy on last layer 0.6998039215686275\n"
     ]
    }
   ],
   "source": [
    "# SMAC_301\n",
    "import numpy as np\n",
    "# read numpy file\n",
    "x = np.load('probes/features_last_val_smac_301.npy')\n",
    "y = np.load('probes/sense_tensor_val.npy')\n",
    "from sklearn.preprocessing import StandardScaler\n",
    "from sklearn.linear_model import Perceptron\n",
    "perceptron = Perceptron(random_state=0)\n",
    "perceptron.fit(x, y)\n",
    "predicted = perceptron.predict(x)\n",
    "x = np.load('probes/features_last_test_smac_301.npy')\n",
    "y = np.load('probes/sense_tensor_test.npy')\n",
    "print(\"SMAC 301 Model accuracy on last layer\",perceptron.score(x,y))"
   ]
  },
  {
   "cell_type": "code",
   "execution_count": 5,
   "metadata": {},
   "outputs": [
    {
     "name": "stdout",
     "output_type": "stream",
     "text": [
      "SMAC 301 Model accuracy on second last layer 0.6824836601307189\n"
     ]
    }
   ],
   "source": [
    "import numpy as np\n",
    "# read numpy file\n",
    "x = np.load('probes/features_second_last_val_smac_301.npy')\n",
    "y = np.load('probes/sense_tensor_val.npy')\n",
    "\n",
    "from sklearn.preprocessing import StandardScaler\n",
    "from sklearn.linear_model import Perceptron\n",
    "perceptron = Perceptron(random_state=0)\n",
    "perceptron.fit(x, y)\n",
    "predicted = perceptron.predict(x)\n",
    "x = np.load('probes/features_second_last_test_smac_301.npy')\n",
    "y = np.load('probes/sense_tensor_test.npy')\n",
    "perceptron.score(x,y)\n",
    "print(\"SMAC 301 Model accuracy on second last layer\",perceptron.score(x,y))"
   ]
  },
  {
   "cell_type": "code",
   "execution_count": 6,
   "metadata": {},
   "outputs": [
    {
     "name": "stdout",
     "output_type": "stream",
     "text": [
      "DPN SGD CosFace last layer accuracy 0.9071895424836601\n"
     ]
    }
   ],
   "source": [
    "import numpy as np\n",
    "# read numpy file\n",
    "x = np.load('probes/features_last_val_dpn_cosface_sgd.npy')\n",
    "y = np.load('probes/sense_tensor_val.npy')\n",
    "\n",
    "from sklearn.preprocessing import StandardScaler\n",
    "from sklearn.linear_model import Perceptron\n",
    "perceptron = Perceptron(random_state=0)\n",
    "perceptron.fit(x, y)\n",
    "predicted = perceptron.predict(x)\n",
    "x = np.load('probes/features_last_test_dpn_cosface_sgd.npy')\n",
    "y = np.load('probes/sense_tensor_test.npy')\n",
    "print(\"DPN SGD CosFace last layer accuracy\",perceptron.score(x,y))"
   ]
  },
  {
   "cell_type": "code",
   "execution_count": 7,
   "metadata": {},
   "outputs": [
    {
     "name": "stdout",
     "output_type": "stream",
     "text": [
      "DPN SGD CosFace second last layer accuracy 0.937875816993464\n"
     ]
    }
   ],
   "source": [
    "import numpy as np\n",
    "# read numpy file\n",
    "x = np.load('probes/features_second_last_val_dpn_cosface_sgd.npy')\n",
    "y = np.load('probes/sense_tensor_val.npy')\n",
    "from sklearn.linear_model import Perceptron\n",
    "perceptron = Perceptron(random_state=0)\n",
    "perceptron.fit(x, y)\n",
    "predicted = perceptron.predict(x)\n",
    "x = np.load('probes/features_second_last_test_dpn_cosface_sgd.npy')\n",
    "y = np.load('probes/sense_tensor_test.npy')\n",
    "print(\"DPN SGD CosFace second last layer accuracy\",perceptron.score(x,y))"
   ]
  },
  {
   "cell_type": "code",
   "execution_count": 8,
   "metadata": {},
   "outputs": [
    {
     "name": "stdout",
     "output_type": "stream",
     "text": [
      "DPN Adam CosFace last layer accuracy 0.8738562091503268\n"
     ]
    }
   ],
   "source": [
    "import numpy as np\n",
    "# read numpy file\n",
    "x = np.load('probes/features_last_val_dpn_cosface_adamw.npy')\n",
    "y = np.load('probes/sense_tensor_val.npy')\n",
    "from sklearn.linear_model import Perceptron\n",
    "perceptron = Perceptron(random_state=0)\n",
    "perceptron.fit(x, y)\n",
    "predicted = perceptron.predict(x)\n",
    "x = np.load('probes/features_last_test_dpn_cosface_adamw.npy')\n",
    "y = np.load('probes/sense_tensor_test.npy')\n",
    "print(\"DPN Adam CosFace last layer accuracy\", perceptron.score(x,y))"
   ]
  },
  {
   "cell_type": "code",
   "execution_count": 9,
   "metadata": {},
   "outputs": [
    {
     "name": "stdout",
     "output_type": "stream",
     "text": [
      "DPN Adam CosFace second last layer accuracy 0.9444444444444444\n"
     ]
    }
   ],
   "source": [
    "import numpy as np\n",
    "# read numpy file\n",
    "x = np.load('probes/features_second_last_val_dpn_cosface_adamw.npy')\n",
    "y = np.load('probes/sense_tensor_val.npy')\n",
    "from sklearn.linear_model import Perceptron\n",
    "perceptron = Perceptron(random_state=0)\n",
    "perceptron.fit(x, y)\n",
    "predicted = perceptron.predict(x)\n",
    "x = np.load('probes/features_second_last_test_dpn_cosface_adamw.npy')\n",
    "y = np.load('probes/sense_tensor_test.npy')\n",
    "print(\"DPN Adam CosFace second last layer accuracy\", perceptron.score(x,y))"
   ]
  },
  {
   "cell_type": "code",
   "execution_count": 10,
   "metadata": {},
   "outputs": [
    {
     "name": "stdout",
     "output_type": "stream",
     "text": [
      "DPN SGD MagFace last layer accuracy 0.8604248366013072\n"
     ]
    }
   ],
   "source": [
    "import numpy as np\n",
    "# read numpy file\n",
    "x = np.load('probes/features_last_val_dpn_magface_sgd.npy')\n",
    "y = np.load('probes/sense_tensor_val.npy')\n",
    "from sklearn.linear_model import Perceptron\n",
    "perceptron = Perceptron(random_state=0)\n",
    "perceptron.fit(x, y)\n",
    "predicted = perceptron.predict(x)\n",
    "x = np.load('probes/features_last_test_dpn_magface_sgd.npy')\n",
    "y = np.load('probes/sense_tensor_test.npy')\n",
    "print(\"DPN SGD MagFace last layer accuracy\", perceptron.score(x,y))"
   ]
  },
  {
   "cell_type": "code",
   "execution_count": 11,
   "metadata": {},
   "outputs": [
    {
     "name": "stdout",
     "output_type": "stream",
     "text": [
      "DPN SGD MagFace second last layer accuracy 0.9546078431372549\n"
     ]
    }
   ],
   "source": [
    "import numpy as np\n",
    "# read numpy file\n",
    "x = np.load('probes/features_second_last_val_dpn_magface_sgd.npy')\n",
    "y = np.load('probes/sense_tensor_val.npy')\n",
    "from sklearn.linear_model import Perceptron\n",
    "perceptron = Perceptron(random_state=0)\n",
    "perceptron.fit(x, y)\n",
    "predicted = perceptron.predict(x)\n",
    "x = np.load('probes/features_second_last_test_dpn_magface_sgd.npy')\n",
    "y = np.load('probes/sense_tensor_test.npy')\n",
    "print(\"DPN SGD MagFace second last layer accuracy\", perceptron.score(x,y))"
   ]
  },
  {
   "cell_type": "code",
   "execution_count": null,
   "metadata": {},
   "outputs": [],
   "source": []
  }
 ],
 "metadata": {
  "kernelspec": {
   "display_name": "Python 3",
   "language": "python",
   "name": "python3"
  },
  "language_info": {
   "codemirror_mode": {
    "name": "ipython",
    "version": 3
   },
   "file_extension": ".py",
   "mimetype": "text/x-python",
   "name": "python",
   "nbconvert_exporter": "python",
   "pygments_lexer": "ipython3",
   "version": "3.9.11"
  },
  "orig_nbformat": 4
 },
 "nbformat": 4,
 "nbformat_minor": 2
}
