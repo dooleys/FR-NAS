{
 "cells": [
  {
   "cell_type": "code",
   "execution_count": 1,
   "metadata": {},
   "outputs": [
    {
     "name": "stderr",
     "output_type": "stream",
     "text": [
      "2023-05-11 16:08:51.061879: I tensorflow/tsl/cuda/cudart_stub.cc:28] Could not find cuda drivers on your machine, GPU will not be used.\n",
      "2023-05-11 16:08:51.125684: I tensorflow/tsl/cuda/cudart_stub.cc:28] Could not find cuda drivers on your machine, GPU will not be used.\n",
      "2023-05-11 16:08:51.126628: I tensorflow/core/platform/cpu_feature_guard.cc:182] This TensorFlow binary is optimized to use available CPU instructions in performance-critical operations.\n",
      "To enable the following instructions: AVX2 FMA, in other operations, rebuild TensorFlow with the appropriate compiler flags.\n",
      "2023-05-11 16:08:53.842164: W tensorflow/compiler/tf2tensorrt/utils/py_utils.cc:38] TF-TRT Warning: Could not find TensorRT\n"
     ]
    }
   ],
   "source": [
    "from sklearn.manifold import TSNE\n",
    "from keras.datasets import mnist\n",
    "from sklearn.datasets import load_iris\n",
    "from numpy import reshape\n",
    "import seaborn as sns\n",
    "import pandas as pd "
   ]
  },
  {
   "cell_type": "code",
   "execution_count": 26,
   "metadata": {},
   "outputs": [
    {
     "name": "stdout",
     "output_type": "stream",
     "text": [
      "SMAC Model accuracy on last layer 0.6998039215686275\n"
     ]
    }
   ],
   "source": [
    "import numpy as np\n",
    "# read numpy file\n",
    "x = np.load('/work/dlclarge2/sukthank-ZCP_Competition/FR-NAS/Checkpoints_probes_tsne/features_last_val.npy')\n",
    "y = np.load('/work/dlclarge2/sukthank-ZCP_Competition/FR-NAS/Checkpoints_probes_tsne/sense_tensor_val.npy')\n",
    "from sklearn.preprocessing import StandardScaler\n",
    "from sklearn.linear_model import Perceptron\n",
    "perceptron = Perceptron(random_state=0)\n",
    "perceptron.fit(x, y)\n",
    "predicted = perceptron.predict(x)\n",
    "x = np.load('/work/dlclarge2/sukthank-ZCP_Competition/FR-NAS/Checkpoints_probes_tsne/features_last_test.npy')\n",
    "y = np.load('/work/dlclarge2/sukthank-ZCP_Competition/FR-NAS/Checkpoints_probes_tsne/sense_tensor_test.npy')\n",
    "print(\"SMAC Model accuracy on last layer\",perceptron.score(x,y))"
   ]
  },
  {
   "cell_type": "code",
   "execution_count": 27,
   "metadata": {},
   "outputs": [
    {
     "name": "stdout",
     "output_type": "stream",
     "text": [
      "SMAC Model accuracy on second last layer 0.6824836601307189\n"
     ]
    }
   ],
   "source": [
    "import numpy as np\n",
    "# read numpy file\n",
    "x = np.load('/work/dlclarge2/sukthank-ZCP_Competition/FR-NAS/Checkpoints_probes_tsne/features_second_last_val.npy')\n",
    "y = np.load('/work/dlclarge2/sukthank-ZCP_Competition/FR-NAS/Checkpoints_probes_tsne/sense_tensor_val.npy')\n",
    "\n",
    "from sklearn.preprocessing import StandardScaler\n",
    "from sklearn.linear_model import Perceptron\n",
    "perceptron = Perceptron(random_state=0)\n",
    "perceptron.fit(x, y)\n",
    "predicted = perceptron.predict(x)\n",
    "x = np.load('/work/dlclarge2/sukthank-ZCP_Competition/FR-NAS/Checkpoints_probes_tsne/features_second_last_test.npy')\n",
    "y = np.load('/work/dlclarge2/sukthank-ZCP_Competition/FR-NAS/Checkpoints_probes_tsne/sense_tensor_test.npy')\n",
    "perceptron.score(x,y)\n",
    "print(\"SMAC Model accuracy on second last layer\",perceptron.score(x,y))"
   ]
  },
  {
   "cell_type": "code",
   "execution_count": 28,
   "metadata": {},
   "outputs": [
    {
     "name": "stdout",
     "output_type": "stream",
     "text": [
      "DPN CosFace last layer accuracy 0.9071895424836601\n"
     ]
    }
   ],
   "source": [
    "import numpy as np\n",
    "# read numpy file\n",
    "x = np.load('/work/dlclarge2/sukthank-ZCP_Competition/FR-NAS/Checkpoints_probes_tsne/dpn107_CosFace_sgd222/features_last_val.npy')\n",
    "y = np.load('/work/dlclarge2/sukthank-ZCP_Competition/FR-NAS/Checkpoints_probes_tsne/dpn107_CosFace_sgd222/sense_tensor_val.npy')\n",
    "\n",
    "from sklearn.preprocessing import StandardScaler\n",
    "from sklearn.linear_model import Perceptron\n",
    "perceptron = Perceptron(random_state=0)\n",
    "perceptron.fit(x, y)\n",
    "predicted = perceptron.predict(x)\n",
    "x = np.load('/work/dlclarge2/sukthank-ZCP_Competition/FR-NAS/Checkpoints_probes_tsne/dpn107_CosFace_sgd222/features_last_test.npy')\n",
    "y = np.load('/work/dlclarge2/sukthank-ZCP_Competition/FR-NAS/Checkpoints_probes_tsne/dpn107_CosFace_sgd222/sense_tensor_test.npy')\n",
    "print(\"DPN CosFace last layer accuracy\",perceptron.score(x,y))"
   ]
  },
  {
   "cell_type": "code",
   "execution_count": 29,
   "metadata": {},
   "outputs": [
    {
     "name": "stdout",
     "output_type": "stream",
     "text": [
      "DPN CosFace second last layer accuracy 0.937875816993464\n"
     ]
    }
   ],
   "source": [
    "import numpy as np\n",
    "# read numpy file\n",
    "x = np.load('/work/dlclarge2/sukthank-ZCP_Competition/FR-NAS/Checkpoints_probes_tsne/dpn107_CosFace_sgd222/features_second_last_val.npy')\n",
    "y = np.load('/work/dlclarge2/sukthank-ZCP_Competition/FR-NAS/Checkpoints_probes_tsne/dpn107_CosFace_sgd222/sense_tensor_val.npy')\n",
    "from sklearn.linear_model import Perceptron\n",
    "perceptron = Perceptron(random_state=0)\n",
    "perceptron.fit(x, y)\n",
    "predicted = perceptron.predict(x)\n",
    "x = np.load('/work/dlclarge2/sukthank-ZCP_Competition/FR-NAS/Checkpoints_probes_tsne/dpn107_CosFace_sgd222/features_second_last_test.npy')\n",
    "y = np.load('/work/dlclarge2/sukthank-ZCP_Competition/FR-NAS/Checkpoints_probes_tsne/dpn107_CosFace_sgd222/sense_tensor_test.npy')\n",
    "print(\"DPN CosFace second last layer accuracy\",perceptron.score(x,y))"
   ]
  },
  {
   "cell_type": "code",
   "execution_count": 30,
   "metadata": {},
   "outputs": [
    {
     "name": "stdout",
     "output_type": "stream",
     "text": [
      "DPN Adam CosFace last layer accuracy 0.8738562091503268\n"
     ]
    }
   ],
   "source": [
    "import numpy as np\n",
    "# read numpy file\n",
    "x = np.load('/work/dlclarge2/sukthank-ZCP_Competition/FR-NAS/Checkpoints_probes_tsne/dpn107_CosFace_AdamW222/features_last_val.npy')\n",
    "y = np.load('/work/dlclarge2/sukthank-ZCP_Competition/FR-NAS/Checkpoints_probes_tsne/dpn107_CosFace_AdamW222/sense_tensor_val.npy')\n",
    "from sklearn.linear_model import Perceptron\n",
    "perceptron = Perceptron(random_state=0)\n",
    "perceptron.fit(x, y)\n",
    "predicted = perceptron.predict(x)\n",
    "x = np.load('/work/dlclarge2/sukthank-ZCP_Competition/FR-NAS/Checkpoints_probes_tsne/dpn107_CosFace_AdamW222/features_last_test.npy')\n",
    "y = np.load('/work/dlclarge2/sukthank-ZCP_Competition/FR-NAS/Checkpoints_probes_tsne/dpn107_CosFace_AdamW222/sense_tensor_test.npy')\n",
    "print(\"DPN Adam CosFace last layer accuracy\", perceptron.score(x,y))"
   ]
  },
  {
   "cell_type": "code",
   "execution_count": 31,
   "metadata": {},
   "outputs": [
    {
     "name": "stdout",
     "output_type": "stream",
     "text": [
      "DPN Adam CosFace second last layer accuracy 0.9444444444444444\n"
     ]
    }
   ],
   "source": [
    "import numpy as np\n",
    "# read numpy file\n",
    "x = np.load('/work/dlclarge2/sukthank-ZCP_Competition/FR-NAS/Checkpoints_probes_tsne/dpn107_CosFace_AdamW222/features_second_last_val.npy')\n",
    "y = np.load('/work/dlclarge2/sukthank-ZCP_Competition/FR-NAS/Checkpoints_probes_tsne/dpn107_CosFace_AdamW222/sense_tensor_val.npy')\n",
    "from sklearn.linear_model import Perceptron\n",
    "perceptron = Perceptron(random_state=0)\n",
    "perceptron.fit(x, y)\n",
    "predicted = perceptron.predict(x)\n",
    "x = np.load('/work/dlclarge2/sukthank-ZCP_Competition/FR-NAS/Checkpoints_probes_tsne/dpn107_CosFace_AdamW222/features_second_last_test.npy')\n",
    "y = np.load('/work/dlclarge2/sukthank-ZCP_Competition/FR-NAS/Checkpoints_probes_tsne/dpn107_CosFace_AdamW222/sense_tensor_test.npy')\n",
    "print(\"DPN Adam CosFace second last layer accuracy\", perceptron.score(x,y))"
   ]
  },
  {
   "cell_type": "code",
   "execution_count": 32,
   "metadata": {},
   "outputs": [
    {
     "name": "stdout",
     "output_type": "stream",
     "text": [
      "DPN MagFace sgd last layer accuracy 0.8604248366013072\n"
     ]
    }
   ],
   "source": [
    "import numpy as np\n",
    "# read numpy file\n",
    "x = np.load('/work/dlclarge2/sukthank-ZCP_Competition/FR-NAS/Checkpoints_probes_tsne/dpn107_MagFace_SGD222/features_last_val.npy')\n",
    "y = np.load('/work/dlclarge2/sukthank-ZCP_Competition/FR-NAS/Checkpoints_probes_tsne/dpn107_MagFace_SGD222/sense_tensor_val.npy')\n",
    "from sklearn.linear_model import Perceptron\n",
    "perceptron = Perceptron(random_state=0)\n",
    "perceptron.fit(x, y)\n",
    "predicted = perceptron.predict(x)\n",
    "x = np.load('/work/dlclarge2/sukthank-ZCP_Competition/FR-NAS/Checkpoints_probes_tsne/dpn107_MagFace_SGD222/features_last_test.npy')\n",
    "y = np.load('/work/dlclarge2/sukthank-ZCP_Competition/FR-NAS/Checkpoints_probes_tsne/dpn107_MagFace_SGD222/sense_tensor_test.npy')\n",
    "print(\"DPN MagFace sgd last layer accuracy\", perceptron.score(x,y))"
   ]
  },
  {
   "cell_type": "code",
   "execution_count": 33,
   "metadata": {},
   "outputs": [
    {
     "name": "stdout",
     "output_type": "stream",
     "text": [
      "DPN MagFace SGD second last layer accuracy 0.9546078431372549\n"
     ]
    }
   ],
   "source": [
    "import numpy as np\n",
    "# read numpy file\n",
    "x = np.load('/work/dlclarge2/sukthank-ZCP_Competition/FR-NAS/Checkpoints_probes_tsne/dpn107_MagFace_SGD222/features_second_last_val.npy')\n",
    "y = np.load('/work/dlclarge2/sukthank-ZCP_Competition/FR-NAS/Checkpoints_probes_tsne/dpn107_MagFace_SGD222/sense_tensor_val.npy')\n",
    "from sklearn.linear_model import Perceptron\n",
    "perceptron = Perceptron(random_state=0)\n",
    "perceptron.fit(x, y)\n",
    "predicted = perceptron.predict(x)\n",
    "x = np.load('/work/dlclarge2/sukthank-ZCP_Competition/FR-NAS/Checkpoints_probes_tsne/dpn107_MagFace_SGD222/features_second_last_test.npy')\n",
    "y = np.load('/work/dlclarge2/sukthank-ZCP_Competition/FR-NAS/Checkpoints_probes_tsne/dpn107_MagFace_SGD222/sense_tensor_test.npy')\n",
    "print(\"DPN MagFace SGD second last layer accuracy\", perceptron.score(x,y))"
   ]
  },
  {
   "cell_type": "code",
   "execution_count": null,
   "metadata": {},
   "outputs": [],
   "source": []
  }
 ],
 "metadata": {
  "kernelspec": {
   "display_name": "Python 3",
   "language": "python",
   "name": "python3"
  },
  "language_info": {
   "codemirror_mode": {
    "name": "ipython",
    "version": 3
   },
   "file_extension": ".py",
   "mimetype": "text/x-python",
   "name": "python",
   "nbconvert_exporter": "python",
   "pygments_lexer": "ipython3",
   "version": "3.9.11"
  },
  "orig_nbformat": 4
 },
 "nbformat": 4,
 "nbformat_minor": 2
}
