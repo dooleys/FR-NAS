{
 "cells": [
  {
   "cell_type": "code",
   "execution_count": 2,
   "id": "4b8c6698",
   "metadata": {},
   "outputs": [],
   "source": [
    "## Get model names for those models for whom the performance dropped over each epoch\n",
    "\n",
    "import pandas as pd\n",
    "\n",
    "results = pd.read_csv('results_nooversampling/timm_from-scratch.csv',sep='\\t').drop_duplicates(['Model','epoch'])\n",
    "\n",
    "results['OverallAcc'] = (results['Acc k male'] + results['Acc k female'])/2\n",
    "results['Disparity'] = abs(results['Acc k male'] - results['Acc k female'])\n",
    "\n",
    "with open(\"failed_models_after_3_epochs.txt\", \"r\") as f:\n",
    "    failed_models = [x.strip() for x in f.readlines()]\n",
    "    \n",
    "\n",
    "bb = pd.read_csv('commands/commands.csv')\n",
    "bb = bb.sort_values(['input_size','batch_size'], ascending=[True,False])\n",
    "bb['seed_arg'] = '--seed'\n",
    "bb['seed'] = 222\n",
    "bb['pretrained_arg'] = ''\n",
    "bb['pretrained'] = ''\n",
    "bb.file = '/cmlscratch/sdooley1/FR-NAS/face.evoLVe.PyTorch/fairness_train_timm.py'\n",
    "bb = bb[bb.batch_size == 250]\n",
    "bb['batch_size'] = 64\n",
    "bb['num_epoch_arg'] = '--num_epoch'\n",
    "bb['num_epoch'] = 101\n",
    "bb['project_name'] = '--project_name from-scratch_bs64_epoch101'\n",
    "bb['file_name'] = '--file_name timm_from-scratch_bs64_epoch101'\n",
    "bb = bb.loc[bb.apply(lambda x: x.backbone_name not in failed_models, axis=1)]\n",
    "# bb.to_csv('commands/train100_batch64_small.sh', sep=' ', index=False, header = False)    "
   ]
  },
  {
   "cell_type": "code",
   "execution_count": 23,
   "id": "386d36c8",
   "metadata": {},
   "outputs": [
    {
     "name": "stdout",
     "output_type": "stream",
     "text": [
      "5 adv_inception_v3\n",
      "4 convmixer_1024_20_ks9_p14\n",
      "1 cspdarknet53\n",
      "3 cspresnet50\n",
      "2 densenet169\n",
      "2 dpn68\n",
      "3 efficientnet_b1\n",
      "1 ese_vovnet19b_dw\n",
      "6 gernet_s\n",
      "2 gluon_resnext50_32x4d\n",
      "5 mnasnet_small\n",
      "1 regnetz_b16\n",
      "3 resnetv2_50\n",
      "2 tf_efficientnet_cc_b0_4e\n",
      "2 tf_efficientnet_cc_b0_8e\n",
      "1 tf_efficientnet_el\n",
      "1 tf_efficientnet_lite2\n",
      "3 tf_efficientnet_lite3\n",
      "1 tf_efficientnetv2_b0\n",
      "1 tf_efficientnetv2_b1\n",
      "1 tf_efficientnetv2_b2\n",
      "1 tf_efficientnetv2_b3\n",
      "1 tf_inception_v3\n",
      "1 tf_mixnet_l\n",
      "2 tf_mixnet_m\n",
      "2 tf_mobilenetv3_large_075\n",
      "1 tf_mobilenetv3_large_100\n"
     ]
    }
   ],
   "source": [
    "import glob\n",
    "import os\n",
    "for x in bb.backbone_name:\n",
    "    checkpoints = glob.glob('Checkpoints/timm_explore_few_epochs/{}_CosFace/*'.format(x))\n",
    "    if len(checkpoints):\n",
    "        print(len(checkpoints),x)\n",
    "        epochs = {}\n",
    "        for x in checkpoints:\n",
    "            epochs[int(x.split('Epoch_')[1].split('.')[0])] = x\n",
    "        for e in epochs:\n",
    "            if e == max(epochs):\n",
    "                continue\n",
    "#             print(epochs[e])\n",
    "            os.remove(epochs[e])"
   ]
  }
 ],
 "metadata": {
  "kernelspec": {
   "display_name": "Python 3 (ipykernel)",
   "language": "python",
   "name": "python3"
  },
  "language_info": {
   "codemirror_mode": {
    "name": "ipython",
    "version": 3
   },
   "file_extension": ".py",
   "mimetype": "text/x-python",
   "name": "python",
   "nbconvert_exporter": "python",
   "pygments_lexer": "ipython3",
   "version": "3.9.7"
  }
 },
 "nbformat": 4,
 "nbformat_minor": 5
}
