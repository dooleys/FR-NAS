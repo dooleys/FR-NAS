{
 "cells": [
  {
   "cell_type": "code",
   "execution_count": 1,
   "id": "ebea4661",
   "metadata": {},
   "outputs": [
    {
     "name": "stdout",
     "output_type": "stream",
     "text": [
      "Adam 0.0005 cosine\n",
      "Adam 0.0005 cosine\n",
      "adam 0.0001 cosine\n",
      "sgd 0.1 cosine\n",
      "sgd 0.001 multistep\n",
      "sgd 0.1 multistep\n",
      "sgd 0.05 cosine\n",
      "AdamW 0.00025 cosine\n",
      "Adam 2e-05 cosine\n",
      "rmsproptf 0.016 step\n",
      "adamw 0.0005 cosine\n"
     ]
    }
   ],
   "source": [
    "import os\n",
    "import torch\n",
    "import torch.nn as nn\n",
    "import torch.optim as optim\n",
    "import yaml\n",
    "import numpy as np\n",
    "import pandas as pd\n",
    "import random\n",
    "import timm\n",
    "from timm.optim import create_optimizer_v2, optimizer_kwargs\n",
    "from timm.scheduler import create_scheduler\n",
    "from timm.utils.model_ema import ModelEmaV2\n",
    "import glob\n",
    "from Checkpoints.analysis import *\n",
    "from collections import OrderedDict\n",
    "\n",
    "\n",
    "def write_config(options):\n",
    "    folder = os.path.join('configs_unified_lr', \n",
    "                                   model_name)\n",
    "    \n",
    "#     if not os.path.exists('configs_unified_lr'):\n",
    "#         os.mkdir('configs_unified_lr')\n",
    "#     if not os.path.exists(folder):\n",
    "#         os.mkdir(folder)\n",
    "        \n",
    "    new_config_file = os.path.join(folder,\n",
    "                                   '_'.join(['config',model_name,\n",
    "                                             options['head'],options['opt'], \n",
    "                                             str(options['lr']), options['sched']])+'.yaml'\n",
    "                                  )\n",
    "#     with open(new_config_file, 'w') as f:\n",
    "#         yaml.dump(options, f)\n",
    "    return new_config_file\n",
    "\n",
    "diff = {}\n",
    "\n",
    "finished_models = get_finished_models_Phase1B()\n",
    "rhea_models = [m for m in finished_models if any([m in x for x in glob.glob('Checkpoints/timm_explore_few_epochs/*')])]\n",
    "samuel_models = [m for m in finished_models if m not in rhea_models]\n",
    "\n",
    "for model in rhea_models:\n",
    "    for config_file in glob.glob('configs/'+model+'/*.yaml'):\n",
    "        model_name = os.path.dirname(config_file).split('/')[1]\n",
    "        with open(config_file, \"r\") as ymlfile:\n",
    "            options = yaml.load(ymlfile, Loader=yaml.FullLoader)\n",
    "\n",
    "        original_opt = options['opt']\n",
    "        original_lr = options['lr']\n",
    "        original_sched = options['sched']\n",
    "        print(original_opt, original_lr, original_sched)\n",
    "\n",
    "        for head in ['MagFace','CosFace', 'ArcFace']:\n",
    "            for opt,lr in [['AdamW',1e-3], ['SGD',0.1]]:\n",
    "\n",
    "                options['head'] = head\n",
    "                options['opt'] = opt\n",
    "                options['lr'] = lr\n",
    "                options['sched'] = 'cosine'\n",
    "                options['default_test_root'] = '/cmlscratch/sdooley1/data/CelebA/Img/img_align_celeba_splits/val/'\n",
    "                options['default_train_root'] = '/cmlscratch/sdooley1/data/CelebA/Img/img_align_celeba_splits/train/'\n",
    "                options['checkpoints_root'] = 'Checkpoints/Phase1B/'\n",
    "                options['comet_api_key'] = 'D1J58R7hYXPZzqZhrTIOe6GGQ'\n",
    "                options['comet_workspace'] = 'samueld'\n",
    "                options['demographics_file'] = '/cmlscratch/sdooley1/data/CelebA/CelebA_demographics.txt'\n",
    "                options['metadata_file'] = '/cmlscratch/sdooley1/timm_model_metadata.csv'\n",
    "                options['project_name'] = 'Phase1B'\n",
    "                options['save_freq'] = 20\n",
    "#                 if (opt.lower() != original_opt.lower()) or (lr != original_lr) or ('cosine' != original_sched.lower()):\n",
    "                new_config_file = write_config(options)\n",
    "\n",
    "                key = lr == original_lr\n",
    "                key = abs(float(lr) - float(original_lr))\n",
    "                if key in diff.keys():\n",
    "                    diff[key] += [new_config_file]\n",
    "                else:\n",
    "                    diff[key] = [new_config_file]\n"
   ]
  },
  {
   "cell_type": "code",
   "execution_count": 2,
   "id": "f3d936aa",
   "metadata": {},
   "outputs": [
    {
     "data": {
      "text/plain": [
       "29"
      ]
     },
     "execution_count": 2,
     "metadata": {},
     "output_type": "execute_result"
    }
   ],
   "source": [
    "len(finished_models)"
   ]
  },
  {
   "cell_type": "code",
   "execution_count": 3,
   "id": "473841dd",
   "metadata": {},
   "outputs": [],
   "source": [
    "ordered_list = []\n",
    "for k in sorted([k for k,_ in diff.items()], reverse=True):\n",
    "    if k:\n",
    "        ordered_list += diff[k]"
   ]
  },
  {
   "cell_type": "code",
   "execution_count": 4,
   "id": "bf43ce06",
   "metadata": {},
   "outputs": [
    {
     "data": {
      "text/plain": [
       "57"
      ]
     },
     "execution_count": 4,
     "metadata": {},
     "output_type": "execute_result"
    }
   ],
   "source": [
    "len(ordered_list)"
   ]
  },
  {
   "cell_type": "code",
   "execution_count": 14,
   "id": "9eedbbb3",
   "metadata": {
    "scrolled": false
   },
   "outputs": [
    {
     "data": {
      "text/plain": [
       "(43, 1, 4)"
      ]
     },
     "execution_count": 14,
     "metadata": {},
     "output_type": "execute_result"
    }
   ],
   "source": [
    "finished = []\n",
    "started = []\n",
    "not_started = []\n",
    "currently_running = ['tf_efficientnet_b7_ns_ArcFace_AdamW_0.001_cosine',\n",
    "                     'cspdarknet53_ArcFace_AdamW_0.001_cosine',\n",
    "                     'jx_nest_base_ArcFace_AdamW_0.001_cosine',\n",
    "                     'coat_lite_small_CosFace_AdamW_0.001_cosine',\n",
    "                     'convit_base_MagFace_AdamW_0.001_cosine',\n",
    "                     'convit_base_CosFace_AdamW_0.001_cosine',\n",
    "                     'convit_base_ArcFace_AdamW_0.001_cosine',\n",
    "                     'hrnet_w64_CosFace_SGD_0.1_cosine',\n",
    "                     'hrnet_w64_ArcFace_SGD_0.1_cosine'\n",
    "                    ]\n",
    "for y in ordered_list:\n",
    "    if any(x for x in currently_running if x in y):\n",
    "        continue\n",
    "    experiment_folder = find_yaml_folder(y)\n",
    "    if experiment_folder:\n",
    "        paths = glob.glob(experiment_folder+'/*.pth')\n",
    "        if not paths:\n",
    "            not_started += [y]\n",
    "#             print('python src/fairness_train_timm.py --config_path ' + y)\n",
    "        else:\n",
    "            if [x for x in paths if 'Epoch_100' in x]:            \n",
    "                finished += [y]\n",
    "    #             print('finished')\n",
    "            if not [x for x in paths if 'Epoch_100' in x]:\n",
    "                started += [y]\n",
    "    #             print(y, [x.split('Epoch_')[1] for x in paths])\n",
    "    #             print([x.split('Epoch_')[1] for x in paths ])\n",
    "    #             print('python src/fairness_train_timm.py --config_path '+y)\n",
    "    else:\n",
    "        not_started += [y]\n",
    "#         print('python src/fairness_train_timm.py --config_path '+y)\n",
    "len(finished), len(started), len(not_started)"
   ]
  },
  {
   "cell_type": "code",
   "execution_count": 17,
   "id": "8f9d804e",
   "metadata": {},
   "outputs": [
    {
     "data": {
      "text/plain": [
       "['configs_unified_lr/ghostnet_100/config_ghostnet_100_MagFace_AdamW_0.001_cosine.yaml',\n",
       " 'configs_unified_lr/ghostnet_100/config_ghostnet_100_CosFace_AdamW_0.001_cosine.yaml',\n",
       " 'configs_unified_lr/ghostnet_100/config_ghostnet_100_ArcFace_AdamW_0.001_cosine.yaml',\n",
       " 'configs_unified_lr/hrnet_w64/config_hrnet_w64_MagFace_AdamW_0.001_cosine.yaml',\n",
       " 'configs_unified_lr/hrnet_w64/config_hrnet_w64_CosFace_AdamW_0.001_cosine.yaml']"
      ]
     },
     "execution_count": 17,
     "metadata": {},
     "output_type": "execute_result"
    }
   ],
   "source": [
    "not_started +started"
   ]
  },
  {
   "cell_type": "code",
   "execution_count": 18,
   "id": "62ebd51b",
   "metadata": {},
   "outputs": [
    {
     "name": "stdout",
     "output_type": "stream",
     "text": [
      "python src/fairness_train_timm.py --config_path configs_unified_lr/ghostnet_100/config_ghostnet_100_MagFace_AdamW_0.001_cosine.yaml\n",
      "python src/fairness_train_timm.py --config_path configs_unified_lr/ghostnet_100/config_ghostnet_100_CosFace_AdamW_0.001_cosine.yaml\n",
      "python src/fairness_train_timm.py --config_path configs_unified_lr/ghostnet_100/config_ghostnet_100_ArcFace_AdamW_0.001_cosine.yaml\n",
      "python src/fairness_train_timm.py --config_path configs_unified_lr/hrnet_w64/config_hrnet_w64_MagFace_AdamW_0.001_cosine.yaml\n",
      "python src/fairness_train_timm.py --config_path configs_unified_lr/hrnet_w64/config_hrnet_w64_CosFace_AdamW_0.001_cosine.yaml\n"
     ]
    }
   ],
   "source": [
    "for s in not_started +started:\n",
    "    print('python src/fairness_train_timm.py --config_path '+s)"
   ]
  },
  {
   "cell_type": "code",
   "execution_count": 13,
   "id": "c126e312",
   "metadata": {},
   "outputs": [
    {
     "name": "stdout",
     "output_type": "stream",
     "text": [
      "python src/fairness_train_timm.py --config_path configs_unified_lr/swin_base_patch4_window7_224/config_swin_base_patch4_window7_224_MagFace_SGD_0.1_cosine.yaml\n",
      "python src/fairness_train_timm.py --config_path configs_unified_lr/tf_efficientnet_b7_ns/config_tf_efficientnet_b7_ns_ArcFace_AdamW_0.001_cosine.yaml\n",
      "python src/fairness_train_timm.py --config_path configs_unified_lr/jx_nest_base/config_jx_nest_base_MagFace_AdamW_0.001_cosine.yaml\n",
      "python src/fairness_train_timm.py --config_path configs_unified_lr/twins_svt_large/config_twins_svt_large_MagFace_AdamW_0.001_cosine.yaml\n",
      "python src/fairness_train_timm.py --config_path configs_unified_lr/twins_svt_large/config_twins_svt_large_CosFace_AdamW_0.001_cosine.yaml\n",
      "python src/fairness_train_timm.py --config_path configs_unified_lr/cait_xs24_384/config_cait_xs24_384_MagFace_SGD_0.1_cosine.yaml\n",
      "python src/fairness_train_timm.py --config_path configs_unified_lr/cait_xs24_384/config_cait_xs24_384_CosFace_SGD_0.1_cosine.yaml\n",
      "python src/fairness_train_timm.py --config_path configs_unified_lr/cait_xs24_384/config_cait_xs24_384_ArcFace_SGD_0.1_cosine.yaml\n",
      "python src/fairness_train_timm.py --config_path configs_unified_lr/ghostnet_100/config_ghostnet_100_MagFace_AdamW_0.001_cosine.yaml\n",
      "python src/fairness_train_timm.py --config_path configs_unified_lr/ghostnet_100/config_ghostnet_100_CosFace_AdamW_0.001_cosine.yaml\n",
      "python src/fairness_train_timm.py --config_path configs_unified_lr/ghostnet_100/config_ghostnet_100_ArcFace_AdamW_0.001_cosine.yaml\n",
      "python src/fairness_train_timm.py --config_path configs_unified_lr/hrnet_w64/config_hrnet_w64_MagFace_AdamW_0.001_cosine.yaml\n",
      "python src/fairness_train_timm.py --config_path configs_unified_lr/swin_base_patch4_window7_224/config_swin_base_patch4_window7_224_MagFace_AdamW_0.001_cosine.yaml\n",
      "python src/fairness_train_timm.py --config_path configs_unified_lr/swin_base_patch4_window7_224/config_swin_base_patch4_window7_224_CosFace_AdamW_0.001_cosine.yaml\n",
      "python src/fairness_train_timm.py --config_path configs_unified_lr/cspdarknet53/config_cspdarknet53_MagFace_AdamW_0.001_cosine.yaml\n",
      "python src/fairness_train_timm.py --config_path configs_unified_lr/cspdarknet53/config_cspdarknet53_ArcFace_AdamW_0.001_cosine.yaml\n",
      "python src/fairness_train_timm.py --config_path configs_unified_lr/jx_nest_base/config_jx_nest_base_CosFace_AdamW_0.001_cosine.yaml\n",
      "python src/fairness_train_timm.py --config_path configs_unified_lr/jx_nest_base/config_jx_nest_base_ArcFace_AdamW_0.001_cosine.yaml\n",
      "python src/fairness_train_timm.py --config_path configs_unified_lr/cait_xs24_384/config_cait_xs24_384_MagFace_AdamW_0.001_cosine.yaml\n",
      "python src/fairness_train_timm.py --config_path configs_unified_lr/cait_xs24_384/config_cait_xs24_384_CosFace_AdamW_0.001_cosine.yaml\n",
      "python src/fairness_train_timm.py --config_path configs_unified_lr/cait_xs24_384/config_cait_xs24_384_ArcFace_AdamW_0.001_cosine.yaml\n",
      "python src/fairness_train_timm.py --config_path configs_unified_lr/coat_lite_small/config_coat_lite_small_CosFace_AdamW_0.001_cosine.yaml\n",
      "python src/fairness_train_timm.py --config_path configs_unified_lr/convit_base/config_convit_base_MagFace_AdamW_0.001_cosine.yaml\n",
      "python src/fairness_train_timm.py --config_path configs_unified_lr/convit_base/config_convit_base_CosFace_AdamW_0.001_cosine.yaml\n",
      "python src/fairness_train_timm.py --config_path configs_unified_lr/convit_base/config_convit_base_ArcFace_AdamW_0.001_cosine.yaml\n"
     ]
    }
   ],
   "source": [
    "running_models = ['hrnet_w64_ArcFace_AdamW_0.001_cosine',\n",
    "                  'dpn107_CosFace_SGD_0.1_cosine',\n",
    "                  'dpn107_ArcFace_SGD_0.1_cosine',\n",
    "                  'hrnet_w64_MagFace_SGD_0.1_cosine',\n",
    "                  'hrnet_w64_CosFace_SGD_0.1_cosine',\n",
    "                  'hrnet_w64_ArcFace_SGD_0.1_cosine',\n",
    "                  'tf_efficientnet_b7_ns_MagFace_SGD_0.1_cosine',\n",
    "                  'tf_efficientnet_b7_ns_ArcFace_SGD_0.1_cosine',\n",
    "                  'hrnet_w64_CosFace_AdamW_0.001_cosine'\n",
    "                 ]\n",
    "for s in started+not_started:\n",
    "    if not any([x for x in running_models if x in s]):\n",
    "        print('python src/fairness_train_timm.py --config_path '+s)"
   ]
  },
  {
   "cell_type": "code",
   "execution_count": null,
   "id": "751938e3",
   "metadata": {},
   "outputs": [],
   "source": [
    "[os.path.getsize(c) for c in csvs]"
   ]
  },
  {
   "cell_type": "code",
   "execution_count": null,
   "id": "f9d39de7",
   "metadata": {},
   "outputs": [],
   "source": [
    "for y in started:\n",
    "    csvs = glob.glob(find_yaml_folder(y)+'/*.pth')\n",
    "    print(y)\n",
    "    print([(os.path.basename(x).split('Epoch_')[1],os.path.getsize(x)) for x in csvs])"
   ]
  },
  {
   "cell_type": "code",
   "execution_count": null,
   "id": "e1cdd93c",
   "metadata": {},
   "outputs": [],
   "source": [
    "# with open('phase1biv_rhea.sh','w') as f:\n",
    "#     f.writelines(['python src/fairness_train_timm.py --config_path '+x+'\\n' for x in my_configs])"
   ]
  }
 ],
 "metadata": {
  "kernelspec": {
   "display_name": "Python 3 (ipykernel)",
   "language": "python",
   "name": "python3"
  },
  "language_info": {
   "codemirror_mode": {
    "name": "ipython",
    "version": 3
   },
   "file_extension": ".py",
   "mimetype": "text/x-python",
   "name": "python",
   "nbconvert_exporter": "python",
   "pygments_lexer": "ipython3",
   "version": "3.9.7"
  }
 },
 "nbformat": 4,
 "nbformat_minor": 5
}
