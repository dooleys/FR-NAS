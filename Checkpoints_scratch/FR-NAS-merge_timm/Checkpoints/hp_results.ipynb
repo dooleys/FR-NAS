{
 "cells": [
  {
   "cell_type": "markdown",
   "id": "7c3f17d0",
   "metadata": {},
   "source": [
    "# The Effect of Hyperparameters analysis:\n",
    "(_This message is copied from the slack conversation_)\n",
    "\n",
    "- We wonder how the hyperparameters impact fairness measures\n",
    "- At a minimum we can report the hps of converged models:\n",
    "-- which performed best across all the models\n",
    "-- for each combination of {head,optimizer} what models performed best\n",
    "- The most straightforward analysis might be to run a regression (or anova) of all the models from Phase1B like\n",
    "-- accuracy_at_epoch_n ~ head + opt + lr\n",
    "-- fairness_at_epoch_n ~ head + opt + lr\n"
   ]
  },
  {
   "cell_type": "code",
   "execution_count": 9,
   "id": "7eb89d46",
   "metadata": {},
   "outputs": [],
   "source": [
    "import warnings\n",
    "warnings.simplefilter(action='ignore', category=FutureWarning)\n",
    "import pandas as pd\n",
    "pd.options.mode.chained_assignment = None  # default='warn'\n",
    "import numpy as np\n",
    "import os\n",
    "from analysis import *\n",
    "import glob\n",
    "import plotly.express as px\n",
    "import statsmodels.api as sm\n",
    "from statsmodels.formula.api import ols\n",
    "from stargazer.stargazer import Stargazer\n",
    "from statsmodels.stats.multicomp import pairwise_tukeyhsd\n",
    "\n",
    "final_models = get_finished_models_Phase1B()\n",
    "metadata = pd.read_csv('val_identities_gender-expression_seed_222.csv')"
   ]
  },
  {
   "cell_type": "code",
   "execution_count": 3,
   "id": "cfafa3cd",
   "metadata": {},
   "outputs": [],
   "source": [
    "default_params = [x for x in glob.glob('../configs/**/*.yaml') if [m for m in final_models if m in x]]\n",
    "hp_same_lr = [x for x in glob.glob('../configs_multi/**/*.yaml') if [m for m in final_models if m in x]]\n",
    "hp_unified_lr = [x for x in glob.glob('../configs_unified_lr/**/*.yaml') if [m for m in final_models if m in x]]\n",
    "    \n",
    "rank_files = glob.glob('timm_explore_few_epochs/**/*_rank_by_id_val.csv') + glob.glob('Phase1B/**/*_rank_by_id_val.csv')\n",
    "\n",
    "epochs = [19,39,59,79,99]\n",
    "epoch_columns = ['epoch_'+str(i) for i in epochs]"
   ]
  },
  {
   "cell_type": "code",
   "execution_count": 4,
   "id": "98bde366",
   "metadata": {},
   "outputs": [],
   "source": [
    "acc_df, acc_disp_df, rank_df = analyze_rank_files(rank_files, metadata, epochs=epoch_columns)\n",
    "_, acc_disp_ratio_df, rank_ratio_df = analyze_rank_files(rank_files, metadata, ratio=True, epochs=epoch_columns)\n",
    "err_df, error_ratio_df, _ = analyze_rank_files(rank_files, metadata, ratio=True, error=True, epochs=epoch_columns)\n",
    "\n",
    "acc_disp_df = merge(acc_df, acc_disp_df)\n",
    "rank_df = merge(acc_df, rank_df)\n",
    "acc_disp_ratio_df = merge(acc_df, acc_disp_ratio_df)\n",
    "rank_ratio_df = merge(acc_df, rank_ratio_df)\n",
    "error_ratio_df = merge(err_df, error_ratio_df).rename(columns={'Accuracy':'Error'})"
   ]
  },
  {
   "cell_type": "code",
   "execution_count": 5,
   "id": "e5c376f5",
   "metadata": {},
   "outputs": [],
   "source": [
    "# models which didn't converge\n",
    "non_converged_models = list(set(acc_df[acc_df['Metric'] < 0.25]['index']))"
   ]
  },
  {
   "cell_type": "code",
   "execution_count": 6,
   "id": "0f80a99d",
   "metadata": {},
   "outputs": [],
   "source": [
    "[acc_df, acc_disp_df, rank_df, acc_disp_ratio_df, rank_ratio_df, err_df, error_ratio_df] = drop_models([acc_df, acc_disp_df, rank_df, acc_disp_ratio_df, rank_ratio_df, err_df, error_ratio_df], non_converged_models)"
   ]
  },
  {
   "cell_type": "markdown",
   "id": "7b29e106",
   "metadata": {},
   "source": [
    "# For each head what architectures are Pareto optimal?"
   ]
  },
  {
   "cell_type": "code",
   "execution_count": 16,
   "id": "9d554499",
   "metadata": {},
   "outputs": [
    {
     "name": "stdout",
     "output_type": "stream",
     "text": [
      "|                | ArcFace             | CosFace            | MagFace             |\n",
      "|:---------------|:--------------------|:-------------------|:--------------------|\n",
      "| acc_disp       | dpn107              | rexnet_200         | gluon_xception65    |\n",
      "|                |                     |                    | rexnet_200          |\n",
      "| acc_disp_ratio | dpn107              | rexnet_200         | gluon_xception65    |\n",
      "|                |                     |                    | rexnet_200          |\n",
      "| rank           | dpn107              | cspdarknet53       | gluon_xception65    |\n",
      "|                | ig_resnext101_32x8d | dla102x2           | rexnet_200          |\n",
      "|                | rexnet_200          | dpn107             |                     |\n",
      "|                | xception65          | gluon_inception_v3 |                     |\n",
      "|                |                     | rexnet_200         |                     |\n",
      "|                |                     | tnt_s_patch16_224  |                     |\n",
      "|                |                     | xception65         |                     |\n",
      "| rank_ratio     | dpn107              | cspdarknet53       | gluon_xception65    |\n",
      "|                | ese_vovnet39b       | dla102x2           | ig_resnext101_32x8d |\n",
      "|                | ig_resnext101_32x8d | dpn107             | resnetrs101         |\n",
      "|                | rexnet_200          | rexnet_200         | rexnet_200          |\n",
      "|                | selecsls60b         | xception65         | vgg19_bn            |\n",
      "|                | vgg19_bn            |                    | xception65          |\n",
      "|                | xception65          |                    |                     |\n",
      "| error_ratio    | cait_xs24_384       | jx_nest_base       | cait_xs24_384       |\n",
      "|                | resnetrs101         |                    | gluon_xception65    |\n",
      "|                | xception65          |                    |                     |\n"
     ]
    }
   ],
   "source": [
    "hp_configs = {}\n",
    "\n",
    "hp_configs['acc_disp'] = get_pareto_hps(acc_disp_df)\n",
    "hp_configs['acc_disp_ratio'] = get_pareto_hps(acc_disp_ratio_df)\n",
    "hp_configs['rank'] = get_pareto_hps(rank_df)\n",
    "hp_configs['rank_ratio'] = get_pareto_hps(rank_ratio_df)\n",
    "hp_configs['error_ratio'] = get_pareto_hps(error_ratio_df, col='Error')\n",
    "\n",
    "print(pd.DataFrame.from_dict(hp_configs, orient='index',\n",
    "                       columns=[head for head in ['ArcFace', 'CosFace', 'MagFace']]).to_markdown())"
   ]
  },
  {
   "cell_type": "markdown",
   "id": "c07ed63a",
   "metadata": {},
   "source": [
    "# For each opt what architectures are Pareto optimal?"
   ]
  },
  {
   "cell_type": "code",
   "execution_count": 14,
   "id": "6415a8a4",
   "metadata": {},
   "outputs": [
    {
     "name": "stdout",
     "output_type": "stream",
     "text": [
      "|                | adamw             | sgd                 |\n",
      "|:---------------|:------------------|:--------------------|\n",
      "| acc_disp       | dpn107            | rexnet_200          |\n",
      "|                | gluon_xception65  |                     |\n",
      "|                | tnt_s_patch16_224 |                     |\n",
      "| acc_disp_ratio | dpn107            | rexnet_200          |\n",
      "|                | gluon_xception65  |                     |\n",
      "|                | tnt_s_patch16_224 |                     |\n",
      "| rank           | cspdarknet53      | dla102x2            |\n",
      "|                | dpn107            | gluon_inception_v3  |\n",
      "|                | gluon_xception65  | inception_resnet_v2 |\n",
      "|                | tnt_s_patch16_224 | resnetrs101         |\n",
      "|                |                   | rexnet_200          |\n",
      "| rank_ratio     | cspdarknet53      | dla102x2            |\n",
      "|                | dpn107            | ese_vovnet39b       |\n",
      "|                | gluon_xception65  | hrnet_w64           |\n",
      "|                | tnt_s_patch16_224 | inception_resnet_v2 |\n",
      "|                |                   | resnetrs101         |\n",
      "|                |                   | rexnet_200          |\n",
      "| error_ratio    | cait_xs24_384     | jx_nest_base        |\n",
      "|                | ese_vovnet39b     |                     |\n",
      "|                | gluon_xception65  |                     |\n",
      "|                | resnetrs101       |                     |\n",
      "|                | xception65        |                     |\n"
     ]
    }
   ],
   "source": [
    "hp_configs = {}\n",
    "hp_configs['acc_disp'] = get_pareto_hps(acc_disp_df)\n",
    "hp_configs['acc_disp_ratio'] = get_pareto_hps(acc_disp_ratio_df)\n",
    "hp_configs['rank'] = get_pareto_hps(rank_df)\n",
    "hp_configs['rank_ratio'] = get_pareto_hps(rank_ratio_df)\n",
    "hp_configs['error_ratio'] = get_pareto_hps(error_ratio_df, col='Error')\n",
    "\n",
    "print(pd.DataFrame.from_dict(hp_configs, orient='index',\n",
    "                       columns=[opt for opt in ['adamw', 'sgd']]).to_markdown())"
   ]
  },
  {
   "cell_type": "markdown",
   "id": "fadab6ac",
   "metadata": {},
   "source": [
    "# For each {head,opt} what architectures are Pareto optimal?"
   ]
  },
  {
   "cell_type": "code",
   "execution_count": 22,
   "id": "f2b2b4e8",
   "metadata": {},
   "outputs": [
    {
     "name": "stdout",
     "output_type": "stream",
     "text": [
      "|                | adamwArcFace        | adamwCosFace      | adamwMagFace        |\n",
      "|:---------------|:--------------------|:------------------|:--------------------|\n",
      "| acc_disp       | dpn107              | dpn107            | ese_vovnet39b       |\n",
      "|                | ese_vovnet39b       | tnt_s_patch16_224 | gluon_xception65    |\n",
      "|                | xception65          |                   |                     |\n",
      "| acc_disp_ratio | dpn107              | dpn107            | ese_vovnet39b       |\n",
      "|                | ese_vovnet39b       | tnt_s_patch16_224 | gluon_xception65    |\n",
      "| rank           | dpn107              | cspdarknet53      | ese_vovnet39b       |\n",
      "|                | ese_vovnet39b       | dpn107            | gluon_xception65    |\n",
      "|                | ig_resnext101_32x8d | tnt_s_patch16_224 | legacy_senet154     |\n",
      "|                | xception65          | xception65        | resnetrs101         |\n",
      "| rank_ratio     | dpn107              | cspdarknet53      | ese_vovnet39b       |\n",
      "|                | ese_vovnet39b       | dpn107            | gluon_xception65    |\n",
      "|                | ig_resnext101_32x8d | tnt_s_patch16_224 | inception_resnet_v2 |\n",
      "|                | xception65          | xception65        | inception_v4        |\n",
      "|                |                     |                   | legacy_senet154     |\n",
      "|                |                     |                   | resnetrs101         |\n",
      "|                |                     |                   | vgg19_bn            |\n",
      "|                |                     |                   | xception65          |\n",
      "| error_ratio    | cait_xs24_384       | ese_vovnet39b     | cait_xs24_384       |\n",
      "|                | resnetrs101         | gluon_xception65  | gluon_xception65    |\n",
      "|                | xception65          |                   |                     |\n",
      "\n",
      "|                | sgdArcFace          | sgdCosFace          | sgdMagFace          |\n",
      "|:---------------|:--------------------|:--------------------|:--------------------|\n",
      "| acc_disp       | dpn107              | rexnet_200          | rexnet_200          |\n",
      "| acc_disp_ratio | dpn107              | rexnet_200          | rexnet_200          |\n",
      "| rank           | dpn107              | dla102x2            | rexnet_200          |\n",
      "|                | rexnet_200          | ese_vovnet39b       |                     |\n",
      "|                |                     | gluon_inception_v3  |                     |\n",
      "|                |                     | inception_resnet_v2 |                     |\n",
      "|                |                     | resnetrs101         |                     |\n",
      "|                |                     | rexnet_200          |                     |\n",
      "| rank_ratio     | dpn107              | dla102x2            | ig_resnext101_32x8d |\n",
      "|                | ese_vovnet39b       | ese_vovnet39b       | inception_v4        |\n",
      "|                | rexnet_200          | hrnet_w64           | resnetrs101         |\n",
      "|                | selecsls60b         | inception_resnet_v2 | rexnet_200          |\n",
      "|                | vgg19_bn            | resnetrs101         |                     |\n",
      "|                |                     | rexnet_200          |                     |\n",
      "| error_ratio    | ese_vovnet39b       | jx_nest_base        | gluon_inception_v3  |\n",
      "|                | fbnetv3_g           |                     | inception_v4        |\n",
      "|                | ig_resnext101_32x8d |                     |                     |\n",
      "|                | vgg19_bn            |                     |                     |\n",
      "|                | xception            |                     |                     |\n"
     ]
    }
   ],
   "source": [
    "hp_configs = {}\n",
    "\n",
    "hp_configs['acc_disp'] = get_pareto_hps(acc_disp_df)\n",
    "hp_configs['acc_disp_ratio'] = get_pareto_hps(acc_disp_ratio_df)\n",
    "hp_configs['rank'] = get_pareto_hps(rank_df)\n",
    "hp_configs['rank_ratio'] = get_pareto_hps(rank_ratio_df)\n",
    "hp_configs['error_ratio'] = get_pareto_hps(error_ratio_df, col='Error')\n",
    "\n",
    "df = pd.DataFrame.from_dict(hp_configs, orient='index',\n",
    "                       columns=[opt+head for opt in ['adamw', 'sgd'] \n",
    "                                for head in ['ArcFace','CosFace','MagFace']])\n",
    "print(df[['adamw'+head for head in ['ArcFace','CosFace','MagFace']]].to_markdown())\n",
    "print()\n",
    "print(df[['sgd'+head for head in ['ArcFace','CosFace','MagFace']]].to_markdown())"
   ]
  },
  {
   "cell_type": "markdown",
   "id": "33d904bb",
   "metadata": {},
   "source": [
    "# Impact of Head and Opt on Accuracy\n",
    "\n",
    "We see that both head and opt impact accuracy. CosFace and MagFace are better than ArcFace. And SGD is better than AdamW."
   ]
  },
  {
   "cell_type": "code",
   "execution_count": 45,
   "id": "e4dbf0c1",
   "metadata": {
    "scrolled": false
   },
   "outputs": [
    {
     "name": "stdout",
     "output_type": "stream",
     "text": [
      "             df     sum_sq   mean_sq          F    PR(>F)\n",
      "head        2.0   0.785199  0.392599   9.091594  0.000129\n",
      "opt         2.0   1.020655  0.510327  11.817872  0.000009\n",
      "Residual  585.0  25.261865  0.043183        NaN       NaN\n",
      " Multiple Comparison of Means - Tukey HSD, FWER=0.05 \n",
      "=====================================================\n",
      " group1  group2 meandiff p-adj   lower  upper  reject\n",
      "-----------------------------------------------------\n",
      "ArcFace CosFace   0.0911  0.001  0.0399 0.1424   True\n",
      "ArcFace MagFace   0.0559 0.0318  0.0039 0.1079   True\n",
      "CosFace MagFace  -0.0353 0.1995 -0.0836  0.013  False\n",
      "-----------------------------------------------------\n",
      "Multiple Comparison of Means - Tukey HSD, FWER=0.05\n",
      "==================================================\n",
      "group1 group2 meandiff p-adj  lower  upper  reject\n",
      "--------------------------------------------------\n",
      "  adam  adamw  -0.0804 0.6585 -0.303 0.1422  False\n",
      "  adam    sgd   0.0086    0.9 -0.214 0.2312  False\n",
      " adamw    sgd    0.089  0.001 0.0482 0.1298   True\n",
      "--------------------------------------------------\n"
     ]
    }
   ],
   "source": [
    "_ = anova_hp_accuracy(acc_disp_df)"
   ]
  },
  {
   "cell_type": "markdown",
   "id": "99789af1",
   "metadata": {},
   "source": [
    "# Impact of Head and Opt on Disparity\n",
    "\n",
    "For **statisitcal parity**, we see that both head and opt impact disparity. MagFace is better than CosFace are better than ArcFace. SGD is better than AdamW is better than Adam."
   ]
  },
  {
   "cell_type": "code",
   "execution_count": 48,
   "id": "b661b5ae",
   "metadata": {},
   "outputs": [
    {
     "name": "stdout",
     "output_type": "stream",
     "text": [
      "             df    sum_sq   mean_sq          F        PR(>F)\n",
      "head        2.0  0.012555  0.006277   4.299561  1.400603e-02\n",
      "opt         2.0  0.042935  0.021468  14.703575  5.883480e-07\n",
      "Residual  585.0  0.854112  0.001460        NaN           NaN\n",
      " Multiple Comparison of Means - Tukey HSD, FWER=0.05 \n",
      "=====================================================\n",
      " group1  group2 meandiff p-adj   lower  upper  reject\n",
      "-----------------------------------------------------\n",
      "ArcFace CosFace   -0.009 0.0647 -0.0185 0.0004  False\n",
      "ArcFace MagFace   0.0009    0.9 -0.0088 0.0105  False\n",
      "CosFace MagFace   0.0099 0.0253   0.001 0.0188   True\n",
      "-----------------------------------------------------\n",
      "Multiple Comparison of Means - Tukey HSD, FWER=0.05 \n",
      "====================================================\n",
      "group1 group2 meandiff p-adj   lower   upper  reject\n",
      "----------------------------------------------------\n",
      "  adam  adamw    -0.05 0.0114 -0.0907 -0.0092   True\n",
      "  adam    sgd  -0.0635  0.001 -0.1042 -0.0228   True\n",
      " adamw    sgd  -0.0135  0.001  -0.021 -0.0061   True\n",
      "----------------------------------------------------\n"
     ]
    }
   ],
   "source": [
    "meta = pd.read_csv('../timm_model_metadata.csv')\n",
    "\n",
    "_ = anova_hp_disp(acc_disp_df)"
   ]
  },
  {
   "cell_type": "markdown",
   "id": "7940aaa0",
   "metadata": {},
   "source": [
    "For **ratio of accuracies**, we see that only the optimizer impacts disparity. Both Adam and AdamW are better than SGD"
   ]
  },
  {
   "cell_type": "code",
   "execution_count": 49,
   "id": "e537b729",
   "metadata": {},
   "outputs": [
    {
     "name": "stdout",
     "output_type": "stream",
     "text": [
      "             df    sum_sq   mean_sq          F        PR(>F)\n",
      "head        2.0  0.028170  0.014085   1.403141  2.466498e-01\n",
      "opt         2.0  0.401753  0.200877  20.010931  3.924120e-09\n",
      "Residual  585.0  5.872433  0.010038        NaN           NaN\n",
      " Multiple Comparison of Means - Tukey HSD, FWER=0.05 \n",
      "=====================================================\n",
      " group1  group2 meandiff p-adj   lower  upper  reject\n",
      "-----------------------------------------------------\n",
      "ArcFace CosFace  -0.0118 0.5085 -0.0368 0.0132  False\n",
      "ArcFace MagFace   0.0038    0.9 -0.0216 0.0292  False\n",
      "CosFace MagFace   0.0157 0.2645 -0.0079 0.0392  False\n",
      "-----------------------------------------------------\n",
      "Multiple Comparison of Means - Tukey HSD, FWER=0.05 \n",
      "====================================================\n",
      "group1 group2 meandiff p-adj   lower   upper  reject\n",
      "----------------------------------------------------\n",
      "  adam  adamw  -0.0896 0.1172 -0.1958  0.0165  False\n",
      "  adam    sgd  -0.1382 0.0066 -0.2444  -0.032   True\n",
      " adamw    sgd  -0.0485  0.001  -0.068 -0.0291   True\n",
      "----------------------------------------------------\n"
     ]
    }
   ],
   "source": [
    "_ = anova_hp_disp(acc_disp_ratio_df)"
   ]
  },
  {
   "cell_type": "markdown",
   "id": "e8e4896a",
   "metadata": {},
   "source": [
    "For **rank disparity**, we see that only the optimizer impacts disparity. Both Adam and AdamW are better than SGD"
   ]
  },
  {
   "cell_type": "code",
   "execution_count": 50,
   "id": "54dc5c62",
   "metadata": {},
   "outputs": [
    {
     "name": "stdout",
     "output_type": "stream",
     "text": [
      "             df       sum_sq    mean_sq          F    PR(>F)\n",
      "head        2.0    24.466701  12.233351   1.586037  0.205614\n",
      "opt         2.0   160.108387  80.054193  10.378918  0.000037\n",
      "Residual  585.0  4512.195143   7.713154        NaN       NaN\n",
      " Multiple Comparison of Means - Tukey HSD, FWER=0.05 \n",
      "=====================================================\n",
      " group1  group2 meandiff p-adj   lower  upper  reject\n",
      "-----------------------------------------------------\n",
      "ArcFace CosFace    0.509 0.1871 -0.1737 1.1918  False\n",
      "ArcFace MagFace   0.3073 0.5481 -0.3861 1.0006  False\n",
      "CosFace MagFace  -0.2018 0.7225 -0.8453 0.4418  False\n",
      "-----------------------------------------------------\n",
      "Multiple Comparison of Means - Tukey HSD, FWER=0.05 \n",
      "====================================================\n",
      "group1 group2 meandiff p-adj   lower   upper  reject\n",
      "----------------------------------------------------\n",
      "  adam  adamw  -0.6468  0.849 -3.5956  2.3019  False\n",
      "  adam    sgd  -1.6434 0.3919 -4.5926  1.3057  False\n",
      " adamw    sgd  -0.9966  0.001 -1.5373 -0.4559   True\n",
      "----------------------------------------------------\n"
     ]
    }
   ],
   "source": [
    "_ = anova_hp_disp(rank_df)"
   ]
  },
  {
   "cell_type": "markdown",
   "id": "f14c5e1b",
   "metadata": {},
   "source": [
    "For **ratio of ranks**, we see that only the head impacts disparity. MagFace is better than ArcFace and CosFace"
   ]
  },
  {
   "cell_type": "code",
   "execution_count": 51,
   "id": "85717f86",
   "metadata": {},
   "outputs": [
    {
     "name": "stdout",
     "output_type": "stream",
     "text": [
      "             df     sum_sq   mean_sq          F        PR(>F)\n",
      "head        2.0   0.654412  0.327206  18.190434  2.167263e-08\n",
      "opt         2.0   0.092198  0.046099   2.562782  7.795529e-02\n",
      "Residual  585.0  10.522859  0.017988        NaN           NaN\n",
      " Multiple Comparison of Means - Tukey HSD, FWER=0.05 \n",
      "=====================================================\n",
      " group1  group2 meandiff p-adj   lower  upper  reject\n",
      "-----------------------------------------------------\n",
      "ArcFace CosFace  -0.0321 0.0542 -0.0646 0.0004  False\n",
      "ArcFace MagFace   0.0462 0.0031  0.0132 0.0793   True\n",
      "CosFace MagFace   0.0783  0.001  0.0476  0.109   True\n",
      "-----------------------------------------------------\n",
      "Multiple Comparison of Means - Tukey HSD, FWER=0.05\n",
      "===================================================\n",
      "group1 group2 meandiff p-adj   lower  upper  reject\n",
      "---------------------------------------------------\n",
      "  adam  adamw  -0.0953 0.2787 -0.2419 0.0512  False\n",
      "  adam    sgd  -0.0947 0.2835 -0.2413 0.0519  False\n",
      " adamw    sgd   0.0006    0.9 -0.0262 0.0275  False\n",
      "---------------------------------------------------\n"
     ]
    }
   ],
   "source": [
    "_ = anova_hp_disp(rank_ratio_df)"
   ]
  },
  {
   "cell_type": "markdown",
   "id": "0244d195",
   "metadata": {},
   "source": [
    "For **ratio of errors**, we see that both the head and optimizer impact disparity. Adam is better than both AdamW and SGD. CosFace is better than both ArcFace and MagFace."
   ]
  },
  {
   "cell_type": "code",
   "execution_count": 52,
   "id": "1158aa41",
   "metadata": {},
   "outputs": [
    {
     "name": "stdout",
     "output_type": "stream",
     "text": [
      "             df    sum_sq   mean_sq          F        PR(>F)\n",
      "head        2.0  0.518772  0.259386  23.276316  1.876281e-10\n",
      "opt         2.0  0.104933  0.052466   4.708133  9.366246e-03\n",
      "Residual  585.0  6.519102  0.011144        NaN           NaN\n",
      " Multiple Comparison of Means - Tukey HSD, FWER=0.05  \n",
      "======================================================\n",
      " group1  group2 meandiff p-adj   lower   upper  reject\n",
      "------------------------------------------------------\n",
      "ArcFace CosFace   0.0718  0.001  0.0461  0.0975   True\n",
      "ArcFace MagFace   0.0253 0.0602 -0.0008  0.0514  False\n",
      "CosFace MagFace  -0.0465  0.001 -0.0707 -0.0223   True\n",
      "------------------------------------------------------\n",
      "Multiple Comparison of Means - Tukey HSD, FWER=0.05 \n",
      "====================================================\n",
      "group1 group2 meandiff p-adj   lower   upper  reject\n",
      "----------------------------------------------------\n",
      "  adam  adamw  -0.1803  0.001 -0.2958 -0.0649   True\n",
      "  adam    sgd  -0.1668 0.0021 -0.2822 -0.0513   True\n",
      " adamw    sgd   0.0136 0.2896 -0.0076  0.0347  False\n",
      "----------------------------------------------------\n"
     ]
    }
   ],
   "source": [
    "_ = anova_hp_disp(error_ratio_df, col='Error')"
   ]
  }
 ],
 "metadata": {
  "kernelspec": {
   "display_name": "Python 3 (ipykernel)",
   "language": "python",
   "name": "python3"
  },
  "language_info": {
   "codemirror_mode": {
    "name": "ipython",
    "version": 3
   },
   "file_extension": ".py",
   "mimetype": "text/x-python",
   "name": "python",
   "nbconvert_exporter": "python",
   "pygments_lexer": "ipython3",
   "version": "3.9.7"
  }
 },
 "nbformat": 4,
 "nbformat_minor": 5
}
