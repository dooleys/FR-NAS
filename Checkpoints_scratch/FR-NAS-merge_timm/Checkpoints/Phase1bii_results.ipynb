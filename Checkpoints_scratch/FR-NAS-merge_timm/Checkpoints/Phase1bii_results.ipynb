{
 "cells": [
  {
   "cell_type": "code",
   "execution_count": 1,
   "id": "6f435c11",
   "metadata": {},
   "outputs": [],
   "source": [
    "import pandas as pd\n",
    "import numpy as np\n",
    "import os\n",
    "from analysis import *\n",
    "import glob"
   ]
  },
  {
   "cell_type": "code",
   "execution_count": 9,
   "id": "5174e58f",
   "metadata": {},
   "outputs": [],
   "source": [
    "phase1bii_configs = glob.glob('../configs/**/*')\n",
    "phase1bii_experiments = [get_name_details(x)[0] for x in phase1bii_configs]\n",
    "models = list(set([get_name_details(x)[1] for x in phase1bii_configs]))\n",
    "\n",
    "rank_files = glob.glob('**/**/*_rank_val.csv')\n",
    "kacc_files = glob.glob('**/**/*_kacc_val.csv') + glob.glob('**/**/*_kacc_eval.csv')\n",
    "metadata = pd.read_csv('val_identities_gender-expression_seed_222.csv')\n",
    "\n",
    "epochs = ['epoch_'+str(i) for i in [19,39,59,79,99]]"
   ]
  },
  {
   "cell_type": "markdown",
   "id": "0483e74d",
   "metadata": {},
   "source": [
    "# Phase 1 b (ii)"
   ]
  },
  {
   "cell_type": "code",
   "execution_count": 10,
   "id": "e8b834e3",
   "metadata": {},
   "outputs": [
    {
     "data": {
      "application/vnd.plotly.v1+json": {
       "config": {
        "plotlyServerURL": "https://plot.ly"
       },
       "data": [
        {
         "hovertemplate": "index=resnetrs101_CosFace_SGD<br>measurement=Accuracy<br>epoch=%{x}<br>Accuracy=%{y}<extra></extra>",
         "legendgroup": "resnetrs101_CosFace_SGD",
         "line": {
          "color": "#636efa",
          "dash": "solid"
         },
         "marker": {
          "symbol": "circle"
         },
         "mode": "lines",
         "name": "resnetrs101_CosFace_SGD",
         "orientation": "v",
         "showlegend": true,
         "type": "scatter",
         "x": [
          19,
          39,
          59,
          79,
          99
         ],
         "xaxis": "x3",
         "y": [
          0.8765715034049241,
          0.8958878994237821,
          0.8805657412257727,
          0.8645233106338397,
          0.8721843897328444
         ],
         "yaxis": "y3"
        },
        {
         "hovertemplate": "index=resnetrs101_CosFace_SGD<br>measurement=Disparity<br>epoch=%{x}<br>Accuracy=%{y}<extra></extra>",
         "legendgroup": "resnetrs101_CosFace_SGD",
         "line": {
          "color": "#636efa",
          "dash": "solid"
         },
         "marker": {
          "symbol": "circle"
         },
         "mode": "lines",
         "name": "resnetrs101_CosFace_SGD",
         "orientation": "v",
         "showlegend": false,
         "type": "scatter",
         "x": [
          19,
          39,
          59,
          79,
          99
         ],
         "xaxis": "x2",
         "y": [
          1.0466289558171533,
          1.0314773570898292,
          1.044079647362821,
          1.053343701399689,
          1.044512663085188
         ],
         "yaxis": "y2"
        },
        {
         "hovertemplate": "index=resnetrs101_CosFace_SGD<br>measurement=Rank<br>epoch=%{x}<br>Accuracy=%{y}<extra></extra>",
         "legendgroup": "resnetrs101_CosFace_SGD",
         "line": {
          "color": "#636efa",
          "dash": "solid"
         },
         "marker": {
          "symbol": "circle"
         },
         "mode": "lines",
         "name": "resnetrs101_CosFace_SGD",
         "orientation": "v",
         "showlegend": false,
         "type": "scatter",
         "x": [
          19,
          39,
          59,
          79,
          99
         ],
         "xaxis": "x",
         "y": [
          0.7102255393718384,
          0.7414628278129761,
          0.802612652776259,
          0.7197639888073953,
          0.6233246256552102
         ],
         "yaxis": "y"
        },
        {
         "hovertemplate": "index=inception_v4_CosFace_RMSProp<br>measurement=Accuracy<br>epoch=%{x}<br>Accuracy=%{y}<extra></extra>",
         "legendgroup": "inception_v4_CosFace_RMSProp",
         "line": {
          "color": "#EF553B",
          "dash": "solid"
         },
         "marker": {
          "symbol": "circle"
         },
         "mode": "lines",
         "name": "inception_v4_CosFace_RMSProp",
         "orientation": "v",
         "showlegend": true,
         "type": "scatter",
         "x": [
          19,
          39,
          59,
          79,
          99
         ],
         "xaxis": "x3",
         "y": [
          0.0021608171817705606,
          0.0015060240963855422,
          0.008643268727082242,
          0.0010476689366160294,
          0
         ],
         "yaxis": "y3"
        },
        {
         "hovertemplate": "index=inception_v4_CosFace_RMSProp<br>measurement=Disparity<br>epoch=%{x}<br>Accuracy=%{y}<extra></extra>",
         "legendgroup": "inception_v4_CosFace_RMSProp",
         "line": {
          "color": "#EF553B",
          "dash": "solid"
         },
         "marker": {
          "symbol": "circle"
         },
         "mode": "lines",
         "name": "inception_v4_CosFace_RMSProp",
         "orientation": "v",
         "showlegend": false,
         "type": "scatter",
         "x": [
          19,
          39,
          59,
          79
         ],
         "xaxis": "x2",
         "y": [
          0.65,
          0.9166666666666666,
          0.8857142857142857,
          0.7777777777777778
         ],
         "yaxis": "y2"
        },
        {
         "hovertemplate": "index=inception_v4_CosFace_RMSProp<br>measurement=Rank<br>epoch=%{x}<br>Accuracy=%{y}<extra></extra>",
         "legendgroup": "inception_v4_CosFace_RMSProp",
         "line": {
          "color": "#EF553B",
          "dash": "solid"
         },
         "marker": {
          "symbol": "circle"
         },
         "mode": "lines",
         "name": "inception_v4_CosFace_RMSProp",
         "orientation": "v",
         "showlegend": false,
         "type": "scatter",
         "x": [
          19,
          39,
          59,
          79,
          99
         ],
         "xaxis": "x",
         "y": [
          1.0099334706413403,
          0.9965887465634343,
          0.9933836237833401,
          0.675694034771142,
          1.0008910080545426
         ],
         "yaxis": "y"
        },
        {
         "hovertemplate": "index=fbnetv3_g_CosFace_AdamW<br>measurement=Accuracy<br>epoch=%{x}<br>Accuracy=%{y}<extra></extra>",
         "legendgroup": "fbnetv3_g_CosFace_AdamW",
         "line": {
          "color": "#00cc96",
          "dash": "solid"
         },
         "marker": {
          "symbol": "circle"
         },
         "mode": "lines",
         "name": "fbnetv3_g_CosFace_AdamW",
         "orientation": "v",
         "showlegend": true,
         "type": "scatter",
         "x": [
          19,
          39,
          59,
          79,
          99
         ],
         "xaxis": "x3",
         "y": [
          0.07589051859612363,
          0.1492928234677842,
          0.2976034573074908,
          0.3716605552645364,
          0.393661602933473
         ],
         "yaxis": "y3"
        },
        {
         "hovertemplate": "index=fbnetv3_g_CosFace_AdamW<br>measurement=Disparity<br>epoch=%{x}<br>Accuracy=%{y}<extra></extra>",
         "legendgroup": "fbnetv3_g_CosFace_AdamW",
         "line": {
          "color": "#00cc96",
          "dash": "solid"
         },
         "marker": {
          "symbol": "circle"
         },
         "mode": "lines",
         "name": "fbnetv3_g_CosFace_AdamW",
         "orientation": "v",
         "showlegend": false,
         "type": "scatter",
         "x": [
          19,
          39,
          59,
          79,
          99
         ],
         "xaxis": "x2",
         "y": [
          1.8902743142144638,
          1.695035460992908,
          1.5823863636363635,
          1.4391920928233777,
          1.3961737744121163
         ],
         "yaxis": "y2"
        },
        {
         "hovertemplate": "index=fbnetv3_g_CosFace_AdamW<br>measurement=Rank<br>epoch=%{x}<br>Accuracy=%{y}<extra></extra>",
         "legendgroup": "fbnetv3_g_CosFace_AdamW",
         "line": {
          "color": "#00cc96",
          "dash": "solid"
         },
         "marker": {
          "symbol": "circle"
         },
         "mode": "lines",
         "name": "fbnetv3_g_CosFace_AdamW",
         "orientation": "v",
         "showlegend": false,
         "type": "scatter",
         "x": [
          19,
          39,
          59,
          79,
          99
         ],
         "xaxis": "x",
         "y": [
          0.712826054183728,
          0.7691333268797278,
          0.69722721110506,
          0.6973184069505312,
          0.7127099188846995
         ],
         "yaxis": "y"
        },
        {
         "hovertemplate": "index=rexnet_200_CosFace_SGD<br>measurement=Accuracy<br>epoch=%{x}<br>Accuracy=%{y}<extra></extra>",
         "legendgroup": "rexnet_200_CosFace_SGD",
         "line": {
          "color": "#ab63fa",
          "dash": "solid"
         },
         "marker": {
          "symbol": "circle"
         },
         "mode": "lines",
         "name": "rexnet_200_CosFace_SGD",
         "orientation": "v",
         "showlegend": true,
         "type": "scatter",
         "x": [
          19,
          39,
          59,
          79,
          99
         ],
         "xaxis": "x3",
         "y": [
          0.9385804085908853,
          0.9548847564169722,
          0.9546228391828182,
          0.9554740701938188,
          0.9540335254059717
         ],
         "yaxis": "y3"
        },
        {
         "hovertemplate": "index=rexnet_200_CosFace_SGD<br>measurement=Disparity<br>epoch=%{x}<br>Accuracy=%{y}<extra></extra>",
         "legendgroup": "rexnet_200_CosFace_SGD",
         "line": {
          "color": "#ab63fa",
          "dash": "solid"
         },
         "marker": {
          "symbol": "circle"
         },
         "mode": "lines",
         "name": "rexnet_200_CosFace_SGD",
         "orientation": "v",
         "showlegend": false,
         "type": "scatter",
         "x": [
          19,
          39,
          59,
          79,
          99
         ],
         "xaxis": "x2",
         "y": [
          1.0297366185216652,
          1.020365752285952,
          1.0175754220869084,
          1.0246982100735396,
          1.0247359644246803
         ],
         "yaxis": "y2"
        },
        {
         "hovertemplate": "index=rexnet_200_CosFace_SGD<br>measurement=Rank<br>epoch=%{x}<br>Accuracy=%{y}<extra></extra>",
         "legendgroup": "rexnet_200_CosFace_SGD",
         "line": {
          "color": "#ab63fa",
          "dash": "solid"
         },
         "marker": {
          "symbol": "circle"
         },
         "mode": "lines",
         "name": "rexnet_200_CosFace_SGD",
         "orientation": "v",
         "showlegend": false,
         "type": "scatter",
         "x": [
          19,
          39,
          59,
          79,
          99
         ],
         "xaxis": "x",
         "y": [
          0.6889130516291103,
          0.5132426442392061,
          0.5868002250672076,
          0.6644620652369797,
          0.6805476743973201
         ],
         "yaxis": "y"
        },
        {
         "hovertemplate": "index=xception_CosFace_Adam<br>measurement=Accuracy<br>epoch=%{x}<br>Accuracy=%{y}<extra></extra>",
         "legendgroup": "xception_CosFace_Adam",
         "line": {
          "color": "#FFA15A",
          "dash": "solid"
         },
         "marker": {
          "symbol": "circle"
         },
         "mode": "lines",
         "name": "xception_CosFace_Adam",
         "orientation": "v",
         "showlegend": true,
         "type": "scatter",
         "x": [
          19,
          39,
          59,
          79,
          99
         ],
         "xaxis": "x3",
         "y": [
          0.001571503404924044,
          0.0022917757988475643,
          0.002881089575694081,
          0,
          0.002881089575694081
         ],
         "yaxis": "y3"
        },
        {
         "hovertemplate": "index=xception_CosFace_Adam<br>measurement=Disparity<br>epoch=%{x}<br>Accuracy=%{y}<extra></extra>",
         "legendgroup": "xception_CosFace_Adam",
         "line": {
          "color": "#FFA15A",
          "dash": "solid"
         },
         "marker": {
          "symbol": "circle"
         },
         "mode": "lines",
         "name": "xception_CosFace_Adam",
         "orientation": "v",
         "showlegend": false,
         "type": "scatter",
         "x": [
          19,
          39,
          59,
          99
         ],
         "xaxis": "x2",
         "y": [
          0.5,
          1.1875,
          0.6923076923076923,
          1.0952380952380953
         ],
         "yaxis": "y2"
        },
        {
         "hovertemplate": "index=xception_CosFace_Adam<br>measurement=Rank<br>epoch=%{x}<br>Accuracy=%{y}<extra></extra>",
         "legendgroup": "xception_CosFace_Adam",
         "line": {
          "color": "#FFA15A",
          "dash": "solid"
         },
         "marker": {
          "symbol": "circle"
         },
         "mode": "lines",
         "name": "xception_CosFace_Adam",
         "orientation": "v",
         "showlegend": false,
         "type": "scatter",
         "x": [
          19,
          39,
          59,
          79,
          99
         ],
         "xaxis": "x",
         "y": [
          1.0350440502381992,
          0.9871946076842537,
          1.0194844538982537,
          1,
          0.9967683246798287
         ],
         "yaxis": "y"
        },
        {
         "hovertemplate": "index=vgg19_CosFace_SGD<br>measurement=Accuracy<br>epoch=%{x}<br>Accuracy=%{y}<extra></extra>",
         "legendgroup": "vgg19_CosFace_SGD",
         "line": {
          "color": "#19d3f3",
          "dash": "solid"
         },
         "marker": {
          "symbol": "circle"
         },
         "mode": "lines",
         "name": "vgg19_CosFace_SGD",
         "orientation": "v",
         "showlegend": true,
         "type": "scatter",
         "x": [
          19,
          39,
          59,
          79,
          99
         ],
         "xaxis": "x3",
         "y": [
          0.7284573074908329,
          0.7822158198009429,
          0.752357255107386,
          0.7017417496071241,
          0.6573467784180199
         ],
         "yaxis": "y3"
        },
        {
         "hovertemplate": "index=vgg19_CosFace_SGD<br>measurement=Disparity<br>epoch=%{x}<br>Accuracy=%{y}<extra></extra>",
         "legendgroup": "vgg19_CosFace_SGD",
         "line": {
          "color": "#19d3f3",
          "dash": "solid"
         },
         "marker": {
          "symbol": "circle"
         },
         "mode": "lines",
         "name": "vgg19_CosFace_SGD",
         "orientation": "v",
         "showlegend": false,
         "type": "scatter",
         "x": [
          19,
          39,
          59,
          79,
          99
         ],
         "xaxis": "x2",
         "y": [
          1.1560077519379846,
          1.0902887139107613,
          1.1059384164222874,
          1.1357114388202472,
          1.1861933797909407
         ],
         "yaxis": "y2"
        },
        {
         "hovertemplate": "index=vgg19_CosFace_SGD<br>measurement=Rank<br>epoch=%{x}<br>Accuracy=%{y}<extra></extra>",
         "legendgroup": "vgg19_CosFace_SGD",
         "line": {
          "color": "#19d3f3",
          "dash": "solid"
         },
         "marker": {
          "symbol": "circle"
         },
         "mode": "lines",
         "name": "vgg19_CosFace_SGD",
         "orientation": "v",
         "showlegend": false,
         "type": "scatter",
         "x": [
          19,
          39,
          59,
          79,
          99
         ],
         "xaxis": "x",
         "y": [
          0.8001096840392032,
          0.7081609833198815,
          0.7480959348868506,
          0.6991927489024218,
          0.6010888401193458
         ],
         "yaxis": "y"
        },
        {
         "hovertemplate": "index=legacy_senet154_CosFace_SGD<br>measurement=Accuracy<br>epoch=%{x}<br>Accuracy=%{y}<extra></extra>",
         "legendgroup": "legacy_senet154_CosFace_SGD",
         "line": {
          "color": "#FF6692",
          "dash": "solid"
         },
         "marker": {
          "symbol": "circle"
         },
         "mode": "lines",
         "name": "legacy_senet154_CosFace_SGD",
         "orientation": "v",
         "showlegend": true,
         "type": "scatter",
         "x": [
          19,
          39,
          59,
          79,
          99
         ],
         "xaxis": "x3",
         "y": [
          0.8789287585123101,
          0.838855421686747,
          0.8106993190151912,
          0.8160686223153484,
          0.8013357778941854
         ],
         "yaxis": "y3"
        },
        {
         "hovertemplate": "index=legacy_senet154_CosFace_SGD<br>measurement=Disparity<br>epoch=%{x}<br>Accuracy=%{y}<extra></extra>",
         "legendgroup": "legacy_senet154_CosFace_SGD",
         "line": {
          "color": "#FF6692",
          "dash": "solid"
         },
         "marker": {
          "symbol": "circle"
         },
         "mode": "lines",
         "name": "legacy_senet154_CosFace_SGD",
         "orientation": "v",
         "showlegend": false,
         "type": "scatter",
         "x": [
          19,
          39,
          59,
          79,
          99
         ],
         "xaxis": "x2",
         "y": [
          1.0524464831804283,
          1.0563402889245586,
          1.070747616658304,
          1.087604690117253,
          1.086615515771526
         ],
         "yaxis": "y2"
        },
        {
         "hovertemplate": "index=legacy_senet154_CosFace_SGD<br>measurement=Rank<br>epoch=%{x}<br>Accuracy=%{y}<extra></extra>",
         "legendgroup": "legacy_senet154_CosFace_SGD",
         "line": {
          "color": "#FF6692",
          "dash": "solid"
         },
         "marker": {
          "symbol": "circle"
         },
         "mode": "lines",
         "name": "legacy_senet154_CosFace_SGD",
         "orientation": "v",
         "showlegend": false,
         "type": "scatter",
         "x": [
          19,
          39,
          59,
          79,
          99
         ],
         "xaxis": "x",
         "y": [
          0.7274575032543411,
          0.6978067487203273,
          0.7978616211374833,
          0.7452442354368932,
          0.7540442741592167
         ],
         "yaxis": "y"
        },
        {
         "hovertemplate": "index=inception_resnet_v2_CosFace_RMSProp<br>measurement=Accuracy<br>epoch=%{x}<br>Accuracy=%{y}<extra></extra>",
         "legendgroup": "inception_resnet_v2_CosFace_RMSProp",
         "line": {
          "color": "#B6E880",
          "dash": "solid"
         },
         "marker": {
          "symbol": "circle"
         },
         "mode": "lines",
         "name": "inception_resnet_v2_CosFace_RMSProp",
         "orientation": "v",
         "showlegend": true,
         "type": "scatter",
         "x": [
          19,
          39,
          59,
          79,
          99
         ],
         "xaxis": "x3",
         "y": [
          0,
          0,
          0.0214117338920901,
          0,
          0
         ],
         "yaxis": "y3"
        },
        {
         "hovertemplate": "index=inception_resnet_v2_CosFace_RMSProp<br>measurement=Disparity<br>epoch=%{x}<br>Accuracy=%{y}<extra></extra>",
         "legendgroup": "inception_resnet_v2_CosFace_RMSProp",
         "line": {
          "color": "#B6E880",
          "dash": "solid"
         },
         "marker": {
          "symbol": "circle"
         },
         "mode": "lines",
         "name": "inception_resnet_v2_CosFace_RMSProp",
         "orientation": "v",
         "showlegend": false,
         "type": "scatter",
         "x": [
          59
         ],
         "xaxis": "x2",
         "y": [
          1.4772727272727273
         ],
         "yaxis": "y2"
        },
        {
         "hovertemplate": "index=inception_resnet_v2_CosFace_RMSProp<br>measurement=Rank<br>epoch=%{x}<br>Accuracy=%{y}<extra></extra>",
         "legendgroup": "inception_resnet_v2_CosFace_RMSProp",
         "line": {
          "color": "#B6E880",
          "dash": "solid"
         },
         "marker": {
          "symbol": "circle"
         },
         "mode": "lines",
         "name": "inception_resnet_v2_CosFace_RMSProp",
         "orientation": "v",
         "showlegend": false,
         "type": "scatter",
         "x": [
          19,
          39,
          59,
          79,
          99
         ],
         "xaxis": "x",
         "y": [
          1,
          1,
          0.9739480412622242,
          1,
          0.920561549521895
         ],
         "yaxis": "y"
        },
        {
         "hovertemplate": "index=fbnetv3_g_CosFace_Adam<br>measurement=Accuracy<br>epoch=%{x}<br>Accuracy=%{y}<extra></extra>",
         "legendgroup": "fbnetv3_g_CosFace_Adam",
         "line": {
          "color": "#FF97FF",
          "dash": "solid"
         },
         "marker": {
          "symbol": "circle"
         },
         "mode": "lines",
         "name": "fbnetv3_g_CosFace_Adam",
         "orientation": "v",
         "showlegend": true,
         "type": "scatter",
         "x": [
          19,
          39,
          59,
          79,
          99
         ],
         "xaxis": "x3",
         "y": [
          0,
          0,
          0,
          0.002881089575694081,
          0.0021608171817705606
         ],
         "yaxis": "y3"
        },
        {
         "hovertemplate": "index=fbnetv3_g_CosFace_Adam<br>measurement=Disparity<br>epoch=%{x}<br>Accuracy=%{y}<extra></extra>",
         "legendgroup": "fbnetv3_g_CosFace_Adam",
         "line": {
          "color": "#FF97FF",
          "dash": "solid"
         },
         "marker": {
          "symbol": "circle"
         },
         "mode": "lines",
         "name": "fbnetv3_g_CosFace_Adam",
         "orientation": "v",
         "showlegend": false,
         "type": "scatter",
         "x": [
          79,
          99
         ],
         "xaxis": "x2",
         "y": [
          1.3157894736842106,
          1.0625
         ],
         "yaxis": "y2"
        },
        {
         "hovertemplate": "index=fbnetv3_g_CosFace_Adam<br>measurement=Rank<br>epoch=%{x}<br>Accuracy=%{y}<extra></extra>",
         "legendgroup": "fbnetv3_g_CosFace_Adam",
         "line": {
          "color": "#FF97FF",
          "dash": "solid"
         },
         "marker": {
          "symbol": "circle"
         },
         "mode": "lines",
         "name": "fbnetv3_g_CosFace_Adam",
         "orientation": "v",
         "showlegend": false,
         "type": "scatter",
         "x": [
          19,
          39,
          59,
          79,
          99
         ],
         "xaxis": "x",
         "y": [
          1,
          1,
          1,
          1.019513422252237,
          1.120722881814532
         ],
         "yaxis": "y"
        },
        {
         "hovertemplate": "index=ese_vovnet39b_CosFace_AdamW<br>measurement=Accuracy<br>epoch=%{x}<br>Accuracy=%{y}<extra></extra>",
         "legendgroup": "ese_vovnet39b_CosFace_AdamW",
         "line": {
          "color": "#FECB52",
          "dash": "solid"
         },
         "marker": {
          "symbol": "circle"
         },
         "mode": "lines",
         "name": "ese_vovnet39b_CosFace_AdamW",
         "orientation": "v",
         "showlegend": true,
         "type": "scatter",
         "x": [
          19,
          39,
          59,
          79,
          99
         ],
         "xaxis": "x3",
         "y": [
          0.3077527501309586,
          0.40629910948140385,
          0.4253535882661079,
          0.47027239392352016,
          0.5072682032477737
         ],
         "yaxis": "y3"
        },
        {
         "hovertemplate": "index=ese_vovnet39b_CosFace_AdamW<br>measurement=Disparity<br>epoch=%{x}<br>Accuracy=%{y}<extra></extra>",
         "legendgroup": "ese_vovnet39b_CosFace_AdamW",
         "line": {
          "color": "#FECB52",
          "dash": "solid"
         },
         "marker": {
          "symbol": "circle"
         },
         "mode": "lines",
         "name": "ese_vovnet39b_CosFace_AdamW",
         "orientation": "v",
         "showlegend": false,
         "type": "scatter",
         "x": [
          19,
          39,
          59,
          79,
          99
         ],
         "xaxis": "x2",
         "y": [
          1.4377593360995853,
          1.3856209150326797,
          1.287323943661972,
          1.28072403937758,
          1.2267893072722045
         ],
         "yaxis": "y2"
        },
        {
         "hovertemplate": "index=ese_vovnet39b_CosFace_AdamW<br>measurement=Rank<br>epoch=%{x}<br>Accuracy=%{y}<extra></extra>",
         "legendgroup": "ese_vovnet39b_CosFace_AdamW",
         "line": {
          "color": "#FECB52",
          "dash": "solid"
         },
         "marker": {
          "symbol": "circle"
         },
         "mode": "lines",
         "name": "ese_vovnet39b_CosFace_AdamW",
         "orientation": "v",
         "showlegend": false,
         "type": "scatter",
         "x": [
          19,
          39,
          59,
          79,
          99
         ],
         "xaxis": "x",
         "y": [
          0.580102309927077,
          0.6631091842695939,
          0.6681340604222192,
          0.6400638933736389,
          0.7058626228445144
         ],
         "yaxis": "y"
        },
        {
         "hovertemplate": "index=ese_vovnet39b_CosFace_Adam<br>measurement=Accuracy<br>epoch=%{x}<br>Accuracy=%{y}<extra></extra>",
         "legendgroup": "ese_vovnet39b_CosFace_Adam",
         "line": {
          "color": "#636efa",
          "dash": "solid"
         },
         "marker": {
          "symbol": "circle"
         },
         "mode": "lines",
         "name": "ese_vovnet39b_CosFace_Adam",
         "orientation": "v",
         "showlegend": true,
         "type": "scatter",
         "x": [
          19,
          39,
          59,
          79,
          99
         ],
         "xaxis": "x3",
         "y": [
          0.10280251440544788,
          0.022917757988475642,
          0.010542168674698794,
          0.013685175484546883,
          0.015322158198009429
         ],
         "yaxis": "y3"
        },
        {
         "hovertemplate": "index=ese_vovnet39b_CosFace_Adam<br>measurement=Disparity<br>epoch=%{x}<br>Accuracy=%{y}<extra></extra>",
         "legendgroup": "ese_vovnet39b_CosFace_Adam",
         "line": {
          "color": "#636efa",
          "dash": "solid"
         },
         "marker": {
          "symbol": "circle"
         },
         "mode": "lines",
         "name": "ese_vovnet39b_CosFace_Adam",
         "orientation": "v",
         "showlegend": false,
         "type": "scatter",
         "x": [
          19,
          39,
          59,
          79,
          99
         ],
         "xaxis": "x2",
         "y": [
          1.3190546528803544,
          1.3026315789473684,
          3.2368421052631575,
          1.863013698630137,
          2.038961038961039
         ],
         "yaxis": "y2"
        },
        {
         "hovertemplate": "index=ese_vovnet39b_CosFace_Adam<br>measurement=Rank<br>epoch=%{x}<br>Accuracy=%{y}<extra></extra>",
         "legendgroup": "ese_vovnet39b_CosFace_Adam",
         "line": {
          "color": "#636efa",
          "dash": "solid"
         },
         "marker": {
          "symbol": "circle"
         },
         "mode": "lines",
         "name": "ese_vovnet39b_CosFace_Adam",
         "orientation": "v",
         "showlegend": false,
         "type": "scatter",
         "x": [
          19,
          39,
          59,
          79,
          99
         ],
         "xaxis": "x",
         "y": [
          0.7704444327456488,
          0.8429298555942338,
          0.8381224948167209,
          0.7697728930840314,
          0.7917461327777529
         ],
         "yaxis": "y"
        },
        {
         "hovertemplate": "index=vgg19_bn_CosFace_SGD<br>measurement=Accuracy<br>epoch=%{x}<br>Accuracy=%{y}<extra></extra>",
         "legendgroup": "vgg19_bn_CosFace_SGD",
         "line": {
          "color": "#EF553B",
          "dash": "solid"
         },
         "marker": {
          "symbol": "circle"
         },
         "mode": "lines",
         "name": "vgg19_bn_CosFace_SGD",
         "orientation": "v",
         "showlegend": true,
         "type": "scatter",
         "x": [
          19,
          39,
          59,
          79,
          99
         ],
         "xaxis": "x3",
         "y": [
          0.7797930853850183,
          0.7886327920377161,
          0.7443687794656888,
          0.6929020429544264,
          0.6531561026715558
         ],
         "yaxis": "y3"
        },
        {
         "hovertemplate": "index=vgg19_bn_CosFace_SGD<br>measurement=Disparity<br>epoch=%{x}<br>Accuracy=%{y}<extra></extra>",
         "legendgroup": "vgg19_bn_CosFace_SGD",
         "line": {
          "color": "#EF553B",
          "dash": "solid"
         },
         "marker": {
          "symbol": "circle"
         },
         "mode": "lines",
         "name": "vgg19_bn_CosFace_SGD",
         "orientation": "v",
         "showlegend": false,
         "type": "scatter",
         "x": [
          19,
          39,
          59,
          79,
          99
         ],
         "xaxis": "x2",
         "y": [
          1.0867355878745402,
          1.0665751544269044,
          1.0839596700274976,
          1.122342559165664,
          1.1273192578374922
         ],
         "yaxis": "y2"
        },
        {
         "hovertemplate": "index=vgg19_bn_CosFace_SGD<br>measurement=Rank<br>epoch=%{x}<br>Accuracy=%{y}<extra></extra>",
         "legendgroup": "vgg19_bn_CosFace_SGD",
         "line": {
          "color": "#EF553B",
          "dash": "solid"
         },
         "marker": {
          "symbol": "circle"
         },
         "mode": "lines",
         "name": "vgg19_bn_CosFace_SGD",
         "orientation": "v",
         "showlegend": false,
         "type": "scatter",
         "x": [
          19,
          39,
          59,
          79,
          99
         ],
         "xaxis": "x",
         "y": [
          0.7123781733823283,
          0.8952234696038975,
          0.8012290651836929,
          0.8900758024449379,
          0.8404297384383703
         ],
         "yaxis": "y"
        },
        {
         "hovertemplate": "index=visformer_small_CosFace_AdamW<br>measurement=Accuracy<br>epoch=%{x}<br>Accuracy=%{y}<extra></extra>",
         "legendgroup": "visformer_small_CosFace_AdamW",
         "line": {
          "color": "#00cc96",
          "dash": "solid"
         },
         "marker": {
          "symbol": "circle"
         },
         "mode": "lines",
         "name": "visformer_small_CosFace_AdamW",
         "orientation": "v",
         "showlegend": true,
         "type": "scatter",
         "x": [
          19,
          39,
          59,
          79,
          99
         ],
         "xaxis": "x3",
         "y": [
          0.014470927187008905,
          0.004452592980618125,
          0.007988475641697223,
          0.03594814038763751,
          0.03725772655840754
         ],
         "yaxis": "y3"
        },
        {
         "hovertemplate": "index=visformer_small_CosFace_AdamW<br>measurement=Disparity<br>epoch=%{x}<br>Accuracy=%{y}<extra></extra>",
         "legendgroup": "visformer_small_CosFace_AdamW",
         "line": {
          "color": "#00cc96",
          "dash": "solid"
         },
         "marker": {
          "symbol": "circle"
         },
         "mode": "lines",
         "name": "visformer_small_CosFace_AdamW",
         "orientation": "v",
         "showlegend": false,
         "type": "scatter",
         "x": [
          19,
          39,
          59,
          79,
          99
         ],
         "xaxis": "x2",
         "y": [
          1.4555555555555555,
          1.2666666666666666,
          0.967741935483871,
          1.2226720647773281,
          1.1553030303030303
         ],
         "yaxis": "y2"
        },
        {
         "hovertemplate": "index=visformer_small_CosFace_AdamW<br>measurement=Rank<br>epoch=%{x}<br>Accuracy=%{y}<extra></extra>",
         "legendgroup": "visformer_small_CosFace_AdamW",
         "line": {
          "color": "#00cc96",
          "dash": "solid"
         },
         "marker": {
          "symbol": "circle"
         },
         "mode": "lines",
         "name": "visformer_small_CosFace_AdamW",
         "orientation": "v",
         "showlegend": false,
         "type": "scatter",
         "x": [
          19,
          39,
          59,
          79,
          99
         ],
         "xaxis": "x",
         "y": [
          1.0653685369649937,
          1.0189248335848853,
          1.0851138617107419,
          0.8641701936108398,
          0.8707918722989848
         ],
         "yaxis": "y"
        },
        {
         "hovertemplate": "index=tnt_s_patch16_224_CosFace_AdamW<br>measurement=Accuracy<br>epoch=%{x}<br>Accuracy=%{y}<extra></extra>",
         "legendgroup": "tnt_s_patch16_224_CosFace_AdamW",
         "line": {
          "color": "#ab63fa",
          "dash": "solid"
         },
         "marker": {
          "symbol": "circle"
         },
         "mode": "lines",
         "name": "tnt_s_patch16_224_CosFace_AdamW",
         "orientation": "v",
         "showlegend": true,
         "type": "scatter",
         "x": [
          19,
          39,
          59,
          79,
          99
         ],
         "xaxis": "x3",
         "y": [
          0.6497511786275537,
          0.9019119958093242,
          0.9374017810371923,
          0.945848611838659,
          0.9484023048716606
         ],
         "yaxis": "y3"
        },
        {
         "hovertemplate": "index=tnt_s_patch16_224_CosFace_AdamW<br>measurement=Disparity<br>epoch=%{x}<br>Accuracy=%{y}<extra></extra>",
         "legendgroup": "tnt_s_patch16_224_CosFace_AdamW",
         "line": {
          "color": "#ab63fa",
          "dash": "solid"
         },
         "marker": {
          "symbol": "circle"
         },
         "mode": "lines",
         "name": "tnt_s_patch16_224_CosFace_AdamW",
         "orientation": "v",
         "showlegend": false,
         "type": "scatter",
         "x": [
          19,
          39,
          59,
          79,
          99
         ],
         "xaxis": "x2",
         "y": [
          1.1997339835956549,
          1.0625935908954778,
          1.0384451089278086,
          1.033934103069558,
          1.0348412475414441
         ],
         "yaxis": "y2"
        },
        {
         "hovertemplate": "index=tnt_s_patch16_224_CosFace_AdamW<br>measurement=Rank<br>epoch=%{x}<br>Accuracy=%{y}<extra></extra>",
         "legendgroup": "tnt_s_patch16_224_CosFace_AdamW",
         "line": {
          "color": "#ab63fa",
          "dash": "solid"
         },
         "marker": {
          "symbol": "circle"
         },
         "mode": "lines",
         "name": "tnt_s_patch16_224_CosFace_AdamW",
         "orientation": "v",
         "showlegend": false,
         "type": "scatter",
         "x": [
          19,
          39,
          59,
          79,
          99
         ],
         "xaxis": "x",
         "y": [
          0.7411406600448573,
          0.9746978393765459,
          0.6712220673908299,
          0.650067990890055,
          0.5980971951426699
         ],
         "yaxis": "y"
        },
        {
         "hovertemplate": "index=selecsls60b_CosFace_AdamW<br>measurement=Accuracy<br>epoch=%{x}<br>Accuracy=%{y}<extra></extra>",
         "legendgroup": "selecsls60b_CosFace_AdamW",
         "line": {
          "color": "#FFA15A",
          "dash": "solid"
         },
         "marker": {
          "symbol": "circle"
         },
         "mode": "lines",
         "name": "selecsls60b_CosFace_AdamW",
         "orientation": "v",
         "showlegend": true,
         "type": "scatter",
         "x": [
          19,
          39,
          59,
          79,
          99
         ],
         "xaxis": "x3",
         "y": [
          0.07117600838135149,
          0.14759036144578314,
          0.1714248297537978,
          0.21346254583551597,
          0.2215819800942902
         ],
         "yaxis": "y3"
        },
        {
         "hovertemplate": "index=selecsls60b_CosFace_AdamW<br>measurement=Disparity<br>epoch=%{x}<br>Accuracy=%{y}<extra></extra>",
         "legendgroup": "selecsls60b_CosFace_AdamW",
         "line": {
          "color": "#FFA15A",
          "dash": "solid"
         },
         "marker": {
          "symbol": "circle"
         },
         "mode": "lines",
         "name": "selecsls60b_CosFace_AdamW",
         "orientation": "v",
         "showlegend": false,
         "type": "scatter",
         "x": [
          19,
          39,
          59,
          79,
          99
         ],
         "xaxis": "x2",
         "y": [
          1.5636792452830188,
          1.5937859608745684,
          1.5294685990338166,
          1.531055900621118,
          1.5753424657534245
         ],
         "yaxis": "y2"
        },
        {
         "hovertemplate": "index=selecsls60b_CosFace_AdamW<br>measurement=Rank<br>epoch=%{x}<br>Accuracy=%{y}<extra></extra>",
         "legendgroup": "selecsls60b_CosFace_AdamW",
         "line": {
          "color": "#FFA15A",
          "dash": "solid"
         },
         "marker": {
          "symbol": "circle"
         },
         "mode": "lines",
         "name": "selecsls60b_CosFace_AdamW",
         "orientation": "v",
         "showlegend": false,
         "type": "scatter",
         "x": [
          19,
          39,
          59,
          79,
          99
         ],
         "xaxis": "x",
         "y": [
          0.6646618065092816,
          0.6299368235858613,
          0.6202314406197901,
          0.6081744122285749,
          0.6061775278079168
         ],
         "yaxis": "y"
        },
        {
         "hovertemplate": "index=gluon_inception_v3_CosFace_Adam<br>measurement=Accuracy<br>epoch=%{x}<br>Accuracy=%{y}<extra></extra>",
         "legendgroup": "gluon_inception_v3_CosFace_Adam",
         "line": {
          "color": "#19d3f3",
          "dash": "solid"
         },
         "marker": {
          "symbol": "circle"
         },
         "mode": "lines",
         "name": "gluon_inception_v3_CosFace_Adam",
         "orientation": "v",
         "showlegend": true,
         "type": "scatter",
         "x": [
          19,
          39,
          59,
          79,
          99
         ],
         "xaxis": "x3",
         "y": [
          0.0026191723415400735,
          0.02357255107386066,
          0.0022917757988475643,
          0.004583551597695129,
          0.004059717129387114
         ],
         "yaxis": "y3"
        },
        {
         "hovertemplate": "index=gluon_inception_v3_CosFace_Adam<br>measurement=Disparity<br>epoch=%{x}<br>Accuracy=%{y}<extra></extra>",
         "legendgroup": "gluon_inception_v3_CosFace_Adam",
         "line": {
          "color": "#19d3f3",
          "dash": "solid"
         },
         "marker": {
          "symbol": "circle"
         },
         "mode": "lines",
         "name": "gluon_inception_v3_CosFace_Adam",
         "orientation": "v",
         "showlegend": false,
         "type": "scatter",
         "x": [
          19,
          39,
          59,
          79,
          99
         ],
         "xaxis": "x2",
         "y": [
          1,
          1.7272727272727273,
          0.9444444444444444,
          0.6666666666666666,
          0.631578947368421
         ],
         "yaxis": "y2"
        },
        {
         "hovertemplate": "index=gluon_inception_v3_CosFace_Adam<br>measurement=Rank<br>epoch=%{x}<br>Accuracy=%{y}<extra></extra>",
         "legendgroup": "gluon_inception_v3_CosFace_Adam",
         "line": {
          "color": "#19d3f3",
          "dash": "solid"
         },
         "marker": {
          "symbol": "circle"
         },
         "mode": "lines",
         "name": "gluon_inception_v3_CosFace_Adam",
         "orientation": "v",
         "showlegend": false,
         "type": "scatter",
         "x": [
          19,
          39,
          59,
          79,
          99
         ],
         "xaxis": "x",
         "y": [
          0.9761246418729386,
          0.9153781732966124,
          0.9950647746266343,
          1.0575716985671317,
          1.0984516672860563
         ],
         "yaxis": "y"
        },
        {
         "hovertemplate": "index=ig_resnext101_32x8d_CosFace_SGD<br>measurement=Accuracy<br>epoch=%{x}<br>Accuracy=%{y}<extra></extra>",
         "legendgroup": "ig_resnext101_32x8d_CosFace_SGD",
         "line": {
          "color": "#FF6692",
          "dash": "solid"
         },
         "marker": {
          "symbol": "circle"
         },
         "mode": "lines",
         "name": "ig_resnext101_32x8d_CosFace_SGD",
         "orientation": "v",
         "showlegend": true,
         "type": "scatter",
         "x": [
          19,
          39,
          59,
          79,
          99
         ],
         "xaxis": "x3",
         "y": [
          0.8445521215295967,
          0.7943294918805658,
          0.7922341540073337,
          0.7926270298585647,
          0.8302776322682033
         ],
         "yaxis": "y3"
        },
        {
         "hovertemplate": "index=ig_resnext101_32x8d_CosFace_SGD<br>measurement=Disparity<br>epoch=%{x}<br>Accuracy=%{y}<extra></extra>",
         "legendgroup": "ig_resnext101_32x8d_CosFace_SGD",
         "line": {
          "color": "#FF6692",
          "dash": "solid"
         },
         "marker": {
          "symbol": "circle"
         },
         "mode": "lines",
         "name": "ig_resnext101_32x8d_CosFace_SGD",
         "orientation": "v",
         "showlegend": false,
         "type": "scatter",
         "x": [
          19,
          39,
          59,
          79,
          99
         ],
         "xaxis": "x2",
         "y": [
          1.0706373414673303,
          1.0929951690821256,
          1.079223234232686,
          1.0921189077082614,
          1.0561050754013297
         ],
         "yaxis": "y2"
        },
        {
         "hovertemplate": "index=ig_resnext101_32x8d_CosFace_SGD<br>measurement=Rank<br>epoch=%{x}<br>Accuracy=%{y}<extra></extra>",
         "legendgroup": "ig_resnext101_32x8d_CosFace_SGD",
         "line": {
          "color": "#FF6692",
          "dash": "solid"
         },
         "marker": {
          "symbol": "circle"
         },
         "mode": "lines",
         "name": "ig_resnext101_32x8d_CosFace_SGD",
         "orientation": "v",
         "showlegend": false,
         "type": "scatter",
         "x": [
          19,
          39,
          59,
          79,
          99
         ],
         "xaxis": "x",
         "y": [
          0.7469251687533647,
          0.750760469837399,
          0.6777311567792718,
          0.6394539043579738,
          0.6493635437881874
         ],
         "yaxis": "y"
        },
        {
         "hovertemplate": "index=gluon_xception65_CosFace_Adam<br>measurement=Accuracy<br>epoch=%{x}<br>Accuracy=%{y}<extra></extra>",
         "legendgroup": "gluon_xception65_CosFace_Adam",
         "line": {
          "color": "#B6E880",
          "dash": "solid"
         },
         "marker": {
          "symbol": "circle"
         },
         "mode": "lines",
         "name": "gluon_xception65_CosFace_Adam",
         "orientation": "v",
         "showlegend": true,
         "type": "scatter",
         "x": [
          19,
          39,
          59,
          79,
          99
         ],
         "xaxis": "x3",
         "y": [
          0,
          0.008512310110005238,
          0.0013095861707700367,
          0,
          0
         ],
         "yaxis": "y3"
        },
        {
         "hovertemplate": "index=gluon_xception65_CosFace_Adam<br>measurement=Disparity<br>epoch=%{x}<br>Accuracy=%{y}<extra></extra>",
         "legendgroup": "gluon_xception65_CosFace_Adam",
         "line": {
          "color": "#B6E880",
          "dash": "solid"
         },
         "marker": {
          "symbol": "circle"
         },
         "mode": "lines",
         "name": "gluon_xception65_CosFace_Adam",
         "orientation": "v",
         "showlegend": false,
         "type": "scatter",
         "x": [
          39,
          59
         ],
         "xaxis": "x2",
         "y": [
          1.1666666666666667,
          1.5
         ],
         "yaxis": "y2"
        },
        {
         "hovertemplate": "index=gluon_xception65_CosFace_Adam<br>measurement=Rank<br>epoch=%{x}<br>Accuracy=%{y}<extra></extra>",
         "legendgroup": "gluon_xception65_CosFace_Adam",
         "line": {
          "color": "#B6E880",
          "dash": "solid"
         },
         "marker": {
          "symbol": "circle"
         },
         "mode": "lines",
         "name": "gluon_xception65_CosFace_Adam",
         "orientation": "v",
         "showlegend": false,
         "type": "scatter",
         "x": [
          19,
          39,
          59,
          79,
          99
         ],
         "xaxis": "x",
         "y": [
          0.7390890102335739,
          1.0200436974493783,
          1.030759071420852,
          1,
          1
         ],
         "yaxis": "y"
        },
        {
         "hovertemplate": "index=gluon_xception65_CosFace_AdamW<br>measurement=Accuracy<br>epoch=%{x}<br>Accuracy=%{y}<extra></extra>",
         "legendgroup": "gluon_xception65_CosFace_AdamW",
         "line": {
          "color": "#FF97FF",
          "dash": "solid"
         },
         "marker": {
          "symbol": "circle"
         },
         "mode": "lines",
         "name": "gluon_xception65_CosFace_AdamW",
         "orientation": "v",
         "showlegend": true,
         "type": "scatter",
         "x": [
          19,
          39,
          59,
          79,
          99
         ],
         "xaxis": "x3",
         "y": [
          0.32228915662650603,
          0.36380303823991617,
          0.3968700890518596,
          0.3860660031430068,
          0.392613933996857
         ],
         "yaxis": "y3"
        },
        {
         "hovertemplate": "index=gluon_xception65_CosFace_AdamW<br>measurement=Disparity<br>epoch=%{x}<br>Accuracy=%{y}<extra></extra>",
         "legendgroup": "gluon_xception65_CosFace_AdamW",
         "line": {
          "color": "#FF97FF",
          "dash": "solid"
         },
         "marker": {
          "symbol": "circle"
         },
         "mode": "lines",
         "name": "gluon_xception65_CosFace_AdamW",
         "orientation": "v",
         "showlegend": false,
         "type": "scatter",
         "x": [
          19,
          39,
          59,
          79,
          99
         ],
         "xaxis": "x2",
         "y": [
          1.6619794483504597,
          1.6775903614457832,
          1.4185953711093375,
          1.2521008403361344,
          1.2789813759026987
         ],
         "yaxis": "y2"
        },
        {
         "hovertemplate": "index=gluon_xception65_CosFace_AdamW<br>measurement=Rank<br>epoch=%{x}<br>Accuracy=%{y}<extra></extra>",
         "legendgroup": "gluon_xception65_CosFace_AdamW",
         "line": {
          "color": "#FF97FF",
          "dash": "solid"
         },
         "marker": {
          "symbol": "circle"
         },
         "mode": "lines",
         "name": "gluon_xception65_CosFace_AdamW",
         "orientation": "v",
         "showlegend": false,
         "type": "scatter",
         "x": [
          19,
          39,
          59,
          79,
          99
         ],
         "xaxis": "x",
         "y": [
          0.5835305405718979,
          0.5687134982072746,
          0.6373465853324223,
          0.8794763307995999,
          0.8125368965486859
         ],
         "yaxis": "y"
        },
        {
         "hovertemplate": "index=gluon_inception_v3_CosFace_AdamW<br>measurement=Accuracy<br>epoch=%{x}<br>Accuracy=%{y}<extra></extra>",
         "legendgroup": "gluon_inception_v3_CosFace_AdamW",
         "line": {
          "color": "#FECB52",
          "dash": "solid"
         },
         "marker": {
          "symbol": "circle"
         },
         "mode": "lines",
         "name": "gluon_inception_v3_CosFace_AdamW",
         "orientation": "v",
         "showlegend": true,
         "type": "scatter",
         "x": [
          19,
          39,
          59,
          79,
          99
         ],
         "xaxis": "x3",
         "y": [
          0.15407281299109482,
          0.17640125720272393,
          0.28843635411210056,
          0.4026977475117863,
          0.45213462545835514
         ],
         "yaxis": "y3"
        },
        {
         "hovertemplate": "index=gluon_inception_v3_CosFace_AdamW<br>measurement=Disparity<br>epoch=%{x}<br>Accuracy=%{y}<extra></extra>",
         "legendgroup": "gluon_inception_v3_CosFace_AdamW",
         "line": {
          "color": "#FECB52",
          "dash": "solid"
         },
         "marker": {
          "symbol": "circle"
         },
         "mode": "lines",
         "name": "gluon_inception_v3_CosFace_AdamW",
         "orientation": "v",
         "showlegend": false,
         "type": "scatter",
         "x": [
          19,
          39,
          59,
          79,
          99
         ],
         "xaxis": "x2",
         "y": [
          1.552060737527115,
          1.4944444444444445,
          1.5433025404157044,
          1.3781902552204177,
          1.3631074606433948
         ],
         "yaxis": "y2"
        },
        {
         "hovertemplate": "index=gluon_inception_v3_CosFace_AdamW<br>measurement=Rank<br>epoch=%{x}<br>Accuracy=%{y}<extra></extra>",
         "legendgroup": "gluon_inception_v3_CosFace_AdamW",
         "line": {
          "color": "#FECB52",
          "dash": "solid"
         },
         "marker": {
          "symbol": "circle"
         },
         "mode": "lines",
         "name": "gluon_inception_v3_CosFace_AdamW",
         "orientation": "v",
         "showlegend": false,
         "type": "scatter",
         "x": [
          19,
          39,
          59,
          79,
          99
         ],
         "xaxis": "x",
         "y": [
          0.6482575914505555,
          0.683284574468085,
          0.6262700931708816,
          0.6946525362499012,
          0.6721212554781759
         ],
         "yaxis": "y"
        },
        {
         "hovertemplate": "index=mobilenetv3_large_100_CosFace_RMSpropTF<br>measurement=Accuracy<br>epoch=%{x}<br>Accuracy=%{y}<extra></extra>",
         "legendgroup": "mobilenetv3_large_100_CosFace_RMSpropTF",
         "line": {
          "color": "#636efa",
          "dash": "solid"
         },
         "marker": {
          "symbol": "circle"
         },
         "mode": "lines",
         "name": "mobilenetv3_large_100_CosFace_RMSpropTF",
         "orientation": "v",
         "showlegend": true,
         "type": "scatter",
         "x": [
          19,
          39,
          59,
          79,
          99
         ],
         "xaxis": "x3",
         "y": [
          0.05120481927710843,
          0.4425746464117339,
          0.7570717653221583,
          0.8088658983761131,
          0.7875196437925616
         ],
         "yaxis": "y3"
        },
        {
         "hovertemplate": "index=mobilenetv3_large_100_CosFace_RMSpropTF<br>measurement=Disparity<br>epoch=%{x}<br>Accuracy=%{y}<extra></extra>",
         "legendgroup": "mobilenetv3_large_100_CosFace_RMSpropTF",
         "line": {
          "color": "#636efa",
          "dash": "solid"
         },
         "marker": {
          "symbol": "circle"
         },
         "mode": "lines",
         "name": "mobilenetv3_large_100_CosFace_RMSpropTF",
         "orientation": "v",
         "showlegend": false,
         "type": "scatter",
         "x": [
          19,
          39,
          59,
          79,
          99
         ],
         "xaxis": "x2",
         "y": [
          1.7829181494661923,
          1.3379453476305778,
          1.1048607318405241,
          1.0716082508804294,
          1.0840408941258013
         ],
         "yaxis": "y2"
        },
        {
         "hovertemplate": "index=mobilenetv3_large_100_CosFace_RMSpropTF<br>measurement=Rank<br>epoch=%{x}<br>Accuracy=%{y}<extra></extra>",
         "legendgroup": "mobilenetv3_large_100_CosFace_RMSpropTF",
         "line": {
          "color": "#636efa",
          "dash": "solid"
         },
         "marker": {
          "symbol": "circle"
         },
         "mode": "lines",
         "name": "mobilenetv3_large_100_CosFace_RMSpropTF",
         "orientation": "v",
         "showlegend": false,
         "type": "scatter",
         "x": [
          19,
          39,
          59,
          79,
          99
         ],
         "xaxis": "x",
         "y": [
          0.9968223315801705,
          0.7831053123331554,
          0.7093681006440488,
          1.0055960983091874,
          0.8938107869142352
         ],
         "yaxis": "y"
        },
        {
         "hovertemplate": "index=xception65_CosFace_Adam<br>measurement=Accuracy<br>epoch=%{x}<br>Accuracy=%{y}<extra></extra>",
         "legendgroup": "xception65_CosFace_Adam",
         "line": {
          "color": "#EF553B",
          "dash": "solid"
         },
         "marker": {
          "symbol": "circle"
         },
         "mode": "lines",
         "name": "xception65_CosFace_Adam",
         "orientation": "v",
         "showlegend": true,
         "type": "scatter",
         "x": [
          19,
          39,
          59,
          79,
          99
         ],
         "xaxis": "x3",
         "y": [
          0.002881089575694081,
          0,
          0,
          0,
          0
         ],
         "yaxis": "y3"
        },
        {
         "hovertemplate": "index=xception65_CosFace_Adam<br>measurement=Disparity<br>epoch=%{x}<br>Accuracy=%{y}<extra></extra>",
         "legendgroup": "xception65_CosFace_Adam",
         "line": {
          "color": "#EF553B",
          "dash": "solid"
         },
         "marker": {
          "symbol": "circle"
         },
         "mode": "lines",
         "name": "xception65_CosFace_Adam",
         "orientation": "v",
         "showlegend": false,
         "type": "scatter",
         "x": [
          19
         ],
         "xaxis": "x2",
         "y": [
          0.76
         ],
         "yaxis": "y2"
        },
        {
         "hovertemplate": "index=xception65_CosFace_Adam<br>measurement=Rank<br>epoch=%{x}<br>Accuracy=%{y}<extra></extra>",
         "legendgroup": "xception65_CosFace_Adam",
         "line": {
          "color": "#EF553B",
          "dash": "solid"
         },
         "marker": {
          "symbol": "circle"
         },
         "mode": "lines",
         "name": "xception65_CosFace_Adam",
         "orientation": "v",
         "showlegend": false,
         "type": "scatter",
         "x": [
          19,
          39,
          59,
          79,
          99
         ],
         "xaxis": "x",
         "y": [
          0.9831751600483606,
          1,
          1,
          1,
          1
         ],
         "yaxis": "y"
        },
        {
         "hovertemplate": "index=xception65_CosFace_AdamW<br>measurement=Accuracy<br>epoch=%{x}<br>Accuracy=%{y}<extra></extra>",
         "legendgroup": "xception65_CosFace_AdamW",
         "line": {
          "color": "#00cc96",
          "dash": "solid"
         },
         "marker": {
          "symbol": "circle"
         },
         "mode": "lines",
         "name": "xception65_CosFace_AdamW",
         "orientation": "v",
         "showlegend": true,
         "type": "scatter",
         "x": [
          19,
          39,
          59,
          79,
          99
         ],
         "xaxis": "x3",
         "y": [
          0.4438187532739654,
          0.5056966998428497,
          0.5172865374541645,
          0.482647983237297,
          0.4814038763750655
         ],
         "yaxis": "y3"
        },
        {
         "hovertemplate": "index=xception65_CosFace_AdamW<br>measurement=Disparity<br>epoch=%{x}<br>Accuracy=%{y}<extra></extra>",
         "legendgroup": "xception65_CosFace_AdamW",
         "line": {
          "color": "#00cc96",
          "dash": "solid"
         },
         "marker": {
          "symbol": "circle"
         },
         "mode": "lines",
         "name": "xception65_CosFace_AdamW",
         "orientation": "v",
         "showlegend": false,
         "type": "scatter",
         "x": [
          19,
          39,
          59,
          79,
          99
         ],
         "xaxis": "x2",
         "y": [
          1.2968485259234157,
          1.3039976133651552,
          1.2297488004515946,
          1.1976744186046513,
          1.1848439821693908
         ],
         "yaxis": "y2"
        },
        {
         "hovertemplate": "index=xception65_CosFace_AdamW<br>measurement=Rank<br>epoch=%{x}<br>Accuracy=%{y}<extra></extra>",
         "legendgroup": "xception65_CosFace_AdamW",
         "line": {
          "color": "#00cc96",
          "dash": "solid"
         },
         "marker": {
          "symbol": "circle"
         },
         "mode": "lines",
         "name": "xception65_CosFace_AdamW",
         "orientation": "v",
         "showlegend": false,
         "type": "scatter",
         "x": [
          19,
          39,
          59,
          79,
          99
         ],
         "xaxis": "x",
         "y": [
          0.9288717977671411,
          0.7940731064179789,
          0.7599399438274976,
          0.9461005199306759,
          0.8984987171486027
         ],
         "yaxis": "y"
        },
        {
         "hovertemplate": "index=selecsls60b_CosFace_Adam<br>measurement=Accuracy<br>epoch=%{x}<br>Accuracy=%{y}<extra></extra>",
         "legendgroup": "selecsls60b_CosFace_Adam",
         "line": {
          "color": "#ab63fa",
          "dash": "solid"
         },
         "marker": {
          "symbol": "circle"
         },
         "mode": "lines",
         "name": "selecsls60b_CosFace_Adam",
         "orientation": "v",
         "showlegend": true,
         "type": "scatter",
         "x": [
          19,
          39,
          59,
          79,
          99
         ],
         "xaxis": "x3",
         "y": [
          0.05893137768465165,
          0.0071372446306967,
          0.0037323205866946047,
          0.0034704033525405974,
          0.0030775275013095863
         ],
         "yaxis": "y3"
        },
        {
         "hovertemplate": "index=selecsls60b_CosFace_Adam<br>measurement=Disparity<br>epoch=%{x}<br>Accuracy=%{y}<extra></extra>",
         "legendgroup": "selecsls60b_CosFace_Adam",
         "line": {
          "color": "#ab63fa",
          "dash": "solid"
         },
         "marker": {
          "symbol": "circle"
         },
         "mode": "lines",
         "name": "selecsls60b_CosFace_Adam",
         "orientation": "v",
         "showlegend": false,
         "type": "scatter",
         "x": [
          19,
          39,
          59,
          79,
          99
         ],
         "xaxis": "x2",
         "y": [
          1.5714285714285714,
          1.0961538461538463,
          0.3902439024390244,
          0.6060606060606061,
          0.6206896551724138
         ],
         "yaxis": "y2"
        },
        {
         "hovertemplate": "index=selecsls60b_CosFace_Adam<br>measurement=Rank<br>epoch=%{x}<br>Accuracy=%{y}<extra></extra>",
         "legendgroup": "selecsls60b_CosFace_Adam",
         "line": {
          "color": "#ab63fa",
          "dash": "solid"
         },
         "marker": {
          "symbol": "circle"
         },
         "mode": "lines",
         "name": "selecsls60b_CosFace_Adam",
         "orientation": "v",
         "showlegend": false,
         "type": "scatter",
         "x": [
          19,
          39,
          59,
          79,
          99
         ],
         "xaxis": "x",
         "y": [
          0.7319981762515505,
          0.9208708047740812,
          1.1979912885034643,
          0.9570242812192654,
          1.1478005621541307
         ],
         "yaxis": "y"
        },
        {
         "hovertemplate": "index=xception_CosFace_AdamW<br>measurement=Accuracy<br>epoch=%{x}<br>Accuracy=%{y}<extra></extra>",
         "legendgroup": "xception_CosFace_AdamW",
         "line": {
          "color": "#FFA15A",
          "dash": "solid"
         },
         "marker": {
          "symbol": "circle"
         },
         "mode": "lines",
         "name": "xception_CosFace_AdamW",
         "orientation": "v",
         "showlegend": true,
         "type": "scatter",
         "x": [
          19,
          39,
          59,
          79,
          99
         ],
         "xaxis": "x3",
         "y": [
          0.41946045049764275,
          0.5523179675222629,
          0.5736642221058146,
          0.5916710319539026,
          0.5952723939235202
         ],
         "yaxis": "y3"
        },
        {
         "hovertemplate": "index=xception_CosFace_AdamW<br>measurement=Disparity<br>epoch=%{x}<br>Accuracy=%{y}<extra></extra>",
         "legendgroup": "xception_CosFace_AdamW",
         "line": {
          "color": "#FFA15A",
          "dash": "solid"
         },
         "marker": {
          "symbol": "circle"
         },
         "mode": "lines",
         "name": "xception_CosFace_AdamW",
         "orientation": "v",
         "showlegend": false,
         "type": "scatter",
         "x": [
          19,
          39,
          59,
          79,
          99
         ],
         "xaxis": "x2",
         "y": [
          1.3311499272197964,
          1.26747311827957,
          1.2389470994122158,
          1.2272615232930737,
          1.22328197603326
         ],
         "yaxis": "y2"
        },
        {
         "hovertemplate": "index=xception_CosFace_AdamW<br>measurement=Rank<br>epoch=%{x}<br>Accuracy=%{y}<extra></extra>",
         "legendgroup": "xception_CosFace_AdamW",
         "line": {
          "color": "#FFA15A",
          "dash": "solid"
         },
         "marker": {
          "symbol": "circle"
         },
         "mode": "lines",
         "name": "xception_CosFace_AdamW",
         "orientation": "v",
         "showlegend": false,
         "type": "scatter",
         "x": [
          19,
          39,
          59,
          79,
          99
         ],
         "xaxis": "x",
         "y": [
          0.5347237106633278,
          0.6529966380145438,
          0.6896023944763783,
          0.7719117936006529,
          0.7585027937396412
         ],
         "yaxis": "y"
        }
       ],
       "layout": {
        "annotations": [
         {
          "font": {},
          "showarrow": false,
          "text": "Rank",
          "textangle": 90,
          "x": 0.98,
          "xanchor": "left",
          "xref": "paper",
          "y": 0.15666666666666665,
          "yanchor": "middle",
          "yref": "paper"
         },
         {
          "font": {},
          "showarrow": false,
          "text": "Disparity",
          "textangle": 90,
          "x": 0.98,
          "xanchor": "left",
          "xref": "paper",
          "y": 0.4999999999999999,
          "yanchor": "middle",
          "yref": "paper"
         },
         {
          "font": {},
          "showarrow": false,
          "text": "Accuracy",
          "textangle": 90,
          "x": 0.98,
          "xanchor": "left",
          "xref": "paper",
          "y": 0.8433333333333332,
          "yanchor": "middle",
          "yref": "paper"
         }
        ],
        "legend": {
         "title": {
          "text": "index"
         },
         "tracegroupgap": 0
        },
        "template": {
         "data": {
          "bar": [
           {
            "error_x": {
             "color": "#2a3f5f"
            },
            "error_y": {
             "color": "#2a3f5f"
            },
            "marker": {
             "line": {
              "color": "#E5ECF6",
              "width": 0.5
             },
             "pattern": {
              "fillmode": "overlay",
              "size": 10,
              "solidity": 0.2
             }
            },
            "type": "bar"
           }
          ],
          "barpolar": [
           {
            "marker": {
             "line": {
              "color": "#E5ECF6",
              "width": 0.5
             },
             "pattern": {
              "fillmode": "overlay",
              "size": 10,
              "solidity": 0.2
             }
            },
            "type": "barpolar"
           }
          ],
          "carpet": [
           {
            "aaxis": {
             "endlinecolor": "#2a3f5f",
             "gridcolor": "white",
             "linecolor": "white",
             "minorgridcolor": "white",
             "startlinecolor": "#2a3f5f"
            },
            "baxis": {
             "endlinecolor": "#2a3f5f",
             "gridcolor": "white",
             "linecolor": "white",
             "minorgridcolor": "white",
             "startlinecolor": "#2a3f5f"
            },
            "type": "carpet"
           }
          ],
          "choropleth": [
           {
            "colorbar": {
             "outlinewidth": 0,
             "ticks": ""
            },
            "type": "choropleth"
           }
          ],
          "contour": [
           {
            "colorbar": {
             "outlinewidth": 0,
             "ticks": ""
            },
            "colorscale": [
             [
              0,
              "#0d0887"
             ],
             [
              0.1111111111111111,
              "#46039f"
             ],
             [
              0.2222222222222222,
              "#7201a8"
             ],
             [
              0.3333333333333333,
              "#9c179e"
             ],
             [
              0.4444444444444444,
              "#bd3786"
             ],
             [
              0.5555555555555556,
              "#d8576b"
             ],
             [
              0.6666666666666666,
              "#ed7953"
             ],
             [
              0.7777777777777778,
              "#fb9f3a"
             ],
             [
              0.8888888888888888,
              "#fdca26"
             ],
             [
              1,
              "#f0f921"
             ]
            ],
            "type": "contour"
           }
          ],
          "contourcarpet": [
           {
            "colorbar": {
             "outlinewidth": 0,
             "ticks": ""
            },
            "type": "contourcarpet"
           }
          ],
          "heatmap": [
           {
            "colorbar": {
             "outlinewidth": 0,
             "ticks": ""
            },
            "colorscale": [
             [
              0,
              "#0d0887"
             ],
             [
              0.1111111111111111,
              "#46039f"
             ],
             [
              0.2222222222222222,
              "#7201a8"
             ],
             [
              0.3333333333333333,
              "#9c179e"
             ],
             [
              0.4444444444444444,
              "#bd3786"
             ],
             [
              0.5555555555555556,
              "#d8576b"
             ],
             [
              0.6666666666666666,
              "#ed7953"
             ],
             [
              0.7777777777777778,
              "#fb9f3a"
             ],
             [
              0.8888888888888888,
              "#fdca26"
             ],
             [
              1,
              "#f0f921"
             ]
            ],
            "type": "heatmap"
           }
          ],
          "heatmapgl": [
           {
            "colorbar": {
             "outlinewidth": 0,
             "ticks": ""
            },
            "colorscale": [
             [
              0,
              "#0d0887"
             ],
             [
              0.1111111111111111,
              "#46039f"
             ],
             [
              0.2222222222222222,
              "#7201a8"
             ],
             [
              0.3333333333333333,
              "#9c179e"
             ],
             [
              0.4444444444444444,
              "#bd3786"
             ],
             [
              0.5555555555555556,
              "#d8576b"
             ],
             [
              0.6666666666666666,
              "#ed7953"
             ],
             [
              0.7777777777777778,
              "#fb9f3a"
             ],
             [
              0.8888888888888888,
              "#fdca26"
             ],
             [
              1,
              "#f0f921"
             ]
            ],
            "type": "heatmapgl"
           }
          ],
          "histogram": [
           {
            "marker": {
             "pattern": {
              "fillmode": "overlay",
              "size": 10,
              "solidity": 0.2
             }
            },
            "type": "histogram"
           }
          ],
          "histogram2d": [
           {
            "colorbar": {
             "outlinewidth": 0,
             "ticks": ""
            },
            "colorscale": [
             [
              0,
              "#0d0887"
             ],
             [
              0.1111111111111111,
              "#46039f"
             ],
             [
              0.2222222222222222,
              "#7201a8"
             ],
             [
              0.3333333333333333,
              "#9c179e"
             ],
             [
              0.4444444444444444,
              "#bd3786"
             ],
             [
              0.5555555555555556,
              "#d8576b"
             ],
             [
              0.6666666666666666,
              "#ed7953"
             ],
             [
              0.7777777777777778,
              "#fb9f3a"
             ],
             [
              0.8888888888888888,
              "#fdca26"
             ],
             [
              1,
              "#f0f921"
             ]
            ],
            "type": "histogram2d"
           }
          ],
          "histogram2dcontour": [
           {
            "colorbar": {
             "outlinewidth": 0,
             "ticks": ""
            },
            "colorscale": [
             [
              0,
              "#0d0887"
             ],
             [
              0.1111111111111111,
              "#46039f"
             ],
             [
              0.2222222222222222,
              "#7201a8"
             ],
             [
              0.3333333333333333,
              "#9c179e"
             ],
             [
              0.4444444444444444,
              "#bd3786"
             ],
             [
              0.5555555555555556,
              "#d8576b"
             ],
             [
              0.6666666666666666,
              "#ed7953"
             ],
             [
              0.7777777777777778,
              "#fb9f3a"
             ],
             [
              0.8888888888888888,
              "#fdca26"
             ],
             [
              1,
              "#f0f921"
             ]
            ],
            "type": "histogram2dcontour"
           }
          ],
          "mesh3d": [
           {
            "colorbar": {
             "outlinewidth": 0,
             "ticks": ""
            },
            "type": "mesh3d"
           }
          ],
          "parcoords": [
           {
            "line": {
             "colorbar": {
              "outlinewidth": 0,
              "ticks": ""
             }
            },
            "type": "parcoords"
           }
          ],
          "pie": [
           {
            "automargin": true,
            "type": "pie"
           }
          ],
          "scatter": [
           {
            "marker": {
             "colorbar": {
              "outlinewidth": 0,
              "ticks": ""
             }
            },
            "type": "scatter"
           }
          ],
          "scatter3d": [
           {
            "line": {
             "colorbar": {
              "outlinewidth": 0,
              "ticks": ""
             }
            },
            "marker": {
             "colorbar": {
              "outlinewidth": 0,
              "ticks": ""
             }
            },
            "type": "scatter3d"
           }
          ],
          "scattercarpet": [
           {
            "marker": {
             "colorbar": {
              "outlinewidth": 0,
              "ticks": ""
             }
            },
            "type": "scattercarpet"
           }
          ],
          "scattergeo": [
           {
            "marker": {
             "colorbar": {
              "outlinewidth": 0,
              "ticks": ""
             }
            },
            "type": "scattergeo"
           }
          ],
          "scattergl": [
           {
            "marker": {
             "colorbar": {
              "outlinewidth": 0,
              "ticks": ""
             }
            },
            "type": "scattergl"
           }
          ],
          "scattermapbox": [
           {
            "marker": {
             "colorbar": {
              "outlinewidth": 0,
              "ticks": ""
             }
            },
            "type": "scattermapbox"
           }
          ],
          "scatterpolar": [
           {
            "marker": {
             "colorbar": {
              "outlinewidth": 0,
              "ticks": ""
             }
            },
            "type": "scatterpolar"
           }
          ],
          "scatterpolargl": [
           {
            "marker": {
             "colorbar": {
              "outlinewidth": 0,
              "ticks": ""
             }
            },
            "type": "scatterpolargl"
           }
          ],
          "scatterternary": [
           {
            "marker": {
             "colorbar": {
              "outlinewidth": 0,
              "ticks": ""
             }
            },
            "type": "scatterternary"
           }
          ],
          "surface": [
           {
            "colorbar": {
             "outlinewidth": 0,
             "ticks": ""
            },
            "colorscale": [
             [
              0,
              "#0d0887"
             ],
             [
              0.1111111111111111,
              "#46039f"
             ],
             [
              0.2222222222222222,
              "#7201a8"
             ],
             [
              0.3333333333333333,
              "#9c179e"
             ],
             [
              0.4444444444444444,
              "#bd3786"
             ],
             [
              0.5555555555555556,
              "#d8576b"
             ],
             [
              0.6666666666666666,
              "#ed7953"
             ],
             [
              0.7777777777777778,
              "#fb9f3a"
             ],
             [
              0.8888888888888888,
              "#fdca26"
             ],
             [
              1,
              "#f0f921"
             ]
            ],
            "type": "surface"
           }
          ],
          "table": [
           {
            "cells": {
             "fill": {
              "color": "#EBF0F8"
             },
             "line": {
              "color": "white"
             }
            },
            "header": {
             "fill": {
              "color": "#C8D4E3"
             },
             "line": {
              "color": "white"
             }
            },
            "type": "table"
           }
          ]
         },
         "layout": {
          "annotationdefaults": {
           "arrowcolor": "#2a3f5f",
           "arrowhead": 0,
           "arrowwidth": 1
          },
          "autotypenumbers": "strict",
          "coloraxis": {
           "colorbar": {
            "outlinewidth": 0,
            "ticks": ""
           }
          },
          "colorscale": {
           "diverging": [
            [
             0,
             "#8e0152"
            ],
            [
             0.1,
             "#c51b7d"
            ],
            [
             0.2,
             "#de77ae"
            ],
            [
             0.3,
             "#f1b6da"
            ],
            [
             0.4,
             "#fde0ef"
            ],
            [
             0.5,
             "#f7f7f7"
            ],
            [
             0.6,
             "#e6f5d0"
            ],
            [
             0.7,
             "#b8e186"
            ],
            [
             0.8,
             "#7fbc41"
            ],
            [
             0.9,
             "#4d9221"
            ],
            [
             1,
             "#276419"
            ]
           ],
           "sequential": [
            [
             0,
             "#0d0887"
            ],
            [
             0.1111111111111111,
             "#46039f"
            ],
            [
             0.2222222222222222,
             "#7201a8"
            ],
            [
             0.3333333333333333,
             "#9c179e"
            ],
            [
             0.4444444444444444,
             "#bd3786"
            ],
            [
             0.5555555555555556,
             "#d8576b"
            ],
            [
             0.6666666666666666,
             "#ed7953"
            ],
            [
             0.7777777777777778,
             "#fb9f3a"
            ],
            [
             0.8888888888888888,
             "#fdca26"
            ],
            [
             1,
             "#f0f921"
            ]
           ],
           "sequentialminus": [
            [
             0,
             "#0d0887"
            ],
            [
             0.1111111111111111,
             "#46039f"
            ],
            [
             0.2222222222222222,
             "#7201a8"
            ],
            [
             0.3333333333333333,
             "#9c179e"
            ],
            [
             0.4444444444444444,
             "#bd3786"
            ],
            [
             0.5555555555555556,
             "#d8576b"
            ],
            [
             0.6666666666666666,
             "#ed7953"
            ],
            [
             0.7777777777777778,
             "#fb9f3a"
            ],
            [
             0.8888888888888888,
             "#fdca26"
            ],
            [
             1,
             "#f0f921"
            ]
           ]
          },
          "colorway": [
           "#636efa",
           "#EF553B",
           "#00cc96",
           "#ab63fa",
           "#FFA15A",
           "#19d3f3",
           "#FF6692",
           "#B6E880",
           "#FF97FF",
           "#FECB52"
          ],
          "font": {
           "color": "#2a3f5f"
          },
          "geo": {
           "bgcolor": "white",
           "lakecolor": "white",
           "landcolor": "#E5ECF6",
           "showlakes": true,
           "showland": true,
           "subunitcolor": "white"
          },
          "hoverlabel": {
           "align": "left"
          },
          "hovermode": "closest",
          "mapbox": {
           "style": "light"
          },
          "paper_bgcolor": "white",
          "plot_bgcolor": "#E5ECF6",
          "polar": {
           "angularaxis": {
            "gridcolor": "white",
            "linecolor": "white",
            "ticks": ""
           },
           "bgcolor": "#E5ECF6",
           "radialaxis": {
            "gridcolor": "white",
            "linecolor": "white",
            "ticks": ""
           }
          },
          "scene": {
           "xaxis": {
            "backgroundcolor": "#E5ECF6",
            "gridcolor": "white",
            "gridwidth": 2,
            "linecolor": "white",
            "showbackground": true,
            "ticks": "",
            "zerolinecolor": "white"
           },
           "yaxis": {
            "backgroundcolor": "#E5ECF6",
            "gridcolor": "white",
            "gridwidth": 2,
            "linecolor": "white",
            "showbackground": true,
            "ticks": "",
            "zerolinecolor": "white"
           },
           "zaxis": {
            "backgroundcolor": "#E5ECF6",
            "gridcolor": "white",
            "gridwidth": 2,
            "linecolor": "white",
            "showbackground": true,
            "ticks": "",
            "zerolinecolor": "white"
           }
          },
          "shapedefaults": {
           "line": {
            "color": "#2a3f5f"
           }
          },
          "ternary": {
           "aaxis": {
            "gridcolor": "white",
            "linecolor": "white",
            "ticks": ""
           },
           "baxis": {
            "gridcolor": "white",
            "linecolor": "white",
            "ticks": ""
           },
           "bgcolor": "#E5ECF6",
           "caxis": {
            "gridcolor": "white",
            "linecolor": "white",
            "ticks": ""
           }
          },
          "title": {
           "x": 0.05
          },
          "xaxis": {
           "automargin": true,
           "gridcolor": "white",
           "linecolor": "white",
           "ticks": "",
           "title": {
            "standoff": 15
           },
           "zerolinecolor": "white",
           "zerolinewidth": 2
          },
          "yaxis": {
           "automargin": true,
           "gridcolor": "white",
           "linecolor": "white",
           "ticks": "",
           "title": {
            "standoff": 15
           },
           "zerolinecolor": "white",
           "zerolinewidth": 2
          }
         }
        },
        "title": {
         "text": "Phase1b(ii) Accuracy and Disparity"
        },
        "xaxis": {
         "anchor": "y",
         "domain": [
          0,
          0.98
         ],
         "title": {
          "text": "epoch"
         }
        },
        "xaxis2": {
         "anchor": "y2",
         "domain": [
          0,
          0.98
         ],
         "matches": "x",
         "showticklabels": false
        },
        "xaxis3": {
         "anchor": "y3",
         "domain": [
          0,
          0.98
         ],
         "matches": "x",
         "showticklabels": false
        },
        "yaxis": {
         "anchor": "x",
         "domain": [
          0,
          0.3133333333333333
         ],
         "title": {
          "text": "Disparity"
         }
        },
        "yaxis2": {
         "anchor": "x2",
         "domain": [
          0.34333333333333327,
          0.6566666666666665
         ],
         "title": {
          "text": "Accuracy"
         }
        },
        "yaxis3": {
         "anchor": "x3",
         "domain": [
          0.6866666666666665,
          0.9999999999999998
         ],
         "title": {
          "text": "Accuracy"
         }
        }
       }
      },
      "text/html": [
       "<div>                            <div id=\"3b691639-3166-4646-a921-dedc6719ef34\" class=\"plotly-graph-div\" style=\"height:525px; width:100%;\"></div>            <script type=\"text/javascript\">                require([\"plotly\"], function(Plotly) {                    window.PLOTLYENV=window.PLOTLYENV || {};                                    if (document.getElementById(\"3b691639-3166-4646-a921-dedc6719ef34\")) {                    Plotly.newPlot(                        \"3b691639-3166-4646-a921-dedc6719ef34\",                        [{\"hovertemplate\":\"index=resnetrs101_CosFace_SGD<br>measurement=Accuracy<br>epoch=%{x}<br>Accuracy=%{y}<extra></extra>\",\"legendgroup\":\"resnetrs101_CosFace_SGD\",\"line\":{\"color\":\"#636efa\",\"dash\":\"solid\"},\"marker\":{\"symbol\":\"circle\"},\"mode\":\"lines\",\"name\":\"resnetrs101_CosFace_SGD\",\"orientation\":\"v\",\"showlegend\":true,\"x\":[19,39,59,79,99],\"xaxis\":\"x3\",\"y\":[0.8765715034049241,0.8958878994237821,0.8805657412257727,0.8645233106338397,0.8721843897328444],\"yaxis\":\"y3\",\"type\":\"scatter\"},{\"hovertemplate\":\"index=resnetrs101_CosFace_SGD<br>measurement=Disparity<br>epoch=%{x}<br>Accuracy=%{y}<extra></extra>\",\"legendgroup\":\"resnetrs101_CosFace_SGD\",\"line\":{\"color\":\"#636efa\",\"dash\":\"solid\"},\"marker\":{\"symbol\":\"circle\"},\"mode\":\"lines\",\"name\":\"resnetrs101_CosFace_SGD\",\"orientation\":\"v\",\"showlegend\":false,\"x\":[19,39,59,79,99],\"xaxis\":\"x2\",\"y\":[1.0466289558171533,1.0314773570898292,1.044079647362821,1.053343701399689,1.044512663085188],\"yaxis\":\"y2\",\"type\":\"scatter\"},{\"hovertemplate\":\"index=resnetrs101_CosFace_SGD<br>measurement=Rank<br>epoch=%{x}<br>Accuracy=%{y}<extra></extra>\",\"legendgroup\":\"resnetrs101_CosFace_SGD\",\"line\":{\"color\":\"#636efa\",\"dash\":\"solid\"},\"marker\":{\"symbol\":\"circle\"},\"mode\":\"lines\",\"name\":\"resnetrs101_CosFace_SGD\",\"orientation\":\"v\",\"showlegend\":false,\"x\":[19,39,59,79,99],\"xaxis\":\"x\",\"y\":[0.7102255393718384,0.7414628278129761,0.802612652776259,0.7197639888073953,0.6233246256552102],\"yaxis\":\"y\",\"type\":\"scatter\"},{\"hovertemplate\":\"index=inception_v4_CosFace_RMSProp<br>measurement=Accuracy<br>epoch=%{x}<br>Accuracy=%{y}<extra></extra>\",\"legendgroup\":\"inception_v4_CosFace_RMSProp\",\"line\":{\"color\":\"#EF553B\",\"dash\":\"solid\"},\"marker\":{\"symbol\":\"circle\"},\"mode\":\"lines\",\"name\":\"inception_v4_CosFace_RMSProp\",\"orientation\":\"v\",\"showlegend\":true,\"x\":[19,39,59,79,99],\"xaxis\":\"x3\",\"y\":[0.0021608171817705606,0.0015060240963855422,0.008643268727082242,0.0010476689366160294,0.0],\"yaxis\":\"y3\",\"type\":\"scatter\"},{\"hovertemplate\":\"index=inception_v4_CosFace_RMSProp<br>measurement=Disparity<br>epoch=%{x}<br>Accuracy=%{y}<extra></extra>\",\"legendgroup\":\"inception_v4_CosFace_RMSProp\",\"line\":{\"color\":\"#EF553B\",\"dash\":\"solid\"},\"marker\":{\"symbol\":\"circle\"},\"mode\":\"lines\",\"name\":\"inception_v4_CosFace_RMSProp\",\"orientation\":\"v\",\"showlegend\":false,\"x\":[19,39,59,79],\"xaxis\":\"x2\",\"y\":[0.65,0.9166666666666666,0.8857142857142857,0.7777777777777778],\"yaxis\":\"y2\",\"type\":\"scatter\"},{\"hovertemplate\":\"index=inception_v4_CosFace_RMSProp<br>measurement=Rank<br>epoch=%{x}<br>Accuracy=%{y}<extra></extra>\",\"legendgroup\":\"inception_v4_CosFace_RMSProp\",\"line\":{\"color\":\"#EF553B\",\"dash\":\"solid\"},\"marker\":{\"symbol\":\"circle\"},\"mode\":\"lines\",\"name\":\"inception_v4_CosFace_RMSProp\",\"orientation\":\"v\",\"showlegend\":false,\"x\":[19,39,59,79,99],\"xaxis\":\"x\",\"y\":[1.0099334706413403,0.9965887465634343,0.9933836237833401,0.675694034771142,1.0008910080545426],\"yaxis\":\"y\",\"type\":\"scatter\"},{\"hovertemplate\":\"index=fbnetv3_g_CosFace_AdamW<br>measurement=Accuracy<br>epoch=%{x}<br>Accuracy=%{y}<extra></extra>\",\"legendgroup\":\"fbnetv3_g_CosFace_AdamW\",\"line\":{\"color\":\"#00cc96\",\"dash\":\"solid\"},\"marker\":{\"symbol\":\"circle\"},\"mode\":\"lines\",\"name\":\"fbnetv3_g_CosFace_AdamW\",\"orientation\":\"v\",\"showlegend\":true,\"x\":[19,39,59,79,99],\"xaxis\":\"x3\",\"y\":[0.07589051859612363,0.1492928234677842,0.2976034573074908,0.3716605552645364,0.393661602933473],\"yaxis\":\"y3\",\"type\":\"scatter\"},{\"hovertemplate\":\"index=fbnetv3_g_CosFace_AdamW<br>measurement=Disparity<br>epoch=%{x}<br>Accuracy=%{y}<extra></extra>\",\"legendgroup\":\"fbnetv3_g_CosFace_AdamW\",\"line\":{\"color\":\"#00cc96\",\"dash\":\"solid\"},\"marker\":{\"symbol\":\"circle\"},\"mode\":\"lines\",\"name\":\"fbnetv3_g_CosFace_AdamW\",\"orientation\":\"v\",\"showlegend\":false,\"x\":[19,39,59,79,99],\"xaxis\":\"x2\",\"y\":[1.8902743142144638,1.695035460992908,1.5823863636363635,1.4391920928233777,1.3961737744121163],\"yaxis\":\"y2\",\"type\":\"scatter\"},{\"hovertemplate\":\"index=fbnetv3_g_CosFace_AdamW<br>measurement=Rank<br>epoch=%{x}<br>Accuracy=%{y}<extra></extra>\",\"legendgroup\":\"fbnetv3_g_CosFace_AdamW\",\"line\":{\"color\":\"#00cc96\",\"dash\":\"solid\"},\"marker\":{\"symbol\":\"circle\"},\"mode\":\"lines\",\"name\":\"fbnetv3_g_CosFace_AdamW\",\"orientation\":\"v\",\"showlegend\":false,\"x\":[19,39,59,79,99],\"xaxis\":\"x\",\"y\":[0.712826054183728,0.7691333268797278,0.69722721110506,0.6973184069505312,0.7127099188846995],\"yaxis\":\"y\",\"type\":\"scatter\"},{\"hovertemplate\":\"index=rexnet_200_CosFace_SGD<br>measurement=Accuracy<br>epoch=%{x}<br>Accuracy=%{y}<extra></extra>\",\"legendgroup\":\"rexnet_200_CosFace_SGD\",\"line\":{\"color\":\"#ab63fa\",\"dash\":\"solid\"},\"marker\":{\"symbol\":\"circle\"},\"mode\":\"lines\",\"name\":\"rexnet_200_CosFace_SGD\",\"orientation\":\"v\",\"showlegend\":true,\"x\":[19,39,59,79,99],\"xaxis\":\"x3\",\"y\":[0.9385804085908853,0.9548847564169722,0.9546228391828182,0.9554740701938188,0.9540335254059717],\"yaxis\":\"y3\",\"type\":\"scatter\"},{\"hovertemplate\":\"index=rexnet_200_CosFace_SGD<br>measurement=Disparity<br>epoch=%{x}<br>Accuracy=%{y}<extra></extra>\",\"legendgroup\":\"rexnet_200_CosFace_SGD\",\"line\":{\"color\":\"#ab63fa\",\"dash\":\"solid\"},\"marker\":{\"symbol\":\"circle\"},\"mode\":\"lines\",\"name\":\"rexnet_200_CosFace_SGD\",\"orientation\":\"v\",\"showlegend\":false,\"x\":[19,39,59,79,99],\"xaxis\":\"x2\",\"y\":[1.0297366185216652,1.020365752285952,1.0175754220869084,1.0246982100735396,1.0247359644246803],\"yaxis\":\"y2\",\"type\":\"scatter\"},{\"hovertemplate\":\"index=rexnet_200_CosFace_SGD<br>measurement=Rank<br>epoch=%{x}<br>Accuracy=%{y}<extra></extra>\",\"legendgroup\":\"rexnet_200_CosFace_SGD\",\"line\":{\"color\":\"#ab63fa\",\"dash\":\"solid\"},\"marker\":{\"symbol\":\"circle\"},\"mode\":\"lines\",\"name\":\"rexnet_200_CosFace_SGD\",\"orientation\":\"v\",\"showlegend\":false,\"x\":[19,39,59,79,99],\"xaxis\":\"x\",\"y\":[0.6889130516291103,0.5132426442392061,0.5868002250672076,0.6644620652369797,0.6805476743973201],\"yaxis\":\"y\",\"type\":\"scatter\"},{\"hovertemplate\":\"index=xception_CosFace_Adam<br>measurement=Accuracy<br>epoch=%{x}<br>Accuracy=%{y}<extra></extra>\",\"legendgroup\":\"xception_CosFace_Adam\",\"line\":{\"color\":\"#FFA15A\",\"dash\":\"solid\"},\"marker\":{\"symbol\":\"circle\"},\"mode\":\"lines\",\"name\":\"xception_CosFace_Adam\",\"orientation\":\"v\",\"showlegend\":true,\"x\":[19,39,59,79,99],\"xaxis\":\"x3\",\"y\":[0.001571503404924044,0.0022917757988475643,0.002881089575694081,0.0,0.002881089575694081],\"yaxis\":\"y3\",\"type\":\"scatter\"},{\"hovertemplate\":\"index=xception_CosFace_Adam<br>measurement=Disparity<br>epoch=%{x}<br>Accuracy=%{y}<extra></extra>\",\"legendgroup\":\"xception_CosFace_Adam\",\"line\":{\"color\":\"#FFA15A\",\"dash\":\"solid\"},\"marker\":{\"symbol\":\"circle\"},\"mode\":\"lines\",\"name\":\"xception_CosFace_Adam\",\"orientation\":\"v\",\"showlegend\":false,\"x\":[19,39,59,99],\"xaxis\":\"x2\",\"y\":[0.5,1.1875,0.6923076923076923,1.0952380952380953],\"yaxis\":\"y2\",\"type\":\"scatter\"},{\"hovertemplate\":\"index=xception_CosFace_Adam<br>measurement=Rank<br>epoch=%{x}<br>Accuracy=%{y}<extra></extra>\",\"legendgroup\":\"xception_CosFace_Adam\",\"line\":{\"color\":\"#FFA15A\",\"dash\":\"solid\"},\"marker\":{\"symbol\":\"circle\"},\"mode\":\"lines\",\"name\":\"xception_CosFace_Adam\",\"orientation\":\"v\",\"showlegend\":false,\"x\":[19,39,59,79,99],\"xaxis\":\"x\",\"y\":[1.0350440502381992,0.9871946076842537,1.0194844538982537,1.0,0.9967683246798287],\"yaxis\":\"y\",\"type\":\"scatter\"},{\"hovertemplate\":\"index=vgg19_CosFace_SGD<br>measurement=Accuracy<br>epoch=%{x}<br>Accuracy=%{y}<extra></extra>\",\"legendgroup\":\"vgg19_CosFace_SGD\",\"line\":{\"color\":\"#19d3f3\",\"dash\":\"solid\"},\"marker\":{\"symbol\":\"circle\"},\"mode\":\"lines\",\"name\":\"vgg19_CosFace_SGD\",\"orientation\":\"v\",\"showlegend\":true,\"x\":[19,39,59,79,99],\"xaxis\":\"x3\",\"y\":[0.7284573074908329,0.7822158198009429,0.752357255107386,0.7017417496071241,0.6573467784180199],\"yaxis\":\"y3\",\"type\":\"scatter\"},{\"hovertemplate\":\"index=vgg19_CosFace_SGD<br>measurement=Disparity<br>epoch=%{x}<br>Accuracy=%{y}<extra></extra>\",\"legendgroup\":\"vgg19_CosFace_SGD\",\"line\":{\"color\":\"#19d3f3\",\"dash\":\"solid\"},\"marker\":{\"symbol\":\"circle\"},\"mode\":\"lines\",\"name\":\"vgg19_CosFace_SGD\",\"orientation\":\"v\",\"showlegend\":false,\"x\":[19,39,59,79,99],\"xaxis\":\"x2\",\"y\":[1.1560077519379846,1.0902887139107613,1.1059384164222874,1.1357114388202472,1.1861933797909407],\"yaxis\":\"y2\",\"type\":\"scatter\"},{\"hovertemplate\":\"index=vgg19_CosFace_SGD<br>measurement=Rank<br>epoch=%{x}<br>Accuracy=%{y}<extra></extra>\",\"legendgroup\":\"vgg19_CosFace_SGD\",\"line\":{\"color\":\"#19d3f3\",\"dash\":\"solid\"},\"marker\":{\"symbol\":\"circle\"},\"mode\":\"lines\",\"name\":\"vgg19_CosFace_SGD\",\"orientation\":\"v\",\"showlegend\":false,\"x\":[19,39,59,79,99],\"xaxis\":\"x\",\"y\":[0.8001096840392032,0.7081609833198815,0.7480959348868506,0.6991927489024218,0.6010888401193458],\"yaxis\":\"y\",\"type\":\"scatter\"},{\"hovertemplate\":\"index=legacy_senet154_CosFace_SGD<br>measurement=Accuracy<br>epoch=%{x}<br>Accuracy=%{y}<extra></extra>\",\"legendgroup\":\"legacy_senet154_CosFace_SGD\",\"line\":{\"color\":\"#FF6692\",\"dash\":\"solid\"},\"marker\":{\"symbol\":\"circle\"},\"mode\":\"lines\",\"name\":\"legacy_senet154_CosFace_SGD\",\"orientation\":\"v\",\"showlegend\":true,\"x\":[19,39,59,79,99],\"xaxis\":\"x3\",\"y\":[0.8789287585123101,0.838855421686747,0.8106993190151912,0.8160686223153484,0.8013357778941854],\"yaxis\":\"y3\",\"type\":\"scatter\"},{\"hovertemplate\":\"index=legacy_senet154_CosFace_SGD<br>measurement=Disparity<br>epoch=%{x}<br>Accuracy=%{y}<extra></extra>\",\"legendgroup\":\"legacy_senet154_CosFace_SGD\",\"line\":{\"color\":\"#FF6692\",\"dash\":\"solid\"},\"marker\":{\"symbol\":\"circle\"},\"mode\":\"lines\",\"name\":\"legacy_senet154_CosFace_SGD\",\"orientation\":\"v\",\"showlegend\":false,\"x\":[19,39,59,79,99],\"xaxis\":\"x2\",\"y\":[1.0524464831804283,1.0563402889245586,1.070747616658304,1.087604690117253,1.086615515771526],\"yaxis\":\"y2\",\"type\":\"scatter\"},{\"hovertemplate\":\"index=legacy_senet154_CosFace_SGD<br>measurement=Rank<br>epoch=%{x}<br>Accuracy=%{y}<extra></extra>\",\"legendgroup\":\"legacy_senet154_CosFace_SGD\",\"line\":{\"color\":\"#FF6692\",\"dash\":\"solid\"},\"marker\":{\"symbol\":\"circle\"},\"mode\":\"lines\",\"name\":\"legacy_senet154_CosFace_SGD\",\"orientation\":\"v\",\"showlegend\":false,\"x\":[19,39,59,79,99],\"xaxis\":\"x\",\"y\":[0.7274575032543411,0.6978067487203273,0.7978616211374833,0.7452442354368932,0.7540442741592167],\"yaxis\":\"y\",\"type\":\"scatter\"},{\"hovertemplate\":\"index=inception_resnet_v2_CosFace_RMSProp<br>measurement=Accuracy<br>epoch=%{x}<br>Accuracy=%{y}<extra></extra>\",\"legendgroup\":\"inception_resnet_v2_CosFace_RMSProp\",\"line\":{\"color\":\"#B6E880\",\"dash\":\"solid\"},\"marker\":{\"symbol\":\"circle\"},\"mode\":\"lines\",\"name\":\"inception_resnet_v2_CosFace_RMSProp\",\"orientation\":\"v\",\"showlegend\":true,\"x\":[19,39,59,79,99],\"xaxis\":\"x3\",\"y\":[0.0,0.0,0.0214117338920901,0.0,0.0],\"yaxis\":\"y3\",\"type\":\"scatter\"},{\"hovertemplate\":\"index=inception_resnet_v2_CosFace_RMSProp<br>measurement=Disparity<br>epoch=%{x}<br>Accuracy=%{y}<extra></extra>\",\"legendgroup\":\"inception_resnet_v2_CosFace_RMSProp\",\"line\":{\"color\":\"#B6E880\",\"dash\":\"solid\"},\"marker\":{\"symbol\":\"circle\"},\"mode\":\"lines\",\"name\":\"inception_resnet_v2_CosFace_RMSProp\",\"orientation\":\"v\",\"showlegend\":false,\"x\":[59],\"xaxis\":\"x2\",\"y\":[1.4772727272727273],\"yaxis\":\"y2\",\"type\":\"scatter\"},{\"hovertemplate\":\"index=inception_resnet_v2_CosFace_RMSProp<br>measurement=Rank<br>epoch=%{x}<br>Accuracy=%{y}<extra></extra>\",\"legendgroup\":\"inception_resnet_v2_CosFace_RMSProp\",\"line\":{\"color\":\"#B6E880\",\"dash\":\"solid\"},\"marker\":{\"symbol\":\"circle\"},\"mode\":\"lines\",\"name\":\"inception_resnet_v2_CosFace_RMSProp\",\"orientation\":\"v\",\"showlegend\":false,\"x\":[19,39,59,79,99],\"xaxis\":\"x\",\"y\":[1.0,1.0,0.9739480412622242,1.0,0.920561549521895],\"yaxis\":\"y\",\"type\":\"scatter\"},{\"hovertemplate\":\"index=fbnetv3_g_CosFace_Adam<br>measurement=Accuracy<br>epoch=%{x}<br>Accuracy=%{y}<extra></extra>\",\"legendgroup\":\"fbnetv3_g_CosFace_Adam\",\"line\":{\"color\":\"#FF97FF\",\"dash\":\"solid\"},\"marker\":{\"symbol\":\"circle\"},\"mode\":\"lines\",\"name\":\"fbnetv3_g_CosFace_Adam\",\"orientation\":\"v\",\"showlegend\":true,\"x\":[19,39,59,79,99],\"xaxis\":\"x3\",\"y\":[0.0,0.0,0.0,0.002881089575694081,0.0021608171817705606],\"yaxis\":\"y3\",\"type\":\"scatter\"},{\"hovertemplate\":\"index=fbnetv3_g_CosFace_Adam<br>measurement=Disparity<br>epoch=%{x}<br>Accuracy=%{y}<extra></extra>\",\"legendgroup\":\"fbnetv3_g_CosFace_Adam\",\"line\":{\"color\":\"#FF97FF\",\"dash\":\"solid\"},\"marker\":{\"symbol\":\"circle\"},\"mode\":\"lines\",\"name\":\"fbnetv3_g_CosFace_Adam\",\"orientation\":\"v\",\"showlegend\":false,\"x\":[79,99],\"xaxis\":\"x2\",\"y\":[1.3157894736842106,1.0625],\"yaxis\":\"y2\",\"type\":\"scatter\"},{\"hovertemplate\":\"index=fbnetv3_g_CosFace_Adam<br>measurement=Rank<br>epoch=%{x}<br>Accuracy=%{y}<extra></extra>\",\"legendgroup\":\"fbnetv3_g_CosFace_Adam\",\"line\":{\"color\":\"#FF97FF\",\"dash\":\"solid\"},\"marker\":{\"symbol\":\"circle\"},\"mode\":\"lines\",\"name\":\"fbnetv3_g_CosFace_Adam\",\"orientation\":\"v\",\"showlegend\":false,\"x\":[19,39,59,79,99],\"xaxis\":\"x\",\"y\":[1.0,1.0,1.0,1.019513422252237,1.120722881814532],\"yaxis\":\"y\",\"type\":\"scatter\"},{\"hovertemplate\":\"index=ese_vovnet39b_CosFace_AdamW<br>measurement=Accuracy<br>epoch=%{x}<br>Accuracy=%{y}<extra></extra>\",\"legendgroup\":\"ese_vovnet39b_CosFace_AdamW\",\"line\":{\"color\":\"#FECB52\",\"dash\":\"solid\"},\"marker\":{\"symbol\":\"circle\"},\"mode\":\"lines\",\"name\":\"ese_vovnet39b_CosFace_AdamW\",\"orientation\":\"v\",\"showlegend\":true,\"x\":[19,39,59,79,99],\"xaxis\":\"x3\",\"y\":[0.3077527501309586,0.40629910948140385,0.4253535882661079,0.47027239392352016,0.5072682032477737],\"yaxis\":\"y3\",\"type\":\"scatter\"},{\"hovertemplate\":\"index=ese_vovnet39b_CosFace_AdamW<br>measurement=Disparity<br>epoch=%{x}<br>Accuracy=%{y}<extra></extra>\",\"legendgroup\":\"ese_vovnet39b_CosFace_AdamW\",\"line\":{\"color\":\"#FECB52\",\"dash\":\"solid\"},\"marker\":{\"symbol\":\"circle\"},\"mode\":\"lines\",\"name\":\"ese_vovnet39b_CosFace_AdamW\",\"orientation\":\"v\",\"showlegend\":false,\"x\":[19,39,59,79,99],\"xaxis\":\"x2\",\"y\":[1.4377593360995853,1.3856209150326797,1.287323943661972,1.28072403937758,1.2267893072722045],\"yaxis\":\"y2\",\"type\":\"scatter\"},{\"hovertemplate\":\"index=ese_vovnet39b_CosFace_AdamW<br>measurement=Rank<br>epoch=%{x}<br>Accuracy=%{y}<extra></extra>\",\"legendgroup\":\"ese_vovnet39b_CosFace_AdamW\",\"line\":{\"color\":\"#FECB52\",\"dash\":\"solid\"},\"marker\":{\"symbol\":\"circle\"},\"mode\":\"lines\",\"name\":\"ese_vovnet39b_CosFace_AdamW\",\"orientation\":\"v\",\"showlegend\":false,\"x\":[19,39,59,79,99],\"xaxis\":\"x\",\"y\":[0.580102309927077,0.6631091842695939,0.6681340604222192,0.6400638933736389,0.7058626228445144],\"yaxis\":\"y\",\"type\":\"scatter\"},{\"hovertemplate\":\"index=ese_vovnet39b_CosFace_Adam<br>measurement=Accuracy<br>epoch=%{x}<br>Accuracy=%{y}<extra></extra>\",\"legendgroup\":\"ese_vovnet39b_CosFace_Adam\",\"line\":{\"color\":\"#636efa\",\"dash\":\"solid\"},\"marker\":{\"symbol\":\"circle\"},\"mode\":\"lines\",\"name\":\"ese_vovnet39b_CosFace_Adam\",\"orientation\":\"v\",\"showlegend\":true,\"x\":[19,39,59,79,99],\"xaxis\":\"x3\",\"y\":[0.10280251440544788,0.022917757988475642,0.010542168674698794,0.013685175484546883,0.015322158198009429],\"yaxis\":\"y3\",\"type\":\"scatter\"},{\"hovertemplate\":\"index=ese_vovnet39b_CosFace_Adam<br>measurement=Disparity<br>epoch=%{x}<br>Accuracy=%{y}<extra></extra>\",\"legendgroup\":\"ese_vovnet39b_CosFace_Adam\",\"line\":{\"color\":\"#636efa\",\"dash\":\"solid\"},\"marker\":{\"symbol\":\"circle\"},\"mode\":\"lines\",\"name\":\"ese_vovnet39b_CosFace_Adam\",\"orientation\":\"v\",\"showlegend\":false,\"x\":[19,39,59,79,99],\"xaxis\":\"x2\",\"y\":[1.3190546528803544,1.3026315789473684,3.2368421052631575,1.863013698630137,2.038961038961039],\"yaxis\":\"y2\",\"type\":\"scatter\"},{\"hovertemplate\":\"index=ese_vovnet39b_CosFace_Adam<br>measurement=Rank<br>epoch=%{x}<br>Accuracy=%{y}<extra></extra>\",\"legendgroup\":\"ese_vovnet39b_CosFace_Adam\",\"line\":{\"color\":\"#636efa\",\"dash\":\"solid\"},\"marker\":{\"symbol\":\"circle\"},\"mode\":\"lines\",\"name\":\"ese_vovnet39b_CosFace_Adam\",\"orientation\":\"v\",\"showlegend\":false,\"x\":[19,39,59,79,99],\"xaxis\":\"x\",\"y\":[0.7704444327456488,0.8429298555942338,0.8381224948167209,0.7697728930840314,0.7917461327777529],\"yaxis\":\"y\",\"type\":\"scatter\"},{\"hovertemplate\":\"index=vgg19_bn_CosFace_SGD<br>measurement=Accuracy<br>epoch=%{x}<br>Accuracy=%{y}<extra></extra>\",\"legendgroup\":\"vgg19_bn_CosFace_SGD\",\"line\":{\"color\":\"#EF553B\",\"dash\":\"solid\"},\"marker\":{\"symbol\":\"circle\"},\"mode\":\"lines\",\"name\":\"vgg19_bn_CosFace_SGD\",\"orientation\":\"v\",\"showlegend\":true,\"x\":[19,39,59,79,99],\"xaxis\":\"x3\",\"y\":[0.7797930853850183,0.7886327920377161,0.7443687794656888,0.6929020429544264,0.6531561026715558],\"yaxis\":\"y3\",\"type\":\"scatter\"},{\"hovertemplate\":\"index=vgg19_bn_CosFace_SGD<br>measurement=Disparity<br>epoch=%{x}<br>Accuracy=%{y}<extra></extra>\",\"legendgroup\":\"vgg19_bn_CosFace_SGD\",\"line\":{\"color\":\"#EF553B\",\"dash\":\"solid\"},\"marker\":{\"symbol\":\"circle\"},\"mode\":\"lines\",\"name\":\"vgg19_bn_CosFace_SGD\",\"orientation\":\"v\",\"showlegend\":false,\"x\":[19,39,59,79,99],\"xaxis\":\"x2\",\"y\":[1.0867355878745402,1.0665751544269044,1.0839596700274976,1.122342559165664,1.1273192578374922],\"yaxis\":\"y2\",\"type\":\"scatter\"},{\"hovertemplate\":\"index=vgg19_bn_CosFace_SGD<br>measurement=Rank<br>epoch=%{x}<br>Accuracy=%{y}<extra></extra>\",\"legendgroup\":\"vgg19_bn_CosFace_SGD\",\"line\":{\"color\":\"#EF553B\",\"dash\":\"solid\"},\"marker\":{\"symbol\":\"circle\"},\"mode\":\"lines\",\"name\":\"vgg19_bn_CosFace_SGD\",\"orientation\":\"v\",\"showlegend\":false,\"x\":[19,39,59,79,99],\"xaxis\":\"x\",\"y\":[0.7123781733823283,0.8952234696038975,0.8012290651836929,0.8900758024449379,0.8404297384383703],\"yaxis\":\"y\",\"type\":\"scatter\"},{\"hovertemplate\":\"index=visformer_small_CosFace_AdamW<br>measurement=Accuracy<br>epoch=%{x}<br>Accuracy=%{y}<extra></extra>\",\"legendgroup\":\"visformer_small_CosFace_AdamW\",\"line\":{\"color\":\"#00cc96\",\"dash\":\"solid\"},\"marker\":{\"symbol\":\"circle\"},\"mode\":\"lines\",\"name\":\"visformer_small_CosFace_AdamW\",\"orientation\":\"v\",\"showlegend\":true,\"x\":[19,39,59,79,99],\"xaxis\":\"x3\",\"y\":[0.014470927187008905,0.004452592980618125,0.007988475641697223,0.03594814038763751,0.03725772655840754],\"yaxis\":\"y3\",\"type\":\"scatter\"},{\"hovertemplate\":\"index=visformer_small_CosFace_AdamW<br>measurement=Disparity<br>epoch=%{x}<br>Accuracy=%{y}<extra></extra>\",\"legendgroup\":\"visformer_small_CosFace_AdamW\",\"line\":{\"color\":\"#00cc96\",\"dash\":\"solid\"},\"marker\":{\"symbol\":\"circle\"},\"mode\":\"lines\",\"name\":\"visformer_small_CosFace_AdamW\",\"orientation\":\"v\",\"showlegend\":false,\"x\":[19,39,59,79,99],\"xaxis\":\"x2\",\"y\":[1.4555555555555555,1.2666666666666666,0.967741935483871,1.2226720647773281,1.1553030303030303],\"yaxis\":\"y2\",\"type\":\"scatter\"},{\"hovertemplate\":\"index=visformer_small_CosFace_AdamW<br>measurement=Rank<br>epoch=%{x}<br>Accuracy=%{y}<extra></extra>\",\"legendgroup\":\"visformer_small_CosFace_AdamW\",\"line\":{\"color\":\"#00cc96\",\"dash\":\"solid\"},\"marker\":{\"symbol\":\"circle\"},\"mode\":\"lines\",\"name\":\"visformer_small_CosFace_AdamW\",\"orientation\":\"v\",\"showlegend\":false,\"x\":[19,39,59,79,99],\"xaxis\":\"x\",\"y\":[1.0653685369649937,1.0189248335848853,1.0851138617107419,0.8641701936108398,0.8707918722989848],\"yaxis\":\"y\",\"type\":\"scatter\"},{\"hovertemplate\":\"index=tnt_s_patch16_224_CosFace_AdamW<br>measurement=Accuracy<br>epoch=%{x}<br>Accuracy=%{y}<extra></extra>\",\"legendgroup\":\"tnt_s_patch16_224_CosFace_AdamW\",\"line\":{\"color\":\"#ab63fa\",\"dash\":\"solid\"},\"marker\":{\"symbol\":\"circle\"},\"mode\":\"lines\",\"name\":\"tnt_s_patch16_224_CosFace_AdamW\",\"orientation\":\"v\",\"showlegend\":true,\"x\":[19,39,59,79,99],\"xaxis\":\"x3\",\"y\":[0.6497511786275537,0.9019119958093242,0.9374017810371923,0.945848611838659,0.9484023048716606],\"yaxis\":\"y3\",\"type\":\"scatter\"},{\"hovertemplate\":\"index=tnt_s_patch16_224_CosFace_AdamW<br>measurement=Disparity<br>epoch=%{x}<br>Accuracy=%{y}<extra></extra>\",\"legendgroup\":\"tnt_s_patch16_224_CosFace_AdamW\",\"line\":{\"color\":\"#ab63fa\",\"dash\":\"solid\"},\"marker\":{\"symbol\":\"circle\"},\"mode\":\"lines\",\"name\":\"tnt_s_patch16_224_CosFace_AdamW\",\"orientation\":\"v\",\"showlegend\":false,\"x\":[19,39,59,79,99],\"xaxis\":\"x2\",\"y\":[1.1997339835956549,1.0625935908954778,1.0384451089278086,1.033934103069558,1.0348412475414441],\"yaxis\":\"y2\",\"type\":\"scatter\"},{\"hovertemplate\":\"index=tnt_s_patch16_224_CosFace_AdamW<br>measurement=Rank<br>epoch=%{x}<br>Accuracy=%{y}<extra></extra>\",\"legendgroup\":\"tnt_s_patch16_224_CosFace_AdamW\",\"line\":{\"color\":\"#ab63fa\",\"dash\":\"solid\"},\"marker\":{\"symbol\":\"circle\"},\"mode\":\"lines\",\"name\":\"tnt_s_patch16_224_CosFace_AdamW\",\"orientation\":\"v\",\"showlegend\":false,\"x\":[19,39,59,79,99],\"xaxis\":\"x\",\"y\":[0.7411406600448573,0.9746978393765459,0.6712220673908299,0.650067990890055,0.5980971951426699],\"yaxis\":\"y\",\"type\":\"scatter\"},{\"hovertemplate\":\"index=selecsls60b_CosFace_AdamW<br>measurement=Accuracy<br>epoch=%{x}<br>Accuracy=%{y}<extra></extra>\",\"legendgroup\":\"selecsls60b_CosFace_AdamW\",\"line\":{\"color\":\"#FFA15A\",\"dash\":\"solid\"},\"marker\":{\"symbol\":\"circle\"},\"mode\":\"lines\",\"name\":\"selecsls60b_CosFace_AdamW\",\"orientation\":\"v\",\"showlegend\":true,\"x\":[19,39,59,79,99],\"xaxis\":\"x3\",\"y\":[0.07117600838135149,0.14759036144578314,0.1714248297537978,0.21346254583551597,0.2215819800942902],\"yaxis\":\"y3\",\"type\":\"scatter\"},{\"hovertemplate\":\"index=selecsls60b_CosFace_AdamW<br>measurement=Disparity<br>epoch=%{x}<br>Accuracy=%{y}<extra></extra>\",\"legendgroup\":\"selecsls60b_CosFace_AdamW\",\"line\":{\"color\":\"#FFA15A\",\"dash\":\"solid\"},\"marker\":{\"symbol\":\"circle\"},\"mode\":\"lines\",\"name\":\"selecsls60b_CosFace_AdamW\",\"orientation\":\"v\",\"showlegend\":false,\"x\":[19,39,59,79,99],\"xaxis\":\"x2\",\"y\":[1.5636792452830188,1.5937859608745684,1.5294685990338166,1.531055900621118,1.5753424657534245],\"yaxis\":\"y2\",\"type\":\"scatter\"},{\"hovertemplate\":\"index=selecsls60b_CosFace_AdamW<br>measurement=Rank<br>epoch=%{x}<br>Accuracy=%{y}<extra></extra>\",\"legendgroup\":\"selecsls60b_CosFace_AdamW\",\"line\":{\"color\":\"#FFA15A\",\"dash\":\"solid\"},\"marker\":{\"symbol\":\"circle\"},\"mode\":\"lines\",\"name\":\"selecsls60b_CosFace_AdamW\",\"orientation\":\"v\",\"showlegend\":false,\"x\":[19,39,59,79,99],\"xaxis\":\"x\",\"y\":[0.6646618065092816,0.6299368235858613,0.6202314406197901,0.6081744122285749,0.6061775278079168],\"yaxis\":\"y\",\"type\":\"scatter\"},{\"hovertemplate\":\"index=gluon_inception_v3_CosFace_Adam<br>measurement=Accuracy<br>epoch=%{x}<br>Accuracy=%{y}<extra></extra>\",\"legendgroup\":\"gluon_inception_v3_CosFace_Adam\",\"line\":{\"color\":\"#19d3f3\",\"dash\":\"solid\"},\"marker\":{\"symbol\":\"circle\"},\"mode\":\"lines\",\"name\":\"gluon_inception_v3_CosFace_Adam\",\"orientation\":\"v\",\"showlegend\":true,\"x\":[19,39,59,79,99],\"xaxis\":\"x3\",\"y\":[0.0026191723415400735,0.02357255107386066,0.0022917757988475643,0.004583551597695129,0.004059717129387114],\"yaxis\":\"y3\",\"type\":\"scatter\"},{\"hovertemplate\":\"index=gluon_inception_v3_CosFace_Adam<br>measurement=Disparity<br>epoch=%{x}<br>Accuracy=%{y}<extra></extra>\",\"legendgroup\":\"gluon_inception_v3_CosFace_Adam\",\"line\":{\"color\":\"#19d3f3\",\"dash\":\"solid\"},\"marker\":{\"symbol\":\"circle\"},\"mode\":\"lines\",\"name\":\"gluon_inception_v3_CosFace_Adam\",\"orientation\":\"v\",\"showlegend\":false,\"x\":[19,39,59,79,99],\"xaxis\":\"x2\",\"y\":[1.0,1.7272727272727273,0.9444444444444444,0.6666666666666666,0.631578947368421],\"yaxis\":\"y2\",\"type\":\"scatter\"},{\"hovertemplate\":\"index=gluon_inception_v3_CosFace_Adam<br>measurement=Rank<br>epoch=%{x}<br>Accuracy=%{y}<extra></extra>\",\"legendgroup\":\"gluon_inception_v3_CosFace_Adam\",\"line\":{\"color\":\"#19d3f3\",\"dash\":\"solid\"},\"marker\":{\"symbol\":\"circle\"},\"mode\":\"lines\",\"name\":\"gluon_inception_v3_CosFace_Adam\",\"orientation\":\"v\",\"showlegend\":false,\"x\":[19,39,59,79,99],\"xaxis\":\"x\",\"y\":[0.9761246418729386,0.9153781732966124,0.9950647746266343,1.0575716985671317,1.0984516672860563],\"yaxis\":\"y\",\"type\":\"scatter\"},{\"hovertemplate\":\"index=ig_resnext101_32x8d_CosFace_SGD<br>measurement=Accuracy<br>epoch=%{x}<br>Accuracy=%{y}<extra></extra>\",\"legendgroup\":\"ig_resnext101_32x8d_CosFace_SGD\",\"line\":{\"color\":\"#FF6692\",\"dash\":\"solid\"},\"marker\":{\"symbol\":\"circle\"},\"mode\":\"lines\",\"name\":\"ig_resnext101_32x8d_CosFace_SGD\",\"orientation\":\"v\",\"showlegend\":true,\"x\":[19,39,59,79,99],\"xaxis\":\"x3\",\"y\":[0.8445521215295967,0.7943294918805658,0.7922341540073337,0.7926270298585647,0.8302776322682033],\"yaxis\":\"y3\",\"type\":\"scatter\"},{\"hovertemplate\":\"index=ig_resnext101_32x8d_CosFace_SGD<br>measurement=Disparity<br>epoch=%{x}<br>Accuracy=%{y}<extra></extra>\",\"legendgroup\":\"ig_resnext101_32x8d_CosFace_SGD\",\"line\":{\"color\":\"#FF6692\",\"dash\":\"solid\"},\"marker\":{\"symbol\":\"circle\"},\"mode\":\"lines\",\"name\":\"ig_resnext101_32x8d_CosFace_SGD\",\"orientation\":\"v\",\"showlegend\":false,\"x\":[19,39,59,79,99],\"xaxis\":\"x2\",\"y\":[1.0706373414673303,1.0929951690821256,1.079223234232686,1.0921189077082614,1.0561050754013297],\"yaxis\":\"y2\",\"type\":\"scatter\"},{\"hovertemplate\":\"index=ig_resnext101_32x8d_CosFace_SGD<br>measurement=Rank<br>epoch=%{x}<br>Accuracy=%{y}<extra></extra>\",\"legendgroup\":\"ig_resnext101_32x8d_CosFace_SGD\",\"line\":{\"color\":\"#FF6692\",\"dash\":\"solid\"},\"marker\":{\"symbol\":\"circle\"},\"mode\":\"lines\",\"name\":\"ig_resnext101_32x8d_CosFace_SGD\",\"orientation\":\"v\",\"showlegend\":false,\"x\":[19,39,59,79,99],\"xaxis\":\"x\",\"y\":[0.7469251687533647,0.750760469837399,0.6777311567792718,0.6394539043579738,0.6493635437881874],\"yaxis\":\"y\",\"type\":\"scatter\"},{\"hovertemplate\":\"index=gluon_xception65_CosFace_Adam<br>measurement=Accuracy<br>epoch=%{x}<br>Accuracy=%{y}<extra></extra>\",\"legendgroup\":\"gluon_xception65_CosFace_Adam\",\"line\":{\"color\":\"#B6E880\",\"dash\":\"solid\"},\"marker\":{\"symbol\":\"circle\"},\"mode\":\"lines\",\"name\":\"gluon_xception65_CosFace_Adam\",\"orientation\":\"v\",\"showlegend\":true,\"x\":[19,39,59,79,99],\"xaxis\":\"x3\",\"y\":[0.0,0.008512310110005238,0.0013095861707700367,0.0,0.0],\"yaxis\":\"y3\",\"type\":\"scatter\"},{\"hovertemplate\":\"index=gluon_xception65_CosFace_Adam<br>measurement=Disparity<br>epoch=%{x}<br>Accuracy=%{y}<extra></extra>\",\"legendgroup\":\"gluon_xception65_CosFace_Adam\",\"line\":{\"color\":\"#B6E880\",\"dash\":\"solid\"},\"marker\":{\"symbol\":\"circle\"},\"mode\":\"lines\",\"name\":\"gluon_xception65_CosFace_Adam\",\"orientation\":\"v\",\"showlegend\":false,\"x\":[39,59],\"xaxis\":\"x2\",\"y\":[1.1666666666666667,1.5],\"yaxis\":\"y2\",\"type\":\"scatter\"},{\"hovertemplate\":\"index=gluon_xception65_CosFace_Adam<br>measurement=Rank<br>epoch=%{x}<br>Accuracy=%{y}<extra></extra>\",\"legendgroup\":\"gluon_xception65_CosFace_Adam\",\"line\":{\"color\":\"#B6E880\",\"dash\":\"solid\"},\"marker\":{\"symbol\":\"circle\"},\"mode\":\"lines\",\"name\":\"gluon_xception65_CosFace_Adam\",\"orientation\":\"v\",\"showlegend\":false,\"x\":[19,39,59,79,99],\"xaxis\":\"x\",\"y\":[0.7390890102335739,1.0200436974493783,1.030759071420852,1.0,1.0],\"yaxis\":\"y\",\"type\":\"scatter\"},{\"hovertemplate\":\"index=gluon_xception65_CosFace_AdamW<br>measurement=Accuracy<br>epoch=%{x}<br>Accuracy=%{y}<extra></extra>\",\"legendgroup\":\"gluon_xception65_CosFace_AdamW\",\"line\":{\"color\":\"#FF97FF\",\"dash\":\"solid\"},\"marker\":{\"symbol\":\"circle\"},\"mode\":\"lines\",\"name\":\"gluon_xception65_CosFace_AdamW\",\"orientation\":\"v\",\"showlegend\":true,\"x\":[19,39,59,79,99],\"xaxis\":\"x3\",\"y\":[0.32228915662650603,0.36380303823991617,0.3968700890518596,0.3860660031430068,0.392613933996857],\"yaxis\":\"y3\",\"type\":\"scatter\"},{\"hovertemplate\":\"index=gluon_xception65_CosFace_AdamW<br>measurement=Disparity<br>epoch=%{x}<br>Accuracy=%{y}<extra></extra>\",\"legendgroup\":\"gluon_xception65_CosFace_AdamW\",\"line\":{\"color\":\"#FF97FF\",\"dash\":\"solid\"},\"marker\":{\"symbol\":\"circle\"},\"mode\":\"lines\",\"name\":\"gluon_xception65_CosFace_AdamW\",\"orientation\":\"v\",\"showlegend\":false,\"x\":[19,39,59,79,99],\"xaxis\":\"x2\",\"y\":[1.6619794483504597,1.6775903614457832,1.4185953711093375,1.2521008403361344,1.2789813759026987],\"yaxis\":\"y2\",\"type\":\"scatter\"},{\"hovertemplate\":\"index=gluon_xception65_CosFace_AdamW<br>measurement=Rank<br>epoch=%{x}<br>Accuracy=%{y}<extra></extra>\",\"legendgroup\":\"gluon_xception65_CosFace_AdamW\",\"line\":{\"color\":\"#FF97FF\",\"dash\":\"solid\"},\"marker\":{\"symbol\":\"circle\"},\"mode\":\"lines\",\"name\":\"gluon_xception65_CosFace_AdamW\",\"orientation\":\"v\",\"showlegend\":false,\"x\":[19,39,59,79,99],\"xaxis\":\"x\",\"y\":[0.5835305405718979,0.5687134982072746,0.6373465853324223,0.8794763307995999,0.8125368965486859],\"yaxis\":\"y\",\"type\":\"scatter\"},{\"hovertemplate\":\"index=gluon_inception_v3_CosFace_AdamW<br>measurement=Accuracy<br>epoch=%{x}<br>Accuracy=%{y}<extra></extra>\",\"legendgroup\":\"gluon_inception_v3_CosFace_AdamW\",\"line\":{\"color\":\"#FECB52\",\"dash\":\"solid\"},\"marker\":{\"symbol\":\"circle\"},\"mode\":\"lines\",\"name\":\"gluon_inception_v3_CosFace_AdamW\",\"orientation\":\"v\",\"showlegend\":true,\"x\":[19,39,59,79,99],\"xaxis\":\"x3\",\"y\":[0.15407281299109482,0.17640125720272393,0.28843635411210056,0.4026977475117863,0.45213462545835514],\"yaxis\":\"y3\",\"type\":\"scatter\"},{\"hovertemplate\":\"index=gluon_inception_v3_CosFace_AdamW<br>measurement=Disparity<br>epoch=%{x}<br>Accuracy=%{y}<extra></extra>\",\"legendgroup\":\"gluon_inception_v3_CosFace_AdamW\",\"line\":{\"color\":\"#FECB52\",\"dash\":\"solid\"},\"marker\":{\"symbol\":\"circle\"},\"mode\":\"lines\",\"name\":\"gluon_inception_v3_CosFace_AdamW\",\"orientation\":\"v\",\"showlegend\":false,\"x\":[19,39,59,79,99],\"xaxis\":\"x2\",\"y\":[1.552060737527115,1.4944444444444445,1.5433025404157044,1.3781902552204177,1.3631074606433948],\"yaxis\":\"y2\",\"type\":\"scatter\"},{\"hovertemplate\":\"index=gluon_inception_v3_CosFace_AdamW<br>measurement=Rank<br>epoch=%{x}<br>Accuracy=%{y}<extra></extra>\",\"legendgroup\":\"gluon_inception_v3_CosFace_AdamW\",\"line\":{\"color\":\"#FECB52\",\"dash\":\"solid\"},\"marker\":{\"symbol\":\"circle\"},\"mode\":\"lines\",\"name\":\"gluon_inception_v3_CosFace_AdamW\",\"orientation\":\"v\",\"showlegend\":false,\"x\":[19,39,59,79,99],\"xaxis\":\"x\",\"y\":[0.6482575914505555,0.683284574468085,0.6262700931708816,0.6946525362499012,0.6721212554781759],\"yaxis\":\"y\",\"type\":\"scatter\"},{\"hovertemplate\":\"index=mobilenetv3_large_100_CosFace_RMSpropTF<br>measurement=Accuracy<br>epoch=%{x}<br>Accuracy=%{y}<extra></extra>\",\"legendgroup\":\"mobilenetv3_large_100_CosFace_RMSpropTF\",\"line\":{\"color\":\"#636efa\",\"dash\":\"solid\"},\"marker\":{\"symbol\":\"circle\"},\"mode\":\"lines\",\"name\":\"mobilenetv3_large_100_CosFace_RMSpropTF\",\"orientation\":\"v\",\"showlegend\":true,\"x\":[19,39,59,79,99],\"xaxis\":\"x3\",\"y\":[0.05120481927710843,0.4425746464117339,0.7570717653221583,0.8088658983761131,0.7875196437925616],\"yaxis\":\"y3\",\"type\":\"scatter\"},{\"hovertemplate\":\"index=mobilenetv3_large_100_CosFace_RMSpropTF<br>measurement=Disparity<br>epoch=%{x}<br>Accuracy=%{y}<extra></extra>\",\"legendgroup\":\"mobilenetv3_large_100_CosFace_RMSpropTF\",\"line\":{\"color\":\"#636efa\",\"dash\":\"solid\"},\"marker\":{\"symbol\":\"circle\"},\"mode\":\"lines\",\"name\":\"mobilenetv3_large_100_CosFace_RMSpropTF\",\"orientation\":\"v\",\"showlegend\":false,\"x\":[19,39,59,79,99],\"xaxis\":\"x2\",\"y\":[1.7829181494661923,1.3379453476305778,1.1048607318405241,1.0716082508804294,1.0840408941258013],\"yaxis\":\"y2\",\"type\":\"scatter\"},{\"hovertemplate\":\"index=mobilenetv3_large_100_CosFace_RMSpropTF<br>measurement=Rank<br>epoch=%{x}<br>Accuracy=%{y}<extra></extra>\",\"legendgroup\":\"mobilenetv3_large_100_CosFace_RMSpropTF\",\"line\":{\"color\":\"#636efa\",\"dash\":\"solid\"},\"marker\":{\"symbol\":\"circle\"},\"mode\":\"lines\",\"name\":\"mobilenetv3_large_100_CosFace_RMSpropTF\",\"orientation\":\"v\",\"showlegend\":false,\"x\":[19,39,59,79,99],\"xaxis\":\"x\",\"y\":[0.9968223315801705,0.7831053123331554,0.7093681006440488,1.0055960983091874,0.8938107869142352],\"yaxis\":\"y\",\"type\":\"scatter\"},{\"hovertemplate\":\"index=xception65_CosFace_Adam<br>measurement=Accuracy<br>epoch=%{x}<br>Accuracy=%{y}<extra></extra>\",\"legendgroup\":\"xception65_CosFace_Adam\",\"line\":{\"color\":\"#EF553B\",\"dash\":\"solid\"},\"marker\":{\"symbol\":\"circle\"},\"mode\":\"lines\",\"name\":\"xception65_CosFace_Adam\",\"orientation\":\"v\",\"showlegend\":true,\"x\":[19,39,59,79,99],\"xaxis\":\"x3\",\"y\":[0.002881089575694081,0.0,0.0,0.0,0.0],\"yaxis\":\"y3\",\"type\":\"scatter\"},{\"hovertemplate\":\"index=xception65_CosFace_Adam<br>measurement=Disparity<br>epoch=%{x}<br>Accuracy=%{y}<extra></extra>\",\"legendgroup\":\"xception65_CosFace_Adam\",\"line\":{\"color\":\"#EF553B\",\"dash\":\"solid\"},\"marker\":{\"symbol\":\"circle\"},\"mode\":\"lines\",\"name\":\"xception65_CosFace_Adam\",\"orientation\":\"v\",\"showlegend\":false,\"x\":[19],\"xaxis\":\"x2\",\"y\":[0.76],\"yaxis\":\"y2\",\"type\":\"scatter\"},{\"hovertemplate\":\"index=xception65_CosFace_Adam<br>measurement=Rank<br>epoch=%{x}<br>Accuracy=%{y}<extra></extra>\",\"legendgroup\":\"xception65_CosFace_Adam\",\"line\":{\"color\":\"#EF553B\",\"dash\":\"solid\"},\"marker\":{\"symbol\":\"circle\"},\"mode\":\"lines\",\"name\":\"xception65_CosFace_Adam\",\"orientation\":\"v\",\"showlegend\":false,\"x\":[19,39,59,79,99],\"xaxis\":\"x\",\"y\":[0.9831751600483606,1.0,1.0,1.0,1.0],\"yaxis\":\"y\",\"type\":\"scatter\"},{\"hovertemplate\":\"index=xception65_CosFace_AdamW<br>measurement=Accuracy<br>epoch=%{x}<br>Accuracy=%{y}<extra></extra>\",\"legendgroup\":\"xception65_CosFace_AdamW\",\"line\":{\"color\":\"#00cc96\",\"dash\":\"solid\"},\"marker\":{\"symbol\":\"circle\"},\"mode\":\"lines\",\"name\":\"xception65_CosFace_AdamW\",\"orientation\":\"v\",\"showlegend\":true,\"x\":[19,39,59,79,99],\"xaxis\":\"x3\",\"y\":[0.4438187532739654,0.5056966998428497,0.5172865374541645,0.482647983237297,0.4814038763750655],\"yaxis\":\"y3\",\"type\":\"scatter\"},{\"hovertemplate\":\"index=xception65_CosFace_AdamW<br>measurement=Disparity<br>epoch=%{x}<br>Accuracy=%{y}<extra></extra>\",\"legendgroup\":\"xception65_CosFace_AdamW\",\"line\":{\"color\":\"#00cc96\",\"dash\":\"solid\"},\"marker\":{\"symbol\":\"circle\"},\"mode\":\"lines\",\"name\":\"xception65_CosFace_AdamW\",\"orientation\":\"v\",\"showlegend\":false,\"x\":[19,39,59,79,99],\"xaxis\":\"x2\",\"y\":[1.2968485259234157,1.3039976133651552,1.2297488004515946,1.1976744186046513,1.1848439821693908],\"yaxis\":\"y2\",\"type\":\"scatter\"},{\"hovertemplate\":\"index=xception65_CosFace_AdamW<br>measurement=Rank<br>epoch=%{x}<br>Accuracy=%{y}<extra></extra>\",\"legendgroup\":\"xception65_CosFace_AdamW\",\"line\":{\"color\":\"#00cc96\",\"dash\":\"solid\"},\"marker\":{\"symbol\":\"circle\"},\"mode\":\"lines\",\"name\":\"xception65_CosFace_AdamW\",\"orientation\":\"v\",\"showlegend\":false,\"x\":[19,39,59,79,99],\"xaxis\":\"x\",\"y\":[0.9288717977671411,0.7940731064179789,0.7599399438274976,0.9461005199306759,0.8984987171486027],\"yaxis\":\"y\",\"type\":\"scatter\"},{\"hovertemplate\":\"index=selecsls60b_CosFace_Adam<br>measurement=Accuracy<br>epoch=%{x}<br>Accuracy=%{y}<extra></extra>\",\"legendgroup\":\"selecsls60b_CosFace_Adam\",\"line\":{\"color\":\"#ab63fa\",\"dash\":\"solid\"},\"marker\":{\"symbol\":\"circle\"},\"mode\":\"lines\",\"name\":\"selecsls60b_CosFace_Adam\",\"orientation\":\"v\",\"showlegend\":true,\"x\":[19,39,59,79,99],\"xaxis\":\"x3\",\"y\":[0.05893137768465165,0.0071372446306967,0.0037323205866946047,0.0034704033525405974,0.0030775275013095863],\"yaxis\":\"y3\",\"type\":\"scatter\"},{\"hovertemplate\":\"index=selecsls60b_CosFace_Adam<br>measurement=Disparity<br>epoch=%{x}<br>Accuracy=%{y}<extra></extra>\",\"legendgroup\":\"selecsls60b_CosFace_Adam\",\"line\":{\"color\":\"#ab63fa\",\"dash\":\"solid\"},\"marker\":{\"symbol\":\"circle\"},\"mode\":\"lines\",\"name\":\"selecsls60b_CosFace_Adam\",\"orientation\":\"v\",\"showlegend\":false,\"x\":[19,39,59,79,99],\"xaxis\":\"x2\",\"y\":[1.5714285714285714,1.0961538461538463,0.3902439024390244,0.6060606060606061,0.6206896551724138],\"yaxis\":\"y2\",\"type\":\"scatter\"},{\"hovertemplate\":\"index=selecsls60b_CosFace_Adam<br>measurement=Rank<br>epoch=%{x}<br>Accuracy=%{y}<extra></extra>\",\"legendgroup\":\"selecsls60b_CosFace_Adam\",\"line\":{\"color\":\"#ab63fa\",\"dash\":\"solid\"},\"marker\":{\"symbol\":\"circle\"},\"mode\":\"lines\",\"name\":\"selecsls60b_CosFace_Adam\",\"orientation\":\"v\",\"showlegend\":false,\"x\":[19,39,59,79,99],\"xaxis\":\"x\",\"y\":[0.7319981762515505,0.9208708047740812,1.1979912885034643,0.9570242812192654,1.1478005621541307],\"yaxis\":\"y\",\"type\":\"scatter\"},{\"hovertemplate\":\"index=xception_CosFace_AdamW<br>measurement=Accuracy<br>epoch=%{x}<br>Accuracy=%{y}<extra></extra>\",\"legendgroup\":\"xception_CosFace_AdamW\",\"line\":{\"color\":\"#FFA15A\",\"dash\":\"solid\"},\"marker\":{\"symbol\":\"circle\"},\"mode\":\"lines\",\"name\":\"xception_CosFace_AdamW\",\"orientation\":\"v\",\"showlegend\":true,\"x\":[19,39,59,79,99],\"xaxis\":\"x3\",\"y\":[0.41946045049764275,0.5523179675222629,0.5736642221058146,0.5916710319539026,0.5952723939235202],\"yaxis\":\"y3\",\"type\":\"scatter\"},{\"hovertemplate\":\"index=xception_CosFace_AdamW<br>measurement=Disparity<br>epoch=%{x}<br>Accuracy=%{y}<extra></extra>\",\"legendgroup\":\"xception_CosFace_AdamW\",\"line\":{\"color\":\"#FFA15A\",\"dash\":\"solid\"},\"marker\":{\"symbol\":\"circle\"},\"mode\":\"lines\",\"name\":\"xception_CosFace_AdamW\",\"orientation\":\"v\",\"showlegend\":false,\"x\":[19,39,59,79,99],\"xaxis\":\"x2\",\"y\":[1.3311499272197964,1.26747311827957,1.2389470994122158,1.2272615232930737,1.22328197603326],\"yaxis\":\"y2\",\"type\":\"scatter\"},{\"hovertemplate\":\"index=xception_CosFace_AdamW<br>measurement=Rank<br>epoch=%{x}<br>Accuracy=%{y}<extra></extra>\",\"legendgroup\":\"xception_CosFace_AdamW\",\"line\":{\"color\":\"#FFA15A\",\"dash\":\"solid\"},\"marker\":{\"symbol\":\"circle\"},\"mode\":\"lines\",\"name\":\"xception_CosFace_AdamW\",\"orientation\":\"v\",\"showlegend\":false,\"x\":[19,39,59,79,99],\"xaxis\":\"x\",\"y\":[0.5347237106633278,0.6529966380145438,0.6896023944763783,0.7719117936006529,0.7585027937396412],\"yaxis\":\"y\",\"type\":\"scatter\"}],                        {\"template\":{\"data\":{\"bar\":[{\"error_x\":{\"color\":\"#2a3f5f\"},\"error_y\":{\"color\":\"#2a3f5f\"},\"marker\":{\"line\":{\"color\":\"#E5ECF6\",\"width\":0.5},\"pattern\":{\"fillmode\":\"overlay\",\"size\":10,\"solidity\":0.2}},\"type\":\"bar\"}],\"barpolar\":[{\"marker\":{\"line\":{\"color\":\"#E5ECF6\",\"width\":0.5},\"pattern\":{\"fillmode\":\"overlay\",\"size\":10,\"solidity\":0.2}},\"type\":\"barpolar\"}],\"carpet\":[{\"aaxis\":{\"endlinecolor\":\"#2a3f5f\",\"gridcolor\":\"white\",\"linecolor\":\"white\",\"minorgridcolor\":\"white\",\"startlinecolor\":\"#2a3f5f\"},\"baxis\":{\"endlinecolor\":\"#2a3f5f\",\"gridcolor\":\"white\",\"linecolor\":\"white\",\"minorgridcolor\":\"white\",\"startlinecolor\":\"#2a3f5f\"},\"type\":\"carpet\"}],\"choropleth\":[{\"colorbar\":{\"outlinewidth\":0,\"ticks\":\"\"},\"type\":\"choropleth\"}],\"contour\":[{\"colorbar\":{\"outlinewidth\":0,\"ticks\":\"\"},\"colorscale\":[[0.0,\"#0d0887\"],[0.1111111111111111,\"#46039f\"],[0.2222222222222222,\"#7201a8\"],[0.3333333333333333,\"#9c179e\"],[0.4444444444444444,\"#bd3786\"],[0.5555555555555556,\"#d8576b\"],[0.6666666666666666,\"#ed7953\"],[0.7777777777777778,\"#fb9f3a\"],[0.8888888888888888,\"#fdca26\"],[1.0,\"#f0f921\"]],\"type\":\"contour\"}],\"contourcarpet\":[{\"colorbar\":{\"outlinewidth\":0,\"ticks\":\"\"},\"type\":\"contourcarpet\"}],\"heatmap\":[{\"colorbar\":{\"outlinewidth\":0,\"ticks\":\"\"},\"colorscale\":[[0.0,\"#0d0887\"],[0.1111111111111111,\"#46039f\"],[0.2222222222222222,\"#7201a8\"],[0.3333333333333333,\"#9c179e\"],[0.4444444444444444,\"#bd3786\"],[0.5555555555555556,\"#d8576b\"],[0.6666666666666666,\"#ed7953\"],[0.7777777777777778,\"#fb9f3a\"],[0.8888888888888888,\"#fdca26\"],[1.0,\"#f0f921\"]],\"type\":\"heatmap\"}],\"heatmapgl\":[{\"colorbar\":{\"outlinewidth\":0,\"ticks\":\"\"},\"colorscale\":[[0.0,\"#0d0887\"],[0.1111111111111111,\"#46039f\"],[0.2222222222222222,\"#7201a8\"],[0.3333333333333333,\"#9c179e\"],[0.4444444444444444,\"#bd3786\"],[0.5555555555555556,\"#d8576b\"],[0.6666666666666666,\"#ed7953\"],[0.7777777777777778,\"#fb9f3a\"],[0.8888888888888888,\"#fdca26\"],[1.0,\"#f0f921\"]],\"type\":\"heatmapgl\"}],\"histogram\":[{\"marker\":{\"pattern\":{\"fillmode\":\"overlay\",\"size\":10,\"solidity\":0.2}},\"type\":\"histogram\"}],\"histogram2d\":[{\"colorbar\":{\"outlinewidth\":0,\"ticks\":\"\"},\"colorscale\":[[0.0,\"#0d0887\"],[0.1111111111111111,\"#46039f\"],[0.2222222222222222,\"#7201a8\"],[0.3333333333333333,\"#9c179e\"],[0.4444444444444444,\"#bd3786\"],[0.5555555555555556,\"#d8576b\"],[0.6666666666666666,\"#ed7953\"],[0.7777777777777778,\"#fb9f3a\"],[0.8888888888888888,\"#fdca26\"],[1.0,\"#f0f921\"]],\"type\":\"histogram2d\"}],\"histogram2dcontour\":[{\"colorbar\":{\"outlinewidth\":0,\"ticks\":\"\"},\"colorscale\":[[0.0,\"#0d0887\"],[0.1111111111111111,\"#46039f\"],[0.2222222222222222,\"#7201a8\"],[0.3333333333333333,\"#9c179e\"],[0.4444444444444444,\"#bd3786\"],[0.5555555555555556,\"#d8576b\"],[0.6666666666666666,\"#ed7953\"],[0.7777777777777778,\"#fb9f3a\"],[0.8888888888888888,\"#fdca26\"],[1.0,\"#f0f921\"]],\"type\":\"histogram2dcontour\"}],\"mesh3d\":[{\"colorbar\":{\"outlinewidth\":0,\"ticks\":\"\"},\"type\":\"mesh3d\"}],\"parcoords\":[{\"line\":{\"colorbar\":{\"outlinewidth\":0,\"ticks\":\"\"}},\"type\":\"parcoords\"}],\"pie\":[{\"automargin\":true,\"type\":\"pie\"}],\"scatter\":[{\"marker\":{\"colorbar\":{\"outlinewidth\":0,\"ticks\":\"\"}},\"type\":\"scatter\"}],\"scatter3d\":[{\"line\":{\"colorbar\":{\"outlinewidth\":0,\"ticks\":\"\"}},\"marker\":{\"colorbar\":{\"outlinewidth\":0,\"ticks\":\"\"}},\"type\":\"scatter3d\"}],\"scattercarpet\":[{\"marker\":{\"colorbar\":{\"outlinewidth\":0,\"ticks\":\"\"}},\"type\":\"scattercarpet\"}],\"scattergeo\":[{\"marker\":{\"colorbar\":{\"outlinewidth\":0,\"ticks\":\"\"}},\"type\":\"scattergeo\"}],\"scattergl\":[{\"marker\":{\"colorbar\":{\"outlinewidth\":0,\"ticks\":\"\"}},\"type\":\"scattergl\"}],\"scattermapbox\":[{\"marker\":{\"colorbar\":{\"outlinewidth\":0,\"ticks\":\"\"}},\"type\":\"scattermapbox\"}],\"scatterpolar\":[{\"marker\":{\"colorbar\":{\"outlinewidth\":0,\"ticks\":\"\"}},\"type\":\"scatterpolar\"}],\"scatterpolargl\":[{\"marker\":{\"colorbar\":{\"outlinewidth\":0,\"ticks\":\"\"}},\"type\":\"scatterpolargl\"}],\"scatterternary\":[{\"marker\":{\"colorbar\":{\"outlinewidth\":0,\"ticks\":\"\"}},\"type\":\"scatterternary\"}],\"surface\":[{\"colorbar\":{\"outlinewidth\":0,\"ticks\":\"\"},\"colorscale\":[[0.0,\"#0d0887\"],[0.1111111111111111,\"#46039f\"],[0.2222222222222222,\"#7201a8\"],[0.3333333333333333,\"#9c179e\"],[0.4444444444444444,\"#bd3786\"],[0.5555555555555556,\"#d8576b\"],[0.6666666666666666,\"#ed7953\"],[0.7777777777777778,\"#fb9f3a\"],[0.8888888888888888,\"#fdca26\"],[1.0,\"#f0f921\"]],\"type\":\"surface\"}],\"table\":[{\"cells\":{\"fill\":{\"color\":\"#EBF0F8\"},\"line\":{\"color\":\"white\"}},\"header\":{\"fill\":{\"color\":\"#C8D4E3\"},\"line\":{\"color\":\"white\"}},\"type\":\"table\"}]},\"layout\":{\"annotationdefaults\":{\"arrowcolor\":\"#2a3f5f\",\"arrowhead\":0,\"arrowwidth\":1},\"autotypenumbers\":\"strict\",\"coloraxis\":{\"colorbar\":{\"outlinewidth\":0,\"ticks\":\"\"}},\"colorscale\":{\"diverging\":[[0,\"#8e0152\"],[0.1,\"#c51b7d\"],[0.2,\"#de77ae\"],[0.3,\"#f1b6da\"],[0.4,\"#fde0ef\"],[0.5,\"#f7f7f7\"],[0.6,\"#e6f5d0\"],[0.7,\"#b8e186\"],[0.8,\"#7fbc41\"],[0.9,\"#4d9221\"],[1,\"#276419\"]],\"sequential\":[[0.0,\"#0d0887\"],[0.1111111111111111,\"#46039f\"],[0.2222222222222222,\"#7201a8\"],[0.3333333333333333,\"#9c179e\"],[0.4444444444444444,\"#bd3786\"],[0.5555555555555556,\"#d8576b\"],[0.6666666666666666,\"#ed7953\"],[0.7777777777777778,\"#fb9f3a\"],[0.8888888888888888,\"#fdca26\"],[1.0,\"#f0f921\"]],\"sequentialminus\":[[0.0,\"#0d0887\"],[0.1111111111111111,\"#46039f\"],[0.2222222222222222,\"#7201a8\"],[0.3333333333333333,\"#9c179e\"],[0.4444444444444444,\"#bd3786\"],[0.5555555555555556,\"#d8576b\"],[0.6666666666666666,\"#ed7953\"],[0.7777777777777778,\"#fb9f3a\"],[0.8888888888888888,\"#fdca26\"],[1.0,\"#f0f921\"]]},\"colorway\":[\"#636efa\",\"#EF553B\",\"#00cc96\",\"#ab63fa\",\"#FFA15A\",\"#19d3f3\",\"#FF6692\",\"#B6E880\",\"#FF97FF\",\"#FECB52\"],\"font\":{\"color\":\"#2a3f5f\"},\"geo\":{\"bgcolor\":\"white\",\"lakecolor\":\"white\",\"landcolor\":\"#E5ECF6\",\"showlakes\":true,\"showland\":true,\"subunitcolor\":\"white\"},\"hoverlabel\":{\"align\":\"left\"},\"hovermode\":\"closest\",\"mapbox\":{\"style\":\"light\"},\"paper_bgcolor\":\"white\",\"plot_bgcolor\":\"#E5ECF6\",\"polar\":{\"angularaxis\":{\"gridcolor\":\"white\",\"linecolor\":\"white\",\"ticks\":\"\"},\"bgcolor\":\"#E5ECF6\",\"radialaxis\":{\"gridcolor\":\"white\",\"linecolor\":\"white\",\"ticks\":\"\"}},\"scene\":{\"xaxis\":{\"backgroundcolor\":\"#E5ECF6\",\"gridcolor\":\"white\",\"gridwidth\":2,\"linecolor\":\"white\",\"showbackground\":true,\"ticks\":\"\",\"zerolinecolor\":\"white\"},\"yaxis\":{\"backgroundcolor\":\"#E5ECF6\",\"gridcolor\":\"white\",\"gridwidth\":2,\"linecolor\":\"white\",\"showbackground\":true,\"ticks\":\"\",\"zerolinecolor\":\"white\"},\"zaxis\":{\"backgroundcolor\":\"#E5ECF6\",\"gridcolor\":\"white\",\"gridwidth\":2,\"linecolor\":\"white\",\"showbackground\":true,\"ticks\":\"\",\"zerolinecolor\":\"white\"}},\"shapedefaults\":{\"line\":{\"color\":\"#2a3f5f\"}},\"ternary\":{\"aaxis\":{\"gridcolor\":\"white\",\"linecolor\":\"white\",\"ticks\":\"\"},\"baxis\":{\"gridcolor\":\"white\",\"linecolor\":\"white\",\"ticks\":\"\"},\"bgcolor\":\"#E5ECF6\",\"caxis\":{\"gridcolor\":\"white\",\"linecolor\":\"white\",\"ticks\":\"\"}},\"title\":{\"x\":0.05},\"xaxis\":{\"automargin\":true,\"gridcolor\":\"white\",\"linecolor\":\"white\",\"ticks\":\"\",\"title\":{\"standoff\":15},\"zerolinecolor\":\"white\",\"zerolinewidth\":2},\"yaxis\":{\"automargin\":true,\"gridcolor\":\"white\",\"linecolor\":\"white\",\"ticks\":\"\",\"title\":{\"standoff\":15},\"zerolinecolor\":\"white\",\"zerolinewidth\":2}}},\"xaxis\":{\"anchor\":\"y\",\"domain\":[0.0,0.98],\"title\":{\"text\":\"epoch\"}},\"yaxis\":{\"anchor\":\"x\",\"domain\":[0.0,0.3133333333333333],\"title\":{\"text\":\"Disparity\"}},\"xaxis2\":{\"anchor\":\"y2\",\"domain\":[0.0,0.98],\"matches\":\"x\",\"showticklabels\":false},\"yaxis2\":{\"anchor\":\"x2\",\"domain\":[0.34333333333333327,0.6566666666666665],\"title\":{\"text\":\"Accuracy\"}},\"xaxis3\":{\"anchor\":\"y3\",\"domain\":[0.0,0.98],\"matches\":\"x\",\"showticklabels\":false},\"yaxis3\":{\"anchor\":\"x3\",\"domain\":[0.6866666666666665,0.9999999999999998],\"title\":{\"text\":\"Accuracy\"}},\"annotations\":[{\"font\":{},\"showarrow\":false,\"text\":\"Rank\",\"textangle\":90,\"x\":0.98,\"xanchor\":\"left\",\"xref\":\"paper\",\"y\":0.15666666666666665,\"yanchor\":\"middle\",\"yref\":\"paper\"},{\"font\":{},\"showarrow\":false,\"text\":\"Disparity\",\"textangle\":90,\"x\":0.98,\"xanchor\":\"left\",\"xref\":\"paper\",\"y\":0.4999999999999999,\"yanchor\":\"middle\",\"yref\":\"paper\"},{\"font\":{},\"showarrow\":false,\"text\":\"Accuracy\",\"textangle\":90,\"x\":0.98,\"xanchor\":\"left\",\"xref\":\"paper\",\"y\":0.8433333333333332,\"yanchor\":\"middle\",\"yref\":\"paper\"}],\"legend\":{\"title\":{\"text\":\"index\"},\"tracegroupgap\":0},\"title\":{\"text\":\"Phase1b(ii) Accuracy and Disparity\"}},                        {\"responsive\": true}                    ).then(function(){\n",
       "                            \n",
       "var gd = document.getElementById('3b691639-3166-4646-a921-dedc6719ef34');\n",
       "var x = new MutationObserver(function (mutations, observer) {{\n",
       "        var display = window.getComputedStyle(gd).display;\n",
       "        if (!display || display === 'none') {{\n",
       "            console.log([gd, 'removed!']);\n",
       "            Plotly.purge(gd);\n",
       "            observer.disconnect();\n",
       "        }}\n",
       "}});\n",
       "\n",
       "// Listen for the removal of the full notebook cells\n",
       "var notebookContainer = gd.closest('#notebook-container');\n",
       "if (notebookContainer) {{\n",
       "    x.observe(notebookContainer, {childList: true});\n",
       "}}\n",
       "\n",
       "// Listen for the clearing of the current output cell\n",
       "var outputEl = gd.closest('.output');\n",
       "if (outputEl) {{\n",
       "    x.observe(outputEl, {childList: true});\n",
       "}}\n",
       "\n",
       "                        })                };                });            </script>        </div>"
      ]
     },
     "metadata": {},
     "output_type": "display_data"
    }
   ],
   "source": [
    "phase1bii_rank = [x for x in rank_files if any([z in x for z in phase1bii_experiments])]\n",
    "acc_df, acc_disp_df, rank_df = analyze_rank_files(phase1bii_rank, metadata)\n",
    "acc_df, acc_disp_df, rank_df = acc_df[epochs], acc_disp_df[epochs], rank_df[epochs]\n",
    "plot_df(acc_df, acc_disp_df, rank_df=rank_df,  title = 'Phase1b(ii) Accuracy and Disparity')"
   ]
  },
  {
   "cell_type": "code",
   "execution_count": 11,
   "id": "57ff903b",
   "metadata": {},
   "outputs": [
    {
     "data": {
      "application/vnd.plotly.v1+json": {
       "config": {
        "plotlyServerURL": "https://plot.ly"
       },
       "data": [
        {
         "hovertemplate": "index=resnetrs101_CosFace_SGD<br>measurement=Accuracy<br>epoch=%{x}<br>Accuracy=%{y}<extra></extra>",
         "legendgroup": "resnetrs101_CosFace_SGD",
         "line": {
          "color": "#636efa",
          "dash": "solid"
         },
         "marker": {
          "symbol": "circle"
         },
         "mode": "lines",
         "name": "resnetrs101_CosFace_SGD",
         "orientation": "v",
         "showlegend": true,
         "type": "scatter",
         "x": [
          19,
          39,
          59,
          79,
          99
         ],
         "xaxis": "x2",
         "y": [
          0.8765715034049241,
          0.8958878994237821,
          0.8805657412257727,
          0.8645233106338397,
          0.8721843897328444
         ],
         "yaxis": "y2"
        },
        {
         "hovertemplate": "index=resnetrs101_CosFace_SGD<br>measurement=Disparity<br>epoch=%{x}<br>Accuracy=%{y}<extra></extra>",
         "legendgroup": "resnetrs101_CosFace_SGD",
         "line": {
          "color": "#636efa",
          "dash": "solid"
         },
         "marker": {
          "symbol": "circle"
         },
         "mode": "lines",
         "name": "resnetrs101_CosFace_SGD",
         "orientation": "v",
         "showlegend": false,
         "type": "scatter",
         "x": [
          19,
          39,
          59,
          79,
          99
         ],
         "xaxis": "x",
         "y": [
          1.0466289558171533,
          1.0314773570898292,
          1.044079647362821,
          1.053343701399689,
          1.044512663085188
         ],
         "yaxis": "y"
        },
        {
         "hovertemplate": "index=inception_v4_CosFace_RMSProp<br>measurement=Accuracy<br>epoch=%{x}<br>Accuracy=%{y}<extra></extra>",
         "legendgroup": "inception_v4_CosFace_RMSProp",
         "line": {
          "color": "#EF553B",
          "dash": "solid"
         },
         "marker": {
          "symbol": "circle"
         },
         "mode": "lines",
         "name": "inception_v4_CosFace_RMSProp",
         "orientation": "v",
         "showlegend": true,
         "type": "scatter",
         "x": [
          19,
          39,
          59,
          79,
          99
         ],
         "xaxis": "x2",
         "y": [
          0.0026191723415400735,
          0.05631220534311158,
          0.16697223677317968,
          0.03463855421686747,
          0.0017024620220010478
         ],
         "yaxis": "y2"
        },
        {
         "hovertemplate": "index=inception_v4_CosFace_RMSProp<br>measurement=Disparity<br>epoch=%{x}<br>Accuracy=%{y}<extra></extra>",
         "legendgroup": "inception_v4_CosFace_RMSProp",
         "line": {
          "color": "#EF553B",
          "dash": "solid"
         },
         "marker": {
          "symbol": "circle"
         },
         "mode": "lines",
         "name": "inception_v4_CosFace_RMSProp",
         "orientation": "v",
         "showlegend": false,
         "type": "scatter",
         "x": [
          19,
          39,
          59,
          79,
          99
         ],
         "xaxis": "x",
         "y": [
          2.3333333333333335,
          1.1339950372208436,
          0.9129782445611403,
          0.7633333333333333,
          null
         ],
         "yaxis": "y"
        },
        {
         "hovertemplate": "index=fbnetv3_g_CosFace_AdamW<br>measurement=Accuracy<br>epoch=%{x}<br>Accuracy=%{y}<extra></extra>",
         "legendgroup": "fbnetv3_g_CosFace_AdamW",
         "line": {
          "color": "#00cc96",
          "dash": "solid"
         },
         "marker": {
          "symbol": "circle"
         },
         "mode": "lines",
         "name": "fbnetv3_g_CosFace_AdamW",
         "orientation": "v",
         "showlegend": true,
         "type": "scatter",
         "x": [
          19,
          39,
          59,
          79,
          99
         ],
         "xaxis": "x2",
         "y": [
          0.07608695652173914,
          0.1492928234677842,
          0.2976034573074908,
          0.3716605552645364,
          0.393661602933473
         ],
         "yaxis": "y2"
        },
        {
         "hovertemplate": "index=fbnetv3_g_CosFace_AdamW<br>measurement=Disparity<br>epoch=%{x}<br>Accuracy=%{y}<extra></extra>",
         "legendgroup": "fbnetv3_g_CosFace_AdamW",
         "line": {
          "color": "#00cc96",
          "dash": "solid"
         },
         "marker": {
          "symbol": "circle"
         },
         "mode": "lines",
         "name": "fbnetv3_g_CosFace_AdamW",
         "orientation": "v",
         "showlegend": false,
         "type": "scatter",
         "x": [
          19,
          39,
          59,
          79,
          99
         ],
         "xaxis": "x",
         "y": [
          1.8833746898263026,
          1.695035460992908,
          1.5823863636363635,
          1.4391920928233777,
          1.3961737744121163
         ],
         "yaxis": "y"
        },
        {
         "hovertemplate": "index=rexnet_200_CosFace_SGD<br>measurement=Accuracy<br>epoch=%{x}<br>Accuracy=%{y}<extra></extra>",
         "legendgroup": "rexnet_200_CosFace_SGD",
         "line": {
          "color": "#ab63fa",
          "dash": "solid"
         },
         "marker": {
          "symbol": "circle"
         },
         "mode": "lines",
         "name": "rexnet_200_CosFace_SGD",
         "orientation": "v",
         "showlegend": true,
         "type": "scatter",
         "x": [
          19,
          39,
          59,
          79,
          99
         ],
         "xaxis": "x2",
         "y": [
          0.9385804085908853,
          0.9548847564169722,
          0.9546228391828182,
          0.9554740701938188,
          0.9540335254059717
         ],
         "yaxis": "y2"
        },
        {
         "hovertemplate": "index=rexnet_200_CosFace_SGD<br>measurement=Disparity<br>epoch=%{x}<br>Accuracy=%{y}<extra></extra>",
         "legendgroup": "rexnet_200_CosFace_SGD",
         "line": {
          "color": "#ab63fa",
          "dash": "solid"
         },
         "marker": {
          "symbol": "circle"
         },
         "mode": "lines",
         "name": "rexnet_200_CosFace_SGD",
         "orientation": "v",
         "showlegend": false,
         "type": "scatter",
         "x": [
          19,
          39,
          59,
          79,
          99
         ],
         "xaxis": "x",
         "y": [
          1.0297366185216652,
          1.020365752285952,
          1.0175754220869084,
          1.0246982100735396,
          1.0247359644246803
         ],
         "yaxis": "y"
        },
        {
         "hovertemplate": "index=xception_CosFace_Adam<br>measurement=Accuracy<br>epoch=%{x}<br>Accuracy=%{y}<extra></extra>",
         "legendgroup": "xception_CosFace_Adam",
         "line": {
          "color": "#FFA15A",
          "dash": "solid"
         },
         "marker": {
          "symbol": "circle"
         },
         "mode": "lines",
         "name": "xception_CosFace_Adam",
         "orientation": "v",
         "showlegend": true,
         "type": "scatter",
         "x": [
          19,
          39,
          59,
          79,
          99
         ],
         "xaxis": "x2",
         "y": [
          0.003666841278156103,
          0.0013095861707700367,
          0.001178627553693033,
          0.0010476689366160294,
          0.010476689366160294
         ],
         "yaxis": "y2"
        },
        {
         "hovertemplate": "index=xception_CosFace_Adam<br>measurement=Disparity<br>epoch=%{x}<br>Accuracy=%{y}<extra></extra>",
         "legendgroup": "xception_CosFace_Adam",
         "line": {
          "color": "#FFA15A",
          "dash": "solid"
         },
         "marker": {
          "symbol": "circle"
         },
         "mode": "lines",
         "name": "xception_CosFace_Adam",
         "orientation": "v",
         "showlegend": false,
         "type": "scatter",
         "x": [
          19,
          39,
          59,
          79,
          99
         ],
         "xaxis": "x",
         "y": [
          1.6666666666666667,
          9,
          8,
          null,
          1.6229508196721312
         ],
         "yaxis": "y"
        },
        {
         "hovertemplate": "index=vgg19_CosFace_SGD<br>measurement=Accuracy<br>epoch=%{x}<br>Accuracy=%{y}<extra></extra>",
         "legendgroup": "vgg19_CosFace_SGD",
         "line": {
          "color": "#19d3f3",
          "dash": "solid"
         },
         "marker": {
          "symbol": "circle"
         },
         "mode": "lines",
         "name": "vgg19_CosFace_SGD",
         "orientation": "v",
         "showlegend": true,
         "type": "scatter",
         "x": [
          19,
          39,
          59,
          79,
          99
         ],
         "xaxis": "x2",
         "y": [
          0.7284573074908329,
          0.7822158198009429,
          0.752357255107386,
          0.7017417496071241,
          0.6573467784180199
         ],
         "yaxis": "y2"
        },
        {
         "hovertemplate": "index=vgg19_CosFace_SGD<br>measurement=Disparity<br>epoch=%{x}<br>Accuracy=%{y}<extra></extra>",
         "legendgroup": "vgg19_CosFace_SGD",
         "line": {
          "color": "#19d3f3",
          "dash": "solid"
         },
         "marker": {
          "symbol": "circle"
         },
         "mode": "lines",
         "name": "vgg19_CosFace_SGD",
         "orientation": "v",
         "showlegend": false,
         "type": "scatter",
         "x": [
          19,
          39,
          59,
          79,
          99
         ],
         "xaxis": "x",
         "y": [
          1.1560077519379846,
          1.0902887139107613,
          1.1059384164222874,
          1.1357114388202472,
          1.1861933797909407
         ],
         "yaxis": "y"
        },
        {
         "hovertemplate": "index=legacy_senet154_CosFace_SGD<br>measurement=Accuracy<br>epoch=%{x}<br>Accuracy=%{y}<extra></extra>",
         "legendgroup": "legacy_senet154_CosFace_SGD",
         "line": {
          "color": "#FF6692",
          "dash": "solid"
         },
         "marker": {
          "symbol": "circle"
         },
         "mode": "lines",
         "name": "legacy_senet154_CosFace_SGD",
         "orientation": "v",
         "showlegend": true,
         "type": "scatter",
         "x": [
          19,
          39,
          59,
          79,
          99
         ],
         "xaxis": "x2",
         "y": [
          0.8789287585123101,
          0.838855421686747,
          0.8106993190151912,
          0.8160686223153484,
          0.8013357778941854
         ],
         "yaxis": "y2"
        },
        {
         "hovertemplate": "index=legacy_senet154_CosFace_SGD<br>measurement=Disparity<br>epoch=%{x}<br>Accuracy=%{y}<extra></extra>",
         "legendgroup": "legacy_senet154_CosFace_SGD",
         "line": {
          "color": "#FF6692",
          "dash": "solid"
         },
         "marker": {
          "symbol": "circle"
         },
         "mode": "lines",
         "name": "legacy_senet154_CosFace_SGD",
         "orientation": "v",
         "showlegend": false,
         "type": "scatter",
         "x": [
          19,
          39,
          59,
          79,
          99
         ],
         "xaxis": "x",
         "y": [
          1.0524464831804283,
          1.0563402889245586,
          1.070747616658304,
          1.087604690117253,
          1.086615515771526
         ],
         "yaxis": "y"
        },
        {
         "hovertemplate": "index=inception_resnet_v2_CosFace_RMSProp<br>measurement=Accuracy<br>epoch=%{x}<br>Accuracy=%{y}<extra></extra>",
         "legendgroup": "inception_resnet_v2_CosFace_RMSProp",
         "line": {
          "color": "#B6E880",
          "dash": "solid"
         },
         "marker": {
          "symbol": "circle"
         },
         "mode": "lines",
         "name": "inception_resnet_v2_CosFace_RMSProp",
         "orientation": "v",
         "showlegend": true,
         "type": "scatter",
         "x": [
          19,
          39,
          59,
          79,
          99
         ],
         "xaxis": "x2",
         "y": [
          0.0010476689366160294,
          0.0010476689366160294,
          0.0214117338920901,
          0.0010476689366160294,
          0.0017024620220010478
         ],
         "yaxis": "y2"
        },
        {
         "hovertemplate": "index=inception_resnet_v2_CosFace_RMSProp<br>measurement=Disparity<br>epoch=%{x}<br>Accuracy=%{y}<extra></extra>",
         "legendgroup": "inception_resnet_v2_CosFace_RMSProp",
         "line": {
          "color": "#B6E880",
          "dash": "solid"
         },
         "marker": {
          "symbol": "circle"
         },
         "mode": "lines",
         "name": "inception_resnet_v2_CosFace_RMSProp",
         "orientation": "v",
         "showlegend": false,
         "type": "scatter",
         "x": [
          19,
          39,
          59,
          79,
          99
         ],
         "xaxis": "x",
         "y": [
          null,
          null,
          1.4772727272727273,
          null,
          null
         ],
         "yaxis": "y"
        },
        {
         "hovertemplate": "index=fbnetv3_g_CosFace_Adam<br>measurement=Accuracy<br>epoch=%{x}<br>Accuracy=%{y}<extra></extra>",
         "legendgroup": "fbnetv3_g_CosFace_Adam",
         "line": {
          "color": "#FF97FF",
          "dash": "solid"
         },
         "marker": {
          "symbol": "circle"
         },
         "mode": "lines",
         "name": "fbnetv3_g_CosFace_Adam",
         "orientation": "v",
         "showlegend": true,
         "type": "scatter",
         "x": [
          19,
          39,
          59,
          79,
          99
         ],
         "xaxis": "x2",
         "y": [
          0.0010476689366160294,
          0.0010476689366160294,
          0.0010476689366160294,
          0.0014405447878470404,
          0.001964379256155055
         ],
         "yaxis": "y2"
        },
        {
         "hovertemplate": "index=fbnetv3_g_CosFace_Adam<br>measurement=Disparity<br>epoch=%{x}<br>Accuracy=%{y}<extra></extra>",
         "legendgroup": "fbnetv3_g_CosFace_Adam",
         "line": {
          "color": "#FF97FF",
          "dash": "solid"
         },
         "marker": {
          "symbol": "circle"
         },
         "mode": "lines",
         "name": "fbnetv3_g_CosFace_Adam",
         "orientation": "v",
         "showlegend": false,
         "type": "scatter",
         "x": [
          19,
          39,
          59,
          79,
          99
         ],
         "xaxis": "x",
         "y": [
          null,
          null,
          null,
          null,
          3.2857142857142856
         ],
         "yaxis": "y"
        },
        {
         "hovertemplate": "index=ese_vovnet39b_CosFace_AdamW<br>measurement=Accuracy<br>epoch=%{x}<br>Accuracy=%{y}<extra></extra>",
         "legendgroup": "ese_vovnet39b_CosFace_AdamW",
         "line": {
          "color": "#FECB52",
          "dash": "solid"
         },
         "marker": {
          "symbol": "circle"
         },
         "mode": "lines",
         "name": "ese_vovnet39b_CosFace_AdamW",
         "orientation": "v",
         "showlegend": true,
         "type": "scatter",
         "x": [
          19,
          39,
          59,
          79,
          99
         ],
         "xaxis": "x2",
         "y": [
          0.3077527501309586,
          0.40629910948140385,
          0.4253535882661079,
          0.47027239392352016,
          0.5072682032477737
         ],
         "yaxis": "y2"
        },
        {
         "hovertemplate": "index=ese_vovnet39b_CosFace_AdamW<br>measurement=Disparity<br>epoch=%{x}<br>Accuracy=%{y}<extra></extra>",
         "legendgroup": "ese_vovnet39b_CosFace_AdamW",
         "line": {
          "color": "#FECB52",
          "dash": "solid"
         },
         "marker": {
          "symbol": "circle"
         },
         "mode": "lines",
         "name": "ese_vovnet39b_CosFace_AdamW",
         "orientation": "v",
         "showlegend": false,
         "type": "scatter",
         "x": [
          19,
          39,
          59,
          79,
          99
         ],
         "xaxis": "x",
         "y": [
          1.4377593360995853,
          1.3856209150326797,
          1.287323943661972,
          1.28072403937758,
          1.2267893072722045
         ],
         "yaxis": "y"
        },
        {
         "hovertemplate": "index=ese_vovnet39b_CosFace_Adam<br>measurement=Accuracy<br>epoch=%{x}<br>Accuracy=%{y}<extra></extra>",
         "legendgroup": "ese_vovnet39b_CosFace_Adam",
         "line": {
          "color": "#636efa",
          "dash": "solid"
         },
         "marker": {
          "symbol": "circle"
         },
         "mode": "lines",
         "name": "ese_vovnet39b_CosFace_Adam",
         "orientation": "v",
         "showlegend": true,
         "type": "scatter",
         "x": [
          19,
          39,
          59,
          79,
          99
         ],
         "xaxis": "x2",
         "y": [
          0.10280251440544788,
          0.022917757988475642,
          0.0749738082765846,
          0.0825694080670508,
          0.05591932949188057
         ],
         "yaxis": "y2"
        },
        {
         "hovertemplate": "index=ese_vovnet39b_CosFace_Adam<br>measurement=Disparity<br>epoch=%{x}<br>Accuracy=%{y}<extra></extra>",
         "legendgroup": "ese_vovnet39b_CosFace_Adam",
         "line": {
          "color": "#636efa",
          "dash": "solid"
         },
         "marker": {
          "symbol": "circle"
         },
         "mode": "lines",
         "name": "ese_vovnet39b_CosFace_Adam",
         "orientation": "v",
         "showlegend": false,
         "type": "scatter",
         "x": [
          19,
          39,
          59,
          79,
          99
         ],
         "xaxis": "x",
         "y": [
          1.3190546528803544,
          1.3026315789473684,
          0.7089552238805971,
          0.4905437352245863,
          0.41625207296849087
         ],
         "yaxis": "y"
        },
        {
         "hovertemplate": "index=vgg19_bn_CosFace_SGD<br>measurement=Accuracy<br>epoch=%{x}<br>Accuracy=%{y}<extra></extra>",
         "legendgroup": "vgg19_bn_CosFace_SGD",
         "line": {
          "color": "#EF553B",
          "dash": "solid"
         },
         "marker": {
          "symbol": "circle"
         },
         "mode": "lines",
         "name": "vgg19_bn_CosFace_SGD",
         "orientation": "v",
         "showlegend": true,
         "type": "scatter",
         "x": [
          19,
          39,
          59,
          79,
          99
         ],
         "xaxis": "x2",
         "y": [
          0.7797930853850183,
          0.7886327920377161,
          0.7443687794656888,
          0.6929020429544264,
          0.6531561026715558
         ],
         "yaxis": "y2"
        },
        {
         "hovertemplate": "index=vgg19_bn_CosFace_SGD<br>measurement=Disparity<br>epoch=%{x}<br>Accuracy=%{y}<extra></extra>",
         "legendgroup": "vgg19_bn_CosFace_SGD",
         "line": {
          "color": "#EF553B",
          "dash": "solid"
         },
         "marker": {
          "symbol": "circle"
         },
         "mode": "lines",
         "name": "vgg19_bn_CosFace_SGD",
         "orientation": "v",
         "showlegend": false,
         "type": "scatter",
         "x": [
          19,
          39,
          59,
          79,
          99
         ],
         "xaxis": "x",
         "y": [
          1.0867355878745402,
          1.0665751544269044,
          1.0839596700274976,
          1.122342559165664,
          1.1273192578374922
         ],
         "yaxis": "y"
        },
        {
         "hovertemplate": "index=visformer_small_CosFace_AdamW<br>measurement=Accuracy<br>epoch=%{x}<br>Accuracy=%{y}<extra></extra>",
         "legendgroup": "visformer_small_CosFace_AdamW",
         "line": {
          "color": "#00cc96",
          "dash": "solid"
         },
         "marker": {
          "symbol": "circle"
         },
         "mode": "lines",
         "name": "visformer_small_CosFace_AdamW",
         "orientation": "v",
         "showlegend": true,
         "type": "scatter",
         "x": [
          19,
          39,
          59,
          79,
          99
         ],
         "xaxis": "x2",
         "y": [
          0.014470927187008905,
          0.004452592980618125,
          0.010804085908852802,
          0.03594814038763751,
          0.03725772655840754
         ],
         "yaxis": "y2"
        },
        {
         "hovertemplate": "index=visformer_small_CosFace_AdamW<br>measurement=Disparity<br>epoch=%{x}<br>Accuracy=%{y}<extra></extra>",
         "legendgroup": "visformer_small_CosFace_AdamW",
         "line": {
          "color": "#00cc96",
          "dash": "solid"
         },
         "marker": {
          "symbol": "circle"
         },
         "mode": "lines",
         "name": "visformer_small_CosFace_AdamW",
         "orientation": "v",
         "showlegend": false,
         "type": "scatter",
         "x": [
          19,
          39,
          59,
          79,
          99
         ],
         "xaxis": "x",
         "y": [
          1.4555555555555555,
          1.2666666666666666,
          0.9642857142857142,
          1.2226720647773281,
          1.1553030303030303
         ],
         "yaxis": "y"
        },
        {
         "hovertemplate": "index=tnt_s_patch16_224_CosFace_AdamW<br>measurement=Accuracy<br>epoch=%{x}<br>Accuracy=%{y}<extra></extra>",
         "legendgroup": "tnt_s_patch16_224_CosFace_AdamW",
         "line": {
          "color": "#ab63fa",
          "dash": "solid"
         },
         "marker": {
          "symbol": "circle"
         },
         "mode": "lines",
         "name": "tnt_s_patch16_224_CosFace_AdamW",
         "orientation": "v",
         "showlegend": true,
         "type": "scatter",
         "x": [
          19,
          39,
          59,
          79,
          99
         ],
         "xaxis": "x2",
         "y": [
          0.8787977998952331,
          0.893268727082242,
          0.9006024096385542,
          0.9032870612886328,
          0.9142221058145626
         ],
         "yaxis": "y2"
        },
        {
         "hovertemplate": "index=tnt_s_patch16_224_CosFace_AdamW<br>measurement=Disparity<br>epoch=%{x}<br>Accuracy=%{y}<extra></extra>",
         "legendgroup": "tnt_s_patch16_224_CosFace_AdamW",
         "line": {
          "color": "#ab63fa",
          "dash": "solid"
         },
         "marker": {
          "symbol": "circle"
         },
         "mode": "lines",
         "name": "tnt_s_patch16_224_CosFace_AdamW",
         "orientation": "v",
         "showlegend": false,
         "type": "scatter",
         "x": [
          19,
          39,
          59,
          79,
          99
         ],
         "xaxis": "x",
         "y": [
          1.075626353232292,
          1.0679096559041987,
          1.0559043348281016,
          1.0651197604790419,
          1.057168115514955
         ],
         "yaxis": "y"
        },
        {
         "hovertemplate": "index=selecsls60b_CosFace_AdamW<br>measurement=Accuracy<br>epoch=%{x}<br>Accuracy=%{y}<extra></extra>",
         "legendgroup": "selecsls60b_CosFace_AdamW",
         "line": {
          "color": "#FFA15A",
          "dash": "solid"
         },
         "marker": {
          "symbol": "circle"
         },
         "mode": "lines",
         "name": "selecsls60b_CosFace_AdamW",
         "orientation": "v",
         "showlegend": true,
         "type": "scatter",
         "x": [
          19,
          39,
          59,
          79,
          99
         ],
         "xaxis": "x2",
         "y": [
          0.071372446306967,
          0.14759036144578314,
          0.1714248297537978,
          0.21346254583551597,
          0.2215819800942902
         ],
         "yaxis": "y2"
        },
        {
         "hovertemplate": "index=selecsls60b_CosFace_AdamW<br>measurement=Disparity<br>epoch=%{x}<br>Accuracy=%{y}<extra></extra>",
         "legendgroup": "selecsls60b_CosFace_AdamW",
         "line": {
          "color": "#FFA15A",
          "dash": "solid"
         },
         "marker": {
          "symbol": "circle"
         },
         "mode": "lines",
         "name": "selecsls60b_CosFace_AdamW",
         "orientation": "v",
         "showlegend": false,
         "type": "scatter",
         "x": [
          19,
          39,
          59,
          79,
          99
         ],
         "xaxis": "x",
         "y": [
          1.5526932084309133,
          1.5937859608745684,
          1.5294685990338166,
          1.531055900621118,
          1.5753424657534245
         ],
         "yaxis": "y"
        },
        {
         "hovertemplate": "index=gluon_inception_v3_CosFace_Adam<br>measurement=Accuracy<br>epoch=%{x}<br>Accuracy=%{y}<extra></extra>",
         "legendgroup": "gluon_inception_v3_CosFace_Adam",
         "line": {
          "color": "#19d3f3",
          "dash": "solid"
         },
         "marker": {
          "symbol": "circle"
         },
         "mode": "lines",
         "name": "gluon_inception_v3_CosFace_Adam",
         "orientation": "v",
         "showlegend": true,
         "type": "scatter",
         "x": [
          19,
          39,
          59,
          79,
          99
         ],
         "xaxis": "x2",
         "y": [
          0.005041906757464641,
          0.03882922996333159,
          0.015060240963855422,
          0.019054478784704034,
          0.06331849135673127
         ],
         "yaxis": "y2"
        },
        {
         "hovertemplate": "index=gluon_inception_v3_CosFace_Adam<br>measurement=Disparity<br>epoch=%{x}<br>Accuracy=%{y}<extra></extra>",
         "legendgroup": "gluon_inception_v3_CosFace_Adam",
         "line": {
          "color": "#19d3f3",
          "dash": "solid"
         },
         "marker": {
          "symbol": "circle"
         },
         "mode": "lines",
         "name": "gluon_inception_v3_CosFace_Adam",
         "orientation": "v",
         "showlegend": false,
         "type": "scatter",
         "x": [
          19,
          39,
          59,
          79,
          99
         ],
         "xaxis": "x",
         "y": [
          1.4838709677419355,
          1.2209737827715355,
          1.2999999999999998,
          0.6166666666666666,
          0.7423423423423423
         ],
         "yaxis": "y"
        },
        {
         "hovertemplate": "index=ig_resnext101_32x8d_CosFace_SGD<br>measurement=Accuracy<br>epoch=%{x}<br>Accuracy=%{y}<extra></extra>",
         "legendgroup": "ig_resnext101_32x8d_CosFace_SGD",
         "line": {
          "color": "#FF6692",
          "dash": "solid"
         },
         "marker": {
          "symbol": "circle"
         },
         "mode": "lines",
         "name": "ig_resnext101_32x8d_CosFace_SGD",
         "orientation": "v",
         "showlegend": true,
         "type": "scatter",
         "x": [
          19,
          39,
          59,
          79,
          99
         ],
         "xaxis": "x2",
         "y": [
          0.8445521215295967,
          0.7943294918805658,
          0.7922341540073337,
          0.7926270298585647,
          0.8302776322682033
         ],
         "yaxis": "y2"
        },
        {
         "hovertemplate": "index=ig_resnext101_32x8d_CosFace_SGD<br>measurement=Disparity<br>epoch=%{x}<br>Accuracy=%{y}<extra></extra>",
         "legendgroup": "ig_resnext101_32x8d_CosFace_SGD",
         "line": {
          "color": "#FF6692",
          "dash": "solid"
         },
         "marker": {
          "symbol": "circle"
         },
         "mode": "lines",
         "name": "ig_resnext101_32x8d_CosFace_SGD",
         "orientation": "v",
         "showlegend": false,
         "type": "scatter",
         "x": [
          19,
          39,
          59,
          79,
          99
         ],
         "xaxis": "x",
         "y": [
          1.0706373414673303,
          1.0929951690821256,
          1.079223234232686,
          1.0921189077082614,
          1.0561050754013297
         ],
         "yaxis": "y"
        },
        {
         "hovertemplate": "index=gluon_xception65_CosFace_Adam<br>measurement=Accuracy<br>epoch=%{x}<br>Accuracy=%{y}<extra></extra>",
         "legendgroup": "gluon_xception65_CosFace_Adam",
         "line": {
          "color": "#B6E880",
          "dash": "solid"
         },
         "marker": {
          "symbol": "circle"
         },
         "mode": "lines",
         "name": "gluon_xception65_CosFace_Adam",
         "orientation": "v",
         "showlegend": true,
         "type": "scatter",
         "x": [
          19,
          39,
          59,
          79,
          99
         ],
         "xaxis": "x2",
         "y": [
          0.0018334206390780514,
          0.013292299633315872,
          0.0008512310110005239,
          0.0010476689366160294,
          0.0010476689366160294
         ],
         "yaxis": "y2"
        },
        {
         "hovertemplate": "index=gluon_xception65_CosFace_Adam<br>measurement=Disparity<br>epoch=%{x}<br>Accuracy=%{y}<extra></extra>",
         "legendgroup": "gluon_xception65_CosFace_Adam",
         "line": {
          "color": "#B6E880",
          "dash": "solid"
         },
         "marker": {
          "symbol": "circle"
         },
         "mode": "lines",
         "name": "gluon_xception65_CosFace_Adam",
         "orientation": "v",
         "showlegend": false,
         "type": "scatter",
         "x": [
          19,
          39,
          59,
          79,
          99
         ],
         "xaxis": "x",
         "y": [
          2.111111111111111,
          1.4457831325301207,
          null,
          null,
          null
         ],
         "yaxis": "y"
        },
        {
         "hovertemplate": "index=gluon_xception65_CosFace_AdamW<br>measurement=Accuracy<br>epoch=%{x}<br>Accuracy=%{y}<extra></extra>",
         "legendgroup": "gluon_xception65_CosFace_AdamW",
         "line": {
          "color": "#FF97FF",
          "dash": "solid"
         },
         "marker": {
          "symbol": "circle"
         },
         "mode": "lines",
         "name": "gluon_xception65_CosFace_AdamW",
         "orientation": "v",
         "showlegend": true,
         "type": "scatter",
         "x": [
          19,
          39,
          59,
          79,
          99
         ],
         "xaxis": "x2",
         "y": [
          0.3226165531691985,
          0.3639994761655317,
          0.3969355683603981,
          0.38626244106862234,
          0.3926794133053955
         ],
         "yaxis": "y2"
        },
        {
         "hovertemplate": "index=gluon_xception65_CosFace_AdamW<br>measurement=Disparity<br>epoch=%{x}<br>Accuracy=%{y}<extra></extra>",
         "legendgroup": "gluon_xception65_CosFace_AdamW",
         "line": {
          "color": "#FF97FF",
          "dash": "solid"
         },
         "marker": {
          "symbol": "circle"
         },
         "mode": "lines",
         "name": "gluon_xception65_CosFace_AdamW",
         "orientation": "v",
         "showlegend": false,
         "type": "scatter",
         "x": [
          19,
          39,
          59,
          79,
          99
         ],
         "xaxis": "x",
         "y": [
          1.658931462493254,
          1.6790361445783133,
          1.4180295173514161,
          1.2532467532467533,
          1.2784954407294833
         ],
         "yaxis": "y"
        },
        {
         "hovertemplate": "index=gluon_inception_v3_CosFace_AdamW<br>measurement=Accuracy<br>epoch=%{x}<br>Accuracy=%{y}<extra></extra>",
         "legendgroup": "gluon_inception_v3_CosFace_AdamW",
         "line": {
          "color": "#FECB52",
          "dash": "solid"
         },
         "marker": {
          "symbol": "circle"
         },
         "mode": "lines",
         "name": "gluon_inception_v3_CosFace_AdamW",
         "orientation": "v",
         "showlegend": true,
         "type": "scatter",
         "x": [
          19,
          39,
          59,
          79,
          99
         ],
         "xaxis": "x2",
         "y": [
          0.15407281299109482,
          0.17640125720272393,
          0.28843635411210056,
          0.4026977475117863,
          0.45213462545835514
         ],
         "yaxis": "y2"
        },
        {
         "hovertemplate": "index=gluon_inception_v3_CosFace_AdamW<br>measurement=Disparity<br>epoch=%{x}<br>Accuracy=%{y}<extra></extra>",
         "legendgroup": "gluon_inception_v3_CosFace_AdamW",
         "line": {
          "color": "#FECB52",
          "dash": "solid"
         },
         "marker": {
          "symbol": "circle"
         },
         "mode": "lines",
         "name": "gluon_inception_v3_CosFace_AdamW",
         "orientation": "v",
         "showlegend": false,
         "type": "scatter",
         "x": [
          19,
          39,
          59,
          79,
          99
         ],
         "xaxis": "x",
         "y": [
          1.552060737527115,
          1.4944444444444445,
          1.5433025404157044,
          1.3781902552204177,
          1.3631074606433948
         ],
         "yaxis": "y"
        },
        {
         "hovertemplate": "index=mobilenetv3_large_100_CosFace_RMSpropTF<br>measurement=Accuracy<br>epoch=%{x}<br>Accuracy=%{y}<extra></extra>",
         "legendgroup": "mobilenetv3_large_100_CosFace_RMSpropTF",
         "line": {
          "color": "#636efa",
          "dash": "solid"
         },
         "marker": {
          "symbol": "circle"
         },
         "mode": "lines",
         "name": "mobilenetv3_large_100_CosFace_RMSpropTF",
         "orientation": "v",
         "showlegend": true,
         "type": "scatter",
         "x": [
          19,
          39,
          59,
          79,
          99
         ],
         "xaxis": "x2",
         "y": [
          0.5062205343111577,
          0.7088789942378209,
          0.7773703509690938,
          0.824384494499738,
          0.8001571503404924
         ],
         "yaxis": "y2"
        },
        {
         "hovertemplate": "index=mobilenetv3_large_100_CosFace_RMSpropTF<br>measurement=Disparity<br>epoch=%{x}<br>Accuracy=%{y}<extra></extra>",
         "legendgroup": "mobilenetv3_large_100_CosFace_RMSpropTF",
         "line": {
          "color": "#636efa",
          "dash": "solid"
         },
         "marker": {
          "symbol": "circle"
         },
         "mode": "lines",
         "name": "mobilenetv3_large_100_CosFace_RMSpropTF",
         "orientation": "v",
         "showlegend": false,
         "type": "scatter",
         "x": [
          19,
          39,
          59,
          79,
          99
         ],
         "xaxis": "x",
         "y": [
          1.3656670746634025,
          1.1378357030015798,
          1.0971559795089207,
          1.0748187211601845,
          1.072240122095981
         ],
         "yaxis": "y"
        },
        {
         "hovertemplate": "index=xception65_CosFace_Adam<br>measurement=Accuracy<br>epoch=%{x}<br>Accuracy=%{y}<extra></extra>",
         "legendgroup": "xception65_CosFace_Adam",
         "line": {
          "color": "#EF553B",
          "dash": "solid"
         },
         "marker": {
          "symbol": "circle"
         },
         "mode": "lines",
         "name": "xception65_CosFace_Adam",
         "orientation": "v",
         "showlegend": true,
         "type": "scatter",
         "x": [
          19,
          39,
          59,
          79,
          99
         ],
         "xaxis": "x2",
         "y": [
          0.0029465688842325827,
          0.0010476689366160294,
          0.0010476689366160294,
          0.0010476689366160294,
          0.0010476689366160294
         ],
         "yaxis": "y2"
        },
        {
         "hovertemplate": "index=xception65_CosFace_Adam<br>measurement=Disparity<br>epoch=%{x}<br>Accuracy=%{y}<extra></extra>",
         "legendgroup": "xception65_CosFace_Adam",
         "line": {
          "color": "#EF553B",
          "dash": "solid"
         },
         "marker": {
          "symbol": "circle"
         },
         "mode": "lines",
         "name": "xception65_CosFace_Adam",
         "orientation": "v",
         "showlegend": false,
         "type": "scatter",
         "x": [
          19,
          39,
          59,
          79,
          99
         ],
         "xaxis": "x",
         "y": [
          2,
          null,
          null,
          null,
          null
         ],
         "yaxis": "y"
        },
        {
         "hovertemplate": "index=xception65_CosFace_AdamW<br>measurement=Accuracy<br>epoch=%{x}<br>Accuracy=%{y}<extra></extra>",
         "legendgroup": "xception65_CosFace_AdamW",
         "line": {
          "color": "#00cc96",
          "dash": "solid"
         },
         "marker": {
          "symbol": "circle"
         },
         "mode": "lines",
         "name": "xception65_CosFace_AdamW",
         "orientation": "v",
         "showlegend": true,
         "type": "scatter",
         "x": [
          19,
          39,
          59,
          79,
          99
         ],
         "xaxis": "x2",
         "y": [
          0.44414614981665795,
          0.5058276584599266,
          0.517875851231011,
          0.48277894185437403,
          0.48166579360921946
         ],
         "yaxis": "y2"
        },
        {
         "hovertemplate": "index=xception65_CosFace_AdamW<br>measurement=Disparity<br>epoch=%{x}<br>Accuracy=%{y}<extra></extra>",
         "legendgroup": "xception65_CosFace_AdamW",
         "line": {
          "color": "#00cc96",
          "dash": "solid"
         },
         "marker": {
          "symbol": "circle"
         },
         "mode": "lines",
         "name": "xception65_CosFace_AdamW",
         "orientation": "v",
         "showlegend": false,
         "type": "scatter",
         "x": [
          19,
          39,
          59,
          79,
          99
         ],
         "xaxis": "x",
         "y": [
          1.2985428668248054,
          1.3045942720763724,
          1.227887323943662,
          1.1976154992548436,
          1.1860326894502229
         ],
         "yaxis": "y"
        },
        {
         "hovertemplate": "index=selecsls60b_CosFace_Adam<br>measurement=Accuracy<br>epoch=%{x}<br>Accuracy=%{y}<extra></extra>",
         "legendgroup": "selecsls60b_CosFace_Adam",
         "line": {
          "color": "#ab63fa",
          "dash": "solid"
         },
         "marker": {
          "symbol": "circle"
         },
         "mode": "lines",
         "name": "selecsls60b_CosFace_Adam",
         "orientation": "v",
         "showlegend": true,
         "type": "scatter",
         "x": [
          19,
          39,
          59,
          79,
          99
         ],
         "xaxis": "x2",
         "y": [
          0.05893137768465165,
          0.12702985856469357,
          0.028025144054478784,
          0.044525929806181246,
          0.071503404924044
         ],
         "yaxis": "y2"
        },
        {
         "hovertemplate": "index=selecsls60b_CosFace_Adam<br>measurement=Disparity<br>epoch=%{x}<br>Accuracy=%{y}<extra></extra>",
         "legendgroup": "selecsls60b_CosFace_Adam",
         "line": {
          "color": "#ab63fa",
          "dash": "solid"
         },
         "marker": {
          "symbol": "circle"
         },
         "mode": "lines",
         "name": "selecsls60b_CosFace_Adam",
         "orientation": "v",
         "showlegend": false,
         "type": "scatter",
         "x": [
          19,
          39,
          59,
          79,
          99
         ],
         "xaxis": "x",
         "y": [
          1.5714285714285714,
          0.6869565217391304,
          0.5177304964539008,
          0.7302798982188294,
          0.39463601532567055
         ],
         "yaxis": "y"
        },
        {
         "hovertemplate": "index=xception_CosFace_AdamW<br>measurement=Accuracy<br>epoch=%{x}<br>Accuracy=%{y}<extra></extra>",
         "legendgroup": "xception_CosFace_AdamW",
         "line": {
          "color": "#FFA15A",
          "dash": "solid"
         },
         "marker": {
          "symbol": "circle"
         },
         "mode": "lines",
         "name": "xception_CosFace_AdamW",
         "orientation": "v",
         "showlegend": true,
         "type": "scatter",
         "x": [
          19,
          39,
          59,
          79,
          99
         ],
         "xaxis": "x2",
         "y": [
          0.41946045049764275,
          0.5523179675222629,
          0.5736642221058146,
          0.5916710319539026,
          0.5952723939235202
         ],
         "yaxis": "y2"
        },
        {
         "hovertemplate": "index=xception_CosFace_AdamW<br>measurement=Disparity<br>epoch=%{x}<br>Accuracy=%{y}<extra></extra>",
         "legendgroup": "xception_CosFace_AdamW",
         "line": {
          "color": "#FFA15A",
          "dash": "solid"
         },
         "marker": {
          "symbol": "circle"
         },
         "mode": "lines",
         "name": "xception_CosFace_AdamW",
         "orientation": "v",
         "showlegend": false,
         "type": "scatter",
         "x": [
          19,
          39,
          59,
          79,
          99
         ],
         "xaxis": "x",
         "y": [
          1.3311499272197964,
          1.26747311827957,
          1.2389470994122158,
          1.2272615232930737,
          1.22328197603326
         ],
         "yaxis": "y"
        },
        {
         "hovertemplate": "index=convit_base_CosFace_Adam<br>measurement=Accuracy<br>epoch=%{x}<br>Accuracy=%{y}<extra></extra>",
         "legendgroup": "convit_base_CosFace_Adam",
         "line": {
          "color": "#19d3f3",
          "dash": "solid"
         },
         "marker": {
          "symbol": "circle"
         },
         "mode": "lines",
         "name": "convit_base_CosFace_Adam",
         "orientation": "v",
         "showlegend": true,
         "type": "scatter",
         "x": [
          19,
          39,
          59,
          79,
          99
         ],
         "xaxis": "x2",
         "y": [
          0.0857778941854374,
          0.21595075955997906,
          0.2909900471451021,
          0.33761131482451545,
          0.3609874279727606
         ],
         "yaxis": "y2"
        },
        {
         "hovertemplate": "index=convit_base_CosFace_Adam<br>measurement=Disparity<br>epoch=%{x}<br>Accuracy=%{y}<extra></extra>",
         "legendgroup": "convit_base_CosFace_Adam",
         "line": {
          "color": "#19d3f3",
          "dash": "solid"
         },
         "marker": {
          "symbol": "circle"
         },
         "mode": "lines",
         "name": "convit_base_CosFace_Adam",
         "orientation": "v",
         "showlegend": false,
         "type": "scatter",
         "x": [
          19,
          39,
          59,
          79,
          99
         ],
         "xaxis": "x",
         "y": [
          1.0629921259842519,
          1.4214390602055802,
          1.4593248478140566,
          1.436672967863894,
          1.4286343612334802
         ],
         "yaxis": "y"
        },
        {
         "hovertemplate": "index=dpn107_CosFace_sgd<br>measurement=Accuracy<br>epoch=%{x}<br>Accuracy=%{y}<extra></extra>",
         "legendgroup": "dpn107_CosFace_sgd",
         "line": {
          "color": "#FF6692",
          "dash": "solid"
         },
         "marker": {
          "symbol": "circle"
         },
         "mode": "lines",
         "name": "dpn107_CosFace_sgd",
         "orientation": "v",
         "showlegend": true,
         "type": "scatter",
         "x": [
          19,
          39,
          59,
          79,
          99
         ],
         "xaxis": "x2",
         "y": [
          0.8846909376636982,
          0.9290859088528025,
          0.928234677841802,
          0.927710843373494,
          0.929282346778418
         ],
         "yaxis": "y2"
        },
        {
         "hovertemplate": "index=dpn107_CosFace_sgd<br>measurement=Disparity<br>epoch=%{x}<br>Accuracy=%{y}<extra></extra>",
         "legendgroup": "dpn107_CosFace_sgd",
         "line": {
          "color": "#FF6692",
          "dash": "solid"
         },
         "marker": {
          "symbol": "circle"
         },
         "mode": "lines",
         "name": "dpn107_CosFace_sgd",
         "orientation": "v",
         "showlegend": false,
         "type": "scatter",
         "x": [
          19,
          39,
          59,
          79,
          99
         ],
         "xaxis": "x",
         "y": [
          1.072875115065971,
          1.0412890231621348,
          1.0455988455988456,
          1.0379746835443038,
          1.044662152427604
         ],
         "yaxis": "y"
        },
        {
         "hovertemplate": "index=jx_nest_base_CosFace_AdamW<br>measurement=Accuracy<br>epoch=%{x}<br>Accuracy=%{y}<extra></extra>",
         "legendgroup": "jx_nest_base_CosFace_AdamW",
         "line": {
          "color": "#B6E880",
          "dash": "solid"
         },
         "marker": {
          "symbol": "circle"
         },
         "mode": "lines",
         "name": "jx_nest_base_CosFace_AdamW",
         "orientation": "v",
         "showlegend": true,
         "type": "scatter",
         "x": [
          19
         ],
         "xaxis": "x2",
         "y": [
          0.8784704033525406
         ],
         "yaxis": "y2"
        },
        {
         "hovertemplate": "index=jx_nest_base_CosFace_AdamW<br>measurement=Disparity<br>epoch=%{x}<br>Accuracy=%{y}<extra></extra>",
         "legendgroup": "jx_nest_base_CosFace_AdamW",
         "line": {
          "color": "#B6E880",
          "dash": "solid"
         },
         "marker": {
          "symbol": "circle"
         },
         "mode": "lines",
         "name": "jx_nest_base_CosFace_AdamW",
         "orientation": "v",
         "showlegend": false,
         "type": "scatter",
         "x": [
          19
         ],
         "xaxis": "x",
         "y": [
          1.0694123091161498
         ],
         "yaxis": "y"
        },
        {
         "hovertemplate": "index=coat_lite_small_CosFace_Adam<br>measurement=Accuracy<br>epoch=%{x}<br>Accuracy=%{y}<extra></extra>",
         "legendgroup": "coat_lite_small_CosFace_Adam",
         "line": {
          "color": "#FF97FF",
          "dash": "solid"
         },
         "marker": {
          "symbol": "circle"
         },
         "mode": "lines",
         "name": "coat_lite_small_CosFace_Adam",
         "orientation": "v",
         "showlegend": true,
         "type": "scatter",
         "x": [
          19,
          39,
          59,
          79,
          99
         ],
         "xaxis": "x2",
         "y": [
          0.018465165007857515,
          0.07222367731796753,
          0.10967784180199057,
          0.21942116291251965,
          0.25635149292823467
         ],
         "yaxis": "y2"
        },
        {
         "hovertemplate": "index=coat_lite_small_CosFace_Adam<br>measurement=Disparity<br>epoch=%{x}<br>Accuracy=%{y}<extra></extra>",
         "legendgroup": "coat_lite_small_CosFace_Adam",
         "line": {
          "color": "#FF97FF",
          "dash": "solid"
         },
         "marker": {
          "symbol": "circle"
         },
         "mode": "lines",
         "name": "coat_lite_small_CosFace_Adam",
         "orientation": "v",
         "showlegend": false,
         "type": "scatter",
         "x": [
          19,
          39,
          59,
          79,
          99
         ],
         "xaxis": "x",
         "y": [
          1.2741935483870968,
          1.6261904761904762,
          1.7870216306156406,
          1.5252449133383572,
          1.5722733245729306
         ],
         "yaxis": "y"
        },
        {
         "hovertemplate": "index=coat_lite_small_CosFace_AdamW<br>measurement=Accuracy<br>epoch=%{x}<br>Accuracy=%{y}<extra></extra>",
         "legendgroup": "coat_lite_small_CosFace_AdamW",
         "line": {
          "color": "#FECB52",
          "dash": "solid"
         },
         "marker": {
          "symbol": "circle"
         },
         "mode": "lines",
         "name": "coat_lite_small_CosFace_AdamW",
         "orientation": "v",
         "showlegend": true,
         "type": "scatter",
         "x": [
          19,
          39,
          59,
          79,
          99
         ],
         "xaxis": "x2",
         "y": [
          0.8955605028810896,
          0.8825301204819277,
          0.872904662126768,
          0.8733630172865374,
          0.859219486642221
         ],
         "yaxis": "y2"
        },
        {
         "hovertemplate": "index=coat_lite_small_CosFace_AdamW<br>measurement=Disparity<br>epoch=%{x}<br>Accuracy=%{y}<extra></extra>",
         "legendgroup": "coat_lite_small_CosFace_AdamW",
         "line": {
          "color": "#FECB52",
          "dash": "solid"
         },
         "marker": {
          "symbol": "circle"
         },
         "mode": "lines",
         "name": "coat_lite_small_CosFace_AdamW",
         "orientation": "v",
         "showlegend": false,
         "type": "scatter",
         "x": [
          19,
          39,
          59,
          79,
          99
         ],
         "xaxis": "x",
         "y": [
          1.0823690621193667,
          1.1089031450477234,
          1.1231087752826883,
          1.1249004301417875,
          1.1402707551786007
         ],
         "yaxis": "y"
        },
        {
         "hovertemplate": "index=twins_svt_large_CosFace_adamw<br>measurement=Accuracy<br>epoch=%{x}<br>Accuracy=%{y}<extra></extra>",
         "legendgroup": "twins_svt_large_CosFace_adamw",
         "line": {
          "color": "#636efa",
          "dash": "solid"
         },
         "marker": {
          "symbol": "circle"
         },
         "mode": "lines",
         "name": "twins_svt_large_CosFace_adamw",
         "orientation": "v",
         "showlegend": true,
         "type": "scatter",
         "x": [
          19,
          39,
          59,
          79,
          99
         ],
         "xaxis": "x2",
         "y": [
          0.001178627553693033,
          0.001636982713462546,
          0.0011131482451545312,
          0.001636982713462546,
          0.0007202723939235202
         ],
         "yaxis": "y2"
        },
        {
         "hovertemplate": "index=twins_svt_large_CosFace_adamw<br>measurement=Disparity<br>epoch=%{x}<br>Accuracy=%{y}<extra></extra>",
         "legendgroup": "twins_svt_large_CosFace_adamw",
         "line": {
          "color": "#636efa",
          "dash": "solid"
         },
         "marker": {
          "symbol": "circle"
         },
         "mode": "lines",
         "name": "twins_svt_large_CosFace_adamw",
         "orientation": "v",
         "showlegend": false,
         "type": "scatter",
         "x": [
          19,
          39,
          59,
          79,
          99
         ],
         "xaxis": "x",
         "y": [
          0,
          null,
          16,
          null,
          10
         ],
         "yaxis": "y"
        },
        {
         "hovertemplate": "index=hrnet_w64_CosFace_sgd<br>measurement=Accuracy<br>epoch=%{x}<br>Accuracy=%{y}<extra></extra>",
         "legendgroup": "hrnet_w64_CosFace_sgd",
         "line": {
          "color": "#EF553B",
          "dash": "solid"
         },
         "marker": {
          "symbol": "circle"
         },
         "mode": "lines",
         "name": "hrnet_w64_CosFace_sgd",
         "orientation": "v",
         "showlegend": true,
         "type": "scatter",
         "x": [
          19,
          39
         ],
         "xaxis": "x2",
         "y": [
          0.8776191723415401,
          0.8974594028287062
         ],
         "yaxis": "y2"
        },
        {
         "hovertemplate": "index=hrnet_w64_CosFace_sgd<br>measurement=Disparity<br>epoch=%{x}<br>Accuracy=%{y}<extra></extra>",
         "legendgroup": "hrnet_w64_CosFace_sgd",
         "line": {
          "color": "#EF553B",
          "dash": "solid"
         },
         "marker": {
          "symbol": "circle"
         },
         "mode": "lines",
         "name": "hrnet_w64_CosFace_sgd",
         "orientation": "v",
         "showlegend": false,
         "type": "scatter",
         "x": [
          19,
          39
         ],
         "xaxis": "x",
         "y": [
          1.0270719903206291,
          1.0484232551188164
         ],
         "yaxis": "y"
        },
        {
         "hovertemplate": "index=dla102x2_CosFace_sgd<br>measurement=Accuracy<br>epoch=%{x}<br>Accuracy=%{y}<extra></extra>",
         "legendgroup": "dla102x2_CosFace_sgd",
         "line": {
          "color": "#00cc96",
          "dash": "solid"
         },
         "marker": {
          "symbol": "circle"
         },
         "mode": "lines",
         "name": "dla102x2_CosFace_sgd",
         "orientation": "v",
         "showlegend": true,
         "type": "scatter",
         "x": [
          19,
          39,
          59,
          79,
          99
         ],
         "xaxis": "x2",
         "y": [
          0.8679937139863803,
          0.8870481927710844,
          0.8556181246726035,
          0.8544394971189104,
          0.8595468831849136
         ],
         "yaxis": "y2"
        },
        {
         "hovertemplate": "index=dla102x2_CosFace_sgd<br>measurement=Disparity<br>epoch=%{x}<br>Accuracy=%{y}<extra></extra>",
         "legendgroup": "dla102x2_CosFace_sgd",
         "line": {
          "color": "#00cc96",
          "dash": "solid"
         },
         "marker": {
          "symbol": "circle"
         },
         "mode": "lines",
         "name": "dla102x2_CosFace_sgd",
         "orientation": "v",
         "showlegend": false,
         "type": "scatter",
         "x": [
          19,
          39,
          59,
          79,
          99
         ],
         "xaxis": "x",
         "y": [
          1.0491575204823,
          1.0745788667687597,
          1.0863803289158551,
          1.095551629998394,
          1.0892885564220913
         ],
         "yaxis": "y"
        },
        {
         "hovertemplate": "index=convit_base_CosFace_AdamW<br>measurement=Accuracy<br>epoch=%{x}<br>Accuracy=%{y}<extra></extra>",
         "legendgroup": "convit_base_CosFace_AdamW",
         "line": {
          "color": "#ab63fa",
          "dash": "solid"
         },
         "marker": {
          "symbol": "circle"
         },
         "mode": "lines",
         "name": "convit_base_CosFace_AdamW",
         "orientation": "v",
         "showlegend": true,
         "type": "scatter",
         "x": [
          19,
          39,
          59,
          79
         ],
         "xaxis": "x2",
         "y": [
          0.15531691985332635,
          0.2670246202200105,
          0.3288370874803562,
          0.34586170770036667
         ],
         "yaxis": "y2"
        },
        {
         "hovertemplate": "index=convit_base_CosFace_AdamW<br>measurement=Disparity<br>epoch=%{x}<br>Accuracy=%{y}<extra></extra>",
         "legendgroup": "convit_base_CosFace_AdamW",
         "line": {
          "color": "#ab63fa",
          "dash": "solid"
         },
         "marker": {
          "symbol": "circle"
         },
         "mode": "lines",
         "name": "convit_base_CosFace_AdamW",
         "orientation": "v",
         "showlegend": false,
         "type": "scatter",
         "x": [
          19,
          39,
          59,
          79
         ],
         "xaxis": "x",
         "y": [
          1.192236598890943,
          1.3750728013977869,
          1.4449853943524829,
          1.4682242990654204
         ],
         "yaxis": "y"
        }
       ],
       "layout": {
        "annotations": [
         {
          "font": {},
          "showarrow": false,
          "text": "Disparity",
          "textangle": 90,
          "x": 0.98,
          "xanchor": "left",
          "xref": "paper",
          "y": 0.2425,
          "yanchor": "middle",
          "yref": "paper"
         },
         {
          "font": {},
          "showarrow": false,
          "text": "Accuracy",
          "textangle": 90,
          "x": 0.98,
          "xanchor": "left",
          "xref": "paper",
          "y": 0.7575000000000001,
          "yanchor": "middle",
          "yref": "paper"
         }
        ],
        "legend": {
         "title": {
          "text": "index"
         },
         "tracegroupgap": 0
        },
        "template": {
         "data": {
          "bar": [
           {
            "error_x": {
             "color": "#2a3f5f"
            },
            "error_y": {
             "color": "#2a3f5f"
            },
            "marker": {
             "line": {
              "color": "#E5ECF6",
              "width": 0.5
             },
             "pattern": {
              "fillmode": "overlay",
              "size": 10,
              "solidity": 0.2
             }
            },
            "type": "bar"
           }
          ],
          "barpolar": [
           {
            "marker": {
             "line": {
              "color": "#E5ECF6",
              "width": 0.5
             },
             "pattern": {
              "fillmode": "overlay",
              "size": 10,
              "solidity": 0.2
             }
            },
            "type": "barpolar"
           }
          ],
          "carpet": [
           {
            "aaxis": {
             "endlinecolor": "#2a3f5f",
             "gridcolor": "white",
             "linecolor": "white",
             "minorgridcolor": "white",
             "startlinecolor": "#2a3f5f"
            },
            "baxis": {
             "endlinecolor": "#2a3f5f",
             "gridcolor": "white",
             "linecolor": "white",
             "minorgridcolor": "white",
             "startlinecolor": "#2a3f5f"
            },
            "type": "carpet"
           }
          ],
          "choropleth": [
           {
            "colorbar": {
             "outlinewidth": 0,
             "ticks": ""
            },
            "type": "choropleth"
           }
          ],
          "contour": [
           {
            "colorbar": {
             "outlinewidth": 0,
             "ticks": ""
            },
            "colorscale": [
             [
              0,
              "#0d0887"
             ],
             [
              0.1111111111111111,
              "#46039f"
             ],
             [
              0.2222222222222222,
              "#7201a8"
             ],
             [
              0.3333333333333333,
              "#9c179e"
             ],
             [
              0.4444444444444444,
              "#bd3786"
             ],
             [
              0.5555555555555556,
              "#d8576b"
             ],
             [
              0.6666666666666666,
              "#ed7953"
             ],
             [
              0.7777777777777778,
              "#fb9f3a"
             ],
             [
              0.8888888888888888,
              "#fdca26"
             ],
             [
              1,
              "#f0f921"
             ]
            ],
            "type": "contour"
           }
          ],
          "contourcarpet": [
           {
            "colorbar": {
             "outlinewidth": 0,
             "ticks": ""
            },
            "type": "contourcarpet"
           }
          ],
          "heatmap": [
           {
            "colorbar": {
             "outlinewidth": 0,
             "ticks": ""
            },
            "colorscale": [
             [
              0,
              "#0d0887"
             ],
             [
              0.1111111111111111,
              "#46039f"
             ],
             [
              0.2222222222222222,
              "#7201a8"
             ],
             [
              0.3333333333333333,
              "#9c179e"
             ],
             [
              0.4444444444444444,
              "#bd3786"
             ],
             [
              0.5555555555555556,
              "#d8576b"
             ],
             [
              0.6666666666666666,
              "#ed7953"
             ],
             [
              0.7777777777777778,
              "#fb9f3a"
             ],
             [
              0.8888888888888888,
              "#fdca26"
             ],
             [
              1,
              "#f0f921"
             ]
            ],
            "type": "heatmap"
           }
          ],
          "heatmapgl": [
           {
            "colorbar": {
             "outlinewidth": 0,
             "ticks": ""
            },
            "colorscale": [
             [
              0,
              "#0d0887"
             ],
             [
              0.1111111111111111,
              "#46039f"
             ],
             [
              0.2222222222222222,
              "#7201a8"
             ],
             [
              0.3333333333333333,
              "#9c179e"
             ],
             [
              0.4444444444444444,
              "#bd3786"
             ],
             [
              0.5555555555555556,
              "#d8576b"
             ],
             [
              0.6666666666666666,
              "#ed7953"
             ],
             [
              0.7777777777777778,
              "#fb9f3a"
             ],
             [
              0.8888888888888888,
              "#fdca26"
             ],
             [
              1,
              "#f0f921"
             ]
            ],
            "type": "heatmapgl"
           }
          ],
          "histogram": [
           {
            "marker": {
             "pattern": {
              "fillmode": "overlay",
              "size": 10,
              "solidity": 0.2
             }
            },
            "type": "histogram"
           }
          ],
          "histogram2d": [
           {
            "colorbar": {
             "outlinewidth": 0,
             "ticks": ""
            },
            "colorscale": [
             [
              0,
              "#0d0887"
             ],
             [
              0.1111111111111111,
              "#46039f"
             ],
             [
              0.2222222222222222,
              "#7201a8"
             ],
             [
              0.3333333333333333,
              "#9c179e"
             ],
             [
              0.4444444444444444,
              "#bd3786"
             ],
             [
              0.5555555555555556,
              "#d8576b"
             ],
             [
              0.6666666666666666,
              "#ed7953"
             ],
             [
              0.7777777777777778,
              "#fb9f3a"
             ],
             [
              0.8888888888888888,
              "#fdca26"
             ],
             [
              1,
              "#f0f921"
             ]
            ],
            "type": "histogram2d"
           }
          ],
          "histogram2dcontour": [
           {
            "colorbar": {
             "outlinewidth": 0,
             "ticks": ""
            },
            "colorscale": [
             [
              0,
              "#0d0887"
             ],
             [
              0.1111111111111111,
              "#46039f"
             ],
             [
              0.2222222222222222,
              "#7201a8"
             ],
             [
              0.3333333333333333,
              "#9c179e"
             ],
             [
              0.4444444444444444,
              "#bd3786"
             ],
             [
              0.5555555555555556,
              "#d8576b"
             ],
             [
              0.6666666666666666,
              "#ed7953"
             ],
             [
              0.7777777777777778,
              "#fb9f3a"
             ],
             [
              0.8888888888888888,
              "#fdca26"
             ],
             [
              1,
              "#f0f921"
             ]
            ],
            "type": "histogram2dcontour"
           }
          ],
          "mesh3d": [
           {
            "colorbar": {
             "outlinewidth": 0,
             "ticks": ""
            },
            "type": "mesh3d"
           }
          ],
          "parcoords": [
           {
            "line": {
             "colorbar": {
              "outlinewidth": 0,
              "ticks": ""
             }
            },
            "type": "parcoords"
           }
          ],
          "pie": [
           {
            "automargin": true,
            "type": "pie"
           }
          ],
          "scatter": [
           {
            "marker": {
             "colorbar": {
              "outlinewidth": 0,
              "ticks": ""
             }
            },
            "type": "scatter"
           }
          ],
          "scatter3d": [
           {
            "line": {
             "colorbar": {
              "outlinewidth": 0,
              "ticks": ""
             }
            },
            "marker": {
             "colorbar": {
              "outlinewidth": 0,
              "ticks": ""
             }
            },
            "type": "scatter3d"
           }
          ],
          "scattercarpet": [
           {
            "marker": {
             "colorbar": {
              "outlinewidth": 0,
              "ticks": ""
             }
            },
            "type": "scattercarpet"
           }
          ],
          "scattergeo": [
           {
            "marker": {
             "colorbar": {
              "outlinewidth": 0,
              "ticks": ""
             }
            },
            "type": "scattergeo"
           }
          ],
          "scattergl": [
           {
            "marker": {
             "colorbar": {
              "outlinewidth": 0,
              "ticks": ""
             }
            },
            "type": "scattergl"
           }
          ],
          "scattermapbox": [
           {
            "marker": {
             "colorbar": {
              "outlinewidth": 0,
              "ticks": ""
             }
            },
            "type": "scattermapbox"
           }
          ],
          "scatterpolar": [
           {
            "marker": {
             "colorbar": {
              "outlinewidth": 0,
              "ticks": ""
             }
            },
            "type": "scatterpolar"
           }
          ],
          "scatterpolargl": [
           {
            "marker": {
             "colorbar": {
              "outlinewidth": 0,
              "ticks": ""
             }
            },
            "type": "scatterpolargl"
           }
          ],
          "scatterternary": [
           {
            "marker": {
             "colorbar": {
              "outlinewidth": 0,
              "ticks": ""
             }
            },
            "type": "scatterternary"
           }
          ],
          "surface": [
           {
            "colorbar": {
             "outlinewidth": 0,
             "ticks": ""
            },
            "colorscale": [
             [
              0,
              "#0d0887"
             ],
             [
              0.1111111111111111,
              "#46039f"
             ],
             [
              0.2222222222222222,
              "#7201a8"
             ],
             [
              0.3333333333333333,
              "#9c179e"
             ],
             [
              0.4444444444444444,
              "#bd3786"
             ],
             [
              0.5555555555555556,
              "#d8576b"
             ],
             [
              0.6666666666666666,
              "#ed7953"
             ],
             [
              0.7777777777777778,
              "#fb9f3a"
             ],
             [
              0.8888888888888888,
              "#fdca26"
             ],
             [
              1,
              "#f0f921"
             ]
            ],
            "type": "surface"
           }
          ],
          "table": [
           {
            "cells": {
             "fill": {
              "color": "#EBF0F8"
             },
             "line": {
              "color": "white"
             }
            },
            "header": {
             "fill": {
              "color": "#C8D4E3"
             },
             "line": {
              "color": "white"
             }
            },
            "type": "table"
           }
          ]
         },
         "layout": {
          "annotationdefaults": {
           "arrowcolor": "#2a3f5f",
           "arrowhead": 0,
           "arrowwidth": 1
          },
          "autotypenumbers": "strict",
          "coloraxis": {
           "colorbar": {
            "outlinewidth": 0,
            "ticks": ""
           }
          },
          "colorscale": {
           "diverging": [
            [
             0,
             "#8e0152"
            ],
            [
             0.1,
             "#c51b7d"
            ],
            [
             0.2,
             "#de77ae"
            ],
            [
             0.3,
             "#f1b6da"
            ],
            [
             0.4,
             "#fde0ef"
            ],
            [
             0.5,
             "#f7f7f7"
            ],
            [
             0.6,
             "#e6f5d0"
            ],
            [
             0.7,
             "#b8e186"
            ],
            [
             0.8,
             "#7fbc41"
            ],
            [
             0.9,
             "#4d9221"
            ],
            [
             1,
             "#276419"
            ]
           ],
           "sequential": [
            [
             0,
             "#0d0887"
            ],
            [
             0.1111111111111111,
             "#46039f"
            ],
            [
             0.2222222222222222,
             "#7201a8"
            ],
            [
             0.3333333333333333,
             "#9c179e"
            ],
            [
             0.4444444444444444,
             "#bd3786"
            ],
            [
             0.5555555555555556,
             "#d8576b"
            ],
            [
             0.6666666666666666,
             "#ed7953"
            ],
            [
             0.7777777777777778,
             "#fb9f3a"
            ],
            [
             0.8888888888888888,
             "#fdca26"
            ],
            [
             1,
             "#f0f921"
            ]
           ],
           "sequentialminus": [
            [
             0,
             "#0d0887"
            ],
            [
             0.1111111111111111,
             "#46039f"
            ],
            [
             0.2222222222222222,
             "#7201a8"
            ],
            [
             0.3333333333333333,
             "#9c179e"
            ],
            [
             0.4444444444444444,
             "#bd3786"
            ],
            [
             0.5555555555555556,
             "#d8576b"
            ],
            [
             0.6666666666666666,
             "#ed7953"
            ],
            [
             0.7777777777777778,
             "#fb9f3a"
            ],
            [
             0.8888888888888888,
             "#fdca26"
            ],
            [
             1,
             "#f0f921"
            ]
           ]
          },
          "colorway": [
           "#636efa",
           "#EF553B",
           "#00cc96",
           "#ab63fa",
           "#FFA15A",
           "#19d3f3",
           "#FF6692",
           "#B6E880",
           "#FF97FF",
           "#FECB52"
          ],
          "font": {
           "color": "#2a3f5f"
          },
          "geo": {
           "bgcolor": "white",
           "lakecolor": "white",
           "landcolor": "#E5ECF6",
           "showlakes": true,
           "showland": true,
           "subunitcolor": "white"
          },
          "hoverlabel": {
           "align": "left"
          },
          "hovermode": "closest",
          "mapbox": {
           "style": "light"
          },
          "paper_bgcolor": "white",
          "plot_bgcolor": "#E5ECF6",
          "polar": {
           "angularaxis": {
            "gridcolor": "white",
            "linecolor": "white",
            "ticks": ""
           },
           "bgcolor": "#E5ECF6",
           "radialaxis": {
            "gridcolor": "white",
            "linecolor": "white",
            "ticks": ""
           }
          },
          "scene": {
           "xaxis": {
            "backgroundcolor": "#E5ECF6",
            "gridcolor": "white",
            "gridwidth": 2,
            "linecolor": "white",
            "showbackground": true,
            "ticks": "",
            "zerolinecolor": "white"
           },
           "yaxis": {
            "backgroundcolor": "#E5ECF6",
            "gridcolor": "white",
            "gridwidth": 2,
            "linecolor": "white",
            "showbackground": true,
            "ticks": "",
            "zerolinecolor": "white"
           },
           "zaxis": {
            "backgroundcolor": "#E5ECF6",
            "gridcolor": "white",
            "gridwidth": 2,
            "linecolor": "white",
            "showbackground": true,
            "ticks": "",
            "zerolinecolor": "white"
           }
          },
          "shapedefaults": {
           "line": {
            "color": "#2a3f5f"
           }
          },
          "ternary": {
           "aaxis": {
            "gridcolor": "white",
            "linecolor": "white",
            "ticks": ""
           },
           "baxis": {
            "gridcolor": "white",
            "linecolor": "white",
            "ticks": ""
           },
           "bgcolor": "#E5ECF6",
           "caxis": {
            "gridcolor": "white",
            "linecolor": "white",
            "ticks": ""
           }
          },
          "title": {
           "x": 0.05
          },
          "xaxis": {
           "automargin": true,
           "gridcolor": "white",
           "linecolor": "white",
           "ticks": "",
           "title": {
            "standoff": 15
           },
           "zerolinecolor": "white",
           "zerolinewidth": 2
          },
          "yaxis": {
           "automargin": true,
           "gridcolor": "white",
           "linecolor": "white",
           "ticks": "",
           "title": {
            "standoff": 15
           },
           "zerolinecolor": "white",
           "zerolinewidth": 2
          }
         }
        },
        "title": {
         "text": "Phase1b(ii) Accuracy and Disparity"
        },
        "xaxis": {
         "anchor": "y",
         "domain": [
          0,
          0.98
         ],
         "title": {
          "text": "epoch"
         }
        },
        "xaxis2": {
         "anchor": "y2",
         "domain": [
          0,
          0.98
         ],
         "matches": "x",
         "showticklabels": false
        },
        "yaxis": {
         "anchor": "x",
         "domain": [
          0,
          0.485
         ],
         "title": {
          "text": "Disparity"
         }
        },
        "yaxis2": {
         "anchor": "x2",
         "domain": [
          0.515,
          1
         ],
         "title": {
          "text": "Accuracy"
         }
        }
       }
      },
      "text/html": [
       "<div>                            <div id=\"2b94a2a5-f481-4222-8b09-1a698927bdf6\" class=\"plotly-graph-div\" style=\"height:525px; width:100%;\"></div>            <script type=\"text/javascript\">                require([\"plotly\"], function(Plotly) {                    window.PLOTLYENV=window.PLOTLYENV || {};                                    if (document.getElementById(\"2b94a2a5-f481-4222-8b09-1a698927bdf6\")) {                    Plotly.newPlot(                        \"2b94a2a5-f481-4222-8b09-1a698927bdf6\",                        [{\"hovertemplate\":\"index=resnetrs101_CosFace_SGD<br>measurement=Accuracy<br>epoch=%{x}<br>Accuracy=%{y}<extra></extra>\",\"legendgroup\":\"resnetrs101_CosFace_SGD\",\"line\":{\"color\":\"#636efa\",\"dash\":\"solid\"},\"marker\":{\"symbol\":\"circle\"},\"mode\":\"lines\",\"name\":\"resnetrs101_CosFace_SGD\",\"orientation\":\"v\",\"showlegend\":true,\"x\":[19,39,59,79,99],\"xaxis\":\"x2\",\"y\":[0.8765715034049241,0.8958878994237821,0.8805657412257727,0.8645233106338397,0.8721843897328444],\"yaxis\":\"y2\",\"type\":\"scatter\"},{\"hovertemplate\":\"index=resnetrs101_CosFace_SGD<br>measurement=Disparity<br>epoch=%{x}<br>Accuracy=%{y}<extra></extra>\",\"legendgroup\":\"resnetrs101_CosFace_SGD\",\"line\":{\"color\":\"#636efa\",\"dash\":\"solid\"},\"marker\":{\"symbol\":\"circle\"},\"mode\":\"lines\",\"name\":\"resnetrs101_CosFace_SGD\",\"orientation\":\"v\",\"showlegend\":false,\"x\":[19,39,59,79,99],\"xaxis\":\"x\",\"y\":[1.0466289558171533,1.0314773570898292,1.044079647362821,1.053343701399689,1.044512663085188],\"yaxis\":\"y\",\"type\":\"scatter\"},{\"hovertemplate\":\"index=inception_v4_CosFace_RMSProp<br>measurement=Accuracy<br>epoch=%{x}<br>Accuracy=%{y}<extra></extra>\",\"legendgroup\":\"inception_v4_CosFace_RMSProp\",\"line\":{\"color\":\"#EF553B\",\"dash\":\"solid\"},\"marker\":{\"symbol\":\"circle\"},\"mode\":\"lines\",\"name\":\"inception_v4_CosFace_RMSProp\",\"orientation\":\"v\",\"showlegend\":true,\"x\":[19,39,59,79,99],\"xaxis\":\"x2\",\"y\":[0.0026191723415400735,0.05631220534311158,0.16697223677317968,0.03463855421686747,0.0017024620220010478],\"yaxis\":\"y2\",\"type\":\"scatter\"},{\"hovertemplate\":\"index=inception_v4_CosFace_RMSProp<br>measurement=Disparity<br>epoch=%{x}<br>Accuracy=%{y}<extra></extra>\",\"legendgroup\":\"inception_v4_CosFace_RMSProp\",\"line\":{\"color\":\"#EF553B\",\"dash\":\"solid\"},\"marker\":{\"symbol\":\"circle\"},\"mode\":\"lines\",\"name\":\"inception_v4_CosFace_RMSProp\",\"orientation\":\"v\",\"showlegend\":false,\"x\":[19,39,59,79,99],\"xaxis\":\"x\",\"y\":[2.3333333333333335,1.1339950372208436,0.9129782445611403,0.7633333333333333,null],\"yaxis\":\"y\",\"type\":\"scatter\"},{\"hovertemplate\":\"index=fbnetv3_g_CosFace_AdamW<br>measurement=Accuracy<br>epoch=%{x}<br>Accuracy=%{y}<extra></extra>\",\"legendgroup\":\"fbnetv3_g_CosFace_AdamW\",\"line\":{\"color\":\"#00cc96\",\"dash\":\"solid\"},\"marker\":{\"symbol\":\"circle\"},\"mode\":\"lines\",\"name\":\"fbnetv3_g_CosFace_AdamW\",\"orientation\":\"v\",\"showlegend\":true,\"x\":[19,39,59,79,99],\"xaxis\":\"x2\",\"y\":[0.07608695652173914,0.1492928234677842,0.2976034573074908,0.3716605552645364,0.393661602933473],\"yaxis\":\"y2\",\"type\":\"scatter\"},{\"hovertemplate\":\"index=fbnetv3_g_CosFace_AdamW<br>measurement=Disparity<br>epoch=%{x}<br>Accuracy=%{y}<extra></extra>\",\"legendgroup\":\"fbnetv3_g_CosFace_AdamW\",\"line\":{\"color\":\"#00cc96\",\"dash\":\"solid\"},\"marker\":{\"symbol\":\"circle\"},\"mode\":\"lines\",\"name\":\"fbnetv3_g_CosFace_AdamW\",\"orientation\":\"v\",\"showlegend\":false,\"x\":[19,39,59,79,99],\"xaxis\":\"x\",\"y\":[1.8833746898263026,1.695035460992908,1.5823863636363635,1.4391920928233777,1.3961737744121163],\"yaxis\":\"y\",\"type\":\"scatter\"},{\"hovertemplate\":\"index=rexnet_200_CosFace_SGD<br>measurement=Accuracy<br>epoch=%{x}<br>Accuracy=%{y}<extra></extra>\",\"legendgroup\":\"rexnet_200_CosFace_SGD\",\"line\":{\"color\":\"#ab63fa\",\"dash\":\"solid\"},\"marker\":{\"symbol\":\"circle\"},\"mode\":\"lines\",\"name\":\"rexnet_200_CosFace_SGD\",\"orientation\":\"v\",\"showlegend\":true,\"x\":[19,39,59,79,99],\"xaxis\":\"x2\",\"y\":[0.9385804085908853,0.9548847564169722,0.9546228391828182,0.9554740701938188,0.9540335254059717],\"yaxis\":\"y2\",\"type\":\"scatter\"},{\"hovertemplate\":\"index=rexnet_200_CosFace_SGD<br>measurement=Disparity<br>epoch=%{x}<br>Accuracy=%{y}<extra></extra>\",\"legendgroup\":\"rexnet_200_CosFace_SGD\",\"line\":{\"color\":\"#ab63fa\",\"dash\":\"solid\"},\"marker\":{\"symbol\":\"circle\"},\"mode\":\"lines\",\"name\":\"rexnet_200_CosFace_SGD\",\"orientation\":\"v\",\"showlegend\":false,\"x\":[19,39,59,79,99],\"xaxis\":\"x\",\"y\":[1.0297366185216652,1.020365752285952,1.0175754220869084,1.0246982100735396,1.0247359644246803],\"yaxis\":\"y\",\"type\":\"scatter\"},{\"hovertemplate\":\"index=xception_CosFace_Adam<br>measurement=Accuracy<br>epoch=%{x}<br>Accuracy=%{y}<extra></extra>\",\"legendgroup\":\"xception_CosFace_Adam\",\"line\":{\"color\":\"#FFA15A\",\"dash\":\"solid\"},\"marker\":{\"symbol\":\"circle\"},\"mode\":\"lines\",\"name\":\"xception_CosFace_Adam\",\"orientation\":\"v\",\"showlegend\":true,\"x\":[19,39,59,79,99],\"xaxis\":\"x2\",\"y\":[0.003666841278156103,0.0013095861707700367,0.001178627553693033,0.0010476689366160294,0.010476689366160294],\"yaxis\":\"y2\",\"type\":\"scatter\"},{\"hovertemplate\":\"index=xception_CosFace_Adam<br>measurement=Disparity<br>epoch=%{x}<br>Accuracy=%{y}<extra></extra>\",\"legendgroup\":\"xception_CosFace_Adam\",\"line\":{\"color\":\"#FFA15A\",\"dash\":\"solid\"},\"marker\":{\"symbol\":\"circle\"},\"mode\":\"lines\",\"name\":\"xception_CosFace_Adam\",\"orientation\":\"v\",\"showlegend\":false,\"x\":[19,39,59,79,99],\"xaxis\":\"x\",\"y\":[1.6666666666666667,9.0,8.0,null,1.6229508196721312],\"yaxis\":\"y\",\"type\":\"scatter\"},{\"hovertemplate\":\"index=vgg19_CosFace_SGD<br>measurement=Accuracy<br>epoch=%{x}<br>Accuracy=%{y}<extra></extra>\",\"legendgroup\":\"vgg19_CosFace_SGD\",\"line\":{\"color\":\"#19d3f3\",\"dash\":\"solid\"},\"marker\":{\"symbol\":\"circle\"},\"mode\":\"lines\",\"name\":\"vgg19_CosFace_SGD\",\"orientation\":\"v\",\"showlegend\":true,\"x\":[19,39,59,79,99],\"xaxis\":\"x2\",\"y\":[0.7284573074908329,0.7822158198009429,0.752357255107386,0.7017417496071241,0.6573467784180199],\"yaxis\":\"y2\",\"type\":\"scatter\"},{\"hovertemplate\":\"index=vgg19_CosFace_SGD<br>measurement=Disparity<br>epoch=%{x}<br>Accuracy=%{y}<extra></extra>\",\"legendgroup\":\"vgg19_CosFace_SGD\",\"line\":{\"color\":\"#19d3f3\",\"dash\":\"solid\"},\"marker\":{\"symbol\":\"circle\"},\"mode\":\"lines\",\"name\":\"vgg19_CosFace_SGD\",\"orientation\":\"v\",\"showlegend\":false,\"x\":[19,39,59,79,99],\"xaxis\":\"x\",\"y\":[1.1560077519379846,1.0902887139107613,1.1059384164222874,1.1357114388202472,1.1861933797909407],\"yaxis\":\"y\",\"type\":\"scatter\"},{\"hovertemplate\":\"index=legacy_senet154_CosFace_SGD<br>measurement=Accuracy<br>epoch=%{x}<br>Accuracy=%{y}<extra></extra>\",\"legendgroup\":\"legacy_senet154_CosFace_SGD\",\"line\":{\"color\":\"#FF6692\",\"dash\":\"solid\"},\"marker\":{\"symbol\":\"circle\"},\"mode\":\"lines\",\"name\":\"legacy_senet154_CosFace_SGD\",\"orientation\":\"v\",\"showlegend\":true,\"x\":[19,39,59,79,99],\"xaxis\":\"x2\",\"y\":[0.8789287585123101,0.838855421686747,0.8106993190151912,0.8160686223153484,0.8013357778941854],\"yaxis\":\"y2\",\"type\":\"scatter\"},{\"hovertemplate\":\"index=legacy_senet154_CosFace_SGD<br>measurement=Disparity<br>epoch=%{x}<br>Accuracy=%{y}<extra></extra>\",\"legendgroup\":\"legacy_senet154_CosFace_SGD\",\"line\":{\"color\":\"#FF6692\",\"dash\":\"solid\"},\"marker\":{\"symbol\":\"circle\"},\"mode\":\"lines\",\"name\":\"legacy_senet154_CosFace_SGD\",\"orientation\":\"v\",\"showlegend\":false,\"x\":[19,39,59,79,99],\"xaxis\":\"x\",\"y\":[1.0524464831804283,1.0563402889245586,1.070747616658304,1.087604690117253,1.086615515771526],\"yaxis\":\"y\",\"type\":\"scatter\"},{\"hovertemplate\":\"index=inception_resnet_v2_CosFace_RMSProp<br>measurement=Accuracy<br>epoch=%{x}<br>Accuracy=%{y}<extra></extra>\",\"legendgroup\":\"inception_resnet_v2_CosFace_RMSProp\",\"line\":{\"color\":\"#B6E880\",\"dash\":\"solid\"},\"marker\":{\"symbol\":\"circle\"},\"mode\":\"lines\",\"name\":\"inception_resnet_v2_CosFace_RMSProp\",\"orientation\":\"v\",\"showlegend\":true,\"x\":[19,39,59,79,99],\"xaxis\":\"x2\",\"y\":[0.0010476689366160294,0.0010476689366160294,0.0214117338920901,0.0010476689366160294,0.0017024620220010478],\"yaxis\":\"y2\",\"type\":\"scatter\"},{\"hovertemplate\":\"index=inception_resnet_v2_CosFace_RMSProp<br>measurement=Disparity<br>epoch=%{x}<br>Accuracy=%{y}<extra></extra>\",\"legendgroup\":\"inception_resnet_v2_CosFace_RMSProp\",\"line\":{\"color\":\"#B6E880\",\"dash\":\"solid\"},\"marker\":{\"symbol\":\"circle\"},\"mode\":\"lines\",\"name\":\"inception_resnet_v2_CosFace_RMSProp\",\"orientation\":\"v\",\"showlegend\":false,\"x\":[19,39,59,79,99],\"xaxis\":\"x\",\"y\":[null,null,1.4772727272727273,null,null],\"yaxis\":\"y\",\"type\":\"scatter\"},{\"hovertemplate\":\"index=fbnetv3_g_CosFace_Adam<br>measurement=Accuracy<br>epoch=%{x}<br>Accuracy=%{y}<extra></extra>\",\"legendgroup\":\"fbnetv3_g_CosFace_Adam\",\"line\":{\"color\":\"#FF97FF\",\"dash\":\"solid\"},\"marker\":{\"symbol\":\"circle\"},\"mode\":\"lines\",\"name\":\"fbnetv3_g_CosFace_Adam\",\"orientation\":\"v\",\"showlegend\":true,\"x\":[19,39,59,79,99],\"xaxis\":\"x2\",\"y\":[0.0010476689366160294,0.0010476689366160294,0.0010476689366160294,0.0014405447878470404,0.001964379256155055],\"yaxis\":\"y2\",\"type\":\"scatter\"},{\"hovertemplate\":\"index=fbnetv3_g_CosFace_Adam<br>measurement=Disparity<br>epoch=%{x}<br>Accuracy=%{y}<extra></extra>\",\"legendgroup\":\"fbnetv3_g_CosFace_Adam\",\"line\":{\"color\":\"#FF97FF\",\"dash\":\"solid\"},\"marker\":{\"symbol\":\"circle\"},\"mode\":\"lines\",\"name\":\"fbnetv3_g_CosFace_Adam\",\"orientation\":\"v\",\"showlegend\":false,\"x\":[19,39,59,79,99],\"xaxis\":\"x\",\"y\":[null,null,null,null,3.2857142857142856],\"yaxis\":\"y\",\"type\":\"scatter\"},{\"hovertemplate\":\"index=ese_vovnet39b_CosFace_AdamW<br>measurement=Accuracy<br>epoch=%{x}<br>Accuracy=%{y}<extra></extra>\",\"legendgroup\":\"ese_vovnet39b_CosFace_AdamW\",\"line\":{\"color\":\"#FECB52\",\"dash\":\"solid\"},\"marker\":{\"symbol\":\"circle\"},\"mode\":\"lines\",\"name\":\"ese_vovnet39b_CosFace_AdamW\",\"orientation\":\"v\",\"showlegend\":true,\"x\":[19,39,59,79,99],\"xaxis\":\"x2\",\"y\":[0.3077527501309586,0.40629910948140385,0.4253535882661079,0.47027239392352016,0.5072682032477737],\"yaxis\":\"y2\",\"type\":\"scatter\"},{\"hovertemplate\":\"index=ese_vovnet39b_CosFace_AdamW<br>measurement=Disparity<br>epoch=%{x}<br>Accuracy=%{y}<extra></extra>\",\"legendgroup\":\"ese_vovnet39b_CosFace_AdamW\",\"line\":{\"color\":\"#FECB52\",\"dash\":\"solid\"},\"marker\":{\"symbol\":\"circle\"},\"mode\":\"lines\",\"name\":\"ese_vovnet39b_CosFace_AdamW\",\"orientation\":\"v\",\"showlegend\":false,\"x\":[19,39,59,79,99],\"xaxis\":\"x\",\"y\":[1.4377593360995853,1.3856209150326797,1.287323943661972,1.28072403937758,1.2267893072722045],\"yaxis\":\"y\",\"type\":\"scatter\"},{\"hovertemplate\":\"index=ese_vovnet39b_CosFace_Adam<br>measurement=Accuracy<br>epoch=%{x}<br>Accuracy=%{y}<extra></extra>\",\"legendgroup\":\"ese_vovnet39b_CosFace_Adam\",\"line\":{\"color\":\"#636efa\",\"dash\":\"solid\"},\"marker\":{\"symbol\":\"circle\"},\"mode\":\"lines\",\"name\":\"ese_vovnet39b_CosFace_Adam\",\"orientation\":\"v\",\"showlegend\":true,\"x\":[19,39,59,79,99],\"xaxis\":\"x2\",\"y\":[0.10280251440544788,0.022917757988475642,0.0749738082765846,0.0825694080670508,0.05591932949188057],\"yaxis\":\"y2\",\"type\":\"scatter\"},{\"hovertemplate\":\"index=ese_vovnet39b_CosFace_Adam<br>measurement=Disparity<br>epoch=%{x}<br>Accuracy=%{y}<extra></extra>\",\"legendgroup\":\"ese_vovnet39b_CosFace_Adam\",\"line\":{\"color\":\"#636efa\",\"dash\":\"solid\"},\"marker\":{\"symbol\":\"circle\"},\"mode\":\"lines\",\"name\":\"ese_vovnet39b_CosFace_Adam\",\"orientation\":\"v\",\"showlegend\":false,\"x\":[19,39,59,79,99],\"xaxis\":\"x\",\"y\":[1.3190546528803544,1.3026315789473684,0.7089552238805971,0.4905437352245863,0.41625207296849087],\"yaxis\":\"y\",\"type\":\"scatter\"},{\"hovertemplate\":\"index=vgg19_bn_CosFace_SGD<br>measurement=Accuracy<br>epoch=%{x}<br>Accuracy=%{y}<extra></extra>\",\"legendgroup\":\"vgg19_bn_CosFace_SGD\",\"line\":{\"color\":\"#EF553B\",\"dash\":\"solid\"},\"marker\":{\"symbol\":\"circle\"},\"mode\":\"lines\",\"name\":\"vgg19_bn_CosFace_SGD\",\"orientation\":\"v\",\"showlegend\":true,\"x\":[19,39,59,79,99],\"xaxis\":\"x2\",\"y\":[0.7797930853850183,0.7886327920377161,0.7443687794656888,0.6929020429544264,0.6531561026715558],\"yaxis\":\"y2\",\"type\":\"scatter\"},{\"hovertemplate\":\"index=vgg19_bn_CosFace_SGD<br>measurement=Disparity<br>epoch=%{x}<br>Accuracy=%{y}<extra></extra>\",\"legendgroup\":\"vgg19_bn_CosFace_SGD\",\"line\":{\"color\":\"#EF553B\",\"dash\":\"solid\"},\"marker\":{\"symbol\":\"circle\"},\"mode\":\"lines\",\"name\":\"vgg19_bn_CosFace_SGD\",\"orientation\":\"v\",\"showlegend\":false,\"x\":[19,39,59,79,99],\"xaxis\":\"x\",\"y\":[1.0867355878745402,1.0665751544269044,1.0839596700274976,1.122342559165664,1.1273192578374922],\"yaxis\":\"y\",\"type\":\"scatter\"},{\"hovertemplate\":\"index=visformer_small_CosFace_AdamW<br>measurement=Accuracy<br>epoch=%{x}<br>Accuracy=%{y}<extra></extra>\",\"legendgroup\":\"visformer_small_CosFace_AdamW\",\"line\":{\"color\":\"#00cc96\",\"dash\":\"solid\"},\"marker\":{\"symbol\":\"circle\"},\"mode\":\"lines\",\"name\":\"visformer_small_CosFace_AdamW\",\"orientation\":\"v\",\"showlegend\":true,\"x\":[19,39,59,79,99],\"xaxis\":\"x2\",\"y\":[0.014470927187008905,0.004452592980618125,0.010804085908852802,0.03594814038763751,0.03725772655840754],\"yaxis\":\"y2\",\"type\":\"scatter\"},{\"hovertemplate\":\"index=visformer_small_CosFace_AdamW<br>measurement=Disparity<br>epoch=%{x}<br>Accuracy=%{y}<extra></extra>\",\"legendgroup\":\"visformer_small_CosFace_AdamW\",\"line\":{\"color\":\"#00cc96\",\"dash\":\"solid\"},\"marker\":{\"symbol\":\"circle\"},\"mode\":\"lines\",\"name\":\"visformer_small_CosFace_AdamW\",\"orientation\":\"v\",\"showlegend\":false,\"x\":[19,39,59,79,99],\"xaxis\":\"x\",\"y\":[1.4555555555555555,1.2666666666666666,0.9642857142857142,1.2226720647773281,1.1553030303030303],\"yaxis\":\"y\",\"type\":\"scatter\"},{\"hovertemplate\":\"index=tnt_s_patch16_224_CosFace_AdamW<br>measurement=Accuracy<br>epoch=%{x}<br>Accuracy=%{y}<extra></extra>\",\"legendgroup\":\"tnt_s_patch16_224_CosFace_AdamW\",\"line\":{\"color\":\"#ab63fa\",\"dash\":\"solid\"},\"marker\":{\"symbol\":\"circle\"},\"mode\":\"lines\",\"name\":\"tnt_s_patch16_224_CosFace_AdamW\",\"orientation\":\"v\",\"showlegend\":true,\"x\":[19,39,59,79,99],\"xaxis\":\"x2\",\"y\":[0.8787977998952331,0.893268727082242,0.9006024096385542,0.9032870612886328,0.9142221058145626],\"yaxis\":\"y2\",\"type\":\"scatter\"},{\"hovertemplate\":\"index=tnt_s_patch16_224_CosFace_AdamW<br>measurement=Disparity<br>epoch=%{x}<br>Accuracy=%{y}<extra></extra>\",\"legendgroup\":\"tnt_s_patch16_224_CosFace_AdamW\",\"line\":{\"color\":\"#ab63fa\",\"dash\":\"solid\"},\"marker\":{\"symbol\":\"circle\"},\"mode\":\"lines\",\"name\":\"tnt_s_patch16_224_CosFace_AdamW\",\"orientation\":\"v\",\"showlegend\":false,\"x\":[19,39,59,79,99],\"xaxis\":\"x\",\"y\":[1.075626353232292,1.0679096559041987,1.0559043348281016,1.0651197604790419,1.057168115514955],\"yaxis\":\"y\",\"type\":\"scatter\"},{\"hovertemplate\":\"index=selecsls60b_CosFace_AdamW<br>measurement=Accuracy<br>epoch=%{x}<br>Accuracy=%{y}<extra></extra>\",\"legendgroup\":\"selecsls60b_CosFace_AdamW\",\"line\":{\"color\":\"#FFA15A\",\"dash\":\"solid\"},\"marker\":{\"symbol\":\"circle\"},\"mode\":\"lines\",\"name\":\"selecsls60b_CosFace_AdamW\",\"orientation\":\"v\",\"showlegend\":true,\"x\":[19,39,59,79,99],\"xaxis\":\"x2\",\"y\":[0.071372446306967,0.14759036144578314,0.1714248297537978,0.21346254583551597,0.2215819800942902],\"yaxis\":\"y2\",\"type\":\"scatter\"},{\"hovertemplate\":\"index=selecsls60b_CosFace_AdamW<br>measurement=Disparity<br>epoch=%{x}<br>Accuracy=%{y}<extra></extra>\",\"legendgroup\":\"selecsls60b_CosFace_AdamW\",\"line\":{\"color\":\"#FFA15A\",\"dash\":\"solid\"},\"marker\":{\"symbol\":\"circle\"},\"mode\":\"lines\",\"name\":\"selecsls60b_CosFace_AdamW\",\"orientation\":\"v\",\"showlegend\":false,\"x\":[19,39,59,79,99],\"xaxis\":\"x\",\"y\":[1.5526932084309133,1.5937859608745684,1.5294685990338166,1.531055900621118,1.5753424657534245],\"yaxis\":\"y\",\"type\":\"scatter\"},{\"hovertemplate\":\"index=gluon_inception_v3_CosFace_Adam<br>measurement=Accuracy<br>epoch=%{x}<br>Accuracy=%{y}<extra></extra>\",\"legendgroup\":\"gluon_inception_v3_CosFace_Adam\",\"line\":{\"color\":\"#19d3f3\",\"dash\":\"solid\"},\"marker\":{\"symbol\":\"circle\"},\"mode\":\"lines\",\"name\":\"gluon_inception_v3_CosFace_Adam\",\"orientation\":\"v\",\"showlegend\":true,\"x\":[19,39,59,79,99],\"xaxis\":\"x2\",\"y\":[0.005041906757464641,0.03882922996333159,0.015060240963855422,0.019054478784704034,0.06331849135673127],\"yaxis\":\"y2\",\"type\":\"scatter\"},{\"hovertemplate\":\"index=gluon_inception_v3_CosFace_Adam<br>measurement=Disparity<br>epoch=%{x}<br>Accuracy=%{y}<extra></extra>\",\"legendgroup\":\"gluon_inception_v3_CosFace_Adam\",\"line\":{\"color\":\"#19d3f3\",\"dash\":\"solid\"},\"marker\":{\"symbol\":\"circle\"},\"mode\":\"lines\",\"name\":\"gluon_inception_v3_CosFace_Adam\",\"orientation\":\"v\",\"showlegend\":false,\"x\":[19,39,59,79,99],\"xaxis\":\"x\",\"y\":[1.4838709677419355,1.2209737827715355,1.2999999999999998,0.6166666666666666,0.7423423423423423],\"yaxis\":\"y\",\"type\":\"scatter\"},{\"hovertemplate\":\"index=ig_resnext101_32x8d_CosFace_SGD<br>measurement=Accuracy<br>epoch=%{x}<br>Accuracy=%{y}<extra></extra>\",\"legendgroup\":\"ig_resnext101_32x8d_CosFace_SGD\",\"line\":{\"color\":\"#FF6692\",\"dash\":\"solid\"},\"marker\":{\"symbol\":\"circle\"},\"mode\":\"lines\",\"name\":\"ig_resnext101_32x8d_CosFace_SGD\",\"orientation\":\"v\",\"showlegend\":true,\"x\":[19,39,59,79,99],\"xaxis\":\"x2\",\"y\":[0.8445521215295967,0.7943294918805658,0.7922341540073337,0.7926270298585647,0.8302776322682033],\"yaxis\":\"y2\",\"type\":\"scatter\"},{\"hovertemplate\":\"index=ig_resnext101_32x8d_CosFace_SGD<br>measurement=Disparity<br>epoch=%{x}<br>Accuracy=%{y}<extra></extra>\",\"legendgroup\":\"ig_resnext101_32x8d_CosFace_SGD\",\"line\":{\"color\":\"#FF6692\",\"dash\":\"solid\"},\"marker\":{\"symbol\":\"circle\"},\"mode\":\"lines\",\"name\":\"ig_resnext101_32x8d_CosFace_SGD\",\"orientation\":\"v\",\"showlegend\":false,\"x\":[19,39,59,79,99],\"xaxis\":\"x\",\"y\":[1.0706373414673303,1.0929951690821256,1.079223234232686,1.0921189077082614,1.0561050754013297],\"yaxis\":\"y\",\"type\":\"scatter\"},{\"hovertemplate\":\"index=gluon_xception65_CosFace_Adam<br>measurement=Accuracy<br>epoch=%{x}<br>Accuracy=%{y}<extra></extra>\",\"legendgroup\":\"gluon_xception65_CosFace_Adam\",\"line\":{\"color\":\"#B6E880\",\"dash\":\"solid\"},\"marker\":{\"symbol\":\"circle\"},\"mode\":\"lines\",\"name\":\"gluon_xception65_CosFace_Adam\",\"orientation\":\"v\",\"showlegend\":true,\"x\":[19,39,59,79,99],\"xaxis\":\"x2\",\"y\":[0.0018334206390780514,0.013292299633315872,0.0008512310110005239,0.0010476689366160294,0.0010476689366160294],\"yaxis\":\"y2\",\"type\":\"scatter\"},{\"hovertemplate\":\"index=gluon_xception65_CosFace_Adam<br>measurement=Disparity<br>epoch=%{x}<br>Accuracy=%{y}<extra></extra>\",\"legendgroup\":\"gluon_xception65_CosFace_Adam\",\"line\":{\"color\":\"#B6E880\",\"dash\":\"solid\"},\"marker\":{\"symbol\":\"circle\"},\"mode\":\"lines\",\"name\":\"gluon_xception65_CosFace_Adam\",\"orientation\":\"v\",\"showlegend\":false,\"x\":[19,39,59,79,99],\"xaxis\":\"x\",\"y\":[2.111111111111111,1.4457831325301207,null,null,null],\"yaxis\":\"y\",\"type\":\"scatter\"},{\"hovertemplate\":\"index=gluon_xception65_CosFace_AdamW<br>measurement=Accuracy<br>epoch=%{x}<br>Accuracy=%{y}<extra></extra>\",\"legendgroup\":\"gluon_xception65_CosFace_AdamW\",\"line\":{\"color\":\"#FF97FF\",\"dash\":\"solid\"},\"marker\":{\"symbol\":\"circle\"},\"mode\":\"lines\",\"name\":\"gluon_xception65_CosFace_AdamW\",\"orientation\":\"v\",\"showlegend\":true,\"x\":[19,39,59,79,99],\"xaxis\":\"x2\",\"y\":[0.3226165531691985,0.3639994761655317,0.3969355683603981,0.38626244106862234,0.3926794133053955],\"yaxis\":\"y2\",\"type\":\"scatter\"},{\"hovertemplate\":\"index=gluon_xception65_CosFace_AdamW<br>measurement=Disparity<br>epoch=%{x}<br>Accuracy=%{y}<extra></extra>\",\"legendgroup\":\"gluon_xception65_CosFace_AdamW\",\"line\":{\"color\":\"#FF97FF\",\"dash\":\"solid\"},\"marker\":{\"symbol\":\"circle\"},\"mode\":\"lines\",\"name\":\"gluon_xception65_CosFace_AdamW\",\"orientation\":\"v\",\"showlegend\":false,\"x\":[19,39,59,79,99],\"xaxis\":\"x\",\"y\":[1.658931462493254,1.6790361445783133,1.4180295173514161,1.2532467532467533,1.2784954407294833],\"yaxis\":\"y\",\"type\":\"scatter\"},{\"hovertemplate\":\"index=gluon_inception_v3_CosFace_AdamW<br>measurement=Accuracy<br>epoch=%{x}<br>Accuracy=%{y}<extra></extra>\",\"legendgroup\":\"gluon_inception_v3_CosFace_AdamW\",\"line\":{\"color\":\"#FECB52\",\"dash\":\"solid\"},\"marker\":{\"symbol\":\"circle\"},\"mode\":\"lines\",\"name\":\"gluon_inception_v3_CosFace_AdamW\",\"orientation\":\"v\",\"showlegend\":true,\"x\":[19,39,59,79,99],\"xaxis\":\"x2\",\"y\":[0.15407281299109482,0.17640125720272393,0.28843635411210056,0.4026977475117863,0.45213462545835514],\"yaxis\":\"y2\",\"type\":\"scatter\"},{\"hovertemplate\":\"index=gluon_inception_v3_CosFace_AdamW<br>measurement=Disparity<br>epoch=%{x}<br>Accuracy=%{y}<extra></extra>\",\"legendgroup\":\"gluon_inception_v3_CosFace_AdamW\",\"line\":{\"color\":\"#FECB52\",\"dash\":\"solid\"},\"marker\":{\"symbol\":\"circle\"},\"mode\":\"lines\",\"name\":\"gluon_inception_v3_CosFace_AdamW\",\"orientation\":\"v\",\"showlegend\":false,\"x\":[19,39,59,79,99],\"xaxis\":\"x\",\"y\":[1.552060737527115,1.4944444444444445,1.5433025404157044,1.3781902552204177,1.3631074606433948],\"yaxis\":\"y\",\"type\":\"scatter\"},{\"hovertemplate\":\"index=mobilenetv3_large_100_CosFace_RMSpropTF<br>measurement=Accuracy<br>epoch=%{x}<br>Accuracy=%{y}<extra></extra>\",\"legendgroup\":\"mobilenetv3_large_100_CosFace_RMSpropTF\",\"line\":{\"color\":\"#636efa\",\"dash\":\"solid\"},\"marker\":{\"symbol\":\"circle\"},\"mode\":\"lines\",\"name\":\"mobilenetv3_large_100_CosFace_RMSpropTF\",\"orientation\":\"v\",\"showlegend\":true,\"x\":[19,39,59,79,99],\"xaxis\":\"x2\",\"y\":[0.5062205343111577,0.7088789942378209,0.7773703509690938,0.824384494499738,0.8001571503404924],\"yaxis\":\"y2\",\"type\":\"scatter\"},{\"hovertemplate\":\"index=mobilenetv3_large_100_CosFace_RMSpropTF<br>measurement=Disparity<br>epoch=%{x}<br>Accuracy=%{y}<extra></extra>\",\"legendgroup\":\"mobilenetv3_large_100_CosFace_RMSpropTF\",\"line\":{\"color\":\"#636efa\",\"dash\":\"solid\"},\"marker\":{\"symbol\":\"circle\"},\"mode\":\"lines\",\"name\":\"mobilenetv3_large_100_CosFace_RMSpropTF\",\"orientation\":\"v\",\"showlegend\":false,\"x\":[19,39,59,79,99],\"xaxis\":\"x\",\"y\":[1.3656670746634025,1.1378357030015798,1.0971559795089207,1.0748187211601845,1.072240122095981],\"yaxis\":\"y\",\"type\":\"scatter\"},{\"hovertemplate\":\"index=xception65_CosFace_Adam<br>measurement=Accuracy<br>epoch=%{x}<br>Accuracy=%{y}<extra></extra>\",\"legendgroup\":\"xception65_CosFace_Adam\",\"line\":{\"color\":\"#EF553B\",\"dash\":\"solid\"},\"marker\":{\"symbol\":\"circle\"},\"mode\":\"lines\",\"name\":\"xception65_CosFace_Adam\",\"orientation\":\"v\",\"showlegend\":true,\"x\":[19,39,59,79,99],\"xaxis\":\"x2\",\"y\":[0.0029465688842325827,0.0010476689366160294,0.0010476689366160294,0.0010476689366160294,0.0010476689366160294],\"yaxis\":\"y2\",\"type\":\"scatter\"},{\"hovertemplate\":\"index=xception65_CosFace_Adam<br>measurement=Disparity<br>epoch=%{x}<br>Accuracy=%{y}<extra></extra>\",\"legendgroup\":\"xception65_CosFace_Adam\",\"line\":{\"color\":\"#EF553B\",\"dash\":\"solid\"},\"marker\":{\"symbol\":\"circle\"},\"mode\":\"lines\",\"name\":\"xception65_CosFace_Adam\",\"orientation\":\"v\",\"showlegend\":false,\"x\":[19,39,59,79,99],\"xaxis\":\"x\",\"y\":[2.0,null,null,null,null],\"yaxis\":\"y\",\"type\":\"scatter\"},{\"hovertemplate\":\"index=xception65_CosFace_AdamW<br>measurement=Accuracy<br>epoch=%{x}<br>Accuracy=%{y}<extra></extra>\",\"legendgroup\":\"xception65_CosFace_AdamW\",\"line\":{\"color\":\"#00cc96\",\"dash\":\"solid\"},\"marker\":{\"symbol\":\"circle\"},\"mode\":\"lines\",\"name\":\"xception65_CosFace_AdamW\",\"orientation\":\"v\",\"showlegend\":true,\"x\":[19,39,59,79,99],\"xaxis\":\"x2\",\"y\":[0.44414614981665795,0.5058276584599266,0.517875851231011,0.48277894185437403,0.48166579360921946],\"yaxis\":\"y2\",\"type\":\"scatter\"},{\"hovertemplate\":\"index=xception65_CosFace_AdamW<br>measurement=Disparity<br>epoch=%{x}<br>Accuracy=%{y}<extra></extra>\",\"legendgroup\":\"xception65_CosFace_AdamW\",\"line\":{\"color\":\"#00cc96\",\"dash\":\"solid\"},\"marker\":{\"symbol\":\"circle\"},\"mode\":\"lines\",\"name\":\"xception65_CosFace_AdamW\",\"orientation\":\"v\",\"showlegend\":false,\"x\":[19,39,59,79,99],\"xaxis\":\"x\",\"y\":[1.2985428668248054,1.3045942720763724,1.227887323943662,1.1976154992548436,1.1860326894502229],\"yaxis\":\"y\",\"type\":\"scatter\"},{\"hovertemplate\":\"index=selecsls60b_CosFace_Adam<br>measurement=Accuracy<br>epoch=%{x}<br>Accuracy=%{y}<extra></extra>\",\"legendgroup\":\"selecsls60b_CosFace_Adam\",\"line\":{\"color\":\"#ab63fa\",\"dash\":\"solid\"},\"marker\":{\"symbol\":\"circle\"},\"mode\":\"lines\",\"name\":\"selecsls60b_CosFace_Adam\",\"orientation\":\"v\",\"showlegend\":true,\"x\":[19,39,59,79,99],\"xaxis\":\"x2\",\"y\":[0.05893137768465165,0.12702985856469357,0.028025144054478784,0.044525929806181246,0.071503404924044],\"yaxis\":\"y2\",\"type\":\"scatter\"},{\"hovertemplate\":\"index=selecsls60b_CosFace_Adam<br>measurement=Disparity<br>epoch=%{x}<br>Accuracy=%{y}<extra></extra>\",\"legendgroup\":\"selecsls60b_CosFace_Adam\",\"line\":{\"color\":\"#ab63fa\",\"dash\":\"solid\"},\"marker\":{\"symbol\":\"circle\"},\"mode\":\"lines\",\"name\":\"selecsls60b_CosFace_Adam\",\"orientation\":\"v\",\"showlegend\":false,\"x\":[19,39,59,79,99],\"xaxis\":\"x\",\"y\":[1.5714285714285714,0.6869565217391304,0.5177304964539008,0.7302798982188294,0.39463601532567055],\"yaxis\":\"y\",\"type\":\"scatter\"},{\"hovertemplate\":\"index=xception_CosFace_AdamW<br>measurement=Accuracy<br>epoch=%{x}<br>Accuracy=%{y}<extra></extra>\",\"legendgroup\":\"xception_CosFace_AdamW\",\"line\":{\"color\":\"#FFA15A\",\"dash\":\"solid\"},\"marker\":{\"symbol\":\"circle\"},\"mode\":\"lines\",\"name\":\"xception_CosFace_AdamW\",\"orientation\":\"v\",\"showlegend\":true,\"x\":[19,39,59,79,99],\"xaxis\":\"x2\",\"y\":[0.41946045049764275,0.5523179675222629,0.5736642221058146,0.5916710319539026,0.5952723939235202],\"yaxis\":\"y2\",\"type\":\"scatter\"},{\"hovertemplate\":\"index=xception_CosFace_AdamW<br>measurement=Disparity<br>epoch=%{x}<br>Accuracy=%{y}<extra></extra>\",\"legendgroup\":\"xception_CosFace_AdamW\",\"line\":{\"color\":\"#FFA15A\",\"dash\":\"solid\"},\"marker\":{\"symbol\":\"circle\"},\"mode\":\"lines\",\"name\":\"xception_CosFace_AdamW\",\"orientation\":\"v\",\"showlegend\":false,\"x\":[19,39,59,79,99],\"xaxis\":\"x\",\"y\":[1.3311499272197964,1.26747311827957,1.2389470994122158,1.2272615232930737,1.22328197603326],\"yaxis\":\"y\",\"type\":\"scatter\"},{\"hovertemplate\":\"index=convit_base_CosFace_Adam<br>measurement=Accuracy<br>epoch=%{x}<br>Accuracy=%{y}<extra></extra>\",\"legendgroup\":\"convit_base_CosFace_Adam\",\"line\":{\"color\":\"#19d3f3\",\"dash\":\"solid\"},\"marker\":{\"symbol\":\"circle\"},\"mode\":\"lines\",\"name\":\"convit_base_CosFace_Adam\",\"orientation\":\"v\",\"showlegend\":true,\"x\":[19,39,59,79,99],\"xaxis\":\"x2\",\"y\":[0.0857778941854374,0.21595075955997906,0.2909900471451021,0.33761131482451545,0.3609874279727606],\"yaxis\":\"y2\",\"type\":\"scatter\"},{\"hovertemplate\":\"index=convit_base_CosFace_Adam<br>measurement=Disparity<br>epoch=%{x}<br>Accuracy=%{y}<extra></extra>\",\"legendgroup\":\"convit_base_CosFace_Adam\",\"line\":{\"color\":\"#19d3f3\",\"dash\":\"solid\"},\"marker\":{\"symbol\":\"circle\"},\"mode\":\"lines\",\"name\":\"convit_base_CosFace_Adam\",\"orientation\":\"v\",\"showlegend\":false,\"x\":[19,39,59,79,99],\"xaxis\":\"x\",\"y\":[1.0629921259842519,1.4214390602055802,1.4593248478140566,1.436672967863894,1.4286343612334802],\"yaxis\":\"y\",\"type\":\"scatter\"},{\"hovertemplate\":\"index=dpn107_CosFace_sgd<br>measurement=Accuracy<br>epoch=%{x}<br>Accuracy=%{y}<extra></extra>\",\"legendgroup\":\"dpn107_CosFace_sgd\",\"line\":{\"color\":\"#FF6692\",\"dash\":\"solid\"},\"marker\":{\"symbol\":\"circle\"},\"mode\":\"lines\",\"name\":\"dpn107_CosFace_sgd\",\"orientation\":\"v\",\"showlegend\":true,\"x\":[19,39,59,79,99],\"xaxis\":\"x2\",\"y\":[0.8846909376636982,0.9290859088528025,0.928234677841802,0.927710843373494,0.929282346778418],\"yaxis\":\"y2\",\"type\":\"scatter\"},{\"hovertemplate\":\"index=dpn107_CosFace_sgd<br>measurement=Disparity<br>epoch=%{x}<br>Accuracy=%{y}<extra></extra>\",\"legendgroup\":\"dpn107_CosFace_sgd\",\"line\":{\"color\":\"#FF6692\",\"dash\":\"solid\"},\"marker\":{\"symbol\":\"circle\"},\"mode\":\"lines\",\"name\":\"dpn107_CosFace_sgd\",\"orientation\":\"v\",\"showlegend\":false,\"x\":[19,39,59,79,99],\"xaxis\":\"x\",\"y\":[1.072875115065971,1.0412890231621348,1.0455988455988456,1.0379746835443038,1.044662152427604],\"yaxis\":\"y\",\"type\":\"scatter\"},{\"hovertemplate\":\"index=jx_nest_base_CosFace_AdamW<br>measurement=Accuracy<br>epoch=%{x}<br>Accuracy=%{y}<extra></extra>\",\"legendgroup\":\"jx_nest_base_CosFace_AdamW\",\"line\":{\"color\":\"#B6E880\",\"dash\":\"solid\"},\"marker\":{\"symbol\":\"circle\"},\"mode\":\"lines\",\"name\":\"jx_nest_base_CosFace_AdamW\",\"orientation\":\"v\",\"showlegend\":true,\"x\":[19],\"xaxis\":\"x2\",\"y\":[0.8784704033525406],\"yaxis\":\"y2\",\"type\":\"scatter\"},{\"hovertemplate\":\"index=jx_nest_base_CosFace_AdamW<br>measurement=Disparity<br>epoch=%{x}<br>Accuracy=%{y}<extra></extra>\",\"legendgroup\":\"jx_nest_base_CosFace_AdamW\",\"line\":{\"color\":\"#B6E880\",\"dash\":\"solid\"},\"marker\":{\"symbol\":\"circle\"},\"mode\":\"lines\",\"name\":\"jx_nest_base_CosFace_AdamW\",\"orientation\":\"v\",\"showlegend\":false,\"x\":[19],\"xaxis\":\"x\",\"y\":[1.0694123091161498],\"yaxis\":\"y\",\"type\":\"scatter\"},{\"hovertemplate\":\"index=coat_lite_small_CosFace_Adam<br>measurement=Accuracy<br>epoch=%{x}<br>Accuracy=%{y}<extra></extra>\",\"legendgroup\":\"coat_lite_small_CosFace_Adam\",\"line\":{\"color\":\"#FF97FF\",\"dash\":\"solid\"},\"marker\":{\"symbol\":\"circle\"},\"mode\":\"lines\",\"name\":\"coat_lite_small_CosFace_Adam\",\"orientation\":\"v\",\"showlegend\":true,\"x\":[19,39,59,79,99],\"xaxis\":\"x2\",\"y\":[0.018465165007857515,0.07222367731796753,0.10967784180199057,0.21942116291251965,0.25635149292823467],\"yaxis\":\"y2\",\"type\":\"scatter\"},{\"hovertemplate\":\"index=coat_lite_small_CosFace_Adam<br>measurement=Disparity<br>epoch=%{x}<br>Accuracy=%{y}<extra></extra>\",\"legendgroup\":\"coat_lite_small_CosFace_Adam\",\"line\":{\"color\":\"#FF97FF\",\"dash\":\"solid\"},\"marker\":{\"symbol\":\"circle\"},\"mode\":\"lines\",\"name\":\"coat_lite_small_CosFace_Adam\",\"orientation\":\"v\",\"showlegend\":false,\"x\":[19,39,59,79,99],\"xaxis\":\"x\",\"y\":[1.2741935483870968,1.6261904761904762,1.7870216306156406,1.5252449133383572,1.5722733245729306],\"yaxis\":\"y\",\"type\":\"scatter\"},{\"hovertemplate\":\"index=coat_lite_small_CosFace_AdamW<br>measurement=Accuracy<br>epoch=%{x}<br>Accuracy=%{y}<extra></extra>\",\"legendgroup\":\"coat_lite_small_CosFace_AdamW\",\"line\":{\"color\":\"#FECB52\",\"dash\":\"solid\"},\"marker\":{\"symbol\":\"circle\"},\"mode\":\"lines\",\"name\":\"coat_lite_small_CosFace_AdamW\",\"orientation\":\"v\",\"showlegend\":true,\"x\":[19,39,59,79,99],\"xaxis\":\"x2\",\"y\":[0.8955605028810896,0.8825301204819277,0.872904662126768,0.8733630172865374,0.859219486642221],\"yaxis\":\"y2\",\"type\":\"scatter\"},{\"hovertemplate\":\"index=coat_lite_small_CosFace_AdamW<br>measurement=Disparity<br>epoch=%{x}<br>Accuracy=%{y}<extra></extra>\",\"legendgroup\":\"coat_lite_small_CosFace_AdamW\",\"line\":{\"color\":\"#FECB52\",\"dash\":\"solid\"},\"marker\":{\"symbol\":\"circle\"},\"mode\":\"lines\",\"name\":\"coat_lite_small_CosFace_AdamW\",\"orientation\":\"v\",\"showlegend\":false,\"x\":[19,39,59,79,99],\"xaxis\":\"x\",\"y\":[1.0823690621193667,1.1089031450477234,1.1231087752826883,1.1249004301417875,1.1402707551786007],\"yaxis\":\"y\",\"type\":\"scatter\"},{\"hovertemplate\":\"index=twins_svt_large_CosFace_adamw<br>measurement=Accuracy<br>epoch=%{x}<br>Accuracy=%{y}<extra></extra>\",\"legendgroup\":\"twins_svt_large_CosFace_adamw\",\"line\":{\"color\":\"#636efa\",\"dash\":\"solid\"},\"marker\":{\"symbol\":\"circle\"},\"mode\":\"lines\",\"name\":\"twins_svt_large_CosFace_adamw\",\"orientation\":\"v\",\"showlegend\":true,\"x\":[19,39,59,79,99],\"xaxis\":\"x2\",\"y\":[0.001178627553693033,0.001636982713462546,0.0011131482451545312,0.001636982713462546,0.0007202723939235202],\"yaxis\":\"y2\",\"type\":\"scatter\"},{\"hovertemplate\":\"index=twins_svt_large_CosFace_adamw<br>measurement=Disparity<br>epoch=%{x}<br>Accuracy=%{y}<extra></extra>\",\"legendgroup\":\"twins_svt_large_CosFace_adamw\",\"line\":{\"color\":\"#636efa\",\"dash\":\"solid\"},\"marker\":{\"symbol\":\"circle\"},\"mode\":\"lines\",\"name\":\"twins_svt_large_CosFace_adamw\",\"orientation\":\"v\",\"showlegend\":false,\"x\":[19,39,59,79,99],\"xaxis\":\"x\",\"y\":[0.0,null,16.0,null,10.0],\"yaxis\":\"y\",\"type\":\"scatter\"},{\"hovertemplate\":\"index=hrnet_w64_CosFace_sgd<br>measurement=Accuracy<br>epoch=%{x}<br>Accuracy=%{y}<extra></extra>\",\"legendgroup\":\"hrnet_w64_CosFace_sgd\",\"line\":{\"color\":\"#EF553B\",\"dash\":\"solid\"},\"marker\":{\"symbol\":\"circle\"},\"mode\":\"lines\",\"name\":\"hrnet_w64_CosFace_sgd\",\"orientation\":\"v\",\"showlegend\":true,\"x\":[19,39],\"xaxis\":\"x2\",\"y\":[0.8776191723415401,0.8974594028287062],\"yaxis\":\"y2\",\"type\":\"scatter\"},{\"hovertemplate\":\"index=hrnet_w64_CosFace_sgd<br>measurement=Disparity<br>epoch=%{x}<br>Accuracy=%{y}<extra></extra>\",\"legendgroup\":\"hrnet_w64_CosFace_sgd\",\"line\":{\"color\":\"#EF553B\",\"dash\":\"solid\"},\"marker\":{\"symbol\":\"circle\"},\"mode\":\"lines\",\"name\":\"hrnet_w64_CosFace_sgd\",\"orientation\":\"v\",\"showlegend\":false,\"x\":[19,39],\"xaxis\":\"x\",\"y\":[1.0270719903206291,1.0484232551188164],\"yaxis\":\"y\",\"type\":\"scatter\"},{\"hovertemplate\":\"index=dla102x2_CosFace_sgd<br>measurement=Accuracy<br>epoch=%{x}<br>Accuracy=%{y}<extra></extra>\",\"legendgroup\":\"dla102x2_CosFace_sgd\",\"line\":{\"color\":\"#00cc96\",\"dash\":\"solid\"},\"marker\":{\"symbol\":\"circle\"},\"mode\":\"lines\",\"name\":\"dla102x2_CosFace_sgd\",\"orientation\":\"v\",\"showlegend\":true,\"x\":[19,39,59,79,99],\"xaxis\":\"x2\",\"y\":[0.8679937139863803,0.8870481927710844,0.8556181246726035,0.8544394971189104,0.8595468831849136],\"yaxis\":\"y2\",\"type\":\"scatter\"},{\"hovertemplate\":\"index=dla102x2_CosFace_sgd<br>measurement=Disparity<br>epoch=%{x}<br>Accuracy=%{y}<extra></extra>\",\"legendgroup\":\"dla102x2_CosFace_sgd\",\"line\":{\"color\":\"#00cc96\",\"dash\":\"solid\"},\"marker\":{\"symbol\":\"circle\"},\"mode\":\"lines\",\"name\":\"dla102x2_CosFace_sgd\",\"orientation\":\"v\",\"showlegend\":false,\"x\":[19,39,59,79,99],\"xaxis\":\"x\",\"y\":[1.0491575204823,1.0745788667687597,1.0863803289158551,1.095551629998394,1.0892885564220913],\"yaxis\":\"y\",\"type\":\"scatter\"},{\"hovertemplate\":\"index=convit_base_CosFace_AdamW<br>measurement=Accuracy<br>epoch=%{x}<br>Accuracy=%{y}<extra></extra>\",\"legendgroup\":\"convit_base_CosFace_AdamW\",\"line\":{\"color\":\"#ab63fa\",\"dash\":\"solid\"},\"marker\":{\"symbol\":\"circle\"},\"mode\":\"lines\",\"name\":\"convit_base_CosFace_AdamW\",\"orientation\":\"v\",\"showlegend\":true,\"x\":[19,39,59,79],\"xaxis\":\"x2\",\"y\":[0.15531691985332635,0.2670246202200105,0.3288370874803562,0.34586170770036667],\"yaxis\":\"y2\",\"type\":\"scatter\"},{\"hovertemplate\":\"index=convit_base_CosFace_AdamW<br>measurement=Disparity<br>epoch=%{x}<br>Accuracy=%{y}<extra></extra>\",\"legendgroup\":\"convit_base_CosFace_AdamW\",\"line\":{\"color\":\"#ab63fa\",\"dash\":\"solid\"},\"marker\":{\"symbol\":\"circle\"},\"mode\":\"lines\",\"name\":\"convit_base_CosFace_AdamW\",\"orientation\":\"v\",\"showlegend\":false,\"x\":[19,39,59,79],\"xaxis\":\"x\",\"y\":[1.192236598890943,1.3750728013977869,1.4449853943524829,1.4682242990654204],\"yaxis\":\"y\",\"type\":\"scatter\"}],                        {\"template\":{\"data\":{\"bar\":[{\"error_x\":{\"color\":\"#2a3f5f\"},\"error_y\":{\"color\":\"#2a3f5f\"},\"marker\":{\"line\":{\"color\":\"#E5ECF6\",\"width\":0.5},\"pattern\":{\"fillmode\":\"overlay\",\"size\":10,\"solidity\":0.2}},\"type\":\"bar\"}],\"barpolar\":[{\"marker\":{\"line\":{\"color\":\"#E5ECF6\",\"width\":0.5},\"pattern\":{\"fillmode\":\"overlay\",\"size\":10,\"solidity\":0.2}},\"type\":\"barpolar\"}],\"carpet\":[{\"aaxis\":{\"endlinecolor\":\"#2a3f5f\",\"gridcolor\":\"white\",\"linecolor\":\"white\",\"minorgridcolor\":\"white\",\"startlinecolor\":\"#2a3f5f\"},\"baxis\":{\"endlinecolor\":\"#2a3f5f\",\"gridcolor\":\"white\",\"linecolor\":\"white\",\"minorgridcolor\":\"white\",\"startlinecolor\":\"#2a3f5f\"},\"type\":\"carpet\"}],\"choropleth\":[{\"colorbar\":{\"outlinewidth\":0,\"ticks\":\"\"},\"type\":\"choropleth\"}],\"contour\":[{\"colorbar\":{\"outlinewidth\":0,\"ticks\":\"\"},\"colorscale\":[[0.0,\"#0d0887\"],[0.1111111111111111,\"#46039f\"],[0.2222222222222222,\"#7201a8\"],[0.3333333333333333,\"#9c179e\"],[0.4444444444444444,\"#bd3786\"],[0.5555555555555556,\"#d8576b\"],[0.6666666666666666,\"#ed7953\"],[0.7777777777777778,\"#fb9f3a\"],[0.8888888888888888,\"#fdca26\"],[1.0,\"#f0f921\"]],\"type\":\"contour\"}],\"contourcarpet\":[{\"colorbar\":{\"outlinewidth\":0,\"ticks\":\"\"},\"type\":\"contourcarpet\"}],\"heatmap\":[{\"colorbar\":{\"outlinewidth\":0,\"ticks\":\"\"},\"colorscale\":[[0.0,\"#0d0887\"],[0.1111111111111111,\"#46039f\"],[0.2222222222222222,\"#7201a8\"],[0.3333333333333333,\"#9c179e\"],[0.4444444444444444,\"#bd3786\"],[0.5555555555555556,\"#d8576b\"],[0.6666666666666666,\"#ed7953\"],[0.7777777777777778,\"#fb9f3a\"],[0.8888888888888888,\"#fdca26\"],[1.0,\"#f0f921\"]],\"type\":\"heatmap\"}],\"heatmapgl\":[{\"colorbar\":{\"outlinewidth\":0,\"ticks\":\"\"},\"colorscale\":[[0.0,\"#0d0887\"],[0.1111111111111111,\"#46039f\"],[0.2222222222222222,\"#7201a8\"],[0.3333333333333333,\"#9c179e\"],[0.4444444444444444,\"#bd3786\"],[0.5555555555555556,\"#d8576b\"],[0.6666666666666666,\"#ed7953\"],[0.7777777777777778,\"#fb9f3a\"],[0.8888888888888888,\"#fdca26\"],[1.0,\"#f0f921\"]],\"type\":\"heatmapgl\"}],\"histogram\":[{\"marker\":{\"pattern\":{\"fillmode\":\"overlay\",\"size\":10,\"solidity\":0.2}},\"type\":\"histogram\"}],\"histogram2d\":[{\"colorbar\":{\"outlinewidth\":0,\"ticks\":\"\"},\"colorscale\":[[0.0,\"#0d0887\"],[0.1111111111111111,\"#46039f\"],[0.2222222222222222,\"#7201a8\"],[0.3333333333333333,\"#9c179e\"],[0.4444444444444444,\"#bd3786\"],[0.5555555555555556,\"#d8576b\"],[0.6666666666666666,\"#ed7953\"],[0.7777777777777778,\"#fb9f3a\"],[0.8888888888888888,\"#fdca26\"],[1.0,\"#f0f921\"]],\"type\":\"histogram2d\"}],\"histogram2dcontour\":[{\"colorbar\":{\"outlinewidth\":0,\"ticks\":\"\"},\"colorscale\":[[0.0,\"#0d0887\"],[0.1111111111111111,\"#46039f\"],[0.2222222222222222,\"#7201a8\"],[0.3333333333333333,\"#9c179e\"],[0.4444444444444444,\"#bd3786\"],[0.5555555555555556,\"#d8576b\"],[0.6666666666666666,\"#ed7953\"],[0.7777777777777778,\"#fb9f3a\"],[0.8888888888888888,\"#fdca26\"],[1.0,\"#f0f921\"]],\"type\":\"histogram2dcontour\"}],\"mesh3d\":[{\"colorbar\":{\"outlinewidth\":0,\"ticks\":\"\"},\"type\":\"mesh3d\"}],\"parcoords\":[{\"line\":{\"colorbar\":{\"outlinewidth\":0,\"ticks\":\"\"}},\"type\":\"parcoords\"}],\"pie\":[{\"automargin\":true,\"type\":\"pie\"}],\"scatter\":[{\"marker\":{\"colorbar\":{\"outlinewidth\":0,\"ticks\":\"\"}},\"type\":\"scatter\"}],\"scatter3d\":[{\"line\":{\"colorbar\":{\"outlinewidth\":0,\"ticks\":\"\"}},\"marker\":{\"colorbar\":{\"outlinewidth\":0,\"ticks\":\"\"}},\"type\":\"scatter3d\"}],\"scattercarpet\":[{\"marker\":{\"colorbar\":{\"outlinewidth\":0,\"ticks\":\"\"}},\"type\":\"scattercarpet\"}],\"scattergeo\":[{\"marker\":{\"colorbar\":{\"outlinewidth\":0,\"ticks\":\"\"}},\"type\":\"scattergeo\"}],\"scattergl\":[{\"marker\":{\"colorbar\":{\"outlinewidth\":0,\"ticks\":\"\"}},\"type\":\"scattergl\"}],\"scattermapbox\":[{\"marker\":{\"colorbar\":{\"outlinewidth\":0,\"ticks\":\"\"}},\"type\":\"scattermapbox\"}],\"scatterpolar\":[{\"marker\":{\"colorbar\":{\"outlinewidth\":0,\"ticks\":\"\"}},\"type\":\"scatterpolar\"}],\"scatterpolargl\":[{\"marker\":{\"colorbar\":{\"outlinewidth\":0,\"ticks\":\"\"}},\"type\":\"scatterpolargl\"}],\"scatterternary\":[{\"marker\":{\"colorbar\":{\"outlinewidth\":0,\"ticks\":\"\"}},\"type\":\"scatterternary\"}],\"surface\":[{\"colorbar\":{\"outlinewidth\":0,\"ticks\":\"\"},\"colorscale\":[[0.0,\"#0d0887\"],[0.1111111111111111,\"#46039f\"],[0.2222222222222222,\"#7201a8\"],[0.3333333333333333,\"#9c179e\"],[0.4444444444444444,\"#bd3786\"],[0.5555555555555556,\"#d8576b\"],[0.6666666666666666,\"#ed7953\"],[0.7777777777777778,\"#fb9f3a\"],[0.8888888888888888,\"#fdca26\"],[1.0,\"#f0f921\"]],\"type\":\"surface\"}],\"table\":[{\"cells\":{\"fill\":{\"color\":\"#EBF0F8\"},\"line\":{\"color\":\"white\"}},\"header\":{\"fill\":{\"color\":\"#C8D4E3\"},\"line\":{\"color\":\"white\"}},\"type\":\"table\"}]},\"layout\":{\"annotationdefaults\":{\"arrowcolor\":\"#2a3f5f\",\"arrowhead\":0,\"arrowwidth\":1},\"autotypenumbers\":\"strict\",\"coloraxis\":{\"colorbar\":{\"outlinewidth\":0,\"ticks\":\"\"}},\"colorscale\":{\"diverging\":[[0,\"#8e0152\"],[0.1,\"#c51b7d\"],[0.2,\"#de77ae\"],[0.3,\"#f1b6da\"],[0.4,\"#fde0ef\"],[0.5,\"#f7f7f7\"],[0.6,\"#e6f5d0\"],[0.7,\"#b8e186\"],[0.8,\"#7fbc41\"],[0.9,\"#4d9221\"],[1,\"#276419\"]],\"sequential\":[[0.0,\"#0d0887\"],[0.1111111111111111,\"#46039f\"],[0.2222222222222222,\"#7201a8\"],[0.3333333333333333,\"#9c179e\"],[0.4444444444444444,\"#bd3786\"],[0.5555555555555556,\"#d8576b\"],[0.6666666666666666,\"#ed7953\"],[0.7777777777777778,\"#fb9f3a\"],[0.8888888888888888,\"#fdca26\"],[1.0,\"#f0f921\"]],\"sequentialminus\":[[0.0,\"#0d0887\"],[0.1111111111111111,\"#46039f\"],[0.2222222222222222,\"#7201a8\"],[0.3333333333333333,\"#9c179e\"],[0.4444444444444444,\"#bd3786\"],[0.5555555555555556,\"#d8576b\"],[0.6666666666666666,\"#ed7953\"],[0.7777777777777778,\"#fb9f3a\"],[0.8888888888888888,\"#fdca26\"],[1.0,\"#f0f921\"]]},\"colorway\":[\"#636efa\",\"#EF553B\",\"#00cc96\",\"#ab63fa\",\"#FFA15A\",\"#19d3f3\",\"#FF6692\",\"#B6E880\",\"#FF97FF\",\"#FECB52\"],\"font\":{\"color\":\"#2a3f5f\"},\"geo\":{\"bgcolor\":\"white\",\"lakecolor\":\"white\",\"landcolor\":\"#E5ECF6\",\"showlakes\":true,\"showland\":true,\"subunitcolor\":\"white\"},\"hoverlabel\":{\"align\":\"left\"},\"hovermode\":\"closest\",\"mapbox\":{\"style\":\"light\"},\"paper_bgcolor\":\"white\",\"plot_bgcolor\":\"#E5ECF6\",\"polar\":{\"angularaxis\":{\"gridcolor\":\"white\",\"linecolor\":\"white\",\"ticks\":\"\"},\"bgcolor\":\"#E5ECF6\",\"radialaxis\":{\"gridcolor\":\"white\",\"linecolor\":\"white\",\"ticks\":\"\"}},\"scene\":{\"xaxis\":{\"backgroundcolor\":\"#E5ECF6\",\"gridcolor\":\"white\",\"gridwidth\":2,\"linecolor\":\"white\",\"showbackground\":true,\"ticks\":\"\",\"zerolinecolor\":\"white\"},\"yaxis\":{\"backgroundcolor\":\"#E5ECF6\",\"gridcolor\":\"white\",\"gridwidth\":2,\"linecolor\":\"white\",\"showbackground\":true,\"ticks\":\"\",\"zerolinecolor\":\"white\"},\"zaxis\":{\"backgroundcolor\":\"#E5ECF6\",\"gridcolor\":\"white\",\"gridwidth\":2,\"linecolor\":\"white\",\"showbackground\":true,\"ticks\":\"\",\"zerolinecolor\":\"white\"}},\"shapedefaults\":{\"line\":{\"color\":\"#2a3f5f\"}},\"ternary\":{\"aaxis\":{\"gridcolor\":\"white\",\"linecolor\":\"white\",\"ticks\":\"\"},\"baxis\":{\"gridcolor\":\"white\",\"linecolor\":\"white\",\"ticks\":\"\"},\"bgcolor\":\"#E5ECF6\",\"caxis\":{\"gridcolor\":\"white\",\"linecolor\":\"white\",\"ticks\":\"\"}},\"title\":{\"x\":0.05},\"xaxis\":{\"automargin\":true,\"gridcolor\":\"white\",\"linecolor\":\"white\",\"ticks\":\"\",\"title\":{\"standoff\":15},\"zerolinecolor\":\"white\",\"zerolinewidth\":2},\"yaxis\":{\"automargin\":true,\"gridcolor\":\"white\",\"linecolor\":\"white\",\"ticks\":\"\",\"title\":{\"standoff\":15},\"zerolinecolor\":\"white\",\"zerolinewidth\":2}}},\"xaxis\":{\"anchor\":\"y\",\"domain\":[0.0,0.98],\"title\":{\"text\":\"epoch\"}},\"yaxis\":{\"anchor\":\"x\",\"domain\":[0.0,0.485],\"title\":{\"text\":\"Disparity\"}},\"xaxis2\":{\"anchor\":\"y2\",\"domain\":[0.0,0.98],\"matches\":\"x\",\"showticklabels\":false},\"yaxis2\":{\"anchor\":\"x2\",\"domain\":[0.515,1.0],\"title\":{\"text\":\"Accuracy\"}},\"annotations\":[{\"font\":{},\"showarrow\":false,\"text\":\"Disparity\",\"textangle\":90,\"x\":0.98,\"xanchor\":\"left\",\"xref\":\"paper\",\"y\":0.2425,\"yanchor\":\"middle\",\"yref\":\"paper\"},{\"font\":{},\"showarrow\":false,\"text\":\"Accuracy\",\"textangle\":90,\"x\":0.98,\"xanchor\":\"left\",\"xref\":\"paper\",\"y\":0.7575000000000001,\"yanchor\":\"middle\",\"yref\":\"paper\"}],\"legend\":{\"title\":{\"text\":\"index\"},\"tracegroupgap\":0},\"title\":{\"text\":\"Phase1b(ii) Accuracy and Disparity\"}},                        {\"responsive\": true}                    ).then(function(){\n",
       "                            \n",
       "var gd = document.getElementById('2b94a2a5-f481-4222-8b09-1a698927bdf6');\n",
       "var x = new MutationObserver(function (mutations, observer) {{\n",
       "        var display = window.getComputedStyle(gd).display;\n",
       "        if (!display || display === 'none') {{\n",
       "            console.log([gd, 'removed!']);\n",
       "            Plotly.purge(gd);\n",
       "            observer.disconnect();\n",
       "        }}\n",
       "}});\n",
       "\n",
       "// Listen for the removal of the full notebook cells\n",
       "var notebookContainer = gd.closest('#notebook-container');\n",
       "if (notebookContainer) {{\n",
       "    x.observe(notebookContainer, {childList: true});\n",
       "}}\n",
       "\n",
       "// Listen for the clearing of the current output cell\n",
       "var outputEl = gd.closest('.output');\n",
       "if (outputEl) {{\n",
       "    x.observe(outputEl, {childList: true});\n",
       "}}\n",
       "\n",
       "                        })                };                });            </script>        </div>"
      ]
     },
     "metadata": {},
     "output_type": "display_data"
    }
   ],
   "source": [
    "phase1bii_kacc = [x for x in kacc_files if any([z in x for z in phase1bii_experiments])]\n",
    "acc_df, acc_disp_df = analyze_files(phase1bii_kacc, metadata)\n",
    "acc_df, acc_disp_df = acc_df[epochs], acc_disp_df[epochs]\n",
    "plot_df(acc_df, acc_disp_df,  title = 'Phase1b(ii) Accuracy and Disparity')"
   ]
  }
 ],
 "metadata": {
  "kernelspec": {
   "display_name": "Python 3 (ipykernel)",
   "language": "python",
   "name": "python3"
  },
  "language_info": {
   "codemirror_mode": {
    "name": "ipython",
    "version": 3
   },
   "file_extension": ".py",
   "mimetype": "text/x-python",
   "name": "python",
   "nbconvert_exporter": "python",
   "pygments_lexer": "ipython3",
   "version": "3.9.7"
  }
 },
 "nbformat": 4,
 "nbformat_minor": 5
}
