{
 "cells": [
  {
   "cell_type": "markdown",
   "id": "a61b6922",
   "metadata": {},
   "source": [
    "# The Effect of Architectures analysis:\n",
    "(_This message is copied from the slack conversation_)\n",
    "\n",
    "- We wonder how the architecture itself impacts fairness measures.\n",
    "- At a minimum, we will report the architectures which converged and:\n",
    "-- have the best fairness measures\n",
    "-- are pareto dominant\n",
    "- Reporting these raw numbers and corresponding architectures will provide some baseline information about top-performers, but it doesn’t answer any more in depth questions.\n",
    "- In order to look more in depth at the architectures, we can look at how strong of a relationship there is between (the metrics from randomly initialized models) and (the trained models). we can do this through mere correlation numbers or use regressions like: accuracy_at_epoch_20 ~ random_accuracy + feature_size + number_model_params + n_conv + ….\n",
    "- we can also look at pareto curves for each epoch (20,40,60,80,100) and see if those that pareto dominate in epoch 20 also dominate in epoch 100. this could give us a sense of the persistence of architectures.\n",
    "- for the above analysis, we can do this by looking at all the hp experiments for all the models, or we could just look at the hps which give maximal performance/pareto dominate for each model\n"
   ]
  },
  {
   "cell_type": "code",
   "execution_count": 1,
   "id": "7eb89d46",
   "metadata": {},
   "outputs": [],
   "source": [
    "import warnings\n",
    "warnings.simplefilter(action='ignore', category=FutureWarning)\n",
    "import pandas as pd\n",
    "pd.options.mode.chained_assignment = None  # default='warn'\n",
    "import numpy as np\n",
    "import os\n",
    "from analysis import *\n",
    "import glob\n",
    "import plotly.express as px\n",
    "import statsmodels.api as sm\n",
    "from stargazer.stargazer import Stargazer\n",
    "\n",
    "final_models = get_finished_models_Phase1B()\n",
    "metadata = pd.read_csv('val_identities_gender-expression_seed_222.csv')"
   ]
  },
  {
   "cell_type": "code",
   "execution_count": 2,
   "id": "cfafa3cd",
   "metadata": {},
   "outputs": [],
   "source": [
    "default_params = [x for x in glob.glob('../configs/**/*.yaml') if [m for m in final_models if m in x]]\n",
    "hp_same_lr = [x for x in glob.glob('../configs_multi/**/*.yaml') if [m for m in final_models if m in x]]\n",
    "hp_unified_lr = [x for x in glob.glob('../configs_unified_lr/**/*.yaml') if [m for m in final_models if m in x]]\n",
    "    \n",
    "rank_files = glob.glob('timm_explore_few_epochs/**/*_rank_by_id_val.csv') + glob.glob('Phase1B/**/*_rank_by_id_val.csv')\n",
    "\n",
    "epochs = [19,39,59,79,99]\n",
    "epoch_columns = ['epoch_'+str(i) for i in epochs]"
   ]
  },
  {
   "cell_type": "code",
   "execution_count": 3,
   "id": "98bde366",
   "metadata": {},
   "outputs": [],
   "source": [
    "acc_df, acc_disp_df, rank_df = analyze_rank_files(rank_files, metadata, epochs=epoch_columns)\n",
    "_, acc_disp_ratio_df, rank_ratio_df = analyze_rank_files(rank_files, metadata, ratio=True, epochs=epoch_columns)\n",
    "err_df, error_ratio_df, _ = analyze_rank_files(rank_files, metadata, ratio=True, error=True, epochs=epoch_columns)\n",
    "\n",
    "acc_disp_df = merge(acc_df, acc_disp_df)\n",
    "rank_df = merge(acc_df, rank_df)\n",
    "acc_disp_ratio_df = merge(acc_df, acc_disp_ratio_df)\n",
    "rank_ratio_df = merge(acc_df, rank_ratio_df)\n",
    "error_ratio_df = merge(err_df, error_ratio_df).rename(columns={'Accuracy':'Error'})"
   ]
  },
  {
   "cell_type": "code",
   "execution_count": 4,
   "id": "e5c376f5",
   "metadata": {},
   "outputs": [],
   "source": [
    "# models which didn't converge\n",
    "non_converged_models = list(set(acc_df[acc_df['Metric'] < 0.25]['index']))"
   ]
  },
  {
   "cell_type": "code",
   "execution_count": 5,
   "id": "0f80a99d",
   "metadata": {},
   "outputs": [],
   "source": [
    "[acc_df, acc_disp_df, rank_df, acc_disp_ratio_df, rank_ratio_df, err_df, error_ratio_df] = drop_models([acc_df, acc_disp_df, rank_df, acc_disp_ratio_df, rank_ratio_df, err_df, error_ratio_df], non_converged_models)"
   ]
  },
  {
   "cell_type": "markdown",
   "id": "7b29e106",
   "metadata": {},
   "source": [
    "# The architectures which converged and have the best fairness measures\n",
    "\n",
    "## gluon_xception65_MagFace_AdamW\n",
    "Across all the fairness metrics, this model had the best performance. Note though, the model with overall best fairness metric isn't necessarily the model that a policy maker would choose. For example, this mdoel has overall accuracy <70%.\n",
    "\n",
    "These are the models which convereged and had the best fairness metric for some epoch in the training procedure (restricted to epochs = 20,40,60,80,100\n",
    "\n",
    "#### Difference of Accuracies:\n",
    "This metric is also called Statistical Parity"
   ]
  },
  {
   "cell_type": "code",
   "execution_count": 6,
   "id": "b661b5ae",
   "metadata": {},
   "outputs": [
    {
     "data": {
      "text/html": [
       "<div>\n",
       "<style scoped>\n",
       "    .dataframe tbody tr th:only-of-type {\n",
       "        vertical-align: middle;\n",
       "    }\n",
       "\n",
       "    .dataframe tbody tr th {\n",
       "        vertical-align: top;\n",
       "    }\n",
       "\n",
       "    .dataframe thead th {\n",
       "        text-align: right;\n",
       "    }\n",
       "</style>\n",
       "<table border=\"1\" class=\"dataframe\">\n",
       "  <thead>\n",
       "    <tr style=\"text-align: right;\">\n",
       "      <th></th>\n",
       "      <th>index</th>\n",
       "      <th>epoch</th>\n",
       "      <th>Accuracy</th>\n",
       "      <th>Disparity</th>\n",
       "    </tr>\n",
       "  </thead>\n",
       "  <tbody>\n",
       "    <tr>\n",
       "      <th>751</th>\n",
       "      <td>gluon_xception65_MagFace_AdamW_rank_by_id_val</td>\n",
       "      <td>79</td>\n",
       "      <td>0.657805</td>\n",
       "      <td>0.008905</td>\n",
       "    </tr>\n",
       "  </tbody>\n",
       "</table>\n",
       "</div>"
      ],
      "text/plain": [
       "                                             index  epoch  Accuracy  Disparity\n",
       "751  gluon_xception65_MagFace_AdamW_rank_by_id_val     79  0.657805   0.008905"
      ]
     },
     "execution_count": 6,
     "metadata": {},
     "output_type": "execute_result"
    }
   ],
   "source": [
    "df = acc_disp_df\n",
    "df[df.Disparity == df.Disparity.min()]"
   ]
  },
  {
   "cell_type": "markdown",
   "id": "a340ba69",
   "metadata": {},
   "source": [
    "#### Ratio of Accuracy: "
   ]
  },
  {
   "cell_type": "code",
   "execution_count": 7,
   "id": "fd9a69cf",
   "metadata": {},
   "outputs": [
    {
     "data": {
      "text/html": [
       "<div>\n",
       "<style scoped>\n",
       "    .dataframe tbody tr th:only-of-type {\n",
       "        vertical-align: middle;\n",
       "    }\n",
       "\n",
       "    .dataframe tbody tr th {\n",
       "        vertical-align: top;\n",
       "    }\n",
       "\n",
       "    .dataframe thead th {\n",
       "        text-align: right;\n",
       "    }\n",
       "</style>\n",
       "<table border=\"1\" class=\"dataframe\">\n",
       "  <thead>\n",
       "    <tr style=\"text-align: right;\">\n",
       "      <th></th>\n",
       "      <th>index</th>\n",
       "      <th>epoch</th>\n",
       "      <th>Accuracy</th>\n",
       "      <th>Disparity</th>\n",
       "    </tr>\n",
       "  </thead>\n",
       "  <tbody>\n",
       "    <tr>\n",
       "      <th>751</th>\n",
       "      <td>gluon_xception65_MagFace_AdamW_rank_by_id_val</td>\n",
       "      <td>79</td>\n",
       "      <td>0.657805</td>\n",
       "      <td>0.01363</td>\n",
       "    </tr>\n",
       "  </tbody>\n",
       "</table>\n",
       "</div>"
      ],
      "text/plain": [
       "                                             index  epoch  Accuracy  Disparity\n",
       "751  gluon_xception65_MagFace_AdamW_rank_by_id_val     79  0.657805    0.01363"
      ]
     },
     "execution_count": 7,
     "metadata": {},
     "output_type": "execute_result"
    }
   ],
   "source": [
    "df = acc_disp_ratio_df\n",
    "df[df.Disparity == df.Disparity.min()]"
   ]
  },
  {
   "cell_type": "markdown",
   "id": "b5a5b501",
   "metadata": {},
   "source": [
    "#### Difference of Ranks: "
   ]
  },
  {
   "cell_type": "code",
   "execution_count": 8,
   "id": "7f953edc",
   "metadata": {},
   "outputs": [
    {
     "data": {
      "text/html": [
       "<div>\n",
       "<style scoped>\n",
       "    .dataframe tbody tr th:only-of-type {\n",
       "        vertical-align: middle;\n",
       "    }\n",
       "\n",
       "    .dataframe tbody tr th {\n",
       "        vertical-align: top;\n",
       "    }\n",
       "\n",
       "    .dataframe thead th {\n",
       "        text-align: right;\n",
       "    }\n",
       "</style>\n",
       "<table border=\"1\" class=\"dataframe\">\n",
       "  <thead>\n",
       "    <tr style=\"text-align: right;\">\n",
       "      <th></th>\n",
       "      <th>index</th>\n",
       "      <th>epoch</th>\n",
       "      <th>Accuracy</th>\n",
       "      <th>Disparity</th>\n",
       "    </tr>\n",
       "  </thead>\n",
       "  <tbody>\n",
       "    <tr>\n",
       "      <th>545</th>\n",
       "      <td>gluon_xception65_MagFace_AdamW_rank_by_id_val</td>\n",
       "      <td>59</td>\n",
       "      <td>0.658525</td>\n",
       "      <td>0.106993</td>\n",
       "    </tr>\n",
       "  </tbody>\n",
       "</table>\n",
       "</div>"
      ],
      "text/plain": [
       "                                             index  epoch  Accuracy  Disparity\n",
       "545  gluon_xception65_MagFace_AdamW_rank_by_id_val     59  0.658525   0.106993"
      ]
     },
     "execution_count": 8,
     "metadata": {},
     "output_type": "execute_result"
    }
   ],
   "source": [
    "df = rank_df\n",
    "df[df.Disparity == df.Disparity.min()]"
   ]
  },
  {
   "cell_type": "markdown",
   "id": "0bd62f19",
   "metadata": {},
   "source": [
    "#### Ratio of Ranks: "
   ]
  },
  {
   "cell_type": "code",
   "execution_count": 9,
   "id": "34910edb",
   "metadata": {},
   "outputs": [
    {
     "data": {
      "text/html": [
       "<div>\n",
       "<style scoped>\n",
       "    .dataframe tbody tr th:only-of-type {\n",
       "        vertical-align: middle;\n",
       "    }\n",
       "\n",
       "    .dataframe tbody tr th {\n",
       "        vertical-align: top;\n",
       "    }\n",
       "\n",
       "    .dataframe thead th {\n",
       "        text-align: right;\n",
       "    }\n",
       "</style>\n",
       "<table border=\"1\" class=\"dataframe\">\n",
       "  <thead>\n",
       "    <tr style=\"text-align: right;\">\n",
       "      <th></th>\n",
       "      <th>index</th>\n",
       "      <th>epoch</th>\n",
       "      <th>Accuracy</th>\n",
       "      <th>Disparity</th>\n",
       "    </tr>\n",
       "  </thead>\n",
       "  <tbody>\n",
       "    <tr>\n",
       "      <th>545</th>\n",
       "      <td>gluon_xception65_MagFace_AdamW_rank_by_id_val</td>\n",
       "      <td>59</td>\n",
       "      <td>0.658525</td>\n",
       "      <td>0.003348</td>\n",
       "    </tr>\n",
       "  </tbody>\n",
       "</table>\n",
       "</div>"
      ],
      "text/plain": [
       "                                             index  epoch  Accuracy  Disparity\n",
       "545  gluon_xception65_MagFace_AdamW_rank_by_id_val     59  0.658525   0.003348"
      ]
     },
     "execution_count": 9,
     "metadata": {},
     "output_type": "execute_result"
    }
   ],
   "source": [
    "df = rank_ratio_df\n",
    "df[df.Disparity == df.Disparity.min()]"
   ]
  },
  {
   "cell_type": "markdown",
   "id": "5d78648a",
   "metadata": {},
   "source": [
    "#### Ratio of Errors: "
   ]
  },
  {
   "cell_type": "code",
   "execution_count": 10,
   "id": "6cb84905",
   "metadata": {},
   "outputs": [
    {
     "data": {
      "text/html": [
       "<div>\n",
       "<style scoped>\n",
       "    .dataframe tbody tr th:only-of-type {\n",
       "        vertical-align: middle;\n",
       "    }\n",
       "\n",
       "    .dataframe tbody tr th {\n",
       "        vertical-align: top;\n",
       "    }\n",
       "\n",
       "    .dataframe thead th {\n",
       "        text-align: right;\n",
       "    }\n",
       "</style>\n",
       "<table border=\"1\" class=\"dataframe\">\n",
       "  <thead>\n",
       "    <tr style=\"text-align: right;\">\n",
       "      <th></th>\n",
       "      <th>index</th>\n",
       "      <th>epoch</th>\n",
       "      <th>Error</th>\n",
       "      <th>Disparity</th>\n",
       "    </tr>\n",
       "  </thead>\n",
       "  <tbody>\n",
       "    <tr>\n",
       "      <th>751</th>\n",
       "      <td>gluon_xception65_MagFace_AdamW_rank_by_id_val</td>\n",
       "      <td>79</td>\n",
       "      <td>0.342195</td>\n",
       "      <td>0.025689</td>\n",
       "    </tr>\n",
       "  </tbody>\n",
       "</table>\n",
       "</div>"
      ],
      "text/plain": [
       "                                             index  epoch     Error  Disparity\n",
       "751  gluon_xception65_MagFace_AdamW_rank_by_id_val     79  0.342195   0.025689"
      ]
     },
     "execution_count": 10,
     "metadata": {},
     "output_type": "execute_result"
    }
   ],
   "source": [
    "df = error_ratio_df\n",
    "df[df.Disparity == df.Disparity.min()]"
   ]
  },
  {
   "cell_type": "markdown",
   "id": "d74f3ce2",
   "metadata": {},
   "source": [
    "# The architectures which converged and are Pareto efficient\n",
    "\n",
    "These are the models which convereged and were Pareto efficient for the fairness metrics for some epoch in the training procedure (restricted to epochs = 20,40,60,80,100)\n",
    "\n",
    "Consistently, rexnet is Pareto efficient for every metric, and has the highest accuracy. Additionally, dpn107 appears as another high accuracy, Pareto efficient model. "
   ]
  },
  {
   "cell_type": "markdown",
   "id": "fa43fd57",
   "metadata": {},
   "source": [
    "#### Difference of Accuracies: \n",
    "This metric is also called Statistical Parity"
   ]
  },
  {
   "cell_type": "code",
   "execution_count": 11,
   "id": "29d8d616",
   "metadata": {},
   "outputs": [
    {
     "data": {
      "text/html": [
       "<div>\n",
       "<style scoped>\n",
       "    .dataframe tbody tr th:only-of-type {\n",
       "        vertical-align: middle;\n",
       "    }\n",
       "\n",
       "    .dataframe tbody tr th {\n",
       "        vertical-align: top;\n",
       "    }\n",
       "\n",
       "    .dataframe thead th {\n",
       "        text-align: right;\n",
       "    }\n",
       "</style>\n",
       "<table border=\"1\" class=\"dataframe\">\n",
       "  <thead>\n",
       "    <tr style=\"text-align: right;\">\n",
       "      <th></th>\n",
       "      <th>index</th>\n",
       "      <th>epoch</th>\n",
       "      <th>Accuracy</th>\n",
       "      <th>Disparity</th>\n",
       "    </tr>\n",
       "  </thead>\n",
       "  <tbody>\n",
       "    <tr>\n",
       "      <th>723</th>\n",
       "      <td>rexnet_200_CosFace_SGD_rank_by_id_val</td>\n",
       "      <td>79</td>\n",
       "      <td>0.955474</td>\n",
       "      <td>0.023311</td>\n",
       "    </tr>\n",
       "    <tr>\n",
       "      <th>311</th>\n",
       "      <td>rexnet_200_CosFace_SGD_rank_by_id_val</td>\n",
       "      <td>39</td>\n",
       "      <td>0.954885</td>\n",
       "      <td>0.019251</td>\n",
       "    </tr>\n",
       "    <tr>\n",
       "      <th>517</th>\n",
       "      <td>rexnet_200_CosFace_SGD_rank_by_id_val</td>\n",
       "      <td>59</td>\n",
       "      <td>0.954623</td>\n",
       "      <td>0.016632</td>\n",
       "    </tr>\n",
       "    <tr>\n",
       "      <th>957</th>\n",
       "      <td>gluon_xception65_MagFace_AdamW_rank_by_id_val</td>\n",
       "      <td>99</td>\n",
       "      <td>0.658133</td>\n",
       "      <td>0.012441</td>\n",
       "    </tr>\n",
       "    <tr>\n",
       "      <th>751</th>\n",
       "      <td>gluon_xception65_MagFace_AdamW_rank_by_id_val</td>\n",
       "      <td>79</td>\n",
       "      <td>0.657805</td>\n",
       "      <td>0.008905</td>\n",
       "    </tr>\n",
       "  </tbody>\n",
       "</table>\n",
       "</div>"
      ],
      "text/plain": [
       "                                             index  epoch  Accuracy  Disparity\n",
       "723          rexnet_200_CosFace_SGD_rank_by_id_val     79  0.955474   0.023311\n",
       "311          rexnet_200_CosFace_SGD_rank_by_id_val     39  0.954885   0.019251\n",
       "517          rexnet_200_CosFace_SGD_rank_by_id_val     59  0.954623   0.016632\n",
       "957  gluon_xception65_MagFace_AdamW_rank_by_id_val     99  0.658133   0.012441\n",
       "751  gluon_xception65_MagFace_AdamW_rank_by_id_val     79  0.657805   0.008905"
      ]
     },
     "execution_count": 11,
     "metadata": {},
     "output_type": "execute_result"
    }
   ],
   "source": [
    "df = acc_disp_df\n",
    "ind = whatIsPareto(df[['Accuracy','Disparity']], True, False).astype(bool)\n",
    "df[ind].dropna().sort_values('Accuracy', ascending=False)"
   ]
  },
  {
   "cell_type": "markdown",
   "id": "94638d40",
   "metadata": {},
   "source": [
    "#### Ratio of Accuracies: "
   ]
  },
  {
   "cell_type": "code",
   "execution_count": 12,
   "id": "8f4153bb",
   "metadata": {},
   "outputs": [
    {
     "data": {
      "text/html": [
       "<div>\n",
       "<style scoped>\n",
       "    .dataframe tbody tr th:only-of-type {\n",
       "        vertical-align: middle;\n",
       "    }\n",
       "\n",
       "    .dataframe tbody tr th {\n",
       "        vertical-align: top;\n",
       "    }\n",
       "\n",
       "    .dataframe thead th {\n",
       "        text-align: right;\n",
       "    }\n",
       "</style>\n",
       "<table border=\"1\" class=\"dataframe\">\n",
       "  <thead>\n",
       "    <tr style=\"text-align: right;\">\n",
       "      <th></th>\n",
       "      <th>index</th>\n",
       "      <th>epoch</th>\n",
       "      <th>Accuracy</th>\n",
       "      <th>Disparity</th>\n",
       "    </tr>\n",
       "  </thead>\n",
       "  <tbody>\n",
       "    <tr>\n",
       "      <th>723</th>\n",
       "      <td>rexnet_200_CosFace_SGD_rank_by_id_val</td>\n",
       "      <td>79</td>\n",
       "      <td>0.955474</td>\n",
       "      <td>0.024698</td>\n",
       "    </tr>\n",
       "    <tr>\n",
       "      <th>311</th>\n",
       "      <td>rexnet_200_CosFace_SGD_rank_by_id_val</td>\n",
       "      <td>39</td>\n",
       "      <td>0.954885</td>\n",
       "      <td>0.020366</td>\n",
       "    </tr>\n",
       "    <tr>\n",
       "      <th>517</th>\n",
       "      <td>rexnet_200_CosFace_SGD_rank_by_id_val</td>\n",
       "      <td>59</td>\n",
       "      <td>0.954623</td>\n",
       "      <td>0.017575</td>\n",
       "    </tr>\n",
       "    <tr>\n",
       "      <th>751</th>\n",
       "      <td>gluon_xception65_MagFace_AdamW_rank_by_id_val</td>\n",
       "      <td>79</td>\n",
       "      <td>0.657805</td>\n",
       "      <td>0.013630</td>\n",
       "    </tr>\n",
       "  </tbody>\n",
       "</table>\n",
       "</div>"
      ],
      "text/plain": [
       "                                             index  epoch  Accuracy  Disparity\n",
       "723          rexnet_200_CosFace_SGD_rank_by_id_val     79  0.955474   0.024698\n",
       "311          rexnet_200_CosFace_SGD_rank_by_id_val     39  0.954885   0.020366\n",
       "517          rexnet_200_CosFace_SGD_rank_by_id_val     59  0.954623   0.017575\n",
       "751  gluon_xception65_MagFace_AdamW_rank_by_id_val     79  0.657805   0.013630"
      ]
     },
     "execution_count": 12,
     "metadata": {},
     "output_type": "execute_result"
    }
   ],
   "source": [
    "df = acc_disp_ratio_df\n",
    "ind = whatIsPareto(df[['Accuracy','Disparity']], True, False).astype(bool)\n",
    "df[ind].dropna().sort_values('Accuracy', ascending=False)"
   ]
  },
  {
   "cell_type": "markdown",
   "id": "0aa78397",
   "metadata": {},
   "source": [
    "#### Difference of Ranks: "
   ]
  },
  {
   "cell_type": "code",
   "execution_count": 13,
   "id": "c92f39bb",
   "metadata": {},
   "outputs": [
    {
     "data": {
      "text/html": [
       "<div>\n",
       "<style scoped>\n",
       "    .dataframe tbody tr th:only-of-type {\n",
       "        vertical-align: middle;\n",
       "    }\n",
       "\n",
       "    .dataframe tbody tr th {\n",
       "        vertical-align: top;\n",
       "    }\n",
       "\n",
       "    .dataframe thead th {\n",
       "        text-align: right;\n",
       "    }\n",
       "</style>\n",
       "<table border=\"1\" class=\"dataframe\">\n",
       "  <thead>\n",
       "    <tr style=\"text-align: right;\">\n",
       "      <th></th>\n",
       "      <th>index</th>\n",
       "      <th>epoch</th>\n",
       "      <th>Accuracy</th>\n",
       "      <th>Disparity</th>\n",
       "    </tr>\n",
       "  </thead>\n",
       "  <tbody>\n",
       "    <tr>\n",
       "      <th>723</th>\n",
       "      <td>rexnet_200_CosFace_SGD_rank_by_id_val</td>\n",
       "      <td>79</td>\n",
       "      <td>0.955474</td>\n",
       "      <td>2.183735</td>\n",
       "    </tr>\n",
       "    <tr>\n",
       "      <th>977</th>\n",
       "      <td>tnt_s_patch16_224_CosFace_AdamW_rank_by_id_val</td>\n",
       "      <td>99</td>\n",
       "      <td>0.948402</td>\n",
       "      <td>1.949450</td>\n",
       "    </tr>\n",
       "    <tr>\n",
       "      <th>186</th>\n",
       "      <td>rexnet_200_MagFace_SGD_rank_by_id_val</td>\n",
       "      <td>19</td>\n",
       "      <td>0.947944</td>\n",
       "      <td>1.451414</td>\n",
       "    </tr>\n",
       "    <tr>\n",
       "      <th>16</th>\n",
       "      <td>dpn107_CosFace_AdamW_rank_by_id_val</td>\n",
       "      <td>19</td>\n",
       "      <td>0.933473</td>\n",
       "      <td>1.042823</td>\n",
       "    </tr>\n",
       "    <tr>\n",
       "      <th>65</th>\n",
       "      <td>dla102x2_CosFace_sgd_rank_by_id_val</td>\n",
       "      <td>19</td>\n",
       "      <td>0.867994</td>\n",
       "      <td>0.566265</td>\n",
       "    </tr>\n",
       "    <tr>\n",
       "      <th>389</th>\n",
       "      <td>gluon_inception_v3_CosFace_SGD_rank_by_id_val</td>\n",
       "      <td>39</td>\n",
       "      <td>0.826152</td>\n",
       "      <td>0.479570</td>\n",
       "    </tr>\n",
       "    <tr>\n",
       "      <th>899</th>\n",
       "      <td>cspdarknet53_CosFace_AdamW_rank_by_id_val</td>\n",
       "      <td>99</td>\n",
       "      <td>0.763685</td>\n",
       "      <td>0.214510</td>\n",
       "    </tr>\n",
       "    <tr>\n",
       "      <th>545</th>\n",
       "      <td>gluon_xception65_MagFace_AdamW_rank_by_id_val</td>\n",
       "      <td>59</td>\n",
       "      <td>0.658525</td>\n",
       "      <td>0.106993</td>\n",
       "    </tr>\n",
       "  </tbody>\n",
       "</table>\n",
       "</div>"
      ],
      "text/plain": [
       "                                              index  epoch  Accuracy  \\\n",
       "723           rexnet_200_CosFace_SGD_rank_by_id_val     79  0.955474   \n",
       "977  tnt_s_patch16_224_CosFace_AdamW_rank_by_id_val     99  0.948402   \n",
       "186           rexnet_200_MagFace_SGD_rank_by_id_val     19  0.947944   \n",
       "16              dpn107_CosFace_AdamW_rank_by_id_val     19  0.933473   \n",
       "65              dla102x2_CosFace_sgd_rank_by_id_val     19  0.867994   \n",
       "389   gluon_inception_v3_CosFace_SGD_rank_by_id_val     39  0.826152   \n",
       "899       cspdarknet53_CosFace_AdamW_rank_by_id_val     99  0.763685   \n",
       "545   gluon_xception65_MagFace_AdamW_rank_by_id_val     59  0.658525   \n",
       "\n",
       "     Disparity  \n",
       "723   2.183735  \n",
       "977   1.949450  \n",
       "186   1.451414  \n",
       "16    1.042823  \n",
       "65    0.566265  \n",
       "389   0.479570  \n",
       "899   0.214510  \n",
       "545   0.106993  "
      ]
     },
     "execution_count": 13,
     "metadata": {},
     "output_type": "execute_result"
    }
   ],
   "source": [
    "df = rank_df\n",
    "ind = whatIsPareto(df[['Accuracy','Disparity']], True, False).astype(bool)\n",
    "df[ind].dropna().sort_values('Accuracy', ascending=False)"
   ]
  },
  {
   "cell_type": "markdown",
   "id": "28ca9ae9",
   "metadata": {},
   "source": [
    "#### Ratio of Ranks: "
   ]
  },
  {
   "cell_type": "code",
   "execution_count": 14,
   "id": "639511ab",
   "metadata": {},
   "outputs": [
    {
     "data": {
      "text/html": [
       "<div>\n",
       "<style scoped>\n",
       "    .dataframe tbody tr th:only-of-type {\n",
       "        vertical-align: middle;\n",
       "    }\n",
       "\n",
       "    .dataframe tbody tr th {\n",
       "        vertical-align: top;\n",
       "    }\n",
       "\n",
       "    .dataframe thead th {\n",
       "        text-align: right;\n",
       "    }\n",
       "</style>\n",
       "<table border=\"1\" class=\"dataframe\">\n",
       "  <thead>\n",
       "    <tr style=\"text-align: right;\">\n",
       "      <th></th>\n",
       "      <th>index</th>\n",
       "      <th>epoch</th>\n",
       "      <th>Accuracy</th>\n",
       "      <th>Disparity</th>\n",
       "    </tr>\n",
       "  </thead>\n",
       "  <tbody>\n",
       "    <tr>\n",
       "      <th>723</th>\n",
       "      <td>rexnet_200_CosFace_SGD_rank_by_id_val</td>\n",
       "      <td>79</td>\n",
       "      <td>0.955474</td>\n",
       "      <td>0.406113</td>\n",
       "    </tr>\n",
       "    <tr>\n",
       "      <th>929</th>\n",
       "      <td>rexnet_200_CosFace_SGD_rank_by_id_val</td>\n",
       "      <td>99</td>\n",
       "      <td>0.954034</td>\n",
       "      <td>0.403697</td>\n",
       "    </tr>\n",
       "    <tr>\n",
       "      <th>186</th>\n",
       "      <td>rexnet_200_MagFace_SGD_rank_by_id_val</td>\n",
       "      <td>19</td>\n",
       "      <td>0.947944</td>\n",
       "      <td>0.389561</td>\n",
       "    </tr>\n",
       "    <tr>\n",
       "      <th>16</th>\n",
       "      <td>dpn107_CosFace_AdamW_rank_by_id_val</td>\n",
       "      <td>19</td>\n",
       "      <td>0.933473</td>\n",
       "      <td>0.133601</td>\n",
       "    </tr>\n",
       "    <tr>\n",
       "      <th>65</th>\n",
       "      <td>dla102x2_CosFace_sgd_rank_by_id_val</td>\n",
       "      <td>19</td>\n",
       "      <td>0.867994</td>\n",
       "      <td>0.061235</td>\n",
       "    </tr>\n",
       "    <tr>\n",
       "      <th>899</th>\n",
       "      <td>cspdarknet53_CosFace_AdamW_rank_by_id_val</td>\n",
       "      <td>99</td>\n",
       "      <td>0.763685</td>\n",
       "      <td>0.012548</td>\n",
       "    </tr>\n",
       "    <tr>\n",
       "      <th>545</th>\n",
       "      <td>gluon_xception65_MagFace_AdamW_rank_by_id_val</td>\n",
       "      <td>59</td>\n",
       "      <td>0.658525</td>\n",
       "      <td>0.003348</td>\n",
       "    </tr>\n",
       "  </tbody>\n",
       "</table>\n",
       "</div>"
      ],
      "text/plain": [
       "                                             index  epoch  Accuracy  Disparity\n",
       "723          rexnet_200_CosFace_SGD_rank_by_id_val     79  0.955474   0.406113\n",
       "929          rexnet_200_CosFace_SGD_rank_by_id_val     99  0.954034   0.403697\n",
       "186          rexnet_200_MagFace_SGD_rank_by_id_val     19  0.947944   0.389561\n",
       "16             dpn107_CosFace_AdamW_rank_by_id_val     19  0.933473   0.133601\n",
       "65             dla102x2_CosFace_sgd_rank_by_id_val     19  0.867994   0.061235\n",
       "899      cspdarknet53_CosFace_AdamW_rank_by_id_val     99  0.763685   0.012548\n",
       "545  gluon_xception65_MagFace_AdamW_rank_by_id_val     59  0.658525   0.003348"
      ]
     },
     "execution_count": 14,
     "metadata": {},
     "output_type": "execute_result"
    }
   ],
   "source": [
    "df = rank_ratio_df\n",
    "ind = whatIsPareto(df[['Accuracy','Disparity']], True, False).astype(bool)\n",
    "df[ind].dropna().sort_values('Accuracy', ascending=False)"
   ]
  },
  {
   "cell_type": "markdown",
   "id": "d5367736",
   "metadata": {},
   "source": [
    "#### Ratio of Errors: "
   ]
  },
  {
   "cell_type": "code",
   "execution_count": 15,
   "id": "dab22cb2",
   "metadata": {},
   "outputs": [
    {
     "data": {
      "text/html": [
       "<div>\n",
       "<style scoped>\n",
       "    .dataframe tbody tr th:only-of-type {\n",
       "        vertical-align: middle;\n",
       "    }\n",
       "\n",
       "    .dataframe tbody tr th {\n",
       "        vertical-align: top;\n",
       "    }\n",
       "\n",
       "    .dataframe thead th {\n",
       "        text-align: right;\n",
       "    }\n",
       "</style>\n",
       "<table border=\"1\" class=\"dataframe\">\n",
       "  <thead>\n",
       "    <tr style=\"text-align: right;\">\n",
       "      <th></th>\n",
       "      <th>index</th>\n",
       "      <th>epoch</th>\n",
       "      <th>Error</th>\n",
       "      <th>Disparity</th>\n",
       "    </tr>\n",
       "  </thead>\n",
       "  <tbody>\n",
       "    <tr>\n",
       "      <th>723</th>\n",
       "      <td>rexnet_200_CosFace_SGD_rank_by_id_val</td>\n",
       "      <td>79</td>\n",
       "      <td>0.044526</td>\n",
       "      <td>0.414918</td>\n",
       "    </tr>\n",
       "    <tr>\n",
       "      <th>311</th>\n",
       "      <td>rexnet_200_CosFace_SGD_rank_by_id_val</td>\n",
       "      <td>39</td>\n",
       "      <td>0.045115</td>\n",
       "      <td>0.351675</td>\n",
       "    </tr>\n",
       "    <tr>\n",
       "      <th>517</th>\n",
       "      <td>rexnet_200_CosFace_SGD_rank_by_id_val</td>\n",
       "      <td>59</td>\n",
       "      <td>0.045377</td>\n",
       "      <td>0.309756</td>\n",
       "    </tr>\n",
       "    <tr>\n",
       "      <th>387</th>\n",
       "      <td>ese_vovnet39b_CosFace_SGD_rank_by_id_val</td>\n",
       "      <td>39</td>\n",
       "      <td>0.102541</td>\n",
       "      <td>0.265781</td>\n",
       "    </tr>\n",
       "    <tr>\n",
       "      <th>296</th>\n",
       "      <td>resnetrs101_CosFace_SGD_rank_by_id_val</td>\n",
       "      <td>39</td>\n",
       "      <td>0.104178</td>\n",
       "      <td>0.236142</td>\n",
       "    </tr>\n",
       "    <tr>\n",
       "      <th>62</th>\n",
       "      <td>hrnet_w64_CosFace_sgd_rank_by_id_val</td>\n",
       "      <td>19</td>\n",
       "      <td>0.122381</td>\n",
       "      <td>0.174805</td>\n",
       "    </tr>\n",
       "    <tr>\n",
       "      <th>969</th>\n",
       "      <td>vgg19_bn_ArcFace_SGD_rank_by_id_val</td>\n",
       "      <td>99</td>\n",
       "      <td>0.228064</td>\n",
       "      <td>0.164910</td>\n",
       "    </tr>\n",
       "    <tr>\n",
       "      <th>339</th>\n",
       "      <td>gluon_xception65_MagFace_AdamW_rank_by_id_val</td>\n",
       "      <td>39</td>\n",
       "      <td>0.332504</td>\n",
       "      <td>0.049174</td>\n",
       "    </tr>\n",
       "    <tr>\n",
       "      <th>957</th>\n",
       "      <td>gluon_xception65_MagFace_AdamW_rank_by_id_val</td>\n",
       "      <td>99</td>\n",
       "      <td>0.341867</td>\n",
       "      <td>0.035741</td>\n",
       "    </tr>\n",
       "    <tr>\n",
       "      <th>751</th>\n",
       "      <td>gluon_xception65_MagFace_AdamW_rank_by_id_val</td>\n",
       "      <td>79</td>\n",
       "      <td>0.342195</td>\n",
       "      <td>0.025689</td>\n",
       "    </tr>\n",
       "  </tbody>\n",
       "</table>\n",
       "</div>"
      ],
      "text/plain": [
       "                                             index  epoch     Error  Disparity\n",
       "723          rexnet_200_CosFace_SGD_rank_by_id_val     79  0.044526   0.414918\n",
       "311          rexnet_200_CosFace_SGD_rank_by_id_val     39  0.045115   0.351675\n",
       "517          rexnet_200_CosFace_SGD_rank_by_id_val     59  0.045377   0.309756\n",
       "387       ese_vovnet39b_CosFace_SGD_rank_by_id_val     39  0.102541   0.265781\n",
       "296         resnetrs101_CosFace_SGD_rank_by_id_val     39  0.104178   0.236142\n",
       "62            hrnet_w64_CosFace_sgd_rank_by_id_val     19  0.122381   0.174805\n",
       "969            vgg19_bn_ArcFace_SGD_rank_by_id_val     99  0.228064   0.164910\n",
       "339  gluon_xception65_MagFace_AdamW_rank_by_id_val     39  0.332504   0.049174\n",
       "957  gluon_xception65_MagFace_AdamW_rank_by_id_val     99  0.341867   0.035741\n",
       "751  gluon_xception65_MagFace_AdamW_rank_by_id_val     79  0.342195   0.025689"
      ]
     },
     "execution_count": 15,
     "metadata": {},
     "output_type": "execute_result"
    }
   ],
   "source": [
    "df = error_ratio_df\n",
    "ind = whatIsPareto(df[['Error','Disparity']], False, False).astype(bool)\n",
    "df[ind].dropna().sort_values('Error')"
   ]
  },
  {
   "cell_type": "markdown",
   "id": "fbc4d509",
   "metadata": {},
   "source": [
    "# Pareto Optimality across epochs\n",
    "\n",
    "The following experiment is Pareto optimal across all models at *Epoch 20*\n",
    "- rexnet_200_MagFace_SGD\n",
    "\n",
    "The following experiments are Pareto optimal across all models at *Epoch 40*\n",
    "- rexnet_200_CosFace_SGD\n",
    "- gluon_xception65_MagFace_AdamW\n",
    "\n",
    "The following experiment is Pareto optimal across all models at *Epoch 60*\n",
    "- rexnet_200_CosFace_SGD\n",
    "\n",
    "The following experiments are Pareto optimal across all models at *Epoch 80*\n",
    "- rexnet_200_CosFace_SGD\n",
    "- gluon_xception65_MagFace_AdamW\n",
    "\n",
    "The following experiments are Pareto optimal across all models at *Epoch 100*\n",
    "- rexnet_200_CosFace_SGD\n",
    "- gluon_xception65_MagFace_AdamW\n"
   ]
  },
  {
   "cell_type": "code",
   "execution_count": 16,
   "id": "4fe05f88",
   "metadata": {},
   "outputs": [],
   "source": [
    "foo = pd.DataFrame(columns = acc_disp_df.columns)\n",
    "for e in epochs:\n",
    "    df = acc_disp_df[acc_disp_df['epoch'] == e]\n",
    "    ind = whatIsPareto(df[['Accuracy','Disparity']], True, False).astype(bool)\n",
    "    out = df[ind].dropna().sort_values('Accuracy', ascending=False)\n",
    "    foo = foo.append(out)"
   ]
  },
  {
   "cell_type": "code",
   "execution_count": 17,
   "id": "e7684e78",
   "metadata": {},
   "outputs": [
    {
     "data": {
      "text/html": [
       "<div>\n",
       "<style scoped>\n",
       "    .dataframe tbody tr th:only-of-type {\n",
       "        vertical-align: middle;\n",
       "    }\n",
       "\n",
       "    .dataframe tbody tr th {\n",
       "        vertical-align: top;\n",
       "    }\n",
       "\n",
       "    .dataframe thead th {\n",
       "        text-align: right;\n",
       "    }\n",
       "</style>\n",
       "<table border=\"1\" class=\"dataframe\">\n",
       "  <thead>\n",
       "    <tr style=\"text-align: right;\">\n",
       "      <th></th>\n",
       "      <th>index</th>\n",
       "      <th>epoch</th>\n",
       "      <th>Accuracy</th>\n",
       "      <th>Disparity</th>\n",
       "    </tr>\n",
       "  </thead>\n",
       "  <tbody>\n",
       "    <tr>\n",
       "      <th>186</th>\n",
       "      <td>rexnet_200_MagFace_SGD_rank_by_id_val</td>\n",
       "      <td>19</td>\n",
       "      <td>0.947944</td>\n",
       "      <td>0.021084</td>\n",
       "    </tr>\n",
       "    <tr>\n",
       "      <th>311</th>\n",
       "      <td>rexnet_200_CosFace_SGD_rank_by_id_val</td>\n",
       "      <td>39</td>\n",
       "      <td>0.954885</td>\n",
       "      <td>0.019251</td>\n",
       "    </tr>\n",
       "    <tr>\n",
       "      <th>339</th>\n",
       "      <td>gluon_xception65_MagFace_AdamW_rank_by_id_val</td>\n",
       "      <td>39</td>\n",
       "      <td>0.667496</td>\n",
       "      <td>0.016763</td>\n",
       "    </tr>\n",
       "    <tr>\n",
       "      <th>517</th>\n",
       "      <td>rexnet_200_CosFace_SGD_rank_by_id_val</td>\n",
       "      <td>59</td>\n",
       "      <td>0.954623</td>\n",
       "      <td>0.016632</td>\n",
       "    </tr>\n",
       "    <tr>\n",
       "      <th>723</th>\n",
       "      <td>rexnet_200_CosFace_SGD_rank_by_id_val</td>\n",
       "      <td>79</td>\n",
       "      <td>0.955474</td>\n",
       "      <td>0.023311</td>\n",
       "    </tr>\n",
       "    <tr>\n",
       "      <th>751</th>\n",
       "      <td>gluon_xception65_MagFace_AdamW_rank_by_id_val</td>\n",
       "      <td>79</td>\n",
       "      <td>0.657805</td>\n",
       "      <td>0.008905</td>\n",
       "    </tr>\n",
       "    <tr>\n",
       "      <th>929</th>\n",
       "      <td>rexnet_200_CosFace_SGD_rank_by_id_val</td>\n",
       "      <td>99</td>\n",
       "      <td>0.954034</td>\n",
       "      <td>0.023311</td>\n",
       "    </tr>\n",
       "    <tr>\n",
       "      <th>957</th>\n",
       "      <td>gluon_xception65_MagFace_AdamW_rank_by_id_val</td>\n",
       "      <td>99</td>\n",
       "      <td>0.658133</td>\n",
       "      <td>0.012441</td>\n",
       "    </tr>\n",
       "  </tbody>\n",
       "</table>\n",
       "</div>"
      ],
      "text/plain": [
       "                                             index epoch  Accuracy  Disparity\n",
       "186          rexnet_200_MagFace_SGD_rank_by_id_val    19  0.947944   0.021084\n",
       "311          rexnet_200_CosFace_SGD_rank_by_id_val    39  0.954885   0.019251\n",
       "339  gluon_xception65_MagFace_AdamW_rank_by_id_val    39  0.667496   0.016763\n",
       "517          rexnet_200_CosFace_SGD_rank_by_id_val    59  0.954623   0.016632\n",
       "723          rexnet_200_CosFace_SGD_rank_by_id_val    79  0.955474   0.023311\n",
       "751  gluon_xception65_MagFace_AdamW_rank_by_id_val    79  0.657805   0.008905\n",
       "929          rexnet_200_CosFace_SGD_rank_by_id_val    99  0.954034   0.023311\n",
       "957  gluon_xception65_MagFace_AdamW_rank_by_id_val    99  0.658133   0.012441"
      ]
     },
     "execution_count": 17,
     "metadata": {},
     "output_type": "execute_result"
    }
   ],
   "source": [
    "foo"
   ]
  },
  {
   "cell_type": "markdown",
   "id": "d79b9dd1",
   "metadata": {},
   "source": [
    "# Random models"
   ]
  },
  {
   "cell_type": "code",
   "execution_count": 18,
   "id": "ee84d9a8",
   "metadata": {},
   "outputs": [],
   "source": [
    "random_rank = [x for x in glob.glob('random/**/*ank_by_id_val.csv') if [m for m in final_models if m in x]]\n",
    "rnd_epoch_columns = ['epoch_0']"
   ]
  },
  {
   "cell_type": "code",
   "execution_count": 19,
   "id": "d9f3fb6d",
   "metadata": {},
   "outputs": [],
   "source": [
    "meta = pd.read_csv('../timm_model_metadata.csv')"
   ]
  },
  {
   "cell_type": "code",
   "execution_count": 20,
   "id": "51f4d5ae",
   "metadata": {},
   "outputs": [],
   "source": [
    "epoch_columns = ['epoch_0']\n",
    "acc_random_df, acc_disp_random_df, rank_random_df = analyze_rank_files(random_rank, metadata, epochs=epoch_columns)\n",
    "_, acc_disp_ratio_random_df, rank_ratio_random_df = analyze_rank_files(random_rank, metadata, ratio=True, epochs=epoch_columns)\n",
    "err_random_df, error_ratio_random_df, _ = analyze_rank_files(random_rank, metadata, ratio=True, error=True, epochs=epoch_columns)\n",
    "\n",
    "acc_disp_random_df = merge(acc_random_df, acc_disp_random_df)\n",
    "rank_random_df = merge(acc_random_df, rank_random_df)\n",
    "acc_disp_ratio_random_df = merge(acc_random_df, acc_disp_ratio_random_df)\n",
    "rank_ratio_random_df = merge(acc_random_df, rank_ratio_random_df)\n",
    "error_ratio_random_df = merge(err_random_df, error_ratio_random_df).rename(columns={'Accuracy':'Error'})"
   ]
  },
  {
   "cell_type": "markdown",
   "id": "32a80add",
   "metadata": {},
   "source": [
    "## We first ask about the predictive performance of the random accuracy and architecture features on the disparity\n",
    "\n",
    "There isn't a consistent message on how the accuracy of a random moel predicts the disparity of the random model"
   ]
  },
  {
   "cell_type": "code",
   "execution_count": 21,
   "id": "d72a4107",
   "metadata": {
    "scrolled": false
   },
   "outputs": [
    {
     "data": {
      "text/html": [
       "<table style=\"text-align:center\"><tr><td colspan=\"6\" style=\"border-bottom: 1px solid black\"></td></tr><tr><td style=\"text-align:left\"></td><td colspan=\"5\"><em>Dependent variable:Disparity</em></td></tr><tr><td style=\"text-align:left\"></td><tr><td></td><td colspan=\"1\">Statisitcal Parity</td><td colspan=\"1\">Ratio of Accuracies</td><td colspan=\"1\">Difference of Ranks</td><td colspan=\"1\">Ratio of Ranks</td><td colspan=\"1\">Ratio of Errors</td></tr><tr><td style=\"text-align:left\"></td><td>(1)</td><td>(2)</td><td>(3)</td><td>(4)</td><td>(5)</td></tr><tr><td colspan=\"6\" style=\"border-bottom: 1px solid black\"></td></tr><tr><td style=\"text-align:left\">Accuracy</td><td>0.161<sup>***</sup></td><td>-0.520<sup></sup></td><td>-41.993<sup>**</sup></td><td>0.145<sup></sup></td><td></td></tr><tr><td style=\"text-align:left\"></td><td>(0.089 , 0.232)</td><td>(-1.476 , 0.435)</td><td>(-82.234 , -1.752)</td><td>(-0.081 , 0.371)</td><td></td></tr><tr><td style=\"text-align:left\">AdaptiveAvgPool1d</td><td>-0.000<sup>***</sup></td><td>-0.000<sup>***</sup></td><td>0.029<sup>***</sup></td><td>0.000<sup>***</sup></td><td>-0.000<sup>***</sup></td></tr><tr><td style=\"text-align:left\"></td><td>(-0.000 , -0.000)</td><td>(-0.001 , -0.000)</td><td>(0.015 , 0.043)</td><td>(0.000 , 0.000)</td><td>(-0.000 , -0.000)</td></tr><tr><td style=\"text-align:left\">AdaptiveAvgPool2d</td><td>-0.012<sup>***</sup></td><td>-0.106<sup>**</sup></td><td>4.360<sup>**</sup></td><td>0.046<sup>***</sup></td><td>-0.014<sup>***</sup></td></tr><tr><td style=\"text-align:left\"></td><td>(-0.018 , -0.006)</td><td>(-0.189 , -0.023)</td><td>(0.876 , 7.843)</td><td>(0.027 , 0.066)</td><td>(-0.021 , -0.007)</td></tr><tr><td style=\"text-align:left\">AvgPool2d</td><td>-0.000<sup></sup></td><td>0.003<sup></sup></td><td>-0.374<sup>***</sup></td><td>-0.002<sup>**</sup></td><td>-0.000<sup></sup></td></tr><tr><td style=\"text-align:left\"></td><td>(-0.001 , 0.000)</td><td>(-0.004 , 0.009)</td><td>(-0.649 , -0.099)</td><td>(-0.003 , -0.000)</td><td>(-0.001 , 0.000)</td></tr><tr><td style=\"text-align:left\">BatchNorm2d</td><td>0.000<sup>***</sup></td><td>0.003<sup>***</sup></td><td>-0.061<sup>**</sup></td><td>-0.001<sup>***</sup></td><td>0.000<sup>***</sup></td></tr><tr><td style=\"text-align:left\"></td><td>(0.000 , 0.000)</td><td>(0.001 , 0.004)</td><td>(-0.122 , -0.000)</td><td>(-0.001 , -0.000)</td><td>(0.000 , 0.000)</td></tr><tr><td style=\"text-align:left\">Conv2d</td><td>-0.000<sup>***</sup></td><td>-0.000<sup></sup></td><td>-0.095<sup>***</sup></td><td>-0.000<sup></sup></td><td>-0.000<sup>***</sup></td></tr><tr><td style=\"text-align:left\"></td><td>(-0.000 , -0.000)</td><td>(-0.002 , 0.001)</td><td>(-0.165 , -0.025)</td><td>(-0.001 , 0.000)</td><td>(-0.000 , -0.000)</td></tr><tr><td style=\"text-align:left\">Conv2dSame</td><td>-0.000<sup></sup></td><td>-0.000<sup>*</sup></td><td>0.001<sup></sup></td><td>-0.000<sup></sup></td><td>-0.000<sup></sup></td></tr><tr><td style=\"text-align:left\"></td><td>(-0.000 , 0.000)</td><td>(-0.000 , 0.000)</td><td>(-0.006 , 0.008)</td><td>(-0.000 , 0.000)</td><td>(-0.000 , 0.000)</td></tr><tr><td style=\"text-align:left\">DropPath</td><td>0.000<sup></sup></td><td>0.004<sup></sup></td><td>-0.428<sup>*</sup></td><td>-0.003<sup>**</sup></td><td>0.000<sup></sup></td></tr><tr><td style=\"text-align:left\"></td><td>(-0.001 , 0.001)</td><td>(-0.006 , 0.015)</td><td>(-0.856 , 0.001)</td><td>(-0.005 , -0.001)</td><td>(-0.001 , 0.001)</td></tr><tr><td style=\"text-align:left\">Dropout</td><td>0.004<sup>***</sup></td><td>0.010<sup></sup></td><td>0.641<sup></sup></td><td>-0.000<sup></sup></td><td>0.005<sup>***</sup></td></tr><tr><td style=\"text-align:left\"></td><td>(0.001 , 0.007)</td><td>(-0.032 , 0.052)</td><td>(-1.111 , 2.392)</td><td>(-0.010 , 0.010)</td><td>(0.001 , 0.008)</td></tr><tr><td style=\"text-align:left\">ELU</td><td>0.028<sup>***</sup></td><td>0.251<sup>***</sup></td><td>-0.594<sup></sup></td><td>-0.032<sup></sup></td><td>0.031<sup>***</sup></td></tr><tr><td style=\"text-align:left\"></td><td>(0.016 , 0.041)</td><td>(0.083 , 0.420)</td><td>(-7.677 , 6.490)</td><td>(-0.072 , 0.008)</td><td>(0.017 , 0.045)</td></tr><tr><td style=\"text-align:left\">Error</td><td></td><td></td><td></td><td></td><td>-0.190<sup>***</sup></td></tr><tr><td style=\"text-align:left\"></td><td></td><td></td><td></td><td></td><td>(-0.271 , -0.110)</td></tr><tr><td style=\"text-align:left\">Flatten</td><td>-0.012<sup>***</sup></td><td>-0.106<sup>**</sup></td><td>4.360<sup>**</sup></td><td>0.046<sup>***</sup></td><td>-0.014<sup>***</sup></td></tr><tr><td style=\"text-align:left\"></td><td>(-0.018 , -0.006)</td><td>(-0.189 , -0.023)</td><td>(0.876 , 7.843)</td><td>(0.027 , 0.066)</td><td>(-0.021 , -0.007)</td></tr><tr><td style=\"text-align:left\">GELU</td><td>-0.008<sup>**</sup></td><td>-0.006<sup></sup></td><td>-1.652<sup></sup></td><td>-0.004<sup></sup></td><td>-0.008<sup>**</sup></td></tr><tr><td style=\"text-align:left\"></td><td>(-0.014 , -0.001)</td><td>(-0.093 , 0.081)</td><td>(-5.305 , 2.002)</td><td>(-0.024 , 0.017)</td><td>(-0.016 , -0.001)</td></tr><tr><td style=\"text-align:left\">Hardsigmoid</td><td>0.004<sup>***</sup></td><td>0.086<sup>***</sup></td><td>-4.860<sup>***</sup></td><td>-0.031<sup>***</sup></td><td>0.005<sup>***</sup></td></tr><tr><td style=\"text-align:left\"></td><td>(0.002 , 0.007)</td><td>(0.051 , 0.122)</td><td>(-6.357 , -3.363)</td><td>(-0.040 , -0.023)</td><td>(0.002 , 0.008)</td></tr><tr><td style=\"text-align:left\">Hardswish</td><td>-0.001<sup>***</sup></td><td>-0.020<sup>***</sup></td><td>1.200<sup>***</sup></td><td>0.007<sup>***</sup></td><td>-0.001<sup>***</sup></td></tr><tr><td style=\"text-align:left\"></td><td>(-0.002 , -0.000)</td><td>(-0.029 , -0.011)</td><td>(0.834 , 1.566)</td><td>(0.005 , 0.009)</td><td>(-0.002 , -0.000)</td></tr><tr><td style=\"text-align:left\">LayerNorm</td><td>-0.002<sup>***</sup></td><td>-0.008<sup></sup></td><td>-0.205<sup></sup></td><td>0.000<sup></sup></td><td>-0.003<sup>***</sup></td></tr><tr><td style=\"text-align:left\"></td><td>(-0.004 , -0.001)</td><td>(-0.030 , 0.014)</td><td>(-1.134 , 0.723)</td><td>(-0.005 , 0.005)</td><td>(-0.005 , -0.001)</td></tr><tr><td style=\"text-align:left\">LeakyReLU</td><td>0.001<sup>***</sup></td><td>0.007<sup>***</sup></td><td>-0.189<sup>***</sup></td><td>-0.002<sup>***</sup></td><td>0.001<sup>***</sup></td></tr><tr><td style=\"text-align:left\"></td><td>(0.000 , 0.001)</td><td>(0.005 , 0.010)</td><td>(-0.302 , -0.075)</td><td>(-0.002 , -0.001)</td><td>(0.000 , 0.001)</td></tr><tr><td style=\"text-align:left\">Linear</td><td>-0.001<sup>***</sup></td><td>-0.001<sup></sup></td><td>-0.296<sup>**</sup></td><td>-0.000<sup></sup></td><td>-0.001<sup>***</sup></td></tr><tr><td style=\"text-align:left\"></td><td>(-0.001 , -0.000)</td><td>(-0.007 , 0.006)</td><td>(-0.563 , -0.030)</td><td>(-0.002 , 0.001)</td><td>(-0.001 , -0.000)</td></tr><tr><td style=\"text-align:left\">MaxPool2d</td><td>0.002<sup>***</sup></td><td>0.024<sup>***</sup></td><td>-0.918<sup>***</sup></td><td>-0.007<sup>***</sup></td><td>0.002<sup>***</sup></td></tr><tr><td style=\"text-align:left\"></td><td>(0.001 , 0.003)</td><td>(0.016 , 0.033)</td><td>(-1.289 , -0.547)</td><td>(-0.009 , -0.005)</td><td>(0.002 , 0.003)</td></tr><tr><td style=\"text-align:left\">MaxPool2dSame</td><td>0.000<sup>*</sup></td><td>0.001<sup>*</sup></td><td>-0.095<sup>***</sup></td><td>-0.001<sup>***</sup></td><td>0.000<sup>*</sup></td></tr><tr><td style=\"text-align:left\"></td><td>(-0.000 , 0.000)</td><td>(-0.000 , 0.003)</td><td>(-0.155 , -0.035)</td><td>(-0.001 , -0.000)</td><td>(-0.000 , 0.000)</td></tr><tr><td style=\"text-align:left\">ReLU</td><td>0.000<sup></sup></td><td>-0.001<sup>**</sup></td><td>0.066<sup>***</sup></td><td>0.000<sup>*</sup></td><td>0.000<sup></sup></td></tr><tr><td style=\"text-align:left\"></td><td>(-0.000 , 0.000)</td><td>(-0.002 , -0.000)</td><td>(0.024 , 0.109)</td><td>(-0.000 , 0.000)</td><td>(-0.000 , 0.000)</td></tr><tr><td style=\"text-align:left\">ReLU6</td><td>0.000<sup></sup></td><td>0.004<sup>*</sup></td><td>-0.062<sup></sup></td><td>-0.000<sup></sup></td><td>0.000<sup></sup></td></tr><tr><td style=\"text-align:left\"></td><td>(-0.000 , 0.000)</td><td>(-0.001 , 0.009)</td><td>(-0.266 , 0.141)</td><td>(-0.001 , 0.001)</td><td>(-0.000 , 0.000)</td></tr><tr><td style=\"text-align:left\">SelectSeq</td><td>0.024<sup>***</sup></td><td>0.419<sup>***</sup></td><td>-24.066<sup>***</sup></td><td>-0.159<sup>***</sup></td><td>0.028<sup>***</sup></td></tr><tr><td style=\"text-align:left\"></td><td>(0.012 , 0.036)</td><td>(0.254 , 0.584)</td><td>(-31.021 , -17.110)</td><td>(-0.198 , -0.120)</td><td>(0.014 , 0.042)</td></tr><tr><td style=\"text-align:left\">Sequential</td><td>-0.000<sup></sup></td><td>-0.000<sup></sup></td><td>0.377<sup>***</sup></td><td>0.003<sup>***</sup></td><td>-0.000<sup></sup></td></tr><tr><td style=\"text-align:left\"></td><td>(-0.001 , 0.000)</td><td>(-0.006 , 0.005)</td><td>(0.145 , 0.609)</td><td>(0.002 , 0.004)</td><td>(-0.001 , 0.000)</td></tr><tr><td style=\"text-align:left\">SiLU</td><td>-0.000<sup></sup></td><td>-0.001<sup>**</sup></td><td>-0.040<sup>**</sup></td><td>-0.000<sup>***</sup></td><td>-0.000<sup></sup></td></tr><tr><td style=\"text-align:left\"></td><td>(-0.000 , 0.000)</td><td>(-0.002 , -0.000)</td><td>(-0.072 , -0.007)</td><td>(-0.000 , -0.000)</td><td>(-0.000 , 0.000)</td></tr><tr><td style=\"text-align:left\">Sigmoid</td><td>0.000<sup>***</sup></td><td>0.002<sup></sup></td><td>0.432<sup>***</sup></td><td>0.001<sup>***</sup></td><td>0.001<sup>***</sup></td></tr><tr><td style=\"text-align:left\"></td><td>(0.000 , 0.001)</td><td>(-0.002 , 0.006)</td><td>(0.267 , 0.596)</td><td>(0.000 , 0.002)</td><td>(0.000 , 0.001)</td></tr><tr><td style=\"text-align:left\">Softmax</td><td>-0.001<sup>***</sup></td><td>-0.012<sup>***</sup></td><td>0.697<sup>***</sup></td><td>0.006<sup>***</sup></td><td>-0.001<sup>***</sup></td></tr><tr><td style=\"text-align:left\"></td><td>(-0.002 , -0.000)</td><td>(-0.020 , -0.004)</td><td>(0.361 , 1.033)</td><td>(0.004 , 0.008)</td><td>(-0.002 , -0.001)</td></tr><tr><td style=\"text-align:left\">Unfold</td><td>0.019<sup>**</sup></td><td>-0.089<sup></sup></td><td>10.836<sup>**</sup></td><td>0.035<sup></sup></td><td>0.022<sup>**</sup></td></tr><tr><td style=\"text-align:left\"></td><td>(0.002 , 0.035)</td><td>(-0.312 , 0.135)</td><td>(1.421 , 20.251)</td><td>(-0.018 , 0.088)</td><td>(0.003 , 0.040)</td></tr><tr><td style=\"text-align:left\">Upsample</td><td>0.000<sup></sup></td><td>-0.003<sup></sup></td><td>0.297<sup>***</sup></td><td>0.002<sup>***</sup></td><td>0.000<sup></sup></td></tr><tr><td style=\"text-align:left\"></td><td>(-0.000 , 0.000)</td><td>(-0.008 , 0.001)</td><td>(0.108 , 0.486)</td><td>(0.000 , 0.003)</td><td>(-0.000 , 0.000)</td></tr><tr><td style=\"text-align:left\">const</td><td>-0.008<sup>**</sup></td><td>-0.130<sup>**</sup></td><td>39.681<sup>***</sup></td><td>0.165<sup>***</sup></td><td>0.179<sup>***</sup></td></tr><tr><td style=\"text-align:left\"></td><td>(-0.017 , -0.000)</td><td>(-0.238 , -0.022)</td><td>(35.129 , 44.233)</td><td>(0.139 , 0.190)</td><td>(0.098 , 0.261)</td></tr><tr><td style=\"text-align:left\">feature_dim</td><td>0.000<sup>***</sup></td><td>0.000<sup>***</sup></td><td>-0.009<sup>***</sup></td><td>-0.000<sup>***</sup></td><td>0.000<sup>***</sup></td></tr><tr><td style=\"text-align:left\"></td><td>(0.000 , 0.000)</td><td>(0.000 , 0.000)</td><td>(-0.012 , -0.007)</td><td>(-0.000 , -0.000)</td><td>(0.000 , 0.000)</td></tr><tr><td style=\"text-align:left\">n_feature_params</td><td>-0.000<sup>***</sup></td><td>-0.000<sup></sup></td><td>0.000<sup></sup></td><td>0.000<sup>**</sup></td><td>-0.000<sup>***</sup></td></tr><tr><td style=\"text-align:left\"></td><td>(-0.000 , -0.000)</td><td>(-0.000 , 0.000)</td><td>(-0.000 , 0.000)</td><td>(0.000 , 0.000)</td><td>(-0.000 , -0.000)</td></tr><td colspan=\"6\" style=\"border-bottom: 1px solid black\"></td></tr><tr><td style=\"text-align: left\">Observations</td><td>310</td><td>310</td><td>310</td><td>310</td><td>310</td></tr><tr><td style=\"text-align: left\">R<sup>2</sup></td><td>0.723</td><td>0.621</td><td>0.819</td><td>0.766</td><td>0.744</td></tr><tr><td style=\"text-align: left\">Adjusted R<sup>2</sup></td><td>0.697</td><td>0.586</td><td>0.802</td><td>0.744</td><td>0.720</td></tr><tr><td style=\"text-align: left\">Residual Std. Error</td><td>0.006 (df=283)</td><td>0.080 (df=283)</td><td>3.379 (df=283)</td><td>0.019 (df=283)</td><td>0.007 (df=283)</td></tr><tr><td style=\"text-align: left\">F Statistic</td><td>28.344<sup>***</sup> (df=26; 283)</td><td>17.849<sup>***</sup> (df=26; 283)</td><td>49.221<sup>***</sup> (df=26; 283)</td><td>35.590<sup>***</sup> (df=26; 283)</td><td>31.564<sup>***</sup> (df=26; 283)</td></tr><tr><td colspan=\"6\" style=\"border-bottom: 1px solid black\"></td></tr><tr><td style=\"text-align: left\">Note:</td>\n",
       " <td colspan=\"5\" style=\"text-align: right\">\n",
       "  <sup>*</sup>p&lt;0.1;\n",
       "  <sup>**</sup>p&lt;0.05;\n",
       "  <sup>***</sup>p&lt;0.01\n",
       " </td></tr></table>"
      ],
      "text/plain": [
       "<stargazer.stargazer.Stargazer at 0x7f8528a13cd0>"
      ]
     },
     "execution_count": 21,
     "metadata": {},
     "output_type": "execute_result"
    }
   ],
   "source": [
    "def regression_with_random(df, col = 'Accuracy'):\n",
    "    df = df[df[col] > 0]\n",
    "    df['model'] = df['index'].apply(lambda x: get_name_details(x.replace('_rank_by_id_val',''))[1])\n",
    "    df = df.merge(meta, left_on='model', right_on='model_name')\n",
    "    df.fillna('0',inplace=True)\n",
    "\n",
    "    y = df['Disparity'] # dependent variable\n",
    "    X = df[[col,\n",
    "            'feature_dim', 'n_feature_params',\n",
    "           ]+[x for x in list(meta.columns[8:13])+list(meta.columns[16:]) \n",
    "              if len(df[x].unique())>1]].astype(float) # independent variable\n",
    "    X = pd.get_dummies(data=X, drop_first=True)\n",
    "\n",
    "    X = sm.add_constant(X) # adding a constant\n",
    "    lm = sm.OLS(y, X).fit() # fitting the model\n",
    "    return lm\n",
    "\n",
    "lm1 = regression_with_random(acc_disp_random_df)\n",
    "lm2 = regression_with_random(acc_disp_ratio_random_df)\n",
    "lm3 = regression_with_random(rank_random_df)\n",
    "lm4 = regression_with_random(rank_ratio_random_df)\n",
    "lm5 = regression_with_random(error_ratio_random_df, col='Error')\n",
    "\n",
    "tbl = Stargazer([lm1,lm2,lm3,lm4,lm5])\n",
    "tbl.show_confidence_intervals(True)\n",
    "tbl.custom_columns(['Statisitcal Parity', 'Ratio of Accuracies', \n",
    "                    'Difference of Ranks', 'Ratio of Ranks', 'Ratio of Errors'], \n",
    "                   [1,1,1,1,1])\n",
    "tbl\n"
   ]
  },
  {
   "cell_type": "markdown",
   "id": "39729bb5",
   "metadata": {},
   "source": [
    "## We first ask about the predictive performance of the random accuracy and architecture features on the trained accuracy\n",
    "\n",
    "We see evidence that as the accuracy of a random model increases, the disparity of the trained models gets worse (higher) even when controlling for the architecture features. (Excpet for ratio of ranks. And as errors increase on the random model, the ratio of errors also increases.)"
   ]
  },
  {
   "cell_type": "code",
   "execution_count": 22,
   "id": "dad1f6f7",
   "metadata": {
    "scrolled": false
   },
   "outputs": [
    {
     "data": {
      "text/html": [
       "<table style=\"text-align:center\"><tr><td colspan=\"6\" style=\"border-bottom: 1px solid black\"></td></tr><tr><td style=\"text-align:left\"></td><td colspan=\"5\"><em>Dependent variable:Disparity_Trained</em></td></tr><tr><td style=\"text-align:left\"></td><tr><td></td><td colspan=\"1\">Statisitcal Parity</td><td colspan=\"1\">Ratio of Accuracies</td><td colspan=\"1\">Difference of Ranks</td><td colspan=\"1\">Ratio of Ranks</td><td colspan=\"1\">Ratio of Errors</td></tr><tr><td style=\"text-align:left\"></td><td>(1)</td><td>(2)</td><td>(3)</td><td>(4)</td><td>(5)</td></tr><tr><td colspan=\"6\" style=\"border-bottom: 1px solid black\"></td></tr><tr><td style=\"text-align:left\">Accuracy_Random</td><td>0.798<sup>**</sup></td><td>3.738<sup>***</sup></td><td>132.464<sup>***</sup></td><td>-2.272<sup>*</sup></td><td></td></tr><tr><td style=\"text-align:left\"></td><td>(0.039 , 1.558)</td><td>(1.340 , 6.136)</td><td>(60.249 , 204.679)</td><td>(-4.827 , 0.284)</td><td></td></tr><tr><td style=\"text-align:left\">AdaptiveAvgPool1d</td><td>0.000<sup>***</sup></td><td>0.001<sup>***</sup></td><td>0.028<sup>***</sup></td><td>0.000<sup></sup></td><td>-0.003<sup>**</sup></td></tr><tr><td style=\"text-align:left\"></td><td>(0.000 , 0.001)</td><td>(0.001 , 0.001)</td><td>(0.014 , 0.041)</td><td>(-0.000 , 0.000)</td><td>(-0.005 , -0.000)</td></tr><tr><td style=\"text-align:left\">AdaptiveAvgPool2d</td><td>0.093<sup>**</sup></td><td>0.207<sup>*</sup></td><td>7.691<sup>**</sup></td><td>-0.134<sup></sup></td><td>-0.641<sup>**</sup></td></tr><tr><td style=\"text-align:left\"></td><td>(0.016 , 0.170)</td><td>(-0.035 , 0.450)</td><td>(0.388 , 14.995)</td><td>(-0.393 , 0.124)</td><td>(-1.211 , -0.071)</td></tr><tr><td style=\"text-align:left\">AvgPool2d</td><td>-0.000<sup></sup></td><td>-0.009<sup></sup></td><td>-0.482<sup>**</sup></td><td>0.010<sup></sup></td><td>0.010<sup>**</sup></td></tr><tr><td style=\"text-align:left\"></td><td>(-0.004 , 0.004)</td><td>(-0.021 , 0.004)</td><td>(-0.856 , -0.107)</td><td>(-0.004 , 0.023)</td><td>(0.001 , 0.019)</td></tr><tr><td style=\"text-align:left\">BatchNorm2d</td><td>-0.001<sup></sup></td><td>-0.000<sup></sup></td><td>0.023<sup></sup></td><td>0.001<sup></sup></td><td>-0.003<sup>**</sup></td></tr><tr><td style=\"text-align:left\"></td><td>(-0.002 , 0.000)</td><td>(-0.003 , 0.003)</td><td>(-0.071 , 0.116)</td><td>(-0.003 , 0.004)</td><td>(-0.005 , -0.000)</td></tr><tr><td style=\"text-align:left\">Conv2d</td><td>0.000<sup></sup></td><td>-0.003<sup></sup></td><td>-0.133<sup>*</sup></td><td>0.001<sup></sup></td><td>0.004<sup>***</sup></td></tr><tr><td style=\"text-align:left\"></td><td>(-0.001 , 0.001)</td><td>(-0.007 , 0.002)</td><td>(-0.268 , 0.003)</td><td>(-0.004 , 0.006)</td><td>(0.001 , 0.008)</td></tr><tr><td style=\"text-align:left\">Conv2dSame</td><td>0.000<sup>***</sup></td><td>0.000<sup>***</sup></td><td>0.007<sup>***</sup></td><td>-0.000<sup>***</sup></td><td>-0.000<sup>***</sup></td></tr><tr><td style=\"text-align:left\"></td><td>(0.000 , 0.000)</td><td>(0.000 , 0.001)</td><td>(0.003 , 0.012)</td><td>(-0.000 , -0.000)</td><td>(-0.000 , -0.000)</td></tr><tr><td style=\"text-align:left\">DropPath</td><td>-0.014<sup>***</sup></td><td>-0.043<sup>***</sup></td><td>-1.533<sup>***</sup></td><td>0.015<sup></sup></td><td>0.096<sup>**</sup></td></tr><tr><td style=\"text-align:left\"></td><td>(-0.021 , -0.006)</td><td>(-0.067 , -0.020)</td><td>(-2.240 , -0.827)</td><td>(-0.010 , 0.040)</td><td>(0.013 , 0.180)</td></tr><tr><td style=\"text-align:left\">Dropout</td><td>0.102<sup></sup></td><td>0.205<sup></sup></td><td>9.516<sup></sup></td><td>-0.466<sup>*</sup></td><td>0.322<sup>*</sup></td></tr><tr><td style=\"text-align:left\"></td><td>(-0.051 , 0.256)</td><td>(-0.279 , 0.690)</td><td>(-5.077 , 24.110)</td><td>(-0.982 , 0.050)</td><td>(-0.030 , 0.674)</td></tr><tr><td style=\"text-align:left\">ELU</td><td>-0.010<sup></sup></td><td>0.141<sup></sup></td><td>9.028<sup>**</sup></td><td>-0.005<sup></sup></td><td>-0.111<sup></sup></td></tr><tr><td style=\"text-align:left\"></td><td>(-0.091 , 0.071)</td><td>(-0.115 , 0.397)</td><td>(1.316 , 16.740)</td><td>(-0.278 , 0.268)</td><td>(-0.297 , 0.075)</td></tr><tr><td style=\"text-align:left\">Error_Random</td><td></td><td></td><td></td><td></td><td>2.640<sup>***</sup></td></tr><tr><td style=\"text-align:left\"></td><td></td><td></td><td></td><td></td><td>(0.898 , 4.382)</td></tr><tr><td style=\"text-align:left\">Flatten</td><td>0.093<sup>**</sup></td><td>0.207<sup>*</sup></td><td>7.691<sup>**</sup></td><td>-0.134<sup></sup></td><td>-0.641<sup>**</sup></td></tr><tr><td style=\"text-align:left\"></td><td>(0.016 , 0.170)</td><td>(-0.035 , 0.450)</td><td>(0.388 , 14.995)</td><td>(-0.393 , 0.124)</td><td>(-1.211 , -0.071)</td></tr><tr><td style=\"text-align:left\">GELU</td><td>-0.351<sup></sup></td><td>-0.647<sup></sup></td><td>-31.492<sup></sup></td><td>1.738<sup>*</sup></td><td>-1.427<sup>**</sup></td></tr><tr><td style=\"text-align:left\"></td><td>(-0.931 , 0.228)</td><td>(-2.476 , 1.183)</td><td>(-86.590 , 23.606)</td><td>(-0.211 , 3.688)</td><td>(-2.809 , -0.046)</td></tr><tr><td style=\"text-align:left\">Hardsigmoid</td><td>-0.042<sup>***</sup></td><td>-0.128<sup>***</sup></td><td>-4.402<sup>***</sup></td><td>0.106<sup>**</sup></td><td>-0.000<sup></sup></td></tr><tr><td style=\"text-align:left\"></td><td>(-0.067 , -0.017)</td><td>(-0.208 , -0.049)</td><td>(-6.786 , -2.018)</td><td>(0.022 , 0.191)</td><td>(-0.058 , 0.057)</td></tr><tr><td style=\"text-align:left\">Hardswish</td><td>0.010<sup>***</sup></td><td>0.032<sup>***</sup></td><td>1.097<sup>***</sup></td><td>-0.025<sup>**</sup></td><td>-0.002<sup></sup></td></tr><tr><td style=\"text-align:left\"></td><td>(0.004 , 0.016)</td><td>(0.014 , 0.051)</td><td>(0.532 , 1.663)</td><td>(-0.045 , -0.005)</td><td>(-0.015 , 0.012)</td></tr><tr><td style=\"text-align:left\">LayerNorm</td><td>-0.015<sup>**</sup></td><td>-0.040<sup>**</sup></td><td>-1.492<sup>***</sup></td><td>0.038<sup>*</sup></td><td>-0.011<sup></sup></td></tr><tr><td style=\"text-align:left\"></td><td>(-0.027 , -0.003)</td><td>(-0.077 , -0.002)</td><td>(-2.616 , -0.368)</td><td>(-0.002 , 0.078)</td><td>(-0.038 , 0.016)</td></tr><tr><td style=\"text-align:left\">LeakyReLU</td><td>-0.002<sup>*</sup></td><td>-0.006<sup>*</sup></td><td>-0.220<sup>**</sup></td><td>0.008<sup>**</sup></td><td>-0.001<sup></sup></td></tr><tr><td style=\"text-align:left\"></td><td>(-0.004 , 0.000)</td><td>(-0.012 , 0.001)</td><td>(-0.418 , -0.021)</td><td>(0.001 , 0.015)</td><td>(-0.006 , 0.004)</td></tr><tr><td style=\"text-align:left\">Linear</td><td>-0.005<sup>**</sup></td><td>-0.016<sup>***</sup></td><td>-0.616<sup>***</sup></td><td>0.013<sup>**</sup></td><td>0.016<sup>*</sup></td></tr><tr><td style=\"text-align:left\"></td><td>(-0.008 , -0.001)</td><td>(-0.027 , -0.004)</td><td>(-0.967 , -0.265)</td><td>(0.001 , 0.026)</td><td>(-0.002 , 0.034)</td></tr><tr><td style=\"text-align:left\">MaxPool2d</td><td>-0.008<sup>*</sup></td><td>-0.023<sup></sup></td><td>-0.933<sup>**</sup></td><td>0.043<sup>***</sup></td><td>-0.005<sup></sup></td></tr><tr><td style=\"text-align:left\"></td><td>(-0.017 , 0.001)</td><td>(-0.051 , 0.005)</td><td>(-1.768 , -0.098)</td><td>(0.013 , 0.072)</td><td>(-0.025 , 0.015)</td></tr><tr><td style=\"text-align:left\">MaxPool2dSame</td><td>-0.002<sup>***</sup></td><td>-0.006<sup>***</sup></td><td>-0.189<sup>***</sup></td><td>0.001<sup></sup></td><td>0.013<sup>**</sup></td></tr><tr><td style=\"text-align:left\"></td><td>(-0.003 , -0.001)</td><td>(-0.009 , -0.003)</td><td>(-0.276 , -0.102)</td><td>(-0.002 , 0.004)</td><td>(0.002 , 0.025)</td></tr><tr><td style=\"text-align:left\">ReLU</td><td>0.000<sup></sup></td><td>0.003<sup>**</sup></td><td>0.104<sup>***</sup></td><td>-0.002<sup></sup></td><td>-0.003<sup>***</sup></td></tr><tr><td style=\"text-align:left\"></td><td>(-0.000 , 0.001)</td><td>(0.000 , 0.005)</td><td>(0.030 , 0.179)</td><td>(-0.004 , 0.001)</td><td>(-0.004 , -0.001)</td></tr><tr><td style=\"text-align:left\">ReLU6</td><td>-0.004<sup>***</sup></td><td>-0.009<sup>***</sup></td><td>-0.158<sup>**</sup></td><td>0.005<sup>**</sup></td><td>0.005<sup>***</sup></td></tr><tr><td style=\"text-align:left\"></td><td>(-0.005 , -0.002)</td><td>(-0.013 , -0.005)</td><td>(-0.284 , -0.033)</td><td>(0.001 , 0.010)</td><td>(0.002 , 0.008)</td></tr><tr><td style=\"text-align:left\">SelectSeq</td><td>-0.142<sup>**</sup></td><td>-0.607<sup>***</sup></td><td>-23.980<sup>***</sup></td><td>0.588<sup>***</sup></td><td>0.235<sup>*</sup></td></tr><tr><td style=\"text-align:left\"></td><td>(-0.259 , -0.024)</td><td>(-0.978 , -0.237)</td><td>(-35.140 , -12.819)</td><td>(0.193 , 0.983)</td><td>(-0.034 , 0.504)</td></tr><tr><td style=\"text-align:left\">Sequential</td><td>0.007<sup>***</sup></td><td>0.024<sup>***</sup></td><td>0.728<sup>***</sup></td><td>-0.013<sup>**</sup></td><td>-0.004<sup></sup></td></tr><tr><td style=\"text-align:left\"></td><td>(0.004 , 0.011)</td><td>(0.013 , 0.035)</td><td>(0.395 , 1.061)</td><td>(-0.025 , -0.001)</td><td>(-0.012 , 0.004)</td></tr><tr><td style=\"text-align:left\">SiLU</td><td>0.000<sup>*</sup></td><td>0.002<sup>**</sup></td><td>0.073<sup>***</sup></td><td>-0.001<sup>*</sup></td><td>-0.000<sup></sup></td></tr><tr><td style=\"text-align:left\"></td><td>(-0.000 , 0.001)</td><td>(0.000 , 0.003)</td><td>(0.028 , 0.119)</td><td>(-0.003 , 0.000)</td><td>(-0.001 , 0.001)</td></tr><tr><td style=\"text-align:left\">Sigmoid</td><td>-0.000<sup></sup></td><td>0.005<sup></sup></td><td>0.214<sup>*</sup></td><td>-0.000<sup></sup></td><td>-0.006<sup>**</sup></td></tr><tr><td style=\"text-align:left\"></td><td>(-0.003 , 0.002)</td><td>(-0.003 , 0.013)</td><td>(-0.030 , 0.458)</td><td>(-0.009 , 0.008)</td><td>(-0.012 , -0.000)</td></tr><tr><td style=\"text-align:left\">Softmax</td><td>0.010<sup>***</sup></td><td>0.024<sup>***</sup></td><td>0.668<sup>***</sup></td><td>0.000<sup></sup></td><td>-0.061<sup>**</sup></td></tr><tr><td style=\"text-align:left\"></td><td>(0.006 , 0.013)</td><td>(0.013 , 0.035)</td><td>(0.346 , 0.990)</td><td>(-0.011 , 0.012)</td><td>(-0.112 , -0.009)</td></tr><tr><td style=\"text-align:left\">Unfold</td><td>0.078<sup></sup></td><td>0.143<sup></sup></td><td>7.012<sup></sup></td><td>-0.392<sup>*</sup></td><td>0.326<sup>**</sup></td></tr><tr><td style=\"text-align:left\"></td><td>(-0.052 , 0.209)</td><td>(-0.270 , 0.556)</td><td>(-5.431 , 19.456)</td><td>(-0.833 , 0.048)</td><td>(0.013 , 0.639)</td></tr><tr><td style=\"text-align:left\">Upsample</td><td>0.003<sup>***</sup></td><td>0.012<sup>***</sup></td><td>0.316<sup>***</sup></td><td>-0.001<sup></sup></td><td>0.000<sup></sup></td></tr><tr><td style=\"text-align:left\"></td><td>(0.001 , 0.005)</td><td>(0.006 , 0.018)</td><td>(0.131 , 0.500)</td><td>(-0.007 , 0.006)</td><td>(-0.004 , 0.005)</td></tr><tr><td style=\"text-align:left\">const</td><td>0.051<sup>***</sup></td><td>0.132<sup>***</sup></td><td>3.957<sup>***</sup></td><td>0.079<sup>**</sup></td><td>-0.826<sup>***</sup></td></tr><tr><td style=\"text-align:left\"></td><td>(0.033 , 0.070)</td><td>(0.074 , 0.190)</td><td>(2.204 , 5.711)</td><td>(0.017 , 0.141)</td><td>(-1.451 , -0.200)</td></tr><tr><td style=\"text-align:left\">feature_dim</td><td>-0.000<sup>**</sup></td><td>-0.000<sup>**</sup></td><td>-0.009<sup>***</sup></td><td>0.000<sup>**</sup></td><td>-0.000<sup></sup></td></tr><tr><td style=\"text-align:left\"></td><td>(-0.000 , -0.000)</td><td>(-0.000 , -0.000)</td><td>(-0.016 , -0.002)</td><td>(0.000 , 0.001)</td><td>(-0.000 , 0.000)</td></tr><tr><td style=\"text-align:left\">n_feature_params</td><td>-0.000<sup></sup></td><td>-0.000<sup>*</sup></td><td>-0.000<sup>***</sup></td><td>0.000<sup></sup></td><td>0.000<sup>**</sup></td></tr><tr><td style=\"text-align:left\"></td><td>(-0.000 , 0.000)</td><td>(-0.000 , 0.000)</td><td>(-0.000 , -0.000)</td><td>(-0.000 , 0.000)</td><td>(0.000 , 0.000)</td></tr><td colspan=\"6\" style=\"border-bottom: 1px solid black\"></td></tr><tr><td style=\"text-align: left\">Observations</td><td>530</td><td>530</td><td>530</td><td>530</td><td>530</td></tr><tr><td style=\"text-align: left\">R<sup>2</sup></td><td>0.341</td><td>0.221</td><td>0.120</td><td>0.239</td><td>0.435</td></tr><tr><td style=\"text-align: left\">Adjusted R<sup>2</sup></td><td>0.310</td><td>0.184</td><td>0.078</td><td>0.203</td><td>0.409</td></tr><tr><td style=\"text-align: left\">Residual Std. Error</td><td>0.029 (df=505)</td><td>0.090 (df=505)</td><td>2.717 (df=505)</td><td>0.096 (df=505)</td><td>0.066 (df=505)</td></tr><tr><td style=\"text-align: left\">F Statistic</td><td>10.896<sup>***</sup> (df=24; 505)</td><td>5.985<sup>***</sup> (df=24; 505)</td><td>2.865<sup>***</sup> (df=24; 505)</td><td>6.606<sup>***</sup> (df=24; 505)</td><td>16.230<sup>***</sup> (df=24; 505)</td></tr><tr><td colspan=\"6\" style=\"border-bottom: 1px solid black\"></td></tr><tr><td style=\"text-align: left\">Note:</td>\n",
       " <td colspan=\"5\" style=\"text-align: right\">\n",
       "  <sup>*</sup>p&lt;0.1;\n",
       "  <sup>**</sup>p&lt;0.05;\n",
       "  <sup>***</sup>p&lt;0.01\n",
       " </td></tr></table>"
      ],
      "text/plain": [
       "<stargazer.stargazer.Stargazer at 0x7f8528a72ee0>"
      ]
     },
     "execution_count": 22,
     "metadata": {},
     "output_type": "execute_result"
    }
   ],
   "source": [
    "def regression_trained_random(df_trained, df_random, col = 'Accuracy'):\n",
    "    df_trained = df_trained[df_trained[col] > 0]\n",
    "    df_random['model'] = df_random['index'].apply(lambda x: get_name_details(x.replace('_rank_by_id_val',''))[1])\n",
    "    df_random = df_random.groupby('model').mean().merge(meta, left_on='model', right_on='model_name')\n",
    "    df_trained['model_name'] = df_trained['index'].apply(lambda x: get_name_details(x.replace('_rank_by_id_val',''))[1])\n",
    "    df = df_trained.merge(df_random, on='model_name', suffixes=['_Trained','_Random'])\n",
    "    df.fillna('0',inplace=True)\n",
    "\n",
    "    y = df['Disparity_Trained'].astype(float) # dependent variable\n",
    "    X = df[[col+'_Random',\n",
    "            'feature_dim', 'n_feature_params',\n",
    "           ]+[x for x in list(meta.columns[8:13])+list(meta.columns[16:]) \n",
    "          if len(df[x].unique())>1]].astype(float) # independent variable\n",
    "    X = pd.get_dummies(data=X, drop_first=True)\n",
    "\n",
    "    X = sm.add_constant(X) # adding a constant\n",
    "    lm = sm.OLS(y, X).fit() # fitting the model\n",
    "    lm.summary()\n",
    "    return lm\n",
    "\n",
    "lm1 = regression_trained_random(acc_disp_df, acc_disp_random_df)\n",
    "lm2 = regression_trained_random(acc_disp_ratio_df, acc_disp_ratio_random_df)\n",
    "lm3 = regression_trained_random(rank_df, rank_random_df)\n",
    "lm4 = regression_trained_random(rank_ratio_df, rank_ratio_random_df)\n",
    "lm5 = regression_trained_random(error_ratio_df, error_ratio_random_df, col='Error')\n",
    "\n",
    "tbl = Stargazer([lm1,lm2,lm3,lm4,lm5])\n",
    "tbl.show_confidence_intervals(True)\n",
    "tbl.custom_columns(['Statisitcal Parity', 'Ratio of Accuracies', \n",
    "                    'Difference of Ranks', 'Ratio of Ranks', 'Ratio of Errors'], \n",
    "                   [1,1,1,1,1])\n",
    "tbl\n"
   ]
  }
 ],
 "metadata": {
  "kernelspec": {
   "display_name": "Python 3 (ipykernel)",
   "language": "python",
   "name": "python3"
  },
  "language_info": {
   "codemirror_mode": {
    "name": "ipython",
    "version": 3
   },
   "file_extension": ".py",
   "mimetype": "text/x-python",
   "name": "python",
   "nbconvert_exporter": "python",
   "pygments_lexer": "ipython3",
   "version": "3.9.7"
  }
 },
 "nbformat": 4,
 "nbformat_minor": 5
}
