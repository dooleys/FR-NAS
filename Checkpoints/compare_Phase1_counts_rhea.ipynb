{
 "cells": [
  {
   "cell_type": "code",
   "execution_count": 17,
   "id": "5bdda60c",
   "metadata": {},
   "outputs": [],
   "source": [
    "import pandas as pd\n",
    "import numpy as np\n",
    "import os\n",
    "from analysis import *\n",
    "import glob"
   ]
  },
  {
   "cell_type": "code",
   "execution_count": 51,
   "id": "6880ca69",
   "metadata": {},
   "outputs": [],
   "source": [
    "import pandas as pd\n",
    "import numpy as np\n",
    "import os\n",
    "import plotly.express as px\n",
    "import glob\n",
    "from collections import Counter\n",
    "\n",
    "def stat_parity_rank_func(df, epoch_columns):\n",
    "    # calculate the violation of statistical parity\n",
    "    data = {}\n",
    "    for g,g_df in df.groupby('gender_expression'):\n",
    "        data[g] = (g_df[epoch_columns]==0).sum(axis=0)/g_df.shape[0]\n",
    "    return abs(data['male'] - data['female'])\n",
    "\n",
    "def stat_parity_func(df, epoch_columns):\n",
    "    # calculate the violation of statistical parity\n",
    "    data = {}\n",
    "    for g,g_df in df.groupby('gender_expression'):\n",
    "        data[g] = (g_df[epoch_columns]==0).sum(axis=0)/g_df.shape[0]\n",
    "    return abs(data['male'] - data['female'])\n",
    "\n",
    "def stat_parity_ratio_func(df, epoch_columns):\n",
    "    # calculate the violation of statistical parity\n",
    "    data = {}\n",
    "    for g,g_df in df.groupby('gender_expression'):\n",
    "        data[g] = (g_df[epoch_columns]==0).sum(axis=0)/g_df.shape[0]\n",
    "    return np.abs(1-data['male']/data['female'])\n",
    "def stat_parity_ratio_rank_func(df, epoch_columns):\n",
    "    # calculate the violation of statistical parity\n",
    "    data = {}\n",
    "    for g,g_df in df.groupby('gender_expression'):\n",
    "        data[g] = (g_df[epoch_columns]==0).sum(axis=0)/g_df.shape[0]\n",
    "    return np.abs(1-data['male']/data['female'])\n",
    "def ratio_errors_func(df, epoch_columns):\n",
    "    # calculate the violation of statistical parity\n",
    "    data = {}\n",
    "    for g,g_df in df.groupby('gender_expression'):\n",
    "        data[g] = (g_df[epoch_columns]!=0).sum(axis=0)/g_df.shape[0]\n",
    "    return np.abs(1-data['male']/data['female'])\n",
    "def stat_parity_from_rank_ratio_func(df, epoch_columns):\n",
    "    # calculate the violation of statistical parity\n",
    "    data = {}\n",
    "    for g,g_df in df.groupby('gender_expression'):\n",
    "        data[g] = (g_df[epoch_columns] == 0).sum(axis=0)/g_df.shape[0]\n",
    "    return np.abs(1-data['male']/data['female'])\n",
    "def rank_func(df, epoch_columns):\n",
    "    # calculate the violation of statistical parity\n",
    "    data = {}\n",
    "    for g,g_df in df.groupby('gender_expression'):\n",
    "        data[g] = (g_df[epoch_columns]).sum(axis=0)/g_df.shape[0]\n",
    "    return abs(data['male']-data['female'])\n",
    "def rank_ratio_func(df, epoch_columns):\n",
    "    # calculate the violation of statistical parity\n",
    "    data = {}\n",
    "    for g,g_df in df.groupby('gender_expression'):\n",
    "        data[g] = (g_df[epoch_columns]).sum(axis=0)/g_df.shape[0]\n",
    "    return np.abs(1-data['male']/data['female'])\n",
    "def acc_func(df, epoch_columns):\n",
    "    # calculate the accuracy \n",
    "    return df[epoch_columns].sum(axis=0)/df.shape[0]\n",
    "def acc_from_rank_func(df, epoch_columns):\n",
    "    # calculate the accuracy \n",
    "    return (df[epoch_columns] == 0).sum(axis=0)/df.shape[0]\n",
    "def err_from_rank_func(df, epoch_columns):\n",
    "    # calculate the accuracy \n",
    "    return (df[epoch_columns] != 0).sum(axis=0)/df.shape[0]\n",
    "def _resolve_head(s):\n",
    "    if 'CosFace'.lower() in s.lower():\n",
    "        return 'CosFace'\n",
    "    elif 'ArcFace'.lower() in s.lower():\n",
    "        return 'ArcFace'\n",
    "    return 'fault'\n",
    "    \n",
    "def _resolve_opt(s):\n",
    "    if 'AdamW'.lower() in s.lower():\n",
    "        return 'AdamW'\n",
    "    if 'Adam'.lower() in s.lower():\n",
    "        return 'Adam'\n",
    "    if 'SGD'.lower() in s.lower():\n",
    "        return 'SGD'\n",
    "    if 'RMSProp'.lower() in s.lower():\n",
    "        return 'RMSProp'\n",
    "    return 'fault'\n",
    "def get_name_details(f):\n",
    "    head_id = -4 if 'cosine' in f else -2\n",
    "    opt_id = -3 if 'cosine' in f else -1\n",
    "    y = os.path.splitext(os.path.basename(f))[0]\n",
    "    experiment = y.replace('config_','')\n",
    "    head = _resolve_head(f)\n",
    "    opt = experiment.split('_')[opt_id]\n",
    "    model = '_'.join(experiment.split('_')[:head_id])\n",
    "    return experiment, model, head\n",
    "def analyze_files(files, metadata, ratio=False, error=False, epochs=None):\n",
    "    acc_df = pd.DataFrame(columns=['epoch_'+str(e) for e in range(100)])\n",
    "    acc_disp_df = pd.DataFrame(columns=['epoch_'+str(e) for e in range(100)])\n",
    "    for f in files:\n",
    "        try:\n",
    "            df = pd.read_csv(f)\n",
    "        except:\n",
    "            continue\n",
    "        epoch_columns = df.drop('ids',axis=1).columns\n",
    "        df = metadata.merge(df)\n",
    "        num_epochs = len(epoch_columns)\n",
    "        df[epoch_columns] = df[epoch_columns].apply(lambda x: x == df['label'])\n",
    "        acc = acc_func(df, epoch_columns)\n",
    "        experiment = get_name_details(f)[0]\n",
    "        acc_df.loc[experiment] = acc\n",
    "        if ratio:\n",
    "            if error:\n",
    "                acc_disp = ratio_errors_func(df, epoch_columns)\n",
    "            else:\n",
    "                acc_disp = stat_parity_ratio_func(df, epoch_columns)\n",
    "        else:\n",
    "            acc_disp = stat_parity_func(df, epoch_columns)\n",
    "        acc_disp_df.loc[experiment] = acc_disp    \n",
    "    return acc_df, acc_disp_df\n",
    "def analyze_rank_files_np(files, metadata, ratio=False, error=False, epochs=None): \n",
    "    if epochs is None:\n",
    "        epochs = ['epoch_'+str(e) for e in range(100)]\n",
    "        \n",
    "    acc_df = pd.DataFrame(columns=epochs)\n",
    "    acc_ratio_df = pd.DataFrame(columns=epochs)\n",
    "    rank_df = pd.DataFrame(columns=epochs)\n",
    "    \n",
    "    for f in files:\n",
    "        try:\n",
    "            df = pd.read_csv(f)\n",
    "        except:\n",
    "            print(f)\n",
    "            continue\n",
    "        epoch_columns = list(set(df.columns).intersection(epochs))\n",
    "        df = metadata.merge(df)\n",
    "        num_epochs = len(epoch_columns)\n",
    "        if error:\n",
    "            acc = err_from_rank_func(df, epoch_columns)\n",
    "        else:\n",
    "            acc = acc_from_rank_func(df, epoch_columns)\n",
    "        experiment = get_name_details(f)[0]\n",
    "        acc_df.loc[experiment] = acc\n",
    "        \n",
    "        if ratio:\n",
    "            if error:\n",
    "                acc_disp = ratio_errors_func(df, epoch_columns)\n",
    "            else:\n",
    "                acc_disp = stat_parity_ratio_rank_func(df, epoch_columns)\n",
    "        else:\n",
    "            acc_disp = stat_parity_rank_func(df, epoch_columns)\n",
    "        acc_ratio_df.loc[experiment] = acc_disp \n",
    "        \n",
    "        if ratio:\n",
    "            rank_ratio = rank_ratio_func(df, epoch_columns)\n",
    "        else:\n",
    "            rank_ratio = rank_func(df, epoch_columns)\n",
    "        rank_df.loc[experiment] = rank_ratio    \n",
    "    return acc_df, acc_ratio_df, rank_df\n",
    "def analyze_rank_files(files, metadata, ratio=False, error=False, epochs=None): \n",
    "    acc_df, acc_ratio_df, rank_df = analyze_rank_files_np(files, metadata, ratio=ratio, error=error, epochs=epochs)\n",
    "    return prepare(acc_df), prepare(acc_ratio_df), prepare(rank_df)\n",
    "def plot_df(acc_df, acc_disp_df, rank_df = None, title = ''):\n",
    "    def prepare(df):\n",
    "        # dataframe of a long format\n",
    "        df = pd.melt(df.reset_index(), id_vars='index')\n",
    "        df = df.rename(columns={'variable':'epoch'})\n",
    "        df = df.rename(columns={'value':'Accuracy'})\n",
    "        df.epoch = df.epoch.apply(lambda x: int(x.split('_')[1]))\n",
    "        return df\n",
    "    acc_df = prepare(acc_df)\n",
    "    acc_disp_df = prepare(acc_disp_df)\n",
    "    # plotly express\n",
    "    acc_df['measurement'] = 'Accuracy'\n",
    "    acc_disp_df['measurement'] = 'Disparity'\n",
    "    df = acc_df.append(acc_disp_df)\n",
    "    if rank_df is not None:\n",
    "        rank_df = prepare(rank_df)\n",
    "        rank_df['measurement'] = 'Rank'\n",
    "        df = df.append(rank_df)\n",
    "        \n",
    "    df = df.dropna()\n",
    "    fig = px.line(df, x='epoch', y='Accuracy', color='index', facet_row='measurement', title=title)\n",
    "    fig.update_yaxes(matches=None)\n",
    "    fig.for_each_annotation(lambda a: a.update(text=a.text.split(\"=\")[-1]))\n",
    "    fig.update_layout(yaxis_title=\"Disparity\")\n",
    "    fig.show()\n",
    "    \n",
    "    \n",
    "def whatIsPareto(df, x_inc=False, y_inc=False):\n",
    "    isPareto = np.zeros(df.shape[0])\n",
    "    i = 0\n",
    "    for _, (c1,c2) in df.iterrows():\n",
    "        tmp = np.delete(np.array(df), (i), axis=0)\n",
    "        if x_inc: # is a larger x better?\n",
    "            if y_inc: # is a larger y better?\n",
    "                b = np.any(np.apply_along_axis(lambda x: x[0]>c1 and x[1]>c2, 1, tmp))\n",
    "            else: # is a smaller y better?\n",
    "                b = np.any(np.apply_along_axis(lambda x: x[0]>c1 and x[1]<c2, 1, tmp))\n",
    "        else: # is a smaller x better?\n",
    "            if y_inc: # is a larger y better?\n",
    "                b = np.any(np.apply_along_axis(lambda x: x[0]<c1 and x[1]>c2, 1, tmp))\n",
    "            else: # is a smaller y better?\n",
    "                b = np.any(np.apply_along_axis(lambda x: x[0]<c1 and x[1]<c2, 1, tmp))\n",
    "        if not b:\n",
    "            isPareto[i] = 1\n",
    "        i+=1\n",
    "    return isPareto\n",
    "def preparePareto(df, x_inc=False, y_inc=False):\n",
    "    \n",
    "    isPareto = whatIsPareto(df, x_inc=x_inc, y_inc=y_inc)\n",
    "    tmp = df[isPareto == 1]\n",
    "    \n",
    "    tmp = tmp.sort_values(df.columns[0])\n",
    "    return tmp\n",
    "def prepare(df):\n",
    "    # dataframe of a long format\n",
    "    df = pd.melt(df.reset_index(), id_vars='index')\n",
    "    df = df.rename(columns={'variable':'epoch'})\n",
    "    df = df.rename(columns={'value':'Metric'})\n",
    "    df.epoch = df.epoch.apply(lambda x: int(x.split('_')[1]))\n",
    "    return df\n",
    "def merge(df1, df2):\n",
    "    df = df1.merge(df2, on=[\"index\",\"epoch\"])\n",
    "    df = df.rename(columns={'Metric_x':'Accuracy'})\n",
    "    df = df.rename(columns={'Metric_y':'Disparity'})\n",
    "    return df\n",
    "def drop_models(df_list, models):\n",
    "    # remove rows with model names in models from each df in the df_list\n",
    "    out_list = []\n",
    "    for df in df_list:\n",
    "        out_list += [df[~df['index'].isin(models)]]\n",
    "    return out_list\n",
    "def find_yaml_folder(yaml):\n",
    "    '''\n",
    "    given a yaml string file like:\n",
    "         'config_inception_resnet_v2_CosFace_RMSProp.yaml'\n",
    "    return the corresponding folder for this experiment:\n",
    "         './Phase1B/inception_resnet_v2_CosFace_RMSProp'\n",
    "    if it does not exist, return ''\n",
    "    '''\n",
    "    experiment_name = yaml.replace('config_','').replace('.yaml','')\n",
    "    \n",
    "    R2_or_Phase1B = 'R2' if 'R2' in yaml else 'Phase1B'\n",
    "    experiment_folders = glob.glob('/work/dlclarge2/sukthank-ZCP_Competition/Fairnas_git/correct/FR-NAS/Checkpoints/{}/*'.format(R2_or_Phase1B))\n",
    "    if R2_or_Phase1B == 'Phase1B':\n",
    "        experiment_folders += glob.glob('/work/dlclarge2/sukthank-ZCP_Competition/Fairnas_git/correct/FR-NAS/Checkpoints/timm_explore_few_epochs/*')\n",
    "    where = [get_name_details(experiment_name)[0].lower() == get_name_details(x)[0].lower() for x in experiment_folders]\n",
    "    yaml_folder = ''\n",
    "    if any(where):\n",
    "        yaml_folder = experiment_folders[np.where(where)[0][0]]\n",
    "    return yaml_folder\n",
    "def get_finished_models_Phase1B():\n",
    "    '''\n",
    "    Return a list of those models which we are including in Phase1B\n",
    "    '''\n",
    "    finished = []\n",
    "    for yaml_orig in glob.glob('/work/dlclarge2/sukthank-ZCP_Competition/Fairnas_git/correct/FR-NAS/configs/**/*.yaml') + glob.glob('/work/dlclarge2/sukthank-ZCP_Competition/Fairnas_git/correct/FR-NAS/configs_multi/**/*.yaml'):\n",
    "        yaml = os.path.basename(yaml_orig)\n",
    "        yaml_folder = find_yaml_folder(yaml)\n",
    "        if yaml_folder:\n",
    "            finished += [yaml]\n",
    "    print(finished)\n",
    "    cn = Counter([get_name_details(x)[1] for x in finished])\n",
    "    final_models = [k for k,v in cn.items() if v>=6]\n",
    "    final_models.sort()\n",
    "    if 'vit_large_patch16_224' in final_models:\n",
    "        final_models.remove('vit_large_patch16_224')\n",
    "    if 'cait_xs24_384' in final_models:\n",
    "        final_models.remove('cait_xs24_384')\n",
    "        \n",
    "    # make sure vgg_bn goes before vgg\n",
    "    #a, b = final_models.index('vgg19'), final_models.index('vgg19_bn')\n",
    "    #final_models[b], final_models[a] = final_models[a], final_models[b]\n",
    "    return final_models\n",
    "def get_pareto_hps_head_opt(stable_df, col='Accuracy'):\n",
    "    row = []\n",
    "    for opt in ['adamw', 'sgd']:\n",
    "        for head in ['ArcFace','CosFace','MagFace']:\n",
    "            df = stable_df\n",
    "            df = df[(df['opt'] == opt) & (df['head'] == head)]\n",
    "            ind = whatIsPareto(df[[col,'Disparity']], True, False).astype(bool)\n",
    "            out = df[ind].dropna().sort_values(col, ascending=False)\n",
    "            m = out['model'].to_string(header=False,index=False).split('\\n')\n",
    "            row += ['\\n'.join(list(np.unique([x.strip() for x in m])))]\n",
    "    return row\n",
    "\n",
    "def get_pareto_hps_opt(stable_df, col='Accuracy'):\n",
    "    row = []\n",
    "    for opt in ['adamw', 'sgd']:\n",
    "            df = stable_df\n",
    "            df = df[(df['opt'] == opt)]\n",
    "            ind = whatIsPareto(df[[col,'Disparity']], True, False).astype(bool)\n",
    "            out = df[ind].dropna().sort_values(col, ascending=False)\n",
    "            m = out['model'].to_string(header=False,index=False).split('\\n')\n",
    "            row += ['\\n'.join(list(np.unique([x.strip() for x in m])))]\n",
    "    return row\n",
    "\n",
    "def get_pareto_hps_head(stable_df, col='Accuracy'):\n",
    "    row = []\n",
    "    for head in ['ArcFace', 'CosFace', 'MagFace']:\n",
    "            df = stable_df\n",
    "            df = df[(df['head'] == head)]\n",
    "            ind = whatIsPareto(df[[col,'Disparity']], True, False).astype(bool)\n",
    "            out = df[ind].dropna().sort_values(col, ascending=False)\n",
    "            m = out['model'].to_string(header=False,index=False).split('\\n')\n",
    "            row += ['\\n'.join(list(np.unique([x.strip() for x in m])))]\n",
    "    return row\n",
    "\n",
    "def anova_hp_accuracy(df, col = 'Accuracy'):\n",
    "    df['model'] = df['index'].apply(lambda x: get_name_details(x.replace('_rank_by_id_val',''))[1])\n",
    "    df['head'] = df['index'].apply(lambda x: get_name_details(x.replace('_rank_by_id_val',''))[2])\n",
    "    df['opt'] = df['index'].apply(lambda x: get_name_details(x.replace('_rank_by_id_val',''))[3].lower())\n",
    "    df = df.merge(meta, left_on='model', right_on='model_name')\n",
    "    df.fillna('0',inplace=True)\n",
    "    df[col] = df[col].astype(float)\n",
    "\n",
    "    lm = ols(col+' ~ head + opt', data=df).fit() # fitting the model\n",
    "    \n",
    "    print(sm.stats.anova_lm(lm))\n",
    "    tukey_head = pairwise_tukeyhsd(endog=df[col],\n",
    "                              groups=df['head'],\n",
    "                              alpha=0.05)\n",
    "    print(tukey_head)\n",
    "    tukey_opt = pairwise_tukeyhsd(endog=df[col],\n",
    "                              groups=df['opt'],\n",
    "                              alpha=0.05)\n",
    "    print(tukey_opt)\n",
    "    \n",
    "    return sm.stats.anova_lm(lm), tukey_head, tukey_opt\n",
    "\n",
    "def anova_hp_disp(df, col = 'Accuracy'):\n",
    "    df['model'] = df['index'].apply(lambda x: get_name_details(x.replace('_rank_by_id_val',''))[1])\n",
    "    df['head'] = df['index'].apply(lambda x: get_name_details(x.replace('_rank_by_id_val',''))[2])\n",
    "    df['opt'] = df['index'].apply(lambda x: get_name_details(x.replace('_rank_by_id_val',''))[3].lower())\n",
    "    df = df.merge(meta, left_on='model', right_on='model_name')\n",
    "    df.fillna('0',inplace=True)\n",
    "    df['Disparity'] = df['Disparity'].astype(float)\n",
    "    lm = ols('Disparity ~ head + opt', data=df).fit() # fitting the model\n",
    "    \n",
    "    print(sm.stats.anova_lm(lm))\n",
    "    tukey_head = pairwise_tukeyhsd(endog=df['Disparity'],\n",
    "                              groups=df['head'],\n",
    "                              alpha=0.05)\n",
    "    print(tukey_head)\n",
    "    tukey_opt = pairwise_tukeyhsd(endog=df['Disparity'],\n",
    "                              groups=df['opt'],\n",
    "                              alpha=0.05)\n",
    "    print(tukey_opt)\n",
    "    \n",
    "    return sm.stats.anova_lm(lm), tukey_head, tukey_opt"
   ]
  },
  {
   "cell_type": "code",
   "execution_count": 57,
   "id": "aeefe80e",
   "metadata": {},
   "outputs": [
    {
     "name": "stdout",
     "output_type": "stream",
     "text": [
      "['config_cait_xs24_384_CosFace_adamw.yaml', 'config_coat_lite_small_CosFace_Adam.yaml', 'config_convit_base_CosFace_Adam.yaml', 'config_convnext_large_384_in22ft1k_CosFace_adamw.yaml', 'config_cspdarknet53_CosFace_adam.yaml', 'config_densenet161_CosFace_sgd.yaml', 'config_dla102x2_CosFace_sgd.yaml', 'config_dpn107_CosFace_sgd.yaml', 'config_ese_vovnet39b_CosFace_Adam.yaml', 'config_fbnetv3_g_CosFace_Adam.yaml', 'config_ghostnet_100_CosFace_sgd.yaml', 'config_gluon_inception_v3_CosFace_Adam.yaml', 'config_gluon_xception65_CosFace_Adam.yaml', 'config_hrnet_w64_CosFace_sgd.yaml', 'config_ig_resnext101_32x8d_CosFace_SGD.yaml', 'config_inception_resnet_v2_CosFace_RMSProp.yaml', 'config_inception_v4_CosFace_RMSProp.yaml', 'config_jx_nest_base_CosFace_AdamW.yaml', 'config_legacy_senet154_CosFace_SGD.yaml', 'config_mobilenetv3_large_100_CosFace_RMSpropTF.yaml', 'config_resmlp_big_24_224_in22ft1k_CosFace_AdamW.yaml', 'config_resnetrs101_CosFace_SGD.yaml', 'config_rexnet_200_CosFace_SGD.yaml', 'config_selecsls60b_CosFace_Adam.yaml', 'config_swin_base_patch4_window7_224_CosFace_Adam.yaml', 'config_tf_efficientnet_b7_ns_CosFace_rmsproptf.yaml', 'config_tnt_s_patch16_224_CosFace_AdamW.yaml', 'config_twins_svt_large_CosFace_adamw.yaml', 'config_vgg19_CosFace_SGD.yaml', 'config_vgg19_bn_CosFace_SGD.yaml', 'config_visformer_small_CosFace_AdamW.yaml', 'config_vit_large_patch16_224_CosFace_AdamW.yaml', 'config_xception_CosFace_Adam.yaml', 'config_xception65_CosFace_Adam.yaml', 'config_xcit_medium_24_p8_224_dist_CosFace_adamw.yaml', 'config_cait_xs24_384_ArcFace_AdamW.yaml', 'config_cait_xs24_384_ArcFace_SGD.yaml', 'config_cait_xs24_384_CosFace_AdamW.yaml', 'config_cait_xs24_384_CosFace_SGD.yaml', 'config_cait_xs24_384_MagFace_AdamW.yaml', 'config_cait_xs24_384_MagFace_SGD.yaml', 'config_coat_lite_small_ArcFace_AdamW.yaml', 'config_coat_lite_small_ArcFace_SGD.yaml', 'config_coat_lite_small_CosFace_AdamW.yaml', 'config_coat_lite_small_CosFace_SGD.yaml', 'config_coat_lite_small_MagFace_AdamW.yaml', 'config_coat_lite_small_MagFace_SGD.yaml', 'config_convit_base_ArcFace_AdamW.yaml', 'config_convit_base_ArcFace_SGD.yaml', 'config_convit_base_CosFace_AdamW.yaml', 'config_convit_base_CosFace_SGD.yaml', 'config_convit_base_MagFace_AdamW.yaml', 'config_convit_base_MagFace_SGD.yaml', 'config_convnext_large_384_in22ft1k_CosFace_AdamW.yaml', 'config_cspdarknet53_ArcFace_AdamW.yaml', 'config_cspdarknet53_ArcFace_SGD.yaml', 'config_cspdarknet53_CosFace_AdamW.yaml', 'config_cspdarknet53_CosFace_SGD.yaml', 'config_cspdarknet53_MagFace_AdamW.yaml', 'config_cspdarknet53_MagFace_SGD.yaml', 'config_densenet161_CosFace_AdamW.yaml', 'config_densenet161_CosFace_SGD.yaml', 'config_dla102x2_ArcFace_AdamW.yaml', 'config_dla102x2_ArcFace_SGD.yaml', 'config_dla102x2_CosFace_AdamW.yaml', 'config_dla102x2_CosFace_SGD.yaml', 'config_dla102x2_MagFace_AdamW.yaml', 'config_dla102x2_MagFace_SGD.yaml', 'config_dpn107_ArcFace_AdamW.yaml', 'config_dpn107_ArcFace_SGD.yaml', 'config_dpn107_CosFace_AdamW.yaml', 'config_dpn107_CosFace_SGD.yaml', 'config_dpn107_MagFace_AdamW.yaml', 'config_dpn107_MagFace_SGD.yaml', 'config_ese_vovnet39b_ArcFace_AdamW.yaml', 'config_ese_vovnet39b_ArcFace_SGD.yaml', 'config_ese_vovnet39b_CosFace_AdamW.yaml', 'config_ese_vovnet39b_CosFace_SGD.yaml', 'config_ese_vovnet39b_MagFace_AdamW.yaml', 'config_ese_vovnet39b_MagFace_SGD.yaml', 'config_fbnetv3_g_ArcFace_AdamW.yaml', 'config_fbnetv3_g_ArcFace_SGD.yaml', 'config_fbnetv3_g_CosFace_AdamW.yaml', 'config_fbnetv3_g_CosFace_SGD.yaml', 'config_fbnetv3_g_MagFace_AdamW.yaml', 'config_fbnetv3_g_MagFace_SGD.yaml', 'config_ghostnet_100_ArcFace_AdamW.yaml', 'config_ghostnet_100_ArcFace_SGD.yaml', 'config_ghostnet_100_CosFace_AdamW.yaml', 'config_ghostnet_100_CosFace_SGD.yaml', 'config_ghostnet_100_MagFace_AdamW.yaml', 'config_ghostnet_100_MagFace_SGD.yaml', 'config_gluon_inception_v3_ArcFace_AdamW.yaml', 'config_gluon_inception_v3_ArcFace_SGD.yaml', 'config_gluon_inception_v3_CosFace_AdamW.yaml', 'config_gluon_inception_v3_CosFace_SGD.yaml', 'config_gluon_inception_v3_MagFace_AdamW.yaml', 'config_gluon_inception_v3_MagFace_SGD.yaml', 'config_gluon_xception65_ArcFace_AdamW.yaml', 'config_gluon_xception65_ArcFace_SGD.yaml', 'config_gluon_xception65_CosFace_AdamW.yaml', 'config_gluon_xception65_CosFace_SGD.yaml', 'config_gluon_xception65_MagFace_AdamW.yaml', 'config_gluon_xception65_MagFace_SGD.yaml', 'config_hrnet_w64_ArcFace_AdamW.yaml', 'config_hrnet_w64_ArcFace_SGD.yaml', 'config_hrnet_w64_CosFace_AdamW.yaml', 'config_hrnet_w64_CosFace_SGD.yaml', 'config_hrnet_w64_MagFace_AdamW.yaml', 'config_hrnet_w64_MagFace_SGD.yaml', 'config_ig_resnext101_32x8d_ArcFace_AdamW.yaml', 'config_ig_resnext101_32x8d_ArcFace_SGD.yaml', 'config_ig_resnext101_32x8d_CosFace_AdamW.yaml', 'config_ig_resnext101_32x8d_CosFace_SGD.yaml', 'config_ig_resnext101_32x8d_MagFace_AdamW.yaml', 'config_ig_resnext101_32x8d_MagFace_SGD.yaml', 'config_inception_resnet_v2_ArcFace_AdamW.yaml', 'config_inception_resnet_v2_ArcFace_SGD.yaml', 'config_inception_resnet_v2_CosFace_AdamW.yaml', 'config_inception_resnet_v2_CosFace_SGD.yaml', 'config_inception_resnet_v2_MagFace_AdamW.yaml', 'config_inception_resnet_v2_MagFace_SGD.yaml', 'config_inception_v4_ArcFace_AdamW.yaml', 'config_inception_v4_ArcFace_SGD.yaml', 'config_inception_v4_CosFace_AdamW.yaml', 'config_inception_v4_CosFace_SGD.yaml', 'config_inception_v4_MagFace_AdamW.yaml', 'config_inception_v4_MagFace_SGD.yaml', 'config_jx_nest_base_ArcFace_AdamW.yaml', 'config_jx_nest_base_ArcFace_SGD.yaml', 'config_jx_nest_base_CosFace_AdamW.yaml', 'config_jx_nest_base_CosFace_SGD.yaml', 'config_jx_nest_base_MagFace_AdamW.yaml', 'config_jx_nest_base_MagFace_SGD.yaml', 'config_legacy_senet154_ArcFace_AdamW.yaml', 'config_legacy_senet154_ArcFace_SGD.yaml', 'config_legacy_senet154_CosFace_AdamW.yaml', 'config_legacy_senet154_CosFace_SGD.yaml', 'config_legacy_senet154_MagFace_AdamW.yaml', 'config_legacy_senet154_MagFace_SGD.yaml', 'config_mobilenetv3_large_100_ArcFace_AdamW.yaml', 'config_mobilenetv3_large_100_ArcFace_SGD.yaml', 'config_mobilenetv3_large_100_CosFace_AdamW.yaml', 'config_mobilenetv3_large_100_CosFace_SGD.yaml', 'config_mobilenetv3_large_100_MagFace_AdamW.yaml', 'config_mobilenetv3_large_100_MagFace_SGD.yaml', 'config_resmlp_big_24_224_in22ft1k_CosFace_AdamW.yaml', 'config_resnetrs101_ArcFace_AdamW.yaml', 'config_resnetrs101_ArcFace_SGD.yaml', 'config_resnetrs101_CosFace_AdamW.yaml', 'config_resnetrs101_CosFace_SGD.yaml', 'config_resnetrs101_MagFace_AdamW.yaml', 'config_resnetrs101_MagFace_SGD.yaml', 'config_rexnet_200_ArcFace_AdamW.yaml', 'config_rexnet_200_ArcFace_SGD.yaml', 'config_rexnet_200_CosFace_AdamW.yaml', 'config_rexnet_200_CosFace_SGD.yaml', 'config_rexnet_200_MagFace_AdamW.yaml', 'config_rexnet_200_MagFace_SGD.yaml', 'config_selecsls60b_ArcFace_AdamW.yaml', 'config_selecsls60b_ArcFace_SGD.yaml', 'config_selecsls60b_CosFace_AdamW.yaml', 'config_selecsls60b_CosFace_SGD.yaml', 'config_selecsls60b_MagFace_AdamW.yaml', 'config_selecsls60b_MagFace_SGD.yaml', 'config_swin_base_patch4_window7_224_ArcFace_AdamW.yaml', 'config_swin_base_patch4_window7_224_ArcFace_SGD.yaml', 'config_swin_base_patch4_window7_224_CosFace_AdamW.yaml', 'config_swin_base_patch4_window7_224_CosFace_SGD.yaml', 'config_swin_base_patch4_window7_224_MagFace_AdamW.yaml', 'config_swin_base_patch4_window7_224_MagFace_SGD.yaml', 'config_tf_efficientnet_b7_ns_ArcFace_AdamW.yaml', 'config_tf_efficientnet_b7_ns_ArcFace_SGD.yaml', 'config_tf_efficientnet_b7_ns_CosFace_AdamW.yaml', 'config_tf_efficientnet_b7_ns_CosFace_SGD.yaml', 'config_tf_efficientnet_b7_ns_MagFace_AdamW.yaml', 'config_tf_efficientnet_b7_ns_MagFace_SGD.yaml', 'config_tnt_s_patch16_224_ArcFace_AdamW.yaml', 'config_tnt_s_patch16_224_ArcFace_SGD.yaml', 'config_tnt_s_patch16_224_CosFace_AdamW.yaml', 'config_tnt_s_patch16_224_CosFace_SGD.yaml', 'config_tnt_s_patch16_224_MagFace_AdamW.yaml', 'config_tnt_s_patch16_224_MagFace_SGD.yaml', 'config_twins_svt_large_ArcFace_AdamW.yaml', 'config_twins_svt_large_ArcFace_SGD.yaml', 'config_twins_svt_large_CosFace_AdamW.yaml', 'config_twins_svt_large_CosFace_SGD.yaml', 'config_twins_svt_large_MagFace_AdamW.yaml', 'config_twins_svt_large_MagFace_SGD.yaml', 'config_vgg19_ArcFace_AdamW.yaml', 'config_vgg19_ArcFace_SGD.yaml', 'config_vgg19_CosFace_AdamW.yaml', 'config_vgg19_CosFace_SGD.yaml', 'config_vgg19_MagFace_AdamW.yaml', 'config_vgg19_MagFace_SGD.yaml', 'config_vgg19_bn_ArcFace_AdamW.yaml', 'config_vgg19_bn_ArcFace_SGD.yaml', 'config_vgg19_bn_CosFace_AdamW.yaml', 'config_vgg19_bn_CosFace_SGD.yaml', 'config_vgg19_bn_MagFace_AdamW.yaml', 'config_vgg19_bn_MagFace_SGD.yaml', 'config_visformer_small_ArcFace_AdamW.yaml', 'config_visformer_small_ArcFace_SGD.yaml', 'config_visformer_small_CosFace_AdamW.yaml', 'config_visformer_small_CosFace_SGD.yaml', 'config_visformer_small_MagFace_AdamW.yaml', 'config_visformer_small_MagFace_SGD.yaml', 'config_vit_large_patch16_224_ArcFace_AdamW.yaml', 'config_vit_large_patch16_224_ArcFace_SGD.yaml', 'config_vit_large_patch16_224_CosFace_AdamW.yaml', 'config_vit_large_patch16_224_CosFace_SGD.yaml', 'config_vit_large_patch16_224_MagFace_AdamW.yaml', 'config_vit_large_patch16_224_MagFace_SGD.yaml', 'config_xception_ArcFace_AdamW.yaml', 'config_xception_ArcFace_SGD.yaml', 'config_xception_CosFace_AdamW.yaml', 'config_xception_CosFace_SGD.yaml', 'config_xception_MagFace_AdamW.yaml', 'config_xception_MagFace_SGD.yaml', 'config_xception65_ArcFace_AdamW.yaml', 'config_xception65_ArcFace_SGD.yaml', 'config_xception65_CosFace_AdamW.yaml', 'config_xception65_CosFace_SGD.yaml', 'config_xception65_MagFace_AdamW.yaml', 'config_xception65_MagFace_SGD.yaml', 'config_xcit_medium_24_p8_224_dist_CosFace_AdamW.yaml']\n",
      "['coat_lite_small', 'convit_base', 'cspdarknet53', 'dla102x2', 'dpn107', 'ese_vovnet39b', 'fbnetv3_g', 'ghostnet_100', 'gluon_inception_v3', 'gluon_xception65', 'hrnet_w64', 'ig_resnext101_32x8d', 'inception_resnet_v2', 'inception_v4', 'jx_nest_base', 'legacy_senet154', 'mobilenetv3_large_100', 'resnetrs101', 'rexnet_200', 'selecsls60b', 'swin_base_patch4_window7_224', 'tf_efficientnet_b7_ns', 'tnt_s_patch16_224', 'twins_svt_large', 'vgg19', 'vgg19_bn', 'visformer_small', 'xception', 'xception65']\n",
      "['Phase1B/coat_lite_small_ArcFace_AdamW_0.001_cosine/coat_lite_small_ArcFace_AdamW_0.001_cosine_rank_by_id_val.csv', 'Phase1B/coat_lite_small_ArcFace_SGD_0.1_cosine/coat_lite_small_ArcFace_SGD_0.1_cosine_rank_by_id_val.csv', 'Phase1B/coat_lite_small_CosFace_AdamW_0.001_cosine/coat_lite_small_CosFace_AdamW_0.001_cosine_rank_by_id_val.csv', 'Phase1B/coat_lite_small_CosFace_SGD_0.1_cosine/coat_lite_small_CosFace_SGD_0.1_cosine_rank_by_id_val.csv', 'Phase1B/coat_lite_small_MagFace_AdamW_0.001_cosine/coat_lite_small_MagFace_AdamW_0.001_cosine_rank_by_id_val.csv', 'Phase1B/coat_lite_small_MagFace_SGD_0.1_cosine/coat_lite_small_MagFace_SGD_0.1_cosine_rank_by_id_val.csv', 'Phase1B/convit_base_ArcFace_AdamW_0.001_cosine/convit_base_ArcFace_AdamW_0.001_cosine_rank_by_id_val.csv', 'Phase1B/convit_base_ArcFace_SGD_0.1_cosine/convit_base_ArcFace_SGD_0.1_cosine_rank_by_id_val.csv', 'Phase1B/convit_base_CosFace_AdamW_0.001_cosine/convit_base_CosFace_AdamW_0.001_cosine_rank_by_id_val.csv', 'Phase1B/convit_base_CosFace_SGD_0.1_cosine/convit_base_CosFace_SGD_0.1_cosine_rank_by_id_val.csv', 'Phase1B/convit_base_MagFace_AdamW_0.001_cosine/convit_base_MagFace_AdamW_0.001_cosine_rank_by_id_val.csv', 'Phase1B/convit_base_MagFace_SGD_0.1_cosine/convit_base_MagFace_SGD_0.1_cosine_rank_by_id_val.csv', 'Phase1B/cspdarknet53_ArcFace_AdamW_0.001_cosine/cspdarknet53_ArcFace_AdamW_0.001_cosine_rank_by_id_val.csv', 'Phase1B/cspdarknet53_ArcFace_SGD_0.1_cosine/cspdarknet53_ArcFace_SGD_0.1_cosine_rank_by_id_val.csv', 'Phase1B/cspdarknet53_CosFace_AdamW_0.001_cosine/cspdarknet53_CosFace_AdamW_0.001_cosine_rank_by_id_val.csv', 'Phase1B/cspdarknet53_CosFace_SGD_0.1_cosine/cspdarknet53_CosFace_SGD_0.1_cosine_rank_by_id_val.csv', 'Phase1B/cspdarknet53_MagFace_AdamW_0.001_cosine/cspdarknet53_MagFace_AdamW_0.001_cosine_rank_by_id_val.csv', 'Phase1B/cspdarknet53_MagFace_SGD_0.1_cosine/cspdarknet53_MagFace_SGD_0.1_cosine_rank_by_id_val.csv', 'Phase1B/dla102x2_ArcFace_AdamW_0.001_cosine/dla102x2_ArcFace_AdamW_0.001_cosine_rank_by_id_val.csv', 'Phase1B/dla102x2_CosFace_AdamW_0.001_cosine/dla102x2_CosFace_AdamW_0.001_cosine_rank_by_id_val.csv', 'Phase1B/dla102x2_MagFace_AdamW_0.001_cosine/dla102x2_MagFace_AdamW_0.001_cosine_rank_by_id_val.csv', 'Phase1B/dpn107_ArcFace_SGD_0.1_cosine/dpn107_ArcFace_SGD_0.1_cosine_rank_by_id_val.csv', 'Phase1B/dpn107_CosFace_AdamW_0.001_cosine/dpn107_CosFace_AdamW_0.001_cosine_rank_by_id_val.csv', 'Phase1B/dpn107_CosFace_SGD_0.1_cosine/dpn107_CosFace_SGD_0.1_cosine_rank_by_id_val.csv', 'Phase1B/dpn107_MagFace_AdamW_0.001_cosine/dpn107_MagFace_AdamW_0.001_cosine_rank_by_id_val.csv', 'Phase1B/dpn107_MagFace_SGD_0.1_cosine/dpn107_MagFace_SGD_0.1_cosine_rank_by_id_val.csv', 'Phase1B/ese_vovnet39b_ArcFace_AdamW/ese_vovnet39b_ArcFace_AdamW_rank_by_id_val.csv', 'Phase1B/ese_vovnet39b_ArcFace_AdamW_0.001_cosine/ese_vovnet39b_ArcFace_AdamW_0.001_cosine_rank_by_id_val.csv', 'Phase1B/ese_vovnet39b_ArcFace_SGD/ese_vovnet39b_ArcFace_SGD_rank_by_id_val.csv', 'Phase1B/ese_vovnet39b_ArcFace_SGD_0.1_cosine/ese_vovnet39b_ArcFace_SGD_0.1_cosine_rank_by_id_val.csv', 'Phase1B/ese_vovnet39b_CosFace_Adam/ese_vovnet39b_CosFace_Adam_rank_by_id_val.csv', 'Phase1B/ese_vovnet39b_CosFace_AdamW/ese_vovnet39b_CosFace_AdamW_rank_by_id_val.csv', 'Phase1B/ese_vovnet39b_CosFace_AdamW_0.001_cosine/ese_vovnet39b_CosFace_AdamW_0.001_cosine_rank_by_id_val.csv', 'Phase1B/ese_vovnet39b_CosFace_SGD/ese_vovnet39b_CosFace_SGD_rank_by_id_val.csv', 'Phase1B/ese_vovnet39b_CosFace_SGD_0.1_cosine/ese_vovnet39b_CosFace_SGD_0.1_cosine_rank_by_id_val.csv', 'Phase1B/ese_vovnet39b_MagFace_AdamW/ese_vovnet39b_MagFace_AdamW_rank_by_id_val.csv', 'Phase1B/ese_vovnet39b_MagFace_AdamW_0.001_cosine/ese_vovnet39b_MagFace_AdamW_0.001_cosine_rank_by_id_val.csv', 'Phase1B/ese_vovnet39b_MagFace_SGD/ese_vovnet39b_MagFace_SGD_rank_by_id_val.csv', 'Phase1B/ese_vovnet39b_MagFace_SGD_0.1_cosine/ese_vovnet39b_MagFace_SGD_0.1_cosine_rank_by_id_val.csv', 'Phase1B/fbnetv3_g_ArcFace_AdamW/fbnetv3_g_ArcFace_AdamW_rank_by_id_val.csv', 'Phase1B/fbnetv3_g_ArcFace_AdamW_0.001_cosine/fbnetv3_g_ArcFace_AdamW_0.001_cosine_rank_by_id_val.csv', 'Phase1B/fbnetv3_g_ArcFace_SGD/fbnetv3_g_ArcFace_SGD_rank_by_id_val.csv', 'Phase1B/fbnetv3_g_ArcFace_SGD_0.1_cosine/fbnetv3_g_ArcFace_SGD_0.1_cosine_rank_by_id_val.csv', 'Phase1B/fbnetv3_g_CosFace_Adam/fbnetv3_g_CosFace_Adam_rank_by_id_val.csv', 'Phase1B/fbnetv3_g_CosFace_AdamW/fbnetv3_g_CosFace_AdamW_rank_by_id_val.csv', 'Phase1B/fbnetv3_g_CosFace_AdamW_0.001_cosine/fbnetv3_g_CosFace_AdamW_0.001_cosine_rank_by_id_val.csv', 'Phase1B/fbnetv3_g_CosFace_SGD/fbnetv3_g_CosFace_SGD_rank_by_id_val.csv', 'Phase1B/fbnetv3_g_CosFace_SGD_0.1_cosine/fbnetv3_g_CosFace_SGD_0.1_cosine_rank_by_id_val.csv', 'Phase1B/fbnetv3_g_MagFace_AdamW/fbnetv3_g_MagFace_AdamW_rank_by_id_val.csv', 'Phase1B/fbnetv3_g_MagFace_AdamW_0.001_cosine/fbnetv3_g_MagFace_AdamW_0.001_cosine_rank_by_id_val.csv', 'Phase1B/fbnetv3_g_MagFace_SGD/fbnetv3_g_MagFace_SGD_rank_by_id_val.csv', 'Phase1B/fbnetv3_g_MagFace_SGD_0.1_cosine/fbnetv3_g_MagFace_SGD_0.1_cosine_rank_by_id_val.csv', 'Phase1B/ghostnet_100_ArcFace_AdamW_0.001_cosine/ghostnet_100_ArcFace_AdamW_0.001_cosine_rank_by_id_val.csv', 'Phase1B/ghostnet_100_CosFace_AdamW_0.001_cosine/ghostnet_100_CosFace_AdamW_0.001_cosine_rank_by_id_val.csv', 'Phase1B/ghostnet_100_MagFace_AdamW_0.001_cosine/ghostnet_100_MagFace_AdamW_0.001_cosine_rank_by_id_val.csv', 'Phase1B/gluon_inception_v3_ArcFace_AdamW/gluon_inception_v3_ArcFace_AdamW_rank_by_id_val.csv', 'Phase1B/gluon_inception_v3_ArcFace_AdamW_0.001_cosine/gluon_inception_v3_ArcFace_AdamW_0.001_cosine_rank_by_id_val.csv', 'Phase1B/gluon_inception_v3_ArcFace_SGD/gluon_inception_v3_ArcFace_SGD_rank_by_id_val.csv', 'Phase1B/gluon_inception_v3_ArcFace_SGD_0.1_cosine/gluon_inception_v3_ArcFace_SGD_0.1_cosine_rank_by_id_val.csv', 'Phase1B/gluon_inception_v3_CosFace_Adam/gluon_inception_v3_CosFace_Adam_rank_by_id_val.csv', 'Phase1B/gluon_inception_v3_CosFace_AdamW/gluon_inception_v3_CosFace_AdamW_rank_by_id_val.csv', 'Phase1B/gluon_inception_v3_CosFace_AdamW_0.001_cosine/gluon_inception_v3_CosFace_AdamW_0.001_cosine_rank_by_id_val.csv', 'Phase1B/gluon_inception_v3_CosFace_SGD/gluon_inception_v3_CosFace_SGD_rank_by_id_val.csv', 'Phase1B/gluon_inception_v3_CosFace_SGD_0.1_cosine/gluon_inception_v3_CosFace_SGD_0.1_cosine_rank_by_id_val.csv', 'Phase1B/gluon_inception_v3_MagFace_AdamW/gluon_inception_v3_MagFace_AdamW_rank_by_id_val.csv', 'Phase1B/gluon_inception_v3_MagFace_AdamW_0.001_cosine/gluon_inception_v3_MagFace_AdamW_0.001_cosine_rank_by_id_val.csv', 'Phase1B/gluon_inception_v3_MagFace_SGD/gluon_inception_v3_MagFace_SGD_rank_by_id_val.csv', 'Phase1B/gluon_inception_v3_MagFace_SGD_0.1_cosine/gluon_inception_v3_MagFace_SGD_0.1_cosine_rank_by_id_val.csv', 'Phase1B/gluon_xception65_ArcFace_AdamW/gluon_xception65_ArcFace_AdamW_rank_by_id_val.csv', 'Phase1B/vgg19_ArcFace_AdamW/vgg19_ArcFace_AdamW_rank_by_id_val.csv', 'Phase1B/gluon_xception65_ArcFace_AdamW_0.001_cosine/gluon_xception65_ArcFace_AdamW_0.001_cosine_rank_by_id_val.csv', 'Phase1B/gluon_xception65_ArcFace_SGD/gluon_xception65_ArcFace_SGD_rank_by_id_val.csv', 'Phase1B/gluon_xception65_ArcFace_SGD_0.1_cosine/gluon_xception65_ArcFace_SGD_0.1_cosine_rank_by_id_val.csv', 'Phase1B/gluon_xception65_CosFace_Adam/gluon_xception65_CosFace_Adam_rank_by_id_val.csv', 'Phase1B/gluon_xception65_CosFace_AdamW/gluon_xception65_CosFace_AdamW_rank_by_id_val.csv', 'Phase1B/gluon_xception65_CosFace_AdamW_0.001_cosine/gluon_xception65_CosFace_AdamW_0.001_cosine_rank_by_id_val.csv', 'Phase1B/gluon_xception65_CosFace_SGD/gluon_xception65_CosFace_SGD_rank_by_id_val.csv', 'Phase1B/gluon_xception65_CosFace_SGD_0.1_cosine/gluon_xception65_CosFace_SGD_0.1_cosine_rank_by_id_val.csv', 'Phase1B/gluon_xception65_MagFace_AdamW/gluon_xception65_MagFace_AdamW_rank_by_id_val.csv', 'Phase1B/gluon_xception65_MagFace_AdamW_0.001_cosine/gluon_xception65_MagFace_AdamW_0.001_cosine_rank_by_id_val.csv', 'Phase1B/gluon_xception65_MagFace_SGD/gluon_xception65_MagFace_SGD_rank_by_id_val.csv', 'Phase1B/gluon_xception65_MagFace_SGD_0.1_cosine/gluon_xception65_MagFace_SGD_0.1_cosine_rank_by_id_val.csv', 'Phase1B/hrnet_w64_ArcFace_AdamW_0.001_cosine/hrnet_w64_ArcFace_AdamW_0.001_cosine_rank_by_id_val.csv', 'Phase1B/hrnet_w64_ArcFace_SGD_0.1_cosine/hrnet_w64_ArcFace_SGD_0.1_cosine_rank_by_id_val.csv', 'Phase1B/hrnet_w64_CosFace_AdamW_0.001_cosine/hrnet_w64_CosFace_AdamW_0.001_cosine_rank_by_id_val.csv', 'Phase1B/hrnet_w64_CosFace_SGD_0.1_cosine/hrnet_w64_CosFace_SGD_0.1_cosine_rank_by_id_val.csv', 'Phase1B/hrnet_w64_MagFace_AdamW_0.001_cosine/hrnet_w64_MagFace_AdamW_0.001_cosine_rank_by_id_val.csv', 'Phase1B/hrnet_w64_MagFace_SGD_0.1_cosine/hrnet_w64_MagFace_SGD_0.1_cosine_rank_by_id_val.csv', 'Phase1B/ig_resnext101_32x8d_ArcFace_AdamW/ig_resnext101_32x8d_ArcFace_AdamW_rank_by_id_val.csv', 'Phase1B/ig_resnext101_32x8d_ArcFace_AdamW_0.001_cosine/ig_resnext101_32x8d_ArcFace_AdamW_0.001_cosine_rank_by_id_val.csv', 'Phase1B/ig_resnext101_32x8d_ArcFace_SGD/ig_resnext101_32x8d_ArcFace_SGD_rank_by_id_val.csv', 'Phase1B/ig_resnext101_32x8d_ArcFace_SGD_0.1_cosine/ig_resnext101_32x8d_ArcFace_SGD_0.1_cosine_rank_by_id_val.csv', 'Phase1B/ig_resnext101_32x8d_CosFace_AdamW/ig_resnext101_32x8d_CosFace_AdamW_rank_by_id_val.csv', 'Phase1B/ig_resnext101_32x8d_CosFace_AdamW_0.001_cosine/ig_resnext101_32x8d_CosFace_AdamW_0.001_cosine_rank_by_id_val.csv', 'Phase1B/ig_resnext101_32x8d_CosFace_SGD/ig_resnext101_32x8d_CosFace_SGD_rank_by_id_val.csv', 'Phase1B/ig_resnext101_32x8d_CosFace_SGD_0.1_cosine/ig_resnext101_32x8d_CosFace_SGD_0.1_cosine_rank_by_id_val.csv', 'Phase1B/ig_resnext101_32x8d_MagFace_AdamW/ig_resnext101_32x8d_MagFace_AdamW_rank_by_id_val.csv', 'Phase1B/ig_resnext101_32x8d_MagFace_AdamW_0.001_cosine/ig_resnext101_32x8d_MagFace_AdamW_0.001_cosine_rank_by_id_val.csv', 'Phase1B/ig_resnext101_32x8d_MagFace_SGD/ig_resnext101_32x8d_MagFace_SGD_rank_by_id_val.csv', 'Phase1B/ig_resnext101_32x8d_MagFace_SGD_0.1_cosine/ig_resnext101_32x8d_MagFace_SGD_0.1_cosine_rank_by_id_val.csv', 'Phase1B/inception_resnet_v2_ArcFace_AdamW/inception_resnet_v2_ArcFace_AdamW_rank_by_id_val.csv', 'Phase1B/inception_resnet_v2_ArcFace_AdamW_0.001_cosine/inception_resnet_v2_ArcFace_AdamW_0.001_cosine_rank_by_id_val.csv', 'Phase1B/inception_resnet_v2_ArcFace_SGD/inception_resnet_v2_ArcFace_SGD_rank_by_id_val.csv', 'Phase1B/inception_resnet_v2_ArcFace_SGD_0.1_cosine/inception_resnet_v2_ArcFace_SGD_0.1_cosine_rank_by_id_val.csv', 'Phase1B/inception_resnet_v2_CosFace_AdamW/inception_resnet_v2_CosFace_AdamW_rank_by_id_val.csv', 'Phase1B/inception_resnet_v2_CosFace_AdamW_0.001_cosine/inception_resnet_v2_CosFace_AdamW_0.001_cosine_rank_by_id_val.csv', 'Phase1B/inception_resnet_v2_CosFace_RMSProp/inception_resnet_v2_CosFace_RMSProp_rank_by_id_val.csv', 'Phase1B/inception_resnet_v2_CosFace_SGD/inception_resnet_v2_CosFace_SGD_rank_by_id_val.csv', 'Phase1B/inception_resnet_v2_CosFace_SGD_0.1_cosine/inception_resnet_v2_CosFace_SGD_0.1_cosine_rank_by_id_val.csv', 'Phase1B/inception_resnet_v2_MagFace_AdamW/inception_resnet_v2_MagFace_AdamW_rank_by_id_val.csv', 'Phase1B/inception_resnet_v2_MagFace_AdamW_0.001_cosine/inception_resnet_v2_MagFace_AdamW_0.001_cosine_rank_by_id_val.csv', 'Phase1B/inception_resnet_v2_MagFace_SGD/inception_resnet_v2_MagFace_SGD_rank_by_id_val.csv', 'Phase1B/inception_resnet_v2_MagFace_SGD_0.1_cosine/inception_resnet_v2_MagFace_SGD_0.1_cosine_rank_by_id_val.csv', 'Phase1B/inception_v4_ArcFace_AdamW/inception_v4_ArcFace_AdamW_rank_by_id_val.csv', 'Phase1B/inception_v4_ArcFace_AdamW_0.001_cosine/inception_v4_ArcFace_AdamW_0.001_cosine_rank_by_id_val.csv', 'Phase1B/inception_v4_ArcFace_SGD/inception_v4_ArcFace_SGD_rank_by_id_val.csv', 'Phase1B/inception_v4_ArcFace_SGD_0.1_cosine/inception_v4_ArcFace_SGD_0.1_cosine_rank_by_id_val.csv', 'Phase1B/inception_v4_CosFace_AdamW/inception_v4_CosFace_AdamW_rank_by_id_val.csv', 'Phase1B/inception_v4_CosFace_AdamW_0.001_cosine/inception_v4_CosFace_AdamW_0.001_cosine_rank_by_id_val.csv', 'Phase1B/inception_v4_CosFace_RMSProp/inception_v4_CosFace_RMSProp_rank_by_id_val.csv', 'Phase1B/inception_v4_CosFace_SGD/inception_v4_CosFace_SGD_rank_by_id_val.csv', 'Phase1B/inception_v4_CosFace_SGD_0.1_cosine/inception_v4_CosFace_SGD_0.1_cosine_rank_by_id_val.csv', 'Phase1B/inception_v4_MagFace_AdamW/inception_v4_MagFace_AdamW_rank_by_id_val.csv', 'Phase1B/inception_v4_MagFace_AdamW_0.001_cosine/inception_v4_MagFace_AdamW_0.001_cosine_rank_by_id_val.csv', 'Phase1B/inception_v4_MagFace_SGD/inception_v4_MagFace_SGD_rank_by_id_val.csv', 'Phase1B/inception_v4_MagFace_SGD_0.1_cosine/inception_v4_MagFace_SGD_0.1_cosine_rank_by_id_val.csv', 'Phase1B/jx_nest_base_ArcFace_AdamW_0.001_cosine/jx_nest_base_ArcFace_AdamW_0.001_cosine_rank_by_id_val.csv', 'Phase1B/jx_nest_base_ArcFace_SGD_0.1_cosine/jx_nest_base_ArcFace_SGD_0.1_cosine_rank_by_id_val.csv', 'Phase1B/jx_nest_base_CosFace_AdamW_0.001_cosine/jx_nest_base_CosFace_AdamW_0.001_cosine_rank_by_id_val.csv', 'Phase1B/jx_nest_base_CosFace_SGD_0.1_cosine/jx_nest_base_CosFace_SGD_0.1_cosine_rank_by_id_val.csv', 'Phase1B/jx_nest_base_MagFace_AdamW_0.001_cosine/jx_nest_base_MagFace_AdamW_0.001_cosine_rank_by_id_val.csv', 'Phase1B/jx_nest_base_MagFace_SGD_0.1_cosine/jx_nest_base_MagFace_SGD_0.1_cosine_rank_by_id_val.csv', 'Phase1B/legacy_senet154_ArcFace_AdamW/legacy_senet154_ArcFace_AdamW_rank_by_id_val.csv', 'Phase1B/legacy_senet154_ArcFace_AdamW_0.001_cosine/legacy_senet154_ArcFace_AdamW_0.001_cosine_rank_by_id_val.csv', 'Phase1B/legacy_senet154_ArcFace_SGD/legacy_senet154_ArcFace_SGD_rank_by_id_val.csv', 'Phase1B/legacy_senet154_ArcFace_SGD_0.1_cosine/legacy_senet154_ArcFace_SGD_0.1_cosine_rank_by_id_val.csv', 'Phase1B/legacy_senet154_CosFace_AdamW/legacy_senet154_CosFace_AdamW_rank_by_id_val.csv', 'Phase1B/legacy_senet154_CosFace_AdamW_0.001_cosine/legacy_senet154_CosFace_AdamW_0.001_cosine_rank_by_id_val.csv', 'Phase1B/legacy_senet154_CosFace_SGD/legacy_senet154_CosFace_SGD_rank_by_id_val.csv', 'Phase1B/legacy_senet154_CosFace_SGD_0.1_cosine/legacy_senet154_CosFace_SGD_0.1_cosine_rank_by_id_val.csv', 'Phase1B/legacy_senet154_MagFace_AdamW/legacy_senet154_MagFace_AdamW_rank_by_id_val.csv', 'Phase1B/legacy_senet154_MagFace_AdamW_0.001_cosine/legacy_senet154_MagFace_AdamW_0.001_cosine_rank_by_id_val.csv', 'Phase1B/legacy_senet154_MagFace_SGD/legacy_senet154_MagFace_SGD_rank_by_id_val.csv', 'Phase1B/legacy_senet154_MagFace_SGD_0.1_cosine/legacy_senet154_MagFace_SGD_0.1_cosine_rank_by_id_val.csv', 'Phase1B/mobilenetv3_large_100_ArcFace_AdamW/mobilenetv3_large_100_ArcFace_AdamW_rank_by_id_val.csv', 'Phase1B/mobilenetv3_large_100_ArcFace_AdamW_0.001_cosine/mobilenetv3_large_100_ArcFace_AdamW_0.001_cosine_rank_by_id_val.csv', 'Phase1B/mobilenetv3_large_100_ArcFace_SGD/mobilenetv3_large_100_ArcFace_SGD_rank_by_id_val.csv', 'Phase1B/mobilenetv3_large_100_ArcFace_SGD_0.1_cosine/mobilenetv3_large_100_ArcFace_SGD_0.1_cosine_rank_by_id_val.csv', 'Phase1B/mobilenetv3_large_100_CosFace_AdamW/mobilenetv3_large_100_CosFace_AdamW_rank_by_id_val.csv', 'Phase1B/vgg19_ArcFace_SGD/vgg19_ArcFace_SGD_rank_by_id_val.csv', 'Phase1B/mobilenetv3_large_100_CosFace_AdamW_0.001_cosine/mobilenetv3_large_100_CosFace_AdamW_0.001_cosine_rank_by_id_val.csv', 'Phase1B/mobilenetv3_large_100_CosFace_RMSpropTF/mobilenetv3_large_100_CosFace_RMSpropTF_rank_by_id_val.csv', 'Phase1B/mobilenetv3_large_100_CosFace_SGD/mobilenetv3_large_100_CosFace_SGD_rank_by_id_val.csv', 'Phase1B/mobilenetv3_large_100_CosFace_SGD_0.1_cosine/mobilenetv3_large_100_CosFace_SGD_0.1_cosine_rank_by_id_val.csv', 'Phase1B/mobilenetv3_large_100_MagFace_AdamW/mobilenetv3_large_100_MagFace_AdamW_rank_by_id_val.csv', 'Phase1B/mobilenetv3_large_100_MagFace_AdamW_0.001_cosine/mobilenetv3_large_100_MagFace_AdamW_0.001_cosine_rank_by_id_val.csv', 'Phase1B/mobilenetv3_large_100_MagFace_SGD/mobilenetv3_large_100_MagFace_SGD_rank_by_id_val.csv', 'Phase1B/mobilenetv3_large_100_MagFace_SGD_0.1_cosine/mobilenetv3_large_100_MagFace_SGD_0.1_cosine_rank_by_id_val.csv', 'Phase1B/resnetrs101_ArcFace_AdamW/resnetrs101_ArcFace_AdamW_rank_by_id_val.csv', 'Phase1B/resnetrs101_ArcFace_AdamW_0.001_cosine/resnetrs101_ArcFace_AdamW_0.001_cosine_rank_by_id_val.csv', 'Phase1B/resnetrs101_ArcFace_SGD/resnetrs101_ArcFace_SGD_rank_by_id_val.csv', 'Phase1B/resnetrs101_ArcFace_SGD_0.1_cosine/resnetrs101_ArcFace_SGD_0.1_cosine_rank_by_id_val.csv', 'Phase1B/resnetrs101_CosFace_AdamW/resnetrs101_CosFace_AdamW_rank_by_id_val.csv', 'Phase1B/resnetrs101_CosFace_AdamW_0.001_cosine/resnetrs101_CosFace_AdamW_0.001_cosine_rank_by_id_val.csv', 'Phase1B/resnetrs101_CosFace_SGD/resnetrs101_CosFace_SGD_rank_by_id_val.csv', 'Phase1B/resnetrs101_CosFace_SGD_0.1_cosine/resnetrs101_CosFace_SGD_0.1_cosine_rank_by_id_val.csv', 'Phase1B/resnetrs101_MagFace_AdamW/resnetrs101_MagFace_AdamW_rank_by_id_val.csv', 'Phase1B/resnetrs101_MagFace_AdamW_0.001_cosine/resnetrs101_MagFace_AdamW_0.001_cosine_rank_by_id_val.csv', 'Phase1B/resnetrs101_MagFace_SGD/resnetrs101_MagFace_SGD_rank_by_id_val.csv', 'Phase1B/resnetrs101_MagFace_SGD_0.1_cosine/resnetrs101_MagFace_SGD_0.1_cosine_rank_by_id_val.csv', 'Phase1B/rexnet_200_ArcFace_AdamW/rexnet_200_ArcFace_AdamW_rank_by_id_val.csv', 'Phase1B/rexnet_200_ArcFace_AdamW_0.001_cosine/rexnet_200_ArcFace_AdamW_0.001_cosine_rank_by_id_val.csv', 'Phase1B/rexnet_200_ArcFace_SGD/rexnet_200_ArcFace_SGD_rank_by_id_val.csv', 'Phase1B/rexnet_200_ArcFace_SGD_0.1_cosine/rexnet_200_ArcFace_SGD_0.1_cosine_rank_by_id_val.csv', 'Phase1B/rexnet_200_CosFace_AdamW/rexnet_200_CosFace_AdamW_rank_by_id_val.csv', 'Phase1B/rexnet_200_CosFace_AdamW_0.001_cosine/rexnet_200_CosFace_AdamW_0.001_cosine_rank_by_id_val.csv', 'Phase1B/rexnet_200_CosFace_SGD/rexnet_200_CosFace_SGD_rank_by_id_val.csv', 'Phase1B/rexnet_200_CosFace_SGD_0.1_cosine/rexnet_200_CosFace_SGD_0.1_cosine_rank_by_id_val.csv', 'Phase1B/rexnet_200_MagFace_AdamW/rexnet_200_MagFace_AdamW_rank_by_id_val.csv', 'Phase1B/rexnet_200_MagFace_AdamW_0.001_cosine/rexnet_200_MagFace_AdamW_0.001_cosine_rank_by_id_val.csv', 'Phase1B/rexnet_200_MagFace_SGD/rexnet_200_MagFace_SGD_rank_by_id_val.csv', 'Phase1B/rexnet_200_MagFace_SGD_0.1_cosine/rexnet_200_MagFace_SGD_0.1_cosine_rank_by_id_val.csv', 'Phase1B/selecsls60b_ArcFace_AdamW/selecsls60b_ArcFace_AdamW_rank_by_id_val.csv', 'Phase1B/selecsls60b_ArcFace_AdamW_0.001_cosine/selecsls60b_ArcFace_AdamW_0.001_cosine_rank_by_id_val.csv', 'Phase1B/selecsls60b_ArcFace_SGD/selecsls60b_ArcFace_SGD_rank_by_id_val.csv', 'Phase1B/selecsls60b_ArcFace_SGD_0.1_cosine/selecsls60b_ArcFace_SGD_0.1_cosine_rank_by_id_val.csv', 'Phase1B/selecsls60b_CosFace_Adam/selecsls60b_CosFace_Adam_rank_by_id_val.csv', 'Phase1B/selecsls60b_CosFace_AdamW/selecsls60b_CosFace_AdamW_rank_by_id_val.csv', 'Phase1B/selecsls60b_CosFace_AdamW_0.001_cosine/selecsls60b_CosFace_AdamW_0.001_cosine_rank_by_id_val.csv', 'Phase1B/selecsls60b_CosFace_SGD/selecsls60b_CosFace_SGD_rank_by_id_val.csv', 'Phase1B/selecsls60b_CosFace_SGD_0.1_cosine/selecsls60b_CosFace_SGD_0.1_cosine_rank_by_id_val.csv', 'Phase1B/selecsls60b_MagFace_AdamW/selecsls60b_MagFace_AdamW_rank_by_id_val.csv', 'Phase1B/selecsls60b_MagFace_AdamW_0.001_cosine/selecsls60b_MagFace_AdamW_0.001_cosine_rank_by_id_val.csv', 'Phase1B/selecsls60b_MagFace_SGD/selecsls60b_MagFace_SGD_rank_by_id_val.csv', 'Phase1B/selecsls60b_MagFace_SGD_0.1_cosine/selecsls60b_MagFace_SGD_0.1_cosine_rank_by_id_val.csv', 'Phase1B/swin_base_patch4_window7_224_ArcFace_AdamW_0.001_cosine/swin_base_patch4_window7_224_ArcFace_AdamW_0.001_cosine_rank_by_id_val.csv', 'Phase1B/swin_base_patch4_window7_224_ArcFace_SGD_0.1_cosine/swin_base_patch4_window7_224_ArcFace_SGD_0.1_cosine_rank_by_id_val.csv', 'Phase1B/swin_base_patch4_window7_224_CosFace_AdamW_0.001_cosine/swin_base_patch4_window7_224_CosFace_AdamW_0.001_cosine_rank_by_id_val.csv', 'Phase1B/swin_base_patch4_window7_224_CosFace_SGD_0.1_cosine/swin_base_patch4_window7_224_CosFace_SGD_0.1_cosine_rank_by_id_val.csv', 'Phase1B/swin_base_patch4_window7_224_MagFace_AdamW_0.001_cosine/swin_base_patch4_window7_224_MagFace_AdamW_0.001_cosine_rank_by_id_val.csv', 'Phase1B/swin_base_patch4_window7_224_MagFace_SGD_0.1_cosine/swin_base_patch4_window7_224_MagFace_SGD_0.1_cosine_rank_by_id_val.csv', 'Phase1B/tf_efficientnet_b7_ns_ArcFace_AdamW_0.001_cosine/tf_efficientnet_b7_ns_ArcFace_AdamW_0.001_cosine_rank_by_id_val.csv', 'Phase1B/tf_efficientnet_b7_ns_ArcFace_SGD_0.1_cosine/tf_efficientnet_b7_ns_ArcFace_SGD_0.1_cosine_rank_by_id_val.csv', 'Phase1B/tf_efficientnet_b7_ns_CosFace_AdamW_0.001_cosine/tf_efficientnet_b7_ns_CosFace_AdamW_0.001_cosine_rank_by_id_val.csv', 'Phase1B/tf_efficientnet_b7_ns_CosFace_SGD_0.1_cosine/tf_efficientnet_b7_ns_CosFace_SGD_0.1_cosine_rank_by_id_val.csv', 'Phase1B/tf_efficientnet_b7_ns_MagFace_AdamW_0.001_cosine/tf_efficientnet_b7_ns_MagFace_AdamW_0.001_cosine_rank_by_id_val.csv', 'Phase1B/tf_efficientnet_b7_ns_MagFace_SGD_0.1_cosine/tf_efficientnet_b7_ns_MagFace_SGD_0.1_cosine_rank_by_id_val.csv', 'Phase1B/tnt_s_patch16_224_ArcFace_AdamW/tnt_s_patch16_224_ArcFace_AdamW_rank_by_id_val.csv', 'Phase1B/tnt_s_patch16_224_ArcFace_SGD/tnt_s_patch16_224_ArcFace_SGD_rank_by_id_val.csv', 'Phase1B/tnt_s_patch16_224_ArcFace_SGD_0.1_cosine/tnt_s_patch16_224_ArcFace_SGD_0.1_cosine_rank_by_id_val.csv', 'Phase1B/tnt_s_patch16_224_CosFace_AdamW/tnt_s_patch16_224_CosFace_AdamW_rank_by_id_val.csv', 'Phase1B/tnt_s_patch16_224_CosFace_SGD/tnt_s_patch16_224_CosFace_SGD_rank_by_id_val.csv', 'Phase1B/tnt_s_patch16_224_CosFace_SGD_0.1_cosine/tnt_s_patch16_224_CosFace_SGD_0.1_cosine_rank_by_id_val.csv', 'Phase1B/tnt_s_patch16_224_MagFace_AdamW/tnt_s_patch16_224_MagFace_AdamW_rank_by_id_val.csv', 'Phase1B/tnt_s_patch16_224_MagFace_SGD/tnt_s_patch16_224_MagFace_SGD_rank_by_id_val.csv', 'Phase1B/tnt_s_patch16_224_MagFace_SGD_0.1_cosine/tnt_s_patch16_224_MagFace_SGD_0.1_cosine_rank_by_id_val.csv', 'Phase1B/twins_svt_large_ArcFace_AdamW_0.001_cosine/twins_svt_large_ArcFace_AdamW_0.001_cosine_rank_by_id_val.csv', 'Phase1B/twins_svt_large_ArcFace_SGD_0.1_cosine/twins_svt_large_ArcFace_SGD_0.1_cosine_rank_by_id_val.csv', 'Phase1B/twins_svt_large_CosFace_AdamW_0.001_cosine/twins_svt_large_CosFace_AdamW_0.001_cosine_rank_by_id_val.csv', 'Phase1B/twins_svt_large_CosFace_SGD_0.1_cosine/twins_svt_large_CosFace_SGD_0.1_cosine_rank_by_id_val.csv', 'Phase1B/twins_svt_large_MagFace_AdamW_0.001_cosine/twins_svt_large_MagFace_AdamW_0.001_cosine_rank_by_id_val.csv', 'Phase1B/twins_svt_large_MagFace_SGD_0.1_cosine/twins_svt_large_MagFace_SGD_0.1_cosine_rank_by_id_val.csv', 'Phase1B/vgg19_ArcFace_AdamW_0.001_cosine/vgg19_ArcFace_AdamW_0.001_cosine_rank_by_id_val.csv', 'Phase1B/vgg19_ArcFace_SGD_0.1_cosine/vgg19_ArcFace_SGD_0.1_cosine_rank_by_id_val.csv', 'Phase1B/vgg19_CosFace_AdamW/vgg19_CosFace_AdamW_rank_by_id_val.csv', 'Phase1B/vgg19_CosFace_AdamW_0.001_cosine/vgg19_CosFace_AdamW_0.001_cosine_rank_by_id_val.csv', 'Phase1B/vgg19_CosFace_SGD/vgg19_CosFace_SGD_rank_by_id_val.csv', 'Phase1B/vgg19_CosFace_SGD_0.1_cosine/vgg19_CosFace_SGD_0.1_cosine_rank_by_id_val.csv', 'Phase1B/vgg19_MagFace_AdamW/vgg19_MagFace_AdamW_rank_by_id_val.csv', 'Phase1B/vgg19_MagFace_AdamW_0.001_cosine/vgg19_MagFace_AdamW_0.001_cosine_rank_by_id_val.csv', 'Phase1B/vgg19_MagFace_SGD/vgg19_MagFace_SGD_rank_by_id_val.csv', 'Phase1B/vgg19_MagFace_SGD_0.1_cosine/vgg19_MagFace_SGD_0.1_cosine_rank_by_id_val.csv', 'Phase1B/vgg19_bn_ArcFace_AdamW/vgg19_bn_ArcFace_AdamW_rank_by_id_val.csv', 'Phase1B/vgg19_bn_ArcFace_AdamW_0.001_cosine/vgg19_bn_ArcFace_AdamW_0.001_cosine_rank_by_id_val.csv', 'Phase1B/vgg19_bn_ArcFace_SGD/vgg19_bn_ArcFace_SGD_rank_by_id_val.csv', 'Phase1B/vgg19_bn_ArcFace_SGD_0.1_cosine/vgg19_bn_ArcFace_SGD_0.1_cosine_rank_by_id_val.csv', 'Phase1B/vgg19_bn_CosFace_AdamW/vgg19_bn_CosFace_AdamW_rank_by_id_val.csv', 'Phase1B/vgg19_bn_CosFace_AdamW_0.001_cosine/vgg19_bn_CosFace_AdamW_0.001_cosine_rank_by_id_val.csv', 'Phase1B/vgg19_bn_CosFace_SGD/vgg19_bn_CosFace_SGD_rank_by_id_val.csv', 'Phase1B/vgg19_bn_CosFace_SGD_0.1_cosine/vgg19_bn_CosFace_SGD_0.1_cosine_rank_by_id_val.csv', 'Phase1B/vgg19_bn_MagFace_AdamW/vgg19_bn_MagFace_AdamW_rank_by_id_val.csv', 'Phase1B/vgg19_bn_MagFace_AdamW_0.001_cosine/vgg19_bn_MagFace_AdamW_0.001_cosine_rank_by_id_val.csv', 'Phase1B/vgg19_bn_MagFace_SGD/vgg19_bn_MagFace_SGD_rank_by_id_val.csv', 'Phase1B/vgg19_bn_MagFace_SGD_0.1_cosine/vgg19_bn_MagFace_SGD_0.1_cosine_rank_by_id_val.csv', 'Phase1B/visformer_small_ArcFace_AdamW/visformer_small_ArcFace_AdamW_rank_by_id_val.csv', 'Phase1B/visformer_small_ArcFace_AdamW_0.001_cosine/visformer_small_ArcFace_AdamW_0.001_cosine_rank_by_id_val.csv', 'Phase1B/visformer_small_ArcFace_SGD/visformer_small_ArcFace_SGD_rank_by_id_val.csv', 'Phase1B/visformer_small_ArcFace_SGD_0.1_cosine/visformer_small_ArcFace_SGD_0.1_cosine_rank_by_id_val.csv', 'Phase1B/visformer_small_CosFace_AdamW/visformer_small_CosFace_AdamW_rank_by_id_val.csv', 'Phase1B/visformer_small_CosFace_AdamW_0.001_cosine/visformer_small_CosFace_AdamW_0.001_cosine_rank_by_id_val.csv', 'Phase1B/visformer_small_CosFace_SGD/visformer_small_CosFace_SGD_rank_by_id_val.csv', 'Phase1B/visformer_small_CosFace_SGD_0.1_cosine/visformer_small_CosFace_SGD_0.1_cosine_rank_by_id_val.csv', 'Phase1B/visformer_small_MagFace_AdamW/visformer_small_MagFace_AdamW_rank_by_id_val.csv', 'Phase1B/visformer_small_MagFace_AdamW_0.001_cosine/visformer_small_MagFace_AdamW_0.001_cosine_rank_by_id_val.csv', 'Phase1B/visformer_small_MagFace_SGD/visformer_small_MagFace_SGD_rank_by_id_val.csv', 'Phase1B/visformer_small_MagFace_SGD_0.1_cosine/visformer_small_MagFace_SGD_0.1_cosine_rank_by_id_val.csv', 'Phase1B/xception65_ArcFace_AdamW/xception65_ArcFace_AdamW_rank_by_id_val.csv', 'Phase1B/xception65_ArcFace_AdamW_0.001_cosine/xception65_ArcFace_AdamW_0.001_cosine_rank_by_id_val.csv', 'Phase1B/xception65_ArcFace_SGD/xception65_ArcFace_SGD_rank_by_id_val.csv', 'Phase1B/xception65_ArcFace_SGD_0.1_cosine/xception65_ArcFace_SGD_0.1_cosine_rank_by_id_val.csv', 'Phase1B/xception65_CosFace_Adam/xception65_CosFace_Adam_rank_by_id_val.csv', 'Phase1B/xception65_CosFace_AdamW/xception65_CosFace_AdamW_rank_by_id_val.csv', 'Phase1B/xception65_CosFace_AdamW_0.001_cosine/xception65_CosFace_AdamW_0.001_cosine_rank_by_id_val.csv', 'Phase1B/xception65_CosFace_SGD/xception65_CosFace_SGD_rank_by_id_val.csv', 'Phase1B/xception65_CosFace_SGD_0.1_cosine/xception65_CosFace_SGD_0.1_cosine_rank_by_id_val.csv', 'Phase1B/xception65_MagFace_AdamW/xception65_MagFace_AdamW_rank_by_id_val.csv', 'Phase1B/xception65_MagFace_AdamW_0.001_cosine/xception65_MagFace_AdamW_0.001_cosine_rank_by_id_val.csv', 'Phase1B/xception65_MagFace_SGD/xception65_MagFace_SGD_rank_by_id_val.csv', 'Phase1B/xception65_MagFace_SGD_0.1_cosine/xception65_MagFace_SGD_0.1_cosine_rank_by_id_val.csv', 'Phase1B/xception_ArcFace_AdamW/xception_ArcFace_AdamW_rank_by_id_val.csv', 'Phase1B/xception_ArcFace_AdamW_0.001_cosine/xception_ArcFace_AdamW_0.001_cosine_rank_by_id_val.csv', 'Phase1B/xception_ArcFace_SGD/xception_ArcFace_SGD_rank_by_id_val.csv', 'Phase1B/xception_ArcFace_SGD_0.1_cosine/xception_ArcFace_SGD_0.1_cosine_rank_by_id_val.csv', 'Phase1B/xception_CosFace_Adam/xception_CosFace_Adam_rank_by_id_val.csv', 'Phase1B/xception_CosFace_AdamW/xception_CosFace_AdamW_rank_by_id_val.csv', 'Phase1B/xception_CosFace_AdamW_0.001_cosine/xception_CosFace_AdamW_0.001_cosine_rank_by_id_val.csv', 'Phase1B/xception_CosFace_SGD/xception_CosFace_SGD_rank_by_id_val.csv', 'Phase1B/xception_CosFace_SGD_0.1_cosine/xception_CosFace_SGD_0.1_cosine_rank_by_id_val.csv', 'Phase1B/xception_MagFace_AdamW/xception_MagFace_AdamW_rank_by_id_val.csv', 'Phase1B/xception_MagFace_AdamW_0.001_cosine/xception_MagFace_AdamW_0.001_cosine_rank_by_id_val.csv', 'Phase1B/xception_MagFace_SGD/xception_MagFace_SGD_rank_by_id_val.csv', 'Phase1B/xception_MagFace_SGD_0.1_cosine/xception_MagFace_SGD_0.1_cosine_rank_by_id_val.csv', 'timm_explore_few_epochs/coat_lite_small_ArcFace_AdamW/coat_lite_small_ArcFace_AdamW_rank_by_id_val.csv', 'timm_explore_few_epochs/coat_lite_small_ArcFace_SGD/coat_lite_small_ArcFace_SGD_rank_by_id_val.csv', 'timm_explore_few_epochs/coat_lite_small_CosFace_Adam/coat_lite_small_CosFace_Adam_rank_by_id_val.csv', 'timm_explore_few_epochs/coat_lite_small_CosFace_AdamW/coat_lite_small_CosFace_AdamW_rank_by_id_val.csv', 'timm_explore_few_epochs/coat_lite_small_CosFace_SGD/coat_lite_small_CosFace_SGD_rank_by_id_val.csv', 'timm_explore_few_epochs/coat_lite_small_MagFace_AdamW/coat_lite_small_MagFace_AdamW_rank_by_id_val.csv', 'timm_explore_few_epochs/coat_lite_small_MagFace_SGD/coat_lite_small_MagFace_SGD_rank_by_id_val.csv', 'timm_explore_few_epochs/convit_base_ArcFace_AdamW/convit_base_ArcFace_AdamW_rank_by_id_val.csv', 'timm_explore_few_epochs/convit_base_ArcFace_SGD/convit_base_ArcFace_SGD_rank_by_id_val.csv', 'timm_explore_few_epochs/convit_base_CosFace_Adam/convit_base_CosFace_Adam_rank_by_id_val.csv', 'timm_explore_few_epochs/convit_base_CosFace_AdamW/convit_base_CosFace_AdamW_rank_by_id_val.csv', 'timm_explore_few_epochs/convit_base_CosFace_SGD/convit_base_CosFace_SGD_rank_by_id_val.csv', 'timm_explore_few_epochs/convit_base_MagFace_AdamW/convit_base_MagFace_AdamW_rank_by_id_val.csv', 'timm_explore_few_epochs/convit_base_MagFace_SGD/convit_base_MagFace_SGD_rank_by_id_val.csv', 'timm_explore_few_epochs/cspdarknet53_ArcFace_AdamW/cspdarknet53_ArcFace_AdamW_rank_by_id_val.csv', 'timm_explore_few_epochs/cspdarknet53_ArcFace_SGD/cspdarknet53_ArcFace_SGD_rank_by_id_val.csv', 'timm_explore_few_epochs/cspdarknet53_CosFace_AdamW/cspdarknet53_CosFace_AdamW_rank_by_id_val.csv', 'timm_explore_few_epochs/cspdarknet53_CosFace_SGD/cspdarknet53_CosFace_SGD_rank_by_id_val.csv', 'timm_explore_few_epochs/cspdarknet53_CosFace_adam/cspdarknet53_CosFace_adam_rank_by_id_val.csv', 'timm_explore_few_epochs/cspdarknet53_MagFace_AdamW/cspdarknet53_MagFace_AdamW_rank_by_id_val.csv', 'timm_explore_few_epochs/cspdarknet53_MagFace_SGD/cspdarknet53_MagFace_SGD_rank_by_id_val.csv', 'timm_explore_few_epochs/dla102x2_ArcFace_AdamW/dla102x2_ArcFace_AdamW_rank_by_id_val.csv', 'timm_explore_few_epochs/dla102x2_ArcFace_SGD/dla102x2_ArcFace_SGD_rank_by_id_val.csv', 'timm_explore_few_epochs/dla102x2_CosFace_AdamW/dla102x2_CosFace_AdamW_rank_by_id_val.csv', 'timm_explore_few_epochs/dla102x2_CosFace_SGD/dla102x2_CosFace_SGD_rank_by_id_val.csv', 'timm_explore_few_epochs/dla102x2_CosFace_sgd/dla102x2_CosFace_sgd_rank_by_id_val.csv', 'timm_explore_few_epochs/dla102x2_MagFace_AdamW/dla102x2_MagFace_AdamW_rank_by_id_val.csv', 'timm_explore_few_epochs/dla102x2_MagFace_SGD/dla102x2_MagFace_SGD_rank_by_id_val.csv', 'timm_explore_few_epochs/dpn107_ArcFace_AdamW/dpn107_ArcFace_AdamW_rank_by_id_val.csv', 'timm_explore_few_epochs/dpn107_ArcFace_SGD/dpn107_ArcFace_SGD_rank_by_id_val.csv', 'timm_explore_few_epochs/dpn107_CosFace_AdamW/dpn107_CosFace_AdamW_rank_by_id_val.csv', 'timm_explore_few_epochs/dpn107_CosFace_sgd/dpn107_CosFace_sgd_rank_by_id_val.csv', 'timm_explore_few_epochs/dpn107_MagFace_AdamW/dpn107_MagFace_AdamW_rank_by_id_val.csv', 'timm_explore_few_epochs/dpn107_MagFace_SGD/dpn107_MagFace_SGD_rank_by_id_val.csv', 'timm_explore_few_epochs/ghostnet_100_ArcFace_AdamW/ghostnet_100_ArcFace_AdamW_rank_by_id_val.csv', 'timm_explore_few_epochs/ghostnet_100_ArcFace_SGD/ghostnet_100_ArcFace_SGD_rank_by_id_val.csv', 'timm_explore_few_epochs/ghostnet_100_CosFace_AdamW/ghostnet_100_CosFace_AdamW_rank_by_id_val.csv', 'timm_explore_few_epochs/ghostnet_100_CosFace_sgd/ghostnet_100_CosFace_sgd_rank_by_id_val.csv', 'timm_explore_few_epochs/ghostnet_100_MagFace_AdamW/ghostnet_100_MagFace_AdamW_rank_by_id_val.csv', 'timm_explore_few_epochs/ghostnet_100_MagFace_SGD/ghostnet_100_MagFace_SGD_rank_by_id_val.csv', 'timm_explore_few_epochs/hrnet_w64_ArcFace_AdamW/hrnet_w64_ArcFace_AdamW_rank_by_id_val.csv', 'timm_explore_few_epochs/hrnet_w64_ArcFace_SGD/hrnet_w64_ArcFace_SGD_rank_by_id_val.csv', 'timm_explore_few_epochs/hrnet_w64_CosFace_AdamW/hrnet_w64_CosFace_AdamW_rank_by_id_val.csv', 'timm_explore_few_epochs/hrnet_w64_CosFace_sgd/hrnet_w64_CosFace_sgd_rank_by_id_val.csv', 'timm_explore_few_epochs/hrnet_w64_MagFace_AdamW/hrnet_w64_MagFace_AdamW_rank_by_id_val.csv', 'timm_explore_few_epochs/hrnet_w64_MagFace_SGD/hrnet_w64_MagFace_SGD_rank_by_id_val.csv', 'timm_explore_few_epochs/jx_nest_base_ArcFace_AdamW/jx_nest_base_ArcFace_AdamW_rank_by_id_val.csv', 'timm_explore_few_epochs/jx_nest_base_ArcFace_SGD/jx_nest_base_ArcFace_SGD_rank_by_id_val.csv', 'timm_explore_few_epochs/jx_nest_base_CosFace_AdamW/jx_nest_base_CosFace_AdamW_rank_by_id_val.csv', 'timm_explore_few_epochs/jx_nest_base_CosFace_SGD/jx_nest_base_CosFace_SGD_rank_by_id_val.csv', 'timm_explore_few_epochs/jx_nest_base_MagFace_AdamW/jx_nest_base_MagFace_AdamW_rank_by_id_val.csv', 'timm_explore_few_epochs/jx_nest_base_MagFace_SGD/jx_nest_base_MagFace_SGD_rank_by_id_val.csv', 'timm_explore_few_epochs/swin_base_patch4_window7_224_ArcFace_AdamW/swin_base_patch4_window7_224_ArcFace_AdamW_rank_by_id_val.csv', 'timm_explore_few_epochs/swin_base_patch4_window7_224_ArcFace_SGD/swin_base_patch4_window7_224_ArcFace_SGD_rank_by_id_val.csv', 'timm_explore_few_epochs/swin_base_patch4_window7_224_CosFace_Adam/swin_base_patch4_window7_224_CosFace_Adam_rank_by_id_val.csv', 'timm_explore_few_epochs/swin_base_patch4_window7_224_CosFace_AdamW/swin_base_patch4_window7_224_CosFace_AdamW_rank_by_id_val.csv', 'timm_explore_few_epochs/swin_base_patch4_window7_224_CosFace_SGD/swin_base_patch4_window7_224_CosFace_SGD_rank_by_id_val.csv', 'timm_explore_few_epochs/swin_base_patch4_window7_224_MagFace_AdamW/swin_base_patch4_window7_224_MagFace_AdamW_rank_by_id_val.csv', 'timm_explore_few_epochs/swin_base_patch4_window7_224_MagFace_SGD/swin_base_patch4_window7_224_MagFace_SGD_rank_by_id_val.csv', 'timm_explore_few_epochs/tf_efficientnet_b7_ns_ArcFace_AdamW/tf_efficientnet_b7_ns_ArcFace_AdamW_rank_by_id_val.csv', 'timm_explore_few_epochs/tf_efficientnet_b7_ns_ArcFace_SGD/tf_efficientnet_b7_ns_ArcFace_SGD_rank_by_id_val.csv', 'timm_explore_few_epochs/tf_efficientnet_b7_ns_CosFace_AdamW/tf_efficientnet_b7_ns_CosFace_AdamW_rank_by_id_val.csv', 'timm_explore_few_epochs/tf_efficientnet_b7_ns_CosFace_SGD/tf_efficientnet_b7_ns_CosFace_SGD_rank_by_id_val.csv', 'timm_explore_few_epochs/tf_efficientnet_b7_ns_CosFace_rmsproptf/tf_efficientnet_b7_ns_CosFace_rmsproptf_rank_by_id_val.csv', 'timm_explore_few_epochs/tf_efficientnet_b7_ns_MagFace_AdamW/tf_efficientnet_b7_ns_MagFace_AdamW_rank_by_id_val.csv', 'timm_explore_few_epochs/tf_efficientnet_b7_ns_MagFace_SGD/tf_efficientnet_b7_ns_MagFace_SGD_rank_by_id_val.csv', 'timm_explore_few_epochs/twins_svt_large_ArcFace_AdamW/twins_svt_large_ArcFace_AdamW_rank_by_id_val.csv', 'timm_explore_few_epochs/twins_svt_large_ArcFace_SGD/twins_svt_large_ArcFace_SGD_rank_by_id_val.csv', 'timm_explore_few_epochs/twins_svt_large_CosFace_AdamW/twins_svt_large_CosFace_AdamW_rank_by_id_val.csv', 'timm_explore_few_epochs/twins_svt_large_CosFace_SGD/twins_svt_large_CosFace_SGD_rank_by_id_val.csv', 'timm_explore_few_epochs/twins_svt_large_CosFace_adamw/twins_svt_large_CosFace_adamw_rank_by_id_val.csv', 'timm_explore_few_epochs/twins_svt_large_MagFace_AdamW/twins_svt_large_MagFace_AdamW_rank_by_id_val.csv', 'timm_explore_few_epochs/twins_svt_large_MagFace_SGD/twins_svt_large_MagFace_SGD_rank_by_id_val.csv', 'Phase1B/Checkpoints_Edges_000_LR_0.2813375341651194_Head_CosFace_Optimizer_SGD_1/_rank_by_id_val.csv']\n"
     ]
    }
   ],
   "source": [
    "phase1bii_configs = glob.glob('../configs/**/*')\n",
    "models = get_finished_models_Phase1B()\n",
    "print(models)\n",
    "rank_files = glob.glob('Phase1B/**/*_rank_by_id_val.csv')\n",
    "rank_files += glob.glob('timm_explore_few_epochs/**/*_rank_by_id_val.csv') \n",
    "rank_files_Phase1 = [x for x in rank_files if any([m in x for m in models])] + glob.glob('Phase1B/Checkpoints*/*_rank_by_id_val.csv')\n",
    "kacc_files = glob.glob('**/**/*_kacc_val.csv')\n",
    "metadata = pd.read_csv('val_identities_gender-expression_seed_222.csv')\n",
    "\n",
    "epochs = ['epoch_'+str(i) for i in [99]]\n",
    "print(rank_files_Phase1)"
   ]
  },
  {
   "cell_type": "code",
   "execution_count": 59,
   "id": "96ce38cb",
   "metadata": {},
   "outputs": [],
   "source": [
    "acc_df, acc_disp_df, rank_df = analyze_rank_files(rank_files_Phase1, metadata, epochs=epochs)\n",
    "_, acc_disp_ratio_df, rank_ratio_df = analyze_rank_files(rank_files_Phase1, metadata, ratio=True, epochs=epochs)\n",
    "err_df, error_ratio_df, _ = analyze_rank_files(rank_files_Phase1, metadata, ratio=True, error=True, epochs=epochs)\n"
   ]
  },
  {
   "cell_type": "code",
   "execution_count": 87,
   "id": "537f2e86",
   "metadata": {},
   "outputs": [
    {
     "name": "stdout",
     "output_type": "stream",
     "text": [
      "                                               index  epoch  Accuracy  \\\n",
      "0  coat_lite_small_ArcFace_AdamW_0.001_cosine_ran...     99  0.460450   \n",
      "1  coat_lite_small_ArcFace_SGD_0.1_cosine_rank_by...     99       NaN   \n",
      "2  coat_lite_small_CosFace_AdamW_0.001_cosine_ran...     99  0.923127   \n",
      "3  coat_lite_small_CosFace_SGD_0.1_cosine_rank_by...     99       NaN   \n",
      "4  coat_lite_small_MagFace_AdamW_0.001_cosine_ran...     99  0.527632   \n",
      "\n",
      "   Disparity  \n",
      "0   5.471582  \n",
      "1        NaN  \n",
      "2   3.864065  \n",
      "3        NaN  \n",
      "4   4.619565  \n"
     ]
    },
    {
     "data": {
      "application/vnd.plotly.v1+json": {
       "config": {
        "plotlyServerURL": "https://plot.ly"
       },
       "data": [
        {
         "hovertemplate": "index=coat_lite_small_ArcFace_AdamW_0.001_cosine_rank_by_id_val<br>Marker=0<br>Error=%{x}<br>Disparity=%{y}<extra></extra>",
         "legendgroup": "coat_lite_small_ArcFace_AdamW_0.001_cosine_rank_by_id_val, 0",
         "marker": {
          "color": "#636efa",
          "symbol": "circle"
         },
         "mode": "markers",
         "name": "coat_lite_small_ArcFace_AdamW_0.001_cosine_rank_by_id_val, 0",
         "orientation": "v",
         "showlegend": true,
         "type": "scatter",
         "x": [
          0.5395495023572552
         ],
         "xaxis": "x",
         "y": [
          5.471581980094291
         ],
         "yaxis": "y"
        },
        {
         "hovertemplate": "index=coat_lite_small_CosFace_AdamW_0.001_cosine_rank_by_id_val<br>Marker=0<br>Error=%{x}<br>Disparity=%{y}<extra></extra>",
         "legendgroup": "coat_lite_small_CosFace_AdamW_0.001_cosine_rank_by_id_val, 0",
         "marker": {
          "color": "#EF553B",
          "symbol": "circle"
         },
         "mode": "markers",
         "name": "coat_lite_small_CosFace_AdamW_0.001_cosine_rank_by_id_val, 0",
         "orientation": "v",
         "showlegend": true,
         "type": "scatter",
         "x": [
          0.07687270822420111
         ],
         "xaxis": "x",
         "y": [
          3.8640649554740705
         ],
         "yaxis": "y"
        },
        {
         "hovertemplate": "index=coat_lite_small_MagFace_AdamW_0.001_cosine_rank_by_id_val<br>Marker=0<br>Error=%{x}<br>Disparity=%{y}<extra></extra>",
         "legendgroup": "coat_lite_small_MagFace_AdamW_0.001_cosine_rank_by_id_val, 0",
         "marker": {
          "color": "#00cc96",
          "symbol": "circle"
         },
         "mode": "markers",
         "name": "coat_lite_small_MagFace_AdamW_0.001_cosine_rank_by_id_val, 0",
         "orientation": "v",
         "showlegend": true,
         "type": "scatter",
         "x": [
          0.4723677317967522
         ],
         "xaxis": "x",
         "y": [
          4.6195652173913055
         ],
         "yaxis": "y"
        },
        {
         "hovertemplate": "index=convit_base_ArcFace_AdamW_0.001_cosine_rank_by_id_val<br>Marker=0<br>Error=%{x}<br>Disparity=%{y}<extra></extra>",
         "legendgroup": "convit_base_ArcFace_AdamW_0.001_cosine_rank_by_id_val, 0",
         "marker": {
          "color": "#ab63fa",
          "symbol": "circle"
         },
         "mode": "markers",
         "name": "convit_base_ArcFace_AdamW_0.001_cosine_rank_by_id_val, 0",
         "orientation": "v",
         "showlegend": true,
         "type": "scatter",
         "x": [
          0.875
         ],
         "xaxis": "x",
         "y": [
          15.463462545835526
         ],
         "yaxis": "y"
        },
        {
         "hovertemplate": "index=convit_base_CosFace_AdamW_0.001_cosine_rank_by_id_val<br>Marker=0<br>Error=%{x}<br>Disparity=%{y}<extra></extra>",
         "legendgroup": "convit_base_CosFace_AdamW_0.001_cosine_rank_by_id_val, 0",
         "marker": {
          "color": "#FFA15A",
          "symbol": "circle"
         },
         "mode": "markers",
         "name": "convit_base_CosFace_AdamW_0.001_cosine_rank_by_id_val, 0",
         "orientation": "v",
         "showlegend": true,
         "type": "scatter",
         "x": [
          0.6724724986904138
         ],
         "xaxis": "x",
         "y": [
          15.067050811943425
         ],
         "yaxis": "y"
        },
        {
         "hovertemplate": "index=convit_base_MagFace_AdamW_0.001_cosine_rank_by_id_val<br>Marker=0<br>Error=%{x}<br>Disparity=%{y}<extra></extra>",
         "legendgroup": "convit_base_MagFace_AdamW_0.001_cosine_rank_by_id_val, 0",
         "marker": {
          "color": "#19d3f3",
          "symbol": "circle"
         },
         "mode": "markers",
         "name": "convit_base_MagFace_AdamW_0.001_cosine_rank_by_id_val, 0",
         "orientation": "v",
         "showlegend": true,
         "type": "scatter",
         "x": [
          0.8657674174960712
         ],
         "xaxis": "x",
         "y": [
          16.423520167627032
         ],
         "yaxis": "y"
        },
        {
         "hovertemplate": "index=cspdarknet53_ArcFace_AdamW_0.001_cosine_rank_by_id_val<br>Marker=0<br>Error=%{x}<br>Disparity=%{y}<extra></extra>",
         "legendgroup": "cspdarknet53_ArcFace_AdamW_0.001_cosine_rank_by_id_val, 0",
         "marker": {
          "color": "#FF6692",
          "symbol": "circle"
         },
         "mode": "markers",
         "name": "cspdarknet53_ArcFace_AdamW_0.001_cosine_rank_by_id_val, 0",
         "orientation": "v",
         "showlegend": true,
         "type": "scatter",
         "x": [
          0.3438973284442116
         ],
         "xaxis": "x",
         "y": [
          2.9436877946568885
         ],
         "yaxis": "y"
        },
        {
         "hovertemplate": "index=cspdarknet53_ArcFace_SGD_0.1_cosine_rank_by_id_val<br>Marker=0<br>Error=%{x}<br>Disparity=%{y}<extra></extra>",
         "legendgroup": "cspdarknet53_ArcFace_SGD_0.1_cosine_rank_by_id_val, 0",
         "marker": {
          "color": "#B6E880",
          "symbol": "circle"
         },
         "mode": "markers",
         "name": "cspdarknet53_ArcFace_SGD_0.1_cosine_rank_by_id_val, 0",
         "orientation": "v",
         "showlegend": true,
         "type": "scatter",
         "x": [
          0.16048978522786794
         ],
         "xaxis": "x",
         "y": [
          1.467784180199057
         ],
         "yaxis": "y"
        },
        {
         "hovertemplate": "index=cspdarknet53_CosFace_AdamW_0.001_cosine_rank_by_id_val<br>Marker=0<br>Error=%{x}<br>Disparity=%{y}<extra></extra>",
         "legendgroup": "cspdarknet53_CosFace_AdamW_0.001_cosine_rank_by_id_val, 0",
         "marker": {
          "color": "#FF97FF",
          "symbol": "circle"
         },
         "mode": "markers",
         "name": "cspdarknet53_CosFace_AdamW_0.001_cosine_rank_by_id_val, 0",
         "orientation": "v",
         "showlegend": true,
         "type": "scatter",
         "x": [
          0.22465950759559983
         ],
         "xaxis": "x",
         "y": [
          1.0137506547930855
         ],
         "yaxis": "y"
        },
        {
         "hovertemplate": "index=cspdarknet53_CosFace_SGD_0.1_cosine_rank_by_id_val<br>Marker=0<br>Error=%{x}<br>Disparity=%{y}<extra></extra>",
         "legendgroup": "cspdarknet53_CosFace_SGD_0.1_cosine_rank_by_id_val, 0",
         "marker": {
          "color": "#FECB52",
          "symbol": "circle"
         },
         "mode": "markers",
         "name": "cspdarknet53_CosFace_SGD_0.1_cosine_rank_by_id_val, 0",
         "orientation": "v",
         "showlegend": true,
         "type": "scatter",
         "x": [
          0.35640387637506543
         ],
         "xaxis": "x",
         "y": [
          5.974724986904139
         ],
         "yaxis": "y"
        },
        {
         "hovertemplate": "index=cspdarknet53_MagFace_AdamW_0.001_cosine_rank_by_id_val<br>Marker=0<br>Error=%{x}<br>Disparity=%{y}<extra></extra>",
         "legendgroup": "cspdarknet53_MagFace_AdamW_0.001_cosine_rank_by_id_val, 0",
         "marker": {
          "color": "#636efa",
          "symbol": "circle"
         },
         "mode": "markers",
         "name": "cspdarknet53_MagFace_AdamW_0.001_cosine_rank_by_id_val, 0",
         "orientation": "v",
         "showlegend": true,
         "type": "scatter",
         "x": [
          0.30330015715034053
         ],
         "xaxis": "x",
         "y": [
          2.8237297014143534
         ],
         "yaxis": "y"
        },
        {
         "hovertemplate": "index=cspdarknet53_MagFace_SGD_0.1_cosine_rank_by_id_val<br>Marker=0<br>Error=%{x}<br>Disparity=%{y}<extra></extra>",
         "legendgroup": "cspdarknet53_MagFace_SGD_0.1_cosine_rank_by_id_val, 0",
         "marker": {
          "color": "#EF553B",
          "symbol": "circle"
         },
         "mode": "markers",
         "name": "cspdarknet53_MagFace_SGD_0.1_cosine_rank_by_id_val, 0",
         "orientation": "v",
         "showlegend": true,
         "type": "scatter",
         "x": [
          0.15027501309586166
         ],
         "xaxis": "x",
         "y": [
          1.4190675746464119
         ],
         "yaxis": "y"
        },
        {
         "hovertemplate": "index=dla102x2_ArcFace_AdamW_0.001_cosine_rank_by_id_val<br>Marker=0<br>Error=%{x}<br>Disparity=%{y}<extra></extra>",
         "legendgroup": "dla102x2_ArcFace_AdamW_0.001_cosine_rank_by_id_val, 0",
         "marker": {
          "color": "#00cc96",
          "symbol": "circle"
         },
         "mode": "markers",
         "name": "dla102x2_ArcFace_AdamW_0.001_cosine_rank_by_id_val, 0",
         "orientation": "v",
         "showlegend": true,
         "type": "scatter",
         "x": [
          0.3768334206390781
         ],
         "xaxis": "x",
         "y": [
          3.0798847564169733
         ],
         "yaxis": "y"
        },
        {
         "hovertemplate": "index=dla102x2_CosFace_AdamW_0.001_cosine_rank_by_id_val<br>Marker=0<br>Error=%{x}<br>Disparity=%{y}<extra></extra>",
         "legendgroup": "dla102x2_CosFace_AdamW_0.001_cosine_rank_by_id_val, 0",
         "marker": {
          "color": "#ab63fa",
          "symbol": "circle"
         },
         "mode": "markers",
         "name": "dla102x2_CosFace_AdamW_0.001_cosine_rank_by_id_val, 0",
         "orientation": "v",
         "showlegend": true,
         "type": "scatter",
         "x": [
          0.20586694604504974
         ],
         "xaxis": "x",
         "y": [
          3.445128339444734
         ],
         "yaxis": "y"
        },
        {
         "hovertemplate": "index=dla102x2_MagFace_AdamW_0.001_cosine_rank_by_id_val<br>Marker=0<br>Error=%{x}<br>Disparity=%{y}<extra></extra>",
         "legendgroup": "dla102x2_MagFace_AdamW_0.001_cosine_rank_by_id_val, 0",
         "marker": {
          "color": "#FFA15A",
          "symbol": "circle"
         },
         "mode": "markers",
         "name": "dla102x2_MagFace_AdamW_0.001_cosine_rank_by_id_val, 0",
         "orientation": "v",
         "showlegend": true,
         "type": "scatter",
         "x": [
          0.3514929282346778
         ],
         "xaxis": "x",
         "y": [
          3.329622839182819
         ],
         "yaxis": "y"
        },
        {
         "hovertemplate": "index=dpn107_ArcFace_SGD_0.1_cosine_rank_by_id_val<br>Marker=0<br>Error=%{x}<br>Disparity=%{y}<extra></extra>",
         "legendgroup": "dpn107_ArcFace_SGD_0.1_cosine_rank_by_id_val, 0",
         "marker": {
          "color": "#19d3f3",
          "symbol": "circle"
         },
         "mode": "markers",
         "name": "dpn107_ArcFace_SGD_0.1_cosine_rank_by_id_val, 0",
         "orientation": "v",
         "showlegend": true,
         "type": "scatter",
         "x": [
          0.179020429544264
         ],
         "xaxis": "x",
         "y": [
          1.5608957569408073
         ],
         "yaxis": "y"
        },
        {
         "hovertemplate": "index=dpn107_CosFace_SGD_0.1_cosine_rank_by_id_val<br>Marker=0<br>Error=%{x}<br>Disparity=%{y}<extra></extra>",
         "legendgroup": "dpn107_CosFace_SGD_0.1_cosine_rank_by_id_val, 0",
         "marker": {
          "color": "#FF6692",
          "symbol": "circle"
         },
         "mode": "markers",
         "name": "dpn107_CosFace_SGD_0.1_cosine_rank_by_id_val, 0",
         "orientation": "v",
         "showlegend": true,
         "type": "scatter",
         "x": [
          0.036210057621791525
         ],
         "xaxis": "x",
         "y": [
          2.0417757988475644
         ],
         "yaxis": "y"
        },
        {
         "hovertemplate": "index=dpn107_MagFace_AdamW_0.001_cosine_rank_by_id_val<br>Marker=0<br>Error=%{x}<br>Disparity=%{y}<extra></extra>",
         "legendgroup": "dpn107_MagFace_AdamW_0.001_cosine_rank_by_id_val, 0",
         "marker": {
          "color": "#B6E880",
          "symbol": "circle"
         },
         "mode": "markers",
         "name": "dpn107_MagFace_AdamW_0.001_cosine_rank_by_id_val, 0",
         "orientation": "v",
         "showlegend": true,
         "type": "scatter",
         "x": [
          0.39228653745416453
         ],
         "xaxis": "x",
         "y": [
          4.08040859088528
         ],
         "yaxis": "y"
        },
        {
         "hovertemplate": "index=dpn107_MagFace_SGD_0.1_cosine_rank_by_id_val<br>Marker=0<br>Error=%{x}<br>Disparity=%{y}<extra></extra>",
         "legendgroup": "dpn107_MagFace_SGD_0.1_cosine_rank_by_id_val, 0",
         "marker": {
          "color": "#FF97FF",
          "symbol": "circle"
         },
         "mode": "markers",
         "name": "dpn107_MagFace_SGD_0.1_cosine_rank_by_id_val, 0",
         "orientation": "v",
         "showlegend": true,
         "type": "scatter",
         "x": [
          0.09749869041382919
         ],
         "xaxis": "x",
         "y": [
          1.2378208486118387
         ],
         "yaxis": "y"
        },
        {
         "hovertemplate": "index=ese_vovnet39b_ArcFace_AdamW_rank_by_id_val<br>Marker=0<br>Error=%{x}<br>Disparity=%{y}<extra></extra>",
         "legendgroup": "ese_vovnet39b_ArcFace_AdamW_rank_by_id_val, 0",
         "marker": {
          "color": "#FECB52",
          "symbol": "circle"
         },
         "mode": "markers",
         "name": "ese_vovnet39b_ArcFace_AdamW_rank_by_id_val, 0",
         "orientation": "v",
         "showlegend": true,
         "type": "scatter",
         "x": [
          0.23363017286537457
         ],
         "xaxis": "x",
         "y": [
          1.649423782084861
         ],
         "yaxis": "y"
        },
        {
         "hovertemplate": "index=ese_vovnet39b_ArcFace_AdamW_0.001_cosine_rank_by_id_val<br>Marker=0<br>Error=%{x}<br>Disparity=%{y}<extra></extra>",
         "legendgroup": "ese_vovnet39b_ArcFace_AdamW_0.001_cosine_rank_by_id_val, 0",
         "marker": {
          "color": "#636efa",
          "symbol": "circle"
         },
         "mode": "markers",
         "name": "ese_vovnet39b_ArcFace_AdamW_0.001_cosine_rank_by_id_val, 0",
         "orientation": "v",
         "showlegend": true,
         "type": "scatter",
         "x": [
          0.3231403876375065
         ],
         "xaxis": "x",
         "y": [
          2.320717653221582
         ],
         "yaxis": "y"
        },
        {
         "hovertemplate": "index=ese_vovnet39b_ArcFace_SGD_rank_by_id_val<br>Marker=0<br>Error=%{x}<br>Disparity=%{y}<extra></extra>",
         "legendgroup": "ese_vovnet39b_ArcFace_SGD_rank_by_id_val, 0",
         "marker": {
          "color": "#EF553B",
          "symbol": "circle"
         },
         "mode": "markers",
         "name": "ese_vovnet39b_ArcFace_SGD_rank_by_id_val, 0",
         "orientation": "v",
         "showlegend": true,
         "type": "scatter",
         "x": [
          0.3326348873755893
         ],
         "xaxis": "x",
         "y": [
          3.1301728653745418
         ],
         "yaxis": "y"
        },
        {
         "hovertemplate": "index=ese_vovnet39b_ArcFace_SGD_0.1_cosine_rank_by_id_val<br>Marker=0<br>Error=%{x}<br>Disparity=%{y}<extra></extra>",
         "legendgroup": "ese_vovnet39b_ArcFace_SGD_0.1_cosine_rank_by_id_val, 0",
         "marker": {
          "color": "#00cc96",
          "symbol": "circle"
         },
         "mode": "markers",
         "name": "ese_vovnet39b_ArcFace_SGD_0.1_cosine_rank_by_id_val, 0",
         "orientation": "v",
         "showlegend": true,
         "type": "scatter",
         "x": [
          0.31096123624934524
         ],
         "xaxis": "x",
         "y": [
          3.0680984808800424
         ],
         "yaxis": "y"
        },
        {
         "hovertemplate": "index=ese_vovnet39b_CosFace_Adam_rank_by_id_val<br>Marker=0<br>Error=%{x}<br>Disparity=%{y}<extra></extra>",
         "legendgroup": "ese_vovnet39b_CosFace_Adam_rank_by_id_val, 0",
         "marker": {
          "color": "#ab63fa",
          "symbol": "circle"
         },
         "mode": "markers",
         "name": "ese_vovnet39b_CosFace_Adam_rank_by_id_val, 0",
         "orientation": "v",
         "showlegend": true,
         "type": "scatter",
         "x": [
          0.984088528025144
         ],
         "xaxis": "x",
         "y": [
          18.412912519643783
         ],
         "yaxis": "y"
        },
        {
         "hovertemplate": "index=ese_vovnet39b_CosFace_AdamW_rank_by_id_val<br>Marker=0<br>Error=%{x}<br>Disparity=%{y}<extra></extra>",
         "legendgroup": "ese_vovnet39b_CosFace_AdamW_rank_by_id_val, 0",
         "marker": {
          "color": "#FFA15A",
          "symbol": "circle"
         },
         "mode": "markers",
         "name": "ese_vovnet39b_CosFace_AdamW_rank_by_id_val, 0",
         "orientation": "v",
         "showlegend": true,
         "type": "scatter",
         "x": [
          0.49273179675222634
         ],
         "xaxis": "x",
         "y": [
          4.011786275536931
         ],
         "yaxis": "y"
        },
        {
         "hovertemplate": "index=ese_vovnet39b_CosFace_AdamW_0.001_cosine_rank_by_id_val<br>Marker=0<br>Error=%{x}<br>Disparity=%{y}<extra></extra>",
         "legendgroup": "ese_vovnet39b_CosFace_AdamW_0.001_cosine_rank_by_id_val, 0",
         "marker": {
          "color": "#19d3f3",
          "symbol": "circle"
         },
         "mode": "markers",
         "name": "ese_vovnet39b_CosFace_AdamW_0.001_cosine_rank_by_id_val, 0",
         "orientation": "v",
         "showlegend": true,
         "type": "scatter",
         "x": [
          0.14333420639078054
         ],
         "xaxis": "x",
         "y": [
          0.4989523310633839
         ],
         "yaxis": "y"
        },
        {
         "hovertemplate": "index=ese_vovnet39b_CosFace_SGD_rank_by_id_val<br>Marker=0<br>Error=%{x}<br>Disparity=%{y}<extra></extra>",
         "legendgroup": "ese_vovnet39b_CosFace_SGD_rank_by_id_val, 0",
         "marker": {
          "color": "#FF6692",
          "symbol": "circle"
         },
         "mode": "markers",
         "name": "ese_vovnet39b_CosFace_SGD_rank_by_id_val, 0",
         "orientation": "v",
         "showlegend": true,
         "type": "scatter",
         "x": [
          0.1231011000523834
         ],
         "xaxis": "x",
         "y": [
          1.964379256155055
         ],
         "yaxis": "y"
        },
        {
         "hovertemplate": "index=ese_vovnet39b_CosFace_SGD_0.1_cosine_rank_by_id_val<br>Marker=0<br>Error=%{x}<br>Disparity=%{y}<extra></extra>",
         "legendgroup": "ese_vovnet39b_CosFace_SGD_0.1_cosine_rank_by_id_val, 0",
         "marker": {
          "color": "#B6E880",
          "symbol": "circle"
         },
         "mode": "markers",
         "name": "ese_vovnet39b_CosFace_SGD_0.1_cosine_rank_by_id_val, 0",
         "orientation": "v",
         "showlegend": true,
         "type": "scatter",
         "x": [
          0.11674960712414872
         ],
         "xaxis": "x",
         "y": [
          2.0036668412781564
         ],
         "yaxis": "y"
        },
        {
         "hovertemplate": "index=ese_vovnet39b_MagFace_AdamW_rank_by_id_val<br>Marker=0<br>Error=%{x}<br>Disparity=%{y}<extra></extra>",
         "legendgroup": "ese_vovnet39b_MagFace_AdamW_rank_by_id_val, 0",
         "marker": {
          "color": "#FF97FF",
          "symbol": "circle"
         },
         "mode": "markers",
         "name": "ese_vovnet39b_MagFace_AdamW_rank_by_id_val, 0",
         "orientation": "v",
         "showlegend": true,
         "type": "scatter",
         "x": [
          0.19080670508119435
         ],
         "xaxis": "x",
         "y": [
          1.8267417496071245
         ],
         "yaxis": "y"
        },
        {
         "hovertemplate": "index=ese_vovnet39b_MagFace_AdamW_0.001_cosine_rank_by_id_val<br>Marker=0<br>Error=%{x}<br>Disparity=%{y}<extra></extra>",
         "legendgroup": "ese_vovnet39b_MagFace_AdamW_0.001_cosine_rank_by_id_val, 0",
         "marker": {
          "color": "#FECB52",
          "symbol": "circle"
         },
         "mode": "markers",
         "name": "ese_vovnet39b_MagFace_AdamW_0.001_cosine_rank_by_id_val, 0",
         "orientation": "v",
         "showlegend": true,
         "type": "scatter",
         "x": [
          0.29891304347826086
         ],
         "xaxis": "x",
         "y": [
          2.8673389209009956
         ],
         "yaxis": "y"
        },
        {
         "hovertemplate": "index=ese_vovnet39b_MagFace_SGD_rank_by_id_val<br>Marker=0<br>Error=%{x}<br>Disparity=%{y}<extra></extra>",
         "legendgroup": "ese_vovnet39b_MagFace_SGD_rank_by_id_val, 0",
         "marker": {
          "color": "#636efa",
          "symbol": "circle"
         },
         "mode": "markers",
         "name": "ese_vovnet39b_MagFace_SGD_rank_by_id_val, 0",
         "orientation": "v",
         "showlegend": true,
         "type": "scatter",
         "x": [
          0.34435568360398117
         ],
         "xaxis": "x",
         "y": [
          3.695521215295966
         ],
         "yaxis": "y"
        },
        {
         "hovertemplate": "index=ese_vovnet39b_MagFace_SGD_0.1_cosine_rank_by_id_val<br>Marker=0<br>Error=%{x}<br>Disparity=%{y}<extra></extra>",
         "legendgroup": "ese_vovnet39b_MagFace_SGD_0.1_cosine_rank_by_id_val, 0",
         "marker": {
          "color": "#EF553B",
          "symbol": "circle"
         },
         "mode": "markers",
         "name": "ese_vovnet39b_MagFace_SGD_0.1_cosine_rank_by_id_val, 0",
         "orientation": "v",
         "showlegend": true,
         "type": "scatter",
         "x": [
          0.35758250392875857
         ],
         "xaxis": "x",
         "y": [
          3.6186485070717653
         ],
         "yaxis": "y"
        },
        {
         "hovertemplate": "index=fbnetv3_g_ArcFace_AdamW_0.001_cosine_rank_by_id_val<br>Marker=0<br>Error=%{x}<br>Disparity=%{y}<extra></extra>",
         "legendgroup": "fbnetv3_g_ArcFace_AdamW_0.001_cosine_rank_by_id_val, 0",
         "marker": {
          "color": "#00cc96",
          "symbol": "circle"
         },
         "mode": "markers",
         "name": "fbnetv3_g_ArcFace_AdamW_0.001_cosine_rank_by_id_val, 0",
         "orientation": "v",
         "showlegend": true,
         "type": "scatter",
         "x": [
          0.5615505500261917
         ],
         "xaxis": "x",
         "y": [
          12.744892613933997
         ],
         "yaxis": "y"
        },
        {
         "hovertemplate": "index=fbnetv3_g_ArcFace_SGD_rank_by_id_val<br>Marker=0<br>Error=%{x}<br>Disparity=%{y}<extra></extra>",
         "legendgroup": "fbnetv3_g_ArcFace_SGD_rank_by_id_val, 0",
         "marker": {
          "color": "#ab63fa",
          "symbol": "circle"
         },
         "mode": "markers",
         "name": "fbnetv3_g_ArcFace_SGD_rank_by_id_val, 0",
         "orientation": "v",
         "showlegend": true,
         "type": "scatter",
         "x": [
          0.3662257726558408
         ],
         "xaxis": "x",
         "y": [
          4.190544787847039
         ],
         "yaxis": "y"
        },
        {
         "hovertemplate": "index=fbnetv3_g_ArcFace_SGD_0.1_cosine_rank_by_id_val<br>Marker=0<br>Error=%{x}<br>Disparity=%{y}<extra></extra>",
         "legendgroup": "fbnetv3_g_ArcFace_SGD_0.1_cosine_rank_by_id_val, 0",
         "marker": {
          "color": "#FFA15A",
          "symbol": "circle"
         },
         "mode": "markers",
         "name": "fbnetv3_g_ArcFace_SGD_0.1_cosine_rank_by_id_val, 0",
         "orientation": "v",
         "showlegend": true,
         "type": "scatter",
         "x": [
          0.39831063383970666
         ],
         "xaxis": "x",
         "y": [
          3.609350445259298
         ],
         "yaxis": "y"
        },
        {
         "hovertemplate": "index=fbnetv3_g_CosFace_Adam_rank_by_id_val<br>Marker=0<br>Error=%{x}<br>Disparity=%{y}<extra></extra>",
         "legendgroup": "fbnetv3_g_CosFace_Adam_rank_by_id_val, 0",
         "marker": {
          "color": "#19d3f3",
          "symbol": "circle"
         },
         "mode": "markers",
         "name": "fbnetv3_g_CosFace_Adam_rank_by_id_val, 0",
         "orientation": "v",
         "showlegend": true,
         "type": "scatter",
         "x": [
          0.9956783656364588
         ],
         "xaxis": "x",
         "y": [
          7.952592980618135
         ],
         "yaxis": "y"
        },
        {
         "hovertemplate": "index=fbnetv3_g_CosFace_AdamW_rank_by_id_val<br>Marker=0<br>Error=%{x}<br>Disparity=%{y}<extra></extra>",
         "legendgroup": "fbnetv3_g_CosFace_AdamW_rank_by_id_val, 0",
         "marker": {
          "color": "#FF6692",
          "symbol": "circle"
         },
         "mode": "markers",
         "name": "fbnetv3_g_CosFace_AdamW_rank_by_id_val, 0",
         "orientation": "v",
         "showlegend": true,
         "type": "scatter",
         "x": [
          0.606338397066527
         ],
         "xaxis": "x",
         "y": [
          5.958486118386588
         ],
         "yaxis": "y"
        },
        {
         "hovertemplate": "index=fbnetv3_g_CosFace_AdamW_0.001_cosine_rank_by_id_val<br>Marker=0<br>Error=%{x}<br>Disparity=%{y}<extra></extra>",
         "legendgroup": "fbnetv3_g_CosFace_AdamW_0.001_cosine_rank_by_id_val, 0",
         "marker": {
          "color": "#B6E880",
          "symbol": "circle"
         },
         "mode": "markers",
         "name": "fbnetv3_g_CosFace_AdamW_0.001_cosine_rank_by_id_val, 0",
         "orientation": "v",
         "showlegend": true,
         "type": "scatter",
         "x": [
          0.3806966998428497
         ],
         "xaxis": "x",
         "y": [
          2.1375065479308546
         ],
         "yaxis": "y"
        },
        {
         "hovertemplate": "index=fbnetv3_g_CosFace_SGD_rank_by_id_val<br>Marker=0<br>Error=%{x}<br>Disparity=%{y}<extra></extra>",
         "legendgroup": "fbnetv3_g_CosFace_SGD_rank_by_id_val, 0",
         "marker": {
          "color": "#FF97FF",
          "symbol": "circle"
         },
         "mode": "markers",
         "name": "fbnetv3_g_CosFace_SGD_rank_by_id_val, 0",
         "orientation": "v",
         "showlegend": true,
         "type": "scatter",
         "x": [
          0.19545573598742794
         ],
         "xaxis": "x",
         "y": [
          1.7902042954426403
         ],
         "yaxis": "y"
        },
        {
         "hovertemplate": "index=fbnetv3_g_CosFace_SGD_0.1_cosine_rank_by_id_val<br>Marker=0<br>Error=%{x}<br>Disparity=%{y}<extra></extra>",
         "legendgroup": "fbnetv3_g_CosFace_SGD_0.1_cosine_rank_by_id_val, 0",
         "marker": {
          "color": "#FECB52",
          "symbol": "circle"
         },
         "mode": "markers",
         "name": "fbnetv3_g_CosFace_SGD_0.1_cosine_rank_by_id_val, 0",
         "orientation": "v",
         "showlegend": true,
         "type": "scatter",
         "x": [
          0.16644840230487168
         ],
         "xaxis": "x",
         "y": [
          1.5316919853326345
         ],
         "yaxis": "y"
        },
        {
         "hovertemplate": "index=fbnetv3_g_MagFace_AdamW_rank_by_id_val<br>Marker=0<br>Error=%{x}<br>Disparity=%{y}<extra></extra>",
         "legendgroup": "fbnetv3_g_MagFace_AdamW_rank_by_id_val, 0",
         "marker": {
          "color": "#636efa",
          "symbol": "circle"
         },
         "mode": "markers",
         "name": "fbnetv3_g_MagFace_AdamW_rank_by_id_val, 0",
         "orientation": "v",
         "showlegend": true,
         "type": "scatter",
         "x": [
          0.2699057097957046
         ],
         "xaxis": "x",
         "y": [
          2.4812729177579884
         ],
         "yaxis": "y"
        },
        {
         "hovertemplate": "index=fbnetv3_g_MagFace_AdamW_0.001_cosine_rank_by_id_val<br>Marker=0<br>Error=%{x}<br>Disparity=%{y}<extra></extra>",
         "legendgroup": "fbnetv3_g_MagFace_AdamW_0.001_cosine_rank_by_id_val, 0",
         "marker": {
          "color": "#EF553B",
          "symbol": "circle"
         },
         "mode": "markers",
         "name": "fbnetv3_g_MagFace_AdamW_0.001_cosine_rank_by_id_val, 0",
         "orientation": "v",
         "showlegend": true,
         "type": "scatter",
         "x": [
          0.3882922996333159
         ],
         "xaxis": "x",
         "y": [
          3.684389732844421
         ],
         "yaxis": "y"
        },
        {
         "hovertemplate": "index=fbnetv3_g_MagFace_SGD_rank_by_id_val<br>Marker=0<br>Error=%{x}<br>Disparity=%{y}<extra></extra>",
         "legendgroup": "fbnetv3_g_MagFace_SGD_rank_by_id_val, 0",
         "marker": {
          "color": "#00cc96",
          "symbol": "circle"
         },
         "mode": "markers",
         "name": "fbnetv3_g_MagFace_SGD_rank_by_id_val, 0",
         "orientation": "v",
         "showlegend": true,
         "type": "scatter",
         "x": [
          0.44440806705081193
         ],
         "xaxis": "x",
         "y": [
          5.508643268727082
         ],
         "yaxis": "y"
        },
        {
         "hovertemplate": "index=fbnetv3_g_MagFace_SGD_0.1_cosine_rank_by_id_val<br>Marker=0<br>Error=%{x}<br>Disparity=%{y}<extra></extra>",
         "legendgroup": "fbnetv3_g_MagFace_SGD_0.1_cosine_rank_by_id_val, 0",
         "marker": {
          "color": "#ab63fa",
          "symbol": "circle"
         },
         "mode": "markers",
         "name": "fbnetv3_g_MagFace_SGD_0.1_cosine_rank_by_id_val, 0",
         "orientation": "v",
         "showlegend": true,
         "type": "scatter",
         "x": [
          0.40669198533263484
         ],
         "xaxis": "x",
         "y": [
          3.232713462545836
         ],
         "yaxis": "y"
        },
        {
         "hovertemplate": "index=ghostnet_100_ArcFace_AdamW_0.001_cosine_rank_by_id_val<br>Marker=0<br>Error=%{x}<br>Disparity=%{y}<extra></extra>",
         "legendgroup": "ghostnet_100_ArcFace_AdamW_0.001_cosine_rank_by_id_val, 0",
         "marker": {
          "color": "#FFA15A",
          "symbol": "circle"
         },
         "mode": "markers",
         "name": "ghostnet_100_ArcFace_AdamW_0.001_cosine_rank_by_id_val, 0",
         "orientation": "v",
         "showlegend": true,
         "type": "scatter",
         "x": [
          0.9431639601885804
         ],
         "xaxis": "x",
         "y": [
          30.190675746464123
         ],
         "yaxis": "y"
        },
        {
         "hovertemplate": "index=ghostnet_100_MagFace_AdamW_0.001_cosine_rank_by_id_val<br>Marker=0<br>Error=%{x}<br>Disparity=%{y}<extra></extra>",
         "legendgroup": "ghostnet_100_MagFace_AdamW_0.001_cosine_rank_by_id_val, 0",
         "marker": {
          "color": "#19d3f3",
          "symbol": "circle"
         },
         "mode": "markers",
         "name": "ghostnet_100_MagFace_AdamW_0.001_cosine_rank_by_id_val, 0",
         "orientation": "v",
         "showlegend": true,
         "type": "scatter",
         "x": [
          0.6428103719224725
         ],
         "xaxis": "x",
         "y": [
          5.761131482451546
         ],
         "yaxis": "y"
        },
        {
         "hovertemplate": "index=gluon_inception_v3_ArcFace_AdamW_rank_by_id_val<br>Marker=0<br>Error=%{x}<br>Disparity=%{y}<extra></extra>",
         "legendgroup": "gluon_inception_v3_ArcFace_AdamW_rank_by_id_val, 0",
         "marker": {
          "color": "#FF6692",
          "symbol": "circle"
         },
         "mode": "markers",
         "name": "gluon_inception_v3_ArcFace_AdamW_rank_by_id_val, 0",
         "orientation": "v",
         "showlegend": true,
         "type": "scatter",
         "x": [
          0.28097171293871137
         ],
         "xaxis": "x",
         "y": [
          2.263357778941854
         ],
         "yaxis": "y"
        },
        {
         "hovertemplate": "index=gluon_inception_v3_ArcFace_AdamW_0.001_cosine_rank_by_id_val<br>Marker=0<br>Error=%{x}<br>Disparity=%{y}<extra></extra>",
         "legendgroup": "gluon_inception_v3_ArcFace_AdamW_0.001_cosine_rank_by_id_val, 0",
         "marker": {
          "color": "#B6E880",
          "symbol": "circle"
         },
         "mode": "markers",
         "name": "gluon_inception_v3_ArcFace_AdamW_0.001_cosine_rank_by_id_val, 0",
         "orientation": "v",
         "showlegend": true,
         "type": "scatter",
         "x": [
          0.27691199580932424
         ],
         "xaxis": "x",
         "y": [
          1.158067050811943
         ],
         "yaxis": "y"
        },
        {
         "hovertemplate": "index=gluon_inception_v3_ArcFace_SGD_rank_by_id_val<br>Marker=0<br>Error=%{x}<br>Disparity=%{y}<extra></extra>",
         "legendgroup": "gluon_inception_v3_ArcFace_SGD_rank_by_id_val, 0",
         "marker": {
          "color": "#FF97FF",
          "symbol": "circle"
         },
         "mode": "markers",
         "name": "gluon_inception_v3_ArcFace_SGD_rank_by_id_val, 0",
         "orientation": "v",
         "showlegend": true,
         "type": "scatter",
         "x": [
          0.28935306443163955
         ],
         "xaxis": "x",
         "y": [
          3.1516500785751704
         ],
         "yaxis": "y"
        },
        {
         "hovertemplate": "index=gluon_inception_v3_ArcFace_SGD_0.1_cosine_rank_by_id_val<br>Marker=0<br>Error=%{x}<br>Disparity=%{y}<extra></extra>",
         "legendgroup": "gluon_inception_v3_ArcFace_SGD_0.1_cosine_rank_by_id_val, 0",
         "marker": {
          "color": "#FECB52",
          "symbol": "circle"
         },
         "mode": "markers",
         "name": "gluon_inception_v3_ArcFace_SGD_0.1_cosine_rank_by_id_val, 0",
         "orientation": "v",
         "showlegend": true,
         "type": "scatter",
         "x": [
          0.3863933996856993
         ],
         "xaxis": "x",
         "y": [
          4.108171817705605
         ],
         "yaxis": "y"
        },
        {
         "hovertemplate": "index=gluon_inception_v3_CosFace_Adam_rank_by_id_val<br>Marker=0<br>Error=%{x}<br>Disparity=%{y}<extra></extra>",
         "legendgroup": "gluon_inception_v3_CosFace_Adam_rank_by_id_val, 0",
         "marker": {
          "color": "#636efa",
          "symbol": "circle"
         },
         "mode": "markers",
         "name": "gluon_inception_v3_CosFace_Adam_rank_by_id_val, 0",
         "orientation": "v",
         "showlegend": true,
         "type": "scatter",
         "x": [
          0.9962676794133054
         ],
         "xaxis": "x",
         "y": [
          19.663436354112093
         ],
         "yaxis": "y"
        },
        {
         "hovertemplate": "index=gluon_inception_v3_CosFace_AdamW_rank_by_id_val<br>Marker=0<br>Error=%{x}<br>Disparity=%{y}<extra></extra>",
         "legendgroup": "gluon_inception_v3_CosFace_AdamW_rank_by_id_val, 0",
         "marker": {
          "color": "#EF553B",
          "symbol": "circle"
         },
         "mode": "markers",
         "name": "gluon_inception_v3_CosFace_AdamW_rank_by_id_val, 0",
         "orientation": "v",
         "showlegend": true,
         "type": "scatter",
         "x": [
          0.5481272917757989
         ],
         "xaxis": "x",
         "y": [
          5.415793609219486
         ],
         "yaxis": "y"
        },
        {
         "hovertemplate": "index=gluon_inception_v3_CosFace_AdamW_0.001_cosine_rank_by_id_val<br>Marker=0<br>Error=%{x}<br>Disparity=%{y}<extra></extra>",
         "legendgroup": "gluon_inception_v3_CosFace_AdamW_0.001_cosine_rank_by_id_val, 0",
         "marker": {
          "color": "#00cc96",
          "symbol": "circle"
         },
         "mode": "markers",
         "name": "gluon_inception_v3_CosFace_AdamW_0.001_cosine_rank_by_id_val, 0",
         "orientation": "v",
         "showlegend": true,
         "type": "scatter",
         "x": [
          0.44178889470927185
         ],
         "xaxis": "x",
         "y": [
          6.246333158721843
         ],
         "yaxis": "y"
        },
        {
         "hovertemplate": "index=gluon_inception_v3_CosFace_SGD_rank_by_id_val<br>Marker=0<br>Error=%{x}<br>Disparity=%{y}<extra></extra>",
         "legendgroup": "gluon_inception_v3_CosFace_SGD_rank_by_id_val, 0",
         "marker": {
          "color": "#ab63fa",
          "symbol": "circle"
         },
         "mode": "markers",
         "name": "gluon_inception_v3_CosFace_SGD_rank_by_id_val, 0",
         "orientation": "v",
         "showlegend": true,
         "type": "scatter",
         "x": [
          0.27219748559455215
         ],
         "xaxis": "x",
         "y": [
          2.28143006809848
         ],
         "yaxis": "y"
        },
        {
         "hovertemplate": "index=gluon_inception_v3_CosFace_SGD_0.1_cosine_rank_by_id_val<br>Marker=0<br>Error=%{x}<br>Disparity=%{y}<extra></extra>",
         "legendgroup": "gluon_inception_v3_CosFace_SGD_0.1_cosine_rank_by_id_val, 0",
         "marker": {
          "color": "#FFA15A",
          "symbol": "circle"
         },
         "mode": "markers",
         "name": "gluon_inception_v3_CosFace_SGD_0.1_cosine_rank_by_id_val, 0",
         "orientation": "v",
         "showlegend": true,
         "type": "scatter",
         "x": [
          0.3713986380303824
         ],
         "xaxis": "x",
         "y": [
          3.9279727606076484
         ],
         "yaxis": "y"
        },
        {
         "hovertemplate": "index=gluon_inception_v3_MagFace_AdamW_rank_by_id_val<br>Marker=0<br>Error=%{x}<br>Disparity=%{y}<extra></extra>",
         "legendgroup": "gluon_inception_v3_MagFace_AdamW_rank_by_id_val, 0",
         "marker": {
          "color": "#19d3f3",
          "symbol": "circle"
         },
         "mode": "markers",
         "name": "gluon_inception_v3_MagFace_AdamW_rank_by_id_val, 0",
         "orientation": "v",
         "showlegend": true,
         "type": "scatter",
         "x": [
          0.23703509690937663
         ],
         "xaxis": "x",
         "y": [
          2.219486642221058
         ],
         "yaxis": "y"
        },
        {
         "hovertemplate": "index=gluon_inception_v3_MagFace_AdamW_0.001_cosine_rank_by_id_val<br>Marker=0<br>Error=%{x}<br>Disparity=%{y}<extra></extra>",
         "legendgroup": "gluon_inception_v3_MagFace_AdamW_0.001_cosine_rank_by_id_val, 0",
         "marker": {
          "color": "#FF6692",
          "symbol": "circle"
         },
         "mode": "markers",
         "name": "gluon_inception_v3_MagFace_AdamW_0.001_cosine_rank_by_id_val, 0",
         "orientation": "v",
         "showlegend": true,
         "type": "scatter",
         "x": [
          0.3370874803562074
         ],
         "xaxis": "x",
         "y": [
          2.582372970141436
         ],
         "yaxis": "y"
        },
        {
         "hovertemplate": "index=gluon_inception_v3_MagFace_SGD_rank_by_id_val<br>Marker=0<br>Error=%{x}<br>Disparity=%{y}<extra></extra>",
         "legendgroup": "gluon_inception_v3_MagFace_SGD_rank_by_id_val, 0",
         "marker": {
          "color": "#B6E880",
          "symbol": "circle"
         },
         "mode": "markers",
         "name": "gluon_inception_v3_MagFace_SGD_rank_by_id_val, 0",
         "orientation": "v",
         "showlegend": true,
         "type": "scatter",
         "x": [
          0.30624672603457304
         ],
         "xaxis": "x",
         "y": [
          2.894185437401781
         ],
         "yaxis": "y"
        },
        {
         "hovertemplate": "index=gluon_inception_v3_MagFace_SGD_0.1_cosine_rank_by_id_val<br>Marker=0<br>Error=%{x}<br>Disparity=%{y}<extra></extra>",
         "legendgroup": "gluon_inception_v3_MagFace_SGD_0.1_cosine_rank_by_id_val, 0",
         "marker": {
          "color": "#FF97FF",
          "symbol": "circle"
         },
         "mode": "markers",
         "name": "gluon_inception_v3_MagFace_SGD_0.1_cosine_rank_by_id_val, 0",
         "orientation": "v",
         "showlegend": true,
         "type": "scatter",
         "x": [
          0.3553562074384494
         ],
         "xaxis": "x",
         "y": [
          2.6191723415400725
         ],
         "yaxis": "y"
        },
        {
         "hovertemplate": "index=gluon_xception65_ArcFace_AdamW_rank_by_id_val<br>Marker=0<br>Error=%{x}<br>Disparity=%{y}<extra></extra>",
         "legendgroup": "gluon_xception65_ArcFace_AdamW_rank_by_id_val, 0",
         "marker": {
          "color": "#FECB52",
          "symbol": "circle"
         },
         "mode": "markers",
         "name": "gluon_xception65_ArcFace_AdamW_rank_by_id_val, 0",
         "orientation": "v",
         "showlegend": true,
         "type": "scatter",
         "x": [
          0.3975248821372447
         ],
         "xaxis": "x",
         "y": [
          2.015191199580933
         ],
         "yaxis": "y"
        },
        {
         "hovertemplate": "index=gluon_xception65_ArcFace_AdamW_0.001_cosine_rank_by_id_val<br>Marker=0<br>Error=%{x}<br>Disparity=%{y}<extra></extra>",
         "legendgroup": "gluon_xception65_ArcFace_AdamW_0.001_cosine_rank_by_id_val, 0",
         "marker": {
          "color": "#636efa",
          "symbol": "circle"
         },
         "mode": "markers",
         "name": "gluon_xception65_ArcFace_AdamW_0.001_cosine_rank_by_id_val, 0",
         "orientation": "v",
         "showlegend": true,
         "type": "scatter",
         "x": [
          0.41330539549502354
         ],
         "xaxis": "x",
         "y": [
          3.6017548454688324
         ],
         "yaxis": "y"
        },
        {
         "hovertemplate": "index=gluon_xception65_ArcFace_SGD_rank_by_id_val<br>Marker=0<br>Error=%{x}<br>Disparity=%{y}<extra></extra>",
         "legendgroup": "gluon_xception65_ArcFace_SGD_rank_by_id_val, 0",
         "marker": {
          "color": "#EF553B",
          "symbol": "circle"
         },
         "mode": "markers",
         "name": "gluon_xception65_ArcFace_SGD_rank_by_id_val, 0",
         "orientation": "v",
         "showlegend": true,
         "type": "scatter",
         "x": [
          0.38213724463069665
         ],
         "xaxis": "x",
         "y": [
          3.534180199057099
         ],
         "yaxis": "y"
        },
        {
         "hovertemplate": "index=gluon_xception65_ArcFace_SGD_0.1_cosine_rank_by_id_val<br>Marker=0<br>Error=%{x}<br>Disparity=%{y}<extra></extra>",
         "legendgroup": "gluon_xception65_ArcFace_SGD_0.1_cosine_rank_by_id_val, 0",
         "marker": {
          "color": "#00cc96",
          "symbol": "circle"
         },
         "mode": "markers",
         "name": "gluon_xception65_ArcFace_SGD_0.1_cosine_rank_by_id_val, 0",
         "orientation": "v",
         "showlegend": true,
         "type": "scatter",
         "x": [
          0.25157150340492407
         ],
         "xaxis": "x",
         "y": [
          2.542954426401257
         ],
         "yaxis": "y"
        },
        {
         "hovertemplate": "index=gluon_xception65_CosFace_AdamW_rank_by_id_val<br>Marker=0<br>Error=%{x}<br>Disparity=%{y}<extra></extra>",
         "legendgroup": "gluon_xception65_CosFace_AdamW_rank_by_id_val, 0",
         "marker": {
          "color": "#ab63fa",
          "symbol": "circle"
         },
         "mode": "markers",
         "name": "gluon_xception65_CosFace_AdamW_rank_by_id_val, 0",
         "orientation": "v",
         "showlegend": true,
         "type": "scatter",
         "x": [
          0.6073860660031429
         ],
         "xaxis": "x",
         "y": [
          10.092587742273437
         ],
         "yaxis": "y"
        },
        {
         "hovertemplate": "index=gluon_xception65_CosFace_AdamW_0.001_cosine_rank_by_id_val<br>Marker=0<br>Error=%{x}<br>Disparity=%{y}<extra></extra>",
         "legendgroup": "gluon_xception65_CosFace_AdamW_0.001_cosine_rank_by_id_val, 0",
         "marker": {
          "color": "#FFA15A",
          "symbol": "circle"
         },
         "mode": "markers",
         "name": "gluon_xception65_CosFace_AdamW_0.001_cosine_rank_by_id_val, 0",
         "orientation": "v",
         "showlegend": true,
         "type": "scatter",
         "x": [
          0.6997773703509691
         ],
         "xaxis": "x",
         "y": [
          8.418674698795186
         ],
         "yaxis": "y"
        },
        {
         "hovertemplate": "index=gluon_xception65_CosFace_SGD_rank_by_id_val<br>Marker=0<br>Error=%{x}<br>Disparity=%{y}<extra></extra>",
         "legendgroup": "gluon_xception65_CosFace_SGD_rank_by_id_val, 0",
         "marker": {
          "color": "#19d3f3",
          "symbol": "circle"
         },
         "mode": "markers",
         "name": "gluon_xception65_CosFace_SGD_rank_by_id_val, 0",
         "orientation": "v",
         "showlegend": true,
         "type": "scatter",
         "x": [
          0.31482451545311685
         ],
         "xaxis": "x",
         "y": [
          4.567705605028811
         ],
         "yaxis": "y"
        },
        {
         "hovertemplate": "index=gluon_xception65_CosFace_SGD_0.1_cosine_rank_by_id_val<br>Marker=0<br>Error=%{x}<br>Disparity=%{y}<extra></extra>",
         "legendgroup": "gluon_xception65_CosFace_SGD_0.1_cosine_rank_by_id_val, 0",
         "marker": {
          "color": "#FF6692",
          "symbol": "circle"
         },
         "mode": "markers",
         "name": "gluon_xception65_CosFace_SGD_0.1_cosine_rank_by_id_val, 0",
         "orientation": "v",
         "showlegend": true,
         "type": "scatter",
         "x": [
          0.33577789418543735
         ],
         "xaxis": "x",
         "y": [
          0.7252488213724462
         ],
         "yaxis": "y"
        },
        {
         "hovertemplate": "index=gluon_xception65_MagFace_AdamW_rank_by_id_val<br>Marker=0<br>Error=%{x}<br>Disparity=%{y}<extra></extra>",
         "legendgroup": "gluon_xception65_MagFace_AdamW_rank_by_id_val, 0",
         "marker": {
          "color": "#B6E880",
          "symbol": "circle"
         },
         "mode": "markers",
         "name": "gluon_xception65_MagFace_AdamW_rank_by_id_val, 0",
         "orientation": "v",
         "showlegend": true,
         "type": "scatter",
         "x": [
          0.3418674698795181
         ],
         "xaxis": "x",
         "y": [
          8.735725510738607
         ],
         "yaxis": "y"
        },
        {
         "hovertemplate": "index=gluon_xception65_MagFace_AdamW_0.001_cosine_rank_by_id_val<br>Marker=0<br>Error=%{x}<br>Disparity=%{y}<extra></extra>",
         "legendgroup": "gluon_xception65_MagFace_AdamW_0.001_cosine_rank_by_id_val, 0",
         "marker": {
          "color": "#FF97FF",
          "symbol": "circle"
         },
         "mode": "markers",
         "name": "gluon_xception65_MagFace_AdamW_0.001_cosine_rank_by_id_val, 0",
         "orientation": "v",
         "showlegend": true,
         "type": "scatter",
         "x": [
          0.3748035620743845
         ],
         "xaxis": "x",
         "y": [
          3.2832634887375587
         ],
         "yaxis": "y"
        },
        {
         "hovertemplate": "index=gluon_xception65_MagFace_SGD_rank_by_id_val<br>Marker=0<br>Error=%{x}<br>Disparity=%{y}<extra></extra>",
         "legendgroup": "gluon_xception65_MagFace_SGD_rank_by_id_val, 0",
         "marker": {
          "color": "#FECB52",
          "symbol": "circle"
         },
         "mode": "markers",
         "name": "gluon_xception65_MagFace_SGD_rank_by_id_val, 0",
         "orientation": "v",
         "showlegend": true,
         "type": "scatter",
         "x": [
          0.35954688318491357
         ],
         "xaxis": "x",
         "y": [
          3.011262441068622
         ],
         "yaxis": "y"
        },
        {
         "hovertemplate": "index=gluon_xception65_MagFace_SGD_0.1_cosine_rank_by_id_val<br>Marker=0<br>Error=%{x}<br>Disparity=%{y}<extra></extra>",
         "legendgroup": "gluon_xception65_MagFace_SGD_0.1_cosine_rank_by_id_val, 0",
         "marker": {
          "color": "#636efa",
          "symbol": "circle"
         },
         "mode": "markers",
         "name": "gluon_xception65_MagFace_SGD_0.1_cosine_rank_by_id_val, 0",
         "orientation": "v",
         "showlegend": true,
         "type": "scatter",
         "x": [
          0.35954688318491357
         ],
         "xaxis": "x",
         "y": [
          3.011262441068622
         ],
         "yaxis": "y"
        },
        {
         "hovertemplate": "index=hrnet_w64_ArcFace_AdamW_0.001_cosine_rank_by_id_val<br>Marker=0<br>Error=%{x}<br>Disparity=%{y}<extra></extra>",
         "legendgroup": "hrnet_w64_ArcFace_AdamW_0.001_cosine_rank_by_id_val, 0",
         "marker": {
          "color": "#EF553B",
          "symbol": "circle"
         },
         "mode": "markers",
         "name": "hrnet_w64_ArcFace_AdamW_0.001_cosine_rank_by_id_val, 0",
         "orientation": "v",
         "showlegend": true,
         "type": "scatter",
         "x": [
          0.41062074384494496
         ],
         "xaxis": "x",
         "y": [
          3.6572812991094814
         ],
         "yaxis": "y"
        },
        {
         "hovertemplate": "index=hrnet_w64_ArcFace_SGD_0.1_cosine_rank_by_id_val<br>Marker=0<br>Error=%{x}<br>Disparity=%{y}<extra></extra>",
         "legendgroup": "hrnet_w64_ArcFace_SGD_0.1_cosine_rank_by_id_val, 0",
         "marker": {
          "color": "#00cc96",
          "symbol": "circle"
         },
         "mode": "markers",
         "name": "hrnet_w64_ArcFace_SGD_0.1_cosine_rank_by_id_val, 0",
         "orientation": "v",
         "showlegend": true,
         "type": "scatter",
         "x": [
          0.29400209533787325
         ],
         "xaxis": "x",
         "y": [
          2.732582503928759
         ],
         "yaxis": "y"
        },
        {
         "hovertemplate": "index=hrnet_w64_CosFace_AdamW_0.001_cosine_rank_by_id_val<br>Marker=0<br>Error=%{x}<br>Disparity=%{y}<extra></extra>",
         "legendgroup": "hrnet_w64_CosFace_AdamW_0.001_cosine_rank_by_id_val, 0",
         "marker": {
          "color": "#ab63fa",
          "symbol": "circle"
         },
         "mode": "markers",
         "name": "hrnet_w64_CosFace_AdamW_0.001_cosine_rank_by_id_val, 0",
         "orientation": "v",
         "showlegend": true,
         "type": "scatter",
         "x": [
          0.2092063907805134
         ],
         "xaxis": "x",
         "y": [
          11.224201152435832
         ],
         "yaxis": "y"
        },
        {
         "hovertemplate": "index=hrnet_w64_CosFace_SGD_0.1_cosine_rank_by_id_val<br>Marker=0<br>Error=%{x}<br>Disparity=%{y}<extra></extra>",
         "legendgroup": "hrnet_w64_CosFace_SGD_0.1_cosine_rank_by_id_val, 0",
         "marker": {
          "color": "#FFA15A",
          "symbol": "circle"
         },
         "mode": "markers",
         "name": "hrnet_w64_CosFace_SGD_0.1_cosine_rank_by_id_val, 0",
         "orientation": "v",
         "showlegend": true,
         "type": "scatter",
         "x": [
          0.12048192771084343
         ],
         "xaxis": "x",
         "y": [
          2.048847564169722
         ],
         "yaxis": "y"
        },
        {
         "hovertemplate": "index=hrnet_w64_MagFace_SGD_0.1_cosine_rank_by_id_val<br>Marker=0<br>Error=%{x}<br>Disparity=%{y}<extra></extra>",
         "legendgroup": "hrnet_w64_MagFace_SGD_0.1_cosine_rank_by_id_val, 0",
         "marker": {
          "color": "#19d3f3",
          "symbol": "circle"
         },
         "mode": "markers",
         "name": "hrnet_w64_MagFace_SGD_0.1_cosine_rank_by_id_val, 0",
         "orientation": "v",
         "showlegend": true,
         "type": "scatter",
         "x": [
          0.2527501309586171
         ],
         "xaxis": "x",
         "y": [
          2.170508119434259
         ],
         "yaxis": "y"
        },
        {
         "hovertemplate": "index=ig_resnext101_32x8d_ArcFace_AdamW_rank_by_id_val<br>Marker=0<br>Error=%{x}<br>Disparity=%{y}<extra></extra>",
         "legendgroup": "ig_resnext101_32x8d_ArcFace_AdamW_rank_by_id_val, 0",
         "marker": {
          "color": "#FF6692",
          "symbol": "circle"
         },
         "mode": "markers",
         "name": "ig_resnext101_32x8d_ArcFace_AdamW_rank_by_id_val, 0",
         "orientation": "v",
         "showlegend": true,
         "type": "scatter",
         "x": [
          0.340950759559979
         ],
         "xaxis": "x",
         "y": [
          4.529203771608172
         ],
         "yaxis": "y"
        },
        {
         "hovertemplate": "index=ig_resnext101_32x8d_ArcFace_AdamW_0.001_cosine_rank_by_id_val<br>Marker=0<br>Error=%{x}<br>Disparity=%{y}<extra></extra>",
         "legendgroup": "ig_resnext101_32x8d_ArcFace_AdamW_0.001_cosine_rank_by_id_val, 0",
         "marker": {
          "color": "#B6E880",
          "symbol": "circle"
         },
         "mode": "markers",
         "name": "ig_resnext101_32x8d_ArcFace_AdamW_0.001_cosine_rank_by_id_val, 0",
         "orientation": "v",
         "showlegend": true,
         "type": "scatter",
         "x": [
          0.4971843897328444
         ],
         "xaxis": "x",
         "y": [
          5.265060240963855
         ],
         "yaxis": "y"
        },
        {
         "hovertemplate": "index=ig_resnext101_32x8d_ArcFace_SGD_rank_by_id_val<br>Marker=0<br>Error=%{x}<br>Disparity=%{y}<extra></extra>",
         "legendgroup": "ig_resnext101_32x8d_ArcFace_SGD_rank_by_id_val, 0",
         "marker": {
          "color": "#FF97FF",
          "symbol": "circle"
         },
         "mode": "markers",
         "name": "ig_resnext101_32x8d_ArcFace_SGD_rank_by_id_val, 0",
         "orientation": "v",
         "showlegend": true,
         "type": "scatter",
         "x": [
          0.2829360921948664
         ],
         "xaxis": "x",
         "y": [
          2.4150078575170246
         ],
         "yaxis": "y"
        },
        {
         "hovertemplate": "index=ig_resnext101_32x8d_ArcFace_SGD_0.1_cosine_rank_by_id_val<br>Marker=0<br>Error=%{x}<br>Disparity=%{y}<extra></extra>",
         "legendgroup": "ig_resnext101_32x8d_ArcFace_SGD_0.1_cosine_rank_by_id_val, 0",
         "marker": {
          "color": "#FECB52",
          "symbol": "circle"
         },
         "mode": "markers",
         "name": "ig_resnext101_32x8d_ArcFace_SGD_0.1_cosine_rank_by_id_val, 0",
         "orientation": "v",
         "showlegend": true,
         "type": "scatter",
         "x": [
          0.4329491880565741
         ],
         "xaxis": "x",
         "y": [
          4.827003666841279
         ],
         "yaxis": "y"
        },
        {
         "hovertemplate": "index=ig_resnext101_32x8d_CosFace_AdamW_rank_by_id_val<br>Marker=0<br>Error=%{x}<br>Disparity=%{y}<extra></extra>",
         "legendgroup": "ig_resnext101_32x8d_CosFace_AdamW_rank_by_id_val, 0",
         "marker": {
          "color": "#636efa",
          "symbol": "circle"
         },
         "mode": "markers",
         "name": "ig_resnext101_32x8d_CosFace_AdamW_rank_by_id_val, 0",
         "orientation": "v",
         "showlegend": true,
         "type": "scatter",
         "x": [
          0.17057359874279732
         ],
         "xaxis": "x",
         "y": [
          1.0982189628077528
         ],
         "yaxis": "y"
        },
        {
         "hovertemplate": "index=ig_resnext101_32x8d_CosFace_AdamW_0.001_cosine_rank_by_id_val<br>Marker=0<br>Error=%{x}<br>Disparity=%{y}<extra></extra>",
         "legendgroup": "ig_resnext101_32x8d_CosFace_AdamW_0.001_cosine_rank_by_id_val, 0",
         "marker": {
          "color": "#EF553B",
          "symbol": "circle"
         },
         "mode": "markers",
         "name": "ig_resnext101_32x8d_CosFace_AdamW_0.001_cosine_rank_by_id_val, 0",
         "orientation": "v",
         "showlegend": true,
         "type": "scatter",
         "x": [
          0.376178627553693
         ],
         "xaxis": "x",
         "y": [
          3.6183865898376126
         ],
         "yaxis": "y"
        },
        {
         "hovertemplate": "index=ig_resnext101_32x8d_CosFace_SGD_rank_by_id_val<br>Marker=0<br>Error=%{x}<br>Disparity=%{y}<extra></extra>",
         "legendgroup": "ig_resnext101_32x8d_CosFace_SGD_rank_by_id_val, 0",
         "marker": {
          "color": "#00cc96",
          "symbol": "circle"
         },
         "mode": "markers",
         "name": "ig_resnext101_32x8d_CosFace_SGD_rank_by_id_val, 0",
         "orientation": "v",
         "showlegend": true,
         "type": "scatter",
         "x": [
          0.16972236773179672
         ],
         "xaxis": "x",
         "y": [
          2.0652173913043477
         ],
         "yaxis": "y"
        },
        {
         "hovertemplate": "index=ig_resnext101_32x8d_CosFace_SGD_0.1_cosine_rank_by_id_val<br>Marker=0<br>Error=%{x}<br>Disparity=%{y}<extra></extra>",
         "legendgroup": "ig_resnext101_32x8d_CosFace_SGD_0.1_cosine_rank_by_id_val, 0",
         "marker": {
          "color": "#ab63fa",
          "symbol": "circle"
         },
         "mode": "markers",
         "name": "ig_resnext101_32x8d_CosFace_SGD_0.1_cosine_rank_by_id_val, 0",
         "orientation": "v",
         "showlegend": true,
         "type": "scatter",
         "x": [
          0.2529465688842326
         ],
         "xaxis": "x",
         "y": [
          4.631744368779466
         ],
         "yaxis": "y"
        },
        {
         "hovertemplate": "index=ig_resnext101_32x8d_MagFace_AdamW_rank_by_id_val<br>Marker=0<br>Error=%{x}<br>Disparity=%{y}<extra></extra>",
         "legendgroup": "ig_resnext101_32x8d_MagFace_AdamW_rank_by_id_val, 0",
         "marker": {
          "color": "#FFA15A",
          "symbol": "circle"
         },
         "mode": "markers",
         "name": "ig_resnext101_32x8d_MagFace_AdamW_rank_by_id_val, 0",
         "orientation": "v",
         "showlegend": true,
         "type": "scatter",
         "x": [
          0.3334861183865898
         ],
         "xaxis": "x",
         "y": [
          2.9734154007333684
         ],
         "yaxis": "y"
        },
        {
         "hovertemplate": "index=ig_resnext101_32x8d_MagFace_AdamW_0.001_cosine_rank_by_id_val<br>Marker=0<br>Error=%{x}<br>Disparity=%{y}<extra></extra>",
         "legendgroup": "ig_resnext101_32x8d_MagFace_AdamW_0.001_cosine_rank_by_id_val, 0",
         "marker": {
          "color": "#19d3f3",
          "symbol": "circle"
         },
         "mode": "markers",
         "name": "ig_resnext101_32x8d_MagFace_AdamW_0.001_cosine_rank_by_id_val, 0",
         "orientation": "v",
         "showlegend": true,
         "type": "scatter",
         "x": [
          0.46058145625982194
         ],
         "xaxis": "x",
         "y": [
          4.536930330015715
         ],
         "yaxis": "y"
        },
        {
         "hovertemplate": "index=ig_resnext101_32x8d_MagFace_SGD_rank_by_id_val<br>Marker=0<br>Error=%{x}<br>Disparity=%{y}<extra></extra>",
         "legendgroup": "ig_resnext101_32x8d_MagFace_SGD_rank_by_id_val, 0",
         "marker": {
          "color": "#FF6692",
          "symbol": "circle"
         },
         "mode": "markers",
         "name": "ig_resnext101_32x8d_MagFace_SGD_rank_by_id_val, 0",
         "orientation": "v",
         "showlegend": true,
         "type": "scatter",
         "x": [
          0.22891566265060237
         ],
         "xaxis": "x",
         "y": [
          1.8914353064431637
         ],
         "yaxis": "y"
        },
        {
         "hovertemplate": "index=inception_resnet_v2_ArcFace_AdamW_rank_by_id_val<br>Marker=0<br>Error=%{x}<br>Disparity=%{y}<extra></extra>",
         "legendgroup": "inception_resnet_v2_ArcFace_AdamW_rank_by_id_val, 0",
         "marker": {
          "color": "#B6E880",
          "symbol": "circle"
         },
         "mode": "markers",
         "name": "inception_resnet_v2_ArcFace_AdamW_rank_by_id_val, 0",
         "orientation": "v",
         "showlegend": true,
         "type": "scatter",
         "x": [
          0.41710319539025664
         ],
         "xaxis": "x",
         "y": [
          3.345206914614981
         ],
         "yaxis": "y"
        },
        {
         "hovertemplate": "index=inception_resnet_v2_ArcFace_AdamW_0.001_cosine_rank_by_id_val<br>Marker=0<br>Error=%{x}<br>Disparity=%{y}<extra></extra>",
         "legendgroup": "inception_resnet_v2_ArcFace_AdamW_0.001_cosine_rank_by_id_val, 0",
         "marker": {
          "color": "#FF97FF",
          "symbol": "circle"
         },
         "mode": "markers",
         "name": "inception_resnet_v2_ArcFace_AdamW_0.001_cosine_rank_by_id_val, 0",
         "orientation": "v",
         "showlegend": true,
         "type": "scatter",
         "x": [
          0.47773703509690935
         ],
         "xaxis": "x",
         "y": [
          5.167627029858564
         ],
         "yaxis": "y"
        },
        {
         "hovertemplate": "index=inception_resnet_v2_ArcFace_SGD_rank_by_id_val<br>Marker=0<br>Error=%{x}<br>Disparity=%{y}<extra></extra>",
         "legendgroup": "inception_resnet_v2_ArcFace_SGD_rank_by_id_val, 0",
         "marker": {
          "color": "#FECB52",
          "symbol": "circle"
         },
         "mode": "markers",
         "name": "inception_resnet_v2_ArcFace_SGD_rank_by_id_val, 0",
         "orientation": "v",
         "showlegend": true,
         "type": "scatter",
         "x": [
          0.37080932425353585
         ],
         "xaxis": "x",
         "y": [
          4.448271346254583
         ],
         "yaxis": "y"
        },
        {
         "hovertemplate": "index=inception_resnet_v2_ArcFace_SGD_0.1_cosine_rank_by_id_val<br>Marker=0<br>Error=%{x}<br>Disparity=%{y}<extra></extra>",
         "legendgroup": "inception_resnet_v2_ArcFace_SGD_0.1_cosine_rank_by_id_val, 0",
         "marker": {
          "color": "#636efa",
          "symbol": "circle"
         },
         "mode": "markers",
         "name": "inception_resnet_v2_ArcFace_SGD_0.1_cosine_rank_by_id_val, 0",
         "orientation": "v",
         "showlegend": true,
         "type": "scatter",
         "x": [
          0.23363017286537457
         ],
         "xaxis": "x",
         "y": [
          2.4223415400733366
         ],
         "yaxis": "y"
        },
        {
         "hovertemplate": "index=inception_resnet_v2_CosFace_AdamW_rank_by_id_val<br>Marker=0<br>Error=%{x}<br>Disparity=%{y}<extra></extra>",
         "legendgroup": "inception_resnet_v2_CosFace_AdamW_rank_by_id_val, 0",
         "marker": {
          "color": "#EF553B",
          "symbol": "circle"
         },
         "mode": "markers",
         "name": "inception_resnet_v2_CosFace_AdamW_rank_by_id_val, 0",
         "orientation": "v",
         "showlegend": true,
         "type": "scatter",
         "x": [
          0.6550550026191724
         ],
         "xaxis": "x",
         "y": [
          7.024751178627552
         ],
         "yaxis": "y"
        },
        {
         "hovertemplate": "index=inception_resnet_v2_CosFace_AdamW_0.001_cosine_rank_by_id_val<br>Marker=0<br>Error=%{x}<br>Disparity=%{y}<extra></extra>",
         "legendgroup": "inception_resnet_v2_CosFace_AdamW_0.001_cosine_rank_by_id_val, 0",
         "marker": {
          "color": "#00cc96",
          "symbol": "circle"
         },
         "mode": "markers",
         "name": "inception_resnet_v2_CosFace_AdamW_0.001_cosine_rank_by_id_val, 0",
         "orientation": "v",
         "showlegend": true,
         "type": "scatter",
         "x": [
          0.21149816657936094
         ],
         "xaxis": "x",
         "y": [
          0.07242011524358283
         ],
         "yaxis": "y"
        },
        {
         "hovertemplate": "index=inception_resnet_v2_CosFace_SGD_rank_by_id_val<br>Marker=0<br>Error=%{x}<br>Disparity=%{y}<extra></extra>",
         "legendgroup": "inception_resnet_v2_CosFace_SGD_rank_by_id_val, 0",
         "marker": {
          "color": "#ab63fa",
          "symbol": "circle"
         },
         "mode": "markers",
         "name": "inception_resnet_v2_CosFace_SGD_rank_by_id_val, 0",
         "orientation": "v",
         "showlegend": true,
         "type": "scatter",
         "x": [
          0.18242535358826606
         ],
         "xaxis": "x",
         "y": [
          1.6018858040859092
         ],
         "yaxis": "y"
        },
        {
         "hovertemplate": "index=inception_resnet_v2_CosFace_SGD_0.1_cosine_rank_by_id_val<br>Marker=0<br>Error=%{x}<br>Disparity=%{y}<extra></extra>",
         "legendgroup": "inception_resnet_v2_CosFace_SGD_0.1_cosine_rank_by_id_val, 0",
         "marker": {
          "color": "#FFA15A",
          "symbol": "circle"
         },
         "mode": "markers",
         "name": "inception_resnet_v2_CosFace_SGD_0.1_cosine_rank_by_id_val, 0",
         "orientation": "v",
         "showlegend": true,
         "type": "scatter",
         "x": [
          0.20095599790466212
         ],
         "xaxis": "x",
         "y": [
          0.313383970665269
         ],
         "yaxis": "y"
        },
        {
         "hovertemplate": "index=inception_resnet_v2_MagFace_AdamW_rank_by_id_val<br>Marker=0<br>Error=%{x}<br>Disparity=%{y}<extra></extra>",
         "legendgroup": "inception_resnet_v2_MagFace_AdamW_rank_by_id_val, 0",
         "marker": {
          "color": "#19d3f3",
          "symbol": "circle"
         },
         "mode": "markers",
         "name": "inception_resnet_v2_MagFace_AdamW_rank_by_id_val, 0",
         "orientation": "v",
         "showlegend": true,
         "type": "scatter",
         "x": [
          0.3179675222629649
         ],
         "xaxis": "x",
         "y": [
          2.7663698271346258
         ],
         "yaxis": "y"
        },
        {
         "hovertemplate": "index=inception_resnet_v2_MagFace_AdamW_0.001_cosine_rank_by_id_val<br>Marker=0<br>Error=%{x}<br>Disparity=%{y}<extra></extra>",
         "legendgroup": "inception_resnet_v2_MagFace_AdamW_0.001_cosine_rank_by_id_val, 0",
         "marker": {
          "color": "#FF6692",
          "symbol": "circle"
         },
         "mode": "markers",
         "name": "inception_resnet_v2_MagFace_AdamW_0.001_cosine_rank_by_id_val, 0",
         "orientation": "v",
         "showlegend": true,
         "type": "scatter",
         "x": [
          0.4688973284442116
         ],
         "xaxis": "x",
         "y": [
          5.2575955997904655
         ],
         "yaxis": "y"
        },
        {
         "hovertemplate": "index=inception_resnet_v2_MagFace_SGD_rank_by_id_val<br>Marker=0<br>Error=%{x}<br>Disparity=%{y}<extra></extra>",
         "legendgroup": "inception_resnet_v2_MagFace_SGD_rank_by_id_val, 0",
         "marker": {
          "color": "#B6E880",
          "symbol": "circle"
         },
         "mode": "markers",
         "name": "inception_resnet_v2_MagFace_SGD_rank_by_id_val, 0",
         "orientation": "v",
         "showlegend": true,
         "type": "scatter",
         "x": [
          0.15570979570455734
         ],
         "xaxis": "x",
         "y": [
          3.264798323729701
         ],
         "yaxis": "y"
        },
        {
         "hovertemplate": "index=inception_resnet_v2_MagFace_SGD_0.1_cosine_rank_by_id_val<br>Marker=0<br>Error=%{x}<br>Disparity=%{y}<extra></extra>",
         "legendgroup": "inception_resnet_v2_MagFace_SGD_0.1_cosine_rank_by_id_val, 0",
         "marker": {
          "color": "#FF97FF",
          "symbol": "circle"
         },
         "mode": "markers",
         "name": "inception_resnet_v2_MagFace_SGD_0.1_cosine_rank_by_id_val, 0",
         "orientation": "v",
         "showlegend": true,
         "type": "scatter",
         "x": [
          0.17751440544787844
         ],
         "xaxis": "x",
         "y": [
          2.936485070717653
         ],
         "yaxis": "y"
        },
        {
         "hovertemplate": "index=inception_v4_ArcFace_AdamW_rank_by_id_val<br>Marker=0<br>Error=%{x}<br>Disparity=%{y}<extra></extra>",
         "legendgroup": "inception_v4_ArcFace_AdamW_rank_by_id_val, 0",
         "marker": {
          "color": "#FECB52",
          "symbol": "circle"
         },
         "mode": "markers",
         "name": "inception_v4_ArcFace_AdamW_rank_by_id_val, 0",
         "orientation": "v",
         "showlegend": true,
         "type": "scatter",
         "x": [
          0.33669460450497646
         ],
         "xaxis": "x",
         "y": [
          2.6096123624934524
         ],
         "yaxis": "y"
        },
        {
         "hovertemplate": "index=inception_v4_ArcFace_AdamW_0.001_cosine_rank_by_id_val<br>Marker=0<br>Error=%{x}<br>Disparity=%{y}<extra></extra>",
         "legendgroup": "inception_v4_ArcFace_AdamW_0.001_cosine_rank_by_id_val, 0",
         "marker": {
          "color": "#636efa",
          "symbol": "circle"
         },
         "mode": "markers",
         "name": "inception_v4_ArcFace_AdamW_0.001_cosine_rank_by_id_val, 0",
         "orientation": "v",
         "showlegend": true,
         "type": "scatter",
         "x": [
          0.3863933996856993
         ],
         "xaxis": "x",
         "y": [
          3.291513881613411
         ],
         "yaxis": "y"
        },
        {
         "hovertemplate": "index=inception_v4_ArcFace_SGD_rank_by_id_val<br>Marker=0<br>Error=%{x}<br>Disparity=%{y}<extra></extra>",
         "legendgroup": "inception_v4_ArcFace_SGD_rank_by_id_val, 0",
         "marker": {
          "color": "#EF553B",
          "symbol": "circle"
         },
         "mode": "markers",
         "name": "inception_v4_ArcFace_SGD_rank_by_id_val, 0",
         "orientation": "v",
         "showlegend": true,
         "type": "scatter",
         "x": [
          0.6215950759559978
         ],
         "xaxis": "x",
         "y": [
          18.130565741225773
         ],
         "yaxis": "y"
        },
        {
         "hovertemplate": "index=inception_v4_ArcFace_SGD_0.1_cosine_rank_by_id_val<br>Marker=0<br>Error=%{x}<br>Disparity=%{y}<extra></extra>",
         "legendgroup": "inception_v4_ArcFace_SGD_0.1_cosine_rank_by_id_val, 0",
         "marker": {
          "color": "#00cc96",
          "symbol": "circle"
         },
         "mode": "markers",
         "name": "inception_v4_ArcFace_SGD_0.1_cosine_rank_by_id_val, 0",
         "orientation": "v",
         "showlegend": true,
         "type": "scatter",
         "x": [
          0.5585385018334206
         ],
         "xaxis": "x",
         "y": [
          8.598611838658984
         ],
         "yaxis": "y"
        },
        {
         "hovertemplate": "index=inception_v4_CosFace_AdamW_rank_by_id_val<br>Marker=0<br>Error=%{x}<br>Disparity=%{y}<extra></extra>",
         "legendgroup": "inception_v4_CosFace_AdamW_rank_by_id_val, 0",
         "marker": {
          "color": "#ab63fa",
          "symbol": "circle"
         },
         "mode": "markers",
         "name": "inception_v4_CosFace_AdamW_rank_by_id_val, 0",
         "orientation": "v",
         "showlegend": true,
         "type": "scatter",
         "x": [
          0.7185044525929807
         ],
         "xaxis": "x",
         "y": [
          6.4559979046621265
         ],
         "yaxis": "y"
        },
        {
         "hovertemplate": "index=inception_v4_CosFace_AdamW_0.001_cosine_rank_by_id_val<br>Marker=0<br>Error=%{x}<br>Disparity=%{y}<extra></extra>",
         "legendgroup": "inception_v4_CosFace_AdamW_0.001_cosine_rank_by_id_val, 0",
         "marker": {
          "color": "#FFA15A",
          "symbol": "circle"
         },
         "mode": "markers",
         "name": "inception_v4_CosFace_AdamW_0.001_cosine_rank_by_id_val, 0",
         "orientation": "v",
         "showlegend": true,
         "type": "scatter",
         "x": [
          0.6081063383970665
         ],
         "xaxis": "x",
         "y": [
          8.628339444735463
         ],
         "yaxis": "y"
        },
        {
         "hovertemplate": "index=inception_v4_CosFace_SGD_rank_by_id_val<br>Marker=0<br>Error=%{x}<br>Disparity=%{y}<extra></extra>",
         "legendgroup": "inception_v4_CosFace_SGD_rank_by_id_val, 0",
         "marker": {
          "color": "#19d3f3",
          "symbol": "circle"
         },
         "mode": "markers",
         "name": "inception_v4_CosFace_SGD_rank_by_id_val, 0",
         "orientation": "v",
         "showlegend": true,
         "type": "scatter",
         "x": [
          0.5873493975903614
         ],
         "xaxis": "x",
         "y": [
          19.196437925615506
         ],
         "yaxis": "y"
        },
        {
         "hovertemplate": "index=inception_v4_CosFace_SGD_0.1_cosine_rank_by_id_val<br>Marker=0<br>Error=%{x}<br>Disparity=%{y}<extra></extra>",
         "legendgroup": "inception_v4_CosFace_SGD_0.1_cosine_rank_by_id_val, 0",
         "marker": {
          "color": "#FF6692",
          "symbol": "circle"
         },
         "mode": "markers",
         "name": "inception_v4_CosFace_SGD_0.1_cosine_rank_by_id_val, 0",
         "orientation": "v",
         "showlegend": true,
         "type": "scatter",
         "x": [
          0.4612362493452069
         ],
         "xaxis": "x",
         "y": [
          6.307752750130959
         ],
         "yaxis": "y"
        },
        {
         "hovertemplate": "index=inception_v4_MagFace_AdamW_rank_by_id_val<br>Marker=0<br>Error=%{x}<br>Disparity=%{y}<extra></extra>",
         "legendgroup": "inception_v4_MagFace_AdamW_rank_by_id_val, 0",
         "marker": {
          "color": "#B6E880",
          "symbol": "circle"
         },
         "mode": "markers",
         "name": "inception_v4_MagFace_AdamW_rank_by_id_val, 0",
         "orientation": "v",
         "showlegend": true,
         "type": "scatter",
         "x": [
          0.27023310633839703
         ],
         "xaxis": "x",
         "y": [
          2.09180199057098
         ],
         "yaxis": "y"
        },
        {
         "hovertemplate": "index=inception_v4_MagFace_AdamW_0.001_cosine_rank_by_id_val<br>Marker=0<br>Error=%{x}<br>Disparity=%{y}<extra></extra>",
         "legendgroup": "inception_v4_MagFace_AdamW_0.001_cosine_rank_by_id_val, 0",
         "marker": {
          "color": "#FF97FF",
          "symbol": "circle"
         },
         "mode": "markers",
         "name": "inception_v4_MagFace_AdamW_0.001_cosine_rank_by_id_val, 0",
         "orientation": "v",
         "showlegend": true,
         "type": "scatter",
         "x": [
          0.3255631220534311
         ],
         "xaxis": "x",
         "y": [
          3.2420115243583023
         ],
         "yaxis": "y"
        },
        {
         "hovertemplate": "index=inception_v4_MagFace_SGD_rank_by_id_val<br>Marker=0<br>Error=%{x}<br>Disparity=%{y}<extra></extra>",
         "legendgroup": "inception_v4_MagFace_SGD_rank_by_id_val, 0",
         "marker": {
          "color": "#FECB52",
          "symbol": "circle"
         },
         "mode": "markers",
         "name": "inception_v4_MagFace_SGD_rank_by_id_val, 0",
         "orientation": "v",
         "showlegend": true,
         "type": "scatter",
         "x": [
          0.4241094814038764
         ],
         "xaxis": "x",
         "y": [
          5.74476165531692
         ],
         "yaxis": "y"
        },
        {
         "hovertemplate": "index=inception_v4_MagFace_SGD_0.1_cosine_rank_by_id_val<br>Marker=0<br>Error=%{x}<br>Disparity=%{y}<extra></extra>",
         "legendgroup": "inception_v4_MagFace_SGD_0.1_cosine_rank_by_id_val, 0",
         "marker": {
          "color": "#636efa",
          "symbol": "circle"
         },
         "mode": "markers",
         "name": "inception_v4_MagFace_SGD_0.1_cosine_rank_by_id_val, 0",
         "orientation": "v",
         "showlegend": true,
         "type": "scatter",
         "x": [
          0.3369565217391305
         ],
         "xaxis": "x",
         "y": [
          2.9773441592456784
         ],
         "yaxis": "y"
        },
        {
         "hovertemplate": "index=jx_nest_base_CosFace_AdamW_0.001_cosine_rank_by_id_val<br>Marker=0<br>Error=%{x}<br>Disparity=%{y}<extra></extra>",
         "legendgroup": "jx_nest_base_CosFace_AdamW_0.001_cosine_rank_by_id_val, 0",
         "marker": {
          "color": "#EF553B",
          "symbol": "circle"
         },
         "mode": "markers",
         "name": "jx_nest_base_CosFace_AdamW_0.001_cosine_rank_by_id_val, 0",
         "orientation": "v",
         "showlegend": true,
         "type": "scatter",
         "x": [
          0.1326610790990047
         ],
         "xaxis": "x",
         "y": [
          3.6498166579360927
         ],
         "yaxis": "y"
        },
        {
         "hovertemplate": "index=legacy_senet154_ArcFace_AdamW_rank_by_id_val<br>Marker=0<br>Error=%{x}<br>Disparity=%{y}<extra></extra>",
         "legendgroup": "legacy_senet154_ArcFace_AdamW_rank_by_id_val, 0",
         "marker": {
          "color": "#00cc96",
          "symbol": "circle"
         },
         "mode": "markers",
         "name": "legacy_senet154_ArcFace_AdamW_rank_by_id_val, 0",
         "orientation": "v",
         "showlegend": true,
         "type": "scatter",
         "x": [
          0.24305919329491876
         ],
         "xaxis": "x",
         "y": [
          2.346123624934521
         ],
         "yaxis": "y"
        },
        {
         "hovertemplate": "index=legacy_senet154_ArcFace_AdamW_0.001_cosine_rank_by_id_val<br>Marker=0<br>Error=%{x}<br>Disparity=%{y}<extra></extra>",
         "legendgroup": "legacy_senet154_ArcFace_AdamW_0.001_cosine_rank_by_id_val, 0",
         "marker": {
          "color": "#ab63fa",
          "symbol": "circle"
         },
         "mode": "markers",
         "name": "legacy_senet154_ArcFace_AdamW_0.001_cosine_rank_by_id_val, 0",
         "orientation": "v",
         "showlegend": true,
         "type": "scatter",
         "x": [
          0.47970141435306446
         ],
         "xaxis": "x",
         "y": [
          4.150078575170245
         ],
         "yaxis": "y"
        },
        {
         "hovertemplate": "index=legacy_senet154_ArcFace_SGD_0.1_cosine_rank_by_id_val<br>Marker=0<br>Error=%{x}<br>Disparity=%{y}<extra></extra>",
         "legendgroup": "legacy_senet154_ArcFace_SGD_0.1_cosine_rank_by_id_val, 0",
         "marker": {
          "color": "#FFA15A",
          "symbol": "circle"
         },
         "mode": "markers",
         "name": "legacy_senet154_ArcFace_SGD_0.1_cosine_rank_by_id_val, 0",
         "orientation": "v",
         "showlegend": true,
         "type": "scatter",
         "x": [
          0.551794133053955
         ],
         "xaxis": "x",
         "y": [
          2.3926139339968557
         ],
         "yaxis": "y"
        },
        {
         "hovertemplate": "index=legacy_senet154_CosFace_AdamW_rank_by_id_val<br>Marker=0<br>Error=%{x}<br>Disparity=%{y}<extra></extra>",
         "legendgroup": "legacy_senet154_CosFace_AdamW_rank_by_id_val, 0",
         "marker": {
          "color": "#19d3f3",
          "symbol": "circle"
         },
         "mode": "markers",
         "name": "legacy_senet154_CosFace_AdamW_rank_by_id_val, 0",
         "orientation": "v",
         "showlegend": true,
         "type": "scatter",
         "x": [
          0.22786799371398636
         ],
         "xaxis": "x",
         "y": [
          1.8167888947092727
         ],
         "yaxis": "y"
        },
        {
         "hovertemplate": "index=legacy_senet154_CosFace_AdamW_0.001_cosine_rank_by_id_val<br>Marker=0<br>Error=%{x}<br>Disparity=%{y}<extra></extra>",
         "legendgroup": "legacy_senet154_CosFace_AdamW_0.001_cosine_rank_by_id_val, 0",
         "marker": {
          "color": "#FF6692",
          "symbol": "circle"
         },
         "mode": "markers",
         "name": "legacy_senet154_CosFace_AdamW_0.001_cosine_rank_by_id_val, 0",
         "orientation": "v",
         "showlegend": true,
         "type": "scatter",
         "x": [
          0.4543609219486642
         ],
         "xaxis": "x",
         "y": [
          7.168936616029335
         ],
         "yaxis": "y"
        },
        {
         "hovertemplate": "index=legacy_senet154_CosFace_SGD_rank_by_id_val<br>Marker=0<br>Error=%{x}<br>Disparity=%{y}<extra></extra>",
         "legendgroup": "legacy_senet154_CosFace_SGD_rank_by_id_val, 0",
         "marker": {
          "color": "#B6E880",
          "symbol": "circle"
         },
         "mode": "markers",
         "name": "legacy_senet154_CosFace_SGD_rank_by_id_val, 0",
         "orientation": "v",
         "showlegend": true,
         "type": "scatter",
         "x": [
          0.19853326348873757
         ],
         "xaxis": "x",
         "y": [
          2.4541644840230488
         ],
         "yaxis": "y"
        },
        {
         "hovertemplate": "index=legacy_senet154_CosFace_SGD_0.1_cosine_rank_by_id_val<br>Marker=0<br>Error=%{x}<br>Disparity=%{y}<extra></extra>",
         "legendgroup": "legacy_senet154_CosFace_SGD_0.1_cosine_rank_by_id_val, 0",
         "marker": {
          "color": "#FF97FF",
          "symbol": "circle"
         },
         "mode": "markers",
         "name": "legacy_senet154_CosFace_SGD_0.1_cosine_rank_by_id_val, 0",
         "orientation": "v",
         "showlegend": true,
         "type": "scatter",
         "x": [
          0.2658459926663175
         ],
         "xaxis": "x",
         "y": [
          3.1970927187008904
         ],
         "yaxis": "y"
        },
        {
         "hovertemplate": "index=legacy_senet154_MagFace_AdamW_rank_by_id_val<br>Marker=0<br>Error=%{x}<br>Disparity=%{y}<extra></extra>",
         "legendgroup": "legacy_senet154_MagFace_AdamW_rank_by_id_val, 0",
         "marker": {
          "color": "#FECB52",
          "symbol": "circle"
         },
         "mode": "markers",
         "name": "legacy_senet154_MagFace_AdamW_rank_by_id_val, 0",
         "orientation": "v",
         "showlegend": true,
         "type": "scatter",
         "x": [
          0.1845861707700367
         ],
         "xaxis": "x",
         "y": [
          1.6530906233630174
         ],
         "yaxis": "y"
        },
        {
         "hovertemplate": "index=legacy_senet154_MagFace_AdamW_0.001_cosine_rank_by_id_val<br>Marker=0<br>Error=%{x}<br>Disparity=%{y}<extra></extra>",
         "legendgroup": "legacy_senet154_MagFace_AdamW_0.001_cosine_rank_by_id_val, 0",
         "marker": {
          "color": "#636efa",
          "symbol": "circle"
         },
         "mode": "markers",
         "name": "legacy_senet154_MagFace_AdamW_0.001_cosine_rank_by_id_val, 0",
         "orientation": "v",
         "showlegend": true,
         "type": "scatter",
         "x": [
          0.4273179675222629
         ],
         "xaxis": "x",
         "y": [
          3.9269250916710323
         ],
         "yaxis": "y"
        },
        {
         "hovertemplate": "index=legacy_senet154_MagFace_SGD_rank_by_id_val<br>Marker=0<br>Error=%{x}<br>Disparity=%{y}<extra></extra>",
         "legendgroup": "legacy_senet154_MagFace_SGD_rank_by_id_val, 0",
         "marker": {
          "color": "#EF553B",
          "symbol": "circle"
         },
         "mode": "markers",
         "name": "legacy_senet154_MagFace_SGD_rank_by_id_val, 0",
         "orientation": "v",
         "showlegend": true,
         "type": "scatter",
         "x": [
          0.39804871660555263
         ],
         "xaxis": "x",
         "y": [
          3.7073074908328962
         ],
         "yaxis": "y"
        },
        {
         "hovertemplate": "index=legacy_senet154_MagFace_SGD_0.1_cosine_rank_by_id_val<br>Marker=0<br>Error=%{x}<br>Disparity=%{y}<extra></extra>",
         "legendgroup": "legacy_senet154_MagFace_SGD_0.1_cosine_rank_by_id_val, 0",
         "marker": {
          "color": "#00cc96",
          "symbol": "circle"
         },
         "mode": "markers",
         "name": "legacy_senet154_MagFace_SGD_0.1_cosine_rank_by_id_val, 0",
         "orientation": "v",
         "showlegend": true,
         "type": "scatter",
         "x": [
          0.4003404924044002
         ],
         "xaxis": "x",
         "y": [
          3.9235201676270304
         ],
         "yaxis": "y"
        },
        {
         "hovertemplate": "index=mobilenetv3_large_100_ArcFace_AdamW_0.001_cosine_rank_by_id_val<br>Marker=0<br>Error=%{x}<br>Disparity=%{y}<extra></extra>",
         "legendgroup": "mobilenetv3_large_100_ArcFace_AdamW_0.001_cosine_rank_by_id_val, 0",
         "marker": {
          "color": "#ab63fa",
          "symbol": "circle"
         },
         "mode": "markers",
         "name": "mobilenetv3_large_100_ArcFace_AdamW_0.001_cosine_rank_by_id_val, 0",
         "orientation": "v",
         "showlegend": true,
         "type": "scatter",
         "x": [
          0.9902435830277633
         ],
         "xaxis": "x",
         "y": [
          8.59154007333683
         ],
         "yaxis": "y"
        },
        {
         "hovertemplate": "index=mobilenetv3_large_100_ArcFace_SGD_rank_by_id_val<br>Marker=0<br>Error=%{x}<br>Disparity=%{y}<extra></extra>",
         "legendgroup": "mobilenetv3_large_100_ArcFace_SGD_rank_by_id_val, 0",
         "marker": {
          "color": "#FFA15A",
          "symbol": "circle"
         },
         "mode": "markers",
         "name": "mobilenetv3_large_100_ArcFace_SGD_rank_by_id_val, 0",
         "orientation": "v",
         "showlegend": true,
         "type": "scatter",
         "x": [
          0.9146804609743321
         ],
         "xaxis": "x",
         "y": [
          18.967522262964906
         ],
         "yaxis": "y"
        },
        {
         "hovertemplate": "index=mobilenetv3_large_100_ArcFace_SGD_0.1_cosine_rank_by_id_val<br>Marker=0<br>Error=%{x}<br>Disparity=%{y}<extra></extra>",
         "legendgroup": "mobilenetv3_large_100_ArcFace_SGD_0.1_cosine_rank_by_id_val, 0",
         "marker": {
          "color": "#19d3f3",
          "symbol": "circle"
         },
         "mode": "markers",
         "name": "mobilenetv3_large_100_ArcFace_SGD_0.1_cosine_rank_by_id_val, 0",
         "orientation": "v",
         "showlegend": true,
         "type": "scatter",
         "x": [
          0.9363541121005762
         ],
         "xaxis": "x",
         "y": [
          19.825301204819283
         ],
         "yaxis": "y"
        },
        {
         "hovertemplate": "index=mobilenetv3_large_100_CosFace_AdamW_rank_by_id_val<br>Marker=0<br>Error=%{x}<br>Disparity=%{y}<extra></extra>",
         "legendgroup": "mobilenetv3_large_100_CosFace_AdamW_rank_by_id_val, 0",
         "marker": {
          "color": "#FF6692",
          "symbol": "circle"
         },
         "mode": "markers",
         "name": "mobilenetv3_large_100_CosFace_AdamW_rank_by_id_val, 0",
         "orientation": "v",
         "showlegend": true,
         "type": "scatter",
         "x": [
          0.21739130434782605
         ],
         "xaxis": "x",
         "y": [
          1.3607909900471453
         ],
         "yaxis": "y"
        },
        {
         "hovertemplate": "index=vgg19_ArcFace_SGD_rank_by_id_val<br>Marker=0<br>Error=%{x}<br>Disparity=%{y}<extra></extra>",
         "legendgroup": "vgg19_ArcFace_SGD_rank_by_id_val, 0",
         "marker": {
          "color": "#B6E880",
          "symbol": "circle"
         },
         "mode": "markers",
         "name": "vgg19_ArcFace_SGD_rank_by_id_val, 0",
         "orientation": "v",
         "showlegend": true,
         "type": "scatter",
         "x": [
          0.39647721320062856
         ],
         "xaxis": "x",
         "y": [
          3.7747511786275547
         ],
         "yaxis": "y"
        },
        {
         "hovertemplate": "index=mobilenetv3_large_100_CosFace_AdamW_0.001_cosine_rank_by_id_val<br>Marker=0<br>Error=%{x}<br>Disparity=%{y}<extra></extra>",
         "legendgroup": "mobilenetv3_large_100_CosFace_AdamW_0.001_cosine_rank_by_id_val, 0",
         "marker": {
          "color": "#FF97FF",
          "symbol": "circle"
         },
         "mode": "markers",
         "name": "mobilenetv3_large_100_CosFace_AdamW_0.001_cosine_rank_by_id_val, 0",
         "orientation": "v",
         "showlegend": true,
         "type": "scatter",
         "x": [
          0.14353064431639606
         ],
         "xaxis": "x",
         "y": [
          2.939366160293347
         ],
         "yaxis": "y"
        },
        {
         "hovertemplate": "index=mobilenetv3_large_100_CosFace_RMSpropTF_rank_by_id_val<br>Marker=0<br>Error=%{x}<br>Disparity=%{y}<extra></extra>",
         "legendgroup": "mobilenetv3_large_100_CosFace_RMSpropTF_rank_by_id_val, 0",
         "marker": {
          "color": "#FECB52",
          "symbol": "circle"
         },
         "mode": "markers",
         "name": "mobilenetv3_large_100_CosFace_RMSpropTF_rank_by_id_val, 0",
         "orientation": "v",
         "showlegend": true,
         "type": "scatter",
         "x": [
          0.21261131482451545
         ],
         "xaxis": "x",
         "y": [
          1.6486380303823989
         ],
         "yaxis": "y"
        },
        {
         "hovertemplate": "index=mobilenetv3_large_100_CosFace_SGD_rank_by_id_val<br>Marker=0<br>Error=%{x}<br>Disparity=%{y}<extra></extra>",
         "legendgroup": "mobilenetv3_large_100_CosFace_SGD_rank_by_id_val, 0",
         "marker": {
          "color": "#636efa",
          "symbol": "circle"
         },
         "mode": "markers",
         "name": "mobilenetv3_large_100_CosFace_SGD_rank_by_id_val, 0",
         "orientation": "v",
         "showlegend": true,
         "type": "scatter",
         "x": [
          0.1362624410686223
         ],
         "xaxis": "x",
         "y": [
          2.190020953378733
         ],
         "yaxis": "y"
        },
        {
         "hovertemplate": "index=mobilenetv3_large_100_CosFace_SGD_0.1_cosine_rank_by_id_val<br>Marker=0<br>Error=%{x}<br>Disparity=%{y}<extra></extra>",
         "legendgroup": "mobilenetv3_large_100_CosFace_SGD_0.1_cosine_rank_by_id_val, 0",
         "marker": {
          "color": "#EF553B",
          "symbol": "circle"
         },
         "mode": "markers",
         "name": "mobilenetv3_large_100_CosFace_SGD_0.1_cosine_rank_by_id_val, 0",
         "orientation": "v",
         "showlegend": true,
         "type": "scatter",
         "x": [
          0.13475641697223673
         ],
         "xaxis": "x",
         "y": [
          1.3036930330015712
         ],
         "yaxis": "y"
        },
        {
         "hovertemplate": "index=mobilenetv3_large_100_MagFace_AdamW_rank_by_id_val<br>Marker=0<br>Error=%{x}<br>Disparity=%{y}<extra></extra>",
         "legendgroup": "mobilenetv3_large_100_MagFace_AdamW_rank_by_id_val, 0",
         "marker": {
          "color": "#00cc96",
          "symbol": "circle"
         },
         "mode": "markers",
         "name": "mobilenetv3_large_100_MagFace_AdamW_rank_by_id_val, 0",
         "orientation": "v",
         "showlegend": true,
         "type": "scatter",
         "x": [
          0.41821634363541116
         ],
         "xaxis": "x",
         "y": [
          3.6909376636982723
         ],
         "yaxis": "y"
        },
        {
         "hovertemplate": "index=mobilenetv3_large_100_MagFace_AdamW_0.001_cosine_rank_by_id_val<br>Marker=0<br>Error=%{x}<br>Disparity=%{y}<extra></extra>",
         "legendgroup": "mobilenetv3_large_100_MagFace_AdamW_0.001_cosine_rank_by_id_val, 0",
         "marker": {
          "color": "#ab63fa",
          "symbol": "circle"
         },
         "mode": "markers",
         "name": "mobilenetv3_large_100_MagFace_AdamW_0.001_cosine_rank_by_id_val, 0",
         "orientation": "v",
         "showlegend": true,
         "type": "scatter",
         "x": [
          0.4338658983761131
         ],
         "xaxis": "x",
         "y": [
          3.785751702462022
         ],
         "yaxis": "y"
        },
        {
         "hovertemplate": "index=mobilenetv3_large_100_MagFace_SGD_rank_by_id_val<br>Marker=0<br>Error=%{x}<br>Disparity=%{y}<extra></extra>",
         "legendgroup": "mobilenetv3_large_100_MagFace_SGD_rank_by_id_val, 0",
         "marker": {
          "color": "#FFA15A",
          "symbol": "circle"
         },
         "mode": "markers",
         "name": "mobilenetv3_large_100_MagFace_SGD_rank_by_id_val, 0",
         "orientation": "v",
         "showlegend": true,
         "type": "scatter",
         "x": [
          0.13665531691985333
         ],
         "xaxis": "x",
         "y": [
          2.535096909376637
         ],
         "yaxis": "y"
        },
        {
         "hovertemplate": "index=mobilenetv3_large_100_MagFace_SGD_0.1_cosine_rank_by_id_val<br>Marker=0<br>Error=%{x}<br>Disparity=%{y}<extra></extra>",
         "legendgroup": "mobilenetv3_large_100_MagFace_SGD_0.1_cosine_rank_by_id_val, 0",
         "marker": {
          "color": "#19d3f3",
          "symbol": "circle"
         },
         "mode": "markers",
         "name": "mobilenetv3_large_100_MagFace_SGD_0.1_cosine_rank_by_id_val, 0",
         "orientation": "v",
         "showlegend": true,
         "type": "scatter",
         "x": [
          0.1412388685175484
         ],
         "xaxis": "x",
         "y": [
          2.131351492928235
         ],
         "yaxis": "y"
        },
        {
         "hovertemplate": "index=resnetrs101_ArcFace_AdamW_rank_by_id_val<br>Marker=0<br>Error=%{x}<br>Disparity=%{y}<extra></extra>",
         "legendgroup": "resnetrs101_ArcFace_AdamW_rank_by_id_val, 0",
         "marker": {
          "color": "#FF6692",
          "symbol": "circle"
         },
         "mode": "markers",
         "name": "resnetrs101_ArcFace_AdamW_rank_by_id_val, 0",
         "orientation": "v",
         "showlegend": true,
         "type": "scatter",
         "x": [
          0.268137768465165
         ],
         "xaxis": "x",
         "y": [
          2.5937663698271343
         ],
         "yaxis": "y"
        },
        {
         "hovertemplate": "index=resnetrs101_ArcFace_AdamW_0.001_cosine_rank_by_id_val<br>Marker=0<br>Error=%{x}<br>Disparity=%{y}<extra></extra>",
         "legendgroup": "resnetrs101_ArcFace_AdamW_0.001_cosine_rank_by_id_val, 0",
         "marker": {
          "color": "#B6E880",
          "symbol": "circle"
         },
         "mode": "markers",
         "name": "resnetrs101_ArcFace_AdamW_0.001_cosine_rank_by_id_val, 0",
         "orientation": "v",
         "showlegend": true,
         "type": "scatter",
         "x": [
          0.4328182294394971
         ],
         "xaxis": "x",
         "y": [
          4.1152435830277625
         ],
         "yaxis": "y"
        },
        {
         "hovertemplate": "index=resnetrs101_ArcFace_SGD_0.1_cosine_rank_by_id_val<br>Marker=0<br>Error=%{x}<br>Disparity=%{y}<extra></extra>",
         "legendgroup": "resnetrs101_ArcFace_SGD_0.1_cosine_rank_by_id_val, 0",
         "marker": {
          "color": "#FF97FF",
          "symbol": "circle"
         },
         "mode": "markers",
         "name": "resnetrs101_ArcFace_SGD_0.1_cosine_rank_by_id_val, 0",
         "orientation": "v",
         "showlegend": true,
         "type": "scatter",
         "x": [
          0.3419984284965951
         ],
         "xaxis": "x",
         "y": [
          2.597957045573599
         ],
         "yaxis": "y"
        },
        {
         "hovertemplate": "index=resnetrs101_CosFace_AdamW_rank_by_id_val<br>Marker=0<br>Error=%{x}<br>Disparity=%{y}<extra></extra>",
         "legendgroup": "resnetrs101_CosFace_AdamW_rank_by_id_val, 0",
         "marker": {
          "color": "#FECB52",
          "symbol": "circle"
         },
         "mode": "markers",
         "name": "resnetrs101_CosFace_AdamW_rank_by_id_val, 0",
         "orientation": "v",
         "showlegend": true,
         "type": "scatter",
         "x": [
          0.18916972236773177
         ],
         "xaxis": "x",
         "y": [
          1.5584075432163438
         ],
         "yaxis": "y"
        },
        {
         "hovertemplate": "index=resnetrs101_CosFace_AdamW_0.001_cosine_rank_by_id_val<br>Marker=0<br>Error=%{x}<br>Disparity=%{y}<extra></extra>",
         "legendgroup": "resnetrs101_CosFace_AdamW_0.001_cosine_rank_by_id_val, 0",
         "marker": {
          "color": "#636efa",
          "symbol": "circle"
         },
         "mode": "markers",
         "name": "resnetrs101_CosFace_AdamW_0.001_cosine_rank_by_id_val, 0",
         "orientation": "v",
         "showlegend": true,
         "type": "scatter",
         "x": [
          0.3013357778941854
         ],
         "xaxis": "x",
         "y": [
          1.76794133053955
         ],
         "yaxis": "y"
        },
        {
         "hovertemplate": "index=resnetrs101_CosFace_SGD_rank_by_id_val<br>Marker=0<br>Error=%{x}<br>Disparity=%{y}<extra></extra>",
         "legendgroup": "resnetrs101_CosFace_SGD_rank_by_id_val, 0",
         "marker": {
          "color": "#EF553B",
          "symbol": "circle"
         },
         "mode": "markers",
         "name": "resnetrs101_CosFace_SGD_rank_by_id_val, 0",
         "orientation": "v",
         "showlegend": true,
         "type": "scatter",
         "x": [
          0.1278156102671556
         ],
         "xaxis": "x",
         "y": [
          2.073467784180199
         ],
         "yaxis": "y"
        },
        {
         "hovertemplate": "index=resnetrs101_CosFace_SGD_0.1_cosine_rank_by_id_val<br>Marker=0<br>Error=%{x}<br>Disparity=%{y}<extra></extra>",
         "legendgroup": "resnetrs101_CosFace_SGD_0.1_cosine_rank_by_id_val, 0",
         "marker": {
          "color": "#00cc96",
          "symbol": "circle"
         },
         "mode": "markers",
         "name": "resnetrs101_CosFace_SGD_0.1_cosine_rank_by_id_val, 0",
         "orientation": "v",
         "showlegend": true,
         "type": "scatter",
         "x": [
          0.19656888423258245
         ],
         "xaxis": "x",
         "y": [
          3.0883970665269773
         ],
         "yaxis": "y"
        },
        {
         "hovertemplate": "index=resnetrs101_MagFace_AdamW_rank_by_id_val<br>Marker=0<br>Error=%{x}<br>Disparity=%{y}<extra></extra>",
         "legendgroup": "resnetrs101_MagFace_AdamW_rank_by_id_val, 0",
         "marker": {
          "color": "#ab63fa",
          "symbol": "circle"
         },
         "mode": "markers",
         "name": "resnetrs101_MagFace_AdamW_rank_by_id_val, 0",
         "orientation": "v",
         "showlegend": true,
         "type": "scatter",
         "x": [
          0.1847171293871137
         ],
         "xaxis": "x",
         "y": [
          1.583813514929282
         ],
         "yaxis": "y"
        },
        {
         "hovertemplate": "index=resnetrs101_MagFace_AdamW_0.001_cosine_rank_by_id_val<br>Marker=0<br>Error=%{x}<br>Disparity=%{y}<extra></extra>",
         "legendgroup": "resnetrs101_MagFace_AdamW_0.001_cosine_rank_by_id_val, 0",
         "marker": {
          "color": "#FFA15A",
          "symbol": "circle"
         },
         "mode": "markers",
         "name": "resnetrs101_MagFace_AdamW_0.001_cosine_rank_by_id_val, 0",
         "orientation": "v",
         "showlegend": true,
         "type": "scatter",
         "x": [
          0.35168936616029334
         ],
         "xaxis": "x",
         "y": [
          3.5284180199057094
         ],
         "yaxis": "y"
        },
        {
         "hovertemplate": "index=resnetrs101_MagFace_SGD_rank_by_id_val<br>Marker=0<br>Error=%{x}<br>Disparity=%{y}<extra></extra>",
         "legendgroup": "resnetrs101_MagFace_SGD_rank_by_id_val, 0",
         "marker": {
          "color": "#19d3f3",
          "symbol": "circle"
         },
         "mode": "markers",
         "name": "resnetrs101_MagFace_SGD_rank_by_id_val, 0",
         "orientation": "v",
         "showlegend": true,
         "type": "scatter",
         "x": [
          0.17103195390256676
         ],
         "xaxis": "x",
         "y": [
          1.798192771084337
         ],
         "yaxis": "y"
        },
        {
         "hovertemplate": "index=resnetrs101_MagFace_SGD_0.1_cosine_rank_by_id_val<br>Marker=0<br>Error=%{x}<br>Disparity=%{y}<extra></extra>",
         "legendgroup": "resnetrs101_MagFace_SGD_0.1_cosine_rank_by_id_val, 0",
         "marker": {
          "color": "#FF6692",
          "symbol": "circle"
         },
         "mode": "markers",
         "name": "resnetrs101_MagFace_SGD_0.1_cosine_rank_by_id_val, 0",
         "orientation": "v",
         "showlegend": true,
         "type": "scatter",
         "x": [
          0.40957307490832895
         ],
         "xaxis": "x",
         "y": [
          3.6727344159245687
         ],
         "yaxis": "y"
        },
        {
         "hovertemplate": "index=rexnet_200_ArcFace_AdamW_rank_by_id_val<br>Marker=0<br>Error=%{x}<br>Disparity=%{y}<extra></extra>",
         "legendgroup": "rexnet_200_ArcFace_AdamW_rank_by_id_val, 0",
         "marker": {
          "color": "#B6E880",
          "symbol": "circle"
         },
         "mode": "markers",
         "name": "rexnet_200_ArcFace_AdamW_rank_by_id_val, 0",
         "orientation": "v",
         "showlegend": true,
         "type": "scatter",
         "x": [
          0.9412650602409639
         ],
         "xaxis": "x",
         "y": [
          17.006678889470933
         ],
         "yaxis": "y"
        },
        {
         "hovertemplate": "index=rexnet_200_ArcFace_AdamW_0.001_cosine_rank_by_id_val<br>Marker=0<br>Error=%{x}<br>Disparity=%{y}<extra></extra>",
         "legendgroup": "rexnet_200_ArcFace_AdamW_0.001_cosine_rank_by_id_val, 0",
         "marker": {
          "color": "#FF97FF",
          "symbol": "circle"
         },
         "mode": "markers",
         "name": "rexnet_200_ArcFace_AdamW_0.001_cosine_rank_by_id_val, 0",
         "orientation": "v",
         "showlegend": true,
         "type": "scatter",
         "x": [
          0.31960450497642745
         ],
         "xaxis": "x",
         "y": [
          2.5726820324777373
         ],
         "yaxis": "y"
        },
        {
         "hovertemplate": "index=rexnet_200_ArcFace_SGD_rank_by_id_val<br>Marker=0<br>Error=%{x}<br>Disparity=%{y}<extra></extra>",
         "legendgroup": "rexnet_200_ArcFace_SGD_rank_by_id_val, 0",
         "marker": {
          "color": "#FECB52",
          "symbol": "circle"
         },
         "mode": "markers",
         "name": "rexnet_200_ArcFace_SGD_rank_by_id_val, 0",
         "orientation": "v",
         "showlegend": true,
         "type": "scatter",
         "x": [
          0.21712938711367213
         ],
         "xaxis": "x",
         "y": [
          2.2221058145625983
         ],
         "yaxis": "y"
        },
        {
         "hovertemplate": "index=rexnet_200_ArcFace_SGD_0.1_cosine_rank_by_id_val<br>Marker=0<br>Error=%{x}<br>Disparity=%{y}<extra></extra>",
         "legendgroup": "rexnet_200_ArcFace_SGD_0.1_cosine_rank_by_id_val, 0",
         "marker": {
          "color": "#636efa",
          "symbol": "circle"
         },
         "mode": "markers",
         "name": "rexnet_200_ArcFace_SGD_0.1_cosine_rank_by_id_val, 0",
         "orientation": "v",
         "showlegend": true,
         "type": "scatter",
         "x": [
          0.18707438449449976
         ],
         "xaxis": "x",
         "y": [
          2.3833158721843897
         ],
         "yaxis": "y"
        },
        {
         "hovertemplate": "index=rexnet_200_CosFace_AdamW_rank_by_id_val<br>Marker=0<br>Error=%{x}<br>Disparity=%{y}<extra></extra>",
         "legendgroup": "rexnet_200_CosFace_AdamW_rank_by_id_val, 0",
         "marker": {
          "color": "#EF553B",
          "symbol": "circle"
         },
         "mode": "markers",
         "name": "rexnet_200_CosFace_AdamW_rank_by_id_val, 0",
         "orientation": "v",
         "showlegend": true,
         "type": "scatter",
         "x": [
          0.9692247249869042
         ],
         "xaxis": "x",
         "y": [
          7.476427448926131
         ],
         "yaxis": "y"
        },
        {
         "hovertemplate": "index=rexnet_200_CosFace_AdamW_0.001_cosine_rank_by_id_val<br>Marker=0<br>Error=%{x}<br>Disparity=%{y}<extra></extra>",
         "legendgroup": "rexnet_200_CosFace_AdamW_0.001_cosine_rank_by_id_val, 0",
         "marker": {
          "color": "#00cc96",
          "symbol": "circle"
         },
         "mode": "markers",
         "name": "rexnet_200_CosFace_AdamW_0.001_cosine_rank_by_id_val, 0",
         "orientation": "v",
         "showlegend": true,
         "type": "scatter",
         "x": [
          0.055002619172341505
         ],
         "xaxis": "x",
         "y": [
          2.652435830277632
         ],
         "yaxis": "y"
        },
        {
         "hovertemplate": "index=rexnet_200_CosFace_SGD_rank_by_id_val<br>Marker=0<br>Error=%{x}<br>Disparity=%{y}<extra></extra>",
         "legendgroup": "rexnet_200_CosFace_SGD_rank_by_id_val, 0",
         "marker": {
          "color": "#ab63fa",
          "symbol": "circle"
         },
         "mode": "markers",
         "name": "rexnet_200_CosFace_SGD_rank_by_id_val, 0",
         "orientation": "v",
         "showlegend": true,
         "type": "scatter",
         "x": [
          0.04596647459402825
         ],
         "xaxis": "x",
         "y": [
          2.185568360398114
         ],
         "yaxis": "y"
        },
        {
         "hovertemplate": "index=rexnet_200_CosFace_SGD_0.1_cosine_rank_by_id_val<br>Marker=0<br>Error=%{x}<br>Disparity=%{y}<extra></extra>",
         "legendgroup": "rexnet_200_CosFace_SGD_0.1_cosine_rank_by_id_val, 0",
         "marker": {
          "color": "#FFA15A",
          "symbol": "circle"
         },
         "mode": "markers",
         "name": "rexnet_200_CosFace_SGD_0.1_cosine_rank_by_id_val, 0",
         "orientation": "v",
         "showlegend": true,
         "type": "scatter",
         "x": [
          0.04649030906233631
         ],
         "xaxis": "x",
         "y": [
          2.301597695128339
         ],
         "yaxis": "y"
        },
        {
         "hovertemplate": "index=rexnet_200_MagFace_AdamW_0.001_cosine_rank_by_id_val<br>Marker=0<br>Error=%{x}<br>Disparity=%{y}<extra></extra>",
         "legendgroup": "rexnet_200_MagFace_AdamW_0.001_cosine_rank_by_id_val, 0",
         "marker": {
          "color": "#19d3f3",
          "symbol": "circle"
         },
         "mode": "markers",
         "name": "rexnet_200_MagFace_AdamW_0.001_cosine_rank_by_id_val, 0",
         "orientation": "v",
         "showlegend": true,
         "type": "scatter",
         "x": [
          0.33846254583551594
         ],
         "xaxis": "x",
         "y": [
          2.6262441068622318
         ],
         "yaxis": "y"
        },
        {
         "hovertemplate": "index=rexnet_200_MagFace_SGD_rank_by_id_val<br>Marker=0<br>Error=%{x}<br>Disparity=%{y}<extra></extra>",
         "legendgroup": "rexnet_200_MagFace_SGD_rank_by_id_val, 0",
         "marker": {
          "color": "#FF6692",
          "symbol": "circle"
         },
         "mode": "markers",
         "name": "rexnet_200_MagFace_SGD_rank_by_id_val, 0",
         "orientation": "v",
         "showlegend": true,
         "type": "scatter",
         "x": [
          0.09226034573074904
         ],
         "xaxis": "x",
         "y": [
          1.887375589313777
         ],
         "yaxis": "y"
        },
        {
         "hovertemplate": "index=rexnet_200_MagFace_SGD_0.1_cosine_rank_by_id_val<br>Marker=0<br>Error=%{x}<br>Disparity=%{y}<extra></extra>",
         "legendgroup": "rexnet_200_MagFace_SGD_0.1_cosine_rank_by_id_val, 0",
         "marker": {
          "color": "#B6E880",
          "symbol": "circle"
         },
         "mode": "markers",
         "name": "rexnet_200_MagFace_SGD_0.1_cosine_rank_by_id_val, 0",
         "orientation": "v",
         "showlegend": true,
         "type": "scatter",
         "x": [
          0.08492666317443687
         ],
         "xaxis": "x",
         "y": [
          1.5644316396018856
         ],
         "yaxis": "y"
        },
        {
         "hovertemplate": "index=selecsls60b_ArcFace_AdamW_rank_by_id_val<br>Marker=0<br>Error=%{x}<br>Disparity=%{y}<extra></extra>",
         "legendgroup": "selecsls60b_ArcFace_AdamW_rank_by_id_val, 0",
         "marker": {
          "color": "#FF97FF",
          "symbol": "circle"
         },
         "mode": "markers",
         "name": "selecsls60b_ArcFace_AdamW_rank_by_id_val, 0",
         "orientation": "v",
         "showlegend": true,
         "type": "scatter",
         "x": [
          0.25039287585123104
         ],
         "xaxis": "x",
         "y": [
          2.317574646411734
         ],
         "yaxis": "y"
        },
        {
         "hovertemplate": "index=selecsls60b_ArcFace_AdamW_0.001_cosine_rank_by_id_val<br>Marker=0<br>Error=%{x}<br>Disparity=%{y}<extra></extra>",
         "legendgroup": "selecsls60b_ArcFace_AdamW_0.001_cosine_rank_by_id_val, 0",
         "marker": {
          "color": "#FECB52",
          "symbol": "circle"
         },
         "mode": "markers",
         "name": "selecsls60b_ArcFace_AdamW_0.001_cosine_rank_by_id_val, 0",
         "orientation": "v",
         "showlegend": true,
         "type": "scatter",
         "x": [
          0.2934127815610267
         ],
         "xaxis": "x",
         "y": [
          2.397983237297014
         ],
         "yaxis": "y"
        },
        {
         "hovertemplate": "index=selecsls60b_ArcFace_SGD_rank_by_id_val<br>Marker=0<br>Error=%{x}<br>Disparity=%{y}<extra></extra>",
         "legendgroup": "selecsls60b_ArcFace_SGD_rank_by_id_val, 0",
         "marker": {
          "color": "#636efa",
          "symbol": "circle"
         },
         "mode": "markers",
         "name": "selecsls60b_ArcFace_SGD_rank_by_id_val, 0",
         "orientation": "v",
         "showlegend": true,
         "type": "scatter",
         "x": [
          0.33852802514405445
         ],
         "xaxis": "x",
         "y": [
          3.2562860136196967
         ],
         "yaxis": "y"
        },
        {
         "hovertemplate": "index=selecsls60b_CosFace_Adam_rank_by_id_val<br>Marker=0<br>Error=%{x}<br>Disparity=%{y}<extra></extra>",
         "legendgroup": "selecsls60b_CosFace_Adam_rank_by_id_val, 0",
         "marker": {
          "color": "#EF553B",
          "symbol": "circle"
         },
         "mode": "markers",
         "name": "selecsls60b_CosFace_Adam_rank_by_id_val, 0",
         "orientation": "v",
         "showlegend": true,
         "type": "scatter",
         "x": [
          0.9960057621791514
         ],
         "xaxis": "x",
         "y": [
          23.902435830277625
         ],
         "yaxis": "y"
        },
        {
         "hovertemplate": "index=selecsls60b_CosFace_AdamW_rank_by_id_val<br>Marker=0<br>Error=%{x}<br>Disparity=%{y}<extra></extra>",
         "legendgroup": "selecsls60b_CosFace_AdamW_rank_by_id_val, 0",
         "marker": {
          "color": "#00cc96",
          "symbol": "circle"
         },
         "mode": "markers",
         "name": "selecsls60b_CosFace_AdamW_rank_by_id_val, 0",
         "orientation": "v",
         "showlegend": true,
         "type": "scatter",
         "x": [
          0.7784180199057098
         ],
         "xaxis": "x",
         "y": [
          9.452462022001049
         ],
         "yaxis": "y"
        },
        {
         "hovertemplate": "index=selecsls60b_CosFace_AdamW_0.001_cosine_rank_by_id_val<br>Marker=0<br>Error=%{x}<br>Disparity=%{y}<extra></extra>",
         "legendgroup": "selecsls60b_CosFace_AdamW_0.001_cosine_rank_by_id_val, 0",
         "marker": {
          "color": "#ab63fa",
          "symbol": "circle"
         },
         "mode": "markers",
         "name": "selecsls60b_CosFace_AdamW_0.001_cosine_rank_by_id_val, 0",
         "orientation": "v",
         "showlegend": true,
         "type": "scatter",
         "x": [
          0.4081325301204819
         ],
         "xaxis": "x",
         "y": [
          6.285096909376637
         ],
         "yaxis": "y"
        },
        {
         "hovertemplate": "index=selecsls60b_CosFace_SGD_rank_by_id_val<br>Marker=0<br>Error=%{x}<br>Disparity=%{y}<extra></extra>",
         "legendgroup": "selecsls60b_CosFace_SGD_rank_by_id_val, 0",
         "marker": {
          "color": "#FFA15A",
          "symbol": "circle"
         },
         "mode": "markers",
         "name": "selecsls60b_CosFace_SGD_rank_by_id_val, 0",
         "orientation": "v",
         "showlegend": true,
         "type": "scatter",
         "x": [
          0.40878732320586697
         ],
         "xaxis": "x",
         "y": [
          7.290859088528027
         ],
         "yaxis": "y"
        },
        {
         "hovertemplate": "index=selecsls60b_CosFace_SGD_0.1_cosine_rank_by_id_val<br>Marker=0<br>Error=%{x}<br>Disparity=%{y}<extra></extra>",
         "legendgroup": "selecsls60b_CosFace_SGD_0.1_cosine_rank_by_id_val, 0",
         "marker": {
          "color": "#19d3f3",
          "symbol": "circle"
         },
         "mode": "markers",
         "name": "selecsls60b_CosFace_SGD_0.1_cosine_rank_by_id_val, 0",
         "orientation": "v",
         "showlegend": true,
         "type": "scatter",
         "x": [
          0.38508381351492926
         ],
         "xaxis": "x",
         "y": [
          7.056574122577267
         ],
         "yaxis": "y"
        },
        {
         "hovertemplate": "index=selecsls60b_MagFace_AdamW_rank_by_id_val<br>Marker=0<br>Error=%{x}<br>Disparity=%{y}<extra></extra>",
         "legendgroup": "selecsls60b_MagFace_AdamW_rank_by_id_val, 0",
         "marker": {
          "color": "#FF6692",
          "symbol": "circle"
         },
         "mode": "markers",
         "name": "selecsls60b_MagFace_AdamW_rank_by_id_val, 0",
         "orientation": "v",
         "showlegend": true,
         "type": "scatter",
         "x": [
          0.18720534311157677
         ],
         "xaxis": "x",
         "y": [
          2.5517286537454162
         ],
         "yaxis": "y"
        },
        {
         "hovertemplate": "index=selecsls60b_MagFace_AdamW_0.001_cosine_rank_by_id_val<br>Marker=0<br>Error=%{x}<br>Disparity=%{y}<extra></extra>",
         "legendgroup": "selecsls60b_MagFace_AdamW_0.001_cosine_rank_by_id_val, 0",
         "marker": {
          "color": "#B6E880",
          "symbol": "circle"
         },
         "mode": "markers",
         "name": "selecsls60b_MagFace_AdamW_0.001_cosine_rank_by_id_val, 0",
         "orientation": "v",
         "showlegend": true,
         "type": "scatter",
         "x": [
          0.2568098480880042
         ],
         "xaxis": "x",
         "y": [
          2.742404400209534
         ],
         "yaxis": "y"
        },
        {
         "hovertemplate": "index=selecsls60b_MagFace_SGD_rank_by_id_val<br>Marker=0<br>Error=%{x}<br>Disparity=%{y}<extra></extra>",
         "legendgroup": "selecsls60b_MagFace_SGD_rank_by_id_val, 0",
         "marker": {
          "color": "#FF97FF",
          "symbol": "circle"
         },
         "mode": "markers",
         "name": "selecsls60b_MagFace_SGD_rank_by_id_val, 0",
         "orientation": "v",
         "showlegend": true,
         "type": "scatter",
         "x": [
          0.3059193294918806
         ],
         "xaxis": "x",
         "y": [
          2.767548454688318
         ],
         "yaxis": "y"
        },
        {
         "hovertemplate": "index=selecsls60b_MagFace_SGD_0.1_cosine_rank_by_id_val<br>Marker=0<br>Error=%{x}<br>Disparity=%{y}<extra></extra>",
         "legendgroup": "selecsls60b_MagFace_SGD_0.1_cosine_rank_by_id_val, 0",
         "marker": {
          "color": "#FECB52",
          "symbol": "circle"
         },
         "mode": "markers",
         "name": "selecsls60b_MagFace_SGD_0.1_cosine_rank_by_id_val, 0",
         "orientation": "v",
         "showlegend": true,
         "type": "scatter",
         "x": [
          0.29020429544264015
         ],
         "xaxis": "x",
         "y": [
          3.3276584599266634
         ],
         "yaxis": "y"
        },
        {
         "hovertemplate": "index=swin_base_patch4_window7_224_CosFace_AdamW_0.001_cosine_rank_by_id_val<br>Marker=0<br>Error=%{x}<br>Disparity=%{y}<extra></extra>",
         "legendgroup": "swin_base_patch4_window7_224_CosFace_AdamW_0.001_cosine_rank_by_id_val, 0",
         "marker": {
          "color": "#636efa",
          "symbol": "circle"
         },
         "mode": "markers",
         "name": "swin_base_patch4_window7_224_CosFace_AdamW_0.001_cosine_rank_by_id_val, 0",
         "orientation": "v",
         "showlegend": true,
         "type": "scatter",
         "x": [
          0.9945652173913043
         ],
         "xaxis": "x",
         "y": [
          16.601361969617585
         ],
         "yaxis": "y"
        },
        {
         "hovertemplate": "index=swin_base_patch4_window7_224_CosFace_SGD_0.1_cosine_rank_by_id_val<br>Marker=0<br>Error=%{x}<br>Disparity=%{y}<extra></extra>",
         "legendgroup": "swin_base_patch4_window7_224_CosFace_SGD_0.1_cosine_rank_by_id_val, 0",
         "marker": {
          "color": "#EF553B",
          "symbol": "circle"
         },
         "mode": "markers",
         "name": "swin_base_patch4_window7_224_CosFace_SGD_0.1_cosine_rank_by_id_val, 0",
         "orientation": "v",
         "showlegend": true,
         "type": "scatter",
         "x": [
          0.998952331063384
         ],
         "xaxis": "x",
         "y": [
          1.8331587218439154
         ],
         "yaxis": "y"
        },
        {
         "hovertemplate": "index=swin_base_patch4_window7_224_MagFace_SGD_0.1_cosine_rank_by_id_val<br>Marker=0<br>Error=%{x}<br>Disparity=%{y}<extra></extra>",
         "legendgroup": "swin_base_patch4_window7_224_MagFace_SGD_0.1_cosine_rank_by_id_val, 0",
         "marker": {
          "color": "#00cc96",
          "symbol": "circle"
         },
         "mode": "markers",
         "name": "swin_base_patch4_window7_224_MagFace_SGD_0.1_cosine_rank_by_id_val, 0",
         "orientation": "v",
         "showlegend": true,
         "type": "scatter",
         "x": [
          0.26178627553693035
         ],
         "xaxis": "x",
         "y": [
          2.9414614981665794
         ],
         "yaxis": "y"
        },
        {
         "hovertemplate": "index=tf_efficientnet_b7_ns_ArcFace_AdamW_0.001_cosine_rank_by_id_val<br>Marker=0<br>Error=%{x}<br>Disparity=%{y}<extra></extra>",
         "legendgroup": "tf_efficientnet_b7_ns_ArcFace_AdamW_0.001_cosine_rank_by_id_val, 0",
         "marker": {
          "color": "#ab63fa",
          "symbol": "circle"
         },
         "mode": "markers",
         "name": "tf_efficientnet_b7_ns_ArcFace_AdamW_0.001_cosine_rank_by_id_val, 0",
         "orientation": "v",
         "showlegend": true,
         "type": "scatter",
         "x": [
          0.9967915138816134
         ],
         "xaxis": "x",
         "y": [
          5.92587742273443
         ],
         "yaxis": "y"
        },
        {
         "hovertemplate": "index=tf_efficientnet_b7_ns_ArcFace_SGD_0.1_cosine_rank_by_id_val<br>Marker=0<br>Error=%{x}<br>Disparity=%{y}<extra></extra>",
         "legendgroup": "tf_efficientnet_b7_ns_ArcFace_SGD_0.1_cosine_rank_by_id_val, 0",
         "marker": {
          "color": "#FFA15A",
          "symbol": "circle"
         },
         "mode": "markers",
         "name": "tf_efficientnet_b7_ns_ArcFace_SGD_0.1_cosine_rank_by_id_val, 0",
         "orientation": "v",
         "showlegend": true,
         "type": "scatter",
         "x": [
          0.9981665793609219
         ],
         "xaxis": "x",
         "y": [
          6.101754845468832
         ],
         "yaxis": "y"
        },
        {
         "hovertemplate": "index=tf_efficientnet_b7_ns_CosFace_AdamW_0.001_cosine_rank_by_id_val<br>Marker=0<br>Error=%{x}<br>Disparity=%{y}<extra></extra>",
         "legendgroup": "tf_efficientnet_b7_ns_CosFace_AdamW_0.001_cosine_rank_by_id_val, 0",
         "marker": {
          "color": "#19d3f3",
          "symbol": "circle"
         },
         "mode": "markers",
         "name": "tf_efficientnet_b7_ns_CosFace_AdamW_0.001_cosine_rank_by_id_val, 0",
         "orientation": "v",
         "showlegend": true,
         "type": "scatter",
         "x": [
          0.1533525405971713
         ],
         "xaxis": "x",
         "y": [
          3.029203771608172
         ],
         "yaxis": "y"
        },
        {
         "hovertemplate": "index=tf_efficientnet_b7_ns_CosFace_SGD_0.1_cosine_rank_by_id_val<br>Marker=0<br>Error=%{x}<br>Disparity=%{y}<extra></extra>",
         "legendgroup": "tf_efficientnet_b7_ns_CosFace_SGD_0.1_cosine_rank_by_id_val, 0",
         "marker": {
          "color": "#FF6692",
          "symbol": "circle"
         },
         "mode": "markers",
         "name": "tf_efficientnet_b7_ns_CosFace_SGD_0.1_cosine_rank_by_id_val, 0",
         "orientation": "v",
         "showlegend": true,
         "type": "scatter",
         "x": [
          0.11255893137768469
         ],
         "xaxis": "x",
         "y": [
          2.385149292823468
         ],
         "yaxis": "y"
        },
        {
         "hovertemplate": "index=tf_efficientnet_b7_ns_MagFace_AdamW_0.001_cosine_rank_by_id_val<br>Marker=0<br>Error=%{x}<br>Disparity=%{y}<extra></extra>",
         "legendgroup": "tf_efficientnet_b7_ns_MagFace_AdamW_0.001_cosine_rank_by_id_val, 0",
         "marker": {
          "color": "#B6E880",
          "symbol": "circle"
         },
         "mode": "markers",
         "name": "tf_efficientnet_b7_ns_MagFace_AdamW_0.001_cosine_rank_by_id_val, 0",
         "orientation": "v",
         "showlegend": true,
         "type": "scatter",
         "x": [
          0.6856338397066527
         ],
         "xaxis": "x",
         "y": [
          6.99777370350969
         ],
         "yaxis": "y"
        },
        {
         "hovertemplate": "index=tf_efficientnet_b7_ns_MagFace_SGD_0.1_cosine_rank_by_id_val<br>Marker=0<br>Error=%{x}<br>Disparity=%{y}<extra></extra>",
         "legendgroup": "tf_efficientnet_b7_ns_MagFace_SGD_0.1_cosine_rank_by_id_val, 0",
         "marker": {
          "color": "#FF97FF",
          "symbol": "circle"
         },
         "mode": "markers",
         "name": "tf_efficientnet_b7_ns_MagFace_SGD_0.1_cosine_rank_by_id_val, 0",
         "orientation": "v",
         "showlegend": true,
         "type": "scatter",
         "x": [
          0.588593504452593
         ],
         "xaxis": "x",
         "y": [
          7.88776846516501
         ],
         "yaxis": "y"
        },
        {
         "hovertemplate": "index=tnt_s_patch16_224_ArcFace_AdamW_rank_by_id_val<br>Marker=0<br>Error=%{x}<br>Disparity=%{y}<extra></extra>",
         "legendgroup": "tnt_s_patch16_224_ArcFace_AdamW_rank_by_id_val, 0",
         "marker": {
          "color": "#FECB52",
          "symbol": "circle"
         },
         "mode": "markers",
         "name": "tnt_s_patch16_224_ArcFace_AdamW_rank_by_id_val, 0",
         "orientation": "v",
         "showlegend": true,
         "type": "scatter",
         "x": [
          0.6313514929282347
         ],
         "xaxis": "x",
         "y": [
          7.05945521215296
         ],
         "yaxis": "y"
        },
        {
         "hovertemplate": "index=tnt_s_patch16_224_CosFace_AdamW_rank_by_id_val<br>Marker=0<br>Error=%{x}<br>Disparity=%{y}<extra></extra>",
         "legendgroup": "tnt_s_patch16_224_CosFace_AdamW_rank_by_id_val, 0",
         "marker": {
          "color": "#636efa",
          "symbol": "circle"
         },
         "mode": "markers",
         "name": "tnt_s_patch16_224_CosFace_AdamW_rank_by_id_val, 0",
         "orientation": "v",
         "showlegend": true,
         "type": "scatter",
         "x": [
          0.05159769512833945
         ],
         "xaxis": "x",
         "y": [
          1.9494499738082771
         ],
         "yaxis": "y"
        },
        {
         "hovertemplate": "index=tnt_s_patch16_224_CosFace_SGD_rank_by_id_val<br>Marker=0<br>Error=%{x}<br>Disparity=%{y}<extra></extra>",
         "legendgroup": "tnt_s_patch16_224_CosFace_SGD_rank_by_id_val, 0",
         "marker": {
          "color": "#EF553B",
          "symbol": "circle"
         },
         "mode": "markers",
         "name": "tnt_s_patch16_224_CosFace_SGD_rank_by_id_val, 0",
         "orientation": "v",
         "showlegend": true,
         "type": "scatter",
         "x": [
          0.587676794133054
         ],
         "xaxis": "x",
         "y": [
          2.973415400733373
         ],
         "yaxis": "y"
        },
        {
         "hovertemplate": "index=vgg19_CosFace_SGD_rank_by_id_val<br>Marker=0<br>Error=%{x}<br>Disparity=%{y}<extra></extra>",
         "legendgroup": "vgg19_CosFace_SGD_rank_by_id_val, 0",
         "marker": {
          "color": "#00cc96",
          "symbol": "circle"
         },
         "mode": "markers",
         "name": "vgg19_CosFace_SGD_rank_by_id_val, 0",
         "orientation": "v",
         "showlegend": true,
         "type": "scatter",
         "x": [
          0.3425877422734416
         ],
         "xaxis": "x",
         "y": [
          6.093111576741748
         ],
         "yaxis": "y"
        },
        {
         "hovertemplate": "index=vgg19_MagFace_SGD_rank_by_id_val<br>Marker=0<br>Error=%{x}<br>Disparity=%{y}<extra></extra>",
         "legendgroup": "vgg19_MagFace_SGD_rank_by_id_val, 0",
         "marker": {
          "color": "#ab63fa",
          "symbol": "circle"
         },
         "mode": "markers",
         "name": "vgg19_MagFace_SGD_rank_by_id_val, 0",
         "orientation": "v",
         "showlegend": true,
         "type": "scatter",
         "x": [
          0.30068098480880046
         ],
         "xaxis": "x",
         "y": [
          2.2585123101100057
         ],
         "yaxis": "y"
        },
        {
         "hovertemplate": "index=vgg19_bn_ArcFace_AdamW_rank_by_id_val<br>Marker=0<br>Error=%{x}<br>Disparity=%{y}<extra></extra>",
         "legendgroup": "vgg19_bn_ArcFace_AdamW_rank_by_id_val, 0",
         "marker": {
          "color": "#FFA15A",
          "symbol": "circle"
         },
         "mode": "markers",
         "name": "vgg19_bn_ArcFace_AdamW_rank_by_id_val, 0",
         "orientation": "v",
         "showlegend": true,
         "type": "scatter",
         "x": [
          0.35450497642744894
         ],
         "xaxis": "x",
         "y": [
          1.888423258250393
         ],
         "yaxis": "y"
        },
        {
         "hovertemplate": "index=vgg19_bn_ArcFace_AdamW_0.001_cosine_rank_by_id_val<br>Marker=0<br>Error=%{x}<br>Disparity=%{y}<extra></extra>",
         "legendgroup": "vgg19_bn_ArcFace_AdamW_0.001_cosine_rank_by_id_val, 0",
         "marker": {
          "color": "#19d3f3",
          "symbol": "circle"
         },
         "mode": "markers",
         "name": "vgg19_bn_ArcFace_AdamW_0.001_cosine_rank_by_id_val, 0",
         "orientation": "v",
         "showlegend": true,
         "type": "scatter",
         "x": [
          0.34697485594552124
         ],
         "xaxis": "x",
         "y": [
          3.223022524882137
         ],
         "yaxis": "y"
        },
        {
         "hovertemplate": "index=vgg19_bn_ArcFace_SGD_rank_by_id_val<br>Marker=0<br>Error=%{x}<br>Disparity=%{y}<extra></extra>",
         "legendgroup": "vgg19_bn_ArcFace_SGD_rank_by_id_val, 0",
         "marker": {
          "color": "#FF6692",
          "symbol": "circle"
         },
         "mode": "markers",
         "name": "vgg19_bn_ArcFace_SGD_rank_by_id_val, 0",
         "orientation": "v",
         "showlegend": true,
         "type": "scatter",
         "x": [
          0.22806443163960188
         ],
         "xaxis": "x",
         "y": [
          2.0113933996856996
         ],
         "yaxis": "y"
        },
        {
         "hovertemplate": "index=vgg19_bn_ArcFace_SGD_0.1_cosine_rank_by_id_val<br>Marker=0<br>Error=%{x}<br>Disparity=%{y}<extra></extra>",
         "legendgroup": "vgg19_bn_ArcFace_SGD_0.1_cosine_rank_by_id_val, 0",
         "marker": {
          "color": "#B6E880",
          "symbol": "circle"
         },
         "mode": "markers",
         "name": "vgg19_bn_ArcFace_SGD_0.1_cosine_rank_by_id_val, 0",
         "orientation": "v",
         "showlegend": true,
         "type": "scatter",
         "x": [
          0.30454426401257206
         ],
         "xaxis": "x",
         "y": [
          3.4256155055002617
         ],
         "yaxis": "y"
        },
        {
         "hovertemplate": "index=vgg19_bn_CosFace_SGD_rank_by_id_val<br>Marker=0<br>Error=%{x}<br>Disparity=%{y}<extra></extra>",
         "legendgroup": "vgg19_bn_CosFace_SGD_rank_by_id_val, 0",
         "marker": {
          "color": "#FF97FF",
          "symbol": "circle"
         },
         "mode": "markers",
         "name": "vgg19_bn_CosFace_SGD_rank_by_id_val, 0",
         "orientation": "v",
         "showlegend": true,
         "type": "scatter",
         "x": [
          0.3465165007857517
         ],
         "xaxis": "x",
         "y": [
          3.2710843373493965
         ],
         "yaxis": "y"
        },
        {
         "hovertemplate": "index=vgg19_bn_MagFace_AdamW_rank_by_id_val<br>Marker=0<br>Error=%{x}<br>Disparity=%{y}<extra></extra>",
         "legendgroup": "vgg19_bn_MagFace_AdamW_rank_by_id_val, 0",
         "marker": {
          "color": "#FECB52",
          "symbol": "circle"
         },
         "mode": "markers",
         "name": "vgg19_bn_MagFace_AdamW_rank_by_id_val, 0",
         "orientation": "v",
         "showlegend": true,
         "type": "scatter",
         "x": [
          0.2820193818753274
         ],
         "xaxis": "x",
         "y": [
          1.8258250392875848
         ],
         "yaxis": "y"
        },
        {
         "hovertemplate": "index=vgg19_bn_MagFace_AdamW_0.001_cosine_rank_by_id_val<br>Marker=0<br>Error=%{x}<br>Disparity=%{y}<extra></extra>",
         "legendgroup": "vgg19_bn_MagFace_AdamW_0.001_cosine_rank_by_id_val, 0",
         "marker": {
          "color": "#636efa",
          "symbol": "circle"
         },
         "mode": "markers",
         "name": "vgg19_bn_MagFace_AdamW_0.001_cosine_rank_by_id_val, 0",
         "orientation": "v",
         "showlegend": true,
         "type": "scatter",
         "x": [
          0.6310240963855422
         ],
         "xaxis": "x",
         "y": [
          5.599921424829754
         ],
         "yaxis": "y"
        },
        {
         "hovertemplate": "index=vgg19_bn_MagFace_SGD_rank_by_id_val<br>Marker=0<br>Error=%{x}<br>Disparity=%{y}<extra></extra>",
         "legendgroup": "vgg19_bn_MagFace_SGD_rank_by_id_val, 0",
         "marker": {
          "color": "#EF553B",
          "symbol": "circle"
         },
         "mode": "markers",
         "name": "vgg19_bn_MagFace_SGD_rank_by_id_val, 0",
         "orientation": "v",
         "showlegend": true,
         "type": "scatter",
         "x": [
          0.18923520167627028
         ],
         "xaxis": "x",
         "y": [
          2.1547930853850183
         ],
         "yaxis": "y"
        },
        {
         "hovertemplate": "index=vgg19_bn_MagFace_SGD_0.1_cosine_rank_by_id_val<br>Marker=0<br>Error=%{x}<br>Disparity=%{y}<extra></extra>",
         "legendgroup": "vgg19_bn_MagFace_SGD_0.1_cosine_rank_by_id_val, 0",
         "marker": {
          "color": "#00cc96",
          "symbol": "circle"
         },
         "mode": "markers",
         "name": "vgg19_bn_MagFace_SGD_0.1_cosine_rank_by_id_val, 0",
         "orientation": "v",
         "showlegend": true,
         "type": "scatter",
         "x": [
          0.2443033001571503
         ],
         "xaxis": "x",
         "y": [
          2.2503928758512313
         ],
         "yaxis": "y"
        },
        {
         "hovertemplate": "index=visformer_small_ArcFace_AdamW_0.001_cosine_rank_by_id_val<br>Marker=0<br>Error=%{x}<br>Disparity=%{y}<extra></extra>",
         "legendgroup": "visformer_small_ArcFace_AdamW_0.001_cosine_rank_by_id_val, 0",
         "marker": {
          "color": "#ab63fa",
          "symbol": "circle"
         },
         "mode": "markers",
         "name": "visformer_small_ArcFace_AdamW_0.001_cosine_rank_by_id_val, 0",
         "orientation": "v",
         "showlegend": true,
         "type": "scatter",
         "x": [
          0.983171817705605
         ],
         "xaxis": "x",
         "y": [
          2.4146149816657783
         ],
         "yaxis": "y"
        },
        {
         "hovertemplate": "index=visformer_small_CosFace_AdamW_rank_by_id_val<br>Marker=0<br>Error=%{x}<br>Disparity=%{y}<extra></extra>",
         "legendgroup": "visformer_small_CosFace_AdamW_rank_by_id_val, 0",
         "marker": {
          "color": "#FFA15A",
          "symbol": "circle"
         },
         "mode": "markers",
         "name": "visformer_small_CosFace_AdamW_rank_by_id_val, 0",
         "orientation": "v",
         "showlegend": true,
         "type": "scatter",
         "x": [
          0.9627422734415925
         ],
         "xaxis": "x",
         "y": [
          13.2437139863803
         ],
         "yaxis": "y"
        },
        {
         "hovertemplate": "index=visformer_small_CosFace_AdamW_0.001_cosine_rank_by_id_val<br>Marker=0<br>Error=%{x}<br>Disparity=%{y}<extra></extra>",
         "legendgroup": "visformer_small_CosFace_AdamW_0.001_cosine_rank_by_id_val, 0",
         "marker": {
          "color": "#19d3f3",
          "symbol": "circle"
         },
         "mode": "markers",
         "name": "visformer_small_CosFace_AdamW_0.001_cosine_rank_by_id_val, 0",
         "orientation": "v",
         "showlegend": true,
         "type": "scatter",
         "x": [
          0.9702723939235202
         ],
         "xaxis": "x",
         "y": [
          3.5844683080146638
         ],
         "yaxis": "y"
        },
        {
         "hovertemplate": "index=visformer_small_CosFace_SGD_rank_by_id_val<br>Marker=0<br>Error=%{x}<br>Disparity=%{y}<extra></extra>",
         "legendgroup": "visformer_small_CosFace_SGD_rank_by_id_val, 0",
         "marker": {
          "color": "#FF6692",
          "symbol": "circle"
         },
         "mode": "markers",
         "name": "visformer_small_CosFace_SGD_rank_by_id_val, 0",
         "orientation": "v",
         "showlegend": true,
         "type": "scatter",
         "x": [
          0.6674305919329492
         ],
         "xaxis": "x",
         "y": [
          3.8525405971712914
         ],
         "yaxis": "y"
        },
        {
         "hovertemplate": "index=visformer_small_MagFace_AdamW_rank_by_id_val<br>Marker=0<br>Error=%{x}<br>Disparity=%{y}<extra></extra>",
         "legendgroup": "visformer_small_MagFace_AdamW_rank_by_id_val, 0",
         "marker": {
          "color": "#B6E880",
          "symbol": "circle"
         },
         "mode": "markers",
         "name": "visformer_small_MagFace_AdamW_rank_by_id_val, 0",
         "orientation": "v",
         "showlegend": true,
         "type": "scatter",
         "x": [
          0.9905055002619172
         ],
         "xaxis": "x",
         "y": [
          5.172734415924566
         ],
         "yaxis": "y"
        },
        {
         "hovertemplate": "index=visformer_small_MagFace_AdamW_0.001_cosine_rank_by_id_val<br>Marker=0<br>Error=%{x}<br>Disparity=%{y}<extra></extra>",
         "legendgroup": "visformer_small_MagFace_AdamW_0.001_cosine_rank_by_id_val, 0",
         "marker": {
          "color": "#FF97FF",
          "symbol": "circle"
         },
         "mode": "markers",
         "name": "visformer_small_MagFace_AdamW_0.001_cosine_rank_by_id_val, 0",
         "orientation": "v",
         "showlegend": true,
         "type": "scatter",
         "x": [
          0.9960712414876899
         ],
         "xaxis": "x",
         "y": [
          18.62179151388159
         ],
         "yaxis": "y"
        },
        {
         "hovertemplate": "index=xception65_ArcFace_AdamW_rank_by_id_val<br>Marker=0<br>Error=%{x}<br>Disparity=%{y}<extra></extra>",
         "legendgroup": "xception65_ArcFace_AdamW_rank_by_id_val, 0",
         "marker": {
          "color": "#FECB52",
          "symbol": "circle"
         },
         "mode": "markers",
         "name": "xception65_ArcFace_AdamW_rank_by_id_val, 0",
         "orientation": "v",
         "showlegend": true,
         "type": "scatter",
         "x": [
          0.4026322682032478
         ],
         "xaxis": "x",
         "y": [
          0.19958093242535568
         ],
         "yaxis": "y"
        },
        {
         "hovertemplate": "index=xception65_ArcFace_AdamW_0.001_cosine_rank_by_id_val<br>Marker=0<br>Error=%{x}<br>Disparity=%{y}<extra></extra>",
         "legendgroup": "xception65_ArcFace_AdamW_0.001_cosine_rank_by_id_val, 0",
         "marker": {
          "color": "#636efa",
          "symbol": "circle"
         },
         "mode": "markers",
         "name": "xception65_ArcFace_AdamW_0.001_cosine_rank_by_id_val, 0",
         "orientation": "v",
         "showlegend": true,
         "type": "scatter",
         "x": [
          0.40669198533263484
         ],
         "xaxis": "x",
         "y": [
          3.4110790990047146
         ],
         "yaxis": "y"
        },
        {
         "hovertemplate": "index=xception65_ArcFace_SGD_rank_by_id_val<br>Marker=0<br>Error=%{x}<br>Disparity=%{y}<extra></extra>",
         "legendgroup": "xception65_ArcFace_SGD_rank_by_id_val, 0",
         "marker": {
          "color": "#EF553B",
          "symbol": "circle"
         },
         "mode": "markers",
         "name": "xception65_ArcFace_SGD_rank_by_id_val, 0",
         "orientation": "v",
         "showlegend": true,
         "type": "scatter",
         "x": [
          0.22655840754321632
         ],
         "xaxis": "x",
         "y": [
          2.163305395495023
         ],
         "yaxis": "y"
        },
        {
         "hovertemplate": "index=xception65_CosFace_AdamW_rank_by_id_val<br>Marker=0<br>Error=%{x}<br>Disparity=%{y}<extra></extra>",
         "legendgroup": "xception65_CosFace_AdamW_rank_by_id_val, 0",
         "marker": {
          "color": "#00cc96",
          "symbol": "circle"
         },
         "mode": "markers",
         "name": "xception65_CosFace_AdamW_rank_by_id_val, 0",
         "orientation": "v",
         "showlegend": true,
         "type": "scatter",
         "x": [
          0.5192509167103195
         ],
         "xaxis": "x",
         "y": [
          7.1550550026191715
         ],
         "yaxis": "y"
        },
        {
         "hovertemplate": "index=xception65_CosFace_AdamW_0.001_cosine_rank_by_id_val<br>Marker=0<br>Error=%{x}<br>Disparity=%{y}<extra></extra>",
         "legendgroup": "xception65_CosFace_AdamW_0.001_cosine_rank_by_id_val, 0",
         "marker": {
          "color": "#ab63fa",
          "symbol": "circle"
         },
         "mode": "markers",
         "name": "xception65_CosFace_AdamW_0.001_cosine_rank_by_id_val, 0",
         "orientation": "v",
         "showlegend": true,
         "type": "scatter",
         "x": [
          0.35856469355683607
         ],
         "xaxis": "x",
         "y": [
          2.540466212676794
         ],
         "yaxis": "y"
        },
        {
         "hovertemplate": "index=xception65_CosFace_SGD_rank_by_id_val<br>Marker=0<br>Error=%{x}<br>Disparity=%{y}<extra></extra>",
         "legendgroup": "xception65_CosFace_SGD_rank_by_id_val, 0",
         "marker": {
          "color": "#FFA15A",
          "symbol": "circle"
         },
         "mode": "markers",
         "name": "xception65_CosFace_SGD_rank_by_id_val, 0",
         "orientation": "v",
         "showlegend": true,
         "type": "scatter",
         "x": [
          0.28751964379256156
         ],
         "xaxis": "x",
         "y": [
          4.281953902566789
         ],
         "yaxis": "y"
        },
        {
         "hovertemplate": "index=xception65_MagFace_AdamW_rank_by_id_val<br>Marker=0<br>Error=%{x}<br>Disparity=%{y}<extra></extra>",
         "legendgroup": "xception65_MagFace_AdamW_rank_by_id_val, 0",
         "marker": {
          "color": "#19d3f3",
          "symbol": "circle"
         },
         "mode": "markers",
         "name": "xception65_MagFace_AdamW_rank_by_id_val, 0",
         "orientation": "v",
         "showlegend": true,
         "type": "scatter",
         "x": [
          0.3294918805657412
         ],
         "xaxis": "x",
         "y": [
          2.2139863803038224
         ],
         "yaxis": "y"
        },
        {
         "hovertemplate": "index=xception65_MagFace_AdamW_0.001_cosine_rank_by_id_val<br>Marker=0<br>Error=%{x}<br>Disparity=%{y}<extra></extra>",
         "legendgroup": "xception65_MagFace_AdamW_0.001_cosine_rank_by_id_val, 0",
         "marker": {
          "color": "#FF6692",
          "symbol": "circle"
         },
         "mode": "markers",
         "name": "xception65_MagFace_AdamW_0.001_cosine_rank_by_id_val, 0",
         "orientation": "v",
         "showlegend": true,
         "type": "scatter",
         "x": [
          0.36982713462545835
         ],
         "xaxis": "x",
         "y": [
          3.3673389209009956
         ],
         "yaxis": "y"
        },
        {
         "hovertemplate": "index=xception65_MagFace_SGD_rank_by_id_val<br>Marker=0<br>Error=%{x}<br>Disparity=%{y}<extra></extra>",
         "legendgroup": "xception65_MagFace_SGD_rank_by_id_val, 0",
         "marker": {
          "color": "#B6E880",
          "symbol": "circle"
         },
         "mode": "markers",
         "name": "xception65_MagFace_SGD_rank_by_id_val, 0",
         "orientation": "v",
         "showlegend": true,
         "type": "scatter",
         "x": [
          0.338855421686747
         ],
         "xaxis": "x",
         "y": [
          2.9163174436877943
         ],
         "yaxis": "y"
        },
        {
         "hovertemplate": "index=xception65_MagFace_SGD_0.1_cosine_rank_by_id_val<br>Marker=0<br>Error=%{x}<br>Disparity=%{y}<extra></extra>",
         "legendgroup": "xception65_MagFace_SGD_0.1_cosine_rank_by_id_val, 0",
         "marker": {
          "color": "#FF97FF",
          "symbol": "circle"
         },
         "mode": "markers",
         "name": "xception65_MagFace_SGD_0.1_cosine_rank_by_id_val, 0",
         "orientation": "v",
         "showlegend": true,
         "type": "scatter",
         "x": [
          0.3399685699319015
         ],
         "xaxis": "x",
         "y": [
          2.7946568884232583
         ],
         "yaxis": "y"
        },
        {
         "hovertemplate": "index=xception_ArcFace_AdamW_rank_by_id_val<br>Marker=0<br>Error=%{x}<br>Disparity=%{y}<extra></extra>",
         "legendgroup": "xception_ArcFace_AdamW_rank_by_id_val, 0",
         "marker": {
          "color": "#FECB52",
          "symbol": "circle"
         },
         "mode": "markers",
         "name": "xception_ArcFace_AdamW_rank_by_id_val, 0",
         "orientation": "v",
         "showlegend": true,
         "type": "scatter",
         "x": [
          0.2993713986380304
         ],
         "xaxis": "x",
         "y": [
          2.314562598218963
         ],
         "yaxis": "y"
        },
        {
         "hovertemplate": "index=xception_ArcFace_AdamW_0.001_cosine_rank_by_id_val<br>Marker=0<br>Error=%{x}<br>Disparity=%{y}<extra></extra>",
         "legendgroup": "xception_ArcFace_AdamW_0.001_cosine_rank_by_id_val, 0",
         "marker": {
          "color": "#636efa",
          "symbol": "circle"
         },
         "mode": "markers",
         "name": "xception_ArcFace_AdamW_0.001_cosine_rank_by_id_val, 0",
         "orientation": "v",
         "showlegend": true,
         "type": "scatter",
         "x": [
          0.4140256678889471
         ],
         "xaxis": "x",
         "y": [
          3.6179937139863805
         ],
         "yaxis": "y"
        },
        {
         "hovertemplate": "index=xception_ArcFace_SGD_rank_by_id_val<br>Marker=0<br>Error=%{x}<br>Disparity=%{y}<extra></extra>",
         "legendgroup": "xception_ArcFace_SGD_rank_by_id_val, 0",
         "marker": {
          "color": "#EF553B",
          "symbol": "circle"
         },
         "mode": "markers",
         "name": "xception_ArcFace_SGD_rank_by_id_val, 0",
         "orientation": "v",
         "showlegend": true,
         "type": "scatter",
         "x": [
          0.45324777370350966
         ],
         "xaxis": "x",
         "y": [
          4.921424829753798
         ],
         "yaxis": "y"
        },
        {
         "hovertemplate": "index=xception_ArcFace_SGD_0.1_cosine_rank_by_id_val<br>Marker=0<br>Error=%{x}<br>Disparity=%{y}<extra></extra>",
         "legendgroup": "xception_ArcFace_SGD_0.1_cosine_rank_by_id_val, 0",
         "marker": {
          "color": "#00cc96",
          "symbol": "circle"
         },
         "mode": "markers",
         "name": "xception_ArcFace_SGD_0.1_cosine_rank_by_id_val, 0",
         "orientation": "v",
         "showlegend": true,
         "type": "scatter",
         "x": [
          0.20200366684127813
         ],
         "xaxis": "x",
         "y": [
          2.0512048192771077
         ],
         "yaxis": "y"
        },
        {
         "hovertemplate": "index=xception_CosFace_Adam_rank_by_id_val<br>Marker=0<br>Error=%{x}<br>Disparity=%{y}<extra></extra>",
         "legendgroup": "xception_CosFace_Adam_rank_by_id_val, 0",
         "marker": {
          "color": "#ab63fa",
          "symbol": "circle"
         },
         "mode": "markers",
         "name": "xception_CosFace_Adam_rank_by_id_val, 0",
         "orientation": "v",
         "showlegend": true,
         "type": "scatter",
         "x": [
          0.9969879518072289
         ],
         "xaxis": "x",
         "y": [
          1.0666579360922128
         ],
         "yaxis": "y"
        },
        {
         "hovertemplate": "index=xception_CosFace_AdamW_rank_by_id_val<br>Marker=0<br>Error=%{x}<br>Disparity=%{y}<extra></extra>",
         "legendgroup": "xception_CosFace_AdamW_rank_by_id_val, 0",
         "marker": {
          "color": "#FFA15A",
          "symbol": "circle"
         },
         "mode": "markers",
         "name": "xception_CosFace_AdamW_rank_by_id_val, 0",
         "orientation": "v",
         "showlegend": true,
         "type": "scatter",
         "x": [
          0.40466212676794133
         ],
         "xaxis": "x",
         "y": [
          2.752619172341541
         ],
         "yaxis": "y"
        },
        {
         "hovertemplate": "index=xception_CosFace_AdamW_0.001_cosine_rank_by_id_val<br>Marker=0<br>Error=%{x}<br>Disparity=%{y}<extra></extra>",
         "legendgroup": "xception_CosFace_AdamW_0.001_cosine_rank_by_id_val, 0",
         "marker": {
          "color": "#19d3f3",
          "symbol": "circle"
         },
         "mode": "markers",
         "name": "xception_CosFace_AdamW_0.001_cosine_rank_by_id_val, 0",
         "orientation": "v",
         "showlegend": true,
         "type": "scatter",
         "x": [
          0.38861969617600833
         ],
         "xaxis": "x",
         "y": [
          4.285751702462022
         ],
         "yaxis": "y"
        },
        {
         "hovertemplate": "index=xception_CosFace_SGD_rank_by_id_val<br>Marker=0<br>Error=%{x}<br>Disparity=%{y}<extra></extra>",
         "legendgroup": "xception_CosFace_SGD_rank_by_id_val, 0",
         "marker": {
          "color": "#FF6692",
          "symbol": "circle"
         },
         "mode": "markers",
         "name": "xception_CosFace_SGD_rank_by_id_val, 0",
         "orientation": "v",
         "showlegend": true,
         "type": "scatter",
         "x": [
          0.302841801990571
         ],
         "xaxis": "x",
         "y": [
          4.979177579884757
         ],
         "yaxis": "y"
        },
        {
         "hovertemplate": "index=xception_CosFace_SGD_0.1_cosine_rank_by_id_val<br>Marker=0<br>Error=%{x}<br>Disparity=%{y}<extra></extra>",
         "legendgroup": "xception_CosFace_SGD_0.1_cosine_rank_by_id_val, 0",
         "marker": {
          "color": "#B6E880",
          "symbol": "circle"
         },
         "mode": "markers",
         "name": "xception_CosFace_SGD_0.1_cosine_rank_by_id_val, 0",
         "orientation": "v",
         "showlegend": true,
         "type": "scatter",
         "x": [
          0.27121529596647465
         ],
         "xaxis": "x",
         "y": [
          4.909507595599791
         ],
         "yaxis": "y"
        },
        {
         "hovertemplate": "index=xception_MagFace_AdamW_rank_by_id_val<br>Marker=0<br>Error=%{x}<br>Disparity=%{y}<extra></extra>",
         "legendgroup": "xception_MagFace_AdamW_rank_by_id_val, 0",
         "marker": {
          "color": "#FF97FF",
          "symbol": "circle"
         },
         "mode": "markers",
         "name": "xception_MagFace_AdamW_rank_by_id_val, 0",
         "orientation": "v",
         "showlegend": true,
         "type": "scatter",
         "x": [
          0.21811157674174964
         ],
         "xaxis": "x",
         "y": [
          2.245678365636459
         ],
         "yaxis": "y"
        },
        {
         "hovertemplate": "index=xception_MagFace_AdamW_0.001_cosine_rank_by_id_val<br>Marker=0<br>Error=%{x}<br>Disparity=%{y}<extra></extra>",
         "legendgroup": "xception_MagFace_AdamW_0.001_cosine_rank_by_id_val, 0",
         "marker": {
          "color": "#FECB52",
          "symbol": "circle"
         },
         "mode": "markers",
         "name": "xception_MagFace_AdamW_0.001_cosine_rank_by_id_val, 0",
         "orientation": "v",
         "showlegend": true,
         "type": "scatter",
         "x": [
          0.39333420639078054
         ],
         "xaxis": "x",
         "y": [
          3.1701152435830267
         ],
         "yaxis": "y"
        },
        {
         "hovertemplate": "index=xception_MagFace_SGD_rank_by_id_val<br>Marker=0<br>Error=%{x}<br>Disparity=%{y}<extra></extra>",
         "legendgroup": "xception_MagFace_SGD_rank_by_id_val, 0",
         "marker": {
          "color": "#636efa",
          "symbol": "circle"
         },
         "mode": "markers",
         "name": "xception_MagFace_SGD_rank_by_id_val, 0",
         "orientation": "v",
         "showlegend": true,
         "type": "scatter",
         "x": [
          0.13429806181246728
         ],
         "xaxis": "x",
         "y": [
          3.0814562598218966
         ],
         "yaxis": "y"
        },
        {
         "hovertemplate": "index=coat_lite_small_CosFace_Adam_rank_by_id_val<br>Marker=0<br>Error=%{x}<br>Disparity=%{y}<extra></extra>",
         "legendgroup": "coat_lite_small_CosFace_Adam_rank_by_id_val, 0",
         "marker": {
          "color": "#EF553B",
          "symbol": "circle"
         },
         "mode": "markers",
         "name": "coat_lite_small_CosFace_Adam_rank_by_id_val, 0",
         "orientation": "v",
         "showlegend": true,
         "type": "scatter",
         "x": [
          0.7738344683080147
         ],
         "xaxis": "x",
         "y": [
          15.495809324253536
         ],
         "yaxis": "y"
        },
        {
         "hovertemplate": "index=coat_lite_small_CosFace_AdamW_rank_by_id_val<br>Marker=0<br>Error=%{x}<br>Disparity=%{y}<extra></extra>",
         "legendgroup": "coat_lite_small_CosFace_AdamW_rank_by_id_val, 0",
         "marker": {
          "color": "#00cc96",
          "symbol": "circle"
         },
         "mode": "markers",
         "name": "coat_lite_small_CosFace_AdamW_rank_by_id_val, 0",
         "orientation": "v",
         "showlegend": true,
         "type": "scatter",
         "x": [
          0.12048192771084343
         ],
         "xaxis": "x",
         "y": [
          5.292561550550026
         ],
         "yaxis": "y"
        },
        {
         "hovertemplate": "index=coat_lite_small_CosFace_SGD_rank_by_id_val<br>Marker=0<br>Error=%{x}<br>Disparity=%{y}<extra></extra>",
         "legendgroup": "coat_lite_small_CosFace_SGD_rank_by_id_val, 0",
         "marker": {
          "color": "#ab63fa",
          "symbol": "circle"
         },
         "mode": "markers",
         "name": "coat_lite_small_CosFace_SGD_rank_by_id_val, 0",
         "orientation": "v",
         "showlegend": true,
         "type": "scatter",
         "x": [
          0.2904662126767942
         ],
         "xaxis": "x",
         "y": [
          6.061026715557883
         ],
         "yaxis": "y"
        },
        {
         "hovertemplate": "index=coat_lite_small_MagFace_AdamW_rank_by_id_val<br>Marker=0<br>Error=%{x}<br>Disparity=%{y}<extra></extra>",
         "legendgroup": "coat_lite_small_MagFace_AdamW_rank_by_id_val, 0",
         "marker": {
          "color": "#FFA15A",
          "symbol": "circle"
         },
         "mode": "markers",
         "name": "coat_lite_small_MagFace_AdamW_rank_by_id_val, 0",
         "orientation": "v",
         "showlegend": true,
         "type": "scatter",
         "x": [
          0.5466867469879518
         ],
         "xaxis": "x",
         "y": [
          5.306050288108958
         ],
         "yaxis": "y"
        },
        {
         "hovertemplate": "index=coat_lite_small_MagFace_SGD_rank_by_id_val<br>Marker=0<br>Error=%{x}<br>Disparity=%{y}<extra></extra>",
         "legendgroup": "coat_lite_small_MagFace_SGD_rank_by_id_val, 0",
         "marker": {
          "color": "#19d3f3",
          "symbol": "circle"
         },
         "mode": "markers",
         "name": "coat_lite_small_MagFace_SGD_rank_by_id_val, 0",
         "orientation": "v",
         "showlegend": true,
         "type": "scatter",
         "x": [
          0.7012833944473547
         ],
         "xaxis": "x",
         "y": [
          14.452723939235206
         ],
         "yaxis": "y"
        },
        {
         "hovertemplate": "index=convit_base_ArcFace_AdamW_rank_by_id_val<br>Marker=0<br>Error=%{x}<br>Disparity=%{y}<extra></extra>",
         "legendgroup": "convit_base_ArcFace_AdamW_rank_by_id_val, 0",
         "marker": {
          "color": "#FF6692",
          "symbol": "circle"
         },
         "mode": "markers",
         "name": "convit_base_ArcFace_AdamW_rank_by_id_val, 0",
         "orientation": "v",
         "showlegend": true,
         "type": "scatter",
         "x": [
          0.8097826086956521
         ],
         "xaxis": "x",
         "y": [
          17.26833420639079
         ],
         "yaxis": "y"
        },
        {
         "hovertemplate": "index=convit_base_CosFace_Adam_rank_by_id_val<br>Marker=0<br>Error=%{x}<br>Disparity=%{y}<extra></extra>",
         "legendgroup": "convit_base_CosFace_Adam_rank_by_id_val, 0",
         "marker": {
          "color": "#B6E880",
          "symbol": "circle"
         },
         "mode": "markers",
         "name": "convit_base_CosFace_Adam_rank_by_id_val, 0",
         "orientation": "v",
         "showlegend": true,
         "type": "scatter",
         "x": [
          0.646280775275013
         ],
         "xaxis": "x",
         "y": [
          6.309062336301729
         ],
         "yaxis": "y"
        },
        {
         "hovertemplate": "index=convit_base_CosFace_AdamW_rank_by_id_val<br>Marker=0<br>Error=%{x}<br>Disparity=%{y}<extra></extra>",
         "legendgroup": "convit_base_CosFace_AdamW_rank_by_id_val, 0",
         "marker": {
          "color": "#FF97FF",
          "symbol": "circle"
         },
         "mode": "markers",
         "name": "convit_base_CosFace_AdamW_rank_by_id_val, 0",
         "orientation": "v",
         "showlegend": true,
         "type": "scatter",
         "x": [
          0.6526977475117863
         ],
         "xaxis": "x",
         "y": [
          25.02671555788372
         ],
         "yaxis": "y"
        },
        {
         "hovertemplate": "index=convit_base_CosFace_SGD_rank_by_id_val<br>Marker=0<br>Error=%{x}<br>Disparity=%{y}<extra></extra>",
         "legendgroup": "convit_base_CosFace_SGD_rank_by_id_val, 0",
         "marker": {
          "color": "#FECB52",
          "symbol": "circle"
         },
         "mode": "markers",
         "name": "convit_base_CosFace_SGD_rank_by_id_val, 0",
         "orientation": "v",
         "showlegend": true,
         "type": "scatter",
         "x": [
          0.18314562598218964
         ],
         "xaxis": "x",
         "y": [
          4.87061288632792
         ],
         "yaxis": "y"
        },
        {
         "hovertemplate": "index=convit_base_MagFace_AdamW_rank_by_id_val<br>Marker=0<br>Error=%{x}<br>Disparity=%{y}<extra></extra>",
         "legendgroup": "convit_base_MagFace_AdamW_rank_by_id_val, 0",
         "marker": {
          "color": "#636efa",
          "symbol": "circle"
         },
         "mode": "markers",
         "name": "convit_base_MagFace_AdamW_rank_by_id_val, 0",
         "orientation": "v",
         "showlegend": true,
         "type": "scatter",
         "x": [
          0.7654531168150864
         ],
         "xaxis": "x",
         "y": [
          17.729832372970144
         ],
         "yaxis": "y"
        },
        {
         "hovertemplate": "index=convit_base_MagFace_SGD_rank_by_id_val<br>Marker=0<br>Error=%{x}<br>Disparity=%{y}<extra></extra>",
         "legendgroup": "convit_base_MagFace_SGD_rank_by_id_val, 0",
         "marker": {
          "color": "#EF553B",
          "symbol": "circle"
         },
         "mode": "markers",
         "name": "convit_base_MagFace_SGD_rank_by_id_val, 0",
         "orientation": "v",
         "showlegend": true,
         "type": "scatter",
         "x": [
          0.8458617077003667
         ],
         "xaxis": "x",
         "y": [
          16.734023048716608
         ],
         "yaxis": "y"
        },
        {
         "hovertemplate": "index=cspdarknet53_ArcFace_AdamW_rank_by_id_val<br>Marker=0<br>Error=%{x}<br>Disparity=%{y}<extra></extra>",
         "legendgroup": "cspdarknet53_ArcFace_AdamW_rank_by_id_val, 0",
         "marker": {
          "color": "#00cc96",
          "symbol": "circle"
         },
         "mode": "markers",
         "name": "cspdarknet53_ArcFace_AdamW_rank_by_id_val, 0",
         "orientation": "v",
         "showlegend": true,
         "type": "scatter",
         "x": [
          0.3520167627029859
         ],
         "xaxis": "x",
         "y": [
          3.8132530120481927
         ],
         "yaxis": "y"
        },
        {
         "hovertemplate": "index=cspdarknet53_ArcFace_SGD_rank_by_id_val<br>Marker=0<br>Error=%{x}<br>Disparity=%{y}<extra></extra>",
         "legendgroup": "cspdarknet53_ArcFace_SGD_rank_by_id_val, 0",
         "marker": {
          "color": "#ab63fa",
          "symbol": "circle"
         },
         "mode": "markers",
         "name": "cspdarknet53_ArcFace_SGD_rank_by_id_val, 0",
         "orientation": "v",
         "showlegend": true,
         "type": "scatter",
         "x": [
          0.8784704033525406
         ],
         "xaxis": "x",
         "y": [
          3.765060240963848
         ],
         "yaxis": "y"
        },
        {
         "hovertemplate": "index=cspdarknet53_CosFace_AdamW_rank_by_id_val<br>Marker=0<br>Error=%{x}<br>Disparity=%{y}<extra></extra>",
         "legendgroup": "cspdarknet53_CosFace_AdamW_rank_by_id_val, 0",
         "marker": {
          "color": "#FFA15A",
          "symbol": "circle"
         },
         "mode": "markers",
         "name": "cspdarknet53_CosFace_AdamW_rank_by_id_val, 0",
         "orientation": "v",
         "showlegend": true,
         "type": "scatter",
         "x": [
          0.23631482451545316
         ],
         "xaxis": "x",
         "y": [
          0.21451021477213317
         ],
         "yaxis": "y"
        },
        {
         "hovertemplate": "index=cspdarknet53_CosFace_SGD_rank_by_id_val<br>Marker=0<br>Error=%{x}<br>Disparity=%{y}<extra></extra>",
         "legendgroup": "cspdarknet53_CosFace_SGD_rank_by_id_val, 0",
         "marker": {
          "color": "#19d3f3",
          "symbol": "circle"
         },
         "mode": "markers",
         "name": "cspdarknet53_CosFace_SGD_rank_by_id_val, 0",
         "orientation": "v",
         "showlegend": true,
         "type": "scatter",
         "x": [
          0.7714772132006286
         ],
         "xaxis": "x",
         "y": [
          11.822682032477736
         ],
         "yaxis": "y"
        },
        {
         "hovertemplate": "index=cspdarknet53_CosFace_adam_rank_by_id_val<br>Marker=0<br>Error=%{x}<br>Disparity=%{y}<extra></extra>",
         "legendgroup": "cspdarknet53_CosFace_adam_rank_by_id_val, 0",
         "marker": {
          "color": "#FF6692",
          "symbol": "circle"
         },
         "mode": "markers",
         "name": "cspdarknet53_CosFace_adam_rank_by_id_val, 0",
         "orientation": "v",
         "showlegend": true,
         "type": "scatter",
         "x": [
          0.21647459402828706
         ],
         "xaxis": "x",
         "y": [
          1.573467784180199
         ],
         "yaxis": "y"
        },
        {
         "hovertemplate": "index=cspdarknet53_MagFace_AdamW_rank_by_id_val<br>Marker=0<br>Error=%{x}<br>Disparity=%{y}<extra></extra>",
         "legendgroup": "cspdarknet53_MagFace_AdamW_rank_by_id_val, 0",
         "marker": {
          "color": "#B6E880",
          "symbol": "circle"
         },
         "mode": "markers",
         "name": "cspdarknet53_MagFace_AdamW_rank_by_id_val, 0",
         "orientation": "v",
         "showlegend": true,
         "type": "scatter",
         "x": [
          0.41533525405971716
         ],
         "xaxis": "x",
         "y": [
          4.512441068622315
         ],
         "yaxis": "y"
        },
        {
         "hovertemplate": "index=cspdarknet53_MagFace_SGD_rank_by_id_val<br>Marker=0<br>Error=%{x}<br>Disparity=%{y}<extra></extra>",
         "legendgroup": "cspdarknet53_MagFace_SGD_rank_by_id_val, 0",
         "marker": {
          "color": "#FF97FF",
          "symbol": "circle"
         },
         "mode": "markers",
         "name": "cspdarknet53_MagFace_SGD_rank_by_id_val, 0",
         "orientation": "v",
         "showlegend": true,
         "type": "scatter",
         "x": [
          0.8969355683603981
         ],
         "xaxis": "x",
         "y": [
          1.2175222629649056
         ],
         "yaxis": "y"
        },
        {
         "hovertemplate": "index=dla102x2_ArcFace_AdamW_rank_by_id_val<br>Marker=0<br>Error=%{x}<br>Disparity=%{y}<extra></extra>",
         "legendgroup": "dla102x2_ArcFace_AdamW_rank_by_id_val, 0",
         "marker": {
          "color": "#FECB52",
          "symbol": "circle"
         },
         "mode": "markers",
         "name": "dla102x2_ArcFace_AdamW_rank_by_id_val, 0",
         "orientation": "v",
         "showlegend": true,
         "type": "scatter",
         "x": [
          0.3265453116815087
         ],
         "xaxis": "x",
         "y": [
          3.4267941330539546
         ],
         "yaxis": "y"
        },
        {
         "hovertemplate": "index=dla102x2_ArcFace_SGD_rank_by_id_val<br>Marker=0<br>Error=%{x}<br>Disparity=%{y}<extra></extra>",
         "legendgroup": "dla102x2_ArcFace_SGD_rank_by_id_val, 0",
         "marker": {
          "color": "#636efa",
          "symbol": "circle"
         },
         "mode": "markers",
         "name": "dla102x2_ArcFace_SGD_rank_by_id_val, 0",
         "orientation": "v",
         "showlegend": true,
         "type": "scatter",
         "x": [
          0.33944473546359355
         ],
         "xaxis": "x",
         "y": [
          4.362624410686223
         ],
         "yaxis": "y"
        },
        {
         "hovertemplate": "index=dla102x2_CosFace_AdamW_rank_by_id_val<br>Marker=0<br>Error=%{x}<br>Disparity=%{y}<extra></extra>",
         "legendgroup": "dla102x2_CosFace_AdamW_rank_by_id_val, 0",
         "marker": {
          "color": "#EF553B",
          "symbol": "circle"
         },
         "mode": "markers",
         "name": "dla102x2_CosFace_AdamW_rank_by_id_val, 0",
         "orientation": "v",
         "showlegend": true,
         "type": "scatter",
         "x": [
          0.1553169198533263
         ],
         "xaxis": "x",
         "y": [
          1.8500523834468314
         ],
         "yaxis": "y"
        },
        {
         "hovertemplate": "index=dla102x2_CosFace_sgd_rank_by_id_val<br>Marker=0<br>Error=%{x}<br>Disparity=%{y}<extra></extra>",
         "legendgroup": "dla102x2_CosFace_sgd_rank_by_id_val, 0",
         "marker": {
          "color": "#00cc96",
          "symbol": "circle"
         },
         "mode": "markers",
         "name": "dla102x2_CosFace_sgd_rank_by_id_val, 0",
         "orientation": "v",
         "showlegend": true,
         "type": "scatter",
         "x": [
          0.14045311681508643
         ],
         "xaxis": "x",
         "y": [
          2.307883708748036
         ],
         "yaxis": "y"
        },
        {
         "hovertemplate": "index=dla102x2_MagFace_AdamW_rank_by_id_val<br>Marker=0<br>Error=%{x}<br>Disparity=%{y}<extra></extra>",
         "legendgroup": "dla102x2_MagFace_AdamW_rank_by_id_val, 0",
         "marker": {
          "color": "#ab63fa",
          "symbol": "circle"
         },
         "mode": "markers",
         "name": "dla102x2_MagFace_AdamW_rank_by_id_val, 0",
         "orientation": "v",
         "showlegend": true,
         "type": "scatter",
         "x": [
          0.28175746464117335
         ],
         "xaxis": "x",
         "y": [
          3.5345730749083284
         ],
         "yaxis": "y"
        },
        {
         "hovertemplate": "index=dla102x2_MagFace_SGD_rank_by_id_val<br>Marker=0<br>Error=%{x}<br>Disparity=%{y}<extra></extra>",
         "legendgroup": "dla102x2_MagFace_SGD_rank_by_id_val, 0",
         "marker": {
          "color": "#FFA15A",
          "symbol": "circle"
         },
         "mode": "markers",
         "name": "dla102x2_MagFace_SGD_rank_by_id_val, 0",
         "orientation": "v",
         "showlegend": true,
         "type": "scatter",
         "x": [
          0.3514274489261393
         ],
         "xaxis": "x",
         "y": [
          4.414484023048716
         ],
         "yaxis": "y"
        },
        {
         "hovertemplate": "index=dpn107_ArcFace_AdamW_rank_by_id_val<br>Marker=0<br>Error=%{x}<br>Disparity=%{y}<extra></extra>",
         "legendgroup": "dpn107_ArcFace_AdamW_rank_by_id_val, 0",
         "marker": {
          "color": "#19d3f3",
          "symbol": "circle"
         },
         "mode": "markers",
         "name": "dpn107_ArcFace_AdamW_rank_by_id_val, 0",
         "orientation": "v",
         "showlegend": true,
         "type": "scatter",
         "x": [
          0.44283656364588786
         ],
         "xaxis": "x",
         "y": [
          5.004845468831848
         ],
         "yaxis": "y"
        },
        {
         "hovertemplate": "index=dpn107_ArcFace_SGD_rank_by_id_val<br>Marker=0<br>Error=%{x}<br>Disparity=%{y}<extra></extra>",
         "legendgroup": "dpn107_ArcFace_SGD_rank_by_id_val, 0",
         "marker": {
          "color": "#FF6692",
          "symbol": "circle"
         },
         "mode": "markers",
         "name": "dpn107_ArcFace_SGD_rank_by_id_val, 0",
         "orientation": "v",
         "showlegend": true,
         "type": "scatter",
         "x": [
          0.08492666317443687
         ],
         "xaxis": "x",
         "y": [
          2.487689889994762
         ],
         "yaxis": "y"
        },
        {
         "hovertemplate": "index=dpn107_CosFace_AdamW_rank_by_id_val<br>Marker=0<br>Error=%{x}<br>Disparity=%{y}<extra></extra>",
         "legendgroup": "dpn107_CosFace_AdamW_rank_by_id_val, 0",
         "marker": {
          "color": "#B6E880",
          "symbol": "circle"
         },
         "mode": "markers",
         "name": "dpn107_CosFace_AdamW_rank_by_id_val, 0",
         "orientation": "v",
         "showlegend": true,
         "type": "scatter",
         "x": [
          0.05264536406495546
         ],
         "xaxis": "x",
         "y": [
          2.4655578837087475
         ],
         "yaxis": "y"
        },
        {
         "hovertemplate": "index=dpn107_CosFace_sgd_rank_by_id_val<br>Marker=0<br>Error=%{x}<br>Disparity=%{y}<extra></extra>",
         "legendgroup": "dpn107_CosFace_sgd_rank_by_id_val, 0",
         "marker": {
          "color": "#FF97FF",
          "symbol": "circle"
         },
         "mode": "markers",
         "name": "dpn107_CosFace_sgd_rank_by_id_val, 0",
         "orientation": "v",
         "showlegend": true,
         "type": "scatter",
         "x": [
          0.07071765322158197
         ],
         "xaxis": "x",
         "y": [
          2.6537454164484022
         ],
         "yaxis": "y"
        },
        {
         "hovertemplate": "index=dpn107_MagFace_AdamW_rank_by_id_val<br>Marker=0<br>Error=%{x}<br>Disparity=%{y}<extra></extra>",
         "legendgroup": "dpn107_MagFace_AdamW_rank_by_id_val, 0",
         "marker": {
          "color": "#FECB52",
          "symbol": "circle"
         },
         "mode": "markers",
         "name": "dpn107_MagFace_AdamW_rank_by_id_val, 0",
         "orientation": "v",
         "showlegend": true,
         "type": "scatter",
         "x": [
          0.4904400209533787
         ],
         "xaxis": "x",
         "y": [
          4.926401257202724
         ],
         "yaxis": "y"
        },
        {
         "hovertemplate": "index=dpn107_MagFace_SGD_rank_by_id_val<br>Marker=0<br>Error=%{x}<br>Disparity=%{y}<extra></extra>",
         "legendgroup": "dpn107_MagFace_SGD_rank_by_id_val, 0",
         "marker": {
          "color": "#636efa",
          "symbol": "circle"
         },
         "mode": "markers",
         "name": "dpn107_MagFace_SGD_rank_by_id_val, 0",
         "orientation": "v",
         "showlegend": true,
         "type": "scatter",
         "x": [
          0.15413829229963327
         ],
         "xaxis": "x",
         "y": [
          2.9248297537977996
         ],
         "yaxis": "y"
        },
        {
         "hovertemplate": "index=ghostnet_100_ArcFace_AdamW_rank_by_id_val<br>Marker=0<br>Error=%{x}<br>Disparity=%{y}<extra></extra>",
         "legendgroup": "ghostnet_100_ArcFace_AdamW_rank_by_id_val, 0",
         "marker": {
          "color": "#EF553B",
          "symbol": "circle"
         },
         "mode": "markers",
         "name": "ghostnet_100_ArcFace_AdamW_rank_by_id_val, 0",
         "orientation": "v",
         "showlegend": true,
         "type": "scatter",
         "x": [
          0.9960712414876899
         ],
         "xaxis": "x",
         "y": [
          8.240047145102125
         ],
         "yaxis": "y"
        },
        {
         "hovertemplate": "index=ghostnet_100_ArcFace_SGD_rank_by_id_val<br>Marker=0<br>Error=%{x}<br>Disparity=%{y}<extra></extra>",
         "legendgroup": "ghostnet_100_ArcFace_SGD_rank_by_id_val, 0",
         "marker": {
          "color": "#00cc96",
          "symbol": "circle"
         },
         "mode": "markers",
         "name": "ghostnet_100_ArcFace_SGD_rank_by_id_val, 0",
         "orientation": "v",
         "showlegend": true,
         "type": "scatter",
         "x": [
          0.9962022001047669
         ],
         "xaxis": "x",
         "y": [
          22.703902566788912
         ],
         "yaxis": "y"
        },
        {
         "hovertemplate": "index=ghostnet_100_CosFace_sgd_rank_by_id_val<br>Marker=0<br>Error=%{x}<br>Disparity=%{y}<extra></extra>",
         "legendgroup": "ghostnet_100_CosFace_sgd_rank_by_id_val, 0",
         "marker": {
          "color": "#ab63fa",
          "symbol": "circle"
         },
         "mode": "markers",
         "name": "ghostnet_100_CosFace_sgd_rank_by_id_val, 0",
         "orientation": "v",
         "showlegend": true,
         "type": "scatter",
         "x": [
          0.19938449449973805
         ],
         "xaxis": "x",
         "y": [
          1.0732058669460454
         ],
         "yaxis": "y"
        },
        {
         "hovertemplate": "index=ghostnet_100_MagFace_AdamW_rank_by_id_val<br>Marker=0<br>Error=%{x}<br>Disparity=%{y}<extra></extra>",
         "legendgroup": "ghostnet_100_MagFace_AdamW_rank_by_id_val, 0",
         "marker": {
          "color": "#FFA15A",
          "symbol": "circle"
         },
         "mode": "markers",
         "name": "ghostnet_100_MagFace_AdamW_rank_by_id_val, 0",
         "orientation": "v",
         "showlegend": true,
         "type": "scatter",
         "x": [
          0.4677187008905186
         ],
         "xaxis": "x",
         "y": [
          5.686616029334729
         ],
         "yaxis": "y"
        },
        {
         "hovertemplate": "index=ghostnet_100_MagFace_SGD_rank_by_id_val<br>Marker=0<br>Error=%{x}<br>Disparity=%{y}<extra></extra>",
         "legendgroup": "ghostnet_100_MagFace_SGD_rank_by_id_val, 0",
         "marker": {
          "color": "#19d3f3",
          "symbol": "circle"
         },
         "mode": "markers",
         "name": "ghostnet_100_MagFace_SGD_rank_by_id_val, 0",
         "orientation": "v",
         "showlegend": true,
         "type": "scatter",
         "x": [
          0.5693425877422734
         ],
         "xaxis": "x",
         "y": [
          5.16867469879518
         ],
         "yaxis": "y"
        },
        {
         "hovertemplate": "index=hrnet_w64_ArcFace_AdamW_rank_by_id_val<br>Marker=0<br>Error=%{x}<br>Disparity=%{y}<extra></extra>",
         "legendgroup": "hrnet_w64_ArcFace_AdamW_rank_by_id_val, 0",
         "marker": {
          "color": "#FF6692",
          "symbol": "circle"
         },
         "mode": "markers",
         "name": "hrnet_w64_ArcFace_AdamW_rank_by_id_val, 0",
         "orientation": "v",
         "showlegend": true,
         "type": "scatter",
         "x": [
          0.41612100576217914
         ],
         "xaxis": "x",
         "y": [
          4.327396542692509
         ],
         "yaxis": "y"
        },
        {
         "hovertemplate": "index=hrnet_w64_ArcFace_SGD_rank_by_id_val<br>Marker=0<br>Error=%{x}<br>Disparity=%{y}<extra></extra>",
         "legendgroup": "hrnet_w64_ArcFace_SGD_rank_by_id_val, 0",
         "marker": {
          "color": "#B6E880",
          "symbol": "circle"
         },
         "mode": "markers",
         "name": "hrnet_w64_ArcFace_SGD_rank_by_id_val, 0",
         "orientation": "v",
         "showlegend": true,
         "type": "scatter",
         "x": [
          0.34435568360398117
         ],
         "xaxis": "x",
         "y": [
          3.8619696176008382
         ],
         "yaxis": "y"
        },
        {
         "hovertemplate": "index=hrnet_w64_CosFace_AdamW_rank_by_id_val<br>Marker=0<br>Error=%{x}<br>Disparity=%{y}<extra></extra>",
         "legendgroup": "hrnet_w64_CosFace_AdamW_rank_by_id_val, 0",
         "marker": {
          "color": "#FF97FF",
          "symbol": "circle"
         },
         "mode": "markers",
         "name": "hrnet_w64_CosFace_AdamW_rank_by_id_val, 0",
         "orientation": "v",
         "showlegend": true,
         "type": "scatter",
         "x": [
          0.6132792037716082
         ],
         "xaxis": "x",
         "y": [
          6.305264536406495
         ],
         "yaxis": "y"
        },
        {
         "hovertemplate": "index=hrnet_w64_CosFace_sgd_rank_by_id_val<br>Marker=0<br>Error=%{x}<br>Disparity=%{y}<extra></extra>",
         "legendgroup": "hrnet_w64_CosFace_sgd_rank_by_id_val, 0",
         "marker": {
          "color": "#FECB52",
          "symbol": "circle"
         },
         "mode": "markers",
         "name": "hrnet_w64_CosFace_sgd_rank_by_id_val, 0",
         "orientation": "v",
         "showlegend": true,
         "type": "scatter",
         "x": [
          0.13600052383446826
         ],
         "xaxis": "x",
         "y": [
          1.548847564169722
         ],
         "yaxis": "y"
        },
        {
         "hovertemplate": "index=hrnet_w64_MagFace_AdamW_rank_by_id_val<br>Marker=0<br>Error=%{x}<br>Disparity=%{y}<extra></extra>",
         "legendgroup": "hrnet_w64_MagFace_AdamW_rank_by_id_val, 0",
         "marker": {
          "color": "#636efa",
          "symbol": "circle"
         },
         "mode": "markers",
         "name": "hrnet_w64_MagFace_AdamW_rank_by_id_val, 0",
         "orientation": "v",
         "showlegend": true,
         "type": "scatter",
         "x": [
          0.3586301728653746
         ],
         "xaxis": "x",
         "y": [
          3.612231534834992
         ],
         "yaxis": "y"
        },
        {
         "hovertemplate": "index=hrnet_w64_MagFace_SGD_rank_by_id_val<br>Marker=0<br>Error=%{x}<br>Disparity=%{y}<extra></extra>",
         "legendgroup": "hrnet_w64_MagFace_SGD_rank_by_id_val, 0",
         "marker": {
          "color": "#EF553B",
          "symbol": "circle"
         },
         "mode": "markers",
         "name": "hrnet_w64_MagFace_SGD_rank_by_id_val, 0",
         "orientation": "v",
         "showlegend": true,
         "type": "scatter",
         "x": [
          0.3333551597695128
         ],
         "xaxis": "x",
         "y": [
          2.9252226296490313
         ],
         "yaxis": "y"
        },
        {
         "hovertemplate": "index=jx_nest_base_ArcFace_SGD_rank_by_id_val<br>Marker=0<br>Error=%{x}<br>Disparity=%{y}<extra></extra>",
         "legendgroup": "jx_nest_base_ArcFace_SGD_rank_by_id_val, 0",
         "marker": {
          "color": "#00cc96",
          "symbol": "circle"
         },
         "mode": "markers",
         "name": "jx_nest_base_ArcFace_SGD_rank_by_id_val, 0",
         "orientation": "v",
         "showlegend": true,
         "type": "scatter",
         "x": [
          0.36321372446306965
         ],
         "xaxis": "x",
         "y": [
          5.533787323205868
         ],
         "yaxis": "y"
        },
        {
         "hovertemplate": "index=jx_nest_base_CosFace_AdamW_rank_by_id_val<br>Marker=0<br>Error=%{x}<br>Disparity=%{y}<extra></extra>",
         "legendgroup": "jx_nest_base_CosFace_AdamW_rank_by_id_val, 0",
         "marker": {
          "color": "#ab63fa",
          "symbol": "circle"
         },
         "mode": "markers",
         "name": "jx_nest_base_CosFace_AdamW_rank_by_id_val, 0",
         "orientation": "v",
         "showlegend": true,
         "type": "scatter",
         "x": [
          0.09952854897852281
         ],
         "xaxis": "x",
         "y": [
          3.0755631220534316
         ],
         "yaxis": "y"
        },
        {
         "hovertemplate": "index=jx_nest_base_CosFace_SGD_rank_by_id_val<br>Marker=0<br>Error=%{x}<br>Disparity=%{y}<extra></extra>",
         "legendgroup": "jx_nest_base_CosFace_SGD_rank_by_id_val, 0",
         "marker": {
          "color": "#FFA15A",
          "symbol": "circle"
         },
         "mode": "markers",
         "name": "jx_nest_base_CosFace_SGD_rank_by_id_val, 0",
         "orientation": "v",
         "showlegend": true,
         "type": "scatter",
         "x": [
          0.10718962807752752
         ],
         "xaxis": "x",
         "y": [
          2.0272393923520173
         ],
         "yaxis": "y"
        },
        {
         "hovertemplate": "index=jx_nest_base_MagFace_AdamW_rank_by_id_val<br>Marker=0<br>Error=%{x}<br>Disparity=%{y}<extra></extra>",
         "legendgroup": "jx_nest_base_MagFace_AdamW_rank_by_id_val, 0",
         "marker": {
          "color": "#19d3f3",
          "symbol": "circle"
         },
         "mode": "markers",
         "name": "jx_nest_base_MagFace_AdamW_rank_by_id_val, 0",
         "orientation": "v",
         "showlegend": true,
         "type": "scatter",
         "x": [
          0.3211760083813515
         ],
         "xaxis": "x",
         "y": [
          3.156102671555788
         ],
         "yaxis": "y"
        },
        {
         "hovertemplate": "index=jx_nest_base_MagFace_SGD_rank_by_id_val<br>Marker=0<br>Error=%{x}<br>Disparity=%{y}<extra></extra>",
         "legendgroup": "jx_nest_base_MagFace_SGD_rank_by_id_val, 0",
         "marker": {
          "color": "#FF6692",
          "symbol": "circle"
         },
         "mode": "markers",
         "name": "jx_nest_base_MagFace_SGD_rank_by_id_val, 0",
         "orientation": "v",
         "showlegend": true,
         "type": "scatter",
         "x": [
          0.8055264536406496
         ],
         "xaxis": "x",
         "y": [
          11.236249345206915
         ],
         "yaxis": "y"
        },
        {
         "hovertemplate": "index=swin_base_patch4_window7_224_ArcFace_AdamW_rank_by_id_val<br>Marker=0<br>Error=%{x}<br>Disparity=%{y}<extra></extra>",
         "legendgroup": "swin_base_patch4_window7_224_ArcFace_AdamW_rank_by_id_val, 0",
         "marker": {
          "color": "#B6E880",
          "symbol": "circle"
         },
         "mode": "markers",
         "name": "swin_base_patch4_window7_224_ArcFace_AdamW_rank_by_id_val, 0",
         "orientation": "v",
         "showlegend": true,
         "type": "scatter",
         "x": [
          0.4401519119958093
         ],
         "xaxis": "x",
         "y": [
          4.739392352016763
         ],
         "yaxis": "y"
        },
        {
         "hovertemplate": "index=swin_base_patch4_window7_224_ArcFace_SGD_rank_by_id_val<br>Marker=0<br>Error=%{x}<br>Disparity=%{y}<extra></extra>",
         "legendgroup": "swin_base_patch4_window7_224_ArcFace_SGD_rank_by_id_val, 0",
         "marker": {
          "color": "#FF97FF",
          "symbol": "circle"
         },
         "mode": "markers",
         "name": "swin_base_patch4_window7_224_ArcFace_SGD_rank_by_id_val, 0",
         "orientation": "v",
         "showlegend": true,
         "type": "scatter",
         "x": [
          0.963986380303824
         ],
         "xaxis": "x",
         "y": [
          28.426401257202713
         ],
         "yaxis": "y"
        },
        {
         "hovertemplate": "index=swin_base_patch4_window7_224_CosFace_Adam_rank_by_id_val<br>Marker=0<br>Error=%{x}<br>Disparity=%{y}<extra></extra>",
         "legendgroup": "swin_base_patch4_window7_224_CosFace_Adam_rank_by_id_val, 0",
         "marker": {
          "color": "#FECB52",
          "symbol": "circle"
         },
         "mode": "markers",
         "name": "swin_base_patch4_window7_224_CosFace_Adam_rank_by_id_val, 0",
         "orientation": "v",
         "showlegend": true,
         "type": "scatter",
         "x": [
          0.1627815610267156
         ],
         "xaxis": "x",
         "y": [
          2.544656888423258
         ],
         "yaxis": "y"
        },
        {
         "hovertemplate": "index=swin_base_patch4_window7_224_CosFace_AdamW_rank_by_id_val<br>Marker=0<br>Error=%{x}<br>Disparity=%{y}<extra></extra>",
         "legendgroup": "swin_base_patch4_window7_224_CosFace_AdamW_rank_by_id_val, 0",
         "marker": {
          "color": "#636efa",
          "symbol": "circle"
         },
         "mode": "markers",
         "name": "swin_base_patch4_window7_224_CosFace_AdamW_rank_by_id_val, 0",
         "orientation": "v",
         "showlegend": true,
         "type": "scatter",
         "x": [
          0.16147197485594555
         ],
         "xaxis": "x",
         "y": [
          2.6461498166579362
         ],
         "yaxis": "y"
        },
        {
         "hovertemplate": "index=swin_base_patch4_window7_224_CosFace_SGD_rank_by_id_val<br>Marker=0<br>Error=%{x}<br>Disparity=%{y}<extra></extra>",
         "legendgroup": "swin_base_patch4_window7_224_CosFace_SGD_rank_by_id_val, 0",
         "marker": {
          "color": "#EF553B",
          "symbol": "circle"
         },
         "mode": "markers",
         "name": "swin_base_patch4_window7_224_CosFace_SGD_rank_by_id_val, 0",
         "orientation": "v",
         "showlegend": true,
         "type": "scatter",
         "x": [
          0.9668674698795181
         ],
         "xaxis": "x",
         "y": [
          29.339182818229403
         ],
         "yaxis": "y"
        },
        {
         "hovertemplate": "index=swin_base_patch4_window7_224_MagFace_AdamW_rank_by_id_val<br>Marker=0<br>Error=%{x}<br>Disparity=%{y}<extra></extra>",
         "legendgroup": "swin_base_patch4_window7_224_MagFace_AdamW_rank_by_id_val, 0",
         "marker": {
          "color": "#00cc96",
          "symbol": "circle"
         },
         "mode": "markers",
         "name": "swin_base_patch4_window7_224_MagFace_AdamW_rank_by_id_val, 0",
         "orientation": "v",
         "showlegend": true,
         "type": "scatter",
         "x": [
          0.19257464641173394
         ],
         "xaxis": "x",
         "y": [
          2.9690937663698267
         ],
         "yaxis": "y"
        },
        {
         "hovertemplate": "index=swin_base_patch4_window7_224_MagFace_SGD_rank_by_id_val<br>Marker=0<br>Error=%{x}<br>Disparity=%{y}<extra></extra>",
         "legendgroup": "swin_base_patch4_window7_224_MagFace_SGD_rank_by_id_val, 0",
         "marker": {
          "color": "#ab63fa",
          "symbol": "circle"
         },
         "mode": "markers",
         "name": "swin_base_patch4_window7_224_MagFace_SGD_rank_by_id_val, 0",
         "orientation": "v",
         "showlegend": true,
         "type": "scatter",
         "x": [
          0.9575039287585123
         ],
         "xaxis": "x",
         "y": [
          34.96778418019903
         ],
         "yaxis": "y"
        },
        {
         "hovertemplate": "index=tf_efficientnet_b7_ns_ArcFace_AdamW_rank_by_id_val<br>Marker=0<br>Error=%{x}<br>Disparity=%{y}<extra></extra>",
         "legendgroup": "tf_efficientnet_b7_ns_ArcFace_AdamW_rank_by_id_val, 0",
         "marker": {
          "color": "#FFA15A",
          "symbol": "circle"
         },
         "mode": "markers",
         "name": "tf_efficientnet_b7_ns_ArcFace_AdamW_rank_by_id_val, 0",
         "orientation": "v",
         "showlegend": true,
         "type": "scatter",
         "x": [
          0.9977082242011525
         ],
         "xaxis": "x",
         "y": [
          2.697354635935028
         ],
         "yaxis": "y"
        },
        {
         "hovertemplate": "index=tf_efficientnet_b7_ns_ArcFace_SGD_rank_by_id_val<br>Marker=0<br>Error=%{x}<br>Disparity=%{y}<extra></extra>",
         "legendgroup": "tf_efficientnet_b7_ns_ArcFace_SGD_rank_by_id_val, 0",
         "marker": {
          "color": "#19d3f3",
          "symbol": "circle"
         },
         "mode": "markers",
         "name": "tf_efficientnet_b7_ns_ArcFace_SGD_rank_by_id_val, 0",
         "orientation": "v",
         "showlegend": true,
         "type": "scatter",
         "x": [
          0.9970534311157674
         ],
         "xaxis": "x",
         "y": [
          1.4457831325301527
         ],
         "yaxis": "y"
        },
        {
         "hovertemplate": "index=tf_efficientnet_b7_ns_CosFace_AdamW_rank_by_id_val<br>Marker=0<br>Error=%{x}<br>Disparity=%{y}<extra></extra>",
         "legendgroup": "tf_efficientnet_b7_ns_CosFace_AdamW_rank_by_id_val, 0",
         "marker": {
          "color": "#FF6692",
          "symbol": "circle"
         },
         "mode": "markers",
         "name": "tf_efficientnet_b7_ns_CosFace_AdamW_rank_by_id_val, 0",
         "orientation": "v",
         "showlegend": true,
         "type": "scatter",
         "x": [
          0.20390256678889473
         ],
         "xaxis": "x",
         "y": [
          2.956390780513358
         ],
         "yaxis": "y"
        },
        {
         "hovertemplate": "index=tf_efficientnet_b7_ns_CosFace_SGD_rank_by_id_val<br>Marker=0<br>Error=%{x}<br>Disparity=%{y}<extra></extra>",
         "legendgroup": "tf_efficientnet_b7_ns_CosFace_SGD_rank_by_id_val, 0",
         "marker": {
          "color": "#B6E880",
          "symbol": "circle"
         },
         "mode": "markers",
         "name": "tf_efficientnet_b7_ns_CosFace_SGD_rank_by_id_val, 0",
         "orientation": "v",
         "showlegend": true,
         "type": "scatter",
         "x": [
          0.1506678889470927
         ],
         "xaxis": "x",
         "y": [
          4.17784180199057
         ],
         "yaxis": "y"
        },
        {
         "hovertemplate": "index=tf_efficientnet_b7_ns_CosFace_rmsproptf_rank_by_id_val<br>Marker=0<br>Error=%{x}<br>Disparity=%{y}<extra></extra>",
         "legendgroup": "tf_efficientnet_b7_ns_CosFace_rmsproptf_rank_by_id_val, 0",
         "marker": {
          "color": "#FF97FF",
          "symbol": "circle"
         },
         "mode": "markers",
         "name": "tf_efficientnet_b7_ns_CosFace_rmsproptf_rank_by_id_val, 0",
         "orientation": "v",
         "showlegend": true,
         "type": "scatter",
         "x": [
          0.10535620743844942
         ],
         "xaxis": "x",
         "y": [
          2.314824515453117
         ],
         "yaxis": "y"
        },
        {
         "hovertemplate": "index=tf_efficientnet_b7_ns_MagFace_AdamW_rank_by_id_val<br>Marker=0<br>Error=%{x}<br>Disparity=%{y}<extra></extra>",
         "legendgroup": "tf_efficientnet_b7_ns_MagFace_AdamW_rank_by_id_val, 0",
         "marker": {
          "color": "#FECB52",
          "symbol": "circle"
         },
         "mode": "markers",
         "name": "tf_efficientnet_b7_ns_MagFace_AdamW_rank_by_id_val, 0",
         "orientation": "v",
         "showlegend": true,
         "type": "scatter",
         "x": [
          0.7048192771084337
         ],
         "xaxis": "x",
         "y": [
          8.973546359350445
         ],
         "yaxis": "y"
        },
        {
         "hovertemplate": "index=tf_efficientnet_b7_ns_MagFace_SGD_rank_by_id_val<br>Marker=0<br>Error=%{x}<br>Disparity=%{y}<extra></extra>",
         "legendgroup": "tf_efficientnet_b7_ns_MagFace_SGD_rank_by_id_val, 0",
         "marker": {
          "color": "#636efa",
          "symbol": "circle"
         },
         "mode": "markers",
         "name": "tf_efficientnet_b7_ns_MagFace_SGD_rank_by_id_val, 0",
         "orientation": "v",
         "showlegend": true,
         "type": "scatter",
         "x": [
          0.8178365636458879
         ],
         "xaxis": "x",
         "y": [
          11.345599790466217
         ],
         "yaxis": "y"
        },
        {
         "hovertemplate": "index=twins_svt_large_CosFace_SGD_rank_by_id_val<br>Marker=0<br>Error=%{x}<br>Disparity=%{y}<extra></extra>",
         "legendgroup": "twins_svt_large_CosFace_SGD_rank_by_id_val, 0",
         "marker": {
          "color": "#EF553B",
          "symbol": "circle"
         },
         "mode": "markers",
         "name": "twins_svt_large_CosFace_SGD_rank_by_id_val, 0",
         "orientation": "v",
         "showlegend": true,
         "type": "scatter",
         "x": [
          0.3237951807228916
         ],
         "xaxis": "x",
         "y": [
          7.761131482451544
         ],
         "yaxis": "y"
        },
        {
         "hovertemplate": "index=twins_svt_large_MagFace_SGD_rank_by_id_val<br>Marker=0<br>Error=%{x}<br>Disparity=%{y}<extra></extra>",
         "legendgroup": "twins_svt_large_MagFace_SGD_rank_by_id_val, 0",
         "marker": {
          "color": "#00cc96",
          "symbol": "circle"
         },
         "mode": "markers",
         "name": "twins_svt_large_MagFace_SGD_rank_by_id_val, 0",
         "orientation": "v",
         "showlegend": true,
         "type": "scatter",
         "x": [
          0.7593635411210058
         ],
         "xaxis": "x",
         "y": [
          14.007595599790463
         ],
         "yaxis": "y"
        },
        {
         "hovertemplate": "index=_rank_by_id_val<br>Marker=10<br>Error=%{x}<br>Disparity=%{y}<extra></extra>",
         "legendgroup": "_rank_by_id_val, 10",
         "marker": {
          "color": "#ab63fa",
          "symbol": "diamond"
         },
         "mode": "markers",
         "name": "_rank_by_id_val, 10",
         "orientation": "v",
         "showlegend": true,
         "type": "scatter",
         "x": [
          0.03326348873755891
         ],
         "xaxis": "x",
         "y": [
          1.4084599266631743
         ],
         "yaxis": "y"
        }
       ],
       "layout": {
        "legend": {
         "title": {
          "text": "index, Marker"
         },
         "tracegroupgap": 0
        },
        "margin": {
         "t": 60
        },
        "shapes": [
         {
          "line": {
           "color": "Red"
          },
          "type": "line",
          "x0": 0,
          "x1": 1,
          "xref": "x",
          "y0": 0,
          "y1": 0,
          "yref": "y"
         },
         {
          "line": {
           "color": "gray",
           "dash": "dash"
          },
          "type": "line",
          "x0": 0.036210057621791525,
          "x1": 0.05159769512833945,
          "xref": "x",
          "y0": 2.0417757988475644,
          "y1": 1.9494499738082771,
          "yref": "y"
         },
         {
          "line": {
           "color": "gray",
           "dash": "dash"
          },
          "type": "line",
          "x0": 0.05159769512833945,
          "x1": 0.08492666317443687,
          "xref": "x",
          "y0": 1.9494499738082771,
          "y1": 1.5644316396018856,
          "yref": "y"
         },
         {
          "line": {
           "color": "gray",
           "dash": "dash"
          },
          "type": "line",
          "x0": 0.08492666317443687,
          "x1": 0.09749869041382919,
          "xref": "x",
          "y0": 1.5644316396018856,
          "y1": 1.2378208486118387,
          "yref": "y"
         },
         {
          "line": {
           "color": "gray",
           "dash": "dash"
          },
          "type": "line",
          "x0": 0.09749869041382919,
          "x1": 0.14333420639078054,
          "xref": "x",
          "y0": 1.2378208486118387,
          "y1": 0.4989523310633839,
          "yref": "y"
         },
         {
          "line": {
           "color": "gray",
           "dash": "dash"
          },
          "type": "line",
          "x0": 0.14333420639078054,
          "x1": 0.20095599790466212,
          "xref": "x",
          "y0": 0.4989523310633839,
          "y1": 0.313383970665269,
          "yref": "y"
         },
         {
          "line": {
           "color": "gray",
           "dash": "dash"
          },
          "type": "line",
          "x0": 0.20095599790466212,
          "x1": 0.21149816657936094,
          "xref": "x",
          "y0": 0.313383970665269,
          "y1": 0.07242011524358283,
          "yref": "y"
         }
        ],
        "template": {
         "data": {
          "bar": [
           {
            "error_x": {
             "color": "#2a3f5f"
            },
            "error_y": {
             "color": "#2a3f5f"
            },
            "marker": {
             "line": {
              "color": "#E5ECF6",
              "width": 0.5
             },
             "pattern": {
              "fillmode": "overlay",
              "size": 10,
              "solidity": 0.2
             }
            },
            "type": "bar"
           }
          ],
          "barpolar": [
           {
            "marker": {
             "line": {
              "color": "#E5ECF6",
              "width": 0.5
             },
             "pattern": {
              "fillmode": "overlay",
              "size": 10,
              "solidity": 0.2
             }
            },
            "type": "barpolar"
           }
          ],
          "carpet": [
           {
            "aaxis": {
             "endlinecolor": "#2a3f5f",
             "gridcolor": "white",
             "linecolor": "white",
             "minorgridcolor": "white",
             "startlinecolor": "#2a3f5f"
            },
            "baxis": {
             "endlinecolor": "#2a3f5f",
             "gridcolor": "white",
             "linecolor": "white",
             "minorgridcolor": "white",
             "startlinecolor": "#2a3f5f"
            },
            "type": "carpet"
           }
          ],
          "choropleth": [
           {
            "colorbar": {
             "outlinewidth": 0,
             "ticks": ""
            },
            "type": "choropleth"
           }
          ],
          "contour": [
           {
            "colorbar": {
             "outlinewidth": 0,
             "ticks": ""
            },
            "colorscale": [
             [
              0,
              "#0d0887"
             ],
             [
              0.1111111111111111,
              "#46039f"
             ],
             [
              0.2222222222222222,
              "#7201a8"
             ],
             [
              0.3333333333333333,
              "#9c179e"
             ],
             [
              0.4444444444444444,
              "#bd3786"
             ],
             [
              0.5555555555555556,
              "#d8576b"
             ],
             [
              0.6666666666666666,
              "#ed7953"
             ],
             [
              0.7777777777777778,
              "#fb9f3a"
             ],
             [
              0.8888888888888888,
              "#fdca26"
             ],
             [
              1,
              "#f0f921"
             ]
            ],
            "type": "contour"
           }
          ],
          "contourcarpet": [
           {
            "colorbar": {
             "outlinewidth": 0,
             "ticks": ""
            },
            "type": "contourcarpet"
           }
          ],
          "heatmap": [
           {
            "colorbar": {
             "outlinewidth": 0,
             "ticks": ""
            },
            "colorscale": [
             [
              0,
              "#0d0887"
             ],
             [
              0.1111111111111111,
              "#46039f"
             ],
             [
              0.2222222222222222,
              "#7201a8"
             ],
             [
              0.3333333333333333,
              "#9c179e"
             ],
             [
              0.4444444444444444,
              "#bd3786"
             ],
             [
              0.5555555555555556,
              "#d8576b"
             ],
             [
              0.6666666666666666,
              "#ed7953"
             ],
             [
              0.7777777777777778,
              "#fb9f3a"
             ],
             [
              0.8888888888888888,
              "#fdca26"
             ],
             [
              1,
              "#f0f921"
             ]
            ],
            "type": "heatmap"
           }
          ],
          "heatmapgl": [
           {
            "colorbar": {
             "outlinewidth": 0,
             "ticks": ""
            },
            "colorscale": [
             [
              0,
              "#0d0887"
             ],
             [
              0.1111111111111111,
              "#46039f"
             ],
             [
              0.2222222222222222,
              "#7201a8"
             ],
             [
              0.3333333333333333,
              "#9c179e"
             ],
             [
              0.4444444444444444,
              "#bd3786"
             ],
             [
              0.5555555555555556,
              "#d8576b"
             ],
             [
              0.6666666666666666,
              "#ed7953"
             ],
             [
              0.7777777777777778,
              "#fb9f3a"
             ],
             [
              0.8888888888888888,
              "#fdca26"
             ],
             [
              1,
              "#f0f921"
             ]
            ],
            "type": "heatmapgl"
           }
          ],
          "histogram": [
           {
            "marker": {
             "pattern": {
              "fillmode": "overlay",
              "size": 10,
              "solidity": 0.2
             }
            },
            "type": "histogram"
           }
          ],
          "histogram2d": [
           {
            "colorbar": {
             "outlinewidth": 0,
             "ticks": ""
            },
            "colorscale": [
             [
              0,
              "#0d0887"
             ],
             [
              0.1111111111111111,
              "#46039f"
             ],
             [
              0.2222222222222222,
              "#7201a8"
             ],
             [
              0.3333333333333333,
              "#9c179e"
             ],
             [
              0.4444444444444444,
              "#bd3786"
             ],
             [
              0.5555555555555556,
              "#d8576b"
             ],
             [
              0.6666666666666666,
              "#ed7953"
             ],
             [
              0.7777777777777778,
              "#fb9f3a"
             ],
             [
              0.8888888888888888,
              "#fdca26"
             ],
             [
              1,
              "#f0f921"
             ]
            ],
            "type": "histogram2d"
           }
          ],
          "histogram2dcontour": [
           {
            "colorbar": {
             "outlinewidth": 0,
             "ticks": ""
            },
            "colorscale": [
             [
              0,
              "#0d0887"
             ],
             [
              0.1111111111111111,
              "#46039f"
             ],
             [
              0.2222222222222222,
              "#7201a8"
             ],
             [
              0.3333333333333333,
              "#9c179e"
             ],
             [
              0.4444444444444444,
              "#bd3786"
             ],
             [
              0.5555555555555556,
              "#d8576b"
             ],
             [
              0.6666666666666666,
              "#ed7953"
             ],
             [
              0.7777777777777778,
              "#fb9f3a"
             ],
             [
              0.8888888888888888,
              "#fdca26"
             ],
             [
              1,
              "#f0f921"
             ]
            ],
            "type": "histogram2dcontour"
           }
          ],
          "mesh3d": [
           {
            "colorbar": {
             "outlinewidth": 0,
             "ticks": ""
            },
            "type": "mesh3d"
           }
          ],
          "parcoords": [
           {
            "line": {
             "colorbar": {
              "outlinewidth": 0,
              "ticks": ""
             }
            },
            "type": "parcoords"
           }
          ],
          "pie": [
           {
            "automargin": true,
            "type": "pie"
           }
          ],
          "scatter": [
           {
            "fillpattern": {
             "fillmode": "overlay",
             "size": 10,
             "solidity": 0.2
            },
            "type": "scatter"
           }
          ],
          "scatter3d": [
           {
            "line": {
             "colorbar": {
              "outlinewidth": 0,
              "ticks": ""
             }
            },
            "marker": {
             "colorbar": {
              "outlinewidth": 0,
              "ticks": ""
             }
            },
            "type": "scatter3d"
           }
          ],
          "scattercarpet": [
           {
            "marker": {
             "colorbar": {
              "outlinewidth": 0,
              "ticks": ""
             }
            },
            "type": "scattercarpet"
           }
          ],
          "scattergeo": [
           {
            "marker": {
             "colorbar": {
              "outlinewidth": 0,
              "ticks": ""
             }
            },
            "type": "scattergeo"
           }
          ],
          "scattergl": [
           {
            "marker": {
             "colorbar": {
              "outlinewidth": 0,
              "ticks": ""
             }
            },
            "type": "scattergl"
           }
          ],
          "scattermapbox": [
           {
            "marker": {
             "colorbar": {
              "outlinewidth": 0,
              "ticks": ""
             }
            },
            "type": "scattermapbox"
           }
          ],
          "scatterpolar": [
           {
            "marker": {
             "colorbar": {
              "outlinewidth": 0,
              "ticks": ""
             }
            },
            "type": "scatterpolar"
           }
          ],
          "scatterpolargl": [
           {
            "marker": {
             "colorbar": {
              "outlinewidth": 0,
              "ticks": ""
             }
            },
            "type": "scatterpolargl"
           }
          ],
          "scatterternary": [
           {
            "marker": {
             "colorbar": {
              "outlinewidth": 0,
              "ticks": ""
             }
            },
            "type": "scatterternary"
           }
          ],
          "surface": [
           {
            "colorbar": {
             "outlinewidth": 0,
             "ticks": ""
            },
            "colorscale": [
             [
              0,
              "#0d0887"
             ],
             [
              0.1111111111111111,
              "#46039f"
             ],
             [
              0.2222222222222222,
              "#7201a8"
             ],
             [
              0.3333333333333333,
              "#9c179e"
             ],
             [
              0.4444444444444444,
              "#bd3786"
             ],
             [
              0.5555555555555556,
              "#d8576b"
             ],
             [
              0.6666666666666666,
              "#ed7953"
             ],
             [
              0.7777777777777778,
              "#fb9f3a"
             ],
             [
              0.8888888888888888,
              "#fdca26"
             ],
             [
              1,
              "#f0f921"
             ]
            ],
            "type": "surface"
           }
          ],
          "table": [
           {
            "cells": {
             "fill": {
              "color": "#EBF0F8"
             },
             "line": {
              "color": "white"
             }
            },
            "header": {
             "fill": {
              "color": "#C8D4E3"
             },
             "line": {
              "color": "white"
             }
            },
            "type": "table"
           }
          ]
         },
         "layout": {
          "annotationdefaults": {
           "arrowcolor": "#2a3f5f",
           "arrowhead": 0,
           "arrowwidth": 1
          },
          "autotypenumbers": "strict",
          "coloraxis": {
           "colorbar": {
            "outlinewidth": 0,
            "ticks": ""
           }
          },
          "colorscale": {
           "diverging": [
            [
             0,
             "#8e0152"
            ],
            [
             0.1,
             "#c51b7d"
            ],
            [
             0.2,
             "#de77ae"
            ],
            [
             0.3,
             "#f1b6da"
            ],
            [
             0.4,
             "#fde0ef"
            ],
            [
             0.5,
             "#f7f7f7"
            ],
            [
             0.6,
             "#e6f5d0"
            ],
            [
             0.7,
             "#b8e186"
            ],
            [
             0.8,
             "#7fbc41"
            ],
            [
             0.9,
             "#4d9221"
            ],
            [
             1,
             "#276419"
            ]
           ],
           "sequential": [
            [
             0,
             "#0d0887"
            ],
            [
             0.1111111111111111,
             "#46039f"
            ],
            [
             0.2222222222222222,
             "#7201a8"
            ],
            [
             0.3333333333333333,
             "#9c179e"
            ],
            [
             0.4444444444444444,
             "#bd3786"
            ],
            [
             0.5555555555555556,
             "#d8576b"
            ],
            [
             0.6666666666666666,
             "#ed7953"
            ],
            [
             0.7777777777777778,
             "#fb9f3a"
            ],
            [
             0.8888888888888888,
             "#fdca26"
            ],
            [
             1,
             "#f0f921"
            ]
           ],
           "sequentialminus": [
            [
             0,
             "#0d0887"
            ],
            [
             0.1111111111111111,
             "#46039f"
            ],
            [
             0.2222222222222222,
             "#7201a8"
            ],
            [
             0.3333333333333333,
             "#9c179e"
            ],
            [
             0.4444444444444444,
             "#bd3786"
            ],
            [
             0.5555555555555556,
             "#d8576b"
            ],
            [
             0.6666666666666666,
             "#ed7953"
            ],
            [
             0.7777777777777778,
             "#fb9f3a"
            ],
            [
             0.8888888888888888,
             "#fdca26"
            ],
            [
             1,
             "#f0f921"
            ]
           ]
          },
          "colorway": [
           "#636efa",
           "#EF553B",
           "#00cc96",
           "#ab63fa",
           "#FFA15A",
           "#19d3f3",
           "#FF6692",
           "#B6E880",
           "#FF97FF",
           "#FECB52"
          ],
          "font": {
           "color": "#2a3f5f"
          },
          "geo": {
           "bgcolor": "white",
           "lakecolor": "white",
           "landcolor": "#E5ECF6",
           "showlakes": true,
           "showland": true,
           "subunitcolor": "white"
          },
          "hoverlabel": {
           "align": "left"
          },
          "hovermode": "closest",
          "mapbox": {
           "style": "light"
          },
          "paper_bgcolor": "white",
          "plot_bgcolor": "#E5ECF6",
          "polar": {
           "angularaxis": {
            "gridcolor": "white",
            "linecolor": "white",
            "ticks": ""
           },
           "bgcolor": "#E5ECF6",
           "radialaxis": {
            "gridcolor": "white",
            "linecolor": "white",
            "ticks": ""
           }
          },
          "scene": {
           "xaxis": {
            "backgroundcolor": "#E5ECF6",
            "gridcolor": "white",
            "gridwidth": 2,
            "linecolor": "white",
            "showbackground": true,
            "ticks": "",
            "zerolinecolor": "white"
           },
           "yaxis": {
            "backgroundcolor": "#E5ECF6",
            "gridcolor": "white",
            "gridwidth": 2,
            "linecolor": "white",
            "showbackground": true,
            "ticks": "",
            "zerolinecolor": "white"
           },
           "zaxis": {
            "backgroundcolor": "#E5ECF6",
            "gridcolor": "white",
            "gridwidth": 2,
            "linecolor": "white",
            "showbackground": true,
            "ticks": "",
            "zerolinecolor": "white"
           }
          },
          "shapedefaults": {
           "line": {
            "color": "#2a3f5f"
           }
          },
          "ternary": {
           "aaxis": {
            "gridcolor": "white",
            "linecolor": "white",
            "ticks": ""
           },
           "baxis": {
            "gridcolor": "white",
            "linecolor": "white",
            "ticks": ""
           },
           "bgcolor": "#E5ECF6",
           "caxis": {
            "gridcolor": "white",
            "linecolor": "white",
            "ticks": ""
           }
          },
          "title": {
           "x": 0.05
          },
          "xaxis": {
           "automargin": true,
           "gridcolor": "white",
           "linecolor": "white",
           "ticks": "",
           "title": {
            "standoff": 15
           },
           "zerolinecolor": "white",
           "zerolinewidth": 2
          },
          "yaxis": {
           "automargin": true,
           "gridcolor": "white",
           "linecolor": "white",
           "ticks": "",
           "title": {
            "standoff": 15
           },
           "zerolinecolor": "white",
           "zerolinewidth": 2
          }
         }
        },
        "xaxis": {
         "anchor": "y",
         "domain": [
          0,
          1
         ],
         "title": {
          "text": "Error"
         }
        },
        "yaxis": {
         "anchor": "x",
         "domain": [
          0,
          1
         ],
         "range": [
          -0.05,
          3.5
         ],
         "title": {
          "text": "Rank Disparity |Rank[male]-Rank[female]|"
         }
        }
       }
      },
      "text/html": [
       "<div>                            <div id=\"177a6db5-ad20-463b-8626-495865735cfa\" class=\"plotly-graph-div\" style=\"height:525px; width:100%;\"></div>            <script type=\"text/javascript\">                require([\"plotly\"], function(Plotly) {                    window.PLOTLYENV=window.PLOTLYENV || {};                                    if (document.getElementById(\"177a6db5-ad20-463b-8626-495865735cfa\")) {                    Plotly.newPlot(                        \"177a6db5-ad20-463b-8626-495865735cfa\",                        [{\"hovertemplate\":\"index=coat_lite_small_ArcFace_AdamW_0.001_cosine_rank_by_id_val<br>Marker=0<br>Error=%{x}<br>Disparity=%{y}<extra></extra>\",\"legendgroup\":\"coat_lite_small_ArcFace_AdamW_0.001_cosine_rank_by_id_val, 0\",\"marker\":{\"color\":\"#636efa\",\"symbol\":\"circle\"},\"mode\":\"markers\",\"name\":\"coat_lite_small_ArcFace_AdamW_0.001_cosine_rank_by_id_val, 0\",\"orientation\":\"v\",\"showlegend\":true,\"x\":[0.5395495023572552],\"xaxis\":\"x\",\"y\":[5.471581980094291],\"yaxis\":\"y\",\"type\":\"scatter\"},{\"hovertemplate\":\"index=coat_lite_small_CosFace_AdamW_0.001_cosine_rank_by_id_val<br>Marker=0<br>Error=%{x}<br>Disparity=%{y}<extra></extra>\",\"legendgroup\":\"coat_lite_small_CosFace_AdamW_0.001_cosine_rank_by_id_val, 0\",\"marker\":{\"color\":\"#EF553B\",\"symbol\":\"circle\"},\"mode\":\"markers\",\"name\":\"coat_lite_small_CosFace_AdamW_0.001_cosine_rank_by_id_val, 0\",\"orientation\":\"v\",\"showlegend\":true,\"x\":[0.07687270822420111],\"xaxis\":\"x\",\"y\":[3.8640649554740705],\"yaxis\":\"y\",\"type\":\"scatter\"},{\"hovertemplate\":\"index=coat_lite_small_MagFace_AdamW_0.001_cosine_rank_by_id_val<br>Marker=0<br>Error=%{x}<br>Disparity=%{y}<extra></extra>\",\"legendgroup\":\"coat_lite_small_MagFace_AdamW_0.001_cosine_rank_by_id_val, 0\",\"marker\":{\"color\":\"#00cc96\",\"symbol\":\"circle\"},\"mode\":\"markers\",\"name\":\"coat_lite_small_MagFace_AdamW_0.001_cosine_rank_by_id_val, 0\",\"orientation\":\"v\",\"showlegend\":true,\"x\":[0.4723677317967522],\"xaxis\":\"x\",\"y\":[4.6195652173913055],\"yaxis\":\"y\",\"type\":\"scatter\"},{\"hovertemplate\":\"index=convit_base_ArcFace_AdamW_0.001_cosine_rank_by_id_val<br>Marker=0<br>Error=%{x}<br>Disparity=%{y}<extra></extra>\",\"legendgroup\":\"convit_base_ArcFace_AdamW_0.001_cosine_rank_by_id_val, 0\",\"marker\":{\"color\":\"#ab63fa\",\"symbol\":\"circle\"},\"mode\":\"markers\",\"name\":\"convit_base_ArcFace_AdamW_0.001_cosine_rank_by_id_val, 0\",\"orientation\":\"v\",\"showlegend\":true,\"x\":[0.875],\"xaxis\":\"x\",\"y\":[15.463462545835526],\"yaxis\":\"y\",\"type\":\"scatter\"},{\"hovertemplate\":\"index=convit_base_CosFace_AdamW_0.001_cosine_rank_by_id_val<br>Marker=0<br>Error=%{x}<br>Disparity=%{y}<extra></extra>\",\"legendgroup\":\"convit_base_CosFace_AdamW_0.001_cosine_rank_by_id_val, 0\",\"marker\":{\"color\":\"#FFA15A\",\"symbol\":\"circle\"},\"mode\":\"markers\",\"name\":\"convit_base_CosFace_AdamW_0.001_cosine_rank_by_id_val, 0\",\"orientation\":\"v\",\"showlegend\":true,\"x\":[0.6724724986904138],\"xaxis\":\"x\",\"y\":[15.067050811943425],\"yaxis\":\"y\",\"type\":\"scatter\"},{\"hovertemplate\":\"index=convit_base_MagFace_AdamW_0.001_cosine_rank_by_id_val<br>Marker=0<br>Error=%{x}<br>Disparity=%{y}<extra></extra>\",\"legendgroup\":\"convit_base_MagFace_AdamW_0.001_cosine_rank_by_id_val, 0\",\"marker\":{\"color\":\"#19d3f3\",\"symbol\":\"circle\"},\"mode\":\"markers\",\"name\":\"convit_base_MagFace_AdamW_0.001_cosine_rank_by_id_val, 0\",\"orientation\":\"v\",\"showlegend\":true,\"x\":[0.8657674174960712],\"xaxis\":\"x\",\"y\":[16.423520167627032],\"yaxis\":\"y\",\"type\":\"scatter\"},{\"hovertemplate\":\"index=cspdarknet53_ArcFace_AdamW_0.001_cosine_rank_by_id_val<br>Marker=0<br>Error=%{x}<br>Disparity=%{y}<extra></extra>\",\"legendgroup\":\"cspdarknet53_ArcFace_AdamW_0.001_cosine_rank_by_id_val, 0\",\"marker\":{\"color\":\"#FF6692\",\"symbol\":\"circle\"},\"mode\":\"markers\",\"name\":\"cspdarknet53_ArcFace_AdamW_0.001_cosine_rank_by_id_val, 0\",\"orientation\":\"v\",\"showlegend\":true,\"x\":[0.3438973284442116],\"xaxis\":\"x\",\"y\":[2.9436877946568885],\"yaxis\":\"y\",\"type\":\"scatter\"},{\"hovertemplate\":\"index=cspdarknet53_ArcFace_SGD_0.1_cosine_rank_by_id_val<br>Marker=0<br>Error=%{x}<br>Disparity=%{y}<extra></extra>\",\"legendgroup\":\"cspdarknet53_ArcFace_SGD_0.1_cosine_rank_by_id_val, 0\",\"marker\":{\"color\":\"#B6E880\",\"symbol\":\"circle\"},\"mode\":\"markers\",\"name\":\"cspdarknet53_ArcFace_SGD_0.1_cosine_rank_by_id_val, 0\",\"orientation\":\"v\",\"showlegend\":true,\"x\":[0.16048978522786794],\"xaxis\":\"x\",\"y\":[1.467784180199057],\"yaxis\":\"y\",\"type\":\"scatter\"},{\"hovertemplate\":\"index=cspdarknet53_CosFace_AdamW_0.001_cosine_rank_by_id_val<br>Marker=0<br>Error=%{x}<br>Disparity=%{y}<extra></extra>\",\"legendgroup\":\"cspdarknet53_CosFace_AdamW_0.001_cosine_rank_by_id_val, 0\",\"marker\":{\"color\":\"#FF97FF\",\"symbol\":\"circle\"},\"mode\":\"markers\",\"name\":\"cspdarknet53_CosFace_AdamW_0.001_cosine_rank_by_id_val, 0\",\"orientation\":\"v\",\"showlegend\":true,\"x\":[0.22465950759559983],\"xaxis\":\"x\",\"y\":[1.0137506547930855],\"yaxis\":\"y\",\"type\":\"scatter\"},{\"hovertemplate\":\"index=cspdarknet53_CosFace_SGD_0.1_cosine_rank_by_id_val<br>Marker=0<br>Error=%{x}<br>Disparity=%{y}<extra></extra>\",\"legendgroup\":\"cspdarknet53_CosFace_SGD_0.1_cosine_rank_by_id_val, 0\",\"marker\":{\"color\":\"#FECB52\",\"symbol\":\"circle\"},\"mode\":\"markers\",\"name\":\"cspdarknet53_CosFace_SGD_0.1_cosine_rank_by_id_val, 0\",\"orientation\":\"v\",\"showlegend\":true,\"x\":[0.35640387637506543],\"xaxis\":\"x\",\"y\":[5.974724986904139],\"yaxis\":\"y\",\"type\":\"scatter\"},{\"hovertemplate\":\"index=cspdarknet53_MagFace_AdamW_0.001_cosine_rank_by_id_val<br>Marker=0<br>Error=%{x}<br>Disparity=%{y}<extra></extra>\",\"legendgroup\":\"cspdarknet53_MagFace_AdamW_0.001_cosine_rank_by_id_val, 0\",\"marker\":{\"color\":\"#636efa\",\"symbol\":\"circle\"},\"mode\":\"markers\",\"name\":\"cspdarknet53_MagFace_AdamW_0.001_cosine_rank_by_id_val, 0\",\"orientation\":\"v\",\"showlegend\":true,\"x\":[0.30330015715034053],\"xaxis\":\"x\",\"y\":[2.8237297014143534],\"yaxis\":\"y\",\"type\":\"scatter\"},{\"hovertemplate\":\"index=cspdarknet53_MagFace_SGD_0.1_cosine_rank_by_id_val<br>Marker=0<br>Error=%{x}<br>Disparity=%{y}<extra></extra>\",\"legendgroup\":\"cspdarknet53_MagFace_SGD_0.1_cosine_rank_by_id_val, 0\",\"marker\":{\"color\":\"#EF553B\",\"symbol\":\"circle\"},\"mode\":\"markers\",\"name\":\"cspdarknet53_MagFace_SGD_0.1_cosine_rank_by_id_val, 0\",\"orientation\":\"v\",\"showlegend\":true,\"x\":[0.15027501309586166],\"xaxis\":\"x\",\"y\":[1.4190675746464119],\"yaxis\":\"y\",\"type\":\"scatter\"},{\"hovertemplate\":\"index=dla102x2_ArcFace_AdamW_0.001_cosine_rank_by_id_val<br>Marker=0<br>Error=%{x}<br>Disparity=%{y}<extra></extra>\",\"legendgroup\":\"dla102x2_ArcFace_AdamW_0.001_cosine_rank_by_id_val, 0\",\"marker\":{\"color\":\"#00cc96\",\"symbol\":\"circle\"},\"mode\":\"markers\",\"name\":\"dla102x2_ArcFace_AdamW_0.001_cosine_rank_by_id_val, 0\",\"orientation\":\"v\",\"showlegend\":true,\"x\":[0.3768334206390781],\"xaxis\":\"x\",\"y\":[3.0798847564169733],\"yaxis\":\"y\",\"type\":\"scatter\"},{\"hovertemplate\":\"index=dla102x2_CosFace_AdamW_0.001_cosine_rank_by_id_val<br>Marker=0<br>Error=%{x}<br>Disparity=%{y}<extra></extra>\",\"legendgroup\":\"dla102x2_CosFace_AdamW_0.001_cosine_rank_by_id_val, 0\",\"marker\":{\"color\":\"#ab63fa\",\"symbol\":\"circle\"},\"mode\":\"markers\",\"name\":\"dla102x2_CosFace_AdamW_0.001_cosine_rank_by_id_val, 0\",\"orientation\":\"v\",\"showlegend\":true,\"x\":[0.20586694604504974],\"xaxis\":\"x\",\"y\":[3.445128339444734],\"yaxis\":\"y\",\"type\":\"scatter\"},{\"hovertemplate\":\"index=dla102x2_MagFace_AdamW_0.001_cosine_rank_by_id_val<br>Marker=0<br>Error=%{x}<br>Disparity=%{y}<extra></extra>\",\"legendgroup\":\"dla102x2_MagFace_AdamW_0.001_cosine_rank_by_id_val, 0\",\"marker\":{\"color\":\"#FFA15A\",\"symbol\":\"circle\"},\"mode\":\"markers\",\"name\":\"dla102x2_MagFace_AdamW_0.001_cosine_rank_by_id_val, 0\",\"orientation\":\"v\",\"showlegend\":true,\"x\":[0.3514929282346778],\"xaxis\":\"x\",\"y\":[3.329622839182819],\"yaxis\":\"y\",\"type\":\"scatter\"},{\"hovertemplate\":\"index=dpn107_ArcFace_SGD_0.1_cosine_rank_by_id_val<br>Marker=0<br>Error=%{x}<br>Disparity=%{y}<extra></extra>\",\"legendgroup\":\"dpn107_ArcFace_SGD_0.1_cosine_rank_by_id_val, 0\",\"marker\":{\"color\":\"#19d3f3\",\"symbol\":\"circle\"},\"mode\":\"markers\",\"name\":\"dpn107_ArcFace_SGD_0.1_cosine_rank_by_id_val, 0\",\"orientation\":\"v\",\"showlegend\":true,\"x\":[0.179020429544264],\"xaxis\":\"x\",\"y\":[1.5608957569408073],\"yaxis\":\"y\",\"type\":\"scatter\"},{\"hovertemplate\":\"index=dpn107_CosFace_SGD_0.1_cosine_rank_by_id_val<br>Marker=0<br>Error=%{x}<br>Disparity=%{y}<extra></extra>\",\"legendgroup\":\"dpn107_CosFace_SGD_0.1_cosine_rank_by_id_val, 0\",\"marker\":{\"color\":\"#FF6692\",\"symbol\":\"circle\"},\"mode\":\"markers\",\"name\":\"dpn107_CosFace_SGD_0.1_cosine_rank_by_id_val, 0\",\"orientation\":\"v\",\"showlegend\":true,\"x\":[0.036210057621791525],\"xaxis\":\"x\",\"y\":[2.0417757988475644],\"yaxis\":\"y\",\"type\":\"scatter\"},{\"hovertemplate\":\"index=dpn107_MagFace_AdamW_0.001_cosine_rank_by_id_val<br>Marker=0<br>Error=%{x}<br>Disparity=%{y}<extra></extra>\",\"legendgroup\":\"dpn107_MagFace_AdamW_0.001_cosine_rank_by_id_val, 0\",\"marker\":{\"color\":\"#B6E880\",\"symbol\":\"circle\"},\"mode\":\"markers\",\"name\":\"dpn107_MagFace_AdamW_0.001_cosine_rank_by_id_val, 0\",\"orientation\":\"v\",\"showlegend\":true,\"x\":[0.39228653745416453],\"xaxis\":\"x\",\"y\":[4.08040859088528],\"yaxis\":\"y\",\"type\":\"scatter\"},{\"hovertemplate\":\"index=dpn107_MagFace_SGD_0.1_cosine_rank_by_id_val<br>Marker=0<br>Error=%{x}<br>Disparity=%{y}<extra></extra>\",\"legendgroup\":\"dpn107_MagFace_SGD_0.1_cosine_rank_by_id_val, 0\",\"marker\":{\"color\":\"#FF97FF\",\"symbol\":\"circle\"},\"mode\":\"markers\",\"name\":\"dpn107_MagFace_SGD_0.1_cosine_rank_by_id_val, 0\",\"orientation\":\"v\",\"showlegend\":true,\"x\":[0.09749869041382919],\"xaxis\":\"x\",\"y\":[1.2378208486118387],\"yaxis\":\"y\",\"type\":\"scatter\"},{\"hovertemplate\":\"index=ese_vovnet39b_ArcFace_AdamW_rank_by_id_val<br>Marker=0<br>Error=%{x}<br>Disparity=%{y}<extra></extra>\",\"legendgroup\":\"ese_vovnet39b_ArcFace_AdamW_rank_by_id_val, 0\",\"marker\":{\"color\":\"#FECB52\",\"symbol\":\"circle\"},\"mode\":\"markers\",\"name\":\"ese_vovnet39b_ArcFace_AdamW_rank_by_id_val, 0\",\"orientation\":\"v\",\"showlegend\":true,\"x\":[0.23363017286537457],\"xaxis\":\"x\",\"y\":[1.649423782084861],\"yaxis\":\"y\",\"type\":\"scatter\"},{\"hovertemplate\":\"index=ese_vovnet39b_ArcFace_AdamW_0.001_cosine_rank_by_id_val<br>Marker=0<br>Error=%{x}<br>Disparity=%{y}<extra></extra>\",\"legendgroup\":\"ese_vovnet39b_ArcFace_AdamW_0.001_cosine_rank_by_id_val, 0\",\"marker\":{\"color\":\"#636efa\",\"symbol\":\"circle\"},\"mode\":\"markers\",\"name\":\"ese_vovnet39b_ArcFace_AdamW_0.001_cosine_rank_by_id_val, 0\",\"orientation\":\"v\",\"showlegend\":true,\"x\":[0.3231403876375065],\"xaxis\":\"x\",\"y\":[2.320717653221582],\"yaxis\":\"y\",\"type\":\"scatter\"},{\"hovertemplate\":\"index=ese_vovnet39b_ArcFace_SGD_rank_by_id_val<br>Marker=0<br>Error=%{x}<br>Disparity=%{y}<extra></extra>\",\"legendgroup\":\"ese_vovnet39b_ArcFace_SGD_rank_by_id_val, 0\",\"marker\":{\"color\":\"#EF553B\",\"symbol\":\"circle\"},\"mode\":\"markers\",\"name\":\"ese_vovnet39b_ArcFace_SGD_rank_by_id_val, 0\",\"orientation\":\"v\",\"showlegend\":true,\"x\":[0.3326348873755893],\"xaxis\":\"x\",\"y\":[3.1301728653745418],\"yaxis\":\"y\",\"type\":\"scatter\"},{\"hovertemplate\":\"index=ese_vovnet39b_ArcFace_SGD_0.1_cosine_rank_by_id_val<br>Marker=0<br>Error=%{x}<br>Disparity=%{y}<extra></extra>\",\"legendgroup\":\"ese_vovnet39b_ArcFace_SGD_0.1_cosine_rank_by_id_val, 0\",\"marker\":{\"color\":\"#00cc96\",\"symbol\":\"circle\"},\"mode\":\"markers\",\"name\":\"ese_vovnet39b_ArcFace_SGD_0.1_cosine_rank_by_id_val, 0\",\"orientation\":\"v\",\"showlegend\":true,\"x\":[0.31096123624934524],\"xaxis\":\"x\",\"y\":[3.0680984808800424],\"yaxis\":\"y\",\"type\":\"scatter\"},{\"hovertemplate\":\"index=ese_vovnet39b_CosFace_Adam_rank_by_id_val<br>Marker=0<br>Error=%{x}<br>Disparity=%{y}<extra></extra>\",\"legendgroup\":\"ese_vovnet39b_CosFace_Adam_rank_by_id_val, 0\",\"marker\":{\"color\":\"#ab63fa\",\"symbol\":\"circle\"},\"mode\":\"markers\",\"name\":\"ese_vovnet39b_CosFace_Adam_rank_by_id_val, 0\",\"orientation\":\"v\",\"showlegend\":true,\"x\":[0.984088528025144],\"xaxis\":\"x\",\"y\":[18.412912519643783],\"yaxis\":\"y\",\"type\":\"scatter\"},{\"hovertemplate\":\"index=ese_vovnet39b_CosFace_AdamW_rank_by_id_val<br>Marker=0<br>Error=%{x}<br>Disparity=%{y}<extra></extra>\",\"legendgroup\":\"ese_vovnet39b_CosFace_AdamW_rank_by_id_val, 0\",\"marker\":{\"color\":\"#FFA15A\",\"symbol\":\"circle\"},\"mode\":\"markers\",\"name\":\"ese_vovnet39b_CosFace_AdamW_rank_by_id_val, 0\",\"orientation\":\"v\",\"showlegend\":true,\"x\":[0.49273179675222634],\"xaxis\":\"x\",\"y\":[4.011786275536931],\"yaxis\":\"y\",\"type\":\"scatter\"},{\"hovertemplate\":\"index=ese_vovnet39b_CosFace_AdamW_0.001_cosine_rank_by_id_val<br>Marker=0<br>Error=%{x}<br>Disparity=%{y}<extra></extra>\",\"legendgroup\":\"ese_vovnet39b_CosFace_AdamW_0.001_cosine_rank_by_id_val, 0\",\"marker\":{\"color\":\"#19d3f3\",\"symbol\":\"circle\"},\"mode\":\"markers\",\"name\":\"ese_vovnet39b_CosFace_AdamW_0.001_cosine_rank_by_id_val, 0\",\"orientation\":\"v\",\"showlegend\":true,\"x\":[0.14333420639078054],\"xaxis\":\"x\",\"y\":[0.4989523310633839],\"yaxis\":\"y\",\"type\":\"scatter\"},{\"hovertemplate\":\"index=ese_vovnet39b_CosFace_SGD_rank_by_id_val<br>Marker=0<br>Error=%{x}<br>Disparity=%{y}<extra></extra>\",\"legendgroup\":\"ese_vovnet39b_CosFace_SGD_rank_by_id_val, 0\",\"marker\":{\"color\":\"#FF6692\",\"symbol\":\"circle\"},\"mode\":\"markers\",\"name\":\"ese_vovnet39b_CosFace_SGD_rank_by_id_val, 0\",\"orientation\":\"v\",\"showlegend\":true,\"x\":[0.1231011000523834],\"xaxis\":\"x\",\"y\":[1.964379256155055],\"yaxis\":\"y\",\"type\":\"scatter\"},{\"hovertemplate\":\"index=ese_vovnet39b_CosFace_SGD_0.1_cosine_rank_by_id_val<br>Marker=0<br>Error=%{x}<br>Disparity=%{y}<extra></extra>\",\"legendgroup\":\"ese_vovnet39b_CosFace_SGD_0.1_cosine_rank_by_id_val, 0\",\"marker\":{\"color\":\"#B6E880\",\"symbol\":\"circle\"},\"mode\":\"markers\",\"name\":\"ese_vovnet39b_CosFace_SGD_0.1_cosine_rank_by_id_val, 0\",\"orientation\":\"v\",\"showlegend\":true,\"x\":[0.11674960712414872],\"xaxis\":\"x\",\"y\":[2.0036668412781564],\"yaxis\":\"y\",\"type\":\"scatter\"},{\"hovertemplate\":\"index=ese_vovnet39b_MagFace_AdamW_rank_by_id_val<br>Marker=0<br>Error=%{x}<br>Disparity=%{y}<extra></extra>\",\"legendgroup\":\"ese_vovnet39b_MagFace_AdamW_rank_by_id_val, 0\",\"marker\":{\"color\":\"#FF97FF\",\"symbol\":\"circle\"},\"mode\":\"markers\",\"name\":\"ese_vovnet39b_MagFace_AdamW_rank_by_id_val, 0\",\"orientation\":\"v\",\"showlegend\":true,\"x\":[0.19080670508119435],\"xaxis\":\"x\",\"y\":[1.8267417496071245],\"yaxis\":\"y\",\"type\":\"scatter\"},{\"hovertemplate\":\"index=ese_vovnet39b_MagFace_AdamW_0.001_cosine_rank_by_id_val<br>Marker=0<br>Error=%{x}<br>Disparity=%{y}<extra></extra>\",\"legendgroup\":\"ese_vovnet39b_MagFace_AdamW_0.001_cosine_rank_by_id_val, 0\",\"marker\":{\"color\":\"#FECB52\",\"symbol\":\"circle\"},\"mode\":\"markers\",\"name\":\"ese_vovnet39b_MagFace_AdamW_0.001_cosine_rank_by_id_val, 0\",\"orientation\":\"v\",\"showlegend\":true,\"x\":[0.29891304347826086],\"xaxis\":\"x\",\"y\":[2.8673389209009956],\"yaxis\":\"y\",\"type\":\"scatter\"},{\"hovertemplate\":\"index=ese_vovnet39b_MagFace_SGD_rank_by_id_val<br>Marker=0<br>Error=%{x}<br>Disparity=%{y}<extra></extra>\",\"legendgroup\":\"ese_vovnet39b_MagFace_SGD_rank_by_id_val, 0\",\"marker\":{\"color\":\"#636efa\",\"symbol\":\"circle\"},\"mode\":\"markers\",\"name\":\"ese_vovnet39b_MagFace_SGD_rank_by_id_val, 0\",\"orientation\":\"v\",\"showlegend\":true,\"x\":[0.34435568360398117],\"xaxis\":\"x\",\"y\":[3.695521215295966],\"yaxis\":\"y\",\"type\":\"scatter\"},{\"hovertemplate\":\"index=ese_vovnet39b_MagFace_SGD_0.1_cosine_rank_by_id_val<br>Marker=0<br>Error=%{x}<br>Disparity=%{y}<extra></extra>\",\"legendgroup\":\"ese_vovnet39b_MagFace_SGD_0.1_cosine_rank_by_id_val, 0\",\"marker\":{\"color\":\"#EF553B\",\"symbol\":\"circle\"},\"mode\":\"markers\",\"name\":\"ese_vovnet39b_MagFace_SGD_0.1_cosine_rank_by_id_val, 0\",\"orientation\":\"v\",\"showlegend\":true,\"x\":[0.35758250392875857],\"xaxis\":\"x\",\"y\":[3.6186485070717653],\"yaxis\":\"y\",\"type\":\"scatter\"},{\"hovertemplate\":\"index=fbnetv3_g_ArcFace_AdamW_0.001_cosine_rank_by_id_val<br>Marker=0<br>Error=%{x}<br>Disparity=%{y}<extra></extra>\",\"legendgroup\":\"fbnetv3_g_ArcFace_AdamW_0.001_cosine_rank_by_id_val, 0\",\"marker\":{\"color\":\"#00cc96\",\"symbol\":\"circle\"},\"mode\":\"markers\",\"name\":\"fbnetv3_g_ArcFace_AdamW_0.001_cosine_rank_by_id_val, 0\",\"orientation\":\"v\",\"showlegend\":true,\"x\":[0.5615505500261917],\"xaxis\":\"x\",\"y\":[12.744892613933997],\"yaxis\":\"y\",\"type\":\"scatter\"},{\"hovertemplate\":\"index=fbnetv3_g_ArcFace_SGD_rank_by_id_val<br>Marker=0<br>Error=%{x}<br>Disparity=%{y}<extra></extra>\",\"legendgroup\":\"fbnetv3_g_ArcFace_SGD_rank_by_id_val, 0\",\"marker\":{\"color\":\"#ab63fa\",\"symbol\":\"circle\"},\"mode\":\"markers\",\"name\":\"fbnetv3_g_ArcFace_SGD_rank_by_id_val, 0\",\"orientation\":\"v\",\"showlegend\":true,\"x\":[0.3662257726558408],\"xaxis\":\"x\",\"y\":[4.190544787847039],\"yaxis\":\"y\",\"type\":\"scatter\"},{\"hovertemplate\":\"index=fbnetv3_g_ArcFace_SGD_0.1_cosine_rank_by_id_val<br>Marker=0<br>Error=%{x}<br>Disparity=%{y}<extra></extra>\",\"legendgroup\":\"fbnetv3_g_ArcFace_SGD_0.1_cosine_rank_by_id_val, 0\",\"marker\":{\"color\":\"#FFA15A\",\"symbol\":\"circle\"},\"mode\":\"markers\",\"name\":\"fbnetv3_g_ArcFace_SGD_0.1_cosine_rank_by_id_val, 0\",\"orientation\":\"v\",\"showlegend\":true,\"x\":[0.39831063383970666],\"xaxis\":\"x\",\"y\":[3.609350445259298],\"yaxis\":\"y\",\"type\":\"scatter\"},{\"hovertemplate\":\"index=fbnetv3_g_CosFace_Adam_rank_by_id_val<br>Marker=0<br>Error=%{x}<br>Disparity=%{y}<extra></extra>\",\"legendgroup\":\"fbnetv3_g_CosFace_Adam_rank_by_id_val, 0\",\"marker\":{\"color\":\"#19d3f3\",\"symbol\":\"circle\"},\"mode\":\"markers\",\"name\":\"fbnetv3_g_CosFace_Adam_rank_by_id_val, 0\",\"orientation\":\"v\",\"showlegend\":true,\"x\":[0.9956783656364588],\"xaxis\":\"x\",\"y\":[7.952592980618135],\"yaxis\":\"y\",\"type\":\"scatter\"},{\"hovertemplate\":\"index=fbnetv3_g_CosFace_AdamW_rank_by_id_val<br>Marker=0<br>Error=%{x}<br>Disparity=%{y}<extra></extra>\",\"legendgroup\":\"fbnetv3_g_CosFace_AdamW_rank_by_id_val, 0\",\"marker\":{\"color\":\"#FF6692\",\"symbol\":\"circle\"},\"mode\":\"markers\",\"name\":\"fbnetv3_g_CosFace_AdamW_rank_by_id_val, 0\",\"orientation\":\"v\",\"showlegend\":true,\"x\":[0.606338397066527],\"xaxis\":\"x\",\"y\":[5.958486118386588],\"yaxis\":\"y\",\"type\":\"scatter\"},{\"hovertemplate\":\"index=fbnetv3_g_CosFace_AdamW_0.001_cosine_rank_by_id_val<br>Marker=0<br>Error=%{x}<br>Disparity=%{y}<extra></extra>\",\"legendgroup\":\"fbnetv3_g_CosFace_AdamW_0.001_cosine_rank_by_id_val, 0\",\"marker\":{\"color\":\"#B6E880\",\"symbol\":\"circle\"},\"mode\":\"markers\",\"name\":\"fbnetv3_g_CosFace_AdamW_0.001_cosine_rank_by_id_val, 0\",\"orientation\":\"v\",\"showlegend\":true,\"x\":[0.3806966998428497],\"xaxis\":\"x\",\"y\":[2.1375065479308546],\"yaxis\":\"y\",\"type\":\"scatter\"},{\"hovertemplate\":\"index=fbnetv3_g_CosFace_SGD_rank_by_id_val<br>Marker=0<br>Error=%{x}<br>Disparity=%{y}<extra></extra>\",\"legendgroup\":\"fbnetv3_g_CosFace_SGD_rank_by_id_val, 0\",\"marker\":{\"color\":\"#FF97FF\",\"symbol\":\"circle\"},\"mode\":\"markers\",\"name\":\"fbnetv3_g_CosFace_SGD_rank_by_id_val, 0\",\"orientation\":\"v\",\"showlegend\":true,\"x\":[0.19545573598742794],\"xaxis\":\"x\",\"y\":[1.7902042954426403],\"yaxis\":\"y\",\"type\":\"scatter\"},{\"hovertemplate\":\"index=fbnetv3_g_CosFace_SGD_0.1_cosine_rank_by_id_val<br>Marker=0<br>Error=%{x}<br>Disparity=%{y}<extra></extra>\",\"legendgroup\":\"fbnetv3_g_CosFace_SGD_0.1_cosine_rank_by_id_val, 0\",\"marker\":{\"color\":\"#FECB52\",\"symbol\":\"circle\"},\"mode\":\"markers\",\"name\":\"fbnetv3_g_CosFace_SGD_0.1_cosine_rank_by_id_val, 0\",\"orientation\":\"v\",\"showlegend\":true,\"x\":[0.16644840230487168],\"xaxis\":\"x\",\"y\":[1.5316919853326345],\"yaxis\":\"y\",\"type\":\"scatter\"},{\"hovertemplate\":\"index=fbnetv3_g_MagFace_AdamW_rank_by_id_val<br>Marker=0<br>Error=%{x}<br>Disparity=%{y}<extra></extra>\",\"legendgroup\":\"fbnetv3_g_MagFace_AdamW_rank_by_id_val, 0\",\"marker\":{\"color\":\"#636efa\",\"symbol\":\"circle\"},\"mode\":\"markers\",\"name\":\"fbnetv3_g_MagFace_AdamW_rank_by_id_val, 0\",\"orientation\":\"v\",\"showlegend\":true,\"x\":[0.2699057097957046],\"xaxis\":\"x\",\"y\":[2.4812729177579884],\"yaxis\":\"y\",\"type\":\"scatter\"},{\"hovertemplate\":\"index=fbnetv3_g_MagFace_AdamW_0.001_cosine_rank_by_id_val<br>Marker=0<br>Error=%{x}<br>Disparity=%{y}<extra></extra>\",\"legendgroup\":\"fbnetv3_g_MagFace_AdamW_0.001_cosine_rank_by_id_val, 0\",\"marker\":{\"color\":\"#EF553B\",\"symbol\":\"circle\"},\"mode\":\"markers\",\"name\":\"fbnetv3_g_MagFace_AdamW_0.001_cosine_rank_by_id_val, 0\",\"orientation\":\"v\",\"showlegend\":true,\"x\":[0.3882922996333159],\"xaxis\":\"x\",\"y\":[3.684389732844421],\"yaxis\":\"y\",\"type\":\"scatter\"},{\"hovertemplate\":\"index=fbnetv3_g_MagFace_SGD_rank_by_id_val<br>Marker=0<br>Error=%{x}<br>Disparity=%{y}<extra></extra>\",\"legendgroup\":\"fbnetv3_g_MagFace_SGD_rank_by_id_val, 0\",\"marker\":{\"color\":\"#00cc96\",\"symbol\":\"circle\"},\"mode\":\"markers\",\"name\":\"fbnetv3_g_MagFace_SGD_rank_by_id_val, 0\",\"orientation\":\"v\",\"showlegend\":true,\"x\":[0.44440806705081193],\"xaxis\":\"x\",\"y\":[5.508643268727082],\"yaxis\":\"y\",\"type\":\"scatter\"},{\"hovertemplate\":\"index=fbnetv3_g_MagFace_SGD_0.1_cosine_rank_by_id_val<br>Marker=0<br>Error=%{x}<br>Disparity=%{y}<extra></extra>\",\"legendgroup\":\"fbnetv3_g_MagFace_SGD_0.1_cosine_rank_by_id_val, 0\",\"marker\":{\"color\":\"#ab63fa\",\"symbol\":\"circle\"},\"mode\":\"markers\",\"name\":\"fbnetv3_g_MagFace_SGD_0.1_cosine_rank_by_id_val, 0\",\"orientation\":\"v\",\"showlegend\":true,\"x\":[0.40669198533263484],\"xaxis\":\"x\",\"y\":[3.232713462545836],\"yaxis\":\"y\",\"type\":\"scatter\"},{\"hovertemplate\":\"index=ghostnet_100_ArcFace_AdamW_0.001_cosine_rank_by_id_val<br>Marker=0<br>Error=%{x}<br>Disparity=%{y}<extra></extra>\",\"legendgroup\":\"ghostnet_100_ArcFace_AdamW_0.001_cosine_rank_by_id_val, 0\",\"marker\":{\"color\":\"#FFA15A\",\"symbol\":\"circle\"},\"mode\":\"markers\",\"name\":\"ghostnet_100_ArcFace_AdamW_0.001_cosine_rank_by_id_val, 0\",\"orientation\":\"v\",\"showlegend\":true,\"x\":[0.9431639601885804],\"xaxis\":\"x\",\"y\":[30.190675746464123],\"yaxis\":\"y\",\"type\":\"scatter\"},{\"hovertemplate\":\"index=ghostnet_100_MagFace_AdamW_0.001_cosine_rank_by_id_val<br>Marker=0<br>Error=%{x}<br>Disparity=%{y}<extra></extra>\",\"legendgroup\":\"ghostnet_100_MagFace_AdamW_0.001_cosine_rank_by_id_val, 0\",\"marker\":{\"color\":\"#19d3f3\",\"symbol\":\"circle\"},\"mode\":\"markers\",\"name\":\"ghostnet_100_MagFace_AdamW_0.001_cosine_rank_by_id_val, 0\",\"orientation\":\"v\",\"showlegend\":true,\"x\":[0.6428103719224725],\"xaxis\":\"x\",\"y\":[5.761131482451546],\"yaxis\":\"y\",\"type\":\"scatter\"},{\"hovertemplate\":\"index=gluon_inception_v3_ArcFace_AdamW_rank_by_id_val<br>Marker=0<br>Error=%{x}<br>Disparity=%{y}<extra></extra>\",\"legendgroup\":\"gluon_inception_v3_ArcFace_AdamW_rank_by_id_val, 0\",\"marker\":{\"color\":\"#FF6692\",\"symbol\":\"circle\"},\"mode\":\"markers\",\"name\":\"gluon_inception_v3_ArcFace_AdamW_rank_by_id_val, 0\",\"orientation\":\"v\",\"showlegend\":true,\"x\":[0.28097171293871137],\"xaxis\":\"x\",\"y\":[2.263357778941854],\"yaxis\":\"y\",\"type\":\"scatter\"},{\"hovertemplate\":\"index=gluon_inception_v3_ArcFace_AdamW_0.001_cosine_rank_by_id_val<br>Marker=0<br>Error=%{x}<br>Disparity=%{y}<extra></extra>\",\"legendgroup\":\"gluon_inception_v3_ArcFace_AdamW_0.001_cosine_rank_by_id_val, 0\",\"marker\":{\"color\":\"#B6E880\",\"symbol\":\"circle\"},\"mode\":\"markers\",\"name\":\"gluon_inception_v3_ArcFace_AdamW_0.001_cosine_rank_by_id_val, 0\",\"orientation\":\"v\",\"showlegend\":true,\"x\":[0.27691199580932424],\"xaxis\":\"x\",\"y\":[1.158067050811943],\"yaxis\":\"y\",\"type\":\"scatter\"},{\"hovertemplate\":\"index=gluon_inception_v3_ArcFace_SGD_rank_by_id_val<br>Marker=0<br>Error=%{x}<br>Disparity=%{y}<extra></extra>\",\"legendgroup\":\"gluon_inception_v3_ArcFace_SGD_rank_by_id_val, 0\",\"marker\":{\"color\":\"#FF97FF\",\"symbol\":\"circle\"},\"mode\":\"markers\",\"name\":\"gluon_inception_v3_ArcFace_SGD_rank_by_id_val, 0\",\"orientation\":\"v\",\"showlegend\":true,\"x\":[0.28935306443163955],\"xaxis\":\"x\",\"y\":[3.1516500785751704],\"yaxis\":\"y\",\"type\":\"scatter\"},{\"hovertemplate\":\"index=gluon_inception_v3_ArcFace_SGD_0.1_cosine_rank_by_id_val<br>Marker=0<br>Error=%{x}<br>Disparity=%{y}<extra></extra>\",\"legendgroup\":\"gluon_inception_v3_ArcFace_SGD_0.1_cosine_rank_by_id_val, 0\",\"marker\":{\"color\":\"#FECB52\",\"symbol\":\"circle\"},\"mode\":\"markers\",\"name\":\"gluon_inception_v3_ArcFace_SGD_0.1_cosine_rank_by_id_val, 0\",\"orientation\":\"v\",\"showlegend\":true,\"x\":[0.3863933996856993],\"xaxis\":\"x\",\"y\":[4.108171817705605],\"yaxis\":\"y\",\"type\":\"scatter\"},{\"hovertemplate\":\"index=gluon_inception_v3_CosFace_Adam_rank_by_id_val<br>Marker=0<br>Error=%{x}<br>Disparity=%{y}<extra></extra>\",\"legendgroup\":\"gluon_inception_v3_CosFace_Adam_rank_by_id_val, 0\",\"marker\":{\"color\":\"#636efa\",\"symbol\":\"circle\"},\"mode\":\"markers\",\"name\":\"gluon_inception_v3_CosFace_Adam_rank_by_id_val, 0\",\"orientation\":\"v\",\"showlegend\":true,\"x\":[0.9962676794133054],\"xaxis\":\"x\",\"y\":[19.663436354112093],\"yaxis\":\"y\",\"type\":\"scatter\"},{\"hovertemplate\":\"index=gluon_inception_v3_CosFace_AdamW_rank_by_id_val<br>Marker=0<br>Error=%{x}<br>Disparity=%{y}<extra></extra>\",\"legendgroup\":\"gluon_inception_v3_CosFace_AdamW_rank_by_id_val, 0\",\"marker\":{\"color\":\"#EF553B\",\"symbol\":\"circle\"},\"mode\":\"markers\",\"name\":\"gluon_inception_v3_CosFace_AdamW_rank_by_id_val, 0\",\"orientation\":\"v\",\"showlegend\":true,\"x\":[0.5481272917757989],\"xaxis\":\"x\",\"y\":[5.415793609219486],\"yaxis\":\"y\",\"type\":\"scatter\"},{\"hovertemplate\":\"index=gluon_inception_v3_CosFace_AdamW_0.001_cosine_rank_by_id_val<br>Marker=0<br>Error=%{x}<br>Disparity=%{y}<extra></extra>\",\"legendgroup\":\"gluon_inception_v3_CosFace_AdamW_0.001_cosine_rank_by_id_val, 0\",\"marker\":{\"color\":\"#00cc96\",\"symbol\":\"circle\"},\"mode\":\"markers\",\"name\":\"gluon_inception_v3_CosFace_AdamW_0.001_cosine_rank_by_id_val, 0\",\"orientation\":\"v\",\"showlegend\":true,\"x\":[0.44178889470927185],\"xaxis\":\"x\",\"y\":[6.246333158721843],\"yaxis\":\"y\",\"type\":\"scatter\"},{\"hovertemplate\":\"index=gluon_inception_v3_CosFace_SGD_rank_by_id_val<br>Marker=0<br>Error=%{x}<br>Disparity=%{y}<extra></extra>\",\"legendgroup\":\"gluon_inception_v3_CosFace_SGD_rank_by_id_val, 0\",\"marker\":{\"color\":\"#ab63fa\",\"symbol\":\"circle\"},\"mode\":\"markers\",\"name\":\"gluon_inception_v3_CosFace_SGD_rank_by_id_val, 0\",\"orientation\":\"v\",\"showlegend\":true,\"x\":[0.27219748559455215],\"xaxis\":\"x\",\"y\":[2.28143006809848],\"yaxis\":\"y\",\"type\":\"scatter\"},{\"hovertemplate\":\"index=gluon_inception_v3_CosFace_SGD_0.1_cosine_rank_by_id_val<br>Marker=0<br>Error=%{x}<br>Disparity=%{y}<extra></extra>\",\"legendgroup\":\"gluon_inception_v3_CosFace_SGD_0.1_cosine_rank_by_id_val, 0\",\"marker\":{\"color\":\"#FFA15A\",\"symbol\":\"circle\"},\"mode\":\"markers\",\"name\":\"gluon_inception_v3_CosFace_SGD_0.1_cosine_rank_by_id_val, 0\",\"orientation\":\"v\",\"showlegend\":true,\"x\":[0.3713986380303824],\"xaxis\":\"x\",\"y\":[3.9279727606076484],\"yaxis\":\"y\",\"type\":\"scatter\"},{\"hovertemplate\":\"index=gluon_inception_v3_MagFace_AdamW_rank_by_id_val<br>Marker=0<br>Error=%{x}<br>Disparity=%{y}<extra></extra>\",\"legendgroup\":\"gluon_inception_v3_MagFace_AdamW_rank_by_id_val, 0\",\"marker\":{\"color\":\"#19d3f3\",\"symbol\":\"circle\"},\"mode\":\"markers\",\"name\":\"gluon_inception_v3_MagFace_AdamW_rank_by_id_val, 0\",\"orientation\":\"v\",\"showlegend\":true,\"x\":[0.23703509690937663],\"xaxis\":\"x\",\"y\":[2.219486642221058],\"yaxis\":\"y\",\"type\":\"scatter\"},{\"hovertemplate\":\"index=gluon_inception_v3_MagFace_AdamW_0.001_cosine_rank_by_id_val<br>Marker=0<br>Error=%{x}<br>Disparity=%{y}<extra></extra>\",\"legendgroup\":\"gluon_inception_v3_MagFace_AdamW_0.001_cosine_rank_by_id_val, 0\",\"marker\":{\"color\":\"#FF6692\",\"symbol\":\"circle\"},\"mode\":\"markers\",\"name\":\"gluon_inception_v3_MagFace_AdamW_0.001_cosine_rank_by_id_val, 0\",\"orientation\":\"v\",\"showlegend\":true,\"x\":[0.3370874803562074],\"xaxis\":\"x\",\"y\":[2.582372970141436],\"yaxis\":\"y\",\"type\":\"scatter\"},{\"hovertemplate\":\"index=gluon_inception_v3_MagFace_SGD_rank_by_id_val<br>Marker=0<br>Error=%{x}<br>Disparity=%{y}<extra></extra>\",\"legendgroup\":\"gluon_inception_v3_MagFace_SGD_rank_by_id_val, 0\",\"marker\":{\"color\":\"#B6E880\",\"symbol\":\"circle\"},\"mode\":\"markers\",\"name\":\"gluon_inception_v3_MagFace_SGD_rank_by_id_val, 0\",\"orientation\":\"v\",\"showlegend\":true,\"x\":[0.30624672603457304],\"xaxis\":\"x\",\"y\":[2.894185437401781],\"yaxis\":\"y\",\"type\":\"scatter\"},{\"hovertemplate\":\"index=gluon_inception_v3_MagFace_SGD_0.1_cosine_rank_by_id_val<br>Marker=0<br>Error=%{x}<br>Disparity=%{y}<extra></extra>\",\"legendgroup\":\"gluon_inception_v3_MagFace_SGD_0.1_cosine_rank_by_id_val, 0\",\"marker\":{\"color\":\"#FF97FF\",\"symbol\":\"circle\"},\"mode\":\"markers\",\"name\":\"gluon_inception_v3_MagFace_SGD_0.1_cosine_rank_by_id_val, 0\",\"orientation\":\"v\",\"showlegend\":true,\"x\":[0.3553562074384494],\"xaxis\":\"x\",\"y\":[2.6191723415400725],\"yaxis\":\"y\",\"type\":\"scatter\"},{\"hovertemplate\":\"index=gluon_xception65_ArcFace_AdamW_rank_by_id_val<br>Marker=0<br>Error=%{x}<br>Disparity=%{y}<extra></extra>\",\"legendgroup\":\"gluon_xception65_ArcFace_AdamW_rank_by_id_val, 0\",\"marker\":{\"color\":\"#FECB52\",\"symbol\":\"circle\"},\"mode\":\"markers\",\"name\":\"gluon_xception65_ArcFace_AdamW_rank_by_id_val, 0\",\"orientation\":\"v\",\"showlegend\":true,\"x\":[0.3975248821372447],\"xaxis\":\"x\",\"y\":[2.015191199580933],\"yaxis\":\"y\",\"type\":\"scatter\"},{\"hovertemplate\":\"index=gluon_xception65_ArcFace_AdamW_0.001_cosine_rank_by_id_val<br>Marker=0<br>Error=%{x}<br>Disparity=%{y}<extra></extra>\",\"legendgroup\":\"gluon_xception65_ArcFace_AdamW_0.001_cosine_rank_by_id_val, 0\",\"marker\":{\"color\":\"#636efa\",\"symbol\":\"circle\"},\"mode\":\"markers\",\"name\":\"gluon_xception65_ArcFace_AdamW_0.001_cosine_rank_by_id_val, 0\",\"orientation\":\"v\",\"showlegend\":true,\"x\":[0.41330539549502354],\"xaxis\":\"x\",\"y\":[3.6017548454688324],\"yaxis\":\"y\",\"type\":\"scatter\"},{\"hovertemplate\":\"index=gluon_xception65_ArcFace_SGD_rank_by_id_val<br>Marker=0<br>Error=%{x}<br>Disparity=%{y}<extra></extra>\",\"legendgroup\":\"gluon_xception65_ArcFace_SGD_rank_by_id_val, 0\",\"marker\":{\"color\":\"#EF553B\",\"symbol\":\"circle\"},\"mode\":\"markers\",\"name\":\"gluon_xception65_ArcFace_SGD_rank_by_id_val, 0\",\"orientation\":\"v\",\"showlegend\":true,\"x\":[0.38213724463069665],\"xaxis\":\"x\",\"y\":[3.534180199057099],\"yaxis\":\"y\",\"type\":\"scatter\"},{\"hovertemplate\":\"index=gluon_xception65_ArcFace_SGD_0.1_cosine_rank_by_id_val<br>Marker=0<br>Error=%{x}<br>Disparity=%{y}<extra></extra>\",\"legendgroup\":\"gluon_xception65_ArcFace_SGD_0.1_cosine_rank_by_id_val, 0\",\"marker\":{\"color\":\"#00cc96\",\"symbol\":\"circle\"},\"mode\":\"markers\",\"name\":\"gluon_xception65_ArcFace_SGD_0.1_cosine_rank_by_id_val, 0\",\"orientation\":\"v\",\"showlegend\":true,\"x\":[0.25157150340492407],\"xaxis\":\"x\",\"y\":[2.542954426401257],\"yaxis\":\"y\",\"type\":\"scatter\"},{\"hovertemplate\":\"index=gluon_xception65_CosFace_AdamW_rank_by_id_val<br>Marker=0<br>Error=%{x}<br>Disparity=%{y}<extra></extra>\",\"legendgroup\":\"gluon_xception65_CosFace_AdamW_rank_by_id_val, 0\",\"marker\":{\"color\":\"#ab63fa\",\"symbol\":\"circle\"},\"mode\":\"markers\",\"name\":\"gluon_xception65_CosFace_AdamW_rank_by_id_val, 0\",\"orientation\":\"v\",\"showlegend\":true,\"x\":[0.6073860660031429],\"xaxis\":\"x\",\"y\":[10.092587742273437],\"yaxis\":\"y\",\"type\":\"scatter\"},{\"hovertemplate\":\"index=gluon_xception65_CosFace_AdamW_0.001_cosine_rank_by_id_val<br>Marker=0<br>Error=%{x}<br>Disparity=%{y}<extra></extra>\",\"legendgroup\":\"gluon_xception65_CosFace_AdamW_0.001_cosine_rank_by_id_val, 0\",\"marker\":{\"color\":\"#FFA15A\",\"symbol\":\"circle\"},\"mode\":\"markers\",\"name\":\"gluon_xception65_CosFace_AdamW_0.001_cosine_rank_by_id_val, 0\",\"orientation\":\"v\",\"showlegend\":true,\"x\":[0.6997773703509691],\"xaxis\":\"x\",\"y\":[8.418674698795186],\"yaxis\":\"y\",\"type\":\"scatter\"},{\"hovertemplate\":\"index=gluon_xception65_CosFace_SGD_rank_by_id_val<br>Marker=0<br>Error=%{x}<br>Disparity=%{y}<extra></extra>\",\"legendgroup\":\"gluon_xception65_CosFace_SGD_rank_by_id_val, 0\",\"marker\":{\"color\":\"#19d3f3\",\"symbol\":\"circle\"},\"mode\":\"markers\",\"name\":\"gluon_xception65_CosFace_SGD_rank_by_id_val, 0\",\"orientation\":\"v\",\"showlegend\":true,\"x\":[0.31482451545311685],\"xaxis\":\"x\",\"y\":[4.567705605028811],\"yaxis\":\"y\",\"type\":\"scatter\"},{\"hovertemplate\":\"index=gluon_xception65_CosFace_SGD_0.1_cosine_rank_by_id_val<br>Marker=0<br>Error=%{x}<br>Disparity=%{y}<extra></extra>\",\"legendgroup\":\"gluon_xception65_CosFace_SGD_0.1_cosine_rank_by_id_val, 0\",\"marker\":{\"color\":\"#FF6692\",\"symbol\":\"circle\"},\"mode\":\"markers\",\"name\":\"gluon_xception65_CosFace_SGD_0.1_cosine_rank_by_id_val, 0\",\"orientation\":\"v\",\"showlegend\":true,\"x\":[0.33577789418543735],\"xaxis\":\"x\",\"y\":[0.7252488213724462],\"yaxis\":\"y\",\"type\":\"scatter\"},{\"hovertemplate\":\"index=gluon_xception65_MagFace_AdamW_rank_by_id_val<br>Marker=0<br>Error=%{x}<br>Disparity=%{y}<extra></extra>\",\"legendgroup\":\"gluon_xception65_MagFace_AdamW_rank_by_id_val, 0\",\"marker\":{\"color\":\"#B6E880\",\"symbol\":\"circle\"},\"mode\":\"markers\",\"name\":\"gluon_xception65_MagFace_AdamW_rank_by_id_val, 0\",\"orientation\":\"v\",\"showlegend\":true,\"x\":[0.3418674698795181],\"xaxis\":\"x\",\"y\":[8.735725510738607],\"yaxis\":\"y\",\"type\":\"scatter\"},{\"hovertemplate\":\"index=gluon_xception65_MagFace_AdamW_0.001_cosine_rank_by_id_val<br>Marker=0<br>Error=%{x}<br>Disparity=%{y}<extra></extra>\",\"legendgroup\":\"gluon_xception65_MagFace_AdamW_0.001_cosine_rank_by_id_val, 0\",\"marker\":{\"color\":\"#FF97FF\",\"symbol\":\"circle\"},\"mode\":\"markers\",\"name\":\"gluon_xception65_MagFace_AdamW_0.001_cosine_rank_by_id_val, 0\",\"orientation\":\"v\",\"showlegend\":true,\"x\":[0.3748035620743845],\"xaxis\":\"x\",\"y\":[3.2832634887375587],\"yaxis\":\"y\",\"type\":\"scatter\"},{\"hovertemplate\":\"index=gluon_xception65_MagFace_SGD_rank_by_id_val<br>Marker=0<br>Error=%{x}<br>Disparity=%{y}<extra></extra>\",\"legendgroup\":\"gluon_xception65_MagFace_SGD_rank_by_id_val, 0\",\"marker\":{\"color\":\"#FECB52\",\"symbol\":\"circle\"},\"mode\":\"markers\",\"name\":\"gluon_xception65_MagFace_SGD_rank_by_id_val, 0\",\"orientation\":\"v\",\"showlegend\":true,\"x\":[0.35954688318491357],\"xaxis\":\"x\",\"y\":[3.011262441068622],\"yaxis\":\"y\",\"type\":\"scatter\"},{\"hovertemplate\":\"index=gluon_xception65_MagFace_SGD_0.1_cosine_rank_by_id_val<br>Marker=0<br>Error=%{x}<br>Disparity=%{y}<extra></extra>\",\"legendgroup\":\"gluon_xception65_MagFace_SGD_0.1_cosine_rank_by_id_val, 0\",\"marker\":{\"color\":\"#636efa\",\"symbol\":\"circle\"},\"mode\":\"markers\",\"name\":\"gluon_xception65_MagFace_SGD_0.1_cosine_rank_by_id_val, 0\",\"orientation\":\"v\",\"showlegend\":true,\"x\":[0.35954688318491357],\"xaxis\":\"x\",\"y\":[3.011262441068622],\"yaxis\":\"y\",\"type\":\"scatter\"},{\"hovertemplate\":\"index=hrnet_w64_ArcFace_AdamW_0.001_cosine_rank_by_id_val<br>Marker=0<br>Error=%{x}<br>Disparity=%{y}<extra></extra>\",\"legendgroup\":\"hrnet_w64_ArcFace_AdamW_0.001_cosine_rank_by_id_val, 0\",\"marker\":{\"color\":\"#EF553B\",\"symbol\":\"circle\"},\"mode\":\"markers\",\"name\":\"hrnet_w64_ArcFace_AdamW_0.001_cosine_rank_by_id_val, 0\",\"orientation\":\"v\",\"showlegend\":true,\"x\":[0.41062074384494496],\"xaxis\":\"x\",\"y\":[3.6572812991094814],\"yaxis\":\"y\",\"type\":\"scatter\"},{\"hovertemplate\":\"index=hrnet_w64_ArcFace_SGD_0.1_cosine_rank_by_id_val<br>Marker=0<br>Error=%{x}<br>Disparity=%{y}<extra></extra>\",\"legendgroup\":\"hrnet_w64_ArcFace_SGD_0.1_cosine_rank_by_id_val, 0\",\"marker\":{\"color\":\"#00cc96\",\"symbol\":\"circle\"},\"mode\":\"markers\",\"name\":\"hrnet_w64_ArcFace_SGD_0.1_cosine_rank_by_id_val, 0\",\"orientation\":\"v\",\"showlegend\":true,\"x\":[0.29400209533787325],\"xaxis\":\"x\",\"y\":[2.732582503928759],\"yaxis\":\"y\",\"type\":\"scatter\"},{\"hovertemplate\":\"index=hrnet_w64_CosFace_AdamW_0.001_cosine_rank_by_id_val<br>Marker=0<br>Error=%{x}<br>Disparity=%{y}<extra></extra>\",\"legendgroup\":\"hrnet_w64_CosFace_AdamW_0.001_cosine_rank_by_id_val, 0\",\"marker\":{\"color\":\"#ab63fa\",\"symbol\":\"circle\"},\"mode\":\"markers\",\"name\":\"hrnet_w64_CosFace_AdamW_0.001_cosine_rank_by_id_val, 0\",\"orientation\":\"v\",\"showlegend\":true,\"x\":[0.2092063907805134],\"xaxis\":\"x\",\"y\":[11.224201152435832],\"yaxis\":\"y\",\"type\":\"scatter\"},{\"hovertemplate\":\"index=hrnet_w64_CosFace_SGD_0.1_cosine_rank_by_id_val<br>Marker=0<br>Error=%{x}<br>Disparity=%{y}<extra></extra>\",\"legendgroup\":\"hrnet_w64_CosFace_SGD_0.1_cosine_rank_by_id_val, 0\",\"marker\":{\"color\":\"#FFA15A\",\"symbol\":\"circle\"},\"mode\":\"markers\",\"name\":\"hrnet_w64_CosFace_SGD_0.1_cosine_rank_by_id_val, 0\",\"orientation\":\"v\",\"showlegend\":true,\"x\":[0.12048192771084343],\"xaxis\":\"x\",\"y\":[2.048847564169722],\"yaxis\":\"y\",\"type\":\"scatter\"},{\"hovertemplate\":\"index=hrnet_w64_MagFace_SGD_0.1_cosine_rank_by_id_val<br>Marker=0<br>Error=%{x}<br>Disparity=%{y}<extra></extra>\",\"legendgroup\":\"hrnet_w64_MagFace_SGD_0.1_cosine_rank_by_id_val, 0\",\"marker\":{\"color\":\"#19d3f3\",\"symbol\":\"circle\"},\"mode\":\"markers\",\"name\":\"hrnet_w64_MagFace_SGD_0.1_cosine_rank_by_id_val, 0\",\"orientation\":\"v\",\"showlegend\":true,\"x\":[0.2527501309586171],\"xaxis\":\"x\",\"y\":[2.170508119434259],\"yaxis\":\"y\",\"type\":\"scatter\"},{\"hovertemplate\":\"index=ig_resnext101_32x8d_ArcFace_AdamW_rank_by_id_val<br>Marker=0<br>Error=%{x}<br>Disparity=%{y}<extra></extra>\",\"legendgroup\":\"ig_resnext101_32x8d_ArcFace_AdamW_rank_by_id_val, 0\",\"marker\":{\"color\":\"#FF6692\",\"symbol\":\"circle\"},\"mode\":\"markers\",\"name\":\"ig_resnext101_32x8d_ArcFace_AdamW_rank_by_id_val, 0\",\"orientation\":\"v\",\"showlegend\":true,\"x\":[0.340950759559979],\"xaxis\":\"x\",\"y\":[4.529203771608172],\"yaxis\":\"y\",\"type\":\"scatter\"},{\"hovertemplate\":\"index=ig_resnext101_32x8d_ArcFace_AdamW_0.001_cosine_rank_by_id_val<br>Marker=0<br>Error=%{x}<br>Disparity=%{y}<extra></extra>\",\"legendgroup\":\"ig_resnext101_32x8d_ArcFace_AdamW_0.001_cosine_rank_by_id_val, 0\",\"marker\":{\"color\":\"#B6E880\",\"symbol\":\"circle\"},\"mode\":\"markers\",\"name\":\"ig_resnext101_32x8d_ArcFace_AdamW_0.001_cosine_rank_by_id_val, 0\",\"orientation\":\"v\",\"showlegend\":true,\"x\":[0.4971843897328444],\"xaxis\":\"x\",\"y\":[5.265060240963855],\"yaxis\":\"y\",\"type\":\"scatter\"},{\"hovertemplate\":\"index=ig_resnext101_32x8d_ArcFace_SGD_rank_by_id_val<br>Marker=0<br>Error=%{x}<br>Disparity=%{y}<extra></extra>\",\"legendgroup\":\"ig_resnext101_32x8d_ArcFace_SGD_rank_by_id_val, 0\",\"marker\":{\"color\":\"#FF97FF\",\"symbol\":\"circle\"},\"mode\":\"markers\",\"name\":\"ig_resnext101_32x8d_ArcFace_SGD_rank_by_id_val, 0\",\"orientation\":\"v\",\"showlegend\":true,\"x\":[0.2829360921948664],\"xaxis\":\"x\",\"y\":[2.4150078575170246],\"yaxis\":\"y\",\"type\":\"scatter\"},{\"hovertemplate\":\"index=ig_resnext101_32x8d_ArcFace_SGD_0.1_cosine_rank_by_id_val<br>Marker=0<br>Error=%{x}<br>Disparity=%{y}<extra></extra>\",\"legendgroup\":\"ig_resnext101_32x8d_ArcFace_SGD_0.1_cosine_rank_by_id_val, 0\",\"marker\":{\"color\":\"#FECB52\",\"symbol\":\"circle\"},\"mode\":\"markers\",\"name\":\"ig_resnext101_32x8d_ArcFace_SGD_0.1_cosine_rank_by_id_val, 0\",\"orientation\":\"v\",\"showlegend\":true,\"x\":[0.4329491880565741],\"xaxis\":\"x\",\"y\":[4.827003666841279],\"yaxis\":\"y\",\"type\":\"scatter\"},{\"hovertemplate\":\"index=ig_resnext101_32x8d_CosFace_AdamW_rank_by_id_val<br>Marker=0<br>Error=%{x}<br>Disparity=%{y}<extra></extra>\",\"legendgroup\":\"ig_resnext101_32x8d_CosFace_AdamW_rank_by_id_val, 0\",\"marker\":{\"color\":\"#636efa\",\"symbol\":\"circle\"},\"mode\":\"markers\",\"name\":\"ig_resnext101_32x8d_CosFace_AdamW_rank_by_id_val, 0\",\"orientation\":\"v\",\"showlegend\":true,\"x\":[0.17057359874279732],\"xaxis\":\"x\",\"y\":[1.0982189628077528],\"yaxis\":\"y\",\"type\":\"scatter\"},{\"hovertemplate\":\"index=ig_resnext101_32x8d_CosFace_AdamW_0.001_cosine_rank_by_id_val<br>Marker=0<br>Error=%{x}<br>Disparity=%{y}<extra></extra>\",\"legendgroup\":\"ig_resnext101_32x8d_CosFace_AdamW_0.001_cosine_rank_by_id_val, 0\",\"marker\":{\"color\":\"#EF553B\",\"symbol\":\"circle\"},\"mode\":\"markers\",\"name\":\"ig_resnext101_32x8d_CosFace_AdamW_0.001_cosine_rank_by_id_val, 0\",\"orientation\":\"v\",\"showlegend\":true,\"x\":[0.376178627553693],\"xaxis\":\"x\",\"y\":[3.6183865898376126],\"yaxis\":\"y\",\"type\":\"scatter\"},{\"hovertemplate\":\"index=ig_resnext101_32x8d_CosFace_SGD_rank_by_id_val<br>Marker=0<br>Error=%{x}<br>Disparity=%{y}<extra></extra>\",\"legendgroup\":\"ig_resnext101_32x8d_CosFace_SGD_rank_by_id_val, 0\",\"marker\":{\"color\":\"#00cc96\",\"symbol\":\"circle\"},\"mode\":\"markers\",\"name\":\"ig_resnext101_32x8d_CosFace_SGD_rank_by_id_val, 0\",\"orientation\":\"v\",\"showlegend\":true,\"x\":[0.16972236773179672],\"xaxis\":\"x\",\"y\":[2.0652173913043477],\"yaxis\":\"y\",\"type\":\"scatter\"},{\"hovertemplate\":\"index=ig_resnext101_32x8d_CosFace_SGD_0.1_cosine_rank_by_id_val<br>Marker=0<br>Error=%{x}<br>Disparity=%{y}<extra></extra>\",\"legendgroup\":\"ig_resnext101_32x8d_CosFace_SGD_0.1_cosine_rank_by_id_val, 0\",\"marker\":{\"color\":\"#ab63fa\",\"symbol\":\"circle\"},\"mode\":\"markers\",\"name\":\"ig_resnext101_32x8d_CosFace_SGD_0.1_cosine_rank_by_id_val, 0\",\"orientation\":\"v\",\"showlegend\":true,\"x\":[0.2529465688842326],\"xaxis\":\"x\",\"y\":[4.631744368779466],\"yaxis\":\"y\",\"type\":\"scatter\"},{\"hovertemplate\":\"index=ig_resnext101_32x8d_MagFace_AdamW_rank_by_id_val<br>Marker=0<br>Error=%{x}<br>Disparity=%{y}<extra></extra>\",\"legendgroup\":\"ig_resnext101_32x8d_MagFace_AdamW_rank_by_id_val, 0\",\"marker\":{\"color\":\"#FFA15A\",\"symbol\":\"circle\"},\"mode\":\"markers\",\"name\":\"ig_resnext101_32x8d_MagFace_AdamW_rank_by_id_val, 0\",\"orientation\":\"v\",\"showlegend\":true,\"x\":[0.3334861183865898],\"xaxis\":\"x\",\"y\":[2.9734154007333684],\"yaxis\":\"y\",\"type\":\"scatter\"},{\"hovertemplate\":\"index=ig_resnext101_32x8d_MagFace_AdamW_0.001_cosine_rank_by_id_val<br>Marker=0<br>Error=%{x}<br>Disparity=%{y}<extra></extra>\",\"legendgroup\":\"ig_resnext101_32x8d_MagFace_AdamW_0.001_cosine_rank_by_id_val, 0\",\"marker\":{\"color\":\"#19d3f3\",\"symbol\":\"circle\"},\"mode\":\"markers\",\"name\":\"ig_resnext101_32x8d_MagFace_AdamW_0.001_cosine_rank_by_id_val, 0\",\"orientation\":\"v\",\"showlegend\":true,\"x\":[0.46058145625982194],\"xaxis\":\"x\",\"y\":[4.536930330015715],\"yaxis\":\"y\",\"type\":\"scatter\"},{\"hovertemplate\":\"index=ig_resnext101_32x8d_MagFace_SGD_rank_by_id_val<br>Marker=0<br>Error=%{x}<br>Disparity=%{y}<extra></extra>\",\"legendgroup\":\"ig_resnext101_32x8d_MagFace_SGD_rank_by_id_val, 0\",\"marker\":{\"color\":\"#FF6692\",\"symbol\":\"circle\"},\"mode\":\"markers\",\"name\":\"ig_resnext101_32x8d_MagFace_SGD_rank_by_id_val, 0\",\"orientation\":\"v\",\"showlegend\":true,\"x\":[0.22891566265060237],\"xaxis\":\"x\",\"y\":[1.8914353064431637],\"yaxis\":\"y\",\"type\":\"scatter\"},{\"hovertemplate\":\"index=inception_resnet_v2_ArcFace_AdamW_rank_by_id_val<br>Marker=0<br>Error=%{x}<br>Disparity=%{y}<extra></extra>\",\"legendgroup\":\"inception_resnet_v2_ArcFace_AdamW_rank_by_id_val, 0\",\"marker\":{\"color\":\"#B6E880\",\"symbol\":\"circle\"},\"mode\":\"markers\",\"name\":\"inception_resnet_v2_ArcFace_AdamW_rank_by_id_val, 0\",\"orientation\":\"v\",\"showlegend\":true,\"x\":[0.41710319539025664],\"xaxis\":\"x\",\"y\":[3.345206914614981],\"yaxis\":\"y\",\"type\":\"scatter\"},{\"hovertemplate\":\"index=inception_resnet_v2_ArcFace_AdamW_0.001_cosine_rank_by_id_val<br>Marker=0<br>Error=%{x}<br>Disparity=%{y}<extra></extra>\",\"legendgroup\":\"inception_resnet_v2_ArcFace_AdamW_0.001_cosine_rank_by_id_val, 0\",\"marker\":{\"color\":\"#FF97FF\",\"symbol\":\"circle\"},\"mode\":\"markers\",\"name\":\"inception_resnet_v2_ArcFace_AdamW_0.001_cosine_rank_by_id_val, 0\",\"orientation\":\"v\",\"showlegend\":true,\"x\":[0.47773703509690935],\"xaxis\":\"x\",\"y\":[5.167627029858564],\"yaxis\":\"y\",\"type\":\"scatter\"},{\"hovertemplate\":\"index=inception_resnet_v2_ArcFace_SGD_rank_by_id_val<br>Marker=0<br>Error=%{x}<br>Disparity=%{y}<extra></extra>\",\"legendgroup\":\"inception_resnet_v2_ArcFace_SGD_rank_by_id_val, 0\",\"marker\":{\"color\":\"#FECB52\",\"symbol\":\"circle\"},\"mode\":\"markers\",\"name\":\"inception_resnet_v2_ArcFace_SGD_rank_by_id_val, 0\",\"orientation\":\"v\",\"showlegend\":true,\"x\":[0.37080932425353585],\"xaxis\":\"x\",\"y\":[4.448271346254583],\"yaxis\":\"y\",\"type\":\"scatter\"},{\"hovertemplate\":\"index=inception_resnet_v2_ArcFace_SGD_0.1_cosine_rank_by_id_val<br>Marker=0<br>Error=%{x}<br>Disparity=%{y}<extra></extra>\",\"legendgroup\":\"inception_resnet_v2_ArcFace_SGD_0.1_cosine_rank_by_id_val, 0\",\"marker\":{\"color\":\"#636efa\",\"symbol\":\"circle\"},\"mode\":\"markers\",\"name\":\"inception_resnet_v2_ArcFace_SGD_0.1_cosine_rank_by_id_val, 0\",\"orientation\":\"v\",\"showlegend\":true,\"x\":[0.23363017286537457],\"xaxis\":\"x\",\"y\":[2.4223415400733366],\"yaxis\":\"y\",\"type\":\"scatter\"},{\"hovertemplate\":\"index=inception_resnet_v2_CosFace_AdamW_rank_by_id_val<br>Marker=0<br>Error=%{x}<br>Disparity=%{y}<extra></extra>\",\"legendgroup\":\"inception_resnet_v2_CosFace_AdamW_rank_by_id_val, 0\",\"marker\":{\"color\":\"#EF553B\",\"symbol\":\"circle\"},\"mode\":\"markers\",\"name\":\"inception_resnet_v2_CosFace_AdamW_rank_by_id_val, 0\",\"orientation\":\"v\",\"showlegend\":true,\"x\":[0.6550550026191724],\"xaxis\":\"x\",\"y\":[7.024751178627552],\"yaxis\":\"y\",\"type\":\"scatter\"},{\"hovertemplate\":\"index=inception_resnet_v2_CosFace_AdamW_0.001_cosine_rank_by_id_val<br>Marker=0<br>Error=%{x}<br>Disparity=%{y}<extra></extra>\",\"legendgroup\":\"inception_resnet_v2_CosFace_AdamW_0.001_cosine_rank_by_id_val, 0\",\"marker\":{\"color\":\"#00cc96\",\"symbol\":\"circle\"},\"mode\":\"markers\",\"name\":\"inception_resnet_v2_CosFace_AdamW_0.001_cosine_rank_by_id_val, 0\",\"orientation\":\"v\",\"showlegend\":true,\"x\":[0.21149816657936094],\"xaxis\":\"x\",\"y\":[0.07242011524358283],\"yaxis\":\"y\",\"type\":\"scatter\"},{\"hovertemplate\":\"index=inception_resnet_v2_CosFace_SGD_rank_by_id_val<br>Marker=0<br>Error=%{x}<br>Disparity=%{y}<extra></extra>\",\"legendgroup\":\"inception_resnet_v2_CosFace_SGD_rank_by_id_val, 0\",\"marker\":{\"color\":\"#ab63fa\",\"symbol\":\"circle\"},\"mode\":\"markers\",\"name\":\"inception_resnet_v2_CosFace_SGD_rank_by_id_val, 0\",\"orientation\":\"v\",\"showlegend\":true,\"x\":[0.18242535358826606],\"xaxis\":\"x\",\"y\":[1.6018858040859092],\"yaxis\":\"y\",\"type\":\"scatter\"},{\"hovertemplate\":\"index=inception_resnet_v2_CosFace_SGD_0.1_cosine_rank_by_id_val<br>Marker=0<br>Error=%{x}<br>Disparity=%{y}<extra></extra>\",\"legendgroup\":\"inception_resnet_v2_CosFace_SGD_0.1_cosine_rank_by_id_val, 0\",\"marker\":{\"color\":\"#FFA15A\",\"symbol\":\"circle\"},\"mode\":\"markers\",\"name\":\"inception_resnet_v2_CosFace_SGD_0.1_cosine_rank_by_id_val, 0\",\"orientation\":\"v\",\"showlegend\":true,\"x\":[0.20095599790466212],\"xaxis\":\"x\",\"y\":[0.313383970665269],\"yaxis\":\"y\",\"type\":\"scatter\"},{\"hovertemplate\":\"index=inception_resnet_v2_MagFace_AdamW_rank_by_id_val<br>Marker=0<br>Error=%{x}<br>Disparity=%{y}<extra></extra>\",\"legendgroup\":\"inception_resnet_v2_MagFace_AdamW_rank_by_id_val, 0\",\"marker\":{\"color\":\"#19d3f3\",\"symbol\":\"circle\"},\"mode\":\"markers\",\"name\":\"inception_resnet_v2_MagFace_AdamW_rank_by_id_val, 0\",\"orientation\":\"v\",\"showlegend\":true,\"x\":[0.3179675222629649],\"xaxis\":\"x\",\"y\":[2.7663698271346258],\"yaxis\":\"y\",\"type\":\"scatter\"},{\"hovertemplate\":\"index=inception_resnet_v2_MagFace_AdamW_0.001_cosine_rank_by_id_val<br>Marker=0<br>Error=%{x}<br>Disparity=%{y}<extra></extra>\",\"legendgroup\":\"inception_resnet_v2_MagFace_AdamW_0.001_cosine_rank_by_id_val, 0\",\"marker\":{\"color\":\"#FF6692\",\"symbol\":\"circle\"},\"mode\":\"markers\",\"name\":\"inception_resnet_v2_MagFace_AdamW_0.001_cosine_rank_by_id_val, 0\",\"orientation\":\"v\",\"showlegend\":true,\"x\":[0.4688973284442116],\"xaxis\":\"x\",\"y\":[5.2575955997904655],\"yaxis\":\"y\",\"type\":\"scatter\"},{\"hovertemplate\":\"index=inception_resnet_v2_MagFace_SGD_rank_by_id_val<br>Marker=0<br>Error=%{x}<br>Disparity=%{y}<extra></extra>\",\"legendgroup\":\"inception_resnet_v2_MagFace_SGD_rank_by_id_val, 0\",\"marker\":{\"color\":\"#B6E880\",\"symbol\":\"circle\"},\"mode\":\"markers\",\"name\":\"inception_resnet_v2_MagFace_SGD_rank_by_id_val, 0\",\"orientation\":\"v\",\"showlegend\":true,\"x\":[0.15570979570455734],\"xaxis\":\"x\",\"y\":[3.264798323729701],\"yaxis\":\"y\",\"type\":\"scatter\"},{\"hovertemplate\":\"index=inception_resnet_v2_MagFace_SGD_0.1_cosine_rank_by_id_val<br>Marker=0<br>Error=%{x}<br>Disparity=%{y}<extra></extra>\",\"legendgroup\":\"inception_resnet_v2_MagFace_SGD_0.1_cosine_rank_by_id_val, 0\",\"marker\":{\"color\":\"#FF97FF\",\"symbol\":\"circle\"},\"mode\":\"markers\",\"name\":\"inception_resnet_v2_MagFace_SGD_0.1_cosine_rank_by_id_val, 0\",\"orientation\":\"v\",\"showlegend\":true,\"x\":[0.17751440544787844],\"xaxis\":\"x\",\"y\":[2.936485070717653],\"yaxis\":\"y\",\"type\":\"scatter\"},{\"hovertemplate\":\"index=inception_v4_ArcFace_AdamW_rank_by_id_val<br>Marker=0<br>Error=%{x}<br>Disparity=%{y}<extra></extra>\",\"legendgroup\":\"inception_v4_ArcFace_AdamW_rank_by_id_val, 0\",\"marker\":{\"color\":\"#FECB52\",\"symbol\":\"circle\"},\"mode\":\"markers\",\"name\":\"inception_v4_ArcFace_AdamW_rank_by_id_val, 0\",\"orientation\":\"v\",\"showlegend\":true,\"x\":[0.33669460450497646],\"xaxis\":\"x\",\"y\":[2.6096123624934524],\"yaxis\":\"y\",\"type\":\"scatter\"},{\"hovertemplate\":\"index=inception_v4_ArcFace_AdamW_0.001_cosine_rank_by_id_val<br>Marker=0<br>Error=%{x}<br>Disparity=%{y}<extra></extra>\",\"legendgroup\":\"inception_v4_ArcFace_AdamW_0.001_cosine_rank_by_id_val, 0\",\"marker\":{\"color\":\"#636efa\",\"symbol\":\"circle\"},\"mode\":\"markers\",\"name\":\"inception_v4_ArcFace_AdamW_0.001_cosine_rank_by_id_val, 0\",\"orientation\":\"v\",\"showlegend\":true,\"x\":[0.3863933996856993],\"xaxis\":\"x\",\"y\":[3.291513881613411],\"yaxis\":\"y\",\"type\":\"scatter\"},{\"hovertemplate\":\"index=inception_v4_ArcFace_SGD_rank_by_id_val<br>Marker=0<br>Error=%{x}<br>Disparity=%{y}<extra></extra>\",\"legendgroup\":\"inception_v4_ArcFace_SGD_rank_by_id_val, 0\",\"marker\":{\"color\":\"#EF553B\",\"symbol\":\"circle\"},\"mode\":\"markers\",\"name\":\"inception_v4_ArcFace_SGD_rank_by_id_val, 0\",\"orientation\":\"v\",\"showlegend\":true,\"x\":[0.6215950759559978],\"xaxis\":\"x\",\"y\":[18.130565741225773],\"yaxis\":\"y\",\"type\":\"scatter\"},{\"hovertemplate\":\"index=inception_v4_ArcFace_SGD_0.1_cosine_rank_by_id_val<br>Marker=0<br>Error=%{x}<br>Disparity=%{y}<extra></extra>\",\"legendgroup\":\"inception_v4_ArcFace_SGD_0.1_cosine_rank_by_id_val, 0\",\"marker\":{\"color\":\"#00cc96\",\"symbol\":\"circle\"},\"mode\":\"markers\",\"name\":\"inception_v4_ArcFace_SGD_0.1_cosine_rank_by_id_val, 0\",\"orientation\":\"v\",\"showlegend\":true,\"x\":[0.5585385018334206],\"xaxis\":\"x\",\"y\":[8.598611838658984],\"yaxis\":\"y\",\"type\":\"scatter\"},{\"hovertemplate\":\"index=inception_v4_CosFace_AdamW_rank_by_id_val<br>Marker=0<br>Error=%{x}<br>Disparity=%{y}<extra></extra>\",\"legendgroup\":\"inception_v4_CosFace_AdamW_rank_by_id_val, 0\",\"marker\":{\"color\":\"#ab63fa\",\"symbol\":\"circle\"},\"mode\":\"markers\",\"name\":\"inception_v4_CosFace_AdamW_rank_by_id_val, 0\",\"orientation\":\"v\",\"showlegend\":true,\"x\":[0.7185044525929807],\"xaxis\":\"x\",\"y\":[6.4559979046621265],\"yaxis\":\"y\",\"type\":\"scatter\"},{\"hovertemplate\":\"index=inception_v4_CosFace_AdamW_0.001_cosine_rank_by_id_val<br>Marker=0<br>Error=%{x}<br>Disparity=%{y}<extra></extra>\",\"legendgroup\":\"inception_v4_CosFace_AdamW_0.001_cosine_rank_by_id_val, 0\",\"marker\":{\"color\":\"#FFA15A\",\"symbol\":\"circle\"},\"mode\":\"markers\",\"name\":\"inception_v4_CosFace_AdamW_0.001_cosine_rank_by_id_val, 0\",\"orientation\":\"v\",\"showlegend\":true,\"x\":[0.6081063383970665],\"xaxis\":\"x\",\"y\":[8.628339444735463],\"yaxis\":\"y\",\"type\":\"scatter\"},{\"hovertemplate\":\"index=inception_v4_CosFace_SGD_rank_by_id_val<br>Marker=0<br>Error=%{x}<br>Disparity=%{y}<extra></extra>\",\"legendgroup\":\"inception_v4_CosFace_SGD_rank_by_id_val, 0\",\"marker\":{\"color\":\"#19d3f3\",\"symbol\":\"circle\"},\"mode\":\"markers\",\"name\":\"inception_v4_CosFace_SGD_rank_by_id_val, 0\",\"orientation\":\"v\",\"showlegend\":true,\"x\":[0.5873493975903614],\"xaxis\":\"x\",\"y\":[19.196437925615506],\"yaxis\":\"y\",\"type\":\"scatter\"},{\"hovertemplate\":\"index=inception_v4_CosFace_SGD_0.1_cosine_rank_by_id_val<br>Marker=0<br>Error=%{x}<br>Disparity=%{y}<extra></extra>\",\"legendgroup\":\"inception_v4_CosFace_SGD_0.1_cosine_rank_by_id_val, 0\",\"marker\":{\"color\":\"#FF6692\",\"symbol\":\"circle\"},\"mode\":\"markers\",\"name\":\"inception_v4_CosFace_SGD_0.1_cosine_rank_by_id_val, 0\",\"orientation\":\"v\",\"showlegend\":true,\"x\":[0.4612362493452069],\"xaxis\":\"x\",\"y\":[6.307752750130959],\"yaxis\":\"y\",\"type\":\"scatter\"},{\"hovertemplate\":\"index=inception_v4_MagFace_AdamW_rank_by_id_val<br>Marker=0<br>Error=%{x}<br>Disparity=%{y}<extra></extra>\",\"legendgroup\":\"inception_v4_MagFace_AdamW_rank_by_id_val, 0\",\"marker\":{\"color\":\"#B6E880\",\"symbol\":\"circle\"},\"mode\":\"markers\",\"name\":\"inception_v4_MagFace_AdamW_rank_by_id_val, 0\",\"orientation\":\"v\",\"showlegend\":true,\"x\":[0.27023310633839703],\"xaxis\":\"x\",\"y\":[2.09180199057098],\"yaxis\":\"y\",\"type\":\"scatter\"},{\"hovertemplate\":\"index=inception_v4_MagFace_AdamW_0.001_cosine_rank_by_id_val<br>Marker=0<br>Error=%{x}<br>Disparity=%{y}<extra></extra>\",\"legendgroup\":\"inception_v4_MagFace_AdamW_0.001_cosine_rank_by_id_val, 0\",\"marker\":{\"color\":\"#FF97FF\",\"symbol\":\"circle\"},\"mode\":\"markers\",\"name\":\"inception_v4_MagFace_AdamW_0.001_cosine_rank_by_id_val, 0\",\"orientation\":\"v\",\"showlegend\":true,\"x\":[0.3255631220534311],\"xaxis\":\"x\",\"y\":[3.2420115243583023],\"yaxis\":\"y\",\"type\":\"scatter\"},{\"hovertemplate\":\"index=inception_v4_MagFace_SGD_rank_by_id_val<br>Marker=0<br>Error=%{x}<br>Disparity=%{y}<extra></extra>\",\"legendgroup\":\"inception_v4_MagFace_SGD_rank_by_id_val, 0\",\"marker\":{\"color\":\"#FECB52\",\"symbol\":\"circle\"},\"mode\":\"markers\",\"name\":\"inception_v4_MagFace_SGD_rank_by_id_val, 0\",\"orientation\":\"v\",\"showlegend\":true,\"x\":[0.4241094814038764],\"xaxis\":\"x\",\"y\":[5.74476165531692],\"yaxis\":\"y\",\"type\":\"scatter\"},{\"hovertemplate\":\"index=inception_v4_MagFace_SGD_0.1_cosine_rank_by_id_val<br>Marker=0<br>Error=%{x}<br>Disparity=%{y}<extra></extra>\",\"legendgroup\":\"inception_v4_MagFace_SGD_0.1_cosine_rank_by_id_val, 0\",\"marker\":{\"color\":\"#636efa\",\"symbol\":\"circle\"},\"mode\":\"markers\",\"name\":\"inception_v4_MagFace_SGD_0.1_cosine_rank_by_id_val, 0\",\"orientation\":\"v\",\"showlegend\":true,\"x\":[0.3369565217391305],\"xaxis\":\"x\",\"y\":[2.9773441592456784],\"yaxis\":\"y\",\"type\":\"scatter\"},{\"hovertemplate\":\"index=jx_nest_base_CosFace_AdamW_0.001_cosine_rank_by_id_val<br>Marker=0<br>Error=%{x}<br>Disparity=%{y}<extra></extra>\",\"legendgroup\":\"jx_nest_base_CosFace_AdamW_0.001_cosine_rank_by_id_val, 0\",\"marker\":{\"color\":\"#EF553B\",\"symbol\":\"circle\"},\"mode\":\"markers\",\"name\":\"jx_nest_base_CosFace_AdamW_0.001_cosine_rank_by_id_val, 0\",\"orientation\":\"v\",\"showlegend\":true,\"x\":[0.1326610790990047],\"xaxis\":\"x\",\"y\":[3.6498166579360927],\"yaxis\":\"y\",\"type\":\"scatter\"},{\"hovertemplate\":\"index=legacy_senet154_ArcFace_AdamW_rank_by_id_val<br>Marker=0<br>Error=%{x}<br>Disparity=%{y}<extra></extra>\",\"legendgroup\":\"legacy_senet154_ArcFace_AdamW_rank_by_id_val, 0\",\"marker\":{\"color\":\"#00cc96\",\"symbol\":\"circle\"},\"mode\":\"markers\",\"name\":\"legacy_senet154_ArcFace_AdamW_rank_by_id_val, 0\",\"orientation\":\"v\",\"showlegend\":true,\"x\":[0.24305919329491876],\"xaxis\":\"x\",\"y\":[2.346123624934521],\"yaxis\":\"y\",\"type\":\"scatter\"},{\"hovertemplate\":\"index=legacy_senet154_ArcFace_AdamW_0.001_cosine_rank_by_id_val<br>Marker=0<br>Error=%{x}<br>Disparity=%{y}<extra></extra>\",\"legendgroup\":\"legacy_senet154_ArcFace_AdamW_0.001_cosine_rank_by_id_val, 0\",\"marker\":{\"color\":\"#ab63fa\",\"symbol\":\"circle\"},\"mode\":\"markers\",\"name\":\"legacy_senet154_ArcFace_AdamW_0.001_cosine_rank_by_id_val, 0\",\"orientation\":\"v\",\"showlegend\":true,\"x\":[0.47970141435306446],\"xaxis\":\"x\",\"y\":[4.150078575170245],\"yaxis\":\"y\",\"type\":\"scatter\"},{\"hovertemplate\":\"index=legacy_senet154_ArcFace_SGD_0.1_cosine_rank_by_id_val<br>Marker=0<br>Error=%{x}<br>Disparity=%{y}<extra></extra>\",\"legendgroup\":\"legacy_senet154_ArcFace_SGD_0.1_cosine_rank_by_id_val, 0\",\"marker\":{\"color\":\"#FFA15A\",\"symbol\":\"circle\"},\"mode\":\"markers\",\"name\":\"legacy_senet154_ArcFace_SGD_0.1_cosine_rank_by_id_val, 0\",\"orientation\":\"v\",\"showlegend\":true,\"x\":[0.551794133053955],\"xaxis\":\"x\",\"y\":[2.3926139339968557],\"yaxis\":\"y\",\"type\":\"scatter\"},{\"hovertemplate\":\"index=legacy_senet154_CosFace_AdamW_rank_by_id_val<br>Marker=0<br>Error=%{x}<br>Disparity=%{y}<extra></extra>\",\"legendgroup\":\"legacy_senet154_CosFace_AdamW_rank_by_id_val, 0\",\"marker\":{\"color\":\"#19d3f3\",\"symbol\":\"circle\"},\"mode\":\"markers\",\"name\":\"legacy_senet154_CosFace_AdamW_rank_by_id_val, 0\",\"orientation\":\"v\",\"showlegend\":true,\"x\":[0.22786799371398636],\"xaxis\":\"x\",\"y\":[1.8167888947092727],\"yaxis\":\"y\",\"type\":\"scatter\"},{\"hovertemplate\":\"index=legacy_senet154_CosFace_AdamW_0.001_cosine_rank_by_id_val<br>Marker=0<br>Error=%{x}<br>Disparity=%{y}<extra></extra>\",\"legendgroup\":\"legacy_senet154_CosFace_AdamW_0.001_cosine_rank_by_id_val, 0\",\"marker\":{\"color\":\"#FF6692\",\"symbol\":\"circle\"},\"mode\":\"markers\",\"name\":\"legacy_senet154_CosFace_AdamW_0.001_cosine_rank_by_id_val, 0\",\"orientation\":\"v\",\"showlegend\":true,\"x\":[0.4543609219486642],\"xaxis\":\"x\",\"y\":[7.168936616029335],\"yaxis\":\"y\",\"type\":\"scatter\"},{\"hovertemplate\":\"index=legacy_senet154_CosFace_SGD_rank_by_id_val<br>Marker=0<br>Error=%{x}<br>Disparity=%{y}<extra></extra>\",\"legendgroup\":\"legacy_senet154_CosFace_SGD_rank_by_id_val, 0\",\"marker\":{\"color\":\"#B6E880\",\"symbol\":\"circle\"},\"mode\":\"markers\",\"name\":\"legacy_senet154_CosFace_SGD_rank_by_id_val, 0\",\"orientation\":\"v\",\"showlegend\":true,\"x\":[0.19853326348873757],\"xaxis\":\"x\",\"y\":[2.4541644840230488],\"yaxis\":\"y\",\"type\":\"scatter\"},{\"hovertemplate\":\"index=legacy_senet154_CosFace_SGD_0.1_cosine_rank_by_id_val<br>Marker=0<br>Error=%{x}<br>Disparity=%{y}<extra></extra>\",\"legendgroup\":\"legacy_senet154_CosFace_SGD_0.1_cosine_rank_by_id_val, 0\",\"marker\":{\"color\":\"#FF97FF\",\"symbol\":\"circle\"},\"mode\":\"markers\",\"name\":\"legacy_senet154_CosFace_SGD_0.1_cosine_rank_by_id_val, 0\",\"orientation\":\"v\",\"showlegend\":true,\"x\":[0.2658459926663175],\"xaxis\":\"x\",\"y\":[3.1970927187008904],\"yaxis\":\"y\",\"type\":\"scatter\"},{\"hovertemplate\":\"index=legacy_senet154_MagFace_AdamW_rank_by_id_val<br>Marker=0<br>Error=%{x}<br>Disparity=%{y}<extra></extra>\",\"legendgroup\":\"legacy_senet154_MagFace_AdamW_rank_by_id_val, 0\",\"marker\":{\"color\":\"#FECB52\",\"symbol\":\"circle\"},\"mode\":\"markers\",\"name\":\"legacy_senet154_MagFace_AdamW_rank_by_id_val, 0\",\"orientation\":\"v\",\"showlegend\":true,\"x\":[0.1845861707700367],\"xaxis\":\"x\",\"y\":[1.6530906233630174],\"yaxis\":\"y\",\"type\":\"scatter\"},{\"hovertemplate\":\"index=legacy_senet154_MagFace_AdamW_0.001_cosine_rank_by_id_val<br>Marker=0<br>Error=%{x}<br>Disparity=%{y}<extra></extra>\",\"legendgroup\":\"legacy_senet154_MagFace_AdamW_0.001_cosine_rank_by_id_val, 0\",\"marker\":{\"color\":\"#636efa\",\"symbol\":\"circle\"},\"mode\":\"markers\",\"name\":\"legacy_senet154_MagFace_AdamW_0.001_cosine_rank_by_id_val, 0\",\"orientation\":\"v\",\"showlegend\":true,\"x\":[0.4273179675222629],\"xaxis\":\"x\",\"y\":[3.9269250916710323],\"yaxis\":\"y\",\"type\":\"scatter\"},{\"hovertemplate\":\"index=legacy_senet154_MagFace_SGD_rank_by_id_val<br>Marker=0<br>Error=%{x}<br>Disparity=%{y}<extra></extra>\",\"legendgroup\":\"legacy_senet154_MagFace_SGD_rank_by_id_val, 0\",\"marker\":{\"color\":\"#EF553B\",\"symbol\":\"circle\"},\"mode\":\"markers\",\"name\":\"legacy_senet154_MagFace_SGD_rank_by_id_val, 0\",\"orientation\":\"v\",\"showlegend\":true,\"x\":[0.39804871660555263],\"xaxis\":\"x\",\"y\":[3.7073074908328962],\"yaxis\":\"y\",\"type\":\"scatter\"},{\"hovertemplate\":\"index=legacy_senet154_MagFace_SGD_0.1_cosine_rank_by_id_val<br>Marker=0<br>Error=%{x}<br>Disparity=%{y}<extra></extra>\",\"legendgroup\":\"legacy_senet154_MagFace_SGD_0.1_cosine_rank_by_id_val, 0\",\"marker\":{\"color\":\"#00cc96\",\"symbol\":\"circle\"},\"mode\":\"markers\",\"name\":\"legacy_senet154_MagFace_SGD_0.1_cosine_rank_by_id_val, 0\",\"orientation\":\"v\",\"showlegend\":true,\"x\":[0.4003404924044002],\"xaxis\":\"x\",\"y\":[3.9235201676270304],\"yaxis\":\"y\",\"type\":\"scatter\"},{\"hovertemplate\":\"index=mobilenetv3_large_100_ArcFace_AdamW_0.001_cosine_rank_by_id_val<br>Marker=0<br>Error=%{x}<br>Disparity=%{y}<extra></extra>\",\"legendgroup\":\"mobilenetv3_large_100_ArcFace_AdamW_0.001_cosine_rank_by_id_val, 0\",\"marker\":{\"color\":\"#ab63fa\",\"symbol\":\"circle\"},\"mode\":\"markers\",\"name\":\"mobilenetv3_large_100_ArcFace_AdamW_0.001_cosine_rank_by_id_val, 0\",\"orientation\":\"v\",\"showlegend\":true,\"x\":[0.9902435830277633],\"xaxis\":\"x\",\"y\":[8.59154007333683],\"yaxis\":\"y\",\"type\":\"scatter\"},{\"hovertemplate\":\"index=mobilenetv3_large_100_ArcFace_SGD_rank_by_id_val<br>Marker=0<br>Error=%{x}<br>Disparity=%{y}<extra></extra>\",\"legendgroup\":\"mobilenetv3_large_100_ArcFace_SGD_rank_by_id_val, 0\",\"marker\":{\"color\":\"#FFA15A\",\"symbol\":\"circle\"},\"mode\":\"markers\",\"name\":\"mobilenetv3_large_100_ArcFace_SGD_rank_by_id_val, 0\",\"orientation\":\"v\",\"showlegend\":true,\"x\":[0.9146804609743321],\"xaxis\":\"x\",\"y\":[18.967522262964906],\"yaxis\":\"y\",\"type\":\"scatter\"},{\"hovertemplate\":\"index=mobilenetv3_large_100_ArcFace_SGD_0.1_cosine_rank_by_id_val<br>Marker=0<br>Error=%{x}<br>Disparity=%{y}<extra></extra>\",\"legendgroup\":\"mobilenetv3_large_100_ArcFace_SGD_0.1_cosine_rank_by_id_val, 0\",\"marker\":{\"color\":\"#19d3f3\",\"symbol\":\"circle\"},\"mode\":\"markers\",\"name\":\"mobilenetv3_large_100_ArcFace_SGD_0.1_cosine_rank_by_id_val, 0\",\"orientation\":\"v\",\"showlegend\":true,\"x\":[0.9363541121005762],\"xaxis\":\"x\",\"y\":[19.825301204819283],\"yaxis\":\"y\",\"type\":\"scatter\"},{\"hovertemplate\":\"index=mobilenetv3_large_100_CosFace_AdamW_rank_by_id_val<br>Marker=0<br>Error=%{x}<br>Disparity=%{y}<extra></extra>\",\"legendgroup\":\"mobilenetv3_large_100_CosFace_AdamW_rank_by_id_val, 0\",\"marker\":{\"color\":\"#FF6692\",\"symbol\":\"circle\"},\"mode\":\"markers\",\"name\":\"mobilenetv3_large_100_CosFace_AdamW_rank_by_id_val, 0\",\"orientation\":\"v\",\"showlegend\":true,\"x\":[0.21739130434782605],\"xaxis\":\"x\",\"y\":[1.3607909900471453],\"yaxis\":\"y\",\"type\":\"scatter\"},{\"hovertemplate\":\"index=vgg19_ArcFace_SGD_rank_by_id_val<br>Marker=0<br>Error=%{x}<br>Disparity=%{y}<extra></extra>\",\"legendgroup\":\"vgg19_ArcFace_SGD_rank_by_id_val, 0\",\"marker\":{\"color\":\"#B6E880\",\"symbol\":\"circle\"},\"mode\":\"markers\",\"name\":\"vgg19_ArcFace_SGD_rank_by_id_val, 0\",\"orientation\":\"v\",\"showlegend\":true,\"x\":[0.39647721320062856],\"xaxis\":\"x\",\"y\":[3.7747511786275547],\"yaxis\":\"y\",\"type\":\"scatter\"},{\"hovertemplate\":\"index=mobilenetv3_large_100_CosFace_AdamW_0.001_cosine_rank_by_id_val<br>Marker=0<br>Error=%{x}<br>Disparity=%{y}<extra></extra>\",\"legendgroup\":\"mobilenetv3_large_100_CosFace_AdamW_0.001_cosine_rank_by_id_val, 0\",\"marker\":{\"color\":\"#FF97FF\",\"symbol\":\"circle\"},\"mode\":\"markers\",\"name\":\"mobilenetv3_large_100_CosFace_AdamW_0.001_cosine_rank_by_id_val, 0\",\"orientation\":\"v\",\"showlegend\":true,\"x\":[0.14353064431639606],\"xaxis\":\"x\",\"y\":[2.939366160293347],\"yaxis\":\"y\",\"type\":\"scatter\"},{\"hovertemplate\":\"index=mobilenetv3_large_100_CosFace_RMSpropTF_rank_by_id_val<br>Marker=0<br>Error=%{x}<br>Disparity=%{y}<extra></extra>\",\"legendgroup\":\"mobilenetv3_large_100_CosFace_RMSpropTF_rank_by_id_val, 0\",\"marker\":{\"color\":\"#FECB52\",\"symbol\":\"circle\"},\"mode\":\"markers\",\"name\":\"mobilenetv3_large_100_CosFace_RMSpropTF_rank_by_id_val, 0\",\"orientation\":\"v\",\"showlegend\":true,\"x\":[0.21261131482451545],\"xaxis\":\"x\",\"y\":[1.6486380303823989],\"yaxis\":\"y\",\"type\":\"scatter\"},{\"hovertemplate\":\"index=mobilenetv3_large_100_CosFace_SGD_rank_by_id_val<br>Marker=0<br>Error=%{x}<br>Disparity=%{y}<extra></extra>\",\"legendgroup\":\"mobilenetv3_large_100_CosFace_SGD_rank_by_id_val, 0\",\"marker\":{\"color\":\"#636efa\",\"symbol\":\"circle\"},\"mode\":\"markers\",\"name\":\"mobilenetv3_large_100_CosFace_SGD_rank_by_id_val, 0\",\"orientation\":\"v\",\"showlegend\":true,\"x\":[0.1362624410686223],\"xaxis\":\"x\",\"y\":[2.190020953378733],\"yaxis\":\"y\",\"type\":\"scatter\"},{\"hovertemplate\":\"index=mobilenetv3_large_100_CosFace_SGD_0.1_cosine_rank_by_id_val<br>Marker=0<br>Error=%{x}<br>Disparity=%{y}<extra></extra>\",\"legendgroup\":\"mobilenetv3_large_100_CosFace_SGD_0.1_cosine_rank_by_id_val, 0\",\"marker\":{\"color\":\"#EF553B\",\"symbol\":\"circle\"},\"mode\":\"markers\",\"name\":\"mobilenetv3_large_100_CosFace_SGD_0.1_cosine_rank_by_id_val, 0\",\"orientation\":\"v\",\"showlegend\":true,\"x\":[0.13475641697223673],\"xaxis\":\"x\",\"y\":[1.3036930330015712],\"yaxis\":\"y\",\"type\":\"scatter\"},{\"hovertemplate\":\"index=mobilenetv3_large_100_MagFace_AdamW_rank_by_id_val<br>Marker=0<br>Error=%{x}<br>Disparity=%{y}<extra></extra>\",\"legendgroup\":\"mobilenetv3_large_100_MagFace_AdamW_rank_by_id_val, 0\",\"marker\":{\"color\":\"#00cc96\",\"symbol\":\"circle\"},\"mode\":\"markers\",\"name\":\"mobilenetv3_large_100_MagFace_AdamW_rank_by_id_val, 0\",\"orientation\":\"v\",\"showlegend\":true,\"x\":[0.41821634363541116],\"xaxis\":\"x\",\"y\":[3.6909376636982723],\"yaxis\":\"y\",\"type\":\"scatter\"},{\"hovertemplate\":\"index=mobilenetv3_large_100_MagFace_AdamW_0.001_cosine_rank_by_id_val<br>Marker=0<br>Error=%{x}<br>Disparity=%{y}<extra></extra>\",\"legendgroup\":\"mobilenetv3_large_100_MagFace_AdamW_0.001_cosine_rank_by_id_val, 0\",\"marker\":{\"color\":\"#ab63fa\",\"symbol\":\"circle\"},\"mode\":\"markers\",\"name\":\"mobilenetv3_large_100_MagFace_AdamW_0.001_cosine_rank_by_id_val, 0\",\"orientation\":\"v\",\"showlegend\":true,\"x\":[0.4338658983761131],\"xaxis\":\"x\",\"y\":[3.785751702462022],\"yaxis\":\"y\",\"type\":\"scatter\"},{\"hovertemplate\":\"index=mobilenetv3_large_100_MagFace_SGD_rank_by_id_val<br>Marker=0<br>Error=%{x}<br>Disparity=%{y}<extra></extra>\",\"legendgroup\":\"mobilenetv3_large_100_MagFace_SGD_rank_by_id_val, 0\",\"marker\":{\"color\":\"#FFA15A\",\"symbol\":\"circle\"},\"mode\":\"markers\",\"name\":\"mobilenetv3_large_100_MagFace_SGD_rank_by_id_val, 0\",\"orientation\":\"v\",\"showlegend\":true,\"x\":[0.13665531691985333],\"xaxis\":\"x\",\"y\":[2.535096909376637],\"yaxis\":\"y\",\"type\":\"scatter\"},{\"hovertemplate\":\"index=mobilenetv3_large_100_MagFace_SGD_0.1_cosine_rank_by_id_val<br>Marker=0<br>Error=%{x}<br>Disparity=%{y}<extra></extra>\",\"legendgroup\":\"mobilenetv3_large_100_MagFace_SGD_0.1_cosine_rank_by_id_val, 0\",\"marker\":{\"color\":\"#19d3f3\",\"symbol\":\"circle\"},\"mode\":\"markers\",\"name\":\"mobilenetv3_large_100_MagFace_SGD_0.1_cosine_rank_by_id_val, 0\",\"orientation\":\"v\",\"showlegend\":true,\"x\":[0.1412388685175484],\"xaxis\":\"x\",\"y\":[2.131351492928235],\"yaxis\":\"y\",\"type\":\"scatter\"},{\"hovertemplate\":\"index=resnetrs101_ArcFace_AdamW_rank_by_id_val<br>Marker=0<br>Error=%{x}<br>Disparity=%{y}<extra></extra>\",\"legendgroup\":\"resnetrs101_ArcFace_AdamW_rank_by_id_val, 0\",\"marker\":{\"color\":\"#FF6692\",\"symbol\":\"circle\"},\"mode\":\"markers\",\"name\":\"resnetrs101_ArcFace_AdamW_rank_by_id_val, 0\",\"orientation\":\"v\",\"showlegend\":true,\"x\":[0.268137768465165],\"xaxis\":\"x\",\"y\":[2.5937663698271343],\"yaxis\":\"y\",\"type\":\"scatter\"},{\"hovertemplate\":\"index=resnetrs101_ArcFace_AdamW_0.001_cosine_rank_by_id_val<br>Marker=0<br>Error=%{x}<br>Disparity=%{y}<extra></extra>\",\"legendgroup\":\"resnetrs101_ArcFace_AdamW_0.001_cosine_rank_by_id_val, 0\",\"marker\":{\"color\":\"#B6E880\",\"symbol\":\"circle\"},\"mode\":\"markers\",\"name\":\"resnetrs101_ArcFace_AdamW_0.001_cosine_rank_by_id_val, 0\",\"orientation\":\"v\",\"showlegend\":true,\"x\":[0.4328182294394971],\"xaxis\":\"x\",\"y\":[4.1152435830277625],\"yaxis\":\"y\",\"type\":\"scatter\"},{\"hovertemplate\":\"index=resnetrs101_ArcFace_SGD_0.1_cosine_rank_by_id_val<br>Marker=0<br>Error=%{x}<br>Disparity=%{y}<extra></extra>\",\"legendgroup\":\"resnetrs101_ArcFace_SGD_0.1_cosine_rank_by_id_val, 0\",\"marker\":{\"color\":\"#FF97FF\",\"symbol\":\"circle\"},\"mode\":\"markers\",\"name\":\"resnetrs101_ArcFace_SGD_0.1_cosine_rank_by_id_val, 0\",\"orientation\":\"v\",\"showlegend\":true,\"x\":[0.3419984284965951],\"xaxis\":\"x\",\"y\":[2.597957045573599],\"yaxis\":\"y\",\"type\":\"scatter\"},{\"hovertemplate\":\"index=resnetrs101_CosFace_AdamW_rank_by_id_val<br>Marker=0<br>Error=%{x}<br>Disparity=%{y}<extra></extra>\",\"legendgroup\":\"resnetrs101_CosFace_AdamW_rank_by_id_val, 0\",\"marker\":{\"color\":\"#FECB52\",\"symbol\":\"circle\"},\"mode\":\"markers\",\"name\":\"resnetrs101_CosFace_AdamW_rank_by_id_val, 0\",\"orientation\":\"v\",\"showlegend\":true,\"x\":[0.18916972236773177],\"xaxis\":\"x\",\"y\":[1.5584075432163438],\"yaxis\":\"y\",\"type\":\"scatter\"},{\"hovertemplate\":\"index=resnetrs101_CosFace_AdamW_0.001_cosine_rank_by_id_val<br>Marker=0<br>Error=%{x}<br>Disparity=%{y}<extra></extra>\",\"legendgroup\":\"resnetrs101_CosFace_AdamW_0.001_cosine_rank_by_id_val, 0\",\"marker\":{\"color\":\"#636efa\",\"symbol\":\"circle\"},\"mode\":\"markers\",\"name\":\"resnetrs101_CosFace_AdamW_0.001_cosine_rank_by_id_val, 0\",\"orientation\":\"v\",\"showlegend\":true,\"x\":[0.3013357778941854],\"xaxis\":\"x\",\"y\":[1.76794133053955],\"yaxis\":\"y\",\"type\":\"scatter\"},{\"hovertemplate\":\"index=resnetrs101_CosFace_SGD_rank_by_id_val<br>Marker=0<br>Error=%{x}<br>Disparity=%{y}<extra></extra>\",\"legendgroup\":\"resnetrs101_CosFace_SGD_rank_by_id_val, 0\",\"marker\":{\"color\":\"#EF553B\",\"symbol\":\"circle\"},\"mode\":\"markers\",\"name\":\"resnetrs101_CosFace_SGD_rank_by_id_val, 0\",\"orientation\":\"v\",\"showlegend\":true,\"x\":[0.1278156102671556],\"xaxis\":\"x\",\"y\":[2.073467784180199],\"yaxis\":\"y\",\"type\":\"scatter\"},{\"hovertemplate\":\"index=resnetrs101_CosFace_SGD_0.1_cosine_rank_by_id_val<br>Marker=0<br>Error=%{x}<br>Disparity=%{y}<extra></extra>\",\"legendgroup\":\"resnetrs101_CosFace_SGD_0.1_cosine_rank_by_id_val, 0\",\"marker\":{\"color\":\"#00cc96\",\"symbol\":\"circle\"},\"mode\":\"markers\",\"name\":\"resnetrs101_CosFace_SGD_0.1_cosine_rank_by_id_val, 0\",\"orientation\":\"v\",\"showlegend\":true,\"x\":[0.19656888423258245],\"xaxis\":\"x\",\"y\":[3.0883970665269773],\"yaxis\":\"y\",\"type\":\"scatter\"},{\"hovertemplate\":\"index=resnetrs101_MagFace_AdamW_rank_by_id_val<br>Marker=0<br>Error=%{x}<br>Disparity=%{y}<extra></extra>\",\"legendgroup\":\"resnetrs101_MagFace_AdamW_rank_by_id_val, 0\",\"marker\":{\"color\":\"#ab63fa\",\"symbol\":\"circle\"},\"mode\":\"markers\",\"name\":\"resnetrs101_MagFace_AdamW_rank_by_id_val, 0\",\"orientation\":\"v\",\"showlegend\":true,\"x\":[0.1847171293871137],\"xaxis\":\"x\",\"y\":[1.583813514929282],\"yaxis\":\"y\",\"type\":\"scatter\"},{\"hovertemplate\":\"index=resnetrs101_MagFace_AdamW_0.001_cosine_rank_by_id_val<br>Marker=0<br>Error=%{x}<br>Disparity=%{y}<extra></extra>\",\"legendgroup\":\"resnetrs101_MagFace_AdamW_0.001_cosine_rank_by_id_val, 0\",\"marker\":{\"color\":\"#FFA15A\",\"symbol\":\"circle\"},\"mode\":\"markers\",\"name\":\"resnetrs101_MagFace_AdamW_0.001_cosine_rank_by_id_val, 0\",\"orientation\":\"v\",\"showlegend\":true,\"x\":[0.35168936616029334],\"xaxis\":\"x\",\"y\":[3.5284180199057094],\"yaxis\":\"y\",\"type\":\"scatter\"},{\"hovertemplate\":\"index=resnetrs101_MagFace_SGD_rank_by_id_val<br>Marker=0<br>Error=%{x}<br>Disparity=%{y}<extra></extra>\",\"legendgroup\":\"resnetrs101_MagFace_SGD_rank_by_id_val, 0\",\"marker\":{\"color\":\"#19d3f3\",\"symbol\":\"circle\"},\"mode\":\"markers\",\"name\":\"resnetrs101_MagFace_SGD_rank_by_id_val, 0\",\"orientation\":\"v\",\"showlegend\":true,\"x\":[0.17103195390256676],\"xaxis\":\"x\",\"y\":[1.798192771084337],\"yaxis\":\"y\",\"type\":\"scatter\"},{\"hovertemplate\":\"index=resnetrs101_MagFace_SGD_0.1_cosine_rank_by_id_val<br>Marker=0<br>Error=%{x}<br>Disparity=%{y}<extra></extra>\",\"legendgroup\":\"resnetrs101_MagFace_SGD_0.1_cosine_rank_by_id_val, 0\",\"marker\":{\"color\":\"#FF6692\",\"symbol\":\"circle\"},\"mode\":\"markers\",\"name\":\"resnetrs101_MagFace_SGD_0.1_cosine_rank_by_id_val, 0\",\"orientation\":\"v\",\"showlegend\":true,\"x\":[0.40957307490832895],\"xaxis\":\"x\",\"y\":[3.6727344159245687],\"yaxis\":\"y\",\"type\":\"scatter\"},{\"hovertemplate\":\"index=rexnet_200_ArcFace_AdamW_rank_by_id_val<br>Marker=0<br>Error=%{x}<br>Disparity=%{y}<extra></extra>\",\"legendgroup\":\"rexnet_200_ArcFace_AdamW_rank_by_id_val, 0\",\"marker\":{\"color\":\"#B6E880\",\"symbol\":\"circle\"},\"mode\":\"markers\",\"name\":\"rexnet_200_ArcFace_AdamW_rank_by_id_val, 0\",\"orientation\":\"v\",\"showlegend\":true,\"x\":[0.9412650602409639],\"xaxis\":\"x\",\"y\":[17.006678889470933],\"yaxis\":\"y\",\"type\":\"scatter\"},{\"hovertemplate\":\"index=rexnet_200_ArcFace_AdamW_0.001_cosine_rank_by_id_val<br>Marker=0<br>Error=%{x}<br>Disparity=%{y}<extra></extra>\",\"legendgroup\":\"rexnet_200_ArcFace_AdamW_0.001_cosine_rank_by_id_val, 0\",\"marker\":{\"color\":\"#FF97FF\",\"symbol\":\"circle\"},\"mode\":\"markers\",\"name\":\"rexnet_200_ArcFace_AdamW_0.001_cosine_rank_by_id_val, 0\",\"orientation\":\"v\",\"showlegend\":true,\"x\":[0.31960450497642745],\"xaxis\":\"x\",\"y\":[2.5726820324777373],\"yaxis\":\"y\",\"type\":\"scatter\"},{\"hovertemplate\":\"index=rexnet_200_ArcFace_SGD_rank_by_id_val<br>Marker=0<br>Error=%{x}<br>Disparity=%{y}<extra></extra>\",\"legendgroup\":\"rexnet_200_ArcFace_SGD_rank_by_id_val, 0\",\"marker\":{\"color\":\"#FECB52\",\"symbol\":\"circle\"},\"mode\":\"markers\",\"name\":\"rexnet_200_ArcFace_SGD_rank_by_id_val, 0\",\"orientation\":\"v\",\"showlegend\":true,\"x\":[0.21712938711367213],\"xaxis\":\"x\",\"y\":[2.2221058145625983],\"yaxis\":\"y\",\"type\":\"scatter\"},{\"hovertemplate\":\"index=rexnet_200_ArcFace_SGD_0.1_cosine_rank_by_id_val<br>Marker=0<br>Error=%{x}<br>Disparity=%{y}<extra></extra>\",\"legendgroup\":\"rexnet_200_ArcFace_SGD_0.1_cosine_rank_by_id_val, 0\",\"marker\":{\"color\":\"#636efa\",\"symbol\":\"circle\"},\"mode\":\"markers\",\"name\":\"rexnet_200_ArcFace_SGD_0.1_cosine_rank_by_id_val, 0\",\"orientation\":\"v\",\"showlegend\":true,\"x\":[0.18707438449449976],\"xaxis\":\"x\",\"y\":[2.3833158721843897],\"yaxis\":\"y\",\"type\":\"scatter\"},{\"hovertemplate\":\"index=rexnet_200_CosFace_AdamW_rank_by_id_val<br>Marker=0<br>Error=%{x}<br>Disparity=%{y}<extra></extra>\",\"legendgroup\":\"rexnet_200_CosFace_AdamW_rank_by_id_val, 0\",\"marker\":{\"color\":\"#EF553B\",\"symbol\":\"circle\"},\"mode\":\"markers\",\"name\":\"rexnet_200_CosFace_AdamW_rank_by_id_val, 0\",\"orientation\":\"v\",\"showlegend\":true,\"x\":[0.9692247249869042],\"xaxis\":\"x\",\"y\":[7.476427448926131],\"yaxis\":\"y\",\"type\":\"scatter\"},{\"hovertemplate\":\"index=rexnet_200_CosFace_AdamW_0.001_cosine_rank_by_id_val<br>Marker=0<br>Error=%{x}<br>Disparity=%{y}<extra></extra>\",\"legendgroup\":\"rexnet_200_CosFace_AdamW_0.001_cosine_rank_by_id_val, 0\",\"marker\":{\"color\":\"#00cc96\",\"symbol\":\"circle\"},\"mode\":\"markers\",\"name\":\"rexnet_200_CosFace_AdamW_0.001_cosine_rank_by_id_val, 0\",\"orientation\":\"v\",\"showlegend\":true,\"x\":[0.055002619172341505],\"xaxis\":\"x\",\"y\":[2.652435830277632],\"yaxis\":\"y\",\"type\":\"scatter\"},{\"hovertemplate\":\"index=rexnet_200_CosFace_SGD_rank_by_id_val<br>Marker=0<br>Error=%{x}<br>Disparity=%{y}<extra></extra>\",\"legendgroup\":\"rexnet_200_CosFace_SGD_rank_by_id_val, 0\",\"marker\":{\"color\":\"#ab63fa\",\"symbol\":\"circle\"},\"mode\":\"markers\",\"name\":\"rexnet_200_CosFace_SGD_rank_by_id_val, 0\",\"orientation\":\"v\",\"showlegend\":true,\"x\":[0.04596647459402825],\"xaxis\":\"x\",\"y\":[2.185568360398114],\"yaxis\":\"y\",\"type\":\"scatter\"},{\"hovertemplate\":\"index=rexnet_200_CosFace_SGD_0.1_cosine_rank_by_id_val<br>Marker=0<br>Error=%{x}<br>Disparity=%{y}<extra></extra>\",\"legendgroup\":\"rexnet_200_CosFace_SGD_0.1_cosine_rank_by_id_val, 0\",\"marker\":{\"color\":\"#FFA15A\",\"symbol\":\"circle\"},\"mode\":\"markers\",\"name\":\"rexnet_200_CosFace_SGD_0.1_cosine_rank_by_id_val, 0\",\"orientation\":\"v\",\"showlegend\":true,\"x\":[0.04649030906233631],\"xaxis\":\"x\",\"y\":[2.301597695128339],\"yaxis\":\"y\",\"type\":\"scatter\"},{\"hovertemplate\":\"index=rexnet_200_MagFace_AdamW_0.001_cosine_rank_by_id_val<br>Marker=0<br>Error=%{x}<br>Disparity=%{y}<extra></extra>\",\"legendgroup\":\"rexnet_200_MagFace_AdamW_0.001_cosine_rank_by_id_val, 0\",\"marker\":{\"color\":\"#19d3f3\",\"symbol\":\"circle\"},\"mode\":\"markers\",\"name\":\"rexnet_200_MagFace_AdamW_0.001_cosine_rank_by_id_val, 0\",\"orientation\":\"v\",\"showlegend\":true,\"x\":[0.33846254583551594],\"xaxis\":\"x\",\"y\":[2.6262441068622318],\"yaxis\":\"y\",\"type\":\"scatter\"},{\"hovertemplate\":\"index=rexnet_200_MagFace_SGD_rank_by_id_val<br>Marker=0<br>Error=%{x}<br>Disparity=%{y}<extra></extra>\",\"legendgroup\":\"rexnet_200_MagFace_SGD_rank_by_id_val, 0\",\"marker\":{\"color\":\"#FF6692\",\"symbol\":\"circle\"},\"mode\":\"markers\",\"name\":\"rexnet_200_MagFace_SGD_rank_by_id_val, 0\",\"orientation\":\"v\",\"showlegend\":true,\"x\":[0.09226034573074904],\"xaxis\":\"x\",\"y\":[1.887375589313777],\"yaxis\":\"y\",\"type\":\"scatter\"},{\"hovertemplate\":\"index=rexnet_200_MagFace_SGD_0.1_cosine_rank_by_id_val<br>Marker=0<br>Error=%{x}<br>Disparity=%{y}<extra></extra>\",\"legendgroup\":\"rexnet_200_MagFace_SGD_0.1_cosine_rank_by_id_val, 0\",\"marker\":{\"color\":\"#B6E880\",\"symbol\":\"circle\"},\"mode\":\"markers\",\"name\":\"rexnet_200_MagFace_SGD_0.1_cosine_rank_by_id_val, 0\",\"orientation\":\"v\",\"showlegend\":true,\"x\":[0.08492666317443687],\"xaxis\":\"x\",\"y\":[1.5644316396018856],\"yaxis\":\"y\",\"type\":\"scatter\"},{\"hovertemplate\":\"index=selecsls60b_ArcFace_AdamW_rank_by_id_val<br>Marker=0<br>Error=%{x}<br>Disparity=%{y}<extra></extra>\",\"legendgroup\":\"selecsls60b_ArcFace_AdamW_rank_by_id_val, 0\",\"marker\":{\"color\":\"#FF97FF\",\"symbol\":\"circle\"},\"mode\":\"markers\",\"name\":\"selecsls60b_ArcFace_AdamW_rank_by_id_val, 0\",\"orientation\":\"v\",\"showlegend\":true,\"x\":[0.25039287585123104],\"xaxis\":\"x\",\"y\":[2.317574646411734],\"yaxis\":\"y\",\"type\":\"scatter\"},{\"hovertemplate\":\"index=selecsls60b_ArcFace_AdamW_0.001_cosine_rank_by_id_val<br>Marker=0<br>Error=%{x}<br>Disparity=%{y}<extra></extra>\",\"legendgroup\":\"selecsls60b_ArcFace_AdamW_0.001_cosine_rank_by_id_val, 0\",\"marker\":{\"color\":\"#FECB52\",\"symbol\":\"circle\"},\"mode\":\"markers\",\"name\":\"selecsls60b_ArcFace_AdamW_0.001_cosine_rank_by_id_val, 0\",\"orientation\":\"v\",\"showlegend\":true,\"x\":[0.2934127815610267],\"xaxis\":\"x\",\"y\":[2.397983237297014],\"yaxis\":\"y\",\"type\":\"scatter\"},{\"hovertemplate\":\"index=selecsls60b_ArcFace_SGD_rank_by_id_val<br>Marker=0<br>Error=%{x}<br>Disparity=%{y}<extra></extra>\",\"legendgroup\":\"selecsls60b_ArcFace_SGD_rank_by_id_val, 0\",\"marker\":{\"color\":\"#636efa\",\"symbol\":\"circle\"},\"mode\":\"markers\",\"name\":\"selecsls60b_ArcFace_SGD_rank_by_id_val, 0\",\"orientation\":\"v\",\"showlegend\":true,\"x\":[0.33852802514405445],\"xaxis\":\"x\",\"y\":[3.2562860136196967],\"yaxis\":\"y\",\"type\":\"scatter\"},{\"hovertemplate\":\"index=selecsls60b_CosFace_Adam_rank_by_id_val<br>Marker=0<br>Error=%{x}<br>Disparity=%{y}<extra></extra>\",\"legendgroup\":\"selecsls60b_CosFace_Adam_rank_by_id_val, 0\",\"marker\":{\"color\":\"#EF553B\",\"symbol\":\"circle\"},\"mode\":\"markers\",\"name\":\"selecsls60b_CosFace_Adam_rank_by_id_val, 0\",\"orientation\":\"v\",\"showlegend\":true,\"x\":[0.9960057621791514],\"xaxis\":\"x\",\"y\":[23.902435830277625],\"yaxis\":\"y\",\"type\":\"scatter\"},{\"hovertemplate\":\"index=selecsls60b_CosFace_AdamW_rank_by_id_val<br>Marker=0<br>Error=%{x}<br>Disparity=%{y}<extra></extra>\",\"legendgroup\":\"selecsls60b_CosFace_AdamW_rank_by_id_val, 0\",\"marker\":{\"color\":\"#00cc96\",\"symbol\":\"circle\"},\"mode\":\"markers\",\"name\":\"selecsls60b_CosFace_AdamW_rank_by_id_val, 0\",\"orientation\":\"v\",\"showlegend\":true,\"x\":[0.7784180199057098],\"xaxis\":\"x\",\"y\":[9.452462022001049],\"yaxis\":\"y\",\"type\":\"scatter\"},{\"hovertemplate\":\"index=selecsls60b_CosFace_AdamW_0.001_cosine_rank_by_id_val<br>Marker=0<br>Error=%{x}<br>Disparity=%{y}<extra></extra>\",\"legendgroup\":\"selecsls60b_CosFace_AdamW_0.001_cosine_rank_by_id_val, 0\",\"marker\":{\"color\":\"#ab63fa\",\"symbol\":\"circle\"},\"mode\":\"markers\",\"name\":\"selecsls60b_CosFace_AdamW_0.001_cosine_rank_by_id_val, 0\",\"orientation\":\"v\",\"showlegend\":true,\"x\":[0.4081325301204819],\"xaxis\":\"x\",\"y\":[6.285096909376637],\"yaxis\":\"y\",\"type\":\"scatter\"},{\"hovertemplate\":\"index=selecsls60b_CosFace_SGD_rank_by_id_val<br>Marker=0<br>Error=%{x}<br>Disparity=%{y}<extra></extra>\",\"legendgroup\":\"selecsls60b_CosFace_SGD_rank_by_id_val, 0\",\"marker\":{\"color\":\"#FFA15A\",\"symbol\":\"circle\"},\"mode\":\"markers\",\"name\":\"selecsls60b_CosFace_SGD_rank_by_id_val, 0\",\"orientation\":\"v\",\"showlegend\":true,\"x\":[0.40878732320586697],\"xaxis\":\"x\",\"y\":[7.290859088528027],\"yaxis\":\"y\",\"type\":\"scatter\"},{\"hovertemplate\":\"index=selecsls60b_CosFace_SGD_0.1_cosine_rank_by_id_val<br>Marker=0<br>Error=%{x}<br>Disparity=%{y}<extra></extra>\",\"legendgroup\":\"selecsls60b_CosFace_SGD_0.1_cosine_rank_by_id_val, 0\",\"marker\":{\"color\":\"#19d3f3\",\"symbol\":\"circle\"},\"mode\":\"markers\",\"name\":\"selecsls60b_CosFace_SGD_0.1_cosine_rank_by_id_val, 0\",\"orientation\":\"v\",\"showlegend\":true,\"x\":[0.38508381351492926],\"xaxis\":\"x\",\"y\":[7.056574122577267],\"yaxis\":\"y\",\"type\":\"scatter\"},{\"hovertemplate\":\"index=selecsls60b_MagFace_AdamW_rank_by_id_val<br>Marker=0<br>Error=%{x}<br>Disparity=%{y}<extra></extra>\",\"legendgroup\":\"selecsls60b_MagFace_AdamW_rank_by_id_val, 0\",\"marker\":{\"color\":\"#FF6692\",\"symbol\":\"circle\"},\"mode\":\"markers\",\"name\":\"selecsls60b_MagFace_AdamW_rank_by_id_val, 0\",\"orientation\":\"v\",\"showlegend\":true,\"x\":[0.18720534311157677],\"xaxis\":\"x\",\"y\":[2.5517286537454162],\"yaxis\":\"y\",\"type\":\"scatter\"},{\"hovertemplate\":\"index=selecsls60b_MagFace_AdamW_0.001_cosine_rank_by_id_val<br>Marker=0<br>Error=%{x}<br>Disparity=%{y}<extra></extra>\",\"legendgroup\":\"selecsls60b_MagFace_AdamW_0.001_cosine_rank_by_id_val, 0\",\"marker\":{\"color\":\"#B6E880\",\"symbol\":\"circle\"},\"mode\":\"markers\",\"name\":\"selecsls60b_MagFace_AdamW_0.001_cosine_rank_by_id_val, 0\",\"orientation\":\"v\",\"showlegend\":true,\"x\":[0.2568098480880042],\"xaxis\":\"x\",\"y\":[2.742404400209534],\"yaxis\":\"y\",\"type\":\"scatter\"},{\"hovertemplate\":\"index=selecsls60b_MagFace_SGD_rank_by_id_val<br>Marker=0<br>Error=%{x}<br>Disparity=%{y}<extra></extra>\",\"legendgroup\":\"selecsls60b_MagFace_SGD_rank_by_id_val, 0\",\"marker\":{\"color\":\"#FF97FF\",\"symbol\":\"circle\"},\"mode\":\"markers\",\"name\":\"selecsls60b_MagFace_SGD_rank_by_id_val, 0\",\"orientation\":\"v\",\"showlegend\":true,\"x\":[0.3059193294918806],\"xaxis\":\"x\",\"y\":[2.767548454688318],\"yaxis\":\"y\",\"type\":\"scatter\"},{\"hovertemplate\":\"index=selecsls60b_MagFace_SGD_0.1_cosine_rank_by_id_val<br>Marker=0<br>Error=%{x}<br>Disparity=%{y}<extra></extra>\",\"legendgroup\":\"selecsls60b_MagFace_SGD_0.1_cosine_rank_by_id_val, 0\",\"marker\":{\"color\":\"#FECB52\",\"symbol\":\"circle\"},\"mode\":\"markers\",\"name\":\"selecsls60b_MagFace_SGD_0.1_cosine_rank_by_id_val, 0\",\"orientation\":\"v\",\"showlegend\":true,\"x\":[0.29020429544264015],\"xaxis\":\"x\",\"y\":[3.3276584599266634],\"yaxis\":\"y\",\"type\":\"scatter\"},{\"hovertemplate\":\"index=swin_base_patch4_window7_224_CosFace_AdamW_0.001_cosine_rank_by_id_val<br>Marker=0<br>Error=%{x}<br>Disparity=%{y}<extra></extra>\",\"legendgroup\":\"swin_base_patch4_window7_224_CosFace_AdamW_0.001_cosine_rank_by_id_val, 0\",\"marker\":{\"color\":\"#636efa\",\"symbol\":\"circle\"},\"mode\":\"markers\",\"name\":\"swin_base_patch4_window7_224_CosFace_AdamW_0.001_cosine_rank_by_id_val, 0\",\"orientation\":\"v\",\"showlegend\":true,\"x\":[0.9945652173913043],\"xaxis\":\"x\",\"y\":[16.601361969617585],\"yaxis\":\"y\",\"type\":\"scatter\"},{\"hovertemplate\":\"index=swin_base_patch4_window7_224_CosFace_SGD_0.1_cosine_rank_by_id_val<br>Marker=0<br>Error=%{x}<br>Disparity=%{y}<extra></extra>\",\"legendgroup\":\"swin_base_patch4_window7_224_CosFace_SGD_0.1_cosine_rank_by_id_val, 0\",\"marker\":{\"color\":\"#EF553B\",\"symbol\":\"circle\"},\"mode\":\"markers\",\"name\":\"swin_base_patch4_window7_224_CosFace_SGD_0.1_cosine_rank_by_id_val, 0\",\"orientation\":\"v\",\"showlegend\":true,\"x\":[0.998952331063384],\"xaxis\":\"x\",\"y\":[1.8331587218439154],\"yaxis\":\"y\",\"type\":\"scatter\"},{\"hovertemplate\":\"index=swin_base_patch4_window7_224_MagFace_SGD_0.1_cosine_rank_by_id_val<br>Marker=0<br>Error=%{x}<br>Disparity=%{y}<extra></extra>\",\"legendgroup\":\"swin_base_patch4_window7_224_MagFace_SGD_0.1_cosine_rank_by_id_val, 0\",\"marker\":{\"color\":\"#00cc96\",\"symbol\":\"circle\"},\"mode\":\"markers\",\"name\":\"swin_base_patch4_window7_224_MagFace_SGD_0.1_cosine_rank_by_id_val, 0\",\"orientation\":\"v\",\"showlegend\":true,\"x\":[0.26178627553693035],\"xaxis\":\"x\",\"y\":[2.9414614981665794],\"yaxis\":\"y\",\"type\":\"scatter\"},{\"hovertemplate\":\"index=tf_efficientnet_b7_ns_ArcFace_AdamW_0.001_cosine_rank_by_id_val<br>Marker=0<br>Error=%{x}<br>Disparity=%{y}<extra></extra>\",\"legendgroup\":\"tf_efficientnet_b7_ns_ArcFace_AdamW_0.001_cosine_rank_by_id_val, 0\",\"marker\":{\"color\":\"#ab63fa\",\"symbol\":\"circle\"},\"mode\":\"markers\",\"name\":\"tf_efficientnet_b7_ns_ArcFace_AdamW_0.001_cosine_rank_by_id_val, 0\",\"orientation\":\"v\",\"showlegend\":true,\"x\":[0.9967915138816134],\"xaxis\":\"x\",\"y\":[5.92587742273443],\"yaxis\":\"y\",\"type\":\"scatter\"},{\"hovertemplate\":\"index=tf_efficientnet_b7_ns_ArcFace_SGD_0.1_cosine_rank_by_id_val<br>Marker=0<br>Error=%{x}<br>Disparity=%{y}<extra></extra>\",\"legendgroup\":\"tf_efficientnet_b7_ns_ArcFace_SGD_0.1_cosine_rank_by_id_val, 0\",\"marker\":{\"color\":\"#FFA15A\",\"symbol\":\"circle\"},\"mode\":\"markers\",\"name\":\"tf_efficientnet_b7_ns_ArcFace_SGD_0.1_cosine_rank_by_id_val, 0\",\"orientation\":\"v\",\"showlegend\":true,\"x\":[0.9981665793609219],\"xaxis\":\"x\",\"y\":[6.101754845468832],\"yaxis\":\"y\",\"type\":\"scatter\"},{\"hovertemplate\":\"index=tf_efficientnet_b7_ns_CosFace_AdamW_0.001_cosine_rank_by_id_val<br>Marker=0<br>Error=%{x}<br>Disparity=%{y}<extra></extra>\",\"legendgroup\":\"tf_efficientnet_b7_ns_CosFace_AdamW_0.001_cosine_rank_by_id_val, 0\",\"marker\":{\"color\":\"#19d3f3\",\"symbol\":\"circle\"},\"mode\":\"markers\",\"name\":\"tf_efficientnet_b7_ns_CosFace_AdamW_0.001_cosine_rank_by_id_val, 0\",\"orientation\":\"v\",\"showlegend\":true,\"x\":[0.1533525405971713],\"xaxis\":\"x\",\"y\":[3.029203771608172],\"yaxis\":\"y\",\"type\":\"scatter\"},{\"hovertemplate\":\"index=tf_efficientnet_b7_ns_CosFace_SGD_0.1_cosine_rank_by_id_val<br>Marker=0<br>Error=%{x}<br>Disparity=%{y}<extra></extra>\",\"legendgroup\":\"tf_efficientnet_b7_ns_CosFace_SGD_0.1_cosine_rank_by_id_val, 0\",\"marker\":{\"color\":\"#FF6692\",\"symbol\":\"circle\"},\"mode\":\"markers\",\"name\":\"tf_efficientnet_b7_ns_CosFace_SGD_0.1_cosine_rank_by_id_val, 0\",\"orientation\":\"v\",\"showlegend\":true,\"x\":[0.11255893137768469],\"xaxis\":\"x\",\"y\":[2.385149292823468],\"yaxis\":\"y\",\"type\":\"scatter\"},{\"hovertemplate\":\"index=tf_efficientnet_b7_ns_MagFace_AdamW_0.001_cosine_rank_by_id_val<br>Marker=0<br>Error=%{x}<br>Disparity=%{y}<extra></extra>\",\"legendgroup\":\"tf_efficientnet_b7_ns_MagFace_AdamW_0.001_cosine_rank_by_id_val, 0\",\"marker\":{\"color\":\"#B6E880\",\"symbol\":\"circle\"},\"mode\":\"markers\",\"name\":\"tf_efficientnet_b7_ns_MagFace_AdamW_0.001_cosine_rank_by_id_val, 0\",\"orientation\":\"v\",\"showlegend\":true,\"x\":[0.6856338397066527],\"xaxis\":\"x\",\"y\":[6.99777370350969],\"yaxis\":\"y\",\"type\":\"scatter\"},{\"hovertemplate\":\"index=tf_efficientnet_b7_ns_MagFace_SGD_0.1_cosine_rank_by_id_val<br>Marker=0<br>Error=%{x}<br>Disparity=%{y}<extra></extra>\",\"legendgroup\":\"tf_efficientnet_b7_ns_MagFace_SGD_0.1_cosine_rank_by_id_val, 0\",\"marker\":{\"color\":\"#FF97FF\",\"symbol\":\"circle\"},\"mode\":\"markers\",\"name\":\"tf_efficientnet_b7_ns_MagFace_SGD_0.1_cosine_rank_by_id_val, 0\",\"orientation\":\"v\",\"showlegend\":true,\"x\":[0.588593504452593],\"xaxis\":\"x\",\"y\":[7.88776846516501],\"yaxis\":\"y\",\"type\":\"scatter\"},{\"hovertemplate\":\"index=tnt_s_patch16_224_ArcFace_AdamW_rank_by_id_val<br>Marker=0<br>Error=%{x}<br>Disparity=%{y}<extra></extra>\",\"legendgroup\":\"tnt_s_patch16_224_ArcFace_AdamW_rank_by_id_val, 0\",\"marker\":{\"color\":\"#FECB52\",\"symbol\":\"circle\"},\"mode\":\"markers\",\"name\":\"tnt_s_patch16_224_ArcFace_AdamW_rank_by_id_val, 0\",\"orientation\":\"v\",\"showlegend\":true,\"x\":[0.6313514929282347],\"xaxis\":\"x\",\"y\":[7.05945521215296],\"yaxis\":\"y\",\"type\":\"scatter\"},{\"hovertemplate\":\"index=tnt_s_patch16_224_CosFace_AdamW_rank_by_id_val<br>Marker=0<br>Error=%{x}<br>Disparity=%{y}<extra></extra>\",\"legendgroup\":\"tnt_s_patch16_224_CosFace_AdamW_rank_by_id_val, 0\",\"marker\":{\"color\":\"#636efa\",\"symbol\":\"circle\"},\"mode\":\"markers\",\"name\":\"tnt_s_patch16_224_CosFace_AdamW_rank_by_id_val, 0\",\"orientation\":\"v\",\"showlegend\":true,\"x\":[0.05159769512833945],\"xaxis\":\"x\",\"y\":[1.9494499738082771],\"yaxis\":\"y\",\"type\":\"scatter\"},{\"hovertemplate\":\"index=tnt_s_patch16_224_CosFace_SGD_rank_by_id_val<br>Marker=0<br>Error=%{x}<br>Disparity=%{y}<extra></extra>\",\"legendgroup\":\"tnt_s_patch16_224_CosFace_SGD_rank_by_id_val, 0\",\"marker\":{\"color\":\"#EF553B\",\"symbol\":\"circle\"},\"mode\":\"markers\",\"name\":\"tnt_s_patch16_224_CosFace_SGD_rank_by_id_val, 0\",\"orientation\":\"v\",\"showlegend\":true,\"x\":[0.587676794133054],\"xaxis\":\"x\",\"y\":[2.973415400733373],\"yaxis\":\"y\",\"type\":\"scatter\"},{\"hovertemplate\":\"index=vgg19_CosFace_SGD_rank_by_id_val<br>Marker=0<br>Error=%{x}<br>Disparity=%{y}<extra></extra>\",\"legendgroup\":\"vgg19_CosFace_SGD_rank_by_id_val, 0\",\"marker\":{\"color\":\"#00cc96\",\"symbol\":\"circle\"},\"mode\":\"markers\",\"name\":\"vgg19_CosFace_SGD_rank_by_id_val, 0\",\"orientation\":\"v\",\"showlegend\":true,\"x\":[0.3425877422734416],\"xaxis\":\"x\",\"y\":[6.093111576741748],\"yaxis\":\"y\",\"type\":\"scatter\"},{\"hovertemplate\":\"index=vgg19_MagFace_SGD_rank_by_id_val<br>Marker=0<br>Error=%{x}<br>Disparity=%{y}<extra></extra>\",\"legendgroup\":\"vgg19_MagFace_SGD_rank_by_id_val, 0\",\"marker\":{\"color\":\"#ab63fa\",\"symbol\":\"circle\"},\"mode\":\"markers\",\"name\":\"vgg19_MagFace_SGD_rank_by_id_val, 0\",\"orientation\":\"v\",\"showlegend\":true,\"x\":[0.30068098480880046],\"xaxis\":\"x\",\"y\":[2.2585123101100057],\"yaxis\":\"y\",\"type\":\"scatter\"},{\"hovertemplate\":\"index=vgg19_bn_ArcFace_AdamW_rank_by_id_val<br>Marker=0<br>Error=%{x}<br>Disparity=%{y}<extra></extra>\",\"legendgroup\":\"vgg19_bn_ArcFace_AdamW_rank_by_id_val, 0\",\"marker\":{\"color\":\"#FFA15A\",\"symbol\":\"circle\"},\"mode\":\"markers\",\"name\":\"vgg19_bn_ArcFace_AdamW_rank_by_id_val, 0\",\"orientation\":\"v\",\"showlegend\":true,\"x\":[0.35450497642744894],\"xaxis\":\"x\",\"y\":[1.888423258250393],\"yaxis\":\"y\",\"type\":\"scatter\"},{\"hovertemplate\":\"index=vgg19_bn_ArcFace_AdamW_0.001_cosine_rank_by_id_val<br>Marker=0<br>Error=%{x}<br>Disparity=%{y}<extra></extra>\",\"legendgroup\":\"vgg19_bn_ArcFace_AdamW_0.001_cosine_rank_by_id_val, 0\",\"marker\":{\"color\":\"#19d3f3\",\"symbol\":\"circle\"},\"mode\":\"markers\",\"name\":\"vgg19_bn_ArcFace_AdamW_0.001_cosine_rank_by_id_val, 0\",\"orientation\":\"v\",\"showlegend\":true,\"x\":[0.34697485594552124],\"xaxis\":\"x\",\"y\":[3.223022524882137],\"yaxis\":\"y\",\"type\":\"scatter\"},{\"hovertemplate\":\"index=vgg19_bn_ArcFace_SGD_rank_by_id_val<br>Marker=0<br>Error=%{x}<br>Disparity=%{y}<extra></extra>\",\"legendgroup\":\"vgg19_bn_ArcFace_SGD_rank_by_id_val, 0\",\"marker\":{\"color\":\"#FF6692\",\"symbol\":\"circle\"},\"mode\":\"markers\",\"name\":\"vgg19_bn_ArcFace_SGD_rank_by_id_val, 0\",\"orientation\":\"v\",\"showlegend\":true,\"x\":[0.22806443163960188],\"xaxis\":\"x\",\"y\":[2.0113933996856996],\"yaxis\":\"y\",\"type\":\"scatter\"},{\"hovertemplate\":\"index=vgg19_bn_ArcFace_SGD_0.1_cosine_rank_by_id_val<br>Marker=0<br>Error=%{x}<br>Disparity=%{y}<extra></extra>\",\"legendgroup\":\"vgg19_bn_ArcFace_SGD_0.1_cosine_rank_by_id_val, 0\",\"marker\":{\"color\":\"#B6E880\",\"symbol\":\"circle\"},\"mode\":\"markers\",\"name\":\"vgg19_bn_ArcFace_SGD_0.1_cosine_rank_by_id_val, 0\",\"orientation\":\"v\",\"showlegend\":true,\"x\":[0.30454426401257206],\"xaxis\":\"x\",\"y\":[3.4256155055002617],\"yaxis\":\"y\",\"type\":\"scatter\"},{\"hovertemplate\":\"index=vgg19_bn_CosFace_SGD_rank_by_id_val<br>Marker=0<br>Error=%{x}<br>Disparity=%{y}<extra></extra>\",\"legendgroup\":\"vgg19_bn_CosFace_SGD_rank_by_id_val, 0\",\"marker\":{\"color\":\"#FF97FF\",\"symbol\":\"circle\"},\"mode\":\"markers\",\"name\":\"vgg19_bn_CosFace_SGD_rank_by_id_val, 0\",\"orientation\":\"v\",\"showlegend\":true,\"x\":[0.3465165007857517],\"xaxis\":\"x\",\"y\":[3.2710843373493965],\"yaxis\":\"y\",\"type\":\"scatter\"},{\"hovertemplate\":\"index=vgg19_bn_MagFace_AdamW_rank_by_id_val<br>Marker=0<br>Error=%{x}<br>Disparity=%{y}<extra></extra>\",\"legendgroup\":\"vgg19_bn_MagFace_AdamW_rank_by_id_val, 0\",\"marker\":{\"color\":\"#FECB52\",\"symbol\":\"circle\"},\"mode\":\"markers\",\"name\":\"vgg19_bn_MagFace_AdamW_rank_by_id_val, 0\",\"orientation\":\"v\",\"showlegend\":true,\"x\":[0.2820193818753274],\"xaxis\":\"x\",\"y\":[1.8258250392875848],\"yaxis\":\"y\",\"type\":\"scatter\"},{\"hovertemplate\":\"index=vgg19_bn_MagFace_AdamW_0.001_cosine_rank_by_id_val<br>Marker=0<br>Error=%{x}<br>Disparity=%{y}<extra></extra>\",\"legendgroup\":\"vgg19_bn_MagFace_AdamW_0.001_cosine_rank_by_id_val, 0\",\"marker\":{\"color\":\"#636efa\",\"symbol\":\"circle\"},\"mode\":\"markers\",\"name\":\"vgg19_bn_MagFace_AdamW_0.001_cosine_rank_by_id_val, 0\",\"orientation\":\"v\",\"showlegend\":true,\"x\":[0.6310240963855422],\"xaxis\":\"x\",\"y\":[5.599921424829754],\"yaxis\":\"y\",\"type\":\"scatter\"},{\"hovertemplate\":\"index=vgg19_bn_MagFace_SGD_rank_by_id_val<br>Marker=0<br>Error=%{x}<br>Disparity=%{y}<extra></extra>\",\"legendgroup\":\"vgg19_bn_MagFace_SGD_rank_by_id_val, 0\",\"marker\":{\"color\":\"#EF553B\",\"symbol\":\"circle\"},\"mode\":\"markers\",\"name\":\"vgg19_bn_MagFace_SGD_rank_by_id_val, 0\",\"orientation\":\"v\",\"showlegend\":true,\"x\":[0.18923520167627028],\"xaxis\":\"x\",\"y\":[2.1547930853850183],\"yaxis\":\"y\",\"type\":\"scatter\"},{\"hovertemplate\":\"index=vgg19_bn_MagFace_SGD_0.1_cosine_rank_by_id_val<br>Marker=0<br>Error=%{x}<br>Disparity=%{y}<extra></extra>\",\"legendgroup\":\"vgg19_bn_MagFace_SGD_0.1_cosine_rank_by_id_val, 0\",\"marker\":{\"color\":\"#00cc96\",\"symbol\":\"circle\"},\"mode\":\"markers\",\"name\":\"vgg19_bn_MagFace_SGD_0.1_cosine_rank_by_id_val, 0\",\"orientation\":\"v\",\"showlegend\":true,\"x\":[0.2443033001571503],\"xaxis\":\"x\",\"y\":[2.2503928758512313],\"yaxis\":\"y\",\"type\":\"scatter\"},{\"hovertemplate\":\"index=visformer_small_ArcFace_AdamW_0.001_cosine_rank_by_id_val<br>Marker=0<br>Error=%{x}<br>Disparity=%{y}<extra></extra>\",\"legendgroup\":\"visformer_small_ArcFace_AdamW_0.001_cosine_rank_by_id_val, 0\",\"marker\":{\"color\":\"#ab63fa\",\"symbol\":\"circle\"},\"mode\":\"markers\",\"name\":\"visformer_small_ArcFace_AdamW_0.001_cosine_rank_by_id_val, 0\",\"orientation\":\"v\",\"showlegend\":true,\"x\":[0.983171817705605],\"xaxis\":\"x\",\"y\":[2.4146149816657783],\"yaxis\":\"y\",\"type\":\"scatter\"},{\"hovertemplate\":\"index=visformer_small_CosFace_AdamW_rank_by_id_val<br>Marker=0<br>Error=%{x}<br>Disparity=%{y}<extra></extra>\",\"legendgroup\":\"visformer_small_CosFace_AdamW_rank_by_id_val, 0\",\"marker\":{\"color\":\"#FFA15A\",\"symbol\":\"circle\"},\"mode\":\"markers\",\"name\":\"visformer_small_CosFace_AdamW_rank_by_id_val, 0\",\"orientation\":\"v\",\"showlegend\":true,\"x\":[0.9627422734415925],\"xaxis\":\"x\",\"y\":[13.2437139863803],\"yaxis\":\"y\",\"type\":\"scatter\"},{\"hovertemplate\":\"index=visformer_small_CosFace_AdamW_0.001_cosine_rank_by_id_val<br>Marker=0<br>Error=%{x}<br>Disparity=%{y}<extra></extra>\",\"legendgroup\":\"visformer_small_CosFace_AdamW_0.001_cosine_rank_by_id_val, 0\",\"marker\":{\"color\":\"#19d3f3\",\"symbol\":\"circle\"},\"mode\":\"markers\",\"name\":\"visformer_small_CosFace_AdamW_0.001_cosine_rank_by_id_val, 0\",\"orientation\":\"v\",\"showlegend\":true,\"x\":[0.9702723939235202],\"xaxis\":\"x\",\"y\":[3.5844683080146638],\"yaxis\":\"y\",\"type\":\"scatter\"},{\"hovertemplate\":\"index=visformer_small_CosFace_SGD_rank_by_id_val<br>Marker=0<br>Error=%{x}<br>Disparity=%{y}<extra></extra>\",\"legendgroup\":\"visformer_small_CosFace_SGD_rank_by_id_val, 0\",\"marker\":{\"color\":\"#FF6692\",\"symbol\":\"circle\"},\"mode\":\"markers\",\"name\":\"visformer_small_CosFace_SGD_rank_by_id_val, 0\",\"orientation\":\"v\",\"showlegend\":true,\"x\":[0.6674305919329492],\"xaxis\":\"x\",\"y\":[3.8525405971712914],\"yaxis\":\"y\",\"type\":\"scatter\"},{\"hovertemplate\":\"index=visformer_small_MagFace_AdamW_rank_by_id_val<br>Marker=0<br>Error=%{x}<br>Disparity=%{y}<extra></extra>\",\"legendgroup\":\"visformer_small_MagFace_AdamW_rank_by_id_val, 0\",\"marker\":{\"color\":\"#B6E880\",\"symbol\":\"circle\"},\"mode\":\"markers\",\"name\":\"visformer_small_MagFace_AdamW_rank_by_id_val, 0\",\"orientation\":\"v\",\"showlegend\":true,\"x\":[0.9905055002619172],\"xaxis\":\"x\",\"y\":[5.172734415924566],\"yaxis\":\"y\",\"type\":\"scatter\"},{\"hovertemplate\":\"index=visformer_small_MagFace_AdamW_0.001_cosine_rank_by_id_val<br>Marker=0<br>Error=%{x}<br>Disparity=%{y}<extra></extra>\",\"legendgroup\":\"visformer_small_MagFace_AdamW_0.001_cosine_rank_by_id_val, 0\",\"marker\":{\"color\":\"#FF97FF\",\"symbol\":\"circle\"},\"mode\":\"markers\",\"name\":\"visformer_small_MagFace_AdamW_0.001_cosine_rank_by_id_val, 0\",\"orientation\":\"v\",\"showlegend\":true,\"x\":[0.9960712414876899],\"xaxis\":\"x\",\"y\":[18.62179151388159],\"yaxis\":\"y\",\"type\":\"scatter\"},{\"hovertemplate\":\"index=xception65_ArcFace_AdamW_rank_by_id_val<br>Marker=0<br>Error=%{x}<br>Disparity=%{y}<extra></extra>\",\"legendgroup\":\"xception65_ArcFace_AdamW_rank_by_id_val, 0\",\"marker\":{\"color\":\"#FECB52\",\"symbol\":\"circle\"},\"mode\":\"markers\",\"name\":\"xception65_ArcFace_AdamW_rank_by_id_val, 0\",\"orientation\":\"v\",\"showlegend\":true,\"x\":[0.4026322682032478],\"xaxis\":\"x\",\"y\":[0.19958093242535568],\"yaxis\":\"y\",\"type\":\"scatter\"},{\"hovertemplate\":\"index=xception65_ArcFace_AdamW_0.001_cosine_rank_by_id_val<br>Marker=0<br>Error=%{x}<br>Disparity=%{y}<extra></extra>\",\"legendgroup\":\"xception65_ArcFace_AdamW_0.001_cosine_rank_by_id_val, 0\",\"marker\":{\"color\":\"#636efa\",\"symbol\":\"circle\"},\"mode\":\"markers\",\"name\":\"xception65_ArcFace_AdamW_0.001_cosine_rank_by_id_val, 0\",\"orientation\":\"v\",\"showlegend\":true,\"x\":[0.40669198533263484],\"xaxis\":\"x\",\"y\":[3.4110790990047146],\"yaxis\":\"y\",\"type\":\"scatter\"},{\"hovertemplate\":\"index=xception65_ArcFace_SGD_rank_by_id_val<br>Marker=0<br>Error=%{x}<br>Disparity=%{y}<extra></extra>\",\"legendgroup\":\"xception65_ArcFace_SGD_rank_by_id_val, 0\",\"marker\":{\"color\":\"#EF553B\",\"symbol\":\"circle\"},\"mode\":\"markers\",\"name\":\"xception65_ArcFace_SGD_rank_by_id_val, 0\",\"orientation\":\"v\",\"showlegend\":true,\"x\":[0.22655840754321632],\"xaxis\":\"x\",\"y\":[2.163305395495023],\"yaxis\":\"y\",\"type\":\"scatter\"},{\"hovertemplate\":\"index=xception65_CosFace_AdamW_rank_by_id_val<br>Marker=0<br>Error=%{x}<br>Disparity=%{y}<extra></extra>\",\"legendgroup\":\"xception65_CosFace_AdamW_rank_by_id_val, 0\",\"marker\":{\"color\":\"#00cc96\",\"symbol\":\"circle\"},\"mode\":\"markers\",\"name\":\"xception65_CosFace_AdamW_rank_by_id_val, 0\",\"orientation\":\"v\",\"showlegend\":true,\"x\":[0.5192509167103195],\"xaxis\":\"x\",\"y\":[7.1550550026191715],\"yaxis\":\"y\",\"type\":\"scatter\"},{\"hovertemplate\":\"index=xception65_CosFace_AdamW_0.001_cosine_rank_by_id_val<br>Marker=0<br>Error=%{x}<br>Disparity=%{y}<extra></extra>\",\"legendgroup\":\"xception65_CosFace_AdamW_0.001_cosine_rank_by_id_val, 0\",\"marker\":{\"color\":\"#ab63fa\",\"symbol\":\"circle\"},\"mode\":\"markers\",\"name\":\"xception65_CosFace_AdamW_0.001_cosine_rank_by_id_val, 0\",\"orientation\":\"v\",\"showlegend\":true,\"x\":[0.35856469355683607],\"xaxis\":\"x\",\"y\":[2.540466212676794],\"yaxis\":\"y\",\"type\":\"scatter\"},{\"hovertemplate\":\"index=xception65_CosFace_SGD_rank_by_id_val<br>Marker=0<br>Error=%{x}<br>Disparity=%{y}<extra></extra>\",\"legendgroup\":\"xception65_CosFace_SGD_rank_by_id_val, 0\",\"marker\":{\"color\":\"#FFA15A\",\"symbol\":\"circle\"},\"mode\":\"markers\",\"name\":\"xception65_CosFace_SGD_rank_by_id_val, 0\",\"orientation\":\"v\",\"showlegend\":true,\"x\":[0.28751964379256156],\"xaxis\":\"x\",\"y\":[4.281953902566789],\"yaxis\":\"y\",\"type\":\"scatter\"},{\"hovertemplate\":\"index=xception65_MagFace_AdamW_rank_by_id_val<br>Marker=0<br>Error=%{x}<br>Disparity=%{y}<extra></extra>\",\"legendgroup\":\"xception65_MagFace_AdamW_rank_by_id_val, 0\",\"marker\":{\"color\":\"#19d3f3\",\"symbol\":\"circle\"},\"mode\":\"markers\",\"name\":\"xception65_MagFace_AdamW_rank_by_id_val, 0\",\"orientation\":\"v\",\"showlegend\":true,\"x\":[0.3294918805657412],\"xaxis\":\"x\",\"y\":[2.2139863803038224],\"yaxis\":\"y\",\"type\":\"scatter\"},{\"hovertemplate\":\"index=xception65_MagFace_AdamW_0.001_cosine_rank_by_id_val<br>Marker=0<br>Error=%{x}<br>Disparity=%{y}<extra></extra>\",\"legendgroup\":\"xception65_MagFace_AdamW_0.001_cosine_rank_by_id_val, 0\",\"marker\":{\"color\":\"#FF6692\",\"symbol\":\"circle\"},\"mode\":\"markers\",\"name\":\"xception65_MagFace_AdamW_0.001_cosine_rank_by_id_val, 0\",\"orientation\":\"v\",\"showlegend\":true,\"x\":[0.36982713462545835],\"xaxis\":\"x\",\"y\":[3.3673389209009956],\"yaxis\":\"y\",\"type\":\"scatter\"},{\"hovertemplate\":\"index=xception65_MagFace_SGD_rank_by_id_val<br>Marker=0<br>Error=%{x}<br>Disparity=%{y}<extra></extra>\",\"legendgroup\":\"xception65_MagFace_SGD_rank_by_id_val, 0\",\"marker\":{\"color\":\"#B6E880\",\"symbol\":\"circle\"},\"mode\":\"markers\",\"name\":\"xception65_MagFace_SGD_rank_by_id_val, 0\",\"orientation\":\"v\",\"showlegend\":true,\"x\":[0.338855421686747],\"xaxis\":\"x\",\"y\":[2.9163174436877943],\"yaxis\":\"y\",\"type\":\"scatter\"},{\"hovertemplate\":\"index=xception65_MagFace_SGD_0.1_cosine_rank_by_id_val<br>Marker=0<br>Error=%{x}<br>Disparity=%{y}<extra></extra>\",\"legendgroup\":\"xception65_MagFace_SGD_0.1_cosine_rank_by_id_val, 0\",\"marker\":{\"color\":\"#FF97FF\",\"symbol\":\"circle\"},\"mode\":\"markers\",\"name\":\"xception65_MagFace_SGD_0.1_cosine_rank_by_id_val, 0\",\"orientation\":\"v\",\"showlegend\":true,\"x\":[0.3399685699319015],\"xaxis\":\"x\",\"y\":[2.7946568884232583],\"yaxis\":\"y\",\"type\":\"scatter\"},{\"hovertemplate\":\"index=xception_ArcFace_AdamW_rank_by_id_val<br>Marker=0<br>Error=%{x}<br>Disparity=%{y}<extra></extra>\",\"legendgroup\":\"xception_ArcFace_AdamW_rank_by_id_val, 0\",\"marker\":{\"color\":\"#FECB52\",\"symbol\":\"circle\"},\"mode\":\"markers\",\"name\":\"xception_ArcFace_AdamW_rank_by_id_val, 0\",\"orientation\":\"v\",\"showlegend\":true,\"x\":[0.2993713986380304],\"xaxis\":\"x\",\"y\":[2.314562598218963],\"yaxis\":\"y\",\"type\":\"scatter\"},{\"hovertemplate\":\"index=xception_ArcFace_AdamW_0.001_cosine_rank_by_id_val<br>Marker=0<br>Error=%{x}<br>Disparity=%{y}<extra></extra>\",\"legendgroup\":\"xception_ArcFace_AdamW_0.001_cosine_rank_by_id_val, 0\",\"marker\":{\"color\":\"#636efa\",\"symbol\":\"circle\"},\"mode\":\"markers\",\"name\":\"xception_ArcFace_AdamW_0.001_cosine_rank_by_id_val, 0\",\"orientation\":\"v\",\"showlegend\":true,\"x\":[0.4140256678889471],\"xaxis\":\"x\",\"y\":[3.6179937139863805],\"yaxis\":\"y\",\"type\":\"scatter\"},{\"hovertemplate\":\"index=xception_ArcFace_SGD_rank_by_id_val<br>Marker=0<br>Error=%{x}<br>Disparity=%{y}<extra></extra>\",\"legendgroup\":\"xception_ArcFace_SGD_rank_by_id_val, 0\",\"marker\":{\"color\":\"#EF553B\",\"symbol\":\"circle\"},\"mode\":\"markers\",\"name\":\"xception_ArcFace_SGD_rank_by_id_val, 0\",\"orientation\":\"v\",\"showlegend\":true,\"x\":[0.45324777370350966],\"xaxis\":\"x\",\"y\":[4.921424829753798],\"yaxis\":\"y\",\"type\":\"scatter\"},{\"hovertemplate\":\"index=xception_ArcFace_SGD_0.1_cosine_rank_by_id_val<br>Marker=0<br>Error=%{x}<br>Disparity=%{y}<extra></extra>\",\"legendgroup\":\"xception_ArcFace_SGD_0.1_cosine_rank_by_id_val, 0\",\"marker\":{\"color\":\"#00cc96\",\"symbol\":\"circle\"},\"mode\":\"markers\",\"name\":\"xception_ArcFace_SGD_0.1_cosine_rank_by_id_val, 0\",\"orientation\":\"v\",\"showlegend\":true,\"x\":[0.20200366684127813],\"xaxis\":\"x\",\"y\":[2.0512048192771077],\"yaxis\":\"y\",\"type\":\"scatter\"},{\"hovertemplate\":\"index=xception_CosFace_Adam_rank_by_id_val<br>Marker=0<br>Error=%{x}<br>Disparity=%{y}<extra></extra>\",\"legendgroup\":\"xception_CosFace_Adam_rank_by_id_val, 0\",\"marker\":{\"color\":\"#ab63fa\",\"symbol\":\"circle\"},\"mode\":\"markers\",\"name\":\"xception_CosFace_Adam_rank_by_id_val, 0\",\"orientation\":\"v\",\"showlegend\":true,\"x\":[0.9969879518072289],\"xaxis\":\"x\",\"y\":[1.0666579360922128],\"yaxis\":\"y\",\"type\":\"scatter\"},{\"hovertemplate\":\"index=xception_CosFace_AdamW_rank_by_id_val<br>Marker=0<br>Error=%{x}<br>Disparity=%{y}<extra></extra>\",\"legendgroup\":\"xception_CosFace_AdamW_rank_by_id_val, 0\",\"marker\":{\"color\":\"#FFA15A\",\"symbol\":\"circle\"},\"mode\":\"markers\",\"name\":\"xception_CosFace_AdamW_rank_by_id_val, 0\",\"orientation\":\"v\",\"showlegend\":true,\"x\":[0.40466212676794133],\"xaxis\":\"x\",\"y\":[2.752619172341541],\"yaxis\":\"y\",\"type\":\"scatter\"},{\"hovertemplate\":\"index=xception_CosFace_AdamW_0.001_cosine_rank_by_id_val<br>Marker=0<br>Error=%{x}<br>Disparity=%{y}<extra></extra>\",\"legendgroup\":\"xception_CosFace_AdamW_0.001_cosine_rank_by_id_val, 0\",\"marker\":{\"color\":\"#19d3f3\",\"symbol\":\"circle\"},\"mode\":\"markers\",\"name\":\"xception_CosFace_AdamW_0.001_cosine_rank_by_id_val, 0\",\"orientation\":\"v\",\"showlegend\":true,\"x\":[0.38861969617600833],\"xaxis\":\"x\",\"y\":[4.285751702462022],\"yaxis\":\"y\",\"type\":\"scatter\"},{\"hovertemplate\":\"index=xception_CosFace_SGD_rank_by_id_val<br>Marker=0<br>Error=%{x}<br>Disparity=%{y}<extra></extra>\",\"legendgroup\":\"xception_CosFace_SGD_rank_by_id_val, 0\",\"marker\":{\"color\":\"#FF6692\",\"symbol\":\"circle\"},\"mode\":\"markers\",\"name\":\"xception_CosFace_SGD_rank_by_id_val, 0\",\"orientation\":\"v\",\"showlegend\":true,\"x\":[0.302841801990571],\"xaxis\":\"x\",\"y\":[4.979177579884757],\"yaxis\":\"y\",\"type\":\"scatter\"},{\"hovertemplate\":\"index=xception_CosFace_SGD_0.1_cosine_rank_by_id_val<br>Marker=0<br>Error=%{x}<br>Disparity=%{y}<extra></extra>\",\"legendgroup\":\"xception_CosFace_SGD_0.1_cosine_rank_by_id_val, 0\",\"marker\":{\"color\":\"#B6E880\",\"symbol\":\"circle\"},\"mode\":\"markers\",\"name\":\"xception_CosFace_SGD_0.1_cosine_rank_by_id_val, 0\",\"orientation\":\"v\",\"showlegend\":true,\"x\":[0.27121529596647465],\"xaxis\":\"x\",\"y\":[4.909507595599791],\"yaxis\":\"y\",\"type\":\"scatter\"},{\"hovertemplate\":\"index=xception_MagFace_AdamW_rank_by_id_val<br>Marker=0<br>Error=%{x}<br>Disparity=%{y}<extra></extra>\",\"legendgroup\":\"xception_MagFace_AdamW_rank_by_id_val, 0\",\"marker\":{\"color\":\"#FF97FF\",\"symbol\":\"circle\"},\"mode\":\"markers\",\"name\":\"xception_MagFace_AdamW_rank_by_id_val, 0\",\"orientation\":\"v\",\"showlegend\":true,\"x\":[0.21811157674174964],\"xaxis\":\"x\",\"y\":[2.245678365636459],\"yaxis\":\"y\",\"type\":\"scatter\"},{\"hovertemplate\":\"index=xception_MagFace_AdamW_0.001_cosine_rank_by_id_val<br>Marker=0<br>Error=%{x}<br>Disparity=%{y}<extra></extra>\",\"legendgroup\":\"xception_MagFace_AdamW_0.001_cosine_rank_by_id_val, 0\",\"marker\":{\"color\":\"#FECB52\",\"symbol\":\"circle\"},\"mode\":\"markers\",\"name\":\"xception_MagFace_AdamW_0.001_cosine_rank_by_id_val, 0\",\"orientation\":\"v\",\"showlegend\":true,\"x\":[0.39333420639078054],\"xaxis\":\"x\",\"y\":[3.1701152435830267],\"yaxis\":\"y\",\"type\":\"scatter\"},{\"hovertemplate\":\"index=xception_MagFace_SGD_rank_by_id_val<br>Marker=0<br>Error=%{x}<br>Disparity=%{y}<extra></extra>\",\"legendgroup\":\"xception_MagFace_SGD_rank_by_id_val, 0\",\"marker\":{\"color\":\"#636efa\",\"symbol\":\"circle\"},\"mode\":\"markers\",\"name\":\"xception_MagFace_SGD_rank_by_id_val, 0\",\"orientation\":\"v\",\"showlegend\":true,\"x\":[0.13429806181246728],\"xaxis\":\"x\",\"y\":[3.0814562598218966],\"yaxis\":\"y\",\"type\":\"scatter\"},{\"hovertemplate\":\"index=coat_lite_small_CosFace_Adam_rank_by_id_val<br>Marker=0<br>Error=%{x}<br>Disparity=%{y}<extra></extra>\",\"legendgroup\":\"coat_lite_small_CosFace_Adam_rank_by_id_val, 0\",\"marker\":{\"color\":\"#EF553B\",\"symbol\":\"circle\"},\"mode\":\"markers\",\"name\":\"coat_lite_small_CosFace_Adam_rank_by_id_val, 0\",\"orientation\":\"v\",\"showlegend\":true,\"x\":[0.7738344683080147],\"xaxis\":\"x\",\"y\":[15.495809324253536],\"yaxis\":\"y\",\"type\":\"scatter\"},{\"hovertemplate\":\"index=coat_lite_small_CosFace_AdamW_rank_by_id_val<br>Marker=0<br>Error=%{x}<br>Disparity=%{y}<extra></extra>\",\"legendgroup\":\"coat_lite_small_CosFace_AdamW_rank_by_id_val, 0\",\"marker\":{\"color\":\"#00cc96\",\"symbol\":\"circle\"},\"mode\":\"markers\",\"name\":\"coat_lite_small_CosFace_AdamW_rank_by_id_val, 0\",\"orientation\":\"v\",\"showlegend\":true,\"x\":[0.12048192771084343],\"xaxis\":\"x\",\"y\":[5.292561550550026],\"yaxis\":\"y\",\"type\":\"scatter\"},{\"hovertemplate\":\"index=coat_lite_small_CosFace_SGD_rank_by_id_val<br>Marker=0<br>Error=%{x}<br>Disparity=%{y}<extra></extra>\",\"legendgroup\":\"coat_lite_small_CosFace_SGD_rank_by_id_val, 0\",\"marker\":{\"color\":\"#ab63fa\",\"symbol\":\"circle\"},\"mode\":\"markers\",\"name\":\"coat_lite_small_CosFace_SGD_rank_by_id_val, 0\",\"orientation\":\"v\",\"showlegend\":true,\"x\":[0.2904662126767942],\"xaxis\":\"x\",\"y\":[6.061026715557883],\"yaxis\":\"y\",\"type\":\"scatter\"},{\"hovertemplate\":\"index=coat_lite_small_MagFace_AdamW_rank_by_id_val<br>Marker=0<br>Error=%{x}<br>Disparity=%{y}<extra></extra>\",\"legendgroup\":\"coat_lite_small_MagFace_AdamW_rank_by_id_val, 0\",\"marker\":{\"color\":\"#FFA15A\",\"symbol\":\"circle\"},\"mode\":\"markers\",\"name\":\"coat_lite_small_MagFace_AdamW_rank_by_id_val, 0\",\"orientation\":\"v\",\"showlegend\":true,\"x\":[0.5466867469879518],\"xaxis\":\"x\",\"y\":[5.306050288108958],\"yaxis\":\"y\",\"type\":\"scatter\"},{\"hovertemplate\":\"index=coat_lite_small_MagFace_SGD_rank_by_id_val<br>Marker=0<br>Error=%{x}<br>Disparity=%{y}<extra></extra>\",\"legendgroup\":\"coat_lite_small_MagFace_SGD_rank_by_id_val, 0\",\"marker\":{\"color\":\"#19d3f3\",\"symbol\":\"circle\"},\"mode\":\"markers\",\"name\":\"coat_lite_small_MagFace_SGD_rank_by_id_val, 0\",\"orientation\":\"v\",\"showlegend\":true,\"x\":[0.7012833944473547],\"xaxis\":\"x\",\"y\":[14.452723939235206],\"yaxis\":\"y\",\"type\":\"scatter\"},{\"hovertemplate\":\"index=convit_base_ArcFace_AdamW_rank_by_id_val<br>Marker=0<br>Error=%{x}<br>Disparity=%{y}<extra></extra>\",\"legendgroup\":\"convit_base_ArcFace_AdamW_rank_by_id_val, 0\",\"marker\":{\"color\":\"#FF6692\",\"symbol\":\"circle\"},\"mode\":\"markers\",\"name\":\"convit_base_ArcFace_AdamW_rank_by_id_val, 0\",\"orientation\":\"v\",\"showlegend\":true,\"x\":[0.8097826086956521],\"xaxis\":\"x\",\"y\":[17.26833420639079],\"yaxis\":\"y\",\"type\":\"scatter\"},{\"hovertemplate\":\"index=convit_base_CosFace_Adam_rank_by_id_val<br>Marker=0<br>Error=%{x}<br>Disparity=%{y}<extra></extra>\",\"legendgroup\":\"convit_base_CosFace_Adam_rank_by_id_val, 0\",\"marker\":{\"color\":\"#B6E880\",\"symbol\":\"circle\"},\"mode\":\"markers\",\"name\":\"convit_base_CosFace_Adam_rank_by_id_val, 0\",\"orientation\":\"v\",\"showlegend\":true,\"x\":[0.646280775275013],\"xaxis\":\"x\",\"y\":[6.309062336301729],\"yaxis\":\"y\",\"type\":\"scatter\"},{\"hovertemplate\":\"index=convit_base_CosFace_AdamW_rank_by_id_val<br>Marker=0<br>Error=%{x}<br>Disparity=%{y}<extra></extra>\",\"legendgroup\":\"convit_base_CosFace_AdamW_rank_by_id_val, 0\",\"marker\":{\"color\":\"#FF97FF\",\"symbol\":\"circle\"},\"mode\":\"markers\",\"name\":\"convit_base_CosFace_AdamW_rank_by_id_val, 0\",\"orientation\":\"v\",\"showlegend\":true,\"x\":[0.6526977475117863],\"xaxis\":\"x\",\"y\":[25.02671555788372],\"yaxis\":\"y\",\"type\":\"scatter\"},{\"hovertemplate\":\"index=convit_base_CosFace_SGD_rank_by_id_val<br>Marker=0<br>Error=%{x}<br>Disparity=%{y}<extra></extra>\",\"legendgroup\":\"convit_base_CosFace_SGD_rank_by_id_val, 0\",\"marker\":{\"color\":\"#FECB52\",\"symbol\":\"circle\"},\"mode\":\"markers\",\"name\":\"convit_base_CosFace_SGD_rank_by_id_val, 0\",\"orientation\":\"v\",\"showlegend\":true,\"x\":[0.18314562598218964],\"xaxis\":\"x\",\"y\":[4.87061288632792],\"yaxis\":\"y\",\"type\":\"scatter\"},{\"hovertemplate\":\"index=convit_base_MagFace_AdamW_rank_by_id_val<br>Marker=0<br>Error=%{x}<br>Disparity=%{y}<extra></extra>\",\"legendgroup\":\"convit_base_MagFace_AdamW_rank_by_id_val, 0\",\"marker\":{\"color\":\"#636efa\",\"symbol\":\"circle\"},\"mode\":\"markers\",\"name\":\"convit_base_MagFace_AdamW_rank_by_id_val, 0\",\"orientation\":\"v\",\"showlegend\":true,\"x\":[0.7654531168150864],\"xaxis\":\"x\",\"y\":[17.729832372970144],\"yaxis\":\"y\",\"type\":\"scatter\"},{\"hovertemplate\":\"index=convit_base_MagFace_SGD_rank_by_id_val<br>Marker=0<br>Error=%{x}<br>Disparity=%{y}<extra></extra>\",\"legendgroup\":\"convit_base_MagFace_SGD_rank_by_id_val, 0\",\"marker\":{\"color\":\"#EF553B\",\"symbol\":\"circle\"},\"mode\":\"markers\",\"name\":\"convit_base_MagFace_SGD_rank_by_id_val, 0\",\"orientation\":\"v\",\"showlegend\":true,\"x\":[0.8458617077003667],\"xaxis\":\"x\",\"y\":[16.734023048716608],\"yaxis\":\"y\",\"type\":\"scatter\"},{\"hovertemplate\":\"index=cspdarknet53_ArcFace_AdamW_rank_by_id_val<br>Marker=0<br>Error=%{x}<br>Disparity=%{y}<extra></extra>\",\"legendgroup\":\"cspdarknet53_ArcFace_AdamW_rank_by_id_val, 0\",\"marker\":{\"color\":\"#00cc96\",\"symbol\":\"circle\"},\"mode\":\"markers\",\"name\":\"cspdarknet53_ArcFace_AdamW_rank_by_id_val, 0\",\"orientation\":\"v\",\"showlegend\":true,\"x\":[0.3520167627029859],\"xaxis\":\"x\",\"y\":[3.8132530120481927],\"yaxis\":\"y\",\"type\":\"scatter\"},{\"hovertemplate\":\"index=cspdarknet53_ArcFace_SGD_rank_by_id_val<br>Marker=0<br>Error=%{x}<br>Disparity=%{y}<extra></extra>\",\"legendgroup\":\"cspdarknet53_ArcFace_SGD_rank_by_id_val, 0\",\"marker\":{\"color\":\"#ab63fa\",\"symbol\":\"circle\"},\"mode\":\"markers\",\"name\":\"cspdarknet53_ArcFace_SGD_rank_by_id_val, 0\",\"orientation\":\"v\",\"showlegend\":true,\"x\":[0.8784704033525406],\"xaxis\":\"x\",\"y\":[3.765060240963848],\"yaxis\":\"y\",\"type\":\"scatter\"},{\"hovertemplate\":\"index=cspdarknet53_CosFace_AdamW_rank_by_id_val<br>Marker=0<br>Error=%{x}<br>Disparity=%{y}<extra></extra>\",\"legendgroup\":\"cspdarknet53_CosFace_AdamW_rank_by_id_val, 0\",\"marker\":{\"color\":\"#FFA15A\",\"symbol\":\"circle\"},\"mode\":\"markers\",\"name\":\"cspdarknet53_CosFace_AdamW_rank_by_id_val, 0\",\"orientation\":\"v\",\"showlegend\":true,\"x\":[0.23631482451545316],\"xaxis\":\"x\",\"y\":[0.21451021477213317],\"yaxis\":\"y\",\"type\":\"scatter\"},{\"hovertemplate\":\"index=cspdarknet53_CosFace_SGD_rank_by_id_val<br>Marker=0<br>Error=%{x}<br>Disparity=%{y}<extra></extra>\",\"legendgroup\":\"cspdarknet53_CosFace_SGD_rank_by_id_val, 0\",\"marker\":{\"color\":\"#19d3f3\",\"symbol\":\"circle\"},\"mode\":\"markers\",\"name\":\"cspdarknet53_CosFace_SGD_rank_by_id_val, 0\",\"orientation\":\"v\",\"showlegend\":true,\"x\":[0.7714772132006286],\"xaxis\":\"x\",\"y\":[11.822682032477736],\"yaxis\":\"y\",\"type\":\"scatter\"},{\"hovertemplate\":\"index=cspdarknet53_CosFace_adam_rank_by_id_val<br>Marker=0<br>Error=%{x}<br>Disparity=%{y}<extra></extra>\",\"legendgroup\":\"cspdarknet53_CosFace_adam_rank_by_id_val, 0\",\"marker\":{\"color\":\"#FF6692\",\"symbol\":\"circle\"},\"mode\":\"markers\",\"name\":\"cspdarknet53_CosFace_adam_rank_by_id_val, 0\",\"orientation\":\"v\",\"showlegend\":true,\"x\":[0.21647459402828706],\"xaxis\":\"x\",\"y\":[1.573467784180199],\"yaxis\":\"y\",\"type\":\"scatter\"},{\"hovertemplate\":\"index=cspdarknet53_MagFace_AdamW_rank_by_id_val<br>Marker=0<br>Error=%{x}<br>Disparity=%{y}<extra></extra>\",\"legendgroup\":\"cspdarknet53_MagFace_AdamW_rank_by_id_val, 0\",\"marker\":{\"color\":\"#B6E880\",\"symbol\":\"circle\"},\"mode\":\"markers\",\"name\":\"cspdarknet53_MagFace_AdamW_rank_by_id_val, 0\",\"orientation\":\"v\",\"showlegend\":true,\"x\":[0.41533525405971716],\"xaxis\":\"x\",\"y\":[4.512441068622315],\"yaxis\":\"y\",\"type\":\"scatter\"},{\"hovertemplate\":\"index=cspdarknet53_MagFace_SGD_rank_by_id_val<br>Marker=0<br>Error=%{x}<br>Disparity=%{y}<extra></extra>\",\"legendgroup\":\"cspdarknet53_MagFace_SGD_rank_by_id_val, 0\",\"marker\":{\"color\":\"#FF97FF\",\"symbol\":\"circle\"},\"mode\":\"markers\",\"name\":\"cspdarknet53_MagFace_SGD_rank_by_id_val, 0\",\"orientation\":\"v\",\"showlegend\":true,\"x\":[0.8969355683603981],\"xaxis\":\"x\",\"y\":[1.2175222629649056],\"yaxis\":\"y\",\"type\":\"scatter\"},{\"hovertemplate\":\"index=dla102x2_ArcFace_AdamW_rank_by_id_val<br>Marker=0<br>Error=%{x}<br>Disparity=%{y}<extra></extra>\",\"legendgroup\":\"dla102x2_ArcFace_AdamW_rank_by_id_val, 0\",\"marker\":{\"color\":\"#FECB52\",\"symbol\":\"circle\"},\"mode\":\"markers\",\"name\":\"dla102x2_ArcFace_AdamW_rank_by_id_val, 0\",\"orientation\":\"v\",\"showlegend\":true,\"x\":[0.3265453116815087],\"xaxis\":\"x\",\"y\":[3.4267941330539546],\"yaxis\":\"y\",\"type\":\"scatter\"},{\"hovertemplate\":\"index=dla102x2_ArcFace_SGD_rank_by_id_val<br>Marker=0<br>Error=%{x}<br>Disparity=%{y}<extra></extra>\",\"legendgroup\":\"dla102x2_ArcFace_SGD_rank_by_id_val, 0\",\"marker\":{\"color\":\"#636efa\",\"symbol\":\"circle\"},\"mode\":\"markers\",\"name\":\"dla102x2_ArcFace_SGD_rank_by_id_val, 0\",\"orientation\":\"v\",\"showlegend\":true,\"x\":[0.33944473546359355],\"xaxis\":\"x\",\"y\":[4.362624410686223],\"yaxis\":\"y\",\"type\":\"scatter\"},{\"hovertemplate\":\"index=dla102x2_CosFace_AdamW_rank_by_id_val<br>Marker=0<br>Error=%{x}<br>Disparity=%{y}<extra></extra>\",\"legendgroup\":\"dla102x2_CosFace_AdamW_rank_by_id_val, 0\",\"marker\":{\"color\":\"#EF553B\",\"symbol\":\"circle\"},\"mode\":\"markers\",\"name\":\"dla102x2_CosFace_AdamW_rank_by_id_val, 0\",\"orientation\":\"v\",\"showlegend\":true,\"x\":[0.1553169198533263],\"xaxis\":\"x\",\"y\":[1.8500523834468314],\"yaxis\":\"y\",\"type\":\"scatter\"},{\"hovertemplate\":\"index=dla102x2_CosFace_sgd_rank_by_id_val<br>Marker=0<br>Error=%{x}<br>Disparity=%{y}<extra></extra>\",\"legendgroup\":\"dla102x2_CosFace_sgd_rank_by_id_val, 0\",\"marker\":{\"color\":\"#00cc96\",\"symbol\":\"circle\"},\"mode\":\"markers\",\"name\":\"dla102x2_CosFace_sgd_rank_by_id_val, 0\",\"orientation\":\"v\",\"showlegend\":true,\"x\":[0.14045311681508643],\"xaxis\":\"x\",\"y\":[2.307883708748036],\"yaxis\":\"y\",\"type\":\"scatter\"},{\"hovertemplate\":\"index=dla102x2_MagFace_AdamW_rank_by_id_val<br>Marker=0<br>Error=%{x}<br>Disparity=%{y}<extra></extra>\",\"legendgroup\":\"dla102x2_MagFace_AdamW_rank_by_id_val, 0\",\"marker\":{\"color\":\"#ab63fa\",\"symbol\":\"circle\"},\"mode\":\"markers\",\"name\":\"dla102x2_MagFace_AdamW_rank_by_id_val, 0\",\"orientation\":\"v\",\"showlegend\":true,\"x\":[0.28175746464117335],\"xaxis\":\"x\",\"y\":[3.5345730749083284],\"yaxis\":\"y\",\"type\":\"scatter\"},{\"hovertemplate\":\"index=dla102x2_MagFace_SGD_rank_by_id_val<br>Marker=0<br>Error=%{x}<br>Disparity=%{y}<extra></extra>\",\"legendgroup\":\"dla102x2_MagFace_SGD_rank_by_id_val, 0\",\"marker\":{\"color\":\"#FFA15A\",\"symbol\":\"circle\"},\"mode\":\"markers\",\"name\":\"dla102x2_MagFace_SGD_rank_by_id_val, 0\",\"orientation\":\"v\",\"showlegend\":true,\"x\":[0.3514274489261393],\"xaxis\":\"x\",\"y\":[4.414484023048716],\"yaxis\":\"y\",\"type\":\"scatter\"},{\"hovertemplate\":\"index=dpn107_ArcFace_AdamW_rank_by_id_val<br>Marker=0<br>Error=%{x}<br>Disparity=%{y}<extra></extra>\",\"legendgroup\":\"dpn107_ArcFace_AdamW_rank_by_id_val, 0\",\"marker\":{\"color\":\"#19d3f3\",\"symbol\":\"circle\"},\"mode\":\"markers\",\"name\":\"dpn107_ArcFace_AdamW_rank_by_id_val, 0\",\"orientation\":\"v\",\"showlegend\":true,\"x\":[0.44283656364588786],\"xaxis\":\"x\",\"y\":[5.004845468831848],\"yaxis\":\"y\",\"type\":\"scatter\"},{\"hovertemplate\":\"index=dpn107_ArcFace_SGD_rank_by_id_val<br>Marker=0<br>Error=%{x}<br>Disparity=%{y}<extra></extra>\",\"legendgroup\":\"dpn107_ArcFace_SGD_rank_by_id_val, 0\",\"marker\":{\"color\":\"#FF6692\",\"symbol\":\"circle\"},\"mode\":\"markers\",\"name\":\"dpn107_ArcFace_SGD_rank_by_id_val, 0\",\"orientation\":\"v\",\"showlegend\":true,\"x\":[0.08492666317443687],\"xaxis\":\"x\",\"y\":[2.487689889994762],\"yaxis\":\"y\",\"type\":\"scatter\"},{\"hovertemplate\":\"index=dpn107_CosFace_AdamW_rank_by_id_val<br>Marker=0<br>Error=%{x}<br>Disparity=%{y}<extra></extra>\",\"legendgroup\":\"dpn107_CosFace_AdamW_rank_by_id_val, 0\",\"marker\":{\"color\":\"#B6E880\",\"symbol\":\"circle\"},\"mode\":\"markers\",\"name\":\"dpn107_CosFace_AdamW_rank_by_id_val, 0\",\"orientation\":\"v\",\"showlegend\":true,\"x\":[0.05264536406495546],\"xaxis\":\"x\",\"y\":[2.4655578837087475],\"yaxis\":\"y\",\"type\":\"scatter\"},{\"hovertemplate\":\"index=dpn107_CosFace_sgd_rank_by_id_val<br>Marker=0<br>Error=%{x}<br>Disparity=%{y}<extra></extra>\",\"legendgroup\":\"dpn107_CosFace_sgd_rank_by_id_val, 0\",\"marker\":{\"color\":\"#FF97FF\",\"symbol\":\"circle\"},\"mode\":\"markers\",\"name\":\"dpn107_CosFace_sgd_rank_by_id_val, 0\",\"orientation\":\"v\",\"showlegend\":true,\"x\":[0.07071765322158197],\"xaxis\":\"x\",\"y\":[2.6537454164484022],\"yaxis\":\"y\",\"type\":\"scatter\"},{\"hovertemplate\":\"index=dpn107_MagFace_AdamW_rank_by_id_val<br>Marker=0<br>Error=%{x}<br>Disparity=%{y}<extra></extra>\",\"legendgroup\":\"dpn107_MagFace_AdamW_rank_by_id_val, 0\",\"marker\":{\"color\":\"#FECB52\",\"symbol\":\"circle\"},\"mode\":\"markers\",\"name\":\"dpn107_MagFace_AdamW_rank_by_id_val, 0\",\"orientation\":\"v\",\"showlegend\":true,\"x\":[0.4904400209533787],\"xaxis\":\"x\",\"y\":[4.926401257202724],\"yaxis\":\"y\",\"type\":\"scatter\"},{\"hovertemplate\":\"index=dpn107_MagFace_SGD_rank_by_id_val<br>Marker=0<br>Error=%{x}<br>Disparity=%{y}<extra></extra>\",\"legendgroup\":\"dpn107_MagFace_SGD_rank_by_id_val, 0\",\"marker\":{\"color\":\"#636efa\",\"symbol\":\"circle\"},\"mode\":\"markers\",\"name\":\"dpn107_MagFace_SGD_rank_by_id_val, 0\",\"orientation\":\"v\",\"showlegend\":true,\"x\":[0.15413829229963327],\"xaxis\":\"x\",\"y\":[2.9248297537977996],\"yaxis\":\"y\",\"type\":\"scatter\"},{\"hovertemplate\":\"index=ghostnet_100_ArcFace_AdamW_rank_by_id_val<br>Marker=0<br>Error=%{x}<br>Disparity=%{y}<extra></extra>\",\"legendgroup\":\"ghostnet_100_ArcFace_AdamW_rank_by_id_val, 0\",\"marker\":{\"color\":\"#EF553B\",\"symbol\":\"circle\"},\"mode\":\"markers\",\"name\":\"ghostnet_100_ArcFace_AdamW_rank_by_id_val, 0\",\"orientation\":\"v\",\"showlegend\":true,\"x\":[0.9960712414876899],\"xaxis\":\"x\",\"y\":[8.240047145102125],\"yaxis\":\"y\",\"type\":\"scatter\"},{\"hovertemplate\":\"index=ghostnet_100_ArcFace_SGD_rank_by_id_val<br>Marker=0<br>Error=%{x}<br>Disparity=%{y}<extra></extra>\",\"legendgroup\":\"ghostnet_100_ArcFace_SGD_rank_by_id_val, 0\",\"marker\":{\"color\":\"#00cc96\",\"symbol\":\"circle\"},\"mode\":\"markers\",\"name\":\"ghostnet_100_ArcFace_SGD_rank_by_id_val, 0\",\"orientation\":\"v\",\"showlegend\":true,\"x\":[0.9962022001047669],\"xaxis\":\"x\",\"y\":[22.703902566788912],\"yaxis\":\"y\",\"type\":\"scatter\"},{\"hovertemplate\":\"index=ghostnet_100_CosFace_sgd_rank_by_id_val<br>Marker=0<br>Error=%{x}<br>Disparity=%{y}<extra></extra>\",\"legendgroup\":\"ghostnet_100_CosFace_sgd_rank_by_id_val, 0\",\"marker\":{\"color\":\"#ab63fa\",\"symbol\":\"circle\"},\"mode\":\"markers\",\"name\":\"ghostnet_100_CosFace_sgd_rank_by_id_val, 0\",\"orientation\":\"v\",\"showlegend\":true,\"x\":[0.19938449449973805],\"xaxis\":\"x\",\"y\":[1.0732058669460454],\"yaxis\":\"y\",\"type\":\"scatter\"},{\"hovertemplate\":\"index=ghostnet_100_MagFace_AdamW_rank_by_id_val<br>Marker=0<br>Error=%{x}<br>Disparity=%{y}<extra></extra>\",\"legendgroup\":\"ghostnet_100_MagFace_AdamW_rank_by_id_val, 0\",\"marker\":{\"color\":\"#FFA15A\",\"symbol\":\"circle\"},\"mode\":\"markers\",\"name\":\"ghostnet_100_MagFace_AdamW_rank_by_id_val, 0\",\"orientation\":\"v\",\"showlegend\":true,\"x\":[0.4677187008905186],\"xaxis\":\"x\",\"y\":[5.686616029334729],\"yaxis\":\"y\",\"type\":\"scatter\"},{\"hovertemplate\":\"index=ghostnet_100_MagFace_SGD_rank_by_id_val<br>Marker=0<br>Error=%{x}<br>Disparity=%{y}<extra></extra>\",\"legendgroup\":\"ghostnet_100_MagFace_SGD_rank_by_id_val, 0\",\"marker\":{\"color\":\"#19d3f3\",\"symbol\":\"circle\"},\"mode\":\"markers\",\"name\":\"ghostnet_100_MagFace_SGD_rank_by_id_val, 0\",\"orientation\":\"v\",\"showlegend\":true,\"x\":[0.5693425877422734],\"xaxis\":\"x\",\"y\":[5.16867469879518],\"yaxis\":\"y\",\"type\":\"scatter\"},{\"hovertemplate\":\"index=hrnet_w64_ArcFace_AdamW_rank_by_id_val<br>Marker=0<br>Error=%{x}<br>Disparity=%{y}<extra></extra>\",\"legendgroup\":\"hrnet_w64_ArcFace_AdamW_rank_by_id_val, 0\",\"marker\":{\"color\":\"#FF6692\",\"symbol\":\"circle\"},\"mode\":\"markers\",\"name\":\"hrnet_w64_ArcFace_AdamW_rank_by_id_val, 0\",\"orientation\":\"v\",\"showlegend\":true,\"x\":[0.41612100576217914],\"xaxis\":\"x\",\"y\":[4.327396542692509],\"yaxis\":\"y\",\"type\":\"scatter\"},{\"hovertemplate\":\"index=hrnet_w64_ArcFace_SGD_rank_by_id_val<br>Marker=0<br>Error=%{x}<br>Disparity=%{y}<extra></extra>\",\"legendgroup\":\"hrnet_w64_ArcFace_SGD_rank_by_id_val, 0\",\"marker\":{\"color\":\"#B6E880\",\"symbol\":\"circle\"},\"mode\":\"markers\",\"name\":\"hrnet_w64_ArcFace_SGD_rank_by_id_val, 0\",\"orientation\":\"v\",\"showlegend\":true,\"x\":[0.34435568360398117],\"xaxis\":\"x\",\"y\":[3.8619696176008382],\"yaxis\":\"y\",\"type\":\"scatter\"},{\"hovertemplate\":\"index=hrnet_w64_CosFace_AdamW_rank_by_id_val<br>Marker=0<br>Error=%{x}<br>Disparity=%{y}<extra></extra>\",\"legendgroup\":\"hrnet_w64_CosFace_AdamW_rank_by_id_val, 0\",\"marker\":{\"color\":\"#FF97FF\",\"symbol\":\"circle\"},\"mode\":\"markers\",\"name\":\"hrnet_w64_CosFace_AdamW_rank_by_id_val, 0\",\"orientation\":\"v\",\"showlegend\":true,\"x\":[0.6132792037716082],\"xaxis\":\"x\",\"y\":[6.305264536406495],\"yaxis\":\"y\",\"type\":\"scatter\"},{\"hovertemplate\":\"index=hrnet_w64_CosFace_sgd_rank_by_id_val<br>Marker=0<br>Error=%{x}<br>Disparity=%{y}<extra></extra>\",\"legendgroup\":\"hrnet_w64_CosFace_sgd_rank_by_id_val, 0\",\"marker\":{\"color\":\"#FECB52\",\"symbol\":\"circle\"},\"mode\":\"markers\",\"name\":\"hrnet_w64_CosFace_sgd_rank_by_id_val, 0\",\"orientation\":\"v\",\"showlegend\":true,\"x\":[0.13600052383446826],\"xaxis\":\"x\",\"y\":[1.548847564169722],\"yaxis\":\"y\",\"type\":\"scatter\"},{\"hovertemplate\":\"index=hrnet_w64_MagFace_AdamW_rank_by_id_val<br>Marker=0<br>Error=%{x}<br>Disparity=%{y}<extra></extra>\",\"legendgroup\":\"hrnet_w64_MagFace_AdamW_rank_by_id_val, 0\",\"marker\":{\"color\":\"#636efa\",\"symbol\":\"circle\"},\"mode\":\"markers\",\"name\":\"hrnet_w64_MagFace_AdamW_rank_by_id_val, 0\",\"orientation\":\"v\",\"showlegend\":true,\"x\":[0.3586301728653746],\"xaxis\":\"x\",\"y\":[3.612231534834992],\"yaxis\":\"y\",\"type\":\"scatter\"},{\"hovertemplate\":\"index=hrnet_w64_MagFace_SGD_rank_by_id_val<br>Marker=0<br>Error=%{x}<br>Disparity=%{y}<extra></extra>\",\"legendgroup\":\"hrnet_w64_MagFace_SGD_rank_by_id_val, 0\",\"marker\":{\"color\":\"#EF553B\",\"symbol\":\"circle\"},\"mode\":\"markers\",\"name\":\"hrnet_w64_MagFace_SGD_rank_by_id_val, 0\",\"orientation\":\"v\",\"showlegend\":true,\"x\":[0.3333551597695128],\"xaxis\":\"x\",\"y\":[2.9252226296490313],\"yaxis\":\"y\",\"type\":\"scatter\"},{\"hovertemplate\":\"index=jx_nest_base_ArcFace_SGD_rank_by_id_val<br>Marker=0<br>Error=%{x}<br>Disparity=%{y}<extra></extra>\",\"legendgroup\":\"jx_nest_base_ArcFace_SGD_rank_by_id_val, 0\",\"marker\":{\"color\":\"#00cc96\",\"symbol\":\"circle\"},\"mode\":\"markers\",\"name\":\"jx_nest_base_ArcFace_SGD_rank_by_id_val, 0\",\"orientation\":\"v\",\"showlegend\":true,\"x\":[0.36321372446306965],\"xaxis\":\"x\",\"y\":[5.533787323205868],\"yaxis\":\"y\",\"type\":\"scatter\"},{\"hovertemplate\":\"index=jx_nest_base_CosFace_AdamW_rank_by_id_val<br>Marker=0<br>Error=%{x}<br>Disparity=%{y}<extra></extra>\",\"legendgroup\":\"jx_nest_base_CosFace_AdamW_rank_by_id_val, 0\",\"marker\":{\"color\":\"#ab63fa\",\"symbol\":\"circle\"},\"mode\":\"markers\",\"name\":\"jx_nest_base_CosFace_AdamW_rank_by_id_val, 0\",\"orientation\":\"v\",\"showlegend\":true,\"x\":[0.09952854897852281],\"xaxis\":\"x\",\"y\":[3.0755631220534316],\"yaxis\":\"y\",\"type\":\"scatter\"},{\"hovertemplate\":\"index=jx_nest_base_CosFace_SGD_rank_by_id_val<br>Marker=0<br>Error=%{x}<br>Disparity=%{y}<extra></extra>\",\"legendgroup\":\"jx_nest_base_CosFace_SGD_rank_by_id_val, 0\",\"marker\":{\"color\":\"#FFA15A\",\"symbol\":\"circle\"},\"mode\":\"markers\",\"name\":\"jx_nest_base_CosFace_SGD_rank_by_id_val, 0\",\"orientation\":\"v\",\"showlegend\":true,\"x\":[0.10718962807752752],\"xaxis\":\"x\",\"y\":[2.0272393923520173],\"yaxis\":\"y\",\"type\":\"scatter\"},{\"hovertemplate\":\"index=jx_nest_base_MagFace_AdamW_rank_by_id_val<br>Marker=0<br>Error=%{x}<br>Disparity=%{y}<extra></extra>\",\"legendgroup\":\"jx_nest_base_MagFace_AdamW_rank_by_id_val, 0\",\"marker\":{\"color\":\"#19d3f3\",\"symbol\":\"circle\"},\"mode\":\"markers\",\"name\":\"jx_nest_base_MagFace_AdamW_rank_by_id_val, 0\",\"orientation\":\"v\",\"showlegend\":true,\"x\":[0.3211760083813515],\"xaxis\":\"x\",\"y\":[3.156102671555788],\"yaxis\":\"y\",\"type\":\"scatter\"},{\"hovertemplate\":\"index=jx_nest_base_MagFace_SGD_rank_by_id_val<br>Marker=0<br>Error=%{x}<br>Disparity=%{y}<extra></extra>\",\"legendgroup\":\"jx_nest_base_MagFace_SGD_rank_by_id_val, 0\",\"marker\":{\"color\":\"#FF6692\",\"symbol\":\"circle\"},\"mode\":\"markers\",\"name\":\"jx_nest_base_MagFace_SGD_rank_by_id_val, 0\",\"orientation\":\"v\",\"showlegend\":true,\"x\":[0.8055264536406496],\"xaxis\":\"x\",\"y\":[11.236249345206915],\"yaxis\":\"y\",\"type\":\"scatter\"},{\"hovertemplate\":\"index=swin_base_patch4_window7_224_ArcFace_AdamW_rank_by_id_val<br>Marker=0<br>Error=%{x}<br>Disparity=%{y}<extra></extra>\",\"legendgroup\":\"swin_base_patch4_window7_224_ArcFace_AdamW_rank_by_id_val, 0\",\"marker\":{\"color\":\"#B6E880\",\"symbol\":\"circle\"},\"mode\":\"markers\",\"name\":\"swin_base_patch4_window7_224_ArcFace_AdamW_rank_by_id_val, 0\",\"orientation\":\"v\",\"showlegend\":true,\"x\":[0.4401519119958093],\"xaxis\":\"x\",\"y\":[4.739392352016763],\"yaxis\":\"y\",\"type\":\"scatter\"},{\"hovertemplate\":\"index=swin_base_patch4_window7_224_ArcFace_SGD_rank_by_id_val<br>Marker=0<br>Error=%{x}<br>Disparity=%{y}<extra></extra>\",\"legendgroup\":\"swin_base_patch4_window7_224_ArcFace_SGD_rank_by_id_val, 0\",\"marker\":{\"color\":\"#FF97FF\",\"symbol\":\"circle\"},\"mode\":\"markers\",\"name\":\"swin_base_patch4_window7_224_ArcFace_SGD_rank_by_id_val, 0\",\"orientation\":\"v\",\"showlegend\":true,\"x\":[0.963986380303824],\"xaxis\":\"x\",\"y\":[28.426401257202713],\"yaxis\":\"y\",\"type\":\"scatter\"},{\"hovertemplate\":\"index=swin_base_patch4_window7_224_CosFace_Adam_rank_by_id_val<br>Marker=0<br>Error=%{x}<br>Disparity=%{y}<extra></extra>\",\"legendgroup\":\"swin_base_patch4_window7_224_CosFace_Adam_rank_by_id_val, 0\",\"marker\":{\"color\":\"#FECB52\",\"symbol\":\"circle\"},\"mode\":\"markers\",\"name\":\"swin_base_patch4_window7_224_CosFace_Adam_rank_by_id_val, 0\",\"orientation\":\"v\",\"showlegend\":true,\"x\":[0.1627815610267156],\"xaxis\":\"x\",\"y\":[2.544656888423258],\"yaxis\":\"y\",\"type\":\"scatter\"},{\"hovertemplate\":\"index=swin_base_patch4_window7_224_CosFace_AdamW_rank_by_id_val<br>Marker=0<br>Error=%{x}<br>Disparity=%{y}<extra></extra>\",\"legendgroup\":\"swin_base_patch4_window7_224_CosFace_AdamW_rank_by_id_val, 0\",\"marker\":{\"color\":\"#636efa\",\"symbol\":\"circle\"},\"mode\":\"markers\",\"name\":\"swin_base_patch4_window7_224_CosFace_AdamW_rank_by_id_val, 0\",\"orientation\":\"v\",\"showlegend\":true,\"x\":[0.16147197485594555],\"xaxis\":\"x\",\"y\":[2.6461498166579362],\"yaxis\":\"y\",\"type\":\"scatter\"},{\"hovertemplate\":\"index=swin_base_patch4_window7_224_CosFace_SGD_rank_by_id_val<br>Marker=0<br>Error=%{x}<br>Disparity=%{y}<extra></extra>\",\"legendgroup\":\"swin_base_patch4_window7_224_CosFace_SGD_rank_by_id_val, 0\",\"marker\":{\"color\":\"#EF553B\",\"symbol\":\"circle\"},\"mode\":\"markers\",\"name\":\"swin_base_patch4_window7_224_CosFace_SGD_rank_by_id_val, 0\",\"orientation\":\"v\",\"showlegend\":true,\"x\":[0.9668674698795181],\"xaxis\":\"x\",\"y\":[29.339182818229403],\"yaxis\":\"y\",\"type\":\"scatter\"},{\"hovertemplate\":\"index=swin_base_patch4_window7_224_MagFace_AdamW_rank_by_id_val<br>Marker=0<br>Error=%{x}<br>Disparity=%{y}<extra></extra>\",\"legendgroup\":\"swin_base_patch4_window7_224_MagFace_AdamW_rank_by_id_val, 0\",\"marker\":{\"color\":\"#00cc96\",\"symbol\":\"circle\"},\"mode\":\"markers\",\"name\":\"swin_base_patch4_window7_224_MagFace_AdamW_rank_by_id_val, 0\",\"orientation\":\"v\",\"showlegend\":true,\"x\":[0.19257464641173394],\"xaxis\":\"x\",\"y\":[2.9690937663698267],\"yaxis\":\"y\",\"type\":\"scatter\"},{\"hovertemplate\":\"index=swin_base_patch4_window7_224_MagFace_SGD_rank_by_id_val<br>Marker=0<br>Error=%{x}<br>Disparity=%{y}<extra></extra>\",\"legendgroup\":\"swin_base_patch4_window7_224_MagFace_SGD_rank_by_id_val, 0\",\"marker\":{\"color\":\"#ab63fa\",\"symbol\":\"circle\"},\"mode\":\"markers\",\"name\":\"swin_base_patch4_window7_224_MagFace_SGD_rank_by_id_val, 0\",\"orientation\":\"v\",\"showlegend\":true,\"x\":[0.9575039287585123],\"xaxis\":\"x\",\"y\":[34.96778418019903],\"yaxis\":\"y\",\"type\":\"scatter\"},{\"hovertemplate\":\"index=tf_efficientnet_b7_ns_ArcFace_AdamW_rank_by_id_val<br>Marker=0<br>Error=%{x}<br>Disparity=%{y}<extra></extra>\",\"legendgroup\":\"tf_efficientnet_b7_ns_ArcFace_AdamW_rank_by_id_val, 0\",\"marker\":{\"color\":\"#FFA15A\",\"symbol\":\"circle\"},\"mode\":\"markers\",\"name\":\"tf_efficientnet_b7_ns_ArcFace_AdamW_rank_by_id_val, 0\",\"orientation\":\"v\",\"showlegend\":true,\"x\":[0.9977082242011525],\"xaxis\":\"x\",\"y\":[2.697354635935028],\"yaxis\":\"y\",\"type\":\"scatter\"},{\"hovertemplate\":\"index=tf_efficientnet_b7_ns_ArcFace_SGD_rank_by_id_val<br>Marker=0<br>Error=%{x}<br>Disparity=%{y}<extra></extra>\",\"legendgroup\":\"tf_efficientnet_b7_ns_ArcFace_SGD_rank_by_id_val, 0\",\"marker\":{\"color\":\"#19d3f3\",\"symbol\":\"circle\"},\"mode\":\"markers\",\"name\":\"tf_efficientnet_b7_ns_ArcFace_SGD_rank_by_id_val, 0\",\"orientation\":\"v\",\"showlegend\":true,\"x\":[0.9970534311157674],\"xaxis\":\"x\",\"y\":[1.4457831325301527],\"yaxis\":\"y\",\"type\":\"scatter\"},{\"hovertemplate\":\"index=tf_efficientnet_b7_ns_CosFace_AdamW_rank_by_id_val<br>Marker=0<br>Error=%{x}<br>Disparity=%{y}<extra></extra>\",\"legendgroup\":\"tf_efficientnet_b7_ns_CosFace_AdamW_rank_by_id_val, 0\",\"marker\":{\"color\":\"#FF6692\",\"symbol\":\"circle\"},\"mode\":\"markers\",\"name\":\"tf_efficientnet_b7_ns_CosFace_AdamW_rank_by_id_val, 0\",\"orientation\":\"v\",\"showlegend\":true,\"x\":[0.20390256678889473],\"xaxis\":\"x\",\"y\":[2.956390780513358],\"yaxis\":\"y\",\"type\":\"scatter\"},{\"hovertemplate\":\"index=tf_efficientnet_b7_ns_CosFace_SGD_rank_by_id_val<br>Marker=0<br>Error=%{x}<br>Disparity=%{y}<extra></extra>\",\"legendgroup\":\"tf_efficientnet_b7_ns_CosFace_SGD_rank_by_id_val, 0\",\"marker\":{\"color\":\"#B6E880\",\"symbol\":\"circle\"},\"mode\":\"markers\",\"name\":\"tf_efficientnet_b7_ns_CosFace_SGD_rank_by_id_val, 0\",\"orientation\":\"v\",\"showlegend\":true,\"x\":[0.1506678889470927],\"xaxis\":\"x\",\"y\":[4.17784180199057],\"yaxis\":\"y\",\"type\":\"scatter\"},{\"hovertemplate\":\"index=tf_efficientnet_b7_ns_CosFace_rmsproptf_rank_by_id_val<br>Marker=0<br>Error=%{x}<br>Disparity=%{y}<extra></extra>\",\"legendgroup\":\"tf_efficientnet_b7_ns_CosFace_rmsproptf_rank_by_id_val, 0\",\"marker\":{\"color\":\"#FF97FF\",\"symbol\":\"circle\"},\"mode\":\"markers\",\"name\":\"tf_efficientnet_b7_ns_CosFace_rmsproptf_rank_by_id_val, 0\",\"orientation\":\"v\",\"showlegend\":true,\"x\":[0.10535620743844942],\"xaxis\":\"x\",\"y\":[2.314824515453117],\"yaxis\":\"y\",\"type\":\"scatter\"},{\"hovertemplate\":\"index=tf_efficientnet_b7_ns_MagFace_AdamW_rank_by_id_val<br>Marker=0<br>Error=%{x}<br>Disparity=%{y}<extra></extra>\",\"legendgroup\":\"tf_efficientnet_b7_ns_MagFace_AdamW_rank_by_id_val, 0\",\"marker\":{\"color\":\"#FECB52\",\"symbol\":\"circle\"},\"mode\":\"markers\",\"name\":\"tf_efficientnet_b7_ns_MagFace_AdamW_rank_by_id_val, 0\",\"orientation\":\"v\",\"showlegend\":true,\"x\":[0.7048192771084337],\"xaxis\":\"x\",\"y\":[8.973546359350445],\"yaxis\":\"y\",\"type\":\"scatter\"},{\"hovertemplate\":\"index=tf_efficientnet_b7_ns_MagFace_SGD_rank_by_id_val<br>Marker=0<br>Error=%{x}<br>Disparity=%{y}<extra></extra>\",\"legendgroup\":\"tf_efficientnet_b7_ns_MagFace_SGD_rank_by_id_val, 0\",\"marker\":{\"color\":\"#636efa\",\"symbol\":\"circle\"},\"mode\":\"markers\",\"name\":\"tf_efficientnet_b7_ns_MagFace_SGD_rank_by_id_val, 0\",\"orientation\":\"v\",\"showlegend\":true,\"x\":[0.8178365636458879],\"xaxis\":\"x\",\"y\":[11.345599790466217],\"yaxis\":\"y\",\"type\":\"scatter\"},{\"hovertemplate\":\"index=twins_svt_large_CosFace_SGD_rank_by_id_val<br>Marker=0<br>Error=%{x}<br>Disparity=%{y}<extra></extra>\",\"legendgroup\":\"twins_svt_large_CosFace_SGD_rank_by_id_val, 0\",\"marker\":{\"color\":\"#EF553B\",\"symbol\":\"circle\"},\"mode\":\"markers\",\"name\":\"twins_svt_large_CosFace_SGD_rank_by_id_val, 0\",\"orientation\":\"v\",\"showlegend\":true,\"x\":[0.3237951807228916],\"xaxis\":\"x\",\"y\":[7.761131482451544],\"yaxis\":\"y\",\"type\":\"scatter\"},{\"hovertemplate\":\"index=twins_svt_large_MagFace_SGD_rank_by_id_val<br>Marker=0<br>Error=%{x}<br>Disparity=%{y}<extra></extra>\",\"legendgroup\":\"twins_svt_large_MagFace_SGD_rank_by_id_val, 0\",\"marker\":{\"color\":\"#00cc96\",\"symbol\":\"circle\"},\"mode\":\"markers\",\"name\":\"twins_svt_large_MagFace_SGD_rank_by_id_val, 0\",\"orientation\":\"v\",\"showlegend\":true,\"x\":[0.7593635411210058],\"xaxis\":\"x\",\"y\":[14.007595599790463],\"yaxis\":\"y\",\"type\":\"scatter\"},{\"hovertemplate\":\"index=_rank_by_id_val<br>Marker=10<br>Error=%{x}<br>Disparity=%{y}<extra></extra>\",\"legendgroup\":\"_rank_by_id_val, 10\",\"marker\":{\"color\":\"#ab63fa\",\"symbol\":\"diamond\"},\"mode\":\"markers\",\"name\":\"_rank_by_id_val, 10\",\"orientation\":\"v\",\"showlegend\":true,\"x\":[0.03326348873755891],\"xaxis\":\"x\",\"y\":[1.4084599266631743],\"yaxis\":\"y\",\"type\":\"scatter\"}],                        {\"template\":{\"data\":{\"histogram2dcontour\":[{\"type\":\"histogram2dcontour\",\"colorbar\":{\"outlinewidth\":0,\"ticks\":\"\"},\"colorscale\":[[0.0,\"#0d0887\"],[0.1111111111111111,\"#46039f\"],[0.2222222222222222,\"#7201a8\"],[0.3333333333333333,\"#9c179e\"],[0.4444444444444444,\"#bd3786\"],[0.5555555555555556,\"#d8576b\"],[0.6666666666666666,\"#ed7953\"],[0.7777777777777778,\"#fb9f3a\"],[0.8888888888888888,\"#fdca26\"],[1.0,\"#f0f921\"]]}],\"choropleth\":[{\"type\":\"choropleth\",\"colorbar\":{\"outlinewidth\":0,\"ticks\":\"\"}}],\"histogram2d\":[{\"type\":\"histogram2d\",\"colorbar\":{\"outlinewidth\":0,\"ticks\":\"\"},\"colorscale\":[[0.0,\"#0d0887\"],[0.1111111111111111,\"#46039f\"],[0.2222222222222222,\"#7201a8\"],[0.3333333333333333,\"#9c179e\"],[0.4444444444444444,\"#bd3786\"],[0.5555555555555556,\"#d8576b\"],[0.6666666666666666,\"#ed7953\"],[0.7777777777777778,\"#fb9f3a\"],[0.8888888888888888,\"#fdca26\"],[1.0,\"#f0f921\"]]}],\"heatmap\":[{\"type\":\"heatmap\",\"colorbar\":{\"outlinewidth\":0,\"ticks\":\"\"},\"colorscale\":[[0.0,\"#0d0887\"],[0.1111111111111111,\"#46039f\"],[0.2222222222222222,\"#7201a8\"],[0.3333333333333333,\"#9c179e\"],[0.4444444444444444,\"#bd3786\"],[0.5555555555555556,\"#d8576b\"],[0.6666666666666666,\"#ed7953\"],[0.7777777777777778,\"#fb9f3a\"],[0.8888888888888888,\"#fdca26\"],[1.0,\"#f0f921\"]]}],\"heatmapgl\":[{\"type\":\"heatmapgl\",\"colorbar\":{\"outlinewidth\":0,\"ticks\":\"\"},\"colorscale\":[[0.0,\"#0d0887\"],[0.1111111111111111,\"#46039f\"],[0.2222222222222222,\"#7201a8\"],[0.3333333333333333,\"#9c179e\"],[0.4444444444444444,\"#bd3786\"],[0.5555555555555556,\"#d8576b\"],[0.6666666666666666,\"#ed7953\"],[0.7777777777777778,\"#fb9f3a\"],[0.8888888888888888,\"#fdca26\"],[1.0,\"#f0f921\"]]}],\"contourcarpet\":[{\"type\":\"contourcarpet\",\"colorbar\":{\"outlinewidth\":0,\"ticks\":\"\"}}],\"contour\":[{\"type\":\"contour\",\"colorbar\":{\"outlinewidth\":0,\"ticks\":\"\"},\"colorscale\":[[0.0,\"#0d0887\"],[0.1111111111111111,\"#46039f\"],[0.2222222222222222,\"#7201a8\"],[0.3333333333333333,\"#9c179e\"],[0.4444444444444444,\"#bd3786\"],[0.5555555555555556,\"#d8576b\"],[0.6666666666666666,\"#ed7953\"],[0.7777777777777778,\"#fb9f3a\"],[0.8888888888888888,\"#fdca26\"],[1.0,\"#f0f921\"]]}],\"surface\":[{\"type\":\"surface\",\"colorbar\":{\"outlinewidth\":0,\"ticks\":\"\"},\"colorscale\":[[0.0,\"#0d0887\"],[0.1111111111111111,\"#46039f\"],[0.2222222222222222,\"#7201a8\"],[0.3333333333333333,\"#9c179e\"],[0.4444444444444444,\"#bd3786\"],[0.5555555555555556,\"#d8576b\"],[0.6666666666666666,\"#ed7953\"],[0.7777777777777778,\"#fb9f3a\"],[0.8888888888888888,\"#fdca26\"],[1.0,\"#f0f921\"]]}],\"mesh3d\":[{\"type\":\"mesh3d\",\"colorbar\":{\"outlinewidth\":0,\"ticks\":\"\"}}],\"scatter\":[{\"fillpattern\":{\"fillmode\":\"overlay\",\"size\":10,\"solidity\":0.2},\"type\":\"scatter\"}],\"parcoords\":[{\"type\":\"parcoords\",\"line\":{\"colorbar\":{\"outlinewidth\":0,\"ticks\":\"\"}}}],\"scatterpolargl\":[{\"type\":\"scatterpolargl\",\"marker\":{\"colorbar\":{\"outlinewidth\":0,\"ticks\":\"\"}}}],\"bar\":[{\"error_x\":{\"color\":\"#2a3f5f\"},\"error_y\":{\"color\":\"#2a3f5f\"},\"marker\":{\"line\":{\"color\":\"#E5ECF6\",\"width\":0.5},\"pattern\":{\"fillmode\":\"overlay\",\"size\":10,\"solidity\":0.2}},\"type\":\"bar\"}],\"scattergeo\":[{\"type\":\"scattergeo\",\"marker\":{\"colorbar\":{\"outlinewidth\":0,\"ticks\":\"\"}}}],\"scatterpolar\":[{\"type\":\"scatterpolar\",\"marker\":{\"colorbar\":{\"outlinewidth\":0,\"ticks\":\"\"}}}],\"histogram\":[{\"marker\":{\"pattern\":{\"fillmode\":\"overlay\",\"size\":10,\"solidity\":0.2}},\"type\":\"histogram\"}],\"scattergl\":[{\"type\":\"scattergl\",\"marker\":{\"colorbar\":{\"outlinewidth\":0,\"ticks\":\"\"}}}],\"scatter3d\":[{\"type\":\"scatter3d\",\"line\":{\"colorbar\":{\"outlinewidth\":0,\"ticks\":\"\"}},\"marker\":{\"colorbar\":{\"outlinewidth\":0,\"ticks\":\"\"}}}],\"scattermapbox\":[{\"type\":\"scattermapbox\",\"marker\":{\"colorbar\":{\"outlinewidth\":0,\"ticks\":\"\"}}}],\"scatterternary\":[{\"type\":\"scatterternary\",\"marker\":{\"colorbar\":{\"outlinewidth\":0,\"ticks\":\"\"}}}],\"scattercarpet\":[{\"type\":\"scattercarpet\",\"marker\":{\"colorbar\":{\"outlinewidth\":0,\"ticks\":\"\"}}}],\"carpet\":[{\"aaxis\":{\"endlinecolor\":\"#2a3f5f\",\"gridcolor\":\"white\",\"linecolor\":\"white\",\"minorgridcolor\":\"white\",\"startlinecolor\":\"#2a3f5f\"},\"baxis\":{\"endlinecolor\":\"#2a3f5f\",\"gridcolor\":\"white\",\"linecolor\":\"white\",\"minorgridcolor\":\"white\",\"startlinecolor\":\"#2a3f5f\"},\"type\":\"carpet\"}],\"table\":[{\"cells\":{\"fill\":{\"color\":\"#EBF0F8\"},\"line\":{\"color\":\"white\"}},\"header\":{\"fill\":{\"color\":\"#C8D4E3\"},\"line\":{\"color\":\"white\"}},\"type\":\"table\"}],\"barpolar\":[{\"marker\":{\"line\":{\"color\":\"#E5ECF6\",\"width\":0.5},\"pattern\":{\"fillmode\":\"overlay\",\"size\":10,\"solidity\":0.2}},\"type\":\"barpolar\"}],\"pie\":[{\"automargin\":true,\"type\":\"pie\"}]},\"layout\":{\"autotypenumbers\":\"strict\",\"colorway\":[\"#636efa\",\"#EF553B\",\"#00cc96\",\"#ab63fa\",\"#FFA15A\",\"#19d3f3\",\"#FF6692\",\"#B6E880\",\"#FF97FF\",\"#FECB52\"],\"font\":{\"color\":\"#2a3f5f\"},\"hovermode\":\"closest\",\"hoverlabel\":{\"align\":\"left\"},\"paper_bgcolor\":\"white\",\"plot_bgcolor\":\"#E5ECF6\",\"polar\":{\"bgcolor\":\"#E5ECF6\",\"angularaxis\":{\"gridcolor\":\"white\",\"linecolor\":\"white\",\"ticks\":\"\"},\"radialaxis\":{\"gridcolor\":\"white\",\"linecolor\":\"white\",\"ticks\":\"\"}},\"ternary\":{\"bgcolor\":\"#E5ECF6\",\"aaxis\":{\"gridcolor\":\"white\",\"linecolor\":\"white\",\"ticks\":\"\"},\"baxis\":{\"gridcolor\":\"white\",\"linecolor\":\"white\",\"ticks\":\"\"},\"caxis\":{\"gridcolor\":\"white\",\"linecolor\":\"white\",\"ticks\":\"\"}},\"coloraxis\":{\"colorbar\":{\"outlinewidth\":0,\"ticks\":\"\"}},\"colorscale\":{\"sequential\":[[0.0,\"#0d0887\"],[0.1111111111111111,\"#46039f\"],[0.2222222222222222,\"#7201a8\"],[0.3333333333333333,\"#9c179e\"],[0.4444444444444444,\"#bd3786\"],[0.5555555555555556,\"#d8576b\"],[0.6666666666666666,\"#ed7953\"],[0.7777777777777778,\"#fb9f3a\"],[0.8888888888888888,\"#fdca26\"],[1.0,\"#f0f921\"]],\"sequentialminus\":[[0.0,\"#0d0887\"],[0.1111111111111111,\"#46039f\"],[0.2222222222222222,\"#7201a8\"],[0.3333333333333333,\"#9c179e\"],[0.4444444444444444,\"#bd3786\"],[0.5555555555555556,\"#d8576b\"],[0.6666666666666666,\"#ed7953\"],[0.7777777777777778,\"#fb9f3a\"],[0.8888888888888888,\"#fdca26\"],[1.0,\"#f0f921\"]],\"diverging\":[[0,\"#8e0152\"],[0.1,\"#c51b7d\"],[0.2,\"#de77ae\"],[0.3,\"#f1b6da\"],[0.4,\"#fde0ef\"],[0.5,\"#f7f7f7\"],[0.6,\"#e6f5d0\"],[0.7,\"#b8e186\"],[0.8,\"#7fbc41\"],[0.9,\"#4d9221\"],[1,\"#276419\"]]},\"xaxis\":{\"gridcolor\":\"white\",\"linecolor\":\"white\",\"ticks\":\"\",\"title\":{\"standoff\":15},\"zerolinecolor\":\"white\",\"automargin\":true,\"zerolinewidth\":2},\"yaxis\":{\"gridcolor\":\"white\",\"linecolor\":\"white\",\"ticks\":\"\",\"title\":{\"standoff\":15},\"zerolinecolor\":\"white\",\"automargin\":true,\"zerolinewidth\":2},\"scene\":{\"xaxis\":{\"backgroundcolor\":\"#E5ECF6\",\"gridcolor\":\"white\",\"linecolor\":\"white\",\"showbackground\":true,\"ticks\":\"\",\"zerolinecolor\":\"white\",\"gridwidth\":2},\"yaxis\":{\"backgroundcolor\":\"#E5ECF6\",\"gridcolor\":\"white\",\"linecolor\":\"white\",\"showbackground\":true,\"ticks\":\"\",\"zerolinecolor\":\"white\",\"gridwidth\":2},\"zaxis\":{\"backgroundcolor\":\"#E5ECF6\",\"gridcolor\":\"white\",\"linecolor\":\"white\",\"showbackground\":true,\"ticks\":\"\",\"zerolinecolor\":\"white\",\"gridwidth\":2}},\"shapedefaults\":{\"line\":{\"color\":\"#2a3f5f\"}},\"annotationdefaults\":{\"arrowcolor\":\"#2a3f5f\",\"arrowhead\":0,\"arrowwidth\":1},\"geo\":{\"bgcolor\":\"white\",\"landcolor\":\"#E5ECF6\",\"subunitcolor\":\"white\",\"showland\":true,\"showlakes\":true,\"lakecolor\":\"white\"},\"title\":{\"x\":0.05},\"mapbox\":{\"style\":\"light\"}}},\"xaxis\":{\"anchor\":\"y\",\"domain\":[0.0,1.0],\"title\":{\"text\":\"Error\"}},\"yaxis\":{\"anchor\":\"x\",\"domain\":[0.0,1.0],\"title\":{\"text\":\"Rank Disparity |Rank[male]-Rank[female]|\"},\"range\":[-0.05,3.5]},\"legend\":{\"title\":{\"text\":\"index, Marker\"},\"tracegroupgap\":0},\"margin\":{\"t\":60},\"shapes\":[{\"line\":{\"color\":\"Red\"},\"type\":\"line\",\"x0\":0,\"x1\":1,\"xref\":\"x\",\"y0\":0,\"y1\":0,\"yref\":\"y\"},{\"line\":{\"color\":\"gray\",\"dash\":\"dash\"},\"type\":\"line\",\"x0\":0.036210057621791525,\"x1\":0.05159769512833945,\"xref\":\"x\",\"y0\":2.0417757988475644,\"y1\":1.9494499738082771,\"yref\":\"y\"},{\"line\":{\"color\":\"gray\",\"dash\":\"dash\"},\"type\":\"line\",\"x0\":0.05159769512833945,\"x1\":0.08492666317443687,\"xref\":\"x\",\"y0\":1.9494499738082771,\"y1\":1.5644316396018856,\"yref\":\"y\"},{\"line\":{\"color\":\"gray\",\"dash\":\"dash\"},\"type\":\"line\",\"x0\":0.08492666317443687,\"x1\":0.09749869041382919,\"xref\":\"x\",\"y0\":1.5644316396018856,\"y1\":1.2378208486118387,\"yref\":\"y\"},{\"line\":{\"color\":\"gray\",\"dash\":\"dash\"},\"type\":\"line\",\"x0\":0.09749869041382919,\"x1\":0.14333420639078054,\"xref\":\"x\",\"y0\":1.2378208486118387,\"y1\":0.4989523310633839,\"yref\":\"y\"},{\"line\":{\"color\":\"gray\",\"dash\":\"dash\"},\"type\":\"line\",\"x0\":0.14333420639078054,\"x1\":0.20095599790466212,\"xref\":\"x\",\"y0\":0.4989523310633839,\"y1\":0.313383970665269,\"yref\":\"y\"},{\"line\":{\"color\":\"gray\",\"dash\":\"dash\"},\"type\":\"line\",\"x0\":0.20095599790466212,\"x1\":0.21149816657936094,\"xref\":\"x\",\"y0\":0.313383970665269,\"y1\":0.07242011524358283,\"yref\":\"y\"}]},                        {\"responsive\": true}                    ).then(function(){\n",
       "                            \n",
       "var gd = document.getElementById('177a6db5-ad20-463b-8626-495865735cfa');\n",
       "var x = new MutationObserver(function (mutations, observer) {{\n",
       "        var display = window.getComputedStyle(gd).display;\n",
       "        if (!display || display === 'none') {{\n",
       "            console.log([gd, 'removed!']);\n",
       "            Plotly.purge(gd);\n",
       "            observer.disconnect();\n",
       "        }}\n",
       "}});\n",
       "\n",
       "// Listen for the removal of the full notebook cells\n",
       "var notebookContainer = gd.closest('#notebook-container');\n",
       "if (notebookContainer) {{\n",
       "    x.observe(notebookContainer, {childList: true});\n",
       "}}\n",
       "\n",
       "// Listen for the clearing of the current output cell\n",
       "var outputEl = gd.closest('.output');\n",
       "if (outputEl) {{\n",
       "    x.observe(outputEl, {childList: true});\n",
       "}}\n",
       "\n",
       "                        })                };                });            </script>        </div>"
      ]
     },
     "metadata": {},
     "output_type": "display_data"
    }
   ],
   "source": [
    "df = merge(acc_df, rank_df)\n",
    "\n",
    "print(df.head())\n",
    "df = df.dropna()\n",
    "\n",
    "df = df[df['Accuracy']>1/(7636*2)]\n",
    "df[\"Accuracy\"]=1-df[\"Accuracy\"]\n",
    "df = df.rename(columns={'Accuracy':'Error'})\n",
    "df2 = df[df[\"index\"] !=\"_rank_by_id_val\"]\n",
    "df3 = df[df[\"index\"] ==\"_rank_by_id_val\"]\n",
    "marker = []\n",
    "size =[]\n",
    "for i in range(df.shape[0]):\n",
    "    if df.iloc[i][\"index\"]==\"_rank_by_id_val\":\n",
    "        marker.append(10)\n",
    "        size.append(0.005)\n",
    "    else:\n",
    "        marker.append(0)\n",
    "        size.append(0.001)\n",
    "\n",
    "df[\"Marker\"]=marker\n",
    "df[\"size\"] = size\n",
    "fig = px.scatter(df, x='Error', y='Disparity', color='index', symbol = df['Marker'])\n",
    "fig.update_layout(\n",
    "    yaxis_title=\"Rank Disparity |Rank[male]-Rank[female]|\",\n",
    "    yaxis_range=[-.05,3.5]\n",
    ")\n",
    "fig.add_shape(type='line',\n",
    "                x0=0,y0=0,x1=1,y1=0,\n",
    "                line=dict(color='Red',),\n",
    "                xref='x',yref='y'\n",
    ")\n",
    "p = np.array(preparePareto(df2[['Error','Disparity']], False, False).dropna())\n",
    "for x, y in zip(p[:-1], p[1:]):\n",
    "    fig.add_shape(type='line',\n",
    "                x0=x[0],y0=x[1],x1=y[0],y1=y[1],\n",
    "                line=dict(color='gray',),line_dash='dash',\n",
    "                xref='x',yref='y')\n",
    "\n",
    "fig.show()"
   ]
  },
  {
   "cell_type": "code",
   "execution_count": 55,
   "id": "9ebb744e",
   "metadata": {},
   "outputs": [
    {
     "name": "stdout",
     "output_type": "stream",
     "text": [
      "The number of timm models: 29\n",
      "The number of training runs completed: 355\n",
      "The number of training runs which performed better than random: 283\n"
     ]
    }
   ],
   "source": [
    "print(f'The number of timm models: {len(models)}')\n",
    "print(f'The number of training runs completed: {len(rank_files_Phase1)}')\n",
    "print(f'The number of training runs which performed better than random: {df.shape[0]}')"
   ]
  },
  {
   "cell_type": "code",
   "execution_count": 37,
   "id": "fbcdc73c",
   "metadata": {},
   "outputs": [
    {
     "data": {
      "text/plain": [
       "(298, 4)"
      ]
     },
     "execution_count": 37,
     "metadata": {},
     "output_type": "execute_result"
    }
   ],
   "source": [
    "df.shape"
   ]
  },
  {
   "cell_type": "code",
   "execution_count": null,
   "id": "d0b6da0d",
   "metadata": {},
   "outputs": [],
   "source": []
  }
 ],
 "metadata": {
  "kernelspec": {
   "display_name": "Python 3.8.10 64-bit",
   "language": "python",
   "name": "python3"
  },
  "language_info": {
   "codemirror_mode": {
    "name": "ipython",
    "version": 3
   },
   "file_extension": ".py",
   "mimetype": "text/x-python",
   "name": "python",
   "nbconvert_exporter": "python",
   "pygments_lexer": "ipython3",
   "version": "3.8.10"
  },
  "vscode": {
   "interpreter": {
    "hash": "31f2aee4e71d21fbe5cf8b01ff0e069b9275f58929596ceb00d14d90e3e16cd6"
   }
  }
 },
 "nbformat": 4,
 "nbformat_minor": 5
}
