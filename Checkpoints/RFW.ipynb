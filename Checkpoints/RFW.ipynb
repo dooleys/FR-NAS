{
 "cells": [
  {
   "cell_type": "code",
   "execution_count": 1,
   "id": "a9697392",
   "metadata": {},
   "outputs": [],
   "source": [
    "import pandas as pd\n",
    "import numpy as np\n",
    "import os\n",
    "from analysis import *\n",
    "import glob\n",
    "import string\n",
    "import plotly.graph_objects as go"
   ]
  },
  {
   "cell_type": "code",
   "execution_count": 2,
   "id": "f70bc6fc",
   "metadata": {},
   "outputs": [],
   "source": [
    "colors = ['#e6194B', '#3cb44b', '#ffe119','#f58231','#42d4f4',\n",
    "          '#f032e6','#fabed4','#469990','#aaffc3','#000075','#e6194B','#9a6324','#dcbeff']\n",
    "plotted_models = ['DPN','ReXNet', 'EseVoVNet', 'TNT', 'Inception', 'HRNet', 'MobileNet', 'VGG19', 'ResNet-RS', \n",
    "                 'DenseNet', 'DPN_Magface', 'DPN_Cosface', 'SMAC']"
   ]
  },
  {
   "cell_type": "markdown",
   "id": "561993c0",
   "metadata": {},
   "source": [
    "## Setup"
   ]
  },
  {
   "cell_type": "code",
   "execution_count": null,
   "id": "e8248bc2",
   "metadata": {},
   "outputs": [],
   "source": [
    "# import pandas as pd\n",
    "# import numpy as np\n",
    "# import os\n",
    "# from analysis import *\n",
    "# import glob\n",
    "# import plotly.io as pio\n",
    "# pio.renderers.default = 'notebook'\n",
    "# pd.options.mode.chained_assignment = None  # default='warn'\n",
    "# import warnings\n",
    "# warnings.simplefilter(action='ignore', category=FutureWarning)"
   ]
  },
  {
   "cell_type": "code",
   "execution_count": null,
   "id": "b9b6a9f1",
   "metadata": {},
   "outputs": [],
   "source": [
    "# metadata = pd.read_csv('RFW_test_identities_ethnicity.csv')\n",
    "# AfAs = metadata[np.logical_or(metadata.ethnicity == 'African', metadata.ethnicity == 'Asian')]\n",
    "# AfAs['gender_expression'] = AfAs.ethnicity.map(lambda x: 'male' if x == 'African' else 'female' )\n",
    "# AfAs.to_csv('RFW_AfAs_test_identities_ethnicity.csv')\n",
    "# AfCa = metadata[np.logical_or(metadata.ethnicity == 'African', metadata.ethnicity == 'Caucasian')]\n",
    "# AfCa['gender_expression'] = AfCa.ethnicity.map(lambda x: 'male' if x == 'African' else 'female' )\n",
    "# AfCa.to_csv('RFW_AfCa_test_identities_ethnicity.csv')\n",
    "# AfIn = metadata[np.logical_or(metadata.ethnicity == 'African', metadata.ethnicity == 'Indian')]\n",
    "# AfIn['gender_expression'] = AfIn.ethnicity.map(lambda x: 'male' if x == 'African' else 'female' )\n",
    "# AfIn.to_csv('RFW_AfIn_test_identities_ethnicity.csv')\n",
    "# AsCa = metadata[np.logical_or(metadata.ethnicity == 'Asian', metadata.ethnicity == 'Caucasian')]\n",
    "# AsCa['gender_expression'] = AsCa.ethnicity.map(lambda x: 'male' if x == 'Asian' else 'female' )\n",
    "# AsCa.to_csv('RFW_AsCa_test_identities_ethnicity.csv')\n",
    "# AsIn = metadata[np.logical_or(metadata.ethnicity == 'Asian', metadata.ethnicity == 'Indian')]\n",
    "# AsIn['gender_expression'] = AsIn.ethnicity.map(lambda x: 'male' if x == 'Asian' else 'female' )\n",
    "# AsIn.to_csv('RFW_AsIn_test_identities_ethnicity.csv')\n",
    "# CaIn = metadata[np.logical_or(metadata.ethnicity == 'Caucasian', metadata.ethnicity == 'Indian')]\n",
    "# CaIn['gender_expression'] = CaIn.ethnicity.map(lambda x: 'male' if x == 'Caucasian' else 'female' )\n",
    "# CaIn.to_csv('RFW_CaIn_test_identities_ethnicity.csv')"
   ]
  },
  {
   "cell_type": "markdown",
   "id": "53717752",
   "metadata": {},
   "source": [
    "## CelebA"
   ]
  },
  {
   "cell_type": "code",
   "execution_count": null,
   "id": "0c4bb69b",
   "metadata": {},
   "outputs": [],
   "source": [
    "# import pandas as pd\n",
    "# import numpy as np\n",
    "# import os\n",
    "# from analysis import *\n",
    "# import glob\n",
    "# rank_files = glob.glob('RFW/**/*_rank_by_id_val.csv')"
   ]
  },
  {
   "cell_type": "code",
   "execution_count": null,
   "id": "24abfd00",
   "metadata": {},
   "outputs": [],
   "source": [
    "# acc_list_rfw, acc_disp_list_rfw, rank_list_rfw, acc_disp_ratio_list_rfw, rank_ratio_list_rfw, err_list_rfw, error_ratio_list_rfw = [],[],[],[],[],[],[]\n",
    "\n",
    "# for a in ['AfAs', 'AfCa', 'AfIn', 'AsCa', 'AsIn', 'CaIn']:\n",
    "#     metadata = pd.read_csv(f'RFW_{a}_test_identities_ethnicity.csv')\n",
    "\n",
    "#     epochs = ['epoch_'+str(i) for i in [99]]\n",
    "#     acc_df_rfw, acc_disp_df_rfw, rank_df_rfw = analyze_rank_files(rank_files, metadata, epochs=epochs)\n",
    "#     _, acc_disp_ratio_df_rfw, rank_ratio_df_rfw = analyze_rank_files(rank_files, metadata, ratio=True, epochs=epochs)\n",
    "#     err_df_rfw, error_ratio_df_rfw, _ = analyze_rank_files(rank_files, metadata, ratio=True, error=True, epochs=epochs)\n",
    "#     acc_list_rfw += [acc_df_rfw]\n",
    "#     acc_disp_list_rfw += [acc_disp_df_rfw]\n",
    "#     rank_list_rfw += [rank_df_rfw]\n",
    "#     acc_disp_ratio_list_rfw += [acc_disp_ratio_df_rfw]\n",
    "#     rank_ratio_list_rfw += [rank_ratio_df_rfw]\n",
    "#     err_list_rfw += [err_df_rfw]\n",
    "#     error_ratio_list_rfw += [error_ratio_df_rfw]"
   ]
  },
  {
   "cell_type": "code",
   "execution_count": null,
   "id": "60c42835",
   "metadata": {},
   "outputs": [],
   "source": [
    "# from functools import reduce\n",
    "\n",
    "# def reduce_list_rfw(l, f=max):\n",
    "#     df = reduce(lambda x, y: pd.merge(x, y, on = ['index','epoch']), l)\n",
    "\n",
    "#     df['Metric'] = df.loc[:,df.columns.str.startswith('Metric')].apply(lambda x: f(x), axis=1)\n",
    "#     df=df.loc[:,np.logical_not(df.columns.str.startswith('Metric_'))]\n",
    "#     return df\n",
    "\n",
    "# acc_df_rfw = reduce_list_rfw(acc_list_rfw, f=np.mean)\n",
    "# acc_disp_df_rfw = reduce_list_rfw(acc_disp_list_rfw)\n",
    "# rank_df_rfw = reduce_list_rfw(rank_list_rfw)\n",
    "# acc_disp_ratio_df_rfw = reduce_list_rfw(acc_disp_ratio_list_rfw)\n",
    "# rank_ratio_list_rfw = reduce_list_rfw(rank_ratio_list_rfw)\n",
    "# err_df_rfw = reduce_list_rfw(err_list_rfw)\n",
    "# error_ratio_df_rfw = reduce_list_rfw(error_ratio_list_rfw)"
   ]
  },
  {
   "cell_type": "code",
   "execution_count": null,
   "id": "39681ebc",
   "metadata": {},
   "outputs": [],
   "source": [
    "# df = merge(err_df_rfw, rank_df_rfw)\n",
    "# df = df[df['epoch'] == 99]\n",
    "# df = df.rename(columns={'Accuracy':'Error','Disparity':'Rank Disparity'})\n",
    "# df = df.dropna()\n",
    "# # df = df[df['Error']<1-1/(7636*2)]\n",
    "# # df.loc[:,'model'] = df['index'].apply(lambda x: get_name_details(x)[1])\n",
    "# df = df.sort_values(by=['index'])\n",
    "# # remove 040\n",
    "# df = df[df['index'].apply(lambda x: '040' not in x)]\n",
    "# # df_high_perf = df[df['index'].apply(lambda x: x in list(high_perf_models))]\n",
    "# df_high_perf = df\n",
    "# df_high_perf.loc[:,'Model'] = 'timm models'\n",
    "# # df['Disparity'] = np.log(df['Disparity'])\n",
    "# fig = px.scatter(data_frame = df_high_perf\n",
    "#            ,x = 'Error'\n",
    "#            ,y = 'Rank Disparity',\n",
    "# #             color='Model',\n",
    "#              template=\"simple_white\",\n",
    "#                  width=1200, height= 1000\n",
    "#            )\n",
    "# fig.update_traces(marker=dict(size=10))\n",
    "\n",
    "# fig.add_trace(go.Scatter(\n",
    "#     x=df[df['index'].apply(lambda x: 'Check' in x)]['Error'],\n",
    "#     y=df[df['index'].apply(lambda x: 'Check' in x)]['Rank Disparity'],\n",
    "#     mode='markers',\n",
    "#     name = 'SMAC',\n",
    "#     marker_color = colors[-1],\n",
    "#     marker = dict(size=20),\n",
    "# ))\n",
    "# # plot PFront\n",
    "# p = np.array(preparePareto(df[df['index'].apply(lambda x: 'Check' not in x)][['Error','Rank Disparity']], \n",
    "#                            False, False).dropna())\n",
    "# for x, y in zip(p[:-1], p[1:]):\n",
    "#     fig.add_shape(type='line',\n",
    "#                 x0=x[0],y0=x[1],x1=y[0],y1=y[1],\n",
    "#                 line=dict(color='gray',width=4),line_dash='dash',\n",
    "#                 xref='x',yref='y', col=1,row=1)\n",
    "    \n",
    "# fig.update_layout(\n",
    "#     xaxis_range=[.35,max(df_high_perf['Error'])],\n",
    "#     yaxis_range=[0,500],\n",
    "#     font=dict(\n",
    "#         family=\"Times New Roman\",\n",
    "#         size=38,\n",
    "#         color=\"Black\"\n",
    "#     )\n",
    "# )\n",
    "\n",
    "\n",
    "# pareto_df = pd.merge(df_high_perf, pd.DataFrame(p), \n",
    "#                            right_on=[0,1], left_on=[\"Error\",\"Rank Disparity\"])\n",
    "# pareto_df.loc[:,'model'] = pareto_df['index'].apply(lambda x: get_name_details(x)[1].split('_')[0])\n",
    "\n",
    "# # # plot PFront for Ranks\n",
    "# # for model in set(pareto_df['model']):\n",
    "# #     i = [x.lower()[:3] for x in plotted_models].index(model.lower()[:3])\n",
    "# #     name = plotted_models[i]\n",
    "# #     color = colors[i]\n",
    "# #     fig.add_trace(go.Scatter(\n",
    "# #         x=pareto_df[pareto_df['model'] == model]['Error'],\n",
    "# #         y=pareto_df[pareto_df['model'] == model]['Rank Disparity'],\n",
    "# #         mode='markers',\n",
    "# #         name = name,\n",
    "# #         marker_color = color,\n",
    "# #         marker = dict(size=20),\n",
    "# #     ))\n",
    "\n",
    "# fig.update_layout(showlegend=False)\n",
    "# fig.show()\n",
    "# # plotly.io.write_image(fig, '_rfw.png', format='png')"
   ]
  },
  {
   "cell_type": "markdown",
   "id": "f353205e",
   "metadata": {},
   "source": [
    "## CelebA Unified"
   ]
  },
  {
   "cell_type": "code",
   "execution_count": 39,
   "id": "b7645c88",
   "metadata": {},
   "outputs": [],
   "source": [
    "import pandas as pd\n",
    "import numpy as np\n",
    "import os\n",
    "from analysis import *\n",
    "import glob\n",
    "from functools import reduce\n",
    "\n",
    "def reduce_list_rfw(l, f=max):\n",
    "    df = reduce(lambda x, y: pd.merge(x, y, on = ['index','epoch']), l)\n",
    "\n",
    "    df['Metric'] = df.loc[:,df.columns.str.startswith('Metric')].apply(lambda x: f(x), axis=1)\n",
    "    df=df.loc[:,np.logical_not(df.columns.str.startswith('Metric_'))]\n",
    "    return df\n",
    "\n",
    "def reduce_results(results, split, write=False):\n",
    "    mean_acc = reduce(lambda x, y: pd.merge(x, y, on='index'), [x['acc_df'] for x in results if x['split'] == split]).mean(axis=1)\n",
    "    mean_rank = reduce(lambda x, y: pd.merge(x, y, on='index'), [x['disp_df'] for x in results if x['split'] == split]).mean(axis=1)\n",
    "    std_acc = reduce(lambda x, y: pd.merge(x, y, on='index'), [x['acc_df'] for x in results if x['split'] == split]).sem(axis=1)\n",
    "    std_rank = reduce(lambda x, y: pd.merge(x, y, on='index'), [x['disp_df'] for x in results if x['split'] == split]).sem(axis=1)\n",
    "\n",
    "    df = pd.DataFrame(columns = ['Accuracy_mean', 'Accuracy_std', 'Disparity_mean', 'Disparity_std'])\n",
    "    df['Accuracy_mean'] = mean_acc\n",
    "    df['Disparity_mean'] = mean_rank\n",
    "    df['Accuracy_std'] = std_acc\n",
    "    df['Disparity_std'] = std_rank\n",
    "    df['Model'] = [x[:x.find('Face')-4] if 'dpn' not in x else x[:x.find('Face')+4].replace('dpn107','DPN') for x in df.index]\n",
    "    if write:\n",
    "        df.to_csv(f'vggface_phase1_{split}.csv')\n",
    "    return df"
   ]
  },
  {
   "cell_type": "code",
   "execution_count": 41,
   "id": "120b9fe9",
   "metadata": {},
   "outputs": [],
   "source": [
    "def make_tables(metric_function_output, **args):\n",
    "    results = []\n",
    "    for split in ['val','test']:\n",
    "        for seed in [333,444,555,666]:\n",
    "            acc_list_rfw, disp_list_rfw = [],[]\n",
    "            rank_files = glob.glob(f'RFW_celeba/**_{seed}/**/*.pkl')\n",
    "            for a in ['AfAs', 'AfCa', 'AfIn', 'AsCa', 'AsIn', 'CaIn']:\n",
    "                metadata = pd.read_csv(f'RFW_{a}_test_identities_ethnicity.csv')\n",
    "\n",
    "                epochs = ['epoch_'+str(i) for i in [101]]\n",
    "                acc_df_vgg, _, _ = analyze_pickle_files([[x] for x in rank_files], metadata, epochs=epochs)\n",
    "                disp_df = analyze_pickle_files([[x] for x in rank_files], metadata, epochs=epochs, **args)[metric_function_output]\n",
    "                acc_df_vgg['Metric'] = 1 - acc_df_vgg['Metric']\n",
    "                \n",
    "                acc_list_rfw += [acc_df_vgg]\n",
    "                disp_list_rfw += [disp_df]\n",
    "\n",
    "            acc_df_rfw = reduce_list_rfw(acc_list_rfw, f=np.mean)\n",
    "            disp_df_rfw = reduce_list_rfw(disp_list_rfw)\n",
    "                \n",
    "            res = {\n",
    "                'split': split,\n",
    "                'seed': seed,\n",
    "                'acc_df': acc_df_rfw[['index','Metric']].set_index('index'),\n",
    "                'disp_df': disp_df_rfw[['index','Metric']].set_index('index')\n",
    "                  }\n",
    "            results += [res]\n",
    "    df_val = reduce_results(results, 'val')\n",
    "    df_test = reduce_results(results, 'test')\n",
    "    return df_val, df_test"
   ]
  },
  {
   "cell_type": "code",
   "execution_count": 42,
   "id": "6a75d106",
   "metadata": {},
   "outputs": [],
   "source": [
    "def plot_figure(metric_name, metric_suffix, split, df):\n",
    "    fig = px.scatter(df, \n",
    "                     x='Accuracy_mean', \n",
    "                     y='Disparity_mean', \n",
    "                     error_x = \"Accuracy_std\", \n",
    "                     error_y = \"Disparity_std\", \n",
    "                     color=\"Model\", \n",
    "                     color_discrete_map=color_map,\n",
    "                     template=\"simple_white\",\n",
    "                     width=1200, height= 1000\n",
    "                    )\n",
    "#     if metric_name == 'Rank Disparity':\n",
    "#         fig.update_layout(\n",
    "#             xaxis_range=[0,0.15],\n",
    "#             yaxis_range=[-.01,.6]\n",
    "#         )\n",
    "    fig.update_layout(\n",
    "        xaxis_title=\"Error\",\n",
    "        yaxis_title=metric_name,\n",
    "        title=\"Trained on CelebA; Tested on RFW\",\n",
    "        legend_title=\"Models\",\n",
    "        font=dict(\n",
    "            family=\"Times New Roman\",\n",
    "            size=30,\n",
    "            color=\"Black\"\n",
    "        )\n",
    "    )\n",
    "    fig.update_traces(marker=dict(size=20))\n",
    "#     fig.update_layout(legend=dict(\n",
    "#         orientation=\"h\",\n",
    "#         yanchor=\"bottom\",\n",
    "#         y=1.02,\n",
    "#         xanchor=\"right\",\n",
    "#         x=1,\n",
    "#         font=dict(\n",
    "#             family=\"Times New Roman\",\n",
    "#             size=28,\n",
    "#             color=\"Black\"\n",
    "#         )\n",
    "#     ))\n",
    "    p = np.array(preparePareto(df[['Accuracy_mean','Disparity_mean']], False, False).dropna())\n",
    "    for x, y in zip(p[:-1], p[1:]):\n",
    "        fig.add_shape(type='line',\n",
    "                    x0=x[0],y0=x[1],x1=y[0],y1=y[1],\n",
    "                    line=dict(color='gray',width=4),line_dash='dash',\n",
    "                    xref='x',yref='y')\n",
    "#     plotly.io.write_image(fig, f'_RQ2_{split}_vgg_{metric_suffix}.png', format='png')\n",
    "    fig.show()"
   ]
  },
  {
   "cell_type": "code",
   "execution_count": 43,
   "id": "db39389c",
   "metadata": {},
   "outputs": [],
   "source": [
    "colors = ['#e6194B', '#3cb44b', '#ffe119','#f58231','#42d4f4',\n",
    "          '#f032e6','#fabed4','#469990','#aaffc3','#000075','#e6194B','#9a6324','#dcbeff', '#42d4f4']\n",
    "plotted_models = ['DPN','ReXNet', 'Other', 'TNT', 'Inception', 'HRNet', 'EseVoVNet', 'VGG19', 'ResNet-RS', \n",
    "                 'DenseNet', 'DPN_MagFace', 'DPN_CosFace', 'SMAC', 'Swin_Transformer']\n",
    "color_map = {}\n",
    "for c,m in zip(colors,plotted_models):\n",
    "    color_map[m] = c"
   ]
  },
  {
   "cell_type": "code",
   "execution_count": 44,
   "id": "f26ff807",
   "metadata": {},
   "outputs": [],
   "source": [
    "def phase2(metric_name, metric_suffix, metric_function_output, plot=False, **args):\n",
    "    lookup = {\n",
    "        'Checkpoints_Edges_301_LR_0.13828312564892567_Head': 'SMAC',\n",
    "        'Checkpoints_Edges_600_LR_0.6708884458871945_Head': 'SMAC',\n",
    "        'Checkpoints_Edges_248_LR_0.09532880096168164_Head': 'SMAC',\n",
    "        'Checkpoints_Edges_258_LR_0.1404172769842098_Head': 'SMAC',\n",
    "        'Checkpoints_Edges_680_LR_0.0006048015915653069_Head': 'SMAC',\n",
    "        'Checkpoints_Edges_010_LR_0.32348738788346576_Head': 'SMAC',\n",
    "        'Checkpoints_Edges_000_LR_0.2813375341651194_Head': 'SMAC',\n",
    "        'coat_lite_small': 'Other',\n",
    "        'convit_base': 'Other',\n",
    "        'cspdarknet53': 'Other',\n",
    "        'densenet161': 'DenseNet',\n",
    "        'dla102x2': 'Other',\n",
    "        'DPN_ArcFace': 'Other',\n",
    "        'DPN_MagFace': 'DPN_MagFace',\n",
    "        'DPN_CosFace': 'DPN_CosFace',\n",
    "        'ese_vovnet39b': 'EseVoVNet',\n",
    "        'hrnet_w64': 'HRNet',\n",
    "        'jx_nest_base': 'Other',\n",
    "        'mobilenetv3_large_100': 'Other',\n",
    "        'rexnet_200': 'ReXNet',\n",
    "        'swin_base_patch4_window7_224': 'Swin_Transformer',\n",
    "        'tf_efficientnet_b7_ns': 'Other',\n",
    "        'tnt_s_patch16_224': 'TNT',\n",
    "        'twins_svt_large': 'Other'\n",
    "    }\n",
    "    \n",
    "    df_val, df_test = make_tables(metric_function_output, **args)\n",
    "    df_val['Model'] = df_val['Model'].apply(lambda l: lookup[l])\n",
    "    df_test['Model'] = df_test['Model'].apply(lambda l: lookup[l])\n",
    "    if plot:\n",
    "        plot_figure(metric_name, metric_suffix, 'val', df_val)\n",
    "        plot_figure(metric_name, metric_suffix, 'test', df_test)   \n",
    "    return df_val, df_test"
   ]
  },
  {
   "cell_type": "code",
   "execution_count": 45,
   "id": "c4110bca",
   "metadata": {
    "scrolled": false
   },
   "outputs": [
    {
     "name": "stderr",
     "output_type": "stream",
     "text": [
      "/tmp/ipykernel_2872641/2370129866.py:9: FutureWarning:\n",
      "\n",
      "Passing 'suffixes' which cause duplicate columns {'Metric_x'} in the result is deprecated and will raise a MergeError in a future version.\n",
      "\n",
      "/tmp/ipykernel_2872641/2370129866.py:9: FutureWarning:\n",
      "\n",
      "Passing 'suffixes' which cause duplicate columns {'Metric_x'} in the result is deprecated and will raise a MergeError in a future version.\n",
      "\n",
      "/tmp/ipykernel_2872641/2370129866.py:9: FutureWarning:\n",
      "\n",
      "Passing 'suffixes' which cause duplicate columns {'Metric_x'} in the result is deprecated and will raise a MergeError in a future version.\n",
      "\n",
      "/tmp/ipykernel_2872641/2370129866.py:9: FutureWarning:\n",
      "\n",
      "Passing 'suffixes' which cause duplicate columns {'Metric_x'} in the result is deprecated and will raise a MergeError in a future version.\n",
      "\n",
      "/tmp/ipykernel_2872641/2370129866.py:9: FutureWarning:\n",
      "\n",
      "Passing 'suffixes' which cause duplicate columns {'Metric_x'} in the result is deprecated and will raise a MergeError in a future version.\n",
      "\n",
      "/tmp/ipykernel_2872641/2370129866.py:9: FutureWarning:\n",
      "\n",
      "Passing 'suffixes' which cause duplicate columns {'Metric_x'} in the result is deprecated and will raise a MergeError in a future version.\n",
      "\n",
      "/tmp/ipykernel_2872641/2370129866.py:9: FutureWarning:\n",
      "\n",
      "Passing 'suffixes' which cause duplicate columns {'Metric_x'} in the result is deprecated and will raise a MergeError in a future version.\n",
      "\n",
      "/tmp/ipykernel_2872641/2370129866.py:9: FutureWarning:\n",
      "\n",
      "Passing 'suffixes' which cause duplicate columns {'Metric_x'} in the result is deprecated and will raise a MergeError in a future version.\n",
      "\n",
      "/tmp/ipykernel_2872641/2370129866.py:16: FutureWarning:\n",
      "\n",
      "Passing 'suffixes' which cause duplicate columns {'Metric_x'} in the result is deprecated and will raise a MergeError in a future version.\n",
      "\n",
      "/tmp/ipykernel_2872641/2370129866.py:17: FutureWarning:\n",
      "\n",
      "Passing 'suffixes' which cause duplicate columns {'Metric_x'} in the result is deprecated and will raise a MergeError in a future version.\n",
      "\n",
      "/tmp/ipykernel_2872641/2370129866.py:18: FutureWarning:\n",
      "\n",
      "Passing 'suffixes' which cause duplicate columns {'Metric_x'} in the result is deprecated and will raise a MergeError in a future version.\n",
      "\n",
      "/tmp/ipykernel_2872641/2370129866.py:19: FutureWarning:\n",
      "\n",
      "Passing 'suffixes' which cause duplicate columns {'Metric_x'} in the result is deprecated and will raise a MergeError in a future version.\n",
      "\n"
     ]
    },
    {
     "data": {
      "application/vnd.plotly.v1+json": {
       "config": {
        "plotlyServerURL": "https://plot.ly"
       },
       "data": [
        {
         "error_x": {
          "array": [
           0.0022044250651264436,
           0.004244564838282041,
           0.0016138195234105376
          ]
         },
         "error_y": {
          "array": [
           1.5426720796185378,
           0.6733898352882149,
           3.595578924580969
          ]
         },
         "hovertemplate": "Model=SMAC<br>Accuracy_mean=%{x}<br>Disparity_mean=%{y}<extra></extra>",
         "legendgroup": "SMAC",
         "marker": {
          "color": "#dcbeff",
          "size": 20,
          "symbol": "circle"
         },
         "mode": "markers",
         "name": "SMAC",
         "orientation": "v",
         "showlegend": true,
         "type": "scatter",
         "x": [
          0.35161973099555666,
          0.38039660141707693,
          0.39707427645010207
         ],
         "xaxis": "x",
         "y": [
          32.780141830444336,
          41.80488204956055,
          50.41575527191162
         ],
         "yaxis": "y"
        },
        {
         "error_x": {
          "array": [
           0.0036256902811335322
          ]
         },
         "error_y": {
          "array": [
           18.683135546294324
          ]
         },
         "hovertemplate": "Model=Other<br>Accuracy_mean=%{x}<br>Disparity_mean=%{y}<extra></extra>",
         "legendgroup": "Other",
         "marker": {
          "color": "#ffe119",
          "size": 20,
          "symbol": "circle"
         },
         "mode": "markers",
         "name": "Other",
         "orientation": "v",
         "showlegend": true,
         "type": "scatter",
         "x": [
          0.843228353548697
         ],
         "xaxis": "x",
         "y": [
          139.8095245361328
         ],
         "yaxis": "y"
        },
        {
         "error_x": {
          "array": [
           0.004406206453648044
          ]
         },
         "error_y": {
          "array": [
           39.34505745552746
          ]
         },
         "hovertemplate": "Model=DenseNet<br>Accuracy_mean=%{x}<br>Disparity_mean=%{y}<extra></extra>",
         "legendgroup": "DenseNet",
         "marker": {
          "color": "#000075",
          "size": 20,
          "symbol": "circle"
         },
         "mode": "markers",
         "name": "DenseNet",
         "orientation": "v",
         "showlegend": true,
         "type": "scatter",
         "x": [
          0.7817866578599736
         ],
         "xaxis": "x",
         "y": [
          154.81008911132812
         ],
         "yaxis": "y"
        },
        {
         "error_x": {
          "array": [
           0.00465193304247025
          ]
         },
         "error_y": {
          "array": [
           5.869824170141104
          ]
         },
         "hovertemplate": "Model=DPN_MagFace<br>Accuracy_mean=%{x}<br>Disparity_mean=%{y}<extra></extra>",
         "legendgroup": "DPN_MagFace",
         "marker": {
          "color": "#e6194B",
          "size": 20,
          "symbol": "circle"
         },
         "mode": "markers",
         "name": "DPN_MagFace",
         "orientation": "v",
         "showlegend": true,
         "type": "scatter",
         "x": [
          0.6790660902285738
         ],
         "xaxis": "x",
         "y": [
          57.88194783528646
         ],
         "yaxis": "y"
        },
        {
         "error_x": {
          "array": [
           0.006416932408783147
          ]
         },
         "error_y": {
          "array": [
           3.9969033903954423
          ]
         },
         "hovertemplate": "Model=TNT<br>Accuracy_mean=%{x}<br>Disparity_mean=%{y}<extra></extra>",
         "legendgroup": "TNT",
         "marker": {
          "color": "#f58231",
          "size": 20,
          "symbol": "circle"
         },
         "mode": "markers",
         "name": "TNT",
         "orientation": "v",
         "showlegend": true,
         "type": "scatter",
         "x": [
          0.7019709979584484
         ],
         "xaxis": "x",
         "y": [
          95.26696395874023
         ],
         "yaxis": "y"
        },
        {
         "error_x": {
          "array": [
           0.00773394515050536
          ]
         },
         "error_y": {
          "array": [
           2.125878100293308
          ]
         },
         "hovertemplate": "Model=DPN_CosFace<br>Accuracy_mean=%{x}<br>Disparity_mean=%{y}<extra></extra>",
         "legendgroup": "DPN_CosFace",
         "marker": {
          "color": "#9a6324",
          "size": 20,
          "symbol": "circle"
         },
         "mode": "markers",
         "name": "DPN_CosFace",
         "orientation": "v",
         "showlegend": true,
         "type": "scatter",
         "x": [
          0.43708718626155874
         ],
         "xaxis": "x",
         "y": [
          33.58052158355713
         ],
         "yaxis": "y"
        },
        {
         "error_x": {
          "array": [
           0.0023171929918229797
          ]
         },
         "error_y": {
          "array": [
           0.6834912012162158
          ]
         },
         "hovertemplate": "Model=ReXNet<br>Accuracy_mean=%{x}<br>Disparity_mean=%{y}<extra></extra>",
         "legendgroup": "ReXNet",
         "marker": {
          "color": "#3cb44b",
          "size": 20,
          "symbol": "circle"
         },
         "mode": "markers",
         "name": "ReXNet",
         "orientation": "v",
         "showlegend": true,
         "type": "scatter",
         "x": [
          0.6341269364717186
         ],
         "xaxis": "x",
         "y": [
          52.28845977783203
         ],
         "yaxis": "y"
        },
        {
         "error_x": {
          "array": [
           0.012582906836515487
          ]
         },
         "error_y": {
          "array": [
           15.973474544551888
          ]
         },
         "hovertemplate": "Model=EseVoVNet<br>Accuracy_mean=%{x}<br>Disparity_mean=%{y}<extra></extra>",
         "legendgroup": "EseVoVNet",
         "marker": {
          "color": "#fabed4",
          "size": 20,
          "symbol": "circle"
         },
         "mode": "markers",
         "name": "EseVoVNet",
         "orientation": "v",
         "showlegend": true,
         "type": "scatter",
         "x": [
          0.8735889275849645
         ],
         "xaxis": "x",
         "y": [
          173.04788970947266
         ],
         "yaxis": "y"
        }
       ],
       "layout": {
        "font": {
         "color": "Black",
         "family": "Times New Roman",
         "size": 30
        },
        "height": 1000,
        "legend": {
         "title": {
          "text": "Models"
         },
         "tracegroupgap": 0
        },
        "margin": {
         "t": 60
        },
        "template": {
         "data": {
          "bar": [
           {
            "error_x": {
             "color": "rgb(36,36,36)"
            },
            "error_y": {
             "color": "rgb(36,36,36)"
            },
            "marker": {
             "line": {
              "color": "white",
              "width": 0.5
             },
             "pattern": {
              "fillmode": "overlay",
              "size": 10,
              "solidity": 0.2
             }
            },
            "type": "bar"
           }
          ],
          "barpolar": [
           {
            "marker": {
             "line": {
              "color": "white",
              "width": 0.5
             },
             "pattern": {
              "fillmode": "overlay",
              "size": 10,
              "solidity": 0.2
             }
            },
            "type": "barpolar"
           }
          ],
          "carpet": [
           {
            "aaxis": {
             "endlinecolor": "rgb(36,36,36)",
             "gridcolor": "white",
             "linecolor": "white",
             "minorgridcolor": "white",
             "startlinecolor": "rgb(36,36,36)"
            },
            "baxis": {
             "endlinecolor": "rgb(36,36,36)",
             "gridcolor": "white",
             "linecolor": "white",
             "minorgridcolor": "white",
             "startlinecolor": "rgb(36,36,36)"
            },
            "type": "carpet"
           }
          ],
          "choropleth": [
           {
            "colorbar": {
             "outlinewidth": 1,
             "tickcolor": "rgb(36,36,36)",
             "ticks": "outside"
            },
            "type": "choropleth"
           }
          ],
          "contour": [
           {
            "colorbar": {
             "outlinewidth": 1,
             "tickcolor": "rgb(36,36,36)",
             "ticks": "outside"
            },
            "colorscale": [
             [
              0,
              "#440154"
             ],
             [
              0.1111111111111111,
              "#482878"
             ],
             [
              0.2222222222222222,
              "#3e4989"
             ],
             [
              0.3333333333333333,
              "#31688e"
             ],
             [
              0.4444444444444444,
              "#26828e"
             ],
             [
              0.5555555555555556,
              "#1f9e89"
             ],
             [
              0.6666666666666666,
              "#35b779"
             ],
             [
              0.7777777777777778,
              "#6ece58"
             ],
             [
              0.8888888888888888,
              "#b5de2b"
             ],
             [
              1,
              "#fde725"
             ]
            ],
            "type": "contour"
           }
          ],
          "contourcarpet": [
           {
            "colorbar": {
             "outlinewidth": 1,
             "tickcolor": "rgb(36,36,36)",
             "ticks": "outside"
            },
            "type": "contourcarpet"
           }
          ],
          "heatmap": [
           {
            "colorbar": {
             "outlinewidth": 1,
             "tickcolor": "rgb(36,36,36)",
             "ticks": "outside"
            },
            "colorscale": [
             [
              0,
              "#440154"
             ],
             [
              0.1111111111111111,
              "#482878"
             ],
             [
              0.2222222222222222,
              "#3e4989"
             ],
             [
              0.3333333333333333,
              "#31688e"
             ],
             [
              0.4444444444444444,
              "#26828e"
             ],
             [
              0.5555555555555556,
              "#1f9e89"
             ],
             [
              0.6666666666666666,
              "#35b779"
             ],
             [
              0.7777777777777778,
              "#6ece58"
             ],
             [
              0.8888888888888888,
              "#b5de2b"
             ],
             [
              1,
              "#fde725"
             ]
            ],
            "type": "heatmap"
           }
          ],
          "heatmapgl": [
           {
            "colorbar": {
             "outlinewidth": 1,
             "tickcolor": "rgb(36,36,36)",
             "ticks": "outside"
            },
            "colorscale": [
             [
              0,
              "#440154"
             ],
             [
              0.1111111111111111,
              "#482878"
             ],
             [
              0.2222222222222222,
              "#3e4989"
             ],
             [
              0.3333333333333333,
              "#31688e"
             ],
             [
              0.4444444444444444,
              "#26828e"
             ],
             [
              0.5555555555555556,
              "#1f9e89"
             ],
             [
              0.6666666666666666,
              "#35b779"
             ],
             [
              0.7777777777777778,
              "#6ece58"
             ],
             [
              0.8888888888888888,
              "#b5de2b"
             ],
             [
              1,
              "#fde725"
             ]
            ],
            "type": "heatmapgl"
           }
          ],
          "histogram": [
           {
            "marker": {
             "line": {
              "color": "white",
              "width": 0.6
             }
            },
            "type": "histogram"
           }
          ],
          "histogram2d": [
           {
            "colorbar": {
             "outlinewidth": 1,
             "tickcolor": "rgb(36,36,36)",
             "ticks": "outside"
            },
            "colorscale": [
             [
              0,
              "#440154"
             ],
             [
              0.1111111111111111,
              "#482878"
             ],
             [
              0.2222222222222222,
              "#3e4989"
             ],
             [
              0.3333333333333333,
              "#31688e"
             ],
             [
              0.4444444444444444,
              "#26828e"
             ],
             [
              0.5555555555555556,
              "#1f9e89"
             ],
             [
              0.6666666666666666,
              "#35b779"
             ],
             [
              0.7777777777777778,
              "#6ece58"
             ],
             [
              0.8888888888888888,
              "#b5de2b"
             ],
             [
              1,
              "#fde725"
             ]
            ],
            "type": "histogram2d"
           }
          ],
          "histogram2dcontour": [
           {
            "colorbar": {
             "outlinewidth": 1,
             "tickcolor": "rgb(36,36,36)",
             "ticks": "outside"
            },
            "colorscale": [
             [
              0,
              "#440154"
             ],
             [
              0.1111111111111111,
              "#482878"
             ],
             [
              0.2222222222222222,
              "#3e4989"
             ],
             [
              0.3333333333333333,
              "#31688e"
             ],
             [
              0.4444444444444444,
              "#26828e"
             ],
             [
              0.5555555555555556,
              "#1f9e89"
             ],
             [
              0.6666666666666666,
              "#35b779"
             ],
             [
              0.7777777777777778,
              "#6ece58"
             ],
             [
              0.8888888888888888,
              "#b5de2b"
             ],
             [
              1,
              "#fde725"
             ]
            ],
            "type": "histogram2dcontour"
           }
          ],
          "mesh3d": [
           {
            "colorbar": {
             "outlinewidth": 1,
             "tickcolor": "rgb(36,36,36)",
             "ticks": "outside"
            },
            "type": "mesh3d"
           }
          ],
          "parcoords": [
           {
            "line": {
             "colorbar": {
              "outlinewidth": 1,
              "tickcolor": "rgb(36,36,36)",
              "ticks": "outside"
             }
            },
            "type": "parcoords"
           }
          ],
          "pie": [
           {
            "automargin": true,
            "type": "pie"
           }
          ],
          "scatter": [
           {
            "marker": {
             "colorbar": {
              "outlinewidth": 1,
              "tickcolor": "rgb(36,36,36)",
              "ticks": "outside"
             }
            },
            "type": "scatter"
           }
          ],
          "scatter3d": [
           {
            "line": {
             "colorbar": {
              "outlinewidth": 1,
              "tickcolor": "rgb(36,36,36)",
              "ticks": "outside"
             }
            },
            "marker": {
             "colorbar": {
              "outlinewidth": 1,
              "tickcolor": "rgb(36,36,36)",
              "ticks": "outside"
             }
            },
            "type": "scatter3d"
           }
          ],
          "scattercarpet": [
           {
            "marker": {
             "colorbar": {
              "outlinewidth": 1,
              "tickcolor": "rgb(36,36,36)",
              "ticks": "outside"
             }
            },
            "type": "scattercarpet"
           }
          ],
          "scattergeo": [
           {
            "marker": {
             "colorbar": {
              "outlinewidth": 1,
              "tickcolor": "rgb(36,36,36)",
              "ticks": "outside"
             }
            },
            "type": "scattergeo"
           }
          ],
          "scattergl": [
           {
            "marker": {
             "colorbar": {
              "outlinewidth": 1,
              "tickcolor": "rgb(36,36,36)",
              "ticks": "outside"
             }
            },
            "type": "scattergl"
           }
          ],
          "scattermapbox": [
           {
            "marker": {
             "colorbar": {
              "outlinewidth": 1,
              "tickcolor": "rgb(36,36,36)",
              "ticks": "outside"
             }
            },
            "type": "scattermapbox"
           }
          ],
          "scatterpolar": [
           {
            "marker": {
             "colorbar": {
              "outlinewidth": 1,
              "tickcolor": "rgb(36,36,36)",
              "ticks": "outside"
             }
            },
            "type": "scatterpolar"
           }
          ],
          "scatterpolargl": [
           {
            "marker": {
             "colorbar": {
              "outlinewidth": 1,
              "tickcolor": "rgb(36,36,36)",
              "ticks": "outside"
             }
            },
            "type": "scatterpolargl"
           }
          ],
          "scatterternary": [
           {
            "marker": {
             "colorbar": {
              "outlinewidth": 1,
              "tickcolor": "rgb(36,36,36)",
              "ticks": "outside"
             }
            },
            "type": "scatterternary"
           }
          ],
          "surface": [
           {
            "colorbar": {
             "outlinewidth": 1,
             "tickcolor": "rgb(36,36,36)",
             "ticks": "outside"
            },
            "colorscale": [
             [
              0,
              "#440154"
             ],
             [
              0.1111111111111111,
              "#482878"
             ],
             [
              0.2222222222222222,
              "#3e4989"
             ],
             [
              0.3333333333333333,
              "#31688e"
             ],
             [
              0.4444444444444444,
              "#26828e"
             ],
             [
              0.5555555555555556,
              "#1f9e89"
             ],
             [
              0.6666666666666666,
              "#35b779"
             ],
             [
              0.7777777777777778,
              "#6ece58"
             ],
             [
              0.8888888888888888,
              "#b5de2b"
             ],
             [
              1,
              "#fde725"
             ]
            ],
            "type": "surface"
           }
          ],
          "table": [
           {
            "cells": {
             "fill": {
              "color": "rgb(237,237,237)"
             },
             "line": {
              "color": "white"
             }
            },
            "header": {
             "fill": {
              "color": "rgb(217,217,217)"
             },
             "line": {
              "color": "white"
             }
            },
            "type": "table"
           }
          ]
         },
         "layout": {
          "annotationdefaults": {
           "arrowhead": 0,
           "arrowwidth": 1
          },
          "autotypenumbers": "strict",
          "coloraxis": {
           "colorbar": {
            "outlinewidth": 1,
            "tickcolor": "rgb(36,36,36)",
            "ticks": "outside"
           }
          },
          "colorscale": {
           "diverging": [
            [
             0,
             "rgb(103,0,31)"
            ],
            [
             0.1,
             "rgb(178,24,43)"
            ],
            [
             0.2,
             "rgb(214,96,77)"
            ],
            [
             0.3,
             "rgb(244,165,130)"
            ],
            [
             0.4,
             "rgb(253,219,199)"
            ],
            [
             0.5,
             "rgb(247,247,247)"
            ],
            [
             0.6,
             "rgb(209,229,240)"
            ],
            [
             0.7,
             "rgb(146,197,222)"
            ],
            [
             0.8,
             "rgb(67,147,195)"
            ],
            [
             0.9,
             "rgb(33,102,172)"
            ],
            [
             1,
             "rgb(5,48,97)"
            ]
           ],
           "sequential": [
            [
             0,
             "#440154"
            ],
            [
             0.1111111111111111,
             "#482878"
            ],
            [
             0.2222222222222222,
             "#3e4989"
            ],
            [
             0.3333333333333333,
             "#31688e"
            ],
            [
             0.4444444444444444,
             "#26828e"
            ],
            [
             0.5555555555555556,
             "#1f9e89"
            ],
            [
             0.6666666666666666,
             "#35b779"
            ],
            [
             0.7777777777777778,
             "#6ece58"
            ],
            [
             0.8888888888888888,
             "#b5de2b"
            ],
            [
             1,
             "#fde725"
            ]
           ],
           "sequentialminus": [
            [
             0,
             "#440154"
            ],
            [
             0.1111111111111111,
             "#482878"
            ],
            [
             0.2222222222222222,
             "#3e4989"
            ],
            [
             0.3333333333333333,
             "#31688e"
            ],
            [
             0.4444444444444444,
             "#26828e"
            ],
            [
             0.5555555555555556,
             "#1f9e89"
            ],
            [
             0.6666666666666666,
             "#35b779"
            ],
            [
             0.7777777777777778,
             "#6ece58"
            ],
            [
             0.8888888888888888,
             "#b5de2b"
            ],
            [
             1,
             "#fde725"
            ]
           ]
          },
          "colorway": [
           "#1F77B4",
           "#FF7F0E",
           "#2CA02C",
           "#D62728",
           "#9467BD",
           "#8C564B",
           "#E377C2",
           "#7F7F7F",
           "#BCBD22",
           "#17BECF"
          ],
          "font": {
           "color": "rgb(36,36,36)"
          },
          "geo": {
           "bgcolor": "white",
           "lakecolor": "white",
           "landcolor": "white",
           "showlakes": true,
           "showland": true,
           "subunitcolor": "white"
          },
          "hoverlabel": {
           "align": "left"
          },
          "hovermode": "closest",
          "mapbox": {
           "style": "light"
          },
          "paper_bgcolor": "white",
          "plot_bgcolor": "white",
          "polar": {
           "angularaxis": {
            "gridcolor": "rgb(232,232,232)",
            "linecolor": "rgb(36,36,36)",
            "showgrid": false,
            "showline": true,
            "ticks": "outside"
           },
           "bgcolor": "white",
           "radialaxis": {
            "gridcolor": "rgb(232,232,232)",
            "linecolor": "rgb(36,36,36)",
            "showgrid": false,
            "showline": true,
            "ticks": "outside"
           }
          },
          "scene": {
           "xaxis": {
            "backgroundcolor": "white",
            "gridcolor": "rgb(232,232,232)",
            "gridwidth": 2,
            "linecolor": "rgb(36,36,36)",
            "showbackground": true,
            "showgrid": false,
            "showline": true,
            "ticks": "outside",
            "zeroline": false,
            "zerolinecolor": "rgb(36,36,36)"
           },
           "yaxis": {
            "backgroundcolor": "white",
            "gridcolor": "rgb(232,232,232)",
            "gridwidth": 2,
            "linecolor": "rgb(36,36,36)",
            "showbackground": true,
            "showgrid": false,
            "showline": true,
            "ticks": "outside",
            "zeroline": false,
            "zerolinecolor": "rgb(36,36,36)"
           },
           "zaxis": {
            "backgroundcolor": "white",
            "gridcolor": "rgb(232,232,232)",
            "gridwidth": 2,
            "linecolor": "rgb(36,36,36)",
            "showbackground": true,
            "showgrid": false,
            "showline": true,
            "ticks": "outside",
            "zeroline": false,
            "zerolinecolor": "rgb(36,36,36)"
           }
          },
          "shapedefaults": {
           "fillcolor": "black",
           "line": {
            "width": 0
           },
           "opacity": 0.3
          },
          "ternary": {
           "aaxis": {
            "gridcolor": "rgb(232,232,232)",
            "linecolor": "rgb(36,36,36)",
            "showgrid": false,
            "showline": true,
            "ticks": "outside"
           },
           "baxis": {
            "gridcolor": "rgb(232,232,232)",
            "linecolor": "rgb(36,36,36)",
            "showgrid": false,
            "showline": true,
            "ticks": "outside"
           },
           "bgcolor": "white",
           "caxis": {
            "gridcolor": "rgb(232,232,232)",
            "linecolor": "rgb(36,36,36)",
            "showgrid": false,
            "showline": true,
            "ticks": "outside"
           }
          },
          "title": {
           "x": 0.05
          },
          "xaxis": {
           "automargin": true,
           "gridcolor": "rgb(232,232,232)",
           "linecolor": "rgb(36,36,36)",
           "showgrid": false,
           "showline": true,
           "ticks": "outside",
           "title": {
            "standoff": 15
           },
           "zeroline": false,
           "zerolinecolor": "rgb(36,36,36)"
          },
          "yaxis": {
           "automargin": true,
           "gridcolor": "rgb(232,232,232)",
           "linecolor": "rgb(36,36,36)",
           "showgrid": false,
           "showline": true,
           "ticks": "outside",
           "title": {
            "standoff": 15
           },
           "zeroline": false,
           "zerolinecolor": "rgb(36,36,36)"
          }
         }
        },
        "title": {
         "text": "Trained on CelebA; Tested on RFW"
        },
        "width": 1200,
        "xaxis": {
         "anchor": "y",
         "domain": [
          0,
          1
         ],
         "title": {
          "text": "Error"
         }
        },
        "yaxis": {
         "anchor": "x",
         "domain": [
          0,
          1
         ],
         "title": {
          "text": "Rank Disparity"
         }
        }
       }
      },
      "text/html": [
       "<div>                            <div id=\"594f4bfc-e1dd-44b9-a862-c90e3cbd2754\" class=\"plotly-graph-div\" style=\"height:1000px; width:1200px;\"></div>            <script type=\"text/javascript\">                require([\"plotly\"], function(Plotly) {                    window.PLOTLYENV=window.PLOTLYENV || {};                                    if (document.getElementById(\"594f4bfc-e1dd-44b9-a862-c90e3cbd2754\")) {                    Plotly.newPlot(                        \"594f4bfc-e1dd-44b9-a862-c90e3cbd2754\",                        [{\"error_x\":{\"array\":[0.0022044250651264436,0.004244564838282041,0.0016138195234105376]},\"error_y\":{\"array\":[1.5426720796185378,0.6733898352882149,3.595578924580969]},\"hovertemplate\":\"Model=SMAC<br>Accuracy_mean=%{x}<br>Disparity_mean=%{y}<extra></extra>\",\"legendgroup\":\"SMAC\",\"marker\":{\"color\":\"#dcbeff\",\"symbol\":\"circle\",\"size\":20},\"mode\":\"markers\",\"name\":\"SMAC\",\"orientation\":\"v\",\"showlegend\":true,\"x\":[0.35161973099555666,0.38039660141707693,0.39707427645010207],\"xaxis\":\"x\",\"y\":[32.780141830444336,41.80488204956055,50.41575527191162],\"yaxis\":\"y\",\"type\":\"scatter\"},{\"error_x\":{\"array\":[0.0036256902811335322]},\"error_y\":{\"array\":[18.683135546294324]},\"hovertemplate\":\"Model=Other<br>Accuracy_mean=%{x}<br>Disparity_mean=%{y}<extra></extra>\",\"legendgroup\":\"Other\",\"marker\":{\"color\":\"#ffe119\",\"symbol\":\"circle\",\"size\":20},\"mode\":\"markers\",\"name\":\"Other\",\"orientation\":\"v\",\"showlegend\":true,\"x\":[0.843228353548697],\"xaxis\":\"x\",\"y\":[139.8095245361328],\"yaxis\":\"y\",\"type\":\"scatter\"},{\"error_x\":{\"array\":[0.004406206453648044]},\"error_y\":{\"array\":[39.34505745552746]},\"hovertemplate\":\"Model=DenseNet<br>Accuracy_mean=%{x}<br>Disparity_mean=%{y}<extra></extra>\",\"legendgroup\":\"DenseNet\",\"marker\":{\"color\":\"#000075\",\"symbol\":\"circle\",\"size\":20},\"mode\":\"markers\",\"name\":\"DenseNet\",\"orientation\":\"v\",\"showlegend\":true,\"x\":[0.7817866578599736],\"xaxis\":\"x\",\"y\":[154.81008911132812],\"yaxis\":\"y\",\"type\":\"scatter\"},{\"error_x\":{\"array\":[0.00465193304247025]},\"error_y\":{\"array\":[5.869824170141104]},\"hovertemplate\":\"Model=DPN_MagFace<br>Accuracy_mean=%{x}<br>Disparity_mean=%{y}<extra></extra>\",\"legendgroup\":\"DPN_MagFace\",\"marker\":{\"color\":\"#e6194B\",\"symbol\":\"circle\",\"size\":20},\"mode\":\"markers\",\"name\":\"DPN_MagFace\",\"orientation\":\"v\",\"showlegend\":true,\"x\":[0.6790660902285738],\"xaxis\":\"x\",\"y\":[57.88194783528646],\"yaxis\":\"y\",\"type\":\"scatter\"},{\"error_x\":{\"array\":[0.006416932408783147]},\"error_y\":{\"array\":[3.9969033903954423]},\"hovertemplate\":\"Model=TNT<br>Accuracy_mean=%{x}<br>Disparity_mean=%{y}<extra></extra>\",\"legendgroup\":\"TNT\",\"marker\":{\"color\":\"#f58231\",\"symbol\":\"circle\",\"size\":20},\"mode\":\"markers\",\"name\":\"TNT\",\"orientation\":\"v\",\"showlegend\":true,\"x\":[0.7019709979584484],\"xaxis\":\"x\",\"y\":[95.26696395874023],\"yaxis\":\"y\",\"type\":\"scatter\"},{\"error_x\":{\"array\":[0.00773394515050536]},\"error_y\":{\"array\":[2.125878100293308]},\"hovertemplate\":\"Model=DPN_CosFace<br>Accuracy_mean=%{x}<br>Disparity_mean=%{y}<extra></extra>\",\"legendgroup\":\"DPN_CosFace\",\"marker\":{\"color\":\"#9a6324\",\"symbol\":\"circle\",\"size\":20},\"mode\":\"markers\",\"name\":\"DPN_CosFace\",\"orientation\":\"v\",\"showlegend\":true,\"x\":[0.43708718626155874],\"xaxis\":\"x\",\"y\":[33.58052158355713],\"yaxis\":\"y\",\"type\":\"scatter\"},{\"error_x\":{\"array\":[0.0023171929918229797]},\"error_y\":{\"array\":[0.6834912012162158]},\"hovertemplate\":\"Model=ReXNet<br>Accuracy_mean=%{x}<br>Disparity_mean=%{y}<extra></extra>\",\"legendgroup\":\"ReXNet\",\"marker\":{\"color\":\"#3cb44b\",\"symbol\":\"circle\",\"size\":20},\"mode\":\"markers\",\"name\":\"ReXNet\",\"orientation\":\"v\",\"showlegend\":true,\"x\":[0.6341269364717186],\"xaxis\":\"x\",\"y\":[52.28845977783203],\"yaxis\":\"y\",\"type\":\"scatter\"},{\"error_x\":{\"array\":[0.012582906836515487]},\"error_y\":{\"array\":[15.973474544551888]},\"hovertemplate\":\"Model=EseVoVNet<br>Accuracy_mean=%{x}<br>Disparity_mean=%{y}<extra></extra>\",\"legendgroup\":\"EseVoVNet\",\"marker\":{\"color\":\"#fabed4\",\"symbol\":\"circle\",\"size\":20},\"mode\":\"markers\",\"name\":\"EseVoVNet\",\"orientation\":\"v\",\"showlegend\":true,\"x\":[0.8735889275849645],\"xaxis\":\"x\",\"y\":[173.04788970947266],\"yaxis\":\"y\",\"type\":\"scatter\"}],                        {\"template\":{\"data\":{\"barpolar\":[{\"marker\":{\"line\":{\"color\":\"white\",\"width\":0.5},\"pattern\":{\"fillmode\":\"overlay\",\"size\":10,\"solidity\":0.2}},\"type\":\"barpolar\"}],\"bar\":[{\"error_x\":{\"color\":\"rgb(36,36,36)\"},\"error_y\":{\"color\":\"rgb(36,36,36)\"},\"marker\":{\"line\":{\"color\":\"white\",\"width\":0.5},\"pattern\":{\"fillmode\":\"overlay\",\"size\":10,\"solidity\":0.2}},\"type\":\"bar\"}],\"carpet\":[{\"aaxis\":{\"endlinecolor\":\"rgb(36,36,36)\",\"gridcolor\":\"white\",\"linecolor\":\"white\",\"minorgridcolor\":\"white\",\"startlinecolor\":\"rgb(36,36,36)\"},\"baxis\":{\"endlinecolor\":\"rgb(36,36,36)\",\"gridcolor\":\"white\",\"linecolor\":\"white\",\"minorgridcolor\":\"white\",\"startlinecolor\":\"rgb(36,36,36)\"},\"type\":\"carpet\"}],\"choropleth\":[{\"colorbar\":{\"outlinewidth\":1,\"tickcolor\":\"rgb(36,36,36)\",\"ticks\":\"outside\"},\"type\":\"choropleth\"}],\"contourcarpet\":[{\"colorbar\":{\"outlinewidth\":1,\"tickcolor\":\"rgb(36,36,36)\",\"ticks\":\"outside\"},\"type\":\"contourcarpet\"}],\"contour\":[{\"colorbar\":{\"outlinewidth\":1,\"tickcolor\":\"rgb(36,36,36)\",\"ticks\":\"outside\"},\"colorscale\":[[0.0,\"#440154\"],[0.1111111111111111,\"#482878\"],[0.2222222222222222,\"#3e4989\"],[0.3333333333333333,\"#31688e\"],[0.4444444444444444,\"#26828e\"],[0.5555555555555556,\"#1f9e89\"],[0.6666666666666666,\"#35b779\"],[0.7777777777777778,\"#6ece58\"],[0.8888888888888888,\"#b5de2b\"],[1.0,\"#fde725\"]],\"type\":\"contour\"}],\"heatmapgl\":[{\"colorbar\":{\"outlinewidth\":1,\"tickcolor\":\"rgb(36,36,36)\",\"ticks\":\"outside\"},\"colorscale\":[[0.0,\"#440154\"],[0.1111111111111111,\"#482878\"],[0.2222222222222222,\"#3e4989\"],[0.3333333333333333,\"#31688e\"],[0.4444444444444444,\"#26828e\"],[0.5555555555555556,\"#1f9e89\"],[0.6666666666666666,\"#35b779\"],[0.7777777777777778,\"#6ece58\"],[0.8888888888888888,\"#b5de2b\"],[1.0,\"#fde725\"]],\"type\":\"heatmapgl\"}],\"heatmap\":[{\"colorbar\":{\"outlinewidth\":1,\"tickcolor\":\"rgb(36,36,36)\",\"ticks\":\"outside\"},\"colorscale\":[[0.0,\"#440154\"],[0.1111111111111111,\"#482878\"],[0.2222222222222222,\"#3e4989\"],[0.3333333333333333,\"#31688e\"],[0.4444444444444444,\"#26828e\"],[0.5555555555555556,\"#1f9e89\"],[0.6666666666666666,\"#35b779\"],[0.7777777777777778,\"#6ece58\"],[0.8888888888888888,\"#b5de2b\"],[1.0,\"#fde725\"]],\"type\":\"heatmap\"}],\"histogram2dcontour\":[{\"colorbar\":{\"outlinewidth\":1,\"tickcolor\":\"rgb(36,36,36)\",\"ticks\":\"outside\"},\"colorscale\":[[0.0,\"#440154\"],[0.1111111111111111,\"#482878\"],[0.2222222222222222,\"#3e4989\"],[0.3333333333333333,\"#31688e\"],[0.4444444444444444,\"#26828e\"],[0.5555555555555556,\"#1f9e89\"],[0.6666666666666666,\"#35b779\"],[0.7777777777777778,\"#6ece58\"],[0.8888888888888888,\"#b5de2b\"],[1.0,\"#fde725\"]],\"type\":\"histogram2dcontour\"}],\"histogram2d\":[{\"colorbar\":{\"outlinewidth\":1,\"tickcolor\":\"rgb(36,36,36)\",\"ticks\":\"outside\"},\"colorscale\":[[0.0,\"#440154\"],[0.1111111111111111,\"#482878\"],[0.2222222222222222,\"#3e4989\"],[0.3333333333333333,\"#31688e\"],[0.4444444444444444,\"#26828e\"],[0.5555555555555556,\"#1f9e89\"],[0.6666666666666666,\"#35b779\"],[0.7777777777777778,\"#6ece58\"],[0.8888888888888888,\"#b5de2b\"],[1.0,\"#fde725\"]],\"type\":\"histogram2d\"}],\"histogram\":[{\"marker\":{\"line\":{\"color\":\"white\",\"width\":0.6}},\"type\":\"histogram\"}],\"mesh3d\":[{\"colorbar\":{\"outlinewidth\":1,\"tickcolor\":\"rgb(36,36,36)\",\"ticks\":\"outside\"},\"type\":\"mesh3d\"}],\"parcoords\":[{\"line\":{\"colorbar\":{\"outlinewidth\":1,\"tickcolor\":\"rgb(36,36,36)\",\"ticks\":\"outside\"}},\"type\":\"parcoords\"}],\"pie\":[{\"automargin\":true,\"type\":\"pie\"}],\"scatter3d\":[{\"line\":{\"colorbar\":{\"outlinewidth\":1,\"tickcolor\":\"rgb(36,36,36)\",\"ticks\":\"outside\"}},\"marker\":{\"colorbar\":{\"outlinewidth\":1,\"tickcolor\":\"rgb(36,36,36)\",\"ticks\":\"outside\"}},\"type\":\"scatter3d\"}],\"scattercarpet\":[{\"marker\":{\"colorbar\":{\"outlinewidth\":1,\"tickcolor\":\"rgb(36,36,36)\",\"ticks\":\"outside\"}},\"type\":\"scattercarpet\"}],\"scattergeo\":[{\"marker\":{\"colorbar\":{\"outlinewidth\":1,\"tickcolor\":\"rgb(36,36,36)\",\"ticks\":\"outside\"}},\"type\":\"scattergeo\"}],\"scattergl\":[{\"marker\":{\"colorbar\":{\"outlinewidth\":1,\"tickcolor\":\"rgb(36,36,36)\",\"ticks\":\"outside\"}},\"type\":\"scattergl\"}],\"scattermapbox\":[{\"marker\":{\"colorbar\":{\"outlinewidth\":1,\"tickcolor\":\"rgb(36,36,36)\",\"ticks\":\"outside\"}},\"type\":\"scattermapbox\"}],\"scatterpolargl\":[{\"marker\":{\"colorbar\":{\"outlinewidth\":1,\"tickcolor\":\"rgb(36,36,36)\",\"ticks\":\"outside\"}},\"type\":\"scatterpolargl\"}],\"scatterpolar\":[{\"marker\":{\"colorbar\":{\"outlinewidth\":1,\"tickcolor\":\"rgb(36,36,36)\",\"ticks\":\"outside\"}},\"type\":\"scatterpolar\"}],\"scatter\":[{\"marker\":{\"colorbar\":{\"outlinewidth\":1,\"tickcolor\":\"rgb(36,36,36)\",\"ticks\":\"outside\"}},\"type\":\"scatter\"}],\"scatterternary\":[{\"marker\":{\"colorbar\":{\"outlinewidth\":1,\"tickcolor\":\"rgb(36,36,36)\",\"ticks\":\"outside\"}},\"type\":\"scatterternary\"}],\"surface\":[{\"colorbar\":{\"outlinewidth\":1,\"tickcolor\":\"rgb(36,36,36)\",\"ticks\":\"outside\"},\"colorscale\":[[0.0,\"#440154\"],[0.1111111111111111,\"#482878\"],[0.2222222222222222,\"#3e4989\"],[0.3333333333333333,\"#31688e\"],[0.4444444444444444,\"#26828e\"],[0.5555555555555556,\"#1f9e89\"],[0.6666666666666666,\"#35b779\"],[0.7777777777777778,\"#6ece58\"],[0.8888888888888888,\"#b5de2b\"],[1.0,\"#fde725\"]],\"type\":\"surface\"}],\"table\":[{\"cells\":{\"fill\":{\"color\":\"rgb(237,237,237)\"},\"line\":{\"color\":\"white\"}},\"header\":{\"fill\":{\"color\":\"rgb(217,217,217)\"},\"line\":{\"color\":\"white\"}},\"type\":\"table\"}]},\"layout\":{\"annotationdefaults\":{\"arrowhead\":0,\"arrowwidth\":1},\"autotypenumbers\":\"strict\",\"coloraxis\":{\"colorbar\":{\"outlinewidth\":1,\"tickcolor\":\"rgb(36,36,36)\",\"ticks\":\"outside\"}},\"colorscale\":{\"diverging\":[[0.0,\"rgb(103,0,31)\"],[0.1,\"rgb(178,24,43)\"],[0.2,\"rgb(214,96,77)\"],[0.3,\"rgb(244,165,130)\"],[0.4,\"rgb(253,219,199)\"],[0.5,\"rgb(247,247,247)\"],[0.6,\"rgb(209,229,240)\"],[0.7,\"rgb(146,197,222)\"],[0.8,\"rgb(67,147,195)\"],[0.9,\"rgb(33,102,172)\"],[1.0,\"rgb(5,48,97)\"]],\"sequential\":[[0.0,\"#440154\"],[0.1111111111111111,\"#482878\"],[0.2222222222222222,\"#3e4989\"],[0.3333333333333333,\"#31688e\"],[0.4444444444444444,\"#26828e\"],[0.5555555555555556,\"#1f9e89\"],[0.6666666666666666,\"#35b779\"],[0.7777777777777778,\"#6ece58\"],[0.8888888888888888,\"#b5de2b\"],[1.0,\"#fde725\"]],\"sequentialminus\":[[0.0,\"#440154\"],[0.1111111111111111,\"#482878\"],[0.2222222222222222,\"#3e4989\"],[0.3333333333333333,\"#31688e\"],[0.4444444444444444,\"#26828e\"],[0.5555555555555556,\"#1f9e89\"],[0.6666666666666666,\"#35b779\"],[0.7777777777777778,\"#6ece58\"],[0.8888888888888888,\"#b5de2b\"],[1.0,\"#fde725\"]]},\"colorway\":[\"#1F77B4\",\"#FF7F0E\",\"#2CA02C\",\"#D62728\",\"#9467BD\",\"#8C564B\",\"#E377C2\",\"#7F7F7F\",\"#BCBD22\",\"#17BECF\"],\"font\":{\"color\":\"rgb(36,36,36)\"},\"geo\":{\"bgcolor\":\"white\",\"lakecolor\":\"white\",\"landcolor\":\"white\",\"showlakes\":true,\"showland\":true,\"subunitcolor\":\"white\"},\"hoverlabel\":{\"align\":\"left\"},\"hovermode\":\"closest\",\"mapbox\":{\"style\":\"light\"},\"paper_bgcolor\":\"white\",\"plot_bgcolor\":\"white\",\"polar\":{\"angularaxis\":{\"gridcolor\":\"rgb(232,232,232)\",\"linecolor\":\"rgb(36,36,36)\",\"showgrid\":false,\"showline\":true,\"ticks\":\"outside\"},\"bgcolor\":\"white\",\"radialaxis\":{\"gridcolor\":\"rgb(232,232,232)\",\"linecolor\":\"rgb(36,36,36)\",\"showgrid\":false,\"showline\":true,\"ticks\":\"outside\"}},\"scene\":{\"xaxis\":{\"backgroundcolor\":\"white\",\"gridcolor\":\"rgb(232,232,232)\",\"gridwidth\":2,\"linecolor\":\"rgb(36,36,36)\",\"showbackground\":true,\"showgrid\":false,\"showline\":true,\"ticks\":\"outside\",\"zeroline\":false,\"zerolinecolor\":\"rgb(36,36,36)\"},\"yaxis\":{\"backgroundcolor\":\"white\",\"gridcolor\":\"rgb(232,232,232)\",\"gridwidth\":2,\"linecolor\":\"rgb(36,36,36)\",\"showbackground\":true,\"showgrid\":false,\"showline\":true,\"ticks\":\"outside\",\"zeroline\":false,\"zerolinecolor\":\"rgb(36,36,36)\"},\"zaxis\":{\"backgroundcolor\":\"white\",\"gridcolor\":\"rgb(232,232,232)\",\"gridwidth\":2,\"linecolor\":\"rgb(36,36,36)\",\"showbackground\":true,\"showgrid\":false,\"showline\":true,\"ticks\":\"outside\",\"zeroline\":false,\"zerolinecolor\":\"rgb(36,36,36)\"}},\"shapedefaults\":{\"fillcolor\":\"black\",\"line\":{\"width\":0},\"opacity\":0.3},\"ternary\":{\"aaxis\":{\"gridcolor\":\"rgb(232,232,232)\",\"linecolor\":\"rgb(36,36,36)\",\"showgrid\":false,\"showline\":true,\"ticks\":\"outside\"},\"baxis\":{\"gridcolor\":\"rgb(232,232,232)\",\"linecolor\":\"rgb(36,36,36)\",\"showgrid\":false,\"showline\":true,\"ticks\":\"outside\"},\"bgcolor\":\"white\",\"caxis\":{\"gridcolor\":\"rgb(232,232,232)\",\"linecolor\":\"rgb(36,36,36)\",\"showgrid\":false,\"showline\":true,\"ticks\":\"outside\"}},\"title\":{\"x\":0.05},\"xaxis\":{\"automargin\":true,\"gridcolor\":\"rgb(232,232,232)\",\"linecolor\":\"rgb(36,36,36)\",\"showgrid\":false,\"showline\":true,\"ticks\":\"outside\",\"title\":{\"standoff\":15},\"zeroline\":false,\"zerolinecolor\":\"rgb(36,36,36)\"},\"yaxis\":{\"automargin\":true,\"gridcolor\":\"rgb(232,232,232)\",\"linecolor\":\"rgb(36,36,36)\",\"showgrid\":false,\"showline\":true,\"ticks\":\"outside\",\"title\":{\"standoff\":15},\"zeroline\":false,\"zerolinecolor\":\"rgb(36,36,36)\"}}},\"xaxis\":{\"anchor\":\"y\",\"domain\":[0.0,1.0],\"title\":{\"text\":\"Error\"}},\"yaxis\":{\"anchor\":\"x\",\"domain\":[0.0,1.0],\"title\":{\"text\":\"Rank Disparity\"}},\"legend\":{\"title\":{\"text\":\"Models\"},\"tracegroupgap\":0},\"margin\":{\"t\":60},\"height\":1000,\"width\":1200,\"font\":{\"family\":\"Times New Roman\",\"size\":30,\"color\":\"Black\"},\"title\":{\"text\":\"Trained on CelebA; Tested on RFW\"}},                        {\"responsive\": true}                    ).then(function(){\n",
       "                            \n",
       "var gd = document.getElementById('594f4bfc-e1dd-44b9-a862-c90e3cbd2754');\n",
       "var x = new MutationObserver(function (mutations, observer) {{\n",
       "        var display = window.getComputedStyle(gd).display;\n",
       "        if (!display || display === 'none') {{\n",
       "            console.log([gd, 'removed!']);\n",
       "            Plotly.purge(gd);\n",
       "            observer.disconnect();\n",
       "        }}\n",
       "}});\n",
       "\n",
       "// Listen for the removal of the full notebook cells\n",
       "var notebookContainer = gd.closest('#notebook-container');\n",
       "if (notebookContainer) {{\n",
       "    x.observe(notebookContainer, {childList: true});\n",
       "}}\n",
       "\n",
       "// Listen for the clearing of the current output cell\n",
       "var outputEl = gd.closest('.output');\n",
       "if (outputEl) {{\n",
       "    x.observe(outputEl, {childList: true});\n",
       "}}\n",
       "\n",
       "                        })                };                });            </script>        </div>"
      ]
     },
     "metadata": {},
     "output_type": "display_data"
    },
    {
     "data": {
      "application/vnd.plotly.v1+json": {
       "config": {
        "plotlyServerURL": "https://plot.ly"
       },
       "data": [
        {
         "error_x": {
          "array": [
           0.0022044250651264436,
           0.004244564838282041,
           0.0016138195234105376
          ]
         },
         "error_y": {
          "array": [
           1.5426720796185378,
           0.6733898352882149,
           3.595578924580969
          ]
         },
         "hovertemplate": "Model=SMAC<br>Accuracy_mean=%{x}<br>Disparity_mean=%{y}<extra></extra>",
         "legendgroup": "SMAC",
         "marker": {
          "color": "#dcbeff",
          "size": 20,
          "symbol": "circle"
         },
         "mode": "markers",
         "name": "SMAC",
         "orientation": "v",
         "showlegend": true,
         "type": "scatter",
         "x": [
          0.35161973099555666,
          0.38039660141707693,
          0.39707427645010207
         ],
         "xaxis": "x",
         "y": [
          32.780141830444336,
          41.80488204956055,
          50.41575527191162
         ],
         "yaxis": "y"
        },
        {
         "error_x": {
          "array": [
           0.0036256902811335322
          ]
         },
         "error_y": {
          "array": [
           18.683135546294324
          ]
         },
         "hovertemplate": "Model=Other<br>Accuracy_mean=%{x}<br>Disparity_mean=%{y}<extra></extra>",
         "legendgroup": "Other",
         "marker": {
          "color": "#ffe119",
          "size": 20,
          "symbol": "circle"
         },
         "mode": "markers",
         "name": "Other",
         "orientation": "v",
         "showlegend": true,
         "type": "scatter",
         "x": [
          0.843228353548697
         ],
         "xaxis": "x",
         "y": [
          139.8095245361328
         ],
         "yaxis": "y"
        },
        {
         "error_x": {
          "array": [
           0.004406206453648044
          ]
         },
         "error_y": {
          "array": [
           39.34505745552746
          ]
         },
         "hovertemplate": "Model=DenseNet<br>Accuracy_mean=%{x}<br>Disparity_mean=%{y}<extra></extra>",
         "legendgroup": "DenseNet",
         "marker": {
          "color": "#000075",
          "size": 20,
          "symbol": "circle"
         },
         "mode": "markers",
         "name": "DenseNet",
         "orientation": "v",
         "showlegend": true,
         "type": "scatter",
         "x": [
          0.7817866578599736
         ],
         "xaxis": "x",
         "y": [
          154.81008911132812
         ],
         "yaxis": "y"
        },
        {
         "error_x": {
          "array": [
           0.00465193304247025
          ]
         },
         "error_y": {
          "array": [
           5.869824170141104
          ]
         },
         "hovertemplate": "Model=DPN_MagFace<br>Accuracy_mean=%{x}<br>Disparity_mean=%{y}<extra></extra>",
         "legendgroup": "DPN_MagFace",
         "marker": {
          "color": "#e6194B",
          "size": 20,
          "symbol": "circle"
         },
         "mode": "markers",
         "name": "DPN_MagFace",
         "orientation": "v",
         "showlegend": true,
         "type": "scatter",
         "x": [
          0.6790660902285738
         ],
         "xaxis": "x",
         "y": [
          57.88194783528646
         ],
         "yaxis": "y"
        },
        {
         "error_x": {
          "array": [
           0.006416932408783147
          ]
         },
         "error_y": {
          "array": [
           3.9969033903954423
          ]
         },
         "hovertemplate": "Model=TNT<br>Accuracy_mean=%{x}<br>Disparity_mean=%{y}<extra></extra>",
         "legendgroup": "TNT",
         "marker": {
          "color": "#f58231",
          "size": 20,
          "symbol": "circle"
         },
         "mode": "markers",
         "name": "TNT",
         "orientation": "v",
         "showlegend": true,
         "type": "scatter",
         "x": [
          0.7019709979584484
         ],
         "xaxis": "x",
         "y": [
          95.26696395874023
         ],
         "yaxis": "y"
        },
        {
         "error_x": {
          "array": [
           0.00773394515050536
          ]
         },
         "error_y": {
          "array": [
           2.125878100293308
          ]
         },
         "hovertemplate": "Model=DPN_CosFace<br>Accuracy_mean=%{x}<br>Disparity_mean=%{y}<extra></extra>",
         "legendgroup": "DPN_CosFace",
         "marker": {
          "color": "#9a6324",
          "size": 20,
          "symbol": "circle"
         },
         "mode": "markers",
         "name": "DPN_CosFace",
         "orientation": "v",
         "showlegend": true,
         "type": "scatter",
         "x": [
          0.43708718626155874
         ],
         "xaxis": "x",
         "y": [
          33.58052158355713
         ],
         "yaxis": "y"
        },
        {
         "error_x": {
          "array": [
           0.0023171929918229797
          ]
         },
         "error_y": {
          "array": [
           0.6834912012162158
          ]
         },
         "hovertemplate": "Model=ReXNet<br>Accuracy_mean=%{x}<br>Disparity_mean=%{y}<extra></extra>",
         "legendgroup": "ReXNet",
         "marker": {
          "color": "#3cb44b",
          "size": 20,
          "symbol": "circle"
         },
         "mode": "markers",
         "name": "ReXNet",
         "orientation": "v",
         "showlegend": true,
         "type": "scatter",
         "x": [
          0.6341269364717186
         ],
         "xaxis": "x",
         "y": [
          52.28845977783203
         ],
         "yaxis": "y"
        },
        {
         "error_x": {
          "array": [
           0.012582906836515487
          ]
         },
         "error_y": {
          "array": [
           15.973474544551888
          ]
         },
         "hovertemplate": "Model=EseVoVNet<br>Accuracy_mean=%{x}<br>Disparity_mean=%{y}<extra></extra>",
         "legendgroup": "EseVoVNet",
         "marker": {
          "color": "#fabed4",
          "size": 20,
          "symbol": "circle"
         },
         "mode": "markers",
         "name": "EseVoVNet",
         "orientation": "v",
         "showlegend": true,
         "type": "scatter",
         "x": [
          0.8735889275849645
         ],
         "xaxis": "x",
         "y": [
          173.04788970947266
         ],
         "yaxis": "y"
        }
       ],
       "layout": {
        "font": {
         "color": "Black",
         "family": "Times New Roman",
         "size": 30
        },
        "height": 1000,
        "legend": {
         "title": {
          "text": "Models"
         },
         "tracegroupgap": 0
        },
        "margin": {
         "t": 60
        },
        "template": {
         "data": {
          "bar": [
           {
            "error_x": {
             "color": "rgb(36,36,36)"
            },
            "error_y": {
             "color": "rgb(36,36,36)"
            },
            "marker": {
             "line": {
              "color": "white",
              "width": 0.5
             },
             "pattern": {
              "fillmode": "overlay",
              "size": 10,
              "solidity": 0.2
             }
            },
            "type": "bar"
           }
          ],
          "barpolar": [
           {
            "marker": {
             "line": {
              "color": "white",
              "width": 0.5
             },
             "pattern": {
              "fillmode": "overlay",
              "size": 10,
              "solidity": 0.2
             }
            },
            "type": "barpolar"
           }
          ],
          "carpet": [
           {
            "aaxis": {
             "endlinecolor": "rgb(36,36,36)",
             "gridcolor": "white",
             "linecolor": "white",
             "minorgridcolor": "white",
             "startlinecolor": "rgb(36,36,36)"
            },
            "baxis": {
             "endlinecolor": "rgb(36,36,36)",
             "gridcolor": "white",
             "linecolor": "white",
             "minorgridcolor": "white",
             "startlinecolor": "rgb(36,36,36)"
            },
            "type": "carpet"
           }
          ],
          "choropleth": [
           {
            "colorbar": {
             "outlinewidth": 1,
             "tickcolor": "rgb(36,36,36)",
             "ticks": "outside"
            },
            "type": "choropleth"
           }
          ],
          "contour": [
           {
            "colorbar": {
             "outlinewidth": 1,
             "tickcolor": "rgb(36,36,36)",
             "ticks": "outside"
            },
            "colorscale": [
             [
              0,
              "#440154"
             ],
             [
              0.1111111111111111,
              "#482878"
             ],
             [
              0.2222222222222222,
              "#3e4989"
             ],
             [
              0.3333333333333333,
              "#31688e"
             ],
             [
              0.4444444444444444,
              "#26828e"
             ],
             [
              0.5555555555555556,
              "#1f9e89"
             ],
             [
              0.6666666666666666,
              "#35b779"
             ],
             [
              0.7777777777777778,
              "#6ece58"
             ],
             [
              0.8888888888888888,
              "#b5de2b"
             ],
             [
              1,
              "#fde725"
             ]
            ],
            "type": "contour"
           }
          ],
          "contourcarpet": [
           {
            "colorbar": {
             "outlinewidth": 1,
             "tickcolor": "rgb(36,36,36)",
             "ticks": "outside"
            },
            "type": "contourcarpet"
           }
          ],
          "heatmap": [
           {
            "colorbar": {
             "outlinewidth": 1,
             "tickcolor": "rgb(36,36,36)",
             "ticks": "outside"
            },
            "colorscale": [
             [
              0,
              "#440154"
             ],
             [
              0.1111111111111111,
              "#482878"
             ],
             [
              0.2222222222222222,
              "#3e4989"
             ],
             [
              0.3333333333333333,
              "#31688e"
             ],
             [
              0.4444444444444444,
              "#26828e"
             ],
             [
              0.5555555555555556,
              "#1f9e89"
             ],
             [
              0.6666666666666666,
              "#35b779"
             ],
             [
              0.7777777777777778,
              "#6ece58"
             ],
             [
              0.8888888888888888,
              "#b5de2b"
             ],
             [
              1,
              "#fde725"
             ]
            ],
            "type": "heatmap"
           }
          ],
          "heatmapgl": [
           {
            "colorbar": {
             "outlinewidth": 1,
             "tickcolor": "rgb(36,36,36)",
             "ticks": "outside"
            },
            "colorscale": [
             [
              0,
              "#440154"
             ],
             [
              0.1111111111111111,
              "#482878"
             ],
             [
              0.2222222222222222,
              "#3e4989"
             ],
             [
              0.3333333333333333,
              "#31688e"
             ],
             [
              0.4444444444444444,
              "#26828e"
             ],
             [
              0.5555555555555556,
              "#1f9e89"
             ],
             [
              0.6666666666666666,
              "#35b779"
             ],
             [
              0.7777777777777778,
              "#6ece58"
             ],
             [
              0.8888888888888888,
              "#b5de2b"
             ],
             [
              1,
              "#fde725"
             ]
            ],
            "type": "heatmapgl"
           }
          ],
          "histogram": [
           {
            "marker": {
             "line": {
              "color": "white",
              "width": 0.6
             }
            },
            "type": "histogram"
           }
          ],
          "histogram2d": [
           {
            "colorbar": {
             "outlinewidth": 1,
             "tickcolor": "rgb(36,36,36)",
             "ticks": "outside"
            },
            "colorscale": [
             [
              0,
              "#440154"
             ],
             [
              0.1111111111111111,
              "#482878"
             ],
             [
              0.2222222222222222,
              "#3e4989"
             ],
             [
              0.3333333333333333,
              "#31688e"
             ],
             [
              0.4444444444444444,
              "#26828e"
             ],
             [
              0.5555555555555556,
              "#1f9e89"
             ],
             [
              0.6666666666666666,
              "#35b779"
             ],
             [
              0.7777777777777778,
              "#6ece58"
             ],
             [
              0.8888888888888888,
              "#b5de2b"
             ],
             [
              1,
              "#fde725"
             ]
            ],
            "type": "histogram2d"
           }
          ],
          "histogram2dcontour": [
           {
            "colorbar": {
             "outlinewidth": 1,
             "tickcolor": "rgb(36,36,36)",
             "ticks": "outside"
            },
            "colorscale": [
             [
              0,
              "#440154"
             ],
             [
              0.1111111111111111,
              "#482878"
             ],
             [
              0.2222222222222222,
              "#3e4989"
             ],
             [
              0.3333333333333333,
              "#31688e"
             ],
             [
              0.4444444444444444,
              "#26828e"
             ],
             [
              0.5555555555555556,
              "#1f9e89"
             ],
             [
              0.6666666666666666,
              "#35b779"
             ],
             [
              0.7777777777777778,
              "#6ece58"
             ],
             [
              0.8888888888888888,
              "#b5de2b"
             ],
             [
              1,
              "#fde725"
             ]
            ],
            "type": "histogram2dcontour"
           }
          ],
          "mesh3d": [
           {
            "colorbar": {
             "outlinewidth": 1,
             "tickcolor": "rgb(36,36,36)",
             "ticks": "outside"
            },
            "type": "mesh3d"
           }
          ],
          "parcoords": [
           {
            "line": {
             "colorbar": {
              "outlinewidth": 1,
              "tickcolor": "rgb(36,36,36)",
              "ticks": "outside"
             }
            },
            "type": "parcoords"
           }
          ],
          "pie": [
           {
            "automargin": true,
            "type": "pie"
           }
          ],
          "scatter": [
           {
            "marker": {
             "colorbar": {
              "outlinewidth": 1,
              "tickcolor": "rgb(36,36,36)",
              "ticks": "outside"
             }
            },
            "type": "scatter"
           }
          ],
          "scatter3d": [
           {
            "line": {
             "colorbar": {
              "outlinewidth": 1,
              "tickcolor": "rgb(36,36,36)",
              "ticks": "outside"
             }
            },
            "marker": {
             "colorbar": {
              "outlinewidth": 1,
              "tickcolor": "rgb(36,36,36)",
              "ticks": "outside"
             }
            },
            "type": "scatter3d"
           }
          ],
          "scattercarpet": [
           {
            "marker": {
             "colorbar": {
              "outlinewidth": 1,
              "tickcolor": "rgb(36,36,36)",
              "ticks": "outside"
             }
            },
            "type": "scattercarpet"
           }
          ],
          "scattergeo": [
           {
            "marker": {
             "colorbar": {
              "outlinewidth": 1,
              "tickcolor": "rgb(36,36,36)",
              "ticks": "outside"
             }
            },
            "type": "scattergeo"
           }
          ],
          "scattergl": [
           {
            "marker": {
             "colorbar": {
              "outlinewidth": 1,
              "tickcolor": "rgb(36,36,36)",
              "ticks": "outside"
             }
            },
            "type": "scattergl"
           }
          ],
          "scattermapbox": [
           {
            "marker": {
             "colorbar": {
              "outlinewidth": 1,
              "tickcolor": "rgb(36,36,36)",
              "ticks": "outside"
             }
            },
            "type": "scattermapbox"
           }
          ],
          "scatterpolar": [
           {
            "marker": {
             "colorbar": {
              "outlinewidth": 1,
              "tickcolor": "rgb(36,36,36)",
              "ticks": "outside"
             }
            },
            "type": "scatterpolar"
           }
          ],
          "scatterpolargl": [
           {
            "marker": {
             "colorbar": {
              "outlinewidth": 1,
              "tickcolor": "rgb(36,36,36)",
              "ticks": "outside"
             }
            },
            "type": "scatterpolargl"
           }
          ],
          "scatterternary": [
           {
            "marker": {
             "colorbar": {
              "outlinewidth": 1,
              "tickcolor": "rgb(36,36,36)",
              "ticks": "outside"
             }
            },
            "type": "scatterternary"
           }
          ],
          "surface": [
           {
            "colorbar": {
             "outlinewidth": 1,
             "tickcolor": "rgb(36,36,36)",
             "ticks": "outside"
            },
            "colorscale": [
             [
              0,
              "#440154"
             ],
             [
              0.1111111111111111,
              "#482878"
             ],
             [
              0.2222222222222222,
              "#3e4989"
             ],
             [
              0.3333333333333333,
              "#31688e"
             ],
             [
              0.4444444444444444,
              "#26828e"
             ],
             [
              0.5555555555555556,
              "#1f9e89"
             ],
             [
              0.6666666666666666,
              "#35b779"
             ],
             [
              0.7777777777777778,
              "#6ece58"
             ],
             [
              0.8888888888888888,
              "#b5de2b"
             ],
             [
              1,
              "#fde725"
             ]
            ],
            "type": "surface"
           }
          ],
          "table": [
           {
            "cells": {
             "fill": {
              "color": "rgb(237,237,237)"
             },
             "line": {
              "color": "white"
             }
            },
            "header": {
             "fill": {
              "color": "rgb(217,217,217)"
             },
             "line": {
              "color": "white"
             }
            },
            "type": "table"
           }
          ]
         },
         "layout": {
          "annotationdefaults": {
           "arrowhead": 0,
           "arrowwidth": 1
          },
          "autotypenumbers": "strict",
          "coloraxis": {
           "colorbar": {
            "outlinewidth": 1,
            "tickcolor": "rgb(36,36,36)",
            "ticks": "outside"
           }
          },
          "colorscale": {
           "diverging": [
            [
             0,
             "rgb(103,0,31)"
            ],
            [
             0.1,
             "rgb(178,24,43)"
            ],
            [
             0.2,
             "rgb(214,96,77)"
            ],
            [
             0.3,
             "rgb(244,165,130)"
            ],
            [
             0.4,
             "rgb(253,219,199)"
            ],
            [
             0.5,
             "rgb(247,247,247)"
            ],
            [
             0.6,
             "rgb(209,229,240)"
            ],
            [
             0.7,
             "rgb(146,197,222)"
            ],
            [
             0.8,
             "rgb(67,147,195)"
            ],
            [
             0.9,
             "rgb(33,102,172)"
            ],
            [
             1,
             "rgb(5,48,97)"
            ]
           ],
           "sequential": [
            [
             0,
             "#440154"
            ],
            [
             0.1111111111111111,
             "#482878"
            ],
            [
             0.2222222222222222,
             "#3e4989"
            ],
            [
             0.3333333333333333,
             "#31688e"
            ],
            [
             0.4444444444444444,
             "#26828e"
            ],
            [
             0.5555555555555556,
             "#1f9e89"
            ],
            [
             0.6666666666666666,
             "#35b779"
            ],
            [
             0.7777777777777778,
             "#6ece58"
            ],
            [
             0.8888888888888888,
             "#b5de2b"
            ],
            [
             1,
             "#fde725"
            ]
           ],
           "sequentialminus": [
            [
             0,
             "#440154"
            ],
            [
             0.1111111111111111,
             "#482878"
            ],
            [
             0.2222222222222222,
             "#3e4989"
            ],
            [
             0.3333333333333333,
             "#31688e"
            ],
            [
             0.4444444444444444,
             "#26828e"
            ],
            [
             0.5555555555555556,
             "#1f9e89"
            ],
            [
             0.6666666666666666,
             "#35b779"
            ],
            [
             0.7777777777777778,
             "#6ece58"
            ],
            [
             0.8888888888888888,
             "#b5de2b"
            ],
            [
             1,
             "#fde725"
            ]
           ]
          },
          "colorway": [
           "#1F77B4",
           "#FF7F0E",
           "#2CA02C",
           "#D62728",
           "#9467BD",
           "#8C564B",
           "#E377C2",
           "#7F7F7F",
           "#BCBD22",
           "#17BECF"
          ],
          "font": {
           "color": "rgb(36,36,36)"
          },
          "geo": {
           "bgcolor": "white",
           "lakecolor": "white",
           "landcolor": "white",
           "showlakes": true,
           "showland": true,
           "subunitcolor": "white"
          },
          "hoverlabel": {
           "align": "left"
          },
          "hovermode": "closest",
          "mapbox": {
           "style": "light"
          },
          "paper_bgcolor": "white",
          "plot_bgcolor": "white",
          "polar": {
           "angularaxis": {
            "gridcolor": "rgb(232,232,232)",
            "linecolor": "rgb(36,36,36)",
            "showgrid": false,
            "showline": true,
            "ticks": "outside"
           },
           "bgcolor": "white",
           "radialaxis": {
            "gridcolor": "rgb(232,232,232)",
            "linecolor": "rgb(36,36,36)",
            "showgrid": false,
            "showline": true,
            "ticks": "outside"
           }
          },
          "scene": {
           "xaxis": {
            "backgroundcolor": "white",
            "gridcolor": "rgb(232,232,232)",
            "gridwidth": 2,
            "linecolor": "rgb(36,36,36)",
            "showbackground": true,
            "showgrid": false,
            "showline": true,
            "ticks": "outside",
            "zeroline": false,
            "zerolinecolor": "rgb(36,36,36)"
           },
           "yaxis": {
            "backgroundcolor": "white",
            "gridcolor": "rgb(232,232,232)",
            "gridwidth": 2,
            "linecolor": "rgb(36,36,36)",
            "showbackground": true,
            "showgrid": false,
            "showline": true,
            "ticks": "outside",
            "zeroline": false,
            "zerolinecolor": "rgb(36,36,36)"
           },
           "zaxis": {
            "backgroundcolor": "white",
            "gridcolor": "rgb(232,232,232)",
            "gridwidth": 2,
            "linecolor": "rgb(36,36,36)",
            "showbackground": true,
            "showgrid": false,
            "showline": true,
            "ticks": "outside",
            "zeroline": false,
            "zerolinecolor": "rgb(36,36,36)"
           }
          },
          "shapedefaults": {
           "fillcolor": "black",
           "line": {
            "width": 0
           },
           "opacity": 0.3
          },
          "ternary": {
           "aaxis": {
            "gridcolor": "rgb(232,232,232)",
            "linecolor": "rgb(36,36,36)",
            "showgrid": false,
            "showline": true,
            "ticks": "outside"
           },
           "baxis": {
            "gridcolor": "rgb(232,232,232)",
            "linecolor": "rgb(36,36,36)",
            "showgrid": false,
            "showline": true,
            "ticks": "outside"
           },
           "bgcolor": "white",
           "caxis": {
            "gridcolor": "rgb(232,232,232)",
            "linecolor": "rgb(36,36,36)",
            "showgrid": false,
            "showline": true,
            "ticks": "outside"
           }
          },
          "title": {
           "x": 0.05
          },
          "xaxis": {
           "automargin": true,
           "gridcolor": "rgb(232,232,232)",
           "linecolor": "rgb(36,36,36)",
           "showgrid": false,
           "showline": true,
           "ticks": "outside",
           "title": {
            "standoff": 15
           },
           "zeroline": false,
           "zerolinecolor": "rgb(36,36,36)"
          },
          "yaxis": {
           "automargin": true,
           "gridcolor": "rgb(232,232,232)",
           "linecolor": "rgb(36,36,36)",
           "showgrid": false,
           "showline": true,
           "ticks": "outside",
           "title": {
            "standoff": 15
           },
           "zeroline": false,
           "zerolinecolor": "rgb(36,36,36)"
          }
         }
        },
        "title": {
         "text": "Trained on CelebA; Tested on RFW"
        },
        "width": 1200,
        "xaxis": {
         "anchor": "y",
         "domain": [
          0,
          1
         ],
         "title": {
          "text": "Error"
         }
        },
        "yaxis": {
         "anchor": "x",
         "domain": [
          0,
          1
         ],
         "title": {
          "text": "Rank Disparity"
         }
        }
       }
      },
      "text/html": [
       "<div>                            <div id=\"ea4e52f6-6eed-4f89-ba88-6433443998be\" class=\"plotly-graph-div\" style=\"height:1000px; width:1200px;\"></div>            <script type=\"text/javascript\">                require([\"plotly\"], function(Plotly) {                    window.PLOTLYENV=window.PLOTLYENV || {};                                    if (document.getElementById(\"ea4e52f6-6eed-4f89-ba88-6433443998be\")) {                    Plotly.newPlot(                        \"ea4e52f6-6eed-4f89-ba88-6433443998be\",                        [{\"error_x\":{\"array\":[0.0022044250651264436,0.004244564838282041,0.0016138195234105376]},\"error_y\":{\"array\":[1.5426720796185378,0.6733898352882149,3.595578924580969]},\"hovertemplate\":\"Model=SMAC<br>Accuracy_mean=%{x}<br>Disparity_mean=%{y}<extra></extra>\",\"legendgroup\":\"SMAC\",\"marker\":{\"color\":\"#dcbeff\",\"symbol\":\"circle\",\"size\":20},\"mode\":\"markers\",\"name\":\"SMAC\",\"orientation\":\"v\",\"showlegend\":true,\"x\":[0.35161973099555666,0.38039660141707693,0.39707427645010207],\"xaxis\":\"x\",\"y\":[32.780141830444336,41.80488204956055,50.41575527191162],\"yaxis\":\"y\",\"type\":\"scatter\"},{\"error_x\":{\"array\":[0.0036256902811335322]},\"error_y\":{\"array\":[18.683135546294324]},\"hovertemplate\":\"Model=Other<br>Accuracy_mean=%{x}<br>Disparity_mean=%{y}<extra></extra>\",\"legendgroup\":\"Other\",\"marker\":{\"color\":\"#ffe119\",\"symbol\":\"circle\",\"size\":20},\"mode\":\"markers\",\"name\":\"Other\",\"orientation\":\"v\",\"showlegend\":true,\"x\":[0.843228353548697],\"xaxis\":\"x\",\"y\":[139.8095245361328],\"yaxis\":\"y\",\"type\":\"scatter\"},{\"error_x\":{\"array\":[0.004406206453648044]},\"error_y\":{\"array\":[39.34505745552746]},\"hovertemplate\":\"Model=DenseNet<br>Accuracy_mean=%{x}<br>Disparity_mean=%{y}<extra></extra>\",\"legendgroup\":\"DenseNet\",\"marker\":{\"color\":\"#000075\",\"symbol\":\"circle\",\"size\":20},\"mode\":\"markers\",\"name\":\"DenseNet\",\"orientation\":\"v\",\"showlegend\":true,\"x\":[0.7817866578599736],\"xaxis\":\"x\",\"y\":[154.81008911132812],\"yaxis\":\"y\",\"type\":\"scatter\"},{\"error_x\":{\"array\":[0.00465193304247025]},\"error_y\":{\"array\":[5.869824170141104]},\"hovertemplate\":\"Model=DPN_MagFace<br>Accuracy_mean=%{x}<br>Disparity_mean=%{y}<extra></extra>\",\"legendgroup\":\"DPN_MagFace\",\"marker\":{\"color\":\"#e6194B\",\"symbol\":\"circle\",\"size\":20},\"mode\":\"markers\",\"name\":\"DPN_MagFace\",\"orientation\":\"v\",\"showlegend\":true,\"x\":[0.6790660902285738],\"xaxis\":\"x\",\"y\":[57.88194783528646],\"yaxis\":\"y\",\"type\":\"scatter\"},{\"error_x\":{\"array\":[0.006416932408783147]},\"error_y\":{\"array\":[3.9969033903954423]},\"hovertemplate\":\"Model=TNT<br>Accuracy_mean=%{x}<br>Disparity_mean=%{y}<extra></extra>\",\"legendgroup\":\"TNT\",\"marker\":{\"color\":\"#f58231\",\"symbol\":\"circle\",\"size\":20},\"mode\":\"markers\",\"name\":\"TNT\",\"orientation\":\"v\",\"showlegend\":true,\"x\":[0.7019709979584484],\"xaxis\":\"x\",\"y\":[95.26696395874023],\"yaxis\":\"y\",\"type\":\"scatter\"},{\"error_x\":{\"array\":[0.00773394515050536]},\"error_y\":{\"array\":[2.125878100293308]},\"hovertemplate\":\"Model=DPN_CosFace<br>Accuracy_mean=%{x}<br>Disparity_mean=%{y}<extra></extra>\",\"legendgroup\":\"DPN_CosFace\",\"marker\":{\"color\":\"#9a6324\",\"symbol\":\"circle\",\"size\":20},\"mode\":\"markers\",\"name\":\"DPN_CosFace\",\"orientation\":\"v\",\"showlegend\":true,\"x\":[0.43708718626155874],\"xaxis\":\"x\",\"y\":[33.58052158355713],\"yaxis\":\"y\",\"type\":\"scatter\"},{\"error_x\":{\"array\":[0.0023171929918229797]},\"error_y\":{\"array\":[0.6834912012162158]},\"hovertemplate\":\"Model=ReXNet<br>Accuracy_mean=%{x}<br>Disparity_mean=%{y}<extra></extra>\",\"legendgroup\":\"ReXNet\",\"marker\":{\"color\":\"#3cb44b\",\"symbol\":\"circle\",\"size\":20},\"mode\":\"markers\",\"name\":\"ReXNet\",\"orientation\":\"v\",\"showlegend\":true,\"x\":[0.6341269364717186],\"xaxis\":\"x\",\"y\":[52.28845977783203],\"yaxis\":\"y\",\"type\":\"scatter\"},{\"error_x\":{\"array\":[0.012582906836515487]},\"error_y\":{\"array\":[15.973474544551888]},\"hovertemplate\":\"Model=EseVoVNet<br>Accuracy_mean=%{x}<br>Disparity_mean=%{y}<extra></extra>\",\"legendgroup\":\"EseVoVNet\",\"marker\":{\"color\":\"#fabed4\",\"symbol\":\"circle\",\"size\":20},\"mode\":\"markers\",\"name\":\"EseVoVNet\",\"orientation\":\"v\",\"showlegend\":true,\"x\":[0.8735889275849645],\"xaxis\":\"x\",\"y\":[173.04788970947266],\"yaxis\":\"y\",\"type\":\"scatter\"}],                        {\"template\":{\"data\":{\"barpolar\":[{\"marker\":{\"line\":{\"color\":\"white\",\"width\":0.5},\"pattern\":{\"fillmode\":\"overlay\",\"size\":10,\"solidity\":0.2}},\"type\":\"barpolar\"}],\"bar\":[{\"error_x\":{\"color\":\"rgb(36,36,36)\"},\"error_y\":{\"color\":\"rgb(36,36,36)\"},\"marker\":{\"line\":{\"color\":\"white\",\"width\":0.5},\"pattern\":{\"fillmode\":\"overlay\",\"size\":10,\"solidity\":0.2}},\"type\":\"bar\"}],\"carpet\":[{\"aaxis\":{\"endlinecolor\":\"rgb(36,36,36)\",\"gridcolor\":\"white\",\"linecolor\":\"white\",\"minorgridcolor\":\"white\",\"startlinecolor\":\"rgb(36,36,36)\"},\"baxis\":{\"endlinecolor\":\"rgb(36,36,36)\",\"gridcolor\":\"white\",\"linecolor\":\"white\",\"minorgridcolor\":\"white\",\"startlinecolor\":\"rgb(36,36,36)\"},\"type\":\"carpet\"}],\"choropleth\":[{\"colorbar\":{\"outlinewidth\":1,\"tickcolor\":\"rgb(36,36,36)\",\"ticks\":\"outside\"},\"type\":\"choropleth\"}],\"contourcarpet\":[{\"colorbar\":{\"outlinewidth\":1,\"tickcolor\":\"rgb(36,36,36)\",\"ticks\":\"outside\"},\"type\":\"contourcarpet\"}],\"contour\":[{\"colorbar\":{\"outlinewidth\":1,\"tickcolor\":\"rgb(36,36,36)\",\"ticks\":\"outside\"},\"colorscale\":[[0.0,\"#440154\"],[0.1111111111111111,\"#482878\"],[0.2222222222222222,\"#3e4989\"],[0.3333333333333333,\"#31688e\"],[0.4444444444444444,\"#26828e\"],[0.5555555555555556,\"#1f9e89\"],[0.6666666666666666,\"#35b779\"],[0.7777777777777778,\"#6ece58\"],[0.8888888888888888,\"#b5de2b\"],[1.0,\"#fde725\"]],\"type\":\"contour\"}],\"heatmapgl\":[{\"colorbar\":{\"outlinewidth\":1,\"tickcolor\":\"rgb(36,36,36)\",\"ticks\":\"outside\"},\"colorscale\":[[0.0,\"#440154\"],[0.1111111111111111,\"#482878\"],[0.2222222222222222,\"#3e4989\"],[0.3333333333333333,\"#31688e\"],[0.4444444444444444,\"#26828e\"],[0.5555555555555556,\"#1f9e89\"],[0.6666666666666666,\"#35b779\"],[0.7777777777777778,\"#6ece58\"],[0.8888888888888888,\"#b5de2b\"],[1.0,\"#fde725\"]],\"type\":\"heatmapgl\"}],\"heatmap\":[{\"colorbar\":{\"outlinewidth\":1,\"tickcolor\":\"rgb(36,36,36)\",\"ticks\":\"outside\"},\"colorscale\":[[0.0,\"#440154\"],[0.1111111111111111,\"#482878\"],[0.2222222222222222,\"#3e4989\"],[0.3333333333333333,\"#31688e\"],[0.4444444444444444,\"#26828e\"],[0.5555555555555556,\"#1f9e89\"],[0.6666666666666666,\"#35b779\"],[0.7777777777777778,\"#6ece58\"],[0.8888888888888888,\"#b5de2b\"],[1.0,\"#fde725\"]],\"type\":\"heatmap\"}],\"histogram2dcontour\":[{\"colorbar\":{\"outlinewidth\":1,\"tickcolor\":\"rgb(36,36,36)\",\"ticks\":\"outside\"},\"colorscale\":[[0.0,\"#440154\"],[0.1111111111111111,\"#482878\"],[0.2222222222222222,\"#3e4989\"],[0.3333333333333333,\"#31688e\"],[0.4444444444444444,\"#26828e\"],[0.5555555555555556,\"#1f9e89\"],[0.6666666666666666,\"#35b779\"],[0.7777777777777778,\"#6ece58\"],[0.8888888888888888,\"#b5de2b\"],[1.0,\"#fde725\"]],\"type\":\"histogram2dcontour\"}],\"histogram2d\":[{\"colorbar\":{\"outlinewidth\":1,\"tickcolor\":\"rgb(36,36,36)\",\"ticks\":\"outside\"},\"colorscale\":[[0.0,\"#440154\"],[0.1111111111111111,\"#482878\"],[0.2222222222222222,\"#3e4989\"],[0.3333333333333333,\"#31688e\"],[0.4444444444444444,\"#26828e\"],[0.5555555555555556,\"#1f9e89\"],[0.6666666666666666,\"#35b779\"],[0.7777777777777778,\"#6ece58\"],[0.8888888888888888,\"#b5de2b\"],[1.0,\"#fde725\"]],\"type\":\"histogram2d\"}],\"histogram\":[{\"marker\":{\"line\":{\"color\":\"white\",\"width\":0.6}},\"type\":\"histogram\"}],\"mesh3d\":[{\"colorbar\":{\"outlinewidth\":1,\"tickcolor\":\"rgb(36,36,36)\",\"ticks\":\"outside\"},\"type\":\"mesh3d\"}],\"parcoords\":[{\"line\":{\"colorbar\":{\"outlinewidth\":1,\"tickcolor\":\"rgb(36,36,36)\",\"ticks\":\"outside\"}},\"type\":\"parcoords\"}],\"pie\":[{\"automargin\":true,\"type\":\"pie\"}],\"scatter3d\":[{\"line\":{\"colorbar\":{\"outlinewidth\":1,\"tickcolor\":\"rgb(36,36,36)\",\"ticks\":\"outside\"}},\"marker\":{\"colorbar\":{\"outlinewidth\":1,\"tickcolor\":\"rgb(36,36,36)\",\"ticks\":\"outside\"}},\"type\":\"scatter3d\"}],\"scattercarpet\":[{\"marker\":{\"colorbar\":{\"outlinewidth\":1,\"tickcolor\":\"rgb(36,36,36)\",\"ticks\":\"outside\"}},\"type\":\"scattercarpet\"}],\"scattergeo\":[{\"marker\":{\"colorbar\":{\"outlinewidth\":1,\"tickcolor\":\"rgb(36,36,36)\",\"ticks\":\"outside\"}},\"type\":\"scattergeo\"}],\"scattergl\":[{\"marker\":{\"colorbar\":{\"outlinewidth\":1,\"tickcolor\":\"rgb(36,36,36)\",\"ticks\":\"outside\"}},\"type\":\"scattergl\"}],\"scattermapbox\":[{\"marker\":{\"colorbar\":{\"outlinewidth\":1,\"tickcolor\":\"rgb(36,36,36)\",\"ticks\":\"outside\"}},\"type\":\"scattermapbox\"}],\"scatterpolargl\":[{\"marker\":{\"colorbar\":{\"outlinewidth\":1,\"tickcolor\":\"rgb(36,36,36)\",\"ticks\":\"outside\"}},\"type\":\"scatterpolargl\"}],\"scatterpolar\":[{\"marker\":{\"colorbar\":{\"outlinewidth\":1,\"tickcolor\":\"rgb(36,36,36)\",\"ticks\":\"outside\"}},\"type\":\"scatterpolar\"}],\"scatter\":[{\"marker\":{\"colorbar\":{\"outlinewidth\":1,\"tickcolor\":\"rgb(36,36,36)\",\"ticks\":\"outside\"}},\"type\":\"scatter\"}],\"scatterternary\":[{\"marker\":{\"colorbar\":{\"outlinewidth\":1,\"tickcolor\":\"rgb(36,36,36)\",\"ticks\":\"outside\"}},\"type\":\"scatterternary\"}],\"surface\":[{\"colorbar\":{\"outlinewidth\":1,\"tickcolor\":\"rgb(36,36,36)\",\"ticks\":\"outside\"},\"colorscale\":[[0.0,\"#440154\"],[0.1111111111111111,\"#482878\"],[0.2222222222222222,\"#3e4989\"],[0.3333333333333333,\"#31688e\"],[0.4444444444444444,\"#26828e\"],[0.5555555555555556,\"#1f9e89\"],[0.6666666666666666,\"#35b779\"],[0.7777777777777778,\"#6ece58\"],[0.8888888888888888,\"#b5de2b\"],[1.0,\"#fde725\"]],\"type\":\"surface\"}],\"table\":[{\"cells\":{\"fill\":{\"color\":\"rgb(237,237,237)\"},\"line\":{\"color\":\"white\"}},\"header\":{\"fill\":{\"color\":\"rgb(217,217,217)\"},\"line\":{\"color\":\"white\"}},\"type\":\"table\"}]},\"layout\":{\"annotationdefaults\":{\"arrowhead\":0,\"arrowwidth\":1},\"autotypenumbers\":\"strict\",\"coloraxis\":{\"colorbar\":{\"outlinewidth\":1,\"tickcolor\":\"rgb(36,36,36)\",\"ticks\":\"outside\"}},\"colorscale\":{\"diverging\":[[0.0,\"rgb(103,0,31)\"],[0.1,\"rgb(178,24,43)\"],[0.2,\"rgb(214,96,77)\"],[0.3,\"rgb(244,165,130)\"],[0.4,\"rgb(253,219,199)\"],[0.5,\"rgb(247,247,247)\"],[0.6,\"rgb(209,229,240)\"],[0.7,\"rgb(146,197,222)\"],[0.8,\"rgb(67,147,195)\"],[0.9,\"rgb(33,102,172)\"],[1.0,\"rgb(5,48,97)\"]],\"sequential\":[[0.0,\"#440154\"],[0.1111111111111111,\"#482878\"],[0.2222222222222222,\"#3e4989\"],[0.3333333333333333,\"#31688e\"],[0.4444444444444444,\"#26828e\"],[0.5555555555555556,\"#1f9e89\"],[0.6666666666666666,\"#35b779\"],[0.7777777777777778,\"#6ece58\"],[0.8888888888888888,\"#b5de2b\"],[1.0,\"#fde725\"]],\"sequentialminus\":[[0.0,\"#440154\"],[0.1111111111111111,\"#482878\"],[0.2222222222222222,\"#3e4989\"],[0.3333333333333333,\"#31688e\"],[0.4444444444444444,\"#26828e\"],[0.5555555555555556,\"#1f9e89\"],[0.6666666666666666,\"#35b779\"],[0.7777777777777778,\"#6ece58\"],[0.8888888888888888,\"#b5de2b\"],[1.0,\"#fde725\"]]},\"colorway\":[\"#1F77B4\",\"#FF7F0E\",\"#2CA02C\",\"#D62728\",\"#9467BD\",\"#8C564B\",\"#E377C2\",\"#7F7F7F\",\"#BCBD22\",\"#17BECF\"],\"font\":{\"color\":\"rgb(36,36,36)\"},\"geo\":{\"bgcolor\":\"white\",\"lakecolor\":\"white\",\"landcolor\":\"white\",\"showlakes\":true,\"showland\":true,\"subunitcolor\":\"white\"},\"hoverlabel\":{\"align\":\"left\"},\"hovermode\":\"closest\",\"mapbox\":{\"style\":\"light\"},\"paper_bgcolor\":\"white\",\"plot_bgcolor\":\"white\",\"polar\":{\"angularaxis\":{\"gridcolor\":\"rgb(232,232,232)\",\"linecolor\":\"rgb(36,36,36)\",\"showgrid\":false,\"showline\":true,\"ticks\":\"outside\"},\"bgcolor\":\"white\",\"radialaxis\":{\"gridcolor\":\"rgb(232,232,232)\",\"linecolor\":\"rgb(36,36,36)\",\"showgrid\":false,\"showline\":true,\"ticks\":\"outside\"}},\"scene\":{\"xaxis\":{\"backgroundcolor\":\"white\",\"gridcolor\":\"rgb(232,232,232)\",\"gridwidth\":2,\"linecolor\":\"rgb(36,36,36)\",\"showbackground\":true,\"showgrid\":false,\"showline\":true,\"ticks\":\"outside\",\"zeroline\":false,\"zerolinecolor\":\"rgb(36,36,36)\"},\"yaxis\":{\"backgroundcolor\":\"white\",\"gridcolor\":\"rgb(232,232,232)\",\"gridwidth\":2,\"linecolor\":\"rgb(36,36,36)\",\"showbackground\":true,\"showgrid\":false,\"showline\":true,\"ticks\":\"outside\",\"zeroline\":false,\"zerolinecolor\":\"rgb(36,36,36)\"},\"zaxis\":{\"backgroundcolor\":\"white\",\"gridcolor\":\"rgb(232,232,232)\",\"gridwidth\":2,\"linecolor\":\"rgb(36,36,36)\",\"showbackground\":true,\"showgrid\":false,\"showline\":true,\"ticks\":\"outside\",\"zeroline\":false,\"zerolinecolor\":\"rgb(36,36,36)\"}},\"shapedefaults\":{\"fillcolor\":\"black\",\"line\":{\"width\":0},\"opacity\":0.3},\"ternary\":{\"aaxis\":{\"gridcolor\":\"rgb(232,232,232)\",\"linecolor\":\"rgb(36,36,36)\",\"showgrid\":false,\"showline\":true,\"ticks\":\"outside\"},\"baxis\":{\"gridcolor\":\"rgb(232,232,232)\",\"linecolor\":\"rgb(36,36,36)\",\"showgrid\":false,\"showline\":true,\"ticks\":\"outside\"},\"bgcolor\":\"white\",\"caxis\":{\"gridcolor\":\"rgb(232,232,232)\",\"linecolor\":\"rgb(36,36,36)\",\"showgrid\":false,\"showline\":true,\"ticks\":\"outside\"}},\"title\":{\"x\":0.05},\"xaxis\":{\"automargin\":true,\"gridcolor\":\"rgb(232,232,232)\",\"linecolor\":\"rgb(36,36,36)\",\"showgrid\":false,\"showline\":true,\"ticks\":\"outside\",\"title\":{\"standoff\":15},\"zeroline\":false,\"zerolinecolor\":\"rgb(36,36,36)\"},\"yaxis\":{\"automargin\":true,\"gridcolor\":\"rgb(232,232,232)\",\"linecolor\":\"rgb(36,36,36)\",\"showgrid\":false,\"showline\":true,\"ticks\":\"outside\",\"title\":{\"standoff\":15},\"zeroline\":false,\"zerolinecolor\":\"rgb(36,36,36)\"}}},\"xaxis\":{\"anchor\":\"y\",\"domain\":[0.0,1.0],\"title\":{\"text\":\"Error\"}},\"yaxis\":{\"anchor\":\"x\",\"domain\":[0.0,1.0],\"title\":{\"text\":\"Rank Disparity\"}},\"legend\":{\"title\":{\"text\":\"Models\"},\"tracegroupgap\":0},\"margin\":{\"t\":60},\"height\":1000,\"width\":1200,\"font\":{\"family\":\"Times New Roman\",\"size\":30,\"color\":\"Black\"},\"title\":{\"text\":\"Trained on CelebA; Tested on RFW\"}},                        {\"responsive\": true}                    ).then(function(){\n",
       "                            \n",
       "var gd = document.getElementById('ea4e52f6-6eed-4f89-ba88-6433443998be');\n",
       "var x = new MutationObserver(function (mutations, observer) {{\n",
       "        var display = window.getComputedStyle(gd).display;\n",
       "        if (!display || display === 'none') {{\n",
       "            console.log([gd, 'removed!']);\n",
       "            Plotly.purge(gd);\n",
       "            observer.disconnect();\n",
       "        }}\n",
       "}});\n",
       "\n",
       "// Listen for the removal of the full notebook cells\n",
       "var notebookContainer = gd.closest('#notebook-container');\n",
       "if (notebookContainer) {{\n",
       "    x.observe(notebookContainer, {childList: true});\n",
       "}}\n",
       "\n",
       "// Listen for the clearing of the current output cell\n",
       "var outputEl = gd.closest('.output');\n",
       "if (outputEl) {{\n",
       "    x.observe(outputEl, {childList: true});\n",
       "}}\n",
       "\n",
       "                        })                };                });            </script>        </div>"
      ]
     },
     "metadata": {},
     "output_type": "display_data"
    }
   ],
   "source": [
    "df_val, df_test = phase2('Rank Disparity', '', 2, plot=True)\n",
    "# df_val, df_test = phase2('Disparity','disparity', 1, plot=True)\n",
    "# df_val, df_test = phase2('Rank Ratio', 'rank_ratio', 2, ratio=True, plot=True)\n",
    "# df_val, df_test = phase2('Ratio', 'ratio', 1, ratio=True, plot=True)\n",
    "# df_val, df_test = phase2('Error Ratio', 'error_ratio', 1, ratio=True, error=True, plot=True)"
   ]
  },
  {
   "cell_type": "markdown",
   "id": "32f3b618",
   "metadata": {},
   "source": [
    "## VGGFace2"
   ]
  },
  {
   "cell_type": "code",
   "execution_count": 30,
   "id": "8ad5aca9",
   "metadata": {},
   "outputs": [],
   "source": [
    "def make_tables(metric_function_output, **args):\n",
    "    results = []\n",
    "    for split in ['val','test']:\n",
    "        metadata = pd.read_csv(f'vggface2_{split}_identities_gender.csv')\n",
    "        for seed in [111,222,333]:\n",
    "            acc_list_rfw, disp_list_rfw = [],[]\n",
    "            rank_files = glob.glob(f'RFW_vggface2/**_{seed}/**/*11_test.pkl')\n",
    "            for a in ['AfAs', 'AfCa', 'AfIn', 'AsCa', 'AsIn', 'CaIn']:\n",
    "                metadata = pd.read_csv(f'RFW_{a}_test_identities_ethnicity.csv')\n",
    "\n",
    "                epochs = ['epoch_'+str(i) for i in [11]]\n",
    "                acc_df_vgg, _, _ = analyze_pickle_files([[x] for x in rank_files], metadata, epochs=epochs)\n",
    "                disp_df = analyze_pickle_files([[x] for x in rank_files], metadata, epochs=epochs, **args)[metric_function_output]\n",
    "                acc_df_vgg['Metric'] = 1 - acc_df_vgg['Metric']\n",
    "                \n",
    "                acc_list_rfw += [acc_df_vgg]\n",
    "                disp_list_rfw += [disp_df]\n",
    "\n",
    "            acc_df_rfw = reduce_list_rfw(acc_list_rfw, f=np.mean)\n",
    "            disp_df_rfw = reduce_list_rfw(disp_list_rfw)\n",
    "                \n",
    "            res = {\n",
    "                'split': split,\n",
    "                'seed': seed,\n",
    "                'acc_df': acc_df_rfw[['index','Metric']].set_index('index'),\n",
    "                'disp_df': disp_df_rfw[['index','Metric']].set_index('index')\n",
    "                  }\n",
    "            results += [res]\n",
    "    df_val = reduce_results(results, 'val')\n",
    "    df_test = reduce_results(results, 'test')\n",
    "    return df_val, df_test"
   ]
  },
  {
   "cell_type": "code",
   "execution_count": 35,
   "id": "00dbb45a",
   "metadata": {},
   "outputs": [],
   "source": [
    "def plot_figure(metric_name, metric_suffix, split, df):\n",
    "    fig = px.scatter(df, \n",
    "                     x='Accuracy_mean', \n",
    "                     y='Disparity_mean', \n",
    "                     error_x = \"Accuracy_std\", \n",
    "                     error_y = \"Disparity_std\", \n",
    "                     color=\"Model\", \n",
    "                     color_discrete_map=color_map,\n",
    "                     template=\"simple_white\",\n",
    "                     width=1200, height= 1000\n",
    "                    )\n",
    "#     if metric_name == 'Rank Disparity':\n",
    "#         fig.update_layout(\n",
    "#             xaxis_range=[0,0.15],\n",
    "#             yaxis_range=[-.01,.6]\n",
    "#         )\n",
    "    fig.update_layout(\n",
    "        xaxis_title=\"Error\",\n",
    "        yaxis_title=metric_name,\n",
    "        title=\"Trained on VGGFace2; Tested on RFW\",\n",
    "        legend_title=\"Models\",\n",
    "        font=dict(\n",
    "            family=\"Times New Roman\",\n",
    "            size=30,\n",
    "            color=\"Black\"\n",
    "        )\n",
    "    )\n",
    "    fig.update_traces(marker=dict(size=20))\n",
    "#     fig.update_layout(legend=dict(\n",
    "#         orientation=\"h\",\n",
    "#         yanchor=\"bottom\",\n",
    "#         y=1.02,\n",
    "#         xanchor=\"right\",\n",
    "#         x=1,\n",
    "#         font=dict(\n",
    "#             family=\"Times New Roman\",\n",
    "#             size=28,\n",
    "#             color=\"Black\"\n",
    "#         )\n",
    "#     ))\n",
    "    p = np.array(preparePareto(df[['Accuracy_mean','Disparity_mean']], False, False).dropna())\n",
    "    for x, y in zip(p[:-1], p[1:]):\n",
    "        fig.add_shape(type='line',\n",
    "                    x0=x[0],y0=x[1],x1=y[0],y1=y[1],\n",
    "                    line=dict(color='gray',width=4),line_dash='dash',\n",
    "                    xref='x',yref='y')\n",
    "#     plotly.io.write_image(fig, f'_RQ2_{split}_vgg_{metric_suffix}.png', format='png')\n",
    "    fig.show()"
   ]
  },
  {
   "cell_type": "code",
   "execution_count": 36,
   "id": "db39389c",
   "metadata": {},
   "outputs": [],
   "source": [
    "colors = ['#e6194B', '#3cb44b', '#ffe119','#f58231','#42d4f4',\n",
    "          '#f032e6','#fabed4','#469990','#aaffc3','#000075','#e6194B','#9a6324','#dcbeff', '#42d4f4']\n",
    "plotted_models = ['DPN','ReXNet', 'Other', 'TNT', 'Inception', 'HRNet', 'EseVoVNet', 'VGG19', 'ResNet-RS', \n",
    "                 'DenseNet', 'DPN_MagFace', 'DPN_CosFace', 'SMAC', 'Swin_Transformer']\n",
    "color_map = {}\n",
    "for c,m in zip(colors,plotted_models):\n",
    "    color_map[m] = c"
   ]
  },
  {
   "cell_type": "code",
   "execution_count": 37,
   "id": "f26ff807",
   "metadata": {},
   "outputs": [],
   "source": [
    "def phase2(metric_name, metric_suffix, metric_function_output, plot=False, **args):\n",
    "    lookup = {\n",
    "        'Checkpoints_Edges_301_LR_0.13828312564892567_Head': 'SMAC',\n",
    "        'Checkpoints_Edges_600_LR_0.6708884458871945_Head': 'SMAC',\n",
    "        'Checkpoints_Edges_248_LR_0.09532880096168164_Head': 'SMAC',\n",
    "        'Checkpoints_Edges_258_LR_0.1404172769842098_Head': 'SMAC',\n",
    "        'coat_lite_small': 'Other',\n",
    "        'convit_base': 'Other',\n",
    "        'cspdarknet53': 'Other',\n",
    "        'dla102x2': 'Other',\n",
    "        'DPN_ArcFace': 'Other',\n",
    "        'DPN_MagFace': 'DPN_MagFace',\n",
    "        'DPN_CosFace': 'DPN_CosFace',\n",
    "        'ese_vovnet39b': 'EseVoVNet',\n",
    "        'hrnet_w64': 'HRNet',\n",
    "        'jx_nest_base': 'Other',\n",
    "        'rexnet_200': 'ReXNet',\n",
    "        'swin_base_patch4_window7_224': 'Swin_Transformer',\n",
    "        'tf_efficientnet_b7_ns': 'Other',\n",
    "        'tnt_s_patch16_224': 'TNT',\n",
    "        'twins_svt_large': 'Other'\n",
    "    }\n",
    "    \n",
    "    df_val, df_test = make_tables(metric_function_output, **args)\n",
    "    df_val['Model'] = df_val['Model'].apply(lambda l: lookup[l])\n",
    "    df_test['Model'] = df_test['Model'].apply(lambda l: lookup[l])\n",
    "    if plot:\n",
    "        plot_figure(metric_name, metric_suffix, 'val', df_val)\n",
    "        plot_figure(metric_name, metric_suffix, 'test', df_test)   \n",
    "    return df_val, df_test"
   ]
  },
  {
   "cell_type": "code",
   "execution_count": 38,
   "id": "c4110bca",
   "metadata": {
    "scrolled": false
   },
   "outputs": [
    {
     "name": "stderr",
     "output_type": "stream",
     "text": [
      "/tmp/ipykernel_2872641/2370129866.py:9: FutureWarning:\n",
      "\n",
      "Passing 'suffixes' which cause duplicate columns {'Metric_x'} in the result is deprecated and will raise a MergeError in a future version.\n",
      "\n",
      "/tmp/ipykernel_2872641/2370129866.py:9: FutureWarning:\n",
      "\n",
      "Passing 'suffixes' which cause duplicate columns {'Metric_x'} in the result is deprecated and will raise a MergeError in a future version.\n",
      "\n",
      "/tmp/ipykernel_2872641/2370129866.py:9: FutureWarning:\n",
      "\n",
      "Passing 'suffixes' which cause duplicate columns {'Metric_x'} in the result is deprecated and will raise a MergeError in a future version.\n",
      "\n",
      "/tmp/ipykernel_2872641/2370129866.py:9: FutureWarning:\n",
      "\n",
      "Passing 'suffixes' which cause duplicate columns {'Metric_x'} in the result is deprecated and will raise a MergeError in a future version.\n",
      "\n",
      "/tmp/ipykernel_2872641/2370129866.py:9: FutureWarning:\n",
      "\n",
      "Passing 'suffixes' which cause duplicate columns {'Metric_x'} in the result is deprecated and will raise a MergeError in a future version.\n",
      "\n",
      "/tmp/ipykernel_2872641/2370129866.py:9: FutureWarning:\n",
      "\n",
      "Passing 'suffixes' which cause duplicate columns {'Metric_x'} in the result is deprecated and will raise a MergeError in a future version.\n",
      "\n"
     ]
    },
    {
     "data": {
      "application/vnd.plotly.v1+json": {
       "config": {
        "plotlyServerURL": "https://plot.ly"
       },
       "data": [
        {
         "error_x": {
          "array": [
           0.01169092259469165
          ]
         },
         "error_y": {
          "array": [
           0.4014650186640361
          ]
         },
         "hovertemplate": "Model=Swin_Transformer<br>Accuracy_mean=%{x}<br>Disparity_mean=%{y}<extra></extra>",
         "legendgroup": "Swin_Transformer",
         "marker": {
          "color": "#42d4f4",
          "size": 20,
          "symbol": "circle"
         },
         "mode": "markers",
         "name": "Swin_Transformer",
         "orientation": "v",
         "showlegend": true,
         "type": "scatter",
         "x": [
          0.3756454905728353
         ],
         "xaxis": "x",
         "y": [
          8.486611684163412
         ],
         "yaxis": "y"
        },
        {
         "error_x": {
          "array": [
           0.0015113472863658817,
           0.0025914288889971266,
           0.005485510064429356,
           0.0001418822993350371
          ]
         },
         "error_y": {
          "array": [
           1.120409480763024,
           1.255977889100877,
           1.6358231001853534,
           0.46904329789232574
          ]
         },
         "hovertemplate": "Model=ReXNet<br>Accuracy_mean=%{x}<br>Disparity_mean=%{y}<extra></extra>",
         "legendgroup": "ReXNet",
         "marker": {
          "color": "#3cb44b",
          "size": 20,
          "symbol": "circle"
         },
         "mode": "markers",
         "name": "ReXNet",
         "orientation": "v",
         "showlegend": true,
         "type": "scatter",
         "x": [
          0.34125935711140465,
          0.31352828149393536,
          0.3256474920939914,
          0.5498078539690163
         ],
         "xaxis": "x",
         "y": [
          11.12509536743164,
          9.096274058024088,
          9.44253667195638,
          46.00132369995117
         ],
         "yaxis": "y"
        },
        {
         "error_x": {
          "array": [
           0.004603618313581875,
           0.006100175486043615,
           0.0012644482184129596,
           0.003490072705240222
          ]
         },
         "error_y": {
          "array": [
           2.307617052484892,
           0.5236168580985437,
           1.7713942461050698,
           0.5441691432667206
          ]
         },
         "hovertemplate": "Model=DPN_CosFace<br>Accuracy_mean=%{x}<br>Disparity_mean=%{y}<extra></extra>",
         "legendgroup": "DPN_CosFace",
         "marker": {
          "color": "#9a6324",
          "size": 20,
          "symbol": "circle"
         },
         "mode": "markers",
         "name": "DPN_CosFace",
         "orientation": "v",
         "showlegend": true,
         "type": "scatter",
         "x": [
          0.39125735559024855,
          0.2799027260718146,
          0.3618850326247948,
          0.30060846243144795
         ],
         "xaxis": "x",
         "y": [
          17.870302200317383,
          6.501541455586751,
          14.03646723429362,
          9.290701230367025
         ],
         "yaxis": "y"
        },
        {
         "error_x": {
          "array": [
           0.01736752731120318,
           0.03457302788111675,
           0.011739958128075092,
           0.0033023886009893506,
           0.008295689502158072,
           0.0010620800015215923,
           0.008704822376737165,
           0.01001111283171606,
           0.0019676082986980824,
           0.003318498536488281,
           0.01371917195456359,
           0.002293183414304575,
           0.002389471752613796,
           0.01053825598523417
          ]
         },
         "error_y": {
          "array": [
           63.016281287938675,
           30.654125013887267,
           5.4824265888522925,
           1.5420671141602937,
           2.8644808875701697,
           2.6855680376508055,
           0.7417634143045153,
           5.876631621655948,
           2.887995517275659,
           0.7957520895144665,
           1.9854245351626607,
           8.699167565780357,
           4.125215859718164,
           5.52670329041205
          ]
         },
         "hovertemplate": "Model=Other<br>Accuracy_mean=%{x}<br>Disparity_mean=%{y}<extra></extra>",
         "legendgroup": "Other",
         "marker": {
          "color": "#ffe119",
          "size": 20,
          "symbol": "circle"
         },
         "mode": "markers",
         "name": "Other",
         "orientation": "v",
         "showlegend": true,
         "type": "scatter",
         "x": [
          0.6650654497418039,
          0.6346323205636284,
          0.5997357992073976,
          0.4136343621152075,
          0.4694567871582402,
          0.5098875145110284,
          0.4547255914495016,
          0.5188243064729194,
          0.546665465753973,
          0.5395600656498939,
          0.46126055802409843,
          0.6183599535647092,
          0.5090969136543774,
          0.5818622152836155
         ],
         "xaxis": "x",
         "y": [
          119.6128641764323,
          77.9743423461914,
          31.709701538085938,
          20.904927571614582,
          21.985787709554035,
          31.387491861979168,
          18.988670984903973,
          27.43277104695638,
          30.40838877360026,
          31.801531473795574,
          32.48196792602539,
          40.117408752441406,
          34.014731089274086,
          54.6658681233724
         ],
         "yaxis": "y"
        },
        {
         "error_x": {
          "array": [
           0.0060642210067778975,
           0.006522748325574236
          ]
         },
         "error_y": {
          "array": [
           1.579241767390196,
           28.96221705830702
          ]
         },
         "hovertemplate": "Model=EseVoVNet<br>Accuracy_mean=%{x}<br>Disparity_mean=%{y}<extra></extra>",
         "legendgroup": "EseVoVNet",
         "marker": {
          "color": "#fabed4",
          "size": 20,
          "symbol": "circle"
         },
         "mode": "markers",
         "name": "EseVoVNet",
         "orientation": "v",
         "showlegend": true,
         "type": "scatter",
         "x": [
          0.5950722549137345,
          0.6269564869300668
         ],
         "xaxis": "x",
         "y": [
          37.888312021891274,
          55.071495056152344
         ],
         "yaxis": "y"
        },
        {
         "error_x": {
          "array": [
           0.0007151763068213307
          ]
         },
         "error_y": {
          "array": [
           1.1748581205796593
          ]
         },
         "hovertemplate": "Model=SMAC<br>Accuracy_mean=%{x}<br>Disparity_mean=%{y}<extra></extra>",
         "legendgroup": "SMAC",
         "marker": {
          "color": "#dcbeff",
          "size": 20,
          "symbol": "circle"
         },
         "mode": "markers",
         "name": "SMAC",
         "orientation": "v",
         "showlegend": true,
         "type": "scatter",
         "x": [
          0.26620231375845643
         ],
         "xaxis": "x",
         "y": [
          8.92073917388916
         ],
         "yaxis": "y"
        },
        {
         "error_x": {
          "array": [
           0.0010345657435473408,
           0.005981510059968798
          ]
         },
         "error_y": {
          "array": [
           1.4494663786727242,
           1.7763393539667354
          ]
         },
         "hovertemplate": "Model=DPN_MagFace<br>Accuracy_mean=%{x}<br>Disparity_mean=%{y}<extra></extra>",
         "legendgroup": "DPN_MagFace",
         "marker": {
          "color": "#e6194B",
          "size": 20,
          "symbol": "circle"
         },
         "mode": "markers",
         "name": "DPN_MagFace",
         "orientation": "v",
         "showlegend": true,
         "type": "scatter",
         "x": [
          0.5477462871782555,
          0.6047396020975943
         ],
         "xaxis": "x",
         "y": [
          49.29229990641276,
          41.95420710245768
         ],
         "yaxis": "y"
        },
        {
         "error_x": {
          "array": [
           0.0050317063547986995
          ]
         },
         "error_y": {
          "array": [
           1.9237869814426145
          ]
         },
         "hovertemplate": "Model=TNT<br>Accuracy_mean=%{x}<br>Disparity_mean=%{y}<extra></extra>",
         "legendgroup": "TNT",
         "marker": {
          "color": "#f58231",
          "size": 20,
          "symbol": "circle"
         },
         "mode": "markers",
         "name": "TNT",
         "orientation": "v",
         "showlegend": true,
         "type": "scatter",
         "x": [
          0.4746807573756055
         ],
         "xaxis": "x",
         "y": [
          25.67491340637207
         ],
         "yaxis": "y"
        },
        {
         "error_x": {
          "array": [
           0.0030864338856385573
          ]
         },
         "error_y": {
          "array": [
           1.2799249064274136
          ]
         },
         "hovertemplate": "Model=HRNet<br>Accuracy_mean=%{x}<br>Disparity_mean=%{y}<extra></extra>",
         "legendgroup": "HRNet",
         "marker": {
          "color": "#f032e6",
          "size": 20,
          "symbol": "circle"
         },
         "mode": "markers",
         "name": "HRNet",
         "orientation": "v",
         "showlegend": true,
         "type": "scatter",
         "x": [
          0.5837136223529883
         ],
         "xaxis": "x",
         "y": [
          36.21536382039388
         ],
         "yaxis": "y"
        }
       ],
       "layout": {
        "font": {
         "color": "Black",
         "family": "Times New Roman",
         "size": 30
        },
        "height": 1000,
        "legend": {
         "title": {
          "text": "Models"
         },
         "tracegroupgap": 0
        },
        "margin": {
         "t": 60
        },
        "shapes": [
         {
          "line": {
           "color": "gray",
           "dash": "dash",
           "width": 4
          },
          "type": "line",
          "x0": 0.26620231375845643,
          "x1": 0.2799027260718146,
          "xref": "x",
          "y0": 8.92073917388916,
          "y1": 6.501541455586751,
          "yref": "y"
         }
        ],
        "template": {
         "data": {
          "bar": [
           {
            "error_x": {
             "color": "rgb(36,36,36)"
            },
            "error_y": {
             "color": "rgb(36,36,36)"
            },
            "marker": {
             "line": {
              "color": "white",
              "width": 0.5
             },
             "pattern": {
              "fillmode": "overlay",
              "size": 10,
              "solidity": 0.2
             }
            },
            "type": "bar"
           }
          ],
          "barpolar": [
           {
            "marker": {
             "line": {
              "color": "white",
              "width": 0.5
             },
             "pattern": {
              "fillmode": "overlay",
              "size": 10,
              "solidity": 0.2
             }
            },
            "type": "barpolar"
           }
          ],
          "carpet": [
           {
            "aaxis": {
             "endlinecolor": "rgb(36,36,36)",
             "gridcolor": "white",
             "linecolor": "white",
             "minorgridcolor": "white",
             "startlinecolor": "rgb(36,36,36)"
            },
            "baxis": {
             "endlinecolor": "rgb(36,36,36)",
             "gridcolor": "white",
             "linecolor": "white",
             "minorgridcolor": "white",
             "startlinecolor": "rgb(36,36,36)"
            },
            "type": "carpet"
           }
          ],
          "choropleth": [
           {
            "colorbar": {
             "outlinewidth": 1,
             "tickcolor": "rgb(36,36,36)",
             "ticks": "outside"
            },
            "type": "choropleth"
           }
          ],
          "contour": [
           {
            "colorbar": {
             "outlinewidth": 1,
             "tickcolor": "rgb(36,36,36)",
             "ticks": "outside"
            },
            "colorscale": [
             [
              0,
              "#440154"
             ],
             [
              0.1111111111111111,
              "#482878"
             ],
             [
              0.2222222222222222,
              "#3e4989"
             ],
             [
              0.3333333333333333,
              "#31688e"
             ],
             [
              0.4444444444444444,
              "#26828e"
             ],
             [
              0.5555555555555556,
              "#1f9e89"
             ],
             [
              0.6666666666666666,
              "#35b779"
             ],
             [
              0.7777777777777778,
              "#6ece58"
             ],
             [
              0.8888888888888888,
              "#b5de2b"
             ],
             [
              1,
              "#fde725"
             ]
            ],
            "type": "contour"
           }
          ],
          "contourcarpet": [
           {
            "colorbar": {
             "outlinewidth": 1,
             "tickcolor": "rgb(36,36,36)",
             "ticks": "outside"
            },
            "type": "contourcarpet"
           }
          ],
          "heatmap": [
           {
            "colorbar": {
             "outlinewidth": 1,
             "tickcolor": "rgb(36,36,36)",
             "ticks": "outside"
            },
            "colorscale": [
             [
              0,
              "#440154"
             ],
             [
              0.1111111111111111,
              "#482878"
             ],
             [
              0.2222222222222222,
              "#3e4989"
             ],
             [
              0.3333333333333333,
              "#31688e"
             ],
             [
              0.4444444444444444,
              "#26828e"
             ],
             [
              0.5555555555555556,
              "#1f9e89"
             ],
             [
              0.6666666666666666,
              "#35b779"
             ],
             [
              0.7777777777777778,
              "#6ece58"
             ],
             [
              0.8888888888888888,
              "#b5de2b"
             ],
             [
              1,
              "#fde725"
             ]
            ],
            "type": "heatmap"
           }
          ],
          "heatmapgl": [
           {
            "colorbar": {
             "outlinewidth": 1,
             "tickcolor": "rgb(36,36,36)",
             "ticks": "outside"
            },
            "colorscale": [
             [
              0,
              "#440154"
             ],
             [
              0.1111111111111111,
              "#482878"
             ],
             [
              0.2222222222222222,
              "#3e4989"
             ],
             [
              0.3333333333333333,
              "#31688e"
             ],
             [
              0.4444444444444444,
              "#26828e"
             ],
             [
              0.5555555555555556,
              "#1f9e89"
             ],
             [
              0.6666666666666666,
              "#35b779"
             ],
             [
              0.7777777777777778,
              "#6ece58"
             ],
             [
              0.8888888888888888,
              "#b5de2b"
             ],
             [
              1,
              "#fde725"
             ]
            ],
            "type": "heatmapgl"
           }
          ],
          "histogram": [
           {
            "marker": {
             "line": {
              "color": "white",
              "width": 0.6
             }
            },
            "type": "histogram"
           }
          ],
          "histogram2d": [
           {
            "colorbar": {
             "outlinewidth": 1,
             "tickcolor": "rgb(36,36,36)",
             "ticks": "outside"
            },
            "colorscale": [
             [
              0,
              "#440154"
             ],
             [
              0.1111111111111111,
              "#482878"
             ],
             [
              0.2222222222222222,
              "#3e4989"
             ],
             [
              0.3333333333333333,
              "#31688e"
             ],
             [
              0.4444444444444444,
              "#26828e"
             ],
             [
              0.5555555555555556,
              "#1f9e89"
             ],
             [
              0.6666666666666666,
              "#35b779"
             ],
             [
              0.7777777777777778,
              "#6ece58"
             ],
             [
              0.8888888888888888,
              "#b5de2b"
             ],
             [
              1,
              "#fde725"
             ]
            ],
            "type": "histogram2d"
           }
          ],
          "histogram2dcontour": [
           {
            "colorbar": {
             "outlinewidth": 1,
             "tickcolor": "rgb(36,36,36)",
             "ticks": "outside"
            },
            "colorscale": [
             [
              0,
              "#440154"
             ],
             [
              0.1111111111111111,
              "#482878"
             ],
             [
              0.2222222222222222,
              "#3e4989"
             ],
             [
              0.3333333333333333,
              "#31688e"
             ],
             [
              0.4444444444444444,
              "#26828e"
             ],
             [
              0.5555555555555556,
              "#1f9e89"
             ],
             [
              0.6666666666666666,
              "#35b779"
             ],
             [
              0.7777777777777778,
              "#6ece58"
             ],
             [
              0.8888888888888888,
              "#b5de2b"
             ],
             [
              1,
              "#fde725"
             ]
            ],
            "type": "histogram2dcontour"
           }
          ],
          "mesh3d": [
           {
            "colorbar": {
             "outlinewidth": 1,
             "tickcolor": "rgb(36,36,36)",
             "ticks": "outside"
            },
            "type": "mesh3d"
           }
          ],
          "parcoords": [
           {
            "line": {
             "colorbar": {
              "outlinewidth": 1,
              "tickcolor": "rgb(36,36,36)",
              "ticks": "outside"
             }
            },
            "type": "parcoords"
           }
          ],
          "pie": [
           {
            "automargin": true,
            "type": "pie"
           }
          ],
          "scatter": [
           {
            "marker": {
             "colorbar": {
              "outlinewidth": 1,
              "tickcolor": "rgb(36,36,36)",
              "ticks": "outside"
             }
            },
            "type": "scatter"
           }
          ],
          "scatter3d": [
           {
            "line": {
             "colorbar": {
              "outlinewidth": 1,
              "tickcolor": "rgb(36,36,36)",
              "ticks": "outside"
             }
            },
            "marker": {
             "colorbar": {
              "outlinewidth": 1,
              "tickcolor": "rgb(36,36,36)",
              "ticks": "outside"
             }
            },
            "type": "scatter3d"
           }
          ],
          "scattercarpet": [
           {
            "marker": {
             "colorbar": {
              "outlinewidth": 1,
              "tickcolor": "rgb(36,36,36)",
              "ticks": "outside"
             }
            },
            "type": "scattercarpet"
           }
          ],
          "scattergeo": [
           {
            "marker": {
             "colorbar": {
              "outlinewidth": 1,
              "tickcolor": "rgb(36,36,36)",
              "ticks": "outside"
             }
            },
            "type": "scattergeo"
           }
          ],
          "scattergl": [
           {
            "marker": {
             "colorbar": {
              "outlinewidth": 1,
              "tickcolor": "rgb(36,36,36)",
              "ticks": "outside"
             }
            },
            "type": "scattergl"
           }
          ],
          "scattermapbox": [
           {
            "marker": {
             "colorbar": {
              "outlinewidth": 1,
              "tickcolor": "rgb(36,36,36)",
              "ticks": "outside"
             }
            },
            "type": "scattermapbox"
           }
          ],
          "scatterpolar": [
           {
            "marker": {
             "colorbar": {
              "outlinewidth": 1,
              "tickcolor": "rgb(36,36,36)",
              "ticks": "outside"
             }
            },
            "type": "scatterpolar"
           }
          ],
          "scatterpolargl": [
           {
            "marker": {
             "colorbar": {
              "outlinewidth": 1,
              "tickcolor": "rgb(36,36,36)",
              "ticks": "outside"
             }
            },
            "type": "scatterpolargl"
           }
          ],
          "scatterternary": [
           {
            "marker": {
             "colorbar": {
              "outlinewidth": 1,
              "tickcolor": "rgb(36,36,36)",
              "ticks": "outside"
             }
            },
            "type": "scatterternary"
           }
          ],
          "surface": [
           {
            "colorbar": {
             "outlinewidth": 1,
             "tickcolor": "rgb(36,36,36)",
             "ticks": "outside"
            },
            "colorscale": [
             [
              0,
              "#440154"
             ],
             [
              0.1111111111111111,
              "#482878"
             ],
             [
              0.2222222222222222,
              "#3e4989"
             ],
             [
              0.3333333333333333,
              "#31688e"
             ],
             [
              0.4444444444444444,
              "#26828e"
             ],
             [
              0.5555555555555556,
              "#1f9e89"
             ],
             [
              0.6666666666666666,
              "#35b779"
             ],
             [
              0.7777777777777778,
              "#6ece58"
             ],
             [
              0.8888888888888888,
              "#b5de2b"
             ],
             [
              1,
              "#fde725"
             ]
            ],
            "type": "surface"
           }
          ],
          "table": [
           {
            "cells": {
             "fill": {
              "color": "rgb(237,237,237)"
             },
             "line": {
              "color": "white"
             }
            },
            "header": {
             "fill": {
              "color": "rgb(217,217,217)"
             },
             "line": {
              "color": "white"
             }
            },
            "type": "table"
           }
          ]
         },
         "layout": {
          "annotationdefaults": {
           "arrowhead": 0,
           "arrowwidth": 1
          },
          "autotypenumbers": "strict",
          "coloraxis": {
           "colorbar": {
            "outlinewidth": 1,
            "tickcolor": "rgb(36,36,36)",
            "ticks": "outside"
           }
          },
          "colorscale": {
           "diverging": [
            [
             0,
             "rgb(103,0,31)"
            ],
            [
             0.1,
             "rgb(178,24,43)"
            ],
            [
             0.2,
             "rgb(214,96,77)"
            ],
            [
             0.3,
             "rgb(244,165,130)"
            ],
            [
             0.4,
             "rgb(253,219,199)"
            ],
            [
             0.5,
             "rgb(247,247,247)"
            ],
            [
             0.6,
             "rgb(209,229,240)"
            ],
            [
             0.7,
             "rgb(146,197,222)"
            ],
            [
             0.8,
             "rgb(67,147,195)"
            ],
            [
             0.9,
             "rgb(33,102,172)"
            ],
            [
             1,
             "rgb(5,48,97)"
            ]
           ],
           "sequential": [
            [
             0,
             "#440154"
            ],
            [
             0.1111111111111111,
             "#482878"
            ],
            [
             0.2222222222222222,
             "#3e4989"
            ],
            [
             0.3333333333333333,
             "#31688e"
            ],
            [
             0.4444444444444444,
             "#26828e"
            ],
            [
             0.5555555555555556,
             "#1f9e89"
            ],
            [
             0.6666666666666666,
             "#35b779"
            ],
            [
             0.7777777777777778,
             "#6ece58"
            ],
            [
             0.8888888888888888,
             "#b5de2b"
            ],
            [
             1,
             "#fde725"
            ]
           ],
           "sequentialminus": [
            [
             0,
             "#440154"
            ],
            [
             0.1111111111111111,
             "#482878"
            ],
            [
             0.2222222222222222,
             "#3e4989"
            ],
            [
             0.3333333333333333,
             "#31688e"
            ],
            [
             0.4444444444444444,
             "#26828e"
            ],
            [
             0.5555555555555556,
             "#1f9e89"
            ],
            [
             0.6666666666666666,
             "#35b779"
            ],
            [
             0.7777777777777778,
             "#6ece58"
            ],
            [
             0.8888888888888888,
             "#b5de2b"
            ],
            [
             1,
             "#fde725"
            ]
           ]
          },
          "colorway": [
           "#1F77B4",
           "#FF7F0E",
           "#2CA02C",
           "#D62728",
           "#9467BD",
           "#8C564B",
           "#E377C2",
           "#7F7F7F",
           "#BCBD22",
           "#17BECF"
          ],
          "font": {
           "color": "rgb(36,36,36)"
          },
          "geo": {
           "bgcolor": "white",
           "lakecolor": "white",
           "landcolor": "white",
           "showlakes": true,
           "showland": true,
           "subunitcolor": "white"
          },
          "hoverlabel": {
           "align": "left"
          },
          "hovermode": "closest",
          "mapbox": {
           "style": "light"
          },
          "paper_bgcolor": "white",
          "plot_bgcolor": "white",
          "polar": {
           "angularaxis": {
            "gridcolor": "rgb(232,232,232)",
            "linecolor": "rgb(36,36,36)",
            "showgrid": false,
            "showline": true,
            "ticks": "outside"
           },
           "bgcolor": "white",
           "radialaxis": {
            "gridcolor": "rgb(232,232,232)",
            "linecolor": "rgb(36,36,36)",
            "showgrid": false,
            "showline": true,
            "ticks": "outside"
           }
          },
          "scene": {
           "xaxis": {
            "backgroundcolor": "white",
            "gridcolor": "rgb(232,232,232)",
            "gridwidth": 2,
            "linecolor": "rgb(36,36,36)",
            "showbackground": true,
            "showgrid": false,
            "showline": true,
            "ticks": "outside",
            "zeroline": false,
            "zerolinecolor": "rgb(36,36,36)"
           },
           "yaxis": {
            "backgroundcolor": "white",
            "gridcolor": "rgb(232,232,232)",
            "gridwidth": 2,
            "linecolor": "rgb(36,36,36)",
            "showbackground": true,
            "showgrid": false,
            "showline": true,
            "ticks": "outside",
            "zeroline": false,
            "zerolinecolor": "rgb(36,36,36)"
           },
           "zaxis": {
            "backgroundcolor": "white",
            "gridcolor": "rgb(232,232,232)",
            "gridwidth": 2,
            "linecolor": "rgb(36,36,36)",
            "showbackground": true,
            "showgrid": false,
            "showline": true,
            "ticks": "outside",
            "zeroline": false,
            "zerolinecolor": "rgb(36,36,36)"
           }
          },
          "shapedefaults": {
           "fillcolor": "black",
           "line": {
            "width": 0
           },
           "opacity": 0.3
          },
          "ternary": {
           "aaxis": {
            "gridcolor": "rgb(232,232,232)",
            "linecolor": "rgb(36,36,36)",
            "showgrid": false,
            "showline": true,
            "ticks": "outside"
           },
           "baxis": {
            "gridcolor": "rgb(232,232,232)",
            "linecolor": "rgb(36,36,36)",
            "showgrid": false,
            "showline": true,
            "ticks": "outside"
           },
           "bgcolor": "white",
           "caxis": {
            "gridcolor": "rgb(232,232,232)",
            "linecolor": "rgb(36,36,36)",
            "showgrid": false,
            "showline": true,
            "ticks": "outside"
           }
          },
          "title": {
           "x": 0.05
          },
          "xaxis": {
           "automargin": true,
           "gridcolor": "rgb(232,232,232)",
           "linecolor": "rgb(36,36,36)",
           "showgrid": false,
           "showline": true,
           "ticks": "outside",
           "title": {
            "standoff": 15
           },
           "zeroline": false,
           "zerolinecolor": "rgb(36,36,36)"
          },
          "yaxis": {
           "automargin": true,
           "gridcolor": "rgb(232,232,232)",
           "linecolor": "rgb(36,36,36)",
           "showgrid": false,
           "showline": true,
           "ticks": "outside",
           "title": {
            "standoff": 15
           },
           "zeroline": false,
           "zerolinecolor": "rgb(36,36,36)"
          }
         }
        },
        "title": {
         "text": "Trained on VGGFace2; Tested on RFW"
        },
        "width": 1200,
        "xaxis": {
         "anchor": "y",
         "domain": [
          0,
          1
         ],
         "title": {
          "text": "Error"
         }
        },
        "yaxis": {
         "anchor": "x",
         "domain": [
          0,
          1
         ],
         "title": {
          "text": "Rank Disparity"
         }
        }
       }
      },
      "text/html": [
       "<div>                            <div id=\"f97be282-c5c5-4142-944e-350838760de2\" class=\"plotly-graph-div\" style=\"height:1000px; width:1200px;\"></div>            <script type=\"text/javascript\">                require([\"plotly\"], function(Plotly) {                    window.PLOTLYENV=window.PLOTLYENV || {};                                    if (document.getElementById(\"f97be282-c5c5-4142-944e-350838760de2\")) {                    Plotly.newPlot(                        \"f97be282-c5c5-4142-944e-350838760de2\",                        [{\"error_x\":{\"array\":[0.01169092259469165]},\"error_y\":{\"array\":[0.4014650186640361]},\"hovertemplate\":\"Model=Swin_Transformer<br>Accuracy_mean=%{x}<br>Disparity_mean=%{y}<extra></extra>\",\"legendgroup\":\"Swin_Transformer\",\"marker\":{\"color\":\"#42d4f4\",\"symbol\":\"circle\",\"size\":20},\"mode\":\"markers\",\"name\":\"Swin_Transformer\",\"orientation\":\"v\",\"showlegend\":true,\"x\":[0.3756454905728353],\"xaxis\":\"x\",\"y\":[8.486611684163412],\"yaxis\":\"y\",\"type\":\"scatter\"},{\"error_x\":{\"array\":[0.0015113472863658817,0.0025914288889971266,0.005485510064429356,0.0001418822993350371]},\"error_y\":{\"array\":[1.120409480763024,1.255977889100877,1.6358231001853534,0.46904329789232574]},\"hovertemplate\":\"Model=ReXNet<br>Accuracy_mean=%{x}<br>Disparity_mean=%{y}<extra></extra>\",\"legendgroup\":\"ReXNet\",\"marker\":{\"color\":\"#3cb44b\",\"symbol\":\"circle\",\"size\":20},\"mode\":\"markers\",\"name\":\"ReXNet\",\"orientation\":\"v\",\"showlegend\":true,\"x\":[0.34125935711140465,0.31352828149393536,0.3256474920939914,0.5498078539690163],\"xaxis\":\"x\",\"y\":[11.12509536743164,9.096274058024088,9.44253667195638,46.00132369995117],\"yaxis\":\"y\",\"type\":\"scatter\"},{\"error_x\":{\"array\":[0.004603618313581875,0.006100175486043615,0.0012644482184129596,0.003490072705240222]},\"error_y\":{\"array\":[2.307617052484892,0.5236168580985437,1.7713942461050698,0.5441691432667206]},\"hovertemplate\":\"Model=DPN_CosFace<br>Accuracy_mean=%{x}<br>Disparity_mean=%{y}<extra></extra>\",\"legendgroup\":\"DPN_CosFace\",\"marker\":{\"color\":\"#9a6324\",\"symbol\":\"circle\",\"size\":20},\"mode\":\"markers\",\"name\":\"DPN_CosFace\",\"orientation\":\"v\",\"showlegend\":true,\"x\":[0.39125735559024855,0.2799027260718146,0.3618850326247948,0.30060846243144795],\"xaxis\":\"x\",\"y\":[17.870302200317383,6.501541455586751,14.03646723429362,9.290701230367025],\"yaxis\":\"y\",\"type\":\"scatter\"},{\"error_x\":{\"array\":[0.01736752731120318,0.03457302788111675,0.011739958128075092,0.0033023886009893506,0.008295689502158072,0.0010620800015215923,0.008704822376737165,0.01001111283171606,0.0019676082986980824,0.003318498536488281,0.01371917195456359,0.002293183414304575,0.002389471752613796,0.01053825598523417]},\"error_y\":{\"array\":[63.016281287938675,30.654125013887267,5.4824265888522925,1.5420671141602937,2.8644808875701697,2.6855680376508055,0.7417634143045153,5.876631621655948,2.887995517275659,0.7957520895144665,1.9854245351626607,8.699167565780357,4.125215859718164,5.52670329041205]},\"hovertemplate\":\"Model=Other<br>Accuracy_mean=%{x}<br>Disparity_mean=%{y}<extra></extra>\",\"legendgroup\":\"Other\",\"marker\":{\"color\":\"#ffe119\",\"symbol\":\"circle\",\"size\":20},\"mode\":\"markers\",\"name\":\"Other\",\"orientation\":\"v\",\"showlegend\":true,\"x\":[0.6650654497418039,0.6346323205636284,0.5997357992073976,0.4136343621152075,0.4694567871582402,0.5098875145110284,0.4547255914495016,0.5188243064729194,0.546665465753973,0.5395600656498939,0.46126055802409843,0.6183599535647092,0.5090969136543774,0.5818622152836155],\"xaxis\":\"x\",\"y\":[119.6128641764323,77.9743423461914,31.709701538085938,20.904927571614582,21.985787709554035,31.387491861979168,18.988670984903973,27.43277104695638,30.40838877360026,31.801531473795574,32.48196792602539,40.117408752441406,34.014731089274086,54.6658681233724],\"yaxis\":\"y\",\"type\":\"scatter\"},{\"error_x\":{\"array\":[0.0060642210067778975,0.006522748325574236]},\"error_y\":{\"array\":[1.579241767390196,28.96221705830702]},\"hovertemplate\":\"Model=EseVoVNet<br>Accuracy_mean=%{x}<br>Disparity_mean=%{y}<extra></extra>\",\"legendgroup\":\"EseVoVNet\",\"marker\":{\"color\":\"#fabed4\",\"symbol\":\"circle\",\"size\":20},\"mode\":\"markers\",\"name\":\"EseVoVNet\",\"orientation\":\"v\",\"showlegend\":true,\"x\":[0.5950722549137345,0.6269564869300668],\"xaxis\":\"x\",\"y\":[37.888312021891274,55.071495056152344],\"yaxis\":\"y\",\"type\":\"scatter\"},{\"error_x\":{\"array\":[0.0007151763068213307]},\"error_y\":{\"array\":[1.1748581205796593]},\"hovertemplate\":\"Model=SMAC<br>Accuracy_mean=%{x}<br>Disparity_mean=%{y}<extra></extra>\",\"legendgroup\":\"SMAC\",\"marker\":{\"color\":\"#dcbeff\",\"symbol\":\"circle\",\"size\":20},\"mode\":\"markers\",\"name\":\"SMAC\",\"orientation\":\"v\",\"showlegend\":true,\"x\":[0.26620231375845643],\"xaxis\":\"x\",\"y\":[8.92073917388916],\"yaxis\":\"y\",\"type\":\"scatter\"},{\"error_x\":{\"array\":[0.0010345657435473408,0.005981510059968798]},\"error_y\":{\"array\":[1.4494663786727242,1.7763393539667354]},\"hovertemplate\":\"Model=DPN_MagFace<br>Accuracy_mean=%{x}<br>Disparity_mean=%{y}<extra></extra>\",\"legendgroup\":\"DPN_MagFace\",\"marker\":{\"color\":\"#e6194B\",\"symbol\":\"circle\",\"size\":20},\"mode\":\"markers\",\"name\":\"DPN_MagFace\",\"orientation\":\"v\",\"showlegend\":true,\"x\":[0.5477462871782555,0.6047396020975943],\"xaxis\":\"x\",\"y\":[49.29229990641276,41.95420710245768],\"yaxis\":\"y\",\"type\":\"scatter\"},{\"error_x\":{\"array\":[0.0050317063547986995]},\"error_y\":{\"array\":[1.9237869814426145]},\"hovertemplate\":\"Model=TNT<br>Accuracy_mean=%{x}<br>Disparity_mean=%{y}<extra></extra>\",\"legendgroup\":\"TNT\",\"marker\":{\"color\":\"#f58231\",\"symbol\":\"circle\",\"size\":20},\"mode\":\"markers\",\"name\":\"TNT\",\"orientation\":\"v\",\"showlegend\":true,\"x\":[0.4746807573756055],\"xaxis\":\"x\",\"y\":[25.67491340637207],\"yaxis\":\"y\",\"type\":\"scatter\"},{\"error_x\":{\"array\":[0.0030864338856385573]},\"error_y\":{\"array\":[1.2799249064274136]},\"hovertemplate\":\"Model=HRNet<br>Accuracy_mean=%{x}<br>Disparity_mean=%{y}<extra></extra>\",\"legendgroup\":\"HRNet\",\"marker\":{\"color\":\"#f032e6\",\"symbol\":\"circle\",\"size\":20},\"mode\":\"markers\",\"name\":\"HRNet\",\"orientation\":\"v\",\"showlegend\":true,\"x\":[0.5837136223529883],\"xaxis\":\"x\",\"y\":[36.21536382039388],\"yaxis\":\"y\",\"type\":\"scatter\"}],                        {\"template\":{\"data\":{\"barpolar\":[{\"marker\":{\"line\":{\"color\":\"white\",\"width\":0.5},\"pattern\":{\"fillmode\":\"overlay\",\"size\":10,\"solidity\":0.2}},\"type\":\"barpolar\"}],\"bar\":[{\"error_x\":{\"color\":\"rgb(36,36,36)\"},\"error_y\":{\"color\":\"rgb(36,36,36)\"},\"marker\":{\"line\":{\"color\":\"white\",\"width\":0.5},\"pattern\":{\"fillmode\":\"overlay\",\"size\":10,\"solidity\":0.2}},\"type\":\"bar\"}],\"carpet\":[{\"aaxis\":{\"endlinecolor\":\"rgb(36,36,36)\",\"gridcolor\":\"white\",\"linecolor\":\"white\",\"minorgridcolor\":\"white\",\"startlinecolor\":\"rgb(36,36,36)\"},\"baxis\":{\"endlinecolor\":\"rgb(36,36,36)\",\"gridcolor\":\"white\",\"linecolor\":\"white\",\"minorgridcolor\":\"white\",\"startlinecolor\":\"rgb(36,36,36)\"},\"type\":\"carpet\"}],\"choropleth\":[{\"colorbar\":{\"outlinewidth\":1,\"tickcolor\":\"rgb(36,36,36)\",\"ticks\":\"outside\"},\"type\":\"choropleth\"}],\"contourcarpet\":[{\"colorbar\":{\"outlinewidth\":1,\"tickcolor\":\"rgb(36,36,36)\",\"ticks\":\"outside\"},\"type\":\"contourcarpet\"}],\"contour\":[{\"colorbar\":{\"outlinewidth\":1,\"tickcolor\":\"rgb(36,36,36)\",\"ticks\":\"outside\"},\"colorscale\":[[0.0,\"#440154\"],[0.1111111111111111,\"#482878\"],[0.2222222222222222,\"#3e4989\"],[0.3333333333333333,\"#31688e\"],[0.4444444444444444,\"#26828e\"],[0.5555555555555556,\"#1f9e89\"],[0.6666666666666666,\"#35b779\"],[0.7777777777777778,\"#6ece58\"],[0.8888888888888888,\"#b5de2b\"],[1.0,\"#fde725\"]],\"type\":\"contour\"}],\"heatmapgl\":[{\"colorbar\":{\"outlinewidth\":1,\"tickcolor\":\"rgb(36,36,36)\",\"ticks\":\"outside\"},\"colorscale\":[[0.0,\"#440154\"],[0.1111111111111111,\"#482878\"],[0.2222222222222222,\"#3e4989\"],[0.3333333333333333,\"#31688e\"],[0.4444444444444444,\"#26828e\"],[0.5555555555555556,\"#1f9e89\"],[0.6666666666666666,\"#35b779\"],[0.7777777777777778,\"#6ece58\"],[0.8888888888888888,\"#b5de2b\"],[1.0,\"#fde725\"]],\"type\":\"heatmapgl\"}],\"heatmap\":[{\"colorbar\":{\"outlinewidth\":1,\"tickcolor\":\"rgb(36,36,36)\",\"ticks\":\"outside\"},\"colorscale\":[[0.0,\"#440154\"],[0.1111111111111111,\"#482878\"],[0.2222222222222222,\"#3e4989\"],[0.3333333333333333,\"#31688e\"],[0.4444444444444444,\"#26828e\"],[0.5555555555555556,\"#1f9e89\"],[0.6666666666666666,\"#35b779\"],[0.7777777777777778,\"#6ece58\"],[0.8888888888888888,\"#b5de2b\"],[1.0,\"#fde725\"]],\"type\":\"heatmap\"}],\"histogram2dcontour\":[{\"colorbar\":{\"outlinewidth\":1,\"tickcolor\":\"rgb(36,36,36)\",\"ticks\":\"outside\"},\"colorscale\":[[0.0,\"#440154\"],[0.1111111111111111,\"#482878\"],[0.2222222222222222,\"#3e4989\"],[0.3333333333333333,\"#31688e\"],[0.4444444444444444,\"#26828e\"],[0.5555555555555556,\"#1f9e89\"],[0.6666666666666666,\"#35b779\"],[0.7777777777777778,\"#6ece58\"],[0.8888888888888888,\"#b5de2b\"],[1.0,\"#fde725\"]],\"type\":\"histogram2dcontour\"}],\"histogram2d\":[{\"colorbar\":{\"outlinewidth\":1,\"tickcolor\":\"rgb(36,36,36)\",\"ticks\":\"outside\"},\"colorscale\":[[0.0,\"#440154\"],[0.1111111111111111,\"#482878\"],[0.2222222222222222,\"#3e4989\"],[0.3333333333333333,\"#31688e\"],[0.4444444444444444,\"#26828e\"],[0.5555555555555556,\"#1f9e89\"],[0.6666666666666666,\"#35b779\"],[0.7777777777777778,\"#6ece58\"],[0.8888888888888888,\"#b5de2b\"],[1.0,\"#fde725\"]],\"type\":\"histogram2d\"}],\"histogram\":[{\"marker\":{\"line\":{\"color\":\"white\",\"width\":0.6}},\"type\":\"histogram\"}],\"mesh3d\":[{\"colorbar\":{\"outlinewidth\":1,\"tickcolor\":\"rgb(36,36,36)\",\"ticks\":\"outside\"},\"type\":\"mesh3d\"}],\"parcoords\":[{\"line\":{\"colorbar\":{\"outlinewidth\":1,\"tickcolor\":\"rgb(36,36,36)\",\"ticks\":\"outside\"}},\"type\":\"parcoords\"}],\"pie\":[{\"automargin\":true,\"type\":\"pie\"}],\"scatter3d\":[{\"line\":{\"colorbar\":{\"outlinewidth\":1,\"tickcolor\":\"rgb(36,36,36)\",\"ticks\":\"outside\"}},\"marker\":{\"colorbar\":{\"outlinewidth\":1,\"tickcolor\":\"rgb(36,36,36)\",\"ticks\":\"outside\"}},\"type\":\"scatter3d\"}],\"scattercarpet\":[{\"marker\":{\"colorbar\":{\"outlinewidth\":1,\"tickcolor\":\"rgb(36,36,36)\",\"ticks\":\"outside\"}},\"type\":\"scattercarpet\"}],\"scattergeo\":[{\"marker\":{\"colorbar\":{\"outlinewidth\":1,\"tickcolor\":\"rgb(36,36,36)\",\"ticks\":\"outside\"}},\"type\":\"scattergeo\"}],\"scattergl\":[{\"marker\":{\"colorbar\":{\"outlinewidth\":1,\"tickcolor\":\"rgb(36,36,36)\",\"ticks\":\"outside\"}},\"type\":\"scattergl\"}],\"scattermapbox\":[{\"marker\":{\"colorbar\":{\"outlinewidth\":1,\"tickcolor\":\"rgb(36,36,36)\",\"ticks\":\"outside\"}},\"type\":\"scattermapbox\"}],\"scatterpolargl\":[{\"marker\":{\"colorbar\":{\"outlinewidth\":1,\"tickcolor\":\"rgb(36,36,36)\",\"ticks\":\"outside\"}},\"type\":\"scatterpolargl\"}],\"scatterpolar\":[{\"marker\":{\"colorbar\":{\"outlinewidth\":1,\"tickcolor\":\"rgb(36,36,36)\",\"ticks\":\"outside\"}},\"type\":\"scatterpolar\"}],\"scatter\":[{\"marker\":{\"colorbar\":{\"outlinewidth\":1,\"tickcolor\":\"rgb(36,36,36)\",\"ticks\":\"outside\"}},\"type\":\"scatter\"}],\"scatterternary\":[{\"marker\":{\"colorbar\":{\"outlinewidth\":1,\"tickcolor\":\"rgb(36,36,36)\",\"ticks\":\"outside\"}},\"type\":\"scatterternary\"}],\"surface\":[{\"colorbar\":{\"outlinewidth\":1,\"tickcolor\":\"rgb(36,36,36)\",\"ticks\":\"outside\"},\"colorscale\":[[0.0,\"#440154\"],[0.1111111111111111,\"#482878\"],[0.2222222222222222,\"#3e4989\"],[0.3333333333333333,\"#31688e\"],[0.4444444444444444,\"#26828e\"],[0.5555555555555556,\"#1f9e89\"],[0.6666666666666666,\"#35b779\"],[0.7777777777777778,\"#6ece58\"],[0.8888888888888888,\"#b5de2b\"],[1.0,\"#fde725\"]],\"type\":\"surface\"}],\"table\":[{\"cells\":{\"fill\":{\"color\":\"rgb(237,237,237)\"},\"line\":{\"color\":\"white\"}},\"header\":{\"fill\":{\"color\":\"rgb(217,217,217)\"},\"line\":{\"color\":\"white\"}},\"type\":\"table\"}]},\"layout\":{\"annotationdefaults\":{\"arrowhead\":0,\"arrowwidth\":1},\"autotypenumbers\":\"strict\",\"coloraxis\":{\"colorbar\":{\"outlinewidth\":1,\"tickcolor\":\"rgb(36,36,36)\",\"ticks\":\"outside\"}},\"colorscale\":{\"diverging\":[[0.0,\"rgb(103,0,31)\"],[0.1,\"rgb(178,24,43)\"],[0.2,\"rgb(214,96,77)\"],[0.3,\"rgb(244,165,130)\"],[0.4,\"rgb(253,219,199)\"],[0.5,\"rgb(247,247,247)\"],[0.6,\"rgb(209,229,240)\"],[0.7,\"rgb(146,197,222)\"],[0.8,\"rgb(67,147,195)\"],[0.9,\"rgb(33,102,172)\"],[1.0,\"rgb(5,48,97)\"]],\"sequential\":[[0.0,\"#440154\"],[0.1111111111111111,\"#482878\"],[0.2222222222222222,\"#3e4989\"],[0.3333333333333333,\"#31688e\"],[0.4444444444444444,\"#26828e\"],[0.5555555555555556,\"#1f9e89\"],[0.6666666666666666,\"#35b779\"],[0.7777777777777778,\"#6ece58\"],[0.8888888888888888,\"#b5de2b\"],[1.0,\"#fde725\"]],\"sequentialminus\":[[0.0,\"#440154\"],[0.1111111111111111,\"#482878\"],[0.2222222222222222,\"#3e4989\"],[0.3333333333333333,\"#31688e\"],[0.4444444444444444,\"#26828e\"],[0.5555555555555556,\"#1f9e89\"],[0.6666666666666666,\"#35b779\"],[0.7777777777777778,\"#6ece58\"],[0.8888888888888888,\"#b5de2b\"],[1.0,\"#fde725\"]]},\"colorway\":[\"#1F77B4\",\"#FF7F0E\",\"#2CA02C\",\"#D62728\",\"#9467BD\",\"#8C564B\",\"#E377C2\",\"#7F7F7F\",\"#BCBD22\",\"#17BECF\"],\"font\":{\"color\":\"rgb(36,36,36)\"},\"geo\":{\"bgcolor\":\"white\",\"lakecolor\":\"white\",\"landcolor\":\"white\",\"showlakes\":true,\"showland\":true,\"subunitcolor\":\"white\"},\"hoverlabel\":{\"align\":\"left\"},\"hovermode\":\"closest\",\"mapbox\":{\"style\":\"light\"},\"paper_bgcolor\":\"white\",\"plot_bgcolor\":\"white\",\"polar\":{\"angularaxis\":{\"gridcolor\":\"rgb(232,232,232)\",\"linecolor\":\"rgb(36,36,36)\",\"showgrid\":false,\"showline\":true,\"ticks\":\"outside\"},\"bgcolor\":\"white\",\"radialaxis\":{\"gridcolor\":\"rgb(232,232,232)\",\"linecolor\":\"rgb(36,36,36)\",\"showgrid\":false,\"showline\":true,\"ticks\":\"outside\"}},\"scene\":{\"xaxis\":{\"backgroundcolor\":\"white\",\"gridcolor\":\"rgb(232,232,232)\",\"gridwidth\":2,\"linecolor\":\"rgb(36,36,36)\",\"showbackground\":true,\"showgrid\":false,\"showline\":true,\"ticks\":\"outside\",\"zeroline\":false,\"zerolinecolor\":\"rgb(36,36,36)\"},\"yaxis\":{\"backgroundcolor\":\"white\",\"gridcolor\":\"rgb(232,232,232)\",\"gridwidth\":2,\"linecolor\":\"rgb(36,36,36)\",\"showbackground\":true,\"showgrid\":false,\"showline\":true,\"ticks\":\"outside\",\"zeroline\":false,\"zerolinecolor\":\"rgb(36,36,36)\"},\"zaxis\":{\"backgroundcolor\":\"white\",\"gridcolor\":\"rgb(232,232,232)\",\"gridwidth\":2,\"linecolor\":\"rgb(36,36,36)\",\"showbackground\":true,\"showgrid\":false,\"showline\":true,\"ticks\":\"outside\",\"zeroline\":false,\"zerolinecolor\":\"rgb(36,36,36)\"}},\"shapedefaults\":{\"fillcolor\":\"black\",\"line\":{\"width\":0},\"opacity\":0.3},\"ternary\":{\"aaxis\":{\"gridcolor\":\"rgb(232,232,232)\",\"linecolor\":\"rgb(36,36,36)\",\"showgrid\":false,\"showline\":true,\"ticks\":\"outside\"},\"baxis\":{\"gridcolor\":\"rgb(232,232,232)\",\"linecolor\":\"rgb(36,36,36)\",\"showgrid\":false,\"showline\":true,\"ticks\":\"outside\"},\"bgcolor\":\"white\",\"caxis\":{\"gridcolor\":\"rgb(232,232,232)\",\"linecolor\":\"rgb(36,36,36)\",\"showgrid\":false,\"showline\":true,\"ticks\":\"outside\"}},\"title\":{\"x\":0.05},\"xaxis\":{\"automargin\":true,\"gridcolor\":\"rgb(232,232,232)\",\"linecolor\":\"rgb(36,36,36)\",\"showgrid\":false,\"showline\":true,\"ticks\":\"outside\",\"title\":{\"standoff\":15},\"zeroline\":false,\"zerolinecolor\":\"rgb(36,36,36)\"},\"yaxis\":{\"automargin\":true,\"gridcolor\":\"rgb(232,232,232)\",\"linecolor\":\"rgb(36,36,36)\",\"showgrid\":false,\"showline\":true,\"ticks\":\"outside\",\"title\":{\"standoff\":15},\"zeroline\":false,\"zerolinecolor\":\"rgb(36,36,36)\"}}},\"xaxis\":{\"anchor\":\"y\",\"domain\":[0.0,1.0],\"title\":{\"text\":\"Error\"}},\"yaxis\":{\"anchor\":\"x\",\"domain\":[0.0,1.0],\"title\":{\"text\":\"Rank Disparity\"}},\"legend\":{\"title\":{\"text\":\"Models\"},\"tracegroupgap\":0},\"margin\":{\"t\":60},\"height\":1000,\"width\":1200,\"font\":{\"family\":\"Times New Roman\",\"size\":30,\"color\":\"Black\"},\"title\":{\"text\":\"Trained on VGGFace2; Tested on RFW\"},\"shapes\":[{\"line\":{\"color\":\"gray\",\"dash\":\"dash\",\"width\":4},\"type\":\"line\",\"x0\":0.26620231375845643,\"x1\":0.2799027260718146,\"xref\":\"x\",\"y0\":8.92073917388916,\"y1\":6.501541455586751,\"yref\":\"y\"}]},                        {\"responsive\": true}                    ).then(function(){\n",
       "                            \n",
       "var gd = document.getElementById('f97be282-c5c5-4142-944e-350838760de2');\n",
       "var x = new MutationObserver(function (mutations, observer) {{\n",
       "        var display = window.getComputedStyle(gd).display;\n",
       "        if (!display || display === 'none') {{\n",
       "            console.log([gd, 'removed!']);\n",
       "            Plotly.purge(gd);\n",
       "            observer.disconnect();\n",
       "        }}\n",
       "}});\n",
       "\n",
       "// Listen for the removal of the full notebook cells\n",
       "var notebookContainer = gd.closest('#notebook-container');\n",
       "if (notebookContainer) {{\n",
       "    x.observe(notebookContainer, {childList: true});\n",
       "}}\n",
       "\n",
       "// Listen for the clearing of the current output cell\n",
       "var outputEl = gd.closest('.output');\n",
       "if (outputEl) {{\n",
       "    x.observe(outputEl, {childList: true});\n",
       "}}\n",
       "\n",
       "                        })                };                });            </script>        </div>"
      ]
     },
     "metadata": {},
     "output_type": "display_data"
    },
    {
     "data": {
      "application/vnd.plotly.v1+json": {
       "config": {
        "plotlyServerURL": "https://plot.ly"
       },
       "data": [
        {
         "error_x": {
          "array": [
           0.01169092259469165
          ]
         },
         "error_y": {
          "array": [
           0.4014650186640361
          ]
         },
         "hovertemplate": "Model=Swin_Transformer<br>Accuracy_mean=%{x}<br>Disparity_mean=%{y}<extra></extra>",
         "legendgroup": "Swin_Transformer",
         "marker": {
          "color": "#42d4f4",
          "size": 20,
          "symbol": "circle"
         },
         "mode": "markers",
         "name": "Swin_Transformer",
         "orientation": "v",
         "showlegend": true,
         "type": "scatter",
         "x": [
          0.3756454905728353
         ],
         "xaxis": "x",
         "y": [
          8.486611684163412
         ],
         "yaxis": "y"
        },
        {
         "error_x": {
          "array": [
           0.0015113472863658817,
           0.0025914288889971266,
           0.005485510064429356,
           0.0001418822993350371
          ]
         },
         "error_y": {
          "array": [
           1.120409480763024,
           1.255977889100877,
           1.6358231001853534,
           0.46904329789232574
          ]
         },
         "hovertemplate": "Model=ReXNet<br>Accuracy_mean=%{x}<br>Disparity_mean=%{y}<extra></extra>",
         "legendgroup": "ReXNet",
         "marker": {
          "color": "#3cb44b",
          "size": 20,
          "symbol": "circle"
         },
         "mode": "markers",
         "name": "ReXNet",
         "orientation": "v",
         "showlegend": true,
         "type": "scatter",
         "x": [
          0.34125935711140465,
          0.31352828149393536,
          0.3256474920939914,
          0.5498078539690163
         ],
         "xaxis": "x",
         "y": [
          11.12509536743164,
          9.096274058024088,
          9.44253667195638,
          46.00132369995117
         ],
         "yaxis": "y"
        },
        {
         "error_x": {
          "array": [
           0.004603618313581875,
           0.006100175486043615,
           0.0012644482184129596,
           0.003490072705240222
          ]
         },
         "error_y": {
          "array": [
           2.307617052484892,
           0.5236168580985437,
           1.7713942461050698,
           0.5441691432667206
          ]
         },
         "hovertemplate": "Model=DPN_CosFace<br>Accuracy_mean=%{x}<br>Disparity_mean=%{y}<extra></extra>",
         "legendgroup": "DPN_CosFace",
         "marker": {
          "color": "#9a6324",
          "size": 20,
          "symbol": "circle"
         },
         "mode": "markers",
         "name": "DPN_CosFace",
         "orientation": "v",
         "showlegend": true,
         "type": "scatter",
         "x": [
          0.39125735559024855,
          0.2799027260718146,
          0.3618850326247948,
          0.30060846243144795
         ],
         "xaxis": "x",
         "y": [
          17.870302200317383,
          6.501541455586751,
          14.03646723429362,
          9.290701230367025
         ],
         "yaxis": "y"
        },
        {
         "error_x": {
          "array": [
           0.01736752731120318,
           0.03457302788111675,
           0.011739958128075092,
           0.0033023886009893506,
           0.008295689502158072,
           0.0010620800015215923,
           0.008704822376737165,
           0.01001111283171606,
           0.0019676082986980824,
           0.003318498536488281,
           0.01371917195456359,
           0.002293183414304575,
           0.002389471752613796,
           0.01053825598523417
          ]
         },
         "error_y": {
          "array": [
           63.016281287938675,
           30.654125013887267,
           5.4824265888522925,
           1.5420671141602937,
           2.8644808875701697,
           2.6855680376508055,
           0.7417634143045153,
           5.876631621655948,
           2.887995517275659,
           0.7957520895144665,
           1.9854245351626607,
           8.699167565780357,
           4.125215859718164,
           5.52670329041205
          ]
         },
         "hovertemplate": "Model=Other<br>Accuracy_mean=%{x}<br>Disparity_mean=%{y}<extra></extra>",
         "legendgroup": "Other",
         "marker": {
          "color": "#ffe119",
          "size": 20,
          "symbol": "circle"
         },
         "mode": "markers",
         "name": "Other",
         "orientation": "v",
         "showlegend": true,
         "type": "scatter",
         "x": [
          0.6650654497418039,
          0.6346323205636284,
          0.5997357992073976,
          0.4136343621152075,
          0.4694567871582402,
          0.5098875145110284,
          0.4547255914495016,
          0.5188243064729194,
          0.546665465753973,
          0.5395600656498939,
          0.46126055802409843,
          0.6183599535647092,
          0.5090969136543774,
          0.5818622152836155
         ],
         "xaxis": "x",
         "y": [
          119.6128641764323,
          77.9743423461914,
          31.709701538085938,
          20.904927571614582,
          21.985787709554035,
          31.387491861979168,
          18.988670984903973,
          27.43277104695638,
          30.40838877360026,
          31.801531473795574,
          32.48196792602539,
          40.117408752441406,
          34.014731089274086,
          54.6658681233724
         ],
         "yaxis": "y"
        },
        {
         "error_x": {
          "array": [
           0.0060642210067778975,
           0.006522748325574236
          ]
         },
         "error_y": {
          "array": [
           1.579241767390196,
           28.96221705830702
          ]
         },
         "hovertemplate": "Model=EseVoVNet<br>Accuracy_mean=%{x}<br>Disparity_mean=%{y}<extra></extra>",
         "legendgroup": "EseVoVNet",
         "marker": {
          "color": "#fabed4",
          "size": 20,
          "symbol": "circle"
         },
         "mode": "markers",
         "name": "EseVoVNet",
         "orientation": "v",
         "showlegend": true,
         "type": "scatter",
         "x": [
          0.5950722549137345,
          0.6269564869300668
         ],
         "xaxis": "x",
         "y": [
          37.888312021891274,
          55.071495056152344
         ],
         "yaxis": "y"
        },
        {
         "error_x": {
          "array": [
           0.0007151763068213307
          ]
         },
         "error_y": {
          "array": [
           1.1748581205796593
          ]
         },
         "hovertemplate": "Model=SMAC<br>Accuracy_mean=%{x}<br>Disparity_mean=%{y}<extra></extra>",
         "legendgroup": "SMAC",
         "marker": {
          "color": "#dcbeff",
          "size": 20,
          "symbol": "circle"
         },
         "mode": "markers",
         "name": "SMAC",
         "orientation": "v",
         "showlegend": true,
         "type": "scatter",
         "x": [
          0.26620231375845643
         ],
         "xaxis": "x",
         "y": [
          8.92073917388916
         ],
         "yaxis": "y"
        },
        {
         "error_x": {
          "array": [
           0.0010345657435473408,
           0.005981510059968798
          ]
         },
         "error_y": {
          "array": [
           1.4494663786727242,
           1.7763393539667354
          ]
         },
         "hovertemplate": "Model=DPN_MagFace<br>Accuracy_mean=%{x}<br>Disparity_mean=%{y}<extra></extra>",
         "legendgroup": "DPN_MagFace",
         "marker": {
          "color": "#e6194B",
          "size": 20,
          "symbol": "circle"
         },
         "mode": "markers",
         "name": "DPN_MagFace",
         "orientation": "v",
         "showlegend": true,
         "type": "scatter",
         "x": [
          0.5477462871782555,
          0.6047396020975943
         ],
         "xaxis": "x",
         "y": [
          49.29229990641276,
          41.95420710245768
         ],
         "yaxis": "y"
        },
        {
         "error_x": {
          "array": [
           0.0050317063547986995
          ]
         },
         "error_y": {
          "array": [
           1.9237869814426145
          ]
         },
         "hovertemplate": "Model=TNT<br>Accuracy_mean=%{x}<br>Disparity_mean=%{y}<extra></extra>",
         "legendgroup": "TNT",
         "marker": {
          "color": "#f58231",
          "size": 20,
          "symbol": "circle"
         },
         "mode": "markers",
         "name": "TNT",
         "orientation": "v",
         "showlegend": true,
         "type": "scatter",
         "x": [
          0.4746807573756055
         ],
         "xaxis": "x",
         "y": [
          25.67491340637207
         ],
         "yaxis": "y"
        },
        {
         "error_x": {
          "array": [
           0.0030864338856385573
          ]
         },
         "error_y": {
          "array": [
           1.2799249064274136
          ]
         },
         "hovertemplate": "Model=HRNet<br>Accuracy_mean=%{x}<br>Disparity_mean=%{y}<extra></extra>",
         "legendgroup": "HRNet",
         "marker": {
          "color": "#f032e6",
          "size": 20,
          "symbol": "circle"
         },
         "mode": "markers",
         "name": "HRNet",
         "orientation": "v",
         "showlegend": true,
         "type": "scatter",
         "x": [
          0.5837136223529883
         ],
         "xaxis": "x",
         "y": [
          36.21536382039388
         ],
         "yaxis": "y"
        }
       ],
       "layout": {
        "font": {
         "color": "Black",
         "family": "Times New Roman",
         "size": 30
        },
        "height": 1000,
        "legend": {
         "title": {
          "text": "Models"
         },
         "tracegroupgap": 0
        },
        "margin": {
         "t": 60
        },
        "shapes": [
         {
          "line": {
           "color": "gray",
           "dash": "dash",
           "width": 4
          },
          "type": "line",
          "x0": 0.26620231375845643,
          "x1": 0.2799027260718146,
          "xref": "x",
          "y0": 8.92073917388916,
          "y1": 6.501541455586751,
          "yref": "y"
         }
        ],
        "template": {
         "data": {
          "bar": [
           {
            "error_x": {
             "color": "rgb(36,36,36)"
            },
            "error_y": {
             "color": "rgb(36,36,36)"
            },
            "marker": {
             "line": {
              "color": "white",
              "width": 0.5
             },
             "pattern": {
              "fillmode": "overlay",
              "size": 10,
              "solidity": 0.2
             }
            },
            "type": "bar"
           }
          ],
          "barpolar": [
           {
            "marker": {
             "line": {
              "color": "white",
              "width": 0.5
             },
             "pattern": {
              "fillmode": "overlay",
              "size": 10,
              "solidity": 0.2
             }
            },
            "type": "barpolar"
           }
          ],
          "carpet": [
           {
            "aaxis": {
             "endlinecolor": "rgb(36,36,36)",
             "gridcolor": "white",
             "linecolor": "white",
             "minorgridcolor": "white",
             "startlinecolor": "rgb(36,36,36)"
            },
            "baxis": {
             "endlinecolor": "rgb(36,36,36)",
             "gridcolor": "white",
             "linecolor": "white",
             "minorgridcolor": "white",
             "startlinecolor": "rgb(36,36,36)"
            },
            "type": "carpet"
           }
          ],
          "choropleth": [
           {
            "colorbar": {
             "outlinewidth": 1,
             "tickcolor": "rgb(36,36,36)",
             "ticks": "outside"
            },
            "type": "choropleth"
           }
          ],
          "contour": [
           {
            "colorbar": {
             "outlinewidth": 1,
             "tickcolor": "rgb(36,36,36)",
             "ticks": "outside"
            },
            "colorscale": [
             [
              0,
              "#440154"
             ],
             [
              0.1111111111111111,
              "#482878"
             ],
             [
              0.2222222222222222,
              "#3e4989"
             ],
             [
              0.3333333333333333,
              "#31688e"
             ],
             [
              0.4444444444444444,
              "#26828e"
             ],
             [
              0.5555555555555556,
              "#1f9e89"
             ],
             [
              0.6666666666666666,
              "#35b779"
             ],
             [
              0.7777777777777778,
              "#6ece58"
             ],
             [
              0.8888888888888888,
              "#b5de2b"
             ],
             [
              1,
              "#fde725"
             ]
            ],
            "type": "contour"
           }
          ],
          "contourcarpet": [
           {
            "colorbar": {
             "outlinewidth": 1,
             "tickcolor": "rgb(36,36,36)",
             "ticks": "outside"
            },
            "type": "contourcarpet"
           }
          ],
          "heatmap": [
           {
            "colorbar": {
             "outlinewidth": 1,
             "tickcolor": "rgb(36,36,36)",
             "ticks": "outside"
            },
            "colorscale": [
             [
              0,
              "#440154"
             ],
             [
              0.1111111111111111,
              "#482878"
             ],
             [
              0.2222222222222222,
              "#3e4989"
             ],
             [
              0.3333333333333333,
              "#31688e"
             ],
             [
              0.4444444444444444,
              "#26828e"
             ],
             [
              0.5555555555555556,
              "#1f9e89"
             ],
             [
              0.6666666666666666,
              "#35b779"
             ],
             [
              0.7777777777777778,
              "#6ece58"
             ],
             [
              0.8888888888888888,
              "#b5de2b"
             ],
             [
              1,
              "#fde725"
             ]
            ],
            "type": "heatmap"
           }
          ],
          "heatmapgl": [
           {
            "colorbar": {
             "outlinewidth": 1,
             "tickcolor": "rgb(36,36,36)",
             "ticks": "outside"
            },
            "colorscale": [
             [
              0,
              "#440154"
             ],
             [
              0.1111111111111111,
              "#482878"
             ],
             [
              0.2222222222222222,
              "#3e4989"
             ],
             [
              0.3333333333333333,
              "#31688e"
             ],
             [
              0.4444444444444444,
              "#26828e"
             ],
             [
              0.5555555555555556,
              "#1f9e89"
             ],
             [
              0.6666666666666666,
              "#35b779"
             ],
             [
              0.7777777777777778,
              "#6ece58"
             ],
             [
              0.8888888888888888,
              "#b5de2b"
             ],
             [
              1,
              "#fde725"
             ]
            ],
            "type": "heatmapgl"
           }
          ],
          "histogram": [
           {
            "marker": {
             "line": {
              "color": "white",
              "width": 0.6
             }
            },
            "type": "histogram"
           }
          ],
          "histogram2d": [
           {
            "colorbar": {
             "outlinewidth": 1,
             "tickcolor": "rgb(36,36,36)",
             "ticks": "outside"
            },
            "colorscale": [
             [
              0,
              "#440154"
             ],
             [
              0.1111111111111111,
              "#482878"
             ],
             [
              0.2222222222222222,
              "#3e4989"
             ],
             [
              0.3333333333333333,
              "#31688e"
             ],
             [
              0.4444444444444444,
              "#26828e"
             ],
             [
              0.5555555555555556,
              "#1f9e89"
             ],
             [
              0.6666666666666666,
              "#35b779"
             ],
             [
              0.7777777777777778,
              "#6ece58"
             ],
             [
              0.8888888888888888,
              "#b5de2b"
             ],
             [
              1,
              "#fde725"
             ]
            ],
            "type": "histogram2d"
           }
          ],
          "histogram2dcontour": [
           {
            "colorbar": {
             "outlinewidth": 1,
             "tickcolor": "rgb(36,36,36)",
             "ticks": "outside"
            },
            "colorscale": [
             [
              0,
              "#440154"
             ],
             [
              0.1111111111111111,
              "#482878"
             ],
             [
              0.2222222222222222,
              "#3e4989"
             ],
             [
              0.3333333333333333,
              "#31688e"
             ],
             [
              0.4444444444444444,
              "#26828e"
             ],
             [
              0.5555555555555556,
              "#1f9e89"
             ],
             [
              0.6666666666666666,
              "#35b779"
             ],
             [
              0.7777777777777778,
              "#6ece58"
             ],
             [
              0.8888888888888888,
              "#b5de2b"
             ],
             [
              1,
              "#fde725"
             ]
            ],
            "type": "histogram2dcontour"
           }
          ],
          "mesh3d": [
           {
            "colorbar": {
             "outlinewidth": 1,
             "tickcolor": "rgb(36,36,36)",
             "ticks": "outside"
            },
            "type": "mesh3d"
           }
          ],
          "parcoords": [
           {
            "line": {
             "colorbar": {
              "outlinewidth": 1,
              "tickcolor": "rgb(36,36,36)",
              "ticks": "outside"
             }
            },
            "type": "parcoords"
           }
          ],
          "pie": [
           {
            "automargin": true,
            "type": "pie"
           }
          ],
          "scatter": [
           {
            "marker": {
             "colorbar": {
              "outlinewidth": 1,
              "tickcolor": "rgb(36,36,36)",
              "ticks": "outside"
             }
            },
            "type": "scatter"
           }
          ],
          "scatter3d": [
           {
            "line": {
             "colorbar": {
              "outlinewidth": 1,
              "tickcolor": "rgb(36,36,36)",
              "ticks": "outside"
             }
            },
            "marker": {
             "colorbar": {
              "outlinewidth": 1,
              "tickcolor": "rgb(36,36,36)",
              "ticks": "outside"
             }
            },
            "type": "scatter3d"
           }
          ],
          "scattercarpet": [
           {
            "marker": {
             "colorbar": {
              "outlinewidth": 1,
              "tickcolor": "rgb(36,36,36)",
              "ticks": "outside"
             }
            },
            "type": "scattercarpet"
           }
          ],
          "scattergeo": [
           {
            "marker": {
             "colorbar": {
              "outlinewidth": 1,
              "tickcolor": "rgb(36,36,36)",
              "ticks": "outside"
             }
            },
            "type": "scattergeo"
           }
          ],
          "scattergl": [
           {
            "marker": {
             "colorbar": {
              "outlinewidth": 1,
              "tickcolor": "rgb(36,36,36)",
              "ticks": "outside"
             }
            },
            "type": "scattergl"
           }
          ],
          "scattermapbox": [
           {
            "marker": {
             "colorbar": {
              "outlinewidth": 1,
              "tickcolor": "rgb(36,36,36)",
              "ticks": "outside"
             }
            },
            "type": "scattermapbox"
           }
          ],
          "scatterpolar": [
           {
            "marker": {
             "colorbar": {
              "outlinewidth": 1,
              "tickcolor": "rgb(36,36,36)",
              "ticks": "outside"
             }
            },
            "type": "scatterpolar"
           }
          ],
          "scatterpolargl": [
           {
            "marker": {
             "colorbar": {
              "outlinewidth": 1,
              "tickcolor": "rgb(36,36,36)",
              "ticks": "outside"
             }
            },
            "type": "scatterpolargl"
           }
          ],
          "scatterternary": [
           {
            "marker": {
             "colorbar": {
              "outlinewidth": 1,
              "tickcolor": "rgb(36,36,36)",
              "ticks": "outside"
             }
            },
            "type": "scatterternary"
           }
          ],
          "surface": [
           {
            "colorbar": {
             "outlinewidth": 1,
             "tickcolor": "rgb(36,36,36)",
             "ticks": "outside"
            },
            "colorscale": [
             [
              0,
              "#440154"
             ],
             [
              0.1111111111111111,
              "#482878"
             ],
             [
              0.2222222222222222,
              "#3e4989"
             ],
             [
              0.3333333333333333,
              "#31688e"
             ],
             [
              0.4444444444444444,
              "#26828e"
             ],
             [
              0.5555555555555556,
              "#1f9e89"
             ],
             [
              0.6666666666666666,
              "#35b779"
             ],
             [
              0.7777777777777778,
              "#6ece58"
             ],
             [
              0.8888888888888888,
              "#b5de2b"
             ],
             [
              1,
              "#fde725"
             ]
            ],
            "type": "surface"
           }
          ],
          "table": [
           {
            "cells": {
             "fill": {
              "color": "rgb(237,237,237)"
             },
             "line": {
              "color": "white"
             }
            },
            "header": {
             "fill": {
              "color": "rgb(217,217,217)"
             },
             "line": {
              "color": "white"
             }
            },
            "type": "table"
           }
          ]
         },
         "layout": {
          "annotationdefaults": {
           "arrowhead": 0,
           "arrowwidth": 1
          },
          "autotypenumbers": "strict",
          "coloraxis": {
           "colorbar": {
            "outlinewidth": 1,
            "tickcolor": "rgb(36,36,36)",
            "ticks": "outside"
           }
          },
          "colorscale": {
           "diverging": [
            [
             0,
             "rgb(103,0,31)"
            ],
            [
             0.1,
             "rgb(178,24,43)"
            ],
            [
             0.2,
             "rgb(214,96,77)"
            ],
            [
             0.3,
             "rgb(244,165,130)"
            ],
            [
             0.4,
             "rgb(253,219,199)"
            ],
            [
             0.5,
             "rgb(247,247,247)"
            ],
            [
             0.6,
             "rgb(209,229,240)"
            ],
            [
             0.7,
             "rgb(146,197,222)"
            ],
            [
             0.8,
             "rgb(67,147,195)"
            ],
            [
             0.9,
             "rgb(33,102,172)"
            ],
            [
             1,
             "rgb(5,48,97)"
            ]
           ],
           "sequential": [
            [
             0,
             "#440154"
            ],
            [
             0.1111111111111111,
             "#482878"
            ],
            [
             0.2222222222222222,
             "#3e4989"
            ],
            [
             0.3333333333333333,
             "#31688e"
            ],
            [
             0.4444444444444444,
             "#26828e"
            ],
            [
             0.5555555555555556,
             "#1f9e89"
            ],
            [
             0.6666666666666666,
             "#35b779"
            ],
            [
             0.7777777777777778,
             "#6ece58"
            ],
            [
             0.8888888888888888,
             "#b5de2b"
            ],
            [
             1,
             "#fde725"
            ]
           ],
           "sequentialminus": [
            [
             0,
             "#440154"
            ],
            [
             0.1111111111111111,
             "#482878"
            ],
            [
             0.2222222222222222,
             "#3e4989"
            ],
            [
             0.3333333333333333,
             "#31688e"
            ],
            [
             0.4444444444444444,
             "#26828e"
            ],
            [
             0.5555555555555556,
             "#1f9e89"
            ],
            [
             0.6666666666666666,
             "#35b779"
            ],
            [
             0.7777777777777778,
             "#6ece58"
            ],
            [
             0.8888888888888888,
             "#b5de2b"
            ],
            [
             1,
             "#fde725"
            ]
           ]
          },
          "colorway": [
           "#1F77B4",
           "#FF7F0E",
           "#2CA02C",
           "#D62728",
           "#9467BD",
           "#8C564B",
           "#E377C2",
           "#7F7F7F",
           "#BCBD22",
           "#17BECF"
          ],
          "font": {
           "color": "rgb(36,36,36)"
          },
          "geo": {
           "bgcolor": "white",
           "lakecolor": "white",
           "landcolor": "white",
           "showlakes": true,
           "showland": true,
           "subunitcolor": "white"
          },
          "hoverlabel": {
           "align": "left"
          },
          "hovermode": "closest",
          "mapbox": {
           "style": "light"
          },
          "paper_bgcolor": "white",
          "plot_bgcolor": "white",
          "polar": {
           "angularaxis": {
            "gridcolor": "rgb(232,232,232)",
            "linecolor": "rgb(36,36,36)",
            "showgrid": false,
            "showline": true,
            "ticks": "outside"
           },
           "bgcolor": "white",
           "radialaxis": {
            "gridcolor": "rgb(232,232,232)",
            "linecolor": "rgb(36,36,36)",
            "showgrid": false,
            "showline": true,
            "ticks": "outside"
           }
          },
          "scene": {
           "xaxis": {
            "backgroundcolor": "white",
            "gridcolor": "rgb(232,232,232)",
            "gridwidth": 2,
            "linecolor": "rgb(36,36,36)",
            "showbackground": true,
            "showgrid": false,
            "showline": true,
            "ticks": "outside",
            "zeroline": false,
            "zerolinecolor": "rgb(36,36,36)"
           },
           "yaxis": {
            "backgroundcolor": "white",
            "gridcolor": "rgb(232,232,232)",
            "gridwidth": 2,
            "linecolor": "rgb(36,36,36)",
            "showbackground": true,
            "showgrid": false,
            "showline": true,
            "ticks": "outside",
            "zeroline": false,
            "zerolinecolor": "rgb(36,36,36)"
           },
           "zaxis": {
            "backgroundcolor": "white",
            "gridcolor": "rgb(232,232,232)",
            "gridwidth": 2,
            "linecolor": "rgb(36,36,36)",
            "showbackground": true,
            "showgrid": false,
            "showline": true,
            "ticks": "outside",
            "zeroline": false,
            "zerolinecolor": "rgb(36,36,36)"
           }
          },
          "shapedefaults": {
           "fillcolor": "black",
           "line": {
            "width": 0
           },
           "opacity": 0.3
          },
          "ternary": {
           "aaxis": {
            "gridcolor": "rgb(232,232,232)",
            "linecolor": "rgb(36,36,36)",
            "showgrid": false,
            "showline": true,
            "ticks": "outside"
           },
           "baxis": {
            "gridcolor": "rgb(232,232,232)",
            "linecolor": "rgb(36,36,36)",
            "showgrid": false,
            "showline": true,
            "ticks": "outside"
           },
           "bgcolor": "white",
           "caxis": {
            "gridcolor": "rgb(232,232,232)",
            "linecolor": "rgb(36,36,36)",
            "showgrid": false,
            "showline": true,
            "ticks": "outside"
           }
          },
          "title": {
           "x": 0.05
          },
          "xaxis": {
           "automargin": true,
           "gridcolor": "rgb(232,232,232)",
           "linecolor": "rgb(36,36,36)",
           "showgrid": false,
           "showline": true,
           "ticks": "outside",
           "title": {
            "standoff": 15
           },
           "zeroline": false,
           "zerolinecolor": "rgb(36,36,36)"
          },
          "yaxis": {
           "automargin": true,
           "gridcolor": "rgb(232,232,232)",
           "linecolor": "rgb(36,36,36)",
           "showgrid": false,
           "showline": true,
           "ticks": "outside",
           "title": {
            "standoff": 15
           },
           "zeroline": false,
           "zerolinecolor": "rgb(36,36,36)"
          }
         }
        },
        "title": {
         "text": "Trained on VGGFace2; Tested on RFW"
        },
        "width": 1200,
        "xaxis": {
         "anchor": "y",
         "domain": [
          0,
          1
         ],
         "title": {
          "text": "Error"
         }
        },
        "yaxis": {
         "anchor": "x",
         "domain": [
          0,
          1
         ],
         "title": {
          "text": "Rank Disparity"
         }
        }
       }
      },
      "text/html": [
       "<div>                            <div id=\"e1472fef-4341-4f89-adb8-9ba7d2f2429c\" class=\"plotly-graph-div\" style=\"height:1000px; width:1200px;\"></div>            <script type=\"text/javascript\">                require([\"plotly\"], function(Plotly) {                    window.PLOTLYENV=window.PLOTLYENV || {};                                    if (document.getElementById(\"e1472fef-4341-4f89-adb8-9ba7d2f2429c\")) {                    Plotly.newPlot(                        \"e1472fef-4341-4f89-adb8-9ba7d2f2429c\",                        [{\"error_x\":{\"array\":[0.01169092259469165]},\"error_y\":{\"array\":[0.4014650186640361]},\"hovertemplate\":\"Model=Swin_Transformer<br>Accuracy_mean=%{x}<br>Disparity_mean=%{y}<extra></extra>\",\"legendgroup\":\"Swin_Transformer\",\"marker\":{\"color\":\"#42d4f4\",\"symbol\":\"circle\",\"size\":20},\"mode\":\"markers\",\"name\":\"Swin_Transformer\",\"orientation\":\"v\",\"showlegend\":true,\"x\":[0.3756454905728353],\"xaxis\":\"x\",\"y\":[8.486611684163412],\"yaxis\":\"y\",\"type\":\"scatter\"},{\"error_x\":{\"array\":[0.0015113472863658817,0.0025914288889971266,0.005485510064429356,0.0001418822993350371]},\"error_y\":{\"array\":[1.120409480763024,1.255977889100877,1.6358231001853534,0.46904329789232574]},\"hovertemplate\":\"Model=ReXNet<br>Accuracy_mean=%{x}<br>Disparity_mean=%{y}<extra></extra>\",\"legendgroup\":\"ReXNet\",\"marker\":{\"color\":\"#3cb44b\",\"symbol\":\"circle\",\"size\":20},\"mode\":\"markers\",\"name\":\"ReXNet\",\"orientation\":\"v\",\"showlegend\":true,\"x\":[0.34125935711140465,0.31352828149393536,0.3256474920939914,0.5498078539690163],\"xaxis\":\"x\",\"y\":[11.12509536743164,9.096274058024088,9.44253667195638,46.00132369995117],\"yaxis\":\"y\",\"type\":\"scatter\"},{\"error_x\":{\"array\":[0.004603618313581875,0.006100175486043615,0.0012644482184129596,0.003490072705240222]},\"error_y\":{\"array\":[2.307617052484892,0.5236168580985437,1.7713942461050698,0.5441691432667206]},\"hovertemplate\":\"Model=DPN_CosFace<br>Accuracy_mean=%{x}<br>Disparity_mean=%{y}<extra></extra>\",\"legendgroup\":\"DPN_CosFace\",\"marker\":{\"color\":\"#9a6324\",\"symbol\":\"circle\",\"size\":20},\"mode\":\"markers\",\"name\":\"DPN_CosFace\",\"orientation\":\"v\",\"showlegend\":true,\"x\":[0.39125735559024855,0.2799027260718146,0.3618850326247948,0.30060846243144795],\"xaxis\":\"x\",\"y\":[17.870302200317383,6.501541455586751,14.03646723429362,9.290701230367025],\"yaxis\":\"y\",\"type\":\"scatter\"},{\"error_x\":{\"array\":[0.01736752731120318,0.03457302788111675,0.011739958128075092,0.0033023886009893506,0.008295689502158072,0.0010620800015215923,0.008704822376737165,0.01001111283171606,0.0019676082986980824,0.003318498536488281,0.01371917195456359,0.002293183414304575,0.002389471752613796,0.01053825598523417]},\"error_y\":{\"array\":[63.016281287938675,30.654125013887267,5.4824265888522925,1.5420671141602937,2.8644808875701697,2.6855680376508055,0.7417634143045153,5.876631621655948,2.887995517275659,0.7957520895144665,1.9854245351626607,8.699167565780357,4.125215859718164,5.52670329041205]},\"hovertemplate\":\"Model=Other<br>Accuracy_mean=%{x}<br>Disparity_mean=%{y}<extra></extra>\",\"legendgroup\":\"Other\",\"marker\":{\"color\":\"#ffe119\",\"symbol\":\"circle\",\"size\":20},\"mode\":\"markers\",\"name\":\"Other\",\"orientation\":\"v\",\"showlegend\":true,\"x\":[0.6650654497418039,0.6346323205636284,0.5997357992073976,0.4136343621152075,0.4694567871582402,0.5098875145110284,0.4547255914495016,0.5188243064729194,0.546665465753973,0.5395600656498939,0.46126055802409843,0.6183599535647092,0.5090969136543774,0.5818622152836155],\"xaxis\":\"x\",\"y\":[119.6128641764323,77.9743423461914,31.709701538085938,20.904927571614582,21.985787709554035,31.387491861979168,18.988670984903973,27.43277104695638,30.40838877360026,31.801531473795574,32.48196792602539,40.117408752441406,34.014731089274086,54.6658681233724],\"yaxis\":\"y\",\"type\":\"scatter\"},{\"error_x\":{\"array\":[0.0060642210067778975,0.006522748325574236]},\"error_y\":{\"array\":[1.579241767390196,28.96221705830702]},\"hovertemplate\":\"Model=EseVoVNet<br>Accuracy_mean=%{x}<br>Disparity_mean=%{y}<extra></extra>\",\"legendgroup\":\"EseVoVNet\",\"marker\":{\"color\":\"#fabed4\",\"symbol\":\"circle\",\"size\":20},\"mode\":\"markers\",\"name\":\"EseVoVNet\",\"orientation\":\"v\",\"showlegend\":true,\"x\":[0.5950722549137345,0.6269564869300668],\"xaxis\":\"x\",\"y\":[37.888312021891274,55.071495056152344],\"yaxis\":\"y\",\"type\":\"scatter\"},{\"error_x\":{\"array\":[0.0007151763068213307]},\"error_y\":{\"array\":[1.1748581205796593]},\"hovertemplate\":\"Model=SMAC<br>Accuracy_mean=%{x}<br>Disparity_mean=%{y}<extra></extra>\",\"legendgroup\":\"SMAC\",\"marker\":{\"color\":\"#dcbeff\",\"symbol\":\"circle\",\"size\":20},\"mode\":\"markers\",\"name\":\"SMAC\",\"orientation\":\"v\",\"showlegend\":true,\"x\":[0.26620231375845643],\"xaxis\":\"x\",\"y\":[8.92073917388916],\"yaxis\":\"y\",\"type\":\"scatter\"},{\"error_x\":{\"array\":[0.0010345657435473408,0.005981510059968798]},\"error_y\":{\"array\":[1.4494663786727242,1.7763393539667354]},\"hovertemplate\":\"Model=DPN_MagFace<br>Accuracy_mean=%{x}<br>Disparity_mean=%{y}<extra></extra>\",\"legendgroup\":\"DPN_MagFace\",\"marker\":{\"color\":\"#e6194B\",\"symbol\":\"circle\",\"size\":20},\"mode\":\"markers\",\"name\":\"DPN_MagFace\",\"orientation\":\"v\",\"showlegend\":true,\"x\":[0.5477462871782555,0.6047396020975943],\"xaxis\":\"x\",\"y\":[49.29229990641276,41.95420710245768],\"yaxis\":\"y\",\"type\":\"scatter\"},{\"error_x\":{\"array\":[0.0050317063547986995]},\"error_y\":{\"array\":[1.9237869814426145]},\"hovertemplate\":\"Model=TNT<br>Accuracy_mean=%{x}<br>Disparity_mean=%{y}<extra></extra>\",\"legendgroup\":\"TNT\",\"marker\":{\"color\":\"#f58231\",\"symbol\":\"circle\",\"size\":20},\"mode\":\"markers\",\"name\":\"TNT\",\"orientation\":\"v\",\"showlegend\":true,\"x\":[0.4746807573756055],\"xaxis\":\"x\",\"y\":[25.67491340637207],\"yaxis\":\"y\",\"type\":\"scatter\"},{\"error_x\":{\"array\":[0.0030864338856385573]},\"error_y\":{\"array\":[1.2799249064274136]},\"hovertemplate\":\"Model=HRNet<br>Accuracy_mean=%{x}<br>Disparity_mean=%{y}<extra></extra>\",\"legendgroup\":\"HRNet\",\"marker\":{\"color\":\"#f032e6\",\"symbol\":\"circle\",\"size\":20},\"mode\":\"markers\",\"name\":\"HRNet\",\"orientation\":\"v\",\"showlegend\":true,\"x\":[0.5837136223529883],\"xaxis\":\"x\",\"y\":[36.21536382039388],\"yaxis\":\"y\",\"type\":\"scatter\"}],                        {\"template\":{\"data\":{\"barpolar\":[{\"marker\":{\"line\":{\"color\":\"white\",\"width\":0.5},\"pattern\":{\"fillmode\":\"overlay\",\"size\":10,\"solidity\":0.2}},\"type\":\"barpolar\"}],\"bar\":[{\"error_x\":{\"color\":\"rgb(36,36,36)\"},\"error_y\":{\"color\":\"rgb(36,36,36)\"},\"marker\":{\"line\":{\"color\":\"white\",\"width\":0.5},\"pattern\":{\"fillmode\":\"overlay\",\"size\":10,\"solidity\":0.2}},\"type\":\"bar\"}],\"carpet\":[{\"aaxis\":{\"endlinecolor\":\"rgb(36,36,36)\",\"gridcolor\":\"white\",\"linecolor\":\"white\",\"minorgridcolor\":\"white\",\"startlinecolor\":\"rgb(36,36,36)\"},\"baxis\":{\"endlinecolor\":\"rgb(36,36,36)\",\"gridcolor\":\"white\",\"linecolor\":\"white\",\"minorgridcolor\":\"white\",\"startlinecolor\":\"rgb(36,36,36)\"},\"type\":\"carpet\"}],\"choropleth\":[{\"colorbar\":{\"outlinewidth\":1,\"tickcolor\":\"rgb(36,36,36)\",\"ticks\":\"outside\"},\"type\":\"choropleth\"}],\"contourcarpet\":[{\"colorbar\":{\"outlinewidth\":1,\"tickcolor\":\"rgb(36,36,36)\",\"ticks\":\"outside\"},\"type\":\"contourcarpet\"}],\"contour\":[{\"colorbar\":{\"outlinewidth\":1,\"tickcolor\":\"rgb(36,36,36)\",\"ticks\":\"outside\"},\"colorscale\":[[0.0,\"#440154\"],[0.1111111111111111,\"#482878\"],[0.2222222222222222,\"#3e4989\"],[0.3333333333333333,\"#31688e\"],[0.4444444444444444,\"#26828e\"],[0.5555555555555556,\"#1f9e89\"],[0.6666666666666666,\"#35b779\"],[0.7777777777777778,\"#6ece58\"],[0.8888888888888888,\"#b5de2b\"],[1.0,\"#fde725\"]],\"type\":\"contour\"}],\"heatmapgl\":[{\"colorbar\":{\"outlinewidth\":1,\"tickcolor\":\"rgb(36,36,36)\",\"ticks\":\"outside\"},\"colorscale\":[[0.0,\"#440154\"],[0.1111111111111111,\"#482878\"],[0.2222222222222222,\"#3e4989\"],[0.3333333333333333,\"#31688e\"],[0.4444444444444444,\"#26828e\"],[0.5555555555555556,\"#1f9e89\"],[0.6666666666666666,\"#35b779\"],[0.7777777777777778,\"#6ece58\"],[0.8888888888888888,\"#b5de2b\"],[1.0,\"#fde725\"]],\"type\":\"heatmapgl\"}],\"heatmap\":[{\"colorbar\":{\"outlinewidth\":1,\"tickcolor\":\"rgb(36,36,36)\",\"ticks\":\"outside\"},\"colorscale\":[[0.0,\"#440154\"],[0.1111111111111111,\"#482878\"],[0.2222222222222222,\"#3e4989\"],[0.3333333333333333,\"#31688e\"],[0.4444444444444444,\"#26828e\"],[0.5555555555555556,\"#1f9e89\"],[0.6666666666666666,\"#35b779\"],[0.7777777777777778,\"#6ece58\"],[0.8888888888888888,\"#b5de2b\"],[1.0,\"#fde725\"]],\"type\":\"heatmap\"}],\"histogram2dcontour\":[{\"colorbar\":{\"outlinewidth\":1,\"tickcolor\":\"rgb(36,36,36)\",\"ticks\":\"outside\"},\"colorscale\":[[0.0,\"#440154\"],[0.1111111111111111,\"#482878\"],[0.2222222222222222,\"#3e4989\"],[0.3333333333333333,\"#31688e\"],[0.4444444444444444,\"#26828e\"],[0.5555555555555556,\"#1f9e89\"],[0.6666666666666666,\"#35b779\"],[0.7777777777777778,\"#6ece58\"],[0.8888888888888888,\"#b5de2b\"],[1.0,\"#fde725\"]],\"type\":\"histogram2dcontour\"}],\"histogram2d\":[{\"colorbar\":{\"outlinewidth\":1,\"tickcolor\":\"rgb(36,36,36)\",\"ticks\":\"outside\"},\"colorscale\":[[0.0,\"#440154\"],[0.1111111111111111,\"#482878\"],[0.2222222222222222,\"#3e4989\"],[0.3333333333333333,\"#31688e\"],[0.4444444444444444,\"#26828e\"],[0.5555555555555556,\"#1f9e89\"],[0.6666666666666666,\"#35b779\"],[0.7777777777777778,\"#6ece58\"],[0.8888888888888888,\"#b5de2b\"],[1.0,\"#fde725\"]],\"type\":\"histogram2d\"}],\"histogram\":[{\"marker\":{\"line\":{\"color\":\"white\",\"width\":0.6}},\"type\":\"histogram\"}],\"mesh3d\":[{\"colorbar\":{\"outlinewidth\":1,\"tickcolor\":\"rgb(36,36,36)\",\"ticks\":\"outside\"},\"type\":\"mesh3d\"}],\"parcoords\":[{\"line\":{\"colorbar\":{\"outlinewidth\":1,\"tickcolor\":\"rgb(36,36,36)\",\"ticks\":\"outside\"}},\"type\":\"parcoords\"}],\"pie\":[{\"automargin\":true,\"type\":\"pie\"}],\"scatter3d\":[{\"line\":{\"colorbar\":{\"outlinewidth\":1,\"tickcolor\":\"rgb(36,36,36)\",\"ticks\":\"outside\"}},\"marker\":{\"colorbar\":{\"outlinewidth\":1,\"tickcolor\":\"rgb(36,36,36)\",\"ticks\":\"outside\"}},\"type\":\"scatter3d\"}],\"scattercarpet\":[{\"marker\":{\"colorbar\":{\"outlinewidth\":1,\"tickcolor\":\"rgb(36,36,36)\",\"ticks\":\"outside\"}},\"type\":\"scattercarpet\"}],\"scattergeo\":[{\"marker\":{\"colorbar\":{\"outlinewidth\":1,\"tickcolor\":\"rgb(36,36,36)\",\"ticks\":\"outside\"}},\"type\":\"scattergeo\"}],\"scattergl\":[{\"marker\":{\"colorbar\":{\"outlinewidth\":1,\"tickcolor\":\"rgb(36,36,36)\",\"ticks\":\"outside\"}},\"type\":\"scattergl\"}],\"scattermapbox\":[{\"marker\":{\"colorbar\":{\"outlinewidth\":1,\"tickcolor\":\"rgb(36,36,36)\",\"ticks\":\"outside\"}},\"type\":\"scattermapbox\"}],\"scatterpolargl\":[{\"marker\":{\"colorbar\":{\"outlinewidth\":1,\"tickcolor\":\"rgb(36,36,36)\",\"ticks\":\"outside\"}},\"type\":\"scatterpolargl\"}],\"scatterpolar\":[{\"marker\":{\"colorbar\":{\"outlinewidth\":1,\"tickcolor\":\"rgb(36,36,36)\",\"ticks\":\"outside\"}},\"type\":\"scatterpolar\"}],\"scatter\":[{\"marker\":{\"colorbar\":{\"outlinewidth\":1,\"tickcolor\":\"rgb(36,36,36)\",\"ticks\":\"outside\"}},\"type\":\"scatter\"}],\"scatterternary\":[{\"marker\":{\"colorbar\":{\"outlinewidth\":1,\"tickcolor\":\"rgb(36,36,36)\",\"ticks\":\"outside\"}},\"type\":\"scatterternary\"}],\"surface\":[{\"colorbar\":{\"outlinewidth\":1,\"tickcolor\":\"rgb(36,36,36)\",\"ticks\":\"outside\"},\"colorscale\":[[0.0,\"#440154\"],[0.1111111111111111,\"#482878\"],[0.2222222222222222,\"#3e4989\"],[0.3333333333333333,\"#31688e\"],[0.4444444444444444,\"#26828e\"],[0.5555555555555556,\"#1f9e89\"],[0.6666666666666666,\"#35b779\"],[0.7777777777777778,\"#6ece58\"],[0.8888888888888888,\"#b5de2b\"],[1.0,\"#fde725\"]],\"type\":\"surface\"}],\"table\":[{\"cells\":{\"fill\":{\"color\":\"rgb(237,237,237)\"},\"line\":{\"color\":\"white\"}},\"header\":{\"fill\":{\"color\":\"rgb(217,217,217)\"},\"line\":{\"color\":\"white\"}},\"type\":\"table\"}]},\"layout\":{\"annotationdefaults\":{\"arrowhead\":0,\"arrowwidth\":1},\"autotypenumbers\":\"strict\",\"coloraxis\":{\"colorbar\":{\"outlinewidth\":1,\"tickcolor\":\"rgb(36,36,36)\",\"ticks\":\"outside\"}},\"colorscale\":{\"diverging\":[[0.0,\"rgb(103,0,31)\"],[0.1,\"rgb(178,24,43)\"],[0.2,\"rgb(214,96,77)\"],[0.3,\"rgb(244,165,130)\"],[0.4,\"rgb(253,219,199)\"],[0.5,\"rgb(247,247,247)\"],[0.6,\"rgb(209,229,240)\"],[0.7,\"rgb(146,197,222)\"],[0.8,\"rgb(67,147,195)\"],[0.9,\"rgb(33,102,172)\"],[1.0,\"rgb(5,48,97)\"]],\"sequential\":[[0.0,\"#440154\"],[0.1111111111111111,\"#482878\"],[0.2222222222222222,\"#3e4989\"],[0.3333333333333333,\"#31688e\"],[0.4444444444444444,\"#26828e\"],[0.5555555555555556,\"#1f9e89\"],[0.6666666666666666,\"#35b779\"],[0.7777777777777778,\"#6ece58\"],[0.8888888888888888,\"#b5de2b\"],[1.0,\"#fde725\"]],\"sequentialminus\":[[0.0,\"#440154\"],[0.1111111111111111,\"#482878\"],[0.2222222222222222,\"#3e4989\"],[0.3333333333333333,\"#31688e\"],[0.4444444444444444,\"#26828e\"],[0.5555555555555556,\"#1f9e89\"],[0.6666666666666666,\"#35b779\"],[0.7777777777777778,\"#6ece58\"],[0.8888888888888888,\"#b5de2b\"],[1.0,\"#fde725\"]]},\"colorway\":[\"#1F77B4\",\"#FF7F0E\",\"#2CA02C\",\"#D62728\",\"#9467BD\",\"#8C564B\",\"#E377C2\",\"#7F7F7F\",\"#BCBD22\",\"#17BECF\"],\"font\":{\"color\":\"rgb(36,36,36)\"},\"geo\":{\"bgcolor\":\"white\",\"lakecolor\":\"white\",\"landcolor\":\"white\",\"showlakes\":true,\"showland\":true,\"subunitcolor\":\"white\"},\"hoverlabel\":{\"align\":\"left\"},\"hovermode\":\"closest\",\"mapbox\":{\"style\":\"light\"},\"paper_bgcolor\":\"white\",\"plot_bgcolor\":\"white\",\"polar\":{\"angularaxis\":{\"gridcolor\":\"rgb(232,232,232)\",\"linecolor\":\"rgb(36,36,36)\",\"showgrid\":false,\"showline\":true,\"ticks\":\"outside\"},\"bgcolor\":\"white\",\"radialaxis\":{\"gridcolor\":\"rgb(232,232,232)\",\"linecolor\":\"rgb(36,36,36)\",\"showgrid\":false,\"showline\":true,\"ticks\":\"outside\"}},\"scene\":{\"xaxis\":{\"backgroundcolor\":\"white\",\"gridcolor\":\"rgb(232,232,232)\",\"gridwidth\":2,\"linecolor\":\"rgb(36,36,36)\",\"showbackground\":true,\"showgrid\":false,\"showline\":true,\"ticks\":\"outside\",\"zeroline\":false,\"zerolinecolor\":\"rgb(36,36,36)\"},\"yaxis\":{\"backgroundcolor\":\"white\",\"gridcolor\":\"rgb(232,232,232)\",\"gridwidth\":2,\"linecolor\":\"rgb(36,36,36)\",\"showbackground\":true,\"showgrid\":false,\"showline\":true,\"ticks\":\"outside\",\"zeroline\":false,\"zerolinecolor\":\"rgb(36,36,36)\"},\"zaxis\":{\"backgroundcolor\":\"white\",\"gridcolor\":\"rgb(232,232,232)\",\"gridwidth\":2,\"linecolor\":\"rgb(36,36,36)\",\"showbackground\":true,\"showgrid\":false,\"showline\":true,\"ticks\":\"outside\",\"zeroline\":false,\"zerolinecolor\":\"rgb(36,36,36)\"}},\"shapedefaults\":{\"fillcolor\":\"black\",\"line\":{\"width\":0},\"opacity\":0.3},\"ternary\":{\"aaxis\":{\"gridcolor\":\"rgb(232,232,232)\",\"linecolor\":\"rgb(36,36,36)\",\"showgrid\":false,\"showline\":true,\"ticks\":\"outside\"},\"baxis\":{\"gridcolor\":\"rgb(232,232,232)\",\"linecolor\":\"rgb(36,36,36)\",\"showgrid\":false,\"showline\":true,\"ticks\":\"outside\"},\"bgcolor\":\"white\",\"caxis\":{\"gridcolor\":\"rgb(232,232,232)\",\"linecolor\":\"rgb(36,36,36)\",\"showgrid\":false,\"showline\":true,\"ticks\":\"outside\"}},\"title\":{\"x\":0.05},\"xaxis\":{\"automargin\":true,\"gridcolor\":\"rgb(232,232,232)\",\"linecolor\":\"rgb(36,36,36)\",\"showgrid\":false,\"showline\":true,\"ticks\":\"outside\",\"title\":{\"standoff\":15},\"zeroline\":false,\"zerolinecolor\":\"rgb(36,36,36)\"},\"yaxis\":{\"automargin\":true,\"gridcolor\":\"rgb(232,232,232)\",\"linecolor\":\"rgb(36,36,36)\",\"showgrid\":false,\"showline\":true,\"ticks\":\"outside\",\"title\":{\"standoff\":15},\"zeroline\":false,\"zerolinecolor\":\"rgb(36,36,36)\"}}},\"xaxis\":{\"anchor\":\"y\",\"domain\":[0.0,1.0],\"title\":{\"text\":\"Error\"}},\"yaxis\":{\"anchor\":\"x\",\"domain\":[0.0,1.0],\"title\":{\"text\":\"Rank Disparity\"}},\"legend\":{\"title\":{\"text\":\"Models\"},\"tracegroupgap\":0},\"margin\":{\"t\":60},\"height\":1000,\"width\":1200,\"font\":{\"family\":\"Times New Roman\",\"size\":30,\"color\":\"Black\"},\"title\":{\"text\":\"Trained on VGGFace2; Tested on RFW\"},\"shapes\":[{\"line\":{\"color\":\"gray\",\"dash\":\"dash\",\"width\":4},\"type\":\"line\",\"x0\":0.26620231375845643,\"x1\":0.2799027260718146,\"xref\":\"x\",\"y0\":8.92073917388916,\"y1\":6.501541455586751,\"yref\":\"y\"}]},                        {\"responsive\": true}                    ).then(function(){\n",
       "                            \n",
       "var gd = document.getElementById('e1472fef-4341-4f89-adb8-9ba7d2f2429c');\n",
       "var x = new MutationObserver(function (mutations, observer) {{\n",
       "        var display = window.getComputedStyle(gd).display;\n",
       "        if (!display || display === 'none') {{\n",
       "            console.log([gd, 'removed!']);\n",
       "            Plotly.purge(gd);\n",
       "            observer.disconnect();\n",
       "        }}\n",
       "}});\n",
       "\n",
       "// Listen for the removal of the full notebook cells\n",
       "var notebookContainer = gd.closest('#notebook-container');\n",
       "if (notebookContainer) {{\n",
       "    x.observe(notebookContainer, {childList: true});\n",
       "}}\n",
       "\n",
       "// Listen for the clearing of the current output cell\n",
       "var outputEl = gd.closest('.output');\n",
       "if (outputEl) {{\n",
       "    x.observe(outputEl, {childList: true});\n",
       "}}\n",
       "\n",
       "                        })                };                });            </script>        </div>"
      ]
     },
     "metadata": {},
     "output_type": "display_data"
    }
   ],
   "source": [
    "df_val, df_test = phase2('Rank Disparity', '', 2, plot=True)\n",
    "# df_val, df_test = phase2('Disparity','disparity', 1, plot=True)\n",
    "# df_val, df_test = phase2('Rank Ratio', 'rank_ratio', 2, ratio=True, plot=True)\n",
    "# df_val, df_test = phase2('Ratio', 'ratio', 1, ratio=True, plot=True)\n",
    "# df_val, df_test = phase2('Error Ratio', 'error_ratio', 1, ratio=True, error=True, plot=True)"
   ]
  }
 ],
 "metadata": {
  "kernelspec": {
   "display_name": "Python 3 (ipykernel)",
   "language": "python",
   "name": "python3"
  },
  "language_info": {
   "codemirror_mode": {
    "name": "ipython",
    "version": 3
   },
   "file_extension": ".py",
   "mimetype": "text/x-python",
   "name": "python",
   "nbconvert_exporter": "python",
   "pygments_lexer": "ipython3",
   "version": "3.9.7"
  }
 },
 "nbformat": 4,
 "nbformat_minor": 5
}
