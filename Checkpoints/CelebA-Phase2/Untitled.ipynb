{
 "cells": [
  {
   "cell_type": "code",
   "execution_count": 12,
   "id": "2a1d209a",
   "metadata": {},
   "outputs": [
    {
     "name": "stdout",
     "output_type": "stream",
     "text": [
      "densenet161_CosFace_Adam/model_333.pth\n",
      "dpn107_CosFace_SGD_0.1/model_333.pth\n",
      "dpn107_MagFace_SGD_0.1/model_333.pth\n",
      "ese_vovnet39b_CosFace_AdamW/model_333.pth\n",
      "mobilenetv3_large_100/model_333.pth\n",
      "rexnet_200_MagFace_SGD/model_333.pth\n",
      "tnt/model_333.pth\n",
      "model_000/model_333.pth\n",
      "model_010/model_333.pth\n",
      "model_680/model_333.pth\n",
      "densenet161_CosFace_Adam/model_444.pth\n",
      "dpn107_CosFace_SGD_0.1/model_444.pth\n",
      "dpn107_MagFace_SGD_0.1/model_444.pth\n",
      "ese_vovnet39b_CosFace_AdamW/model_444.pth\n",
      "mobilenetv3_large_100/model_444.pth\n",
      "rexnet_200_MagFace_SGD/model_444.pth\n",
      "tnt/model_444.pth\n",
      "model_000/model_444.pth\n",
      "model_010/model_444.pth\n",
      "model_680/model_444.pth\n",
      "densenet161_CosFace_Adam/model_555.pth\n",
      "dpn107_CosFace_SGD_0.1/model_555.pth\n",
      "dpn107_MagFace_SGD_0.1/model_555.pth\n",
      "ese_vovnet39b_CosFace_AdamW/model_555.pth\n",
      "mobilenetv3_large_100/model_555.pth\n",
      "rexnet_200_MagFace_SGD/model_555.pth\n",
      "tnt/model_555.pth\n",
      "model_000/model_555.pth\n",
      "model_010/model_555.pth\n",
      "model_680/model_555.pth\n",
      "densenet161_CosFace_Adam/model_666.pth\n",
      "dpn107_CosFace_SGD_0.1/model_666.pth\n",
      "dpn107_MagFace_SGD_0.1/model_666.pth\n",
      "ese_vovnet39b_CosFace_AdamW/model_666.pth\n",
      "mobilenetv3_large_100/model_666.pth\n",
      "rexnet_200_MagFace_SGD/model_666.pth\n",
      "tnt/model_666.pth\n",
      "model_000/model_666.pth\n",
      "model_010/model_666.pth\n",
      "model_680/model_666.pth\n"
     ]
    }
   ],
   "source": [
    "import os, glob\n",
    "from shutil import copyfile\n",
    "\n",
    "models = ['densenet161_CosFace_Adam',\n",
    "          'dpn107_CosFace_SGD_0.1',\n",
    "          'dpn107_MagFace_SGD_0.1',\n",
    "          'ese_vovnet39b_CosFace_AdamW',\n",
    "          'mobilenetv3_large_100',\n",
    "          'rexnet_200_MagFace_SGD',\n",
    "          'tnt',\n",
    "          'model_000',\n",
    "          'model_010',\n",
    "          'model_680'\n",
    "         ]\n",
    "\n",
    "for s in ['333','444','555','666']:\n",
    "    for m in models:\n",
    "        output_dir = os.path.join(f'CelebA_train_{s}',m)\n",
    "        if not os.path.isdir(output_dir):\n",
    "            os.mkdir(output_dir)\n",
    "        src = glob.glob(os.path.join(m, f'*{s}*'))[0]\n",
    "        print(src)\n",
    "        os.rename(src,os.path.join(output_dir,os.path.basename(src)))"
   ]
  }
 ],
 "metadata": {
  "kernelspec": {
   "display_name": "Python 3 (ipykernel)",
   "language": "python",
   "name": "python3"
  },
  "language_info": {
   "codemirror_mode": {
    "name": "ipython",
    "version": 3
   },
   "file_extension": ".py",
   "mimetype": "text/x-python",
   "name": "python",
   "nbconvert_exporter": "python",
   "pygments_lexer": "ipython3",
   "version": "3.9.7"
  }
 },
 "nbformat": 4,
 "nbformat_minor": 5
}
