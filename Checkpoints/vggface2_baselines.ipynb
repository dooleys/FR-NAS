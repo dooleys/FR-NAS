{
 "cells": [
  {
   "cell_type": "code",
   "execution_count": 1,
   "id": "db35b5ae",
   "metadata": {},
   "outputs": [],
   "source": [
    "import pandas as pd\n",
    "import numpy as np\n",
    "import os\n",
    "from analysis import *\n",
    "import glob"
   ]
  },
  {
   "cell_type": "code",
   "execution_count": 115,
   "id": "f8ca4788",
   "metadata": {},
   "outputs": [
    {
     "name": "stdout",
     "output_type": "stream",
     "text": [
      "Model  |  baseline  |  flipped_finetune  |  angles_finetune  |  discriminator_finetune\n",
      "Checkpoints_Edges_301_LR_0.13828312564892567_Head_CosFace_Optimizer_SGD_555  |  (3.66;0.23)  |  (4.95;0.29)  |  (4.14;0.60)  |  (6.14;0.52)\n",
      "dpn107_CosFace_SGD_0.1_cosine  |  (3.98;0.27)  |  (5.87;0.62)  |  (6.06;0.62)  |  (4.78;0.69)\n",
      "rexnet_200_CosFace_SGD_0.1_cosine  |  (4.09;0.27)  |  (5.73;0.57)  |  (5.47;0.59)  |  (4.75;0.58)\n",
      "swin_base_patch4_window7_224_CosFace_SGD_0.1_cosine  |  (5.47;0.38)  |  (5.75;0.56)  |  (5.23;0.60)  |  (5.03;0.60)\n"
     ]
    }
   ],
   "source": [
    "models = [\n",
    "    'Checkpoints_Edges_301_LR_0.13828312564892567_Head_CosFace_Optimizer_SGD_555',\n",
    "#     'Checkpoints_Edges_600_LR_0.6708884458871945_Head_CosFace_Optimizer_SGD_555',\n",
    "    'dpn107_CosFace_SGD_0.1_cosine',\n",
    "    'rexnet_200_CosFace_SGD_0.1_cosine',\n",
    "    'swin_base_patch4_window7_224_CosFace_SGD_0.1_cosine',\n",
    "#     'inception_resnet_v2_CosFace_AdamW_0.001_cosine'\n",
    "]\n",
    "methods = [('baseline',''), \n",
    "          ('flipped','_finetune'), \n",
    "          ('angles','_finetune'), \n",
    "          ('discriminator','_finetune')]\n",
    "\n",
    "dataset = 'test'\n",
    "epochs = {'Checkpoints_Edges_301_LR_0.13828312564892567_Head_CosFace_Optimizer_SGD_555flipped_finetune': 8,\n",
    " 'Checkpoints_Edges_301_LR_0.13828312564892567_Head_CosFace_Optimizer_SGD_555angles_finetune': 8,\n",
    " 'Checkpoints_Edges_301_LR_0.13828312564892567_Head_CosFace_Optimizer_SGD_555discriminator_finetune': 10,\n",
    " 'dpn107_CosFace_SGD_0.1_cosineflipped_finetune': 10,\n",
    " 'dpn107_CosFace_SGD_0.1_cosineangles_finetune': 10,\n",
    " 'dpn107_CosFace_SGD_0.1_cosinediscriminator_finetune': 9,\n",
    " 'rexnet_200_CosFace_SGD_0.1_cosineflipped_finetune': 8,\n",
    " 'rexnet_200_CosFace_SGD_0.1_cosineangles_finetune': 10,\n",
    " 'rexnet_200_CosFace_SGD_0.1_cosinediscriminator_finetune': 4,\n",
    " 'swin_base_patch4_window7_224_CosFace_SGD_0.1_cosineflipped_finetune': 11,\n",
    " 'swin_base_patch4_window7_224_CosFace_SGD_0.1_cosineangles_finetune': 11,\n",
    " 'swin_base_patch4_window7_224_CosFace_SGD_0.1_cosinediscriminator_finetune': 2}\n",
    "metadata = pd.read_csv(f'vggface2_{dataset}_identities_gender.csv')\n",
    "\n",
    "\n",
    "\n",
    "line = ['Model']\n",
    "for method,s in methods:\n",
    "    if method =='baseline' and s == '_finetune':\n",
    "        continue\n",
    "    line += [method+s]\n",
    "print('  |  '.join(line))\n",
    "\n",
    "for model in models:\n",
    "    line = [model]\n",
    "    for method, s in methods:\n",
    "        if method == 'baseline':\n",
    "            if model[0] == 'C':\n",
    "                try:\n",
    "                    df = pd.read_csv(f'vggface_phase1_{dataset}.csv', index_col='index')\n",
    "                    line += [';'.join([\"(%.2f\" % ((df.loc[model[:-4]]['Accuracy_mean'])*100),\n",
    "                                       \"%.2f)\" % df.loc[model[:-4]]['Disparity_mean']])]\n",
    "                except:\n",
    "                    line +=[',']\n",
    "            else:\n",
    "                df = pd.read_csv(f'vggface_phase1_{dataset}.csv', index_col='index')\n",
    "                line += [';'.join([\"(%.2f\" % ((df.loc[model]['Accuracy_mean'])*100),\n",
    "                                   \"%.2f)\" % df.loc[model]['Disparity_mean']])]\n",
    "        else:        \n",
    "            folder = f'vggface2_baselines/{model}_{method}{s}'\n",
    "            files = glob.glob(folder+f'/*_{dataset}.pkl')\n",
    "            if len(files):\n",
    "                files.sort(key=lambda x: int(x.split('_')[-2]))\n",
    "                last = files[-1]\n",
    "                epoch = int(last.split('_')[-2])\n",
    "                acc_df_vgg, acc_disp_df_vgg, rank_df_vgg = analyze_pickle_files([files], metadata)\n",
    "                _, acc_disp_ratio_df_vgg, rank_ratio_df_vgg = analyze_pickle_files([files], metadata, ratio=True)\n",
    "                err_df, error_ratio_df, _ = analyze_pickle_files([files], metadata, ratio=True, error=True)                \n",
    "                acc_df_vgg = acc_df_vgg.dropna()\n",
    "                \n",
    "                df = error_ratio_df\n",
    "                df = df.dropna()\n",
    "\n",
    "                acc_df_vgg['Metric'] = 1 - acc_df_vgg['Metric']\n",
    "\n",
    "                epoch = epochs[model+method+s]\n",
    "\n",
    "                error = acc_df_vgg[acc_df_vgg['epoch'] == epoch]['Metric'].values[0]\n",
    "                disparity = df[df['epoch'] == epoch]['Metric'].values[0]\n",
    "                line += [';'.join([\"(%.2f\" % (error*100), \n",
    "                                   \"%.2f)\" % disparity])]\n",
    "            else:\n",
    "                line += ['']\n",
    "    print('  |  '.join(line)+'')"
   ]
  },
  {
   "cell_type": "code",
   "execution_count": 92,
   "id": "e9cd1891",
   "metadata": {},
   "outputs": [],
   "source": [
    "folder = f'vggface2_train*/{model}/'\n",
    "files = glob.glob(folder+f'/*_{dataset}.pkl')\n",
    "acc = []\n",
    "disp = []\n",
    "for f in files:\n",
    "    acc_df_vgg, acc_disp_df_vgg, rank_df_vgg = analyze_pickle_files([[f]], metadata)\n",
    "    acc.append(float(acc_df_vgg.dropna()['Metric']))\n",
    "    disp.append(float(rank_df_vgg.dropna()['Metric']))\n",
    "np.mean(acc), np.mean(disp)"
   ]
  },
  {
   "cell_type": "code",
   "execution_count": 41,
   "id": "05675ac6",
   "metadata": {},
   "outputs": [
    {
     "name": "stdout",
     "output_type": "stream",
     "text": [
      "Model  |  baseline  |  flipped  |  flipped_finetune  |  angles  |  angles_finetune  |  discriminator  |  discriminator_finetune\n",
      "Checkpoints_Edges_301_LR_0.13828312564892567_Head_CosFace_Optimizer_SGD_555  |  (3.66;0.23)  |  (4.95;0.02);8  |  (4.14;0.04);8  |  (6.14;0.04);10\\\\\n",
      "dpn107_CosFace_SGD_0.1_cosine  |  (3.98;0.27)  |  (5.87;0.05);10  |  (6.06;0.05);10  |  (4.78;0.05);9\\\\\n",
      "rexnet_200_CosFace_SGD_0.1_cosine  |  (4.09;0.27)  |  (5.73;0.05);8  |  (5.47;0.05);10  |  (4.75;0.04);4\\\\\n",
      "swin_base_patch4_window7_224_CosFace_SGD_0.1_cosine  |  (5.47;0.38)  |  (7.07;0.03);1  |  (5.23;0.04);11  |  (5.03;0.04);2\\\\\n"
     ]
    }
   ],
   "source": [
    "models = [\n",
    "    'Checkpoints_Edges_301_LR_0.13828312564892567_Head_CosFace_Optimizer_SGD_555',\n",
    "#     'Checkpoints_Edges_600_LR_0.6708884458871945_Head_CosFace_Optimizer_SGD_555',\n",
    "    'dpn107_CosFace_SGD_0.1_cosine',\n",
    "    'rexnet_200_CosFace_SGD_0.1_cosine',\n",
    "    'swin_base_patch4_window7_224_CosFace_SGD_0.1_cosine',\n",
    "#     'inception_resnet_v2_CosFace_AdamW_0.001_cosine'\n",
    "]\n",
    "methods = ['baseline','flipped','angles','discriminator']\n",
    "scratch = ['','_finetune']\n",
    "\n",
    "dataset = 'test'\n",
    "\n",
    "metadata = pd.read_csv(f'vggface2_{dataset}_identities_gender.csv')\n",
    "\n",
    "\n",
    "\n",
    "line = ['Model']\n",
    "for method in methods:\n",
    "    for s in scratch:\n",
    "        if method =='baseline' and s == '_finetune':\n",
    "            continue\n",
    "        line += [method+s]\n",
    "print('  |  '.join(line))\n",
    "\n",
    "for model in models:\n",
    "    line = [model]\n",
    "    for method, s in [('baseline',''), \n",
    "                      ('flipped','_finetune'), \n",
    "                      ('angles','_finetune'), \n",
    "                      ('discriminator','_finetune')]:\n",
    "        if method == 'baseline':\n",
    "            if model[0] == 'C':\n",
    "                try:\n",
    "                    df = pd.read_csv(f'vggface_phase1_{dataset}.csv', index_col='index')\n",
    "                    line += [';'.join([\"(%.2f\" % ((df.loc[model[:-4]]['Accuracy_mean'])*100),\n",
    "                                       \"%.2f)\" % df.loc[model[:-4]]['Disparity_mean']])]\n",
    "                except:\n",
    "                    line +=[',']\n",
    "            else:\n",
    "                df = pd.read_csv(f'vggface_phase1_{dataset}.csv', index_col='index')\n",
    "                line += [';'.join([\"(%.2f\" % ((df.loc[model]['Accuracy_mean'])*100),\n",
    "                                   \"%.2f)\" % df.loc[model]['Disparity_mean']])]\n",
    "        else:        \n",
    "            folder = f'vggface2_baselines/{model}_{method}{s}'\n",
    "            files = glob.glob(folder+f'/*_{dataset}.pkl')\n",
    "            if len(files):\n",
    "                files.sort(key=lambda x: int(x.split('_')[-2]))\n",
    "                last = files[-1]\n",
    "                epoch = int(last.split('_')[-2])\n",
    "                acc_df_vgg, acc_disp_df_vgg, rank_df_vgg = analyze_pickle_files([files], metadata)\n",
    "                acc_df_vgg = acc_df_vgg.dropna()\n",
    "                \n",
    "                df = acc_disp_df_vgg\n",
    "                df = df.dropna()\n",
    "\n",
    "                acc_df_vgg['Metric'] = 1 - acc_df_vgg['Metric']\n",
    "\n",
    "                epoch = epochs[model+method+s]\n",
    "\n",
    "                error = acc_df_vgg[acc_df_vgg['epoch'] == epoch]['Metric'].values[0]\n",
    "                disparity = df[df['epoch'] == epoch]['Metric'].values[0]\n",
    "                line += [';'.join([\"(%.2f\" % (error*100), \n",
    "                                   \"%.2f)\" % disparity, str(epoch)])]\n",
    "            else:\n",
    "                line += ['']\n",
    "    print('  |  '.join(line)+'\\\\\\\\')"
   ]
  },
  {
   "cell_type": "code",
   "execution_count": 36,
   "id": "6b319c33",
   "metadata": {},
   "outputs": [
    {
     "data": {
      "text/plain": [
       "{'Checkpoints_Edges_301_LR_0.13828312564892567_Head_CosFace_Optimizer_SGD_555flipped': 8,\n",
       " 'Checkpoints_Edges_301_LR_0.13828312564892567_Head_CosFace_Optimizer_SGD_555angles': 8,\n",
       " 'Checkpoints_Edges_301_LR_0.13828312564892567_Head_CosFace_Optimizer_SGD_555discriminator': 10,\n",
       " 'dpn107_CosFace_SGD_0.1_cosineflipped': 10,\n",
       " 'dpn107_CosFace_SGD_0.1_cosineangles': 10,\n",
       " 'dpn107_CosFace_SGD_0.1_cosinediscriminator': 9,\n",
       " 'rexnet_200_CosFace_SGD_0.1_cosineflipped': 8,\n",
       " 'rexnet_200_CosFace_SGD_0.1_cosineangles': 10,\n",
       " 'rexnet_200_CosFace_SGD_0.1_cosinediscriminator': 4,\n",
       " 'swin_base_patch4_window7_224_CosFace_SGD_0.1_cosineflipped': 1,\n",
       " 'swin_base_patch4_window7_224_CosFace_SGD_0.1_cosineangles': 11,\n",
       " 'swin_base_patch4_window7_224_CosFace_SGD_0.1_cosinediscriminator': 2}"
      ]
     },
     "execution_count": 36,
     "metadata": {},
     "output_type": "execute_result"
    }
   ],
   "source": [
    "epochs"
   ]
  },
  {
   "cell_type": "markdown",
   "id": "3fb4d7b4",
   "metadata": {},
   "source": [
    "Model&baseline&flipped&flipped_finetune&angles&angles_finetune&discriminator&discriminator_finetune\n",
    "Checkpoints_Edges_301_LR_0.13828312564892567_Head_CosFace_Optimizer_SGD_555&(3.66;0.23)&7(5.83;0.39)&11(3.64;0.28)&5(6.16;0.42)\\\\\n",
    "dpn107_CosFace_SGD_0.1_cosine&(3.98;0.27)&10(5.87;0.32)&10(6.06;0.36)&3(4.70;0.41)\\\\\n",
    "rexnet_200_CosFace_SGD_0.1_cosine&(4.09;0.27)&11(5.63;0.50)&11(5.46;0.29)&6(4.90;0.35)\\\\\n",
    "swin_base_patch4_window7_224_CosFace_SGD_0.1_cosine&(5.47;0.38)&11(5.75;0.44)&11(5.23;0.25)&4(5.03;0.30)\\\\\n"
   ]
  }
 ],
 "metadata": {
  "kernelspec": {
   "display_name": "Python 3 (ipykernel)",
   "language": "python",
   "name": "python3"
  },
  "language_info": {
   "codemirror_mode": {
    "name": "ipython",
    "version": 3
   },
   "file_extension": ".py",
   "mimetype": "text/x-python",
   "name": "python",
   "nbconvert_exporter": "python",
   "pygments_lexer": "ipython3",
   "version": "3.9.17"
  }
 },
 "nbformat": 4,
 "nbformat_minor": 5
}
