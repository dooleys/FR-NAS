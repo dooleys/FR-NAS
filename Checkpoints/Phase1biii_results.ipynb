{
 "cells": [
  {
   "cell_type": "code",
   "execution_count": 1,
   "id": "5a826880",
   "metadata": {},
   "outputs": [],
   "source": [
    "import pandas as pd\n",
    "import numpy as np\n",
    "import os\n",
    "from analysis import *\n",
    "import glob"
   ]
  },
  {
   "cell_type": "code",
   "execution_count": 2,
   "id": "c8138e71",
   "metadata": {},
   "outputs": [],
   "source": [
    "phase1bii_configs = glob.glob('../configs/**/*')\n",
    "phase1bii_experiments = [get_name_details(x)[0] for x in phase1bii_configs]\n",
    "models = list(set([get_name_details(x)[1] for x in phase1bii_configs]))\n",
    "\n",
    "kacc_files = glob.glob('**/**/*_kacc.csv')\n",
    "metadata = pd.read_csv('../../../rhea/FR-NAS/Checkpoints/test_identities_gender-expression_seed_222.csv')"
   ]
  },
  {
   "cell_type": "markdown",
   "id": "3d74e828",
   "metadata": {},
   "source": [
    "# Phase 1 b (iii)"
   ]
  },
  {
   "cell_type": "code",
   "execution_count": null,
   "id": "29257b2c",
   "metadata": {},
   "outputs": [],
   "source": [
    "for model in models:\n",
    "    file_list = [x for x in kacc_files if model == get_name_details(x)[1]]\n",
    "    acc_df, acc_disp_df = analyze_files(file_list, metadata)\n",
    "    if len(file_list):\n",
    "        print(model)\n",
    "        plot_df(acc_df, acc_disp_df, model+' Accuracy and Disparity')"
   ]
  }
 ],
 "metadata": {
  "kernelspec": {
   "display_name": "Python 3 (ipykernel)",
   "language": "python",
   "name": "python3"
  },
  "language_info": {
   "codemirror_mode": {
    "name": "ipython",
    "version": 3
   },
   "file_extension": ".py",
   "mimetype": "text/x-python",
   "name": "python",
   "nbconvert_exporter": "python",
   "pygments_lexer": "ipython3",
   "version": "3.9.7"
  }
 },
 "nbformat": 4,
 "nbformat_minor": 5
}
