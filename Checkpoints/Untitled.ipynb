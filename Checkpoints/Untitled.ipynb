{
 "cells": [
  {
   "cell_type": "code",
   "execution_count": 1,
   "id": "acb987d2",
   "metadata": {},
   "outputs": [],
   "source": [
    "import pandas as pd\n",
    "import numpy as np\n",
    "metadata = pd.read_csv('test_identities_gender-expression_seed_222.csv')"
   ]
  },
  {
   "cell_type": "code",
   "execution_count": 83,
   "id": "3ed5e69e",
   "metadata": {},
   "outputs": [
    {
     "data": {
      "text/plain": [
       "PosixPath('Phase1A/outputs/dpn107_CosFace-multi.csv')"
      ]
     },
     "execution_count": 83,
     "metadata": {},
     "output_type": "execute_result"
    }
   ],
   "source": [
    "path"
   ]
  },
  {
   "cell_type": "code",
   "execution_count": 84,
   "id": "ce82a367",
   "metadata": {},
   "outputs": [],
   "source": [
    "df = pd.read_csv(path)\n",
    "epochs = df.drop('ids',axis=1).columns"
   ]
  },
  {
   "cell_type": "code",
   "execution_count": 85,
   "id": "2c0e7d68",
   "metadata": {},
   "outputs": [],
   "source": [
    "df = metadata.merge(df)"
   ]
  },
  {
   "cell_type": "code",
   "execution_count": 86,
   "id": "84733fd2",
   "metadata": {},
   "outputs": [],
   "source": [
    "lookup = {x:df.iloc[x]['label'] for x in range(df.shape[0])}"
   ]
  },
  {
   "cell_type": "code",
   "execution_count": 92,
   "id": "0ea8e8ee",
   "metadata": {},
   "outputs": [],
   "source": [
    "df[epochs] = df[epochs].applymap(lambda x: lookup[x])"
   ]
  },
  {
   "cell_type": "code",
   "execution_count": 93,
   "id": "1f73a377",
   "metadata": {},
   "outputs": [
    {
     "data": {
      "text/plain": [
       "406"
      ]
     },
     "execution_count": 93,
     "metadata": {},
     "output_type": "execute_result"
    }
   ],
   "source": [
    "len(np.unique(df['epoch_100']))"
   ]
  },
  {
   "cell_type": "code",
   "execution_count": 91,
   "id": "6f809940",
   "metadata": {},
   "outputs": [
    {
     "data": {
      "text/plain": [
       "812"
      ]
     },
     "execution_count": 91,
     "metadata": {},
     "output_type": "execute_result"
    }
   ],
   "source": [
    "len(np.unique(df['label']))"
   ]
  },
  {
   "cell_type": "code",
   "execution_count": 94,
   "id": "8bf2a8bb",
   "metadata": {},
   "outputs": [
    {
     "name": "stdout",
     "output_type": "stream",
     "text": [
      "0.002422734415924568\n",
      "0.0009821896280775276\n",
      "0.0013095861707700367\n",
      "0.0011131482451545312\n",
      "0.001636982713462546\n",
      "0.0013750654793085386\n",
      "0.0026191723415400735\n",
      "0.0018988999476165533\n",
      "0.0014405447878470404\n",
      "0.0025536930330015716\n",
      "0.0014405447878470404\n",
      "0.0021608171817705606\n",
      "0.0026191723415400735\n",
      "0.0015060240963855422\n",
      "0.0018988999476165533\n",
      "0.0018988999476165533\n",
      "0.0015060240963855422\n",
      "0.001571503404924044\n",
      "0.002029858564693557\n",
      "0.0013095861707700367\n",
      "0.0013095861707700367\n",
      "0.0015060240963855422\n",
      "0.001636982713462546\n",
      "0.0020953378732320588\n",
      "0.0013095861707700367\n",
      "0.001571503404924044\n",
      "0.0017024620220010478\n",
      "0.001571503404924044\n",
      "0.0010476689366160294\n",
      "0.0018334206390780514\n",
      "0.0013750654793085386\n",
      "0.0017679413305395496\n",
      "0.0017024620220010478\n",
      "0.0020953378732320588\n",
      "0.001178627553693033\n",
      "0.0013750654793085386\n",
      "0.0014405447878470404\n",
      "0.0014405447878470404\n",
      "0.0015060240963855422\n",
      "0.001964379256155055\n",
      "0.001636982713462546\n",
      "0.001636982713462546\n",
      "0.0018334206390780514\n",
      "0.0014405447878470404\n",
      "0.0026191723415400735\n",
      "0.0018334206390780514\n",
      "0.001244106862231535\n",
      "0.002357255107386066\n",
      "0.0026191723415400735\n",
      "0.001636982713462546\n",
      "0.002422734415924568\n",
      "0.0010476689366160294\n",
      "0.0009821896280775276\n",
      "0.001244106862231535\n",
      "0.001636982713462546\n",
      "0.0015060240963855422\n",
      "0.0017679413305395496\n",
      "0.002422734415924568\n",
      "0.002029858564693557\n",
      "0.0022262964903090625\n",
      "0.0011131482451545312\n",
      "0.002029858564693557\n",
      "0.0021608171817705606\n",
      "0.0008512310110005239\n",
      "0.0009821896280775276\n",
      "0.001571503404924044\n",
      "0.0017024620220010478\n",
      "0.0014405447878470404\n",
      "0.0020953378732320588\n",
      "0.0026191723415400735\n",
      "0.0013095861707700367\n",
      "0.0018334206390780514\n",
      "0.001636982713462546\n",
      "0.0015060240963855422\n",
      "0.0018988999476165533\n",
      "0.0010476689366160294\n",
      "0.0017024620220010478\n",
      "0.0022262964903090625\n",
      "0.001636982713462546\n",
      "0.0020953378732320588\n",
      "0.0025536930330015716\n",
      "0.0018334206390780514\n",
      "0.0017679413305395496\n",
      "0.0015060240963855422\n",
      "0.000785751702462022\n",
      "0.0022262964903090625\n",
      "0.0015060240963855422\n",
      "0.001244106862231535\n",
      "0.0021608171817705606\n",
      "0.001571503404924044\n",
      "0.001244106862231535\n",
      "0.0013095861707700367\n",
      "0.001244106862231535\n",
      "0.0013095861707700367\n",
      "0.0014405447878470404\n",
      "0.0011131482451545312\n",
      "0.0021608171817705606\n",
      "0.0010476689366160294\n",
      "0.001244106862231535\n",
      "0.0013750654793085386\n",
      "0.001636982713462546\n",
      "0.0022917757988475643\n"
     ]
    }
   ],
   "source": [
    "for e in epochs:\n",
    "    print(sum(df['label'] == df[e])/df.shape[0])"
   ]
  },
  {
   "cell_type": "code",
   "execution_count": 106,
   "id": "9aa00fd0",
   "metadata": {},
   "outputs": [
    {
     "data": {
      "text/html": [
       "<div>\n",
       "<style scoped>\n",
       "    .dataframe tbody tr th:only-of-type {\n",
       "        vertical-align: middle;\n",
       "    }\n",
       "\n",
       "    .dataframe tbody tr th {\n",
       "        vertical-align: top;\n",
       "    }\n",
       "\n",
       "    .dataframe thead th {\n",
       "        text-align: right;\n",
       "    }\n",
       "</style>\n",
       "<table border=\"1\" class=\"dataframe\">\n",
       "  <thead>\n",
       "    <tr style=\"text-align: right;\">\n",
       "      <th></th>\n",
       "      <th>ids</th>\n",
       "      <th>label</th>\n",
       "      <th>gender_expression</th>\n",
       "      <th>epoch_0</th>\n",
       "    </tr>\n",
       "  </thead>\n",
       "  <tbody>\n",
       "    <tr>\n",
       "      <th>0</th>\n",
       "      <td>0</td>\n",
       "      <td>53</td>\n",
       "      <td>male</td>\n",
       "      <td>5442</td>\n",
       "    </tr>\n",
       "    <tr>\n",
       "      <th>1</th>\n",
       "      <td>1</td>\n",
       "      <td>53</td>\n",
       "      <td>male</td>\n",
       "      <td>5442</td>\n",
       "    </tr>\n",
       "    <tr>\n",
       "      <th>2</th>\n",
       "      <td>2</td>\n",
       "      <td>53</td>\n",
       "      <td>male</td>\n",
       "      <td>5442</td>\n",
       "    </tr>\n",
       "    <tr>\n",
       "      <th>3</th>\n",
       "      <td>3</td>\n",
       "      <td>347</td>\n",
       "      <td>male</td>\n",
       "      <td>3163</td>\n",
       "    </tr>\n",
       "    <tr>\n",
       "      <th>4</th>\n",
       "      <td>4</td>\n",
       "      <td>347</td>\n",
       "      <td>male</td>\n",
       "      <td>583</td>\n",
       "    </tr>\n",
       "    <tr>\n",
       "      <th>...</th>\n",
       "      <td>...</td>\n",
       "      <td>...</td>\n",
       "      <td>...</td>\n",
       "      <td>...</td>\n",
       "    </tr>\n",
       "    <tr>\n",
       "      <th>15267</th>\n",
       "      <td>15267</td>\n",
       "      <td>756</td>\n",
       "      <td>female</td>\n",
       "      <td>583</td>\n",
       "    </tr>\n",
       "    <tr>\n",
       "      <th>15268</th>\n",
       "      <td>15268</td>\n",
       "      <td>508</td>\n",
       "      <td>female</td>\n",
       "      <td>5059</td>\n",
       "    </tr>\n",
       "    <tr>\n",
       "      <th>15269</th>\n",
       "      <td>15269</td>\n",
       "      <td>576</td>\n",
       "      <td>female</td>\n",
       "      <td>3376</td>\n",
       "    </tr>\n",
       "    <tr>\n",
       "      <th>15270</th>\n",
       "      <td>15270</td>\n",
       "      <td>662</td>\n",
       "      <td>female</td>\n",
       "      <td>5442</td>\n",
       "    </tr>\n",
       "    <tr>\n",
       "      <th>15271</th>\n",
       "      <td>15271</td>\n",
       "      <td>406</td>\n",
       "      <td>female</td>\n",
       "      <td>1950</td>\n",
       "    </tr>\n",
       "  </tbody>\n",
       "</table>\n",
       "<p>15272 rows × 4 columns</p>\n",
       "</div>"
      ],
      "text/plain": [
       "         ids  label gender_expression  epoch_0\n",
       "0          0     53              male     5442\n",
       "1          1     53              male     5442\n",
       "2          2     53              male     5442\n",
       "3          3    347              male     3163\n",
       "4          4    347              male      583\n",
       "...      ...    ...               ...      ...\n",
       "15267  15267    756            female      583\n",
       "15268  15268    508            female     5059\n",
       "15269  15269    576            female     3376\n",
       "15270  15270    662            female     5442\n",
       "15271  15271    406            female     1950\n",
       "\n",
       "[15272 rows x 4 columns]"
      ]
     },
     "execution_count": 106,
     "metadata": {},
     "output_type": "execute_result"
    }
   ],
   "source": [
    "df"
   ]
  },
  {
   "cell_type": "code",
   "execution_count": 8,
   "id": "956669b1",
   "metadata": {},
   "outputs": [
    {
     "name": "stdout",
     "output_type": "stream",
     "text": [
      "Phase1A/dpn107_CosFace/_kacc.csv\n",
      "0.949122577265584\n",
      "Phase1A/selecsls60b_CosFace/_kacc.csv\n",
      "0.5261262441068623\n",
      "Phase1A/inception_resnet_v2_CosFace/_kacc.csv\n",
      "0.8732320586694604\n",
      "Phase1A/ese_vovnet39b_CosFace/_kacc.csv\n",
      "0.8099790466212676\n",
      "Phase1A/mobilenetv3_large_100_CosFace/_kacc.csv\n",
      "0.8644578313253012\n",
      "Phase1A/gluon_inception_v3_CosFace/_kacc.csv\n",
      "0.3330277632268203\n",
      "Phase1A/inception_v4_CosFace/_kacc.csv\n",
      "0.09003404924044002\n",
      "Phase1A/resnetrs420_CosFace/_kacc.csv\n",
      "Phase1A/ig_resnext101_32x16d_CosFace/_kacc.csv\n",
      "Phase1A/convmixer_1536_20_CosFace/_kacc.csv\n",
      "Phase1A/ghostnet_100_CosFace/_kacc.csv\n",
      "0.6745023572551074\n",
      "Phase1A/swin_base_patch4_window7_224_CosFace/_kacc.csv\n",
      "Phase1A/convit_base_CosFace/_kacc.csv\n",
      "Phase1A/cait_s24_224_CosFace/_kacc.csv\n",
      "Phase1A/cspdarknet53_CosFace/_kacc.csv\n",
      "0.8089313776846516\n",
      "Phase1A/dla102x2_CosFace/_kacc.csv\n"
     ]
    }
   ],
   "source": [
    "from pathlib import Path\n",
    "\n",
    "for path in Path('Phase1A/').rglob(\"*kacc.csv\"):\n",
    "    print(path)\n",
    "    df = pd.read_csv(path)\n",
    "    df = metadata.merge(df)\n",
    "    try:\n",
    "        print(sum(df['epoch_100'] == df['label'])/df.shape[0])\n",
    "    except:\n",
    "        continue"
   ]
  }
 ],
 "metadata": {
  "kernelspec": {
   "display_name": "Python 3 (ipykernel)",
   "language": "python",
   "name": "python3"
  },
  "language_info": {
   "codemirror_mode": {
    "name": "ipython",
    "version": 3
   },
   "file_extension": ".py",
   "mimetype": "text/x-python",
   "name": "python",
   "nbconvert_exporter": "python",
   "pygments_lexer": "ipython3",
   "version": "3.9.7"
  }
 },
 "nbformat": 4,
 "nbformat_minor": 5
}
