{
 "cells": [
  {
   "cell_type": "code",
   "execution_count": 4,
   "id": "18f51df9",
   "metadata": {},
   "outputs": [],
   "source": [
    "import pandas as pd\n",
    "import numpy as np\n",
    "import os\n",
    "from analysis import *\n",
    "import glob"
   ]
  },
  {
   "cell_type": "code",
   "execution_count": 21,
   "id": "93fd5945",
   "metadata": {},
   "outputs": [
    {
     "data": {
      "text/plain": [
       "True"
      ]
     },
     "execution_count": 21,
     "metadata": {},
     "output_type": "execute_result"
    }
   ],
   "source": [
    "df = pd.read_csv(glob.glob(folder+'/*rank_by_image_val.csv')[0])\n",
    "df.shape[1] == 6"
   ]
  },
  {
   "cell_type": "code",
   "execution_count": 25,
   "id": "50ef98a4",
   "metadata": {},
   "outputs": [
    {
     "data": {
      "text/plain": [
       "False"
      ]
     },
     "execution_count": 25,
     "metadata": {},
     "output_type": "execute_result"
    }
   ],
   "source": [
    "np.any([x not in df.columns for x in ['epoch_19', 'epoch_39', 'epoch_59', 'epoch_79', 'epoch_99']])"
   ]
  },
  {
   "cell_type": "code",
   "execution_count": 33,
   "id": "8aad23b6",
   "metadata": {},
   "outputs": [
    {
     "name": "stdout",
     "output_type": "stream",
     "text": [
      "../configs_unified_lr/resnetrs101/config_resnetrs101_CosFace_SGD_0.1_cosine.yaml\n",
      "../configs_unified_lr/resnetrs101/config_resnetrs101_ArcFace_SGD_0.1_cosine.yaml\n",
      "../configs_unified_lr/resnetrs101/config_resnetrs101_MagFace_SGD_0.1_cosine.yaml\n",
      "../configs_unified_lr/tf_efficientnet_b7_ns/config_tf_efficientnet_b7_ns_ArcFace_AdamW_0.001_cosine.yaml\n",
      "../configs_unified_lr/jx_nest_base/config_jx_nest_base_MagFace_AdamW_0.001_cosine.yaml\n",
      "../configs_unified_lr/twins_svt_large/config_twins_svt_large_MagFace_SGD_0.1_cosine.yaml\n",
      "../configs_unified_lr/twins_svt_large/config_twins_svt_large_MagFace_AdamW_0.001_cosine.yaml\n",
      "../configs_unified_lr/twins_svt_large/config_twins_svt_large_ArcFace_AdamW_0.001_cosine.yaml\n",
      "../configs_unified_lr/twins_svt_large/config_twins_svt_large_CosFace_AdamW_0.001_cosine.yaml\n",
      "../configs_unified_lr/twins_svt_large/config_twins_svt_large_ArcFace_SGD_0.1_cosine.yaml\n",
      "../configs_unified_lr/twins_svt_large/config_twins_svt_large_CosFace_SGD_0.1_cosine.yaml\n",
      "../configs_unified_lr/xception/config_xception_MagFace_SGD_0.1_cosine.yaml\n",
      "../configs_unified_lr/convit_base/config_convit_base_CosFace_SGD_0.1_cosine.yaml\n",
      "../configs_unified_lr/convit_base/config_convit_base_ArcFace_SGD_0.1_cosine.yaml\n",
      "../configs_unified_lr/convit_base/config_convit_base_MagFace_SGD_0.1_cosine.yaml\n",
      "../configs_unified_lr/coat_lite_small/config_coat_lite_small_ArcFace_SGD_0.1_cosine.yaml\n",
      "../configs_unified_lr/coat_lite_small/config_coat_lite_small_MagFace_SGD_0.1_cosine.yaml\n",
      "../configs_unified_lr/coat_lite_small/config_coat_lite_small_CosFace_SGD_0.1_cosine.yaml\n",
      "../configs_unified_lr/dpn107/config_dpn107_CosFace_AdamW_0.001_cosine.yaml\n",
      "../configs_unified_lr/vgg19_bn/config_vgg19_bn_CosFace_SGD_0.1_cosine.yaml\n",
      "../configs_unified_lr/ig_resnext101_32x8d/config_ig_resnext101_32x8d_MagFace_SGD_0.1_cosine.yaml\n",
      "../configs_unified_lr/xception65/config_xception65_ArcFace_SGD_0.1_cosine.yaml\n",
      "../configs_unified_lr/xception65/config_xception65_CosFace_SGD_0.1_cosine.yaml\n",
      "../configs_unified_lr/visformer_small/config_visformer_small_MagFace_AdamW_0.001_cosine.yaml\n",
      "../configs_unified_lr/visformer_small/config_visformer_small_ArcFace_AdamW_0.001_cosine.yaml\n",
      "../configs_unified_lr/visformer_small/config_visformer_small_CosFace_AdamW_0.001_cosine.yaml\n",
      "../configs_unified_lr/vgg19/config_vgg19_CosFace_SGD_0.1_cosine.yaml\n",
      "../configs_unified_lr/resnet50/config_resnet50_MagFace_SGD_0.1_cosine.yaml\n",
      "../configs_unified_lr/resnet50/config_resnet50_MagFace_AdamW_0.001_cosine.yaml\n",
      "../configs_unified_lr/resnet50/config_resnet50_ArcFace_SGD_0.1_cosine.yaml\n",
      "../configs_unified_lr/resnet50/config_resnet50_CosFace_AdamW_0.001_cosine.yaml\n",
      "../configs_unified_lr/legacy_senet154/config_legacy_senet154_MagFace_SGD_0.1_cosine.yaml\n",
      "../configs_unified_lr/legacy_senet154/config_legacy_senet154_CosFace_AdamW_0.001_cosine.yaml\n",
      "../configs_unified_lr/legacy_senet154/config_legacy_senet154_CosFace_SGD_0.1_cosine.yaml\n",
      "../configs_unified_lr/legacy_senet154/config_legacy_senet154_ArcFace_SGD_0.1_cosine.yaml\n",
      "../configs_unified_lr/legacy_senet154/config_legacy_senet154_ArcFace_AdamW_0.001_cosine.yaml\n",
      "../configs_unified_lr/rexnet_200/config_rexnet_200_MagFace_SGD_0.1_cosine.yaml\n",
      "../configs_unified_lr/rexnet_200/config_rexnet_200_CosFace_SGD_0.1_cosine.yaml\n",
      "../configs_unified_lr/rexnet_200/config_rexnet_200_ArcFace_SGD_0.1_cosine.yaml\n",
      "../configs_unified_lr/densenet161/config_densenet161_ArcFace_SGD_0.1_cosine.yaml\n",
      "../configs_unified_lr/densenet161/config_densenet161_CosFace_AdamW_0.001_cosine.yaml\n",
      "../configs_unified_lr/densenet161/config_densenet161_ArcFace_AdamW_0.001_cosine.yaml\n",
      "../configs_unified_lr/densenet161/config_densenet161_MagFace_SGD_0.1_cosine.yaml\n",
      "../configs_unified_lr/densenet161/config_densenet161_MagFace_AdamW_0.001_cosine.yaml\n",
      "../configs_unified_lr/densenet161/config_densenet161_CosFace_SGD_0.1_cosine.yaml\n",
      "../configs_unified_lr/hrnet_w64/config_hrnet_w64_ArcFace_AdamW_0.001_cosine.yaml\n",
      "../configs_unified_lr/hrnet_w64/config_hrnet_w64_CosFace_AdamW_0.001_cosine.yaml\n",
      "../configs_unified_lr/hrnet_w64/config_hrnet_w64_MagFace_AdamW_0.001_cosine.yaml\n",
      "../configs_unified_lr/hrnet_w64/config_hrnet_w64_CosFace_SGD_0.1_cosine.yaml\n",
      "../configs_unified_lr/hrnet_w64/config_hrnet_w64_MagFace_SGD_0.1_cosine.yaml\n",
      "../configs_unified_lr/tnt_s_patch16_224/config_tnt_s_patch16_224_CosFace_SGD_0.1_cosine.yaml\n",
      "../configs_unified_lr/tnt_s_patch16_224/config_tnt_s_patch16_224_MagFace_SGD_0.1_cosine.yaml\n",
      "../configs_unified_lr/tnt_s_patch16_224/config_tnt_s_patch16_224_ArcFace_SGD_0.1_cosine.yaml\n",
      "../configs_unified_lr/convnext_large_384_in22ft1k/config_convnext_large_384_in22ft1k_CosFace_AdamW_0.001_cosine.yaml\n",
      "../configs_unified_lr/convnext_large_384_in22ft1k/config_convnext_large_384_in22ft1k_MagFace_SGD_0.1_cosine.yaml\n",
      "../configs_unified_lr/convnext_large_384_in22ft1k/config_convnext_large_384_in22ft1k_MagFace_AdamW_0.001_cosine.yaml\n",
      "../configs_unified_lr/inception_resnet_v2/config_inception_resnet_v2_MagFace_SGD_0.1_cosine.yaml\n",
      "../configs_unified_lr/inception_resnet_v2/config_inception_resnet_v2_ArcFace_SGD_0.1_cosine.yaml\n",
      "../configs_unified_lr/inception_resnet_v2/config_inception_resnet_v2_MagFace_AdamW_0.001_cosine.yaml\n",
      "../configs_unified_lr/inception_resnet_v2/config_inception_resnet_v2_ArcFace_AdamW_0.001_cosine.yaml\n",
      "../configs_unified_lr/inception_resnet_v2/config_inception_resnet_v2_CosFace_SGD_0.1_cosine.yaml\n",
      "../configs_unified_lr/inception_resnet_v2/config_inception_resnet_v2_CosFace_AdamW_0.001_cosine.yaml\n"
     ]
    }
   ],
   "source": [
    "for yaml in glob.glob('../configs*/**/*'):\n",
    "    folder = find_yaml_folder(yaml)\n",
    "    if 'timm_explore_few_epochs' in folder:\n",
    "        continue\n",
    "    if folder:\n",
    "        if glob.glob(folder+'/*.pth'):\n",
    "            if not len(glob.glob(folder+'/*rank_by_image_val.csv')):\n",
    "                print(yaml)\n",
    "                continue\n",
    "            df = pd.read_csv(glob.glob(folder+'/*rank_by_image_val.csv')[0])\n",
    "            if np.any([x not in df.columns for x in ['epoch_19', 'epoch_39', 'epoch_59', 'epoch_79', 'epoch_99']]):\n",
    "                print(yaml)\n",
    "                continue\n"
   ]
  },
  {
   "cell_type": "code",
   "execution_count": 11,
   "id": "58bac257",
   "metadata": {},
   "outputs": [
    {
     "data": {
      "text/plain": [
       "['/cmlscratch/sdooley1/merge_timm/FR-NAS/Checkpoints/Phase1B/inception_resnet_v2_CosFace_RMSProp/inception_resnet_v2_CosFace_RMSProp_rank_by_image_val.csv']"
      ]
     },
     "execution_count": 11,
     "metadata": {},
     "output_type": "execute_result"
    }
   ],
   "source": [
    "f = glob.glob(folder+'/*rank_by_image_val.csv')"
   ]
  },
  {
   "cell_type": "code",
   "execution_count": null,
   "id": "f5fb56e8",
   "metadata": {},
   "outputs": [],
   "source": []
  }
 ],
 "metadata": {
  "kernelspec": {
   "display_name": "Python 3 (ipykernel)",
   "language": "python",
   "name": "python3"
  },
  "language_info": {
   "codemirror_mode": {
    "name": "ipython",
    "version": 3
   },
   "file_extension": ".py",
   "mimetype": "text/x-python",
   "name": "python",
   "nbconvert_exporter": "python",
   "pygments_lexer": "ipython3",
   "version": "3.9.7"
  }
 },
 "nbformat": 4,
 "nbformat_minor": 5
}
