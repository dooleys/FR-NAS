{
 "cells": [
  {
   "cell_type": "code",
   "execution_count": 1,
   "id": "5bdda60c",
   "metadata": {},
   "outputs": [],
   "source": [
    "import pandas as pd\n",
    "import numpy as np\n",
    "import os\n",
    "import sys\n",
    "sys.path.append('/cmlscratch/sdooley1/merge_timm/FR-NAS/Checkpoints/')\n",
    "from analysis import *\n",
    "import glob\n",
    "import string\n",
    "import plotly.graph_objects as go"
   ]
  },
  {
   "cell_type": "code",
   "execution_count": 2,
   "id": "721b7445-20a1-46a2-9f30-69610c1d5ec7",
   "metadata": {},
   "outputs": [],
   "source": [
    "import pickle\n",
    "\n",
    "with open('smac_032_test.pkl','rb') as f:\n",
    "    smac_032_test = pickle.load(f)\n",
    "\n",
    "with open('smac_032_val.pkl','rb') as f:\n",
    "    smac_032_val = pickle.load(f)\n",
    "    \n",
    "with open('smac_728_test.pkl','rb') as f:\n",
    "    smac_728_test = pickle.load(f)\n",
    "\n",
    "with open('smac_728_val.pkl','rb') as f:\n",
    "    smac_728_val = pickle.load(f)"
   ]
  },
  {
   "cell_type": "code",
   "execution_count": 3,
   "id": "0d15d1f0-e3be-4db0-8bdc-f28640f9e38b",
   "metadata": {},
   "outputs": [],
   "source": [
    "test_metadata = pd.read_csv('../Checkpoints/vggface2_test_identities_gender.csv')\n",
    "epochs = ['epoch_'+str(i) for i in [0]]\n",
    "\n",
    "\n",
    "pd_dict_list = []\n",
    "\n",
    "for df,name in [(smac_032_test, 'MO-ASHA_032_test'),\n",
    "                (smac_728_test, 'NSGA-II_728_test')]:\n",
    "\n",
    "    df = df[[x for x in df.columns if 'nearest_by_id' in x]]\n",
    "    df.columns = ['epoch_'+x.split('_')[1] for x in df.columns]\n",
    "    df.reset_index(inplace=True)\n",
    "    df = df.rename(columns = {'index':'ids'})\n",
    "    df = df.rename(columns = {'epoch_by':'epoch_0'})\n",
    "    pd_dict_list += [{'experiment':name,\n",
    "                      'df': df}]\n",
    "\n",
    "acc_df, acc_disp_df, rank_df = analyze_files_pd(pd_dict_list, test_metadata, epochs=epochs)\n",
    "_, acc_disp_ratio_df, rank_ratio_df = analyze_files_pd(pd_dict_list, test_metadata, ratio=True, epochs=epochs)\n",
    "err_df, error_ratio_df, _ = analyze_files_pd(pd_dict_list, test_metadata, ratio=True, error=True, epochs=epochs)\n",
    "\n",
    "df_test = acc_df\n",
    "df_test.columns = ['Accuracy']\n",
    "for df, name in [(rank_df, 'Rank Disparity'), \n",
    "                 (acc_disp_df, 'Disparity'),\n",
    "                 (acc_disp_ratio_df, 'Ratio'),\n",
    "                 (rank_ratio_df, 'Rank Ratio'),\n",
    "                 (error_ratio_df, 'Error Ratio')]:\n",
    "    cols = df_test.columns\n",
    "    df_test = pd.concat([df_test,df], axis=1)\n",
    "    df_test.columns = list(cols)+[name]"
   ]
  },
  {
   "cell_type": "code",
   "execution_count": 4,
   "id": "14e474e5-8e4f-439f-b879-273f614bd089",
   "metadata": {},
   "outputs": [],
   "source": [
    "val_metadata = pd.read_csv('../Checkpoints/vggface2_val_identities_gender.csv')\n",
    "epochs = ['epoch_'+str(i) for i in [0]]\n",
    "\n",
    "\n",
    "pd_dict_list = []\n",
    "\n",
    "for df,name in [(smac_032_val, 'MO-ASHA_032_val'),\n",
    "                (smac_728_val, 'NSGA-II_728_val')]:\n",
    "\n",
    "    df = df[[x for x in df.columns if 'nearest_by_id' in x]]\n",
    "    df.columns = ['epoch_'+x.split('_')[1] for x in df.columns]\n",
    "    df.reset_index(inplace=True)\n",
    "    df = df.rename(columns = {'index':'ids'})\n",
    "    df = df.rename(columns = {'epoch_by':'epoch_0'})\n",
    "    pd_dict_list += [{'experiment':name,\n",
    "                      'df': df}]\n",
    "\n",
    "acc_df, acc_disp_df, rank_df = analyze_files_pd(pd_dict_list, test_metadata, epochs=epochs)\n",
    "_, acc_disp_ratio_df, rank_ratio_df = analyze_files_pd(pd_dict_list, test_metadata, ratio=True, epochs=epochs)\n",
    "err_df, error_ratio_df, _ = analyze_files_pd(pd_dict_list, test_metadata, ratio=True, error=True, epochs=epochs)\n",
    "\n",
    "df_val = acc_df\n",
    "df_val.columns = ['Accuracy']\n",
    "for df, name in [(rank_df, 'Rank Disparity'), \n",
    "                 (acc_disp_df, 'Disparity'),\n",
    "                 (acc_disp_ratio_df, 'Ratio'),\n",
    "                 (rank_ratio_df, 'Rank Ratio'),\n",
    "                 (error_ratio_df, 'Error Ratio')]:\n",
    "    cols = df_val.columns\n",
    "    df_val = pd.concat([df_val,df], axis=1)\n",
    "    df_val.columns = list(cols)+[name]"
   ]
  },
  {
   "cell_type": "code",
   "execution_count": 5,
   "id": "be0cbf8d-823e-43f8-8179-cb3d1b9c08a3",
   "metadata": {},
   "outputs": [
    {
     "name": "stdout",
     "output_type": "stream",
     "text": [
      "                  Accuracy  Rank Disparity  Disparity     Ratio  Rank Ratio  \\\n",
      "MO-ASHA_032_val   0.952843        0.005882   0.026601  0.028313    0.012479   \n",
      "NSGA-II_728_val   0.895261        0.111569   0.032222  0.036652    0.175871   \n",
      "MO-ASHA_032_test  0.934739        0.390588   0.048562  0.053338    0.448144   \n",
      "NSGA-II_728_test  0.868105        0.599085   0.085752  0.103913    0.490213   \n",
      "\n",
      "                  Error Ratio  \n",
      "MO-ASHA_032_val      0.440000  \n",
      "NSGA-II_728_val      0.266631  \n",
      "MO-ASHA_032_test     0.542336  \n",
      "NSGA-II_728_test     0.490651  \n"
     ]
    }
   ],
   "source": [
    "random_ngsa2 = pd.concat([df_val,df_test])\n",
    "print(random_ngsa2)"
   ]
  },
  {
   "cell_type": "code",
   "execution_count": 6,
   "id": "83f1af97-95c1-4540-a8f5-e05ed39538e7",
   "metadata": {},
   "outputs": [
    {
     "data": {
      "text/html": [
       "<div>\n",
       "<style scoped>\n",
       "    .dataframe tbody tr th:only-of-type {\n",
       "        vertical-align: middle;\n",
       "    }\n",
       "\n",
       "    .dataframe tbody tr th {\n",
       "        vertical-align: top;\n",
       "    }\n",
       "\n",
       "    .dataframe thead th {\n",
       "        text-align: right;\n",
       "    }\n",
       "</style>\n",
       "<table border=\"1\" class=\"dataframe\">\n",
       "  <thead>\n",
       "    <tr style=\"text-align: right;\">\n",
       "      <th></th>\n",
       "      <th>Disparity</th>\n",
       "      <th>Accuracy</th>\n",
       "      <th>Ratio</th>\n",
       "      <th>Rank Ratio</th>\n",
       "      <th>Error Ratio</th>\n",
       "      <th>Rank Disparity</th>\n",
       "    </tr>\n",
       "    <tr>\n",
       "      <th>index</th>\n",
       "      <th></th>\n",
       "      <th></th>\n",
       "      <th></th>\n",
       "      <th></th>\n",
       "      <th></th>\n",
       "      <th></th>\n",
       "    </tr>\n",
       "  </thead>\n",
       "  <tbody>\n",
       "    <tr>\n",
       "      <th>SMAC_301_test</th>\n",
       "      <td>0.030087</td>\n",
       "      <td>0.963366</td>\n",
       "      <td>0.031727</td>\n",
       "      <td>0.367554</td>\n",
       "      <td>0.582215</td>\n",
       "      <td>0.230327</td>\n",
       "    </tr>\n",
       "    <tr>\n",
       "      <th>SMAC_301_val</th>\n",
       "      <td>0.009412</td>\n",
       "      <td>0.974989</td>\n",
       "      <td>0.009700</td>\n",
       "      <td>0.027789</td>\n",
       "      <td>0.317078</td>\n",
       "      <td>0.009717</td>\n",
       "    </tr>\n",
       "  </tbody>\n",
       "</table>\n",
       "</div>"
      ],
      "text/plain": [
       "               Disparity  Accuracy     Ratio  Rank Ratio  Error Ratio  \\\n",
       "index                                                                   \n",
       "SMAC_301_test   0.030087  0.963366  0.031727    0.367554     0.582215   \n",
       "SMAC_301_val    0.009412  0.974989  0.009700    0.027789     0.317078   \n",
       "\n",
       "               Rank Disparity  \n",
       "index                          \n",
       "SMAC_301_test        0.230327  \n",
       "SMAC_301_val         0.009717  "
      ]
     },
     "execution_count": 6,
     "metadata": {},
     "output_type": "execute_result"
    }
   ],
   "source": [
    "b = []\n",
    "for set in ['test', 'val']: #disparity, errorratio, rankdisparity, rankratio, ratio\n",
    "    a = {'index': f'SMAC_301_{set}'}\n",
    "    for short_metric, metric in [('disparity', 'Disparity'),\n",
    "                                 ('ratio', 'Ratio'),\n",
    "                                 ('rankratio', 'Rank Ratio'),\n",
    "                                 ('errorratio', 'Error Ratio'),\n",
    "                                 ('rankdisparity', 'Rank Disparity')]:\n",
    "\n",
    "        df = pd.read_csv(f'../Checkpoints/vggface_phase2pareto_{short_metric}_{set}.csv')\n",
    "        row = df[df['index'] == 'Checkpoints_Edges_301_LR_0.13828312564892567_Head_CosFace_Optimizer_SGD']\n",
    "        a[metric] = row['Disparity_mean'].values[0]\n",
    "        a['Accuracy'] = 1-row['Accuracy_mean'].values[0]\n",
    "    b += [a]\n",
    "b = pd.DataFrame(b).set_index('index')\n",
    "b"
   ]
  },
  {
   "cell_type": "code",
   "execution_count": 7,
   "id": "444ca047-238b-4890-92d5-350237f80f42",
   "metadata": {},
   "outputs": [],
   "source": [
    "random_ngsa2 = pd.concat([random_ngsa2,b])\n",
    "random_ngsa2.to_csv('random_ngsa2_results.csv')"
   ]
  },
  {
   "cell_type": "code",
   "execution_count": 8,
   "id": "94cedf9e-d7ad-42d8-98c9-4c8d6e301ba2",
   "metadata": {},
   "outputs": [
    {
     "name": "stdout",
     "output_type": "stream",
     "text": [
      "|                  |   Accuracy |   Rank Disparity |   Disparity |     Ratio |   Rank Ratio |   Error Ratio |\n",
      "|:-----------------|-----------:|-----------------:|------------:|----------:|-------------:|--------------:|\n",
      "| MO-ASHA_032_test |   0.934739 |         0.390588 |   0.0485621 | 0.0533381 |     0.448144 |      0.542336 |\n",
      "| NSGA-II_728_test |   0.868105 |         0.599085 |   0.0857516 | 0.103913  |     0.490213 |      0.490651 |\n",
      "| SMAC_301_test    |   0.963366 |         0.230327 |   0.0300871 | 0.0317269 |     0.367554 |      0.582215 |\n"
     ]
    }
   ],
   "source": [
    "print(random_ngsa2[random_ngsa2.index.str.contains(\"test\")].to_markdown())"
   ]
  }
 ],
 "metadata": {
  "kernelspec": {
   "display_name": "Python 3 (ipykernel)",
   "language": "python",
   "name": "python3"
  },
  "language_info": {
   "codemirror_mode": {
    "name": "ipython",
    "version": 3
   },
   "file_extension": ".py",
   "mimetype": "text/x-python",
   "name": "python",
   "nbconvert_exporter": "python",
   "pygments_lexer": "ipython3",
   "version": "3.9.17"
  }
 },
 "nbformat": 4,
 "nbformat_minor": 5
}
